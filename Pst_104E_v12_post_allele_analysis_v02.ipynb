{
 "cells": [
  {
   "cell_type": "markdown",
   "metadata": {},
   "source": [
    "This notebook is aimed at looked at the allele analysis output a bit more interms of what are the alleles. What is missing? What is the GO term enrichment in those if any? How much are effectors?....\n",
    "The input is based on the following ideas:\n",
    "\n",
    "\n",
    "the idea is to label alleles, non_allelic 'orthologs' singeltons, and single nuclear genes.\n",
    "* alleles are bast on proteinortho -synteny flag\n",
    "* non_allelic 'orthologs' are genes that cluster on the protein level but are not allelic\n",
    "* singeltons are genes without ‘ortholog’ in the other haplotype\n",
    "* single haplotype genes are genes that have no gene to genome blast hit e_value = 1e-2 and are not in a homozygous region.\n",
    "\n",
    "Final analysis is based on Pst_104E_v12_missing_allele_QC_v03.ipynb and Pst_104E_v12_defining_alleles_v03.ipynb in folder \n",
    "/home/benjamin/genome_assembly/PST79/FALCON/p_assemblies/v9_1/Pst_104E_v12/allele_analysis/no_alleles_proteinortho_graph516_QC_Qcov80_PctID70_evalue01 and alleles_proteinortho_graph516\n"
   ]
  },
  {
   "cell_type": "code",
   "execution_count": 1,
   "metadata": {
    "collapsed": true
   },
   "outputs": [],
   "source": [
    "%matplotlib inline"
   ]
  },
  {
   "cell_type": "code",
   "execution_count": 130,
   "metadata": {
    "collapsed": true
   },
   "outputs": [],
   "source": [
    "import pandas as pd\n",
    "import os\n",
    "import re\n",
    "from Bio import SeqIO\n",
    "from Bio import SeqUtils\n",
    "import pysam\n",
    "from Bio.SeqRecord import SeqRecord\n",
    "from pybedtools import BedTool\n",
    "import numpy as np\n",
    "import pybedtools\n",
    "import time\n",
    "import matplotlib.pyplot as plt\n",
    "import sys\n",
    "import subprocess\n",
    "import shutil\n",
    "from Bio.Seq import Seq\n",
    "import pysam\n",
    "from Bio import SearchIO\n",
    "import json\n",
    "import glob\n",
    "import scipy.stats as stats\n",
    "import distance"
   ]
  },
  {
   "cell_type": "code",
   "execution_count": 3,
   "metadata": {
    "collapsed": true
   },
   "outputs": [],
   "source": [
    "pwh_set = []\n",
    "def pwh_filter (q_contig, pwh_set=pwh_set):\n",
    "    '''Checks if contig belongs to the primary with haplotig set.'''\n",
    "    if q_contig in pwh_set:\n",
    "        return True\n",
    "    else:\n",
    "        return False"
   ]
  },
  {
   "cell_type": "code",
   "execution_count": 4,
   "metadata": {
    "collapsed": true
   },
   "outputs": [],
   "source": [
    "def on_primary_contig (q_contig):\n",
    "    '''Quick function that checks if query is on primary contig or not'''\n",
    "    if q_contig.startswith('hcontig'):\n",
    "        return False\n",
    "    elif q_contig.startswith('pcontig'):\n",
    "        return True\n",
    "    else:\n",
    "        print('Contig annotation needs to start with hcontig or pcontig')"
   ]
  },
  {
   "cell_type": "code",
   "execution_count": 619,
   "metadata": {
    "collapsed": true
   },
   "outputs": [],
   "source": [
    "#Define the PATH\n",
    "BASE_AA_PATH = '/home/benjamin/genome_assembly/PST79/FALCON/p_assemblies/v9_1/Pst_104E_v12'\n",
    "BASE_A_PATH = '/home/benjamin/genome_assembly/PST79/FALCON/p_assemblies/v9_1/032017_assembly'\n",
    "BLAST_RESULT_PATH = os.path.join(BASE_AA_PATH,'allele_analysis' )\n",
    "ALLELE_PATH =os.path.join(BASE_AA_PATH ,'allele_analysis/alleles_proteinortho_graph516')\n",
    "ALLELE_QC_PATH = os.path.join(BASE_AA_PATH, 'allele_analysis', \\\n",
    "                              'no_alleles_proteinortho_graph516_QC_Qcov80_PctID70_evalue01')\n",
    "LIST_PATH = os.path.join(BASE_AA_PATH, 'enrichment_analysis', 'lists')\n",
    "POST_ALLELE_PATH = os.path.join(BASE_AA_PATH, 'post_allele_analysis')\n",
    "OUT_PATH = os.path.join(POST_ALLELE_PATH, 'proteinortho_graph516_QC_Qcov80_PctID70_evalue01')\n",
    "if not os.path.exists(POST_ALLELE_PATH):\n",
    "    os.mkdir(POST_ALLELE_PATH)\n",
    "if not os.path.exists(OUT_PATH):\n",
    "    os.mkdir(OUT_PATH)\n",
    "ph_gene_fasta = os.path.join(BASE_A_PATH , 'Pst_104E_v12_ph_ctg.anno.gene.fa')\n",
    "ph_cds_fasta = os.path.join(BASE_A_PATH, 'Pst_104E_v12_ph_ctg.anno.CDS.fa')\n",
    "ph_protein_fasta = os.path.join(BASE_A_PATH, 'Pst_104E_v12_ph_ctg.anno.protein.fa')"
   ]
  },
  {
   "cell_type": "code",
   "execution_count": 6,
   "metadata": {
    "collapsed": true
   },
   "outputs": [],
   "source": [
    "#get all the alleles in as they are not filtered by QCov and PctID but simply taken straight from the \n",
    "# proteinortho\n",
    "allele_header = ['p_gene', 'h_gene']\n",
    "a_overlap_df = pd.read_csv(os.path.join(ALLELE_PATH, \\\n",
    "                    'Pst_104E_v12_p_ctg.h_contig_overlap.alleles'), sep='\\t', header = None,\\\n",
    "                           names=allele_header)\n",
    "a_overlap_df['Linkage'] = 'h_contig_overlap'\n",
    "a_no_roverlap_df = pd.read_csv(os.path.join(ALLELE_PATH, \\\n",
    "                    'Pst_104E_v12_p_ctg.no_respective_h_contig_overlap.alleles'), sep='\\t', header = None,\\\n",
    "                           names=allele_header)\n",
    "a_no_roverlap_df['Linkage'] = 'no_r_overlap'\n",
    "a_no_soverlap_df = pd.read_csv(os.path.join(ALLELE_PATH, \\\n",
    "                    'Pst_104E_v12_p_ctg.no_specific_h_contig_overlap.alleles'), sep='\\t', header = None,\\\n",
    "                           names=allele_header)\n",
    "a_no_soverlap_df['Linkage'] = 'no_s_overlap'\n",
    "allele_df = pd.concat([a_overlap_df, a_no_roverlap_df, a_no_soverlap_df], axis=0)"
   ]
  },
  {
   "cell_type": "code",
   "execution_count": 15,
   "metadata": {
    "collapsed": true
   },
   "outputs": [],
   "source": [
    "#copy over allele files to OUTPATH\n",
    "os.chdir(ALLELE_PATH)\n",
    "!cp Pst_104E_v12_p_ctg.h_contig_overlap.alleles {OUT_PATH}/.\n",
    "!cp Pst_104E_v12_p_ctg.no_respective_h_contig_overlap.alleles {OUT_PATH}/.\n",
    "!cp Pst_104E_v12_p_ctg.no_specific_h_contig_overlap.alleles {OUT_PATH}/. \n",
    "!cat Pst_104E_v12_p_ctg.h_contig_overlap.alleles Pst_104E_v12_p_ctg.no_respective_h_contig_overlap.alleles Pst_104E_v12_p_ctg.no_specific_h_contig_overlap.alleles > {OUT_PATH}/Pst_104E_v12_p_ctg.all.alleles"
   ]
  },
  {
   "cell_type": "code",
   "execution_count": 26,
   "metadata": {},
   "outputs": [
    {
     "name": "stderr",
     "output_type": "stream",
     "text": [
      "/home/benjamin/anaconda3/lib/python3.5/site-packages/IPython/core/interactiveshell.py:2698: DtypeWarning: Columns (2,3,4,5,6,7,8,9,10,11,13) have mixed types. Specify dtype option on import or set low_memory=False.\n",
      "  interactivity=interactivity, compiler=compiler, result=result)\n"
     ]
    }
   ],
   "source": [
    "#get the blast dataframe and the QC dataframe\n",
    "allele_blast_df = pd.read_csv(os.path.join(BLAST_RESULT_PATH, 'Pst_104E_v12_p_ctg.Pst_104E_v12_h_ctg.0.001.blastp.outfmt6.allele_analysis'), sep='\\t')\n",
    "allele_QC_df = pd.read_csv(os.path.join(ALLELE_QC_PATH, 'Pst_104E_v12_ph_ctg.no_alleles_QC.Qcov80.PctID70.df'), sep='\\t')"
   ]
  },
  {
   "cell_type": "code",
   "execution_count": 658,
   "metadata": {},
   "outputs": [
    {
     "name": "stderr",
     "output_type": "stream",
     "text": [
      "/home/benjamin/anaconda3/lib/python3.5/site-packages/IPython/core/interactiveshell.py:2698: DtypeWarning: Columns (2,3,4,5,6,7,8,9,10,11,13) have mixed types. Specify dtype option on import or set low_memory=False.\n",
      "  interactivity=interactivity, compiler=compiler, result=result)\n"
     ]
    }
   ],
   "source": [
    "#now filter out all the genes that already have alleles based on the protein ortho results\n",
    "#this does not care about the 'abirary' cut offs for coverage and PctID\n",
    "allele_QC_df = pd.read_csv(os.path.join(ALLELE_QC_PATH, 'Pst_104E_v12_ph_ctg.no_alleles_QC.Qcov80.PctID70.df'), sep='\\t')\n",
    "allele_QC_df = allele_QC_df[~((allele_QC_df.Query.isin(allele_df.p_gene))|(allele_QC_df.Query.isin(allele_df.h_gene)))].copy()\n"
   ]
  },
  {
   "cell_type": "code",
   "execution_count": 659,
   "metadata": {},
   "outputs": [
    {
     "data": {
      "text/plain": [
       "True"
      ]
     },
     "execution_count": 659,
     "metadata": {},
     "output_type": "execute_result"
    }
   ],
   "source": [
    "#quick check if all the numbers of genes add up\n",
    "len(allele_df.p_gene.unique())+ len(allele_df.h_gene.unique())+len(allele_QC_df.Query.unique()) == 30249"
   ]
  },
  {
   "cell_type": "code",
   "execution_count": 660,
   "metadata": {
    "collapsed": true
   },
   "outputs": [],
   "source": [
    "#now write out all no_allele_orthologs\n",
    "no_allele_orthologs_fn = os.path.join(OUT_PATH, 'Pst_104E_v12_ph_ctg.no_alleles_orthologs')\n",
    "no_allele_orthologs = allele_QC_df[allele_QC_df.singeltons == False][\"Query\"].unique()\n",
    "tmp_fh = open(no_allele_orthologs_fn, 'w')\n",
    "for _id in allele_QC_df[allele_QC_df.singeltons == False][\"Query\"].unique():\n",
    "    print(_id, file=tmp_fh)\n",
    "tmp_fh.close()"
   ]
  },
  {
   "cell_type": "code",
   "execution_count": 661,
   "metadata": {
    "collapsed": true
   },
   "outputs": [],
   "source": [
    "#write out singeltons\n",
    "singeltons_fh = os.path.join(OUT_PATH, 'Pst_104E_v12_ph_ctg.singletons')\n",
    "singeltons = allele_QC_df[(allele_QC_df.singeltons == True) & (allele_QC_df.ph_p_homo_region != True)][\"Query\"].unique()\n",
    "tmp_fh = open(singeltons_fh , 'w')\n",
    "for _id in singeltons:\n",
    "    print(_id, file=tmp_fh)\n",
    "tmp_fh.close()"
   ]
  },
  {
   "cell_type": "code",
   "execution_count": 662,
   "metadata": {
    "collapsed": true
   },
   "outputs": [],
   "source": [
    "#write out loose singeltons. This includes all the genes that are singletons also those that \n",
    "#are unphased\n",
    "loose_singeltons_fh = os.path.join(OUT_PATH, 'Pst_104E_v12_ph_ctg.loose_singletons')\n",
    "loose_singeltons = allele_QC_df[(allele_QC_df.singeltons == True) ][\"Query\"].unique()\n",
    "tmp_fh = open(loose_singeltons_fh , 'w')\n",
    "for _id in loose_singeltons:\n",
    "    print(_id, file=tmp_fh)\n",
    "tmp_fh.close()"
   ]
  },
  {
   "cell_type": "code",
   "execution_count": 663,
   "metadata": {
    "collapsed": true
   },
   "outputs": [],
   "source": [
    "#write out single nuclear genes defined as having no genome blast, being not in homozygous regions,\n",
    "#and being singeltons\n",
    "shg_df = allele_QC_df[(allele_QC_df.singeltons == True) & (allele_QC_df.gene_on_genome_blast_hit != True)\\\n",
    "            &(allele_QC_df.ph_p_homo_region != True)].copy()\n",
    "shg_fh = os.path.join(OUT_PATH, 'Pst_104E_v12_ph_ctg.single_haplotype_genes')\n",
    "shg = shg_df.Query.unique()\n",
    "tmp_fh = open(shg_fh, 'w')\n",
    "for _id in shg:\n",
    "    print(_id, file=tmp_fh)\n",
    "tmp_fh.close()"
   ]
  },
  {
   "cell_type": "code",
   "execution_count": 664,
   "metadata": {
    "collapsed": true
   },
   "outputs": [],
   "source": [
    "#now read in some types of genes\n",
    "gene_group_list = ['BUSCOS', 'EFFECTORS', 'HAUSTORIA', 'EFFECTORP']\n",
    "p_gene_dict = {}\n",
    "h_gene_dict = {}\n",
    "p_gene_dict['BUSCOS'] = pd.read_csv(os.path.join(LIST_PATH, 'Pst_104E_v12_p_busco.list')\\\n",
    "                                    , header=None)[0].tolist()\n",
    "p_gene_dict['EFFECTORS'] = pd.read_csv(os.path.join(LIST_PATH, 'Pst_104E_v12_p_effector.list')\\\n",
    "                                    , header=None)[0].tolist()\n",
    "p_gene_dict['HAUSTORIA'] = pd.read_csv(os.path.join(LIST_PATH, 'Pst_104E_v12_cluster_8.list')\\\n",
    "                                    , header=None)[0].tolist()\n",
    "p_gene_dict['EFFECTORP'] = pd.read_csv(os.path.join(LIST_PATH, 'Pst_104E_v12_p_effectorp.list')\\\n",
    "                                    , header=None)[0].tolist()\n",
    "p_gene_dict['SIGNALP3'] = pd.read_csv(os.path.join(LIST_PATH, '..', 'pa_26062017',\\\n",
    "                            'Pst_104E_v12_p_ctg.SignalP3.tablist'), header=None, sep='\\t')[0].tolist()\n",
    "\n",
    "h_gene_dict['BUSCOS'] = pd.read_csv(os.path.join(LIST_PATH, 'Pst_104E_v12_h_busco.list')\\\n",
    "                                    , header=None)[0].tolist()\n",
    "h_gene_dict['EFFECTORS'] = pd.read_csv(os.path.join(LIST_PATH, 'Pst_104E_v12_h_effector.list')\\\n",
    "                                    , header=None)[0].tolist()\n",
    "h_gene_dict['HAUSTORIA'] = pd.read_csv(os.path.join(LIST_PATH, 'Pst_104E_v12_h_cluster_15.list')\\\n",
    "                                    , header=None)[0].tolist()\n",
    "h_gene_dict['EFFECTORP'] = pd.read_csv(os.path.join(LIST_PATH, 'Pst_104E_v12_h_effectorp.list')\\\n",
    "                                    , header=None)[0].tolist()\n",
    "h_gene_dict['SIGNALP3'] = pd.read_csv(os.path.join(LIST_PATH, '..', 'pa_26062017',\\\n",
    "                            'Pst_104E_v12_h_ctg.SignalP3.tablist'), header=None, sep='\\t')[0].tolist()\n",
    "\n",
    "#now get pwh and pwoh\n",
    "pwh_list = pd.read_csv(os.path.join(BASE_A_PATH, 'Pst_104E_v12_pwh.txt')\\\n",
    "                                , header=None)[0].tolist()\n",
    "pwoh_list = pd.read_csv(os.path.join(BASE_A_PATH, 'Pst_104E_v12_pwoh.txt')\\\n",
    "                                , header=None)[0].tolist()"
   ]
  },
  {
   "cell_type": "code",
   "execution_count": 665,
   "metadata": {},
   "outputs": [
    {
     "name": "stdout",
     "output_type": "stream",
     "text": [
      "Effectors on pwh contigs\n",
      "1523\n"
     ]
    }
   ],
   "source": [
    "#cause we are a bit lazy an like notebooks here we go looking for stuff\n",
    "os.chdir(BASE_A_PATH)\n",
    "print(\"Effectors on pwh contigs\")\n",
    "!cat Pst_104E_v12_pwh.txt | xargs -I X grep -w 'X' {LIST_PATH}/Pst_104E_v12_p_effector.gene.gff3 | wc -l "
   ]
  },
  {
   "cell_type": "code",
   "execution_count": 101,
   "metadata": {},
   "outputs": [
    {
     "name": "stdout",
     "output_type": "stream",
     "text": [
      "Effectors on pwoh contigs\n",
      "49\n"
     ]
    }
   ],
   "source": [
    "print(\"Effectors on pwoh contigs\")\n",
    "!cat Pst_104E_v12_pwoh.txt | xargs -I X grep -w 'X' {LIST_PATH}/Pst_104E_v12_p_effector.gene.gff3 | wc -l "
   ]
  },
  {
   "cell_type": "code",
   "execution_count": 102,
   "metadata": {},
   "outputs": [
    {
     "name": "stdout",
     "output_type": "stream",
     "text": [
      "BUSCOS on pwoh contigs\n",
      "49\n"
     ]
    }
   ],
   "source": [
    "print(\"BUSCOS on pwoh contigs\")\n",
    "!cat Pst_104E_v12_pwoh.txt | xargs -I X grep -w 'X' {LIST_PATH}/Pst_104E_v12_p_busco.gene.gff3 | wc -l "
   ]
  },
  {
   "cell_type": "code",
   "execution_count": 103,
   "metadata": {},
   "outputs": [
    {
     "name": "stdout",
     "output_type": "stream",
     "text": [
      "BUSCOS on pwh contigs\n",
      "1395\n"
     ]
    }
   ],
   "source": [
    "print(\"BUSCOS on pwh contigs\")\n",
    "!cat Pst_104E_v12_pwh.txt | xargs -I X grep -w 'X' {LIST_PATH}/Pst_104E_v12_p_busco.gene.gff3 | wc -l "
   ]
  },
  {
   "cell_type": "code",
   "execution_count": 104,
   "metadata": {},
   "outputs": [
    {
     "name": "stdout",
     "output_type": "stream",
     "text": [
      "BUSCOS on hcontigs\n",
      "1293 /home/benjamin/genome_assembly/PST79/FALCON/p_assemblies/v9_1/Pst_104E_v12/enrichment_analysis/lists/Pst_104E_v12_h_busco.gene.gff3\n"
     ]
    }
   ],
   "source": [
    "print(\"BUSCOS on hcontigs\")\n",
    "!wc -l {LIST_PATH}/Pst_104E_v12_h_busco.gene.gff3"
   ]
  },
  {
   "cell_type": "code",
   "execution_count": 670,
   "metadata": {
    "collapsed": true
   },
   "outputs": [],
   "source": [
    "#now see if there is an enrichment in GO terms associated with alleles\n",
    "def orphan_analysis(_orphan_list):\n",
    "    \"\"\"\n",
    "    This is a function that prints out the numbers of total genes and how many of those are\n",
    "    buscos or effectors. The same for haplotigs, primary contigs with haplotigs, and \n",
    "    primary contigs without haplotigs.\n",
    "    \"\"\"\n",
    "    orphan_effectors = 0\n",
    "    orphan_effectors_h = 0\n",
    "    orphan_effectors_pwh = 0\n",
    "    orphan_effectors_pwoh =0\n",
    "    orphan_busco = 0\n",
    "    orphan_busco_h = 0\n",
    "    orphan_busco_pwh = 0\n",
    "    orphan_busco_pwoh = 0\n",
    "    for x in _orphan_list:\n",
    "        if x in p_gene_dict['BUSCOS']:\n",
    "            contig = re.search(r'[hp][^.]*',x).group()\n",
    "            if pwh_filter(contig, pwh_list) == True:\n",
    "                orphan_busco_pwh += 1\n",
    "            else:\n",
    "                orphan_busco_pwoh += 1\n",
    "        if x in h_gene_dict['BUSCOS']:\n",
    "            orphan_busco_h += 1\n",
    "        #now same for effectors    \n",
    "        if x in p_gene_dict['EFFECTORS']:\n",
    "            contig = re.search(r'[hp][^.]*',x).group()\n",
    "            if pwh_filter(contig, pwh_list) == True:\n",
    "                orphan_effectors_pwh += 1\n",
    "            else:\n",
    "                orphan_effectors_pwoh += 1\n",
    "            \n",
    "        if x in h_gene_dict['EFFECTORS']:\n",
    "            orphan_effectors_h += 1      \n",
    "    orphan_effectors = orphan_effectors_h + orphan_effectors_pwh + orphan_effectors_pwoh\n",
    "    orphan_busco = orphan_busco_h +  orphan_busco_pwh +  orphan_busco_pwoh\n",
    "    print('Out of %i genes we have %i buscos and %i effectors.'\\\n",
    "          %(len(_orphan_list), orphan_busco, orphan_effectors))\n",
    "    print('On haplotigs. Out of %i genes we have %i buscos and %i effectors.'\\\n",
    "         %(len([x for x in _orphan_list if 'hcontig' in x]), orphan_busco_h, orphan_effectors_h))\n",
    "    print('On pwh. Out of %i genes we have %i buscos and %i effectors.'\\\n",
    "         %([pwh_filter(re.search(r'[hp][^.]*',x).group(), pwh_list) for x in _orphan_list].count(True), orphan_busco_pwh, orphan_effectors_pwh))\n",
    "    print('On pwoh. Out of %i genes we have %i buscos and %i effectors.'\\\n",
    "         %([pwh_filter(re.search(r'[hp][^.]*',x).group(), pwh_list) for x in _orphan_list if 'pcontig' in x].count(False), orphan_busco_pwoh, orphan_effectors_pwoh))"
   ]
  },
  {
   "cell_type": "code",
   "execution_count": 671,
   "metadata": {},
   "outputs": [
    {
     "data": {
      "text/plain": [
       "Index(['Query', 'Target', 'PctID', 'AlnLgth', 'NumMis', 'NumGap', 'StartQuery',\n",
       "       'StopQuery', 'StartTarget', 'StopTarget', 'e-value', 'BitScore',\n",
       "       'QLgth', 'QCov', 'q_contig', 't_contig', 'q_contig == t_contig',\n",
       "       'primary_contig', 'pwh_contig', 'gene_on_genome_blast_hit',\n",
       "       'exn_asso_contig', 'exn_no_asso_contig', 'ph_p_homo_region',\n",
       "       'singeltons', 'Pst_E104_v1_ph_ctg.freebayes_SNP',\n",
       "       'Pst_E104_v1_ph_ctg.freebayes_SNP_#',\n",
       "       'Pst_E104_v1_ph_ctg.freebayes_SNP_%', 'overlap_p_on_h_mapping'],\n",
       "      dtype='object')"
      ]
     },
     "execution_count": 671,
     "metadata": {},
     "output_type": "execute_result"
    }
   ],
   "source": [
    "allele_QC_df.columns"
   ]
  },
  {
   "cell_type": "code",
   "execution_count": 672,
   "metadata": {},
   "outputs": [
    {
     "name": "stdout",
     "output_type": "stream",
     "text": [
      "Number of genes without clear allele:\n"
     ]
    },
    {
     "data": {
      "text/plain": [
       "7029"
      ]
     },
     "execution_count": 672,
     "metadata": {},
     "output_type": "execute_result"
    }
   ],
   "source": [
    "print(\"Number of genes without clear allele:\")\n",
    "len(singeltons)"
   ]
  },
  {
   "cell_type": "code",
   "execution_count": 674,
   "metadata": {},
   "outputs": [
    {
     "name": "stdout",
     "output_type": "stream",
     "text": [
      "For single haplotype genes:\n",
      "Out of 1506 genes we have 125 buscos and 120 effectors.\n",
      "On haplotigs. Out of 160 genes we have 6 buscos and 5 effectors.\n",
      "On pwh. Out of 1149 genes we have 93 buscos and 98 effectors.\n",
      "On pwoh. Out of 197 genes we have 26 buscos and 17 effectors.\n"
     ]
    }
   ],
   "source": [
    "print(\"For single haplotype genes:\")\n",
    "orphan_analysis(shg)"
   ]
  },
  {
   "cell_type": "code",
   "execution_count": 675,
   "metadata": {},
   "outputs": [
    {
     "name": "stdout",
     "output_type": "stream",
     "text": [
      "For singletons:\n",
      "Out of 7029 genes we have 234 buscos and 453 effectors.\n",
      "On haplotigs. Out of 2931 genes we have 57 buscos and 153 effectors.\n",
      "On pwh. Out of 3700 genes we have 147 buscos and 270 effectors.\n",
      "On pwoh. Out of 398 genes we have 30 buscos and 30 effectors.\n"
     ]
    }
   ],
   "source": [
    "print(\"For singletons:\")\n",
    "orphan_analysis(singeltons)"
   ]
  },
  {
   "cell_type": "code",
   "execution_count": 696,
   "metadata": {},
   "outputs": [
    {
     "name": "stdout",
     "output_type": "stream",
     "text": [
      "For loose singletons:\n",
      "Out of 7692 genes we have 297 buscos and 502 effectors.\n",
      "On haplotigs. Out of 2931 genes we have 57 buscos and 153 effectors.\n",
      "On pwh. Out of 4289 genes we have 205 buscos and 318 effectors.\n",
      "On pwoh. Out of 472 genes we have 35 buscos and 31 effectors.\n"
     ]
    }
   ],
   "source": [
    "print(\"For loose singletons:\")\n",
    "orphan_analysis(loose_singeltons)"
   ]
  },
  {
   "cell_type": "code",
   "execution_count": 676,
   "metadata": {},
   "outputs": [
    {
     "name": "stderr",
     "output_type": "stream",
     "text": [
      "/home/benjamin/anaconda3/lib/python3.5/site-packages/pandas/core/frame.py:2352: SettingWithCopyWarning: \n",
      "A value is trying to be set on a copy of a slice from a DataFrame.\n",
      "Try using .loc[row_indexer,col_indexer] = value instead\n",
      "\n",
      "See the caveats in the documentation: http://pandas.pydata.org/pandas-docs/stable/indexing.html#indexing-view-versus-copy\n",
      "  self[k1] = value[k2]\n"
     ]
    }
   ],
   "source": [
    "#set the coverage limits\n",
    "QCov_limit = 80\n",
    "PctID_limit = 70\n",
    "#now get all the ids for which we have hits above the cut off and are singletons\n",
    "tmp_df = allele_QC_df[allele_QC_df.Target != 'False'] #filter out no hits\n",
    "tmp_df[['QCov', 'PctID']] = tmp_df[['QCov', 'PctID']].apply(pd.to_numeric) #make numeric\n",
    "#get ids of stuff above the cut off\n",
    "tmp_df_ids = tmp_df[(tmp_df.QCov >= QCov_limit) & (tmp_df.PctID >= PctID_limit)]['Query'].unique()\n",
    "#filter those out and everything that is not a singleton\n",
    "tmp_df = allele_QC_df[~((allele_QC_df.Query.isin(tmp_df_ids)) | (allele_QC_df.singeltons == False))].copy()"
   ]
  },
  {
   "cell_type": "markdown",
   "metadata": {},
   "source": [
    "Everything below is about singeltons that don't have a significant protein blast hit with considering the QCov and PctID limit set above"
   ]
  },
  {
   "cell_type": "code",
   "execution_count": 677,
   "metadata": {},
   "outputs": [
    {
     "name": "stdout",
     "output_type": "stream",
     "text": [
      "Out of 3191 genes we have 180 buscos and 207 effectors.\n",
      "On haplotigs. Out of 942 genes we have 26 buscos and 34 effectors.\n",
      "On pwh. Out of 1998 genes we have 126 buscos and 152 effectors.\n",
      "On pwoh. Out of 251 genes we have 28 buscos and 21 effectors.\n"
     ]
    }
   ],
   "source": [
    "#now filter dataframe on different other issues\n",
    "out_filter = (tmp_df.exn_asso_contig != True) & (tmp_df.exn_no_asso_contig != True) & \\\n",
    "            (tmp_df.ph_p_homo_region != True)\n",
    "queries_out_filtered = tmp_df[out_filter]['Query'].unique()\n",
    "#now see if there is an enrichment in GO terms associated with alleles\n",
    "orphan_analysis(queries_out_filtered)\n",
    "#now print this out again into the ALLELE_QC folder\n",
    "fn_short = 'Pst_104E_v12_ph_ctg.no_alleles_postQC.PctID%i_QCov%i.no_exonerate' % (PctID_limit, QCov_limit)\n",
    "fn_short_p = 'Pst_104E_v12_p_ctg.no_alleles_postQC.PctID%i_QCov%i.no_exonerate' % (PctID_limit, QCov_limit)\n",
    "fn_short_h = 'Pst_104E_v12_h_ctg.no_alleles_postQC.PctID%i_QCov%i.no_exonerate' % (PctID_limit, QCov_limit)\n",
    "fn = os.path.join(ALLELE_QC_PATH, fn_short)\n",
    "fn_list_h = os.path.join(LIST_PATH, fn_short_h)\n",
    "fn_list_p = os.path.join(LIST_PATH, fn_short_p)\n",
    "fh_list_p = open(fn_list_p, 'w')\n",
    "fh_list_h = open(fn_list_h, 'w')\n",
    "fh = open(fn, 'w')\n",
    "for gene in queries_out_filtered:\n",
    "    if 'pcontig' in gene:\n",
    "        print(gene, file=fh_list_p)\n",
    "    if 'hcontig' in gene:\n",
    "        print(gene, file=fh_list_h)\n",
    "    print(gene, file=fh)\n",
    "fh.close()\n",
    "fh_list_p.close()\n",
    "fh_list_h.close()"
   ]
  },
  {
   "cell_type": "code",
   "execution_count": 687,
   "metadata": {},
   "outputs": [
    {
     "name": "stdout",
     "output_type": "stream",
     "text": [
      "Singletons that have are phased but have no good blast hit above the threshold\n",
      "Out of 3991 genes we have 190 buscos and 303 effectors.\n",
      "On haplotigs. Out of 1335 genes we have 31 buscos and 83 effectors.\n",
      "On pwh. Out of 2393 genes we have 131 buscos and 198 effectors.\n",
      "On pwoh. Out of 263 genes we have 28 buscos and 22 effectors.\n"
     ]
    }
   ],
   "source": [
    "#now filter dataframe on different other issues\n",
    "out_filter =  (tmp_df.ph_p_homo_region != True)\n",
    "queries_out_filtered = tmp_df[out_filter]['Query'].unique()\n",
    "#now see if there is an enrichment in GO terms associated with alleles\n",
    "print('Singletons that have are phased but have no good blast hit above the threshold')\n",
    "orphan_analysis(queries_out_filtered)\n",
    "#now print this out again into the ALLELE_QC folder\n",
    "fn_short = 'Pst_104E_v12_ph_ctg.no_alleles_postQC.PctID%i_QCov%i.no_homo' % (PctID_limit, QCov_limit)\n",
    "fn_short_p = 'Pst_104E_v12_p_ctg.no_alleles_postQC.PctID%i_QCov%i.no_homo' % (PctID_limit, QCov_limit)\n",
    "fn_short_h = 'Pst_104E_v12_h_ctg.no_alleles_postQC.PctID%i_QCov%i.no_homo' % (PctID_limit, QCov_limit)\n",
    "fn = os.path.join(ALLELE_QC_PATH, fn_short)\n",
    "fn_list_h = os.path.join(LIST_PATH, fn_short_h)\n",
    "fn_list_p = os.path.join(LIST_PATH, fn_short_p)\n",
    "fh_list_p = open(fn_list_p, 'w')\n",
    "fh_list_h = open(fn_list_h, 'w')\n",
    "fh = open(fn, 'w')\n",
    "for gene in queries_out_filtered:\n",
    "    if 'pcontig' in gene:\n",
    "        print(gene, file=fh_list_p)\n",
    "    if 'hcontig' in gene:\n",
    "        print(gene, file=fh_list_h)\n",
    "    print(gene, file=fh)\n",
    "fh.close()\n",
    "fh_list_p.close()\n",
    "fh_list_h.close()"
   ]
  },
  {
   "cell_type": "code",
   "execution_count": 688,
   "metadata": {},
   "outputs": [
    {
     "name": "stdout",
     "output_type": "stream",
     "text": [
      "For unphased singletons that have no exonerate alignments:\n",
      "Out of 534 genes we have 62 buscos and 44 effectors.\n",
      "On haplotigs. Out of 0 genes we have 0 buscos and 0 effectors.\n",
      "On pwh. Out of 474 genes we have 57 buscos and 43 effectors.\n",
      "On pwoh. Out of 60 genes we have 5 buscos and 1 effectors.\n"
     ]
    }
   ],
   "source": [
    "#now make new filter for the following\n",
    "out_filter = (tmp_df.exn_asso_contig != True) & (tmp_df.exn_no_asso_contig != True) & \\\n",
    "            (tmp_df.ph_p_homo_region == True)\n",
    "queries_out_filtered = tmp_df[out_filter]['Query'].unique()\n",
    "#now see if there is an enrichment in GO terms associated with alleles\n",
    "print(\"For unphased singletons that have no exonerate alignments:\")\n",
    "orphan_analysis(queries_out_filtered)"
   ]
  },
  {
   "cell_type": "code",
   "execution_count": 689,
   "metadata": {},
   "outputs": [
    {
     "name": "stdout",
     "output_type": "stream",
     "text": [
      "For unphased singletons:\n",
      "Out of 550 genes we have 62 buscos and 45 effectors.\n",
      "On haplotigs. Out of 0 genes we have 0 buscos and 0 effectors.\n",
      "On pwh. Out of 488 genes we have 57 buscos and 44 effectors.\n",
      "On pwoh. Out of 62 genes we have 5 buscos and 1 effectors.\n"
     ]
    }
   ],
   "source": [
    "#now make new filter for the following\n",
    "out_filter = (tmp_df.ph_p_homo_region == True)\n",
    "queries_out_filtered = tmp_df[out_filter]['Query'].unique()\n",
    "#now see if there is an enrichment in GO terms associated with alleles\n",
    "print(\"For unphased singletons:\")\n",
    "orphan_analysis(queries_out_filtered)"
   ]
  },
  {
   "cell_type": "code",
   "execution_count": 682,
   "metadata": {},
   "outputs": [
    {
     "name": "stdout",
     "output_type": "stream",
     "text": [
      "Out of 550 genes we have 62 buscos and 45 effectors.\n",
      "On haplotigs. Out of 0 genes we have 0 buscos and 0 effectors.\n",
      "On pwh. Out of 488 genes we have 57 buscos and 44 effectors.\n",
      "On pwoh. Out of 62 genes we have 5 buscos and 1 effectors.\n"
     ]
    }
   ],
   "source": [
    "#now make new filter for the following\n",
    "out_filter = (tmp_df.ph_p_homo_region == True) \n",
    "queries_out_filtered = tmp_df[out_filter]['Query'].unique()\n",
    "#now see if there is an enrichment in GO terms associated with alleles\n",
    "orphan_analysis(queries_out_filtered)\n",
    "#now print this out again into the ALLELE_QC folder\n",
    "fn_short = 'Pst_104E_v12_ph_ctg.no_alleles_postQC.homozygous_coverage' \n",
    "fn = os.path.join(ALLELE_QC_PATH, fn_short)\n",
    "fh = open(fn, 'w')\n",
    "for gene in queries_out_filtered:\n",
    "    print(gene, file=fh)\n",
    "fh.close()\n"
   ]
  },
  {
   "cell_type": "code",
   "execution_count": 692,
   "metadata": {},
   "outputs": [
    {
     "name": "stdout",
     "output_type": "stream",
     "text": [
      "Singletons with exonerate alignment\n",
      "Out of 816 genes we have 10 buscos and 97 effectors.\n",
      "On haplotigs. Out of 393 genes we have 5 buscos and 49 effectors.\n",
      "On pwh. Out of 409 genes we have 5 buscos and 47 effectors.\n",
      "On pwoh. Out of 14 genes we have 0 buscos and 1 effectors.\n",
      "I guess this means that BUSCOs might get annotated a bit better than other genes including effectors.\n"
     ]
    }
   ],
   "source": [
    "#now make new filter for the following\n",
    "out_filter = (tmp_df.exn_asso_contig == True) | (tmp_df.exn_no_asso_contig == True) \n",
    "queries_out_filtered = tmp_df[out_filter]['Query'].unique()\n",
    "print(\"Singletons with exonerate alignment\") \n",
    "orphan_analysis(queries_out_filtered)\n",
    "print(\"I guess this means that BUSCOs might get annotated a bit better than other genes\\\n",
    " including effectors.\")\n",
    "#now print this out again into the ALLELE_QC folder\n",
    "fn_short = 'Pst_104E_v12_ph_ctg.no_alleles_postQC.exonerate_hits' \n",
    "fn = os.path.join(ALLELE_QC_PATH, fn_short)\n",
    "fh = open(fn, 'w')\n",
    "for gene in queries_out_filtered:\n",
    "    print(gene, file=fh)\n",
    "fh.close()"
   ]
  },
  {
   "cell_type": "code",
   "execution_count": 115,
   "metadata": {},
   "outputs": [
    {
     "name": "stdout",
     "output_type": "stream",
     "text": [
      "Out of 809 orphan genes we have 10 orphan buscos and 96 orphan effectors.\n",
      "On haplotigs. Out of 393 orphan genes we have 5 orphan buscos and 49 orphan effectors.\n",
      "On pwh. Out of 404 orphan genes we have 5 orphan buscos and 46 orphan effectors.\n",
      "On pwoh. Out of 12 orphan genes we have 0 orphan buscos and 1 orphan effectors.\n"
     ]
    }
   ],
   "source": [
    "#now see if there is an enrichment in GO terms associated with alleles\n",
    "#now make new filter for the following\n",
    "out_filter = (tmp_df.exn_asso_contig == True) | (tmp_df.exn_no_asso_contig == True) & \\\n",
    "            (tmp_df.ph_p_homo_region != True)\n",
    "queries_out_filtered = tmp_df[out_filter]['Query'].unique()\n",
    "#now see if there is an enrichment in GO terms associated with alleles\n",
    "orphan_analysis(queries_out_filtered)"
   ]
  },
  {
   "cell_type": "code",
   "execution_count": 695,
   "metadata": {},
   "outputs": [
    {
     "name": "stdout",
     "output_type": "stream",
     "text": [
      "In the whole allele_QC data frame we have \n",
      "Out of 2531 genes we have 56 buscos and 230 effectors.\n",
      "On haplotigs. Out of 1381 genes we have 32 buscos and 123 effectors.\n",
      "On pwh. Out of 1097 genes we have 24 buscos and 102 effectors.\n",
      "On pwoh. Out of 53 genes we have 0 buscos and 5 effectors.\n"
     ]
    }
   ],
   "source": [
    "#now make new filter for the following\n",
    "out_filter = (allele_QC_df.exn_asso_contig == True) | (allele_QC_df.exn_no_asso_contig == True)\\\n",
    "    & (allele_QC_df.singeltons == True)\n",
    "queries_out_filtered = allele_QC_df[out_filter]['Query'].unique()\n",
    "print(\"For all singletons without filtering for Cov or PctID that have an exonerate alignment:\")\n",
    "orphan_analysis(queries_out_filtered)\n",
    "print('Again we ')"
   ]
  },
  {
   "cell_type": "code",
   "execution_count": null,
   "metadata": {
    "collapsed": true
   },
   "outputs": [],
   "source": [
    "#now make new filter for the following\n",
    "out_filter = \n",
    "queries_out_filtered = allele_QC_df[out_filter]['Query'].unique()\n",
    "print(\"For all singletons without filtering for Cov or PctID that have an exonerate alignment:\")\n",
    "orphan_analysis(queries_out_filtered)\n",
    "print('Again we ')"
   ]
  },
  {
   "cell_type": "markdown",
   "metadata": {},
   "source": [
    "Look at some features of the orphan genes such as:\n",
    "* gene/protein length\n",
    "* gc content\n",
    "* numbers of exons\n",
    "* distance to TEs?"
   ]
  },
  {
   "cell_type": "code",
   "execution_count": 118,
   "metadata": {},
   "outputs": [
    {
     "data": {
      "text/plain": [
       "349.0830013280212"
      ]
     },
     "execution_count": 118,
     "metadata": {},
     "output_type": "execute_result"
    }
   ],
   "source": [
    "#now look at single haplotype genes\n",
    "shg_df.drop_duplicates('Query')['QLgth'].mean()"
   ]
  },
  {
   "cell_type": "code",
   "execution_count": 119,
   "metadata": {},
   "outputs": [
    {
     "data": {
      "text/plain": [
       "394.5913485685585"
      ]
     },
     "execution_count": 119,
     "metadata": {},
     "output_type": "execute_result"
    }
   ],
   "source": [
    "allele_blast_df.drop_duplicates('Query')['QLgth'].mean()"
   ]
  },
  {
   "cell_type": "code",
   "execution_count": 122,
   "metadata": {},
   "outputs": [
    {
     "data": {
      "text/plain": [
       "RanksumsResult(statistic=-4.8498250071590965, pvalue=1.2357044232530989e-06)"
      ]
     },
     "execution_count": 122,
     "metadata": {},
     "output_type": "execute_result"
    }
   ],
   "source": [
    "stats.ranksums(shg_df.drop_duplicates('Query')['QLgth'],allele_blast_df.drop_duplicates('Query')['QLgth'] )"
   ]
  },
  {
   "cell_type": "code",
   "execution_count": 148,
   "metadata": {
    "collapsed": true
   },
   "outputs": [],
   "source": [
    "def len_per_gene(gene_list, gg_fasta):\n",
    "    '''Returns the len per gene in the list plus the len\n",
    "    for all genes in the genome from using gg_fasta genome gene fasta.'''\n",
    "    GC_list_genes = []\n",
    "    GC_list_genome = []\n",
    "    for x in SeqIO.parse(gg_fasta, 'fasta'):\n",
    "        GC_list_genome.append(len(x.seq))\n",
    "        if x.id.replace('TU', 'model') in gene_list:\n",
    "            GC_list_genes.append(len(x.seq))\n",
    "    return GC_list_genes, GC_list_genome"
   ]
  },
  {
   "cell_type": "code",
   "execution_count": 149,
   "metadata": {
    "collapsed": true
   },
   "outputs": [],
   "source": [
    "def GC_per_gene(gene_list, gg_fasta):\n",
    "    '''Returns the GC content per gene in the list plus the GC content\n",
    "    for all genes in the genome from using gg_fasta genome gene fasta.'''\n",
    "    GC_list_genes = []\n",
    "    GC_list_genome = []\n",
    "    for x in SeqIO.parse(gg_fasta, 'fasta'):\n",
    "        GC_list_genome.append(SeqUtils.GC(x.seq))\n",
    "        if x.id.replace('TU', 'model') in gene_list:\n",
    "            GC_list_genes.append(SeqUtils.GC(x.seq))\n",
    "    return GC_list_genes, GC_list_genome"
   ]
  },
  {
   "cell_type": "code",
   "execution_count": 620,
   "metadata": {
    "collapsed": true
   },
   "outputs": [],
   "source": [
    "def return_gene_fasta_paml(gene_list, gg_fasta):\n",
    "    '''Returns the fasta of gene in list as SeqIO object '''\n",
    "    genes_fasta = []\n",
    "    for x in SeqIO.parse(gg_fasta, 'fasta'):\n",
    "        if x.id.replace('TU', 'model') in gene_list:\n",
    "            x.id = x.id.replace('TU', 'model')\n",
    "            genes_fasta.append(x)\n",
    "    return genes_fasta"
   ]
  },
  {
   "cell_type": "code",
   "execution_count": 160,
   "metadata": {
    "collapsed": true
   },
   "outputs": [],
   "source": [
    "def return_gene_fasta(gene_list, gg_fasta):\n",
    "    '''Returns the fasta of gene in list as SeqIO object '''\n",
    "    genes_fasta = []\n",
    "    for x in SeqIO.parse(gg_fasta, 'fasta'):\n",
    "        if x.id.replace('TU', 'model') in gene_list:\n",
    "            genes_fasta.append(x)\n",
    "    return genes_fasta"
   ]
  },
  {
   "cell_type": "code",
   "execution_count": 170,
   "metadata": {
    "collapsed": true
   },
   "outputs": [],
   "source": [
    "def return_contig_fasta(contig_list, gg_fasta):\n",
    "    '''Returns the fasta of contig in list as SeqIO object '''\n",
    "    contig_fasta = []\n",
    "    for x in SeqIO.parse(gg_fasta, 'fasta'):\n",
    "        if x.id in contig_list:\n",
    "            contig_fasta.append(x)\n",
    "    return contig_fasta"
   ]
  },
  {
   "cell_type": "code",
   "execution_count": 150,
   "metadata": {
    "collapsed": true
   },
   "outputs": [],
   "source": [
    "shg_GC, genome_GC = GC_per_gene(shg, ph_gene_fasta)"
   ]
  },
  {
   "cell_type": "code",
   "execution_count": 151,
   "metadata": {},
   "outputs": [
    {
     "name": "stdout",
     "output_type": "stream",
     "text": [
      "45.936932047 45.7863006323\n"
     ]
    }
   ],
   "source": [
    "#gc content per gene\n",
    "print(np.mean(shg_GC), np.mean(genome_GC))"
   ]
  },
  {
   "cell_type": "code",
   "execution_count": 152,
   "metadata": {},
   "outputs": [
    {
     "data": {
      "text/plain": [
       "RanksumsResult(statistic=1.7879649018298396, pvalue=0.073781670619541995)"
      ]
     },
     "execution_count": 152,
     "metadata": {},
     "output_type": "execute_result"
    }
   ],
   "source": [
    "#testing difference\n",
    "stats.ranksums(shg_GC, genome_GC)"
   ]
  },
  {
   "cell_type": "code",
   "execution_count": 154,
   "metadata": {
    "collapsed": true
   },
   "outputs": [],
   "source": [
    "#gene length\n",
    "shg_len, genome_len = len_per_gene(shg, ph_gene_fasta)"
   ]
  },
  {
   "cell_type": "code",
   "execution_count": 155,
   "metadata": {},
   "outputs": [
    {
     "name": "stdout",
     "output_type": "stream",
     "text": [
      "1334.79282869 1538.62967371\n"
     ]
    },
    {
     "data": {
      "text/plain": [
       "RanksumsResult(statistic=-4.8395122876180281, pvalue=1.3015814430474663e-06)"
      ]
     },
     "execution_count": 155,
     "metadata": {},
     "output_type": "execute_result"
    }
   ],
   "source": [
    "#testing difference\n",
    "print(np.mean(shg_len), np.mean(genome_len))\n",
    "stats.ranksums(shg_len, genome_len)"
   ]
  },
  {
   "cell_type": "code",
   "execution_count": 164,
   "metadata": {
    "collapsed": true
   },
   "outputs": [],
   "source": [
    "#get gene fastas and save those\n",
    "shg_fasta = return_gene_fasta(shg, ph_gene_fasta)\n",
    "shg_fn = os.path.join(OUT_PATH, \"Pst_104E_v12_ph_ctg.single_haplotype_genes.fasta\")\n",
    "with open(shg_fn, 'w') as fh:\n",
    "    SeqIO.write(shg_fasta, fh, 'fasta')"
   ]
  },
  {
   "cell_type": "code",
   "execution_count": 439,
   "metadata": {
    "collapsed": true
   },
   "outputs": [],
   "source": [
    "#get gene fastas and save those\n",
    "shg_fasta = return_gene_fasta(shg, ph_cds_fasta)\n",
    "shg_fn = os.path.join(OUT_PATH, \"Pst_104E_v12_ph_ctg.single_haplotype_genes.cds.fasta\")\n",
    "with open(shg_fn, 'w') as fh:\n",
    "    SeqIO.write(shg_fasta, fh, 'fasta')"
   ]
  },
  {
   "cell_type": "code",
   "execution_count": 457,
   "metadata": {
    "collapsed": true
   },
   "outputs": [],
   "source": [
    "#have a look after of the shg genes without a blast it in NCBI nt or ensembl cDNA\n",
    "BLASTR_FOLDER = '/home/benjamin/genome_assembly/PST79/FALCON/p_assemblies/v9_1/Pst_104E_v12/post_allele_analysis/proteinortho_graph516_QC_Qcov80_PctID70_evalue01/blast/'\n",
    "ensembl_blast = os.path.join(BLASTR_FOLDER, 'Pst_104E_v12_ph_ctg.single_haplotype_genes.cds.0817_e36_cdna.fa.outfmt6')\n",
    "ncbi_blast = os.path.join(BLASTR_FOLDER,'Pst_104E_ph_ctg.single_haplotype_genes.fasta.NCBI10032017.01.blastn')"
   ]
  },
  {
   "cell_type": "code",
   "execution_count": 700,
   "metadata": {},
   "outputs": [
    {
     "name": "stdout",
     "output_type": "stream",
     "text": [
      "Number of single haplotype genes that are on pwoh:\n"
     ]
    },
    {
     "data": {
      "text/plain": [
       "197"
      ]
     },
     "execution_count": 700,
     "metadata": {},
     "output_type": "execute_result"
    }
   ],
   "source": [
    "print('Number of single haplotype genes that are on pwoh:')\n",
    "len([x for x in shg if re.findall(r'([ph]contig_[0-9]*)', x)[0] in pwoh_list])"
   ]
  },
  {
   "cell_type": "code",
   "execution_count": 500,
   "metadata": {
    "collapsed": true
   },
   "outputs": [],
   "source": [
    "#read in gene beds\n",
    "p_gene_bed = pd.read_csv(os.path.join(LIST_PATH, 'Pst_104E_v12_p_all.gene.bed'), header=None, sep='\\t')\n",
    "h_gene_bed = pd.read_csv(os.path.join(LIST_PATH, 'Pst_104E_v12_h_all.gene.bed'), header=None, sep='\\t')\n"
   ]
  },
  {
   "cell_type": "markdown",
   "metadata": {},
   "source": [
    "Do check if neighbors shg are more likely to have neighbours that are also shg compare to random subsample"
   ]
  },
  {
   "cell_type": "code",
   "execution_count": 701,
   "metadata": {
    "collapsed": true
   },
   "outputs": [],
   "source": [
    "#look into if shg are more likely to be neighbours and a random subsample\n",
    "p_genes_ordered = p_gene_bed.sort_values([0, 1])[3].tolist()\n",
    "h_genes_ordered = h_gene_bed.sort_values([0, 1])[3].tolist()\n",
    "#make a dict that contains ordered gene lists per contig\n",
    "gene_list_per_contig_dict = {}\n",
    "for gene in p_genes_ordered:\n",
    "    contig = re.findall(r'[ph]contig[^.]*', gene)[0]\n",
    "    if not contig in gene_list_per_contig_dict.keys():\n",
    "        gene_list_per_contig_dict[contig] = [x for x in p_genes_ordered if contig in x]\n",
    "for gene in h_genes_ordered:\n",
    "    contig = re.findall(r'[ph]contig[^.]*', gene)[0]\n",
    "    if not contig in gene_list_per_contig_dict.keys():\n",
    "        gene_list_per_contig_dict[contig] = [x for x in h_genes_ordered if contig in x]"
   ]
  },
  {
   "cell_type": "code",
   "execution_count": 702,
   "metadata": {},
   "outputs": [
    {
     "data": {
      "text/plain": [
       "True"
      ]
     },
     "execution_count": 702,
     "metadata": {},
     "output_type": "execute_result"
    }
   ],
   "source": [
    "#quick check if we got all genes\n",
    "count = 0\n",
    "for x in gene_list_per_contig_dict.values():\n",
    "    count += len(x)\n",
    "count == (len(p_genes_ordered) + len(h_genes_ordered))"
   ]
  },
  {
   "cell_type": "code",
   "execution_count": 525,
   "metadata": {
    "collapsed": true
   },
   "outputs": [],
   "source": [
    "#get the index of all shg_genes in the ordered gene list\n",
    "ordered_gl_index_dict = {}\n",
    "#initiat the empty list for the dict\n",
    "for key in gene_list_per_contig_dict.keys():\n",
    "    ordered_gl_index_dict[key] = []\n",
    "#now populate those for the genes we have\n",
    "for y in shg:\n",
    "    contig = re.findall(r'[ph]contig[^.]*', y)[0]\n",
    "    #get the index of the gene specific for the contig\n",
    "    _index = gene_list_per_contig_dict[contig].index(y.replace('model', 'TU'))\n",
    "    #append it to the specfic contig list\n",
    "    ordered_gl_index_dict[contig].append(_index)\n",
    "        "
   ]
  },
  {
   "cell_type": "code",
   "execution_count": 529,
   "metadata": {
    "collapsed": true
   },
   "outputs": [],
   "source": [
    "have_neighbours = []\n",
    "for key in ordered_gl_index_dict.keys():\n",
    "    subset_gene_index_list = ordered_gl_index_dict[key]\n",
    "    for y in subset_gene_index_list:\n",
    "        if y+1 in subset_gene_index_list or y-1 in subset_gene_index_list:\n",
    "            have_neighbours.append(True)\n",
    "        else:\n",
    "            have_neighbours.append(False)\n",
    "    "
   ]
  },
  {
   "cell_type": "code",
   "execution_count": 531,
   "metadata": {
    "collapsed": true
   },
   "outputs": [],
   "source": [
    "#make this a function\n",
    "def does_have_neighbour(input_gene_list, gene_list_per_contig_dict=gene_list_per_contig_dict):\n",
    "    '''Return a list of True/False indicating if the respective element of the entry list has \n",
    "    a neighbour present in the same list.\n",
    "    It also requires a dictionary of the ordered gene list per contig.'''\n",
    "    #get the index of all shg_genes in the ordered gene list\n",
    "    ordered_gl_index_dict = {}\n",
    "    #initiat the empty list for the dict\n",
    "    for key in gene_list_per_contig_dict.keys():\n",
    "        ordered_gl_index_dict[key] = []\n",
    "    #now populate those for the genes we have, adding indexes of each in in the list per contig\n",
    "    for y in input_gene_list:\n",
    "        contig = re.findall(r'[ph]contig[^.]*', y)[0]\n",
    "        #get the index of the gene specific for the contig\n",
    "        _index = gene_list_per_contig_dict[contig].index(y.replace('model', 'TU'))\n",
    "        #append it to the specfic contig list\n",
    "        ordered_gl_index_dict[contig].append(_index)\n",
    "    have_neighbours = []\n",
    "    #now loop over the list dictonary and see if each list contains an index+-1\n",
    "    for key in ordered_gl_index_dict.keys():\n",
    "        subset_gene_index_list = ordered_gl_index_dict[key]\n",
    "        for y in subset_gene_index_list:\n",
    "            if y+1 in subset_gene_index_list or y-1 in subset_gene_index_list:\n",
    "                have_neighbours.append(True)\n",
    "            else:\n",
    "                have_neighbours.append(False)\n",
    "    return have_neighbours"
   ]
  },
  {
   "cell_type": "code",
   "execution_count": 802,
   "metadata": {},
   "outputs": [
    {
     "data": {
      "text/plain": [
       "1164"
      ]
     },
     "execution_count": 802,
     "metadata": {},
     "output_type": "execute_result"
    }
   ],
   "source": [
    "#number of shg genes with neighbours\n",
    "does_have_neighbour(shg).count(True)"
   ]
  },
  {
   "cell_type": "code",
   "execution_count": 803,
   "metadata": {},
   "outputs": [
    {
     "name": "stdout",
     "output_type": "stream",
     "text": [
      "196\n"
     ]
    },
    {
     "data": {
      "text/plain": [
       "(0.16838487972508592, 9.1736526674045284e-121)"
      ]
     },
     "execution_count": 803,
     "metadata": {},
     "output_type": "execute_result"
    }
   ],
   "source": [
    "#random subsampling of genes based on the obsereved numbers of \n",
    "#total genes and shg genes per contig\n",
    "random_gene_list = [p_genes_ordered[x] for x in np.random.choice(15928, 1346,replace=False)]\n",
    "for _index in np.random.choice(14321,160,replace=False):\n",
    "    random_gene_list.append(h_genes_ordered[_index])\n",
    "rand_neighbours = does_have_neighbour(random_gene_list).count(True)\n",
    "print(rand_neighbours)\n",
    "stats.fisher_exact([[rand_neighbours, 1506],[1164,1506]])"
   ]
  },
  {
   "cell_type": "code",
   "execution_count": 786,
   "metadata": {},
   "outputs": [],
   "source": [
    "from pybedtools import BedTool"
   ]
  },
  {
   "cell_type": "code",
   "execution_count": 771,
   "metadata": {
    "collapsed": true
   },
   "outputs": [],
   "source": [
    "def elements_with_overlap(gene_list, all_gene_bed_fn, feature_bed_fn):\n",
    "    \"\"\"The takes a list of genes/proteins and checks which of those overlap with\n",
    "    a feature in the feature bed.\n",
    "    Returns the number of elements with overlap and\n",
    "    number of tested overlaps.\"\"\"\n",
    "    from pybedtools import BedTool\n",
    "    tmp_gene_df = pd.read_csv(all_gene_bed_fn, header=None, sep='\\t')\n",
    "    #now subset the tmp_gene_df and save to file\n",
    "    tmp_fn = all_gene_bed_fn.replace('bed','bed_tmp')\n",
    "    #fix gene list\n",
    "    new_gene_list = []\n",
    "    for x in gene_list:\n",
    "        if 'model' in x:\n",
    "            new_gene_list.append(x.replace('model', 'TU'))\n",
    "        elif 'TU' in x:\n",
    "            new_gene_list.append(x)\n",
    "        \n",
    "    tmp_gene_df[tmp_gene_df[3].isin(new_gene_list)]\\\n",
    "                .to_csv(tmp_fn, header =None, sep='\\t', index=None)\n",
    "    tmp_gene_bed = BedTool(tmp_fn)\n",
    "    feature_bed = BedTool(feature_bed_fn)\n",
    "    tmp_bed = tmp_gene_bed.intersect(feature_bed,c=True)\n",
    "    total_querries = len(tmp_bed)\n",
    "    querries_w_overlap = tmp_bed.to_dataframe().iloc[:, -1].sum()\n",
    "    #n = 0\n",
    "    return querries_w_overlap, total_querries"
   ]
  },
  {
   "cell_type": "code",
   "execution_count": 772,
   "metadata": {
    "collapsed": true
   },
   "outputs": [],
   "source": [
    "##look how much overlap we got\n",
    "mapped_on_each_other_p_fn = os.path.join(ALLELE_PATH, '..','Pst_104E_v12_p_ctg.p_by_h_cov.gff')\n",
    "mapped_on_each_other_h_fn = os.path.join(ALLELE_PATH, '..','Pst_104E_v12_ph_ctg.p_on_h_cov.gff')\n",
    "p_gene_bed_fn = os.path.join(LIST_PATH, 'Pst_104E_v12_p_all.gene.bed')\n",
    "h_gene_bed_fn = os.path.join(LIST_PATH, 'Pst_104E_v12_h_all.gene.bed')"
   ]
  },
  {
   "cell_type": "code",
   "execution_count": 773,
   "metadata": {},
   "outputs": [],
   "source": [
    "p_w_overlap, ps = elements_with_overlap(shg, p_gene_bed_fn, mapped_on_each_other_p_fn)\n",
    "h_w_overlap, hs = elements_with_overlap(shg, h_gene_bed_fn, mapped_on_each_other_h_fn)"
   ]
  },
  {
   "cell_type": "code",
   "execution_count": 774,
   "metadata": {},
   "outputs": [
    {
     "name": "stdout",
     "output_type": "stream",
     "text": [
      "Out of 1506 shg 14 are have a corresponding associated contig overlap\n"
     ]
    }
   ],
   "source": [
    "print('Out of %i shg %i are have a corresponding associated contig overlap' \\\n",
    "      % (ps+hs, p_w_overlap+ h_w_overlap))"
   ]
  },
  {
   "cell_type": "code",
   "execution_count": 798,
   "metadata": {},
   "outputs": [
    {
     "name": "stdout",
     "output_type": "stream",
     "text": [
      "Out of 1506 random gene list 1225 are have a corresponding associated contig overlap\n"
     ]
    }
   ],
   "source": [
    "random_gene_list = [p_genes_ordered[x] for x in np.random.choice(15928, 1346, replace=False)]\n",
    "for _index in np.random.choice(14321,160, replace=False):\n",
    "    random_gene_list.append(h_genes_ordered[_index])\n",
    "p_w_overlap, ps = elements_with_overlap(random_gene_list, p_gene_bed_fn, mapped_on_each_other_p_fn)\n",
    "h_w_overlap, hs = elements_with_overlap(random_gene_list, h_gene_bed_fn, mapped_on_each_other_h_fn)\n",
    "print('Out of %i random gene list %i are have a corresponding associated contig overlap' \\\n",
    "      % (ps+hs, p_w_overlap+ h_w_overlap))"
   ]
  },
  {
   "cell_type": "code",
   "execution_count": 801,
   "metadata": {},
   "outputs": [
    {
     "data": {
      "text/plain": [
       "(87.5, 4.5616436800986692e-265)"
      ]
     },
     "execution_count": 801,
     "metadata": {},
     "output_type": "execute_result"
    }
   ],
   "source": [
    "stats.fisher_exact([[1225, 1506],[14,1506]])"
   ]
  },
  {
   "cell_type": "raw",
   "metadata": {},
   "source": [
    "##lazy old version\n",
    "#this is a dirty and quick way to check if genes are in regions that have and primary/hapltig overlap.\n",
    "intersect_list = []\n",
    "#this could also be written with pybedtools and -c flag which gives the cound of how often each\n",
    "#element in a has overlaped with b in the last column \n",
    "for y in shg:\n",
    "    gene = y.replace('model', 'TU')\n",
    "    if 'pcontig' in y:\n",
    "        mapped_on_each_other_fn = os.path.join(ALLELE_PATH, '..','Pst_104E_v12_p_ctg.p_by_h_cov.gff')\n",
    "        gene_list_fn = os.path.join(LIST_PATH, 'Pst_104E_v12_p_all.gene.bed')\n",
    "    elif 'hcontig' in y:\n",
    "        mapped_on_each_other_fn = os.path.join(ALLELE_PATH, '..','Pst_104E_v12_ph_ctg.p_on_h_cov.gff')\n",
    "        gene_list_fn = os.path.join(LIST_PATH, 'Pst_104E_v12_h_all.gene.bed')\n",
    "    a = !grep -w '{gene}' {gene_list_fn} | bedtools intersect -a - -b {mapped_on_each_other_fn}\n",
    "    intersect_list.append(a)\n",
    "print(intersect_list.count([]))"
   ]
  },
  {
   "cell_type": "markdown",
   "metadata": {},
   "source": [
    "Below we are looking a bit on how many hits the shg have in the NCBI and in the ensmble database"
   ]
  },
  {
   "cell_type": "code",
   "execution_count": 804,
   "metadata": {},
   "outputs": [
    {
     "name": "stdout",
     "output_type": "stream",
     "text": [
      "1420\n",
      "1424\n"
     ]
    }
   ],
   "source": [
    "ensemblhits = pd.read_csv(ensembl_blast, header=None, sep='\\t')[0].unique()\n",
    "ncbihits = pd.read_csv(ncbi_blast, header=None, sep='\\t')[0].unique()\n",
    "shg_db_hits = [x for x in ensemblhits]\n",
    "print(len(shg_db_hits ))\n",
    "for _id in ncbihits:\n",
    "    if _id.replace('TU', 'model') not in ensemblhits:\n",
    "        shg_db_hits.append(_id.replace('TU', 'model'))\n",
    "print(len(shg_db_hits))"
   ]
  },
  {
   "cell_type": "code",
   "execution_count": 805,
   "metadata": {},
   "outputs": [
    {
     "name": "stdout",
     "output_type": "stream",
     "text": [
      "82\n"
     ]
    }
   ],
   "source": [
    "#now get the no hits\n",
    "shg_db_nohits = [x for x in shg if x not in shg_db_hits]\n",
    "print(len(shg_db_nohits))"
   ]
  },
  {
   "cell_type": "code",
   "execution_count": 806,
   "metadata": {
    "collapsed": true
   },
   "outputs": [],
   "source": [
    "shg_db_nohits_len = [len(x.seq) for x in return_gene_fasta(shg_db_nohits, ph_gene_fasta)]"
   ]
  },
  {
   "cell_type": "code",
   "execution_count": 807,
   "metadata": {},
   "outputs": [
    {
     "name": "stdout",
     "output_type": "stream",
     "text": [
      "538.792682927 1538.62967371\n"
     ]
    },
    {
     "data": {
      "text/plain": [
       "9"
      ]
     },
     "execution_count": 807,
     "metadata": {},
     "output_type": "execute_result"
    }
   ],
   "source": [
    "print(np.mean(shg_db_nohits_len), np.mean(genome_len))\n",
    "len([x for x in p_gene_dict['EFFECTORS'] if x in shg_db_nohits])"
   ]
  },
  {
   "cell_type": "code",
   "execution_count": 808,
   "metadata": {},
   "outputs": [
    {
     "data": {
      "text/plain": [
       "Ttest_indResult(statistic=-5.1679241077747315, pvalue=2.3820671547152583e-07)"
      ]
     },
     "execution_count": 808,
     "metadata": {},
     "output_type": "execute_result"
    }
   ],
   "source": [
    "stats.ttest_ind(shg_db_nohits_len, genome_len)"
   ]
  },
  {
   "cell_type": "code",
   "execution_count": 809,
   "metadata": {},
   "outputs": [
    {
     "name": "stdout",
     "output_type": "stream",
     "text": [
      "472.0 1196.0\n"
     ]
    }
   ],
   "source": [
    "print(np.median(shg_db_nohits_len), np.median(genome_len))"
   ]
  },
  {
   "cell_type": "code",
   "execution_count": 810,
   "metadata": {},
   "outputs": [
    {
     "name": "stdout",
     "output_type": "stream",
     "text": [
      "10\n"
     ]
    }
   ],
   "source": [
    "#how many are effectors\n",
    "print(len([x for x in p_gene_dict['EFFECTORS'] if x in shg_db_nohits]) +\\\n",
    "     len([x for x in h_gene_dict['EFFECTORS'] if x in shg_db_nohits]))\n"
   ]
  },
  {
   "cell_type": "code",
   "execution_count": 811,
   "metadata": {},
   "outputs": [
    {
     "name": "stdout",
     "output_type": "stream",
     "text": [
      "10\n"
     ]
    }
   ],
   "source": [
    "#sectreted\n",
    "print(len([x for x in p_gene_dict['SIGNALP3'] if x in shg_db_nohits]) +\\\n",
    "     len([x for x in h_gene_dict['SIGNALP3'] if x in shg_db_nohits]))"
   ]
  },
  {
   "cell_type": "code",
   "execution_count": 812,
   "metadata": {},
   "outputs": [
    {
     "name": "stdout",
     "output_type": "stream",
     "text": [
      "0\n"
     ]
    }
   ],
   "source": [
    "#haustoria\n",
    "print(len([x for x in p_gene_dict['HAUSTORIA'] if x in shg_db_nohits]) +\\\n",
    "     len([x for x in h_gene_dict['HAUSTORIA'] if x in shg_db_nohits]))"
   ]
  },
  {
   "cell_type": "code",
   "execution_count": 813,
   "metadata": {
    "collapsed": true
   },
   "outputs": [],
   "source": [
    "#quickly check for expression\n",
    "expression = []\n",
    "for x  in shg_db_nohits:\n",
    "    p_counttable = '/home/benjamin/genome_assembly/PST79/FALCON/p_assemblies/v9_1/Pst_104E_v12/expression_analysis/TSRM/Pst_104E_v12_p_ctg/stringtie/Pst_104E_v12_p_ctg.in_house_IDParent.STAR.featureCounts.txt'\n",
    "    h_counttable = '/home/benjamin/genome_assembly/PST79/FALCON/p_assemblies/v9_1/Pst_104E_v12/expression_analysis/TSRM/Pst_104E_v12_h_ctg/stringtie/Pst_104E_v12_h_ctg.in_house.STAR.featureCounts.txt'\n",
    "    gene_name = x #.replace(\"model\", \"TU\")\n",
    "    if 'pcontig' in x:\n",
    "        hit = !grep -w '{gene_name}' {p_counttable}\n",
    "        expression.append(hit)\n",
    "    if 'hcontig' in x:\n",
    "        hit = !grep -w '{gene_name}' {h_counttable}\n",
    "        expression.append(hit)"
   ]
  },
  {
   "cell_type": "code",
   "execution_count": 814,
   "metadata": {
    "collapsed": true
   },
   "outputs": [],
   "source": [
    "#make an expression dict were the read counts are a list with each position representig count\n",
    "#mapped reads under one condition\n",
    "shg_db_nohits_exp_dict = {}\n",
    "for x in expression:\n",
    "    gene = x[0].split('\\t')[0]\n",
    "    shg_db_nohits_exp_dict[gene] = x[0].split('\\t')[-18:]"
   ]
  },
  {
   "cell_type": "code",
   "execution_count": 815,
   "metadata": {},
   "outputs": [
    {
     "data": {
      "text/plain": [
       "27"
      ]
     },
     "execution_count": 815,
     "metadata": {},
     "output_type": "execute_result"
    }
   ],
   "source": [
    "#check if the expression (count of aligned fragments in sum) is > 100\n",
    "len([x for x in shg_db_nohits_exp_dict.keys() \\\n",
    "     if np.sum([int(y) for y in shg_db_nohits_exp_dict[x]]) > 100])"
   ]
  },
  {
   "cell_type": "code",
   "execution_count": 816,
   "metadata": {},
   "outputs": [
    {
     "data": {
      "text/plain": [
       "7"
      ]
     },
     "execution_count": 816,
     "metadata": {},
     "output_type": "execute_result"
    }
   ],
   "source": [
    "#check if those are effectors\n",
    "len([x for x in shg_db_nohits_exp_dict.keys() \\\n",
    "     if (np.sum([int(y) for y in shg_db_nohits_exp_dict[x]]) > 100)\\\n",
    "     and (x in p_gene_dict['EFFECTORS'] or x in h_gene_dict['EFFECTORS'])])"
   ]
  },
  {
   "cell_type": "markdown",
   "metadata": {},
   "source": [
    "prepare for paml codeml analysis\n",
    "* write out protein sequences and cds sequences for each pair to new folder\n",
    "* write bash script for alignment and codeml\n",
    "* make pmal cnt file in same folder and tree file"
   ]
  },
  {
   "cell_type": "code",
   "execution_count": 817,
   "metadata": {
    "collapsed": true
   },
   "outputs": [],
   "source": [
    "PAML_PATH = os.path.join(OUT_PATH, 'paml')\n",
    "if not os.path.exists(PAML_PATH):\n",
    "    os.mkdir(PAML_PATH)"
   ]
  },
  {
   "cell_type": "code",
   "execution_count": null,
   "metadata": {
    "collapsed": true
   },
   "outputs": [],
   "source": [
    "count = 0\n",
    "with open(os.path.join(PAML_PATH, 'paml_script.sh'), 'a') as aln_fh:\n",
    "        print('#!/bin/bash', file=aln_fh)\n",
    "for index, row in allele_df.iterrows():\n",
    "    #make new folder\n",
    "    _tmp_allele_path = os.path.join(PAML_PATH, '%s_%s' % (row[0],row[1]))\n",
    "    if not os.path.exists(_tmp_allele_path):\n",
    "        os.mkdir(os.path.join(PAML_PATH, '%s_%s' % (row[0],row[1])))\n",
    "    _tmp_cds_list = return_gene_fasta_paml([row[0], row[1]], ph_cds_fasta)\n",
    "    _tmp_protein_list = return_gene_fasta([row[0], row[1]], ph_protein_fasta)\n",
    "    with open(os.path.join(_tmp_allele_path, 'protein.fa'),'w') as p_fh:\n",
    "        SeqIO.write(_tmp_protein_list, p_fh, 'fasta')\n",
    "    with open(os.path.join(_tmp_allele_path, 'cds.fa'),'w') as p_fh:\n",
    "        SeqIO.write(_tmp_cds_list, p_fh, 'fasta')\n",
    "    #now write tree file\n",
    "    with open(os.path.join(_tmp_allele_path, 'tree.tree'), 'w') as tree_fh:\n",
    "        print('(%s, %s);' % (_tmp_protein_list[0].id, _tmp_protein_list[1].id), file=tree_fh)\n",
    "    #now write alignment bash alignment script\n",
    "    with open(os.path.join(PAML_PATH, 'paml_script.sh'), 'a') as aln_fh:\n",
    "        print('cd %s' % _tmp_allele_path, file=aln_fh)\n",
    "        print('muscle -clwstrict -in protein.fa -out protein.aln', file=aln_fh)\n",
    "        print('perl ../pal2nal.pl -output paml protein.aln cds.fa > cds_codon.aln', file=aln_fh)\n",
    "        print('perl ../pal2nal.pl protein.aln cds.fa > cds_codon.clustal', file=aln_fh)\n",
    "        print('cp %s/codeml.ctl ./' % PAML_PATH, file=aln_fh )\n",
    "        print('codeml', file=aln_fh)\n",
    "    #to test briefly\n",
    "    count +=1\n",
    "    #if count >3:\n",
    "       # break\n",
    "stderr = !bash {os.path.join(PAML_PATH, 'paml_script.sh')} "
   ]
  },
  {
   "cell_type": "code",
   "execution_count": 818,
   "metadata": {},
   "outputs": [
    {
     "data": {
      "text/plain": [
       "947007"
      ]
     },
     "execution_count": 818,
     "metadata": {},
     "output_type": "execute_result"
    }
   ],
   "source": [
    "len(stderr)"
   ]
  },
  {
   "cell_type": "code",
   "execution_count": null,
   "metadata": {},
   "outputs": [],
   "source": [
    "#now pull in the dN/dS ratios\n",
    "allele_df['dN/dS'] = np.nan\n",
    "allele_df['protein_hamming'] = np.nan\n",
    "allele_df['cds_hamming'] = np.nan\n",
    "allele_df['protein_levenshtein'] = np.nan\n",
    "allele_df['cds_levenshtein'] = np.nan\n",
    "for index, row in allele_df.iterrows():\n",
    "    tmp_codmel = os.path.join(PAML_PATH, '%s_%s' % (row[0],row[1]),'codeml.out')\n",
    "    tmp_protein_aln = os.path.join(PAML_PATH, '%s_%s' % (row[0],row[1]),'protein.aln')\n",
    "    #now open the file an pull out the dN/dS ratio\n",
    "    with open(tmp_codmel, 'r') as fn:\n",
    "        for line in fn:\n",
    "            if line.startswith('t='):\n",
    "                #print(re.findall(r'dN/dS=(.*)dN', line))\n",
    "                dNdS = re.findall(r'dN/dS=(.*)dN', line)[0].replace(' ','')\n",
    "                #print(line)\n",
    "                #print(dNdS)\n",
    "                allele_df.loc[index, 'dN/dS'] = dNdS\n",
    "    #now get the distance of an alignment\n",
    "    #protein first\n",
    "    seq_list = []\n",
    "    for x in AlignIO.read(open(tmp_protein_aln, 'r'), format = \"clustal\", seq_count=2):\n",
    "        seq_list.append(str(x.seq))\n",
    "    allele_df.loc[index, 'protein_hamming'] = distance.hamming(seq_list[0], seq_list[1])\n",
    "    allele_df.loc[index, 'protein_levenshtein'] \\\n",
    "    = distance.levenshtein(seq_list[0], seq_list[1])\n",
    "    #from the clustal alignment alignment done one th\n",
    "    tmp_cds_aln = os.path.join(PAML_PATH, '%s_%s' % (row[0],row[1]),'cds_codon.clustal')\n",
    "    seq_list = []\n",
    "    for x in AlignIO.read(open(tmp_cds_aln, 'r'), format = \"clustal\", seq_count=2):\n",
    "        seq_list.append(str(x.seq))\n",
    "    allele_df.loc[index, 'cds_hamming'] = distance.hamming(seq_list[0], seq_list[1], normalized=True)\n",
    "    allele_df.loc[index, 'cds_levenshtein'] \\\n",
    "    = distance.levenshtein(seq_list[0], seq_list[1])"
   ]
  },
  {
   "cell_type": "code",
   "execution_count": 844,
   "metadata": {},
   "outputs": [],
   "source": [
    "#fix stuff up where codeml doesn't seem to have worked\n",
    "for index in allele_df[allele_df['dN/dS'] == 'NaN'].index:\n",
    "    tmp_path = os.path.join(PAML_PATH, '%s_%s' % \\\n",
    "                            (allele_df.iloc[index,0],allele_df.iloc[index,1]))\n",
    "    os.chdir(tmp_path)\n",
    "    _n = !codeml\n",
    "    tmp_codmel = os.path.join(PAML_PATH, '%s_%s' % \\\n",
    "                            (allele_df.iloc[index,0],allele_df.iloc[index,1]), 'codeml.out')\n",
    "    with open(tmp_codmel, 'r') as fn:\n",
    "        for line in fn:\n",
    "            if line.startswith('t='):\n",
    "                #print(re.findall(r'dN/dS=(.*)dN', line))\n",
    "                dNdS = re.findall(r'dN/dS=(.*)dN', line)[0].replace(' ','')\n",
    "                #print(line)\n",
    "                #print(dNdS)\n",
    "                allele_df.loc[index, 'dN/dS'] = dNdS\n",
    "allele_df['dN/dS'] = pd.to_numeric(allele_df['dN/dS'])"
   ]
  },
  {
   "cell_type": "code",
   "execution_count": null,
   "metadata": {
    "collapsed": true
   },
   "outputs": [],
   "source": [
    "#save the fixed up dataframe to file\n",
    "allele_df_fn = shg_fh = os.path.join(OUT_PATH, 'Pst_104E_v12_p_ctg.all.alleles.df')\n",
    "allele_df.to_csv(allele_df_fn, sep='\\t', index=None)"
   ]
  },
  {
   "cell_type": "code",
   "execution_count": null,
   "metadata": {
    "collapsed": true
   },
   "outputs": [],
   "source": [
    "allele_df.head()"
   ]
  },
  {
   "cell_type": "code",
   "execution_count": 867,
   "metadata": {
    "collapsed": true
   },
   "outputs": [],
   "source": [
    "#do some quick stats on the dN/dS comparing BUSCOS vs. effectors"
   ]
  },
  {
   "cell_type": "code",
   "execution_count": 887,
   "metadata": {},
   "outputs": [],
   "source": [
    "allele_hit_df = allele_blast_df[allele_blast_df.link.isin(allele_df['link'])]\\\n",
    "        .sort_values(['link', 'PctID']).drop_duplicates('link').copy()"
   ]
  },
  {
   "cell_type": "code",
   "execution_count": 894,
   "metadata": {},
   "outputs": [],
   "source": [
    "allele_hit_df = pd.merge(allele_hit_df,allele_df.loc[:,\\\n",
    "            ['link', 'dN/dS', 'protein_hamming','cds_hamming', 'protein_levenshtein',\\\n",
    "            'cds_levenshtein']], on='link')"
   ]
  },
  {
   "cell_type": "code",
   "execution_count": 888,
   "metadata": {},
   "outputs": [
    {
     "data": {
      "text/plain": [
       "1214"
      ]
     },
     "execution_count": 888,
     "metadata": {},
     "output_type": "execute_result"
    }
   ],
   "source": [
    "allele_hit_df.to_csv(os.path.join(OUT_PATH, 'Pst_104E_v12_p_ctg.all.alleles.hit.df')\\\n",
    "                     , index=None, sep='\\t')"
   ]
  },
  {
   "cell_type": "code",
   "execution_count": 896,
   "metadata": {},
   "outputs": [
    {
     "data": {
      "text/plain": [
       "<matplotlib.collections.PathCollection at 0x7f8bad6cabe0>"
      ]
     },
     "execution_count": 896,
     "metadata": {},
     "output_type": "execute_result"
    },
    {
     "data": {
      "image/png": "[encoded data removed]",
      "text/plain": [
       "<matplotlib.figure.Figure at 0x7f8bc350c710>"
      ]
     },
     "metadata": {},
     "output_type": "display_data"
    }
   ],
   "source": [
    "df = allele_hit_df[allele_hit_df.Query.isin(p_gene_dict['EFFECTORS']) &\\\n",
    "                   (allele_hit_df['dN/dS'] < 20)]\n",
    "plt.scatter(x = df['PctID'],\\\n",
    "            y = df['dN/dS'])"
   ]
  },
  {
   "cell_type": "code",
   "execution_count": 873,
   "metadata": {},
   "outputs": [
    {
     "data": {
      "text/plain": [
       "<matplotlib.axes._subplots.AxesSubplot at 0x7f8bc37ff6a0>"
      ]
     },
     "execution_count": 873,
     "metadata": {},
     "output_type": "execute_result"
    },
    {
     "data": {
      "image/png": "[encoded data removed]",
      "text/plain": [
       "<matplotlib.figure.Figure at 0x7f8bc1dc1668>"
      ]
     },
     "metadata": {},
     "output_type": "display_data"
    }
   ],
   "source": [
    "allele_df[allele_df.p_gene.isin(p_gene_dict['EFFECTORS'])]['dN/dS'].plot(kind='hist')"
   ]
  },
  {
   "cell_type": "code",
   "execution_count": 872,
   "metadata": {},
   "outputs": [
    {
     "data": {
      "text/plain": [
       "<matplotlib.axes._subplots.AxesSubplot at 0x7f8bd06803c8>"
      ]
     },
     "execution_count": 872,
     "metadata": {},
     "output_type": "execute_result"
    },
    {
     "data": {
      "image/png": "[encoded data removed]",
      "text/plain": [
       "<matplotlib.figure.Figure at 0x7f8bc1d16b38>"
      ]
     },
     "metadata": {},
     "output_type": "display_data"
    }
   ],
   "source": [
    "allele_df[allele_df.p_gene.isin(p_gene_dict['BUSCOS'])]['dN/dS'].plot(kind='hist')"
   ]
  },
  {
   "cell_type": "code",
   "execution_count": 859,
   "metadata": {},
   "outputs": [
    {
     "data": {
      "text/plain": [
       "0.1547"
      ]
     },
     "execution_count": 859,
     "metadata": {},
     "output_type": "execute_result"
    }
   ],
   "source": [
    "allele_df[allele_df.p_gene.isin(p_gene_dict['BUSCOS'])]['dN/dS'].median()"
   ]
  },
  {
   "cell_type": "code",
   "execution_count": 864,
   "metadata": {},
   "outputs": [
    {
     "data": {
      "text/plain": [
       "RanksumsResult(statistic=14.41804971623862, pvalue=3.9844305105448087e-47)"
      ]
     },
     "execution_count": 864,
     "metadata": {},
     "output_type": "execute_result"
    }
   ],
   "source": [
    "stats.ranksums(allele_df[allele_df.p_gene.isin(p_gene_dict['EFFECTORS'])]['dN/dS'].tolist()\\\n",
    "               ,allele_df[allele_df.p_gene.isin(p_gene_dict['BUSCOS'])]['dN/dS'].tolist())"
   ]
  },
  {
   "cell_type": "markdown",
   "metadata": {},
   "source": [
    "Now pick a couple of the non_respective_haplotype alignements and get sequencing data for those to make a plot"
   ]
  },
  {
   "cell_type": "code",
   "execution_count": 311,
   "metadata": {
    "collapsed": true
   },
   "outputs": [],
   "source": [
    "no_respective_alleles_fn = os.path.join(ALLELE_PATH, 'Pst_104E_v12_p_ctg.no_respective_h_contig_overlap.alleles')\n",
    "contig_fa_fn = os.path.join(BASE_A_PATH, 'Pst_104E_v12_ph_ctg.fa')\n",
    "gene_fa_fn = os.path.join(BASE_A_PATH, 'Pst_104E_v12_ph_ctg.anno.gene.fa')\n",
    "OUT_PATH_NO_RES = os.path.join(OUT_PATH, 'no_respect_fasta')\n",
    "if not os.path.exists(OUT_PATH_NO_RES):\n",
    "    os.mkdir(OUT_PATH_NO_RES)"
   ]
  },
  {
   "cell_type": "code",
   "execution_count": 174,
   "metadata": {
    "collapsed": true
   },
   "outputs": [],
   "source": [
    "no_respective_alleles_df = pd.read_csv(no_respective_alleles_fn, sep='\\t', header=None, names=['pgene', 'hgene'])"
   ]
  },
  {
   "cell_type": "code",
   "execution_count": 188,
   "metadata": {},
   "outputs": [
    {
     "name": "stderr",
     "output_type": "stream",
     "text": [
      "/home/benjamin/anaconda3/lib/python3.5/site-packages/ipykernel_launcher.py:1: FutureWarning: currently extract(expand=None) means expand=False (return Index/Series/DataFrame) but in a future version of pandas this will be changed to expand=True (return DataFrame)\n",
      "  \"\"\"Entry point for launching an IPython kernel.\n",
      "/home/benjamin/anaconda3/lib/python3.5/site-packages/ipykernel_launcher.py:2: FutureWarning: currently extract(expand=None) means expand=False (return Index/Series/DataFrame) but in a future version of pandas this will be changed to expand=True (return DataFrame)\n",
      "  \n"
     ]
    }
   ],
   "source": [
    "#get the contig genes are on\n",
    "no_respective_alleles_df['pcontig'] = no_respective_alleles_df.pgene.str.extract(r'(p[^.]*)')\n",
    "no_respective_alleles_df['hcontig'] = no_respective_alleles_df.hgene.str.extract(r'(h[^.]*)')"
   ]
  },
  {
   "cell_type": "code",
   "execution_count": 290,
   "metadata": {
    "collapsed": true
   },
   "outputs": [],
   "source": [
    "#prepare for filtering on most hit contigs. First by a group by function\n",
    "no_ra_linkage_count_df = no_respective_alleles_df.groupby(['pcontig','hcontig'])['pgene'].count()\n",
    "no_ra_linkage_count_max = no_respective_alleles_df.groupby(['pcontig','hcontig'])['pgene']\\\n",
    "            .count().max(level=0)"
   ]
  },
  {
   "cell_type": "code",
   "execution_count": 291,
   "metadata": {
    "collapsed": true
   },
   "outputs": [],
   "source": [
    "no_ra_linkage_count_df = no_ra_linkage_count_df.unstack()"
   ]
  },
  {
   "cell_type": "code",
   "execution_count": 299,
   "metadata": {
    "collapsed": true
   },
   "outputs": [],
   "source": [
    "p_contig_list = []\n",
    "most_linked_hcontig = []\n",
    "number_of_hits = []\n",
    "for _index, row in no_ra_linkage_count_df.iterrows():\n",
    "    if row.max() > 2:\n",
    "        p_contig_list.append(_index)\n",
    "        most_linked_hcontig.append(row[row==no_ra_linkage_count_max[_index]].index.tolist()[0])\n",
    "        number_of_hits.append(row[row==no_ra_linkage_count_max[_index]].max())\n",
    "        #print('primary contig %s and %s overlaps %i' %\\\n",
    "              #(_index, row[row==no_ra_linkage_count_max[_index]].index.tolist()[0],row[row==no_ra_linkage_count_max[_index]].max() ))"
   ]
  },
  {
   "cell_type": "code",
   "execution_count": 300,
   "metadata": {
    "collapsed": true
   },
   "outputs": [],
   "source": [
    "most_linked_non_ra_alleles_df = pd.concat([pd.Series(p_contig_list)\\\n",
    "                            , pd.Series(most_linked_hcontig), pd.Series(number_of_hits)], axis=1)"
   ]
  },
  {
   "cell_type": "code",
   "execution_count": 301,
   "metadata": {
    "collapsed": true
   },
   "outputs": [],
   "source": [
    "most_linked_non_ra_alleles_df.rename(columns={0:'pcontig', 1:'hcontig', 2:'number_of_overlaps'}, inplace=True)"
   ]
  },
  {
   "cell_type": "code",
   "execution_count": 317,
   "metadata": {
    "collapsed": true
   },
   "outputs": [],
   "source": [
    "#now loop over the best hit dataframe to get all the fasta sequences of the repective alleles\n",
    "\n",
    "for _index, row in most_linked_non_ra_alleles_df.iterrows():\n",
    "    tmp_p_contig = row['pcontig']\n",
    "    tmp_h_contig = row['hcontig']\n",
    "    h_genes = no_respective_alleles_df[(no_respective_alleles_df.pcontig==tmp_p_contig)&\\\n",
    "                                      (no_respective_alleles_df.hcontig==tmp_h_contig)]\\\n",
    "                                        ['hgene'].unique()\n",
    "    p_genes = no_respective_alleles_df[(no_respective_alleles_df.pcontig==tmp_p_contig)&\\\n",
    "                                      (no_respective_alleles_df.hcontig==tmp_h_contig)]\\\n",
    "                                        ['pgene'].unique()\n",
    "    #get the h_gene and p_gene sequenes\n",
    "    h_gene_seq = return_gene_fasta(h_genes, gene_fa_fn)\n",
    "    p_gene_seq = return_gene_fasta(p_genes, gene_fa_fn)\n",
    "    with open(os.path.join(OUT_PATH_NO_RES, 'no_res_allele_%s_pgene.fa' %tmp_p_contig), 'w') as fh:\n",
    "        SeqIO.write(p_gene_seq, fh, 'fasta')\n",
    "    with open(os.path.join(OUT_PATH_NO_RES, 'no_res_allele_%s_hgene.fa' %tmp_p_contig), 'w') as fh:\n",
    "        SeqIO.write(h_gene_seq, fh, 'fasta')\n",
    "    #get the contig sequences\n",
    "    p_contig_seq = return_contig_fasta([tmp_p_contig], contig_fa_fn)\n",
    "    h_contig_seq = return_contig_fasta([tmp_h_contig], contig_fa_fn)\n",
    "    with open(os.path.join(OUT_PATH_NO_RES, 'no_res_allele_%s_pcontig.fa' %tmp_p_contig), 'w') as fh:\n",
    "        SeqIO.write(p_contig_seq, fh, 'fasta')\n",
    "    with open(os.path.join(OUT_PATH_NO_RES, 'no_res_allele_%s_hcontig.fa' %tmp_p_contig), 'w') as fh:\n",
    "        SeqIO.write(h_contig_seq, fh, 'fasta')\n",
    "\n",
    "    \n",
    "    "
   ]
  },
  {
   "cell_type": "code",
   "execution_count": 334,
   "metadata": {},
   "outputs": [
    {
     "name": "stdout",
     "output_type": "stream",
     "text": [
      "1: PREPARING DATA\n",
      "2,3: RUNNING mummer AND CREATING CLUSTERS\n",
      "# reading input file \"/home/benjamin/genome_assembly/PST79/FALCON/p_assemblies/v9_1/Pst_104E_v12/post_allele_analysis/proteinortho_graph516_QC_Qcov80_PctID70_evalue01/no_respect_fasta/no_res_allele_pcontig_042_pcontig.ntref\" of length 784539\n",
      "# construct suffix tree for sequence of length 784539\n",
      "# (maximum reference length is 536870908)\n",
      "# (maximum query length is 4294967295)\n",
      "# process 7845 characters per dot\n",
      "#....................................................................................................\n",
      "# CONSTRUCTIONTIME /usr/bin/mummer /home/benjamin/genome_assembly/PST79/FALCON/p_assemblies/v9_1/Pst_104E_v12/post_allele_analysis/proteinortho_graph516_QC_Qcov80_PctID70_evalue01/no_respect_fasta/no_res_allele_pcontig_042_pcontig.ntref 0.19\n",
      "# reading input file \"/home/benjamin/genome_assembly/PST79/FALCON/p_assemblies/v9_1/Pst_104E_v12/post_allele_analysis/proteinortho_graph516_QC_Qcov80_PctID70_evalue01/no_respect_fasta/no_res_allele_pcontig_042_hcontig.fa\" of length 294830\n",
      "# matching query-file \"/home/benjamin/genome_assembly/PST79/FALCON/p_assemblies/v9_1/Pst_104E_v12/post_allele_analysis/proteinortho_graph516_QC_Qcov80_PctID70_evalue01/no_respect_fasta/no_res_allele_pcontig_042_hcontig.fa\"\n",
      "# against subject-file \"/home/benjamin/genome_assembly/PST79/FALCON/p_assemblies/v9_1/Pst_104E_v12/post_allele_analysis/proteinortho_graph516_QC_Qcov80_PctID70_evalue01/no_respect_fasta/no_res_allele_pcontig_042_pcontig.ntref\"\n",
      "# COMPLETETIME /usr/bin/mummer /home/benjamin/genome_assembly/PST79/FALCON/p_assemblies/v9_1/Pst_104E_v12/post_allele_analysis/proteinortho_graph516_QC_Qcov80_PctID70_evalue01/no_respect_fasta/no_res_allele_pcontig_042_pcontig.ntref 0.33\n",
      "# SPACE /usr/bin/mummer /home/benjamin/genome_assembly/PST79/FALCON/p_assemblies/v9_1/Pst_104E_v12/post_allele_analysis/proteinortho_graph516_QC_Qcov80_PctID70_evalue01/no_respect_fasta/no_res_allele_pcontig_042_pcontig.ntref 1.05\n",
      "4: FINISHING DATA\n",
      "gnuplot 4.6 patchlevel 6\n",
      "Reading delta file /home/benjamin/genome_assembly/PST79/FALCON/p_assemblies/v9_1/Pst_104E_v12/post_allele_analysis/proteinortho_graph516_QC_Qcov80_PctID70_evalue01/no_respect_fasta/no_res_allele_pcontig_042_pcontig.filter\n",
      "Writing plot files /home/benjamin/genome_assembly/PST79/FALCON/p_assemblies/v9_1/Pst_104E_v12/post_allele_analysis/proteinortho_graph516_QC_Qcov80_PctID70_evalue01/no_respect_fasta/no_res_allele_pcontig_042_pcontig.fplot, /home/benjamin/genome_assembly/PST79/FALCON/p_assemblies/v9_1/Pst_104E_v12/post_allele_analysis/proteinortho_graph516_QC_Qcov80_PctID70_evalue01/no_respect_fasta/no_res_allele_pcontig_042_pcontig.rplot\n",
      "Writing gnuplot script /home/benjamin/genome_assembly/PST79/FALCON/p_assemblies/v9_1/Pst_104E_v12/post_allele_analysis/proteinortho_graph516_QC_Qcov80_PctID70_evalue01/no_respect_fasta/no_res_allele_pcontig_042_pcontig.gp\n",
      "Rendering plot /home/benjamin/genome_assembly/PST79/FALCON/p_assemblies/v9_1/Pst_104E_v12/post_allele_analysis/proteinortho_graph516_QC_Qcov80_PctID70_evalue01/no_respect_fasta/no_res_allele_pcontig_042_pcontig.ps\n",
      "1: PREPARING DATA\n",
      "2,3: RUNNING mummer AND CREATING CLUSTERS\n",
      "# reading input file \"/home/benjamin/genome_assembly/PST79/FALCON/p_assemblies/v9_1/Pst_104E_v12/post_allele_analysis/proteinortho_graph516_QC_Qcov80_PctID70_evalue01/no_respect_fasta/no_res_allele_pcontig_086_pcontig.ntref\" of length 273675\n",
      "# construct suffix tree for sequence of length 273675\n",
      "# (maximum reference length is 536870908)\n",
      "# (maximum query length is 4294967295)\n",
      "# process 2736 characters per dot\n",
      "#....................................................................................................\n",
      "# CONSTRUCTIONTIME /usr/bin/mummer /home/benjamin/genome_assembly/PST79/FALCON/p_assemblies/v9_1/Pst_104E_v12/post_allele_analysis/proteinortho_graph516_QC_Qcov80_PctID70_evalue01/no_respect_fasta/no_res_allele_pcontig_086_pcontig.ntref 0.05\n",
      "# reading input file \"/home/benjamin/genome_assembly/PST79/FALCON/p_assemblies/v9_1/Pst_104E_v12/post_allele_analysis/proteinortho_graph516_QC_Qcov80_PctID70_evalue01/no_respect_fasta/no_res_allele_pcontig_086_hcontig.fa\" of length 28088\n",
      "# matching query-file \"/home/benjamin/genome_assembly/PST79/FALCON/p_assemblies/v9_1/Pst_104E_v12/post_allele_analysis/proteinortho_graph516_QC_Qcov80_PctID70_evalue01/no_respect_fasta/no_res_allele_pcontig_086_hcontig.fa\"\n",
      "# against subject-file \"/home/benjamin/genome_assembly/PST79/FALCON/p_assemblies/v9_1/Pst_104E_v12/post_allele_analysis/proteinortho_graph516_QC_Qcov80_PctID70_evalue01/no_respect_fasta/no_res_allele_pcontig_086_pcontig.ntref\"\n",
      "# COMPLETETIME /usr/bin/mummer /home/benjamin/genome_assembly/PST79/FALCON/p_assemblies/v9_1/Pst_104E_v12/post_allele_analysis/proteinortho_graph516_QC_Qcov80_PctID70_evalue01/no_respect_fasta/no_res_allele_pcontig_086_pcontig.ntref 0.06\n",
      "# SPACE /usr/bin/mummer /home/benjamin/genome_assembly/PST79/FALCON/p_assemblies/v9_1/Pst_104E_v12/post_allele_analysis/proteinortho_graph516_QC_Qcov80_PctID70_evalue01/no_respect_fasta/no_res_allele_pcontig_086_pcontig.ntref 0.29\n",
      "4: FINISHING DATA\n",
      "gnuplot 4.6 patchlevel 6\n",
      "Reading delta file /home/benjamin/genome_assembly/PST79/FALCON/p_assemblies/v9_1/Pst_104E_v12/post_allele_analysis/proteinortho_graph516_QC_Qcov80_PctID70_evalue01/no_respect_fasta/no_res_allele_pcontig_086_pcontig.filter\n",
      "Writing plot files /home/benjamin/genome_assembly/PST79/FALCON/p_assemblies/v9_1/Pst_104E_v12/post_allele_analysis/proteinortho_graph516_QC_Qcov80_PctID70_evalue01/no_respect_fasta/no_res_allele_pcontig_086_pcontig.fplot, /home/benjamin/genome_assembly/PST79/FALCON/p_assemblies/v9_1/Pst_104E_v12/post_allele_analysis/proteinortho_graph516_QC_Qcov80_PctID70_evalue01/no_respect_fasta/no_res_allele_pcontig_086_pcontig.rplot\n",
      "Writing gnuplot script /home/benjamin/genome_assembly/PST79/FALCON/p_assemblies/v9_1/Pst_104E_v12/post_allele_analysis/proteinortho_graph516_QC_Qcov80_PctID70_evalue01/no_respect_fasta/no_res_allele_pcontig_086_pcontig.gp\n",
      "Rendering plot /home/benjamin/genome_assembly/PST79/FALCON/p_assemblies/v9_1/Pst_104E_v12/post_allele_analysis/proteinortho_graph516_QC_Qcov80_PctID70_evalue01/no_respect_fasta/no_res_allele_pcontig_086_pcontig.ps\n",
      "1: PREPARING DATA\n",
      "2,3: RUNNING mummer AND CREATING CLUSTERS\n",
      "# reading input file \"/home/benjamin/genome_assembly/PST79/FALCON/p_assemblies/v9_1/Pst_104E_v12/post_allele_analysis/proteinortho_graph516_QC_Qcov80_PctID70_evalue01/no_respect_fasta/no_res_allele_pcontig_040_pcontig.ntref\" of length 867731\n",
      "# construct suffix tree for sequence of length 867731\n",
      "# (maximum reference length is 536870908)\n",
      "# (maximum query length is 4294967295)\n",
      "# process 8677 characters per dot\n",
      "#....................................................................................................\n",
      "# CONSTRUCTIONTIME /usr/bin/mummer /home/benjamin/genome_assembly/PST79/FALCON/p_assemblies/v9_1/Pst_104E_v12/post_allele_analysis/proteinortho_graph516_QC_Qcov80_PctID70_evalue01/no_respect_fasta/no_res_allele_pcontig_040_pcontig.ntref 0.23\n",
      "# reading input file \"/home/benjamin/genome_assembly/PST79/FALCON/p_assemblies/v9_1/Pst_104E_v12/post_allele_analysis/proteinortho_graph516_QC_Qcov80_PctID70_evalue01/no_respect_fasta/no_res_allele_pcontig_040_hcontig.fa\" of length 28702\n",
      "# matching query-file \"/home/benjamin/genome_assembly/PST79/FALCON/p_assemblies/v9_1/Pst_104E_v12/post_allele_analysis/proteinortho_graph516_QC_Qcov80_PctID70_evalue01/no_respect_fasta/no_res_allele_pcontig_040_hcontig.fa\"\n",
      "# against subject-file \"/home/benjamin/genome_assembly/PST79/FALCON/p_assemblies/v9_1/Pst_104E_v12/post_allele_analysis/proteinortho_graph516_QC_Qcov80_PctID70_evalue01/no_respect_fasta/no_res_allele_pcontig_040_pcontig.ntref\"\n",
      "# COMPLETETIME /usr/bin/mummer /home/benjamin/genome_assembly/PST79/FALCON/p_assemblies/v9_1/Pst_104E_v12/post_allele_analysis/proteinortho_graph516_QC_Qcov80_PctID70_evalue01/no_respect_fasta/no_res_allele_pcontig_040_pcontig.ntref 0.24\n",
      "# SPACE /usr/bin/mummer /home/benjamin/genome_assembly/PST79/FALCON/p_assemblies/v9_1/Pst_104E_v12/post_allele_analysis/proteinortho_graph516_QC_Qcov80_PctID70_evalue01/no_respect_fasta/no_res_allele_pcontig_040_pcontig.ntref 0.87\n",
      "4: FINISHING DATA\n",
      "gnuplot 4.6 patchlevel 6\n",
      "Reading delta file /home/benjamin/genome_assembly/PST79/FALCON/p_assemblies/v9_1/Pst_104E_v12/post_allele_analysis/proteinortho_graph516_QC_Qcov80_PctID70_evalue01/no_respect_fasta/no_res_allele_pcontig_040_pcontig.filter\n",
      "Writing plot files /home/benjamin/genome_assembly/PST79/FALCON/p_assemblies/v9_1/Pst_104E_v12/post_allele_analysis/proteinortho_graph516_QC_Qcov80_PctID70_evalue01/no_respect_fasta/no_res_allele_pcontig_040_pcontig.fplot, /home/benjamin/genome_assembly/PST79/FALCON/p_assemblies/v9_1/Pst_104E_v12/post_allele_analysis/proteinortho_graph516_QC_Qcov80_PctID70_evalue01/no_respect_fasta/no_res_allele_pcontig_040_pcontig.rplot\n",
      "Writing gnuplot script /home/benjamin/genome_assembly/PST79/FALCON/p_assemblies/v9_1/Pst_104E_v12/post_allele_analysis/proteinortho_graph516_QC_Qcov80_PctID70_evalue01/no_respect_fasta/no_res_allele_pcontig_040_pcontig.gp\n",
      "Rendering plot /home/benjamin/genome_assembly/PST79/FALCON/p_assemblies/v9_1/Pst_104E_v12/post_allele_analysis/proteinortho_graph516_QC_Qcov80_PctID70_evalue01/no_respect_fasta/no_res_allele_pcontig_040_pcontig.ps\n"
     ]
    },
    {
     "name": "stdout",
     "output_type": "stream",
     "text": [
      "1: PREPARING DATA\n",
      "2,3: RUNNING mummer AND CREATING CLUSTERS\n",
      "# reading input file \"/home/benjamin/genome_assembly/PST79/FALCON/p_assemblies/v9_1/Pst_104E_v12/post_allele_analysis/proteinortho_graph516_QC_Qcov80_PctID70_evalue01/no_respect_fasta/no_res_allele_pcontig_087_pcontig.ntref\" of length 279113\n",
      "# construct suffix tree for sequence of length 279113\n",
      "# (maximum reference length is 536870908)\n",
      "# (maximum query length is 4294967295)\n",
      "# process 2791 characters per dot\n",
      "#....................................................................................................\n",
      "# CONSTRUCTIONTIME /usr/bin/mummer /home/benjamin/genome_assembly/PST79/FALCON/p_assemblies/v9_1/Pst_104E_v12/post_allele_analysis/proteinortho_graph516_QC_Qcov80_PctID70_evalue01/no_respect_fasta/no_res_allele_pcontig_087_pcontig.ntref 0.05\n",
      "# reading input file \"/home/benjamin/genome_assembly/PST79/FALCON/p_assemblies/v9_1/Pst_104E_v12/post_allele_analysis/proteinortho_graph516_QC_Qcov80_PctID70_evalue01/no_respect_fasta/no_res_allele_pcontig_087_hcontig.fa\" of length 178748\n",
      "# matching query-file \"/home/benjamin/genome_assembly/PST79/FALCON/p_assemblies/v9_1/Pst_104E_v12/post_allele_analysis/proteinortho_graph516_QC_Qcov80_PctID70_evalue01/no_respect_fasta/no_res_allele_pcontig_087_hcontig.fa\"\n",
      "# against subject-file \"/home/benjamin/genome_assembly/PST79/FALCON/p_assemblies/v9_1/Pst_104E_v12/post_allele_analysis/proteinortho_graph516_QC_Qcov80_PctID70_evalue01/no_respect_fasta/no_res_allele_pcontig_087_pcontig.ntref\"\n",
      "# COMPLETETIME /usr/bin/mummer /home/benjamin/genome_assembly/PST79/FALCON/p_assemblies/v9_1/Pst_104E_v12/post_allele_analysis/proteinortho_graph516_QC_Qcov80_PctID70_evalue01/no_respect_fasta/no_res_allele_pcontig_087_pcontig.ntref 0.11\n",
      "# SPACE /usr/bin/mummer /home/benjamin/genome_assembly/PST79/FALCON/p_assemblies/v9_1/Pst_104E_v12/post_allele_analysis/proteinortho_graph516_QC_Qcov80_PctID70_evalue01/no_respect_fasta/no_res_allele_pcontig_087_pcontig.ntref 0.44\n",
      "4: FINISHING DATA\n",
      "gnuplot 4.6 patchlevel 6\n",
      "Reading delta file /home/benjamin/genome_assembly/PST79/FALCON/p_assemblies/v9_1/Pst_104E_v12/post_allele_analysis/proteinortho_graph516_QC_Qcov80_PctID70_evalue01/no_respect_fasta/no_res_allele_pcontig_087_pcontig.filter\n",
      "Writing plot files /home/benjamin/genome_assembly/PST79/FALCON/p_assemblies/v9_1/Pst_104E_v12/post_allele_analysis/proteinortho_graph516_QC_Qcov80_PctID70_evalue01/no_respect_fasta/no_res_allele_pcontig_087_pcontig.fplot, /home/benjamin/genome_assembly/PST79/FALCON/p_assemblies/v9_1/Pst_104E_v12/post_allele_analysis/proteinortho_graph516_QC_Qcov80_PctID70_evalue01/no_respect_fasta/no_res_allele_pcontig_087_pcontig.rplot\n",
      "Writing gnuplot script /home/benjamin/genome_assembly/PST79/FALCON/p_assemblies/v9_1/Pst_104E_v12/post_allele_analysis/proteinortho_graph516_QC_Qcov80_PctID70_evalue01/no_respect_fasta/no_res_allele_pcontig_087_pcontig.gp\n",
      "Rendering plot /home/benjamin/genome_assembly/PST79/FALCON/p_assemblies/v9_1/Pst_104E_v12/post_allele_analysis/proteinortho_graph516_QC_Qcov80_PctID70_evalue01/no_respect_fasta/no_res_allele_pcontig_087_pcontig.ps\n",
      "1: PREPARING DATA\n",
      "2,3: RUNNING mummer AND CREATING CLUSTERS\n",
      "# reading input file \"/home/benjamin/genome_assembly/PST79/FALCON/p_assemblies/v9_1/Pst_104E_v12/post_allele_analysis/proteinortho_graph516_QC_Qcov80_PctID70_evalue01/no_respect_fasta/no_res_allele_pcontig_032_pcontig.ntref\" of length 59757\n",
      "# construct suffix tree for sequence of length 59757\n",
      "# (maximum reference length is 536870908)\n",
      "# (maximum query length is 4294967295)\n",
      "# CONSTRUCTIONTIME /usr/bin/mummer /home/benjamin/genome_assembly/PST79/FALCON/p_assemblies/v9_1/Pst_104E_v12/post_allele_analysis/proteinortho_graph516_QC_Qcov80_PctID70_evalue01/no_respect_fasta/no_res_allele_pcontig_032_pcontig.ntref 0.01\n",
      "# reading input file \"/home/benjamin/genome_assembly/PST79/FALCON/p_assemblies/v9_1/Pst_104E_v12/post_allele_analysis/proteinortho_graph516_QC_Qcov80_PctID70_evalue01/no_respect_fasta/no_res_allele_pcontig_032_hcontig.fa\" of length 1070746\n",
      "# matching query-file \"/home/benjamin/genome_assembly/PST79/FALCON/p_assemblies/v9_1/Pst_104E_v12/post_allele_analysis/proteinortho_graph516_QC_Qcov80_PctID70_evalue01/no_respect_fasta/no_res_allele_pcontig_032_hcontig.fa\"\n",
      "# against subject-file \"/home/benjamin/genome_assembly/PST79/FALCON/p_assemblies/v9_1/Pst_104E_v12/post_allele_analysis/proteinortho_graph516_QC_Qcov80_PctID70_evalue01/no_respect_fasta/no_res_allele_pcontig_032_pcontig.ntref\"\n",
      "# COMPLETETIME /usr/bin/mummer /home/benjamin/genome_assembly/PST79/FALCON/p_assemblies/v9_1/Pst_104E_v12/post_allele_analysis/proteinortho_graph516_QC_Qcov80_PctID70_evalue01/no_respect_fasta/no_res_allele_pcontig_032_pcontig.ntref 0.32\n",
      "# SPACE /usr/bin/mummer /home/benjamin/genome_assembly/PST79/FALCON/p_assemblies/v9_1/Pst_104E_v12/post_allele_analysis/proteinortho_graph516_QC_Qcov80_PctID70_evalue01/no_respect_fasta/no_res_allele_pcontig_032_pcontig.ntref 1.10\n",
      "4: FINISHING DATA\n",
      "gnuplot 4.6 patchlevel 6\n",
      "Reading delta file /home/benjamin/genome_assembly/PST79/FALCON/p_assemblies/v9_1/Pst_104E_v12/post_allele_analysis/proteinortho_graph516_QC_Qcov80_PctID70_evalue01/no_respect_fasta/no_res_allele_pcontig_032_pcontig.filter\n",
      "Writing plot files /home/benjamin/genome_assembly/PST79/FALCON/p_assemblies/v9_1/Pst_104E_v12/post_allele_analysis/proteinortho_graph516_QC_Qcov80_PctID70_evalue01/no_respect_fasta/no_res_allele_pcontig_032_pcontig.fplot, /home/benjamin/genome_assembly/PST79/FALCON/p_assemblies/v9_1/Pst_104E_v12/post_allele_analysis/proteinortho_graph516_QC_Qcov80_PctID70_evalue01/no_respect_fasta/no_res_allele_pcontig_032_pcontig.rplot\n",
      "Writing gnuplot script /home/benjamin/genome_assembly/PST79/FALCON/p_assemblies/v9_1/Pst_104E_v12/post_allele_analysis/proteinortho_graph516_QC_Qcov80_PctID70_evalue01/no_respect_fasta/no_res_allele_pcontig_032_pcontig.gp\n",
      "Rendering plot /home/benjamin/genome_assembly/PST79/FALCON/p_assemblies/v9_1/Pst_104E_v12/post_allele_analysis/proteinortho_graph516_QC_Qcov80_PctID70_evalue01/no_respect_fasta/no_res_allele_pcontig_032_pcontig.ps\n",
      "1: PREPARING DATA\n",
      "2,3: RUNNING mummer AND CREATING CLUSTERS\n",
      "# reading input file \"/home/benjamin/genome_assembly/PST79/FALCON/p_assemblies/v9_1/Pst_104E_v12/post_allele_analysis/proteinortho_graph516_QC_Qcov80_PctID70_evalue01/no_respect_fasta/no_res_allele_pcontig_091_pcontig.ntref\" of length 218693\n",
      "# construct suffix tree for sequence of length 218693\n",
      "# (maximum reference length is 536870908)\n",
      "# (maximum query length is 4294967295)\n",
      "# process 2186 characters per dot\n",
      "#....................................................................................................\n",
      "# CONSTRUCTIONTIME /usr/bin/mummer /home/benjamin/genome_assembly/PST79/FALCON/p_assemblies/v9_1/Pst_104E_v12/post_allele_analysis/proteinortho_graph516_QC_Qcov80_PctID70_evalue01/no_respect_fasta/no_res_allele_pcontig_091_pcontig.ntref 0.04\n",
      "# reading input file \"/home/benjamin/genome_assembly/PST79/FALCON/p_assemblies/v9_1/Pst_104E_v12/post_allele_analysis/proteinortho_graph516_QC_Qcov80_PctID70_evalue01/no_respect_fasta/no_res_allele_pcontig_091_hcontig.fa\" of length 515892\n",
      "# matching query-file \"/home/benjamin/genome_assembly/PST79/FALCON/p_assemblies/v9_1/Pst_104E_v12/post_allele_analysis/proteinortho_graph516_QC_Qcov80_PctID70_evalue01/no_respect_fasta/no_res_allele_pcontig_091_hcontig.fa\"\n",
      "# against subject-file \"/home/benjamin/genome_assembly/PST79/FALCON/p_assemblies/v9_1/Pst_104E_v12/post_allele_analysis/proteinortho_graph516_QC_Qcov80_PctID70_evalue01/no_respect_fasta/no_res_allele_pcontig_091_pcontig.ntref\"\n",
      "# COMPLETETIME /usr/bin/mummer /home/benjamin/genome_assembly/PST79/FALCON/p_assemblies/v9_1/Pst_104E_v12/post_allele_analysis/proteinortho_graph516_QC_Qcov80_PctID70_evalue01/no_respect_fasta/no_res_allele_pcontig_091_pcontig.ntref 0.23\n",
      "# SPACE /usr/bin/mummer /home/benjamin/genome_assembly/PST79/FALCON/p_assemblies/v9_1/Pst_104E_v12/post_allele_analysis/proteinortho_graph516_QC_Qcov80_PctID70_evalue01/no_respect_fasta/no_res_allele_pcontig_091_pcontig.ntref 0.71\n",
      "4: FINISHING DATA\n",
      "gnuplot 4.6 patchlevel 6\n",
      "Reading delta file /home/benjamin/genome_assembly/PST79/FALCON/p_assemblies/v9_1/Pst_104E_v12/post_allele_analysis/proteinortho_graph516_QC_Qcov80_PctID70_evalue01/no_respect_fasta/no_res_allele_pcontig_091_pcontig.filter\n",
      "Writing plot files /home/benjamin/genome_assembly/PST79/FALCON/p_assemblies/v9_1/Pst_104E_v12/post_allele_analysis/proteinortho_graph516_QC_Qcov80_PctID70_evalue01/no_respect_fasta/no_res_allele_pcontig_091_pcontig.fplot, /home/benjamin/genome_assembly/PST79/FALCON/p_assemblies/v9_1/Pst_104E_v12/post_allele_analysis/proteinortho_graph516_QC_Qcov80_PctID70_evalue01/no_respect_fasta/no_res_allele_pcontig_091_pcontig.rplot\n",
      "Writing gnuplot script /home/benjamin/genome_assembly/PST79/FALCON/p_assemblies/v9_1/Pst_104E_v12/post_allele_analysis/proteinortho_graph516_QC_Qcov80_PctID70_evalue01/no_respect_fasta/no_res_allele_pcontig_091_pcontig.gp\n",
      "Rendering plot /home/benjamin/genome_assembly/PST79/FALCON/p_assemblies/v9_1/Pst_104E_v12/post_allele_analysis/proteinortho_graph516_QC_Qcov80_PctID70_evalue01/no_respect_fasta/no_res_allele_pcontig_091_pcontig.ps\n"
     ]
    },
    {
     "name": "stdout",
     "output_type": "stream",
     "text": [
      "1: PREPARING DATA\n",
      "2,3: RUNNING mummer AND CREATING CLUSTERS\n",
      "# reading input file \"/home/benjamin/genome_assembly/PST79/FALCON/p_assemblies/v9_1/Pst_104E_v12/post_allele_analysis/proteinortho_graph516_QC_Qcov80_PctID70_evalue01/no_respect_fasta/no_res_allele_pcontig_029_pcontig.ntref\" of length 1216509\n",
      "# construct suffix tree for sequence of length 1216509\n",
      "# (maximum reference length is 536870908)\n",
      "# (maximum query length is 4294967295)\n",
      "# process 12165 characters per dot\n",
      "#....................................................................................................\n",
      "# CONSTRUCTIONTIME /usr/bin/mummer /home/benjamin/genome_assembly/PST79/FALCON/p_assemblies/v9_1/Pst_104E_v12/post_allele_analysis/proteinortho_graph516_QC_Qcov80_PctID70_evalue01/no_respect_fasta/no_res_allele_pcontig_029_pcontig.ntref 0.40\n",
      "# reading input file \"/home/benjamin/genome_assembly/PST79/FALCON/p_assemblies/v9_1/Pst_104E_v12/post_allele_analysis/proteinortho_graph516_QC_Qcov80_PctID70_evalue01/no_respect_fasta/no_res_allele_pcontig_029_hcontig.fa\" of length 579389\n",
      "# matching query-file \"/home/benjamin/genome_assembly/PST79/FALCON/p_assemblies/v9_1/Pst_104E_v12/post_allele_analysis/proteinortho_graph516_QC_Qcov80_PctID70_evalue01/no_respect_fasta/no_res_allele_pcontig_029_hcontig.fa\"\n",
      "# against subject-file \"/home/benjamin/genome_assembly/PST79/FALCON/p_assemblies/v9_1/Pst_104E_v12/post_allele_analysis/proteinortho_graph516_QC_Qcov80_PctID70_evalue01/no_respect_fasta/no_res_allele_pcontig_029_pcontig.ntref\"\n",
      "# COMPLETETIME /usr/bin/mummer /home/benjamin/genome_assembly/PST79/FALCON/p_assemblies/v9_1/Pst_104E_v12/post_allele_analysis/proteinortho_graph516_QC_Qcov80_PctID70_evalue01/no_respect_fasta/no_res_allele_pcontig_029_pcontig.ntref 0.76\n",
      "# SPACE /usr/bin/mummer /home/benjamin/genome_assembly/PST79/FALCON/p_assemblies/v9_1/Pst_104E_v12/post_allele_analysis/proteinortho_graph516_QC_Qcov80_PctID70_evalue01/no_respect_fasta/no_res_allele_pcontig_029_pcontig.ntref 1.74\n",
      "4: FINISHING DATA\n",
      "gnuplot 4.6 patchlevel 6\n",
      "Reading delta file /home/benjamin/genome_assembly/PST79/FALCON/p_assemblies/v9_1/Pst_104E_v12/post_allele_analysis/proteinortho_graph516_QC_Qcov80_PctID70_evalue01/no_respect_fasta/no_res_allele_pcontig_029_pcontig.filter\n",
      "Writing plot files /home/benjamin/genome_assembly/PST79/FALCON/p_assemblies/v9_1/Pst_104E_v12/post_allele_analysis/proteinortho_graph516_QC_Qcov80_PctID70_evalue01/no_respect_fasta/no_res_allele_pcontig_029_pcontig.fplot, /home/benjamin/genome_assembly/PST79/FALCON/p_assemblies/v9_1/Pst_104E_v12/post_allele_analysis/proteinortho_graph516_QC_Qcov80_PctID70_evalue01/no_respect_fasta/no_res_allele_pcontig_029_pcontig.rplot\n",
      "Writing gnuplot script /home/benjamin/genome_assembly/PST79/FALCON/p_assemblies/v9_1/Pst_104E_v12/post_allele_analysis/proteinortho_graph516_QC_Qcov80_PctID70_evalue01/no_respect_fasta/no_res_allele_pcontig_029_pcontig.gp\n",
      "Rendering plot /home/benjamin/genome_assembly/PST79/FALCON/p_assemblies/v9_1/Pst_104E_v12/post_allele_analysis/proteinortho_graph516_QC_Qcov80_PctID70_evalue01/no_respect_fasta/no_res_allele_pcontig_029_pcontig.ps\n",
      "1: PREPARING DATA\n",
      "2,3: RUNNING mummer AND CREATING CLUSTERS\n",
      "# reading input file \"/home/benjamin/genome_assembly/PST79/FALCON/p_assemblies/v9_1/Pst_104E_v12/post_allele_analysis/proteinortho_graph516_QC_Qcov80_PctID70_evalue01/no_respect_fasta/no_res_allele_pcontig_104_pcontig.ntref\" of length 155502\n",
      "# construct suffix tree for sequence of length 155502\n",
      "# (maximum reference length is 536870908)\n",
      "# (maximum query length is 4294967295)\n",
      "# process 1555 characters per dot\n",
      "#....................................................................................................\n",
      "# CONSTRUCTIONTIME /usr/bin/mummer /home/benjamin/genome_assembly/PST79/FALCON/p_assemblies/v9_1/Pst_104E_v12/post_allele_analysis/proteinortho_graph516_QC_Qcov80_PctID70_evalue01/no_respect_fasta/no_res_allele_pcontig_104_pcontig.ntref 0.03\n",
      "# reading input file \"/home/benjamin/genome_assembly/PST79/FALCON/p_assemblies/v9_1/Pst_104E_v12/post_allele_analysis/proteinortho_graph516_QC_Qcov80_PctID70_evalue01/no_respect_fasta/no_res_allele_pcontig_104_hcontig.fa\" of length 768922\n",
      "# matching query-file \"/home/benjamin/genome_assembly/PST79/FALCON/p_assemblies/v9_1/Pst_104E_v12/post_allele_analysis/proteinortho_graph516_QC_Qcov80_PctID70_evalue01/no_respect_fasta/no_res_allele_pcontig_104_hcontig.fa\"\n",
      "# against subject-file \"/home/benjamin/genome_assembly/PST79/FALCON/p_assemblies/v9_1/Pst_104E_v12/post_allele_analysis/proteinortho_graph516_QC_Qcov80_PctID70_evalue01/no_respect_fasta/no_res_allele_pcontig_104_pcontig.ntref\"\n",
      "# COMPLETETIME /usr/bin/mummer /home/benjamin/genome_assembly/PST79/FALCON/p_assemblies/v9_1/Pst_104E_v12/post_allele_analysis/proteinortho_graph516_QC_Qcov80_PctID70_evalue01/no_respect_fasta/no_res_allele_pcontig_104_pcontig.ntref 0.31\n",
      "# SPACE /usr/bin/mummer /home/benjamin/genome_assembly/PST79/FALCON/p_assemblies/v9_1/Pst_104E_v12/post_allele_analysis/proteinortho_graph516_QC_Qcov80_PctID70_evalue01/no_respect_fasta/no_res_allele_pcontig_104_pcontig.ntref 0.90\n",
      "4: FINISHING DATA\n",
      "gnuplot 4.6 patchlevel 6\n",
      "Reading delta file /home/benjamin/genome_assembly/PST79/FALCON/p_assemblies/v9_1/Pst_104E_v12/post_allele_analysis/proteinortho_graph516_QC_Qcov80_PctID70_evalue01/no_respect_fasta/no_res_allele_pcontig_104_pcontig.filter\n",
      "Writing plot files /home/benjamin/genome_assembly/PST79/FALCON/p_assemblies/v9_1/Pst_104E_v12/post_allele_analysis/proteinortho_graph516_QC_Qcov80_PctID70_evalue01/no_respect_fasta/no_res_allele_pcontig_104_pcontig.fplot, /home/benjamin/genome_assembly/PST79/FALCON/p_assemblies/v9_1/Pst_104E_v12/post_allele_analysis/proteinortho_graph516_QC_Qcov80_PctID70_evalue01/no_respect_fasta/no_res_allele_pcontig_104_pcontig.rplot\n",
      "Writing gnuplot script /home/benjamin/genome_assembly/PST79/FALCON/p_assemblies/v9_1/Pst_104E_v12/post_allele_analysis/proteinortho_graph516_QC_Qcov80_PctID70_evalue01/no_respect_fasta/no_res_allele_pcontig_104_pcontig.gp\n",
      "Rendering plot /home/benjamin/genome_assembly/PST79/FALCON/p_assemblies/v9_1/Pst_104E_v12/post_allele_analysis/proteinortho_graph516_QC_Qcov80_PctID70_evalue01/no_respect_fasta/no_res_allele_pcontig_104_pcontig.ps\n",
      "1: PREPARING DATA\n",
      "2,3: RUNNING mummer AND CREATING CLUSTERS\n",
      "# reading input file \"/home/benjamin/genome_assembly/PST79/FALCON/p_assemblies/v9_1/Pst_104E_v12/post_allele_analysis/proteinortho_graph516_QC_Qcov80_PctID70_evalue01/no_respect_fasta/no_res_allele_pcontig_170_pcontig.ntref\" of length 52391\n",
      "# construct suffix tree for sequence of length 52391\n",
      "# (maximum reference length is 536870908)\n",
      "# (maximum query length is 4294967295)\n",
      "# CONSTRUCTIONTIME /usr/bin/mummer /home/benjamin/genome_assembly/PST79/FALCON/p_assemblies/v9_1/Pst_104E_v12/post_allele_analysis/proteinortho_graph516_QC_Qcov80_PctID70_evalue01/no_respect_fasta/no_res_allele_pcontig_170_pcontig.ntref 0.01\n",
      "# reading input file \"/home/benjamin/genome_assembly/PST79/FALCON/p_assemblies/v9_1/Pst_104E_v12/post_allele_analysis/proteinortho_graph516_QC_Qcov80_PctID70_evalue01/no_respect_fasta/no_res_allele_pcontig_170_hcontig.fa\" of length 90266\n",
      "# matching query-file \"/home/benjamin/genome_assembly/PST79/FALCON/p_assemblies/v9_1/Pst_104E_v12/post_allele_analysis/proteinortho_graph516_QC_Qcov80_PctID70_evalue01/no_respect_fasta/no_res_allele_pcontig_170_hcontig.fa\"\n",
      "# against subject-file \"/home/benjamin/genome_assembly/PST79/FALCON/p_assemblies/v9_1/Pst_104E_v12/post_allele_analysis/proteinortho_graph516_QC_Qcov80_PctID70_evalue01/no_respect_fasta/no_res_allele_pcontig_170_pcontig.ntref\"\n",
      "# COMPLETETIME /usr/bin/mummer /home/benjamin/genome_assembly/PST79/FALCON/p_assemblies/v9_1/Pst_104E_v12/post_allele_analysis/proteinortho_graph516_QC_Qcov80_PctID70_evalue01/no_respect_fasta/no_res_allele_pcontig_170_pcontig.ntref 0.03\n",
      "# SPACE /usr/bin/mummer /home/benjamin/genome_assembly/PST79/FALCON/p_assemblies/v9_1/Pst_104E_v12/post_allele_analysis/proteinortho_graph516_QC_Qcov80_PctID70_evalue01/no_respect_fasta/no_res_allele_pcontig_170_pcontig.ntref 0.14\n",
      "4: FINISHING DATA\n",
      "gnuplot 4.6 patchlevel 6\n",
      "Reading delta file /home/benjamin/genome_assembly/PST79/FALCON/p_assemblies/v9_1/Pst_104E_v12/post_allele_analysis/proteinortho_graph516_QC_Qcov80_PctID70_evalue01/no_respect_fasta/no_res_allele_pcontig_170_pcontig.filter\n",
      "Writing plot files /home/benjamin/genome_assembly/PST79/FALCON/p_assemblies/v9_1/Pst_104E_v12/post_allele_analysis/proteinortho_graph516_QC_Qcov80_PctID70_evalue01/no_respect_fasta/no_res_allele_pcontig_170_pcontig.fplot, /home/benjamin/genome_assembly/PST79/FALCON/p_assemblies/v9_1/Pst_104E_v12/post_allele_analysis/proteinortho_graph516_QC_Qcov80_PctID70_evalue01/no_respect_fasta/no_res_allele_pcontig_170_pcontig.rplot\n",
      "Writing gnuplot script /home/benjamin/genome_assembly/PST79/FALCON/p_assemblies/v9_1/Pst_104E_v12/post_allele_analysis/proteinortho_graph516_QC_Qcov80_PctID70_evalue01/no_respect_fasta/no_res_allele_pcontig_170_pcontig.gp\n",
      "Rendering plot /home/benjamin/genome_assembly/PST79/FALCON/p_assemblies/v9_1/Pst_104E_v12/post_allele_analysis/proteinortho_graph516_QC_Qcov80_PctID70_evalue01/no_respect_fasta/no_res_allele_pcontig_170_pcontig.ps\n"
     ]
    },
    {
     "name": "stdout",
     "output_type": "stream",
     "text": [
      "1: PREPARING DATA\n",
      "2,3: RUNNING mummer AND CREATING CLUSTERS\n",
      "# reading input file \"/home/benjamin/genome_assembly/PST79/FALCON/p_assemblies/v9_1/Pst_104E_v12/post_allele_analysis/proteinortho_graph516_QC_Qcov80_PctID70_evalue01/no_respect_fasta/no_res_allele_pcontig_021_pcontig.ntref\" of length 1422848\n",
      "# construct suffix tree for sequence of length 1422848\n",
      "# (maximum reference length is 536870908)\n",
      "# (maximum query length is 4294967295)\n",
      "# process 14228 characters per dot\n",
      "#....................................................................................................\n",
      "# CONSTRUCTIONTIME /usr/bin/mummer /home/benjamin/genome_assembly/PST79/FALCON/p_assemblies/v9_1/Pst_104E_v12/post_allele_analysis/proteinortho_graph516_QC_Qcov80_PctID70_evalue01/no_respect_fasta/no_res_allele_pcontig_021_pcontig.ntref 0.51\n",
      "# reading input file \"/home/benjamin/genome_assembly/PST79/FALCON/p_assemblies/v9_1/Pst_104E_v12/post_allele_analysis/proteinortho_graph516_QC_Qcov80_PctID70_evalue01/no_respect_fasta/no_res_allele_pcontig_021_hcontig.fa\" of length 2066231\n",
      "# matching query-file \"/home/benjamin/genome_assembly/PST79/FALCON/p_assemblies/v9_1/Pst_104E_v12/post_allele_analysis/proteinortho_graph516_QC_Qcov80_PctID70_evalue01/no_respect_fasta/no_res_allele_pcontig_021_hcontig.fa\"\n",
      "# against subject-file \"/home/benjamin/genome_assembly/PST79/FALCON/p_assemblies/v9_1/Pst_104E_v12/post_allele_analysis/proteinortho_graph516_QC_Qcov80_PctID70_evalue01/no_respect_fasta/no_res_allele_pcontig_021_pcontig.ntref\"\n",
      "# COMPLETETIME /usr/bin/mummer /home/benjamin/genome_assembly/PST79/FALCON/p_assemblies/v9_1/Pst_104E_v12/post_allele_analysis/proteinortho_graph516_QC_Qcov80_PctID70_evalue01/no_respect_fasta/no_res_allele_pcontig_021_pcontig.ntref 2.04\n",
      "# SPACE /usr/bin/mummer /home/benjamin/genome_assembly/PST79/FALCON/p_assemblies/v9_1/Pst_104E_v12/post_allele_analysis/proteinortho_graph516_QC_Qcov80_PctID70_evalue01/no_respect_fasta/no_res_allele_pcontig_021_pcontig.ntref 3.38\n",
      "4: FINISHING DATA\n",
      "gnuplot 4.6 patchlevel 6\n",
      "Reading delta file /home/benjamin/genome_assembly/PST79/FALCON/p_assemblies/v9_1/Pst_104E_v12/post_allele_analysis/proteinortho_graph516_QC_Qcov80_PctID70_evalue01/no_respect_fasta/no_res_allele_pcontig_021_pcontig.filter\n",
      "Writing plot files /home/benjamin/genome_assembly/PST79/FALCON/p_assemblies/v9_1/Pst_104E_v12/post_allele_analysis/proteinortho_graph516_QC_Qcov80_PctID70_evalue01/no_respect_fasta/no_res_allele_pcontig_021_pcontig.fplot, /home/benjamin/genome_assembly/PST79/FALCON/p_assemblies/v9_1/Pst_104E_v12/post_allele_analysis/proteinortho_graph516_QC_Qcov80_PctID70_evalue01/no_respect_fasta/no_res_allele_pcontig_021_pcontig.rplot\n",
      "Writing gnuplot script /home/benjamin/genome_assembly/PST79/FALCON/p_assemblies/v9_1/Pst_104E_v12/post_allele_analysis/proteinortho_graph516_QC_Qcov80_PctID70_evalue01/no_respect_fasta/no_res_allele_pcontig_021_pcontig.gp\n",
      "Rendering plot /home/benjamin/genome_assembly/PST79/FALCON/p_assemblies/v9_1/Pst_104E_v12/post_allele_analysis/proteinortho_graph516_QC_Qcov80_PctID70_evalue01/no_respect_fasta/no_res_allele_pcontig_021_pcontig.ps\n",
      "1: PREPARING DATA\n",
      "2,3: RUNNING mummer AND CREATING CLUSTERS\n",
      "# reading input file \"/home/benjamin/genome_assembly/PST79/FALCON/p_assemblies/v9_1/Pst_104E_v12/post_allele_analysis/proteinortho_graph516_QC_Qcov80_PctID70_evalue01/no_respect_fasta/no_res_allele_pcontig_013_pcontig.ntref\" of length 1628569\n",
      "# construct suffix tree for sequence of length 1628569\n",
      "# (maximum reference length is 536870908)\n",
      "# (maximum query length is 4294967295)\n",
      "# process 16285 characters per dot\n",
      "#....................................................................................................\n",
      "# CONSTRUCTIONTIME /usr/bin/mummer /home/benjamin/genome_assembly/PST79/FALCON/p_assemblies/v9_1/Pst_104E_v12/post_allele_analysis/proteinortho_graph516_QC_Qcov80_PctID70_evalue01/no_respect_fasta/no_res_allele_pcontig_013_pcontig.ntref 0.75\n",
      "# reading input file \"/home/benjamin/genome_assembly/PST79/FALCON/p_assemblies/v9_1/Pst_104E_v12/post_allele_analysis/proteinortho_graph516_QC_Qcov80_PctID70_evalue01/no_respect_fasta/no_res_allele_pcontig_013_hcontig.fa\" of length 294830\n",
      "# matching query-file \"/home/benjamin/genome_assembly/PST79/FALCON/p_assemblies/v9_1/Pst_104E_v12/post_allele_analysis/proteinortho_graph516_QC_Qcov80_PctID70_evalue01/no_respect_fasta/no_res_allele_pcontig_013_hcontig.fa\"\n",
      "# against subject-file \"/home/benjamin/genome_assembly/PST79/FALCON/p_assemblies/v9_1/Pst_104E_v12/post_allele_analysis/proteinortho_graph516_QC_Qcov80_PctID70_evalue01/no_respect_fasta/no_res_allele_pcontig_013_pcontig.ntref\"\n",
      "# COMPLETETIME /usr/bin/mummer /home/benjamin/genome_assembly/PST79/FALCON/p_assemblies/v9_1/Pst_104E_v12/post_allele_analysis/proteinortho_graph516_QC_Qcov80_PctID70_evalue01/no_respect_fasta/no_res_allele_pcontig_013_pcontig.ntref 1.00\n",
      "# SPACE /usr/bin/mummer /home/benjamin/genome_assembly/PST79/FALCON/p_assemblies/v9_1/Pst_104E_v12/post_allele_analysis/proteinortho_graph516_QC_Qcov80_PctID70_evalue01/no_respect_fasta/no_res_allele_pcontig_013_pcontig.ntref 1.87\n",
      "4: FINISHING DATA\n",
      "gnuplot 4.6 patchlevel 6\n",
      "Reading delta file /home/benjamin/genome_assembly/PST79/FALCON/p_assemblies/v9_1/Pst_104E_v12/post_allele_analysis/proteinortho_graph516_QC_Qcov80_PctID70_evalue01/no_respect_fasta/no_res_allele_pcontig_013_pcontig.filter\n",
      "Writing plot files /home/benjamin/genome_assembly/PST79/FALCON/p_assemblies/v9_1/Pst_104E_v12/post_allele_analysis/proteinortho_graph516_QC_Qcov80_PctID70_evalue01/no_respect_fasta/no_res_allele_pcontig_013_pcontig.fplot, /home/benjamin/genome_assembly/PST79/FALCON/p_assemblies/v9_1/Pst_104E_v12/post_allele_analysis/proteinortho_graph516_QC_Qcov80_PctID70_evalue01/no_respect_fasta/no_res_allele_pcontig_013_pcontig.rplot\n",
      "Writing gnuplot script /home/benjamin/genome_assembly/PST79/FALCON/p_assemblies/v9_1/Pst_104E_v12/post_allele_analysis/proteinortho_graph516_QC_Qcov80_PctID70_evalue01/no_respect_fasta/no_res_allele_pcontig_013_pcontig.gp\n",
      "Rendering plot /home/benjamin/genome_assembly/PST79/FALCON/p_assemblies/v9_1/Pst_104E_v12/post_allele_analysis/proteinortho_graph516_QC_Qcov80_PctID70_evalue01/no_respect_fasta/no_res_allele_pcontig_013_pcontig.ps\n",
      "1: PREPARING DATA\n",
      "2,3: RUNNING mummer AND CREATING CLUSTERS\n",
      "# reading input file \"/home/benjamin/genome_assembly/PST79/FALCON/p_assemblies/v9_1/Pst_104E_v12/post_allele_analysis/proteinortho_graph516_QC_Qcov80_PctID70_evalue01/no_respect_fasta/no_res_allele_pcontig_173_pcontig.ntref\" of length 51395\n",
      "# construct suffix tree for sequence of length 51395\n",
      "# (maximum reference length is 536870908)\n",
      "# (maximum query length is 4294967295)\n",
      "# CONSTRUCTIONTIME /usr/bin/mummer /home/benjamin/genome_assembly/PST79/FALCON/p_assemblies/v9_1/Pst_104E_v12/post_allele_analysis/proteinortho_graph516_QC_Qcov80_PctID70_evalue01/no_respect_fasta/no_res_allele_pcontig_173_pcontig.ntref 0.01\n",
      "# reading input file \"/home/benjamin/genome_assembly/PST79/FALCON/p_assemblies/v9_1/Pst_104E_v12/post_allele_analysis/proteinortho_graph516_QC_Qcov80_PctID70_evalue01/no_respect_fasta/no_res_allele_pcontig_173_hcontig.fa\" of length 122462\n",
      "# matching query-file \"/home/benjamin/genome_assembly/PST79/FALCON/p_assemblies/v9_1/Pst_104E_v12/post_allele_analysis/proteinortho_graph516_QC_Qcov80_PctID70_evalue01/no_respect_fasta/no_res_allele_pcontig_173_hcontig.fa\"\n",
      "# against subject-file \"/home/benjamin/genome_assembly/PST79/FALCON/p_assemblies/v9_1/Pst_104E_v12/post_allele_analysis/proteinortho_graph516_QC_Qcov80_PctID70_evalue01/no_respect_fasta/no_res_allele_pcontig_173_pcontig.ntref\"\n",
      "# COMPLETETIME /usr/bin/mummer /home/benjamin/genome_assembly/PST79/FALCON/p_assemblies/v9_1/Pst_104E_v12/post_allele_analysis/proteinortho_graph516_QC_Qcov80_PctID70_evalue01/no_respect_fasta/no_res_allele_pcontig_173_pcontig.ntref 0.04\n",
      "# SPACE /usr/bin/mummer /home/benjamin/genome_assembly/PST79/FALCON/p_assemblies/v9_1/Pst_104E_v12/post_allele_analysis/proteinortho_graph516_QC_Qcov80_PctID70_evalue01/no_respect_fasta/no_res_allele_pcontig_173_pcontig.ntref 0.17\n",
      "4: FINISHING DATA\n",
      "gnuplot 4.6 patchlevel 6\n",
      "Reading delta file /home/benjamin/genome_assembly/PST79/FALCON/p_assemblies/v9_1/Pst_104E_v12/post_allele_analysis/proteinortho_graph516_QC_Qcov80_PctID70_evalue01/no_respect_fasta/no_res_allele_pcontig_173_pcontig.filter\n",
      "Writing plot files /home/benjamin/genome_assembly/PST79/FALCON/p_assemblies/v9_1/Pst_104E_v12/post_allele_analysis/proteinortho_graph516_QC_Qcov80_PctID70_evalue01/no_respect_fasta/no_res_allele_pcontig_173_pcontig.fplot, /home/benjamin/genome_assembly/PST79/FALCON/p_assemblies/v9_1/Pst_104E_v12/post_allele_analysis/proteinortho_graph516_QC_Qcov80_PctID70_evalue01/no_respect_fasta/no_res_allele_pcontig_173_pcontig.rplot\n",
      "Writing gnuplot script /home/benjamin/genome_assembly/PST79/FALCON/p_assemblies/v9_1/Pst_104E_v12/post_allele_analysis/proteinortho_graph516_QC_Qcov80_PctID70_evalue01/no_respect_fasta/no_res_allele_pcontig_173_pcontig.gp\n",
      "Rendering plot /home/benjamin/genome_assembly/PST79/FALCON/p_assemblies/v9_1/Pst_104E_v12/post_allele_analysis/proteinortho_graph516_QC_Qcov80_PctID70_evalue01/no_respect_fasta/no_res_allele_pcontig_173_pcontig.ps\n"
     ]
    },
    {
     "name": "stdout",
     "output_type": "stream",
     "text": [
      "1: PREPARING DATA\n",
      "2,3: RUNNING mummer AND CREATING CLUSTERS\n",
      "# reading input file \"/home/benjamin/genome_assembly/PST79/FALCON/p_assemblies/v9_1/Pst_104E_v12/post_allele_analysis/proteinortho_graph516_QC_Qcov80_PctID70_evalue01/no_respect_fasta/no_res_allele_pcontig_009_pcontig.ntref\" of length 1774687\n",
      "# construct suffix tree for sequence of length 1774687\n",
      "# (maximum reference length is 536870908)\n",
      "# (maximum query length is 4294967295)\n",
      "# process 17746 characters per dot\n",
      "#....................................................................................................\n",
      "# CONSTRUCTIONTIME /usr/bin/mummer /home/benjamin/genome_assembly/PST79/FALCON/p_assemblies/v9_1/Pst_104E_v12/post_allele_analysis/proteinortho_graph516_QC_Qcov80_PctID70_evalue01/no_respect_fasta/no_res_allele_pcontig_009_pcontig.ntref 0.89\n",
      "# reading input file \"/home/benjamin/genome_assembly/PST79/FALCON/p_assemblies/v9_1/Pst_104E_v12/post_allele_analysis/proteinortho_graph516_QC_Qcov80_PctID70_evalue01/no_respect_fasta/no_res_allele_pcontig_009_hcontig.fa\" of length 558255\n",
      "# matching query-file \"/home/benjamin/genome_assembly/PST79/FALCON/p_assemblies/v9_1/Pst_104E_v12/post_allele_analysis/proteinortho_graph516_QC_Qcov80_PctID70_evalue01/no_respect_fasta/no_res_allele_pcontig_009_hcontig.fa\"\n",
      "# against subject-file \"/home/benjamin/genome_assembly/PST79/FALCON/p_assemblies/v9_1/Pst_104E_v12/post_allele_analysis/proteinortho_graph516_QC_Qcov80_PctID70_evalue01/no_respect_fasta/no_res_allele_pcontig_009_pcontig.ntref\"\n",
      "# COMPLETETIME /usr/bin/mummer /home/benjamin/genome_assembly/PST79/FALCON/p_assemblies/v9_1/Pst_104E_v12/post_allele_analysis/proteinortho_graph516_QC_Qcov80_PctID70_evalue01/no_respect_fasta/no_res_allele_pcontig_009_pcontig.ntref 1.41\n",
      "# SPACE /usr/bin/mummer /home/benjamin/genome_assembly/PST79/FALCON/p_assemblies/v9_1/Pst_104E_v12/post_allele_analysis/proteinortho_graph516_QC_Qcov80_PctID70_evalue01/no_respect_fasta/no_res_allele_pcontig_009_pcontig.ntref 2.26\n",
      "4: FINISHING DATA\n",
      "gnuplot 4.6 patchlevel 6\n",
      "Reading delta file /home/benjamin/genome_assembly/PST79/FALCON/p_assemblies/v9_1/Pst_104E_v12/post_allele_analysis/proteinortho_graph516_QC_Qcov80_PctID70_evalue01/no_respect_fasta/no_res_allele_pcontig_009_pcontig.filter\n",
      "Writing plot files /home/benjamin/genome_assembly/PST79/FALCON/p_assemblies/v9_1/Pst_104E_v12/post_allele_analysis/proteinortho_graph516_QC_Qcov80_PctID70_evalue01/no_respect_fasta/no_res_allele_pcontig_009_pcontig.fplot, /home/benjamin/genome_assembly/PST79/FALCON/p_assemblies/v9_1/Pst_104E_v12/post_allele_analysis/proteinortho_graph516_QC_Qcov80_PctID70_evalue01/no_respect_fasta/no_res_allele_pcontig_009_pcontig.rplot\n",
      "Writing gnuplot script /home/benjamin/genome_assembly/PST79/FALCON/p_assemblies/v9_1/Pst_104E_v12/post_allele_analysis/proteinortho_graph516_QC_Qcov80_PctID70_evalue01/no_respect_fasta/no_res_allele_pcontig_009_pcontig.gp\n",
      "Rendering plot /home/benjamin/genome_assembly/PST79/FALCON/p_assemblies/v9_1/Pst_104E_v12/post_allele_analysis/proteinortho_graph516_QC_Qcov80_PctID70_evalue01/no_respect_fasta/no_res_allele_pcontig_009_pcontig.ps\n",
      "1: PREPARING DATA\n",
      "2,3: RUNNING mummer AND CREATING CLUSTERS\n",
      "# reading input file \"/home/benjamin/genome_assembly/PST79/FALCON/p_assemblies/v9_1/Pst_104E_v12/post_allele_analysis/proteinortho_graph516_QC_Qcov80_PctID70_evalue01/no_respect_fasta/no_res_allele_pcontig_200_pcontig.ntref\" of length 35889\n",
      "# construct suffix tree for sequence of length 35889\n",
      "# (maximum reference length is 536870908)\n",
      "# (maximum query length is 4294967295)\n",
      "# CONSTRUCTIONTIME /usr/bin/mummer /home/benjamin/genome_assembly/PST79/FALCON/p_assemblies/v9_1/Pst_104E_v12/post_allele_analysis/proteinortho_graph516_QC_Qcov80_PctID70_evalue01/no_respect_fasta/no_res_allele_pcontig_200_pcontig.ntref 0.00\n",
      "# reading input file \"/home/benjamin/genome_assembly/PST79/FALCON/p_assemblies/v9_1/Pst_104E_v12/post_allele_analysis/proteinortho_graph516_QC_Qcov80_PctID70_evalue01/no_respect_fasta/no_res_allele_pcontig_200_hcontig.fa\" of length 90102\n",
      "# matching query-file \"/home/benjamin/genome_assembly/PST79/FALCON/p_assemblies/v9_1/Pst_104E_v12/post_allele_analysis/proteinortho_graph516_QC_Qcov80_PctID70_evalue01/no_respect_fasta/no_res_allele_pcontig_200_hcontig.fa\"\n",
      "# against subject-file \"/home/benjamin/genome_assembly/PST79/FALCON/p_assemblies/v9_1/Pst_104E_v12/post_allele_analysis/proteinortho_graph516_QC_Qcov80_PctID70_evalue01/no_respect_fasta/no_res_allele_pcontig_200_pcontig.ntref\"\n",
      "# COMPLETETIME /usr/bin/mummer /home/benjamin/genome_assembly/PST79/FALCON/p_assemblies/v9_1/Pst_104E_v12/post_allele_analysis/proteinortho_graph516_QC_Qcov80_PctID70_evalue01/no_respect_fasta/no_res_allele_pcontig_200_pcontig.ntref 0.03\n",
      "# SPACE /usr/bin/mummer /home/benjamin/genome_assembly/PST79/FALCON/p_assemblies/v9_1/Pst_104E_v12/post_allele_analysis/proteinortho_graph516_QC_Qcov80_PctID70_evalue01/no_respect_fasta/no_res_allele_pcontig_200_pcontig.ntref 0.12\n",
      "4: FINISHING DATA\n",
      "gnuplot 4.6 patchlevel 6\n",
      "Reading delta file /home/benjamin/genome_assembly/PST79/FALCON/p_assemblies/v9_1/Pst_104E_v12/post_allele_analysis/proteinortho_graph516_QC_Qcov80_PctID70_evalue01/no_respect_fasta/no_res_allele_pcontig_200_pcontig.filter\n",
      "Writing plot files /home/benjamin/genome_assembly/PST79/FALCON/p_assemblies/v9_1/Pst_104E_v12/post_allele_analysis/proteinortho_graph516_QC_Qcov80_PctID70_evalue01/no_respect_fasta/no_res_allele_pcontig_200_pcontig.fplot, /home/benjamin/genome_assembly/PST79/FALCON/p_assemblies/v9_1/Pst_104E_v12/post_allele_analysis/proteinortho_graph516_QC_Qcov80_PctID70_evalue01/no_respect_fasta/no_res_allele_pcontig_200_pcontig.rplot\n",
      "Writing gnuplot script /home/benjamin/genome_assembly/PST79/FALCON/p_assemblies/v9_1/Pst_104E_v12/post_allele_analysis/proteinortho_graph516_QC_Qcov80_PctID70_evalue01/no_respect_fasta/no_res_allele_pcontig_200_pcontig.gp\n",
      "Rendering plot /home/benjamin/genome_assembly/PST79/FALCON/p_assemblies/v9_1/Pst_104E_v12/post_allele_analysis/proteinortho_graph516_QC_Qcov80_PctID70_evalue01/no_respect_fasta/no_res_allele_pcontig_200_pcontig.ps\n",
      "1: PREPARING DATA\n",
      "2,3: RUNNING mummer AND CREATING CLUSTERS\n",
      "# reading input file \"/home/benjamin/genome_assembly/PST79/FALCON/p_assemblies/v9_1/Pst_104E_v12/post_allele_analysis/proteinortho_graph516_QC_Qcov80_PctID70_evalue01/no_respect_fasta/no_res_allele_pcontig_007_pcontig.ntref\" of length 2002715\n",
      "# construct suffix tree for sequence of length 2002715\n",
      "# (maximum reference length is 536870908)\n",
      "# (maximum query length is 4294967295)\n",
      "# process 20027 characters per dot\n",
      "#....................................................................................................\n",
      "# CONSTRUCTIONTIME /usr/bin/mummer /home/benjamin/genome_assembly/PST79/FALCON/p_assemblies/v9_1/Pst_104E_v12/post_allele_analysis/proteinortho_graph516_QC_Qcov80_PctID70_evalue01/no_respect_fasta/no_res_allele_pcontig_007_pcontig.ntref 1.20\n",
      "# reading input file \"/home/benjamin/genome_assembly/PST79/FALCON/p_assemblies/v9_1/Pst_104E_v12/post_allele_analysis/proteinortho_graph516_QC_Qcov80_PctID70_evalue01/no_respect_fasta/no_res_allele_pcontig_007_hcontig.fa\" of length 533861\n",
      "# matching query-file \"/home/benjamin/genome_assembly/PST79/FALCON/p_assemblies/v9_1/Pst_104E_v12/post_allele_analysis/proteinortho_graph516_QC_Qcov80_PctID70_evalue01/no_respect_fasta/no_res_allele_pcontig_007_hcontig.fa\"\n",
      "# against subject-file \"/home/benjamin/genome_assembly/PST79/FALCON/p_assemblies/v9_1/Pst_104E_v12/post_allele_analysis/proteinortho_graph516_QC_Qcov80_PctID70_evalue01/no_respect_fasta/no_res_allele_pcontig_007_pcontig.ntref\"\n",
      "# COMPLETETIME /usr/bin/mummer /home/benjamin/genome_assembly/PST79/FALCON/p_assemblies/v9_1/Pst_104E_v12/post_allele_analysis/proteinortho_graph516_QC_Qcov80_PctID70_evalue01/no_respect_fasta/no_res_allele_pcontig_007_pcontig.ntref 1.82\n",
      "# SPACE /usr/bin/mummer /home/benjamin/genome_assembly/PST79/FALCON/p_assemblies/v9_1/Pst_104E_v12/post_allele_analysis/proteinortho_graph516_QC_Qcov80_PctID70_evalue01/no_respect_fasta/no_res_allele_pcontig_007_pcontig.ntref 2.46\n",
      "4: FINISHING DATA\n",
      "gnuplot 4.6 patchlevel 6\n",
      "Reading delta file /home/benjamin/genome_assembly/PST79/FALCON/p_assemblies/v9_1/Pst_104E_v12/post_allele_analysis/proteinortho_graph516_QC_Qcov80_PctID70_evalue01/no_respect_fasta/no_res_allele_pcontig_007_pcontig.filter\n",
      "Writing plot files /home/benjamin/genome_assembly/PST79/FALCON/p_assemblies/v9_1/Pst_104E_v12/post_allele_analysis/proteinortho_graph516_QC_Qcov80_PctID70_evalue01/no_respect_fasta/no_res_allele_pcontig_007_pcontig.fplot, /home/benjamin/genome_assembly/PST79/FALCON/p_assemblies/v9_1/Pst_104E_v12/post_allele_analysis/proteinortho_graph516_QC_Qcov80_PctID70_evalue01/no_respect_fasta/no_res_allele_pcontig_007_pcontig.rplot\n",
      "Writing gnuplot script /home/benjamin/genome_assembly/PST79/FALCON/p_assemblies/v9_1/Pst_104E_v12/post_allele_analysis/proteinortho_graph516_QC_Qcov80_PctID70_evalue01/no_respect_fasta/no_res_allele_pcontig_007_pcontig.gp\n",
      "Rendering plot /home/benjamin/genome_assembly/PST79/FALCON/p_assemblies/v9_1/Pst_104E_v12/post_allele_analysis/proteinortho_graph516_QC_Qcov80_PctID70_evalue01/no_respect_fasta/no_res_allele_pcontig_007_pcontig.ps\n"
     ]
    },
    {
     "name": "stdout",
     "output_type": "stream",
     "text": [
      "1: PREPARING DATA\n",
      "2,3: RUNNING mummer AND CREATING CLUSTERS\n",
      "# reading input file \"/home/benjamin/genome_assembly/PST79/FALCON/p_assemblies/v9_1/Pst_104E_v12/post_allele_analysis/proteinortho_graph516_QC_Qcov80_PctID70_evalue01/no_respect_fasta/no_res_allele_pcontig_225_pcontig.ntref\" of length 27483\n",
      "# construct suffix tree for sequence of length 27483\n",
      "# (maximum reference length is 536870908)\n",
      "# (maximum query length is 4294967295)\n",
      "# CONSTRUCTIONTIME /usr/bin/mummer /home/benjamin/genome_assembly/PST79/FALCON/p_assemblies/v9_1/Pst_104E_v12/post_allele_analysis/proteinortho_graph516_QC_Qcov80_PctID70_evalue01/no_respect_fasta/no_res_allele_pcontig_225_pcontig.ntref 0.00\n",
      "# reading input file \"/home/benjamin/genome_assembly/PST79/FALCON/p_assemblies/v9_1/Pst_104E_v12/post_allele_analysis/proteinortho_graph516_QC_Qcov80_PctID70_evalue01/no_respect_fasta/no_res_allele_pcontig_225_hcontig.fa\" of length 1418284\n",
      "# matching query-file \"/home/benjamin/genome_assembly/PST79/FALCON/p_assemblies/v9_1/Pst_104E_v12/post_allele_analysis/proteinortho_graph516_QC_Qcov80_PctID70_evalue01/no_respect_fasta/no_res_allele_pcontig_225_hcontig.fa\"\n",
      "# against subject-file \"/home/benjamin/genome_assembly/PST79/FALCON/p_assemblies/v9_1/Pst_104E_v12/post_allele_analysis/proteinortho_graph516_QC_Qcov80_PctID70_evalue01/no_respect_fasta/no_res_allele_pcontig_225_pcontig.ntref\"\n",
      "# COMPLETETIME /usr/bin/mummer /home/benjamin/genome_assembly/PST79/FALCON/p_assemblies/v9_1/Pst_104E_v12/post_allele_analysis/proteinortho_graph516_QC_Qcov80_PctID70_evalue01/no_respect_fasta/no_res_allele_pcontig_225_pcontig.ntref 0.38\n",
      "# SPACE /usr/bin/mummer /home/benjamin/genome_assembly/PST79/FALCON/p_assemblies/v9_1/Pst_104E_v12/post_allele_analysis/proteinortho_graph516_QC_Qcov80_PctID70_evalue01/no_respect_fasta/no_res_allele_pcontig_225_pcontig.ntref 1.40\n",
      "4: FINISHING DATA\n",
      "gnuplot 4.6 patchlevel 6\n",
      "Reading delta file /home/benjamin/genome_assembly/PST79/FALCON/p_assemblies/v9_1/Pst_104E_v12/post_allele_analysis/proteinortho_graph516_QC_Qcov80_PctID70_evalue01/no_respect_fasta/no_res_allele_pcontig_225_pcontig.filter\n",
      "Writing plot files /home/benjamin/genome_assembly/PST79/FALCON/p_assemblies/v9_1/Pst_104E_v12/post_allele_analysis/proteinortho_graph516_QC_Qcov80_PctID70_evalue01/no_respect_fasta/no_res_allele_pcontig_225_pcontig.fplot, /home/benjamin/genome_assembly/PST79/FALCON/p_assemblies/v9_1/Pst_104E_v12/post_allele_analysis/proteinortho_graph516_QC_Qcov80_PctID70_evalue01/no_respect_fasta/no_res_allele_pcontig_225_pcontig.rplot\n",
      "Writing gnuplot script /home/benjamin/genome_assembly/PST79/FALCON/p_assemblies/v9_1/Pst_104E_v12/post_allele_analysis/proteinortho_graph516_QC_Qcov80_PctID70_evalue01/no_respect_fasta/no_res_allele_pcontig_225_pcontig.gp\n",
      "Rendering plot /home/benjamin/genome_assembly/PST79/FALCON/p_assemblies/v9_1/Pst_104E_v12/post_allele_analysis/proteinortho_graph516_QC_Qcov80_PctID70_evalue01/no_respect_fasta/no_res_allele_pcontig_225_pcontig.ps\n",
      "1: PREPARING DATA\n",
      "2,3: RUNNING mummer AND CREATING CLUSTERS\n",
      "# reading input file \"/home/benjamin/genome_assembly/PST79/FALCON/p_assemblies/v9_1/Pst_104E_v12/post_allele_analysis/proteinortho_graph516_QC_Qcov80_PctID70_evalue01/no_respect_fasta/no_res_allele_pcontig_003_pcontig.ntref\" of length 2392544\n",
      "# construct suffix tree for sequence of length 2392544\n",
      "# (maximum reference length is 536870908)\n",
      "# (maximum query length is 4294967295)\n",
      "# process 23925 characters per dot\n",
      "#....................................................................................................\n",
      "# CONSTRUCTIONTIME /usr/bin/mummer /home/benjamin/genome_assembly/PST79/FALCON/p_assemblies/v9_1/Pst_104E_v12/post_allele_analysis/proteinortho_graph516_QC_Qcov80_PctID70_evalue01/no_respect_fasta/no_res_allele_pcontig_003_pcontig.ntref 1.96\n",
      "# reading input file \"/home/benjamin/genome_assembly/PST79/FALCON/p_assemblies/v9_1/Pst_104E_v12/post_allele_analysis/proteinortho_graph516_QC_Qcov80_PctID70_evalue01/no_respect_fasta/no_res_allele_pcontig_003_hcontig.fa\" of length 393727\n",
      "# matching query-file \"/home/benjamin/genome_assembly/PST79/FALCON/p_assemblies/v9_1/Pst_104E_v12/post_allele_analysis/proteinortho_graph516_QC_Qcov80_PctID70_evalue01/no_respect_fasta/no_res_allele_pcontig_003_hcontig.fa\"\n",
      "# against subject-file \"/home/benjamin/genome_assembly/PST79/FALCON/p_assemblies/v9_1/Pst_104E_v12/post_allele_analysis/proteinortho_graph516_QC_Qcov80_PctID70_evalue01/no_respect_fasta/no_res_allele_pcontig_003_pcontig.ntref\"\n",
      "# COMPLETETIME /usr/bin/mummer /home/benjamin/genome_assembly/PST79/FALCON/p_assemblies/v9_1/Pst_104E_v12/post_allele_analysis/proteinortho_graph516_QC_Qcov80_PctID70_evalue01/no_respect_fasta/no_res_allele_pcontig_003_pcontig.ntref 2.55\n",
      "# SPACE /usr/bin/mummer /home/benjamin/genome_assembly/PST79/FALCON/p_assemblies/v9_1/Pst_104E_v12/post_allele_analysis/proteinortho_graph516_QC_Qcov80_PctID70_evalue01/no_respect_fasta/no_res_allele_pcontig_003_pcontig.ntref 2.70\n",
      "4: FINISHING DATA\n",
      "gnuplot 4.6 patchlevel 6\n",
      "Reading delta file /home/benjamin/genome_assembly/PST79/FALCON/p_assemblies/v9_1/Pst_104E_v12/post_allele_analysis/proteinortho_graph516_QC_Qcov80_PctID70_evalue01/no_respect_fasta/no_res_allele_pcontig_003_pcontig.filter\n",
      "Writing plot files /home/benjamin/genome_assembly/PST79/FALCON/p_assemblies/v9_1/Pst_104E_v12/post_allele_analysis/proteinortho_graph516_QC_Qcov80_PctID70_evalue01/no_respect_fasta/no_res_allele_pcontig_003_pcontig.fplot, /home/benjamin/genome_assembly/PST79/FALCON/p_assemblies/v9_1/Pst_104E_v12/post_allele_analysis/proteinortho_graph516_QC_Qcov80_PctID70_evalue01/no_respect_fasta/no_res_allele_pcontig_003_pcontig.rplot\n",
      "Writing gnuplot script /home/benjamin/genome_assembly/PST79/FALCON/p_assemblies/v9_1/Pst_104E_v12/post_allele_analysis/proteinortho_graph516_QC_Qcov80_PctID70_evalue01/no_respect_fasta/no_res_allele_pcontig_003_pcontig.gp\n",
      "Rendering plot /home/benjamin/genome_assembly/PST79/FALCON/p_assemblies/v9_1/Pst_104E_v12/post_allele_analysis/proteinortho_graph516_QC_Qcov80_PctID70_evalue01/no_respect_fasta/no_res_allele_pcontig_003_pcontig.ps\n",
      "1: PREPARING DATA\n",
      "2,3: RUNNING mummer AND CREATING CLUSTERS\n",
      "# reading input file \"/home/benjamin/genome_assembly/PST79/FALCON/p_assemblies/v9_1/Pst_104E_v12/post_allele_analysis/proteinortho_graph516_QC_Qcov80_PctID70_evalue01/no_respect_fasta/no_res_allele_pcontig_014_pcontig.ntref\" of length 1609766\n",
      "# construct suffix tree for sequence of length 1609766\n",
      "# (maximum reference length is 536870908)\n",
      "# (maximum query length is 4294967295)\n",
      "# process 16097 characters per dot\n",
      "#....................................................................................................\n",
      "# CONSTRUCTIONTIME /usr/bin/mummer /home/benjamin/genome_assembly/PST79/FALCON/p_assemblies/v9_1/Pst_104E_v12/post_allele_analysis/proteinortho_graph516_QC_Qcov80_PctID70_evalue01/no_respect_fasta/no_res_allele_pcontig_014_pcontig.ntref 0.87\n",
      "# reading input file \"/home/benjamin/genome_assembly/PST79/FALCON/p_assemblies/v9_1/Pst_104E_v12/post_allele_analysis/proteinortho_graph516_QC_Qcov80_PctID70_evalue01/no_respect_fasta/no_res_allele_pcontig_014_hcontig.fa\" of length 566339\n",
      "# matching query-file \"/home/benjamin/genome_assembly/PST79/FALCON/p_assemblies/v9_1/Pst_104E_v12/post_allele_analysis/proteinortho_graph516_QC_Qcov80_PctID70_evalue01/no_respect_fasta/no_res_allele_pcontig_014_hcontig.fa\"\n",
      "# against subject-file \"/home/benjamin/genome_assembly/PST79/FALCON/p_assemblies/v9_1/Pst_104E_v12/post_allele_analysis/proteinortho_graph516_QC_Qcov80_PctID70_evalue01/no_respect_fasta/no_res_allele_pcontig_014_pcontig.ntref\"\n",
      "# COMPLETETIME /usr/bin/mummer /home/benjamin/genome_assembly/PST79/FALCON/p_assemblies/v9_1/Pst_104E_v12/post_allele_analysis/proteinortho_graph516_QC_Qcov80_PctID70_evalue01/no_respect_fasta/no_res_allele_pcontig_014_pcontig.ntref 1.49\n",
      "# SPACE /usr/bin/mummer /home/benjamin/genome_assembly/PST79/FALCON/p_assemblies/v9_1/Pst_104E_v12/post_allele_analysis/proteinortho_graph516_QC_Qcov80_PctID70_evalue01/no_respect_fasta/no_res_allele_pcontig_014_pcontig.ntref 2.11\n",
      "4: FINISHING DATA\n",
      "gnuplot 4.6 patchlevel 6\n",
      "Reading delta file /home/benjamin/genome_assembly/PST79/FALCON/p_assemblies/v9_1/Pst_104E_v12/post_allele_analysis/proteinortho_graph516_QC_Qcov80_PctID70_evalue01/no_respect_fasta/no_res_allele_pcontig_014_pcontig.filter\n",
      "Writing plot files /home/benjamin/genome_assembly/PST79/FALCON/p_assemblies/v9_1/Pst_104E_v12/post_allele_analysis/proteinortho_graph516_QC_Qcov80_PctID70_evalue01/no_respect_fasta/no_res_allele_pcontig_014_pcontig.fplot, /home/benjamin/genome_assembly/PST79/FALCON/p_assemblies/v9_1/Pst_104E_v12/post_allele_analysis/proteinortho_graph516_QC_Qcov80_PctID70_evalue01/no_respect_fasta/no_res_allele_pcontig_014_pcontig.rplot\n",
      "Writing gnuplot script /home/benjamin/genome_assembly/PST79/FALCON/p_assemblies/v9_1/Pst_104E_v12/post_allele_analysis/proteinortho_graph516_QC_Qcov80_PctID70_evalue01/no_respect_fasta/no_res_allele_pcontig_014_pcontig.gp\n",
      "Rendering plot /home/benjamin/genome_assembly/PST79/FALCON/p_assemblies/v9_1/Pst_104E_v12/post_allele_analysis/proteinortho_graph516_QC_Qcov80_PctID70_evalue01/no_respect_fasta/no_res_allele_pcontig_014_pcontig.ps\n"
     ]
    },
    {
     "name": "stdout",
     "output_type": "stream",
     "text": [
      "1: PREPARING DATA\n",
      "2,3: RUNNING mummer AND CREATING CLUSTERS\n",
      "# reading input file \"/home/benjamin/genome_assembly/PST79/FALCON/p_assemblies/v9_1/Pst_104E_v12/post_allele_analysis/proteinortho_graph516_QC_Qcov80_PctID70_evalue01/no_respect_fasta/no_res_allele_pcontig_058_pcontig.ntref\" of length 572618\n",
      "# construct suffix tree for sequence of length 572618\n",
      "# (maximum reference length is 536870908)\n",
      "# (maximum query length is 4294967295)\n",
      "# process 5726 characters per dot\n",
      "#....................................................................................................\n",
      "# CONSTRUCTIONTIME /usr/bin/mummer /home/benjamin/genome_assembly/PST79/FALCON/p_assemblies/v9_1/Pst_104E_v12/post_allele_analysis/proteinortho_graph516_QC_Qcov80_PctID70_evalue01/no_respect_fasta/no_res_allele_pcontig_058_pcontig.ntref 0.16\n",
      "# reading input file \"/home/benjamin/genome_assembly/PST79/FALCON/p_assemblies/v9_1/Pst_104E_v12/post_allele_analysis/proteinortho_graph516_QC_Qcov80_PctID70_evalue01/no_respect_fasta/no_res_allele_pcontig_058_hcontig.fa\" of length 393727\n",
      "# matching query-file \"/home/benjamin/genome_assembly/PST79/FALCON/p_assemblies/v9_1/Pst_104E_v12/post_allele_analysis/proteinortho_graph516_QC_Qcov80_PctID70_evalue01/no_respect_fasta/no_res_allele_pcontig_058_hcontig.fa\"\n",
      "# against subject-file \"/home/benjamin/genome_assembly/PST79/FALCON/p_assemblies/v9_1/Pst_104E_v12/post_allele_analysis/proteinortho_graph516_QC_Qcov80_PctID70_evalue01/no_respect_fasta/no_res_allele_pcontig_058_pcontig.ntref\"\n",
      "# COMPLETETIME /usr/bin/mummer /home/benjamin/genome_assembly/PST79/FALCON/p_assemblies/v9_1/Pst_104E_v12/post_allele_analysis/proteinortho_graph516_QC_Qcov80_PctID70_evalue01/no_respect_fasta/no_res_allele_pcontig_058_pcontig.ntref 0.37\n",
      "# SPACE /usr/bin/mummer /home/benjamin/genome_assembly/PST79/FALCON/p_assemblies/v9_1/Pst_104E_v12/post_allele_analysis/proteinortho_graph516_QC_Qcov80_PctID70_evalue01/no_respect_fasta/no_res_allele_pcontig_058_pcontig.ntref 0.94\n",
      "4: FINISHING DATA\n",
      "gnuplot 4.6 patchlevel 6\n",
      "Reading delta file /home/benjamin/genome_assembly/PST79/FALCON/p_assemblies/v9_1/Pst_104E_v12/post_allele_analysis/proteinortho_graph516_QC_Qcov80_PctID70_evalue01/no_respect_fasta/no_res_allele_pcontig_058_pcontig.filter\n",
      "Writing plot files /home/benjamin/genome_assembly/PST79/FALCON/p_assemblies/v9_1/Pst_104E_v12/post_allele_analysis/proteinortho_graph516_QC_Qcov80_PctID70_evalue01/no_respect_fasta/no_res_allele_pcontig_058_pcontig.fplot, /home/benjamin/genome_assembly/PST79/FALCON/p_assemblies/v9_1/Pst_104E_v12/post_allele_analysis/proteinortho_graph516_QC_Qcov80_PctID70_evalue01/no_respect_fasta/no_res_allele_pcontig_058_pcontig.rplot\n",
      "Writing gnuplot script /home/benjamin/genome_assembly/PST79/FALCON/p_assemblies/v9_1/Pst_104E_v12/post_allele_analysis/proteinortho_graph516_QC_Qcov80_PctID70_evalue01/no_respect_fasta/no_res_allele_pcontig_058_pcontig.gp\n",
      "Rendering plot /home/benjamin/genome_assembly/PST79/FALCON/p_assemblies/v9_1/Pst_104E_v12/post_allele_analysis/proteinortho_graph516_QC_Qcov80_PctID70_evalue01/no_respect_fasta/no_res_allele_pcontig_058_pcontig.ps\n",
      "1: PREPARING DATA\n",
      "2,3: RUNNING mummer AND CREATING CLUSTERS\n",
      "# reading input file \"/home/benjamin/genome_assembly/PST79/FALCON/p_assemblies/v9_1/Pst_104E_v12/post_allele_analysis/proteinortho_graph516_QC_Qcov80_PctID70_evalue01/no_respect_fasta/no_res_allele_pcontig_079_pcontig.ntref\" of length 40339\n",
      "# construct suffix tree for sequence of length 40339\n",
      "# (maximum reference length is 536870908)\n",
      "# (maximum query length is 4294967295)\n",
      "# CONSTRUCTIONTIME /usr/bin/mummer /home/benjamin/genome_assembly/PST79/FALCON/p_assemblies/v9_1/Pst_104E_v12/post_allele_analysis/proteinortho_graph516_QC_Qcov80_PctID70_evalue01/no_respect_fasta/no_res_allele_pcontig_079_pcontig.ntref 0.01\n",
      "# reading input file \"/home/benjamin/genome_assembly/PST79/FALCON/p_assemblies/v9_1/Pst_104E_v12/post_allele_analysis/proteinortho_graph516_QC_Qcov80_PctID70_evalue01/no_respect_fasta/no_res_allele_pcontig_079_hcontig.fa\" of length 103093\n",
      "# matching query-file \"/home/benjamin/genome_assembly/PST79/FALCON/p_assemblies/v9_1/Pst_104E_v12/post_allele_analysis/proteinortho_graph516_QC_Qcov80_PctID70_evalue01/no_respect_fasta/no_res_allele_pcontig_079_hcontig.fa\"\n",
      "# against subject-file \"/home/benjamin/genome_assembly/PST79/FALCON/p_assemblies/v9_1/Pst_104E_v12/post_allele_analysis/proteinortho_graph516_QC_Qcov80_PctID70_evalue01/no_respect_fasta/no_res_allele_pcontig_079_pcontig.ntref\"\n",
      "# COMPLETETIME /usr/bin/mummer /home/benjamin/genome_assembly/PST79/FALCON/p_assemblies/v9_1/Pst_104E_v12/post_allele_analysis/proteinortho_graph516_QC_Qcov80_PctID70_evalue01/no_respect_fasta/no_res_allele_pcontig_079_pcontig.ntref 0.04\n",
      "# SPACE /usr/bin/mummer /home/benjamin/genome_assembly/PST79/FALCON/p_assemblies/v9_1/Pst_104E_v12/post_allele_analysis/proteinortho_graph516_QC_Qcov80_PctID70_evalue01/no_respect_fasta/no_res_allele_pcontig_079_pcontig.ntref 0.14\n",
      "4: FINISHING DATA\n",
      "gnuplot 4.6 patchlevel 6\n",
      "Reading delta file /home/benjamin/genome_assembly/PST79/FALCON/p_assemblies/v9_1/Pst_104E_v12/post_allele_analysis/proteinortho_graph516_QC_Qcov80_PctID70_evalue01/no_respect_fasta/no_res_allele_pcontig_079_pcontig.filter\n",
      "Writing plot files /home/benjamin/genome_assembly/PST79/FALCON/p_assemblies/v9_1/Pst_104E_v12/post_allele_analysis/proteinortho_graph516_QC_Qcov80_PctID70_evalue01/no_respect_fasta/no_res_allele_pcontig_079_pcontig.fplot, /home/benjamin/genome_assembly/PST79/FALCON/p_assemblies/v9_1/Pst_104E_v12/post_allele_analysis/proteinortho_graph516_QC_Qcov80_PctID70_evalue01/no_respect_fasta/no_res_allele_pcontig_079_pcontig.rplot\n",
      "Writing gnuplot script /home/benjamin/genome_assembly/PST79/FALCON/p_assemblies/v9_1/Pst_104E_v12/post_allele_analysis/proteinortho_graph516_QC_Qcov80_PctID70_evalue01/no_respect_fasta/no_res_allele_pcontig_079_pcontig.gp\n",
      "Rendering plot /home/benjamin/genome_assembly/PST79/FALCON/p_assemblies/v9_1/Pst_104E_v12/post_allele_analysis/proteinortho_graph516_QC_Qcov80_PctID70_evalue01/no_respect_fasta/no_res_allele_pcontig_079_pcontig.ps\n",
      "1: PREPARING DATA\n",
      "2,3: RUNNING mummer AND CREATING CLUSTERS\n",
      "# reading input file \"/home/benjamin/genome_assembly/PST79/FALCON/p_assemblies/v9_1/Pst_104E_v12/post_allele_analysis/proteinortho_graph516_QC_Qcov80_PctID70_evalue01/no_respect_fasta/no_res_allele_pcontig_186_pcontig.ntref\" of length 41596\n",
      "# construct suffix tree for sequence of length 41596\n",
      "# (maximum reference length is 536870908)\n",
      "# (maximum query length is 4294967295)\n",
      "# CONSTRUCTIONTIME /usr/bin/mummer /home/benjamin/genome_assembly/PST79/FALCON/p_assemblies/v9_1/Pst_104E_v12/post_allele_analysis/proteinortho_graph516_QC_Qcov80_PctID70_evalue01/no_respect_fasta/no_res_allele_pcontig_186_pcontig.ntref 0.01\n",
      "# reading input file \"/home/benjamin/genome_assembly/PST79/FALCON/p_assemblies/v9_1/Pst_104E_v12/post_allele_analysis/proteinortho_graph516_QC_Qcov80_PctID70_evalue01/no_respect_fasta/no_res_allele_pcontig_186_hcontig.fa\" of length 267031\n",
      "# matching query-file \"/home/benjamin/genome_assembly/PST79/FALCON/p_assemblies/v9_1/Pst_104E_v12/post_allele_analysis/proteinortho_graph516_QC_Qcov80_PctID70_evalue01/no_respect_fasta/no_res_allele_pcontig_186_hcontig.fa\"\n",
      "# against subject-file \"/home/benjamin/genome_assembly/PST79/FALCON/p_assemblies/v9_1/Pst_104E_v12/post_allele_analysis/proteinortho_graph516_QC_Qcov80_PctID70_evalue01/no_respect_fasta/no_res_allele_pcontig_186_pcontig.ntref\"\n",
      "# COMPLETETIME /usr/bin/mummer /home/benjamin/genome_assembly/PST79/FALCON/p_assemblies/v9_1/Pst_104E_v12/post_allele_analysis/proteinortho_graph516_QC_Qcov80_PctID70_evalue01/no_respect_fasta/no_res_allele_pcontig_186_pcontig.ntref 0.08\n",
      "# SPACE /usr/bin/mummer /home/benjamin/genome_assembly/PST79/FALCON/p_assemblies/v9_1/Pst_104E_v12/post_allele_analysis/proteinortho_graph516_QC_Qcov80_PctID70_evalue01/no_respect_fasta/no_res_allele_pcontig_186_pcontig.ntref 0.30\n",
      "4: FINISHING DATA\n",
      "gnuplot 4.6 patchlevel 6\n",
      "Reading delta file /home/benjamin/genome_assembly/PST79/FALCON/p_assemblies/v9_1/Pst_104E_v12/post_allele_analysis/proteinortho_graph516_QC_Qcov80_PctID70_evalue01/no_respect_fasta/no_res_allele_pcontig_186_pcontig.filter\n",
      "Writing plot files /home/benjamin/genome_assembly/PST79/FALCON/p_assemblies/v9_1/Pst_104E_v12/post_allele_analysis/proteinortho_graph516_QC_Qcov80_PctID70_evalue01/no_respect_fasta/no_res_allele_pcontig_186_pcontig.fplot, /home/benjamin/genome_assembly/PST79/FALCON/p_assemblies/v9_1/Pst_104E_v12/post_allele_analysis/proteinortho_graph516_QC_Qcov80_PctID70_evalue01/no_respect_fasta/no_res_allele_pcontig_186_pcontig.rplot\n",
      "Writing gnuplot script /home/benjamin/genome_assembly/PST79/FALCON/p_assemblies/v9_1/Pst_104E_v12/post_allele_analysis/proteinortho_graph516_QC_Qcov80_PctID70_evalue01/no_respect_fasta/no_res_allele_pcontig_186_pcontig.gp\n",
      "Rendering plot /home/benjamin/genome_assembly/PST79/FALCON/p_assemblies/v9_1/Pst_104E_v12/post_allele_analysis/proteinortho_graph516_QC_Qcov80_PctID70_evalue01/no_respect_fasta/no_res_allele_pcontig_186_pcontig.ps\n"
     ]
    },
    {
     "name": "stdout",
     "output_type": "stream",
     "text": [
      "1: PREPARING DATA\n",
      "2,3: RUNNING mummer AND CREATING CLUSTERS\n",
      "# reading input file \"/home/benjamin/genome_assembly/PST79/FALCON/p_assemblies/v9_1/Pst_104E_v12/post_allele_analysis/proteinortho_graph516_QC_Qcov80_PctID70_evalue01/no_respect_fasta/no_res_allele_pcontig_001_pcontig.ntref\" of length 2856985\n",
      "# construct suffix tree for sequence of length 2856985\n",
      "# (maximum reference length is 536870908)\n",
      "# (maximum query length is 4294967295)\n",
      "# process 28569 characters per dot\n",
      "#....................................................................................................\n",
      "# CONSTRUCTIONTIME /usr/bin/mummer /home/benjamin/genome_assembly/PST79/FALCON/p_assemblies/v9_1/Pst_104E_v12/post_allele_analysis/proteinortho_graph516_QC_Qcov80_PctID70_evalue01/no_respect_fasta/no_res_allele_pcontig_001_pcontig.ntref 1.60\n",
      "# reading input file \"/home/benjamin/genome_assembly/PST79/FALCON/p_assemblies/v9_1/Pst_104E_v12/post_allele_analysis/proteinortho_graph516_QC_Qcov80_PctID70_evalue01/no_respect_fasta/no_res_allele_pcontig_001_hcontig.fa\" of length 363848\n",
      "# matching query-file \"/home/benjamin/genome_assembly/PST79/FALCON/p_assemblies/v9_1/Pst_104E_v12/post_allele_analysis/proteinortho_graph516_QC_Qcov80_PctID70_evalue01/no_respect_fasta/no_res_allele_pcontig_001_hcontig.fa\"\n",
      "# against subject-file \"/home/benjamin/genome_assembly/PST79/FALCON/p_assemblies/v9_1/Pst_104E_v12/post_allele_analysis/proteinortho_graph516_QC_Qcov80_PctID70_evalue01/no_respect_fasta/no_res_allele_pcontig_001_pcontig.ntref\"\n",
      "# COMPLETETIME /usr/bin/mummer /home/benjamin/genome_assembly/PST79/FALCON/p_assemblies/v9_1/Pst_104E_v12/post_allele_analysis/proteinortho_graph516_QC_Qcov80_PctID70_evalue01/no_respect_fasta/no_res_allele_pcontig_001_pcontig.ntref 2.05\n",
      "# SPACE /usr/bin/mummer /home/benjamin/genome_assembly/PST79/FALCON/p_assemblies/v9_1/Pst_104E_v12/post_allele_analysis/proteinortho_graph516_QC_Qcov80_PctID70_evalue01/no_respect_fasta/no_res_allele_pcontig_001_pcontig.ntref 3.12\n",
      "4: FINISHING DATA\n",
      "gnuplot 4.6 patchlevel 6\n",
      "Reading delta file /home/benjamin/genome_assembly/PST79/FALCON/p_assemblies/v9_1/Pst_104E_v12/post_allele_analysis/proteinortho_graph516_QC_Qcov80_PctID70_evalue01/no_respect_fasta/no_res_allele_pcontig_001_pcontig.filter\n",
      "Writing plot files /home/benjamin/genome_assembly/PST79/FALCON/p_assemblies/v9_1/Pst_104E_v12/post_allele_analysis/proteinortho_graph516_QC_Qcov80_PctID70_evalue01/no_respect_fasta/no_res_allele_pcontig_001_pcontig.fplot, /home/benjamin/genome_assembly/PST79/FALCON/p_assemblies/v9_1/Pst_104E_v12/post_allele_analysis/proteinortho_graph516_QC_Qcov80_PctID70_evalue01/no_respect_fasta/no_res_allele_pcontig_001_pcontig.rplot\n",
      "Writing gnuplot script /home/benjamin/genome_assembly/PST79/FALCON/p_assemblies/v9_1/Pst_104E_v12/post_allele_analysis/proteinortho_graph516_QC_Qcov80_PctID70_evalue01/no_respect_fasta/no_res_allele_pcontig_001_pcontig.gp\n",
      "Rendering plot /home/benjamin/genome_assembly/PST79/FALCON/p_assemblies/v9_1/Pst_104E_v12/post_allele_analysis/proteinortho_graph516_QC_Qcov80_PctID70_evalue01/no_respect_fasta/no_res_allele_pcontig_001_pcontig.ps\n",
      "1: PREPARING DATA\n",
      "2,3: RUNNING mummer AND CREATING CLUSTERS\n",
      "# reading input file \"/home/benjamin/genome_assembly/PST79/FALCON/p_assemblies/v9_1/Pst_104E_v12/post_allele_analysis/proteinortho_graph516_QC_Qcov80_PctID70_evalue01/no_respect_fasta/no_res_allele_pcontig_025_pcontig.ntref\" of length 741904\n",
      "# construct suffix tree for sequence of length 741904\n",
      "# (maximum reference length is 536870908)\n",
      "# (maximum query length is 4294967295)\n",
      "# process 7419 characters per dot\n",
      "#....................................................................................................\n",
      "# CONSTRUCTIONTIME /usr/bin/mummer /home/benjamin/genome_assembly/PST79/FALCON/p_assemblies/v9_1/Pst_104E_v12/post_allele_analysis/proteinortho_graph516_QC_Qcov80_PctID70_evalue01/no_respect_fasta/no_res_allele_pcontig_025_pcontig.ntref 0.21\n",
      "# reading input file \"/home/benjamin/genome_assembly/PST79/FALCON/p_assemblies/v9_1/Pst_104E_v12/post_allele_analysis/proteinortho_graph516_QC_Qcov80_PctID70_evalue01/no_respect_fasta/no_res_allele_pcontig_025_hcontig.fa\" of length 89091\n",
      "# matching query-file \"/home/benjamin/genome_assembly/PST79/FALCON/p_assemblies/v9_1/Pst_104E_v12/post_allele_analysis/proteinortho_graph516_QC_Qcov80_PctID70_evalue01/no_respect_fasta/no_res_allele_pcontig_025_hcontig.fa\"\n",
      "# against subject-file \"/home/benjamin/genome_assembly/PST79/FALCON/p_assemblies/v9_1/Pst_104E_v12/post_allele_analysis/proteinortho_graph516_QC_Qcov80_PctID70_evalue01/no_respect_fasta/no_res_allele_pcontig_025_pcontig.ntref\"\n",
      "# COMPLETETIME /usr/bin/mummer /home/benjamin/genome_assembly/PST79/FALCON/p_assemblies/v9_1/Pst_104E_v12/post_allele_analysis/proteinortho_graph516_QC_Qcov80_PctID70_evalue01/no_respect_fasta/no_res_allele_pcontig_025_pcontig.ntref 0.30\n",
      "# SPACE /usr/bin/mummer /home/benjamin/genome_assembly/PST79/FALCON/p_assemblies/v9_1/Pst_104E_v12/post_allele_analysis/proteinortho_graph516_QC_Qcov80_PctID70_evalue01/no_respect_fasta/no_res_allele_pcontig_025_pcontig.ntref 0.81\n",
      "4: FINISHING DATA\n",
      "gnuplot 4.6 patchlevel 6\n",
      "Reading delta file /home/benjamin/genome_assembly/PST79/FALCON/p_assemblies/v9_1/Pst_104E_v12/post_allele_analysis/proteinortho_graph516_QC_Qcov80_PctID70_evalue01/no_respect_fasta/no_res_allele_pcontig_025_pcontig.filter\n",
      "Writing plot files /home/benjamin/genome_assembly/PST79/FALCON/p_assemblies/v9_1/Pst_104E_v12/post_allele_analysis/proteinortho_graph516_QC_Qcov80_PctID70_evalue01/no_respect_fasta/no_res_allele_pcontig_025_pcontig.fplot, /home/benjamin/genome_assembly/PST79/FALCON/p_assemblies/v9_1/Pst_104E_v12/post_allele_analysis/proteinortho_graph516_QC_Qcov80_PctID70_evalue01/no_respect_fasta/no_res_allele_pcontig_025_pcontig.rplot\n",
      "Writing gnuplot script /home/benjamin/genome_assembly/PST79/FALCON/p_assemblies/v9_1/Pst_104E_v12/post_allele_analysis/proteinortho_graph516_QC_Qcov80_PctID70_evalue01/no_respect_fasta/no_res_allele_pcontig_025_pcontig.gp\n",
      "Rendering plot /home/benjamin/genome_assembly/PST79/FALCON/p_assemblies/v9_1/Pst_104E_v12/post_allele_analysis/proteinortho_graph516_QC_Qcov80_PctID70_evalue01/no_respect_fasta/no_res_allele_pcontig_025_pcontig.ps\n",
      "1: PREPARING DATA\n",
      "2,3: RUNNING mummer AND CREATING CLUSTERS\n",
      "# reading input file \"/home/benjamin/genome_assembly/PST79/FALCON/p_assemblies/v9_1/Pst_104E_v12/post_allele_analysis/proteinortho_graph516_QC_Qcov80_PctID70_evalue01/no_respect_fasta/no_res_allele_pcontig_008_pcontig.ntref\" of length 1839736\n",
      "# construct suffix tree for sequence of length 1839736\n",
      "# (maximum reference length is 536870908)\n",
      "# (maximum query length is 4294967295)\n",
      "# process 18397 characters per dot\n",
      "#....................................................................................................\n",
      "# CONSTRUCTIONTIME /usr/bin/mummer /home/benjamin/genome_assembly/PST79/FALCON/p_assemblies/v9_1/Pst_104E_v12/post_allele_analysis/proteinortho_graph516_QC_Qcov80_PctID70_evalue01/no_respect_fasta/no_res_allele_pcontig_008_pcontig.ntref 1.00\n",
      "# reading input file \"/home/benjamin/genome_assembly/PST79/FALCON/p_assemblies/v9_1/Pst_104E_v12/post_allele_analysis/proteinortho_graph516_QC_Qcov80_PctID70_evalue01/no_respect_fasta/no_res_allele_pcontig_008_hcontig.fa\" of length 429302\n",
      "# matching query-file \"/home/benjamin/genome_assembly/PST79/FALCON/p_assemblies/v9_1/Pst_104E_v12/post_allele_analysis/proteinortho_graph516_QC_Qcov80_PctID70_evalue01/no_respect_fasta/no_res_allele_pcontig_008_hcontig.fa\"\n",
      "# against subject-file \"/home/benjamin/genome_assembly/PST79/FALCON/p_assemblies/v9_1/Pst_104E_v12/post_allele_analysis/proteinortho_graph516_QC_Qcov80_PctID70_evalue01/no_respect_fasta/no_res_allele_pcontig_008_pcontig.ntref\"\n",
      "# COMPLETETIME /usr/bin/mummer /home/benjamin/genome_assembly/PST79/FALCON/p_assemblies/v9_1/Pst_104E_v12/post_allele_analysis/proteinortho_graph516_QC_Qcov80_PctID70_evalue01/no_respect_fasta/no_res_allele_pcontig_008_pcontig.ntref 1.50\n",
      "# SPACE /usr/bin/mummer /home/benjamin/genome_assembly/PST79/FALCON/p_assemblies/v9_1/Pst_104E_v12/post_allele_analysis/proteinortho_graph516_QC_Qcov80_PctID70_evalue01/no_respect_fasta/no_res_allele_pcontig_008_pcontig.ntref 2.20\n",
      "4: FINISHING DATA\n",
      "gnuplot 4.6 patchlevel 6\n"
     ]
    },
    {
     "name": "stdout",
     "output_type": "stream",
     "text": [
      "Reading delta file /home/benjamin/genome_assembly/PST79/FALCON/p_assemblies/v9_1/Pst_104E_v12/post_allele_analysis/proteinortho_graph516_QC_Qcov80_PctID70_evalue01/no_respect_fasta/no_res_allele_pcontig_008_pcontig.filter\n",
      "Writing plot files /home/benjamin/genome_assembly/PST79/FALCON/p_assemblies/v9_1/Pst_104E_v12/post_allele_analysis/proteinortho_graph516_QC_Qcov80_PctID70_evalue01/no_respect_fasta/no_res_allele_pcontig_008_pcontig.fplot, /home/benjamin/genome_assembly/PST79/FALCON/p_assemblies/v9_1/Pst_104E_v12/post_allele_analysis/proteinortho_graph516_QC_Qcov80_PctID70_evalue01/no_respect_fasta/no_res_allele_pcontig_008_pcontig.rplot\n",
      "Writing gnuplot script /home/benjamin/genome_assembly/PST79/FALCON/p_assemblies/v9_1/Pst_104E_v12/post_allele_analysis/proteinortho_graph516_QC_Qcov80_PctID70_evalue01/no_respect_fasta/no_res_allele_pcontig_008_pcontig.gp\n",
      "Rendering plot /home/benjamin/genome_assembly/PST79/FALCON/p_assemblies/v9_1/Pst_104E_v12/post_allele_analysis/proteinortho_graph516_QC_Qcov80_PctID70_evalue01/no_respect_fasta/no_res_allele_pcontig_008_pcontig.ps\n",
      "1: PREPARING DATA\n",
      "2,3: RUNNING mummer AND CREATING CLUSTERS\n",
      "# reading input file \"/home/benjamin/genome_assembly/PST79/FALCON/p_assemblies/v9_1/Pst_104E_v12/post_allele_analysis/proteinortho_graph516_QC_Qcov80_PctID70_evalue01/no_respect_fasta/no_res_allele_pcontig_248_pcontig.ntref\" of length 21900\n",
      "# construct suffix tree for sequence of length 21900\n",
      "# (maximum reference length is 536870908)\n",
      "# (maximum query length is 4294967295)\n",
      "# CONSTRUCTIONTIME /usr/bin/mummer /home/benjamin/genome_assembly/PST79/FALCON/p_assemblies/v9_1/Pst_104E_v12/post_allele_analysis/proteinortho_graph516_QC_Qcov80_PctID70_evalue01/no_respect_fasta/no_res_allele_pcontig_248_pcontig.ntref 0.01\n",
      "# reading input file \"/home/benjamin/genome_assembly/PST79/FALCON/p_assemblies/v9_1/Pst_104E_v12/post_allele_analysis/proteinortho_graph516_QC_Qcov80_PctID70_evalue01/no_respect_fasta/no_res_allele_pcontig_248_hcontig.fa\" of length 33147\n",
      "# matching query-file \"/home/benjamin/genome_assembly/PST79/FALCON/p_assemblies/v9_1/Pst_104E_v12/post_allele_analysis/proteinortho_graph516_QC_Qcov80_PctID70_evalue01/no_respect_fasta/no_res_allele_pcontig_248_hcontig.fa\"\n",
      "# against subject-file \"/home/benjamin/genome_assembly/PST79/FALCON/p_assemblies/v9_1/Pst_104E_v12/post_allele_analysis/proteinortho_graph516_QC_Qcov80_PctID70_evalue01/no_respect_fasta/no_res_allele_pcontig_248_pcontig.ntref\"\n",
      "# COMPLETETIME /usr/bin/mummer /home/benjamin/genome_assembly/PST79/FALCON/p_assemblies/v9_1/Pst_104E_v12/post_allele_analysis/proteinortho_graph516_QC_Qcov80_PctID70_evalue01/no_respect_fasta/no_res_allele_pcontig_248_pcontig.ntref 0.02\n",
      "# SPACE /usr/bin/mummer /home/benjamin/genome_assembly/PST79/FALCON/p_assemblies/v9_1/Pst_104E_v12/post_allele_analysis/proteinortho_graph516_QC_Qcov80_PctID70_evalue01/no_respect_fasta/no_res_allele_pcontig_248_pcontig.ntref 0.05\n",
      "4: FINISHING DATA\n",
      "gnuplot 4.6 patchlevel 6\n",
      "Reading delta file /home/benjamin/genome_assembly/PST79/FALCON/p_assemblies/v9_1/Pst_104E_v12/post_allele_analysis/proteinortho_graph516_QC_Qcov80_PctID70_evalue01/no_respect_fasta/no_res_allele_pcontig_248_pcontig.filter\n",
      "Writing plot files /home/benjamin/genome_assembly/PST79/FALCON/p_assemblies/v9_1/Pst_104E_v12/post_allele_analysis/proteinortho_graph516_QC_Qcov80_PctID70_evalue01/no_respect_fasta/no_res_allele_pcontig_248_pcontig.fplot, /home/benjamin/genome_assembly/PST79/FALCON/p_assemblies/v9_1/Pst_104E_v12/post_allele_analysis/proteinortho_graph516_QC_Qcov80_PctID70_evalue01/no_respect_fasta/no_res_allele_pcontig_248_pcontig.rplot\n",
      "Writing gnuplot script /home/benjamin/genome_assembly/PST79/FALCON/p_assemblies/v9_1/Pst_104E_v12/post_allele_analysis/proteinortho_graph516_QC_Qcov80_PctID70_evalue01/no_respect_fasta/no_res_allele_pcontig_248_pcontig.gp\n",
      "Rendering plot /home/benjamin/genome_assembly/PST79/FALCON/p_assemblies/v9_1/Pst_104E_v12/post_allele_analysis/proteinortho_graph516_QC_Qcov80_PctID70_evalue01/no_respect_fasta/no_res_allele_pcontig_248_pcontig.ps\n",
      "1: PREPARING DATA\n",
      "2,3: RUNNING mummer AND CREATING CLUSTERS\n",
      "# reading input file \"/home/benjamin/genome_assembly/PST79/FALCON/p_assemblies/v9_1/Pst_104E_v12/post_allele_analysis/proteinortho_graph516_QC_Qcov80_PctID70_evalue01/no_respect_fasta/no_res_allele_pcontig_031_pcontig.ntref\" of length 876355\n",
      "# construct suffix tree for sequence of length 876355\n",
      "# (maximum reference length is 536870908)\n",
      "# (maximum query length is 4294967295)\n",
      "# process 8763 characters per dot\n",
      "#....................................................................................................\n",
      "# CONSTRUCTIONTIME /usr/bin/mummer /home/benjamin/genome_assembly/PST79/FALCON/p_assemblies/v9_1/Pst_104E_v12/post_allele_analysis/proteinortho_graph516_QC_Qcov80_PctID70_evalue01/no_respect_fasta/no_res_allele_pcontig_031_pcontig.ntref 0.30\n",
      "# reading input file \"/home/benjamin/genome_assembly/PST79/FALCON/p_assemblies/v9_1/Pst_104E_v12/post_allele_analysis/proteinortho_graph516_QC_Qcov80_PctID70_evalue01/no_respect_fasta/no_res_allele_pcontig_031_hcontig.fa\" of length 38606\n",
      "# matching query-file \"/home/benjamin/genome_assembly/PST79/FALCON/p_assemblies/v9_1/Pst_104E_v12/post_allele_analysis/proteinortho_graph516_QC_Qcov80_PctID70_evalue01/no_respect_fasta/no_res_allele_pcontig_031_hcontig.fa\"\n",
      "# against subject-file \"/home/benjamin/genome_assembly/PST79/FALCON/p_assemblies/v9_1/Pst_104E_v12/post_allele_analysis/proteinortho_graph516_QC_Qcov80_PctID70_evalue01/no_respect_fasta/no_res_allele_pcontig_031_pcontig.ntref\"\n",
      "# COMPLETETIME /usr/bin/mummer /home/benjamin/genome_assembly/PST79/FALCON/p_assemblies/v9_1/Pst_104E_v12/post_allele_analysis/proteinortho_graph516_QC_Qcov80_PctID70_evalue01/no_respect_fasta/no_res_allele_pcontig_031_pcontig.ntref 0.33\n",
      "# SPACE /usr/bin/mummer /home/benjamin/genome_assembly/PST79/FALCON/p_assemblies/v9_1/Pst_104E_v12/post_allele_analysis/proteinortho_graph516_QC_Qcov80_PctID70_evalue01/no_respect_fasta/no_res_allele_pcontig_031_pcontig.ntref 0.89\n",
      "4: FINISHING DATA\n",
      "gnuplot 4.6 patchlevel 6\n",
      "Reading delta file /home/benjamin/genome_assembly/PST79/FALCON/p_assemblies/v9_1/Pst_104E_v12/post_allele_analysis/proteinortho_graph516_QC_Qcov80_PctID70_evalue01/no_respect_fasta/no_res_allele_pcontig_031_pcontig.filter\n",
      "Writing plot files /home/benjamin/genome_assembly/PST79/FALCON/p_assemblies/v9_1/Pst_104E_v12/post_allele_analysis/proteinortho_graph516_QC_Qcov80_PctID70_evalue01/no_respect_fasta/no_res_allele_pcontig_031_pcontig.fplot, /home/benjamin/genome_assembly/PST79/FALCON/p_assemblies/v9_1/Pst_104E_v12/post_allele_analysis/proteinortho_graph516_QC_Qcov80_PctID70_evalue01/no_respect_fasta/no_res_allele_pcontig_031_pcontig.rplot\n",
      "Writing gnuplot script /home/benjamin/genome_assembly/PST79/FALCON/p_assemblies/v9_1/Pst_104E_v12/post_allele_analysis/proteinortho_graph516_QC_Qcov80_PctID70_evalue01/no_respect_fasta/no_res_allele_pcontig_031_pcontig.gp\n",
      "Rendering plot /home/benjamin/genome_assembly/PST79/FALCON/p_assemblies/v9_1/Pst_104E_v12/post_allele_analysis/proteinortho_graph516_QC_Qcov80_PctID70_evalue01/no_respect_fasta/no_res_allele_pcontig_031_pcontig.ps\n",
      "1: PREPARING DATA\n",
      "2,3: RUNNING mummer AND CREATING CLUSTERS\n",
      "# reading input file \"/home/benjamin/genome_assembly/PST79/FALCON/p_assemblies/v9_1/Pst_104E_v12/post_allele_analysis/proteinortho_graph516_QC_Qcov80_PctID70_evalue01/no_respect_fasta/no_res_allele_pcontig_100_pcontig.ntref\" of length 172018\n",
      "# construct suffix tree for sequence of length 172018\n",
      "# (maximum reference length is 536870908)\n",
      "# (maximum query length is 4294967295)\n",
      "# process 1720 characters per dot\n",
      "#....................................................................................................\n",
      "# CONSTRUCTIONTIME /usr/bin/mummer /home/benjamin/genome_assembly/PST79/FALCON/p_assemblies/v9_1/Pst_104E_v12/post_allele_analysis/proteinortho_graph516_QC_Qcov80_PctID70_evalue01/no_respect_fasta/no_res_allele_pcontig_100_pcontig.ntref 0.03\n",
      "# reading input file \"/home/benjamin/genome_assembly/PST79/FALCON/p_assemblies/v9_1/Pst_104E_v12/post_allele_analysis/proteinortho_graph516_QC_Qcov80_PctID70_evalue01/no_respect_fasta/no_res_allele_pcontig_100_hcontig.fa\" of length 22665\n",
      "# matching query-file \"/home/benjamin/genome_assembly/PST79/FALCON/p_assemblies/v9_1/Pst_104E_v12/post_allele_analysis/proteinortho_graph516_QC_Qcov80_PctID70_evalue01/no_respect_fasta/no_res_allele_pcontig_100_hcontig.fa\"\n",
      "# against subject-file \"/home/benjamin/genome_assembly/PST79/FALCON/p_assemblies/v9_1/Pst_104E_v12/post_allele_analysis/proteinortho_graph516_QC_Qcov80_PctID70_evalue01/no_respect_fasta/no_res_allele_pcontig_100_pcontig.ntref\"\n"
     ]
    },
    {
     "name": "stdout",
     "output_type": "stream",
     "text": [
      "# COMPLETETIME /usr/bin/mummer /home/benjamin/genome_assembly/PST79/FALCON/p_assemblies/v9_1/Pst_104E_v12/post_allele_analysis/proteinortho_graph516_QC_Qcov80_PctID70_evalue01/no_respect_fasta/no_res_allele_pcontig_100_pcontig.ntref 0.04\n",
      "# SPACE /usr/bin/mummer /home/benjamin/genome_assembly/PST79/FALCON/p_assemblies/v9_1/Pst_104E_v12/post_allele_analysis/proteinortho_graph516_QC_Qcov80_PctID70_evalue01/no_respect_fasta/no_res_allele_pcontig_100_pcontig.ntref 0.19\n",
      "4: FINISHING DATA\n",
      "gnuplot 4.6 patchlevel 6\n",
      "Reading delta file /home/benjamin/genome_assembly/PST79/FALCON/p_assemblies/v9_1/Pst_104E_v12/post_allele_analysis/proteinortho_graph516_QC_Qcov80_PctID70_evalue01/no_respect_fasta/no_res_allele_pcontig_100_pcontig.filter\n",
      "Writing plot files /home/benjamin/genome_assembly/PST79/FALCON/p_assemblies/v9_1/Pst_104E_v12/post_allele_analysis/proteinortho_graph516_QC_Qcov80_PctID70_evalue01/no_respect_fasta/no_res_allele_pcontig_100_pcontig.fplot, /home/benjamin/genome_assembly/PST79/FALCON/p_assemblies/v9_1/Pst_104E_v12/post_allele_analysis/proteinortho_graph516_QC_Qcov80_PctID70_evalue01/no_respect_fasta/no_res_allele_pcontig_100_pcontig.rplot\n",
      "Writing gnuplot script /home/benjamin/genome_assembly/PST79/FALCON/p_assemblies/v9_1/Pst_104E_v12/post_allele_analysis/proteinortho_graph516_QC_Qcov80_PctID70_evalue01/no_respect_fasta/no_res_allele_pcontig_100_pcontig.gp\n",
      "Rendering plot /home/benjamin/genome_assembly/PST79/FALCON/p_assemblies/v9_1/Pst_104E_v12/post_allele_analysis/proteinortho_graph516_QC_Qcov80_PctID70_evalue01/no_respect_fasta/no_res_allele_pcontig_100_pcontig.ps\n",
      "1: PREPARING DATA\n",
      "2,3: RUNNING mummer AND CREATING CLUSTERS\n",
      "# reading input file \"/home/benjamin/genome_assembly/PST79/FALCON/p_assemblies/v9_1/Pst_104E_v12/post_allele_analysis/proteinortho_graph516_QC_Qcov80_PctID70_evalue01/no_respect_fasta/no_res_allele_pcontig_023_pcontig.ntref\" of length 1304019\n",
      "# construct suffix tree for sequence of length 1304019\n",
      "# (maximum reference length is 536870908)\n",
      "# (maximum query length is 4294967295)\n",
      "# process 13040 characters per dot\n",
      "#....................................................................................................\n",
      "# CONSTRUCTIONTIME /usr/bin/mummer /home/benjamin/genome_assembly/PST79/FALCON/p_assemblies/v9_1/Pst_104E_v12/post_allele_analysis/proteinortho_graph516_QC_Qcov80_PctID70_evalue01/no_respect_fasta/no_res_allele_pcontig_023_pcontig.ntref 0.67\n",
      "# reading input file \"/home/benjamin/genome_assembly/PST79/FALCON/p_assemblies/v9_1/Pst_104E_v12/post_allele_analysis/proteinortho_graph516_QC_Qcov80_PctID70_evalue01/no_respect_fasta/no_res_allele_pcontig_023_hcontig.fa\" of length 60170\n",
      "# matching query-file \"/home/benjamin/genome_assembly/PST79/FALCON/p_assemblies/v9_1/Pst_104E_v12/post_allele_analysis/proteinortho_graph516_QC_Qcov80_PctID70_evalue01/no_respect_fasta/no_res_allele_pcontig_023_hcontig.fa\"\n",
      "# against subject-file \"/home/benjamin/genome_assembly/PST79/FALCON/p_assemblies/v9_1/Pst_104E_v12/post_allele_analysis/proteinortho_graph516_QC_Qcov80_PctID70_evalue01/no_respect_fasta/no_res_allele_pcontig_023_pcontig.ntref\"\n",
      "# COMPLETETIME /usr/bin/mummer /home/benjamin/genome_assembly/PST79/FALCON/p_assemblies/v9_1/Pst_104E_v12/post_allele_analysis/proteinortho_graph516_QC_Qcov80_PctID70_evalue01/no_respect_fasta/no_res_allele_pcontig_023_pcontig.ntref 0.77\n",
      "# SPACE /usr/bin/mummer /home/benjamin/genome_assembly/PST79/FALCON/p_assemblies/v9_1/Pst_104E_v12/post_allele_analysis/proteinortho_graph516_QC_Qcov80_PctID70_evalue01/no_respect_fasta/no_res_allele_pcontig_023_pcontig.ntref 1.32\n",
      "4: FINISHING DATA\n",
      "gnuplot 4.6 patchlevel 6\n",
      "Reading delta file /home/benjamin/genome_assembly/PST79/FALCON/p_assemblies/v9_1/Pst_104E_v12/post_allele_analysis/proteinortho_graph516_QC_Qcov80_PctID70_evalue01/no_respect_fasta/no_res_allele_pcontig_023_pcontig.filter\n",
      "Writing plot files /home/benjamin/genome_assembly/PST79/FALCON/p_assemblies/v9_1/Pst_104E_v12/post_allele_analysis/proteinortho_graph516_QC_Qcov80_PctID70_evalue01/no_respect_fasta/no_res_allele_pcontig_023_pcontig.fplot, /home/benjamin/genome_assembly/PST79/FALCON/p_assemblies/v9_1/Pst_104E_v12/post_allele_analysis/proteinortho_graph516_QC_Qcov80_PctID70_evalue01/no_respect_fasta/no_res_allele_pcontig_023_pcontig.rplot\n",
      "Writing gnuplot script /home/benjamin/genome_assembly/PST79/FALCON/p_assemblies/v9_1/Pst_104E_v12/post_allele_analysis/proteinortho_graph516_QC_Qcov80_PctID70_evalue01/no_respect_fasta/no_res_allele_pcontig_023_pcontig.gp\n",
      "Rendering plot /home/benjamin/genome_assembly/PST79/FALCON/p_assemblies/v9_1/Pst_104E_v12/post_allele_analysis/proteinortho_graph516_QC_Qcov80_PctID70_evalue01/no_respect_fasta/no_res_allele_pcontig_023_pcontig.ps\n",
      "1: PREPARING DATA\n",
      "2,3: RUNNING mummer AND CREATING CLUSTERS\n",
      "# reading input file \"/home/benjamin/genome_assembly/PST79/FALCON/p_assemblies/v9_1/Pst_104E_v12/post_allele_analysis/proteinortho_graph516_QC_Qcov80_PctID70_evalue01/no_respect_fasta/no_res_allele_pcontig_012_pcontig.ntref\" of length 1597243\n",
      "# construct suffix tree for sequence of length 1597243\n",
      "# (maximum reference length is 536870908)\n",
      "# (maximum query length is 4294967295)\n",
      "# process 15972 characters per dot\n",
      "#....................................................................................................\n",
      "# CONSTRUCTIONTIME /usr/bin/mummer /home/benjamin/genome_assembly/PST79/FALCON/p_assemblies/v9_1/Pst_104E_v12/post_allele_analysis/proteinortho_graph516_QC_Qcov80_PctID70_evalue01/no_respect_fasta/no_res_allele_pcontig_012_pcontig.ntref 0.66\n",
      "# reading input file \"/home/benjamin/genome_assembly/PST79/FALCON/p_assemblies/v9_1/Pst_104E_v12/post_allele_analysis/proteinortho_graph516_QC_Qcov80_PctID70_evalue01/no_respect_fasta/no_res_allele_pcontig_012_hcontig.fa\" of length 645904\n",
      "# matching query-file \"/home/benjamin/genome_assembly/PST79/FALCON/p_assemblies/v9_1/Pst_104E_v12/post_allele_analysis/proteinortho_graph516_QC_Qcov80_PctID70_evalue01/no_respect_fasta/no_res_allele_pcontig_012_hcontig.fa\"\n",
      "# against subject-file \"/home/benjamin/genome_assembly/PST79/FALCON/p_assemblies/v9_1/Pst_104E_v12/post_allele_analysis/proteinortho_graph516_QC_Qcov80_PctID70_evalue01/no_respect_fasta/no_res_allele_pcontig_012_pcontig.ntref\"\n",
      "# COMPLETETIME /usr/bin/mummer /home/benjamin/genome_assembly/PST79/FALCON/p_assemblies/v9_1/Pst_104E_v12/post_allele_analysis/proteinortho_graph516_QC_Qcov80_PctID70_evalue01/no_respect_fasta/no_res_allele_pcontig_012_pcontig.ntref 1.27\n",
      "# SPACE /usr/bin/mummer /home/benjamin/genome_assembly/PST79/FALCON/p_assemblies/v9_1/Pst_104E_v12/post_allele_analysis/proteinortho_graph516_QC_Qcov80_PctID70_evalue01/no_respect_fasta/no_res_allele_pcontig_012_pcontig.ntref 2.18\n",
      "4: FINISHING DATA\n",
      "gnuplot 4.6 patchlevel 6\n",
      "Reading delta file /home/benjamin/genome_assembly/PST79/FALCON/p_assemblies/v9_1/Pst_104E_v12/post_allele_analysis/proteinortho_graph516_QC_Qcov80_PctID70_evalue01/no_respect_fasta/no_res_allele_pcontig_012_pcontig.filter\n",
      "Writing plot files /home/benjamin/genome_assembly/PST79/FALCON/p_assemblies/v9_1/Pst_104E_v12/post_allele_analysis/proteinortho_graph516_QC_Qcov80_PctID70_evalue01/no_respect_fasta/no_res_allele_pcontig_012_pcontig.fplot, /home/benjamin/genome_assembly/PST79/FALCON/p_assemblies/v9_1/Pst_104E_v12/post_allele_analysis/proteinortho_graph516_QC_Qcov80_PctID70_evalue01/no_respect_fasta/no_res_allele_pcontig_012_pcontig.rplot\n",
      "Writing gnuplot script /home/benjamin/genome_assembly/PST79/FALCON/p_assemblies/v9_1/Pst_104E_v12/post_allele_analysis/proteinortho_graph516_QC_Qcov80_PctID70_evalue01/no_respect_fasta/no_res_allele_pcontig_012_pcontig.gp\n",
      "Rendering plot /home/benjamin/genome_assembly/PST79/FALCON/p_assemblies/v9_1/Pst_104E_v12/post_allele_analysis/proteinortho_graph516_QC_Qcov80_PctID70_evalue01/no_respect_fasta/no_res_allele_pcontig_012_pcontig.ps\n",
      "1: PREPARING DATA\n",
      "2,3: RUNNING mummer AND CREATING CLUSTERS\n",
      "# reading input file \"/home/benjamin/genome_assembly/PST79/FALCON/p_assemblies/v9_1/Pst_104E_v12/post_allele_analysis/proteinortho_graph516_QC_Qcov80_PctID70_evalue01/no_respect_fasta/no_res_allele_pcontig_174_pcontig.ntref\" of length 51087\n",
      "# construct suffix tree for sequence of length 51087\n",
      "# (maximum reference length is 536870908)\n",
      "# (maximum query length is 4294967295)\n",
      "# CONSTRUCTIONTIME /usr/bin/mummer /home/benjamin/genome_assembly/PST79/FALCON/p_assemblies/v9_1/Pst_104E_v12/post_allele_analysis/proteinortho_graph516_QC_Qcov80_PctID70_evalue01/no_respect_fasta/no_res_allele_pcontig_174_pcontig.ntref 0.01\n",
      "# reading input file \"/home/benjamin/genome_assembly/PST79/FALCON/p_assemblies/v9_1/Pst_104E_v12/post_allele_analysis/proteinortho_graph516_QC_Qcov80_PctID70_evalue01/no_respect_fasta/no_res_allele_pcontig_174_hcontig.fa\" of length 180550\n",
      "# matching query-file \"/home/benjamin/genome_assembly/PST79/FALCON/p_assemblies/v9_1/Pst_104E_v12/post_allele_analysis/proteinortho_graph516_QC_Qcov80_PctID70_evalue01/no_respect_fasta/no_res_allele_pcontig_174_hcontig.fa\"\n",
      "# against subject-file \"/home/benjamin/genome_assembly/PST79/FALCON/p_assemblies/v9_1/Pst_104E_v12/post_allele_analysis/proteinortho_graph516_QC_Qcov80_PctID70_evalue01/no_respect_fasta/no_res_allele_pcontig_174_pcontig.ntref\"\n"
     ]
    },
    {
     "name": "stdout",
     "output_type": "stream",
     "text": [
      "# COMPLETETIME /usr/bin/mummer /home/benjamin/genome_assembly/PST79/FALCON/p_assemblies/v9_1/Pst_104E_v12/post_allele_analysis/proteinortho_graph516_QC_Qcov80_PctID70_evalue01/no_respect_fasta/no_res_allele_pcontig_174_pcontig.ntref 0.06\n",
      "# SPACE /usr/bin/mummer /home/benjamin/genome_assembly/PST79/FALCON/p_assemblies/v9_1/Pst_104E_v12/post_allele_analysis/proteinortho_graph516_QC_Qcov80_PctID70_evalue01/no_respect_fasta/no_res_allele_pcontig_174_pcontig.ntref 0.22\n",
      "4: FINISHING DATA\n",
      "gnuplot 4.6 patchlevel 6\n",
      "Reading delta file /home/benjamin/genome_assembly/PST79/FALCON/p_assemblies/v9_1/Pst_104E_v12/post_allele_analysis/proteinortho_graph516_QC_Qcov80_PctID70_evalue01/no_respect_fasta/no_res_allele_pcontig_174_pcontig.filter\n",
      "Writing plot files /home/benjamin/genome_assembly/PST79/FALCON/p_assemblies/v9_1/Pst_104E_v12/post_allele_analysis/proteinortho_graph516_QC_Qcov80_PctID70_evalue01/no_respect_fasta/no_res_allele_pcontig_174_pcontig.fplot, /home/benjamin/genome_assembly/PST79/FALCON/p_assemblies/v9_1/Pst_104E_v12/post_allele_analysis/proteinortho_graph516_QC_Qcov80_PctID70_evalue01/no_respect_fasta/no_res_allele_pcontig_174_pcontig.rplot\n",
      "Writing gnuplot script /home/benjamin/genome_assembly/PST79/FALCON/p_assemblies/v9_1/Pst_104E_v12/post_allele_analysis/proteinortho_graph516_QC_Qcov80_PctID70_evalue01/no_respect_fasta/no_res_allele_pcontig_174_pcontig.gp\n",
      "Rendering plot /home/benjamin/genome_assembly/PST79/FALCON/p_assemblies/v9_1/Pst_104E_v12/post_allele_analysis/proteinortho_graph516_QC_Qcov80_PctID70_evalue01/no_respect_fasta/no_res_allele_pcontig_174_pcontig.ps\n",
      "1: PREPARING DATA\n",
      "2,3: RUNNING mummer AND CREATING CLUSTERS\n",
      "# reading input file \"/home/benjamin/genome_assembly/PST79/FALCON/p_assemblies/v9_1/Pst_104E_v12/post_allele_analysis/proteinortho_graph516_QC_Qcov80_PctID70_evalue01/no_respect_fasta/no_res_allele_pcontig_046_pcontig.ntref\" of length 720354\n",
      "# construct suffix tree for sequence of length 720354\n",
      "# (maximum reference length is 536870908)\n",
      "# (maximum query length is 4294967295)\n",
      "# process 7203 characters per dot\n",
      "#....................................................................................................\n",
      "# CONSTRUCTIONTIME /usr/bin/mummer /home/benjamin/genome_assembly/PST79/FALCON/p_assemblies/v9_1/Pst_104E_v12/post_allele_analysis/proteinortho_graph516_QC_Qcov80_PctID70_evalue01/no_respect_fasta/no_res_allele_pcontig_046_pcontig.ntref 0.20\n",
      "# reading input file \"/home/benjamin/genome_assembly/PST79/FALCON/p_assemblies/v9_1/Pst_104E_v12/post_allele_analysis/proteinortho_graph516_QC_Qcov80_PctID70_evalue01/no_respect_fasta/no_res_allele_pcontig_046_hcontig.fa\" of length 488858\n",
      "# matching query-file \"/home/benjamin/genome_assembly/PST79/FALCON/p_assemblies/v9_1/Pst_104E_v12/post_allele_analysis/proteinortho_graph516_QC_Qcov80_PctID70_evalue01/no_respect_fasta/no_res_allele_pcontig_046_hcontig.fa\"\n",
      "# against subject-file \"/home/benjamin/genome_assembly/PST79/FALCON/p_assemblies/v9_1/Pst_104E_v12/post_allele_analysis/proteinortho_graph516_QC_Qcov80_PctID70_evalue01/no_respect_fasta/no_res_allele_pcontig_046_pcontig.ntref\"\n",
      "# COMPLETETIME /usr/bin/mummer /home/benjamin/genome_assembly/PST79/FALCON/p_assemblies/v9_1/Pst_104E_v12/post_allele_analysis/proteinortho_graph516_QC_Qcov80_PctID70_evalue01/no_respect_fasta/no_res_allele_pcontig_046_pcontig.ntref 0.54\n",
      "# SPACE /usr/bin/mummer /home/benjamin/genome_assembly/PST79/FALCON/p_assemblies/v9_1/Pst_104E_v12/post_allele_analysis/proteinortho_graph516_QC_Qcov80_PctID70_evalue01/no_respect_fasta/no_res_allele_pcontig_046_pcontig.ntref 1.17\n",
      "4: FINISHING DATA\n",
      "gnuplot 4.6 patchlevel 6\n",
      "Reading delta file /home/benjamin/genome_assembly/PST79/FALCON/p_assemblies/v9_1/Pst_104E_v12/post_allele_analysis/proteinortho_graph516_QC_Qcov80_PctID70_evalue01/no_respect_fasta/no_res_allele_pcontig_046_pcontig.filter\n",
      "Writing plot files /home/benjamin/genome_assembly/PST79/FALCON/p_assemblies/v9_1/Pst_104E_v12/post_allele_analysis/proteinortho_graph516_QC_Qcov80_PctID70_evalue01/no_respect_fasta/no_res_allele_pcontig_046_pcontig.fplot, /home/benjamin/genome_assembly/PST79/FALCON/p_assemblies/v9_1/Pst_104E_v12/post_allele_analysis/proteinortho_graph516_QC_Qcov80_PctID70_evalue01/no_respect_fasta/no_res_allele_pcontig_046_pcontig.rplot\n",
      "Writing gnuplot script /home/benjamin/genome_assembly/PST79/FALCON/p_assemblies/v9_1/Pst_104E_v12/post_allele_analysis/proteinortho_graph516_QC_Qcov80_PctID70_evalue01/no_respect_fasta/no_res_allele_pcontig_046_pcontig.gp\n",
      "Rendering plot /home/benjamin/genome_assembly/PST79/FALCON/p_assemblies/v9_1/Pst_104E_v12/post_allele_analysis/proteinortho_graph516_QC_Qcov80_PctID70_evalue01/no_respect_fasta/no_res_allele_pcontig_046_pcontig.ps\n",
      "1: PREPARING DATA\n",
      "2,3: RUNNING mummer AND CREATING CLUSTERS\n",
      "# reading input file \"/home/benjamin/genome_assembly/PST79/FALCON/p_assemblies/v9_1/Pst_104E_v12/post_allele_analysis/proteinortho_graph516_QC_Qcov80_PctID70_evalue01/no_respect_fasta/no_res_allele_pcontig_233_pcontig.ntref\" of length 26115\n",
      "# construct suffix tree for sequence of length 26115\n",
      "# (maximum reference length is 536870908)\n",
      "# (maximum query length is 4294967295)\n",
      "# CONSTRUCTIONTIME /usr/bin/mummer /home/benjamin/genome_assembly/PST79/FALCON/p_assemblies/v9_1/Pst_104E_v12/post_allele_analysis/proteinortho_graph516_QC_Qcov80_PctID70_evalue01/no_respect_fasta/no_res_allele_pcontig_233_pcontig.ntref 0.00\n",
      "# reading input file \"/home/benjamin/genome_assembly/PST79/FALCON/p_assemblies/v9_1/Pst_104E_v12/post_allele_analysis/proteinortho_graph516_QC_Qcov80_PctID70_evalue01/no_respect_fasta/no_res_allele_pcontig_233_hcontig.fa\" of length 141628\n",
      "# matching query-file \"/home/benjamin/genome_assembly/PST79/FALCON/p_assemblies/v9_1/Pst_104E_v12/post_allele_analysis/proteinortho_graph516_QC_Qcov80_PctID70_evalue01/no_respect_fasta/no_res_allele_pcontig_233_hcontig.fa\"\n",
      "# against subject-file \"/home/benjamin/genome_assembly/PST79/FALCON/p_assemblies/v9_1/Pst_104E_v12/post_allele_analysis/proteinortho_graph516_QC_Qcov80_PctID70_evalue01/no_respect_fasta/no_res_allele_pcontig_233_pcontig.ntref\"\n",
      "# COMPLETETIME /usr/bin/mummer /home/benjamin/genome_assembly/PST79/FALCON/p_assemblies/v9_1/Pst_104E_v12/post_allele_analysis/proteinortho_graph516_QC_Qcov80_PctID70_evalue01/no_respect_fasta/no_res_allele_pcontig_233_pcontig.ntref 0.05\n",
      "# SPACE /usr/bin/mummer /home/benjamin/genome_assembly/PST79/FALCON/p_assemblies/v9_1/Pst_104E_v12/post_allele_analysis/proteinortho_graph516_QC_Qcov80_PctID70_evalue01/no_respect_fasta/no_res_allele_pcontig_233_pcontig.ntref 0.16\n",
      "4: FINISHING DATA\n",
      "gnuplot 4.6 patchlevel 6\n",
      "Reading delta file /home/benjamin/genome_assembly/PST79/FALCON/p_assemblies/v9_1/Pst_104E_v12/post_allele_analysis/proteinortho_graph516_QC_Qcov80_PctID70_evalue01/no_respect_fasta/no_res_allele_pcontig_233_pcontig.filter\n",
      "Writing plot files /home/benjamin/genome_assembly/PST79/FALCON/p_assemblies/v9_1/Pst_104E_v12/post_allele_analysis/proteinortho_graph516_QC_Qcov80_PctID70_evalue01/no_respect_fasta/no_res_allele_pcontig_233_pcontig.fplot, /home/benjamin/genome_assembly/PST79/FALCON/p_assemblies/v9_1/Pst_104E_v12/post_allele_analysis/proteinortho_graph516_QC_Qcov80_PctID70_evalue01/no_respect_fasta/no_res_allele_pcontig_233_pcontig.rplot\n",
      "Writing gnuplot script /home/benjamin/genome_assembly/PST79/FALCON/p_assemblies/v9_1/Pst_104E_v12/post_allele_analysis/proteinortho_graph516_QC_Qcov80_PctID70_evalue01/no_respect_fasta/no_res_allele_pcontig_233_pcontig.gp\n",
      "Rendering plot /home/benjamin/genome_assembly/PST79/FALCON/p_assemblies/v9_1/Pst_104E_v12/post_allele_analysis/proteinortho_graph516_QC_Qcov80_PctID70_evalue01/no_respect_fasta/no_res_allele_pcontig_233_pcontig.ps\n",
      "1: PREPARING DATA\n",
      "2,3: RUNNING mummer AND CREATING CLUSTERS\n",
      "# reading input file \"/home/benjamin/genome_assembly/PST79/FALCON/p_assemblies/v9_1/Pst_104E_v12/post_allele_analysis/proteinortho_graph516_QC_Qcov80_PctID70_evalue01/no_respect_fasta/no_res_allele_pcontig_037_pcontig.ntref\" of length 935605\n",
      "# construct suffix tree for sequence of length 935605\n",
      "# (maximum reference length is 536870908)\n",
      "# (maximum query length is 4294967295)\n",
      "# process 9356 characters per dot\n",
      "#....................................................................................................\n",
      "# CONSTRUCTIONTIME /usr/bin/mummer /home/benjamin/genome_assembly/PST79/FALCON/p_assemblies/v9_1/Pst_104E_v12/post_allele_analysis/proteinortho_graph516_QC_Qcov80_PctID70_evalue01/no_respect_fasta/no_res_allele_pcontig_037_pcontig.ntref 0.33\n",
      "# reading input file \"/home/benjamin/genome_assembly/PST79/FALCON/p_assemblies/v9_1/Pst_104E_v12/post_allele_analysis/proteinortho_graph516_QC_Qcov80_PctID70_evalue01/no_respect_fasta/no_res_allele_pcontig_037_hcontig.fa\" of length 49088\n",
      "# matching query-file \"/home/benjamin/genome_assembly/PST79/FALCON/p_assemblies/v9_1/Pst_104E_v12/post_allele_analysis/proteinortho_graph516_QC_Qcov80_PctID70_evalue01/no_respect_fasta/no_res_allele_pcontig_037_hcontig.fa\"\n",
      "# against subject-file \"/home/benjamin/genome_assembly/PST79/FALCON/p_assemblies/v9_1/Pst_104E_v12/post_allele_analysis/proteinortho_graph516_QC_Qcov80_PctID70_evalue01/no_respect_fasta/no_res_allele_pcontig_037_pcontig.ntref\"\n",
      "# COMPLETETIME /usr/bin/mummer /home/benjamin/genome_assembly/PST79/FALCON/p_assemblies/v9_1/Pst_104E_v12/post_allele_analysis/proteinortho_graph516_QC_Qcov80_PctID70_evalue01/no_respect_fasta/no_res_allele_pcontig_037_pcontig.ntref 0.37\n",
      "# SPACE /usr/bin/mummer /home/benjamin/genome_assembly/PST79/FALCON/p_assemblies/v9_1/Pst_104E_v12/post_allele_analysis/proteinortho_graph516_QC_Qcov80_PctID70_evalue01/no_respect_fasta/no_res_allele_pcontig_037_pcontig.ntref 0.95\n",
      "4: FINISHING DATA\n",
      "gnuplot 4.6 patchlevel 6\n",
      "Reading delta file /home/benjamin/genome_assembly/PST79/FALCON/p_assemblies/v9_1/Pst_104E_v12/post_allele_analysis/proteinortho_graph516_QC_Qcov80_PctID70_evalue01/no_respect_fasta/no_res_allele_pcontig_037_pcontig.filter\n",
      "Writing plot files /home/benjamin/genome_assembly/PST79/FALCON/p_assemblies/v9_1/Pst_104E_v12/post_allele_analysis/proteinortho_graph516_QC_Qcov80_PctID70_evalue01/no_respect_fasta/no_res_allele_pcontig_037_pcontig.fplot, /home/benjamin/genome_assembly/PST79/FALCON/p_assemblies/v9_1/Pst_104E_v12/post_allele_analysis/proteinortho_graph516_QC_Qcov80_PctID70_evalue01/no_respect_fasta/no_res_allele_pcontig_037_pcontig.rplot\n",
      "Writing gnuplot script /home/benjamin/genome_assembly/PST79/FALCON/p_assemblies/v9_1/Pst_104E_v12/post_allele_analysis/proteinortho_graph516_QC_Qcov80_PctID70_evalue01/no_respect_fasta/no_res_allele_pcontig_037_pcontig.gp\n",
      "Rendering plot /home/benjamin/genome_assembly/PST79/FALCON/p_assemblies/v9_1/Pst_104E_v12/post_allele_analysis/proteinortho_graph516_QC_Qcov80_PctID70_evalue01/no_respect_fasta/no_res_allele_pcontig_037_pcontig.ps\n",
      "1: PREPARING DATA\n",
      "2,3: RUNNING mummer AND CREATING CLUSTERS\n",
      "# reading input file \"/home/benjamin/genome_assembly/PST79/FALCON/p_assemblies/v9_1/Pst_104E_v12/post_allele_analysis/proteinortho_graph516_QC_Qcov80_PctID70_evalue01/no_respect_fasta/no_res_allele_pcontig_005_pcontig.ntref\" of length 2199356\n",
      "# construct suffix tree for sequence of length 2199356\n",
      "# (maximum reference length is 536870908)\n",
      "# (maximum query length is 4294967295)\n",
      "# process 21993 characters per dot\n",
      "#....................................................................................................\n",
      "# CONSTRUCTIONTIME /usr/bin/mummer /home/benjamin/genome_assembly/PST79/FALCON/p_assemblies/v9_1/Pst_104E_v12/post_allele_analysis/proteinortho_graph516_QC_Qcov80_PctID70_evalue01/no_respect_fasta/no_res_allele_pcontig_005_pcontig.ntref 1.32\n",
      "# reading input file \"/home/benjamin/genome_assembly/PST79/FALCON/p_assemblies/v9_1/Pst_104E_v12/post_allele_analysis/proteinortho_graph516_QC_Qcov80_PctID70_evalue01/no_respect_fasta/no_res_allele_pcontig_005_hcontig.fa\" of length 1768930\n",
      "# matching query-file \"/home/benjamin/genome_assembly/PST79/FALCON/p_assemblies/v9_1/Pst_104E_v12/post_allele_analysis/proteinortho_graph516_QC_Qcov80_PctID70_evalue01/no_respect_fasta/no_res_allele_pcontig_005_hcontig.fa\"\n",
      "# against subject-file \"/home/benjamin/genome_assembly/PST79/FALCON/p_assemblies/v9_1/Pst_104E_v12/post_allele_analysis/proteinortho_graph516_QC_Qcov80_PctID70_evalue01/no_respect_fasta/no_res_allele_pcontig_005_pcontig.ntref\"\n",
      "# COMPLETETIME /usr/bin/mummer /home/benjamin/genome_assembly/PST79/FALCON/p_assemblies/v9_1/Pst_104E_v12/post_allele_analysis/proteinortho_graph516_QC_Qcov80_PctID70_evalue01/no_respect_fasta/no_res_allele_pcontig_005_pcontig.ntref 3.33\n",
      "# SPACE /usr/bin/mummer /home/benjamin/genome_assembly/PST79/FALCON/p_assemblies/v9_1/Pst_104E_v12/post_allele_analysis/proteinortho_graph516_QC_Qcov80_PctID70_evalue01/no_respect_fasta/no_res_allele_pcontig_005_pcontig.ntref 3.85\n",
      "4: FINISHING DATA\n",
      "gnuplot 4.6 patchlevel 6\n",
      "Reading delta file /home/benjamin/genome_assembly/PST79/FALCON/p_assemblies/v9_1/Pst_104E_v12/post_allele_analysis/proteinortho_graph516_QC_Qcov80_PctID70_evalue01/no_respect_fasta/no_res_allele_pcontig_005_pcontig.filter\n",
      "Writing plot files /home/benjamin/genome_assembly/PST79/FALCON/p_assemblies/v9_1/Pst_104E_v12/post_allele_analysis/proteinortho_graph516_QC_Qcov80_PctID70_evalue01/no_respect_fasta/no_res_allele_pcontig_005_pcontig.fplot, /home/benjamin/genome_assembly/PST79/FALCON/p_assemblies/v9_1/Pst_104E_v12/post_allele_analysis/proteinortho_graph516_QC_Qcov80_PctID70_evalue01/no_respect_fasta/no_res_allele_pcontig_005_pcontig.rplot\n",
      "Writing gnuplot script /home/benjamin/genome_assembly/PST79/FALCON/p_assemblies/v9_1/Pst_104E_v12/post_allele_analysis/proteinortho_graph516_QC_Qcov80_PctID70_evalue01/no_respect_fasta/no_res_allele_pcontig_005_pcontig.gp\n",
      "Rendering plot /home/benjamin/genome_assembly/PST79/FALCON/p_assemblies/v9_1/Pst_104E_v12/post_allele_analysis/proteinortho_graph516_QC_Qcov80_PctID70_evalue01/no_respect_fasta/no_res_allele_pcontig_005_pcontig.ps\n",
      "1: PREPARING DATA\n",
      "2,3: RUNNING mummer AND CREATING CLUSTERS\n",
      "# reading input file \"/home/benjamin/genome_assembly/PST79/FALCON/p_assemblies/v9_1/Pst_104E_v12/post_allele_analysis/proteinortho_graph516_QC_Qcov80_PctID70_evalue01/no_respect_fasta/no_res_allele_pcontig_045_pcontig.ntref\" of length 705193\n",
      "# construct suffix tree for sequence of length 705193\n",
      "# (maximum reference length is 536870908)\n",
      "# (maximum query length is 4294967295)\n",
      "# process 7051 characters per dot\n",
      "#....................................................................................................\n",
      "# CONSTRUCTIONTIME /usr/bin/mummer /home/benjamin/genome_assembly/PST79/FALCON/p_assemblies/v9_1/Pst_104E_v12/post_allele_analysis/proteinortho_graph516_QC_Qcov80_PctID70_evalue01/no_respect_fasta/no_res_allele_pcontig_045_pcontig.ntref 0.23\n",
      "# reading input file \"/home/benjamin/genome_assembly/PST79/FALCON/p_assemblies/v9_1/Pst_104E_v12/post_allele_analysis/proteinortho_graph516_QC_Qcov80_PctID70_evalue01/no_respect_fasta/no_res_allele_pcontig_045_hcontig.fa\" of length 158282\n",
      "# matching query-file \"/home/benjamin/genome_assembly/PST79/FALCON/p_assemblies/v9_1/Pst_104E_v12/post_allele_analysis/proteinortho_graph516_QC_Qcov80_PctID70_evalue01/no_respect_fasta/no_res_allele_pcontig_045_hcontig.fa\"\n",
      "# against subject-file \"/home/benjamin/genome_assembly/PST79/FALCON/p_assemblies/v9_1/Pst_104E_v12/post_allele_analysis/proteinortho_graph516_QC_Qcov80_PctID70_evalue01/no_respect_fasta/no_res_allele_pcontig_045_pcontig.ntref\"\n",
      "# COMPLETETIME /usr/bin/mummer /home/benjamin/genome_assembly/PST79/FALCON/p_assemblies/v9_1/Pst_104E_v12/post_allele_analysis/proteinortho_graph516_QC_Qcov80_PctID70_evalue01/no_respect_fasta/no_res_allele_pcontig_045_pcontig.ntref 0.34\n",
      "# SPACE /usr/bin/mummer /home/benjamin/genome_assembly/PST79/FALCON/p_assemblies/v9_1/Pst_104E_v12/post_allele_analysis/proteinortho_graph516_QC_Qcov80_PctID70_evalue01/no_respect_fasta/no_res_allele_pcontig_045_pcontig.ntref 0.84\n",
      "4: FINISHING DATA\n",
      "gnuplot 4.6 patchlevel 6\n",
      "Reading delta file /home/benjamin/genome_assembly/PST79/FALCON/p_assemblies/v9_1/Pst_104E_v12/post_allele_analysis/proteinortho_graph516_QC_Qcov80_PctID70_evalue01/no_respect_fasta/no_res_allele_pcontig_045_pcontig.filter\n",
      "Writing plot files /home/benjamin/genome_assembly/PST79/FALCON/p_assemblies/v9_1/Pst_104E_v12/post_allele_analysis/proteinortho_graph516_QC_Qcov80_PctID70_evalue01/no_respect_fasta/no_res_allele_pcontig_045_pcontig.fplot, /home/benjamin/genome_assembly/PST79/FALCON/p_assemblies/v9_1/Pst_104E_v12/post_allele_analysis/proteinortho_graph516_QC_Qcov80_PctID70_evalue01/no_respect_fasta/no_res_allele_pcontig_045_pcontig.rplot\n",
      "Writing gnuplot script /home/benjamin/genome_assembly/PST79/FALCON/p_assemblies/v9_1/Pst_104E_v12/post_allele_analysis/proteinortho_graph516_QC_Qcov80_PctID70_evalue01/no_respect_fasta/no_res_allele_pcontig_045_pcontig.gp\n",
      "Rendering plot /home/benjamin/genome_assembly/PST79/FALCON/p_assemblies/v9_1/Pst_104E_v12/post_allele_analysis/proteinortho_graph516_QC_Qcov80_PctID70_evalue01/no_respect_fasta/no_res_allele_pcontig_045_pcontig.ps\n"
     ]
    },
    {
     "name": "stdout",
     "output_type": "stream",
     "text": [
      "1: PREPARING DATA\n",
      "2,3: RUNNING mummer AND CREATING CLUSTERS\n",
      "# reading input file \"/home/benjamin/genome_assembly/PST79/FALCON/p_assemblies/v9_1/Pst_104E_v12/post_allele_analysis/proteinortho_graph516_QC_Qcov80_PctID70_evalue01/no_respect_fasta/no_res_allele_pcontig_010_pcontig.ntref\" of length 1722003\n",
      "# construct suffix tree for sequence of length 1722003\n",
      "# (maximum reference length is 536870908)\n",
      "# (maximum query length is 4294967295)\n",
      "# process 17220 characters per dot\n",
      "#....................................................................................................\n",
      "# CONSTRUCTIONTIME /usr/bin/mummer /home/benjamin/genome_assembly/PST79/FALCON/p_assemblies/v9_1/Pst_104E_v12/post_allele_analysis/proteinortho_graph516_QC_Qcov80_PctID70_evalue01/no_respect_fasta/no_res_allele_pcontig_010_pcontig.ntref 0.88\n",
      "# reading input file \"/home/benjamin/genome_assembly/PST79/FALCON/p_assemblies/v9_1/Pst_104E_v12/post_allele_analysis/proteinortho_graph516_QC_Qcov80_PctID70_evalue01/no_respect_fasta/no_res_allele_pcontig_010_hcontig.fa\" of length 287315\n",
      "# matching query-file \"/home/benjamin/genome_assembly/PST79/FALCON/p_assemblies/v9_1/Pst_104E_v12/post_allele_analysis/proteinortho_graph516_QC_Qcov80_PctID70_evalue01/no_respect_fasta/no_res_allele_pcontig_010_hcontig.fa\"\n",
      "# against subject-file \"/home/benjamin/genome_assembly/PST79/FALCON/p_assemblies/v9_1/Pst_104E_v12/post_allele_analysis/proteinortho_graph516_QC_Qcov80_PctID70_evalue01/no_respect_fasta/no_res_allele_pcontig_010_pcontig.ntref\"\n",
      "# COMPLETETIME /usr/bin/mummer /home/benjamin/genome_assembly/PST79/FALCON/p_assemblies/v9_1/Pst_104E_v12/post_allele_analysis/proteinortho_graph516_QC_Qcov80_PctID70_evalue01/no_respect_fasta/no_res_allele_pcontig_010_pcontig.ntref 1.16\n",
      "# SPACE /usr/bin/mummer /home/benjamin/genome_assembly/PST79/FALCON/p_assemblies/v9_1/Pst_104E_v12/post_allele_analysis/proteinortho_graph516_QC_Qcov80_PctID70_evalue01/no_respect_fasta/no_res_allele_pcontig_010_pcontig.ntref 1.95\n",
      "4: FINISHING DATA\n",
      "gnuplot 4.6 patchlevel 6\n",
      "Reading delta file /home/benjamin/genome_assembly/PST79/FALCON/p_assemblies/v9_1/Pst_104E_v12/post_allele_analysis/proteinortho_graph516_QC_Qcov80_PctID70_evalue01/no_respect_fasta/no_res_allele_pcontig_010_pcontig.filter\n",
      "Writing plot files /home/benjamin/genome_assembly/PST79/FALCON/p_assemblies/v9_1/Pst_104E_v12/post_allele_analysis/proteinortho_graph516_QC_Qcov80_PctID70_evalue01/no_respect_fasta/no_res_allele_pcontig_010_pcontig.fplot, /home/benjamin/genome_assembly/PST79/FALCON/p_assemblies/v9_1/Pst_104E_v12/post_allele_analysis/proteinortho_graph516_QC_Qcov80_PctID70_evalue01/no_respect_fasta/no_res_allele_pcontig_010_pcontig.rplot\n",
      "Writing gnuplot script /home/benjamin/genome_assembly/PST79/FALCON/p_assemblies/v9_1/Pst_104E_v12/post_allele_analysis/proteinortho_graph516_QC_Qcov80_PctID70_evalue01/no_respect_fasta/no_res_allele_pcontig_010_pcontig.gp\n",
      "Rendering plot /home/benjamin/genome_assembly/PST79/FALCON/p_assemblies/v9_1/Pst_104E_v12/post_allele_analysis/proteinortho_graph516_QC_Qcov80_PctID70_evalue01/no_respect_fasta/no_res_allele_pcontig_010_pcontig.ps\n",
      "1: PREPARING DATA\n",
      "2,3: RUNNING mummer AND CREATING CLUSTERS\n",
      "# reading input file \"/home/benjamin/genome_assembly/PST79/FALCON/p_assemblies/v9_1/Pst_104E_v12/post_allele_analysis/proteinortho_graph516_QC_Qcov80_PctID70_evalue01/no_respect_fasta/no_res_allele_pcontig_103_pcontig.ntref\" of length 158165\n",
      "# construct suffix tree for sequence of length 158165\n",
      "# (maximum reference length is 536870908)\n",
      "# (maximum query length is 4294967295)\n",
      "# process 1581 characters per dot\n",
      "#....................................................................................................\n",
      "# CONSTRUCTIONTIME /usr/bin/mummer /home/benjamin/genome_assembly/PST79/FALCON/p_assemblies/v9_1/Pst_104E_v12/post_allele_analysis/proteinortho_graph516_QC_Qcov80_PctID70_evalue01/no_respect_fasta/no_res_allele_pcontig_103_pcontig.ntref 0.04\n",
      "# reading input file \"/home/benjamin/genome_assembly/PST79/FALCON/p_assemblies/v9_1/Pst_104E_v12/post_allele_analysis/proteinortho_graph516_QC_Qcov80_PctID70_evalue01/no_respect_fasta/no_res_allele_pcontig_103_hcontig.fa\" of length 439747\n",
      "# matching query-file \"/home/benjamin/genome_assembly/PST79/FALCON/p_assemblies/v9_1/Pst_104E_v12/post_allele_analysis/proteinortho_graph516_QC_Qcov80_PctID70_evalue01/no_respect_fasta/no_res_allele_pcontig_103_hcontig.fa\"\n",
      "# against subject-file \"/home/benjamin/genome_assembly/PST79/FALCON/p_assemblies/v9_1/Pst_104E_v12/post_allele_analysis/proteinortho_graph516_QC_Qcov80_PctID70_evalue01/no_respect_fasta/no_res_allele_pcontig_103_pcontig.ntref\"\n",
      "# COMPLETETIME /usr/bin/mummer /home/benjamin/genome_assembly/PST79/FALCON/p_assemblies/v9_1/Pst_104E_v12/post_allele_analysis/proteinortho_graph516_QC_Qcov80_PctID70_evalue01/no_respect_fasta/no_res_allele_pcontig_103_pcontig.ntref 0.20\n",
      "# SPACE /usr/bin/mummer /home/benjamin/genome_assembly/PST79/FALCON/p_assemblies/v9_1/Pst_104E_v12/post_allele_analysis/proteinortho_graph516_QC_Qcov80_PctID70_evalue01/no_respect_fasta/no_res_allele_pcontig_103_pcontig.ntref 0.58\n",
      "4: FINISHING DATA\n",
      "gnuplot 4.6 patchlevel 6\n",
      "Reading delta file /home/benjamin/genome_assembly/PST79/FALCON/p_assemblies/v9_1/Pst_104E_v12/post_allele_analysis/proteinortho_graph516_QC_Qcov80_PctID70_evalue01/no_respect_fasta/no_res_allele_pcontig_103_pcontig.filter\n",
      "Writing plot files /home/benjamin/genome_assembly/PST79/FALCON/p_assemblies/v9_1/Pst_104E_v12/post_allele_analysis/proteinortho_graph516_QC_Qcov80_PctID70_evalue01/no_respect_fasta/no_res_allele_pcontig_103_pcontig.fplot, /home/benjamin/genome_assembly/PST79/FALCON/p_assemblies/v9_1/Pst_104E_v12/post_allele_analysis/proteinortho_graph516_QC_Qcov80_PctID70_evalue01/no_respect_fasta/no_res_allele_pcontig_103_pcontig.rplot\n",
      "Writing gnuplot script /home/benjamin/genome_assembly/PST79/FALCON/p_assemblies/v9_1/Pst_104E_v12/post_allele_analysis/proteinortho_graph516_QC_Qcov80_PctID70_evalue01/no_respect_fasta/no_res_allele_pcontig_103_pcontig.gp\n",
      "Rendering plot /home/benjamin/genome_assembly/PST79/FALCON/p_assemblies/v9_1/Pst_104E_v12/post_allele_analysis/proteinortho_graph516_QC_Qcov80_PctID70_evalue01/no_respect_fasta/no_res_allele_pcontig_103_pcontig.ps\n"
     ]
    }
   ],
   "source": [
    "#add quick mummerplots\n",
    "os.chdir(OUT_PATH_NO_RES)\n",
    "for _index, row in most_linked_non_ra_alleles_df.iterrows():\n",
    "    tmp_p_contig = row['pcontig']\n",
    "    tmp_h_contig = row['hcontig']\n",
    "    ref = os.path.join(OUT_PATH_NO_RES, 'no_res_allele_%s_pcontig.fa' %tmp_p_contig)\n",
    "    query = os.path.join(OUT_PATH_NO_RES, 'no_res_allele_%s_hcontig.fa' %tmp_p_contig)\n",
    "    nucmer = '/home/benjamin/anaconda3/bin/nucmer'\n",
    "    !nucmer --maxgap=500 --mincluster=100 --prefix={ref[:-3]} {ref} {query}\n",
    "    !show-coords -r {ref[:-3]}.delta > {ref[:-3]}.coords\n",
    "    !delta-filter -q -r {ref[:-3]}.delta > {ref[:-3]}.filter\n",
    "    !perl /home/benjamin/anaconda3/bin/mummerplot --postscript {ref[:-3]}.filter -R {ref} -Q {query} --prefix={ref[:-3]}"
   ]
  },
  {
   "cell_type": "code",
   "execution_count": 331,
   "metadata": {},
   "outputs": [
    {
     "name": "stdout",
     "output_type": "stream",
     "text": [
      "/home/benjamin/anaconda3/bin/nucmer\r\n"
     ]
    }
   ],
   "source": [
    "!which nucmer"
   ]
  },
  {
   "cell_type": "code",
   "execution_count": 326,
   "metadata": {
    "collapsed": true
   },
   "outputs": [],
   "source": [
    "most_linked_non_ra_alleles_df.sort_values('number_of_overlaps', inplace=True)\n",
    "most_linked_non_ra_alleles_df.to_csv(os.path.join(OUT_PATH_NO_RES, 'max_linkage_per_pcontig.tab'), sep='\\t')"
   ]
  },
  {
   "cell_type": "code",
   "execution_count": 340,
   "metadata": {
    "collapsed": true
   },
   "outputs": [],
   "source": [
    "#check out the lenght of those contigs\n",
    "c_list = return_contig_fasta(most_linked_non_ra_alleles_df.pcontig.unique(), contig_fa_fn)"
   ]
  },
  {
   "cell_type": "code",
   "execution_count": 345,
   "metadata": {
    "collapsed": true
   },
   "outputs": [],
   "source": [
    "c_len_list = [len(x.seq) for x in c_list]\n",
    "all_len_list = [len(x.seq) for x in return_contig_fasta(allele_blast_df.q_contig.unique(), contig_fa_fn)]"
   ]
  },
  {
   "cell_type": "code",
   "execution_count": 353,
   "metadata": {},
   "outputs": [
    {
     "data": {
      "text/plain": [
       "RanksumsResult(statistic=1.7179341503674419, pvalue=0.085808626926354672)"
      ]
     },
     "execution_count": 353,
     "metadata": {},
     "output_type": "execute_result"
    }
   ],
   "source": [
    "stats.ranksums(c_len_list, all_len_list)"
   ]
  },
  {
   "cell_type": "code",
   "execution_count": 351,
   "metadata": {},
   "outputs": [
    {
     "name": "stdout",
     "output_type": "stream",
     "text": [
      "849631.351351 720353.0\n"
     ]
    }
   ],
   "source": [
    "#mean and median of contigs with 2> linkages to another haplotig\n",
    "print(np.mean(c_len_list),np.median(c_len_list))"
   ]
  },
  {
   "cell_type": "code",
   "execution_count": 352,
   "metadata": {},
   "outputs": [
    {
     "name": "stdout",
     "output_type": "stream",
     "text": [
      "560584.155405 276393.0\n"
     ]
    }
   ],
   "source": [
    "#mean and median of contigs with 2> linkages to another haplotig\n",
    "print(np.mean(all_len_list),np.median(all_len_list))"
   ]
  },
  {
   "cell_type": "code",
   "execution_count": 354,
   "metadata": {},
   "outputs": [
    {
     "data": {
      "text/plain": [
       "176.0"
      ]
     },
     "execution_count": 354,
     "metadata": {},
     "output_type": "execute_result"
    }
   ],
   "source": [
    "most_linked_non_ra_alleles_df.number_of_overlaps.sum()"
   ]
  },
  {
   "cell_type": "code",
   "execution_count": 359,
   "metadata": {},
   "outputs": [
    {
     "data": {
      "text/plain": [
       "Index(['pcontig_000', 'pcontig_001', 'pcontig_002', 'pcontig_003',\n",
       "       'pcontig_004', 'pcontig_005', 'pcontig_006', 'pcontig_007',\n",
       "       'pcontig_008', 'pcontig_009',\n",
       "       ...\n",
       "       'pcontig_200', 'pcontig_202', 'pcontig_204', 'pcontig_218',\n",
       "       'pcontig_221', 'pcontig_223', 'pcontig_225', 'pcontig_233',\n",
       "       'pcontig_235', 'pcontig_248'],\n",
       "      dtype='object', name='pcontig', length=124)"
      ]
     },
     "execution_count": 359,
     "metadata": {},
     "output_type": "execute_result"
    }
   ],
   "source": [
    "no_ra_linkage_count_df.sum(axis=1).index"
   ]
  },
  {
   "cell_type": "code",
   "execution_count": 363,
   "metadata": {},
   "outputs": [
    {
     "data": {
      "text/plain": [
       "pcontig\n",
       "pcontig_000    0.000182\n",
       "pcontig_001    0.000192\n",
       "pcontig_002    0.000154\n",
       "pcontig_003    0.000077\n",
       "pcontig_004    0.000053\n",
       "pcontig_005    0.000148\n",
       "pcontig_006    0.000048\n",
       "pcontig_007    0.000087\n",
       "pcontig_008    0.000117\n",
       "pcontig_009    0.000106\n",
       "pcontig_010    0.000039\n",
       "pcontig_011    0.000014\n",
       "pcontig_012    0.000029\n",
       "pcontig_013    0.000046\n",
       "pcontig_014    0.000044\n",
       "pcontig_015    0.000074\n",
       "pcontig_016    0.000036\n",
       "pcontig_017    0.000016\n",
       "pcontig_018    0.000013\n",
       "pcontig_019    0.000026\n",
       "pcontig_020    0.000041\n",
       "pcontig_021    0.000029\n",
       "pcontig_022    0.000019\n",
       "pcontig_023    0.000060\n",
       "pcontig_025    0.000031\n",
       "pcontig_026    0.000046\n",
       "pcontig_027    0.000030\n",
       "pcontig_028    0.000006\n",
       "pcontig_029    0.000014\n",
       "pcontig_030    0.000014\n",
       "                 ...   \n",
       "pcontig_120    0.000028\n",
       "pcontig_129    0.000113\n",
       "pcontig_130    0.000057\n",
       "pcontig_134    0.000038\n",
       "pcontig_146    0.000102\n",
       "pcontig_148    0.000072\n",
       "pcontig_149    0.000038\n",
       "pcontig_150    0.000039\n",
       "pcontig_152    0.000064\n",
       "pcontig_154    0.000018\n",
       "pcontig_157    0.000038\n",
       "pcontig_163    0.000031\n",
       "pcontig_170    0.000058\n",
       "pcontig_171    0.000019\n",
       "pcontig_172    0.000020\n",
       "pcontig_173    0.000072\n",
       "pcontig_174    0.000146\n",
       "pcontig_186    0.000055\n",
       "pcontig_187    0.000034\n",
       "pcontig_195    0.000055\n",
       "pcontig_200    0.000072\n",
       "pcontig_202    0.000015\n",
       "pcontig_204    0.000030\n",
       "pcontig_218    0.000045\n",
       "pcontig_221    0.000006\n",
       "pcontig_223    0.000006\n",
       "pcontig_225    0.000048\n",
       "pcontig_233    0.000021\n",
       "pcontig_235    0.000004\n",
       "pcontig_248    0.000091\n",
       "Length: 124, dtype: float64"
      ]
     },
     "execution_count": 363,
     "metadata": {},
     "output_type": "execute_result"
    }
   ],
   "source": [
    "no_ra_linkage_count_df.sum(axis=1)/\\\n",
    "[len(x.seq) for x in return_contig_fasta(no_ra_linkage_count_df.sum(axis=1).index, contig_fa_fn)]"
   ]
  },
  {
   "cell_type": "code",
   "execution_count": 171,
   "metadata": {},
   "outputs": [
    {
     "name": "stdout",
     "output_type": "stream",
     "text": [
      "hcontig_greater_2000.txt\t    Pst_104E_v12_p_ctg.fa\r\n",
      "hcontig_smaller_2000.txt\t    Pst_104E_v12_p_ctg.fa.fai\r\n",
      "pcontig_greater_2000.txt\t    Pst_104E_v12_p_ctg.genome_file\r\n",
      "pcontig_smaller_2000.txt\t    Pst_104E_v12_p_ctg.REPET.gff\r\n",
      "Pst_104E_v12_h_ctg.anno.CDS.fa\t    Pst_104E_v12_ph_ctg.anno.CDS.fa\r\n",
      "Pst_104E_v12_h_ctg.anno.CDS.gff3    Pst_104E_v12_ph_ctg.anno.CDS.gff3\r\n",
      "Pst_104E_v12_h_ctg.anno.gene.fa     Pst_104E_v12_ph_ctg.anno.gene.fa\r\n",
      "Pst_104E_v12_h_ctg.anno.gff3\t    Pst_104E_v12_ph_ctg.anno.gff3\r\n",
      "Pst_104E_v12_h_ctg.anno.protein.fa  Pst_104E_v12_ph_ctg.anno.protein.fa\r\n",
      "Pst_104E_v12_h_ctg.fa\t\t    Pst_104E_v12_ph_ctg.fa\r\n",
      "Pst_104E_v12_h_ctg.fa.fai\t    Pst_104E_v12_ph_ctg.fa.fai\r\n",
      "Pst_104E_v12_h_ctg.genome_file\t    Pst_104E_v12_ph_ctg.REPET.gff\r\n",
      "Pst_104E_v12_h_ctg.REPET.gff\t    Pst_104E_v12_pwh_ctg.anno.gff3\r\n",
      "Pst_104E_v12_p_ctg.anno.CDS.fa\t    Pst_104E_v12_pwh.txt\r\n",
      "Pst_104E_v12_p_ctg.anno.CDS.gff3    Pst_104E_v12_pwoh_ctg.anno.gff3\r\n",
      "Pst_104E_v12_p_ctg.anno.gene.fa     Pst_104E_v12_pwoh.txt\r\n",
      "Pst_104E_v12_p_ctg.anno.gff3\t    README.txt\r\n",
      "Pst_104E_v12_p_ctg.anno.protein.fa\r\n"
     ]
    }
   ],
   "source": [
    "!ls {BASE_A_PATH}"
   ]
  },
  {
   "cell_type": "code",
   "execution_count": null,
   "metadata": {
    "collapsed": true
   },
   "outputs": [],
   "source": []
  },
  {
   "cell_type": "code",
   "execution_count": null,
   "metadata": {
    "collapsed": true
   },
   "outputs": [],
   "source": []
  },
  {
   "cell_type": "code",
   "execution_count": null,
   "metadata": {
    "collapsed": true
   },
   "outputs": [],
   "source": []
  },
  {
   "cell_type": "code",
   "execution_count": null,
   "metadata": {
    "collapsed": true
   },
   "outputs": [],
   "source": []
  },
  {
   "cell_type": "code",
   "execution_count": null,
   "metadata": {
    "collapsed": true
   },
   "outputs": [],
   "source": []
  },
  {
   "cell_type": "code",
   "execution_count": null,
   "metadata": {
    "collapsed": true
   },
   "outputs": [],
   "source": [
    "len(tmp_df_ids)"
   ]
  },
  {
   "cell_type": "code",
   "execution_count": null,
   "metadata": {
    "collapsed": true
   },
   "outputs": [],
   "source": [
    "tmp_df.QCov"
   ]
  },
  {
   "cell_type": "code",
   "execution_count": null,
   "metadata": {
    "collapsed": true
   },
   "outputs": [],
   "source": [
    "QP_filter = (allele_QC_df.QCov >= QCov_limit) & (allele_QC_df.PctID >= PctID_limit)"
   ]
  },
  {
   "cell_type": "code",
   "execution_count": null,
   "metadata": {
    "collapsed": true
   },
   "outputs": [],
   "source": []
  },
  {
   "cell_type": "code",
   "execution_count": null,
   "metadata": {
    "collapsed": true
   },
   "outputs": [],
   "source": [
    "#now a bit more specific for each haplotyp\n",
    "os.chdir(ALLELE_QC_PATH)\n",
    "allele_blast_df.head()"
   ]
  },
  {
   "cell_type": "code",
   "execution_count": null,
   "metadata": {
    "collapsed": true
   },
   "outputs": [],
   "source": []
  }
 ],
 "metadata": {
  "kernelspec": {
   "display_name": "Python 3",
   "language": "python",
   "name": "python3"
  },
  "language_info": {
   "codemirror_mode": {
    "name": "ipython",
    "version": 3
   },
   "file_extension": ".py",
   "mimetype": "text/x-python",
   "name": "python",
   "nbconvert_exporter": "python",
   "pygments_lexer": "ipython3",
   "version": "3.5.3"
  }
 },
 "nbformat": 4,
 "nbformat_minor": 2
}
