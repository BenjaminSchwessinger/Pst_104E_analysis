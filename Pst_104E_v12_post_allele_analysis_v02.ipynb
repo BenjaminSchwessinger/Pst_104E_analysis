{
 "cells": [
  {
   "cell_type": "markdown",
   "metadata": {},
   "source": [
    "This notebook is aimed at looked at the allele analysis output a bit more interms of what are the alleles. What is missing? What is the GO term enrichment in those if any? How much are effectors?....\n",
    "The input is based on the following ideas:\n",
    "\n",
    "\n",
    "the idea is to label alleles, non_allelic 'orthologs' singeltons, and single nuclear genes.\n",
    "* alleles are bast on proteinortho -synteny flag\n",
    "* non_allelic 'orthologs' are genes that cluster on the protein level but are not allelic\n",
    "* singeltons are genes without ‘ortholog’ in the other haplotype\n",
    "* single haplotype genes are genes that have no gene to genome blast hit e_value = 1e-2 and are not in a homozygous region.\n",
    "\n",
    "Final analysis is based on Pst_104E_v12_missing_allele_QC_v03.ipynb and Pst_104E_v12_defining_alleles_v03.ipynb in folder \n",
    "/home/benjamin/genome_assembly/PST79/FALCON/p_assemblies/v9_1/Pst_104E_v12/allele_analysis/no_alleles_proteinortho_graph516_QC_Qcov80_PctID70_evalue01 and alleles_proteinortho_graph516\n"
   ]
  },
  {
   "cell_type": "code",
   "execution_count": 1,
   "metadata": {
    "collapsed": true
   },
   "outputs": [],
   "source": [
    "%matplotlib inline"
   ]
  },
  {
   "cell_type": "code",
   "execution_count": 2,
   "metadata": {},
   "outputs": [
    {
     "name": "stderr",
     "output_type": "stream",
     "text": [
      "/home/benjamin/anaconda3/lib/python3.5/site-packages/Bio/SearchIO/__init__.py:211: BiopythonExperimentalWarning: Bio.SearchIO is an experimental submodule which may undergo significant changes prior to its future official release.\n",
      "  BiopythonExperimentalWarning)\n"
     ]
    }
   ],
   "source": [
    "import pandas as pd\n",
    "import os\n",
    "import re\n",
    "from Bio import SeqIO\n",
    "from Bio import SeqUtils\n",
    "import pysam\n",
    "from Bio.SeqRecord import SeqRecord\n",
    "from pybedtools import BedTool\n",
    "import numpy as np\n",
    "import pybedtools\n",
    "import time\n",
    "import matplotlib.pyplot as plt\n",
    "import sys\n",
    "import subprocess\n",
    "import shutil\n",
    "from Bio.Seq import Seq\n",
    "import pysam\n",
    "from Bio import SearchIO\n",
    "import json\n",
    "import glob\n",
    "import scipy.stats as stats\n",
    "import distance\n",
    "import seaborn as sns"
   ]
  },
  {
   "cell_type": "code",
   "execution_count": 3,
   "metadata": {
    "collapsed": true
   },
   "outputs": [],
   "source": [
    "pwh_set = []\n",
    "def pwh_filter (q_contig, pwh_set=pwh_set):\n",
    "    '''Checks if contig belongs to the primary with haplotig set.'''\n",
    "    if q_contig in pwh_set:\n",
    "        return True\n",
    "    else:\n",
    "        return False"
   ]
  },
  {
   "cell_type": "code",
   "execution_count": 4,
   "metadata": {
    "collapsed": true
   },
   "outputs": [],
   "source": [
    "def on_primary_contig (q_contig):\n",
    "    '''Quick function that checks if query is on primary contig or not'''\n",
    "    if q_contig.startswith('hcontig'):\n",
    "        return False\n",
    "    elif q_contig.startswith('pcontig'):\n",
    "        return True\n",
    "    else:\n",
    "        print('Contig annotation needs to start with hcontig or pcontig')"
   ]
  },
  {
   "cell_type": "code",
   "execution_count": 323,
   "metadata": {
    "collapsed": true
   },
   "outputs": [],
   "source": [
    "###make a function out of the 5' and 3' prime distance\n",
    "def _5_to_3_df(ref_bed_fn, query_bed_fn, io=False ):\n",
    "    \"\"\"Takes two bed6 filenames and returns dataframe with 5' and 3' distances.\"\"\"\n",
    "    from pybedtools import BedTool\n",
    "    ref = BedTool(ref_bed_fn)\n",
    "    query = BedTool(query_bed_fn)\n",
    "\n",
    "    sub_3 = ref.closest(query ,io=io,  N=True, iu=True, D='a' ).to_dataframe()\n",
    "    sub_3.rename(columns={12:'3_distance', 3:'query', 9:'3_target', 0:'contig'}, \\\n",
    "                 inplace=True)\n",
    "    sub_5 = ref.closest(query,\\\n",
    "                                io=io,N=True, id=True, D='a' ).to_dataframe()\n",
    "    sub_5.rename(columns={12:'5_distance', 3:'query', 9:'5_target', 0:'contig'}, inplace=True)\n",
    "\n",
    "    #merging them\n",
    "    sub_merged = sub_3.merge(sub_5, on=['query', 'contig'])\n",
    "\n",
    "    #needs to be fixed to take boundaries into account\n",
    "    #remove genes on the edges\n",
    "    sub_merged = sub_merged [((sub_merged['5_target'] != '.') & (sub_merged['3_target'] != '.') )  ]\n",
    "    sub_merged['5_distance'] = sub_merged['5_distance'].apply(lambda x: np.absolute(x))\n",
    "    return sub_merged"
   ]
  },
  {
   "cell_type": "code",
   "execution_count": 325,
   "metadata": {
    "collapsed": true
   },
   "outputs": [],
   "source": [
    "#define a function that subsets a dataframe to the inner quantil residual columnwise\n",
    "def quant_cut_df(dataframe):\n",
    "    nn_df = dataframe.copy()\n",
    "    iqr_df_low = nn_df.apply(lambda x: x.quantile(0.25) - 1.5*(x.quantile(0.75) - x.quantile(0.25)) )\n",
    "    iqr_df_low.name ='low'\n",
    "    iqr_df_high = nn_df.apply(lambda x: x.quantile(0.75) + 1.5*(x.quantile(0.75) - x.quantile(0.25)) )\n",
    "    iqr_df_high.name = 'high'\n",
    "\n",
    "    iqr_df = pd.concat([iqr_df_low, iqr_df_high], axis=1).T\n",
    "\n",
    "    iqr_nn_df = nn_df.apply(lambda x: x[(x > iqr_df.loc['low', x.name]) & (x  < iqr_df.loc['high', x.name])], axis=0)\n",
    "    return iqr_nn_df \n"
   ]
  },
  {
   "cell_type": "code",
   "execution_count": 5,
   "metadata": {
    "collapsed": true
   },
   "outputs": [],
   "source": [
    "#Define the PATH\n",
    "BASE_AA_PATH = '/home/benjamin/genome_assembly/PST79/FALCON/p_assemblies/v9_1/Pst_104E_v12'\n",
    "BASE_A_PATH = '/home/benjamin/genome_assembly/PST79/FALCON/p_assemblies/v9_1/032017_assembly'\n",
    "BLAST_RESULT_PATH = os.path.join(BASE_AA_PATH,'allele_analysis' )\n",
    "ALLELE_PATH =os.path.join(BASE_AA_PATH ,'allele_analysis/alleles_proteinortho_graph516')\n",
    "ALLELE_QC_PATH = os.path.join(BASE_AA_PATH, 'allele_analysis', \\\n",
    "                              'no_alleles_proteinortho_graph516_QC_Qcov80_PctID70_evalue01')\n",
    "LIST_PATH = os.path.join(BASE_AA_PATH, 'enrichment_analysis', 'lists')\n",
    "POST_ALLELE_PATH = os.path.join(BASE_AA_PATH, 'post_allele_analysis')\n",
    "OUT_PATH = os.path.join(POST_ALLELE_PATH, 'proteinortho_graph516_QC_Qcov80_PctID70_evalue01')\n",
    "if not os.path.exists(POST_ALLELE_PATH):\n",
    "    os.mkdir(POST_ALLELE_PATH)\n",
    "if not os.path.exists(OUT_PATH):\n",
    "    os.mkdir(OUT_PATH)\n",
    "ph_gene_fasta = os.path.join(BASE_A_PATH , 'Pst_104E_v12_ph_ctg.anno.gene.fa')\n",
    "ph_cds_fasta = os.path.join(BASE_A_PATH, 'Pst_104E_v12_ph_ctg.anno.CDS.fa')\n",
    "ph_protein_fasta = os.path.join(BASE_A_PATH, 'Pst_104E_v12_ph_ctg.anno.protein.fa')"
   ]
  },
  {
   "cell_type": "code",
   "execution_count": 6,
   "metadata": {
    "collapsed": true
   },
   "outputs": [],
   "source": [
    "#get all the alleles in as they are not filtered by QCov and PctID but simply taken straight from the \n",
    "# proteinortho\n",
    "allele_header = ['p_gene', 'h_gene']\n",
    "a_overlap_df = pd.read_csv(os.path.join(ALLELE_PATH, \\\n",
    "                    'Pst_104E_v12_p_ctg.h_contig_overlap.alleles'), sep='\\t', header = None,\\\n",
    "                           names=allele_header)\n",
    "a_overlap_df['Linkage'] = 'h_contig_overlap'\n",
    "a_no_roverlap_df = pd.read_csv(os.path.join(ALLELE_PATH, \\\n",
    "                    'Pst_104E_v12_p_ctg.no_respective_h_contig_overlap.alleles'), sep='\\t', header = None,\\\n",
    "                           names=allele_header)\n",
    "a_no_roverlap_df['Linkage'] = 'no_r_overlap'\n",
    "a_no_soverlap_df = pd.read_csv(os.path.join(ALLELE_PATH, \\\n",
    "                    'Pst_104E_v12_p_ctg.no_specific_h_contig_overlap.alleles'), sep='\\t', header = None,\\\n",
    "                           names=allele_header)\n",
    "a_no_soverlap_df['Linkage'] = 'no_s_overlap'\n",
    "allele_df = pd.concat([a_overlap_df, a_no_roverlap_df, a_no_soverlap_df], axis=0)"
   ]
  },
  {
   "cell_type": "code",
   "execution_count": 326,
   "metadata": {
    "collapsed": true
   },
   "outputs": [],
   "source": [
    "feature_fn_dict = {}\n",
    "feature_fn_dict['genes'] = os.path.join(LIST_PATH, 'Pst_104E_v12_p_all.gene.bed' )\n",
    "feature_fn_dict['effector'] = os.path.join(LIST_PATH, 'Pst_104E_v12_p_effector.gene.bed' )\n",
    "feature_fn_dict['busco'] = os.path.join(LIST_PATH, 'Pst_104E_v12_p_busco.gene.bed' )\n",
    "feature_fn_dict['haustoria'] = os.path.join(LIST_PATH, 'Pst_104E_v12_cluster_8.gene.bed' )\n",
    "feature_fn_dict['no_be'] = os.path.join(LIST_PATH, 'Pst_104E_v12_p_non_busco_non_effector.gene.bed')\n",
    "feature_fn_dict['no_effector'] =os.path.join(LIST_PATH, 'Pst_104E_v12_p_noeffector.gene.bed')\n",
    "feature_fn_dict['no_busco'] = os.path.join(LIST_PATH, 'Pst_104E_v12_p_non_busco.gene.bed')\n",
    "feature_fn_dict['TE_g400'] = os.path.join(LIST_PATH,\\\n",
    "                                'Pst_104E_v12_p_ctg.REPET.sorted.g400_superfamily.bed' )\n",
    "feature_fn_dict['TE_g1000'] = os.path.join(LIST_PATH,\\\n",
    "                                'Pst_104E_v12_p_ctg.REPET.sorted.g1000_superfamily.bed' )\n",
    "feature_bed_dict = {}\n",
    "for key, value in feature_fn_dict.items():\n",
    "    feature_bed_dict[key] = BedTool(value)"
   ]
  },
  {
   "cell_type": "code",
   "execution_count": 7,
   "metadata": {
    "collapsed": true
   },
   "outputs": [],
   "source": [
    "#copy over allele files to OUTPATH\n",
    "os.chdir(ALLELE_PATH)\n",
    "!cp Pst_104E_v12_p_ctg.h_contig_overlap.alleles {OUT_PATH}/.\n",
    "!cp Pst_104E_v12_p_ctg.no_respective_h_contig_overlap.alleles {OUT_PATH}/.\n",
    "!cp Pst_104E_v12_p_ctg.no_specific_h_contig_overlap.alleles {OUT_PATH}/. \n",
    "!cat Pst_104E_v12_p_ctg.h_contig_overlap.alleles Pst_104E_v12_p_ctg.no_respective_h_contig_overlap.alleles Pst_104E_v12_p_ctg.no_specific_h_contig_overlap.alleles > {OUT_PATH}/Pst_104E_v12_p_ctg.all.alleles"
   ]
  },
  {
   "cell_type": "code",
   "execution_count": 8,
   "metadata": {},
   "outputs": [
    {
     "name": "stderr",
     "output_type": "stream",
     "text": [
      "/home/benjamin/anaconda3/lib/python3.5/site-packages/IPython/core/interactiveshell.py:2698: DtypeWarning: Columns (2,3,4,5,6,7,8,9,10,11,13) have mixed types. Specify dtype option on import or set low_memory=False.\n",
      "  interactivity=interactivity, compiler=compiler, result=result)\n"
     ]
    }
   ],
   "source": [
    "#get the blast dataframe and the QC dataframe\n",
    "allele_blast_df = pd.read_csv(os.path.join(BLAST_RESULT_PATH, 'Pst_104E_v12_p_ctg.Pst_104E_v12_h_ctg.0.001.blastp.outfmt6.allele_analysis'), sep='\\t')\n",
    "allele_QC_df = pd.read_csv(os.path.join(ALLELE_QC_PATH, 'Pst_104E_v12_ph_ctg.no_alleles_QC.Qcov80.PctID70.df'), sep='\\t')"
   ]
  },
  {
   "cell_type": "code",
   "execution_count": 9,
   "metadata": {},
   "outputs": [
    {
     "name": "stderr",
     "output_type": "stream",
     "text": [
      "/home/benjamin/anaconda3/lib/python3.5/site-packages/IPython/core/interactiveshell.py:2698: DtypeWarning: Columns (2,3,4,5,6,7,8,9,10,11,13) have mixed types. Specify dtype option on import or set low_memory=False.\n",
      "  interactivity=interactivity, compiler=compiler, result=result)\n"
     ]
    }
   ],
   "source": [
    "#now filter out all the genes that already have alleles based on the protein ortho results\n",
    "#this does not care about the 'abirary' cut offs for coverage and PctID\n",
    "allele_QC_df = pd.read_csv(os.path.join(ALLELE_QC_PATH, 'Pst_104E_v12_ph_ctg.no_alleles_QC.Qcov80.PctID70.df'), sep='\\t')\n",
    "allele_QC_df = allele_QC_df[~((allele_QC_df.Query.isin(allele_df.p_gene))|(allele_QC_df.Query.isin(allele_df.h_gene)))].copy()\n"
   ]
  },
  {
   "cell_type": "code",
   "execution_count": 10,
   "metadata": {},
   "outputs": [
    {
     "data": {
      "text/plain": [
       "True"
      ]
     },
     "execution_count": 10,
     "metadata": {},
     "output_type": "execute_result"
    }
   ],
   "source": [
    "#quick check if all the numbers of genes add up\n",
    "len(allele_df.p_gene.unique())+ len(allele_df.h_gene.unique())+len(allele_QC_df.Query.unique()) == 30249"
   ]
  },
  {
   "cell_type": "code",
   "execution_count": 11,
   "metadata": {
    "collapsed": true
   },
   "outputs": [],
   "source": [
    "#now write out all no_allele_orthologs\n",
    "no_allele_orthologs_fn = os.path.join(OUT_PATH, 'Pst_104E_v12_ph_ctg.no_alleles_orthologs')\n",
    "no_allele_orthologs = allele_QC_df[allele_QC_df.singeltons == False][\"Query\"].unique()\n",
    "tmp_fh = open(no_allele_orthologs_fn, 'w')\n",
    "for _id in allele_QC_df[allele_QC_df.singeltons == False][\"Query\"].unique():\n",
    "    print(_id, file=tmp_fh)\n",
    "tmp_fh.close()"
   ]
  },
  {
   "cell_type": "code",
   "execution_count": 12,
   "metadata": {
    "collapsed": true
   },
   "outputs": [],
   "source": [
    "#write out singeltons\n",
    "singeltons_fh = os.path.join(OUT_PATH, 'Pst_104E_v12_ph_ctg.singletons')\n",
    "singeltons = allele_QC_df[(allele_QC_df.singeltons == True) & (allele_QC_df.ph_p_homo_region != True)][\"Query\"].unique()\n",
    "tmp_fh = open(singeltons_fh , 'w')\n",
    "for _id in singeltons:\n",
    "    print(_id, file=tmp_fh)\n",
    "tmp_fh.close()"
   ]
  },
  {
   "cell_type": "code",
   "execution_count": 13,
   "metadata": {
    "collapsed": true
   },
   "outputs": [],
   "source": [
    "#write out loose singeltons. This includes all the genes that are singletons also those that \n",
    "#are unphased\n",
    "loose_singeltons_fh = os.path.join(OUT_PATH, 'Pst_104E_v12_ph_ctg.loose_singletons')\n",
    "loose_singeltons = allele_QC_df[(allele_QC_df.singeltons == True) ][\"Query\"].unique()\n",
    "tmp_fh = open(loose_singeltons_fh , 'w')\n",
    "for _id in loose_singeltons:\n",
    "    print(_id, file=tmp_fh)\n",
    "tmp_fh.close()"
   ]
  },
  {
   "cell_type": "code",
   "execution_count": 14,
   "metadata": {
    "collapsed": true
   },
   "outputs": [],
   "source": [
    "#write out single nuclear genes defined as having no genome blast, being not in homozygous regions,\n",
    "#and being singeltons\n",
    "shg_df = allele_QC_df[(allele_QC_df.singeltons == True) & (allele_QC_df.gene_on_genome_blast_hit != True)\\\n",
    "            &(allele_QC_df.ph_p_homo_region != True)].copy()\n",
    "shg_fh = os.path.join(OUT_PATH, 'Pst_104E_v12_ph_ctg.single_haplotype_genes')\n",
    "shg = shg_df.Query.unique()\n",
    "tmp_fh = open(shg_fh, 'w')\n",
    "for _id in shg:\n",
    "    print(_id, file=tmp_fh)\n",
    "tmp_fh.close()"
   ]
  },
  {
   "cell_type": "code",
   "execution_count": 15,
   "metadata": {
    "collapsed": true
   },
   "outputs": [],
   "source": [
    "#now read in some types of genes\n",
    "gene_group_list = ['BUSCOS', 'EFFECTORS', 'HAUSTORIA', 'EFFECTORP']\n",
    "p_gene_dict = {}\n",
    "h_gene_dict = {}\n",
    "p_gene_dict['BUSCOS'] = pd.read_csv(os.path.join(LIST_PATH, 'Pst_104E_v12_p_busco.list')\\\n",
    "                                    , header=None)[0].tolist()\n",
    "p_gene_dict['EFFECTORS'] = pd.read_csv(os.path.join(LIST_PATH, 'Pst_104E_v12_p_effector.list')\\\n",
    "                                    , header=None)[0].tolist()\n",
    "p_gene_dict['HAUSTORIA'] = pd.read_csv(os.path.join(LIST_PATH, 'Pst_104E_v12_cluster_8.list')\\\n",
    "                                    , header=None)[0].tolist()\n",
    "p_gene_dict['EFFECTORP'] = pd.read_csv(os.path.join(LIST_PATH, 'Pst_104E_v12_p_effectorp.list')\\\n",
    "                                    , header=None)[0].tolist()\n",
    "p_gene_dict['SIGNALP3'] = pd.read_csv(os.path.join(LIST_PATH, '..', 'pa_26062017',\\\n",
    "                            'Pst_104E_v12_p_ctg.SignalP3.tablist'), header=None, sep='\\t')[0].tolist()\n",
    "\n",
    "h_gene_dict['BUSCOS'] = pd.read_csv(os.path.join(LIST_PATH, 'Pst_104E_v12_h_busco.list')\\\n",
    "                                    , header=None)[0].tolist()\n",
    "h_gene_dict['EFFECTORS'] = pd.read_csv(os.path.join(LIST_PATH, 'Pst_104E_v12_h_effector.list')\\\n",
    "                                    , header=None)[0].tolist()\n",
    "h_gene_dict['HAUSTORIA'] = pd.read_csv(os.path.join(LIST_PATH, 'Pst_104E_v12_h_cluster_15.list')\\\n",
    "                                    , header=None)[0].tolist()\n",
    "h_gene_dict['EFFECTORP'] = pd.read_csv(os.path.join(LIST_PATH, 'Pst_104E_v12_h_effectorp.list')\\\n",
    "                                    , header=None)[0].tolist()\n",
    "h_gene_dict['SIGNALP3'] = pd.read_csv(os.path.join(LIST_PATH, '..', 'pa_26062017',\\\n",
    "                            'Pst_104E_v12_h_ctg.SignalP3.tablist'), header=None, sep='\\t')[0].tolist()\n",
    "\n",
    "#now get pwh and pwoh\n",
    "pwh_list = pd.read_csv(os.path.join(BASE_A_PATH, 'Pst_104E_v12_pwh.txt')\\\n",
    "                                , header=None)[0].tolist()\n",
    "pwoh_list = pd.read_csv(os.path.join(BASE_A_PATH, 'Pst_104E_v12_pwoh.txt')\\\n",
    "                                , header=None)[0].tolist()"
   ]
  },
  {
   "cell_type": "code",
   "execution_count": null,
   "metadata": {
    "collapsed": true
   },
   "outputs": [],
   "source": [
    "#now read in some types of genes\n",
    "gene_group_list = ['BUSCOS', 'EFFECTORS', 'HAUSTORIA', 'EFFECTORP']\n",
    "p_bed_dict = {}\n",
    "h_bed_dict = {}\n",
    "p_bed_dict['BUSCOS'] = pd.read_csv(os.path.join(LIST_PATH, 'Pst_104E_v12_p_busco.list')\\\n",
    "                                    , header=None)[0].tolist()\n",
    "p_bed_dict['EFFECTORS'] = pd.read_csv(os.path.join(LIST_PATH, 'Pst_104E_v12_p_effector.list')\\\n",
    "                                    , header=None)[0].tolist()\n",
    "p_bed_dict['HAUSTORIA'] = pd.read_csv(os.path.join(LIST_PATH, 'Pst_104E_v12_cluster_8.list')\\\n",
    "                                    , header=None)[0].tolist()\n",
    "p_bed_dict['EFFECTORP'] = pd.read_csv(os.path.join(LIST_PATH, 'Pst_104E_v12_p_effectorp.list')\\\n",
    "                                    , header=None)[0].tolist()\n",
    "p_gene_dict['SIGNALP3'] = pd.read_csv(os.path.join(LIST_PATH, '..', 'pa_26062017',\\\n",
    "                            'Pst_104E_v12_p_ctg.SignalP3.tablist'), header=None, sep='\\t')[0].tolist()\n",
    "\n",
    "h_gene_dict['BUSCOS'] = pd.read_csv(os.path.join(LIST_PATH, 'Pst_104E_v12_h_busco.list')\\\n",
    "                                    , header=None)[0].tolist()\n",
    "h_gene_dict['EFFECTORS'] = pd.read_csv(os.path.join(LIST_PATH, 'Pst_104E_v12_h_effector.list')\\\n",
    "                                    , header=None)[0].tolist()\n",
    "h_gene_dict['HAUSTORIA'] = pd.read_csv(os.path.join(LIST_PATH, 'Pst_104E_v12_h_cluster_15.list')\\\n",
    "                                    , header=None)[0].tolist()\n",
    "h_gene_dict['EFFECTORP'] = pd.read_csv(os.path.join(LIST_PATH, 'Pst_104E_v12_h_effectorp.list')\\\n",
    "                                    , header=None)[0].tolist()\n",
    "h_gene_dict['SIGNALP3'] = pd.read_csv(os.path.join(LIST_PATH, '..', 'pa_26062017',\\\n",
    "                            'Pst_104E_v12_h_ctg.SignalP3.tablist'), header=None, sep='\\t')[0].tolist()\n"
   ]
  },
  {
   "cell_type": "code",
   "execution_count": 16,
   "metadata": {},
   "outputs": [
    {
     "name": "stdout",
     "output_type": "stream",
     "text": [
      "Effectors on pwh contigs\n",
      "1523\n"
     ]
    }
   ],
   "source": [
    "#cause we are a bit lazy an like notebooks here we go looking for stuff\n",
    "os.chdir(BASE_A_PATH)\n",
    "print(\"Effectors on pwh contigs\")\n",
    "!cat Pst_104E_v12_pwh.txt | xargs -I X grep -w 'X' {LIST_PATH}/Pst_104E_v12_p_effector.gene.gff3 | wc -l "
   ]
  },
  {
   "cell_type": "code",
   "execution_count": 17,
   "metadata": {},
   "outputs": [
    {
     "name": "stdout",
     "output_type": "stream",
     "text": [
      "Effectors on pwoh contigs\n",
      "49\n"
     ]
    }
   ],
   "source": [
    "print(\"Effectors on pwoh contigs\")\n",
    "!cat Pst_104E_v12_pwoh.txt | xargs -I X grep -w 'X' {LIST_PATH}/Pst_104E_v12_p_effector.gene.gff3 | wc -l "
   ]
  },
  {
   "cell_type": "code",
   "execution_count": 18,
   "metadata": {},
   "outputs": [
    {
     "name": "stdout",
     "output_type": "stream",
     "text": [
      "BUSCOS on pwoh contigs\n",
      "49\n"
     ]
    }
   ],
   "source": [
    "print(\"BUSCOS on pwoh contigs\")\n",
    "!cat Pst_104E_v12_pwoh.txt | xargs -I X grep -w 'X' {LIST_PATH}/Pst_104E_v12_p_busco.gene.gff3 | wc -l "
   ]
  },
  {
   "cell_type": "code",
   "execution_count": 19,
   "metadata": {},
   "outputs": [
    {
     "name": "stdout",
     "output_type": "stream",
     "text": [
      "BUSCOS on pwh contigs\n",
      "1395\n"
     ]
    }
   ],
   "source": [
    "print(\"BUSCOS on pwh contigs\")\n",
    "!cat Pst_104E_v12_pwh.txt | xargs -I X grep -w 'X' {LIST_PATH}/Pst_104E_v12_p_busco.gene.gff3 | wc -l "
   ]
  },
  {
   "cell_type": "code",
   "execution_count": 20,
   "metadata": {},
   "outputs": [
    {
     "name": "stdout",
     "output_type": "stream",
     "text": [
      "BUSCOS on hcontigs\n",
      "1293 /home/benjamin/genome_assembly/PST79/FALCON/p_assemblies/v9_1/Pst_104E_v12/enrichment_analysis/lists/Pst_104E_v12_h_busco.gene.gff3\n"
     ]
    }
   ],
   "source": [
    "print(\"BUSCOS on hcontigs\")\n",
    "!wc -l {LIST_PATH}/Pst_104E_v12_h_busco.gene.gff3"
   ]
  },
  {
   "cell_type": "code",
   "execution_count": 21,
   "metadata": {
    "collapsed": true
   },
   "outputs": [],
   "source": [
    "#now see if there is an enrichment in GO terms associated with alleles\n",
    "def orphan_analysis(_orphan_list):\n",
    "    \"\"\"\n",
    "    This is a function that prints out the numbers of total genes and how many of those are\n",
    "    buscos or effectors. The same for haplotigs, primary contigs with haplotigs, and \n",
    "    primary contigs without haplotigs.\n",
    "    \"\"\"\n",
    "    orphan_effectors = 0\n",
    "    orphan_effectors_h = 0\n",
    "    orphan_effectors_pwh = 0\n",
    "    orphan_effectors_pwoh =0\n",
    "    orphan_busco = 0\n",
    "    orphan_busco_h = 0\n",
    "    orphan_busco_pwh = 0\n",
    "    orphan_busco_pwoh = 0\n",
    "    for x in _orphan_list:\n",
    "        if x in p_gene_dict['BUSCOS']:\n",
    "            contig = re.search(r'[hp][^.]*',x).group()\n",
    "            if pwh_filter(contig, pwh_list) == True:\n",
    "                orphan_busco_pwh += 1\n",
    "            else:\n",
    "                orphan_busco_pwoh += 1\n",
    "        if x in h_gene_dict['BUSCOS']:\n",
    "            orphan_busco_h += 1\n",
    "        #now same for effectors    \n",
    "        if x in p_gene_dict['EFFECTORS']:\n",
    "            contig = re.search(r'[hp][^.]*',x).group()\n",
    "            if pwh_filter(contig, pwh_list) == True:\n",
    "                orphan_effectors_pwh += 1\n",
    "            else:\n",
    "                orphan_effectors_pwoh += 1\n",
    "            \n",
    "        if x in h_gene_dict['EFFECTORS']:\n",
    "            orphan_effectors_h += 1      \n",
    "    orphan_effectors = orphan_effectors_h + orphan_effectors_pwh + orphan_effectors_pwoh\n",
    "    orphan_busco = orphan_busco_h +  orphan_busco_pwh +  orphan_busco_pwoh\n",
    "    print('Out of %i genes we have %i buscos and %i effectors.'\\\n",
    "          %(len(_orphan_list), orphan_busco, orphan_effectors))\n",
    "    print('On haplotigs. Out of %i genes we have %i buscos and %i effectors.'\\\n",
    "         %(len([x for x in _orphan_list if 'hcontig' in x]), orphan_busco_h, orphan_effectors_h))\n",
    "    print('On pwh. Out of %i genes we have %i buscos and %i effectors.'\\\n",
    "         %([pwh_filter(re.search(r'[hp][^.]*',x).group(), pwh_list) for x in _orphan_list].count(True), orphan_busco_pwh, orphan_effectors_pwh))\n",
    "    print('On pwoh. Out of %i genes we have %i buscos and %i effectors.'\\\n",
    "         %([pwh_filter(re.search(r'[hp][^.]*',x).group(), pwh_list) for x in _orphan_list if 'pcontig' in x].count(False), orphan_busco_pwoh, orphan_effectors_pwoh))"
   ]
  },
  {
   "cell_type": "code",
   "execution_count": 22,
   "metadata": {},
   "outputs": [
    {
     "data": {
      "text/plain": [
       "Index(['Query', 'Target', 'PctID', 'AlnLgth', 'NumMis', 'NumGap', 'StartQuery',\n",
       "       'StopQuery', 'StartTarget', 'StopTarget', 'e-value', 'BitScore',\n",
       "       'QLgth', 'QCov', 'q_contig', 't_contig', 'q_contig == t_contig',\n",
       "       'primary_contig', 'pwh_contig', 'gene_on_genome_blast_hit',\n",
       "       'exn_asso_contig', 'exn_no_asso_contig', 'ph_p_homo_region',\n",
       "       'singeltons', 'Pst_E104_v1_ph_ctg.freebayes_SNP',\n",
       "       'Pst_E104_v1_ph_ctg.freebayes_SNP_#',\n",
       "       'Pst_E104_v1_ph_ctg.freebayes_SNP_%', 'overlap_p_on_h_mapping'],\n",
       "      dtype='object')"
      ]
     },
     "execution_count": 22,
     "metadata": {},
     "output_type": "execute_result"
    }
   ],
   "source": [
    "allele_QC_df.columns"
   ]
  },
  {
   "cell_type": "code",
   "execution_count": 23,
   "metadata": {},
   "outputs": [
    {
     "name": "stdout",
     "output_type": "stream",
     "text": [
      "Number of genes without clear allele:\n"
     ]
    },
    {
     "data": {
      "text/plain": [
       "7029"
      ]
     },
     "execution_count": 23,
     "metadata": {},
     "output_type": "execute_result"
    }
   ],
   "source": [
    "print(\"Number of genes without clear allele:\")\n",
    "len(singeltons)"
   ]
  },
  {
   "cell_type": "code",
   "execution_count": 24,
   "metadata": {},
   "outputs": [
    {
     "name": "stdout",
     "output_type": "stream",
     "text": [
      "For single haplotype genes:\n",
      "Out of 1506 genes we have 125 buscos and 120 effectors.\n",
      "On haplotigs. Out of 160 genes we have 6 buscos and 5 effectors.\n",
      "On pwh. Out of 1149 genes we have 93 buscos and 98 effectors.\n",
      "On pwoh. Out of 197 genes we have 26 buscos and 17 effectors.\n"
     ]
    }
   ],
   "source": [
    "print(\"For single haplotype genes:\")\n",
    "orphan_analysis(shg)"
   ]
  },
  {
   "cell_type": "code",
   "execution_count": 25,
   "metadata": {},
   "outputs": [
    {
     "name": "stdout",
     "output_type": "stream",
     "text": [
      "For singletons:\n",
      "Out of 7029 genes we have 234 buscos and 453 effectors.\n",
      "On haplotigs. Out of 2931 genes we have 57 buscos and 153 effectors.\n",
      "On pwh. Out of 3700 genes we have 147 buscos and 270 effectors.\n",
      "On pwoh. Out of 398 genes we have 30 buscos and 30 effectors.\n"
     ]
    }
   ],
   "source": [
    "print(\"For singletons:\")\n",
    "orphan_analysis(singeltons)"
   ]
  },
  {
   "cell_type": "code",
   "execution_count": 26,
   "metadata": {},
   "outputs": [
    {
     "name": "stdout",
     "output_type": "stream",
     "text": [
      "For loose singletons:\n",
      "Out of 7692 genes we have 297 buscos and 502 effectors.\n",
      "On haplotigs. Out of 2931 genes we have 57 buscos and 153 effectors.\n",
      "On pwh. Out of 4289 genes we have 205 buscos and 318 effectors.\n",
      "On pwoh. Out of 472 genes we have 35 buscos and 31 effectors.\n"
     ]
    }
   ],
   "source": [
    "print(\"For loose singletons:\")\n",
    "orphan_analysis(loose_singeltons)"
   ]
  },
  {
   "cell_type": "code",
   "execution_count": 27,
   "metadata": {},
   "outputs": [
    {
     "name": "stderr",
     "output_type": "stream",
     "text": [
      "/home/benjamin/anaconda3/lib/python3.5/site-packages/pandas/core/frame.py:2352: SettingWithCopyWarning: \n",
      "A value is trying to be set on a copy of a slice from a DataFrame.\n",
      "Try using .loc[row_indexer,col_indexer] = value instead\n",
      "\n",
      "See the caveats in the documentation: http://pandas.pydata.org/pandas-docs/stable/indexing.html#indexing-view-versus-copy\n",
      "  self[k1] = value[k2]\n"
     ]
    }
   ],
   "source": [
    "#set the coverage limits\n",
    "QCov_limit = 80\n",
    "PctID_limit = 70\n",
    "#now get all the ids for which we have hits above the cut off and are singletons\n",
    "tmp_df = allele_QC_df[allele_QC_df.Target != 'False'] #filter out no hits\n",
    "tmp_df[['QCov', 'PctID']] = tmp_df[['QCov', 'PctID']].apply(pd.to_numeric) #make numeric\n",
    "#get ids of stuff above the cut off\n",
    "tmp_df_ids = tmp_df[(tmp_df.QCov >= QCov_limit) & (tmp_df.PctID >= PctID_limit)]['Query'].unique()\n",
    "#filter those out and everything that is not a singleton\n",
    "tmp_df = allele_QC_df[~((allele_QC_df.Query.isin(tmp_df_ids)) | (allele_QC_df.singeltons == False))].copy()"
   ]
  },
  {
   "cell_type": "markdown",
   "metadata": {},
   "source": [
    "Everything below is about singeltons that don't have a significant protein blast hit with considering the QCov and PctID limit set above"
   ]
  },
  {
   "cell_type": "code",
   "execution_count": 28,
   "metadata": {},
   "outputs": [
    {
     "name": "stdout",
     "output_type": "stream",
     "text": [
      "Out of 3191 genes we have 180 buscos and 207 effectors.\n",
      "On haplotigs. Out of 942 genes we have 26 buscos and 34 effectors.\n",
      "On pwh. Out of 1998 genes we have 126 buscos and 152 effectors.\n",
      "On pwoh. Out of 251 genes we have 28 buscos and 21 effectors.\n"
     ]
    }
   ],
   "source": [
    "#now filter dataframe on different other issues\n",
    "out_filter = (tmp_df.exn_asso_contig != True) & (tmp_df.exn_no_asso_contig != True) & \\\n",
    "            (tmp_df.ph_p_homo_region != True)\n",
    "queries_out_filtered = tmp_df[out_filter]['Query'].unique()\n",
    "#now see if there is an enrichment in GO terms associated with alleles\n",
    "orphan_analysis(queries_out_filtered)\n",
    "#now print this out again into the ALLELE_QC folder\n",
    "fn_short = 'Pst_104E_v12_ph_ctg.no_alleles_postQC.PctID%i_QCov%i.no_exonerate' % (PctID_limit, QCov_limit)\n",
    "fn_short_p = 'Pst_104E_v12_p_ctg.no_alleles_postQC.PctID%i_QCov%i.no_exonerate' % (PctID_limit, QCov_limit)\n",
    "fn_short_h = 'Pst_104E_v12_h_ctg.no_alleles_postQC.PctID%i_QCov%i.no_exonerate' % (PctID_limit, QCov_limit)\n",
    "fn = os.path.join(ALLELE_QC_PATH, fn_short)\n",
    "fn_list_h = os.path.join(LIST_PATH, fn_short_h)\n",
    "fn_list_p = os.path.join(LIST_PATH, fn_short_p)\n",
    "fh_list_p = open(fn_list_p, 'w')\n",
    "fh_list_h = open(fn_list_h, 'w')\n",
    "fh = open(fn, 'w')\n",
    "for gene in queries_out_filtered:\n",
    "    if 'pcontig' in gene:\n",
    "        print(gene, file=fh_list_p)\n",
    "    if 'hcontig' in gene:\n",
    "        print(gene, file=fh_list_h)\n",
    "    print(gene, file=fh)\n",
    "fh.close()\n",
    "fh_list_p.close()\n",
    "fh_list_h.close()"
   ]
  },
  {
   "cell_type": "code",
   "execution_count": 29,
   "metadata": {},
   "outputs": [
    {
     "name": "stdout",
     "output_type": "stream",
     "text": [
      "Singletons that have are phased but have no good blast hit above the threshold\n",
      "Out of 3991 genes we have 190 buscos and 303 effectors.\n",
      "On haplotigs. Out of 1335 genes we have 31 buscos and 83 effectors.\n",
      "On pwh. Out of 2393 genes we have 131 buscos and 198 effectors.\n",
      "On pwoh. Out of 263 genes we have 28 buscos and 22 effectors.\n"
     ]
    }
   ],
   "source": [
    "#now filter dataframe on different other issues\n",
    "out_filter =  (tmp_df.ph_p_homo_region != True)\n",
    "queries_out_filtered = tmp_df[out_filter]['Query'].unique()\n",
    "#now see if there is an enrichment in GO terms associated with alleles\n",
    "print('Singletons that have are phased but have no good blast hit above the threshold')\n",
    "orphan_analysis(queries_out_filtered)\n",
    "#now print this out again into the ALLELE_QC folder\n",
    "fn_short = 'Pst_104E_v12_ph_ctg.no_alleles_postQC.PctID%i_QCov%i.no_homo' % (PctID_limit, QCov_limit)\n",
    "fn_short_p = 'Pst_104E_v12_p_ctg.no_alleles_postQC.PctID%i_QCov%i.no_homo' % (PctID_limit, QCov_limit)\n",
    "fn_short_h = 'Pst_104E_v12_h_ctg.no_alleles_postQC.PctID%i_QCov%i.no_homo' % (PctID_limit, QCov_limit)\n",
    "fn = os.path.join(ALLELE_QC_PATH, fn_short)\n",
    "fn_list_h = os.path.join(LIST_PATH, fn_short_h)\n",
    "fn_list_p = os.path.join(LIST_PATH, fn_short_p)\n",
    "fh_list_p = open(fn_list_p, 'w')\n",
    "fh_list_h = open(fn_list_h, 'w')\n",
    "fh = open(fn, 'w')\n",
    "for gene in queries_out_filtered:\n",
    "    if 'pcontig' in gene:\n",
    "        print(gene, file=fh_list_p)\n",
    "    if 'hcontig' in gene:\n",
    "        print(gene, file=fh_list_h)\n",
    "    print(gene, file=fh)\n",
    "fh.close()\n",
    "fh_list_p.close()\n",
    "fh_list_h.close()"
   ]
  },
  {
   "cell_type": "code",
   "execution_count": 30,
   "metadata": {},
   "outputs": [
    {
     "name": "stdout",
     "output_type": "stream",
     "text": [
      "For unphased singletons that have no exonerate alignments:\n",
      "Out of 534 genes we have 62 buscos and 44 effectors.\n",
      "On haplotigs. Out of 0 genes we have 0 buscos and 0 effectors.\n",
      "On pwh. Out of 474 genes we have 57 buscos and 43 effectors.\n",
      "On pwoh. Out of 60 genes we have 5 buscos and 1 effectors.\n"
     ]
    }
   ],
   "source": [
    "#now make new filter for the following\n",
    "out_filter = (tmp_df.exn_asso_contig != True) & (tmp_df.exn_no_asso_contig != True) & \\\n",
    "            (tmp_df.ph_p_homo_region == True)\n",
    "queries_out_filtered = tmp_df[out_filter]['Query'].unique()\n",
    "#now see if there is an enrichment in GO terms associated with alleles\n",
    "print(\"For unphased singletons that have no exonerate alignments:\")\n",
    "orphan_analysis(queries_out_filtered)"
   ]
  },
  {
   "cell_type": "code",
   "execution_count": 31,
   "metadata": {},
   "outputs": [
    {
     "name": "stdout",
     "output_type": "stream",
     "text": [
      "For unphased singletons:\n",
      "Out of 550 genes we have 62 buscos and 45 effectors.\n",
      "On haplotigs. Out of 0 genes we have 0 buscos and 0 effectors.\n",
      "On pwh. Out of 488 genes we have 57 buscos and 44 effectors.\n",
      "On pwoh. Out of 62 genes we have 5 buscos and 1 effectors.\n"
     ]
    }
   ],
   "source": [
    "#now make new filter for the following\n",
    "out_filter = (tmp_df.ph_p_homo_region == True)\n",
    "queries_out_filtered = tmp_df[out_filter]['Query'].unique()\n",
    "#now see if there is an enrichment in GO terms associated with alleles\n",
    "print(\"For unphased singletons:\")\n",
    "orphan_analysis(queries_out_filtered)"
   ]
  },
  {
   "cell_type": "code",
   "execution_count": 32,
   "metadata": {},
   "outputs": [
    {
     "name": "stdout",
     "output_type": "stream",
     "text": [
      "Out of 550 genes we have 62 buscos and 45 effectors.\n",
      "On haplotigs. Out of 0 genes we have 0 buscos and 0 effectors.\n",
      "On pwh. Out of 488 genes we have 57 buscos and 44 effectors.\n",
      "On pwoh. Out of 62 genes we have 5 buscos and 1 effectors.\n"
     ]
    }
   ],
   "source": [
    "#now make new filter for the following\n",
    "out_filter = (tmp_df.ph_p_homo_region == True) \n",
    "queries_out_filtered = tmp_df[out_filter]['Query'].unique()\n",
    "#now see if there is an enrichment in GO terms associated with alleles\n",
    "orphan_analysis(queries_out_filtered)\n",
    "#now print this out again into the ALLELE_QC folder\n",
    "fn_short = 'Pst_104E_v12_ph_ctg.no_alleles_postQC.homozygous_coverage' \n",
    "fn = os.path.join(ALLELE_QC_PATH, fn_short)\n",
    "fh = open(fn, 'w')\n",
    "for gene in queries_out_filtered:\n",
    "    print(gene, file=fh)\n",
    "fh.close()\n"
   ]
  },
  {
   "cell_type": "code",
   "execution_count": 33,
   "metadata": {},
   "outputs": [
    {
     "name": "stdout",
     "output_type": "stream",
     "text": [
      "Singletons with exonerate alignment\n",
      "Out of 816 genes we have 10 buscos and 97 effectors.\n",
      "On haplotigs. Out of 393 genes we have 5 buscos and 49 effectors.\n",
      "On pwh. Out of 409 genes we have 5 buscos and 47 effectors.\n",
      "On pwoh. Out of 14 genes we have 0 buscos and 1 effectors.\n",
      "I guess this means that BUSCOs might get annotated a bit better than other genes including effectors.\n"
     ]
    }
   ],
   "source": [
    "#now make new filter for the following\n",
    "out_filter = (tmp_df.exn_asso_contig == True) | (tmp_df.exn_no_asso_contig == True) \n",
    "queries_out_filtered = tmp_df[out_filter]['Query'].unique()\n",
    "print(\"Singletons with exonerate alignment\") \n",
    "orphan_analysis(queries_out_filtered)\n",
    "print(\"I guess this means that BUSCOs might get annotated a bit better than other genes\\\n",
    " including effectors.\")\n",
    "#now print this out again into the ALLELE_QC folder\n",
    "fn_short = 'Pst_104E_v12_ph_ctg.no_alleles_postQC.exonerate_hits' \n",
    "fn = os.path.join(ALLELE_QC_PATH, fn_short)\n",
    "fh = open(fn, 'w')\n",
    "for gene in queries_out_filtered:\n",
    "    print(gene, file=fh)\n",
    "fh.close()"
   ]
  },
  {
   "cell_type": "code",
   "execution_count": 34,
   "metadata": {},
   "outputs": [
    {
     "name": "stdout",
     "output_type": "stream",
     "text": [
      "Out of 809 genes we have 10 buscos and 96 effectors.\n",
      "On haplotigs. Out of 393 genes we have 5 buscos and 49 effectors.\n",
      "On pwh. Out of 404 genes we have 5 buscos and 46 effectors.\n",
      "On pwoh. Out of 12 genes we have 0 buscos and 1 effectors.\n"
     ]
    }
   ],
   "source": [
    "#now see if there is an enrichment in GO terms associated with alleles\n",
    "#now make new filter for the following\n",
    "out_filter = (tmp_df.exn_asso_contig == True) | (tmp_df.exn_no_asso_contig == True) & \\\n",
    "            (tmp_df.ph_p_homo_region != True)\n",
    "queries_out_filtered = tmp_df[out_filter]['Query'].unique()\n",
    "#now see if there is an enrichment in GO terms associated with alleles\n",
    "orphan_analysis(queries_out_filtered)"
   ]
  },
  {
   "cell_type": "code",
   "execution_count": 35,
   "metadata": {},
   "outputs": [
    {
     "name": "stdout",
     "output_type": "stream",
     "text": [
      "For all singletons without filtering for Cov or PctID that have an exonerate alignment:\n",
      "Out of 2531 genes we have 56 buscos and 230 effectors.\n",
      "On haplotigs. Out of 1381 genes we have 32 buscos and 123 effectors.\n",
      "On pwh. Out of 1097 genes we have 24 buscos and 102 effectors.\n",
      "On pwoh. Out of 53 genes we have 0 buscos and 5 effectors.\n",
      "Again we \n"
     ]
    }
   ],
   "source": [
    "#now make new filter for the following\n",
    "out_filter = (allele_QC_df.exn_asso_contig == True) | (allele_QC_df.exn_no_asso_contig == True)\\\n",
    "    & (allele_QC_df.singeltons == True)\n",
    "queries_out_filtered = allele_QC_df[out_filter]['Query'].unique()\n",
    "print(\"For all singletons without filtering for Cov or PctID that have an exonerate alignment:\")\n",
    "orphan_analysis(queries_out_filtered)\n",
    "print('Again we ')"
   ]
  },
  {
   "cell_type": "markdown",
   "metadata": {},
   "source": [
    "Look at some features of the orphan genes such as:\n",
    "* gene/protein length\n",
    "* gc content\n",
    "* numbers of exons\n",
    "* distance to TEs?"
   ]
  },
  {
   "cell_type": "code",
   "execution_count": 37,
   "metadata": {},
   "outputs": [
    {
     "data": {
      "text/plain": [
       "349.0830013280212"
      ]
     },
     "execution_count": 37,
     "metadata": {},
     "output_type": "execute_result"
    }
   ],
   "source": [
    "#now look at single haplotype genes\n",
    "shg_df.drop_duplicates('Query')['QLgth'].mean()"
   ]
  },
  {
   "cell_type": "code",
   "execution_count": 38,
   "metadata": {},
   "outputs": [
    {
     "data": {
      "text/plain": [
       "394.5913485685585"
      ]
     },
     "execution_count": 38,
     "metadata": {},
     "output_type": "execute_result"
    }
   ],
   "source": [
    "allele_blast_df.drop_duplicates('Query')['QLgth'].mean()"
   ]
  },
  {
   "cell_type": "code",
   "execution_count": 39,
   "metadata": {},
   "outputs": [
    {
     "data": {
      "text/plain": [
       "RanksumsResult(statistic=-4.8498250071590965, pvalue=1.2357044232530989e-06)"
      ]
     },
     "execution_count": 39,
     "metadata": {},
     "output_type": "execute_result"
    }
   ],
   "source": [
    "stats.ranksums(shg_df.drop_duplicates('Query')['QLgth'],allele_blast_df.drop_duplicates('Query')['QLgth'] )"
   ]
  },
  {
   "cell_type": "code",
   "execution_count": 40,
   "metadata": {
    "collapsed": true
   },
   "outputs": [],
   "source": [
    "def len_per_gene(gene_list, gg_fasta):\n",
    "    '''Returns the len per gene in the list plus the len\n",
    "    for all genes in the genome from using gg_fasta genome gene fasta.'''\n",
    "    GC_list_genes = []\n",
    "    GC_list_genome = []\n",
    "    for x in SeqIO.parse(gg_fasta, 'fasta'):\n",
    "        GC_list_genome.append(len(x.seq))\n",
    "        if x.id.replace('TU', 'model') in gene_list:\n",
    "            GC_list_genes.append(len(x.seq))\n",
    "    return GC_list_genes, GC_list_genome"
   ]
  },
  {
   "cell_type": "code",
   "execution_count": 41,
   "metadata": {
    "collapsed": true
   },
   "outputs": [],
   "source": [
    "def GC_per_gene(gene_list, gg_fasta):\n",
    "    '''Returns the GC content per gene in the list plus the GC content\n",
    "    for all genes in the genome from using gg_fasta genome gene fasta.'''\n",
    "    GC_list_genes = []\n",
    "    GC_list_genome = []\n",
    "    for x in SeqIO.parse(gg_fasta, 'fasta'):\n",
    "        GC_list_genome.append(SeqUtils.GC(x.seq))\n",
    "        if x.id.replace('TU', 'model') in gene_list:\n",
    "            GC_list_genes.append(SeqUtils.GC(x.seq))\n",
    "    return GC_list_genes, GC_list_genome"
   ]
  },
  {
   "cell_type": "code",
   "execution_count": 42,
   "metadata": {
    "collapsed": true
   },
   "outputs": [],
   "source": [
    "def return_gene_fasta_paml(gene_list, gg_fasta):\n",
    "    '''Returns the fasta of gene in list as SeqIO object '''\n",
    "    genes_fasta = []\n",
    "    for x in SeqIO.parse(gg_fasta, 'fasta'):\n",
    "        if x.id.replace('TU', 'model') in gene_list:\n",
    "            x.id = x.id.replace('TU', 'model')\n",
    "            genes_fasta.append(x)\n",
    "    return genes_fasta"
   ]
  },
  {
   "cell_type": "code",
   "execution_count": 43,
   "metadata": {
    "collapsed": true
   },
   "outputs": [],
   "source": [
    "def return_gene_fasta(gene_list, gg_fasta):\n",
    "    '''Returns the fasta of gene in list as SeqIO object '''\n",
    "    genes_fasta = []\n",
    "    for x in SeqIO.parse(gg_fasta, 'fasta'):\n",
    "        if x.id.replace('TU', 'model') in gene_list:\n",
    "            genes_fasta.append(x)\n",
    "    return genes_fasta"
   ]
  },
  {
   "cell_type": "code",
   "execution_count": 44,
   "metadata": {
    "collapsed": true
   },
   "outputs": [],
   "source": [
    "def return_contig_fasta(contig_list, gg_fasta):\n",
    "    '''Returns the fasta of contig in list as SeqIO object '''\n",
    "    contig_fasta = []\n",
    "    for x in SeqIO.parse(gg_fasta, 'fasta'):\n",
    "        if x.id in contig_list:\n",
    "            contig_fasta.append(x)\n",
    "    return contig_fasta"
   ]
  },
  {
   "cell_type": "code",
   "execution_count": 45,
   "metadata": {
    "collapsed": true
   },
   "outputs": [],
   "source": [
    "shg_GC, genome_GC = GC_per_gene(shg, ph_gene_fasta)"
   ]
  },
  {
   "cell_type": "code",
   "execution_count": 46,
   "metadata": {},
   "outputs": [
    {
     "name": "stdout",
     "output_type": "stream",
     "text": [
      "45.936932047 45.7863006323\n"
     ]
    }
   ],
   "source": [
    "#gc content per gene\n",
    "print(np.mean(shg_GC), np.mean(genome_GC))"
   ]
  },
  {
   "cell_type": "code",
   "execution_count": 47,
   "metadata": {},
   "outputs": [
    {
     "data": {
      "text/plain": [
       "RanksumsResult(statistic=1.7879649018298396, pvalue=0.073781670619541995)"
      ]
     },
     "execution_count": 47,
     "metadata": {},
     "output_type": "execute_result"
    }
   ],
   "source": [
    "#testing difference\n",
    "stats.ranksums(shg_GC, genome_GC)"
   ]
  },
  {
   "cell_type": "code",
   "execution_count": 48,
   "metadata": {
    "collapsed": true
   },
   "outputs": [],
   "source": [
    "#gene length\n",
    "shg_len, genome_len = len_per_gene(shg, ph_gene_fasta)"
   ]
  },
  {
   "cell_type": "code",
   "execution_count": 49,
   "metadata": {},
   "outputs": [
    {
     "name": "stdout",
     "output_type": "stream",
     "text": [
      "1334.79282869 1538.62967371\n"
     ]
    },
    {
     "data": {
      "text/plain": [
       "RanksumsResult(statistic=-4.8395122876180281, pvalue=1.3015814430474663e-06)"
      ]
     },
     "execution_count": 49,
     "metadata": {},
     "output_type": "execute_result"
    }
   ],
   "source": [
    "#testing difference\n",
    "print(np.mean(shg_len), np.mean(genome_len))\n",
    "stats.ranksums(shg_len, genome_len)"
   ]
  },
  {
   "cell_type": "code",
   "execution_count": 50,
   "metadata": {
    "collapsed": true
   },
   "outputs": [],
   "source": [
    "#get gene fastas and save those\n",
    "shg_fasta = return_gene_fasta(shg, ph_gene_fasta)\n",
    "shg_fn = os.path.join(OUT_PATH, \"Pst_104E_v12_ph_ctg.single_haplotype_genes.fasta\")\n",
    "with open(shg_fn, 'w') as fh:\n",
    "    SeqIO.write(shg_fasta, fh, 'fasta')"
   ]
  },
  {
   "cell_type": "code",
   "execution_count": 51,
   "metadata": {
    "collapsed": true
   },
   "outputs": [],
   "source": [
    "#get gene fastas and save those\n",
    "shg_fasta = return_gene_fasta(shg, ph_cds_fasta)\n",
    "shg_fn = os.path.join(OUT_PATH, \"Pst_104E_v12_ph_ctg.single_haplotype_genes.cds.fasta\")\n",
    "with open(shg_fn, 'w') as fh:\n",
    "    SeqIO.write(shg_fasta, fh, 'fasta')"
   ]
  },
  {
   "cell_type": "code",
   "execution_count": 52,
   "metadata": {
    "collapsed": true
   },
   "outputs": [],
   "source": [
    "#have a look after of the shg genes without a blast it in NCBI nt or ensembl cDNA\n",
    "BLASTR_FOLDER = '/home/benjamin/genome_assembly/PST79/FALCON/p_assemblies/v9_1/Pst_104E_v12/post_allele_analysis/proteinortho_graph516_QC_Qcov80_PctID70_evalue01/blast/'\n",
    "ensembl_blast = os.path.join(BLASTR_FOLDER, 'Pst_104E_v12_ph_ctg.single_haplotype_genes.cds.0817_e36_cdna.fa.outfmt6')\n",
    "ncbi_blast = os.path.join(BLASTR_FOLDER,'Pst_104E_ph_ctg.single_haplotype_genes.fasta.NCBI10032017.01.blastn')"
   ]
  },
  {
   "cell_type": "code",
   "execution_count": 53,
   "metadata": {},
   "outputs": [
    {
     "name": "stdout",
     "output_type": "stream",
     "text": [
      "Number of single haplotype genes that are on pwoh:\n"
     ]
    },
    {
     "data": {
      "text/plain": [
       "197"
      ]
     },
     "execution_count": 53,
     "metadata": {},
     "output_type": "execute_result"
    }
   ],
   "source": [
    "print('Number of single haplotype genes that are on pwoh:')\n",
    "len([x for x in shg if re.findall(r'([ph]contig_[0-9]*)', x)[0] in pwoh_list])"
   ]
  },
  {
   "cell_type": "code",
   "execution_count": 54,
   "metadata": {
    "collapsed": true
   },
   "outputs": [],
   "source": [
    "#read in gene beds\n",
    "p_gene_bed = pd.read_csv(os.path.join(LIST_PATH, 'Pst_104E_v12_p_all.gene.bed'), header=None, sep='\\t')\n",
    "h_gene_bed = pd.read_csv(os.path.join(LIST_PATH, 'Pst_104E_v12_h_all.gene.bed'), header=None, sep='\\t')\n"
   ]
  },
  {
   "cell_type": "markdown",
   "metadata": {},
   "source": [
    "Do check if neighbors shg are more likely to have neighbours that are also shg compare to random subsample"
   ]
  },
  {
   "cell_type": "code",
   "execution_count": 55,
   "metadata": {
    "collapsed": true
   },
   "outputs": [],
   "source": [
    "#look into if shg are more likely to be neighbours and a random subsample\n",
    "p_genes_ordered = p_gene_bed.sort_values([0, 1])[3].tolist()\n",
    "h_genes_ordered = h_gene_bed.sort_values([0, 1])[3].tolist()\n",
    "#make a dict that contains ordered gene lists per contig\n",
    "gene_list_per_contig_dict = {}\n",
    "for gene in p_genes_ordered:\n",
    "    contig = re.findall(r'[ph]contig[^.]*', gene)[0]\n",
    "    if not contig in gene_list_per_contig_dict.keys():\n",
    "        gene_list_per_contig_dict[contig] = [x for x in p_genes_ordered if contig in x]\n",
    "for gene in h_genes_ordered:\n",
    "    contig = re.findall(r'[ph]contig[^.]*', gene)[0]\n",
    "    if not contig in gene_list_per_contig_dict.keys():\n",
    "        gene_list_per_contig_dict[contig] = [x for x in h_genes_ordered if contig in x]"
   ]
  },
  {
   "cell_type": "code",
   "execution_count": 56,
   "metadata": {},
   "outputs": [
    {
     "data": {
      "text/plain": [
       "True"
      ]
     },
     "execution_count": 56,
     "metadata": {},
     "output_type": "execute_result"
    }
   ],
   "source": [
    "#quick check if we got all genes\n",
    "count = 0\n",
    "for x in gene_list_per_contig_dict.values():\n",
    "    count += len(x)\n",
    "count == (len(p_genes_ordered) + len(h_genes_ordered))"
   ]
  },
  {
   "cell_type": "code",
   "execution_count": 57,
   "metadata": {
    "collapsed": true
   },
   "outputs": [],
   "source": [
    "#get the index of all shg_genes in the ordered gene list\n",
    "ordered_gl_index_dict = {}\n",
    "#initiat the empty list for the dict\n",
    "for key in gene_list_per_contig_dict.keys():\n",
    "    ordered_gl_index_dict[key] = []\n",
    "#now populate those for the genes we have\n",
    "for y in shg:\n",
    "    contig = re.findall(r'[ph]contig[^.]*', y)[0]\n",
    "    #get the index of the gene specific for the contig\n",
    "    _index = gene_list_per_contig_dict[contig].index(y.replace('model', 'TU'))\n",
    "    #append it to the specfic contig list\n",
    "    ordered_gl_index_dict[contig].append(_index)\n",
    "        "
   ]
  },
  {
   "cell_type": "code",
   "execution_count": 58,
   "metadata": {
    "collapsed": true
   },
   "outputs": [],
   "source": [
    "have_neighbours = []\n",
    "for key in ordered_gl_index_dict.keys():\n",
    "    subset_gene_index_list = ordered_gl_index_dict[key]\n",
    "    for y in subset_gene_index_list:\n",
    "        if y+1 in subset_gene_index_list or y-1 in subset_gene_index_list:\n",
    "            have_neighbours.append(True)\n",
    "        else:\n",
    "            have_neighbours.append(False)\n",
    "    "
   ]
  },
  {
   "cell_type": "code",
   "execution_count": 59,
   "metadata": {
    "collapsed": true
   },
   "outputs": [],
   "source": [
    "#make this a function\n",
    "def does_have_neighbour(input_gene_list, gene_list_per_contig_dict=gene_list_per_contig_dict):\n",
    "    '''Return a list of True/False indicating if the respective element of the entry list has \n",
    "    a neighbour present in the same list.\n",
    "    It also requires a dictionary of the ordered gene list per contig.'''\n",
    "    #get the index of all shg_genes in the ordered gene list\n",
    "    ordered_gl_index_dict = {}\n",
    "    #initiat the empty list for the dict\n",
    "    for key in gene_list_per_contig_dict.keys():\n",
    "        ordered_gl_index_dict[key] = []\n",
    "    #now populate those for the genes we have, adding indexes of each in in the list per contig\n",
    "    for y in input_gene_list:\n",
    "        contig = re.findall(r'[ph]contig[^.]*', y)[0]\n",
    "        #get the index of the gene specific for the contig\n",
    "        _index = gene_list_per_contig_dict[contig].index(y.replace('model', 'TU'))\n",
    "        #append it to the specfic contig list\n",
    "        ordered_gl_index_dict[contig].append(_index)\n",
    "    have_neighbours = []\n",
    "    #now loop over the list dictonary and see if each list contains an index+-1\n",
    "    for key in ordered_gl_index_dict.keys():\n",
    "        subset_gene_index_list = ordered_gl_index_dict[key]\n",
    "        for y in subset_gene_index_list:\n",
    "            if y+1 in subset_gene_index_list or y-1 in subset_gene_index_list:\n",
    "                have_neighbours.append(True)\n",
    "            else:\n",
    "                have_neighbours.append(False)\n",
    "    return have_neighbours"
   ]
  },
  {
   "cell_type": "code",
   "execution_count": 60,
   "metadata": {},
   "outputs": [
    {
     "data": {
      "text/plain": [
       "1164"
      ]
     },
     "execution_count": 60,
     "metadata": {},
     "output_type": "execute_result"
    }
   ],
   "source": [
    "#number of shg genes with neighbours\n",
    "does_have_neighbour(shg).count(True)"
   ]
  },
  {
   "cell_type": "code",
   "execution_count": 61,
   "metadata": {},
   "outputs": [
    {
     "name": "stdout",
     "output_type": "stream",
     "text": [
      "209\n"
     ]
    },
    {
     "data": {
      "text/plain": [
       "(0.179553264604811, 2.3486743760141017e-115)"
      ]
     },
     "execution_count": 61,
     "metadata": {},
     "output_type": "execute_result"
    }
   ],
   "source": [
    "#random subsampling of genes based on the obsereved numbers of \n",
    "#total genes and shg genes per contig\n",
    "random_gene_list = [p_genes_ordered[x] for x in np.random.choice(15928, 1346,replace=False)]\n",
    "for _index in np.random.choice(14321,160,replace=False):\n",
    "    random_gene_list.append(h_genes_ordered[_index])\n",
    "rand_neighbours = does_have_neighbour(random_gene_list).count(True)\n",
    "print(rand_neighbours)\n",
    "stats.fisher_exact([[rand_neighbours, 1506],[1164,1506]])"
   ]
  },
  {
   "cell_type": "code",
   "execution_count": 62,
   "metadata": {
    "collapsed": true
   },
   "outputs": [],
   "source": [
    "from pybedtools import BedTool"
   ]
  },
  {
   "cell_type": "code",
   "execution_count": 63,
   "metadata": {
    "collapsed": true
   },
   "outputs": [],
   "source": [
    "def elements_with_overlap(gene_list, all_gene_bed_fn, feature_bed_fn):\n",
    "    \"\"\"The takes a list of genes/proteins and checks which of those overlap with\n",
    "    a feature in the feature bed.\n",
    "    Returns the number of elements with overlap and\n",
    "    number of tested overlaps.\"\"\"\n",
    "    from pybedtools import BedTool\n",
    "    tmp_gene_df = pd.read_csv(all_gene_bed_fn, header=None, sep='\\t')\n",
    "    #now subset the tmp_gene_df and save to file\n",
    "    tmp_fn = all_gene_bed_fn.replace('bed','bed_tmp')\n",
    "    #fix gene list\n",
    "    new_gene_list = []\n",
    "    for x in gene_list:\n",
    "        if 'model' in x:\n",
    "            new_gene_list.append(x.replace('model', 'TU'))\n",
    "        elif 'TU' in x:\n",
    "            new_gene_list.append(x)\n",
    "        \n",
    "    tmp_gene_df[tmp_gene_df[3].isin(new_gene_list)]\\\n",
    "                .to_csv(tmp_fn, header =None, sep='\\t', index=None)\n",
    "    tmp_gene_bed = BedTool(tmp_fn)\n",
    "    feature_bed = BedTool(feature_bed_fn)\n",
    "    tmp_bed = tmp_gene_bed.intersect(feature_bed,c=True)\n",
    "    total_querries = len(tmp_bed)\n",
    "    querries_w_overlap = tmp_bed.to_dataframe().iloc[:, -1].sum()\n",
    "    #n = 0\n",
    "    return querries_w_overlap, total_querries"
   ]
  },
  {
   "cell_type": "code",
   "execution_count": 64,
   "metadata": {
    "collapsed": true
   },
   "outputs": [],
   "source": [
    "##look how much overlap we got\n",
    "mapped_on_each_other_p_fn = os.path.join(ALLELE_PATH, '..','Pst_104E_v12_p_ctg.p_by_h_cov.gff')\n",
    "mapped_on_each_other_h_fn = os.path.join(ALLELE_PATH, '..','Pst_104E_v12_ph_ctg.p_on_h_cov.gff')\n",
    "p_gene_bed_fn = os.path.join(LIST_PATH, 'Pst_104E_v12_p_all.gene.bed')\n",
    "h_gene_bed_fn = os.path.join(LIST_PATH, 'Pst_104E_v12_h_all.gene.bed')"
   ]
  },
  {
   "cell_type": "code",
   "execution_count": 65,
   "metadata": {
    "collapsed": true
   },
   "outputs": [],
   "source": [
    "p_w_overlap, ps = elements_with_overlap(shg, p_gene_bed_fn, mapped_on_each_other_p_fn)\n",
    "h_w_overlap, hs = elements_with_overlap(shg, h_gene_bed_fn, mapped_on_each_other_h_fn)"
   ]
  },
  {
   "cell_type": "code",
   "execution_count": 66,
   "metadata": {},
   "outputs": [
    {
     "name": "stdout",
     "output_type": "stream",
     "text": [
      "Out of 1506 shg 14 are have a corresponding associated contig overlap\n"
     ]
    }
   ],
   "source": [
    "print('Out of %i shg %i are have a corresponding associated contig overlap' \\\n",
    "      % (ps+hs, p_w_overlap+ h_w_overlap))"
   ]
  },
  {
   "cell_type": "code",
   "execution_count": 67,
   "metadata": {},
   "outputs": [
    {
     "name": "stdout",
     "output_type": "stream",
     "text": [
      "Out of 1506 random gene list 1230 are have a corresponding associated contig overlap\n"
     ]
    }
   ],
   "source": [
    "random_gene_list = [p_genes_ordered[x] for x in np.random.choice(15928, 1346, replace=False)]\n",
    "for _index in np.random.choice(14321,160, replace=False):\n",
    "    random_gene_list.append(h_genes_ordered[_index])\n",
    "p_w_overlap, ps = elements_with_overlap(random_gene_list, p_gene_bed_fn, mapped_on_each_other_p_fn)\n",
    "h_w_overlap, hs = elements_with_overlap(random_gene_list, h_gene_bed_fn, mapped_on_each_other_h_fn)\n",
    "print('Out of %i random gene list %i are have a corresponding associated contig overlap' \\\n",
    "      % (ps+hs, p_w_overlap+ h_w_overlap))"
   ]
  },
  {
   "cell_type": "code",
   "execution_count": 68,
   "metadata": {},
   "outputs": [
    {
     "data": {
      "text/plain": [
       "(87.5, 4.5616436800986692e-265)"
      ]
     },
     "execution_count": 68,
     "metadata": {},
     "output_type": "execute_result"
    }
   ],
   "source": [
    "stats.fisher_exact([[1225, 1506],[14,1506]])"
   ]
  },
  {
   "cell_type": "raw",
   "metadata": {},
   "source": [
    "##lazy old version\n",
    "#this is a dirty and quick way to check if genes are in regions that have and primary/hapltig overlap.\n",
    "intersect_list = []\n",
    "#this could also be written with pybedtools and -c flag which gives the cound of how often each\n",
    "#element in a has overlaped with b in the last column \n",
    "for y in shg:\n",
    "    gene = y.replace('model', 'TU')\n",
    "    if 'pcontig' in y:\n",
    "        mapped_on_each_other_fn = os.path.join(ALLELE_PATH, '..','Pst_104E_v12_p_ctg.p_by_h_cov.gff')\n",
    "        gene_list_fn = os.path.join(LIST_PATH, 'Pst_104E_v12_p_all.gene.bed')\n",
    "    elif 'hcontig' in y:\n",
    "        mapped_on_each_other_fn = os.path.join(ALLELE_PATH, '..','Pst_104E_v12_ph_ctg.p_on_h_cov.gff')\n",
    "        gene_list_fn = os.path.join(LIST_PATH, 'Pst_104E_v12_h_all.gene.bed')\n",
    "    a = !grep -w '{gene}' {gene_list_fn} | bedtools intersect -a - -b {mapped_on_each_other_fn}\n",
    "    intersect_list.append(a)\n",
    "print(intersect_list.count([]))"
   ]
  },
  {
   "cell_type": "markdown",
   "metadata": {},
   "source": [
    "Below we are looking a bit on how many hits the shg have in the NCBI and in the ensmble database"
   ]
  },
  {
   "cell_type": "code",
   "execution_count": null,
   "metadata": {
    "collapsed": true
   },
   "outputs": [],
   "source": [
    "ensemblhits = pd.read_csv(ensembl_blast, header=None, sep='\\t')[0].unique()\n",
    "ncbihits = pd.read_csv(ncbi_blast, header=None, sep='\\t')[0].unique()\n",
    "shg_db_hits = [x for x in ensemblhits]\n",
    "print(len(shg_db_hits ))\n",
    "for _id in ncbihits:\n",
    "    if _id.replace('TU', 'model') not in ensemblhits:\n",
    "        shg_db_hits.append(_id.replace('TU', 'model'))\n",
    "print(len(shg_db_hits))"
   ]
  },
  {
   "cell_type": "code",
   "execution_count": null,
   "metadata": {
    "collapsed": true
   },
   "outputs": [],
   "source": [
    "#now get the no hits\n",
    "shg_db_nohits = [x for x in shg if x not in shg_db_hits]\n",
    "print(len(shg_db_nohits))"
   ]
  },
  {
   "cell_type": "code",
   "execution_count": null,
   "metadata": {
    "collapsed": true
   },
   "outputs": [],
   "source": [
    "shg_db_nohits_len = [len(x.seq) for x in return_gene_fasta(shg_db_nohits, ph_gene_fasta)]"
   ]
  },
  {
   "cell_type": "code",
   "execution_count": null,
   "metadata": {
    "collapsed": true
   },
   "outputs": [],
   "source": [
    "print(np.mean(shg_db_nohits_len), np.mean(genome_len))\n",
    "len([x for x in p_gene_dict['EFFECTORS'] if x in shg_db_nohits])"
   ]
  },
  {
   "cell_type": "code",
   "execution_count": null,
   "metadata": {
    "collapsed": true
   },
   "outputs": [],
   "source": [
    "stats.ttest_ind(shg_db_nohits_len, genome_len)"
   ]
  },
  {
   "cell_type": "code",
   "execution_count": null,
   "metadata": {
    "collapsed": true
   },
   "outputs": [],
   "source": [
    "print(np.median(shg_db_nohits_len), np.median(genome_len))"
   ]
  },
  {
   "cell_type": "code",
   "execution_count": null,
   "metadata": {
    "collapsed": true
   },
   "outputs": [],
   "source": [
    "#how many are effectors\n",
    "print(len([x for x in p_gene_dict['EFFECTORS'] if x in shg_db_nohits]) +\\\n",
    "     len([x for x in h_gene_dict['EFFECTORS'] if x in shg_db_nohits]))\n"
   ]
  },
  {
   "cell_type": "code",
   "execution_count": null,
   "metadata": {
    "collapsed": true
   },
   "outputs": [],
   "source": [
    "#sectreted\n",
    "print(len([x for x in p_gene_dict['SIGNALP3'] if x in shg_db_nohits]) +\\\n",
    "     len([x for x in h_gene_dict['SIGNALP3'] if x in shg_db_nohits]))"
   ]
  },
  {
   "cell_type": "code",
   "execution_count": null,
   "metadata": {
    "collapsed": true
   },
   "outputs": [],
   "source": [
    "#haustoria\n",
    "print(len([x for x in p_gene_dict['HAUSTORIA'] if x in shg_db_nohits]) +\\\n",
    "     len([x for x in h_gene_dict['HAUSTORIA'] if x in shg_db_nohits]))"
   ]
  },
  {
   "cell_type": "code",
   "execution_count": null,
   "metadata": {
    "collapsed": true
   },
   "outputs": [],
   "source": [
    "#quickly check for expression\n",
    "expression = []\n",
    "for x  in shg_db_nohits:\n",
    "    p_counttable = '/home/benjamin/genome_assembly/PST79/FALCON/p_assemblies/v9_1/Pst_104E_v12/expression_analysis/TSRM/Pst_104E_v12_p_ctg/stringtie/Pst_104E_v12_p_ctg.in_house_IDParent.STAR.featureCounts.txt'\n",
    "    h_counttable = '/home/benjamin/genome_assembly/PST79/FALCON/p_assemblies/v9_1/Pst_104E_v12/expression_analysis/TSRM/Pst_104E_v12_h_ctg/stringtie/Pst_104E_v12_h_ctg.in_house.STAR.featureCounts.txt'\n",
    "    gene_name = x #.replace(\"model\", \"TU\")\n",
    "    if 'pcontig' in x:\n",
    "        hit = !grep -w '{gene_name}' {p_counttable}\n",
    "        expression.append(hit)\n",
    "    if 'hcontig' in x:\n",
    "        hit = !grep -w '{gene_name}' {h_counttable}\n",
    "        expression.append(hit)"
   ]
  },
  {
   "cell_type": "code",
   "execution_count": null,
   "metadata": {
    "collapsed": true
   },
   "outputs": [],
   "source": [
    "#make an expression dict were the read counts are a list with each position representig count\n",
    "#mapped reads under one condition\n",
    "shg_db_nohits_exp_dict = {}\n",
    "for x in expression:\n",
    "    gene = x[0].split('\\t')[0]\n",
    "    shg_db_nohits_exp_dict[gene] = x[0].split('\\t')[-18:]"
   ]
  },
  {
   "cell_type": "code",
   "execution_count": null,
   "metadata": {
    "collapsed": true
   },
   "outputs": [],
   "source": [
    "#check if the expression (count of aligned fragments in sum) is > 100\n",
    "len([x for x in shg_db_nohits_exp_dict.keys() \\\n",
    "     if np.sum([int(y) for y in shg_db_nohits_exp_dict[x]]) > 100])"
   ]
  },
  {
   "cell_type": "code",
   "execution_count": null,
   "metadata": {
    "collapsed": true
   },
   "outputs": [],
   "source": [
    "#check if those are effectors\n",
    "len([x for x in shg_db_nohits_exp_dict.keys() \\\n",
    "     if (np.sum([int(y) for y in shg_db_nohits_exp_dict[x]]) > 100)\\\n",
    "     and (x in p_gene_dict['EFFECTORS'] or x in h_gene_dict['EFFECTORS'])])"
   ]
  },
  {
   "cell_type": "markdown",
   "metadata": {},
   "source": [
    "prepare for paml codeml analysis\n",
    "* write out protein sequences and cds sequences for each pair to new folder\n",
    "* write bash script for alignment and codeml\n",
    "* make pmal cnt file in same folder and tree file"
   ]
  },
  {
   "cell_type": "code",
   "execution_count": 69,
   "metadata": {
    "collapsed": true
   },
   "outputs": [],
   "source": [
    "PAML_PATH = os.path.join(OUT_PATH, 'paml')\n",
    "if not os.path.exists(PAML_PATH):\n",
    "    os.mkdir(PAML_PATH)"
   ]
  },
  {
   "cell_type": "code",
   "execution_count": null,
   "metadata": {
    "collapsed": true
   },
   "outputs": [],
   "source": [
    "count = 0\n",
    "with open(os.path.join(PAML_PATH, 'paml_script.sh'), 'a') as aln_fh:\n",
    "        print('#!/bin/bash', file=aln_fh)\n",
    "for index, row in allele_df.iterrows():\n",
    "    #make new folder\n",
    "    _tmp_allele_path = os.path.join(PAML_PATH, '%s_%s' % (row[0],row[1]))\n",
    "    if not os.path.exists(_tmp_allele_path):\n",
    "        os.mkdir(os.path.join(PAML_PATH, '%s_%s' % (row[0],row[1])))\n",
    "    _tmp_cds_list = return_gene_fasta_paml([row[0], row[1]], ph_cds_fasta)\n",
    "    _tmp_protein_list = return_gene_fasta([row[0], row[1]], ph_protein_fasta)\n",
    "    with open(os.path.join(_tmp_allele_path, 'protein.fa'),'w') as p_fh:\n",
    "        SeqIO.write(_tmp_protein_list, p_fh, 'fasta')\n",
    "    with open(os.path.join(_tmp_allele_path, 'cds.fa'),'w') as p_fh:\n",
    "        SeqIO.write(_tmp_cds_list, p_fh, 'fasta')\n",
    "    #now write tree file\n",
    "    with open(os.path.join(_tmp_allele_path, 'tree.tree'), 'w') as tree_fh:\n",
    "        print('(%s, %s);' % (_tmp_protein_list[0].id, _tmp_protein_list[1].id), file=tree_fh)\n",
    "    #now write alignment bash alignment script\n",
    "    with open(os.path.join(PAML_PATH, 'paml_script.sh'), 'a') as aln_fh:\n",
    "        print('cd %s' % _tmp_allele_path, file=aln_fh)\n",
    "        print('muscle -clwstrict -in protein.fa -out protein.aln', file=aln_fh)\n",
    "        print('perl ../pal2nal.pl -output paml protein.aln cds.fa > cds_codon.aln', file=aln_fh)\n",
    "        print('perl ../pal2nal.pl protein.aln cds.fa > cds_codon.clustal', file=aln_fh)\n",
    "        print('cp %s/codeml.ctl ./' % PAML_PATH, file=aln_fh )\n",
    "        print('codeml', file=aln_fh)\n",
    "    #to test briefly\n",
    "    count +=1\n",
    "    #if count >3:\n",
    "       # break\n",
    "stderr = !bash {os.path.join(PAML_PATH, 'paml_script.sh')} "
   ]
  },
  {
   "cell_type": "raw",
   "metadata": {},
   "source": [
    "##this was a test function to see if everything was correct.\n",
    "overall_count = 0\n",
    "for x in [1]:\n",
    "    seq_list = []\n",
    "    folder = 'evm.model.pcontig_002.283_evm.model.hcontig_002_028.41'\n",
    "    tmp_protein_aln =os.path.join(PAML_PATH, \\\n",
    "                            folder,'protein.aln')\n",
    "    for x in AlignIO.read(open(tmp_protein_aln, 'r'), format = \"clustal\", seq_count=2):\n",
    "        seq_list.append(str(x.seq).upper())\n",
    "    print(distance.hamming(seq_list[0], seq_list[1], normalized=True))\n",
    "    print(distance.levenshtein(seq_list[0], seq_list[1], normalized=True))\n",
    "    #from the clustal alignment alignment done one th\n",
    "    tmp_cds_aln = os.path.join(PAML_PATH, folder,'cds_codon.clustal')\n",
    "    seq_list = []\n",
    "    for x in AlignIO.read(open(tmp_cds_aln, 'r'), format = \"clustal\", seq_count=2):\n",
    "        seq_list.append(str(x.seq).upper())\n",
    "    print(distance.hamming(seq_list[0], seq_list[1], normalized=True))\n",
    "    print(distance.levenshtein(seq_list[0], seq_list[1], normalized=True))\n",
    "    overall_count += 1\n",
    "    print(overall_count)"
   ]
  },
  {
   "cell_type": "raw",
   "metadata": {},
   "source": [
    "##this was a test function to see if everything was correct.\n",
    "#tmp_yn = os.path.join(PAML_PATH, '%s_%s' % (row[0],row[1]),'yn.out')\n",
    "tmp_yn= os.path.join(PAML_PATH, 'evm.model.pcontig_057.104_evm.model.hcontig_057_009.2', 'yn.out')\n",
    "yn_count = 0\n",
    "yn_seq_count = 0\n",
    "with open(tmp_yn, 'r') as fn:\n",
    "        for line in fn:\n",
    "            yn_count += 1\n",
    "            if line.startswith('seq. seq. '):\n",
    "                yn_seq_count = yn_count\n",
    "            if yn_seq_count >0  and yn_count == yn_seq_count + 2:\n",
    "                #print(re.findall(r'dN/dS=(.*)dN', line))\n",
    "                #dNdS = re.findall(r'dN/dS=(.*)dN', line)[0].replace(' ','')\n",
    "                dN = line.split('+-')[0].rstrip().split(' ')[-1]\n",
    "                dS = line.split('+-')[1].rstrip().split(' ')[-1]\n",
    "                if float(dS) > 0:\n",
    "                    print(float(dN)/float(dS))\n",
    "            if line.startswith('LWL85:'):\n",
    "                dN = re.findall(r'dN =  (.*) w',line)[0]\n",
    "                dS = re.findall(r'dS =  (.*) dN', line)[0]\n",
    "                if float(dS) > 0:\n",
    "                    print(float(dN)/float(dS))\n",
    "                #print(dNdS)\n",
    "                #allele_df.loc[index, 'codmel_dN/dS'] = dNdS"
   ]
  },
  {
   "cell_type": "markdown",
   "metadata": {},
   "source": [
    "Don't iter over a dataframe with iterrows and try to change stuff.\n",
    "It doesn't work."
   ]
  },
  {
   "cell_type": "markdown",
   "metadata": {},
   "source": [
    "The way doing it with dictionaries that are afterwards attached to the dataframe seems the most reliable method so far"
   ]
  },
  {
   "cell_type": "code",
   "execution_count": 265,
   "metadata": {
    "collapsed": true
   },
   "outputs": [],
   "source": [
    "allele_df['folder'] = allele_df.p_gene +'_'+allele_df.h_gene \n",
    "allele_df.index = allele_df['folder']"
   ]
  },
  {
   "cell_type": "code",
   "execution_count": 266,
   "metadata": {
    "collapsed": true
   },
   "outputs": [],
   "source": [
    "#try a different approach with making dictonaries first and those will be fused to the\n",
    "#dataframe later on\n",
    "dicts_of_dN_sS = {}\n",
    "dicts_of_dN_sS['codmel_dN/dS'] = dict(zip(allele_df.folder, len(allele_df.folder)*[np.nan]))\n",
    "dicts_of_dN_sS['LWL85_dN/dS'] = dict(zip(allele_df.folder, len(allele_df.folder)*[np.nan]))\n",
    "dicts_of_dN_sS['LWL85m_dN/dS'] = dict(zip(allele_df.folder, len(allele_df.folder)*[np.nan]))\n",
    "dicts_of_dN_sS['LPB93_dN/dS'] = dict(zip(allele_df.folder, len(allele_df.folder)*[np.nan]))\n",
    "dicts_of_dN_sS['vn00_dN/dS'] = dict(zip(allele_df.folder, len(allele_df.folder)*[np.nan]))\n",
    "dicts_of_distances = {}\n",
    "dicts_of_distances['cds_hamming'] = {}\n",
    "dicts_of_distances['protein_hamming'] = {}\n",
    "dicts_of_distances['protein_levenshtein'] = {}\n",
    "dicts_of_distances['cds_levenshtein'] = {}"
   ]
  },
  {
   "cell_type": "code",
   "execution_count": null,
   "metadata": {
    "collapsed": true
   },
   "outputs": [],
   "source": [
    "from Bio import AlignIO\n",
    "#now pull in the dN/dS ratios\n",
    "overall_count = 0\n",
    "#loop over the folder and add the values as key=folder value pairs to the dict\n",
    "for folder in allele_df.folder:\n",
    "    seq_list = []\n",
    "    tmp_protein_aln = os.path.join(PAML_PATH, folder,'protein.aln')\n",
    "    for x in AlignIO.read(open(tmp_protein_aln, 'r'), format = \"clustal\", seq_count=2):\n",
    "        seq_list.append(str(x.seq).upper())\n",
    "    dicts_of_distances['protein_hamming'][folder]\\\n",
    "    = distance.hamming(seq_list[0], seq_list[1], normalized=True)\n",
    "    dicts_of_distances['protein_levenshtein'][folder]\\\n",
    "    = distance.levenshtein(seq_list[0], seq_list[1], normalized=True)\n",
    "    \n",
    "    tmp_cds_aln = os.path.join(PAML_PATH, folder,'cds_codon.clustal')\n",
    "    seq_list = []\n",
    "    for x in AlignIO.read(open(tmp_cds_aln, 'r'), format = \"clustal\", seq_count=2):\n",
    "        seq_list.append(str(x.seq).upper())\n",
    "    dicts_of_distances['cds_hamming'][folder]\\\n",
    "    = distance.hamming(seq_list[0], seq_list[1], normalized=True)\n",
    "    dicts_of_distances['cds_levenshtein'][folder]\\\n",
    "    = distance.levenshtein(seq_list[0], seq_list[1], normalized=True)\n",
    "    overall_count += 1\n",
    "    #print(overall_count)"
   ]
  },
  {
   "cell_type": "code",
   "execution_count": null,
   "metadata": {
    "collapsed": true
   },
   "outputs": [],
   "source": [
    "overall_count = 0\n",
    "\n",
    "for folder in allele_df.folder:\n",
    "    #fix the yn\n",
    "    tmp_yn = os.path.join(PAML_PATH, folder,'yn.out')\n",
    "    #fix the yn\n",
    "    with open(tmp_yn, 'r') as fn:\n",
    "        #initiate a bunch of values\n",
    "        dN = 0\n",
    "        dS = 0\n",
    "        dN_L = 0\n",
    "        dS_L = 0\n",
    "        dN_m = 0\n",
    "        dS_m = 0\n",
    "        dN_p = 0 \n",
    "        dS_p = 0 \n",
    "        #now loop over the lines and parse out stuff\n",
    "        for line in fn:\n",
    "            yn_count += 1\n",
    "            if line.startswith('seq. seq. '):\n",
    "                yn_seq_count = yn_count\n",
    "            if yn_seq_count >0  and yn_count == yn_seq_count + 2:\n",
    "                #print(re.findall(r'dN/dS=(.*)dN', line))\n",
    "                #dNdS = re.findall(r'dN/dS=(.*)dN', line)[0].replace(' ','')\n",
    "                dN = line.split('+-')[0].rstrip().split(' ')[-1]\n",
    "                dS = line.split('+-')[1].rstrip().split(' ')[-1]\n",
    "                if float(dS) > 0:\n",
    "                    dicts_of_dN_sS['vn00_dN/dS'][folder] = float(dN)/float(dS)\n",
    "                else: \n",
    "                    dicts_of_dN_sS['vn00_dN/dS'][folder] = np.nan\n",
    "            if line.startswith('LWL85:') and 'nan' not in line:\n",
    "                dN_L =re.findall(r'dN = [-| ]?(.*) w', line)[0]\n",
    "                dS_L = re.findall(r'dS = [-| ]?(.*) dN', line)[0]\n",
    "                if float(dS_L) > 0:\n",
    "                    dicts_of_dN_sS['LWL85_dN/dS'][folder] = float(dN_L)/float(dS_L)\n",
    "                else:\n",
    "                    dicts_of_dN_sS['LWL85_dN/dS'][folder] = np.nan\n",
    "            if line.startswith('LWL85m:') and 'nan' not in line:\n",
    "                dN_m = re.findall(r'dN = [-| ]?(.*) w', line)[0]\n",
    "                dS_m = re.findall(r'dS = [-| ]?(.*) dN', line)[0]\n",
    "                if float(dS_m) > 0:\n",
    "                    dicts_of_dN_sS['LWL85m_dN/dS'][folder] = float(dN_m)/float(dS_m)\n",
    "                else:\n",
    "                    dicts_of_dN_sS['LWL85m_dN/dS'][folder] = np.nan\n",
    "            if line.startswith('LPB93:') and 'nan' not in line:\n",
    "                dN_p = re.findall(r'dN = [-| ]?(.*) w', line)[0]\n",
    "                dS_p = re.findall(r'dS = [-| ]?(.*) dN', line)[0]\n",
    "                if float(dS_m) > 0:\n",
    "                    dicts_of_dN_sS['LPB93_dN/dS'][folder] = float(dN_p)/float(dS_p)\n",
    "                else:\n",
    "                    dicts_of_dN_sS['LPB93_dN/dS'][folder] = np.nan\n",
    "    #fix codmel\n",
    "    tmp_codmel = os.path.join(PAML_PATH, folder,'codeml.out')\n",
    "    #now open the file an pull out the dN/dS ratio\n",
    "    with open(tmp_codmel, 'r') as fn:\n",
    "        dNdS = 0\n",
    "        for line in fn:\n",
    "            if line.startswith('t='):\n",
    "                #print(re.findall(r'dN/dS=(.*)dN', line))\n",
    "                dNdS = re.findall(r'dN/dS=(.*)dN', line)[0].replace(' ','')\n",
    "                #print(line)\n",
    "                #print(dNdS)\n",
    "                dicts_of_dN_sS['codmel_dN/dS'][folder] = dNdS\n",
    "    #now get the vn00 results\n",
    "            \n",
    "    #now get the distance of an alignment\n",
    "    #protein first\n",
    "    overall_count += 1\n",
    "    #print(overall_count)"
   ]
  },
  {
   "cell_type": "code",
   "execution_count": 276,
   "metadata": {},
   "outputs": [
    {
     "data": {
      "text/plain": [
       "dict_keys(['LWL85_dN/dS', 'vn00_dN/dS', 'codmel_dN/dS', 'LPB93_dN/dS', 'LWL85m_dN/dS'])"
      ]
     },
     "execution_count": 276,
     "metadata": {},
     "output_type": "execute_result"
    }
   ],
   "source": [
    "for key in dicts_of_dN_sS.keys():\n",
    "    allele_df[key] = allele_df.folder.apply(lambda x: dicts_of_dN_sS[key][x])\n",
    "dicts_of_dN_sS.keys()"
   ]
  },
  {
   "cell_type": "code",
   "execution_count": 277,
   "metadata": {},
   "outputs": [
    {
     "data": {
      "text/plain": [
       "dict_keys(['cds_hamming', 'protein_hamming', 'cds_levenshtein', 'protein_levenshtein'])"
      ]
     },
     "execution_count": 277,
     "metadata": {},
     "output_type": "execute_result"
    }
   ],
   "source": [
    "for key in dicts_of_distances.keys():\n",
    "    allele_df[key] = allele_df.folder.apply(lambda x: dicts_of_distances[key][x])\n",
    "dicts_of_distances.keys()"
   ]
  },
  {
   "cell_type": "markdown",
   "metadata": {},
   "source": [
    "Check this out above did four spot checks and they all look good. Indeed it looked good for all 4-5 checked positions."
   ]
  },
  {
   "cell_type": "code",
   "execution_count": 278,
   "metadata": {
    "collapsed": true
   },
   "outputs": [],
   "source": [
    "#save the fixed up dataframe to file\n",
    "allele_df_fn = shg_fh = os.path.join(OUT_PATH, 'Pst_104E_v12_p_ctg.all.alleles.df')\n",
    "allele_df.to_csv(allele_df_fn, sep='\\t', index=None)"
   ]
  },
  {
   "cell_type": "code",
   "execution_count": 280,
   "metadata": {
    "collapsed": true
   },
   "outputs": [],
   "source": [
    "#now fuse the important columns to the allele blast dataframe\n",
    "allele_blast_df['folder'] = allele_blast_df['Query'] + '_' + allele_blast_df['Target']"
   ]
  },
  {
   "cell_type": "code",
   "execution_count": 282,
   "metadata": {},
   "outputs": [],
   "source": [
    "allele_hit_df = allele_blast_df[allele_blast_df.folder.isin(allele_df['folder'])]\\\n",
    "        .sort_values(['folder', 'PctID']).drop_duplicates('folder').copy()"
   ]
  },
  {
   "cell_type": "code",
   "execution_count": 285,
   "metadata": {
    "collapsed": true
   },
   "outputs": [],
   "source": [
    "allele_hit_df = pd.merge(allele_hit_df,allele_df.loc[:,\\\n",
    "            ['folder', 'codmel_dN/dS', 'protein_hamming',\n",
    "       'cds_hamming', 'protein_levenshtein', 'cds_levenshtein', 'vn00_dN/dS',\n",
    "       'LWL85_dN/dS', 'LWL85m_dN/dS', 'LPB93_dN/dS']], on='folder')"
   ]
  },
  {
   "cell_type": "code",
   "execution_count": 286,
   "metadata": {
    "collapsed": true
   },
   "outputs": [],
   "source": [
    "allele_hit_df.to_csv(os.path.join(OUT_PATH, 'Pst_104E_v12_p_ctg.all.alleles.hit.df')\\\n",
    "                     , index=None, sep='\\t')"
   ]
  },
  {
   "cell_type": "code",
   "execution_count": 312,
   "metadata": {},
   "outputs": [
    {
     "data": {
      "text/plain": [
       "1214"
      ]
     },
     "execution_count": 312,
     "metadata": {},
     "output_type": "execute_result"
    }
   ],
   "source": [
    "(allele_hit_df.Query.apply(lambda x: x in p_gene_dict['EFFECTORS'])).sum()"
   ]
  },
  {
   "cell_type": "code",
   "execution_count": 316,
   "metadata": {},
   "outputs": [],
   "source": [
    "allele_hit_df['P_EFFECTOR'] = allele_hit_df.Query.apply(lambda x: x in p_gene_dict['EFFECTORS'])\n",
    "allele_hit_df['P_BUSCO'] =  allele_hit_df.Query.apply(lambda x: x in p_gene_dict['BUSCOS'])\n",
    "allele_hit_df['H_EFFECTOR'] = allele_hit_df.Target.apply(lambda x: x in h_gene_dict['EFFECTORS'])\n",
    "allele_hit_df['H_BUSCO'] =  allele_hit_df.Target.apply(lambda x: x in h_gene_dict['BUSCOS'])"
   ]
  },
  {
   "cell_type": "code",
   "execution_count": 415,
   "metadata": {
    "collapsed": true
   },
   "outputs": [],
   "source": [
    "allele_hit_df['P_OTHER_GENE'] =  ~(allele_hit_df.Query.isin(p_gene_dict['EFFECTORS'])|\\\n",
    "                allele_hit_df.Query.isin(p_gene_dict['BUSCOS']))\n",
    "allele_hit_df['H_OTHER_GENE'] =  ~(allele_hit_df.Target.isin(h_gene_dict['EFFECTORS'])|\\\n",
    "                allele_hit_df.Target.isin(h_gene_dict['BUSCOS']))"
   ]
  },
  {
   "cell_type": "code",
   "execution_count": 416,
   "metadata": {},
   "outputs": [],
   "source": [
    "allele_hit_df['protein/cds_levdist'] = allele_hit_df['protein_levenshtein'] /allele_hit_df['cds_levenshtein']"
   ]
  },
  {
   "cell_type": "code",
   "execution_count": 428,
   "metadata": {
    "collapsed": true
   },
   "outputs": [],
   "source": [
    "allele_hit_df.to_csv(os.path.join(OUT_PATH, 'Pst_104E_v12_p_ctg.all.alleles.hit.df')\\\n",
    "                     , index=None, sep='\\t')"
   ]
  },
  {
   "cell_type": "code",
   "execution_count": 431,
   "metadata": {},
   "outputs": [],
   "source": [
    "#make a classification column to enable better plotting\n",
    "allele_hit_df['p_classification'] = 'None'\n",
    "allele_hit_df.loc[allele_hit_df[allele_hit_df.P_EFFECTOR == True].index,'p_classification']\\\n",
    "                = \"Effector\"\n",
    "allele_hit_df.loc[allele_hit_df[allele_hit_df.P_BUSCO == True].index,'p_classification']\\\n",
    "                = \"BUSCO\"\n",
    "allele_hit_df.loc[allele_hit_df[allele_hit_df.P_OTHER_GENE == True].index,'p_classification']\\\n",
    "                = \"OTHER_GENE\""
   ]
  },
  {
   "cell_type": "code",
   "execution_count": 433,
   "metadata": {
    "collapsed": true
   },
   "outputs": [],
   "source": [
    "#make a classification column to enable better plotting\n",
    "allele_hit_df['h_classification'] = 'None'\n",
    "allele_hit_df.loc[allele_hit_df[allele_hit_df.H_EFFECTOR == True].index,'h_classification']\\\n",
    "                = \"Effector\"\n",
    "allele_hit_df.loc[allele_hit_df[allele_hit_df.H_BUSCO == True].index,'h_classification']\\\n",
    "                = \"BUSCO\"\n",
    "allele_hit_df.loc[allele_hit_df[allele_hit_df.H_OTHER_GENE == True].index,'h_classification']\\\n",
    "                = \"OTHER_GENE\"\n"
   ]
  },
  {
   "cell_type": "markdown",
   "metadata": {},
   "source": [
    "Plot the variation of levenstain distances according to classification"
   ]
  },
  {
   "cell_type": "code",
   "execution_count": 498,
   "metadata": {},
   "outputs": [
    {
     "data": {
      "text/plain": [
       "[]"
      ]
     },
     "execution_count": 498,
     "metadata": {},
     "output_type": "execute_result"
    },
    {
     "data": {
      "image/png": "[encoded data removed]",
      "text/plain": [
       "<matplotlib.figure.Figure at 0x7fe79a6875f8>"
      ]
     },
     "metadata": {},
     "output_type": "display_data"
    }
   ],
   "source": [
    "df = allele_hit_df.loc[:,['protein/cds_levdist', \"p_classification\"]].fillna(0).copy()\n",
    "qdf = quant_cut_df(df.pivot(values='protein/cds_levdist', columns= 'p_classification'))\n",
    "\n",
    "f, ax = plt.subplots(figsize=(15, 10))\n",
    "df = qdf.melt()\n",
    "#ax.set_xscale(\"log\")\n",
    "sns.violinplot(x='value', y=\"p_classification\", data=df.sort_values(\"p_classification\"), cut=0,\n",
    "          whis=np.inf)\n",
    "plt.setp(ax.artists, alpha=.01)\n",
    "#sns.swarmplot(x='protein/cds_levdist', y=\"p_classification\", data=df,\n",
    "              #size=2, color=\".3\", linewidth=0)"
   ]
  },
  {
   "cell_type": "code",
   "execution_count": 500,
   "metadata": {},
   "outputs": [
    {
     "data": {
      "text/plain": [
       "[]"
      ]
     },
     "execution_count": 500,
     "metadata": {},
     "output_type": "execute_result"
    },
    {
     "data": {
      "image/png": "[encoded data removed]",
      "text/plain": [
       "<matplotlib.figure.Figure at 0x7fe6dc2d6f60>"
      ]
     },
     "metadata": {},
     "output_type": "display_data"
    }
   ],
   "source": [
    "df = allele_hit_df.loc[:,['protein/cds_levdist', \"h_classification\"]].fillna(0).copy()\n",
    "qdf = quant_cut_df(df.pivot(values='protein/cds_levdist', columns= 'h_classification'))\n",
    "\n",
    "f, ax = plt.subplots(figsize=(15, 10))\n",
    "df = qdf.melt()\n",
    "#ax.set_xscale(\"log\")\n",
    "sns.violinplot(x='value', y=\"h_classification\", data=df.sort_values(\"h_classification\"), cut=0,\n",
    "          whis=np.inf)\n",
    "plt.setp(ax.artists, alpha=.01)\n",
    "#sns.swarmplot(x='protein/cds_levdist', y=\"p_classification\", data=df,\n",
    "              #size=2, color=\".3\", linewidth=0)"
   ]
  },
  {
   "cell_type": "code",
   "execution_count": 496,
   "metadata": {},
   "outputs": [
    {
     "data": {
      "text/plain": [
       "[]"
      ]
     },
     "execution_count": 496,
     "metadata": {},
     "output_type": "execute_result"
    },
    {
     "data": {
      "image/png": "[encoded data removed]",
      "text/plain": [
       "<matplotlib.figure.Figure at 0x7fe6ddf932b0>"
      ]
     },
     "metadata": {},
     "output_type": "display_data"
    }
   ],
   "source": [
    "f, ax = plt.subplots(figsize=(15, 10))\n",
    "df = allele_hit_df.loc[:,['protein/cds_levdist', \"p_classification\"]].copy()\n",
    "#ax.set_xscale(\"log\")\n",
    "sns.violinplot(x='protein/cds_levdist', y=\"p_classification\", data=df.sort_values(\"p_classification\"), cut=0,\n",
    "          whis=np.inf)\n",
    "plt.setp(ax.artists, alpha=.01)\n",
    "#sns.swarmplot(x='protein/cds_levdist', y=\"p_classification\", data=df,\n",
    "              #size=2, color=\".3\", linewidth=0)"
   ]
  },
  {
   "cell_type": "code",
   "execution_count": 497,
   "metadata": {},
   "outputs": [
    {
     "data": {
      "text/plain": [
       "[]"
      ]
     },
     "execution_count": 497,
     "metadata": {},
     "output_type": "execute_result"
    },
    {
     "data": {
      "image/png": "[encoded data removed]",
      "text/plain": [
       "<matplotlib.figure.Figure at 0x7fe79a6665c0>"
      ]
     },
     "metadata": {},
     "output_type": "display_data"
    }
   ],
   "source": [
    "f, ax = plt.subplots(figsize=(15, 10))\n",
    "df = allele_hit_df.loc[:,['protein/cds_levdist', \"p_classification\"]].fillna(0).copy()\n",
    "#ax.set_xscale(\"log\")\n",
    "sns.violinplot(x='protein/cds_levdist', y=\"p_classification\", data=df.sort_values(\"p_classification\"), cut=0,\n",
    "          whis=np.inf)\n",
    "plt.setp(ax.artists, alpha=.01)\n",
    "#sns.swarmplot(x='protein/cds_levdist', y=\"p_classification\", data=df,\n",
    "              #size=2, color=\".3\", linewidth=0)"
   ]
  },
  {
   "cell_type": "code",
   "execution_count": 495,
   "metadata": {},
   "outputs": [
    {
     "data": {
      "text/plain": [
       "[]"
      ]
     },
     "execution_count": 495,
     "metadata": {},
     "output_type": "execute_result"
    },
    {
     "data": {
      "image/png": "[encoded data removed]",
      "text/plain": [
       "<matplotlib.figure.Figure at 0x7fe6ddfca0b8>"
      ]
     },
     "metadata": {},
     "output_type": "display_data"
    }
   ],
   "source": [
    "f, ax = plt.subplots(figsize=(15, 10))\n",
    "df = allele_hit_df.loc[:,['protein_levenshtein', \"p_classification\"]].fillna(0).copy()\n",
    "#ax.set_xscale(\"log\")\n",
    "sns.violinplot(x='protein_levenshtein', y=\"p_classification\", data=df.sort_values(\"p_classification\"), cut=0,\n",
    "          whis=np.inf)\n",
    "plt.setp(ax.artists, alpha=.01)\n",
    "#sns.swarmplot(x='protein/cds_levdist', y=\"p_classification\", data=df,\n",
    "              #size=2, color=\".3\", linewidth=0)"
   ]
  },
  {
   "cell_type": "code",
   "execution_count": 490,
   "metadata": {},
   "outputs": [
    {
     "data": {
      "text/plain": [
       "[]"
      ]
     },
     "execution_count": 490,
     "metadata": {},
     "output_type": "execute_result"
    },
    {
     "data": {
      "image/png": "[encoded data removed]",
      "text/plain": [
       "<matplotlib.figure.Figure at 0x7fe79aa912b0>"
      ]
     },
     "metadata": {},
     "output_type": "display_data"
    }
   ],
   "source": [
    "df = allele_hit_df.loc[:,['protein_levenshtein', \"p_classification\"]].copy()\n",
    "qdf = quant_cut_df(df.pivot(values='protein_levenshtein', columns= 'p_classification'))\n",
    "\n",
    "f, ax = plt.subplots(figsize=(15, 10))\n",
    "df = qdf.melt()\n",
    "#ax.set_xscale(\"log\")\n",
    "sns.violinplot(x='value', y=\"p_classification\", data=df, cut=0,\n",
    "          whis=np.inf)\n",
    "plt.setp(ax.artists, alpha=.01)\n",
    "#sns.swarmplot(x='value', y=\"p_classification\", data=df,size=2, color=\".3\", linewidth=0)"
   ]
  },
  {
   "cell_type": "code",
   "execution_count": 494,
   "metadata": {},
   "outputs": [
    {
     "data": {
      "text/plain": [
       "[]"
      ]
     },
     "execution_count": 494,
     "metadata": {},
     "output_type": "execute_result"
    },
    {
     "data": {
      "image/png": "[encoded data removed]",
      "text/plain": [
       "<matplotlib.figure.Figure at 0x7fe79a988eb8>"
      ]
     },
     "metadata": {},
     "output_type": "display_data"
    }
   ],
   "source": [
    "f, ax = plt.subplots(figsize=(15, 10))\n",
    "df = allele_hit_df.loc[:,['cds_levenshtein', \"p_classification\"]].fillna(0).copy()\n",
    "#ax.set_xscale(\"log\")\n",
    "sns.violinplot(x='cds_levenshtein', y=\"p_classification\", data=df.sort_values(\"p_classification\"), cut=0,\n",
    "          whis=np.inf)\n",
    "plt.setp(ax.artists, alpha=.01)\n",
    "#sns.swarmplot(x='protein/cds_levdist', y=\"p_classification\", data=df,\n",
    "              #size=2, color=\".3\", linewidth=0)"
   ]
  },
  {
   "cell_type": "code",
   "execution_count": 493,
   "metadata": {},
   "outputs": [
    {
     "data": {
      "text/plain": [
       "[]"
      ]
     },
     "execution_count": 493,
     "metadata": {},
     "output_type": "execute_result"
    },
    {
     "data": {
      "image/png": "[encoded data removed]",
      "text/plain": [
       "<matplotlib.figure.Figure at 0x7fe79aaae630>"
      ]
     },
     "metadata": {},
     "output_type": "display_data"
    }
   ],
   "source": [
    "df = allele_hit_df.loc[:,['cds_levenshtein', \"p_classification\"]].copy()\n",
    "qdf = quant_cut_df(df.pivot(values='cds_levenshtein', columns= 'p_classification'))\n",
    "\n",
    "f, ax = plt.subplots(figsize=(15, 10))\n",
    "df = qdf.melt()\n",
    "#ax.set_xscale(\"log\")\n",
    "sns.violinplot(x='value', y=\"p_classification\", data=df.sort_values(\"p_classification\"), cut=0,\n",
    "          whis=np.inf)\n",
    "plt.setp(ax.artists, alpha=.01)\n",
    "#sns.swarmplot(x='protein/cds_levdist', y=\"p_classification\", data=df,\n",
    "              #size=2, color=\".3\", linewidth=0)"
   ]
  },
  {
   "cell_type": "code",
   "execution_count": 434,
   "metadata": {},
   "outputs": [
    {
     "data": {
      "text/html": [
       "<div>\n",
       "<style>\n",
       "    .dataframe thead tr:only-child th {\n",
       "        text-align: right;\n",
       "    }\n",
       "\n",
       "    .dataframe thead th {\n",
       "        text-align: left;\n",
       "    }\n",
       "\n",
       "    .dataframe tbody tr th {\n",
       "        vertical-align: top;\n",
       "    }\n",
       "</style>\n",
       "<table border=\"1\" class=\"dataframe\">\n",
       "  <thead>\n",
       "    <tr style=\"text-align: right;\">\n",
       "      <th></th>\n",
       "      <th>Query</th>\n",
       "      <th>Target</th>\n",
       "      <th>PctID</th>\n",
       "      <th>AlnLgth</th>\n",
       "      <th>NumMis</th>\n",
       "      <th>NumGap</th>\n",
       "      <th>StartQuery</th>\n",
       "      <th>StopQuery</th>\n",
       "      <th>StartTarget</th>\n",
       "      <th>StopTarget</th>\n",
       "      <th>...</th>\n",
       "      <th>LPB93_dN/dS</th>\n",
       "      <th>P_EFFECTOR</th>\n",
       "      <th>P_BUSCO</th>\n",
       "      <th>H_EFFECTOR</th>\n",
       "      <th>H_BUSCO</th>\n",
       "      <th>H_OTHER_GENE</th>\n",
       "      <th>P_OTHER_GENE</th>\n",
       "      <th>protein/cds_levdist</th>\n",
       "      <th>p_classification</th>\n",
       "      <th>h_classification</th>\n",
       "    </tr>\n",
       "  </thead>\n",
       "  <tbody>\n",
       "    <tr>\n",
       "      <th>0</th>\n",
       "      <td>evm.model.pcontig_000.100</td>\n",
       "      <td>evm.model.hcontig_000_003.107</td>\n",
       "      <td>99.21</td>\n",
       "      <td>1141.0</td>\n",
       "      <td>9.0</td>\n",
       "      <td>0.0</td>\n",
       "      <td>1.0</td>\n",
       "      <td>1141.0</td>\n",
       "      <td>1.0</td>\n",
       "      <td>1141.0</td>\n",
       "      <td>...</td>\n",
       "      <td>0.465347</td>\n",
       "      <td>False</td>\n",
       "      <td>False</td>\n",
       "      <td>False</td>\n",
       "      <td>False</td>\n",
       "      <td>True</td>\n",
       "      <td>True</td>\n",
       "      <td>1.129870</td>\n",
       "      <td>OTHER_GENE</td>\n",
       "      <td>OTHER_GENE</td>\n",
       "    </tr>\n",
       "    <tr>\n",
       "      <th>1</th>\n",
       "      <td>evm.model.pcontig_000.101</td>\n",
       "      <td>evm.model.hcontig_000_003.108</td>\n",
       "      <td>89.03</td>\n",
       "      <td>237.0</td>\n",
       "      <td>20.0</td>\n",
       "      <td>1.0</td>\n",
       "      <td>1.0</td>\n",
       "      <td>231.0</td>\n",
       "      <td>1.0</td>\n",
       "      <td>237.0</td>\n",
       "      <td>...</td>\n",
       "      <td>0.894180</td>\n",
       "      <td>False</td>\n",
       "      <td>False</td>\n",
       "      <td>False</td>\n",
       "      <td>False</td>\n",
       "      <td>True</td>\n",
       "      <td>True</td>\n",
       "      <td>1.560000</td>\n",
       "      <td>OTHER_GENE</td>\n",
       "      <td>OTHER_GENE</td>\n",
       "    </tr>\n",
       "    <tr>\n",
       "      <th>2</th>\n",
       "      <td>evm.model.pcontig_000.102</td>\n",
       "      <td>evm.model.hcontig_000_003.109</td>\n",
       "      <td>100.00</td>\n",
       "      <td>107.0</td>\n",
       "      <td>0.0</td>\n",
       "      <td>0.0</td>\n",
       "      <td>1.0</td>\n",
       "      <td>107.0</td>\n",
       "      <td>1.0</td>\n",
       "      <td>107.0</td>\n",
       "      <td>...</td>\n",
       "      <td>NaN</td>\n",
       "      <td>False</td>\n",
       "      <td>False</td>\n",
       "      <td>False</td>\n",
       "      <td>False</td>\n",
       "      <td>True</td>\n",
       "      <td>True</td>\n",
       "      <td>NaN</td>\n",
       "      <td>OTHER_GENE</td>\n",
       "      <td>OTHER_GENE</td>\n",
       "    </tr>\n",
       "    <tr>\n",
       "      <th>3</th>\n",
       "      <td>evm.model.pcontig_000.103</td>\n",
       "      <td>evm.model.hcontig_000_003.110</td>\n",
       "      <td>97.73</td>\n",
       "      <td>88.0</td>\n",
       "      <td>2.0</td>\n",
       "      <td>0.0</td>\n",
       "      <td>8.0</td>\n",
       "      <td>95.0</td>\n",
       "      <td>1.0</td>\n",
       "      <td>88.0</td>\n",
       "      <td>...</td>\n",
       "      <td>NaN</td>\n",
       "      <td>False</td>\n",
       "      <td>False</td>\n",
       "      <td>False</td>\n",
       "      <td>False</td>\n",
       "      <td>True</td>\n",
       "      <td>True</td>\n",
       "      <td>1.173913</td>\n",
       "      <td>OTHER_GENE</td>\n",
       "      <td>OTHER_GENE</td>\n",
       "    </tr>\n",
       "    <tr>\n",
       "      <th>4</th>\n",
       "      <td>evm.model.pcontig_000.104</td>\n",
       "      <td>evm.model.hcontig_000_003.111</td>\n",
       "      <td>98.53</td>\n",
       "      <td>68.0</td>\n",
       "      <td>1.0</td>\n",
       "      <td>0.0</td>\n",
       "      <td>1.0</td>\n",
       "      <td>68.0</td>\n",
       "      <td>1.0</td>\n",
       "      <td>68.0</td>\n",
       "      <td>...</td>\n",
       "      <td>NaN</td>\n",
       "      <td>False</td>\n",
       "      <td>False</td>\n",
       "      <td>False</td>\n",
       "      <td>False</td>\n",
       "      <td>True</td>\n",
       "      <td>True</td>\n",
       "      <td>3.000000</td>\n",
       "      <td>OTHER_GENE</td>\n",
       "      <td>OTHER_GENE</td>\n",
       "    </tr>\n",
       "  </tbody>\n",
       "</table>\n",
       "<p>5 rows × 39 columns</p>\n",
       "</div>"
      ],
      "text/plain": [
       "                       Query                         Target   PctID  AlnLgth  \\\n",
       "0  evm.model.pcontig_000.100  evm.model.hcontig_000_003.107   99.21   1141.0   \n",
       "1  evm.model.pcontig_000.101  evm.model.hcontig_000_003.108   89.03    237.0   \n",
       "2  evm.model.pcontig_000.102  evm.model.hcontig_000_003.109  100.00    107.0   \n",
       "3  evm.model.pcontig_000.103  evm.model.hcontig_000_003.110   97.73     88.0   \n",
       "4  evm.model.pcontig_000.104  evm.model.hcontig_000_003.111   98.53     68.0   \n",
       "\n",
       "   NumMis  NumGap  StartQuery  StopQuery  StartTarget  StopTarget  \\\n",
       "0     9.0     0.0         1.0     1141.0          1.0      1141.0   \n",
       "1    20.0     1.0         1.0      231.0          1.0       237.0   \n",
       "2     0.0     0.0         1.0      107.0          1.0       107.0   \n",
       "3     2.0     0.0         8.0       95.0          1.0        88.0   \n",
       "4     1.0     0.0         1.0       68.0          1.0        68.0   \n",
       "\n",
       "         ...         LPB93_dN/dS  P_EFFECTOR  P_BUSCO  H_EFFECTOR H_BUSCO  \\\n",
       "0        ...            0.465347       False    False       False   False   \n",
       "1        ...            0.894180       False    False       False   False   \n",
       "2        ...                 NaN       False    False       False   False   \n",
       "3        ...                 NaN       False    False       False   False   \n",
       "4        ...                 NaN       False    False       False   False   \n",
       "\n",
       "  H_OTHER_GENE  P_OTHER_GENE protein/cds_levdist p_classification  \\\n",
       "0         True          True            1.129870       OTHER_GENE   \n",
       "1         True          True            1.560000       OTHER_GENE   \n",
       "2         True          True                 NaN       OTHER_GENE   \n",
       "3         True          True            1.173913       OTHER_GENE   \n",
       "4         True          True            3.000000       OTHER_GENE   \n",
       "\n",
       "   h_classification  \n",
       "0        OTHER_GENE  \n",
       "1        OTHER_GENE  \n",
       "2        OTHER_GENE  \n",
       "3        OTHER_GENE  \n",
       "4        OTHER_GENE  \n",
       "\n",
       "[5 rows x 39 columns]"
      ]
     },
     "execution_count": 434,
     "metadata": {},
     "output_type": "execute_result"
    }
   ],
   "source": [
    "allele_hit_df.head()"
   ]
  },
  {
   "cell_type": "code",
   "execution_count": 387,
   "metadata": {},
   "outputs": [
    {
     "data": {
      "text/plain": [
       "RanksumsResult(statistic=-1.9831977958239608, pvalue=0.047345340018046141)"
      ]
     },
     "execution_count": 387,
     "metadata": {},
     "output_type": "execute_result"
    }
   ],
   "source": [
    "stats.ranksums(allele_df[allele_df.p_gene.isin(p_gene_dict['EFFECTORS'])]['cds_levenshtein'].tolist()\\\n",
    "               ,allele_df[allele_df.p_gene.isin(p_gene_dict['BUSCOS'])]['cds_levenshtein'].tolist())"
   ]
  },
  {
   "cell_type": "raw",
   "metadata": {},
   "source": [
    "#make a wilcoxon possible\n",
    "array_1 = allele_df[allele_df.p_gene.isin(p_gene_dict['EFFECTORS'])]['cds_levenshtein']\n",
    "array_2 = allele_df[allele_df.p_gene.isin(p_gene_dict['BUSCOS'])]['cds_levenshtein']\n",
    "if len(array_1) != len(array_2) and len(array_1) > len(array_2):\n",
    "    n = len(array_2)\n",
    "else:\n",
    "    n = len(array_1)\n",
    "    \n",
    "sub_array_1 = np.random.choice(array_1, n, replace=True)\n",
    "sub_array_2 = np.random.choice(array_2, n, replace=True)\n",
    "stats.wilcoxon(sub_array_1, sub_array_2)\n",
    "\n",
    "#make a wilcoxon possible should only be used for paired data eg. if BUSCOS or EFFECTORS are closer to TEs\n",
    "array_1 = allele_df[allele_df.p_gene.isin(p_gene_dict['EFFECTORS'])]['protein_levenshtein']\n",
    "array_2 = allele_df[allele_df.p_gene.isin(p_gene_dict['BUSCOS'])]['protein_levenshtein']\n",
    "if len(array_1) != len(array_2) and len(array_1) > len(array_2):\n",
    "    n = len(array_2)\n",
    "else:\n",
    "    n = len(array_1)\n",
    "    \n",
    "sub_array_1 = np.random.choice(array_1, n, replace=False)\n",
    "sub_array_2 = np.random.choice(array_2, n, replace=False)\n",
    "stats.wilcoxon(sub_array_1, sub_array_2)"
   ]
  },
  {
   "cell_type": "markdown",
   "metadata": {},
   "source": [
    "Below is the interesting observation that even the cds distances are similar between effectors and BUSCOS and the protein distance are much bigger.\n",
    "Is there a difference between the protein/cds of effectors and others?"
   ]
  },
  {
   "cell_type": "code",
   "execution_count": 347,
   "metadata": {
    "collapsed": true
   },
   "outputs": [],
   "source": [
    "e_cp_ration = allele_df[allele_df.p_gene.isin(p_gene_dict['EFFECTORS'])]['protein_levenshtein']/\\\n",
    "allele_df[allele_df.p_gene.isin(p_gene_dict['EFFECTORS'])]['cds_levenshtein']"
   ]
  },
  {
   "cell_type": "code",
   "execution_count": 348,
   "metadata": {
    "collapsed": true
   },
   "outputs": [],
   "source": [
    "b_cp_ration = allele_df[allele_df.p_gene.isin(p_gene_dict['BUSCOS'])]['protein_levenshtein']/\\\n",
    "    allele_df[allele_df.p_gene.isin(p_gene_dict['BUSCOS'])]['cds_levenshtein']"
   ]
  },
  {
   "cell_type": "code",
   "execution_count": 423,
   "metadata": {
    "collapsed": true
   },
   "outputs": [],
   "source": [
    "else_cp_ration = allele_df[~(allele_df.p_gene.isin(p_gene_dict['EFFECTORS'])|\\\n",
    "            allele_df.p_gene.isin(p_gene_dict['BUSCOS']))]['protein_levenshtein']/\\\n",
    "    allele_df[~(allele_df.p_gene.isin(p_gene_dict['EFFECTORS'])|\\\n",
    "                allele_df.p_gene.isin(p_gene_dict['BUSCOS']))]['cds_levenshtein']"
   ]
  },
  {
   "cell_type": "markdown",
   "metadata": {},
   "source": [
    "Yes the ratios of protein variation over cds variation is an unequal distribution."
   ]
  },
  {
   "cell_type": "code",
   "execution_count": 424,
   "metadata": {},
   "outputs": [
    {
     "data": {
      "text/plain": [
       "KruskalResult(statistic=335.77423228618034, pvalue=1.2233532396692331e-73)"
      ]
     },
     "execution_count": 424,
     "metadata": {},
     "output_type": "execute_result"
    }
   ],
   "source": [
    "stats.mstats.kruskalwallis(e_cp_ration.values, b_cp_ration.values,else_cp_ration.values)"
   ]
  },
  {
   "cell_type": "code",
   "execution_count": 504,
   "metadata": {},
   "outputs": [
    {
     "name": "stdout",
     "output_type": "stream",
     "text": [
      "78.9516982019\n"
     ]
    },
    {
     "data": {
      "text/plain": [
       "count    6718.000000\n",
       "mean        1.287445\n",
       "std         0.909530\n",
       "min         0.000000\n",
       "25%         0.874090\n",
       "50%         1.078278\n",
       "75%         1.500000\n",
       "max        20.000000\n",
       "Name: protein/cds_levdist, dtype: float64"
      ]
     },
     "execution_count": 504,
     "metadata": {},
     "output_type": "execute_result"
    }
   ],
   "source": [
    "print(allele_hit_df[allele_hit_df.P_OTHER_GENE == True]['protein/cds_levdist'].count()\\\n",
    "      /len(allele_hit_df[allele_hit_df.P_OTHER_GENE == True])*100)\n",
    "allele_hit_df[allele_hit_df.P_OTHER_GENE == True]['protein/cds_levdist'].describe()"
   ]
  },
  {
   "cell_type": "code",
   "execution_count": 503,
   "metadata": {},
   "outputs": [
    {
     "name": "stdout",
     "output_type": "stream",
     "text": [
      "65.9802306425\n"
     ]
    },
    {
     "data": {
      "text/plain": [
       "count    801.000000\n",
       "mean       1.429452\n",
       "std        0.839001\n",
       "min        0.000000\n",
       "25%        1.000000\n",
       "50%        1.242537\n",
       "75%        1.821429\n",
       "max        4.166667\n",
       "Name: protein/cds_levdist, dtype: float64"
      ]
     },
     "execution_count": 503,
     "metadata": {},
     "output_type": "execute_result"
    }
   ],
   "source": [
    "print(allele_hit_df[allele_hit_df.P_EFFECTOR == True]['protein/cds_levdist'].count()\\\n",
    "      /len(allele_hit_df[allele_hit_df.P_EFFECTOR == True])*100)\n",
    "allele_hit_df[allele_hit_df.P_EFFECTOR == True]['protein/cds_levdist'].describe()"
   ]
  },
  {
   "cell_type": "code",
   "execution_count": 505,
   "metadata": {},
   "outputs": [
    {
     "name": "stdout",
     "output_type": "stream",
     "text": [
      "80.9682804674\n"
     ]
    },
    {
     "data": {
      "text/plain": [
       "count    970.000000\n",
       "mean       0.871722\n",
       "std        0.819080\n",
       "min        0.000000\n",
       "25%        0.230769\n",
       "50%        0.750000\n",
       "75%        1.122713\n",
       "max        3.000000\n",
       "Name: protein/cds_levdist, dtype: float64"
      ]
     },
     "execution_count": 505,
     "metadata": {},
     "output_type": "execute_result"
    }
   ],
   "source": [
    "print(allele_hit_df[allele_hit_df.P_BUSCO == True]['protein/cds_levdist'].count()\\\n",
    "      /len(allele_hit_df[allele_hit_df.P_BUSCO == True])*100)\n",
    "allele_hit_df[allele_hit_df.P_BUSCO == True]['protein/cds_levdist'].describe()"
   ]
  },
  {
   "cell_type": "code",
   "execution_count": 293,
   "metadata": {},
   "outputs": [
    {
     "data": {
      "text/plain": [
       "0.04068398168371404"
      ]
     },
     "execution_count": 293,
     "metadata": {},
     "output_type": "execute_result"
    }
   ],
   "source": [
    "allele_df[allele_df.p_gene.isin(p_gene_dict['EFFECTORS'])]['cds_levenshtein'].mean()"
   ]
  },
  {
   "cell_type": "code",
   "execution_count": 294,
   "metadata": {},
   "outputs": [
    {
     "data": {
      "text/plain": [
       "0.028763144144375755"
      ]
     },
     "execution_count": 294,
     "metadata": {},
     "output_type": "execute_result"
    }
   ],
   "source": [
    "allele_df[allele_df.p_gene.isin(p_gene_dict['BUSCOS'])]['cds_levenshtein'].mean()"
   ]
  },
  {
   "cell_type": "code",
   "execution_count": 297,
   "metadata": {},
   "outputs": [
    {
     "data": {
      "text/plain": [
       "0.05912425136643261"
      ]
     },
     "execution_count": 297,
     "metadata": {},
     "output_type": "execute_result"
    }
   ],
   "source": [
    "allele_df[allele_df.p_gene.isin(p_gene_dict['EFFECTORS'])]['protein_levenshtein'].mean()"
   ]
  },
  {
   "cell_type": "code",
   "execution_count": 301,
   "metadata": {},
   "outputs": [
    {
     "data": {
      "text/plain": [
       "0.026462810242390274"
      ]
     },
     "execution_count": 301,
     "metadata": {},
     "output_type": "execute_result"
    }
   ],
   "source": [
    "allele_df[allele_df.p_gene.isin(p_gene_dict['BUSCOS'])]['protein_levenshtein'].mean()"
   ]
  },
  {
   "cell_type": "code",
   "execution_count": 300,
   "metadata": {},
   "outputs": [
    {
     "data": {
      "text/plain": [
       "0.057879375674427296"
      ]
     },
     "execution_count": 300,
     "metadata": {},
     "output_type": "execute_result"
    }
   ],
   "source": [
    "allele_df[~(allele_df.p_gene.isin(p_gene_dict['EFFECTORS'])|\\\n",
    "            allele_df.p_gene.isin(p_gene_dict['BUSCOS']))]['cds_levenshtein'].mean()"
   ]
  },
  {
   "cell_type": "code",
   "execution_count": 299,
   "metadata": {},
   "outputs": [
    {
     "data": {
      "text/plain": [
       "0.06372272433230429"
      ]
     },
     "execution_count": 299,
     "metadata": {},
     "output_type": "execute_result"
    }
   ],
   "source": [
    "allele_df[~(allele_df.p_gene.isin(p_gene_dict['EFFECTORS'])|\\\n",
    "            allele_df.p_gene.isin(p_gene_dict['BUSCOS']))]['protein_levenshtein'].mean()"
   ]
  },
  {
   "cell_type": "code",
   "execution_count": 555,
   "metadata": {},
   "outputs": [
    {
     "name": "stderr",
     "output_type": "stream",
     "text": [
      "/home/benjamin/anaconda3/lib/python3.5/site-packages/pybedtools/bedtool.py:3287: UserWarning: Default names for filetype bed are:\n",
      "['chrom', 'start', 'end', 'name', 'score', 'strand', 'thickStart', 'thickEnd', 'itemRgb', 'blockCount', 'blockSizes', 'blockStarts']\n",
      "but file has 13 fields; you can supply custom names with the `names` kwarg\n",
      "  % (self.file_type, _names, self.field_count()))\n"
     ]
    }
   ],
   "source": [
    "e_to_b_closest_df = feature_bed_dict['effector'].closest(feature_bed_dict['busco']\\\n",
    "                                    ,d=True,t='last', io=True).to_dataframe().iloc[:,[3,9,12]]\n",
    "new_header = ['Effector', 'Busco', 'distance']\n",
    "e_to_b_closest_df.rename(columns=dict(zip(e_to_b_closest_df.columns, new_header)), inplace=True)\n",
    "\n",
    "e_to_b_closest_df = e_to_b_closest_df[e_to_b_closest_df.Busco != '.']\n",
    "\n",
    "#now add the classification for each effector\n",
    "e_to_b_closest_df['classification'] = \"None\"\n",
    "singleton_array = e_to_b_closest_df.Effector.str.replace('TU','model').isin(loose_singeltons)\n",
    "e_to_b_closest_df.loc[e_to_b_closest_df[singleton_array].index,'classification' ] = \"Singleton\"\n",
    "no_allele_ortho_array = e_to_b_closest_df.Effector.str\\\n",
    "    .replace('TU','model').isin(no_allele_orthologs)\n",
    "e_to_b_closest_df.loc[e_to_b_closest_df[no_allele_ortho_array].index,'classification' ] = \"No_allele_orthologs\"\n",
    "allele_array = e_to_b_closest_df.Effector.str\\\n",
    "    .replace('TU','model').isin(allele_hit_df.Query.unique())\n",
    "e_to_b_closest_df.loc[e_to_b_closest_df[allele_array].index,'classification' ] = \"Allele\""
   ]
  },
  {
   "cell_type": "code",
   "execution_count": 529,
   "metadata": {},
   "outputs": [
    {
     "data": {
      "text/plain": [
       "<matplotlib.axes._subplots.AxesSubplot at 0x7fe79a6aaba8>"
      ]
     },
     "execution_count": 529,
     "metadata": {},
     "output_type": "execute_result"
    },
    {
     "data": {
      "image/png": "[encoded data removed]",
      "text/plain": [
       "<matplotlib.figure.Figure at 0x7fe79a6734a8>"
      ]
     },
     "metadata": {},
     "output_type": "display_data"
    }
   ],
   "source": [
    "f, ax = plt.subplots(figsize=(15, 10))\n",
    "sns.violinplot(x='classification', y='distance', data =e_to_b_closest_df, cut=0)"
   ]
  },
  {
   "cell_type": "code",
   "execution_count": 565,
   "metadata": {},
   "outputs": [
    {
     "data": {
      "text/plain": [
       "RanksumsResult(statistic=5.4237505001583406, pvalue=5.8361329699453958e-08)"
      ]
     },
     "execution_count": 565,
     "metadata": {},
     "output_type": "execute_result"
    }
   ],
   "source": [
    "x_test = e_to_b_closest_df[e_to_b_closest_df.classification == 'Singleton']['distance'].values\n",
    "y_test = e_to_b_closest_df[e_to_b_closest_df.classification == \"Allele\"]['distance'].values\n",
    "stats.stats.ranksums(x_test, y_test)"
   ]
  },
  {
   "cell_type": "code",
   "execution_count": 530,
   "metadata": {},
   "outputs": [
    {
     "data": {
      "text/html": [
       "<div>\n",
       "<style>\n",
       "    .dataframe thead tr:only-child th {\n",
       "        text-align: right;\n",
       "    }\n",
       "\n",
       "    .dataframe thead th {\n",
       "        text-align: left;\n",
       "    }\n",
       "\n",
       "    .dataframe tbody tr th {\n",
       "        vertical-align: top;\n",
       "    }\n",
       "</style>\n",
       "<table border=\"1\" class=\"dataframe\">\n",
       "  <thead>\n",
       "    <tr style=\"text-align: right;\">\n",
       "      <th></th>\n",
       "      <th>count</th>\n",
       "      <th>mean</th>\n",
       "      <th>std</th>\n",
       "      <th>min</th>\n",
       "      <th>25%</th>\n",
       "      <th>50%</th>\n",
       "      <th>75%</th>\n",
       "      <th>max</th>\n",
       "    </tr>\n",
       "    <tr>\n",
       "      <th>classification</th>\n",
       "      <th></th>\n",
       "      <th></th>\n",
       "      <th></th>\n",
       "      <th></th>\n",
       "      <th></th>\n",
       "      <th></th>\n",
       "      <th></th>\n",
       "      <th></th>\n",
       "    </tr>\n",
       "  </thead>\n",
       "  <tbody>\n",
       "    <tr>\n",
       "      <th>Allele</th>\n",
       "      <td>1193.0</td>\n",
       "      <td>21967.022632</td>\n",
       "      <td>27147.817705</td>\n",
       "      <td>281.0</td>\n",
       "      <td>4035.00</td>\n",
       "      <td>12384.0</td>\n",
       "      <td>29960.00</td>\n",
       "      <td>241042.0</td>\n",
       "    </tr>\n",
       "    <tr>\n",
       "      <th>No_allele_orthologs</th>\n",
       "      <td>28.0</td>\n",
       "      <td>20863.607143</td>\n",
       "      <td>17239.819754</td>\n",
       "      <td>468.0</td>\n",
       "      <td>9199.25</td>\n",
       "      <td>14560.5</td>\n",
       "      <td>32927.25</td>\n",
       "      <td>70337.0</td>\n",
       "    </tr>\n",
       "    <tr>\n",
       "      <th>Singleton</th>\n",
       "      <td>338.0</td>\n",
       "      <td>36508.355030</td>\n",
       "      <td>49446.013725</td>\n",
       "      <td>525.0</td>\n",
       "      <td>7259.25</td>\n",
       "      <td>19859.0</td>\n",
       "      <td>44444.75</td>\n",
       "      <td>339166.0</td>\n",
       "    </tr>\n",
       "  </tbody>\n",
       "</table>\n",
       "</div>"
      ],
      "text/plain": [
       "                      count          mean           std    min      25%  \\\n",
       "classification                                                            \n",
       "Allele               1193.0  21967.022632  27147.817705  281.0  4035.00   \n",
       "No_allele_orthologs    28.0  20863.607143  17239.819754  468.0  9199.25   \n",
       "Singleton             338.0  36508.355030  49446.013725  525.0  7259.25   \n",
       "\n",
       "                         50%       75%       max  \n",
       "classification                                    \n",
       "Allele               12384.0  29960.00  241042.0  \n",
       "No_allele_orthologs  14560.5  32927.25   70337.0  \n",
       "Singleton            19859.0  44444.75  339166.0  "
      ]
     },
     "execution_count": 530,
     "metadata": {},
     "output_type": "execute_result"
    }
   ],
   "source": [
    "e_to_b_closest_df.groupby('classification')['distance'].describe()"
   ]
  },
  {
   "cell_type": "code",
   "execution_count": 531,
   "metadata": {
    "collapsed": true
   },
   "outputs": [],
   "source": [
    "e_allele_to_b_closest_df = e_to_b_closest_df[e_to_b_closest_df.classification == 'Allele'].copy()"
   ]
  },
  {
   "cell_type": "code",
   "execution_count": 536,
   "metadata": {},
   "outputs": [],
   "source": [
    "e_allele_to_b_closest_df['Query'] = e_allele_to_b_closest_df.Effector.apply(lambda x:\n",
    "                                                                           x.replace('TU','model'))\n",
    "\n",
    "e_allele_to_b_closest_df = pd.merge(e_allele_to_b_closest_df,allele_hit_df.loc[:,\\\n",
    "            ['Query', 'codmel_dN/dS', 'protein_hamming',\n",
    "       'cds_hamming', 'protein_levenshtein', 'cds_levenshtein', 'vn00_dN/dS',\n",
    "       'LWL85_dN/dS', 'LWL85m_dN/dS', 'LPB93_dN/dS', 'protein/cds_levdist']], on='Query')"
   ]
  },
  {
   "cell_type": "code",
   "execution_count": 546,
   "metadata": {},
   "outputs": [
    {
     "data": {
      "text/html": [
       "<div>\n",
       "<style>\n",
       "    .dataframe thead tr:only-child th {\n",
       "        text-align: right;\n",
       "    }\n",
       "\n",
       "    .dataframe thead th {\n",
       "        text-align: left;\n",
       "    }\n",
       "\n",
       "    .dataframe tbody tr th {\n",
       "        vertical-align: top;\n",
       "    }\n",
       "</style>\n",
       "<table border=\"1\" class=\"dataframe\">\n",
       "  <thead>\n",
       "    <tr style=\"text-align: right;\">\n",
       "      <th></th>\n",
       "      <th>Effector</th>\n",
       "      <th>Busco</th>\n",
       "      <th>distance</th>\n",
       "      <th>classification</th>\n",
       "      <th>Query</th>\n",
       "      <th>codmel_dN/dS</th>\n",
       "      <th>protein_hamming</th>\n",
       "      <th>cds_hamming</th>\n",
       "      <th>protein_levenshtein</th>\n",
       "      <th>cds_levenshtein</th>\n",
       "      <th>vn00_dN/dS</th>\n",
       "      <th>LWL85_dN/dS</th>\n",
       "      <th>LWL85m_dN/dS</th>\n",
       "      <th>LPB93_dN/dS</th>\n",
       "      <th>protein/cds_levdist</th>\n",
       "    </tr>\n",
       "  </thead>\n",
       "  <tbody>\n",
       "    <tr>\n",
       "      <th>0</th>\n",
       "      <td>evm.TU.pcontig_000.3</td>\n",
       "      <td>evm.TU.pcontig_000.11</td>\n",
       "      <td>31275</td>\n",
       "      <td>Allele</td>\n",
       "      <td>evm.model.pcontig_000.3</td>\n",
       "      <td>0.1362</td>\n",
       "      <td>0.016878</td>\n",
       "      <td>0.022504</td>\n",
       "      <td>0.016878</td>\n",
       "      <td>0.022504</td>\n",
       "      <td>0.128039</td>\n",
       "      <td>0.137574</td>\n",
       "      <td>0.210421</td>\n",
       "      <td>0.182731</td>\n",
       "      <td>0.750000</td>\n",
       "    </tr>\n",
       "    <tr>\n",
       "      <th>1</th>\n",
       "      <td>evm.TU.pcontig_000.6</td>\n",
       "      <td>evm.TU.pcontig_000.11</td>\n",
       "      <td>10972</td>\n",
       "      <td>Allele</td>\n",
       "      <td>evm.model.pcontig_000.6</td>\n",
       "      <td>0.7488</td>\n",
       "      <td>0.050998</td>\n",
       "      <td>0.050259</td>\n",
       "      <td>0.050998</td>\n",
       "      <td>0.049520</td>\n",
       "      <td>0.581818</td>\n",
       "      <td>0.284091</td>\n",
       "      <td>0.574074</td>\n",
       "      <td>0.574074</td>\n",
       "      <td>1.029851</td>\n",
       "    </tr>\n",
       "    <tr>\n",
       "      <th>2</th>\n",
       "      <td>evm.TU.pcontig_000.9</td>\n",
       "      <td>evm.TU.pcontig_000.11</td>\n",
       "      <td>5827</td>\n",
       "      <td>Allele</td>\n",
       "      <td>evm.model.pcontig_000.9</td>\n",
       "      <td>0.4706</td>\n",
       "      <td>0.000000</td>\n",
       "      <td>0.000000</td>\n",
       "      <td>0.000000</td>\n",
       "      <td>0.000000</td>\n",
       "      <td>NaN</td>\n",
       "      <td>NaN</td>\n",
       "      <td>NaN</td>\n",
       "      <td>NaN</td>\n",
       "      <td>NaN</td>\n",
       "    </tr>\n",
       "    <tr>\n",
       "      <th>3</th>\n",
       "      <td>evm.TU.pcontig_000.9</td>\n",
       "      <td>evm.TU.pcontig_000.11</td>\n",
       "      <td>5827</td>\n",
       "      <td>Allele</td>\n",
       "      <td>evm.model.pcontig_000.9</td>\n",
       "      <td>0.4823</td>\n",
       "      <td>0.000000</td>\n",
       "      <td>0.000000</td>\n",
       "      <td>0.000000</td>\n",
       "      <td>0.000000</td>\n",
       "      <td>NaN</td>\n",
       "      <td>NaN</td>\n",
       "      <td>NaN</td>\n",
       "      <td>NaN</td>\n",
       "      <td>NaN</td>\n",
       "    </tr>\n",
       "    <tr>\n",
       "      <th>4</th>\n",
       "      <td>evm.TU.pcontig_000.14</td>\n",
       "      <td>evm.TU.pcontig_000.11</td>\n",
       "      <td>6542</td>\n",
       "      <td>Allele</td>\n",
       "      <td>evm.model.pcontig_000.14</td>\n",
       "      <td>98.9998</td>\n",
       "      <td>0.002457</td>\n",
       "      <td>0.000819</td>\n",
       "      <td>0.002457</td>\n",
       "      <td>0.000819</td>\n",
       "      <td>NaN</td>\n",
       "      <td>NaN</td>\n",
       "      <td>NaN</td>\n",
       "      <td>NaN</td>\n",
       "      <td>3.000000</td>\n",
       "    </tr>\n",
       "  </tbody>\n",
       "</table>\n",
       "</div>"
      ],
      "text/plain": [
       "                Effector                  Busco  distance classification  \\\n",
       "0   evm.TU.pcontig_000.3  evm.TU.pcontig_000.11     31275         Allele   \n",
       "1   evm.TU.pcontig_000.6  evm.TU.pcontig_000.11     10972         Allele   \n",
       "2   evm.TU.pcontig_000.9  evm.TU.pcontig_000.11      5827         Allele   \n",
       "3   evm.TU.pcontig_000.9  evm.TU.pcontig_000.11      5827         Allele   \n",
       "4  evm.TU.pcontig_000.14  evm.TU.pcontig_000.11      6542         Allele   \n",
       "\n",
       "                      Query codmel_dN/dS  protein_hamming  cds_hamming  \\\n",
       "0   evm.model.pcontig_000.3       0.1362         0.016878     0.022504   \n",
       "1   evm.model.pcontig_000.6       0.7488         0.050998     0.050259   \n",
       "2   evm.model.pcontig_000.9       0.4706         0.000000     0.000000   \n",
       "3   evm.model.pcontig_000.9       0.4823         0.000000     0.000000   \n",
       "4  evm.model.pcontig_000.14      98.9998         0.002457     0.000819   \n",
       "\n",
       "   protein_levenshtein  cds_levenshtein  vn00_dN/dS  LWL85_dN/dS  \\\n",
       "0             0.016878         0.022504    0.128039     0.137574   \n",
       "1             0.050998         0.049520    0.581818     0.284091   \n",
       "2             0.000000         0.000000         NaN          NaN   \n",
       "3             0.000000         0.000000         NaN          NaN   \n",
       "4             0.002457         0.000819         NaN          NaN   \n",
       "\n",
       "   LWL85m_dN/dS  LPB93_dN/dS  protein/cds_levdist  \n",
       "0      0.210421     0.182731             0.750000  \n",
       "1      0.574074     0.574074             1.029851  \n",
       "2           NaN          NaN                  NaN  \n",
       "3           NaN          NaN                  NaN  \n",
       "4           NaN          NaN             3.000000  "
      ]
     },
     "execution_count": 546,
     "metadata": {},
     "output_type": "execute_result"
    }
   ],
   "source": [
    "e_allele_to_b_closest_df.head()"
   ]
  },
  {
   "cell_type": "code",
   "execution_count": 572,
   "metadata": {},
   "outputs": [
    {
     "name": "stdout",
     "output_type": "stream",
     "text": [
      "SpearmanrResult(correlation=0.052623741500588461, pvalue=masked_array(data = 0.1917564874532692,\n",
      "             mask = False,\n",
      "       fill_value = 1e+20)\n",
      ")\n"
     ]
    },
    {
     "data": {
      "image/png": "[encoded data removed]",
      "text/plain": [
       "<matplotlib.figure.Figure at 0x7fe6dc0ef6d8>"
      ]
     },
     "metadata": {},
     "output_type": "display_data"
    }
   ],
   "source": [
    "x_now = np.log10(e_allele_to_b_closest_df.distance)\n",
    "y_now=e_allele_to_b_closest_df['vn00_dN/dS']\n",
    "plt.scatter(x=x_now,y=y_now, marker ='+', color='k')\n",
    "print(stats.stats.spearmanr(x_now, y_now,nan_policy='omit'))"
   ]
  },
  {
   "cell_type": "code",
   "execution_count": 571,
   "metadata": {},
   "outputs": [
    {
     "data": {
      "text/plain": [
       "<matplotlib.collections.PathCollection at 0x7fe6d47803c8>"
      ]
     },
     "execution_count": 571,
     "metadata": {},
     "output_type": "execute_result"
    },
    {
     "data": {
      "image/png": "[encoded data removed]",
      "text/plain": [
       "<matplotlib.figure.Figure at 0x7fe6d47bd978>"
      ]
     },
     "metadata": {},
     "output_type": "display_data"
    }
   ],
   "source": [
    "fig, ax = plt.subplots(figsize=(12,12))\n",
    "plt.scatter(x=np.log10(e_allele_to_b_closest_df.distance), y=e_allele_to_b_closest_df['vn00_dN/dS'] )"
   ]
  },
  {
   "cell_type": "code",
   "execution_count": 562,
   "metadata": {},
   "outputs": [
    {
     "name": "stderr",
     "output_type": "stream",
     "text": [
      "/home/benjamin/anaconda3/lib/python3.5/site-packages/pybedtools/bedtool.py:3287: UserWarning: Default names for filetype bed are:\n",
      "['chrom', 'start', 'end', 'name', 'score', 'strand', 'thickStart', 'thickEnd', 'itemRgb', 'blockCount', 'blockSizes', 'blockStarts']\n",
      "but file has 13 fields; you can supply custom names with the `names` kwarg\n",
      "  % (self.file_type, _names, self.field_count()))\n"
     ]
    }
   ],
   "source": [
    "#make a closest_df with classificaiton and allelic variation\n",
    "e_to_g_closest_df = feature_bed_dict['effector'].closest(feature_bed_dict['genes']\\\n",
    "                                    ,d=True,t='last', io=True).to_dataframe().iloc[:,[3,9,12]]\n",
    "new_header = ['Effector', 'gene', 'distance']\n",
    "e_to_g_closest_df.rename(columns=dict(zip(e_to_g_closest_df.columns, new_header)), inplace=True)\n",
    "\n",
    "e_to_g_closest_df = e_to_g_closest_df[e_to_g_closest_df.gene != '.']\n",
    "\n",
    "#now add the classification for each effector\n",
    "e_to_g_closest_df['classification'] = \"None\"\n",
    "singleton_array = e_to_g_closest_df.Effector.str.replace('TU','model').isin(loose_singeltons)\n",
    "e_to_g_closest_df.loc[e_to_g_closest_df[singleton_array].index,'classification' ] = \"Singleton\"\n",
    "no_allele_ortho_array = e_to_g_closest_df.Effector.str\\\n",
    "    .replace('TU','model').isin(no_allele_orthologs)\n",
    "e_to_g_closest_df.loc[e_to_g_closest_df[no_allele_ortho_array].index,'classification' ] = \"No_allele_orthologs\"\n",
    "allele_array = e_to_g_closest_df.Effector.str\\\n",
    "    .replace('TU','model').isin(allele_hit_df.Query.unique())\n",
    "e_to_g_closest_df.loc[e_to_g_closest_df[allele_array].index,'classification' ] = \"Allele\"\n",
    "\n",
    "#now for alleles\n",
    "e_allele_to_g_closest_df = e_to_g_closest_df[e_to_g_closest_df.classification == 'Allele'].copy()\n",
    "e_allele_to_g_closest_df['Query'] = e_allele_to_g_closest_df.Effector.apply(lambda x:\n",
    "                                                                           x.replace('TU','model'))\n",
    "\n",
    "e_allele_to_g_closest_df = pd.merge(e_allele_to_g_closest_df,allele_hit_df.loc[:,\\\n",
    "            ['Query', 'codmel_dN/dS', 'protein_hamming',\n",
    "       'cds_hamming', 'protein_levenshtein', 'cds_levenshtein', 'vn00_dN/dS',\n",
    "       'LWL85_dN/dS', 'LWL85m_dN/dS', 'LPB93_dN/dS', 'protein/cds_levdist']], on='Query')"
   ]
  },
  {
   "cell_type": "code",
   "execution_count": 563,
   "metadata": {},
   "outputs": [
    {
     "data": {
      "text/plain": [
       "<matplotlib.axes._subplots.AxesSubplot at 0x7fe7a2050358>"
      ]
     },
     "execution_count": 563,
     "metadata": {},
     "output_type": "execute_result"
    },
    {
     "data": {
      "image/png": "[encoded data removed]",
      "text/plain": [
       "<matplotlib.figure.Figure at 0x7fe6dc351b38>"
      ]
     },
     "metadata": {},
     "output_type": "display_data"
    }
   ],
   "source": [
    "f, ax = plt.subplots(figsize=(15, 10))\n",
    "sns.violinplot(x='classification', y='distance', data =e_to_g_closest_df, cut=0)"
   ]
  },
  {
   "cell_type": "code",
   "execution_count": 567,
   "metadata": {},
   "outputs": [
    {
     "data": {
      "text/plain": [
       "RanksumsResult(statistic=-0.6386686050070971, pvalue=0.52303854055023435)"
      ]
     },
     "execution_count": 567,
     "metadata": {},
     "output_type": "execute_result"
    }
   ],
   "source": [
    "x_test = e_to_g_closest_df[e_to_g_closest_df.classification == 'Singleton']['distance'].values\n",
    "y_test = e_to_g_closest_df[e_to_g_closest_df.classification == \"Allele\"]['distance'].values\n",
    "stats.stats.ranksums(x_test, y_test)"
   ]
  },
  {
   "cell_type": "code",
   "execution_count": 570,
   "metadata": {},
   "outputs": [
    {
     "name": "stdout",
     "output_type": "stream",
     "text": [
      "SpearmanrResult(correlation=-0.071721269289919662, pvalue=0.012433579621677892)\n"
     ]
    },
    {
     "data": {
      "image/png": "[encoded data removed]",
      "text/plain": [
       "<matplotlib.figure.Figure at 0x7fe6dc106b70>"
      ]
     },
     "metadata": {},
     "output_type": "display_data"
    }
   ],
   "source": [
    "x_now = e_allele_to_g_closest_df.distance\n",
    "y_now=e_allele_to_g_closest_df['protein_levenshtein']\n",
    "plt.scatter(x=x_now,y=y_now, marker ='+', color='k')\n",
    "print(stats.stats.spearmanr(x_now, y_now,nan_policy='omit'))"
   ]
  },
  {
   "cell_type": "code",
   "execution_count": null,
   "metadata": {
    "collapsed": true
   },
   "outputs": [],
   "source": []
  },
  {
   "cell_type": "code",
   "execution_count": null,
   "metadata": {
    "collapsed": true
   },
   "outputs": [],
   "source": []
  },
  {
   "cell_type": "code",
   "execution_count": null,
   "metadata": {
    "collapsed": true
   },
   "outputs": [],
   "source": []
  },
  {
   "cell_type": "code",
   "execution_count": null,
   "metadata": {
    "collapsed": true
   },
   "outputs": [],
   "source": []
  },
  {
   "cell_type": "code",
   "execution_count": null,
   "metadata": {
    "collapsed": true
   },
   "outputs": [],
   "source": []
  },
  {
   "cell_type": "code",
   "execution_count": null,
   "metadata": {
    "collapsed": true
   },
   "outputs": [],
   "source": []
  },
  {
   "cell_type": "code",
   "execution_count": 506,
   "metadata": {},
   "outputs": [
    {
     "data": {
      "text/plain": [
       "dict_keys(['no_busco', 'genes', 'effector', 'TE_g1000', 'haustoria', 'no_be', 'no_effector', 'TE_g400', 'busco'])"
      ]
     },
     "execution_count": 506,
     "metadata": {},
     "output_type": "execute_result"
    }
   ],
   "source": [
    "feature_bed_dict.keys()"
   ]
  },
  {
   "cell_type": "code",
   "execution_count": 508,
   "metadata": {},
   "outputs": [
    {
     "name": "stderr",
     "output_type": "stream",
     "text": [
      "/home/benjamin/anaconda3/lib/python3.5/site-packages/pybedtools/bedtool.py:3287: UserWarning: Default names for filetype bed are:\n",
      "['chrom', 'start', 'end', 'name', 'score', 'strand', 'thickStart', 'thickEnd', 'itemRgb', 'blockCount', 'blockSizes', 'blockStarts']\n",
      "but file has 13 fields; you can supply custom names with the `names` kwarg\n",
      "  % (self.file_type, _names, self.field_count()))\n"
     ]
    },
    {
     "data": {
      "text/html": [
       "<div>\n",
       "<style>\n",
       "    .dataframe thead tr:only-child th {\n",
       "        text-align: right;\n",
       "    }\n",
       "\n",
       "    .dataframe thead th {\n",
       "        text-align: left;\n",
       "    }\n",
       "\n",
       "    .dataframe tbody tr th {\n",
       "        vertical-align: top;\n",
       "    }\n",
       "</style>\n",
       "<table border=\"1\" class=\"dataframe\">\n",
       "  <thead>\n",
       "    <tr style=\"text-align: right;\">\n",
       "      <th></th>\n",
       "      <th>0</th>\n",
       "      <th>1</th>\n",
       "      <th>2</th>\n",
       "      <th>3</th>\n",
       "      <th>4</th>\n",
       "      <th>5</th>\n",
       "      <th>6</th>\n",
       "      <th>7</th>\n",
       "      <th>8</th>\n",
       "      <th>9</th>\n",
       "      <th>10</th>\n",
       "      <th>11</th>\n",
       "      <th>12</th>\n",
       "    </tr>\n",
       "  </thead>\n",
       "  <tbody>\n",
       "    <tr>\n",
       "      <th>0</th>\n",
       "      <td>pcontig_000</td>\n",
       "      <td>8490</td>\n",
       "      <td>9492</td>\n",
       "      <td>evm.TU.pcontig_000.3</td>\n",
       "      <td>.</td>\n",
       "      <td>+</td>\n",
       "      <td>pcontig_000</td>\n",
       "      <td>40766</td>\n",
       "      <td>43007</td>\n",
       "      <td>evm.TU.pcontig_000.11</td>\n",
       "      <td>.</td>\n",
       "      <td>+</td>\n",
       "      <td>31275</td>\n",
       "    </tr>\n",
       "    <tr>\n",
       "      <th>1</th>\n",
       "      <td>pcontig_000</td>\n",
       "      <td>28352</td>\n",
       "      <td>29795</td>\n",
       "      <td>evm.TU.pcontig_000.6</td>\n",
       "      <td>.</td>\n",
       "      <td>+</td>\n",
       "      <td>pcontig_000</td>\n",
       "      <td>40766</td>\n",
       "      <td>43007</td>\n",
       "      <td>evm.TU.pcontig_000.11</td>\n",
       "      <td>.</td>\n",
       "      <td>+</td>\n",
       "      <td>10972</td>\n",
       "    </tr>\n",
       "    <tr>\n",
       "      <th>2</th>\n",
       "      <td>pcontig_000</td>\n",
       "      <td>34649</td>\n",
       "      <td>34940</td>\n",
       "      <td>evm.TU.pcontig_000.9</td>\n",
       "      <td>.</td>\n",
       "      <td>-</td>\n",
       "      <td>pcontig_000</td>\n",
       "      <td>40766</td>\n",
       "      <td>43007</td>\n",
       "      <td>evm.TU.pcontig_000.11</td>\n",
       "      <td>.</td>\n",
       "      <td>+</td>\n",
       "      <td>5827</td>\n",
       "    </tr>\n",
       "    <tr>\n",
       "      <th>3</th>\n",
       "      <td>pcontig_000</td>\n",
       "      <td>49548</td>\n",
       "      <td>50911</td>\n",
       "      <td>evm.TU.pcontig_000.14</td>\n",
       "      <td>.</td>\n",
       "      <td>+</td>\n",
       "      <td>pcontig_000</td>\n",
       "      <td>40766</td>\n",
       "      <td>43007</td>\n",
       "      <td>evm.TU.pcontig_000.11</td>\n",
       "      <td>.</td>\n",
       "      <td>+</td>\n",
       "      <td>6542</td>\n",
       "    </tr>\n",
       "    <tr>\n",
       "      <th>4</th>\n",
       "      <td>pcontig_000</td>\n",
       "      <td>66837</td>\n",
       "      <td>67400</td>\n",
       "      <td>evm.TU.pcontig_000.19</td>\n",
       "      <td>.</td>\n",
       "      <td>-</td>\n",
       "      <td>pcontig_000</td>\n",
       "      <td>60473</td>\n",
       "      <td>65016</td>\n",
       "      <td>evm.TU.pcontig_000.18</td>\n",
       "      <td>.</td>\n",
       "      <td>+</td>\n",
       "      <td>1822</td>\n",
       "    </tr>\n",
       "    <tr>\n",
       "      <th>5</th>\n",
       "      <td>pcontig_000</td>\n",
       "      <td>227999</td>\n",
       "      <td>228495</td>\n",
       "      <td>evm.TU.pcontig_000.63</td>\n",
       "      <td>.</td>\n",
       "      <td>+</td>\n",
       "      <td>pcontig_000</td>\n",
       "      <td>310510</td>\n",
       "      <td>311517</td>\n",
       "      <td>evm.TU.pcontig_000.78</td>\n",
       "      <td>.</td>\n",
       "      <td>+</td>\n",
       "      <td>82016</td>\n",
       "    </tr>\n",
       "    <tr>\n",
       "      <th>6</th>\n",
       "      <td>pcontig_000</td>\n",
       "      <td>338223</td>\n",
       "      <td>339410</td>\n",
       "      <td>evm.TU.pcontig_000.85</td>\n",
       "      <td>.</td>\n",
       "      <td>+</td>\n",
       "      <td>pcontig_000</td>\n",
       "      <td>340207</td>\n",
       "      <td>342829</td>\n",
       "      <td>evm.TU.pcontig_000.86</td>\n",
       "      <td>.</td>\n",
       "      <td>-</td>\n",
       "      <td>798</td>\n",
       "    </tr>\n",
       "    <tr>\n",
       "      <th>7</th>\n",
       "      <td>pcontig_000</td>\n",
       "      <td>439981</td>\n",
       "      <td>440863</td>\n",
       "      <td>evm.TU.pcontig_000.112</td>\n",
       "      <td>.</td>\n",
       "      <td>-</td>\n",
       "      <td>pcontig_000</td>\n",
       "      <td>465766</td>\n",
       "      <td>466967</td>\n",
       "      <td>evm.TU.pcontig_000.119</td>\n",
       "      <td>.</td>\n",
       "      <td>+</td>\n",
       "      <td>24904</td>\n",
       "    </tr>\n",
       "    <tr>\n",
       "      <th>8</th>\n",
       "      <td>pcontig_000</td>\n",
       "      <td>686455</td>\n",
       "      <td>687551</td>\n",
       "      <td>evm.TU.pcontig_000.174</td>\n",
       "      <td>.</td>\n",
       "      <td>-</td>\n",
       "      <td>pcontig_000</td>\n",
       "      <td>701548</td>\n",
       "      <td>702781</td>\n",
       "      <td>evm.TU.pcontig_000.178</td>\n",
       "      <td>.</td>\n",
       "      <td>+</td>\n",
       "      <td>13998</td>\n",
       "    </tr>\n",
       "    <tr>\n",
       "      <th>9</th>\n",
       "      <td>pcontig_000</td>\n",
       "      <td>718079</td>\n",
       "      <td>719522</td>\n",
       "      <td>evm.TU.pcontig_000.182</td>\n",
       "      <td>.</td>\n",
       "      <td>-</td>\n",
       "      <td>pcontig_000</td>\n",
       "      <td>701548</td>\n",
       "      <td>702781</td>\n",
       "      <td>evm.TU.pcontig_000.178</td>\n",
       "      <td>.</td>\n",
       "      <td>+</td>\n",
       "      <td>15299</td>\n",
       "    </tr>\n",
       "    <tr>\n",
       "      <th>10</th>\n",
       "      <td>pcontig_000</td>\n",
       "      <td>956591</td>\n",
       "      <td>958834</td>\n",
       "      <td>evm.TU.pcontig_000.228</td>\n",
       "      <td>.</td>\n",
       "      <td>+</td>\n",
       "      <td>pcontig_000</td>\n",
       "      <td>972940</td>\n",
       "      <td>974347</td>\n",
       "      <td>evm.TU.pcontig_000.235</td>\n",
       "      <td>.</td>\n",
       "      <td>+</td>\n",
       "      <td>14107</td>\n",
       "    </tr>\n",
       "    <tr>\n",
       "      <th>11</th>\n",
       "      <td>pcontig_000</td>\n",
       "      <td>1075623</td>\n",
       "      <td>1077113</td>\n",
       "      <td>evm.TU.pcontig_000.262</td>\n",
       "      <td>.</td>\n",
       "      <td>+</td>\n",
       "      <td>pcontig_000</td>\n",
       "      <td>1097937</td>\n",
       "      <td>1100095</td>\n",
       "      <td>evm.TU.pcontig_000.269</td>\n",
       "      <td>.</td>\n",
       "      <td>+</td>\n",
       "      <td>20825</td>\n",
       "    </tr>\n",
       "    <tr>\n",
       "      <th>12</th>\n",
       "      <td>pcontig_000</td>\n",
       "      <td>1100949</td>\n",
       "      <td>1102670</td>\n",
       "      <td>evm.TU.pcontig_000.270</td>\n",
       "      <td>.</td>\n",
       "      <td>-</td>\n",
       "      <td>pcontig_000</td>\n",
       "      <td>1097937</td>\n",
       "      <td>1100095</td>\n",
       "      <td>evm.TU.pcontig_000.269</td>\n",
       "      <td>.</td>\n",
       "      <td>+</td>\n",
       "      <td>855</td>\n",
       "    </tr>\n",
       "    <tr>\n",
       "      <th>13</th>\n",
       "      <td>pcontig_000</td>\n",
       "      <td>1125061</td>\n",
       "      <td>1125700</td>\n",
       "      <td>evm.TU.pcontig_000.276</td>\n",
       "      <td>.</td>\n",
       "      <td>-</td>\n",
       "      <td>pcontig_000</td>\n",
       "      <td>1123463</td>\n",
       "      <td>1124380</td>\n",
       "      <td>evm.TU.pcontig_000.275</td>\n",
       "      <td>.</td>\n",
       "      <td>-</td>\n",
       "      <td>682</td>\n",
       "    </tr>\n",
       "    <tr>\n",
       "      <th>14</th>\n",
       "      <td>pcontig_000</td>\n",
       "      <td>1158331</td>\n",
       "      <td>1160142</td>\n",
       "      <td>evm.TU.pcontig_000.282</td>\n",
       "      <td>.</td>\n",
       "      <td>-</td>\n",
       "      <td>pcontig_000</td>\n",
       "      <td>1123463</td>\n",
       "      <td>1124380</td>\n",
       "      <td>evm.TU.pcontig_000.275</td>\n",
       "      <td>.</td>\n",
       "      <td>-</td>\n",
       "      <td>33952</td>\n",
       "    </tr>\n",
       "    <tr>\n",
       "      <th>15</th>\n",
       "      <td>pcontig_000</td>\n",
       "      <td>1272439</td>\n",
       "      <td>1273103</td>\n",
       "      <td>evm.TU.pcontig_000.306</td>\n",
       "      <td>.</td>\n",
       "      <td>+</td>\n",
       "      <td>pcontig_000</td>\n",
       "      <td>1312406</td>\n",
       "      <td>1314593</td>\n",
       "      <td>evm.TU.pcontig_000.317</td>\n",
       "      <td>.</td>\n",
       "      <td>+</td>\n",
       "      <td>39304</td>\n",
       "    </tr>\n",
       "    <tr>\n",
       "      <th>16</th>\n",
       "      <td>pcontig_000</td>\n",
       "      <td>1290518</td>\n",
       "      <td>1291363</td>\n",
       "      <td>evm.TU.pcontig_000.313</td>\n",
       "      <td>.</td>\n",
       "      <td>-</td>\n",
       "      <td>pcontig_000</td>\n",
       "      <td>1312406</td>\n",
       "      <td>1314593</td>\n",
       "      <td>evm.TU.pcontig_000.317</td>\n",
       "      <td>.</td>\n",
       "      <td>+</td>\n",
       "      <td>21044</td>\n",
       "    </tr>\n",
       "    <tr>\n",
       "      <th>17</th>\n",
       "      <td>pcontig_000</td>\n",
       "      <td>1390826</td>\n",
       "      <td>1391574</td>\n",
       "      <td>evm.TU.pcontig_000.332</td>\n",
       "      <td>.</td>\n",
       "      <td>+</td>\n",
       "      <td>pcontig_000</td>\n",
       "      <td>1399017</td>\n",
       "      <td>1400447</td>\n",
       "      <td>evm.TU.pcontig_000.336</td>\n",
       "      <td>.</td>\n",
       "      <td>-</td>\n",
       "      <td>7444</td>\n",
       "    </tr>\n",
       "    <tr>\n",
       "      <th>18</th>\n",
       "      <td>pcontig_000</td>\n",
       "      <td>1697688</td>\n",
       "      <td>1698186</td>\n",
       "      <td>evm.TU.pcontig_000.378</td>\n",
       "      <td>.</td>\n",
       "      <td>+</td>\n",
       "      <td>pcontig_000</td>\n",
       "      <td>1694250</td>\n",
       "      <td>1695485</td>\n",
       "      <td>evm.TU.pcontig_000.376</td>\n",
       "      <td>.</td>\n",
       "      <td>-</td>\n",
       "      <td>2204</td>\n",
       "    </tr>\n",
       "    <tr>\n",
       "      <th>19</th>\n",
       "      <td>pcontig_000</td>\n",
       "      <td>1724438</td>\n",
       "      <td>1726534</td>\n",
       "      <td>evm.TU.pcontig_000.389</td>\n",
       "      <td>.</td>\n",
       "      <td>-</td>\n",
       "      <td>pcontig_000</td>\n",
       "      <td>1705724</td>\n",
       "      <td>1707058</td>\n",
       "      <td>evm.TU.pcontig_000.382</td>\n",
       "      <td>.</td>\n",
       "      <td>+</td>\n",
       "      <td>17381</td>\n",
       "    </tr>\n",
       "    <tr>\n",
       "      <th>20</th>\n",
       "      <td>pcontig_000</td>\n",
       "      <td>1732813</td>\n",
       "      <td>1734849</td>\n",
       "      <td>evm.TU.pcontig_000.391</td>\n",
       "      <td>.</td>\n",
       "      <td>+</td>\n",
       "      <td>pcontig_000</td>\n",
       "      <td>1705724</td>\n",
       "      <td>1707058</td>\n",
       "      <td>evm.TU.pcontig_000.382</td>\n",
       "      <td>.</td>\n",
       "      <td>+</td>\n",
       "      <td>25756</td>\n",
       "    </tr>\n",
       "    <tr>\n",
       "      <th>21</th>\n",
       "      <td>pcontig_000</td>\n",
       "      <td>1741371</td>\n",
       "      <td>1741856</td>\n",
       "      <td>evm.TU.pcontig_000.392</td>\n",
       "      <td>.</td>\n",
       "      <td>+</td>\n",
       "      <td>pcontig_000</td>\n",
       "      <td>1705724</td>\n",
       "      <td>1707058</td>\n",
       "      <td>evm.TU.pcontig_000.382</td>\n",
       "      <td>.</td>\n",
       "      <td>+</td>\n",
       "      <td>34314</td>\n",
       "    </tr>\n",
       "    <tr>\n",
       "      <th>22</th>\n",
       "      <td>pcontig_000</td>\n",
       "      <td>1807068</td>\n",
       "      <td>1807510</td>\n",
       "      <td>evm.TU.pcontig_000.406</td>\n",
       "      <td>.</td>\n",
       "      <td>+</td>\n",
       "      <td>pcontig_000</td>\n",
       "      <td>1808436</td>\n",
       "      <td>1809887</td>\n",
       "      <td>evm.TU.pcontig_000.407</td>\n",
       "      <td>.</td>\n",
       "      <td>+</td>\n",
       "      <td>927</td>\n",
       "    </tr>\n",
       "    <tr>\n",
       "      <th>23</th>\n",
       "      <td>pcontig_000</td>\n",
       "      <td>1888919</td>\n",
       "      <td>1890537</td>\n",
       "      <td>evm.TU.pcontig_000.421</td>\n",
       "      <td>.</td>\n",
       "      <td>+</td>\n",
       "      <td>pcontig_000</td>\n",
       "      <td>1908282</td>\n",
       "      <td>1911309</td>\n",
       "      <td>evm.TU.pcontig_000.424</td>\n",
       "      <td>.</td>\n",
       "      <td>-</td>\n",
       "      <td>17746</td>\n",
       "    </tr>\n",
       "    <tr>\n",
       "      <th>24</th>\n",
       "      <td>pcontig_000</td>\n",
       "      <td>1905535</td>\n",
       "      <td>1906061</td>\n",
       "      <td>evm.TU.pcontig_000.423</td>\n",
       "      <td>.</td>\n",
       "      <td>+</td>\n",
       "      <td>pcontig_000</td>\n",
       "      <td>1908282</td>\n",
       "      <td>1911309</td>\n",
       "      <td>evm.TU.pcontig_000.424</td>\n",
       "      <td>.</td>\n",
       "      <td>-</td>\n",
       "      <td>2222</td>\n",
       "    </tr>\n",
       "    <tr>\n",
       "      <th>25</th>\n",
       "      <td>pcontig_000</td>\n",
       "      <td>2014069</td>\n",
       "      <td>2014594</td>\n",
       "      <td>evm.TU.pcontig_000.448</td>\n",
       "      <td>.</td>\n",
       "      <td>+</td>\n",
       "      <td>pcontig_000</td>\n",
       "      <td>2007062</td>\n",
       "      <td>2012784</td>\n",
       "      <td>evm.TU.pcontig_000.447</td>\n",
       "      <td>.</td>\n",
       "      <td>-</td>\n",
       "      <td>1286</td>\n",
       "    </tr>\n",
       "    <tr>\n",
       "      <th>26</th>\n",
       "      <td>pcontig_000</td>\n",
       "      <td>2020344</td>\n",
       "      <td>2020689</td>\n",
       "      <td>evm.TU.pcontig_000.450</td>\n",
       "      <td>.</td>\n",
       "      <td>+</td>\n",
       "      <td>pcontig_000</td>\n",
       "      <td>2017621</td>\n",
       "      <td>2019063</td>\n",
       "      <td>evm.TU.pcontig_000.449</td>\n",
       "      <td>.</td>\n",
       "      <td>-</td>\n",
       "      <td>1282</td>\n",
       "    </tr>\n",
       "    <tr>\n",
       "      <th>27</th>\n",
       "      <td>pcontig_000</td>\n",
       "      <td>2028583</td>\n",
       "      <td>2029433</td>\n",
       "      <td>evm.TU.pcontig_000.454</td>\n",
       "      <td>.</td>\n",
       "      <td>+</td>\n",
       "      <td>pcontig_000</td>\n",
       "      <td>2024863</td>\n",
       "      <td>2026319</td>\n",
       "      <td>evm.TU.pcontig_000.452</td>\n",
       "      <td>.</td>\n",
       "      <td>-</td>\n",
       "      <td>2265</td>\n",
       "    </tr>\n",
       "    <tr>\n",
       "      <th>28</th>\n",
       "      <td>pcontig_000</td>\n",
       "      <td>2155310</td>\n",
       "      <td>2155809</td>\n",
       "      <td>evm.TU.pcontig_000.479</td>\n",
       "      <td>.</td>\n",
       "      <td>-</td>\n",
       "      <td>pcontig_000</td>\n",
       "      <td>2159233</td>\n",
       "      <td>2163697</td>\n",
       "      <td>evm.TU.pcontig_000.481</td>\n",
       "      <td>.</td>\n",
       "      <td>+</td>\n",
       "      <td>3425</td>\n",
       "    </tr>\n",
       "    <tr>\n",
       "      <th>29</th>\n",
       "      <td>pcontig_000</td>\n",
       "      <td>2230759</td>\n",
       "      <td>2231831</td>\n",
       "      <td>evm.TU.pcontig_000.501</td>\n",
       "      <td>.</td>\n",
       "      <td>-</td>\n",
       "      <td>pcontig_000</td>\n",
       "      <td>2236739</td>\n",
       "      <td>2238036</td>\n",
       "      <td>evm.TU.pcontig_000.502</td>\n",
       "      <td>.</td>\n",
       "      <td>-</td>\n",
       "      <td>4909</td>\n",
       "    </tr>\n",
       "    <tr>\n",
       "      <th>...</th>\n",
       "      <td>...</td>\n",
       "      <td>...</td>\n",
       "      <td>...</td>\n",
       "      <td>...</td>\n",
       "      <td>...</td>\n",
       "      <td>...</td>\n",
       "      <td>...</td>\n",
       "      <td>...</td>\n",
       "      <td>...</td>\n",
       "      <td>...</td>\n",
       "      <td>...</td>\n",
       "      <td>...</td>\n",
       "      <td>...</td>\n",
       "    </tr>\n",
       "    <tr>\n",
       "      <th>1542</th>\n",
       "      <td>pcontig_138</td>\n",
       "      <td>56077</td>\n",
       "      <td>57989</td>\n",
       "      <td>evm.TU.pcontig_138.15</td>\n",
       "      <td>.</td>\n",
       "      <td>+</td>\n",
       "      <td>pcontig_138</td>\n",
       "      <td>66997</td>\n",
       "      <td>69515</td>\n",
       "      <td>evm.TU.pcontig_138.17</td>\n",
       "      <td>.</td>\n",
       "      <td>-</td>\n",
       "      <td>9009</td>\n",
       "    </tr>\n",
       "    <tr>\n",
       "      <th>1543</th>\n",
       "      <td>pcontig_147</td>\n",
       "      <td>43711</td>\n",
       "      <td>44003</td>\n",
       "      <td>evm.TU.pcontig_147.9</td>\n",
       "      <td>.</td>\n",
       "      <td>-</td>\n",
       "      <td>pcontig_147</td>\n",
       "      <td>29480</td>\n",
       "      <td>36192</td>\n",
       "      <td>evm.TU.pcontig_147.7</td>\n",
       "      <td>.</td>\n",
       "      <td>-</td>\n",
       "      <td>7520</td>\n",
       "    </tr>\n",
       "    <tr>\n",
       "      <th>1544</th>\n",
       "      <td>pcontig_148</td>\n",
       "      <td>24171</td>\n",
       "      <td>25011</td>\n",
       "      <td>evm.TU.pcontig_148.9</td>\n",
       "      <td>.</td>\n",
       "      <td>-</td>\n",
       "      <td>pcontig_148</td>\n",
       "      <td>67003</td>\n",
       "      <td>68509</td>\n",
       "      <td>evm.TU.pcontig_148.18</td>\n",
       "      <td>.</td>\n",
       "      <td>-</td>\n",
       "      <td>41993</td>\n",
       "    </tr>\n",
       "    <tr>\n",
       "      <th>1545</th>\n",
       "      <td>pcontig_148</td>\n",
       "      <td>30629</td>\n",
       "      <td>31560</td>\n",
       "      <td>evm.TU.pcontig_148.11</td>\n",
       "      <td>.</td>\n",
       "      <td>-</td>\n",
       "      <td>pcontig_148</td>\n",
       "      <td>67003</td>\n",
       "      <td>68509</td>\n",
       "      <td>evm.TU.pcontig_148.18</td>\n",
       "      <td>.</td>\n",
       "      <td>-</td>\n",
       "      <td>35444</td>\n",
       "    </tr>\n",
       "    <tr>\n",
       "      <th>1546</th>\n",
       "      <td>pcontig_149</td>\n",
       "      <td>5261</td>\n",
       "      <td>6721</td>\n",
       "      <td>evm.TU.pcontig_149.3</td>\n",
       "      <td>.</td>\n",
       "      <td>+</td>\n",
       "      <td>.</td>\n",
       "      <td>-1</td>\n",
       "      <td>-1</td>\n",
       "      <td>.</td>\n",
       "      <td>-1</td>\n",
       "      <td>.</td>\n",
       "      <td>-1</td>\n",
       "    </tr>\n",
       "    <tr>\n",
       "      <th>1547</th>\n",
       "      <td>pcontig_149</td>\n",
       "      <td>22356</td>\n",
       "      <td>23816</td>\n",
       "      <td>evm.TU.pcontig_149.6</td>\n",
       "      <td>.</td>\n",
       "      <td>+</td>\n",
       "      <td>.</td>\n",
       "      <td>-1</td>\n",
       "      <td>-1</td>\n",
       "      <td>.</td>\n",
       "      <td>-1</td>\n",
       "      <td>.</td>\n",
       "      <td>-1</td>\n",
       "    </tr>\n",
       "    <tr>\n",
       "      <th>1548</th>\n",
       "      <td>pcontig_149</td>\n",
       "      <td>36249</td>\n",
       "      <td>37074</td>\n",
       "      <td>evm.TU.pcontig_149.10</td>\n",
       "      <td>.</td>\n",
       "      <td>-</td>\n",
       "      <td>.</td>\n",
       "      <td>-1</td>\n",
       "      <td>-1</td>\n",
       "      <td>.</td>\n",
       "      <td>-1</td>\n",
       "      <td>.</td>\n",
       "      <td>-1</td>\n",
       "    </tr>\n",
       "    <tr>\n",
       "      <th>1549</th>\n",
       "      <td>pcontig_150</td>\n",
       "      <td>23943</td>\n",
       "      <td>26186</td>\n",
       "      <td>evm.TU.pcontig_150.9</td>\n",
       "      <td>.</td>\n",
       "      <td>+</td>\n",
       "      <td>.</td>\n",
       "      <td>-1</td>\n",
       "      <td>-1</td>\n",
       "      <td>.</td>\n",
       "      <td>-1</td>\n",
       "      <td>.</td>\n",
       "      <td>-1</td>\n",
       "    </tr>\n",
       "    <tr>\n",
       "      <th>1550</th>\n",
       "      <td>pcontig_150</td>\n",
       "      <td>29013</td>\n",
       "      <td>30837</td>\n",
       "      <td>evm.TU.pcontig_150.10</td>\n",
       "      <td>.</td>\n",
       "      <td>+</td>\n",
       "      <td>.</td>\n",
       "      <td>-1</td>\n",
       "      <td>-1</td>\n",
       "      <td>.</td>\n",
       "      <td>-1</td>\n",
       "      <td>.</td>\n",
       "      <td>-1</td>\n",
       "    </tr>\n",
       "    <tr>\n",
       "      <th>1551</th>\n",
       "      <td>pcontig_157</td>\n",
       "      <td>9039</td>\n",
       "      <td>9597</td>\n",
       "      <td>evm.TU.pcontig_157.3</td>\n",
       "      <td>.</td>\n",
       "      <td>+</td>\n",
       "      <td>pcontig_157</td>\n",
       "      <td>46220</td>\n",
       "      <td>47568</td>\n",
       "      <td>evm.TU.pcontig_157.16</td>\n",
       "      <td>.</td>\n",
       "      <td>-</td>\n",
       "      <td>36624</td>\n",
       "    </tr>\n",
       "    <tr>\n",
       "      <th>1552</th>\n",
       "      <td>pcontig_157</td>\n",
       "      <td>11812</td>\n",
       "      <td>12344</td>\n",
       "      <td>evm.TU.pcontig_157.4</td>\n",
       "      <td>.</td>\n",
       "      <td>+</td>\n",
       "      <td>pcontig_157</td>\n",
       "      <td>46220</td>\n",
       "      <td>47568</td>\n",
       "      <td>evm.TU.pcontig_157.16</td>\n",
       "      <td>.</td>\n",
       "      <td>-</td>\n",
       "      <td>33877</td>\n",
       "    </tr>\n",
       "    <tr>\n",
       "      <th>1553</th>\n",
       "      <td>pcontig_157</td>\n",
       "      <td>25382</td>\n",
       "      <td>25914</td>\n",
       "      <td>evm.TU.pcontig_157.8</td>\n",
       "      <td>.</td>\n",
       "      <td>+</td>\n",
       "      <td>pcontig_157</td>\n",
       "      <td>46220</td>\n",
       "      <td>47568</td>\n",
       "      <td>evm.TU.pcontig_157.16</td>\n",
       "      <td>.</td>\n",
       "      <td>-</td>\n",
       "      <td>20307</td>\n",
       "    </tr>\n",
       "    <tr>\n",
       "      <th>1554</th>\n",
       "      <td>pcontig_165</td>\n",
       "      <td>16198</td>\n",
       "      <td>16690</td>\n",
       "      <td>evm.TU.pcontig_165.8</td>\n",
       "      <td>.</td>\n",
       "      <td>+</td>\n",
       "      <td>.</td>\n",
       "      <td>-1</td>\n",
       "      <td>-1</td>\n",
       "      <td>.</td>\n",
       "      <td>-1</td>\n",
       "      <td>.</td>\n",
       "      <td>-1</td>\n",
       "    </tr>\n",
       "    <tr>\n",
       "      <th>1555</th>\n",
       "      <td>pcontig_170</td>\n",
       "      <td>4094</td>\n",
       "      <td>5128</td>\n",
       "      <td>evm.TU.pcontig_170.3</td>\n",
       "      <td>.</td>\n",
       "      <td>-</td>\n",
       "      <td>.</td>\n",
       "      <td>-1</td>\n",
       "      <td>-1</td>\n",
       "      <td>.</td>\n",
       "      <td>-1</td>\n",
       "      <td>.</td>\n",
       "      <td>-1</td>\n",
       "    </tr>\n",
       "    <tr>\n",
       "      <th>1556</th>\n",
       "      <td>pcontig_173</td>\n",
       "      <td>7366</td>\n",
       "      <td>8443</td>\n",
       "      <td>evm.TU.pcontig_173.4</td>\n",
       "      <td>.</td>\n",
       "      <td>-</td>\n",
       "      <td>.</td>\n",
       "      <td>-1</td>\n",
       "      <td>-1</td>\n",
       "      <td>.</td>\n",
       "      <td>-1</td>\n",
       "      <td>.</td>\n",
       "      <td>-1</td>\n",
       "    </tr>\n",
       "    <tr>\n",
       "      <th>1557</th>\n",
       "      <td>pcontig_173</td>\n",
       "      <td>11062</td>\n",
       "      <td>12146</td>\n",
       "      <td>evm.TU.pcontig_173.5</td>\n",
       "      <td>.</td>\n",
       "      <td>-</td>\n",
       "      <td>.</td>\n",
       "      <td>-1</td>\n",
       "      <td>-1</td>\n",
       "      <td>.</td>\n",
       "      <td>-1</td>\n",
       "      <td>.</td>\n",
       "      <td>-1</td>\n",
       "    </tr>\n",
       "    <tr>\n",
       "      <th>1558</th>\n",
       "      <td>pcontig_174</td>\n",
       "      <td>1125</td>\n",
       "      <td>1854</td>\n",
       "      <td>evm.TU.pcontig_174.1</td>\n",
       "      <td>.</td>\n",
       "      <td>-</td>\n",
       "      <td>pcontig_174</td>\n",
       "      <td>6134</td>\n",
       "      <td>7792</td>\n",
       "      <td>evm.TU.pcontig_174.3</td>\n",
       "      <td>.</td>\n",
       "      <td>-</td>\n",
       "      <td>4281</td>\n",
       "    </tr>\n",
       "    <tr>\n",
       "      <th>1559</th>\n",
       "      <td>pcontig_181</td>\n",
       "      <td>37582</td>\n",
       "      <td>38645</td>\n",
       "      <td>evm.TU.pcontig_181.9</td>\n",
       "      <td>.</td>\n",
       "      <td>-</td>\n",
       "      <td>pcontig_181</td>\n",
       "      <td>45011</td>\n",
       "      <td>45733</td>\n",
       "      <td>evm.TU.pcontig_181.10</td>\n",
       "      <td>.</td>\n",
       "      <td>-</td>\n",
       "      <td>6367</td>\n",
       "    </tr>\n",
       "    <tr>\n",
       "      <th>1560</th>\n",
       "      <td>pcontig_186</td>\n",
       "      <td>12235</td>\n",
       "      <td>13059</td>\n",
       "      <td>evm.TU.pcontig_186.2</td>\n",
       "      <td>.</td>\n",
       "      <td>+</td>\n",
       "      <td>pcontig_186</td>\n",
       "      <td>13898</td>\n",
       "      <td>16044</td>\n",
       "      <td>evm.TU.pcontig_186.3</td>\n",
       "      <td>.</td>\n",
       "      <td>+</td>\n",
       "      <td>840</td>\n",
       "    </tr>\n",
       "    <tr>\n",
       "      <th>1561</th>\n",
       "      <td>pcontig_186</td>\n",
       "      <td>22886</td>\n",
       "      <td>23686</td>\n",
       "      <td>evm.TU.pcontig_186.6</td>\n",
       "      <td>.</td>\n",
       "      <td>+</td>\n",
       "      <td>pcontig_186</td>\n",
       "      <td>13898</td>\n",
       "      <td>16044</td>\n",
       "      <td>evm.TU.pcontig_186.3</td>\n",
       "      <td>.</td>\n",
       "      <td>+</td>\n",
       "      <td>6843</td>\n",
       "    </tr>\n",
       "    <tr>\n",
       "      <th>1562</th>\n",
       "      <td>pcontig_186</td>\n",
       "      <td>25643</td>\n",
       "      <td>26421</td>\n",
       "      <td>evm.TU.pcontig_186.7</td>\n",
       "      <td>.</td>\n",
       "      <td>+</td>\n",
       "      <td>pcontig_186</td>\n",
       "      <td>13898</td>\n",
       "      <td>16044</td>\n",
       "      <td>evm.TU.pcontig_186.3</td>\n",
       "      <td>.</td>\n",
       "      <td>+</td>\n",
       "      <td>9600</td>\n",
       "    </tr>\n",
       "    <tr>\n",
       "      <th>1563</th>\n",
       "      <td>pcontig_186</td>\n",
       "      <td>30939</td>\n",
       "      <td>31848</td>\n",
       "      <td>evm.TU.pcontig_186.9</td>\n",
       "      <td>.</td>\n",
       "      <td>+</td>\n",
       "      <td>pcontig_186</td>\n",
       "      <td>13898</td>\n",
       "      <td>16044</td>\n",
       "      <td>evm.TU.pcontig_186.3</td>\n",
       "      <td>.</td>\n",
       "      <td>+</td>\n",
       "      <td>14896</td>\n",
       "    </tr>\n",
       "    <tr>\n",
       "      <th>1564</th>\n",
       "      <td>pcontig_188</td>\n",
       "      <td>9427</td>\n",
       "      <td>9896</td>\n",
       "      <td>evm.TU.pcontig_188.5</td>\n",
       "      <td>.</td>\n",
       "      <td>-</td>\n",
       "      <td>pcontig_188</td>\n",
       "      <td>15937</td>\n",
       "      <td>20859</td>\n",
       "      <td>evm.TU.pcontig_188.7</td>\n",
       "      <td>.</td>\n",
       "      <td>-</td>\n",
       "      <td>6042</td>\n",
       "    </tr>\n",
       "    <tr>\n",
       "      <th>1565</th>\n",
       "      <td>pcontig_188</td>\n",
       "      <td>13702</td>\n",
       "      <td>14167</td>\n",
       "      <td>evm.TU.pcontig_188.6</td>\n",
       "      <td>.</td>\n",
       "      <td>-</td>\n",
       "      <td>pcontig_188</td>\n",
       "      <td>15937</td>\n",
       "      <td>20859</td>\n",
       "      <td>evm.TU.pcontig_188.7</td>\n",
       "      <td>.</td>\n",
       "      <td>-</td>\n",
       "      <td>1771</td>\n",
       "    </tr>\n",
       "    <tr>\n",
       "      <th>1566</th>\n",
       "      <td>pcontig_189</td>\n",
       "      <td>26709</td>\n",
       "      <td>27531</td>\n",
       "      <td>evm.TU.pcontig_189.7</td>\n",
       "      <td>.</td>\n",
       "      <td>+</td>\n",
       "      <td>pcontig_189</td>\n",
       "      <td>18769</td>\n",
       "      <td>24912</td>\n",
       "      <td>evm.TU.pcontig_189.6</td>\n",
       "      <td>.</td>\n",
       "      <td>-</td>\n",
       "      <td>1798</td>\n",
       "    </tr>\n",
       "    <tr>\n",
       "      <th>1567</th>\n",
       "      <td>pcontig_203</td>\n",
       "      <td>18229</td>\n",
       "      <td>19080</td>\n",
       "      <td>evm.TU.pcontig_203.5</td>\n",
       "      <td>.</td>\n",
       "      <td>-</td>\n",
       "      <td>pcontig_203</td>\n",
       "      <td>21402</td>\n",
       "      <td>22423</td>\n",
       "      <td>evm.TU.pcontig_203.7</td>\n",
       "      <td>.</td>\n",
       "      <td>+</td>\n",
       "      <td>2323</td>\n",
       "    </tr>\n",
       "    <tr>\n",
       "      <th>1568</th>\n",
       "      <td>pcontig_203</td>\n",
       "      <td>19978</td>\n",
       "      <td>20847</td>\n",
       "      <td>evm.TU.pcontig_203.6</td>\n",
       "      <td>.</td>\n",
       "      <td>-</td>\n",
       "      <td>pcontig_203</td>\n",
       "      <td>21402</td>\n",
       "      <td>22423</td>\n",
       "      <td>evm.TU.pcontig_203.7</td>\n",
       "      <td>.</td>\n",
       "      <td>+</td>\n",
       "      <td>556</td>\n",
       "    </tr>\n",
       "    <tr>\n",
       "      <th>1569</th>\n",
       "      <td>pcontig_207</td>\n",
       "      <td>1295</td>\n",
       "      <td>2150</td>\n",
       "      <td>evm.TU.pcontig_207.1</td>\n",
       "      <td>.</td>\n",
       "      <td>+</td>\n",
       "      <td>.</td>\n",
       "      <td>-1</td>\n",
       "      <td>-1</td>\n",
       "      <td>.</td>\n",
       "      <td>-1</td>\n",
       "      <td>.</td>\n",
       "      <td>-1</td>\n",
       "    </tr>\n",
       "    <tr>\n",
       "      <th>1570</th>\n",
       "      <td>pcontig_233</td>\n",
       "      <td>24904</td>\n",
       "      <td>25501</td>\n",
       "      <td>evm.TU.pcontig_233.6</td>\n",
       "      <td>.</td>\n",
       "      <td>+</td>\n",
       "      <td>pcontig_233</td>\n",
       "      <td>19086</td>\n",
       "      <td>23053</td>\n",
       "      <td>evm.TU.pcontig_233.5</td>\n",
       "      <td>.</td>\n",
       "      <td>+</td>\n",
       "      <td>1852</td>\n",
       "    </tr>\n",
       "    <tr>\n",
       "      <th>1571</th>\n",
       "      <td>pcontig_235</td>\n",
       "      <td>24769</td>\n",
       "      <td>25928</td>\n",
       "      <td>evm.TU.pcontig_235.7</td>\n",
       "      <td>.</td>\n",
       "      <td>+</td>\n",
       "      <td>.</td>\n",
       "      <td>-1</td>\n",
       "      <td>-1</td>\n",
       "      <td>.</td>\n",
       "      <td>-1</td>\n",
       "      <td>.</td>\n",
       "      <td>-1</td>\n",
       "    </tr>\n",
       "  </tbody>\n",
       "</table>\n",
       "<p>1572 rows × 13 columns</p>\n",
       "</div>"
      ],
      "text/plain": [
       "               0        1        2                       3  4  5   \\\n",
       "0     pcontig_000     8490     9492    evm.TU.pcontig_000.3  .  +   \n",
       "1     pcontig_000    28352    29795    evm.TU.pcontig_000.6  .  +   \n",
       "2     pcontig_000    34649    34940    evm.TU.pcontig_000.9  .  -   \n",
       "3     pcontig_000    49548    50911   evm.TU.pcontig_000.14  .  +   \n",
       "4     pcontig_000    66837    67400   evm.TU.pcontig_000.19  .  -   \n",
       "5     pcontig_000   227999   228495   evm.TU.pcontig_000.63  .  +   \n",
       "6     pcontig_000   338223   339410   evm.TU.pcontig_000.85  .  +   \n",
       "7     pcontig_000   439981   440863  evm.TU.pcontig_000.112  .  -   \n",
       "8     pcontig_000   686455   687551  evm.TU.pcontig_000.174  .  -   \n",
       "9     pcontig_000   718079   719522  evm.TU.pcontig_000.182  .  -   \n",
       "10    pcontig_000   956591   958834  evm.TU.pcontig_000.228  .  +   \n",
       "11    pcontig_000  1075623  1077113  evm.TU.pcontig_000.262  .  +   \n",
       "12    pcontig_000  1100949  1102670  evm.TU.pcontig_000.270  .  -   \n",
       "13    pcontig_000  1125061  1125700  evm.TU.pcontig_000.276  .  -   \n",
       "14    pcontig_000  1158331  1160142  evm.TU.pcontig_000.282  .  -   \n",
       "15    pcontig_000  1272439  1273103  evm.TU.pcontig_000.306  .  +   \n",
       "16    pcontig_000  1290518  1291363  evm.TU.pcontig_000.313  .  -   \n",
       "17    pcontig_000  1390826  1391574  evm.TU.pcontig_000.332  .  +   \n",
       "18    pcontig_000  1697688  1698186  evm.TU.pcontig_000.378  .  +   \n",
       "19    pcontig_000  1724438  1726534  evm.TU.pcontig_000.389  .  -   \n",
       "20    pcontig_000  1732813  1734849  evm.TU.pcontig_000.391  .  +   \n",
       "21    pcontig_000  1741371  1741856  evm.TU.pcontig_000.392  .  +   \n",
       "22    pcontig_000  1807068  1807510  evm.TU.pcontig_000.406  .  +   \n",
       "23    pcontig_000  1888919  1890537  evm.TU.pcontig_000.421  .  +   \n",
       "24    pcontig_000  1905535  1906061  evm.TU.pcontig_000.423  .  +   \n",
       "25    pcontig_000  2014069  2014594  evm.TU.pcontig_000.448  .  +   \n",
       "26    pcontig_000  2020344  2020689  evm.TU.pcontig_000.450  .  +   \n",
       "27    pcontig_000  2028583  2029433  evm.TU.pcontig_000.454  .  +   \n",
       "28    pcontig_000  2155310  2155809  evm.TU.pcontig_000.479  .  -   \n",
       "29    pcontig_000  2230759  2231831  evm.TU.pcontig_000.501  .  -   \n",
       "...           ...      ...      ...                     ... .. ..   \n",
       "1542  pcontig_138    56077    57989   evm.TU.pcontig_138.15  .  +   \n",
       "1543  pcontig_147    43711    44003    evm.TU.pcontig_147.9  .  -   \n",
       "1544  pcontig_148    24171    25011    evm.TU.pcontig_148.9  .  -   \n",
       "1545  pcontig_148    30629    31560   evm.TU.pcontig_148.11  .  -   \n",
       "1546  pcontig_149     5261     6721    evm.TU.pcontig_149.3  .  +   \n",
       "1547  pcontig_149    22356    23816    evm.TU.pcontig_149.6  .  +   \n",
       "1548  pcontig_149    36249    37074   evm.TU.pcontig_149.10  .  -   \n",
       "1549  pcontig_150    23943    26186    evm.TU.pcontig_150.9  .  +   \n",
       "1550  pcontig_150    29013    30837   evm.TU.pcontig_150.10  .  +   \n",
       "1551  pcontig_157     9039     9597    evm.TU.pcontig_157.3  .  +   \n",
       "1552  pcontig_157    11812    12344    evm.TU.pcontig_157.4  .  +   \n",
       "1553  pcontig_157    25382    25914    evm.TU.pcontig_157.8  .  +   \n",
       "1554  pcontig_165    16198    16690    evm.TU.pcontig_165.8  .  +   \n",
       "1555  pcontig_170     4094     5128    evm.TU.pcontig_170.3  .  -   \n",
       "1556  pcontig_173     7366     8443    evm.TU.pcontig_173.4  .  -   \n",
       "1557  pcontig_173    11062    12146    evm.TU.pcontig_173.5  .  -   \n",
       "1558  pcontig_174     1125     1854    evm.TU.pcontig_174.1  .  -   \n",
       "1559  pcontig_181    37582    38645    evm.TU.pcontig_181.9  .  -   \n",
       "1560  pcontig_186    12235    13059    evm.TU.pcontig_186.2  .  +   \n",
       "1561  pcontig_186    22886    23686    evm.TU.pcontig_186.6  .  +   \n",
       "1562  pcontig_186    25643    26421    evm.TU.pcontig_186.7  .  +   \n",
       "1563  pcontig_186    30939    31848    evm.TU.pcontig_186.9  .  +   \n",
       "1564  pcontig_188     9427     9896    evm.TU.pcontig_188.5  .  -   \n",
       "1565  pcontig_188    13702    14167    evm.TU.pcontig_188.6  .  -   \n",
       "1566  pcontig_189    26709    27531    evm.TU.pcontig_189.7  .  +   \n",
       "1567  pcontig_203    18229    19080    evm.TU.pcontig_203.5  .  -   \n",
       "1568  pcontig_203    19978    20847    evm.TU.pcontig_203.6  .  -   \n",
       "1569  pcontig_207     1295     2150    evm.TU.pcontig_207.1  .  +   \n",
       "1570  pcontig_233    24904    25501    evm.TU.pcontig_233.6  .  +   \n",
       "1571  pcontig_235    24769    25928    evm.TU.pcontig_235.7  .  +   \n",
       "\n",
       "               6        7        8                       9   10 11     12  \n",
       "0     pcontig_000    40766    43007   evm.TU.pcontig_000.11   .  +  31275  \n",
       "1     pcontig_000    40766    43007   evm.TU.pcontig_000.11   .  +  10972  \n",
       "2     pcontig_000    40766    43007   evm.TU.pcontig_000.11   .  +   5827  \n",
       "3     pcontig_000    40766    43007   evm.TU.pcontig_000.11   .  +   6542  \n",
       "4     pcontig_000    60473    65016   evm.TU.pcontig_000.18   .  +   1822  \n",
       "5     pcontig_000   310510   311517   evm.TU.pcontig_000.78   .  +  82016  \n",
       "6     pcontig_000   340207   342829   evm.TU.pcontig_000.86   .  -    798  \n",
       "7     pcontig_000   465766   466967  evm.TU.pcontig_000.119   .  +  24904  \n",
       "8     pcontig_000   701548   702781  evm.TU.pcontig_000.178   .  +  13998  \n",
       "9     pcontig_000   701548   702781  evm.TU.pcontig_000.178   .  +  15299  \n",
       "10    pcontig_000   972940   974347  evm.TU.pcontig_000.235   .  +  14107  \n",
       "11    pcontig_000  1097937  1100095  evm.TU.pcontig_000.269   .  +  20825  \n",
       "12    pcontig_000  1097937  1100095  evm.TU.pcontig_000.269   .  +    855  \n",
       "13    pcontig_000  1123463  1124380  evm.TU.pcontig_000.275   .  -    682  \n",
       "14    pcontig_000  1123463  1124380  evm.TU.pcontig_000.275   .  -  33952  \n",
       "15    pcontig_000  1312406  1314593  evm.TU.pcontig_000.317   .  +  39304  \n",
       "16    pcontig_000  1312406  1314593  evm.TU.pcontig_000.317   .  +  21044  \n",
       "17    pcontig_000  1399017  1400447  evm.TU.pcontig_000.336   .  -   7444  \n",
       "18    pcontig_000  1694250  1695485  evm.TU.pcontig_000.376   .  -   2204  \n",
       "19    pcontig_000  1705724  1707058  evm.TU.pcontig_000.382   .  +  17381  \n",
       "20    pcontig_000  1705724  1707058  evm.TU.pcontig_000.382   .  +  25756  \n",
       "21    pcontig_000  1705724  1707058  evm.TU.pcontig_000.382   .  +  34314  \n",
       "22    pcontig_000  1808436  1809887  evm.TU.pcontig_000.407   .  +    927  \n",
       "23    pcontig_000  1908282  1911309  evm.TU.pcontig_000.424   .  -  17746  \n",
       "24    pcontig_000  1908282  1911309  evm.TU.pcontig_000.424   .  -   2222  \n",
       "25    pcontig_000  2007062  2012784  evm.TU.pcontig_000.447   .  -   1286  \n",
       "26    pcontig_000  2017621  2019063  evm.TU.pcontig_000.449   .  -   1282  \n",
       "27    pcontig_000  2024863  2026319  evm.TU.pcontig_000.452   .  -   2265  \n",
       "28    pcontig_000  2159233  2163697  evm.TU.pcontig_000.481   .  +   3425  \n",
       "29    pcontig_000  2236739  2238036  evm.TU.pcontig_000.502   .  -   4909  \n",
       "...           ...      ...      ...                     ...  .. ..    ...  \n",
       "1542  pcontig_138    66997    69515   evm.TU.pcontig_138.17   .  -   9009  \n",
       "1543  pcontig_147    29480    36192    evm.TU.pcontig_147.7   .  -   7520  \n",
       "1544  pcontig_148    67003    68509   evm.TU.pcontig_148.18   .  -  41993  \n",
       "1545  pcontig_148    67003    68509   evm.TU.pcontig_148.18   .  -  35444  \n",
       "1546            .       -1       -1                       .  -1  .     -1  \n",
       "1547            .       -1       -1                       .  -1  .     -1  \n",
       "1548            .       -1       -1                       .  -1  .     -1  \n",
       "1549            .       -1       -1                       .  -1  .     -1  \n",
       "1550            .       -1       -1                       .  -1  .     -1  \n",
       "1551  pcontig_157    46220    47568   evm.TU.pcontig_157.16   .  -  36624  \n",
       "1552  pcontig_157    46220    47568   evm.TU.pcontig_157.16   .  -  33877  \n",
       "1553  pcontig_157    46220    47568   evm.TU.pcontig_157.16   .  -  20307  \n",
       "1554            .       -1       -1                       .  -1  .     -1  \n",
       "1555            .       -1       -1                       .  -1  .     -1  \n",
       "1556            .       -1       -1                       .  -1  .     -1  \n",
       "1557            .       -1       -1                       .  -1  .     -1  \n",
       "1558  pcontig_174     6134     7792    evm.TU.pcontig_174.3   .  -   4281  \n",
       "1559  pcontig_181    45011    45733   evm.TU.pcontig_181.10   .  -   6367  \n",
       "1560  pcontig_186    13898    16044    evm.TU.pcontig_186.3   .  +    840  \n",
       "1561  pcontig_186    13898    16044    evm.TU.pcontig_186.3   .  +   6843  \n",
       "1562  pcontig_186    13898    16044    evm.TU.pcontig_186.3   .  +   9600  \n",
       "1563  pcontig_186    13898    16044    evm.TU.pcontig_186.3   .  +  14896  \n",
       "1564  pcontig_188    15937    20859    evm.TU.pcontig_188.7   .  -   6042  \n",
       "1565  pcontig_188    15937    20859    evm.TU.pcontig_188.7   .  -   1771  \n",
       "1566  pcontig_189    18769    24912    evm.TU.pcontig_189.6   .  -   1798  \n",
       "1567  pcontig_203    21402    22423    evm.TU.pcontig_203.7   .  +   2323  \n",
       "1568  pcontig_203    21402    22423    evm.TU.pcontig_203.7   .  +    556  \n",
       "1569            .       -1       -1                       .  -1  .     -1  \n",
       "1570  pcontig_233    19086    23053    evm.TU.pcontig_233.5   .  +   1852  \n",
       "1571            .       -1       -1                       .  -1  .     -1  \n",
       "\n",
       "[1572 rows x 13 columns]"
      ]
     },
     "execution_count": 508,
     "metadata": {},
     "output_type": "execute_result"
    }
   ],
   "source": [
    "feature_bed_dict['effector'].closest(feature_bed_dict['busco'],d=True,t='last', io=True).to_dataframe()"
   ]
  },
  {
   "cell_type": "code",
   "execution_count": null,
   "metadata": {
    "collapsed": true
   },
   "outputs": [],
   "source": []
  },
  {
   "cell_type": "code",
   "execution_count": null,
   "metadata": {
    "collapsed": true
   },
   "outputs": [],
   "source": []
  },
  {
   "cell_type": "code",
   "execution_count": null,
   "metadata": {
    "collapsed": true
   },
   "outputs": [],
   "source": []
  },
  {
   "cell_type": "code",
   "execution_count": null,
   "metadata": {
    "collapsed": true
   },
   "outputs": [],
   "source": []
  },
  {
   "cell_type": "code",
   "execution_count": null,
   "metadata": {
    "collapsed": true
   },
   "outputs": [],
   "source": []
  },
  {
   "cell_type": "code",
   "execution_count": null,
   "metadata": {
    "collapsed": true
   },
   "outputs": [],
   "source": []
  },
  {
   "cell_type": "code",
   "execution_count": null,
   "metadata": {
    "collapsed": true
   },
   "outputs": [],
   "source": []
  },
  {
   "cell_type": "code",
   "execution_count": null,
   "metadata": {
    "collapsed": true
   },
   "outputs": [],
   "source": []
  },
  {
   "cell_type": "code",
   "execution_count": null,
   "metadata": {
    "collapsed": true
   },
   "outputs": [],
   "source": []
  },
  {
   "cell_type": "code",
   "execution_count": null,
   "metadata": {
    "collapsed": true
   },
   "outputs": [],
   "source": []
  },
  {
   "cell_type": "code",
   "execution_count": null,
   "metadata": {
    "collapsed": true
   },
   "outputs": [],
   "source": []
  },
  {
   "cell_type": "markdown",
   "metadata": {},
   "source": [
    "Now pick a couple of the non_respective_haplotype alignements and get sequencing data for those to make a plot"
   ]
  },
  {
   "cell_type": "code",
   "execution_count": null,
   "metadata": {
    "collapsed": true
   },
   "outputs": [],
   "source": [
    "no_respective_alleles_fn = os.path.join(ALLELE_PATH, 'Pst_104E_v12_p_ctg.no_respective_h_contig_overlap.alleles')\n",
    "contig_fa_fn = os.path.join(BASE_A_PATH, 'Pst_104E_v12_ph_ctg.fa')\n",
    "gene_fa_fn = os.path.join(BASE_A_PATH, 'Pst_104E_v12_ph_ctg.anno.gene.fa')\n",
    "OUT_PATH_NO_RES = os.path.join(OUT_PATH, 'no_respect_fasta')\n",
    "if not os.path.exists(OUT_PATH_NO_RES):\n",
    "    os.mkdir(OUT_PATH_NO_RES)"
   ]
  },
  {
   "cell_type": "code",
   "execution_count": null,
   "metadata": {
    "collapsed": true
   },
   "outputs": [],
   "source": [
    "no_respective_alleles_df = pd.read_csv(no_respective_alleles_fn, sep='\\t', header=None, names=['pgene', 'hgene'])"
   ]
  },
  {
   "cell_type": "code",
   "execution_count": null,
   "metadata": {
    "collapsed": true
   },
   "outputs": [],
   "source": [
    "#get the contig genes are on\n",
    "no_respective_alleles_df['pcontig'] = no_respective_alleles_df.pgene.str.extract(r'(p[^.]*)')\n",
    "no_respective_alleles_df['hcontig'] = no_respective_alleles_df.hgene.str.extract(r'(h[^.]*)')"
   ]
  },
  {
   "cell_type": "code",
   "execution_count": null,
   "metadata": {
    "collapsed": true
   },
   "outputs": [],
   "source": [
    "#prepare for filtering on most hit contigs. First by a group by function\n",
    "no_ra_linkage_count_df = no_respective_alleles_df.groupby(['pcontig','hcontig'])['pgene'].count()\n",
    "no_ra_linkage_count_max = no_respective_alleles_df.groupby(['pcontig','hcontig'])['pgene']\\\n",
    "            .count().max(level=0)"
   ]
  },
  {
   "cell_type": "code",
   "execution_count": null,
   "metadata": {
    "collapsed": true
   },
   "outputs": [],
   "source": [
    "no_ra_linkage_count_df = no_ra_linkage_count_df.unstack()"
   ]
  },
  {
   "cell_type": "code",
   "execution_count": null,
   "metadata": {
    "collapsed": true
   },
   "outputs": [],
   "source": [
    "p_contig_list = []\n",
    "most_linked_hcontig = []\n",
    "number_of_hits = []\n",
    "for _index, row in no_ra_linkage_count_df.iterrows():\n",
    "    if row.max() > 2:\n",
    "        p_contig_list.append(_index)\n",
    "        most_linked_hcontig.append(row[row==no_ra_linkage_count_max[_index]].index.tolist()[0])\n",
    "        number_of_hits.append(row[row==no_ra_linkage_count_max[_index]].max())\n",
    "        #print('primary contig %s and %s overlaps %i' %\\\n",
    "              #(_index, row[row==no_ra_linkage_count_max[_index]].index.tolist()[0],row[row==no_ra_linkage_count_max[_index]].max() ))"
   ]
  },
  {
   "cell_type": "code",
   "execution_count": null,
   "metadata": {
    "collapsed": true
   },
   "outputs": [],
   "source": [
    "most_linked_non_ra_alleles_df = pd.concat([pd.Series(p_contig_list)\\\n",
    "                            , pd.Series(most_linked_hcontig), pd.Series(number_of_hits)], axis=1)"
   ]
  },
  {
   "cell_type": "code",
   "execution_count": null,
   "metadata": {
    "collapsed": true
   },
   "outputs": [],
   "source": [
    "most_linked_non_ra_alleles_df.rename(columns={0:'pcontig', 1:'hcontig', 2:'number_of_overlaps'}, inplace=True)"
   ]
  },
  {
   "cell_type": "code",
   "execution_count": null,
   "metadata": {
    "collapsed": true
   },
   "outputs": [],
   "source": [
    "#now loop over the best hit dataframe to get all the fasta sequences of the repective alleles\n",
    "\n",
    "for _index, row in most_linked_non_ra_alleles_df.iterrows():\n",
    "    tmp_p_contig = row['pcontig']\n",
    "    tmp_h_contig = row['hcontig']\n",
    "    h_genes = no_respective_alleles_df[(no_respective_alleles_df.pcontig==tmp_p_contig)&\\\n",
    "                                      (no_respective_alleles_df.hcontig==tmp_h_contig)]\\\n",
    "                                        ['hgene'].unique()\n",
    "    p_genes = no_respective_alleles_df[(no_respective_alleles_df.pcontig==tmp_p_contig)&\\\n",
    "                                      (no_respective_alleles_df.hcontig==tmp_h_contig)]\\\n",
    "                                        ['pgene'].unique()\n",
    "    #get the h_gene and p_gene sequenes\n",
    "    h_gene_seq = return_gene_fasta(h_genes, gene_fa_fn)\n",
    "    p_gene_seq = return_gene_fasta(p_genes, gene_fa_fn)\n",
    "    with open(os.path.join(OUT_PATH_NO_RES, 'no_res_allele_%s_pgene.fa' %tmp_p_contig), 'w') as fh:\n",
    "        SeqIO.write(p_gene_seq, fh, 'fasta')\n",
    "    with open(os.path.join(OUT_PATH_NO_RES, 'no_res_allele_%s_hgene.fa' %tmp_p_contig), 'w') as fh:\n",
    "        SeqIO.write(h_gene_seq, fh, 'fasta')\n",
    "    #get the contig sequences\n",
    "    p_contig_seq = return_contig_fasta([tmp_p_contig], contig_fa_fn)\n",
    "    h_contig_seq = return_contig_fasta([tmp_h_contig], contig_fa_fn)\n",
    "    with open(os.path.join(OUT_PATH_NO_RES, 'no_res_allele_%s_pcontig.fa' %tmp_p_contig), 'w') as fh:\n",
    "        SeqIO.write(p_contig_seq, fh, 'fasta')\n",
    "    with open(os.path.join(OUT_PATH_NO_RES, 'no_res_allele_%s_hcontig.fa' %tmp_p_contig), 'w') as fh:\n",
    "        SeqIO.write(h_contig_seq, fh, 'fasta')\n",
    "\n",
    "    \n",
    "    "
   ]
  },
  {
   "cell_type": "code",
   "execution_count": null,
   "metadata": {
    "collapsed": true
   },
   "outputs": [],
   "source": [
    "#add quick mummerplots\n",
    "os.chdir(OUT_PATH_NO_RES)\n",
    "for _index, row in most_linked_non_ra_alleles_df.iterrows():\n",
    "    tmp_p_contig = row['pcontig']\n",
    "    tmp_h_contig = row['hcontig']\n",
    "    ref = os.path.join(OUT_PATH_NO_RES, 'no_res_allele_%s_pcontig.fa' %tmp_p_contig)\n",
    "    query = os.path.join(OUT_PATH_NO_RES, 'no_res_allele_%s_hcontig.fa' %tmp_p_contig)\n",
    "    nucmer = '/home/benjamin/anaconda3/bin/nucmer'\n",
    "    !nucmer --maxgap=500 --mincluster=100 --prefix={ref[:-3]} {ref} {query}\n",
    "    !show-coords -r {ref[:-3]}.delta > {ref[:-3]}.coords\n",
    "    !delta-filter -q -r {ref[:-3]}.delta > {ref[:-3]}.filter\n",
    "    !perl /home/benjamin/anaconda3/bin/mummerplot --postscript {ref[:-3]}.filter -R {ref} -Q {query} --prefix={ref[:-3]}"
   ]
  },
  {
   "cell_type": "code",
   "execution_count": null,
   "metadata": {
    "collapsed": true
   },
   "outputs": [],
   "source": [
    "!which nucmer"
   ]
  },
  {
   "cell_type": "code",
   "execution_count": null,
   "metadata": {
    "collapsed": true
   },
   "outputs": [],
   "source": [
    "most_linked_non_ra_alleles_df.sort_values('number_of_overlaps', inplace=True)\n",
    "most_linked_non_ra_alleles_df.to_csv(os.path.join(OUT_PATH_NO_RES, 'max_linkage_per_pcontig.tab'), sep='\\t')"
   ]
  },
  {
   "cell_type": "code",
   "execution_count": null,
   "metadata": {
    "collapsed": true
   },
   "outputs": [],
   "source": [
    "#check out the lenght of those contigs\n",
    "c_list = return_contig_fasta(most_linked_non_ra_alleles_df.pcontig.unique(), contig_fa_fn)"
   ]
  },
  {
   "cell_type": "code",
   "execution_count": null,
   "metadata": {
    "collapsed": true
   },
   "outputs": [],
   "source": [
    "c_len_list = [len(x.seq) for x in c_list]\n",
    "all_len_list = [len(x.seq) for x in return_contig_fasta(allele_blast_df.q_contig.unique(), contig_fa_fn)]"
   ]
  },
  {
   "cell_type": "code",
   "execution_count": null,
   "metadata": {
    "collapsed": true
   },
   "outputs": [],
   "source": [
    "stats.ranksums(c_len_list, all_len_list)"
   ]
  },
  {
   "cell_type": "code",
   "execution_count": null,
   "metadata": {
    "collapsed": true
   },
   "outputs": [],
   "source": [
    "#mean and median of contigs with 2> linkages to another haplotig\n",
    "print(np.mean(c_len_list),np.median(c_len_list))"
   ]
  },
  {
   "cell_type": "code",
   "execution_count": null,
   "metadata": {
    "collapsed": true
   },
   "outputs": [],
   "source": [
    "#mean and median of contigs with 2> linkages to another haplotig\n",
    "print(np.mean(all_len_list),np.median(all_len_list))"
   ]
  },
  {
   "cell_type": "code",
   "execution_count": null,
   "metadata": {
    "collapsed": true
   },
   "outputs": [],
   "source": [
    "most_linked_non_ra_alleles_df.number_of_overlaps.sum()"
   ]
  },
  {
   "cell_type": "code",
   "execution_count": null,
   "metadata": {
    "collapsed": true
   },
   "outputs": [],
   "source": [
    "no_ra_linkage_count_df.sum(axis=1).index"
   ]
  },
  {
   "cell_type": "code",
   "execution_count": null,
   "metadata": {
    "collapsed": true
   },
   "outputs": [],
   "source": [
    "no_ra_linkage_count_df.sum(axis=1)/\\\n",
    "[len(x.seq) for x in return_contig_fasta(no_ra_linkage_count_df.sum(axis=1).index, contig_fa_fn)]"
   ]
  },
  {
   "cell_type": "code",
   "execution_count": null,
   "metadata": {
    "collapsed": true
   },
   "outputs": [],
   "source": [
    "!ls {BASE_A_PATH}"
   ]
  },
  {
   "cell_type": "code",
   "execution_count": null,
   "metadata": {
    "collapsed": true
   },
   "outputs": [],
   "source": []
  },
  {
   "cell_type": "code",
   "execution_count": null,
   "metadata": {
    "collapsed": true
   },
   "outputs": [],
   "source": []
  },
  {
   "cell_type": "code",
   "execution_count": null,
   "metadata": {
    "collapsed": true
   },
   "outputs": [],
   "source": []
  },
  {
   "cell_type": "code",
   "execution_count": null,
   "metadata": {
    "collapsed": true
   },
   "outputs": [],
   "source": []
  },
  {
   "cell_type": "code",
   "execution_count": null,
   "metadata": {
    "collapsed": true
   },
   "outputs": [],
   "source": []
  },
  {
   "cell_type": "code",
   "execution_count": null,
   "metadata": {
    "collapsed": true
   },
   "outputs": [],
   "source": [
    "len(tmp_df_ids)"
   ]
  },
  {
   "cell_type": "code",
   "execution_count": null,
   "metadata": {
    "collapsed": true
   },
   "outputs": [],
   "source": [
    "tmp_df.QCov"
   ]
  },
  {
   "cell_type": "code",
   "execution_count": null,
   "metadata": {
    "collapsed": true
   },
   "outputs": [],
   "source": [
    "QP_filter = (allele_QC_df.QCov >= QCov_limit) & (allele_QC_df.PctID >= PctID_limit)"
   ]
  },
  {
   "cell_type": "code",
   "execution_count": null,
   "metadata": {
    "collapsed": true
   },
   "outputs": [],
   "source": []
  },
  {
   "cell_type": "code",
   "execution_count": null,
   "metadata": {
    "collapsed": true
   },
   "outputs": [],
   "source": [
    "#now a bit more specific for each haplotyp\n",
    "os.chdir(ALLELE_QC_PATH)\n",
    "allele_blast_df.head()"
   ]
  },
  {
   "cell_type": "code",
   "execution_count": null,
   "metadata": {
    "collapsed": true
   },
   "outputs": [],
   "source": []
  }
 ],
 "metadata": {
  "kernelspec": {
   "display_name": "Python 3",
   "language": "python",
   "name": "python3"
  },
  "language_info": {
   "codemirror_mode": {
    "name": "ipython",
    "version": 3
   },
   "file_extension": ".py",
   "mimetype": "text/x-python",
   "name": "python",
   "nbconvert_exporter": "python",
   "pygments_lexer": "ipython3",
   "version": "3.5.3"
  }
 },
 "nbformat": 4,
 "nbformat_minor": 2
}
