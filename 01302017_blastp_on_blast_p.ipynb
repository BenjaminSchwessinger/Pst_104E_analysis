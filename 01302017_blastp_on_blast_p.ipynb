{
 "cells": [
  {
   "cell_type": "code",
   "execution_count": 22,
   "metadata": {
    "collapsed": false
   },
   "outputs": [
    {
     "name": "stdout",
     "output_type": "stream",
     "text": [
      "['Pst_E104_v1_h_ctg.anno.RepaseTPSI_filtered.protein.h_on_p.blast.alloutfmt6', 'Pst_E104_v1_p_ctg.anno.RepaseTPSI_filtered.protein.p_on_h.blast.alloutfmt6']\n",
      "['Pst_E104_v1_h_ctg.anno.RepaseTPSI_filtered.protein.fa', 'Pst_E104_v1_p_ctg.anno.RepaseTPSI_filtered.protein.fa']\n"
     ]
    },
    {
     "data": {
      "text/plain": [
       "True"
      ]
     },
     "execution_count": 22,
     "metadata": {},
     "output_type": "execute_result"
    }
   ],
   "source": [
    "import pandas as pd\n",
    "import os\n",
    "import re\n",
    "from Bio import SeqIO\n",
    "\n",
    "os.chdir('/home/benjamin/genome_assembly/PST79/FALCON/p_assemblies/v9_1/Pst_E104_v1/blastp_on_p')\n",
    "\"\"\"\n",
    "Run on command line the following.\n",
    "blastp -query Pst_E104_v1_p_ctg.anno.RepaseTPSI_filtered.protein.fa -db Pst_E104_v1_h_ctg.anno.RepaseTPSI_filtered.protein.fa  -outfmt 6 -evalue 1e-5 -num_threads 6 > Pst_E104_v1_p_ctg.anno.RepaseTPSI_filtered.protein.p_on_h.blast.alloutfmt6 &\n",
    "blastp -query Pst_E104_v1_h_ctg.anno.RepaseTPSI_filtered.protein.fa  -db Pst_E104_v1_p_ctg.anno.RepaseTPSI_filtered.protein.fa  -outfmt 6 -evalue 1e-5 -num_threads 6 > Pst_E104_v1_h_ctg.anno.RepaseTPSI_filtered.protein.h_on_p.blast.alloutfmt6&\n",
    "\"\"\"\n",
    "\n",
    "os.listdir()\n",
    "hit_df =''\n",
    "files = os.listdir()\n",
    "outfmt6 = [x for x in files if x.endswith('blast.alloutfmt6') and 'anno' in x]\n",
    "outfmt6.sort()\n",
    "print(outfmt6)\n",
    "fa_files = [x for x in files if x.endswith('RepaseTPSI_filtered.protein.fa')]\n",
    "fa_files.sort()\n",
    "print(fa_files)\n",
    "\n",
    "#The next block should pull in both the initial protein and the blast df.\n",
    "#The initial protein should become a dataframe that contains proteins sequence name and length.\n",
    "#This df should be merged with the blast df in a way that proteins without hit should get NA values. \n",
    "#Once this is done make two arrays with [p, h], sort this and compare, pull out everything that is identical, and lable it with a new column reverse blast Yes/No.\n",
    "#Pull out YES and see if they are enriched/depelted in something. NOs need to be checked for high coverage in ph vs h/p mapping and levels of heterozycosity + h on p mapping mappings. \n",
    "\n",
    "#read in protein ids for p and h contigs and store names in a list in a dict with unique key id [first part of\n",
    "#file name].\n",
    "fa_protein_dict = {}\n",
    "fa_protein_length_dict = {}\n",
    "for file in fa_files:\n",
    "    seq_list = []\n",
    "    length_list =[]\n",
    "    for seq in SeqIO.parse(open(file), 'fasta'):\n",
    "        seq_list.append(seq.id)\n",
    "        length_list.append(len(seq.seq))\n",
    "    key_name = file.split('.')[0]\n",
    "    fa_protein_dict[key_name] = seq_list\n",
    "    fa_protein_length_dict[key_name] = dict(zip(seq_list, length_list))\n",
    "\n",
    "#generate df dict of blast output and filter blast output\n",
    "header = ['Query', 'Target', 'PctID', 'AlnLgth', 'NumMis', 'NumGap', 'StartQuery', 'StopQuery', 'StartTarget',\\\n",
    "              'StopTarget', 'e-value','BitScore']\n",
    "outfmt6_dict ={} #contains the filtered values\n",
    "outfmt6_dict_all = {} #contains the unfiltered blast hits e.g. low % identity and low query coverage\n",
    "#match_dict = {} #get best hits in match_dict[p_protein] = h_protein\n",
    "hit_df = pd.DataFrame(columns=['p_protein', 'h_protein'])\n",
    "for outfile in outfmt6:\n",
    "    key_name =  outfile.split('.')[0]\n",
    "    df = ''\n",
    "    df = pd.read_csv(outfile, header = None, names = header, sep='\\t')\n",
    "    #add the query length using to the df using the length dict generated before\n",
    "    df[\"QLgth\"] = df[\"Query\"].apply(lambda x: fa_protein_length_dict[key_name][x]) \n",
    "    df[\"QCov\"] = df['AlnLgth']/df['QLgth']*100 #calculate the % coverage for each querry\n",
    "    outfmt6_dict_all[key_name] = df\n",
    "    df = df[(df['QCov'] > 30) & (df['PctID'] > 50) ] #define paralogous as Query coverage > 30% and PctID > 50\n",
    "    #this could be more dynamic and the outfmt of blast AlnLngthPct and they greater than 60%\n",
    "    groups = df.groupby(by='Query')\n",
    "    #now filter the dataframe by the smallest e-value for each group == Query\n",
    "    df_filtered = groups.apply(lambda g: g[g['e-value'] == g['e-value'].min()]) \n",
    "    df_filtered = df_filtered.reset_index(drop=True)\n",
    "    #in case there is a blast query that hits the same subject twice with the same minimal e-value\n",
    "    df_filtered = df_filtered.drop_duplicates(subset=['Query', 'Target'], keep ='last')\n",
    "    outfmt6_dict[key_name] = df_filtered\n",
    "    if 'p_ctg' in key_name:\n",
    "        df_filtered['h_protein'] = df_filtered['Target']\n",
    "        df_filtered['p_protein'] = df_filtered['Query']\n",
    "    if 'h_ctg' in key_name:\n",
    "        df_filtered['h_protein'] = df_filtered['Query']\n",
    "        df_filtered['p_protein'] = df_filtered['Target']\n",
    "    hit_df = pd.concat([hit_df, df_filtered.loc[:, ['p_protein', 'h_protein']]])\n",
    "\n",
    "#duplicates are besties as they are entered twice from both outfmt\n",
    "\n",
    "bestie_df = hit_df[hit_df.duplicated(keep='first')]\n",
    "\n",
    "bestie_df.to_csv(list(outfmt6_dict.keys())[0][:-6] + '.besties.txt', sep='\\t', header=None, index=None)\n",
    "bestie_df['p_protein'].to_csv(list(outfmt6_dict.keys())[0] + '.besties.txt', sep='\\t', header=None, index=None)\n",
    "bestie_df['h_protein'].to_csv(list(outfmt6_dict.keys())[1] + '.besties.txt', sep='\\t', header=None, index=None)\n",
    "\n",
    "\n",
    "#this is pulling out the no blast hits at all. Should be a subset of no_besties\n",
    "no_hits ={}\n",
    "for key in fa_protein_dict.keys():\n",
    "    if 'p_' in key:\n",
    "        no_hits[key] = set(fa_protein_dict[key]) - set(outfmt6_dict_all[key]['Query'].unique())\n",
    "        pd.DataFrame(list(no_hits[key])).to_csv(key + '.p_proteins.no_blast_hit.txt', sep='\\t', header=None, index=None)\n",
    "    if 'h_' in key:\n",
    "        no_hits[key] = set(fa_protein_dict[key]) - set(outfmt6_dict_all[key]['Query'].unique())\n",
    "        pd.DataFrame(list(no_hits[key])).to_csv(key + '.h_proteins.no_blast_hit.txt', sep='\\t', header=None, index=None)\n",
    "\n",
    "no_hits_filtered ={}\n",
    "for key in fa_protein_dict.keys():\n",
    "    if 'p_' in key:\n",
    "        no_hits_filtered[key] = set(fa_protein_dict[key]) - set(outfmt6_dict[key]['Query'].unique())\n",
    "        pd.DataFrame(list(no_hits_filtered[key])).to_csv(key + '.p_proteins.no_filtered_blast_hit.txt', sep='\\t', header=None, index=None)\n",
    "    if 'h_' in key:\n",
    "        no_hits_filtered[key] = set(fa_protein_dict[key]) - set(outfmt6_dict[key]['Query'].unique())\n",
    "        pd.DataFrame(list(no_hits_filtered[key])).to_csv(key + '.h_proteins.no_filtered_blast_hit.txt', sep='\\t', header=None, index=None)\n",
    "        \n",
    "\n",
    "#this is now pulling out the besties\n",
    "no_bestie ={}\n",
    "for key in fa_protein_dict.keys():\n",
    "    if 'p_' in key:\n",
    "        no_bestie[key] = set(fa_protein_dict[key]) - set(bestie_df['p_protein'])\n",
    "        pd.DataFrame(list(no_bestie[key])).to_csv(key + '.p_proteins.no_besties.txt', sep='\\t', header=None, index=None)\n",
    "    if 'h_' in key:\n",
    "        no_bestie[key] = set(fa_protein_dict[key]) - set(bestie_df['h_protein'])\n",
    "        pd.DataFrame(list(no_bestie[key])).to_csv(key + '.h_proteins.no_besties.txt', sep='\\t', header=None, index=None)        \n",
    "        \n",
    "_len_out = 0\n",
    "_len_pro = 0\n",
    "for x in fa_protein_dict.keys():\n",
    "    _len_pro += len(fa_protein_dict[x])\n",
    "    _len_out += len(no_bestie[x])\n",
    "_len_out += (len(bestie_df))*2 - bestie_df.duplicated(subset=\"p_protein\", keep='last').sum() \\\n",
    "- bestie_df.duplicated(subset=\"h_protein\", keep='last').sum()\n",
    "_len_out == _len_pro\n"
   ]
  },
  {
   "cell_type": "code",
   "execution_count": 23,
   "metadata": {
    "collapsed": false
   },
   "outputs": [
    {
     "name": "stdout",
     "output_type": "stream",
     "text": [
      "Out of 14321 2496 have no reciprocal blast hit for Pst_E104_v1_h_ctg making it 17.43 percent.\n",
      "Out of 14321 333 have no blast hit at all for Pst_E104_v1_h_ctg making it 2.33 percent.\n",
      "Out of 14321 542 have no blast hit after filtering by AlnLght and QCov for Pst_E104_v1_h_ctg making it 3.78 percent.\n",
      "Out of 15930 4261 have no reciprocal blast hit for Pst_E104_v1_p_ctg making it 26.75 percent.\n",
      "Out of 15930 1236 have no blast hit at all for Pst_E104_v1_p_ctg making it 7.76 percent.\n",
      "Out of 15930 2134 have no blast hit after filtering by AlnLght and QCov for Pst_E104_v1_p_ctg making it 13.40 percent.\n"
     ]
    },
    {
     "data": {
      "text/plain": [
       "True"
      ]
     },
     "execution_count": 23,
     "metadata": {},
     "output_type": "execute_result"
    }
   ],
   "source": [
    "_len_out = 0\n",
    "_len_pro = 0\n",
    "for x in fa_protein_dict.keys():\n",
    "    _len_pro += len(fa_protein_dict[x])\n",
    "    _len_out += len(no_bestie[x])\n",
    "    print(\"Out of %i %i have no reciprocal blast hit for %s making it %.2f percent.\"%(len(fa_protein_dict[x]),len(no_bestie[x]),x, (len(no_bestie[x])/len(fa_protein_dict[x])*100) ))\n",
    "    print(\"Out of %i %i have no blast hit at all for %s making it %.2f percent.\"%(len(fa_protein_dict[x]),len(no_hits[x]),x, (len(no_hits[x])/len(fa_protein_dict[x])*100) ))\n",
    "    print(\"Out of %i %i have no blast hit after filtering by AlnLght and QCov for %s making it %.2f percent.\"%(len(fa_protein_dict[x]),len(no_hits_filtered[x]),x, (len(no_hits_filtered[x])/len(fa_protein_dict[x])*100) ))\n",
    "_len_out += (len(bestie_df))*2 - bestie_df.duplicated(subset=\"p_protein\", keep='last').sum() \\\n",
    "- bestie_df.duplicated(subset=\"h_protein\", keep='last').sum()\n",
    "_len_out == _len_pro"
   ]
  },
  {
   "cell_type": "raw",
   "metadata": {
    "collapsed": true
   },
   "source": [
    "#now pull gene sequences for no-besties and do blast on the corresponding other haplotype\n",
    "#gene files were generated by \n",
    "cat Pst_E104_v1_p_ctg.anno.RepaseTPSI_filtered.gff3 | awk '$3==\"gene\"' > Pst_E104_v1_p_ctg.gene.RepaseTPSI_filtered.gff3\n",
    "for gff in gene_gff:\n",
    "    gene = ''\n",
    "    gene_df = pd.read_csv(folder + gff, header = None, sep='\\t' )\n",
    "    gene_df[2] = gene_df[8].apply(col_8_id)\n",
    "    gene_df.to_csv(folder+gff, header=None, sep='\\t', index=None)\n",
    "bedtools getfasta -s -name -fi Pst_E104_v1_ph_ctg.fa -bed Pst_E104_v1_ph_ctg.gene.RepaseTPSI_filtered.gff3 -fo Pst_E104_v1_ph_ctg.gene.RepaseTPSI_filtered.fa"
   ]
  },
  {
   "cell_type": "code",
   "execution_count": 24,
   "metadata": {
    "collapsed": true
   },
   "outputs": [],
   "source": [
    "def blast_outfmt6_to_bed(x):\n",
    "    blast_fo = open(x, 'r')\n",
    "    blast_lines = blast_fo.readlines()\n",
    "    bed_file_name = x + '.bed'\n",
    "    bed_fo = open(bed_file_name, 'w+')\n",
    "    for l in blast_lines:\n",
    "        content = l.split('\\t')\n",
    "        if int(content[8]) - int(content[9]) < 1:\n",
    "            print(content[1], int(content[8]) -1, content[9], content[0], content[10], \"+\", sep=\"\\t\", file=bed_fo) \n",
    "        else:\n",
    "            print(content[1], int(content[9]) -1, content[8],  content[0], content[10], \"-\", sep = \"\\t\", file=bed_fo)\n",
    "    blast_fo.close()\n",
    "    bed_fo.close()"
   ]
  },
  {
   "cell_type": "code",
   "execution_count": 25,
   "metadata": {
    "collapsed": false
   },
   "outputs": [
    {
     "name": "stdout",
     "output_type": "stream",
     "text": [
      "blastn -db Pst_E104_v1_p_ctg.fa -query -Pst_E104_v1_h_ctg.h_genes.no_besties.fa > Pst_E104_v1_h_ctg.h_genes.no_besties.fa.outfmt6\n",
      "blastn -db Pst_E104_v1_h_ctg.fa -query -Pst_E104_v1_p_ctg.p_genes.no_besties.fa > Pst_E104_v1_p_ctg.p_genes.no_besties.fa.outfmt6\n"
     ]
    }
   ],
   "source": [
    "from Bio import SeqIO\n",
    "import os\n",
    "import pandas as pd\n",
    "import re\n",
    "\n",
    "folder_p = '/home/benjamin/genome_assembly/PST79/FALCON/p_assemblies/v9_1/Pst_E104_v1/blastp_on_p/'\n",
    "\n",
    "no_besties = [x for x in os.listdir(folder_p) if x.endswith('no_besties.txt')]\n",
    "gene_files = [x for x in os.listdir(folder_p) if '.gene.' in x and '.fa' in x]\n",
    "no_besties.sort()\n",
    "gene_files.sort()\n",
    "no_bestie_dict = {}\n",
    "\n",
    "#simply pulls in the gene sequences of missing besties\n",
    "for no_b, gene_file in zip(no_besties, gene_files):\n",
    "    no_bestie_list = pd.read_csv(folder_p+no_b, header=None, sep='\\t')[0].tolist()\n",
    "    key = no_b.split('.')[0]\n",
    "    no_bestie_dict[key] = no_bestie_list\n",
    "    no_bestie_list = [x.replace('evm.model', 'evm.TU') for x in no_bestie_list]\n",
    "    no_bestie_seq = []\n",
    "    for seq in SeqIO.parse(open(folder_p + gene_file), 'fasta'):\n",
    "        if seq.id in no_bestie_list:\n",
    "            no_bestie_seq.append(seq)\n",
    "    out_f = folder_p + no_b[:-3].replace('protein', 'gene') + 'fa'\n",
    "    f_handle = open(out_f,'w') #need to generate handle for writing and\n",
    "    SeqIO.write(no_bestie_seq, f_handle, 'fasta')\n",
    "    f_handle.close() #closing file afterwards again\n",
    "\n",
    "gene_files_no_besties = [x for x in os.listdir(folder_p) if x.endswith('_genes.no_besties.fa')]\n",
    "blast_db_nt = [x for x in os.listdir(folder_p) if x.endswith('_ctg.fa')]\n",
    "gene_files_no_besties.sort()\n",
    "blast_db_nt.sort()\n",
    "\n",
    "os.chdir(folder_p)\n",
    "\n",
    "print('blastn -db %s -query -%s > %s.outfmt6' %(blast_db_nt[1], gene_files_no_besties[0],gene_files_no_besties[0]))\n",
    "!blastn -db {blast_db_nt[1]} -query {gene_files_no_besties[0]}  -outfmt 6 -evalue 1e-10 -num_threads 1 \\\n",
    "> {gene_files_no_besties[0]}.outfmt6\n",
    "\n",
    "\n",
    "in_file =gene_files_no_besties[0]+'.outfmt6'\n",
    "blast_outfmt6_to_bed(in_file)\n",
    "\n",
    "print('blastn -db %s -query -%s > %s.outfmt6' %(blast_db_nt[0], gene_files_no_besties[1],gene_files_no_besties[1]))\n",
    "!blastn -db {blast_db_nt[0]} -query {gene_files_no_besties[1]}  -outfmt 6 -evalue 1e-10 -num_threads 1 \\\n",
    "> {gene_files_no_besties[1]}.outfmt6\n",
    "\n",
    "\n",
    "in_file =gene_files_no_besties[1]+'.outfmt6'\n",
    "blast_outfmt6_to_bed(in_file)"
   ]
  },
  {
   "cell_type": "code",
   "execution_count": 26,
   "metadata": {
    "collapsed": false
   },
   "outputs": [
    {
     "name": "stdout",
     "output_type": "stream",
     "text": [
      "blastn -db Pst_E104_v1_p_ctg.fa -query -Pst_E104_v1_h_ctg.h_genes.no_filtered_blast_hit.fa > Pst_E104_v1_h_ctg.h_genes.no_filtered_blast_hit.fa.outfmt6\n",
      "blastn -db Pst_E104_v1_h_ctg.fa -query -Pst_E104_v1_p_ctg.p_genes.no_filtered_blast_hit.fa > Pst_E104_v1_p_ctg.p_genes.no_filtered_blast_hit.fa.outfmt6\n"
     ]
    }
   ],
   "source": [
    "#blast no_filtered_blast_hits genes against opposite haplotyp\n",
    "folder_p = '/home/benjamin/genome_assembly/PST79/FALCON/p_assemblies/v9_1/Pst_E104_v1/blastp_on_p/'\n",
    "\n",
    "no_filtered_blast = [x for x in os.listdir(folder_p) if x.endswith('no_filtered_blast_hit.txt')]\n",
    "gene_files = [x for x in os.listdir(folder_p) if '.gene.' in x and '.fa' in x]\n",
    "no_filtered_blast.sort()\n",
    "gene_files.sort()\n",
    "no_filtered_blast_dict = {}\n",
    "\n",
    "#simply pulls in the gene sequences of missing besties\n",
    "for no_b, gene_file in zip(no_filtered_blast, gene_files):\n",
    "    no_filtered_blast_list = pd.read_csv(folder_p+no_b, header=None, sep='\\t')[0].tolist()\n",
    "    key = no_b.split('.')[0]\n",
    "    no_filtered_blast_dict[key] = no_filtered_blast_list\n",
    "    no_filtered_blast_list = [x.replace('evm.model', 'evm.TU') for x in no_filtered_blast_list]\n",
    "    no_filtered_blast_seq = []\n",
    "    for seq in SeqIO.parse(open(folder_p + gene_file), 'fasta'):\n",
    "        if seq.id in no_filtered_blast_list:\n",
    "            no_filtered_blast_seq.append(seq)\n",
    "    out_f = folder_p + no_b[:-3].replace('protein', 'gene') + 'fa'\n",
    "    f_handle = open(out_f,'w') #need to generate handle for writing and\n",
    "    SeqIO.write(no_bestie_seq, f_handle, 'fasta')\n",
    "    f_handle.close() #closing file afterwards again\n",
    "\n",
    "gene_files_no_filtered_blast = [x for x in os.listdir(folder_p) if x.endswith('_genes.no_filtered_blast_hit.fa')]\n",
    "blast_db_nt = [x for x in os.listdir(folder_p) if x.endswith('_ctg.fa')]\n",
    "gene_files_no_filtered_blast.sort()\n",
    "blast_db_nt.sort()\n",
    "\n",
    "os.chdir(folder_p)\n",
    "\n",
    "print('blastn -db %s -query -%s > %s.outfmt6' %(blast_db_nt[1], gene_files_no_filtered_blast[0],gene_files_no_filtered_blast[0]))\n",
    "!blastn -db {blast_db_nt[1]} -query {gene_files_no_filtered_blast[0]}  -outfmt 6 -evalue 1e-10 -num_threads 1 \\\n",
    "> {gene_files_no_filtered_blast[0]}.outfmt6\n",
    "\n",
    "\n",
    "in_file =gene_files_no_filtered_blast[0]+'.outfmt6'\n",
    "blast_outfmt6_to_bed(in_file)\n",
    "\n",
    "print('blastn -db %s -query -%s > %s.outfmt6' %(blast_db_nt[0], gene_files_no_filtered_blast[1],gene_files_no_filtered_blast[1]))\n",
    "!blastn -db {blast_db_nt[0]} -query {gene_files_no_filtered_blast[1]}  -outfmt 6 -evalue 1e-10 -num_threads 1 \\\n",
    "> {gene_files_no_filtered_blast[1]}.outfmt6\n",
    "\n",
    "\n",
    "in_file =gene_files_no_filtered_blast[1]+'.outfmt6'\n",
    "blast_outfmt6_to_bed(in_file)"
   ]
  },
  {
   "cell_type": "raw",
   "metadata": {},
   "source": [
    "Now read in the bed files as dataframe sort by e-value, pick the best e-value and the best hit on corresponding corresponding contig. Make two dictionaries with the same keys. One for the protein sequence and one for best blast hits. For the later make the value a list of file ids for the blast hits. Make a new folder for exonerate with subfolders for each no_filtered_blast hit. Save all the sequence files in this folders. Write a bash script that goes throught these folders and exectues exonerate for each of them. "
   ]
  },
  {
   "cell_type": "code",
   "execution_count": 30,
   "metadata": {
    "collapsed": false
   },
   "outputs": [
    {
     "name": "stdout",
     "output_type": "stream",
     "text": [
      "This 2047 out of 2496 no_besties of Pst_E104_v1_h_ctg had a blast hit which was not RBH\n",
      "This 170 out of 2496 no_besties of Pst_E104_v1_h_ctg have no blast hit gene vs. other haplome\n",
      "No gene hits that have a protein hit 116 Pst_E104_v1_h_ctg\n",
      "This 2158 out of 4261 no_besties of Pst_E104_v1_p_ctg had a blast hit which was not RBH\n",
      "This 1693 out of 4261 no_besties of Pst_E104_v1_p_ctg have no blast hit gene vs. other haplome\n",
      "No gene hits that have a protein hit 867 Pst_E104_v1_p_ctg\n"
     ]
    }
   ],
   "source": [
    "#this needs to include some folder tracking of gene.no_besties.fa that hits nothing significant \n",
    "#no_bbb in - no_bbb out = no_hits at all\n",
    "no_gene_hits = {}\n",
    "no_besties_blast_nt_bed = [x for x in os.listdir() if x.endswith('no_besties.fa.outfmt6.bed')]\n",
    "no_besties_blast_nt_bed.sort()\n",
    "for no_bbb, protein_blast in zip(no_besties_blast_nt_bed,outfmt6):\n",
    "    no_bbb_no_protein_blast_df =''\n",
    "    no_bbb_df_header = ['Contig', 'start', 'end', 'blast_query', 'e-value', 'strand']\n",
    "    no_bbb_df = pd.read_csv(folder_p+no_bbb, header=None, names=no_bbb_df_header,  sep='\\t')\n",
    "    protein_blast_df = pd.read_csv(folder_p+protein_blast, header=None, sep='\\t')\n",
    "    no_bbb_df['protein_id'] = no_bbb_df['blast_query'].str.replace('evm.TU', 'evm.model')\n",
    "    #this below is most likely correct ignores the fact that some no_bbb genes might have hit nothing\n",
    "    #at all on the gene level\n",
    "    no_bbb_no_protein_blast_df = no_bbb_df[~no_bbb_df['protein_id'].isin(protein_blast_df[0])]\n",
    "    #these are the no_besties that didn't hit anything at the gene level\n",
    "    key =''\n",
    "    key = no_bbb.split('.')[0]\n",
    "    no_gene_hits[key] = set(no_bestie_dict[key]) - set(no_bbb_df['protein_id'].unique())\n",
    "    pd.DataFrame(list(no_gene_hits[key])).to_csv(key + '.gene.no_genome_blast_hit.txt', sep='\\t', header=None, index=None)\n",
    "    blast_p_no_bestie =''\n",
    "    blast_p_no_bestie = len(no_bbb_df[no_bbb_df['protein_id'].isin(protein_blast_df[0])]['blast_query'].unique())\n",
    "    print('This %i out of %i no_besties of %s had a blast hit which was not RBH' % \\\n",
    "          (blast_p_no_bestie, len(no_bestie_dict[key]),no_bbb.split('.')[0]))\n",
    "    print('This %i out of %i no_besties of %s have no blast hit gene vs. other haplome' % \\\n",
    "         (len(no_gene_hits[key]),len(no_bestie_dict[key]),no_bbb.split('.')[0]))\n",
    "    print(\"No gene hits that have a protein hit\", len(set(no_gene_hits[key])- set(no_hits[key])), key)\n",
    "    groups = no_bbb_no_protein_blast_df.groupby(by='blast_query')\n",
    "    #now filter the dataframe by the smallest e-value for each group == blast_hit\n",
    "    df_filtered = groups.apply(lambda g: g[g['e-value'] == g['e-value'].min()])\n",
    "    df_filtered = df_filtered.reset_index(drop=True)\n",
    "    df_filtered.iloc[:,0:6].to_csv(folder_p+no_bbb[:-4]+'.filteredbesthits.bed', sep='\\t', header=None, index=None)"
   ]
  },
  {
   "cell_type": "code",
   "execution_count": 31,
   "metadata": {
    "collapsed": true
   },
   "outputs": [],
   "source": [
    "#all primary proteins no hit need to be split up into pwh and pwoh\n",
    "p_contig_list = []\n",
    "h_contig_list = []\n",
    "for seq in SeqIO.parse('Pst_E104_v1_h_ctg.fa', 'fasta'):\n",
    "    h_contig_list.append(seq.id)\n",
    "for seq in SeqIO.parse('Pst_E104_v1_p_ctg.fa', 'fasta'):\n",
    "    p_contig_list.append(seq.id)"
   ]
  },
  {
   "cell_type": "code",
   "execution_count": 32,
   "metadata": {
    "collapsed": false
   },
   "outputs": [
    {
     "name": "stdout",
     "output_type": "stream",
     "text": [
      "P_contigs with h_contig are 102 and without 74\n"
     ]
    }
   ],
   "source": [
    "pwh_set = set([x[0:11].replace('h','p') for x in h_contig_list])\n",
    "pwoh_set = set(p_contig_list) - pwh_set\n",
    "print(\"P_contigs with h_contig are %i and without %i\" % (len(pwh_set), len(pwoh_set)))"
   ]
  },
  {
   "cell_type": "code",
   "execution_count": 33,
   "metadata": {
    "collapsed": true
   },
   "outputs": [],
   "source": [
    "def pwh_filter (x):\n",
    "    p_contig = x.split('.')[2]\n",
    "    if p_contig in pwh_set:\n",
    "        return 1\n",
    "    else:\n",
    "        return 0"
   ]
  },
  {
   "cell_type": "code",
   "execution_count": 35,
   "metadata": {
    "collapsed": false
   },
   "outputs": [
    {
     "name": "stdout",
     "output_type": "stream",
     "text": [
      "15303 627 15930\n"
     ]
    }
   ],
   "source": [
    "fa_protein_dict['Pst_E104_v1_p_ctg_pwh']= [x for x in fa_protein_dict['Pst_E104_v1_p_ctg'] if x.split('.')[2] in pwh_set]\n",
    "fa_protein_dict['Pst_E104_v1_p_ctg_pwoh']= [x for x in fa_protein_dict['Pst_E104_v1_p_ctg'] if x.split('.')[2] in pwoh_set]\n",
    "print(len(fa_protein_dict['Pst_E104_v1_p_ctg_pwh']), len(fa_protein_dict['Pst_E104_v1_p_ctg_pwoh']), len (fa_protein_dict['Pst_E104_v1_p_ctg']))\n",
    "\n",
    "p_txt = [x for x in os.listdir(folder_p) if x.split('.')[0] == 'Pst_E104_v1_p_ctg' and x.endswith('.txt')]"
   ]
  },
  {
   "cell_type": "code",
   "execution_count": 36,
   "metadata": {
    "collapsed": false
   },
   "outputs": [
    {
     "name": "stdout",
     "output_type": "stream",
     "text": [
      "For pwh:\n",
      "For this condition Pst_E104_v1_p_ctg.gene.no_genome_blast_hit.txt 1443 proteins out of 15303 (9.43) are affected for pwh\n",
      "For pwoh:\n",
      "For this condition Pst_E104_v1_p_ctg.gene.no_genome_blast_hit.txt 250 proteins out of 627 (39) are affected for pwoh\n",
      "For pwh:\n",
      "For this condition Pst_E104_v1_p_ctg.p_proteins.no_blast_hit.txt 1096 proteins out of 15303 (7.16) are affected for pwh\n",
      "For pwoh:\n",
      "For this condition Pst_E104_v1_p_ctg.p_proteins.no_blast_hit.txt 140 proteins out of 627 (22) are affected for pwoh\n",
      "For pwh:\n",
      "For this condition Pst_E104_v1_p_ctg.besties.txt 0 proteins out of 15303 (0.00) are affected for pwh\n",
      "For pwoh:\n",
      "For this condition Pst_E104_v1_p_ctg.besties.txt 17385 proteins out of 627 (2772) are affected for pwoh\n",
      "For pwh:\n",
      "For this condition Pst_E104_v1_p_ctg.p_proteins.no_filtered_blast_hit.txt 1866 proteins out of 15303 (12.19) are affected for pwh\n",
      "For pwoh:\n",
      "For this condition Pst_E104_v1_p_ctg.p_proteins.no_filtered_blast_hit.txt 268 proteins out of 627 (42) are affected for pwoh\n",
      "For pwh:\n",
      "For this condition Pst_E104_v1_p_ctg.p_proteins.no_besties.txt 3816 proteins out of 15303 (24.94) are affected for pwh\n",
      "For pwoh:\n",
      "For this condition Pst_E104_v1_p_ctg.p_proteins.no_besties.txt 445 proteins out of 627 (70) are affected for pwoh\n",
      "Lenght of pwoh 79847369, lenght of pwo 4178824, total length p 84026193\n"
     ]
    }
   ],
   "source": [
    "#filter and summarize the p results based on pwh and pwoh \n",
    "for x in p_txt:\n",
    "    df_p = pd.read_csv(x, header=None, sep='\\t')\n",
    "    df_p.head()\n",
    "    df_p['pwh'] = df_p[0].apply(pwh_filter)\n",
    "    df_p[df_p['pwh'] == 1].to_csv(x[:-4]+'pwh.txt', sep ='\\t', header=None, index=None)\n",
    "    df_p[df_p['pwh'] == 0].to_csv(x[:-4]+'pwoh.txt', sep ='\\t', header=None, index=None)\n",
    "    print ('For pwh:')\n",
    "    print('For this condition %s %i proteins out of %i (%.2f) are affected for pwh'% \\\n",
    "          (x, sum(df_p['pwh']),len(fa_protein_dict['Pst_E104_v1_p_ctg_pwh']), \\\n",
    "           sum(df_p['pwh'])/len(fa_protein_dict['Pst_E104_v1_p_ctg_pwh'])*100 ))\n",
    "    print ('For pwoh:')\n",
    "    print('For this condition %s %i proteins out of %i (%i) are affected for pwoh'% \\\n",
    "         (x, len(df_p['pwh']) - sum(df_p['pwh']),len(fa_protein_dict['Pst_E104_v1_p_ctg_pwoh']),\\\n",
    "        (len(df_p['pwh']) - sum(df_p['pwh']))/len(fa_protein_dict['Pst_E104_v1_p_ctg_pwoh'])*100 ))\n",
    "     \n",
    "\n",
    "from Bio import SeqIO\n",
    "import os\n",
    "\n",
    "os.chdir('/home/benjamin/genome_assembly/PST79/FALCON/p_assemblies/v9_1/Pst_E104_v1/blastp_on_p')\n",
    "len_pwh = 0\n",
    "len_pwoh = 0\n",
    "for seq in SeqIO.parse('Pst_E104_v1_p_ctg.fa', 'fasta'):\n",
    "    if seq.id in pwh_set:\n",
    "        len_pwh = len_pwh + len(seq.seq)\n",
    "    if seq.id in pwoh_set:\n",
    "        len_pwoh = len_pwoh + len(seq.seq)\n",
    "print(\"Lenght of pwoh %i, lenght of pwo %i, total length p %i\" %(len_pwh,len_pwoh,len_pwh+len_pwoh ))"
   ]
  },
  {
   "cell_type": "code",
   "execution_count": null,
   "metadata": {
    "collapsed": true
   },
   "outputs": [],
   "source": []
  },
  {
   "cell_type": "code",
   "execution_count": null,
   "metadata": {
    "collapsed": true
   },
   "outputs": [],
   "source": []
  },
  {
   "cell_type": "code",
   "execution_count": null,
   "metadata": {
    "collapsed": true
   },
   "outputs": [],
   "source": []
  },
  {
   "cell_type": "code",
   "execution_count": null,
   "metadata": {
    "collapsed": true
   },
   "outputs": [],
   "source": []
  },
  {
   "cell_type": "code",
   "execution_count": null,
   "metadata": {
    "collapsed": true
   },
   "outputs": [],
   "source": []
  },
  {
   "cell_type": "code",
   "execution_count": 27,
   "metadata": {
    "collapsed": true
   },
   "outputs": [],
   "source": [
    "def same_contig_blast(x,y):\n",
    "    '''Function that checks if the blast hit in columne y is on the same contig as the the query sequence in\n",
    "    column y.\n",
    "    '''\n",
    "    q_contig = x.split('.')[2].split('_')[1]\n",
    "    hit_contig = y.split('_')[1]\n",
    "    if q_contig == hit_contig:\n",
    "        return True\n",
    "    else:\n",
    "        return False"
   ]
  },
  {
   "cell_type": "code",
   "execution_count": null,
   "metadata": {
    "collapsed": false
   },
   "outputs": [],
   "source": [
    "import pysam\n",
    "from Bio.SeqRecord import SeqRecord\n",
    "from Bio.Seq import Seq\n",
    "nfb_gene_blast_bed = [x for x in os.listdir(folder_p) if x.endswith('no_filtered_blast_hit.fa.outfmt6.bed')]\n",
    "nfb_gene_blast_bed.sort()\n",
    "protein_dict_nfb_bhits = {}\n",
    "protein_dict_nfb = {} #get a list of all proteins of nfb that don't have a hit when blasted at the gene level too\n",
    "#get the fasta genome files\n",
    "tmp_genome_files = ['Pst_E104_v1_p_ctg.fa', 'Pst_E104_v1_h_ctg.fa']\n",
    "protein_fa_files = [x for x in os.listdir(folder_p) if x.endswith('anno.RepaseTPSI_filtered.protein.fa')]\n",
    "for bed_file in nfb_gene_blast_bed:\n",
    "    print('This %s is the current bed file being processed' % (bed_file))\n",
    "    nfb_gene_blast_bed_df =''\n",
    "    nfb_gene_blast_bed_df = pd.read_csv(bed_file, header=None, sep='\\t' )\n",
    "    #now add another column to the dateframe that stats if the hit and query are on the same contig\n",
    "    nfb_gene_blast_bed_df['Same_contig'] = nfb_gene_blast_bed_df[3].combine(nfb_gene_blast_bed_df[0], func=same_contig_blast)\n",
    "    #initialize some temporary df for filtering\n",
    "    tmp_same_contig_df =''\n",
    "    tmp_best_hits_df =''\n",
    "    tmp_groups =''\n",
    "    tmp_best_hits_filtered =''\n",
    "    #get all blast hits that are on the same contig\n",
    "    tmp_same_contig_df = nfb_gene_blast_bed_df[nfb_gene_blast_bed_df['Same_contig'] == True]\n",
    "    #get the best remaining blast hit(s)\n",
    "    tmp_best_hits_df = nfb_gene_blast_bed_df[nfb_gene_blast_bed_df['Same_contig'] == False].sort_values(by=[3,4])\n",
    "    tmp_groups = tmp_best_hits_df.groupby(by=3)\n",
    "    #now filter the dataframe by the smallest e-value for each group == Query/3\n",
    "    tmp_best_hits_df_filtered = tmp_groups.apply(lambda g: g[g[4] == g[4].min()]) \n",
    "    tmp_best_hits_df_filtered = tmp_best_hits_df_filtered.reset_index(drop=True)\n",
    "    nfb_gene_blast_bed_df_filtered = ''\n",
    "    nfb_gene_blast_bed_df_filtered = pd.concat([tmp_best_hits_df_filtered, tmp_same_contig_df]).sort_values(by=[3,4]).reset_index(drop=True)\n",
    "    #now get the loop through the df. pull out the protein sequences and corresponding hits. save them to new folders.\n",
    "    #extend the script. \n",
    "    #get all the blasted sequences that had a hit == unique querries\n",
    "    tmp_queries = ''\n",
    "    tmp_queries = tmp_best_hits_df_filtered[3].unique()\n",
    "    #get all the protein sequences in a dictionary with protein ID being the key and the values being a SeqIO object\n",
    "    #get the fasta genome files\n",
    "    tmp_genome_file = [x for x in tmp_genome_files if not x.startswith(bed_file.split('.')[0])][0]\n",
    "    genome_fa = ''\n",
    "    genome_fa = pysam.FastaFile(tmp_genome_file)\n",
    "    tmp_queries_id = [x.replace('TU', 'model') for x in tmp_queries]\n",
    "    tmp_protein_fa_file = [x for x in protein_fa_files if x.startswith(bed_file.split('.')[0])][0]\n",
    "    for seq in SeqIO.parse(open(tmp_protein_fa_file), 'fasta'):\n",
    "            if seq.id in tmp_queries_id:\n",
    "                protein_dict_nfb[seq.id] = seq\n",
    "    #add this tmp_protein_dict_nfb to the full protein dict to keep track\n",
    "    #check why only one file gets processed.\n",
    "    \n",
    "    \n",
    "    #make a dict that gets the blast hit sequences in +30kb each side for alignments of protein sequences on top of them. \n",
    "    #The value of this dict will be a list of SeqIO objects\n",
    "    \n",
    "    tmp_list = [] #tmp_list to save the SeqIO objects for the blast hits in\n",
    "    for query in tmp_queries[:2]:\n",
    "        tmp_list = []\n",
    "        tmp_df = tmp_best_hits_df_filtered[tmp_best_hits_df_filtered[3] == query]\n",
    "        for _,hit in tmp_df.iterrows():\n",
    "            start = hit[1] - 30000\n",
    "            if start < 1:\n",
    "                start = 1\n",
    "            end = hit[2] + 30000\n",
    "            seq = genome_fa.fetch(hit[0], start, end)\n",
    "            seq_r = '' #initialize empty SeqIO record\n",
    "            seq_id = hit[0] + '_' + str(hit[1]) + '_' + str(hit[2])\n",
    "            seq_ob = Seq(seq)\n",
    "            seq_ob.alphabet = 'fasta'\n",
    "            seq_r = SeqRecord(seq_ob)\n",
    "            seq_r.id = seq_id\n",
    "            tmp_list.append(seq_r)\n",
    "        protein_dict_nfb_bhits[query] = tmp_list"
   ]
  },
  {
   "cell_type": "code",
   "execution_count": null,
   "metadata": {
    "collapsed": true
   },
   "outputs": [],
   "source": []
  },
  {
   "cell_type": "code",
   "execution_count": null,
   "metadata": {
    "collapsed": true
   },
   "outputs": [],
   "source": []
  },
  {
   "cell_type": "code",
   "execution_count": null,
   "metadata": {
    "collapsed": true
   },
   "outputs": [],
   "source": []
  },
  {
   "cell_type": "code",
   "execution_count": null,
   "metadata": {
    "collapsed": false
   },
   "outputs": [],
   "source": [
    "protein_dict_nfb_bhits"
   ]
  },
  {
   "cell_type": "code",
   "execution_count": null,
   "metadata": {
    "collapsed": false
   },
   "outputs": [],
   "source": [
    "protein_dict_nfb"
   ]
  },
  {
   "cell_type": "code",
   "execution_count": null,
   "metadata": {
    "collapsed": false
   },
   "outputs": [],
   "source": [
    "nfb_gene_blast_bed_df_filtered = pd.concat([tmp_best_hits_df_filtered, tmp_same_contig_df]).sort_values(by=[3,4]).reset_index(drop=True)"
   ]
  },
  {
   "cell_type": "code",
   "execution_count": null,
   "metadata": {
    "collapsed": false
   },
   "outputs": [],
   "source": [
    "#now get the loop through the df. pull out the protein sequences and corresponding hits. save them to new folders.\n",
    "#extend the script. \n",
    "tmp_queries = tmp_best_hits_df_filtered[3].unique()\n",
    "#get all the protein sequences in a dictionary with protein ID being the key and the values being a SeqIO object\n",
    "tmp_protein_dict_nfb = {} \n",
    "protein_fa_files = [x for x in os.listdir(folder_p) if x.endswith('anno.RepaseTPSI_filtered.protein.fa')]\n",
    "protein_fa_files.sort()\n",
    "#get the fasta genome files\n",
    "tmp_genome_files = ['Pst_E104_v1_p_ctg.fa', 'Pst_E104_v1_h_ctg.fa']\n",
    "tmp_queries_p_id = [x.replace('TU', 'model') for x in tmp_queries]\n",
    "for seq in SeqIO.parse(open(protein_fa_files[1]), 'fasta'):\n",
    "        if seq.id in tmp_queries_p_id:\n",
    "            tmp_protein_dict_nfb[seq.id] = seq\n",
    "#make a dict that gets the blast hit sequences in +30kb each side for alignments of protein sequences on top of them. \n",
    "#The value of this dict will be a list of SeqIO objects\n",
    "tmp_protein_dict_nfb_bhits = {}\n",
    "tmp_list = [] #tmp_list to save the SeqIO objects for the blast hits in\n",
    "for query in tmp_queries[:2]:\n",
    "    tmp_list = []\n",
    "    tmp_df = tmp_best_hits_df_filtered[tmp_best_hits_df_filtered[3] == query]\n",
    "    for _,hit in tmp_df.iterrows():\n",
    "        start = hit[1] - 30000\n",
    "        if start < 1:\n",
    "            start = 1\n",
    "        end = int(hit[2]) + 30000\n",
    "        seq = test_pysam_fa.fetch(hit[0], start, end)\n",
    "        seq_r = ''\n",
    "        seq_id = hit[0] + '_' + str(hit[1]) + '_' + str(hit[2])\n",
    "        seq_ob = Seq(seq)\n",
    "        seq_ob.alphabet = 'fasta'\n",
    "        seq_r = SeqRecord(Seq(seq))\n",
    "        seq_r.id = seq_id\n",
    "        tmp_list.append(seq_r)\n",
    "    tmp_protein_dict_nfb_bhits[query] = tmp_list\n",
    "\n",
    "    \n",
    "    \n",
    "    "
   ]
  },
  {
   "cell_type": "code",
   "execution_count": null,
   "metadata": {
    "collapsed": false
   },
   "outputs": [],
   "source": [
    "test = Seq(seq)\n",
    "test.alphabet = 'fasta'\n",
    "test"
   ]
  },
  {
   "cell_type": "code",
   "execution_count": null,
   "metadata": {
    "collapsed": false
   },
   "outputs": [],
   "source": [
    "print(tmp_protein_dict_nfb_bhits['evm.TU.pcontig_000.118'][0])"
   ]
  },
  {
   "cell_type": "code",
   "execution_count": null,
   "metadata": {
    "collapsed": false
   },
   "outputs": [],
   "source": [
    "import pysam\n",
    "from Bio.SeqRecord import SeqRecord\n",
    "from Bio.Seq import Seq\n",
    "test_pysam_fa = pysam.FastaFile(\"Pst_E104_v1_h_ctg.fa\")\n",
    "#sequence = test_pysam_fa.fetch('pcontig_000', 3000000, 4000000)\n",
    "len(sequence)\n",
    "#test_pysam_fa.fetch('pcontig_000', 1, 5000000)"
   ]
  },
  {
   "cell_type": "code",
   "execution_count": null,
   "metadata": {
    "collapsed": true
   },
   "outputs": [],
   "source": [
    "def same_contig_blast(x,y):\n",
    "    '''Function that checks if the blast hit in columne y is on the same contig as the the query sequence in\n",
    "    column y.\n",
    "    '''\n",
    "    q_contig = x.split('.')[2].split('_')[1]\n",
    "    hit_contig = y.split('_')[1]\n",
    "    if q_contig == hit_contig:\n",
    "        return True\n",
    "    else:\n",
    "        return False"
   ]
  },
  {
   "cell_type": "code",
   "execution_count": null,
   "metadata": {
    "collapsed": false
   },
   "outputs": [],
   "source": [
    "same_contig_blast(nfb_gene_blast_bed_df.loc[32891,3],nfb_gene_blast_bed_df.loc[32891,0])"
   ]
  },
  {
   "cell_type": "code",
   "execution_count": null,
   "metadata": {
    "collapsed": false
   },
   "outputs": [],
   "source": [
    "df = nfb_gene_blast_bed_df.head()\n",
    "df[3].combine(df[0], func=same_contig_blast)"
   ]
  },
  {
   "cell_type": "code",
   "execution_count": null,
   "metadata": {
    "collapsed": false
   },
   "outputs": [],
   "source": [
    "nfb_gene_blast_bed_df.loc[32891,3]"
   ]
  },
  {
   "cell_type": "raw",
   "metadata": {},
   "source": [
    "#now read in the bed files and filter out proteins that had an initial blast hit but another protein was better\n",
    "#~befile[3].isin[alloutfmt6]\n",
    "#for the rest do a group by [3] and only save the best hits as above. Save this to file and use bedtools to fish out \n",
    "#gene models that overlap with the best blast hits of those. Everything which doesn't have a gene model is a true miss.\n",
    "#the others need to be looked at and see if there is a possible frameshit or missense mutation. if not the gene model\n",
    "#might have been dropped adenvertenly"
   ]
  },
  {
   "cell_type": "code",
   "execution_count": null,
   "metadata": {
    "collapsed": false
   },
   "outputs": [],
   "source": [
    "no_besties_blast_nt_bed = [x for x in os.listdir(folder_p) if x.endswith('no_besties.fa.outfmt6.bed') ]\n",
    "no_besties_blast_nt_bed.sort()\n",
    "outfmt6.sort()"
   ]
  },
  {
   "cell_type": "code",
   "execution_count": null,
   "metadata": {
    "collapsed": false
   },
   "outputs": [],
   "source": [
    "outfmt6"
   ]
  },
  {
   "cell_type": "code",
   "execution_count": 29,
   "metadata": {
    "collapsed": false
   },
   "outputs": [
    {
     "ename": "NameError",
     "evalue": "name 'no_besties_blast_nt_bed' is not defined",
     "output_type": "error",
     "traceback": [
      "\u001b[1;31m---------------------------------------------------------------------------\u001b[0m",
      "\u001b[1;31mNameError\u001b[0m                                 Traceback (most recent call last)",
      "\u001b[1;32m<ipython-input-29-6e3f00f2f394>\u001b[0m in \u001b[0;36m<module>\u001b[1;34m()\u001b[0m\n\u001b[1;32m----> 1\u001b[1;33m \u001b[0mno_besties_blast_nt_bed\u001b[0m\u001b[1;33m\u001b[0m\u001b[0m\n\u001b[0m",
      "\u001b[1;31mNameError\u001b[0m: name 'no_besties_blast_nt_bed' is not defined"
     ]
    }
   ],
   "source": [
    "no_besties_blast_nt_bed"
   ]
  },
  {
   "cell_type": "code",
   "execution_count": null,
   "metadata": {
    "collapsed": false
   },
   "outputs": [],
   "source": [
    "#this needs to include some folder tracking of gene.no_besties.fa that hits nothing significant \n",
    "#no_bbb in - no_bbb out = no_hits at all\n",
    "no_gene_hits = {}\n",
    "for no_bbb, protein_blast in zip(no_besties_blast_nt_bed,outfmt6):\n",
    "    no_bbb_no_protein_blast_df =''\n",
    "    no_bbb_df_header = ['Contig', 'start', 'end', 'blast_query', 'e-value', 'strand']\n",
    "    no_bbb_df = pd.read_csv(folder_p+no_bbb, header=None, names=no_bbb_df_header,  sep='\\t')\n",
    "    protein_blast_df = pd.read_csv(folder_p+protein_blast, header=None, sep='\\t')\n",
    "    no_bbb_df['protein_id'] = no_bbb_df['blast_query'].str.replace('evm.TU', 'evm.model')\n",
    "    #this below is most likely correct ignores the fact that some no_bbb genes might have hit nothing\n",
    "    #at all on the gene level\n",
    "    no_bbb_no_protein_blast_df = no_bbb_df[~no_bbb_df['protein_id'].isin(protein_blast_df[0])]\n",
    "    #these are the no_besties that didn't hit anything at the gene level\n",
    "    key =''\n",
    "    key = no_bbb.split('.')[0]\n",
    "    no_gene_hits[key] = set(no_bestie_dict[key]) - set(no_bbb_df['protein_id'].unique())\n",
    "    pd.DataFrame(list(no_gene_hits[key])).to_csv(key + '.gene.no_genome_blast_hit.txt', sep='\\t', header=None, index=None)\n",
    "    blast_p_no_bestie =''\n",
    "    blast_p_no_bestie = len(no_bbb_df[no_bbb_df['protein_id'].isin(protein_blast_df[0])]['blast_query'].unique())\n",
    "    print('This %i out of %i no_besties of %s had a blast hit which was not RBH' % \\\n",
    "          (blast_p_no_bestie, len(no_bestie_dict[key]),no_bbb.split('.')[0]))\n",
    "    print('This %i out of %i no_besties of %s have no blast hit gene vs. other haplome' % \\\n",
    "         (len(no_gene_hits[key]),len(no_bestie_dict[key]),no_bbb.split('.')[0]))\n",
    "    print(\"No gene hits that have a protein hit\", len(set(no_gene_hits[key])- set(no_hits[key])), key)\n",
    "    groups = no_bbb_no_protein_blast_df.groupby(by='blast_query')\n",
    "    #now filter the dataframe by the smallest e-value for each group == blast_hit\n",
    "    df_filtered = groups.apply(lambda g: g[g['e-value'] == g['e-value'].min()])\n",
    "    df_filtered = df_filtered.reset_index(drop=True)\n",
    "    df_filtered.iloc[:,0:6].to_csv(folder_p+no_bbb[:-4]+'.filteredbesthits.bed', sep='\\t', header=None, index=None)"
   ]
  },
  {
   "cell_type": "code",
   "execution_count": null,
   "metadata": {
    "collapsed": false
   },
   "outputs": [],
   "source": [
    "#all primary proteins no hit need to be split up into pwh and pwoh\n",
    "p_contig_list = []\n",
    "h_contig_list = []\n",
    "for seq in SeqIO.parse('Pst_E104_v1_h_ctg.fa', 'fasta'):\n",
    "    h_contig_list.append(seq.id)\n",
    "for seq in SeqIO.parse('Pst_E104_v1_p_ctg.fa', 'fasta'):\n",
    "    p_contig_list.append(seq.id)"
   ]
  },
  {
   "cell_type": "code",
   "execution_count": null,
   "metadata": {
    "collapsed": false
   },
   "outputs": [],
   "source": [
    "pwh_set = set([x[0:11].replace('h','p') for x in h_contig_list])\n",
    "pwoh_set = set(p_contig_list) - pwh_set\n",
    "print(\"P_contigs with h_contig are %i and without %i\" % (len(pwh_set), len(pwoh_set)))"
   ]
  },
  {
   "cell_type": "code",
   "execution_count": null,
   "metadata": {
    "collapsed": true
   },
   "outputs": [],
   "source": [
    "!pwd\n",
    "!ls"
   ]
  },
  {
   "cell_type": "code",
   "execution_count": null,
   "metadata": {
    "collapsed": false
   },
   "outputs": [],
   "source": [
    "#write out phw and pwho list\n",
    "pwh_list = list(pwh_set)\n",
    "pwh_list.sort()\n",
    "pd.DataFrame([pwh_list]).T.to_csv('Pst_E104_v1_pwh_ctg.txt', header=None, index=None, sep=\"\\t\")\n",
    "\n",
    "pwoh_list = list(pwoh_set)\n",
    "pwoh_list.sort()\n",
    "pd.DataFrame([pwoh_list]).T.to_csv('Pst_E104_v1_pwoh_ctg.txt', header=None, index=None, sep=\"\\t\")"
   ]
  },
  {
   "cell_type": "code",
   "execution_count": null,
   "metadata": {
    "collapsed": false
   },
   "outputs": [],
   "source": [
    "fa_protein_dict['Pst_E104_v1_p_ctg_pwh']= [x for x in fa_protein_dict['Pst_E104_v1_p_ctg'] if x.split('.')[2] in pwh_set]\n",
    "fa_protein_dict['Pst_E104_v1_p_ctg_pwoh']= [x for x in fa_protein_dict['Pst_E104_v1_p_ctg'] if x.split('.')[2] in pwoh_set]\n",
    "print(len(fa_protein_dict['Pst_E104_v1_p_ctg_pwh']), len(fa_protein_dict['Pst_E104_v1_p_ctg_pwoh']), len (fa_protein_dict['Pst_E104_v1_p_ctg']))\n",
    "\n",
    "p_txt = [x for x in os.listdir(folder_p) if x.split('.')[0] == 'Pst_E104_v1_p_ctg' and x.endswith('.txt')]"
   ]
  },
  {
   "cell_type": "code",
   "execution_count": null,
   "metadata": {
    "collapsed": true
   },
   "outputs": [],
   "source": [
    "def pwh_filter (x):\n",
    "    p_contig = x.split('.')[2]\n",
    "    if p_contig in pwh_set:\n",
    "        return 1\n",
    "    else:\n",
    "        return 0"
   ]
  },
  {
   "cell_type": "code",
   "execution_count": null,
   "metadata": {
    "collapsed": false
   },
   "outputs": [],
   "source": [
    "#filter and summarize the p results based on pwh and pwoh \n",
    "for x in p_txt:\n",
    "    df_p = pd.read_csv(x, header=None, sep='\\t')\n",
    "    df_p.head()\n",
    "    df_p['pwh'] = df_p[0].apply(pwh_filter)\n",
    "    df_p[df_p['pwh'] == 1].to_csv(x[:-4]+'pwh.txt', sep ='\\t', header=None, index=None)\n",
    "    df_p[df_p['pwh'] == 0].to_csv(x[:-4]+'pwoh.txt', sep ='\\t', header=None, index=None)\n",
    "    print ('For pwh:')\n",
    "    print('For this condition %s %i proteins out of %i (%.2f) are affected for pwh'% \\\n",
    "          (x, sum(df_p['pwh']),len(fa_protein_dict['Pst_E104_v1_p_ctg_pwh']), \\\n",
    "           sum(df_p['pwh'])/len(fa_protein_dict['Pst_E104_v1_p_ctg_pwh'])*100 ))\n",
    "    print ('For pwoh:')\n",
    "    print('For this condition %s %i proteins out of %i (%i) are affected for pwoh'% \\\n",
    "         (x, len(df_p['pwh']) - sum(df_p['pwh']),len(fa_protein_dict['Pst_E104_v1_p_ctg_pwoh']),\\\n",
    "        (len(df_p['pwh']) - sum(df_p['pwh']))/len(fa_protein_dict['Pst_E104_v1_p_ctg_pwoh'])*100 ))\n",
    "     \n",
    "\n",
    "from Bio import SeqIO\n",
    "import os\n",
    "\n",
    "os.chdir('/home/benjamin/genome_assembly/PST79/FALCON/p_assemblies/v9_1/Pst_E104_v1/blastp_on_p')\n",
    "len_pwh = 0\n",
    "len_pwoh = 0\n",
    "for seq in SeqIO.parse('Pst_E104_v1_p_ctg.fa', 'fasta'):\n",
    "    if seq.id in pwh_set:\n",
    "        len_pwh = len_pwh + len(seq.seq)\n",
    "    if seq.id in pwoh_set:\n",
    "        len_pwoh = len_pwoh + len(seq.seq)\n",
    "print(\"Lenght of pwoh %i, lenght of pwo %i, total length p %i\" %(len_pwh,len_pwoh,len_pwh+len_pwoh ))"
   ]
  },
  {
   "cell_type": "code",
   "execution_count": null,
   "metadata": {
    "collapsed": false
   },
   "outputs": [],
   "source": [
    "len(pwh_set)"
   ]
  },
  {
   "cell_type": "code",
   "execution_count": null,
   "metadata": {
    "collapsed": false
   },
   "outputs": [],
   "source": [
    "len(seq.seq)"
   ]
  },
  {
   "cell_type": "code",
   "execution_count": null,
   "metadata": {
    "collapsed": false
   },
   "outputs": [],
   "source": [
    "p_txt"
   ]
  },
  {
   "cell_type": "code",
   "execution_count": null,
   "metadata": {
    "collapsed": false
   },
   "outputs": [],
   "source": [
    "#maybe keep track of those that have a blast hit but no bestie\n",
    "#yes save those to file and have a look at those as well e.g. p-values and best hits etc.\n",
    "len(no_bbb_df[no_bbb_df['protein_id'].isin(protein_blast_df[0])]['blast_query'].unique())"
   ]
  },
  {
   "cell_type": "code",
   "execution_count": null,
   "metadata": {
    "collapsed": true
   },
   "outputs": [],
   "source": [
    "from pybedtools import BedTool"
   ]
  },
  {
   "cell_type": "code",
   "execution_count": null,
   "metadata": {
    "collapsed": true
   },
   "outputs": [],
   "source": [
    "#maybe better to do this feature \n",
    "no_besties_h_p_blast_hits = BedTool('Pst_E104_v1_h_ctg.h_genes.no_besties.fa.outfmt6.filteredbesthits.bed')"
   ]
  },
  {
   "cell_type": "code",
   "execution_count": null,
   "metadata": {
    "collapsed": false
   },
   "outputs": [],
   "source": [
    "no_besties_h_p_blast_hits.head()"
   ]
  },
  {
   "cell_type": "code",
   "execution_count": null,
   "metadata": {
    "collapsed": true
   },
   "outputs": [],
   "source": [
    "p_genes = BedTool('Pst_E104_v1_p_ctg.gene.RepaseTPSI_filtered.gff3')"
   ]
  },
  {
   "cell_type": "code",
   "execution_count": null,
   "metadata": {
    "collapsed": false
   },
   "outputs": [],
   "source": [
    "p_genes.head()"
   ]
  },
  {
   "cell_type": "code",
   "execution_count": null,
   "metadata": {
    "collapsed": true
   },
   "outputs": [],
   "source": [
    "no_besties_h_p_gene_intersect = no_besties_h_p_blast_hits.intersect(p_genes, wb=True, f=1)"
   ]
  },
  {
   "cell_type": "code",
   "execution_count": null,
   "metadata": {
    "collapsed": false
   },
   "outputs": [],
   "source": [
    "no_besties_h_p_gene_intersect.saveas('Test.bed')"
   ]
  },
  {
   "cell_type": "code",
   "execution_count": null,
   "metadata": {
    "collapsed": true
   },
   "outputs": [],
   "source": [
    "test_df = pd.read_csv('Test.bed', header=None, sep='\\t')"
   ]
  },
  {
   "cell_type": "code",
   "execution_count": null,
   "metadata": {
    "collapsed": false
   },
   "outputs": [],
   "source": [
    "test_df.head()"
   ]
  },
  {
   "cell_type": "code",
   "execution_count": null,
   "metadata": {
    "collapsed": false
   },
   "outputs": [],
   "source": [
    "test_df[\"LenBlast\"] = abs(test_df[1] - test_df[2])\n",
    "test_df[\"Lenfeature\"] = abs(test_df[9]-test_df[10])"
   ]
  },
  {
   "cell_type": "code",
   "execution_count": null,
   "metadata": {
    "collapsed": false
   },
   "outputs": [],
   "source": [
    "test_df['Diff'] = abs(test_df['LenBlast'] -test_df['Lenfeature'])"
   ]
  },
  {
   "cell_type": "code",
   "execution_count": null,
   "metadata": {
    "collapsed": false
   },
   "outputs": [],
   "source": [
    "test_df[(test_df['Diff'] == 0)]\n"
   ]
  },
  {
   "cell_type": "code",
   "execution_count": null,
   "metadata": {
    "collapsed": false
   },
   "outputs": [],
   "source": [
    "test_df.groupby(by=3).apply(lambda g: g[g['e-value'] == g['e-value'].min()]) "
   ]
  },
  {
   "cell_type": "code",
   "execution_count": null,
   "metadata": {
    "collapsed": false
   },
   "outputs": [],
   "source": [
    "len(no_besties_h_p_gene_intersect)"
   ]
  },
  {
   "cell_type": "code",
   "execution_count": null,
   "metadata": {
    "collapsed": false
   },
   "outputs": [],
   "source": [
    "len(no_besties_h_p_blast_hits)"
   ]
  },
  {
   "cell_type": "code",
   "execution_count": null,
   "metadata": {
    "collapsed": false
   },
   "outputs": [],
   "source": [
    "no_besties_h_p_gene_intersect[0]"
   ]
  },
  {
   "cell_type": "code",
   "execution_count": null,
   "metadata": {
    "collapsed": true
   },
   "outputs": [],
   "source": []
  }
 ],
 "metadata": {
  "kernelspec": {
   "display_name": "Python 3",
   "language": "python",
   "name": "python3"
  },
  "language_info": {
   "codemirror_mode": {
    "name": "ipython",
    "version": 3
   },
   "file_extension": ".py",
   "mimetype": "text/x-python",
   "name": "python",
   "nbconvert_exporter": "python",
   "pygments_lexer": "ipython3",
   "version": "3.5.2"
  }
 },
 "nbformat": 4,
 "nbformat_minor": 0
}
