{
 "cells": [
  {
   "cell_type": "code",
   "execution_count": 1,
   "metadata": {
    "collapsed": false
   },
   "outputs": [],
   "source": [
    "%matplotlib inline\n",
    "import numpy as np\n",
    "import matplotlib.pyplot as plt\n",
    "from matplotlib.axes import Axes\n",
    "import pandas as pd\n",
    "import itertools\n",
    "import matplotlib\n",
    "import os\n",
    "from Bio import SeqIO\n",
    "from Bio.SeqRecord import SeqRecord\n",
    "from Bio import SeqUtils\n",
    "import matplotlib.cm as cm\n",
    "from ete3 import NCBITaxa\n",
    "import re\n",
    "import fileinput"
   ]
  },
  {
   "cell_type": "markdown",
   "metadata": {},
   "source": [
    "The idea of the scritp is to use the output of xxxxxxF.gcoords from the v8_1_ph_p_on_p_nucmer.sh script. These will be simplified by calculating the cumsum for each pwh contig hit. The p_woh will be renamed to generate a name association with its best pwh hit. The new name will be pwh_pwoh."
   ]
  },
  {
   "cell_type": "code",
   "execution_count": 2,
   "metadata": {
    "collapsed": false
   },
   "outputs": [],
   "source": [
    "font = {'family' : 'normal',\n",
    "        'weight' : 'bold',\n",
    "        'size'   : 15}\n",
    "matplotlib.rc('font', **font) #changes font of the plot\n",
    "label_config_x = {'fontsize'            : 'large',\n",
    "      'verticalalignment'   : 'top',\n",
    "      'horizontalalignment' : 'center'\n",
    "      }\n",
    "label_config_y = {'fontsize'            : 'large',\n",
    "      'verticalalignment'   : 'bottom',\n",
    "      'horizontalalignment' : 'center'\n",
    "      }\n"
   ]
  },
  {
   "cell_type": "code",
   "execution_count": 3,
   "metadata": {
    "collapsed": true
   },
   "outputs": [],
   "source": [
    "#THIS script still needs to be fixed for the cases where mummer alignment ends overlap"
   ]
  },
  {
   "cell_type": "code",
   "execution_count": 7,
   "metadata": {
    "collapsed": true
   },
   "outputs": [],
   "source": [
    "#define working directory\n",
    "file_path = \"/Users/ben/Documents/work_related/Canberra/RJ_lab_projects/Rust_genome_sequencing/PST79/analysis/PacBio_SCH1743/FALCON_0_4_assemblies/p_assemblies/v8_1/v8_1_unzip/QC_unpolished/nucmer/nucmer_pwoh_on_pwoh\"\n",
    "pwoh_fn = \"v8_1_ph_tr_ctg_pwoh_ctg.fa\"\n",
    "pwoh_rn_fn = \"\" #for the rename\n",
    "h_above_200_fn = ''\n",
    "p_above_200_fn =''\n",
    "h_fn = ''"
   ]
  },
  {
   "cell_type": "code",
   "execution_count": 8,
   "metadata": {
    "collapsed": true
   },
   "outputs": [],
   "source": [
    "#write a bash script that maps all pwoh on pwoh expect itself with h using the '-r' option\n",
    "pwoh_fn = 'v8_1_ph_tr_ctg_pwoh_ctg.fa' #file that contains all pwoh"
   ]
  },
  {
   "cell_type": "code",
   "execution_count": 9,
   "metadata": {
    "collapsed": false
   },
   "outputs": [],
   "source": [
    "os.chdir(file_path)"
   ]
  },
  {
   "cell_type": "code",
   "execution_count": 13,
   "metadata": {
    "collapsed": false
   },
   "outputs": [],
   "source": [
    "r_bs=\"v8_1_pwoh_on_pwoh_rnucmer.sh\"\n",
    "g_bs=\"v8_1_pwoh_on_pwoh_gnucmer.sh\"\n",
    "outfr = open(r_bs,'w')\n",
    "outfg = open(g_bs, 'w')\n",
    "outfr.write('#!/bin/bash\\n')\n",
    "outfg.write('#!/bin/bash\\n')\n",
    "for pseq_record in SeqIO.parse(pwoh_fn, 'fasta'):\n",
    "    non_self_contigs = []\n",
    "    pwoh_contig = pseq_record\n",
    "    suffix = pwoh_fn[:-3]+pseq_record.id.split(\"|\")[0]+\"_non_self\"\n",
    "    p_file = pwoh_fn[0:-3]+\"_\"+pseq_record.id.split(\"|\")[0]+'.fa'\n",
    "    SeqIO.write(pwoh_contig, p_file, 'fasta')\n",
    "    for non_self_seq in SeqIO.parse(pwoh_fn, 'fasta'):\n",
    "        if non_self_seq.id.split(\"|\")[0] != pwoh_contig.id.split(\"|\")[0]:\n",
    "            non_self_contigs.append(non_self_seq)\n",
    "    non_self_fn = pwoh_fn[:-3]+\"_\"+pseq_record.id.split(\"|\")[0]+'_non_self.fa'\n",
    "    #safe non_self contigs\n",
    "    if non_self_contigs != []:\n",
    "        SeqIO.write(non_self_contigs, non_self_fn, 'fasta')\n",
    "        outfr.write('nucmer '+p_file+' '+non_self_fn+\" > \"+'out.delta\\n')\n",
    "        outfr.write('delta-filter -r '+'out.delta'+\" > \"+suffix+\"_rfiltered.delta\\n\")\n",
    "        outfr.write('show-coords -T '+suffix+\"_rfiltered.delta > \"+suffix+\".rcoords\\n\")\n",
    "        outfr.write('mummerplot -p '+suffix+'_rfiltered --postscript '+suffix+\"_rfiltered.delta\\n\")\n",
    "        outfr.write('mummerplot -c -p '+suffix+'_rfiltered_cov --postscript '+suffix+\"_rfiltered.delta\\n\")\n",
    "        #for g_file bash script\n",
    "        outfg.write('nucmer '+p_file+' '+non_self_fn+\" > \"+'out.delta\\n')\n",
    "        outfg.write('delta-filter -g '+'out.delta'+\" > \"+suffix+\"_gfiltered.delta\\n\")\n",
    "        outfg.write('show-coords -T '+suffix+\"_gfiltered.delta > \"+suffix+\".gcoords\\n\")\n",
    "        outfg.write('mummerplot -p '+suffix+'_gfiltered --postscript '+suffix+\"_gfiltered.delta\\n\")\n",
    "        outfg.write('mummerplot -c -p  '+suffix+'_gfiltered_cov --postscript '+suffix+\"_gfiltered.delta\\n\")\n",
    "outfr.close()\n",
    "outfg.close()"
   ]
  },
  {
   "cell_type": "code",
   "execution_count": 10,
   "metadata": {
    "collapsed": false
   },
   "outputs": [],
   "source": [
    "#get all the .gcoords files\n",
    "file_handler = os.walk(file_path, topdown=False)\n",
    "gcoords_files = [x for x in list(file_handler)[-1][2] if x[-7:]== 'gcoords']\n",
    "pwoh_rn_dic ={} #dic for renaming pwoh\n",
    "#hit_summary_df = pd.DataFrame(columns=['pwoh', 'best hit p', 'pwoh len', '%len hit', '%ID']) #summary dataframe that indicates best hit for each pwoh, "
   ]
  },
  {
   "cell_type": "code",
   "execution_count": 11,
   "metadata": {
    "collapsed": false
   },
   "outputs": [],
   "source": [
    "#make dataframe of initial query file pwoh_fn\n",
    "handle_1 = open(pwoh_fn)\n",
    "contigs = SeqIO.parse(handle_1, 'fasta')\n",
    "contig_length = []\n",
    "contig_id =[]\n",
    "for x in contigs:\n",
    "    contig_id.append(x.id)\n",
    "    contig_length.append(len(x.seq))\n",
    "s1 = pd.Series(contig_id, name='ID')\n",
    "s2 = pd.Series(contig_length, name='Length')\n",
    "pwoh_df = pd.concat([s1, s2], axis=1)\n",
    "handle_1.close()"
   ]
  },
  {
   "cell_type": "code",
   "execution_count": 12,
   "metadata": {
    "collapsed": false
   },
   "outputs": [
    {
     "name": "stderr",
     "output_type": "stream",
     "text": [
      "/anaconda/lib/python3.5/site-packages/ipykernel/__main__.py:20: SettingWithCopyWarning: \n",
      "A value is trying to be set on a copy of a slice from a DataFrame.\n",
      "Try using .loc[row_indexer,col_indexer] = value instead\n",
      "\n",
      "See the caveats in the documentation: http://pandas.pydata.org/pandas-docs/stable/indexing.html#indexing-view-versus-copy\n"
     ]
    }
   ],
   "source": [
    "#here pull in each gcoords file and define the longest p_wh hit on each p_woh. Save summary results in new data frame\n",
    "#and generate renaming dictonary\n",
    "#rename outfile for hit summary df\n",
    "name_list = []\n",
    "len_list=[]\n",
    "rel_len_list=[]\n",
    "pc_ID_list=[]\n",
    "best_hit_list=[]\n",
    "for x in gcoords_files:\n",
    "    best_hit = ''\n",
    "    mummer_df_tmp = ''\n",
    "    mummer_df_tmp = pd.read_csv(file_path+'/'+x, sep='\\t', header=None,skiprows=4 )\n",
    "    header_mum = [\"S1\",\"E1\",\"S2\", \"E2\",\"LEN 1\", \"LEN 2\", \"% IDY\", \"ID-p\", \"ID-h\"]\n",
    "    rename = dict(zip(mummer_df_tmp.columns, header_mum))\n",
    "    mummer_df_tmp.rename(columns=rename,inplace=True)\n",
    "    #till here it reads in the gcoords_files as a dataframe\n",
    "    best_hit = mummer_df_tmp.groupby('ID-p')['LEN 1'].sum().sort_values().index[-1] #this gets the p_wh that has the highest coverage in length\n",
    "    best_hit_list.append(best_hit)\n",
    "    best_df  = mummer_df_tmp[mummer_df_tmp['ID-p'] == best_hit]\n",
    "    best_df['rel %'] = best_df['LEN 2']*best_df['% IDY']\n",
    "    pc_ID_list.append(best_df['rel %'].sum()/best_df['LEN 2'].sum())\n",
    "    #up to here the %_ID is calcuated for the best hit\n",
    "    name_list.append(x[:-8])\n",
    "    len_list.append(pwoh_df.loc[pwoh_df['ID']==x[:-8],'Length'].sum())\n",
    "    rel_len_list.append(best_df['LEN 2'].sum()/pwoh_df.loc[pwoh_df['ID']==x[:-8],'Length'].sum()*100)\n",
    "    pwoh_rn_dic[x[:-8]]=best_hit+'_'+x[:-8]\n",
    "hit_summary_df = pd.concat([pd.Series(name_list), pd.Series(best_hit_list), pd.Series(len_list), pd.Series(rel_len_list), pd.Series(pc_ID_list)],axis=1, keys=['p_woh', 'best hit p_wh', 'p_woh len', '%len hit', '%ID'])\n",
    "hit_summary_df['%len hit'] = hit_summary_df['%len hit'].round(2)\n",
    "hit_summary_df['%ID'] = hit_summary_df['%ID'].round(2)\n",
    "hit_summary_df.to_csv(file_path+'/v8_1_p_woh_on_p_wh_best_hit_summary_gcoords.csv', index=False)\n",
    "#pwoh_rn_dic"
   ]
  },
  {
   "cell_type": "code",
   "execution_count": 25,
   "metadata": {
    "collapsed": false
   },
   "outputs": [
    {
     "data": {
      "text/plain": [
       "113"
      ]
     },
     "execution_count": 25,
     "metadata": {},
     "output_type": "execute_result"
    }
   ],
   "source": [
    "#rename p_woh to hs\n",
    "p_woh_list =[]\n",
    "for p_woh in SeqIO.parse(pwoh_fn, 'fasta'):\n",
    "    tmp_id =''\n",
    "    tmp_seq=''\n",
    "    tmp_id = pwoh_rn_dic[p_woh.id]\n",
    "    tmp_seq = p_woh.seq\n",
    "    p_woh_list.append(SeqRecord(tmp_seq, id=tmp_id, description=''))\n",
    "SeqIO.write(p_woh_list, pwoh_rn_fn, 'fasta')"
   ]
  },
  {
   "cell_type": "code",
   "execution_count": 30,
   "metadata": {
    "collapsed": true
   },
   "outputs": [],
   "source": [
    "rn_fn = [pwh_contigs_fn, pwoh_rn_fn, p_above_200_fn, h_fn  , h_above_200_fn]"
   ]
  },
  {
   "cell_type": "code",
   "execution_count": 32,
   "metadata": {
    "collapsed": false
   },
   "outputs": [],
   "source": [
    "with open('v8_1_ph_tr_ctg_rn_gcoords_all.fa', 'w') as fout, fileinput.input(rn_fn) as fin:\n",
    "    for line in fin:\n",
    "        fout.write(line)"
   ]
  },
  {
   "cell_type": "code",
   "execution_count": null,
   "metadata": {
    "collapsed": true
   },
   "outputs": [],
   "source": [
    "SeqRecord"
   ]
  },
  {
   "cell_type": "markdown",
   "metadata": {},
   "source": [
    "now look at the average mapping of h on p for each h"
   ]
  },
  {
   "cell_type": "code",
   "execution_count": 8,
   "metadata": {
    "collapsed": true
   },
   "outputs": [],
   "source": [
    "h_on_p_fp = \"/Users/ben/Documents/work_related/Canberra/RJ_lab_projects/Rust_genome_sequencing/PST79/analysis/PacBio_SCH1743/FALCON_0_4_assemblies/p_assemblies/v8_1/v8_1_unzip/QC_unpolished/nucmer/nucmer_h_on_pwh\"\n",
    "p_and_h_fp = '/Users/ben/Documents/work_related/Canberra/RJ_lab_projects/Rust_genome_sequencing/PST79/analysis/PacBio_SCH1743/FALCON_0_4_assemblies/p_assemblies/v8_1/v8_1_unzip/'\n",
    "p_and_h_fn = \"v8_1_ph_tr_ctg.fa\"\n"
   ]
  },
  {
   "cell_type": "code",
   "execution_count": 9,
   "metadata": {
    "collapsed": false
   },
   "outputs": [],
   "source": [
    "#make dataframe of initial h contigs\n",
    "handle_2 = open(p_and_h_fp+p_and_h_fn)\n",
    "h_contigs = SeqIO.parse(handle_2, 'fasta')\n",
    "h_contig_length = []\n",
    "h_contig_id =[]\n",
    "for y in h_contigs:\n",
    "    if '_' in list(y.id):\n",
    "        h_contig_id.append(y.id)\n",
    "        h_contig_length.append(len(y.seq))\n",
    "s3 = pd.Series(h_contig_id, name='ID')\n",
    "s4 = pd.Series(h_contig_length, name='Length')\n",
    "h_df = pd.concat([s3, s4], axis=1)\n",
    "handle_2.close()"
   ]
  },
  {
   "cell_type": "code",
   "execution_count": 10,
   "metadata": {
    "collapsed": true
   },
   "outputs": [],
   "source": [
    "os.chdir(h_on_p_fp)"
   ]
  },
  {
   "cell_type": "code",
   "execution_count": 11,
   "metadata": {
    "collapsed": false
   },
   "outputs": [
    {
     "name": "stdout",
     "output_type": "stream",
     "text": [
      "/Users/ben/Documents/work_related/Canberra/RJ_lab_projects/Rust_genome_sequencing/PST79/analysis/PacBio_SCH1743/FALCON_0_4_assemblies/p_assemblies/v8_1/v8_1_unzip/QC_unpolished/nucmer/nucmer_h_on_pwh\r\n"
     ]
    }
   ],
   "source": [
    "!pwd"
   ]
  },
  {
   "cell_type": "code",
   "execution_count": 12,
   "metadata": {
    "collapsed": true
   },
   "outputs": [],
   "source": [
    "fh_2 = os.walk(h_on_p_fp, topdown=False)\n",
    "h_gcoords_files = [x for x in list(fh_2)[-1][2] if x[-7:]== 'gcoords']"
   ]
  },
  {
   "cell_type": "code",
   "execution_count": 13,
   "metadata": {
    "collapsed": false
   },
   "outputs": [
    {
     "data": {
      "text/plain": [
       "89"
      ]
     },
     "execution_count": 13,
     "metadata": {},
     "output_type": "execute_result"
    }
   ],
   "source": [
    "len(h_gcoords_files)"
   ]
  },
  {
   "cell_type": "code",
   "execution_count": 14,
   "metadata": {
    "collapsed": false
   },
   "outputs": [
    {
     "name": "stderr",
     "output_type": "stream",
     "text": [
      "//anaconda/lib/python3.5/site-packages/ipykernel/__main__.py:29: SettingWithCopyWarning: \n",
      "A value is trying to be set on a copy of a slice from a DataFrame.\n",
      "Try using .loc[row_indexer,col_indexer] = value instead\n",
      "\n",
      "See the caveats in the documentation: http://pandas.pydata.org/pandas-docs/stable/indexing.html#indexing-view-versus-copy\n"
     ]
    }
   ],
   "source": [
    "#make a summary data frame that provides the % of mapping hits and % of ID for each h on p_wh mapping\n",
    "h_len =[]\n",
    "h_id = []\n",
    "p_id = []\n",
    "h_pc_len = []\n",
    "h_pc_id =[]\n",
    "# up to here initiate the list that will make the dataframe at the end\n",
    "for h in h_gcoords_files:\n",
    "    #read in each mummer gcoords file and make df out of it\n",
    "    mummer_df_tmp = pd.read_csv(h_on_p_fp+'/'+h, sep='\\t', header=None,skiprows=4 )\n",
    "    header_mum = [\"S1\",\"E1\",\"S2\", \"E2\",\"LEN 1\", \"LEN 2\", \"% IDY\", \"ID-p\", \"ID-h\"]\n",
    "    rename = dict(zip(mummer_df_tmp.columns, header_mum))\n",
    "    mummer_df_tmp.rename(columns=rename,inplace=True)\n",
    "    h_ctg_list = list(set(mummer_df_tmp[\"ID-h\"].tolist()))\n",
    "    #get all h_ctgs for each p_ctg\n",
    "    for h_sub in h_ctg_list:\n",
    "        #calculate pc_id and pc_len for each hapolitg aligning to the primary contig\n",
    "        sub_df = ''\n",
    "        pc_length = ''\n",
    "        sub_pc_id =''\n",
    "        h_id.append(h_sub) #add the id to the list\n",
    "        sub_df = mummer_df_tmp[mummer_df_tmp['ID-h'] == h_sub] #get the df concerning only the current h_ctg\n",
    "        sub_df\n",
    "        p_id.append(sub_df['ID-p'].tolist()[0])\n",
    "        h_len.append(h_df[h_df['ID'] == h_sub]['Length'].sum())\n",
    "        h_sub_length = sub_df['LEN 2'].sum() #get the aligned length\n",
    "        pc_length = h_sub_length/h_df[h_df['ID'] == h_sub]['Length'].sum()*100 #calculate the pc_length\n",
    "        h_pc_len.append(pc_length)\n",
    "        sub_df[\"rel %\"] = sub_df['LEN 2']*sub_df['% IDY']\n",
    "        sub_pc_id = sub_df[\"rel %\"].sum()/h_sub_length #calculate the relative identity\n",
    "        h_pc_id.append(sub_pc_id)\n",
    "h_on_p_summary_df = pd.concat([pd.Series(h_id), pd.Series(p_id), pd.Series(h_len), pd.Series(h_pc_len), pd.Series(h_pc_id)],axis=1, keys=['h-ID', 'p-ID', 'h len', '%len h_ctg hit', '%ID h'])\n",
    "h_on_p_summary_df['%len h_ctg hit'] = h_on_p_summary_df['%len h_ctg hit'].round(2)\n",
    "h_on_p_summary_df['%ID h'] = h_on_p_summary_df['%ID h'].round(2)\n",
    "h_on_p_summary_df.to_csv(h_on_p_fp+'/v8_1_h_on_pwh_summary.csv', index=False)"
   ]
  },
  {
   "cell_type": "markdown",
   "metadata": {},
   "source": [
    "#all seems to be alright but 000082F_001 didn't align to its primary contig with the given options of cat \n",
    "nucmer v8_1_ph_tr_ctg_000082F.fa v8_1_ph_tr_ctg_000082F_a_ctg.fa > out.delta\n",
    "delta-filter -g out.delta > v8_1_ph_000082Fpap_gfiltered.delta\n",
    "show-coords -T v8_1_ph_000082Fpap_gfiltered.delta > v8_1_ph_000082Fpap.gcoords\n",
    "##check what is going on there"
   ]
  },
  {
   "cell_type": "markdown",
   "metadata": {},
   "source": [
    "set(h_df['ID'].tolist())-set(h_on_p_summary_df['h-ID'].tolist())"
   ]
  },
  {
   "cell_type": "markdown",
   "metadata": {},
   "source": [
    "h_df[h_df['ID']=='000082F_001']['Length']"
   ]
  },
  {
   "cell_type": "code",
   "execution_count": 16,
   "metadata": {
    "collapsed": false
   },
   "outputs": [
    {
     "data": {
      "text/plain": [
       "<matplotlib.axes._subplots.AxesSubplot at 0x10a0146d8>"
      ]
     },
     "execution_count": 16,
     "metadata": {},
     "output_type": "execute_result"
    },
    {
     "data": {
      "image/png": "[encoded data removed]",
      "text/plain": [
       "<matplotlib.figure.Figure at 0x10a0351d0>"
      ]
     },
     "metadata": {},
     "output_type": "display_data"
    }
   ],
   "source": [
    "h_on_p_summary_df['%len h_ctg hit'].plot()"
   ]
  },
  {
   "cell_type": "code",
   "execution_count": 20,
   "metadata": {
    "collapsed": false
   },
   "outputs": [
    {
     "data": {
      "text/plain": [
       "<matplotlib.axes._subplots.AxesSubplot at 0x1114ee128>"
      ]
     },
     "execution_count": 20,
     "metadata": {},
     "output_type": "execute_result"
    },
    {
     "data": {
      "image/png": "[encoded data removed]",
      "text/plain": [
       "<matplotlib.figure.Figure at 0x114aca550>"
      ]
     },
     "metadata": {},
     "output_type": "display_data"
    }
   ],
   "source": [
    "hit_summary_df['%len hit'].plot()"
   ]
  },
  {
   "cell_type": "code",
   "execution_count": 30,
   "metadata": {
    "collapsed": false
   },
   "outputs": [
    {
     "data": {
      "text/plain": [
       "(0, 200)"
      ]
     },
     "execution_count": 30,
     "metadata": {},
     "output_type": "execute_result"
    },
    {
     "data": {
      "image/png": "[encoded data removed]",
      "text/plain": [
       "<matplotlib.figure.Figure at 0x1154cf400>"
      ]
     },
     "metadata": {},
     "output_type": "display_data"
    }
   ],
   "source": [
    "hit_summary_df['%len hit'].hist(bins=20, range=(0,200), color='r', alpha=0.5)\n",
    "plt.xlim(0,200)"
   ]
  },
  {
   "cell_type": "code",
   "execution_count": 54,
   "metadata": {
    "collapsed": false
   },
   "outputs": [
    {
     "data": {
      "text/plain": [
       "(0, 200)"
      ]
     },
     "execution_count": 54,
     "metadata": {},
     "output_type": "execute_result"
    },
    {
     "data": {
      "image/png": "[encoded data removed]",
      "text/plain": [
       "<matplotlib.figure.Figure at 0x11512e0b8>"
      ]
     },
     "metadata": {},
     "output_type": "display_data"
    }
   ],
   "source": [
    "plt.figure(figsize=(15,9))\n",
    "h_on_p_summary_df['%len h_ctg hit'].hist(bins=20, range=(0,200), alpha=0.5, label='h on p_wh')\n",
    "hit_summary_df['%len hit'].hist(bins=20, range=(0,200), color='r', alpha=0.5, label='p_woh on p_wh')\n",
    "plt.legend(loc=0)\n",
    "plt.xlim(0,200)"
   ]
  },
  {
   "cell_type": "code",
   "execution_count": 60,
   "metadata": {
    "collapsed": false
   },
   "outputs": [
    {
     "data": {
      "text/plain": [
       "(0, 100)"
      ]
     },
     "execution_count": 60,
     "metadata": {},
     "output_type": "execute_result"
    },
    {
     "data": {
      "image/png": "[encoded data removed]",
      "text/plain": [
       "<matplotlib.figure.Figure at 0x1161c2160>"
      ]
     },
     "metadata": {},
     "output_type": "display_data"
    }
   ],
   "source": [
    "fig, ax1 = plt.subplots(figsize=(15,9))\n",
    "h_on_p_summary_df['%ID h'].hist(bins=20, range=(0,100), alpha=0.5, label='h on p_wh' )\n",
    "plt.legend(loc=3)\n",
    "ax2 = ax1.twinx()\n",
    "hit_summary_df['%ID'].hist(bins=20, range=(0,100), color='r', alpha=0.5, label='p_woh on p_wh')\n",
    "plt.legend(loc=0)\n",
    "plt.xlim(0,100)"
   ]
  },
  {
   "cell_type": "code",
   "execution_count": 63,
   "metadata": {
    "collapsed": false
   },
   "outputs": [
    {
     "data": {
      "text/html": [
       "<div>\n",
       "<table border=\"1\" class=\"dataframe\">\n",
       "  <thead>\n",
       "    <tr style=\"text-align: right;\">\n",
       "      <th></th>\n",
       "      <th>h-ID</th>\n",
       "      <th>p-ID</th>\n",
       "      <th>h len</th>\n",
       "      <th>%len h_ctg hit</th>\n",
       "      <th>%ID h</th>\n",
       "    </tr>\n",
       "  </thead>\n",
       "  <tbody>\n",
       "    <tr>\n",
       "      <th>96</th>\n",
       "      <td>000016F_010</td>\n",
       "      <td>000016F</td>\n",
       "      <td>17363</td>\n",
       "      <td>10.01</td>\n",
       "      <td>90.33</td>\n",
       "    </tr>\n",
       "    <tr>\n",
       "      <th>99</th>\n",
       "      <td>000016F_006</td>\n",
       "      <td>000016F</td>\n",
       "      <td>13145</td>\n",
       "      <td>3.61</td>\n",
       "      <td>94.95</td>\n",
       "    </tr>\n",
       "    <tr>\n",
       "      <th>100</th>\n",
       "      <td>000016F_001</td>\n",
       "      <td>000016F</td>\n",
       "      <td>13656</td>\n",
       "      <td>5.29</td>\n",
       "      <td>91.53</td>\n",
       "    </tr>\n",
       "    <tr>\n",
       "      <th>105</th>\n",
       "      <td>000017F_004</td>\n",
       "      <td>000017F</td>\n",
       "      <td>9700</td>\n",
       "      <td>11.66</td>\n",
       "      <td>90.01</td>\n",
       "    </tr>\n",
       "    <tr>\n",
       "      <th>108</th>\n",
       "      <td>000017F_007</td>\n",
       "      <td>000017F</td>\n",
       "      <td>8756</td>\n",
       "      <td>12.94</td>\n",
       "      <td>95.30</td>\n",
       "    </tr>\n",
       "    <tr>\n",
       "      <th>121</th>\n",
       "      <td>000018F_002</td>\n",
       "      <td>000018F</td>\n",
       "      <td>9677</td>\n",
       "      <td>16.84</td>\n",
       "      <td>88.29</td>\n",
       "    </tr>\n",
       "    <tr>\n",
       "      <th>187</th>\n",
       "      <td>000038F_003</td>\n",
       "      <td>000038F</td>\n",
       "      <td>7495</td>\n",
       "      <td>1.60</td>\n",
       "      <td>97.50</td>\n",
       "    </tr>\n",
       "    <tr>\n",
       "      <th>204</th>\n",
       "      <td>000049F_002</td>\n",
       "      <td>000049F</td>\n",
       "      <td>9177</td>\n",
       "      <td>24.10</td>\n",
       "      <td>92.80</td>\n",
       "    </tr>\n",
       "    <tr>\n",
       "      <th>215</th>\n",
       "      <td>000055F_001</td>\n",
       "      <td>000055F</td>\n",
       "      <td>48197</td>\n",
       "      <td>23.48</td>\n",
       "      <td>92.13</td>\n",
       "    </tr>\n",
       "    <tr>\n",
       "      <th>263</th>\n",
       "      <td>000170F_001</td>\n",
       "      <td>000170F</td>\n",
       "      <td>8799</td>\n",
       "      <td>43.78</td>\n",
       "      <td>99.92</td>\n",
       "    </tr>\n",
       "  </tbody>\n",
       "</table>\n",
       "</div>"
      ],
      "text/plain": [
       "            h-ID     p-ID  h len  %len h_ctg hit  %ID h\n",
       "96   000016F_010  000016F  17363           10.01  90.33\n",
       "99   000016F_006  000016F  13145            3.61  94.95\n",
       "100  000016F_001  000016F  13656            5.29  91.53\n",
       "105  000017F_004  000017F   9700           11.66  90.01\n",
       "108  000017F_007  000017F   8756           12.94  95.30\n",
       "121  000018F_002  000018F   9677           16.84  88.29\n",
       "187  000038F_003  000038F   7495            1.60  97.50\n",
       "204  000049F_002  000049F   9177           24.10  92.80\n",
       "215  000055F_001  000055F  48197           23.48  92.13\n",
       "263  000170F_001  000170F   8799           43.78  99.92"
      ]
     },
     "execution_count": 63,
     "metadata": {},
     "output_type": "execute_result"
    }
   ],
   "source": [
    "h_on_p_summary_df[h_on_p_summary_df['%len h_ctg hit'] < 50]"
   ]
  },
  {
   "cell_type": "code",
   "execution_count": 36,
   "metadata": {
    "collapsed": false
   },
   "outputs": [
    {
     "ename": "TypeError",
     "evalue": "hexbin() missing 2 required positional arguments: 'x' and 'y'",
     "output_type": "error",
     "traceback": [
      "\u001b[0;31m---------------------------------------------------------------------------\u001b[0m",
      "\u001b[0;31mTypeError\u001b[0m                                 Traceback (most recent call last)",
      "\u001b[0;32m<ipython-input-36-d9f535f7765c>\u001b[0m in \u001b[0;36m<module>\u001b[0;34m()\u001b[0m\n\u001b[0;32m----> 1\u001b[0;31m \u001b[0mh_on_p_summary_df\u001b[0m\u001b[0;34m.\u001b[0m\u001b[0mplot\u001b[0m\u001b[0;34m.\u001b[0m\u001b[0mhexbin\u001b[0m\u001b[0;34m(\u001b[0m\u001b[0;34m)\u001b[0m\u001b[0;34m\u001b[0m\u001b[0m\n\u001b[0m",
      "\u001b[0;31mTypeError\u001b[0m: hexbin() missing 2 required positional arguments: 'x' and 'y'"
     ]
    }
   ],
   "source": [
    "h_on_p_summary_df.plot"
   ]
  },
  {
   "cell_type": "code",
   "execution_count": 61,
   "metadata": {
    "collapsed": false
   },
   "outputs": [
    {
     "data": {
      "text/html": [
       "<div>\n",
       "<table border=\"1\" class=\"dataframe\">\n",
       "  <thead>\n",
       "    <tr style=\"text-align: right;\">\n",
       "      <th></th>\n",
       "      <th>h-ID</th>\n",
       "      <th>p-ID</th>\n",
       "      <th>h len</th>\n",
       "      <th>%len h_ctg hit</th>\n",
       "      <th>%ID h</th>\n",
       "    </tr>\n",
       "  </thead>\n",
       "  <tbody>\n",
       "    <tr>\n",
       "      <th>0</th>\n",
       "      <td>000000F_010</td>\n",
       "      <td>000000F</td>\n",
       "      <td>84607</td>\n",
       "      <td>95.81</td>\n",
       "      <td>98.66</td>\n",
       "    </tr>\n",
       "    <tr>\n",
       "      <th>1</th>\n",
       "      <td>000000F_005</td>\n",
       "      <td>000000F</td>\n",
       "      <td>333604</td>\n",
       "      <td>79.68</td>\n",
       "      <td>98.07</td>\n",
       "    </tr>\n",
       "    <tr>\n",
       "      <th>2</th>\n",
       "      <td>000000F_008</td>\n",
       "      <td>000000F</td>\n",
       "      <td>193067</td>\n",
       "      <td>84.60</td>\n",
       "      <td>99.22</td>\n",
       "    </tr>\n",
       "    <tr>\n",
       "      <th>3</th>\n",
       "      <td>000000F_018</td>\n",
       "      <td>000000F</td>\n",
       "      <td>17417</td>\n",
       "      <td>99.77</td>\n",
       "      <td>98.02</td>\n",
       "    </tr>\n",
       "    <tr>\n",
       "      <th>4</th>\n",
       "      <td>000000F_015</td>\n",
       "      <td>000000F</td>\n",
       "      <td>107956</td>\n",
       "      <td>85.48</td>\n",
       "      <td>99.28</td>\n",
       "    </tr>\n",
       "  </tbody>\n",
       "</table>\n",
       "</div>"
      ],
      "text/plain": [
       "          h-ID     p-ID   h len  %len h_ctg hit  %ID h\n",
       "0  000000F_010  000000F   84607           95.81  98.66\n",
       "1  000000F_005  000000F  333604           79.68  98.07\n",
       "2  000000F_008  000000F  193067           84.60  99.22\n",
       "3  000000F_018  000000F   17417           99.77  98.02\n",
       "4  000000F_015  000000F  107956           85.48  99.28"
      ]
     },
     "execution_count": 61,
     "metadata": {},
     "output_type": "execute_result"
    }
   ],
   "source": [
    "h_on_p_summary_df.head()"
   ]
  },
  {
   "cell_type": "code",
   "execution_count": null,
   "metadata": {
    "collapsed": true
   },
   "outputs": [],
   "source": []
  }
 ],
 "metadata": {
  "anaconda-cloud": {},
  "kernelspec": {
   "display_name": "Python [Root]",
   "language": "python",
   "name": "Python [Root]"
  },
  "language_info": {
   "codemirror_mode": {
    "name": "ipython",
    "version": 3
   },
   "file_extension": ".py",
   "mimetype": "text/x-python",
   "name": "python",
   "nbconvert_exporter": "python",
   "pygments_lexer": "ipython3",
   "version": "3.5.2"
  }
 },
 "nbformat": 4,
 "nbformat_minor": 0
}
