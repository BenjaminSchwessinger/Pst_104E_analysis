{
 "cells": [
  {
   "cell_type": "code",
   "execution_count": 5,
   "metadata": {
    "collapsed": false
   },
   "outputs": [],
   "source": [
    "import os\n",
    "from Bio import SeqIO \n",
    "import shutil"
   ]
  },
  {
   "cell_type": "code",
   "execution_count": 17,
   "metadata": {
    "collapsed": false
   },
   "outputs": [],
   "source": [
    "#Define the PATH\n",
    "BASE_AA_PATH = '/home/benjamin/genome_assembly/PST79/FALCON/p_assemblies/v9_1/Pst_104E_v12'\n",
    "BASE_A_PATH = '/home/benjamin/genome_assembly/PST79/FALCON/p_assemblies/v9_1/032017_assembly'\n",
    "OUT_PATH_NUCMER = os.path.join(BASE_AA_PATH, 'nucmer_analysis')\n",
    "OUT_PATH_ASSEMBLETICS = os.path.join(BASE_AA_PATH, 'Assembletics')\n",
    "MUMMER_PATH_PREFIX = '/home/benjamin/anaconda3/bin/'\n",
    "\n",
    "\n",
    "\n",
    "\n",
    "\n",
    "\n",
    "if not os.path.isdir(OUT_PATH_NUCMER):\n",
    "    os.mkdir(OUT_PATH_NUCMER)\n",
    "if not os.path.isdir(OUT_PATH_ASSEMBLETICS):\n",
    "    os.mkdir(OUT_PATH_ASSEMBLETICS)\n",
    "\n",
    "    \n"
   ]
  },
  {
   "cell_type": "code",
   "execution_count": 6,
   "metadata": {
    "collapsed": false
   },
   "outputs": [],
   "source": [
    "#Define your p and h genome and move it into the allele analysis folder\n",
    "genome_prefix  = 'Pst_104E_v12'\n",
    "p_genome = 'Pst_104E_v12_p_ctg'\n",
    "h_genome = 'Pst_104E_v12_h_ctg'\n",
    "genome_file_suffix = '.genome_file'\n",
    "for x in (x + '.fa' for x in [p_genome, h_genome]):\n",
    "    shutil.copy2(BASE_A_PATH+'/'+x, OUT_PATH_NUCMER)\n",
    "    shutil.copy2(BASE_A_PATH+'/'+x, OUT_PATH_ASSEMBLETICS)"
   ]
  },
  {
   "cell_type": "code",
   "execution_count": 7,
   "metadata": {
    "code_folding": [],
    "collapsed": false
   },
   "outputs": [],
   "source": [
    "#define the scripts to generate\n",
    "bash_script_q= genome_prefix+\"_ph_ctg_qmapping.sh\"\n",
    "bash_script_g=genome_prefix+\"_ph_ctg_gmapping.sh\"\n",
    "bash_script_nucmer_assemlytics = genome_prefix +\"_ncumer_assemblyticsmapping.sh\"\n"
   ]
  },
  {
   "cell_type": "code",
   "execution_count": null,
   "metadata": {
    "collapsed": false
   },
   "outputs": [],
   "source": [
    "outfq = open(os.path.join(OUT_PATH_NUCMER, bash_script_q), 'w')\n",
    "outfq.write('#!/bin/bash\\n')\n",
    "outfg = open(os.path.join(OUT_PATH_NUCMER,bash_script_g), 'w')\n",
    "outfg.write('#!/bin/bash\\n')#parsing out P and corresponding h contigs and writing a short ncumer script that aligns them against each other\n",
    "outfna = open(os.path.join(OUT_PATH_ASSEMBLETICS,bash_script_nucmer_assemlytics), 'w')\n",
    "outfna.write('#!/bin/bash\\n')\n",
    "\n",
    "for pseq_record in SeqIO.parse(OUT_PATH_ASSEMBLETICS+'/'+genome_prefix+'_p_ctg.fa', 'fasta'):\n",
    "    p_acontigs = []\n",
    "    p_contig = pseq_record.id.split(\"_\")[0]+\"_\"+pseq_record.id.split(\"_\")[1]\n",
    "    suffix = genome_prefix+\"_\"+p_contig+\"_php\"\n",
    "    p_file = genome_prefix+\"_\"+p_contig+'.fa'\n",
    "    SeqIO.write(pseq_record, OUT_PATH_ASSEMBLETICS+'/'+ p_file, 'fasta')\n",
    "    SeqIO.write(pseq_record,OUT_PATH_NUCMER+'/'+ p_file, 'fasta')\n",
    "    for aseq_record in SeqIO.parse(OUT_PATH_ASSEMBLETICS+'/'+genome_prefix+'_h_ctg.fa', 'fasta'):\n",
    "        if aseq_record.id.split(\"_\")[1]  == pseq_record.id.split(\"_\")[1]:\n",
    "            p_acontigs.append(aseq_record)\n",
    "    a_file = genome_prefix +\"_\"+pseq_record.id.split(\"_\")[0]+\"_\"+pseq_record.id.split(\"_\")[1]+'_h_ctgs.fa'\n",
    "    #if we have alternative contigs safe those too\n",
    "    if p_acontigs != []:\n",
    "        SeqIO.write(p_acontigs, OUT_PATH_ASSEMBLETICS+'/'+  a_file, 'fasta')\n",
    "        SeqIO.write(p_acontigs, OUT_PATH_NUCMER+'/'+  a_file, 'fasta')\n",
    "        outfq.write(MUMMER_PATH_PREFIX +'/nucmer '+p_file+' '+a_file+\" > \"+'out.delta\\n')\n",
    "        outfq.write(MUMMER_PATH_PREFIX +'/delta-filter -q '+'out.delta'+\" > \"+suffix+\"_qfiltered.delta\\n\")\n",
    "        outfq.write(MUMMER_PATH_PREFIX +'/show-coords -T '+suffix+\"_qfiltered.delta > \"+suffix+\".qcoords\\n\")\n",
    "        outfq.write(MUMMER_PATH_PREFIX +'/mummerplot -p '+suffix+'_qfiltered --png '+suffix+\"_qfiltered.delta\\n\")\n",
    "        outfq.write(MUMMER_PATH_PREFIX +'/mummerplot -c -p '+suffix+'_qfiltered_cov --png '+suffix+\"_qfiltered.delta\\n\")\n",
    "        #for g_file bash script\n",
    "        outfg.write(MUMMER_PATH_PREFIX +'/nucmer '+p_file+' '+a_file+\" > \"+'out.delta\\n')\n",
    "        outfg.write(MUMMER_PATH_PREFIX +'/delta-filter -g '+'out.delta'+\" > \"+suffix+\"_gfiltered.delta\\n\")\n",
    "        outfg.write(MUMMER_PATH_PREFIX +'/show-coords -T '+suffix+\"_gfiltered.delta > \"+suffix+\".gcoords\\n\")\n",
    "        outfg.write(MUMMER_PATH_PREFIX +'/mummerplot -p '+suffix+'_gfiltered --png '+suffix+\"_gfiltered.delta\\n\")\n",
    "        outfg.write(MUMMER_PATH_PREFIX +'/mummerplot -c -p  '+suffix+'_gfiltered_cov --png '+suffix+\"_gfiltered.delta\\n\")\n",
    "        #for nucmer assemblytics out\n",
    "        outfna.write(MUMMER_PATH_PREFIX +'/nucmer -maxmatch -l 100 -c 500 '+p_file+' '+a_file+' -prefix ' + suffix +'\\n')\n",
    "outfna.close()    \n",
    "outfq.close()\n",
    "outfg.close()  "
   ]
  },
  {
   "cell_type": "code",
   "execution_count": null,
   "metadata": {
    "collapsed": false
   },
   "outputs": [],
   "source": [
    "!mkdir assemblytics\n",
    "!cp * assemblytics"
   ]
  },
  {
   "cell_type": "raw",
   "metadata": {},
   "source": [
    "Added another line in the nucmer_assemblytics script to map all h on p"
   ]
  },
  {
   "cell_type": "code",
   "execution_count": null,
   "metadata": {
    "collapsed": false
   },
   "outputs": [],
   "source": [
    "outfnarun = open('Pst_E104_v1_assemblytics.sh', 'w')\n",
    "outfnarun.write('#!/bin/bash\\n')\n",
    "\n",
    "files = !ls assemblytics/\n",
    "delta_files = [x for x in files if 'delta' in x]\n",
    "assemblytics_path = '/Users/ben/scripts/Assemblytics'\n",
    "outfnarun.write('export PATH=\"%s\":$PATH\\n'% assemblytics_path)\n",
    "outfnarun.write('#Assemblytics delta_file output_prefix unique_anchor_length path_to_R_scripts\\n')\n",
    "for delta in delta_files:\n",
    "    delta_10kbp = delta[:-6] + '_10kbp'\n",
    "    delta_50kbp = delta[:-6] + '_50kbp'\n",
    "    outfnarun.write(\"mkdir %s\\ncp %s %s\\ncd %s\\n\" % (delta[:-6], delta, delta[:-6], delta[:-6]))\n",
    "    outfnarun.write(\"Assemblytics %s %s 10000 %s\\n\" % (delta, delta_10kbp, assemblytics_path) )\n",
    "    outfnarun.write(\"Assemblytics %s %s 50000 %s\\ncd ..\\n\" % (delta, delta_50kbp, assemblytics_path) )\n",
    "\n",
    "outfnarun.close()\n",
    "!mv Pst_E104_v1_assemblytics.sh assemblytics/"
   ]
  },
  {
   "cell_type": "code",
   "execution_count": null,
   "metadata": {
    "collapsed": false
   },
   "outputs": [],
   "source": [
    "delta_files[0][:-6]"
   ]
  },
  {
   "cell_type": "code",
   "execution_count": null,
   "metadata": {
    "collapsed": false
   },
   "outputs": [],
   "source": [
    "for pseq_record in SeqIO.parse('Pst_E104_v1__pcontig_000_h_ctgs.fa', 'fasta'):\n",
    "    print(pseq_record.id +', %i'%len(pseq_record.seq))"
   ]
  },
  {
   "cell_type": "code",
   "execution_count": null,
   "metadata": {
    "collapsed": true
   },
   "outputs": [],
   "source": []
  }
 ],
 "metadata": {
  "anaconda-cloud": {},
  "kernelspec": {
   "display_name": "Python 3",
   "language": "python",
   "name": "python3"
  },
  "language_info": {
   "codemirror_mode": {
    "name": "ipython",
    "version": 3
   },
   "file_extension": ".py",
   "mimetype": "text/x-python",
   "name": "python",
   "nbconvert_exporter": "python",
   "pygments_lexer": "ipython3",
   "version": "3.5.2"
  }
 },
 "nbformat": 4,
 "nbformat_minor": 0
}
