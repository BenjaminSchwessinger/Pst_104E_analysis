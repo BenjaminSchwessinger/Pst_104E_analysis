{
 "cells": [
  {
   "cell_type": "code",
   "execution_count": 1,
   "metadata": {},
   "outputs": [],
   "source": [
    "%matplotlib inline\n",
    "%load_ext rpy2.ipython"
   ]
  },
  {
   "cell_type": "code",
   "execution_count": 2,
   "metadata": {},
   "outputs": [
    {
     "name": "stderr",
     "output_type": "stream",
     "text": [
      "/home/benjamin/anaconda3/lib/python3.5/site-packages/rpy2/rinterface/__init__.py:186: RRuntimeWarning: Loading required package: ggplot2\n",
      "\n",
      "  warnings.warn(x, RRuntimeWarning)\n",
      "/home/benjamin/anaconda3/lib/python3.5/site-packages/rpy2/rinterface/__init__.py:186: RRuntimeWarning: Loading required package: GenometriCorr\n",
      "\n",
      "  warnings.warn(x, RRuntimeWarning)\n",
      "/home/benjamin/anaconda3/lib/python3.5/site-packages/rpy2/rinterface/__init__.py:186: RRuntimeWarning: Loading required package: IRanges\n",
      "\n",
      "  warnings.warn(x, RRuntimeWarning)\n",
      "/home/benjamin/anaconda3/lib/python3.5/site-packages/rpy2/rinterface/__init__.py:186: RRuntimeWarning: Loading required package: BiocGenerics\n",
      "\n",
      "  warnings.warn(x, RRuntimeWarning)\n",
      "/home/benjamin/anaconda3/lib/python3.5/site-packages/rpy2/rinterface/__init__.py:186: RRuntimeWarning: Loading required package: parallel\n",
      "\n",
      "  warnings.warn(x, RRuntimeWarning)\n",
      "/home/benjamin/anaconda3/lib/python3.5/site-packages/rpy2/rinterface/__init__.py:186: RRuntimeWarning: \n",
      "Attaching package: ‘BiocGenerics’\n",
      "\n",
      "\n",
      "  warnings.warn(x, RRuntimeWarning)\n",
      "/home/benjamin/anaconda3/lib/python3.5/site-packages/rpy2/rinterface/__init__.py:186: RRuntimeWarning: The following objects are masked from ‘package:parallel’:\n",
      "\n",
      "    clusterApply, clusterApplyLB, clusterCall, clusterEvalQ,\n",
      "    clusterExport, clusterMap, parApply, parCapply, parLapply,\n",
      "    parLapplyLB, parRapply, parSapply, parSapplyLB\n",
      "\n",
      "\n",
      "  warnings.warn(x, RRuntimeWarning)\n",
      "/home/benjamin/anaconda3/lib/python3.5/site-packages/rpy2/rinterface/__init__.py:186: RRuntimeWarning: The following objects are masked from ‘package:stats’:\n",
      "\n",
      "    IQR, mad, xtabs\n",
      "\n",
      "\n",
      "  warnings.warn(x, RRuntimeWarning)\n",
      "/home/benjamin/anaconda3/lib/python3.5/site-packages/rpy2/rinterface/__init__.py:186: RRuntimeWarning: The following objects are masked from ‘package:base’:\n",
      "\n",
      "    anyDuplicated, append, as.data.frame, cbind, colnames, do.call,\n",
      "    duplicated, eval, evalq, Filter, Find, get, grep, grepl, intersect,\n",
      "    is.unsorted, lapply, lengths, Map, mapply, match, mget, order,\n",
      "    paste, pmax, pmax.int, pmin, pmin.int, Position, rank, rbind,\n",
      "    Reduce, rownames, sapply, setdiff, sort, table, tapply, union,\n",
      "    unique, unsplit, which, which.max, which.min\n",
      "\n",
      "\n",
      "  warnings.warn(x, RRuntimeWarning)\n",
      "/home/benjamin/anaconda3/lib/python3.5/site-packages/rpy2/rinterface/__init__.py:186: RRuntimeWarning: Loading required package: S4Vectors\n",
      "\n",
      "  warnings.warn(x, RRuntimeWarning)\n",
      "/home/benjamin/anaconda3/lib/python3.5/site-packages/rpy2/rinterface/__init__.py:186: RRuntimeWarning: Loading required package: stats4\n",
      "\n",
      "  warnings.warn(x, RRuntimeWarning)\n",
      "/home/benjamin/anaconda3/lib/python3.5/site-packages/rpy2/rinterface/__init__.py:186: RRuntimeWarning: \n",
      "Attaching package: ‘S4Vectors’\n",
      "\n",
      "\n",
      "  warnings.warn(x, RRuntimeWarning)\n",
      "/home/benjamin/anaconda3/lib/python3.5/site-packages/rpy2/rinterface/__init__.py:186: RRuntimeWarning: The following objects are masked from ‘package:base’:\n",
      "\n",
      "    colMeans, colSums, expand.grid, rowMeans, rowSums\n",
      "\n",
      "\n",
      "  warnings.warn(x, RRuntimeWarning)\n",
      "/home/benjamin/anaconda3/lib/python3.5/site-packages/rpy2/rinterface/__init__.py:186: RRuntimeWarning: Loading required package: GenomicFeatures\n",
      "\n",
      "  warnings.warn(x, RRuntimeWarning)\n",
      "/home/benjamin/anaconda3/lib/python3.5/site-packages/rpy2/rinterface/__init__.py:186: RRuntimeWarning: Loading required package: GenomeInfoDb\n",
      "\n",
      "  warnings.warn(x, RRuntimeWarning)\n",
      "/home/benjamin/anaconda3/lib/python3.5/site-packages/rpy2/rinterface/__init__.py:186: RRuntimeWarning: Loading required package: GenomicRanges\n",
      "\n",
      "  warnings.warn(x, RRuntimeWarning)\n",
      "/home/benjamin/anaconda3/lib/python3.5/site-packages/rpy2/rinterface/__init__.py:186: RRuntimeWarning: Loading required package: AnnotationDbi\n",
      "\n",
      "  warnings.warn(x, RRuntimeWarning)\n",
      "/home/benjamin/anaconda3/lib/python3.5/site-packages/rpy2/rinterface/__init__.py:186: RRuntimeWarning: Loading required package: Biobase\n",
      "\n",
      "  warnings.warn(x, RRuntimeWarning)\n",
      "/home/benjamin/anaconda3/lib/python3.5/site-packages/rpy2/rinterface/__init__.py:186: RRuntimeWarning: Welcome to Bioconductor\n",
      "\n",
      "    Vignettes contain introductory material; view with\n",
      "    'browseVignettes()'. To cite Bioconductor, see\n",
      "    'citation(\"Biobase\")', and for packages 'citation(\"pkgname\")'.\n",
      "\n",
      "\n",
      "  warnings.warn(x, RRuntimeWarning)\n",
      "/home/benjamin/anaconda3/lib/python3.5/site-packages/rpy2/rinterface/__init__.py:186: RRuntimeWarning: Loading required package: tcltk\n",
      "\n",
      "  warnings.warn(x, RRuntimeWarning)\n",
      "/home/benjamin/anaconda3/lib/python3.5/site-packages/rpy2/rinterface/__init__.py:186: RRuntimeWarning: Welcome to GenometriCorr version  1.1.17\n",
      "\n",
      "  warnings.warn(x, RRuntimeWarning)\n",
      "/home/benjamin/anaconda3/lib/python3.5/site-packages/rpy2/rinterface/__init__.py:186: RRuntimeWarning: Loading required package: rtracklayer\n",
      "\n",
      "  warnings.warn(x, RRuntimeWarning)\n"
     ]
    },
    {
     "data": {
      "text/plain": [
       "array([1], dtype=int32)"
      ]
     },
     "execution_count": 2,
     "metadata": {},
     "output_type": "execute_result"
    }
   ],
   "source": [
    "%R require(ggplot2); require(GenometriCorr) ; require(rtracklayer);require( rtracklayer);\\\n",
    "require(IRanges)"
   ]
  },
  {
   "cell_type": "code",
   "execution_count": 3,
   "metadata": {
    "collapsed": true
   },
   "outputs": [],
   "source": [
    "import shutil, errno\n",
    "from glob import glob as glb\n",
    "import os\n",
    "\n",
    "def copyanything(src, dest_dir):\n",
    "    for filename in glb(os.path.join(src, '*.*')):\n",
    "        shutil.copy(filename, dest_dir)"
   ]
  },
  {
   "cell_type": "code",
   "execution_count": 4,
   "metadata": {
    "collapsed": true
   },
   "outputs": [],
   "source": [
    "from IPython.display import HTML\n",
    "def PDF(url):\n",
    "    return HTML('<iframe src=./tmp_figures/%s width=700 height=350></iframe>' % url)"
   ]
  },
  {
   "cell_type": "code",
   "execution_count": 5,
   "metadata": {
    "collapsed": true
   },
   "outputs": [],
   "source": [
    "OUT_FOLDER_FIG = '/home/benjamin/genome_assembly/PST79/FALCON/p_assemblies/v9_1/Pst_104E_v12/enrichment_analysis/figures'\n",
    "TMP_FIG_PATH = '/home/benjamin/genome_assembly/PST79/FALCON/p_assemblies/v9_1/downstream_analysis_2017/scripts/tmp_figures'"
   ]
  },
  {
   "cell_type": "code",
   "execution_count": 6,
   "metadata": {
    "collapsed": true
   },
   "outputs": [],
   "source": [
    "import pandas as pd \n",
    "# Make a pandas DataFrame\n",
    "df = pd.DataFrame({'Alphabet': ['a', 'b', 'c', 'd','e', 'f', 'g', 'h','i'],\n",
    "                   'A': [4, 3, 5, 2, 1, 7, 7, 5, 9],\n",
    "                   'B': [0, 4, 3, 6, 7, 10,11, 9, 13],\n",
    "                   'C': [1, 2, 3, 1, 2, 3, 1, 2, 3]})"
   ]
  },
  {
   "cell_type": "code",
   "execution_count": 7,
   "metadata": {},
   "outputs": [
    {
     "data": {
      "image/png": "[encoded data removed]"
     },
     "metadata": {},
     "output_type": "display_data"
    }
   ],
   "source": [
    "%%R -i df\n",
    "ggplot(data=df) + geom_point(aes(x=A, y=B, color=C))"
   ]
  },
  {
   "cell_type": "code",
   "execution_count": 8,
   "metadata": {},
   "outputs": [
    {
     "data": {
      "image/png": "[encoded data removed]"
     },
     "metadata": {},
     "output_type": "display_data"
    }
   ],
   "source": [
    "%%R \n",
    "library(\"rtracklayer\")\n",
    "library(\"TxDb.Hsapiens.UCSC.hg19.knownGene\")\n",
    "library(\"IRanges\")\n",
    "refseq <- transcripts(TxDb.Hsapiens.UCSC.hg19.knownGene)\n",
    "cpgis <- import(system.file(\"extdata\", \"UCSCcpgis_hg19.bed\", package = \"GenometriCorr\"))\n",
    "seqinfo(cpgis) <- seqinfo(TxDb.Hsapiens.UCSC.hg19.knownGene)[seqnames(seqinfo(cpgis))]\n",
    "cpgis\n",
    "GenometriCorr:::VisualiseTwoIRanges(ranges(cpgis[seqnames(cpgis) == 'chr1']), ranges(refseq[seqnames(refseq) == \"chr1\"]), nameA = \"CpG Islands\", nameB = \"RefSeq Genes\", chrom_length = seqlengths(TxDb.Hsapiens.UCSC.hg19.knownGene)[\"chr1\"],title = \"CpGIslands and RefGenes on chr1 of Hg19\")"
   ]
  },
  {
   "cell_type": "code",
   "execution_count": 9,
   "metadata": {},
   "outputs": [
    {
     "data": {
      "text/plain": [
       "GRanges object with 28691 ranges and 0 metadata columns:\n",
       "                       seqnames           ranges strand\n",
       "                          <Rle>        <IRanges>  <Rle>\n",
       "      [1]                  chr1 [ 28736,  29810]      *\n",
       "      [2]                  chr1 [135125, 135563]      *\n",
       "      [3]                  chr1 [327791, 328229]      *\n",
       "      [4]                  chr1 [437152, 438164]      *\n",
       "      [5]                  chr1 [449274, 450544]      *\n",
       "      ...                   ...              ...    ...\n",
       "  [28687]  chr9_gl000201_random [ 15651,  15909]      *\n",
       "  [28688]  chr9_gl000201_random [ 26397,  26873]      *\n",
       "  [28689] chr11_gl000202_random [ 16284,  16540]      *\n",
       "  [28690] chr17_gl000204_random [ 54686,  57368]      *\n",
       "  [28691] chr17_gl000205_random [117501, 117801]      *\n",
       "  -------\n",
       "  seqinfo: 69 sequences from hg19 genome\n"
      ]
     },
     "metadata": {},
     "output_type": "display_data"
    }
   ],
   "source": [
    "%%R\n",
    "cpgis <- import(system.file(\"extdata\", \"UCSCcpgis_hg19.bed\", package = \"GenometriCorr\"))\n",
    "seqinfo(cpgis) <- seqinfo(TxDb.Hsapiens.UCSC.hg19.knownGene)[seqnames(seqinfo(cpgis))]\n",
    "cpgis"
   ]
  },
  {
   "cell_type": "code",
   "execution_count": 10,
   "metadata": {},
   "outputs": [
    {
     "data": {
      "text/plain": [
       "                                               chr1         chr2        \n",
       "query.population                               2462         1688        \n",
       "reference.population                           7967         5092        \n",
       "query.coverage                                 1881629      1379397     \n",
       "reference.coverage                             116939971    109822784   \n",
       "relative.distances.ks.p.value                  2.199463e-11 0           \n",
       "relative.distances.ecdf.deviation.area         0.02188097   0.03430315  \n",
       "relative.distances.ecdf.area.correlation       0.08747395   0.1370043   \n",
       "query.reference.intersection                   1305420      889234      \n",
       "query.reference.union                          117516180    110312947   \n",
       "jaccard.measure                                0.01110843   0.008061012 \n",
       "projection.test.p.value                        0            0           \n",
       "projection.test.lower.tail                     FALSE        FALSE       \n",
       "projection.test.obs.to.exp                     1.597282     1.474565    \n",
       "scaled.absolute.min.distance.sum               1536.773     959.9135    \n",
       "reference.middles                              Numeric,7967 Numeric,5092\n",
       "relative.distances.ecdf.deviation.area.p.value \"<0.01\"      \"<0.01\"     \n",
       "scaled.absolute.min.distance.sum.p.value       \"<0.01\"      \"<0.01\"     \n",
       "scaled.absolute.min.distance.sum.lower.tail    TRUE         TRUE        \n",
       "jaccard.measure.p.value                        \"<0.01\"      \"<0.01\"     \n",
       "jaccard.measure.lower.tail                     FALSE        FALSE       \n",
       "                                               chr3         awhole     \n",
       "query.population                               1163         5313       \n",
       "reference.population                           4328         17387      \n",
       "query.coverage                                 882783       4143809    \n",
       "reference.coverage                             100086725    326849480  \n",
       "relative.distances.ks.p.value                  2.589502e-10 0          \n",
       "relative.distances.ecdf.deviation.area         0.02144485   0.02563675 \n",
       "relative.distances.ecdf.area.correlation       0.08809636   0.1033465  \n",
       "query.reference.intersection                   631106       2825760    \n",
       "query.reference.union                          100338402    328167529  \n",
       "jaccard.measure                                0.006289775  0.008610724\n",
       "projection.test.p.value                        0            0          \n",
       "projection.test.lower.tail                     FALSE        FALSE      \n",
       "projection.test.obs.to.exp                     1.478352     1.526032   \n",
       "scaled.absolute.min.distance.sum               681.6992     3178.385   \n",
       "reference.middles                              Numeric,4328 NULL       \n",
       "relative.distances.ecdf.deviation.area.p.value \"<0.01\"      \"<0.01\"    \n",
       "scaled.absolute.min.distance.sum.p.value       \"<0.01\"      \"<0.01\"    \n",
       "scaled.absolute.min.distance.sum.lower.tail    TRUE         TRUE       \n",
       "jaccard.measure.p.value                        \"<0.01\"      \"<0.01\"    \n",
       "jaccard.measure.lower.tail                     FALSE        FALSE      \n"
      ]
     },
     "metadata": {},
     "output_type": "display_data"
    }
   ],
   "source": [
    "%%R\n",
    "pn.area <- 100\n",
    "pn.dist <- 100\n",
    "pn.jacc <- 100\n",
    "cpgi_to_genes <- GenometriCorr:::GenometriCorrelation(cpgis, refseq, chromosomes.to.proceed = c(\"chr1\",\"chr2\", \"chr3\"), ecdf.area.permut.number = pn.area,mean.distance.permut.number = pn.dist,jaccard.measure.permut.number = pn.jacc,keep.distributions = TRUE, showProgressBar = FALSE)\n",
    "print(cpgi_to_genes)"
   ]
  },
  {
   "cell_type": "code",
   "execution_count": null,
   "metadata": {
    "collapsed": true
   },
   "outputs": [],
   "source": [
    "%%R\n",
    "GenometriCorr:::graphical.report(cpgi_to_genes, pdffile = \"CpGi_to_RefSeq_chr1_picture.pdf\", show.chromosomes = c(\"chr1\"), show.all = FALSE)"
   ]
  },
  {
   "cell_type": "code",
   "execution_count": 22,
   "metadata": {
    "collapsed": true
   },
   "outputs": [],
   "source": [
    "%%R\n",
    "setwd(\"/home/benjamin/genome_assembly/PST79/FALCON/p_assemblies/v9_1/Pst_104E_v12/enrichment_analysis/lists\")\n",
    "getwd()\n",
    "busco_bed <- import(\"Pst_104E_v12_p_busco.gene.bed\", format ='bed')\n",
    "effector_bed <- import(\"Pst_104E_v12_p_effector.gene.bed\", format='bed')\n",
    "no_effector_bed <- import(\"Pst_104E_v12_p_effectorp_noeffector.gene.bed\", format='bed')\n",
    "#Pst_104E_seqinfo <- import(\"../../../032017_assembly/Pst_104E_v12_p_ctg.genome_file\", as = \"Rle\")\n",
    "#Pst_104E_seqinfo\n",
    "#effector_bed\n",
    "pn.area <- 100\n",
    "pn.dist <- 100\n",
    "pn.jacc <- 100\n",
    "effector_to_busco <- GenometriCorr:::GenometriCorrelation(effector_bed, busco_bed,  ecdf.area.permut.number = pn.area,mean.distance.permut.number = pn.dist,jaccard.measure.permut.number = pn.jacc,keep.distributions = TRUE, showProgressBar = FALSE)\n",
    "effector_to_no_effector <- GenometriCorr:::GenometriCorrelation(effector_bed, no_effector_bed,  ecdf.area.permut.number = pn.area,mean.distance.permut.number = pn.dist,jaccard.measure.permut.number = pn.jacc,keep.distributions = TRUE, showProgressBar = FALSE)\n"
   ]
  },
  {
   "cell_type": "code",
   "execution_count": 23,
   "metadata": {},
   "outputs": [
    {
     "data": {
      "text/plain": [
       "png \n",
       "  2 \n"
      ]
     },
     "metadata": {},
     "output_type": "display_data"
    }
   ],
   "source": [
    "%%R\n",
    "GenometriCorr:::graphical.report(effector_to_busco, pdffile = \"../figures/Pst_104E_p_effector_to_busco.pdf\",  show.all = TRUE)\n",
    "GenometriCorr:::graphical.report(effector_to_no_effector , pdffile = \"../figures/Pst_104E_p_effector_to_no_effector.pdf\",  show.all = TRUE)\n",
    "GenometriCorr:::visualize(effector_to_busco, pdffile = \"../figures/Pst_104E_p_effector_to_busco_vis.pdf\",show.all = TRUE)\n",
    "GenometriCorr:::visualize(effector_to_no_effector, pdffile = \"../figures/Pst_104E_p_effector_to_no_effector_vis.pdf\",show.all = TRUE)\n"
   ]
  },
  {
   "cell_type": "code",
   "execution_count": 26,
   "metadata": {},
   "outputs": [
    {
     "data": {
      "text/plain": [
       "png \n",
       "  2 \n"
      ]
     },
     "metadata": {},
     "output_type": "display_data"
    }
   ],
   "source": [
    "%%R\n",
    "busco_bed_to_no_effector <- GenometriCorr:::GenometriCorrelation(busco_bed, no_effector_bed,  ecdf.area.permut.number = pn.area,mean.distance.permut.number = pn.dist,jaccard.measure.permut.number = pn.jacc,keep.distributions = TRUE, showProgressBar = FALSE)\n",
    "GenometriCorr:::graphical.report(busco_bed_to_no_effector , pdffile = \"../figures/Pst_104E_p_busco_to_no_effector.pdf\",  show.all = TRUE)\n",
    "GenometriCorr:::visualize(busco_bed_to_no_effector, pdffile = \"../figures/Pst_104E_p_busco_to_no_effector_vis.pdf\",show.all = TRUE)"
   ]
  },
  {
   "cell_type": "code",
   "execution_count": 45,
   "metadata": {},
   "outputs": [
    {
     "name": "stdout",
     "output_type": "stream",
     "text": [
      "Pst_104E_p_busco_to_effector_pcontig_003.pdf\r\n",
      "Pst_104E_v12_cluster_8.gene.bed\r\n",
      "Pst_104E_v12_cluster_8.gene.gff3\r\n",
      "Pst_104E_v12_cluster_8.list\r\n",
      "Pst_104E_v12_h_all.gene.gff3\r\n",
      "Pst_104E_v12_h_busco.gene.gff3\r\n",
      "Pst_104E_v12_h_busco.list\r\n",
      "Pst_104E_v12_h_ctg.REPET.gff\r\n",
      "Pst_104E_v12_h_ctg.REPET.sorted.superfamily.gff\r\n",
      "Pst_104E_v12_h_effector.gene.gff3\r\n",
      "Pst_104E_v12_h_effector.list\r\n",
      "Pst_104E_v12_h_effector.protein.fasta\r\n",
      "Pst_104E_v12_h_noeffector.gene.gff3\r\n",
      "Pst_104E_v12_h_noeffector.list\r\n",
      "Pst_104E_v12_p_all.gene.bed\r\n",
      "Pst_104E_v12_p_all.gene.gff3\r\n",
      "Pst_104E_v12_p_busco.gene.bed\r\n",
      "Pst_104E_v12_p_busco.gene.gff3\r\n",
      "Pst_104E_v12_p_busco.list\r\n",
      "Pst_104E_v12_p_ctg.REPET.gff\r\n",
      "Pst_104E_v12_p_ctg.REPET.sorted.greater400.superfamily.gff\r\n",
      "Pst_104E_v12_p_ctg.REPET.sorted.superfamily.gff\r\n",
      "Pst_104E_v12_p_ctg.REPET.sorted.tmpsuperfamily.bed\r\n",
      "Pst_104E_v12_p_ctg.REPET.sorted.tmpsuperfamily.gff\r\n",
      "Pst_104E_v12_p_effector.gene.bed\r\n",
      "Pst_104E_v12_p_effector.gene.gff3\r\n",
      "Pst_104E_v12_p_effector.list\r\n",
      "Pst_104E_v12_p_effectorp_noeffector.gene.bed\r\n",
      "Pst_104E_v12_p_effectorp_noeffector.gene.gff3\r\n",
      "Pst_104E_v12_p_effector.protein.fasta\r\n",
      "Pst_104E_v12_p_noeffector.gene.gff3\r\n",
      "Pst_104E_v12_p_noeffector.list\r\n",
      "Pst_104E_v12_p_non_busco.gene.bed\r\n",
      "Pst_104E_v12_p_non_busco.gene.gff3\r\n",
      "Pst_104E_v12_p_non_busco.list\r\n"
     ]
    }
   ],
   "source": [
    "!ls"
   ]
  },
  {
   "cell_type": "code",
   "execution_count": 50,
   "metadata": {},
   "outputs": [
    {
     "data": {
      "text/plain": [
       "png \n",
       "  2 \n"
      ]
     },
     "metadata": {},
     "output_type": "display_data"
    }
   ],
   "source": [
    "%%R\n",
    "#no_busco_bed <- import(\"Pst_104E_v12_p_non_busco.gene.bed\", format ='bed')\n",
    "#busco_bed_to_no_busco <- GenometriCorr:::GenometriCorrelation(no_busco_bed , no_effector_bed,  ecdf.area.permut.number = pn.area,mean.distance.permut.number = pn.dist,jaccard.measure.permut.number = pn.jacc,keep.distributions = TRUE, showProgressBar = FALSE)\n",
    "GenometriCorr:::graphical.report(busco_bed_to_no_busco , pdffile = \"../figures/Pst_104E_p_busco_to_no_busco.pdf\",  show.all = TRUE)\n",
    "GenometriCorr:::visualize(busco_bed_to_no_busco, pdffile = \"../figures/Pst_104E_p_busco_to_no_busco_vis.pdf\",show.all = TRUE)"
   ]
  },
  {
   "cell_type": "code",
   "execution_count": null,
   "metadata": {
    "collapsed": true
   },
   "outputs": [],
   "source": []
  },
  {
   "cell_type": "code",
   "execution_count": null,
   "metadata": {
    "collapsed": true
   },
   "outputs": [],
   "source": []
  },
  {
   "cell_type": "markdown",
   "metadata": {},
   "source": [
    "Doing comparison with TEs"
   ]
  },
  {
   "cell_type": "code",
   "execution_count": null,
   "metadata": {
    "collapsed": true
   },
   "outputs": [],
   "source": [
    "%%R\n",
    "#now compare relations ship between TEs greater 400 and all sets of genes\n",
    "setwd(\"/home/benjamin/genome_assembly/PST79/FALCON/p_assemblies/v9_1/Pst_104E_v12/enrichment_analysis/lists\")\n",
    "getwd()\n",
    "busco_bed <- import(\"Pst_104E_v12_p_busco.gene.bed\", format ='bed')\n",
    "effector_bed <- import(\"Pst_104E_v12_p_effector.gene.bed\", format='bed')\n",
    "no_effector_bed <- import(\"Pst_104E_v12_p_effectorp_noeffector.gene.bed\", format='bed')\n",
    "TE_greater_400_bed <- import(\"Pst_104E_v12_p_ctg.REPET.sorted.greater400.superfamily.gff\")\n",
    "TE_g400_to_busco <- GenometriCorr:::GenometriCorrelation(TE_greater_400_bed, busco_bed,  ecdf.area.permut.number = pn.area,mean.distance.permut.number = pn.dist,jaccard.measure.permut.number = pn.jacc,keep.distributions = TRUE, showProgressBar = FALSE)\n",
    "TE_g400_to_effector <- GenometriCorr:::GenometriCorrelation(TE_greater_400_bed, effector_bed,  ecdf.area.permut.number = pn.area,mean.distance.permut.number = pn.dist,jaccard.measure.permut.number = pn.jacc,keep.distributions = TRUE, showProgressBar = FALSE)\n",
    "TE_g400_to_no_effector <- GenometriCorr:::GenometriCorrelation(TE_greater_400_bed, no_effector_bed,  ecdf.area.permut.number = pn.area,mean.distance.permut.number = pn.dist,jaccard.measure.permut.number = pn.jacc,keep.distributions = TRUE, showProgressBar = FALSE)"
   ]
  },
  {
   "cell_type": "code",
   "execution_count": null,
   "metadata": {
    "collapsed": true
   },
   "outputs": [],
   "source": [
    "%%R\n",
    "\n",
    "GenometriCorr:::graphical.report(TE_g400_to_busco  , pdffile = \"../figures/Pst_104E_p_TE_g400_to_busco.pdf\",  show.all = TRUE)\n",
    "GenometriCorr:::visualize(TE_g400_to_busco , pdffile = \"../figures/Pst_104E_p_busco_TE_g400_to_busco_vis.pdf\",show.all = TRUE)\n",
    "\n",
    "GenometriCorr:::graphical.report(TE_g400_to_effector  , pdffile = \"../figures/Pst_104E_p_TE_g400_to_effector.pdf\",  show.all = TRUE)\n",
    "GenometriCorr:::visualize(TE_g400_to_effector , pdffile = \"../figures/Pst_104E_p_busco_TE_g400_to_effector_vis.pdf\",show.all = TRUE)\n",
    "\n",
    "GenometriCorr:::graphical.report(TE_g400_to_no_effector  , pdffile = \"../figures/Pst_104E_p_TE_g400_to_no_effector.pdf\",  show.all = TRUE)\n",
    "GenometriCorr:::visualize(TE_g400_to_no_effector , pdffile = \"../figures/Pst_104E_p_busco_TE_g400_to_no_effector.pdf\",show.all = TRUE)"
   ]
  },
  {
   "cell_type": "code",
   "execution_count": null,
   "metadata": {
    "collapsed": true
   },
   "outputs": [],
   "source": []
  },
  {
   "cell_type": "code",
   "execution_count": 51,
   "metadata": {
    "collapsed": true
   },
   "outputs": [],
   "source": [
    "#this moves the file to a folder were jupyter can access it for displaying.\n",
    "copyanything(OUT_FOLDER_FIG, TMP_FIG_PATH)"
   ]
  },
  {
   "cell_type": "code",
   "execution_count": 52,
   "metadata": {},
   "outputs": [
    {
     "data": {
      "text/html": [
       "<iframe src=./tmp_figures/Pst_104E_p_effector_to_no_effector.pdf width=700 height=350></iframe>"
      ],
      "text/plain": [
       "<IPython.core.display.HTML object>"
      ]
     },
     "execution_count": 52,
     "metadata": {},
     "output_type": "execute_result"
    }
   ],
   "source": [
    "PDF('Pst_104E_p_effector_to_no_effector.pdf')"
   ]
  },
  {
   "cell_type": "code",
   "execution_count": null,
   "metadata": {
    "collapsed": true
   },
   "outputs": [],
   "source": []
  },
  {
   "cell_type": "code",
   "execution_count": 40,
   "metadata": {},
   "outputs": [
    {
     "data": {
      "text/html": [
       "<iframe src=./tmp_figures/Pst_104E_p_effector_to_busco_vis.pdf width=700 height=350></iframe>"
      ],
      "text/plain": [
       "<IPython.core.display.HTML object>"
      ]
     },
     "execution_count": 40,
     "metadata": {},
     "output_type": "execute_result"
    }
   ],
   "source": [
    "PDF('Pst_104E_p_effector_to_busco_vis.pdf')"
   ]
  },
  {
   "cell_type": "code",
   "execution_count": 41,
   "metadata": {},
   "outputs": [
    {
     "data": {
      "text/html": [
       "<iframe src=./tmp_figures/Pst_104E_p_TE_g400_to_busco.pdf width=700 height=350></iframe>"
      ],
      "text/plain": [
       "<IPython.core.display.HTML object>"
      ]
     },
     "execution_count": 41,
     "metadata": {},
     "output_type": "execute_result"
    }
   ],
   "source": [
    "PDF(\"Pst_104E_p_TE_g400_to_busco.pdf\")"
   ]
  },
  {
   "cell_type": "code",
   "execution_count": 42,
   "metadata": {},
   "outputs": [
    {
     "data": {
      "text/html": [
       "<iframe src=./tmp_figures/Pst_104E_p_TE_g400_to_effector.pdf width=700 height=350></iframe>"
      ],
      "text/plain": [
       "<IPython.core.display.HTML object>"
      ]
     },
     "execution_count": 42,
     "metadata": {},
     "output_type": "execute_result"
    }
   ],
   "source": [
    "PDF(\"Pst_104E_p_TE_g400_to_effector.pdf\")"
   ]
  },
  {
   "cell_type": "code",
   "execution_count": 43,
   "metadata": {},
   "outputs": [
    {
     "data": {
      "text/html": [
       "<iframe src=./tmp_figures/Pst_104E_p_TE_g400_to_no_effector.pdf width=700 height=350></iframe>"
      ],
      "text/plain": [
       "<IPython.core.display.HTML object>"
      ]
     },
     "execution_count": 43,
     "metadata": {},
     "output_type": "execute_result"
    }
   ],
   "source": [
    "PDF(\"Pst_104E_p_TE_g400_to_no_effector.pdf\")"
   ]
  },
  {
   "cell_type": "code",
   "execution_count": 49,
   "metadata": {},
   "outputs": [
    {
     "data": {
      "text/html": [
       "<iframe src=./tmp_figures/Pst_104E_p_busco_to_no_busco.pdf width=700 height=350></iframe>"
      ],
      "text/plain": [
       "<IPython.core.display.HTML object>"
      ]
     },
     "execution_count": 49,
     "metadata": {},
     "output_type": "execute_result"
    }
   ],
   "source": [
    "PDF('Pst_104E_p_busco_to_no_busco.pdf')"
   ]
  },
  {
   "cell_type": "code",
   "execution_count": null,
   "metadata": {
    "collapsed": true
   },
   "outputs": [],
   "source": []
  },
  {
   "cell_type": "code",
   "execution_count": null,
   "metadata": {
    "collapsed": true
   },
   "outputs": [],
   "source": []
  },
  {
   "cell_type": "code",
   "execution_count": null,
   "metadata": {
    "collapsed": true
   },
   "outputs": [],
   "source": []
  },
  {
   "cell_type": "code",
   "execution_count": 44,
   "metadata": {},
   "outputs": [
    {
     "data": {
      "text/html": [
       "<iframe src=./tmp_figures/Pst_104E_p_busco_to_no_effector.pdf width=700 height=350></iframe>"
      ],
      "text/plain": [
       "<IPython.core.display.HTML object>"
      ]
     },
     "execution_count": 44,
     "metadata": {},
     "output_type": "execute_result"
    }
   ],
   "source": [
    "#not working as this also includes buscos. Needs to be none BUSCOS\n",
    "PDF('Pst_104E_p_busco_to_no_effector.pdf')"
   ]
  },
  {
   "cell_type": "code",
   "execution_count": null,
   "metadata": {
    "collapsed": true
   },
   "outputs": [],
   "source": []
  }
 ],
 "metadata": {
  "kernelspec": {
   "display_name": "Python 3",
   "language": "python",
   "name": "python3"
  },
  "language_info": {
   "codemirror_mode": {
    "name": "ipython",
    "version": 3
   },
   "file_extension": ".py",
   "mimetype": "text/x-python",
   "name": "python",
   "nbconvert_exporter": "python",
   "pygments_lexer": "ipython3",
   "version": "3.5.3"
  }
 },
 "nbformat": 4,
 "nbformat_minor": 1
}
