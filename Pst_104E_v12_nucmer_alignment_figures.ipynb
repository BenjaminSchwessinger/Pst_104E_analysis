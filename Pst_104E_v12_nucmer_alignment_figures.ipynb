{
 "cells": [
  {
   "cell_type": "markdown",
   "metadata": {},
   "source": [
    "Based on the assembletics analysis in Pst_104E_v12_assembletics_analysis on fisher. This script aims to generate some figures for the paper showing two dot plots of two contigs\n",
    "Do plots for the following contigs\n",
    "pcontig_002, pcontig_019, pcontig_028"
   ]
  },
  {
   "cell_type": "code",
   "execution_count": 127,
   "metadata": {
    "collapsed": false
   },
   "outputs": [],
   "source": [
    "%matplotlib inline\n",
    "import pandas as pd\n",
    "import os\n",
    "import re\n",
    "from Bio import SeqIO\n",
    "import pysam\n",
    "from Bio.SeqRecord import SeqRecord\n",
    "from Bio.Seq import Seq\n",
    "from Bio import SearchIO\n",
    "import shutil"
   ]
  },
  {
   "cell_type": "code",
   "execution_count": 128,
   "metadata": {
    "collapsed": false
   },
   "outputs": [],
   "source": [
    "NUCMER_FOLDER_IN = '/Users/ben/Documents/work_related/Canberra/RJ_lab_projects/Rust_genome_sequencing/PST79/analysis/PacBio_SCH1743/FALCON_0_4_assemblies/p_assemblies/v9_1/Pst_104E_v12/nucmer_analysis/'\n",
    "NUCMER_FOLDER_OUT = '/Users/ben/Documents/work_related/Canberra/RJ_lab_projects/Rust_genome_sequencing/PST79/analysis/PacBio_SCH1743/FALCON_0_4_assemblies/p_assemblies/v9_1/Pst_104E_v12/nucmer_analysis/nucmer_plots/'"
   ]
  },
  {
   "cell_type": "code",
   "execution_count": 129,
   "metadata": {
    "collapsed": false
   },
   "outputs": [],
   "source": [
    "#define file names\n",
    "pcontig_002_fn = 'Pst_104E_v12_pcontig_002.fa'\n",
    "pcontig_002_h_fn = 'Pst_104E_v12_pcontig_002_h_ctgs.fa'\n",
    "pcontig_019_fn = 'Pst_104E_v12_pcontig_019.fa'\n",
    "pcontig_019_h_fn = 'Pst_104E_v12_pcontig_019_h_ctgs.fa'\n",
    "pcontig_028_fn = 'Pst_104E_v12_pcontig_028.fa'\n",
    "pcontig_028_h_fn = 'Pst_104E_v12_pcontig_028_h_ctgs.fa'"
   ]
  },
  {
   "cell_type": "code",
   "execution_count": 130,
   "metadata": {
    "collapsed": false
   },
   "outputs": [],
   "source": [
    "#now read in the h files and order them accordingly\n",
    "h_002_fh = open(os.path.join(NUCMER_FOLDER_IN, pcontig_002_h_fn), 'r')\n",
    "order = ['hcontig_002_011', 'hcontig_002_023', 'hcontig_002_029', 'hcontig_002_028', 'hcontig_002_004'\\\n",
    "         ,'hcontig_002_021','hcontig_002_019']\n",
    "out_list = [0]*len(order)\n",
    "index_dict = {}\n",
    "for seq in SeqIO.parse(h_002_fh, 'fasta'):\n",
    "    out_list[order.index(seq.id)] = seq\n",
    "h_002_fh.close()"
   ]
  },
  {
   "cell_type": "code",
   "execution_count": 131,
   "metadata": {
    "collapsed": false
   },
   "outputs": [
    {
     "data": {
      "text/plain": [
       "'/Users/ben/Documents/work_related/Canberra/RJ_lab_projects/Rust_genome_sequencing/PST79/analysis/PacBio_SCH1743/FALCON_0_4_assemblies/p_assemblies/v9_1/Pst_104E_v12/nucmer_analysis/nucmer_plots/Pst_104E_v12_pcontig_002.fa'"
      ]
     },
     "execution_count": 131,
     "metadata": {},
     "output_type": "execute_result"
    }
   ],
   "source": [
    "#write out files and move files to output folder\n",
    "h_002_out_fh = open(os.path.join(NUCMER_FOLDER_OUT, pcontig_002_h_fn), 'w')\n",
    "SeqIO.write(out_list, h_002_out_fh, 'fasta')\n",
    "h_002_out_fh.close()\n",
    "shutil.copyfile(os.path.join(NUCMER_FOLDER_IN, pcontig_002_fn), os.path.join(NUCMER_FOLDER_OUT, pcontig_002_fn))"
   ]
  },
  {
   "cell_type": "code",
   "execution_count": 148,
   "metadata": {
    "collapsed": false
   },
   "outputs": [
    {
     "name": "stdout",
     "output_type": "stream",
     "text": [
      "1: PREPARING DATA\n",
      "2,3: RUNNING mummer AND CREATING CLUSTERS\n",
      "# reading input file \"Pst_104E_v12_pcontig_002.ntref\" of length 2342973\n",
      "# construct suffix tree for sequence of length 2342973\n",
      "# (maximum reference length is 536870908)\n",
      "# (maximum query length is 4294967295)\n",
      "# process 23429 characters per dot\n",
      "#....................................................................................................\n",
      "# CONSTRUCTIONTIME /Users/ben/anaconda3/opt/mummer-3.23/mummer Pst_104E_v12_pcontig_002.ntref 1.31\n",
      "# reading input file \"/Users/ben/Documents/work_related/Canberra/RJ_lab_projects/Rust_genome_sequencing/PST79/analysis/PacBio_SCH1743/FALCON_0_4_assemblies/p_assemblies/v9_1/Pst_104E_v12/nucmer_analysis/nucmer_plots/Pst_104E_v12_pcontig_002_h_ctgs.fa\" of length 2461430\n",
      "# matching query-file \"/Users/ben/Documents/work_related/Canberra/RJ_lab_projects/Rust_genome_sequencing/PST79/analysis/PacBio_SCH1743/FALCON_0_4_assemblies/p_assemblies/v9_1/Pst_104E_v12/nucmer_analysis/nucmer_plots/Pst_104E_v12_pcontig_002_h_ctgs.fa\"\n",
      "# against subject-file \"Pst_104E_v12_pcontig_002.ntref\"\n",
      "# COMPLETETIME /Users/ben/anaconda3/opt/mummer-3.23/mummer Pst_104E_v12_pcontig_002.ntref 3.50\n",
      "# SPACE /Users/ben/anaconda3/opt/mummer-3.23/mummer Pst_104E_v12_pcontig_002.ntref 4.66\n",
      "4: FINISHING DATA\n",
      "gnuplot 4.6 patchlevel 6\n",
      "Reading delta file Pst_104E_v12_pcontig_002.filter\n",
      "Writing plot files Pst_104E_v12_pcontig_002.fplot, Pst_104E_v12_pcontig_002.rplot\n",
      "Writing gnuplot script Pst_104E_v12_pcontig_002.gp\n",
      "Rendering plot Pst_104E_v12_pcontig_002.ps\n"
     ]
    }
   ],
   "source": [
    "#do the nucmer plots\n",
    "os.chdir(NUCMER_FOLDER_OUT)\n",
    "ref = pcontig_002_fn\n",
    "query = pcontig_002_h_fn\n",
    "!nucmer --maxgap=500 --mincluster=100 --prefix={ref[:-3]} {ref} {query}\n",
    "!show-coords -r {ref[:-3]}.delta > {ref[:-3]}.coords\n",
    "!delta-filter -q -r {ref[:-3]}.delta > {ref[:-3]}.filter\n",
    "!mummerplot --postscript {ref[:-3]}.filter -R {ref} -Q {query} --prefix={ref[:-3]}"
   ]
  },
  {
   "cell_type": "code",
   "execution_count": 158,
   "metadata": {
    "collapsed": false
   },
   "outputs": [],
   "source": [
    "#now fix the gnuplotscript in for pcontig_002 specifically\n",
    "ref = pcontig_002_fn\n",
    "query = pcontig_002_h_fn\n",
    "new_gp = ref.replace('.fa', '_v1.gp')\n",
    "new_gp_fh = open(new_gp, 'w')\n",
    "with open(ref.replace('.fa', '.gp')) as f:\n",
    "          for line in f:\n",
    "              if '\"Courier\" 8' in line:\n",
    "                    new_gp_fh.write(line.replace('\"Courier\" 8', '\"Courier\" 22'))\n",
    "              elif 'line 1' in line:\n",
    "                  new_gp_fh.write(\"set style line 1  lt 3 lw 6 pt 0.5 ps 0.5 lc rgb '#000004'\\n\")\n",
    "              elif '023' in line or '004' in line or '021' in line or '019' in line:\n",
    "                  continue\n",
    "              elif   '931489' in line:\n",
    "                  new_gp_fh.write(line.replace('931489', '900000').replace('hcontig_', ''))\n",
    "              elif   '968280' in line:\n",
    "                  new_gp_fh.write(line.replace('968280', '1000000').replace('hcontig_', ''))     \n",
    "              elif 'hcontig' in line:\n",
    "                  new_gp_fh.write(line.replace('hcontig_', ''))\n",
    "              elif 'xlabel' in line:\n",
    "                  new_gp_fh.write('set xlabel \"primary contig %s\\n' %re.search(r'g_[0-9]*', new_gp).group(0)[2:])\n",
    "              elif '\"QRY\"' in line:\n",
    "                  new_gp_fh.write('set ylabel \"haplotigs\"\\n')\n",
    "              elif 'line 2' in line:\n",
    "                  new_gp_fh.write(\"set style line 2  lt 2 lw 6 pt 0.5 ps 0.5 lc rgb '#e35933'\\n\")\n",
    "              elif 'set border' in line:\n",
    "                  new_gp_fh.write(line.replace('10', '15'))\n",
    "              elif 'set tics scale' in line: \n",
    "                  new_gp_fh.write(line.replace('0', '2'))\n",
    "              else:\n",
    "                  new_gp_fh.write(line)\n",
    "          \n",
    "new_gp_fh.close()\n",
    "!gnuplot {new_gp}"
   ]
  },
  {
   "cell_type": "code",
   "execution_count": 157,
   "metadata": {
    "collapsed": true
   },
   "outputs": [],
   "source": [
    "!gnuplot {new_gp}"
   ]
  },
  {
   "cell_type": "code",
   "execution_count": 150,
   "metadata": {
    "collapsed": false
   },
   "outputs": [
    {
     "name": "stdout",
     "output_type": "stream",
     "text": [
      "hcontig_019_085\n",
      "hcontig_019_001\n",
      "hcontig_019_008\n",
      "hcontig_019_009\n",
      "hcontig_019_011\n",
      "hcontig_019_012\n",
      "hcontig_019_013\n",
      "hcontig_019_015\n",
      "hcontig_019_019\n",
      "hcontig_019_020\n"
     ]
    }
   ],
   "source": [
    "#now read in the h files and order them accordingly for p_contig_019\n",
    "h_019_fh = open(os.path.join(NUCMER_FOLDER_IN, pcontig_019_h_fn), 'r')\n",
    "order = ['hcontig_019_085','hcontig_019_008','hcontig_019_015','hcontig_019_013','hcontig_019_009','hcontig_019_012'\\\n",
    "        ,'hcontig_019_001','hcontig_019_011','hcontig_019_020','hcontig_019_019']\n",
    "out_list = [0]*len(order)\n",
    "index_dict = {}\n",
    "for seq in SeqIO.parse(h_019_fh, 'fasta'):\n",
    "    #now reverse complement contig hcontig_019_085\n",
    "    if seq.id == 'hcontig_019_085':\n",
    "        seq = seq.reverse_complement()\n",
    "        seq.id = 'hcontig_019_085'\n",
    "    print(seq.id)\n",
    "    out_list[order.index(seq.id)] = seq\n",
    "h_019_fh.close()"
   ]
  },
  {
   "cell_type": "code",
   "execution_count": 151,
   "metadata": {
    "collapsed": false
   },
   "outputs": [
    {
     "data": {
      "text/plain": [
       "'/Users/ben/Documents/work_related/Canberra/RJ_lab_projects/Rust_genome_sequencing/PST79/analysis/PacBio_SCH1743/FALCON_0_4_assemblies/p_assemblies/v9_1/Pst_104E_v12/nucmer_analysis/nucmer_plots/Pst_104E_v12_pcontig_019.fa'"
      ]
     },
     "execution_count": 151,
     "metadata": {},
     "output_type": "execute_result"
    }
   ],
   "source": [
    "#write out files and move files to output folder\n",
    "h_019_out_fh = open(os.path.join(NUCMER_FOLDER_OUT, pcontig_019_h_fn), 'w')\n",
    "SeqIO.write(out_list, h_019_out_fh, 'fasta')\n",
    "h_019_out_fh.close()\n",
    "shutil.copyfile(os.path.join(NUCMER_FOLDER_IN, pcontig_019_fn), os.path.join(NUCMER_FOLDER_OUT, pcontig_019_fn))"
   ]
  },
  {
   "cell_type": "code",
   "execution_count": 152,
   "metadata": {
    "collapsed": false
   },
   "outputs": [
    {
     "name": "stdout",
     "output_type": "stream",
     "text": [
      "1: PREPARING DATA\n",
      "2,3: RUNNING mummer AND CREATING CLUSTERS\n",
      "# reading input file \"Pst_104E_v12_pcontig_019.ntref\" of length 1435106\n",
      "# construct suffix tree for sequence of length 1435106\n",
      "# (maximum reference length is 536870908)\n",
      "# (maximum query length is 4294967295)\n",
      "# process 14351 characters per dot\n",
      "#....................................................................................................\n",
      "# CONSTRUCTIONTIME /Users/ben/anaconda3/opt/mummer-3.23/mummer Pst_104E_v12_pcontig_019.ntref 0.72\n",
      "# reading input file \"/Users/ben/Documents/work_related/Canberra/RJ_lab_projects/Rust_genome_sequencing/PST79/analysis/PacBio_SCH1743/FALCON_0_4_assemblies/p_assemblies/v9_1/Pst_104E_v12/nucmer_analysis/nucmer_plots/Pst_104E_v12_pcontig_019_h_ctgs.fa\" of length 1797113\n",
      "# matching query-file \"/Users/ben/Documents/work_related/Canberra/RJ_lab_projects/Rust_genome_sequencing/PST79/analysis/PacBio_SCH1743/FALCON_0_4_assemblies/p_assemblies/v9_1/Pst_104E_v12/nucmer_analysis/nucmer_plots/Pst_104E_v12_pcontig_019_h_ctgs.fa\"\n",
      "# against subject-file \"Pst_104E_v12_pcontig_019.ntref\"\n",
      "# COMPLETETIME /Users/ben/anaconda3/opt/mummer-3.23/mummer Pst_104E_v12_pcontig_019.ntref 2.22\n",
      "# SPACE /Users/ben/anaconda3/opt/mummer-3.23/mummer Pst_104E_v12_pcontig_019.ntref 3.13\n",
      "4: FINISHING DATA\n",
      "gnuplot 4.6 patchlevel 6\n",
      "Reading delta file Pst_104E_v12_pcontig_019.filter\n",
      "Writing plot files Pst_104E_v12_pcontig_019.fplot, Pst_104E_v12_pcontig_019.rplot\n",
      "Writing gnuplot script Pst_104E_v12_pcontig_019.gp\n",
      "Rendering plot Pst_104E_v12_pcontig_019.ps\n"
     ]
    }
   ],
   "source": [
    "#do the nucmer plots\n",
    "os.chdir(NUCMER_FOLDER_OUT)\n",
    "ref = pcontig_019_fn\n",
    "query = pcontig_019_h_fn\n",
    "!nucmer --maxgap=500 --mincluster=100 --prefix={ref[:-3]} {ref} {query}\n",
    "!show-coords -r {ref[:-3]}.delta > {ref[:-3]}.coords\n",
    "!delta-filter -q -r {ref[:-3]}.delta > {ref[:-3]}.filter\n",
    "!mummerplot --postscript {ref[:-3]}.filter -R {ref} -Q {query} --prefix={ref[:-3]}"
   ]
  },
  {
   "cell_type": "code",
   "execution_count": 159,
   "metadata": {
    "collapsed": false
   },
   "outputs": [],
   "source": [
    "#now fix the gnuplotscript for 019\n",
    "ref = pcontig_019_fn\n",
    "query = pcontig_019_h_fn\n",
    "new_gp = ref.replace('.fa', '_v1.gp')\n",
    "new_gp_fh = open(new_gp, 'w')\n",
    "with open(ref.replace('.fa', '.gp')) as f:\n",
    "          for line in f:\n",
    "              if '\"Courier\" 8' in line:\n",
    "                    new_gp_fh.write(line.replace('\"Courier\" 8', '\"Courier\"  22'))\n",
    "              elif 'line 1' in line:\n",
    "                  new_gp_fh.write(\"set style line 1  lt 3 lw 6 pt 0.5 ps 0.5 lc rgb '#000004'\\n\")\n",
    "              elif '011' in line :\n",
    "                  continue    \n",
    "              elif 'hcontig' in line:\n",
    "                  new_gp_fh.write(line.replace('hcontig_', ''))\n",
    "              elif 'xlabel' in line:\n",
    "                  new_gp_fh.write('set xlabel \"primary contig %s\\n' %re.search(r'g_[0-9]*', new_gp).group(0)[2:])\n",
    "              elif '\"QRY\"' in line:\n",
    "                  new_gp_fh.write('set ylabel \"haplotigs\"\\n')\n",
    "              elif 'line 2' in line:\n",
    "                  new_gp_fh.write(\"set style line 2  lt 2 lw 6 pt 0.5 ps 0.5 lc rgb '#e35933'\\n\")\n",
    "              elif 'set border' in line:\n",
    "                  new_gp_fh.write(line.replace('10', '15'))\n",
    "              elif 'set tics scale' in line: \n",
    "                  new_gp_fh.write(line.replace('0', '2'))\n",
    "              else:\n",
    "                  new_gp_fh.write(line)\n",
    "          \n",
    "new_gp_fh.close()\n",
    "!gnuplot {new_gp}"
   ]
  },
  {
   "cell_type": "code",
   "execution_count": 168,
   "metadata": {
    "collapsed": false
   },
   "outputs": [],
   "source": [
    "!gnuplot Pst_104E_v12_pcontig_019_manual_v1.gp"
   ]
  },
  {
   "cell_type": "code",
   "execution_count": 113,
   "metadata": {
    "collapsed": false
   },
   "outputs": [
    {
     "name": "stdout",
     "output_type": "stream",
     "text": [
      "hcontig_028_003\n",
      "hcontig_028_005\n",
      "hcontig_028_007\n",
      "hcontig_028_011\n",
      "hcontig_028_015\n",
      "hcontig_028_018\n"
     ]
    }
   ],
   "source": [
    "#now read in the h files and order them accordingly for p_contig_019\n",
    "h_028_fh = open(os.path.join(NUCMER_FOLDER_IN, pcontig_028_h_fn), 'r')\n",
    "order = ['hcontig_028_011', 'hcontig_028_018','hcontig_028_015','hcontig_028_005','hcontig_028_003','hcontig_028_007']\n",
    "out_list = [0]*len(order)\n",
    "index_dict = {}\n",
    "for seq in SeqIO.parse(h_028_fh, 'fasta'):\n",
    "    print(seq.id)\n",
    "    out_list[order.index(seq.id)] = seq\n",
    "h_028_fh.close()"
   ]
  },
  {
   "cell_type": "code",
   "execution_count": 114,
   "metadata": {
    "collapsed": false
   },
   "outputs": [
    {
     "data": {
      "text/plain": [
       "'/Users/ben/Documents/work_related/Canberra/RJ_lab_projects/Rust_genome_sequencing/PST79/analysis/PacBio_SCH1743/FALCON_0_4_assemblies/p_assemblies/v9_1/Pst_104E_v12/nucmer_analysis/nucmer_plots/Pst_104E_v12_pcontig_028.fa'"
      ]
     },
     "execution_count": 114,
     "metadata": {},
     "output_type": "execute_result"
    }
   ],
   "source": [
    "#write out files and move files to output folder\n",
    "h_028_out_fh = open(os.path.join(NUCMER_FOLDER_OUT, pcontig_028_h_fn), 'w')\n",
    "SeqIO.write(out_list, h_028_out_fh, 'fasta')\n",
    "h_028_out_fh.close()\n",
    "shutil.copyfile(os.path.join(NUCMER_FOLDER_IN, pcontig_028_fn), os.path.join(NUCMER_FOLDER_OUT, pcontig_028_fn))"
   ]
  },
  {
   "cell_type": "code",
   "execution_count": 115,
   "metadata": {
    "collapsed": false
   },
   "outputs": [
    {
     "name": "stdout",
     "output_type": "stream",
     "text": [
      "1: PREPARING DATA\n",
      "2,3: RUNNING mummer AND CREATING CLUSTERS\n",
      "# reading input file \"Pst_104E_v12_pcontig_028.ntref\" of length 1135312\n",
      "# construct suffix tree for sequence of length 1135312\n",
      "# (maximum reference length is 536870908)\n",
      "# (maximum query length is 4294967295)\n",
      "# process 11353 characters per dot\n",
      "#....................................................................................................\n",
      "# CONSTRUCTIONTIME /Users/ben/anaconda3/opt/mummer-3.23/mummer Pst_104E_v12_pcontig_028.ntref 0.55\n",
      "# reading input file \"/Users/ben/Documents/work_related/Canberra/RJ_lab_projects/Rust_genome_sequencing/PST79/analysis/PacBio_SCH1743/FALCON_0_4_assemblies/p_assemblies/v9_1/Pst_104E_v12/nucmer_analysis/nucmer_plots/Pst_104E_v12_pcontig_028_h_ctgs.fa\" of length 1217344\n",
      "# matching query-file \"/Users/ben/Documents/work_related/Canberra/RJ_lab_projects/Rust_genome_sequencing/PST79/analysis/PacBio_SCH1743/FALCON_0_4_assemblies/p_assemblies/v9_1/Pst_104E_v12/nucmer_analysis/nucmer_plots/Pst_104E_v12_pcontig_028_h_ctgs.fa\"\n",
      "# against subject-file \"Pst_104E_v12_pcontig_028.ntref\"\n",
      "# COMPLETETIME /Users/ben/anaconda3/opt/mummer-3.23/mummer Pst_104E_v12_pcontig_028.ntref 1.55\n",
      "# SPACE /Users/ben/anaconda3/opt/mummer-3.23/mummer Pst_104E_v12_pcontig_028.ntref 2.28\n",
      "4: FINISHING DATA\n",
      "gnuplot 4.6 patchlevel 6\n",
      "Reading delta file Pst_104E_v12_pcontig_028.filter\n",
      "Writing plot files Pst_104E_v12_pcontig_028.fplot, Pst_104E_v12_pcontig_028.rplot\n",
      "Writing gnuplot script Pst_104E_v12_pcontig_028.gp\n",
      "Rendering plot Pst_104E_v12_pcontig_028.ps\n"
     ]
    }
   ],
   "source": [
    "#do the nucmer plots\n",
    "os.chdir(NUCMER_FOLDER_OUT)\n",
    "ref = pcontig_028_fn\n",
    "query = pcontig_028_h_fn\n",
    "!nucmer --maxgap=500 --mincluster=100 --prefix={ref[:-3]} {ref} {query}\n",
    "!show-coords -r {ref[:-3]}.delta > {ref[:-3]}.coords\n",
    "!delta-filter -q -r {ref[:-3]}.delta > {ref[:-3]}.filter\n",
    "!mummerplot --postscript {ref[:-3]}.filter -R {ref} -Q {query} --prefix={ref[:-3]}"
   ]
  },
  {
   "cell_type": "code",
   "execution_count": 169,
   "metadata": {
    "collapsed": false
   },
   "outputs": [],
   "source": [
    "#now fix the gnuplotscript in general \n",
    "ref = pcontig_028_fn\n",
    "query = pcontig_028_h_fn\n",
    "new_gp = ref.replace('.fa', '_v1.gp')\n",
    "new_gp_fh = open(new_gp, 'w')\n",
    "with open(ref.replace('.fa', '.gp')) as f:\n",
    "          for line in f:\n",
    "              if '\"Courier\" 8' in line:\n",
    "                    new_gp_fh.write(line.replace('\"Courier\" 8', '\"Courier\"  22'))\n",
    "              elif 'line 1' in line:\n",
    "                  new_gp_fh.write(\"set style line 1  lt 3 lw 6 pt 0.5 ps 0.5 lc rgb '#000004'\\n\")\n",
    "              elif '005' in line or '018' in line:\n",
    "                  continue    \n",
    "                    \n",
    "              elif 'hcontig' in line:\n",
    "                  new_gp_fh.write(line.replace('hcontig_', ''))\n",
    "              elif 'xlabel' in line:\n",
    "                  new_gp_fh.write('set xlabel \"primary contig %s\\n' %re.search(r'g_[0-9]*', new_gp).group(0)[2:])\n",
    "              elif '\"QRY\"' in line:\n",
    "                  new_gp_fh.write('set ylabel \"haplotigs\"\\n')\n",
    "              elif 'line 2' in line:\n",
    "                  new_gp_fh.write(\"set style line 2  lt 2 lw 6 pt 0.5 ps 0.5 lc rgb '#e35933'\\n\")\n",
    "              elif 'set border' in line:\n",
    "                  new_gp_fh.write(line.replace('10', '15'))\n",
    "              elif 'set tics scale' in line: \n",
    "                  new_gp_fh.write(line.replace('0', '2'))\n",
    "              else:\n",
    "                  new_gp_fh.write(line)\n",
    "          \n",
    "new_gp_fh.close()\n",
    "!gnuplot {new_gp}"
   ]
  },
  {
   "cell_type": "code",
   "execution_count": 170,
   "metadata": {
    "collapsed": true
   },
   "outputs": [],
   "source": [
    "!gnuplot {new_gp}"
   ]
  },
  {
   "cell_type": "code",
   "execution_count": 68,
   "metadata": {
    "collapsed": false
   },
   "outputs": [],
   "source": [
    "!gnuplot {new_gp}"
   ]
  },
  {
   "cell_type": "markdown",
   "metadata": {
    "collapsed": false
   },
   "source": [
    "Based on the allele shuffling analysis of post allele analysis on fisher and the workbook1 in the post allele analysis on the labtop this part of the script does an alignemnt in order to generate a Ribbon circa plot illustarting large scale transpositions.\n",
    "For this I will align pcontig_14 with hcontigs_14 and hcontigs_27 + pcontig_17 with hcontig_27 and hcontigs_14"
   ]
  },
  {
   "cell_type": "code",
   "execution_count": 171,
   "metadata": {
    "collapsed": true
   },
   "outputs": [],
   "source": [
    "CIRCA_ALN_OUT = '/Users/ben/Documents/work_related/Canberra/RJ_lab_projects/Rust_genome_sequencing/PST79/analysis/PacBio_SCH1743/FALCON_0_4_assemblies/p_assemblies/v9_1/Pst_104E_v12/circa/aln'"
   ]
  },
  {
   "cell_type": "code",
   "execution_count": 172,
   "metadata": {
    "collapsed": true
   },
   "outputs": [],
   "source": [
    "if not os.path.exists(CIRCA_ALN_OUT):\n",
    "    os.mkdir(CIRCA_ALN_OUT)"
   ]
  },
  {
   "cell_type": "code",
   "execution_count": 173,
   "metadata": {
    "collapsed": true
   },
   "outputs": [],
   "source": [
    "#define file names of fa files containg the sequences for aligments\n",
    "pcontig_014_fn = 'Pst_104E_v12_pcontig_014.fa'\n",
    "pcontig_014_h_fn = 'Pst_104E_v12_pcontig_014_h_ctgs.fa'\n",
    "pcontig_027_fn = 'Pst_104E_v12_pcontig_027.fa'\n",
    "pcontig_027_h_fn = 'Pst_104E_v12_pcontig_027_h_ctgs.fa'"
   ]
  },
  {
   "cell_type": "code",
   "execution_count": 174,
   "metadata": {
    "collapsed": false
   },
   "outputs": [
    {
     "data": {
      "text/plain": [
       "'/Users/ben/Documents/work_related/Canberra/RJ_lab_projects/Rust_genome_sequencing/PST79/analysis/PacBio_SCH1743/FALCON_0_4_assemblies/p_assemblies/v9_1/Pst_104E_v12/circa/aln/Pst_104E_v12_pcontig_014.fa'"
      ]
     },
     "execution_count": 174,
     "metadata": {},
     "output_type": "execute_result"
    }
   ],
   "source": [
    "#now read in the h files and order them accordingly\n",
    "h_014_fh = open(os.path.join(NUCMER_FOLDER_IN, pcontig_014_h_fn), 'r')\n",
    "order = ['hcontig_014_008', 'hcontig_014_022', 'hcontig_014_117', 'hcontig_014_004','hcontig_014_013'\\\n",
    "         ,'hcontig_014_027','hcontig_014_024','hcontig_014_192','hcontig_014_017','hcontig_014_012','hcontig_014_023']\n",
    "out_list = [0]*len(order)\n",
    "index_dict = {}\n",
    "for seq in SeqIO.parse(h_014_fh, 'fasta'):\n",
    "    #now reverse complement contig hcontig_019_085\n",
    "    if seq.id == 'hcontig_014_192':\n",
    "        seq = seq.reverse_complement()\n",
    "        seq.id = 'hcontig_014_192'\n",
    "    out_list[order.index(seq.id)] = seq\n",
    "h_014_fh.close()\n",
    "#write out files and move files to output folder\n",
    "h_014_out_fh = open(os.path.join(CIRCA_ALN_OUT , pcontig_014_h_fn), 'w')\n",
    "SeqIO.write(out_list, h_014_out_fh, 'fasta')\n",
    "h_014_out_fh.close()\n",
    "shutil.copyfile(os.path.join(NUCMER_FOLDER_IN, pcontig_014_fn), os.path.join(CIRCA_ALN_OUT , pcontig_014_fn))"
   ]
  },
  {
   "cell_type": "code",
   "execution_count": 175,
   "metadata": {
    "collapsed": false
   },
   "outputs": [
    {
     "name": "stdout",
     "output_type": "stream",
     "text": [
      "1: PREPARING DATA\n",
      "2,3: RUNNING mummer AND CREATING CLUSTERS\n",
      "# reading input file \"Pst_104E_v12_pcontig_014.ntref\" of length 1609766\n",
      "# construct suffix tree for sequence of length 1609766\n",
      "# (maximum reference length is 536870908)\n",
      "# (maximum query length is 4294967295)\n",
      "# process 16097 characters per dot\n",
      "#....................................................................................................\n",
      "# CONSTRUCTIONTIME /Users/ben/anaconda3/opt/mummer-3.23/mummer Pst_104E_v12_pcontig_014.ntref 0.62\n",
      "# reading input file \"/Users/ben/Documents/work_related/Canberra/RJ_lab_projects/Rust_genome_sequencing/PST79/analysis/PacBio_SCH1743/FALCON_0_4_assemblies/p_assemblies/v9_1/Pst_104E_v12/circa/aln/Pst_104E_v12_pcontig_014_h_ctgs.fa\" of length 1453578\n",
      "# matching query-file \"/Users/ben/Documents/work_related/Canberra/RJ_lab_projects/Rust_genome_sequencing/PST79/analysis/PacBio_SCH1743/FALCON_0_4_assemblies/p_assemblies/v9_1/Pst_104E_v12/circa/aln/Pst_104E_v12_pcontig_014_h_ctgs.fa\"\n",
      "# against subject-file \"Pst_104E_v12_pcontig_014.ntref\"\n",
      "# COMPLETETIME /Users/ben/anaconda3/opt/mummer-3.23/mummer Pst_104E_v12_pcontig_014.ntref 1.85\n",
      "# SPACE /Users/ben/anaconda3/opt/mummer-3.23/mummer Pst_104E_v12_pcontig_014.ntref 2.97\n",
      "4: FINISHING DATA\n",
      "gnuplot 4.6 patchlevel 6\n",
      "Reading delta file Pst_104E_v12_pcontig_014.filter\n",
      "Writing plot files Pst_104E_v12_pcontig_014.fplot, Pst_104E_v12_pcontig_014.rplot\n",
      "Writing gnuplot script Pst_104E_v12_pcontig_014.gp\n",
      "Rendering plot Pst_104E_v12_pcontig_014.ps\n"
     ]
    }
   ],
   "source": [
    "#do the nucmer plots\n",
    "os.chdir(CIRCA_ALN_OUT)\n",
    "ref = pcontig_014_fn\n",
    "query = pcontig_014_h_fn\n",
    "!nucmer --maxgap=500 --mincluster=100 --prefix={ref[:-3]} {ref} {query}\n",
    "!show-coords -T -r {ref[:-3]}.delta > {ref[:-3]}.coords\n",
    "!delta-filter -q -r {ref[:-3]}.delta > {ref[:-3]}.filter\n",
    "#added new line to get the coords from the filtered file\n",
    "!show-coords -T -r {ref[:-3]}.filter > {ref[:-3]}.filter.coords\n",
    "!mummerplot --postscript {ref[:-3]}.filter -R {ref} -Q {query} --prefix={ref[:-3]}"
   ]
  },
  {
   "cell_type": "code",
   "execution_count": 179,
   "metadata": {
    "collapsed": true
   },
   "outputs": [],
   "source": [
    "#now fix the gnuplotscript for 019\n",
    "ref = pcontig_014_fn\n",
    "query = pcontig_014_h_fn\n",
    "new_gp = ref.replace('.fa', '_v1.gp')\n",
    "new_gp_fh = open(new_gp, 'w')\n",
    "with open(ref.replace('.fa', '.gp')) as f:\n",
    "          for line in f:\n",
    "              if '\"Courier\" 8' in line:\n",
    "                    new_gp_fh.write(line.replace('\"Courier\" 8', '\"Courier\"  22'))\n",
    "              elif 'line 1' in line:\n",
    "                  new_gp_fh.write(\"set style line 1  lt 3 lw 6 pt 0.5 ps 0.5 lc rgb '#000004'\\n\")\n",
    "              elif '023' in line :\n",
    "                  continue    \n",
    "              elif 'hcontig' in line:\n",
    "                  new_gp_fh.write(line.replace('hcontig_', ''))\n",
    "              elif 'xlabel' in line:\n",
    "                  new_gp_fh.write('set xlabel \"primary contig %s\\n' %re.search(r'g_[0-9]*', new_gp).group(0)[2:])\n",
    "              elif '\"QRY\"' in line:\n",
    "                  new_gp_fh.write('set ylabel \"haplotigs\"\\n')\n",
    "              elif 'line 2' in line:\n",
    "                  new_gp_fh.write(\"set style line 2  lt 2 lw 6 pt 0.5 ps 0.5 lc rgb '#e35933'\\n\")\n",
    "              elif 'set border' in line:\n",
    "                  new_gp_fh.write(line.replace('10', '15'))\n",
    "              elif 'set tics scale' in line: \n",
    "                  new_gp_fh.write(line.replace('0', '2'))\n",
    "              \n",
    "              else:\n",
    "                  new_gp_fh.write(line)\n",
    "          \n",
    "new_gp_fh.close()\n",
    "!gnuplot {new_gp}"
   ]
  },
  {
   "cell_type": "code",
   "execution_count": 184,
   "metadata": {
    "collapsed": true
   },
   "outputs": [],
   "source": [
    "!gnuplot Pst_104E_v12_pcontig_014_manual_v1.gp"
   ]
  },
  {
   "cell_type": "markdown",
   "metadata": {},
   "source": [
    "Prepare for Circa plot by cating together files and making bedpe files"
   ]
  },
  {
   "cell_type": "code",
   "execution_count": 83,
   "metadata": {
    "collapsed": false
   },
   "outputs": [],
   "source": [
    "#now order the output file of the haplotigs in revers and remove contigs that have no filtered alignments\n",
    "#open the initial h_contig input file\n",
    "h_014_fh = open(os.path.join(NUCMER_FOLDER_IN, pcontig_014_h_fn), 'r')\n",
    "pcontig_014_h_circa_fn = pcontig_014_h_fn.replace('.fa', '_circa.fa')\n",
    "#reverse the list and remove the contig without alignment\n",
    "order_c = order[::-1]\n",
    "order_c.remove('hcontig_014_023')\n",
    "out_list_c = len(order_c)*[0]\n",
    "for seq in SeqIO.parse(h_014_fh, 'fasta'):\n",
    "    #now reverse complement contig hcontig_014_192\n",
    "    if seq.id == 'hcontig_014_192':\n",
    "        seq = seq.reverse_complement()\n",
    "        seq.id = 'hcontig_014_192'\n",
    "    #skip over the contig without filtered alignment\n",
    "    if seq.id == 'hcontig_014_023':\n",
    "        continue\n",
    "    out_list_c[order_c.index(seq.id)] = seq\n",
    "h_014_fh.close()\n",
    "#open the outfile\n",
    "h_014_out_fh = open(os.path.join(CIRCA_ALN_OUT , pcontig_014_h_circa_fn), 'w')\n",
    "SeqIO.write(out_list_c, h_014_out_fh, 'fasta')\n",
    "h_014_out_fh.close()\n"
   ]
  },
  {
   "cell_type": "code",
   "execution_count": 84,
   "metadata": {
    "collapsed": false,
    "run_control": {
     "marked": true
    }
   },
   "outputs": [],
   "source": [
    "min_ribon = 5000\n",
    "coords_fn = 'Pst_104E_v12_pcontig_014.filter.coords'\n",
    "mummer_df_tmp = pd.read_csv(coords_fn, sep='\\t', header=None,skiprows=4 )\n",
    "header_mum = [\"S1\",\"E1\",\"S2\", \"E2\",\"LEN_1\", \"LEN_2\", \"% IDY\", \"ID_primary\", \"ID_haplotig\"]\n",
    "rename = dict(zip(mummer_df_tmp.columns, header_mum))\n",
    "mummer_df_tmp.rename(columns=rename,inplace=True)"
   ]
  },
  {
   "cell_type": "code",
   "execution_count": 85,
   "metadata": {
    "collapsed": false
   },
   "outputs": [],
   "source": [
    "#make bedpe file after filtering down by mimum alingment size\n",
    "bedpe_fn = coords_fn.replace('.coords', '_%i.bedpe' % min_ribon)\n",
    "mummer_df_tmp[(mummer_df_tmp.LEN_1 > min_ribon) & (mummer_df_tmp.LEN_2 > min_ribon) ]\\\n",
    ".loc[:, [\"ID_primary\", 'S1', 'E1', \"ID_haplotig\", 'S2','E2']]\\\n",
    ".to_csv(bedpe_fn, index=None, sep='\\t')"
   ]
  },
  {
   "cell_type": "code",
   "execution_count": 86,
   "metadata": {
    "collapsed": false
   },
   "outputs": [],
   "source": [
    "#now fix up the files for the circa plot\n",
    "os.chdir(CIRCA_ALN_OUT)\n",
    "#filenames\n",
    "all_contigs_fn = pcontig_014_fn.replace('.fa', '_all_contigs.fa')\n",
    "all_contigs_circa_gfn = all_contigs_fn.replace('.fa', '_circa.genome_file')\n",
    "\n",
    "!cat {pcontig_014_fn} {pcontig_014_h_circa_fn} > {all_contigs_fn}\n",
    "#remove contigs stuff in names\n",
    "!sed 's/pcontig_//g' {all_contigs_fn} | sed 's/hcontig_//g' > {all_contigs_fn.replace('.fa', '_circa.fa')}\n",
    "!samtools faidx {all_contigs_fn.replace('.fa', '_circa.fa')}\n",
    "!echo 'Contig\\tLength' > {all_contigs_circa_gfn}\n",
    "!cut -f 1,2 {all_contigs_fn.replace('.fa', '_circa.fa.fai')} >> {all_contigs_circa_gfn} \n",
    "\n",
    "#also fix up the bedpe file structure\n",
    "\n",
    "!sed 's/pcontig_//g' {bedpe_fn} | sed 's/hcontig_//g' > {bedpe_fn.replace('.bedpe', '_circa.bedpe')}"
   ]
  },
  {
   "cell_type": "code",
   "execution_count": null,
   "metadata": {
    "collapsed": true
   },
   "outputs": [],
   "source": [
    "#now do the plotting for hcontig_27 on 14\n"
   ]
  },
  {
   "cell_type": "code",
   "execution_count": 186,
   "metadata": {
    "collapsed": false
   },
   "outputs": [
    {
     "data": {
      "text/plain": [
       "'/Users/ben/Documents/work_related/Canberra/RJ_lab_projects/Rust_genome_sequencing/PST79/analysis/PacBio_SCH1743/FALCON_0_4_assemblies/p_assemblies/v9_1/Pst_104E_v12/circa/aln/Pst_104E_v12_pcontig_027.fa'"
      ]
     },
     "execution_count": 186,
     "metadata": {},
     "output_type": "execute_result"
    }
   ],
   "source": [
    "#now read in the h files and order them accordingly\n",
    "h_027_fh = open(os.path.join(NUCMER_FOLDER_IN, pcontig_027_h_fn), 'r')\n",
    "order = ['hcontig_027_102', 'hcontig_027_006', 'hcontig_027_001', 'hcontig_027_018','hcontig_027_011']\n",
    "out_list = [0]*len(order)\n",
    "index_dict = {}\n",
    "for seq in SeqIO.parse(h_027_fh, 'fasta'):\n",
    "    #now reverse complement contig hcontig_019_085\n",
    "    out_list[order.index(seq.id)] = seq\n",
    "h_027_fh.close()\n",
    "#write out files and move files to output folder\n",
    "h_027_out_fh = open(os.path.join(CIRCA_ALN_OUT , pcontig_027_h_fn), 'w')\n",
    "SeqIO.write(out_list, h_027_out_fh, 'fasta')\n",
    "h_027_out_fh.close()\n",
    "shutil.copyfile(os.path.join(NUCMER_FOLDER_IN, pcontig_027_fn), os.path.join(CIRCA_ALN_OUT , pcontig_027_fn))"
   ]
  },
  {
   "cell_type": "code",
   "execution_count": 187,
   "metadata": {
    "collapsed": false
   },
   "outputs": [
    {
     "name": "stdout",
     "output_type": "stream",
     "text": [
      "1: PREPARING DATA\n",
      "2,3: RUNNING mummer AND CREATING CLUSTERS\n",
      "# reading input file \"Pst_104E_v12_pcontig_027.ntref\" of length 1172541\n",
      "# construct suffix tree for sequence of length 1172541\n",
      "# (maximum reference length is 536870908)\n",
      "# (maximum query length is 4294967295)\n",
      "# process 11725 characters per dot\n",
      "#....................................................................................................\n",
      "# CONSTRUCTIONTIME /Users/ben/anaconda3/opt/mummer-3.23/mummer Pst_104E_v12_pcontig_027.ntref 0.50\n",
      "# reading input file \"/Users/ben/Documents/work_related/Canberra/RJ_lab_projects/Rust_genome_sequencing/PST79/analysis/PacBio_SCH1743/FALCON_0_4_assemblies/p_assemblies/v9_1/Pst_104E_v12/circa/aln/Pst_104E_v12_pcontig_027_h_ctgs.fa\" of length 1109675\n",
      "# matching query-file \"/Users/ben/Documents/work_related/Canberra/RJ_lab_projects/Rust_genome_sequencing/PST79/analysis/PacBio_SCH1743/FALCON_0_4_assemblies/p_assemblies/v9_1/Pst_104E_v12/circa/aln/Pst_104E_v12_pcontig_027_h_ctgs.fa\"\n",
      "# against subject-file \"Pst_104E_v12_pcontig_027.ntref\"\n",
      "# COMPLETETIME /Users/ben/anaconda3/opt/mummer-3.23/mummer Pst_104E_v12_pcontig_027.ntref 1.56\n",
      "# SPACE /Users/ben/anaconda3/opt/mummer-3.23/mummer Pst_104E_v12_pcontig_027.ntref 2.21\n",
      "4: FINISHING DATA\n",
      "gnuplot 4.6 patchlevel 6\n",
      "Reading delta file Pst_104E_v12_pcontig_027.filter\n",
      "Writing plot files Pst_104E_v12_pcontig_027.fplot, Pst_104E_v12_pcontig_027.rplot\n",
      "Writing gnuplot script Pst_104E_v12_pcontig_027.gp\n",
      "Rendering plot Pst_104E_v12_pcontig_027.ps\n"
     ]
    }
   ],
   "source": [
    "#do the nucmer plots\n",
    "os.chdir(CIRCA_ALN_OUT)\n",
    "ref = pcontig_027_fn\n",
    "query = pcontig_027_h_fn\n",
    "!nucmer --maxgap=500 --mincluster=100 --prefix={ref[:-3]} {ref} {query}\n",
    "!show-coords -T -r {ref[:-3]}.delta > {ref[:-3]}.coords\n",
    "!delta-filter -q -r {ref[:-3]}.delta > {ref[:-3]}.filter\n",
    "#added new line to get the coords from the filtered file\n",
    "!show-coords -T -r {ref[:-3]}.filter > {ref[:-3]}.filter.coords\n",
    "!mummerplot --postscript {ref[:-3]}.filter -R {ref} -Q {query} --prefix={ref[:-3]}"
   ]
  },
  {
   "cell_type": "code",
   "execution_count": 188,
   "metadata": {
    "collapsed": true
   },
   "outputs": [],
   "source": [
    "#now fix the gnuplotscript for 027\n",
    "ref = pcontig_027_fn\n",
    "query = pcontig_027_h_fn\n",
    "new_gp = ref.replace('.fa', '_v1.gp')\n",
    "new_gp_fh = open(new_gp, 'w')\n",
    "with open(ref.replace('.fa', '.gp')) as f:\n",
    "          for line in f:\n",
    "              if '\"Courier\" 8' in line:\n",
    "                    new_gp_fh.write(line.replace('\"Courier\" 8', '\"Courier\"  22'))\n",
    "              elif 'line 1' in line:\n",
    "                  new_gp_fh.write(\"set style line 1  lt 3 lw 6 pt 0.5 ps 0.5 lc rgb '#000004'\\n\")\n",
    "              elif '001' in line :\n",
    "                  continue    \n",
    "              elif 'hcontig' in line:\n",
    "                  new_gp_fh.write(line.replace('hcontig_', ''))\n",
    "              elif 'xlabel' in line:\n",
    "                  new_gp_fh.write('set xlabel \"primary contig %s\\n' %re.search(r'g_[0-9]*', new_gp).group(0)[2:])\n",
    "              elif '\"QRY\"' in line:\n",
    "                  new_gp_fh.write('set ylabel \"haplotigs\"\\n')\n",
    "              elif 'line 2' in line:\n",
    "                  new_gp_fh.write(\"set style line 2  lt 2 lw 6 pt 0.5 ps 0.5 lc rgb '#e35933'\\n\")\n",
    "              elif 'set border' in line:\n",
    "                  new_gp_fh.write(line.replace('10', '15'))\n",
    "              elif 'set tics scale' in line: \n",
    "                  new_gp_fh.write(line.replace('0', '2'))\n",
    "              else:\n",
    "                  new_gp_fh.write(line)\n",
    "          \n",
    "new_gp_fh.close()\n",
    "!gnuplot {new_gp}"
   ]
  },
  {
   "cell_type": "code",
   "execution_count": null,
   "metadata": {
    "collapsed": true
   },
   "outputs": [],
   "source": [
    "!gnuplot {new_gp}"
   ]
  },
  {
   "cell_type": "code",
   "execution_count": 189,
   "metadata": {
    "collapsed": false
   },
   "outputs": [
    {
     "name": "stdout",
     "output_type": "stream",
     "text": [
      "1: PREPARING DATA\n",
      "2,3: RUNNING mummer AND CREATING CLUSTERS\n",
      "# reading input file \"Pst_104E_v12_pcontig_014_hcontig27.ntref\" of length 1609766\n",
      "# construct suffix tree for sequence of length 1609766\n",
      "# (maximum reference length is 536870908)\n",
      "# (maximum query length is 4294967295)\n",
      "# process 16097 characters per dot\n",
      "#....................................................................................................\n",
      "# CONSTRUCTIONTIME /Users/ben/anaconda3/opt/mummer-3.23/mummer Pst_104E_v12_pcontig_014_hcontig27.ntref 0.78\n",
      "# reading input file \"/Users/ben/Documents/work_related/Canberra/RJ_lab_projects/Rust_genome_sequencing/PST79/analysis/PacBio_SCH1743/FALCON_0_4_assemblies/p_assemblies/v9_1/Pst_104E_v12/circa/aln/Pst_104E_v12_pcontig_027_h_ctgs.fa\" of length 1109675\n",
      "# matching query-file \"/Users/ben/Documents/work_related/Canberra/RJ_lab_projects/Rust_genome_sequencing/PST79/analysis/PacBio_SCH1743/FALCON_0_4_assemblies/p_assemblies/v9_1/Pst_104E_v12/circa/aln/Pst_104E_v12_pcontig_027_h_ctgs.fa\"\n",
      "# against subject-file \"Pst_104E_v12_pcontig_014_hcontig27.ntref\"\n",
      "# COMPLETETIME /Users/ben/anaconda3/opt/mummer-3.23/mummer Pst_104E_v12_pcontig_014_hcontig27.ntref 1.94\n",
      "# SPACE /Users/ben/anaconda3/opt/mummer-3.23/mummer Pst_104E_v12_pcontig_014_hcontig27.ntref 2.64\n",
      "4: FINISHING DATA\n",
      "gnuplot 4.6 patchlevel 6\n",
      "Reading delta file Pst_104E_v12_pcontig_014_hcontig27.filter\n",
      "Writing plot files Pst_104E_v12_pcontig_014_hcontig27.fplot, Pst_104E_v12_pcontig_014_hcontig27.rplot\n",
      "Writing gnuplot script Pst_104E_v12_pcontig_014_hcontig27.gp\n",
      "Rendering plot Pst_104E_v12_pcontig_014_hcontig27.ps\n"
     ]
    }
   ],
   "source": [
    "#now plot haplotigs of the 027 onto 014\n",
    "#do the nucmer plots\n",
    "os.chdir(CIRCA_ALN_OUT)\n",
    "ref = pcontig_014_fn\n",
    "query = pcontig_027_h_fn\n",
    "out_name = ref[:-3] + '_hcontig27'\n",
    "!nucmer --maxgap=500 --mincluster=100 --prefix={out_name}  {ref} {query}\n",
    "!show-coords -T -r {out_name}.delta > {out_name}.coords\n",
    "!delta-filter -q -r {out_name}.delta > {out_name}.filter\n",
    "#added new line to get the coords from the filtered file\n",
    "!show-coords -T -r {out_name}.filter > {out_name}.filter.coords\n",
    "!mummerplot --postscript {out_name}.filter -R {ref} -Q {query} --prefix={out_name}"
   ]
  },
  {
   "cell_type": "code",
   "execution_count": 190,
   "metadata": {
    "collapsed": false
   },
   "outputs": [],
   "source": [
    "#now fix the gnuplotscript for 027\n",
    "new_gp = out_name+'_v1.gp'\n",
    "new_gp_fh = open(new_gp, 'w')\n",
    "with open(out_name+'.gp') as f:\n",
    "          for line in f:\n",
    "              if '\"Courier\" 8' in line:\n",
    "                    new_gp_fh.write(line.replace('\"Courier\" 8', '\"Courier\"  22'))\n",
    "              elif 'line 1' in line:\n",
    "                  new_gp_fh.write(\"set style line 1  lt 3 lw 6 pt 0.5 ps 0.5 lc rgb '#000004'\\n\")\n",
    "              elif '001' in line :\n",
    "                  continue    \n",
    "              elif 'hcontig_' in line:\n",
    "                  new_gp_fh.write(line.replace('hcontig_', ''))\n",
    "              elif 'xlabel' in line:\n",
    "                  new_gp_fh.write('set xlabel \"primary contig %s\\n' %re.search(r'g_[0-9]*', new_gp).group(0)[2:])\n",
    "              elif '\"QRY\"' in line:\n",
    "                  new_gp_fh.write('set ylabel \"haplotigs\"\\n')\n",
    "              elif 'line 2' in line:\n",
    "                  new_gp_fh.write(\"set style line 2  lt 2 lw 6 pt 0.5 ps 0.5 lc rgb '#e35933'\\n\")\n",
    "              elif 'set border' in line:\n",
    "                  new_gp_fh.write(line.replace('10', '15'))\n",
    "              elif 'set tics scale' in line: \n",
    "                  new_gp_fh.write(line.replace('0', '2'))\n",
    "              else:\n",
    "                  new_gp_fh.write(line)\n",
    "          \n",
    "new_gp_fh.close()\n",
    "!gnuplot {new_gp}"
   ]
  },
  {
   "cell_type": "code",
   "execution_count": 191,
   "metadata": {
    "collapsed": false
   },
   "outputs": [],
   "source": [
    "!gnuplot Pst_104E_v12_pcontig_014_hcontig27_manual_v1.gp"
   ]
  },
  {
   "cell_type": "code",
   "execution_count": null,
   "metadata": {
    "collapsed": true
   },
   "outputs": [],
   "source": []
  }
 ],
 "metadata": {
  "anaconda-cloud": {},
  "kernelspec": {
   "display_name": "Python [default]",
   "language": "python",
   "name": "python3"
  },
  "language_info": {
   "codemirror_mode": {
    "name": "ipython",
    "version": 3
   },
   "file_extension": ".py",
   "mimetype": "text/x-python",
   "name": "python",
   "nbconvert_exporter": "python",
   "pygments_lexer": "ipython3",
   "version": "3.5.2"
  }
 },
 "nbformat": 4,
 "nbformat_minor": 2
}
