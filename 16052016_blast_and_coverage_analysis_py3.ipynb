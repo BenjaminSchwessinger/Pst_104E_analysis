{
 "cells": [
  {
   "cell_type": "code",
   "execution_count": 1,
   "metadata": {
    "collapsed": true
   },
   "outputs": [],
   "source": [
    "%matplotlib inline\n",
    "import numpy as np\n",
    "import matplotlib.pyplot as plt\n",
    "from matplotlib.axes import Axes\n",
    "import pandas as pd\n",
    "import itertools\n",
    "import matplotlib\n",
    "import os\n",
    "from Bio import SeqIO\n",
    "from Bio import SeqUtils\n",
    "import matplotlib.cm as cm\n",
    "from ete3 import NCBITaxa"
   ]
  },
  {
   "cell_type": "code",
   "execution_count": 2,
   "metadata": {
    "collapsed": true
   },
   "outputs": [],
   "source": [
    "def make_contig_df(contig_path, contig_name):\n",
    "    \"\"\"\n",
    "    Make contig Dataframe from fasta file.\n",
    "    \"\"\"    \n",
    "    f_handle = open(contig_path+'/'+contig_name, mode='r')\n",
    "    contigs = SeqIO.parse(f_handle, 'fasta')\n",
    "    contig_length = []\n",
    "    contig_id =[]\n",
    "    contig_GC = []\n",
    "    assembly_id = []\n",
    "    for x in contigs:\n",
    "        contig_id.append(x.id)\n",
    "        contig_length.append(len(x.seq))\n",
    "        contig_GC.append(SeqUtils.GC(x.seq))\n",
    "        assembly_id.append(p_and_a_ctg_file_name)\n",
    "    s1 = pd.Series(contig_id, name='ID')\n",
    "    s2 = pd.Series(contig_length, name='Length')\n",
    "    s3 = pd.Series(contig_GC, name='%GC')\n",
    "    s4 = pd.Series(assembly_id, name=\"Assembly\")\n",
    "    contig_df = pd.concat([s1, s2, s3, s4], axis=1)\n",
    "    f_handle.close()\n",
    "    return contig_df"
   ]
  },
  {
   "cell_type": "code",
   "execution_count": 3,
   "metadata": {
    "collapsed": true
   },
   "outputs": [],
   "source": [
    "#function to add another column for P and A_contig identification to dataframe\n",
    "def P_and_A_identifier(df):\n",
    "    \"\"\"Method to add primary and alternative contig identifier rows to FC dataframes\"\"\"\n",
    "    primary_list = []\n",
    "    alternative_list = []\n",
    "    return_df = df.iloc[:,:]\n",
    "    for x in return_df['ID']:\n",
    "        if \"-\" in list(x):\n",
    "            primary_list.append(0)\n",
    "            alternative_list.append(1)\n",
    "        else:\n",
    "            primary_list.append(1)\n",
    "            alternative_list.append(0)\n",
    "    return_df[\"P_contig\"] = pd.Series(primary_list)\n",
    "    return_df[\"A_contig\"] = pd.Series(alternative_list)\n",
    "    return_df = return_df.reset_index(drop=True)\n",
    "    return return_df"
   ]
  },
  {
   "cell_type": "code",
   "execution_count": 53,
   "metadata": {
    "collapsed": false
   },
   "outputs": [],
   "source": [
    "#function that compares a seed with a result dataframe. It assesses if any initial IDs are missing from the result df\n",
    "#and adds them with '0' in all columns to the result df\n",
    "#ADD VALUE ERROR CHECK FOR EMPTY SEED_DF\n",
    "def no_hit_df_extension(seed_df, result_df):\n",
    "    \"\"\"function that compares a seed with a result dataframe. \n",
    "    It assesses if any initial IDs are missing from the result df\n",
    "    and adds them with '0' in all columns except the ID column.\n",
    "    The first column in each dataframe needs to be labled 'ID'.\"\"\"\n",
    "    if len(list(set(seed_df.iloc[:,0])- set(result_df.iloc[:,0]))) == 0:\n",
    "        #test if there actually missing values\n",
    "        return pd.DataFrame()\n",
    "    else:\n",
    "        no_hit_sr = pd.Series(list(set(seed_df.iloc[:,0])- set(result_df.iloc[:,0])))\n",
    "        #make empty dataframe for no_hits\n",
    "        empty = np.array([[0]*(len(result_df.columns)-1) for x in range(len(no_hit_sr))])\n",
    "        no_hit_df = pd.DataFrame(empty, columns =result_df.columns[1:])\n",
    "        no_hit_df[result_df.columns.tolist()[0]] = no_hit_sr\n",
    "        no_hit_df = no_hit_df[result_df.columns]\n",
    "        return no_hit_df"
   ]
  },
  {
   "cell_type": "code",
   "execution_count": 58,
   "metadata": {
    "collapsed": false
   },
   "outputs": [],
   "source": [
    "def coverage_df_generator(file_path, file_name, seq_type):\n",
    "    \"\"\"\n",
    "    Function that pulls in bed file coverage file. \n",
    "    It labels the header and calculates the average coverage per segment.\n",
    "    \"\"\"\n",
    "    coverage_df = pd.read_csv(file_path+'/'+file_name, sep='\\t', header=None)\n",
    "    header_cov = [\"ID-cov \"+seq_type, \"start \"+seq_type, 'stop '+seq_type, \"total hits \"+seq_type]\n",
    "    #rename the headear according bed file output\n",
    "    rename = dict(zip(coverage_df.columns, header_cov))\n",
    "    coverage_df.rename(columns=rename,inplace=True)\n",
    "    #add another column for average coverage\n",
    "    coverage_df[\"Average Coverage \"+seq_type] = np.round(coverage_df['total hits '+seq_type]/(coverage_df['stop '+seq_type] -coverage_df['start '+seq_type]),3)\n",
    "    coverage_df = coverage_df.sort_values(by=[coverage_df.columns.tolist()[0]]).reset_index(drop=True)\n",
    "    return coverage_df\n",
    "#no_hit_df_extension(p_and_a_ctg_df, blast_df)"
   ]
  },
  {
   "cell_type": "code",
   "execution_count": 6,
   "metadata": {
    "collapsed": true
   },
   "outputs": [],
   "source": [
    "def coverage_df_generator_all(file_path, file_name, seq_type, seed_df):\n",
    "    \"\"\"\n",
    "    Function that pulls in bed file coverage file. \n",
    "    It labels the header and calculates the average coverage per segment.\n",
    "    This also adds the IDs for which no hits have been reported.\n",
    "    It returns a sorted df on the first ID column.\n",
    "    \"\"\"\n",
    "    coverage_df = pd.read_csv(file_path+'/'+file_name, sep='\\t', header=None)\n",
    "    header_cov = [\"ID-cov \"+seq_type, \"start \"+seq_type, 'stop '+seq_type, \"total hits \"+seq_type]\n",
    "    #rename the headear according bed file output\n",
    "    rename = dict(zip(coverage_df.columns, header_cov))\n",
    "    coverage_df.rename(columns=rename,inplace=True)\n",
    "    #add another column for average coverage\n",
    "    coverage_df[\"Average Coverage \"+seq_type] = np.round(coverage_df['total hits '+seq_type]/(coverage_df['stop '+seq_type] -coverage_df['start '+seq_type]),3)\n",
    "    #get no hit df, append and sort\n",
    "    coverage_all_df = coverage_df.append(no_hit_df_extension(seed_df, coverage_df))\n",
    "    coverage_all_df = coverage_all_df.sort_values(by=[coverage_all_df.columns.tolist()[0]]).reset_index(drop=True)\n",
    "    return coverage_all_df\n",
    "    #no_hit_df_extension(p_and_a_ctg_df, blast_df)"
   ]
  },
  {
   "cell_type": "code",
   "execution_count": 7,
   "metadata": {
    "collapsed": true
   },
   "outputs": [],
   "source": [
    "def add_cov_to_summary(sum_df, cov_df):\n",
    "    \"\"\"add coverage dataframe last \"Average Coverage\" column to blast summary df\"\"\"\n",
    "    sum_sorted_df = sum_df.sort_values(by=[sum_df.columns.tolist()[0]]).reset_index(drop=True)\n",
    "    cov_sorted_df = cov_df.sort_values(by=[cov_df.columns.tolist()[0]]).reset_index(drop=True)\n",
    "    if set(sum_sorted_df.iloc[:,0] == cov_sorted_df.iloc[:,0]):\n",
    "        sum_sorted_df[cov_sorted_df.columns.tolist()[-1]] = cov_sorted_df.iloc[:, -1]\n",
    "        return sum_sorted_df\n",
    "    else: #this should be made to raise an error\n",
    "        print('Dataframes do not have the same ids')"
   ]
  },
  {
   "cell_type": "code",
   "execution_count": 8,
   "metadata": {
    "collapsed": true
   },
   "outputs": [],
   "source": [
    "def tc_blast_df(blast_xml_path, blast_xml_file_name, tc_list):\n",
    "    \"\"\"\n",
    "    Returns a df of xml blast hits of target contigs.\n",
    "    \"\"\"\n",
    "    from Bio.Blast import NCBIXML\n",
    "    f = open(blast_xml_path+'/'+blast_xml_file_name, mode='r')\n",
    "    blast_rec = NCBIXML.parse(f)\n",
    "    tc_blast_df = pd.DataFrame()\n",
    "    for record in blast_rec:\n",
    "        if record.query.split(' ')[0] in tc_list: #the split may needs to be updated based on query blastn file headers.\n",
    "                                                    #THINK long initial headers not _sh_ format\n",
    "            title_list = []\n",
    "            query_contig = []\n",
    "            title = record.query.split(' ')[0]\n",
    "            for aln in record.alignments:\n",
    "                title_list.append(aln.title)\n",
    "                query_contig.append(title)\n",
    "            result_df = pd.concat([pd.Series(query_contig, name='ID'), pd.Series(title_list, name='Blast Hit')], axis =1)\n",
    "            tc_blast_df = tc_blast_df.append(result_df)\n",
    "    f.close()\n",
    "    tc_blast_df = tc_blast_df.reset_index(drop=True)\n",
    "    return tc_blast_df"
   ]
  },
  {
   "cell_type": "code",
   "execution_count": 9,
   "metadata": {
    "collapsed": false
   },
   "outputs": [],
   "source": [
    "def print_first_5_blast_hits(blast_xml_df):\n",
    "    \"\"\"\n",
    "    Does what is says in conjungtion with tc_blast_df.\n",
    "    \"\"\"\n",
    "    #set count and read in first row\n",
    "    count = 0\n",
    "    previous = blast_xml_df.loc[0,'ID']\n",
    "    #iterarte over each row and print the long blast_xml description until you reach #5\n",
    "    for index,row in blast_xml_df.iterrows():\n",
    "        if row['ID'] == previous:\n",
    "            count += 1\n",
    "            #print(count)\n",
    "        if count < 6: \n",
    "            print(blast_xml_df.loc[index, 'ID'], '\\t', blast_xml_df.loc[index, 'Blast Hit'].split('|')[4])\n",
    "        if row['ID'] != previous:\n",
    "            count = 0\n",
    "        previous = row['ID']"
   ]
  },
  {
   "cell_type": "code",
   "execution_count": 10,
   "metadata": {
    "collapsed": true
   },
   "outputs": [],
   "source": [
    "#here pull in intial unpolished query file from Falcon p_and_a_ctg and generate a dataframe\n",
    "p_and_a_ctg_path ='/Users/ben/Documents/work_related/Canberra/RJ_lab_projects/Rust_genome_sequencing/PST79/analysis/PacBio_SCH1743/FALCON_0_4_assemblies/p_assemblies/v4_1/'\n",
    "p_and_a_ctg_file_name = 'v4_1_p_and_a_ctg_sh.fa'\n",
    "handle_1 = open(p_and_a_ctg_path+p_and_a_ctg_file_name)"
   ]
  },
  {
   "cell_type": "code",
   "execution_count": 11,
   "metadata": {
    "collapsed": true
   },
   "outputs": [],
   "source": [
    "#here enter your blast file you want to analyze in tabBS1 format\n",
    "blast_tabBS1_path = '/Users/ben/Documents/work_related/Canberra/RJ_lab_projects/Rust_genome_sequencing/PST79/analysis/PacBio_SCH1743/FALCON_0_4_assemblies/p_assemblies/v4_1/blast/'\n",
    "blast_tabBS1_handle = 'v4_1_p_and_a_sh.blast.local.tabBS1.nt'\n"
   ]
  },
  {
   "cell_type": "code",
   "execution_count": 12,
   "metadata": {
    "collapsed": true
   },
   "outputs": [],
   "source": [
    "#here enter in coverage files having the same IDs as seed file. This file has been produced by 'samtools bedcov'\n",
    "cov_path='/Users/ben/Documents/work_related/Canberra/RJ_lab_projects/Rust_genome_sequencing/PST79/analysis/PacBio_SCH1743/FALCON_0_4_assemblies/p_assemblies/v4_1/Quiver/run_wo_useccs_22/'\n",
    "cov_file_name='v4_1_p_and_a_ctg_sh.999999999.bed'\n",
    "seq_type='PacBio'"
   ]
  },
  {
   "cell_type": "code",
   "execution_count": 13,
   "metadata": {
    "collapsed": true
   },
   "outputs": [],
   "source": [
    "#here enter the illumina cov file\n",
    "cov_path_2='/Users/ben/Documents/work_related/Canberra/RJ_lab_projects/Rust_genome_sequencing/PST79/analysis/PacBio_SCH1743/FALCON_0_4_assemblies/p_assemblies/v4_1/Quiver/run_wo_useccs_22/coverage_analysis/SRM'\n",
    "cov_file_name_2='v4_1_p_and_a_sh.all_ete.sam.sorted.bam.contig.cov'\n",
    "seq_type_2='Illumina_all'"
   ]
  },
  {
   "cell_type": "code",
   "execution_count": 14,
   "metadata": {
    "collapsed": true
   },
   "outputs": [],
   "source": [
    "#here enter file name extension to xml blast file output\n",
    "blast_xml_path = '/Users/ben/Documents/work_related/Canberra/RJ_lab_projects/Rust_genome_sequencing/PST79/analysis/PacBio_SCH1743/FALCON_0_4_assemblies/p_assemblies/v4_1/blast'\n",
    "blast_xml_file_name ='v4_1_p_and_a.blast.local.nt'"
   ]
  },
  {
   "cell_type": "code",
   "execution_count": 15,
   "metadata": {
    "collapsed": false
   },
   "outputs": [],
   "source": [
    "#make dataframe of initial query file p_and_a_ctg_df\n",
    "contigs = SeqIO.parse(handle_1, 'fasta')\n",
    "contig_length = []\n",
    "contig_id =[]\n",
    "contig_GC = []\n",
    "assembly_id = []\n",
    "for x in contigs:\n",
    "    contig_id.append(x.id)\n",
    "    contig_length.append(len(x.seq))\n",
    "    contig_GC.append(SeqUtils.GC(x.seq))\n",
    "    assembly_id.append(p_and_a_ctg_file_name)\n",
    "s1 = pd.Series(contig_id, name='ID')\n",
    "s2 = pd.Series(contig_length, name='Length')\n",
    "s3 = pd.Series(contig_GC, name='%GC')\n",
    "s4 = pd.Series(assembly_id, name=\"Assembly\")\n",
    "p_and_a_ctg_df = pd.concat([s1, s2, s3, s4], axis=1)\n",
    "handle_1.close()"
   ]
  },
  {
   "cell_type": "code",
   "execution_count": 16,
   "metadata": {
    "collapsed": false
   },
   "outputs": [],
   "source": [
    "p_and_a_ctg_df = P_and_A_identifier(p_and_a_ctg_df)"
   ]
  },
  {
   "cell_type": "code",
   "execution_count": 17,
   "metadata": {
    "collapsed": true
   },
   "outputs": [],
   "source": [
    "#pull in blast tabBS1 file, and rename header according to tabBS1 format convention\n",
    "blast_df = pd.read_csv(blast_tabBS1_path+blast_tabBS1_handle, sep='\\t', header=None)\n",
    "header = ['ID', 'sseqid', 'evalue', 'bitscore', 'sgi', 'sacc', 'staxids', 'sscinames', 'scomnames', 'skingdoms']\n",
    "rename = dict(zip(blast_df.columns, header))\n",
    "blast_df.rename(columns=rename,inplace=True)"
   ]
  },
  {
   "cell_type": "code",
   "execution_count": 18,
   "metadata": {
    "collapsed": false
   },
   "outputs": [],
   "source": [
    "#transform the TaxiD into a kingdom (or closest possible identifier) and add this to the blast_df as 'Kingdom' column\n",
    "#THIS MIGHT WANT TO BECOME A FUNCTION IN THE NEAR FUTURE\n",
    "ncbi=  NCBITaxa()\n",
    "kingdom_list = []\n",
    "for x in blast_df['staxids']:\n",
    "    if \";\" in list(x): #addresses the issue if one blast hit has multiple taxids\n",
    "        x1 = x.split(\";\")[0]\n",
    "        taxid_lineage = ncbi.get_lineage(x1)\n",
    "    else:\n",
    "        taxid_lineage = ncbi.get_lineage(x)\n",
    "    if len(taxid_lineage) < 5: #addresses the issue if their is no kingdom id. simply pick the next up\n",
    "        kingdom = ncbi.get_taxid_translator([taxid_lineage[-1]])\n",
    "    else:\n",
    "        kingdom = ncbi.get_taxid_translator([taxid_lineage[4]])\n",
    "    kingdom_list.append(kingdom[list(kingdom)[0]])\n",
    "blast_df['Kingdom'] = pd.Series(kingdom_list)"
   ]
  },
  {
   "cell_type": "code",
   "execution_count": 19,
   "metadata": {
    "collapsed": true
   },
   "outputs": [],
   "source": [
    "#transform the TaxiD into a Superkingdom (or closest possible identifier) and add this to the blast_df as 'sKingdom' column\n",
    "#THIS MIGHT WANT TO BECOME A FUNCTION IN THE NEAR FUTURE\n",
    "kingdom_list = []\n",
    "for x in blast_df['staxids']:\n",
    "    if \";\" in list(x): #addresses the issue if one blast hit has multiple taxids\n",
    "        x1 = x.split(\";\")[0]\n",
    "        taxid_lineage = ncbi.get_lineage(x1)\n",
    "    else:\n",
    "        taxid_lineage = ncbi.get_lineage(x)\n",
    "    if len(taxid_lineage) < 5: #addresses the issue if their is no kingdom id. simply pick the next up\n",
    "        kingdom = ncbi.get_taxid_translator([taxid_lineage[-1]])\n",
    "    else:\n",
    "        kingdom = ncbi.get_taxid_translator([taxid_lineage[2]])\n",
    "    kingdom_list.append(kingdom[list(kingdom)[0]])\n",
    "blast_df['Superkingdom'] = pd.Series(kingdom_list)"
   ]
  },
  {
   "cell_type": "code",
   "execution_count": 20,
   "metadata": {
    "collapsed": true
   },
   "outputs": [],
   "source": [
    "bast_df = P_and_A_identifier(blast_df)"
   ]
  },
  {
   "cell_type": "code",
   "execution_count": 21,
   "metadata": {
    "collapsed": false
   },
   "outputs": [],
   "source": [
    "no_blast_hit_df = no_hit_df_extension(p_and_a_ctg_df, blast_df)"
   ]
  },
  {
   "cell_type": "code",
   "execution_count": 22,
   "metadata": {
    "collapsed": false
   },
   "outputs": [
    {
     "data": {
      "text/plain": [
       "True"
      ]
     },
     "execution_count": 22,
     "metadata": {},
     "output_type": "execute_result"
    }
   ],
   "source": [
    "#append original blast_df with empty dataframe, sort by ID. \n",
    "#check for correct length between p_and_a_ctg_df and blast_all_df\n",
    "blast_all_df = blast_df.append(no_blast_hit_df)\n",
    "blast_all_sorted_df  = blast_all_df.sort_values(by=['ID'])[list(no_blast_hit_df.columns)].reset_index(drop=True)\n",
    "len(set(blast_all_df['ID'])) ==  len(p_and_a_ctg_df)"
   ]
  },
  {
   "cell_type": "code",
   "execution_count": 23,
   "metadata": {
    "collapsed": true
   },
   "outputs": [],
   "source": [
    "#get all Superkingdoms of the dataframe and all contigs\n",
    "Superkingdoms = list(set(blast_all_sorted_df['Superkingdom']))\n",
    "contigs = sorted(list(set(blast_all_sorted_df['ID'])))"
   ]
  },
  {
   "cell_type": "code",
   "execution_count": 24,
   "metadata": {
    "collapsed": false
   },
   "outputs": [],
   "source": [
    "#remove the '0' Superkingdom that was artificially generated by the no_hit_df\n",
    "del Superkingdoms[Superkingdoms.index(0)]"
   ]
  },
  {
   "cell_type": "code",
   "execution_count": 25,
   "metadata": {
    "collapsed": false
   },
   "outputs": [
    {
     "data": {
      "text/plain": [
       "0"
      ]
     },
     "execution_count": 25,
     "metadata": {},
     "output_type": "execute_result"
    }
   ],
   "source": [
    "#create a df summarizing all blast hits for each contig at the Superkingdom level\n",
    "list_of_summary_series =[]\n",
    "overall_count = 0\n",
    "for king in Superkingdoms:\n",
    "    king_list = []\n",
    "    ID_list = []\n",
    "    for Series in blast_all_sorted_df.groupby('ID')['Superkingdom']:\n",
    "        for x in Series[1:]: #is the list of ['Superkingdom'] for each 'ID'\n",
    "            count = 0\n",
    "            for hit in x:\n",
    "                overall_count += 1\n",
    "                if hit == king:\n",
    "                    count += 1\n",
    "            king_list.append(count)\n",
    "            ID_list.append(Series[0])\n",
    "    list_of_summary_series.append(pd.Series(king_list, name=king))\n",
    "list_of_summary_series.append(pd.Series(ID_list,name='ID'))\n",
    "blast_hit_summary_df = pd.concat(list_of_summary_series, axis=1)\n",
    "#create a 'Total Blast Hits' column\n",
    "blast_hit_summary_df['Total Blast Hits'] = blast_hit_summary_df[blast_hit_summary_df.columns[0]]*0\n",
    "for x in range(0, (len(Superkingdoms))):\n",
    "    blast_hit_summary_df['Total Blast Hits'] = blast_hit_summary_df['Total Blast Hits'] + blast_hit_summary_df[list(blast_hit_summary_df.columns)[x]]  \n",
    "#create %Eukaryota columns\n",
    "blast_hit_summary_df['%Eukaryota'] = np.round(blast_hit_summary_df['Eukaryota']/blast_hit_summary_df['Total Blast Hits']*100, 2)\n",
    "blast_hit_summary_df = blast_hit_summary_df.fillna(0)\n",
    "#quick test if all went correct\n",
    "len(blast_hit_summary_df['Total Blast Hits'])- len(blast_all_sorted_df.groupby('ID')['Superkingdom'])"
   ]
  },
  {
   "cell_type": "code",
   "execution_count": 26,
   "metadata": {
    "collapsed": true
   },
   "outputs": [],
   "source": [
    "#rename the ID header to ID-blast so it is easier to delete later\n",
    "new_header = blast_hit_summary_df.columns.tolist()\n",
    "new_header[new_header.index('ID')] = 'ID-blast'\n",
    "old_header = blast_hit_summary_df.columns.tolist()\n",
    "header_dict = dict(zip(old_header, new_header))\n",
    "blast_hit_summary_df.rename( columns= header_dict,inplace=True)"
   ]
  },
  {
   "cell_type": "code",
   "execution_count": 27,
   "metadata": {
    "collapsed": true
   },
   "outputs": [],
   "source": [
    "p_and_a_ctg_sorted_df = p_and_a_ctg_df.sort_values(by='ID').reset_index(drop=True)"
   ]
  },
  {
   "cell_type": "code",
   "execution_count": 28,
   "metadata": {
    "collapsed": true
   },
   "outputs": [],
   "source": [
    "#add the summary_df to the seed_df\n",
    "p_and_a_ctg_blast_df = pd.concat([p_and_a_ctg_sorted_df, blast_hit_summary_df.sort_values(by='ID-blast')], axis =1)"
   ]
  },
  {
   "cell_type": "code",
   "execution_count": 29,
   "metadata": {
    "collapsed": false
   },
   "outputs": [
    {
     "data": {
      "text/plain": [
       "ID                       84\n",
       "Length                   84\n",
       "%GC                      84\n",
       "Assembly                 84\n",
       "P_contig                 84\n",
       "A_contig                 84\n",
       "Eukaryota                84\n",
       "Archaea                  84\n",
       "synthetic construct      84\n",
       "Bacteria                 84\n",
       "environmental samples    84\n",
       "ID-blast                 84\n",
       "Total Blast Hits         84\n",
       "%Eukaryota               84\n",
       "dtype: int64"
      ]
     },
     "execution_count": 29,
     "metadata": {},
     "output_type": "execute_result"
    }
   ],
   "source": [
    "#quick test if all went alright\n",
    "set(p_and_a_ctg_blast_df.loc[:,'ID'] == p_and_a_ctg_blast_df.loc[:,'ID-blast'])\n",
    "p_and_a_ctg_blast_df[p_and_a_ctg_blast_df['Total Blast Hits'] == 0].count()"
   ]
  },
  {
   "cell_type": "code",
   "execution_count": 30,
   "metadata": {
    "collapsed": true
   },
   "outputs": [],
   "source": [
    "#delete the 'ID-blast' column\n",
    "del p_and_a_ctg_blast_df['ID-blast']"
   ]
  },
  {
   "cell_type": "code",
   "execution_count": 31,
   "metadata": {
    "collapsed": false
   },
   "outputs": [
    {
     "data": {
      "text/html": [
       "<div>\n",
       "<table border=\"1\" class=\"dataframe\">\n",
       "  <thead>\n",
       "    <tr style=\"text-align: right;\">\n",
       "      <th></th>\n",
       "      <th>ID</th>\n",
       "      <th>Length</th>\n",
       "      <th>%GC</th>\n",
       "      <th>Assembly</th>\n",
       "      <th>P_contig</th>\n",
       "      <th>A_contig</th>\n",
       "      <th>Eukaryota</th>\n",
       "      <th>Archaea</th>\n",
       "      <th>synthetic construct</th>\n",
       "      <th>Bacteria</th>\n",
       "      <th>environmental samples</th>\n",
       "      <th>Total Blast Hits</th>\n",
       "      <th>%Eukaryota</th>\n",
       "    </tr>\n",
       "  </thead>\n",
       "  <tbody>\n",
       "    <tr>\n",
       "      <th>0</th>\n",
       "      <td>000000F</td>\n",
       "      <td>5374253</td>\n",
       "      <td>44.246261</td>\n",
       "      <td>v4_1_p_and_a_ctg_sh.fa</td>\n",
       "      <td>1</td>\n",
       "      <td>0</td>\n",
       "      <td>995</td>\n",
       "      <td>0</td>\n",
       "      <td>0</td>\n",
       "      <td>0</td>\n",
       "      <td>1</td>\n",
       "      <td>996</td>\n",
       "      <td>99.9</td>\n",
       "    </tr>\n",
       "    <tr>\n",
       "      <th>1</th>\n",
       "      <td>000000F-001-01</td>\n",
       "      <td>89692</td>\n",
       "      <td>43.236855</td>\n",
       "      <td>v4_1_p_and_a_ctg_sh.fa</td>\n",
       "      <td>0</td>\n",
       "      <td>1</td>\n",
       "      <td>3</td>\n",
       "      <td>0</td>\n",
       "      <td>0</td>\n",
       "      <td>0</td>\n",
       "      <td>0</td>\n",
       "      <td>3</td>\n",
       "      <td>100.0</td>\n",
       "    </tr>\n",
       "    <tr>\n",
       "      <th>2</th>\n",
       "      <td>000000F-003-01</td>\n",
       "      <td>74018</td>\n",
       "      <td>43.061147</td>\n",
       "      <td>v4_1_p_and_a_ctg_sh.fa</td>\n",
       "      <td>0</td>\n",
       "      <td>1</td>\n",
       "      <td>17</td>\n",
       "      <td>0</td>\n",
       "      <td>0</td>\n",
       "      <td>0</td>\n",
       "      <td>0</td>\n",
       "      <td>17</td>\n",
       "      <td>100.0</td>\n",
       "    </tr>\n",
       "    <tr>\n",
       "      <th>3</th>\n",
       "      <td>000000F-004-01</td>\n",
       "      <td>77348</td>\n",
       "      <td>42.430315</td>\n",
       "      <td>v4_1_p_and_a_ctg_sh.fa</td>\n",
       "      <td>0</td>\n",
       "      <td>1</td>\n",
       "      <td>17</td>\n",
       "      <td>0</td>\n",
       "      <td>0</td>\n",
       "      <td>0</td>\n",
       "      <td>0</td>\n",
       "      <td>17</td>\n",
       "      <td>100.0</td>\n",
       "    </tr>\n",
       "    <tr>\n",
       "      <th>4</th>\n",
       "      <td>000000F-005-01</td>\n",
       "      <td>162191</td>\n",
       "      <td>44.186176</td>\n",
       "      <td>v4_1_p_and_a_ctg_sh.fa</td>\n",
       "      <td>0</td>\n",
       "      <td>1</td>\n",
       "      <td>32</td>\n",
       "      <td>0</td>\n",
       "      <td>0</td>\n",
       "      <td>0</td>\n",
       "      <td>0</td>\n",
       "      <td>32</td>\n",
       "      <td>100.0</td>\n",
       "    </tr>\n",
       "  </tbody>\n",
       "</table>\n",
       "</div>"
      ],
      "text/plain": [
       "               ID   Length        %GC                Assembly  P_contig  \\\n",
       "0         000000F  5374253  44.246261  v4_1_p_and_a_ctg_sh.fa         1   \n",
       "1  000000F-001-01    89692  43.236855  v4_1_p_and_a_ctg_sh.fa         0   \n",
       "2  000000F-003-01    74018  43.061147  v4_1_p_and_a_ctg_sh.fa         0   \n",
       "3  000000F-004-01    77348  42.430315  v4_1_p_and_a_ctg_sh.fa         0   \n",
       "4  000000F-005-01   162191  44.186176  v4_1_p_and_a_ctg_sh.fa         0   \n",
       "\n",
       "   A_contig  Eukaryota  Archaea  synthetic construct  Bacteria  \\\n",
       "0         0        995        0                    0         0   \n",
       "1         1          3        0                    0         0   \n",
       "2         1         17        0                    0         0   \n",
       "3         1         17        0                    0         0   \n",
       "4         1         32        0                    0         0   \n",
       "\n",
       "   environmental samples  Total Blast Hits  %Eukaryota  \n",
       "0                      1               996        99.9  \n",
       "1                      0                 3       100.0  \n",
       "2                      0                17       100.0  \n",
       "3                      0                17       100.0  \n",
       "4                      0                32       100.0  "
      ]
     },
     "execution_count": 31,
     "metadata": {},
     "output_type": "execute_result"
    }
   ],
   "source": [
    "p_and_a_ctg_blast_df.head()"
   ]
  },
  {
   "cell_type": "code",
   "execution_count": 32,
   "metadata": {
    "collapsed": true
   },
   "outputs": [],
   "source": [
    "#add another column to the data frame that IDs the primary associated contig\n",
    "primary_ID = []\n",
    "for x in p_and_a_ctg_blast_df['ID']:\n",
    "    if \"-\" in list(x):\n",
    "        primary_ID.append(x[0:7])\n",
    "    else:\n",
    "        primary_ID.append(x)\n",
    "p_and_a_ctg_blast_df[\"P_ID\"] = pd.Series(primary_ID)"
   ]
  },
  {
   "cell_type": "code",
   "execution_count": 33,
   "metadata": {
    "collapsed": true
   },
   "outputs": [],
   "source": [
    "#safe the dataframe in cwd\n",
    "p_and_a_ctg_blast_df.to_csv(blast_tabBS1_handle+'.blast_summary.csv', sep='\\t', encoding='utf-8')"
   ]
  },
  {
   "cell_type": "code",
   "execution_count": 35,
   "metadata": {
    "collapsed": false
   },
   "outputs": [],
   "source": [
    "cov_all_df = coverage_df_generator_all(cov_path, cov_file_name, 'PacBio', p_and_a_ctg_df)"
   ]
  },
  {
   "cell_type": "code",
   "execution_count": 36,
   "metadata": {
    "collapsed": false
   },
   "outputs": [
    {
     "data": {
      "text/plain": [
       "True"
      ]
     },
     "execution_count": 36,
     "metadata": {},
     "output_type": "execute_result"
    }
   ],
   "source": [
    "#append original blast_df with empty dataframe, sort by ID. \n",
    "#check for correct length between p_and_a_ctg_df and blast_all_df\n",
    "cov_all_df = coverage_df_generator_all(cov_path, cov_file_name, 'PacBio', p_and_a_ctg_df)\n",
    "cov_all_sorted_df  = cov_all_df.sort_values(by=[cov_all_df.columns.tolist()[0]]).reset_index(drop=True)\n",
    "len(set(cov_all_sorted_df.iloc[:,0])) ==  len(p_and_a_ctg_df)"
   ]
  },
  {
   "cell_type": "code",
   "execution_count": 37,
   "metadata": {
    "collapsed": false
   },
   "outputs": [],
   "source": [
    "#add the PacBio coverage\n",
    "p_and_a_ctg_blast_cov_df = add_cov_to_summary(p_and_a_ctg_blast_df, cov_all_sorted_df)"
   ]
  },
  {
   "cell_type": "code",
   "execution_count": 64,
   "metadata": {
    "collapsed": false
   },
   "outputs": [],
   "source": [
    "#add the Illumina coverage\n",
    "cov_contig_illumina = coverage_df_generator_all(cov_path_2, cov_file_name_2, seq_type_2, p_and_a_ctg_df)\n",
    "p_and_a_ctg_blast_cov_df = add_cov_to_summary(p_and_a_ctg_blast_cov_df, cov_contig_illumina)"
   ]
  },
  {
   "cell_type": "code",
   "execution_count": 39,
   "metadata": {
    "collapsed": true
   },
   "outputs": [],
   "source": [
    "#safe the dataframe in cwd\n",
    "p_and_a_ctg_blast_cov_df.to_csv(p_and_a_ctg_file_name+'.blast_cov_summary.csv', sep='\\t', encoding='utf-8')"
   ]
  },
  {
   "cell_type": "code",
   "execution_count": 40,
   "metadata": {
    "collapsed": false
   },
   "outputs": [],
   "source": [
    "#example for getting blast results of interesting contigs\n",
    "Eu_smaller_70_list = p_and_a_ctg_blast_cov_df[(p_and_a_ctg_blast_cov_df['%Eukaryota']<70)]['ID'].tolist()\n",
    "Eu_smaller_70_blast_df = tc_blast_df(blast_xml_path, blast_xml_file_name, Eu_smaller_70_list)"
   ]
  },
  {
   "cell_type": "code",
   "execution_count": 41,
   "metadata": {
    "collapsed": false
   },
   "outputs": [
    {
     "name": "stdout",
     "output_type": "stream",
     "text": [
      "000200F \t  Phakopsora pachyrhizi clone JGIAFNA-73C6, complete sequence\n",
      "000200F \t  Melampsora larici-populina 98AG31 hypothetical protein (MELLADRAFT_48126), partial mRNA\n",
      "000200F \t  Myroides odoratimimus strain PR63039, complete genome\n",
      "000200F \t  Nonlabens dokdonensis DSW-6, complete genome\n",
      "000200F \t  Lichtheimia ramosa genome assembly Lramosa_hybrid_454_Illumina, scaffold SCAF2\n",
      "000006F-001-01 \t  Puccinia graminis f. sp. tritici CRL 75-36-700-3 nonsense-mediated mRNA decay protein 3 (PGTG_16280), mRNA\n",
      "000006F-001-01 \t  Puccinia graminis f. sp. tritici CRL 75-36-700-3 nonsense-mediated mRNA decay protein 3 (PGTG_03805), mRNA\n",
      "000006F-001-01 \t  Puccinia graminis f. sp. tritici CRL 75-36-700-3 hypothetical protein, variant (PGTG_15611), mRNA\n",
      "000006F-001-01 \t  Puccinia graminis f. sp. tritici CRL 75-36-700-3 hypothetical protein (PGTG_15611), mRNA\n",
      "000006F-001-01 \t  Puccinia graminis f. sp. tritici CRL 75-36-700-3 ATP synthase subunit alpha, mitochondrial (PGTG_15605), mRNA\n",
      "000006F-001-01 \t  Puccinia graminis f. sp. tritici CRL 75-36-700-3 hypothetical protein (PGTG_15571), mRNA\n"
     ]
    }
   ],
   "source": [
    "#example to print the first 5 blast hits of each of those interesting contigs\n",
    "print_first_5_blast_hits(Eu_smaller_70_blast_df)"
   ]
  },
  {
   "cell_type": "code",
   "execution_count": 65,
   "metadata": {
    "collapsed": false
   },
   "outputs": [
    {
     "data": {
      "text/plain": [
       "(0, 60)"
      ]
     },
     "execution_count": 65,
     "metadata": {},
     "output_type": "execute_result"
    },
    {
     "data": {
      "image/png": "[encoded data removed]",
      "text/plain": [
       "<matplotlib.figure.Figure at 0x1180599b0>"
      ]
     },
     "metadata": {},
     "output_type": "display_data"
    }
   ],
   "source": [
    "#some plotting examples\n",
    "#e.g. %GC vs Average Coverage\n",
    "plt.figure(figsize=(15,9))\n",
    "plt.scatter(x=p_and_a_ctg_blast_cov_df['%GC'], y=p_and_a_ctg_blast_cov_df['Average Coverage PacBio'])\n",
    "font = {'family' : 'normal',\n",
    "        'weight' : 'bold',\n",
    "        'size'   : 15}\n",
    "matplotlib.rc('font', **font) #changes font of the plot\n",
    "label_config_x = {'fontsize'            : 'large',\n",
    "      'verticalalignment'   : 'top',\n",
    "      'horizontalalignment' : 'center'\n",
    "      }\n",
    "label_config_y = {'fontsize'            : 'large',\n",
    "      'verticalalignment'   : 'bottom',\n",
    "      'horizontalalignment' : 'center'\n",
    "      }\n",
    "font = {'family' : 'normal',\n",
    "        'weight' : 'bold',\n",
    "        'size'   : 15}\n",
    "plt.xlabel(\"%GC\", **label_config_x)\n",
    "plt.ylabel('Coverage PacBio', **label_config_y)\n",
    "\n",
    "plt.xlim(0,60)"
   ]
  },
  {
   "cell_type": "code",
   "execution_count": 43,
   "metadata": {
    "collapsed": false
   },
   "outputs": [
    {
     "data": {
      "text/plain": [
       "(0, 60)"
      ]
     },
     "execution_count": 43,
     "metadata": {},
     "output_type": "execute_result"
    },
    {
     "name": "stderr",
     "output_type": "stream",
     "text": [
      "//anaconda/lib/python3.5/site-packages/matplotlib/font_manager.py:1288: UserWarning: findfont: Font family ['normal'] not found. Falling back to Bitstream Vera Sans\n",
      "  (prop.get_family(), self.defaultFamily[fontext]))\n"
     ]
    },
    {
     "data": {
      "image/png": "[encoded data removed]",
      "text/plain": [
       "<matplotlib.figure.Figure at 0x113f13da0>"
      ]
     },
     "metadata": {},
     "output_type": "display_data"
    }
   ],
   "source": [
    "#some plotting examples\n",
    "#e.g. %GC vs Average Coverage\n",
    "plt.figure(figsize=(15,9))\n",
    "plt.scatter(x=p_and_a_ctg_blast_cov_df['%GC'], y=np.log10(p_and_a_ctg_blast_cov_df['Average Coverage PacBio']))\n",
    "font = {'family' : 'normal',\n",
    "        'weight' : 'bold',\n",
    "        'size'   : 15}\n",
    "matplotlib.rc('font', **font) #changes font of the plot\n",
    "label_config_x = {'fontsize'            : 'large',\n",
    "      'verticalalignment'   : 'top',\n",
    "      'horizontalalignment' : 'center'\n",
    "      }\n",
    "label_config_y = {'fontsize'            : 'large',\n",
    "      'verticalalignment'   : 'bottom',\n",
    "      'horizontalalignment' : 'center'\n",
    "      }\n",
    "font = {'family' : 'normal',\n",
    "        'weight' : 'bold',\n",
    "        'size'   : 15}\n",
    "plt.xlabel(\"%GC\", **label_config_x)\n",
    "plt.ylabel('Coverage', **label_config_y)\n",
    "\n",
    "plt.xlim(0,60)"
   ]
  },
  {
   "cell_type": "code",
   "execution_count": 44,
   "metadata": {
    "collapsed": false
   },
   "outputs": [
    {
     "data": {
      "text/plain": [
       "(-100, 14000)"
      ]
     },
     "execution_count": 44,
     "metadata": {},
     "output_type": "execute_result"
    },
    {
     "data": {
      "image/png": "[encoded data removed]",
      "text/plain": [
       "<matplotlib.figure.Figure at 0x113df21d0>"
      ]
     },
     "metadata": {},
     "output_type": "display_data"
    }
   ],
   "source": [
    "#contig_length vs Coverage\n",
    "plt.figure(figsize=(15,9))\n",
    "plt.scatter(y=p_and_a_ctg_blast_cov_df['Average Coverage PacBio'], x=p_and_a_ctg_blast_cov_df['Length'])\n",
    "font = {'family' : 'normal',\n",
    "        'weight' : 'bold',\n",
    "        'size'   : 15}\n",
    "matplotlib.rc('font', **font) #changes font of the plot\n",
    "label_config_x = {'fontsize'            : 'large',\n",
    "      'verticalalignment'   : 'top',\n",
    "      'horizontalalignment' : 'center'\n",
    "      }\n",
    "label_config_y = {'fontsize'            : 'large',\n",
    "      'verticalalignment'   : 'bottom',\n",
    "      'horizontalalignment' : 'center'\n",
    "      }\n",
    "font = {'family' : 'normal',\n",
    "        'weight' : 'bold',\n",
    "        'size'   : 15}\n",
    "plt.xlabel(\"Coverage\", **label_config_x)\n",
    "plt.ylabel('Contig Length', **label_config_y)\n",
    "#plt.xlim(-10,400)\n",
    "plt.ylim(-100,14000)"
   ]
  },
  {
   "cell_type": "code",
   "execution_count": 45,
   "metadata": {
    "collapsed": false
   },
   "outputs": [
    {
     "data": {
      "text/plain": [
       "<matplotlib.text.Text at 0x11156ef98>"
      ]
     },
     "execution_count": 45,
     "metadata": {},
     "output_type": "execute_result"
    },
    {
     "data": {
      "image/png": "[encoded data removed]",
      "text/plain": [
       "<matplotlib.figure.Figure at 0x111599240>"
      ]
     },
     "metadata": {},
     "output_type": "display_data"
    }
   ],
   "source": [
    "plt.figure(figsize=(15,9))\n",
    "plt.scatter(x=p_and_a_ctg_blast_cov_df['Length'], y=p_and_a_ctg_blast_cov_df['%Eukaryota'])\n",
    "font = {'family' : 'normal',\n",
    "        'weight' : 'bold',\n",
    "        'size'   : 15}\n",
    "matplotlib.rc('font', **font) #changes font of the plot\n",
    "label_config_x = {'fontsize'            : 'large',\n",
    "      'verticalalignment'   : 'top',\n",
    "      'horizontalalignment' : 'center'\n",
    "      }\n",
    "label_config_y = {'fontsize'            : 'large',\n",
    "      'verticalalignment'   : 'bottom',\n",
    "      'horizontalalignment' : 'center'\n",
    "      }\n",
    "font = {'family' : 'normal',\n",
    "        'weight' : 'bold',\n",
    "        'size'   : 15}\n",
    "plt.xlabel(\"Contig Length\", **label_config_x)\n",
    "plt.ylabel('%Eukaryota', **label_config_y)\n",
    "#plt.xlim(-10,400)\n",
    "#plt.ylim(-100,1000000)"
   ]
  },
  {
   "cell_type": "code",
   "execution_count": 46,
   "metadata": {
    "collapsed": false
   },
   "outputs": [],
   "source": [
    "cov_contig_illumina = coverage_df_generator(cov_path_2, cov_file_name_2, seq_type_2)"
   ]
  },
  {
   "cell_type": "code",
   "execution_count": 47,
   "metadata": {
    "collapsed": false
   },
   "outputs": [
    {
     "data": {
      "text/html": [
       "<div>\n",
       "<table border=\"1\" class=\"dataframe\">\n",
       "  <thead>\n",
       "    <tr style=\"text-align: right;\">\n",
       "      <th></th>\n",
       "      <th>ID-cov Illumina_all</th>\n",
       "      <th>start Illumina_all</th>\n",
       "      <th>stop Illumina_all</th>\n",
       "      <th>total hits Illumina_all</th>\n",
       "      <th>Average Coverage Illumina_all</th>\n",
       "    </tr>\n",
       "  </thead>\n",
       "  <tbody>\n",
       "    <tr>\n",
       "      <th>0</th>\n",
       "      <td>000000F</td>\n",
       "      <td>0</td>\n",
       "      <td>5374253</td>\n",
       "      <td>564585167</td>\n",
       "      <td>105.054</td>\n",
       "    </tr>\n",
       "    <tr>\n",
       "      <th>1</th>\n",
       "      <td>000001F</td>\n",
       "      <td>0</td>\n",
       "      <td>4680286</td>\n",
       "      <td>499877592</td>\n",
       "      <td>106.805</td>\n",
       "    </tr>\n",
       "    <tr>\n",
       "      <th>2</th>\n",
       "      <td>000002F</td>\n",
       "      <td>0</td>\n",
       "      <td>3291248</td>\n",
       "      <td>309890395</td>\n",
       "      <td>94.156</td>\n",
       "    </tr>\n",
       "    <tr>\n",
       "      <th>3</th>\n",
       "      <td>000003F</td>\n",
       "      <td>0</td>\n",
       "      <td>3082276</td>\n",
       "      <td>342004407</td>\n",
       "      <td>110.958</td>\n",
       "    </tr>\n",
       "    <tr>\n",
       "      <th>4</th>\n",
       "      <td>000004F</td>\n",
       "      <td>0</td>\n",
       "      <td>3127203</td>\n",
       "      <td>272668471</td>\n",
       "      <td>87.192</td>\n",
       "    </tr>\n",
       "  </tbody>\n",
       "</table>\n",
       "</div>"
      ],
      "text/plain": [
       "  ID-cov Illumina_all  start Illumina_all  stop Illumina_all  \\\n",
       "0             000000F                   0            5374253   \n",
       "1             000001F                   0            4680286   \n",
       "2             000002F                   0            3291248   \n",
       "3             000003F                   0            3082276   \n",
       "4             000004F                   0            3127203   \n",
       "\n",
       "   total hits Illumina_all  Average Coverage Illumina_all  \n",
       "0                564585167                        105.054  \n",
       "1                499877592                        106.805  \n",
       "2                309890395                         94.156  \n",
       "3                342004407                        110.958  \n",
       "4                272668471                         87.192  "
      ]
     },
     "execution_count": 47,
     "metadata": {},
     "output_type": "execute_result"
    }
   ],
   "source": [
    "cov_contig_illumina.head()"
   ]
  },
  {
   "cell_type": "code",
   "execution_count": 48,
   "metadata": {
    "collapsed": true
   },
   "outputs": [],
   "source": [
    "p_and_a_ctg_blast_cov_df = add_cov_to_summary(p_and_a_ctg_blast_cov_df, cov_contig_illumina)"
   ]
  },
  {
   "cell_type": "code",
   "execution_count": 49,
   "metadata": {
    "collapsed": false
   },
   "outputs": [
    {
     "data": {
      "text/html": [
       "<div>\n",
       "<table border=\"1\" class=\"dataframe\">\n",
       "  <thead>\n",
       "    <tr style=\"text-align: right;\">\n",
       "      <th></th>\n",
       "      <th>ID</th>\n",
       "      <th>Length</th>\n",
       "      <th>%GC</th>\n",
       "      <th>Assembly</th>\n",
       "      <th>P_contig</th>\n",
       "      <th>A_contig</th>\n",
       "      <th>Eukaryota</th>\n",
       "      <th>Archaea</th>\n",
       "      <th>synthetic construct</th>\n",
       "      <th>Bacteria</th>\n",
       "      <th>environmental samples</th>\n",
       "      <th>Total Blast Hits</th>\n",
       "      <th>%Eukaryota</th>\n",
       "      <th>P_ID</th>\n",
       "      <th>Average Coverage PacBio</th>\n",
       "      <th>Average Coverage Illumina_all</th>\n",
       "    </tr>\n",
       "  </thead>\n",
       "  <tbody>\n",
       "    <tr>\n",
       "      <th>0</th>\n",
       "      <td>000000F</td>\n",
       "      <td>5374253</td>\n",
       "      <td>44.246261</td>\n",
       "      <td>v4_1_p_and_a_ctg_sh.fa</td>\n",
       "      <td>1</td>\n",
       "      <td>0</td>\n",
       "      <td>995</td>\n",
       "      <td>0</td>\n",
       "      <td>0</td>\n",
       "      <td>0</td>\n",
       "      <td>1</td>\n",
       "      <td>996</td>\n",
       "      <td>99.9</td>\n",
       "      <td>000000F</td>\n",
       "      <td>70.129</td>\n",
       "      <td>105.054</td>\n",
       "    </tr>\n",
       "    <tr>\n",
       "      <th>1</th>\n",
       "      <td>000000F-001-01</td>\n",
       "      <td>89692</td>\n",
       "      <td>43.236855</td>\n",
       "      <td>v4_1_p_and_a_ctg_sh.fa</td>\n",
       "      <td>0</td>\n",
       "      <td>1</td>\n",
       "      <td>3</td>\n",
       "      <td>0</td>\n",
       "      <td>0</td>\n",
       "      <td>0</td>\n",
       "      <td>0</td>\n",
       "      <td>3</td>\n",
       "      <td>100.0</td>\n",
       "      <td>000000F</td>\n",
       "      <td>40.630</td>\n",
       "      <td>91.868</td>\n",
       "    </tr>\n",
       "    <tr>\n",
       "      <th>2</th>\n",
       "      <td>000000F-003-01</td>\n",
       "      <td>74018</td>\n",
       "      <td>43.061147</td>\n",
       "      <td>v4_1_p_and_a_ctg_sh.fa</td>\n",
       "      <td>0</td>\n",
       "      <td>1</td>\n",
       "      <td>17</td>\n",
       "      <td>0</td>\n",
       "      <td>0</td>\n",
       "      <td>0</td>\n",
       "      <td>0</td>\n",
       "      <td>17</td>\n",
       "      <td>100.0</td>\n",
       "      <td>000000F</td>\n",
       "      <td>41.174</td>\n",
       "      <td>79.749</td>\n",
       "    </tr>\n",
       "    <tr>\n",
       "      <th>3</th>\n",
       "      <td>000000F-004-01</td>\n",
       "      <td>77348</td>\n",
       "      <td>42.430315</td>\n",
       "      <td>v4_1_p_and_a_ctg_sh.fa</td>\n",
       "      <td>0</td>\n",
       "      <td>1</td>\n",
       "      <td>17</td>\n",
       "      <td>0</td>\n",
       "      <td>0</td>\n",
       "      <td>0</td>\n",
       "      <td>0</td>\n",
       "      <td>17</td>\n",
       "      <td>100.0</td>\n",
       "      <td>000000F</td>\n",
       "      <td>58.217</td>\n",
       "      <td>92.195</td>\n",
       "    </tr>\n",
       "    <tr>\n",
       "      <th>4</th>\n",
       "      <td>000000F-005-01</td>\n",
       "      <td>162191</td>\n",
       "      <td>44.186176</td>\n",
       "      <td>v4_1_p_and_a_ctg_sh.fa</td>\n",
       "      <td>0</td>\n",
       "      <td>1</td>\n",
       "      <td>32</td>\n",
       "      <td>0</td>\n",
       "      <td>0</td>\n",
       "      <td>0</td>\n",
       "      <td>0</td>\n",
       "      <td>32</td>\n",
       "      <td>100.0</td>\n",
       "      <td>000000F</td>\n",
       "      <td>45.313</td>\n",
       "      <td>73.464</td>\n",
       "    </tr>\n",
       "  </tbody>\n",
       "</table>\n",
       "</div>"
      ],
      "text/plain": [
       "               ID   Length        %GC                Assembly  P_contig  \\\n",
       "0         000000F  5374253  44.246261  v4_1_p_and_a_ctg_sh.fa         1   \n",
       "1  000000F-001-01    89692  43.236855  v4_1_p_and_a_ctg_sh.fa         0   \n",
       "2  000000F-003-01    74018  43.061147  v4_1_p_and_a_ctg_sh.fa         0   \n",
       "3  000000F-004-01    77348  42.430315  v4_1_p_and_a_ctg_sh.fa         0   \n",
       "4  000000F-005-01   162191  44.186176  v4_1_p_and_a_ctg_sh.fa         0   \n",
       "\n",
       "   A_contig  Eukaryota  Archaea  synthetic construct  Bacteria  \\\n",
       "0         0        995        0                    0         0   \n",
       "1         1          3        0                    0         0   \n",
       "2         1         17        0                    0         0   \n",
       "3         1         17        0                    0         0   \n",
       "4         1         32        0                    0         0   \n",
       "\n",
       "   environmental samples  Total Blast Hits  %Eukaryota     P_ID  \\\n",
       "0                      1               996        99.9  000000F   \n",
       "1                      0                 3       100.0  000000F   \n",
       "2                      0                17       100.0  000000F   \n",
       "3                      0                17       100.0  000000F   \n",
       "4                      0                32       100.0  000000F   \n",
       "\n",
       "   Average Coverage PacBio  Average Coverage Illumina_all  \n",
       "0                   70.129                        105.054  \n",
       "1                   40.630                         91.868  \n",
       "2                   41.174                         79.749  \n",
       "3                   58.217                         92.195  \n",
       "4                   45.313                         73.464  "
      ]
     },
     "execution_count": 49,
     "metadata": {},
     "output_type": "execute_result"
    }
   ],
   "source": [
    "p_and_a_ctg_blast_cov_df.head()"
   ]
  },
  {
   "cell_type": "code",
   "execution_count": 50,
   "metadata": {
    "collapsed": false
   },
   "outputs": [
    {
     "data": {
      "text/plain": [
       "<matplotlib.text.Text at 0x1128bb358>"
      ]
     },
     "execution_count": 50,
     "metadata": {},
     "output_type": "execute_result"
    },
    {
     "name": "stderr",
     "output_type": "stream",
     "text": [
      "//anaconda/lib/python3.5/site-packages/matplotlib/font_manager.py:1288: UserWarning: findfont: Font family ['normal'] not found. Falling back to Bitstream Vera Sans\n",
      "  (prop.get_family(), self.defaultFamily[fontext]))\n"
     ]
    },
    {
     "data": {
      "image/png": "[encoded data removed]",
      "text/plain": [
       "<matplotlib.figure.Figure at 0x1128bbac8>"
      ]
     },
     "metadata": {},
     "output_type": "display_data"
    }
   ],
   "source": [
    "plt.scatter(x=p_and_a_ctg_blast_cov_df['Average Coverage PacBio'], y=p_and_a_ctg_blast_cov_df['Average Coverage Illumina_all'])\n",
    "plt.ylabel(\"Illumina Coverage\")\n",
    "plt.xlabel(\"PacBio Coverage\")"
   ]
  },
  {
   "cell_type": "code",
   "execution_count": 51,
   "metadata": {
    "collapsed": false
   },
   "outputs": [
    {
     "data": {
      "text/html": [
       "<div>\n",
       "<table border=\"1\" class=\"dataframe\">\n",
       "  <thead>\n",
       "    <tr style=\"text-align: right;\">\n",
       "      <th></th>\n",
       "      <th>ID</th>\n",
       "      <th>Length</th>\n",
       "      <th>%GC</th>\n",
       "      <th>Assembly</th>\n",
       "      <th>P_contig</th>\n",
       "      <th>A_contig</th>\n",
       "      <th>Eukaryota</th>\n",
       "      <th>Archaea</th>\n",
       "      <th>synthetic construct</th>\n",
       "      <th>Bacteria</th>\n",
       "      <th>environmental samples</th>\n",
       "      <th>Total Blast Hits</th>\n",
       "      <th>%Eukaryota</th>\n",
       "      <th>P_ID</th>\n",
       "      <th>Average Coverage PacBio</th>\n",
       "      <th>Average Coverage Illumina_all</th>\n",
       "    </tr>\n",
       "  </thead>\n",
       "  <tbody>\n",
       "    <tr>\n",
       "      <th>33</th>\n",
       "      <td>000000F-042-01</td>\n",
       "      <td>1506</td>\n",
       "      <td>41.500664</td>\n",
       "      <td>v4_1_p_and_a_ctg_sh.fa</td>\n",
       "      <td>0</td>\n",
       "      <td>1</td>\n",
       "      <td>0</td>\n",
       "      <td>0</td>\n",
       "      <td>0</td>\n",
       "      <td>0</td>\n",
       "      <td>0</td>\n",
       "      <td>0</td>\n",
       "      <td>0</td>\n",
       "      <td>000000F</td>\n",
       "      <td>0.198</td>\n",
       "      <td>86.222</td>\n",
       "    </tr>\n",
       "    <tr>\n",
       "      <th>191</th>\n",
       "      <td>000009F-002-01</td>\n",
       "      <td>734</td>\n",
       "      <td>37.738420</td>\n",
       "      <td>v4_1_p_and_a_ctg_sh.fa</td>\n",
       "      <td>0</td>\n",
       "      <td>1</td>\n",
       "      <td>0</td>\n",
       "      <td>0</td>\n",
       "      <td>0</td>\n",
       "      <td>0</td>\n",
       "      <td>0</td>\n",
       "      <td>0</td>\n",
       "      <td>0</td>\n",
       "      <td>000009F</td>\n",
       "      <td>0.000</td>\n",
       "      <td>43.939</td>\n",
       "    </tr>\n",
       "    <tr>\n",
       "      <th>221</th>\n",
       "      <td>000011F-006-01</td>\n",
       "      <td>3530</td>\n",
       "      <td>48.300283</td>\n",
       "      <td>v4_1_p_and_a_ctg_sh.fa</td>\n",
       "      <td>0</td>\n",
       "      <td>1</td>\n",
       "      <td>0</td>\n",
       "      <td>0</td>\n",
       "      <td>0</td>\n",
       "      <td>0</td>\n",
       "      <td>0</td>\n",
       "      <td>0</td>\n",
       "      <td>0</td>\n",
       "      <td>000011F</td>\n",
       "      <td>0.495</td>\n",
       "      <td>42.511</td>\n",
       "    </tr>\n",
       "    <tr>\n",
       "      <th>342</th>\n",
       "      <td>000025F-002-01</td>\n",
       "      <td>1852</td>\n",
       "      <td>42.602592</td>\n",
       "      <td>v4_1_p_and_a_ctg_sh.fa</td>\n",
       "      <td>0</td>\n",
       "      <td>1</td>\n",
       "      <td>0</td>\n",
       "      <td>0</td>\n",
       "      <td>0</td>\n",
       "      <td>0</td>\n",
       "      <td>0</td>\n",
       "      <td>0</td>\n",
       "      <td>0</td>\n",
       "      <td>000025F</td>\n",
       "      <td>0.000</td>\n",
       "      <td>42.999</td>\n",
       "    </tr>\n",
       "    <tr>\n",
       "      <th>381</th>\n",
       "      <td>000033F</td>\n",
       "      <td>8330</td>\n",
       "      <td>44.345738</td>\n",
       "      <td>v4_1_p_and_a_ctg_sh.fa</td>\n",
       "      <td>1</td>\n",
       "      <td>0</td>\n",
       "      <td>3</td>\n",
       "      <td>0</td>\n",
       "      <td>0</td>\n",
       "      <td>0</td>\n",
       "      <td>0</td>\n",
       "      <td>3</td>\n",
       "      <td>100</td>\n",
       "      <td>000033F</td>\n",
       "      <td>0.779</td>\n",
       "      <td>20.117</td>\n",
       "    </tr>\n",
       "    <tr>\n",
       "      <th>474</th>\n",
       "      <td>000059F</td>\n",
       "      <td>5749</td>\n",
       "      <td>39.676465</td>\n",
       "      <td>v4_1_p_and_a_ctg_sh.fa</td>\n",
       "      <td>1</td>\n",
       "      <td>0</td>\n",
       "      <td>0</td>\n",
       "      <td>0</td>\n",
       "      <td>0</td>\n",
       "      <td>0</td>\n",
       "      <td>0</td>\n",
       "      <td>0</td>\n",
       "      <td>0</td>\n",
       "      <td>000059F</td>\n",
       "      <td>0.000</td>\n",
       "      <td>27.171</td>\n",
       "    </tr>\n",
       "    <tr>\n",
       "      <th>697</th>\n",
       "      <td>000263F</td>\n",
       "      <td>1164</td>\n",
       "      <td>34.192440</td>\n",
       "      <td>v4_1_p_and_a_ctg_sh.fa</td>\n",
       "      <td>1</td>\n",
       "      <td>0</td>\n",
       "      <td>2</td>\n",
       "      <td>0</td>\n",
       "      <td>0</td>\n",
       "      <td>0</td>\n",
       "      <td>0</td>\n",
       "      <td>2</td>\n",
       "      <td>100</td>\n",
       "      <td>000263F</td>\n",
       "      <td>0.000</td>\n",
       "      <td>14.190</td>\n",
       "    </tr>\n",
       "    <tr>\n",
       "      <th>713</th>\n",
       "      <td>000279F</td>\n",
       "      <td>15540</td>\n",
       "      <td>42.985843</td>\n",
       "      <td>v4_1_p_and_a_ctg_sh.fa</td>\n",
       "      <td>1</td>\n",
       "      <td>0</td>\n",
       "      <td>0</td>\n",
       "      <td>0</td>\n",
       "      <td>0</td>\n",
       "      <td>0</td>\n",
       "      <td>0</td>\n",
       "      <td>0</td>\n",
       "      <td>0</td>\n",
       "      <td>000279F</td>\n",
       "      <td>0.153</td>\n",
       "      <td>40.329</td>\n",
       "    </tr>\n",
       "    <tr>\n",
       "      <th>714</th>\n",
       "      <td>000280F</td>\n",
       "      <td>15145</td>\n",
       "      <td>45.084186</td>\n",
       "      <td>v4_1_p_and_a_ctg_sh.fa</td>\n",
       "      <td>1</td>\n",
       "      <td>0</td>\n",
       "      <td>8</td>\n",
       "      <td>0</td>\n",
       "      <td>0</td>\n",
       "      <td>0</td>\n",
       "      <td>0</td>\n",
       "      <td>8</td>\n",
       "      <td>100</td>\n",
       "      <td>000280F</td>\n",
       "      <td>0.927</td>\n",
       "      <td>18.154</td>\n",
       "    </tr>\n",
       "    <tr>\n",
       "      <th>722</th>\n",
       "      <td>000288F</td>\n",
       "      <td>13232</td>\n",
       "      <td>46.319528</td>\n",
       "      <td>v4_1_p_and_a_ctg_sh.fa</td>\n",
       "      <td>1</td>\n",
       "      <td>0</td>\n",
       "      <td>8</td>\n",
       "      <td>0</td>\n",
       "      <td>0</td>\n",
       "      <td>0</td>\n",
       "      <td>0</td>\n",
       "      <td>8</td>\n",
       "      <td>100</td>\n",
       "      <td>000288F</td>\n",
       "      <td>0.246</td>\n",
       "      <td>18.156</td>\n",
       "    </tr>\n",
       "    <tr>\n",
       "      <th>729</th>\n",
       "      <td>000295F</td>\n",
       "      <td>11182</td>\n",
       "      <td>46.315507</td>\n",
       "      <td>v4_1_p_and_a_ctg_sh.fa</td>\n",
       "      <td>1</td>\n",
       "      <td>0</td>\n",
       "      <td>0</td>\n",
       "      <td>0</td>\n",
       "      <td>0</td>\n",
       "      <td>0</td>\n",
       "      <td>0</td>\n",
       "      <td>0</td>\n",
       "      <td>0</td>\n",
       "      <td>000295F</td>\n",
       "      <td>0.627</td>\n",
       "      <td>19.579</td>\n",
       "    </tr>\n",
       "    <tr>\n",
       "      <th>752</th>\n",
       "      <td>000318F</td>\n",
       "      <td>6948</td>\n",
       "      <td>44.674727</td>\n",
       "      <td>v4_1_p_and_a_ctg_sh.fa</td>\n",
       "      <td>1</td>\n",
       "      <td>0</td>\n",
       "      <td>0</td>\n",
       "      <td>0</td>\n",
       "      <td>0</td>\n",
       "      <td>0</td>\n",
       "      <td>0</td>\n",
       "      <td>0</td>\n",
       "      <td>0</td>\n",
       "      <td>000318F</td>\n",
       "      <td>0.748</td>\n",
       "      <td>30.050</td>\n",
       "    </tr>\n",
       "    <tr>\n",
       "      <th>753</th>\n",
       "      <td>000319F</td>\n",
       "      <td>6562</td>\n",
       "      <td>42.928985</td>\n",
       "      <td>v4_1_p_and_a_ctg_sh.fa</td>\n",
       "      <td>1</td>\n",
       "      <td>0</td>\n",
       "      <td>0</td>\n",
       "      <td>0</td>\n",
       "      <td>0</td>\n",
       "      <td>0</td>\n",
       "      <td>0</td>\n",
       "      <td>0</td>\n",
       "      <td>0</td>\n",
       "      <td>000319F</td>\n",
       "      <td>0.254</td>\n",
       "      <td>43.458</td>\n",
       "    </tr>\n",
       "    <tr>\n",
       "      <th>755</th>\n",
       "      <td>000321F</td>\n",
       "      <td>6033</td>\n",
       "      <td>42.748218</td>\n",
       "      <td>v4_1_p_and_a_ctg_sh.fa</td>\n",
       "      <td>1</td>\n",
       "      <td>0</td>\n",
       "      <td>2</td>\n",
       "      <td>0</td>\n",
       "      <td>0</td>\n",
       "      <td>0</td>\n",
       "      <td>0</td>\n",
       "      <td>2</td>\n",
       "      <td>100</td>\n",
       "      <td>000321F</td>\n",
       "      <td>0.692</td>\n",
       "      <td>83.536</td>\n",
       "    </tr>\n",
       "    <tr>\n",
       "      <th>761</th>\n",
       "      <td>000327F</td>\n",
       "      <td>5168</td>\n",
       "      <td>47.523220</td>\n",
       "      <td>v4_1_p_and_a_ctg_sh.fa</td>\n",
       "      <td>1</td>\n",
       "      <td>0</td>\n",
       "      <td>0</td>\n",
       "      <td>0</td>\n",
       "      <td>0</td>\n",
       "      <td>0</td>\n",
       "      <td>0</td>\n",
       "      <td>0</td>\n",
       "      <td>0</td>\n",
       "      <td>000327F</td>\n",
       "      <td>0.486</td>\n",
       "      <td>79.503</td>\n",
       "    </tr>\n",
       "    <tr>\n",
       "      <th>765</th>\n",
       "      <td>000331F</td>\n",
       "      <td>4274</td>\n",
       "      <td>45.905475</td>\n",
       "      <td>v4_1_p_and_a_ctg_sh.fa</td>\n",
       "      <td>1</td>\n",
       "      <td>0</td>\n",
       "      <td>0</td>\n",
       "      <td>0</td>\n",
       "      <td>0</td>\n",
       "      <td>0</td>\n",
       "      <td>0</td>\n",
       "      <td>0</td>\n",
       "      <td>0</td>\n",
       "      <td>000331F</td>\n",
       "      <td>0.175</td>\n",
       "      <td>34.243</td>\n",
       "    </tr>\n",
       "    <tr>\n",
       "      <th>768</th>\n",
       "      <td>000334F</td>\n",
       "      <td>3577</td>\n",
       "      <td>42.996925</td>\n",
       "      <td>v4_1_p_and_a_ctg_sh.fa</td>\n",
       "      <td>1</td>\n",
       "      <td>0</td>\n",
       "      <td>0</td>\n",
       "      <td>0</td>\n",
       "      <td>0</td>\n",
       "      <td>0</td>\n",
       "      <td>0</td>\n",
       "      <td>0</td>\n",
       "      <td>0</td>\n",
       "      <td>000334F</td>\n",
       "      <td>0.533</td>\n",
       "      <td>104.432</td>\n",
       "    </tr>\n",
       "    <tr>\n",
       "      <th>770</th>\n",
       "      <td>000336F</td>\n",
       "      <td>557</td>\n",
       "      <td>0.000000</td>\n",
       "      <td>v4_1_p_and_a_ctg_sh.fa</td>\n",
       "      <td>1</td>\n",
       "      <td>0</td>\n",
       "      <td>0</td>\n",
       "      <td>0</td>\n",
       "      <td>0</td>\n",
       "      <td>0</td>\n",
       "      <td>0</td>\n",
       "      <td>0</td>\n",
       "      <td>0</td>\n",
       "      <td>000336F</td>\n",
       "      <td>0.291</td>\n",
       "      <td>113.239</td>\n",
       "    </tr>\n",
       "    <tr>\n",
       "      <th>772</th>\n",
       "      <td>000338F</td>\n",
       "      <td>2729</td>\n",
       "      <td>47.819714</td>\n",
       "      <td>v4_1_p_and_a_ctg_sh.fa</td>\n",
       "      <td>1</td>\n",
       "      <td>0</td>\n",
       "      <td>0</td>\n",
       "      <td>0</td>\n",
       "      <td>0</td>\n",
       "      <td>0</td>\n",
       "      <td>0</td>\n",
       "      <td>0</td>\n",
       "      <td>0</td>\n",
       "      <td>000338F</td>\n",
       "      <td>0.463</td>\n",
       "      <td>102.462</td>\n",
       "    </tr>\n",
       "    <tr>\n",
       "      <th>774</th>\n",
       "      <td>000340F</td>\n",
       "      <td>1806</td>\n",
       "      <td>36.655592</td>\n",
       "      <td>v4_1_p_and_a_ctg_sh.fa</td>\n",
       "      <td>1</td>\n",
       "      <td>0</td>\n",
       "      <td>3</td>\n",
       "      <td>0</td>\n",
       "      <td>0</td>\n",
       "      <td>0</td>\n",
       "      <td>0</td>\n",
       "      <td>3</td>\n",
       "      <td>100</td>\n",
       "      <td>000340F</td>\n",
       "      <td>0.831</td>\n",
       "      <td>43.094</td>\n",
       "    </tr>\n",
       "    <tr>\n",
       "      <th>777</th>\n",
       "      <td>000343F</td>\n",
       "      <td>1478</td>\n",
       "      <td>49.188092</td>\n",
       "      <td>v4_1_p_and_a_ctg_sh.fa</td>\n",
       "      <td>1</td>\n",
       "      <td>0</td>\n",
       "      <td>0</td>\n",
       "      <td>0</td>\n",
       "      <td>0</td>\n",
       "      <td>0</td>\n",
       "      <td>0</td>\n",
       "      <td>0</td>\n",
       "      <td>0</td>\n",
       "      <td>000343F</td>\n",
       "      <td>0.000</td>\n",
       "      <td>95.302</td>\n",
       "    </tr>\n",
       "    <tr>\n",
       "      <th>778</th>\n",
       "      <td>000344F</td>\n",
       "      <td>1336</td>\n",
       "      <td>47.305389</td>\n",
       "      <td>v4_1_p_and_a_ctg_sh.fa</td>\n",
       "      <td>1</td>\n",
       "      <td>0</td>\n",
       "      <td>0</td>\n",
       "      <td>0</td>\n",
       "      <td>0</td>\n",
       "      <td>0</td>\n",
       "      <td>0</td>\n",
       "      <td>0</td>\n",
       "      <td>0</td>\n",
       "      <td>000344F</td>\n",
       "      <td>0.930</td>\n",
       "      <td>100.365</td>\n",
       "    </tr>\n",
       "  </tbody>\n",
       "</table>\n",
       "</div>"
      ],
      "text/plain": [
       "                 ID  Length        %GC                Assembly  P_contig  \\\n",
       "33   000000F-042-01    1506  41.500664  v4_1_p_and_a_ctg_sh.fa         0   \n",
       "191  000009F-002-01     734  37.738420  v4_1_p_and_a_ctg_sh.fa         0   \n",
       "221  000011F-006-01    3530  48.300283  v4_1_p_and_a_ctg_sh.fa         0   \n",
       "342  000025F-002-01    1852  42.602592  v4_1_p_and_a_ctg_sh.fa         0   \n",
       "381         000033F    8330  44.345738  v4_1_p_and_a_ctg_sh.fa         1   \n",
       "474         000059F    5749  39.676465  v4_1_p_and_a_ctg_sh.fa         1   \n",
       "697         000263F    1164  34.192440  v4_1_p_and_a_ctg_sh.fa         1   \n",
       "713         000279F   15540  42.985843  v4_1_p_and_a_ctg_sh.fa         1   \n",
       "714         000280F   15145  45.084186  v4_1_p_and_a_ctg_sh.fa         1   \n",
       "722         000288F   13232  46.319528  v4_1_p_and_a_ctg_sh.fa         1   \n",
       "729         000295F   11182  46.315507  v4_1_p_and_a_ctg_sh.fa         1   \n",
       "752         000318F    6948  44.674727  v4_1_p_and_a_ctg_sh.fa         1   \n",
       "753         000319F    6562  42.928985  v4_1_p_and_a_ctg_sh.fa         1   \n",
       "755         000321F    6033  42.748218  v4_1_p_and_a_ctg_sh.fa         1   \n",
       "761         000327F    5168  47.523220  v4_1_p_and_a_ctg_sh.fa         1   \n",
       "765         000331F    4274  45.905475  v4_1_p_and_a_ctg_sh.fa         1   \n",
       "768         000334F    3577  42.996925  v4_1_p_and_a_ctg_sh.fa         1   \n",
       "770         000336F     557   0.000000  v4_1_p_and_a_ctg_sh.fa         1   \n",
       "772         000338F    2729  47.819714  v4_1_p_and_a_ctg_sh.fa         1   \n",
       "774         000340F    1806  36.655592  v4_1_p_and_a_ctg_sh.fa         1   \n",
       "777         000343F    1478  49.188092  v4_1_p_and_a_ctg_sh.fa         1   \n",
       "778         000344F    1336  47.305389  v4_1_p_and_a_ctg_sh.fa         1   \n",
       "\n",
       "     A_contig  Eukaryota  Archaea  synthetic construct  Bacteria  \\\n",
       "33          1          0        0                    0         0   \n",
       "191         1          0        0                    0         0   \n",
       "221         1          0        0                    0         0   \n",
       "342         1          0        0                    0         0   \n",
       "381         0          3        0                    0         0   \n",
       "474         0          0        0                    0         0   \n",
       "697         0          2        0                    0         0   \n",
       "713         0          0        0                    0         0   \n",
       "714         0          8        0                    0         0   \n",
       "722         0          8        0                    0         0   \n",
       "729         0          0        0                    0         0   \n",
       "752         0          0        0                    0         0   \n",
       "753         0          0        0                    0         0   \n",
       "755         0          2        0                    0         0   \n",
       "761         0          0        0                    0         0   \n",
       "765         0          0        0                    0         0   \n",
       "768         0          0        0                    0         0   \n",
       "770         0          0        0                    0         0   \n",
       "772         0          0        0                    0         0   \n",
       "774         0          3        0                    0         0   \n",
       "777         0          0        0                    0         0   \n",
       "778         0          0        0                    0         0   \n",
       "\n",
       "     environmental samples  Total Blast Hits  %Eukaryota     P_ID  \\\n",
       "33                       0                 0           0  000000F   \n",
       "191                      0                 0           0  000009F   \n",
       "221                      0                 0           0  000011F   \n",
       "342                      0                 0           0  000025F   \n",
       "381                      0                 3         100  000033F   \n",
       "474                      0                 0           0  000059F   \n",
       "697                      0                 2         100  000263F   \n",
       "713                      0                 0           0  000279F   \n",
       "714                      0                 8         100  000280F   \n",
       "722                      0                 8         100  000288F   \n",
       "729                      0                 0           0  000295F   \n",
       "752                      0                 0           0  000318F   \n",
       "753                      0                 0           0  000319F   \n",
       "755                      0                 2         100  000321F   \n",
       "761                      0                 0           0  000327F   \n",
       "765                      0                 0           0  000331F   \n",
       "768                      0                 0           0  000334F   \n",
       "770                      0                 0           0  000336F   \n",
       "772                      0                 0           0  000338F   \n",
       "774                      0                 3         100  000340F   \n",
       "777                      0                 0           0  000343F   \n",
       "778                      0                 0           0  000344F   \n",
       "\n",
       "     Average Coverage PacBio  Average Coverage Illumina_all  \n",
       "33                     0.198                         86.222  \n",
       "191                    0.000                         43.939  \n",
       "221                    0.495                         42.511  \n",
       "342                    0.000                         42.999  \n",
       "381                    0.779                         20.117  \n",
       "474                    0.000                         27.171  \n",
       "697                    0.000                         14.190  \n",
       "713                    0.153                         40.329  \n",
       "714                    0.927                         18.154  \n",
       "722                    0.246                         18.156  \n",
       "729                    0.627                         19.579  \n",
       "752                    0.748                         30.050  \n",
       "753                    0.254                         43.458  \n",
       "755                    0.692                         83.536  \n",
       "761                    0.486                         79.503  \n",
       "765                    0.175                         34.243  \n",
       "768                    0.533                        104.432  \n",
       "770                    0.291                        113.239  \n",
       "772                    0.463                        102.462  \n",
       "774                    0.831                         43.094  \n",
       "777                    0.000                         95.302  \n",
       "778                    0.930                        100.365  "
      ]
     },
     "execution_count": 51,
     "metadata": {},
     "output_type": "execute_result"
    }
   ],
   "source": [
    "p_and_a_ctg_blast_cov_df[p_and_a_ctg_blast_cov_df['Average Coverage PacBio'] < 1]"
   ]
  },
  {
   "cell_type": "code",
   "execution_count": null,
   "metadata": {
    "collapsed": true
   },
   "outputs": [],
   "source": []
  }
 ],
 "metadata": {
  "kernelspec": {
   "display_name": "Python [Root]",
   "language": "python",
   "name": "Python [Root]"
  },
  "language_info": {
   "codemirror_mode": {
    "name": "ipython",
    "version": 3
   },
   "file_extension": ".py",
   "mimetype": "text/x-python",
   "name": "python",
   "nbconvert_exporter": "python",
   "pygments_lexer": "ipython3",
   "version": "3.5.2"
  }
 },
 "nbformat": 4,
 "nbformat_minor": 0
}
