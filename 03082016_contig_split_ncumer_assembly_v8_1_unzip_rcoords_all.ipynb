{
 "cells": [
  {
   "cell_type": "code",
   "execution_count": 1,
   "metadata": {
    "collapsed": false
   },
   "outputs": [],
   "source": [
    "%load_ext jupyter_cms"
   ]
  },
  {
   "cell_type": "code",
   "execution_count": 2,
   "metadata": {
    "collapsed": true
   },
   "outputs": [],
   "source": [
    "import os\n",
    "from Bio import SeqIO"
   ]
  },
  {
   "cell_type": "code",
   "execution_count": null,
   "metadata": {
    "collapsed": true
   },
   "outputs": [],
   "source": []
  },
  {
   "cell_type": "code",
   "execution_count": 12,
   "metadata": {
    "collapsed": true
   },
   "outputs": [],
   "source": [
    "#here is the in file defined containing alternative \n",
    "file_path ='/Users/ben/Documents/work_related/Canberra/RJ_lab_projects/Rust_genome_sequencing/PST79/analysis/PacBio_SCH1743/FALCON_0_4_assemblies/p_assemblies/v8_1/v8_1_unzip/QC_unpolished/nucmer/nucmer_h_on_pwh_rcoords'\n",
    "file_name='v8_1_ph_tr_ctg_rn_rcoords_all.fa'\n",
    "bash_script_q=\"v8_1_unzip_h_on_pwh_rn_rcoords_all_qmapping.sh\"\n",
    "bash_script_g=\"v8_1_unzip_h_on_pwh_rn_rcoords_all_gmapping.sh\"\n",
    "outdir = '/Users/ben/Documents/work_related/Canberra/RJ_lab_projects/Rust_genome_sequencing/PST79/analysis/PacBio_SCH1743/FALCON_0_4_assemblies/p_assemblies/v8_1/v8_1_unzip/QC_unpolished/nucmer/nucmer_h_on_pwh_rcoords/'"
   ]
  },
  {
   "cell_type": "code",
   "execution_count": 13,
   "metadata": {
    "collapsed": false
   },
   "outputs": [
    {
     "data": {
      "text/plain": [
       "True"
      ]
     },
     "execution_count": 13,
     "metadata": {},
     "output_type": "execute_result"
    }
   ],
   "source": [
    "total_seq_recs = 0\n",
    "p_contigs =[]\n",
    "a_contigs = []\n",
    "a_count =0\n",
    "p_count =0\n",
    "for seq_record in SeqIO.parse(file_path+'/'+file_name, \"fasta\"):\n",
    "    if \"_\" in list(seq_record.id):\n",
    "        a_contigs.append(seq_record)\n",
    "        a_count += 1\n",
    "    else:\n",
    "        p_contigs.append(seq_record)\n",
    "        p_count += 1\n",
    "    total_seq_recs += 1\n",
    "total_seq_recs == p_count + a_count"
   ]
  },
  {
   "cell_type": "code",
   "execution_count": 14,
   "metadata": {
    "collapsed": false
   },
   "outputs": [],
   "source": [
    "os.chdir(outdir)"
   ]
  },
  {
   "cell_type": "code",
   "execution_count": 15,
   "metadata": {
    "collapsed": false
   },
   "outputs": [
    {
     "data": {
      "text/plain": [
       "113"
      ]
     },
     "execution_count": 15,
     "metadata": {},
     "output_type": "execute_result"
    }
   ],
   "source": [
    "SeqIO.write(a_contigs,file_name[:-3]+'_a_ctg.fa' , 'fasta')\n",
    "SeqIO.write(p_contigs,file_name[:-3]+'_p_ctg.fa' , 'fasta')"
   ]
  },
  {
   "cell_type": "code",
   "execution_count": 7,
   "metadata": {
    "collapsed": true
   },
   "outputs": [
    {
     "name": "stdout",
     "output_type": "stream",
     "text": [
      "out.delta                            v4_1_pa_qcc22.pilon_000084F.fa\n",
      "\u001b[1m\u001b[36mtest\u001b[m\u001b[m                                 v4_1_pa_qcc22.pilon_000085F.fa\n",
      "v4_1_p000000Fpap.gcoords             v4_1_pa_qcc22.pilon_000086F.fa\n",
      "v4_1_p000000Fpap_gfiltered.delta     v4_1_pa_qcc22.pilon_000087F.fa\n",
      "v4_1_p000001Fpap.gcoords             v4_1_pa_qcc22.pilon_000088F.fa\n",
      "v4_1_p000001Fpap_gfiltered.delta     v4_1_pa_qcc22.pilon_000089F.fa\n",
      "v4_1_p000002Fpap.gcoords             v4_1_pa_qcc22.pilon_000090F.fa\n",
      "v4_1_p000002Fpap_gfiltered.delta     v4_1_pa_qcc22.pilon_000091F.fa\n",
      "v4_1_p000003Fpap.gcoords             v4_1_pa_qcc22.pilon_000092F.fa\n",
      "v4_1_p000003Fpap_gfiltered.delta     v4_1_pa_qcc22.pilon_000093F.fa\n",
      "v4_1_p000004Fpap.gcoords             v4_1_pa_qcc22.pilon_000094F.fa\n",
      "v4_1_p000004Fpap_gfiltered.delta     v4_1_pa_qcc22.pilon_000095F.fa\n",
      "v4_1_p000005Fpap.gcoords             v4_1_pa_qcc22.pilon_000096F.fa\n",
      "v4_1_p000005Fpap_gfiltered.delta     v4_1_pa_qcc22.pilon_000096F_a_ctg.fa\n",
      "v4_1_p000006Fpap.gcoords             v4_1_pa_qcc22.pilon_000097F.fa\n",
      "v4_1_p000006Fpap_gfiltered.delta     v4_1_pa_qcc22.pilon_000098F.fa\n",
      "v4_1_p000007Fpap.gcoords             v4_1_pa_qcc22.pilon_000099F.fa\n",
      "v4_1_p000007Fpap_gfiltered.delta     v4_1_pa_qcc22.pilon_000100F.fa\n",
      "v4_1_p000008Fpap.gcoords             v4_1_pa_qcc22.pilon_000101F.fa\n",
      "v4_1_p000008Fpap_gfiltered.delta     v4_1_pa_qcc22.pilon_000102F.fa\n",
      "v4_1_p000009Fpap.gcoords             v4_1_pa_qcc22.pilon_000103F.fa\n",
      "v4_1_p000009Fpap_gfiltered.delta     v4_1_pa_qcc22.pilon_000104F.fa\n",
      "v4_1_p000010Fpap.gcoords             v4_1_pa_qcc22.pilon_000105F.fa\n",
      "v4_1_p000010Fpap_gfiltered.delta     v4_1_pa_qcc22.pilon_000106F.fa\n",
      "v4_1_p000011Fpap.gcoords             v4_1_pa_qcc22.pilon_000107F.fa\n",
      "v4_1_p000011Fpap_gfiltered.delta     v4_1_pa_qcc22.pilon_000108F.fa\n",
      "v4_1_p000012Fpap.gcoords             v4_1_pa_qcc22.pilon_000109F.fa\n",
      "v4_1_p000012Fpap_gfiltered.delta     v4_1_pa_qcc22.pilon_000110F.fa\n",
      "v4_1_p000013Fpap.gcoords             v4_1_pa_qcc22.pilon_000111F.fa\n",
      "v4_1_p000013Fpap_gfiltered.delta     v4_1_pa_qcc22.pilon_000112F.fa\n",
      "v4_1_p000014Fpap.gcoords             v4_1_pa_qcc22.pilon_000112F_a_ctg.fa\n",
      "v4_1_p000014Fpap_gfiltered.delta     v4_1_pa_qcc22.pilon_000113F.fa\n",
      "v4_1_p000015Fpap.gcoords             v4_1_pa_qcc22.pilon_000114F.fa\n",
      "v4_1_p000015Fpap_gfiltered.delta     v4_1_pa_qcc22.pilon_000115F.fa\n",
      "v4_1_p000016Fpap.gcoords             v4_1_pa_qcc22.pilon_000116F.fa\n",
      "v4_1_p000016Fpap_gfiltered.delta     v4_1_pa_qcc22.pilon_000117F.fa\n",
      "v4_1_p000019Fpap.gcoords             v4_1_pa_qcc22.pilon_000118F.fa\n",
      "v4_1_p000019Fpap_gfiltered.delta     v4_1_pa_qcc22.pilon_000119F.fa\n",
      "v4_1_p000020Fpap.gcoords             v4_1_pa_qcc22.pilon_000119F_a_ctg.fa\n",
      "v4_1_p000020Fpap_gfiltered.delta     v4_1_pa_qcc22.pilon_000120F.fa\n",
      "v4_1_p000021Fpap.gcoords             v4_1_pa_qcc22.pilon_000121F.fa\n",
      "v4_1_p000021Fpap_gfiltered.delta     v4_1_pa_qcc22.pilon_000122F.fa\n",
      "v4_1_p000022Fpap.gcoords             v4_1_pa_qcc22.pilon_000123F.fa\n",
      "v4_1_p000022Fpap_gfiltered.delta     v4_1_pa_qcc22.pilon_000124F.fa\n",
      "v4_1_p000024Fpap.gcoords             v4_1_pa_qcc22.pilon_000125F.fa\n",
      "v4_1_p000024Fpap_gfiltered.delta     v4_1_pa_qcc22.pilon_000126F.fa\n",
      "v4_1_p000025Fpap.gcoords             v4_1_pa_qcc22.pilon_000127F.fa\n",
      "v4_1_p000025Fpap_gfiltered.delta     v4_1_pa_qcc22.pilon_000128F.fa\n",
      "v4_1_p000026Fpap.gcoords             v4_1_pa_qcc22.pilon_000129F.fa\n",
      "v4_1_p000026Fpap_gfiltered.delta     v4_1_pa_qcc22.pilon_000130F.fa\n",
      "v4_1_p000027Fpap.gcoords             v4_1_pa_qcc22.pilon_000131F.fa\n",
      "v4_1_p000027Fpap_gfiltered.delta     v4_1_pa_qcc22.pilon_000132F.fa\n",
      "v4_1_p000029Fpap.gcoords             v4_1_pa_qcc22.pilon_000133F.fa\n",
      "v4_1_p000029Fpap_gfiltered.delta     v4_1_pa_qcc22.pilon_000134F.fa\n",
      "v4_1_p000030Fpap.gcoords             v4_1_pa_qcc22.pilon_000134F_a_ctg.fa\n",
      "v4_1_p000030Fpap_gfiltered.delta     v4_1_pa_qcc22.pilon_000135F.fa\n",
      "v4_1_p000031Fpap.gcoords             v4_1_pa_qcc22.pilon_000136F.fa\n",
      "v4_1_p000031Fpap_gfiltered.delta     v4_1_pa_qcc22.pilon_000137F.fa\n",
      "v4_1_p000032Fpap.gcoords             v4_1_pa_qcc22.pilon_000138F.fa\n",
      "v4_1_p000032Fpap_gfiltered.delta     v4_1_pa_qcc22.pilon_000139F.fa\n",
      "v4_1_p000034Fpap.gcoords             v4_1_pa_qcc22.pilon_000140F.fa\n",
      "v4_1_p000034Fpap_gfiltered.delta     v4_1_pa_qcc22.pilon_000141F.fa\n",
      "v4_1_p000035Fpap.gcoords             v4_1_pa_qcc22.pilon_000142F.fa\n",
      "v4_1_p000035Fpap_gfiltered.delta     v4_1_pa_qcc22.pilon_000143F.fa\n",
      "v4_1_p000036Fpap.gcoords             v4_1_pa_qcc22.pilon_000144F.fa\n",
      "v4_1_p000036Fpap_gfiltered.delta     v4_1_pa_qcc22.pilon_000145F.fa\n",
      "v4_1_p000037Fpap.gcoords             v4_1_pa_qcc22.pilon_000146F.fa\n",
      "v4_1_p000037Fpap_gfiltered.delta     v4_1_pa_qcc22.pilon_000147F.fa\n",
      "v4_1_p000038Fpap.gcoords             v4_1_pa_qcc22.pilon_000148F.fa\n",
      "v4_1_p000038Fpap_gfiltered.delta     v4_1_pa_qcc22.pilon_000149F.fa\n",
      "v4_1_p000040Fpap.gcoords             v4_1_pa_qcc22.pilon_000150F.fa\n",
      "v4_1_p000040Fpap_gfiltered.delta     v4_1_pa_qcc22.pilon_000151F.fa\n",
      "v4_1_p000041Fpap.gcoords             v4_1_pa_qcc22.pilon_000152F.fa\n",
      "v4_1_p000041Fpap_gfiltered.delta     v4_1_pa_qcc22.pilon_000153F.fa\n",
      "v4_1_p000043Fpap.gcoords             v4_1_pa_qcc22.pilon_000154F.fa\n",
      "v4_1_p000043Fpap_gfiltered.delta     v4_1_pa_qcc22.pilon_000155F.fa\n",
      "v4_1_p000044Fpap.gcoords             v4_1_pa_qcc22.pilon_000156F.fa\n",
      "v4_1_p000044Fpap_gfiltered.delta     v4_1_pa_qcc22.pilon_000156F_a_ctg.fa\n",
      "v4_1_p000045Fpap.gcoords             v4_1_pa_qcc22.pilon_000157F.fa\n",
      "v4_1_p000045Fpap_gfiltered.delta     v4_1_pa_qcc22.pilon_000158F.fa\n",
      "v4_1_p000046Fpap.gcoords             v4_1_pa_qcc22.pilon_000159F.fa\n",
      "v4_1_p000046Fpap_gfiltered.delta     v4_1_pa_qcc22.pilon_000160F.fa\n",
      "v4_1_p000047Fpap.gcoords             v4_1_pa_qcc22.pilon_000161F.fa\n",
      "v4_1_p000047Fpap_gfiltered.delta     v4_1_pa_qcc22.pilon_000162F.fa\n",
      "v4_1_p000048Fpap.gcoords             v4_1_pa_qcc22.pilon_000163F.fa\n",
      "v4_1_p000048Fpap_gfiltered.delta     v4_1_pa_qcc22.pilon_000164F.fa\n",
      "v4_1_p000049Fpap.gcoords             v4_1_pa_qcc22.pilon_000165F.fa\n",
      "v4_1_p000049Fpap_gfiltered.delta     v4_1_pa_qcc22.pilon_000166F.fa\n",
      "v4_1_p000050Fpap.gcoords             v4_1_pa_qcc22.pilon_000167F.fa\n",
      "v4_1_p000050Fpap_gfiltered.delta     v4_1_pa_qcc22.pilon_000168F.fa\n",
      "v4_1_p000051Fpap.gcoords             v4_1_pa_qcc22.pilon_000169F.fa\n",
      "v4_1_p000051Fpap_gfiltered.delta     v4_1_pa_qcc22.pilon_000170F.fa\n",
      "v4_1_p000053Fpap.gcoords             v4_1_pa_qcc22.pilon_000171F.fa\n",
      "v4_1_p000053Fpap_gfiltered.delta     v4_1_pa_qcc22.pilon_000172F.fa\n",
      "v4_1_p000054Fpap.gcoords             v4_1_pa_qcc22.pilon_000173F.fa\n",
      "v4_1_p000054Fpap_gfiltered.delta     v4_1_pa_qcc22.pilon_000174F.fa\n",
      "v4_1_p000055Fpap.gcoords             v4_1_pa_qcc22.pilon_000175F.fa\n",
      "v4_1_p000055Fpap_gfiltered.delta     v4_1_pa_qcc22.pilon_000176F.fa\n",
      "v4_1_p000058Fpap.gcoords             v4_1_pa_qcc22.pilon_000177F.fa\n",
      "v4_1_p000058Fpap_gfiltered.delta     v4_1_pa_qcc22.pilon_000178F.fa\n",
      "v4_1_p000061Fpap.gcoords             v4_1_pa_qcc22.pilon_000179F.fa\n",
      "v4_1_p000061Fpap_gfiltered.delta     v4_1_pa_qcc22.pilon_000180F.fa\n",
      "v4_1_p000062Fpap.gcoords             v4_1_pa_qcc22.pilon_000181F.fa\n",
      "v4_1_p000062Fpap_gfiltered.delta     v4_1_pa_qcc22.pilon_000182F.fa\n",
      "v4_1_p000063Fpap.gcoords             v4_1_pa_qcc22.pilon_000183F.fa\n",
      "v4_1_p000063Fpap_gfiltered.delta     v4_1_pa_qcc22.pilon_000184F.fa\n",
      "v4_1_p000065Fpap.gcoords             v4_1_pa_qcc22.pilon_000185F.fa\n",
      "v4_1_p000065Fpap_gfiltered.delta     v4_1_pa_qcc22.pilon_000186F.fa\n",
      "v4_1_p000068Fpap.gcoords             v4_1_pa_qcc22.pilon_000187F.fa\n",
      "v4_1_p000068Fpap_gfiltered.delta     v4_1_pa_qcc22.pilon_000188R.fa\n",
      "v4_1_p000069Fpap.gcoords             v4_1_pa_qcc22.pilon_000189F.fa\n",
      "v4_1_p000069Fpap_gfiltered.delta     v4_1_pa_qcc22.pilon_000190F.fa\n",
      "v4_1_p000071Fpap.gcoords             v4_1_pa_qcc22.pilon_000191F.fa\n",
      "v4_1_p000071Fpap_gfiltered.delta     v4_1_pa_qcc22.pilon_000192F.fa\n",
      "v4_1_p000078Fpap.gcoords             v4_1_pa_qcc22.pilon_000193F.fa\n",
      "v4_1_p000078Fpap_gfiltered.delta     v4_1_pa_qcc22.pilon_000194F.fa\n",
      "v4_1_p000079Fpap.gcoords             v4_1_pa_qcc22.pilon_000195F.fa\n",
      "v4_1_p000079Fpap_gfiltered.delta     v4_1_pa_qcc22.pilon_000196F.fa\n",
      "v4_1_p000096Fpap.gcoords             v4_1_pa_qcc22.pilon_000197F.fa\n",
      "v4_1_p000096Fpap_gfiltered.delta     v4_1_pa_qcc22.pilon_000198F.fa\n",
      "v4_1_p000112Fpap.gcoords             v4_1_pa_qcc22.pilon_000199F.fa\n",
      "v4_1_p000112Fpap_gfiltered.delta     v4_1_pa_qcc22.pilon_000200F.fa\n",
      "v4_1_p000119Fpap.gcoords             v4_1_pa_qcc22.pilon_000201F.fa\n",
      "v4_1_p000119Fpap_gfiltered.delta     v4_1_pa_qcc22.pilon_000202F.fa\n",
      "v4_1_p000134Fpap.gcoords             v4_1_pa_qcc22.pilon_000203F.fa\n",
      "v4_1_p000134Fpap_gfiltered.delta     v4_1_pa_qcc22.pilon_000204F.fa\n",
      "v4_1_p000156Fpap.gcoords             v4_1_pa_qcc22.pilon_000205F.fa\n",
      "v4_1_p000156Fpap_gfiltered.delta     v4_1_pa_qcc22.pilon_000206F.fa\n",
      "v4_1_p000245Fpap.gcoords             v4_1_pa_qcc22.pilon_000207F.fa\n",
      "v4_1_p000245Fpap_gfiltered.delta     v4_1_pa_qcc22.pilon_000208F.fa\n",
      "v4_1_pa_qcc22.pilon_000000F.fa       v4_1_pa_qcc22.pilon_000209F.fa\n",
      "v4_1_pa_qcc22.pilon_000000F_a_ctg.fa v4_1_pa_qcc22.pilon_000210F.fa\n",
      "v4_1_pa_qcc22.pilon_000001F.fa       v4_1_pa_qcc22.pilon_000211F.fa\n",
      "v4_1_pa_qcc22.pilon_000001F_a_ctg.fa v4_1_pa_qcc22.pilon_000212F.fa\n",
      "v4_1_pa_qcc22.pilon_000002F.fa       v4_1_pa_qcc22.pilon_000213F.fa\n",
      "v4_1_pa_qcc22.pilon_000002F_a_ctg.fa v4_1_pa_qcc22.pilon_000214F.fa\n",
      "v4_1_pa_qcc22.pilon_000003F.fa       v4_1_pa_qcc22.pilon_000215F.fa\n",
      "v4_1_pa_qcc22.pilon_000003F_a_ctg.fa v4_1_pa_qcc22.pilon_000216F.fa\n",
      "v4_1_pa_qcc22.pilon_000004F.fa       v4_1_pa_qcc22.pilon_000217F.fa\n",
      "v4_1_pa_qcc22.pilon_000004F_a_ctg.fa v4_1_pa_qcc22.pilon_000218F.fa\n",
      "v4_1_pa_qcc22.pilon_000005F.fa       v4_1_pa_qcc22.pilon_000219F.fa\n",
      "v4_1_pa_qcc22.pilon_000005F_a_ctg.fa v4_1_pa_qcc22.pilon_000220F.fa\n",
      "v4_1_pa_qcc22.pilon_000006F.fa       v4_1_pa_qcc22.pilon_000221F.fa\n",
      "v4_1_pa_qcc22.pilon_000006F_a_ctg.fa v4_1_pa_qcc22.pilon_000222F.fa\n",
      "v4_1_pa_qcc22.pilon_000007F.fa       v4_1_pa_qcc22.pilon_000223F.fa\n",
      "v4_1_pa_qcc22.pilon_000007F_a_ctg.fa v4_1_pa_qcc22.pilon_000224F.fa\n",
      "v4_1_pa_qcc22.pilon_000008F.fa       v4_1_pa_qcc22.pilon_000225F.fa\n",
      "v4_1_pa_qcc22.pilon_000008F_a_ctg.fa v4_1_pa_qcc22.pilon_000226F.fa\n",
      "v4_1_pa_qcc22.pilon_000009F.fa       v4_1_pa_qcc22.pilon_000227F.fa\n",
      "v4_1_pa_qcc22.pilon_000009F_a_ctg.fa v4_1_pa_qcc22.pilon_000228F.fa\n",
      "v4_1_pa_qcc22.pilon_000010F.fa       v4_1_pa_qcc22.pilon_000229F.fa\n",
      "v4_1_pa_qcc22.pilon_000010F_a_ctg.fa v4_1_pa_qcc22.pilon_000230F.fa\n",
      "v4_1_pa_qcc22.pilon_000011F.fa       v4_1_pa_qcc22.pilon_000231F.fa\n",
      "v4_1_pa_qcc22.pilon_000011F_a_ctg.fa v4_1_pa_qcc22.pilon_000232F.fa\n",
      "v4_1_pa_qcc22.pilon_000012F.fa       v4_1_pa_qcc22.pilon_000233F.fa\n",
      "v4_1_pa_qcc22.pilon_000012F_a_ctg.fa v4_1_pa_qcc22.pilon_000234F.fa\n",
      "v4_1_pa_qcc22.pilon_000013F.fa       v4_1_pa_qcc22.pilon_000235F.fa\n",
      "v4_1_pa_qcc22.pilon_000013F_a_ctg.fa v4_1_pa_qcc22.pilon_000236F.fa\n",
      "v4_1_pa_qcc22.pilon_000014F.fa       v4_1_pa_qcc22.pilon_000237F.fa\n",
      "v4_1_pa_qcc22.pilon_000014F_a_ctg.fa v4_1_pa_qcc22.pilon_000238F.fa\n",
      "v4_1_pa_qcc22.pilon_000015F.fa       v4_1_pa_qcc22.pilon_000239F.fa\n",
      "v4_1_pa_qcc22.pilon_000015F_a_ctg.fa v4_1_pa_qcc22.pilon_000240F.fa\n",
      "v4_1_pa_qcc22.pilon_000016F.fa       v4_1_pa_qcc22.pilon_000241F.fa\n",
      "v4_1_pa_qcc22.pilon_000016F_a_ctg.fa v4_1_pa_qcc22.pilon_000242F.fa\n",
      "v4_1_pa_qcc22.pilon_000017F.fa       v4_1_pa_qcc22.pilon_000243F.fa\n",
      "v4_1_pa_qcc22.pilon_000018F.fa       v4_1_pa_qcc22.pilon_000244F.fa\n",
      "v4_1_pa_qcc22.pilon_000019F.fa       v4_1_pa_qcc22.pilon_000245F.fa\n",
      "v4_1_pa_qcc22.pilon_000019F_a_ctg.fa v4_1_pa_qcc22.pilon_000245F_a_ctg.fa\n",
      "v4_1_pa_qcc22.pilon_000020F.fa       v4_1_pa_qcc22.pilon_000246F.fa\n",
      "v4_1_pa_qcc22.pilon_000020F_a_ctg.fa v4_1_pa_qcc22.pilon_000247F.fa\n",
      "v4_1_pa_qcc22.pilon_000021F.fa       v4_1_pa_qcc22.pilon_000248F.fa\n",
      "v4_1_pa_qcc22.pilon_000021F_a_ctg.fa v4_1_pa_qcc22.pilon_000249F.fa\n",
      "v4_1_pa_qcc22.pilon_000022F.fa       v4_1_pa_qcc22.pilon_000250F.fa\n",
      "v4_1_pa_qcc22.pilon_000022F_a_ctg.fa v4_1_pa_qcc22.pilon_000251F.fa\n",
      "v4_1_pa_qcc22.pilon_000023F.fa       v4_1_pa_qcc22.pilon_000252F.fa\n",
      "v4_1_pa_qcc22.pilon_000024F.fa       v4_1_pa_qcc22.pilon_000253F.fa\n",
      "v4_1_pa_qcc22.pilon_000024F_a_ctg.fa v4_1_pa_qcc22.pilon_000254F.fa\n",
      "v4_1_pa_qcc22.pilon_000025F.fa       v4_1_pa_qcc22.pilon_000255F.fa\n",
      "v4_1_pa_qcc22.pilon_000025F_a_ctg.fa v4_1_pa_qcc22.pilon_000256F.fa\n",
      "v4_1_pa_qcc22.pilon_000026F.fa       v4_1_pa_qcc22.pilon_000257F.fa\n",
      "v4_1_pa_qcc22.pilon_000026F_a_ctg.fa v4_1_pa_qcc22.pilon_000258F.fa\n",
      "v4_1_pa_qcc22.pilon_000027F.fa       v4_1_pa_qcc22.pilon_000259F.fa\n",
      "v4_1_pa_qcc22.pilon_000027F_a_ctg.fa v4_1_pa_qcc22.pilon_000260F.fa\n",
      "v4_1_pa_qcc22.pilon_000028F.fa       v4_1_pa_qcc22.pilon_000261F.fa\n",
      "v4_1_pa_qcc22.pilon_000029F.fa       v4_1_pa_qcc22.pilon_000262F.fa\n",
      "v4_1_pa_qcc22.pilon_000029F_a_ctg.fa v4_1_pa_qcc22.pilon_000264F.fa\n",
      "v4_1_pa_qcc22.pilon_000030F.fa       v4_1_pa_qcc22.pilon_000265F.fa\n",
      "v4_1_pa_qcc22.pilon_000030F_a_ctg.fa v4_1_pa_qcc22.pilon_000266F.fa\n",
      "v4_1_pa_qcc22.pilon_000031F.fa       v4_1_pa_qcc22.pilon_000267F.fa\n",
      "v4_1_pa_qcc22.pilon_000031F_a_ctg.fa v4_1_pa_qcc22.pilon_000268F.fa\n",
      "v4_1_pa_qcc22.pilon_000032F.fa       v4_1_pa_qcc22.pilon_000269F.fa\n",
      "v4_1_pa_qcc22.pilon_000032F_a_ctg.fa v4_1_pa_qcc22.pilon_000270F.fa\n",
      "v4_1_pa_qcc22.pilon_000033F.fa       v4_1_pa_qcc22.pilon_000271F.fa\n",
      "v4_1_pa_qcc22.pilon_000034F.fa       v4_1_pa_qcc22.pilon_000272F.fa\n",
      "v4_1_pa_qcc22.pilon_000034F_a_ctg.fa v4_1_pa_qcc22.pilon_000273F.fa\n",
      "v4_1_pa_qcc22.pilon_000035F.fa       v4_1_pa_qcc22.pilon_000274F.fa\n",
      "v4_1_pa_qcc22.pilon_000035F_a_ctg.fa v4_1_pa_qcc22.pilon_000275F.fa\n",
      "v4_1_pa_qcc22.pilon_000036F.fa       v4_1_pa_qcc22.pilon_000276F.fa\n",
      "v4_1_pa_qcc22.pilon_000036F_a_ctg.fa v4_1_pa_qcc22.pilon_000277F.fa\n",
      "v4_1_pa_qcc22.pilon_000037F.fa       v4_1_pa_qcc22.pilon_000278F.fa\n",
      "v4_1_pa_qcc22.pilon_000037F_a_ctg.fa v4_1_pa_qcc22.pilon_000279F.fa\n",
      "v4_1_pa_qcc22.pilon_000038F.fa       v4_1_pa_qcc22.pilon_000280F.fa\n",
      "v4_1_pa_qcc22.pilon_000038F_a_ctg.fa v4_1_pa_qcc22.pilon_000281F.fa\n",
      "v4_1_pa_qcc22.pilon_000039F.fa       v4_1_pa_qcc22.pilon_000282F.fa\n",
      "v4_1_pa_qcc22.pilon_000040F.fa       v4_1_pa_qcc22.pilon_000283F.fa\n",
      "v4_1_pa_qcc22.pilon_000040F_a_ctg.fa v4_1_pa_qcc22.pilon_000284F.fa\n",
      "v4_1_pa_qcc22.pilon_000041F.fa       v4_1_pa_qcc22.pilon_000285F.fa\n",
      "v4_1_pa_qcc22.pilon_000041F_a_ctg.fa v4_1_pa_qcc22.pilon_000286F.fa\n",
      "v4_1_pa_qcc22.pilon_000042F.fa       v4_1_pa_qcc22.pilon_000287F.fa\n",
      "v4_1_pa_qcc22.pilon_000043F.fa       v4_1_pa_qcc22.pilon_000288F.fa\n",
      "v4_1_pa_qcc22.pilon_000043F_a_ctg.fa v4_1_pa_qcc22.pilon_000289F.fa\n",
      "v4_1_pa_qcc22.pilon_000044F.fa       v4_1_pa_qcc22.pilon_000290F.fa\n",
      "v4_1_pa_qcc22.pilon_000044F_a_ctg.fa v4_1_pa_qcc22.pilon_000291F.fa\n",
      "v4_1_pa_qcc22.pilon_000045F.fa       v4_1_pa_qcc22.pilon_000292F.fa\n",
      "v4_1_pa_qcc22.pilon_000045F_a_ctg.fa v4_1_pa_qcc22.pilon_000293F.fa\n",
      "v4_1_pa_qcc22.pilon_000046F.fa       v4_1_pa_qcc22.pilon_000294F.fa\n",
      "v4_1_pa_qcc22.pilon_000046F_a_ctg.fa v4_1_pa_qcc22.pilon_000295F.fa\n",
      "v4_1_pa_qcc22.pilon_000047F.fa       v4_1_pa_qcc22.pilon_000296F.fa\n",
      "v4_1_pa_qcc22.pilon_000047F_a_ctg.fa v4_1_pa_qcc22.pilon_000297F.fa\n",
      "v4_1_pa_qcc22.pilon_000048F.fa       v4_1_pa_qcc22.pilon_000298F.fa\n",
      "v4_1_pa_qcc22.pilon_000048F_a_ctg.fa v4_1_pa_qcc22.pilon_000299F.fa\n",
      "v4_1_pa_qcc22.pilon_000049F.fa       v4_1_pa_qcc22.pilon_000300F.fa\n",
      "v4_1_pa_qcc22.pilon_000049F_a_ctg.fa v4_1_pa_qcc22.pilon_000301F.fa\n",
      "v4_1_pa_qcc22.pilon_000050F.fa       v4_1_pa_qcc22.pilon_000302F.fa\n",
      "v4_1_pa_qcc22.pilon_000050F_a_ctg.fa v4_1_pa_qcc22.pilon_000303F.fa\n",
      "v4_1_pa_qcc22.pilon_000051F.fa       v4_1_pa_qcc22.pilon_000304F.fa\n",
      "v4_1_pa_qcc22.pilon_000051F_a_ctg.fa v4_1_pa_qcc22.pilon_000305F.fa\n",
      "v4_1_pa_qcc22.pilon_000052F.fa       v4_1_pa_qcc22.pilon_000306F.fa\n",
      "v4_1_pa_qcc22.pilon_000053F.fa       v4_1_pa_qcc22.pilon_000307F.fa\n",
      "v4_1_pa_qcc22.pilon_000053F_a_ctg.fa v4_1_pa_qcc22.pilon_000308F.fa\n",
      "v4_1_pa_qcc22.pilon_000054F.fa       v4_1_pa_qcc22.pilon_000309F.fa\n",
      "v4_1_pa_qcc22.pilon_000054F_a_ctg.fa v4_1_pa_qcc22.pilon_000310F.fa\n",
      "v4_1_pa_qcc22.pilon_000055F.fa       v4_1_pa_qcc22.pilon_000311F.fa\n",
      "v4_1_pa_qcc22.pilon_000055F_a_ctg.fa v4_1_pa_qcc22.pilon_000312F.fa\n",
      "v4_1_pa_qcc22.pilon_000056F.fa       v4_1_pa_qcc22.pilon_000313F.fa\n",
      "v4_1_pa_qcc22.pilon_000057F.fa       v4_1_pa_qcc22.pilon_000314F.fa\n",
      "v4_1_pa_qcc22.pilon_000058F.fa       v4_1_pa_qcc22.pilon_000315F.fa\n",
      "v4_1_pa_qcc22.pilon_000058F_a_ctg.fa v4_1_pa_qcc22.pilon_000316F.fa\n",
      "v4_1_pa_qcc22.pilon_000060F.fa       v4_1_pa_qcc22.pilon_000317F.fa\n",
      "v4_1_pa_qcc22.pilon_000061F.fa       v4_1_pa_qcc22.pilon_000318F.fa\n",
      "v4_1_pa_qcc22.pilon_000061F_a_ctg.fa v4_1_pa_qcc22.pilon_000319F.fa\n",
      "v4_1_pa_qcc22.pilon_000062F.fa       v4_1_pa_qcc22.pilon_000320F.fa\n",
      "v4_1_pa_qcc22.pilon_000062F_a_ctg.fa v4_1_pa_qcc22.pilon_000321F.fa\n",
      "v4_1_pa_qcc22.pilon_000063F.fa       v4_1_pa_qcc22.pilon_000322F.fa\n",
      "v4_1_pa_qcc22.pilon_000063F_a_ctg.fa v4_1_pa_qcc22.pilon_000323F.fa\n",
      "v4_1_pa_qcc22.pilon_000064F.fa       v4_1_pa_qcc22.pilon_000324F.fa\n",
      "v4_1_pa_qcc22.pilon_000065F.fa       v4_1_pa_qcc22.pilon_000325F.fa\n",
      "v4_1_pa_qcc22.pilon_000065F_a_ctg.fa v4_1_pa_qcc22.pilon_000326F.fa\n",
      "v4_1_pa_qcc22.pilon_000066F.fa       v4_1_pa_qcc22.pilon_000327F.fa\n",
      "v4_1_pa_qcc22.pilon_000067F.fa       v4_1_pa_qcc22.pilon_000328F.fa\n",
      "v4_1_pa_qcc22.pilon_000068F.fa       v4_1_pa_qcc22.pilon_000329F.fa\n",
      "v4_1_pa_qcc22.pilon_000068F_a_ctg.fa v4_1_pa_qcc22.pilon_000330F.fa\n",
      "v4_1_pa_qcc22.pilon_000069F.fa       v4_1_pa_qcc22.pilon_000331F.fa\n",
      "v4_1_pa_qcc22.pilon_000069F_a_ctg.fa v4_1_pa_qcc22.pilon_000332F.fa\n",
      "v4_1_pa_qcc22.pilon_000070F.fa       v4_1_pa_qcc22.pilon_000333F.fa\n",
      "v4_1_pa_qcc22.pilon_000071F.fa       v4_1_pa_qcc22.pilon_000334F.fa\n",
      "v4_1_pa_qcc22.pilon_000071F_a_ctg.fa v4_1_pa_qcc22.pilon_000335F.fa\n",
      "v4_1_pa_qcc22.pilon_000072F.fa       v4_1_pa_qcc22.pilon_000336F.fa\n",
      "v4_1_pa_qcc22.pilon_000073F.fa       v4_1_pa_qcc22.pilon_000337F.fa\n",
      "v4_1_pa_qcc22.pilon_000074F.fa       v4_1_pa_qcc22.pilon_000338F.fa\n",
      "v4_1_pa_qcc22.pilon_000075F.fa       v4_1_pa_qcc22.pilon_000339F.fa\n",
      "v4_1_pa_qcc22.pilon_000076F.fa       v4_1_pa_qcc22.pilon_000340F.fa\n",
      "v4_1_pa_qcc22.pilon_000077F.fa       v4_1_pa_qcc22.pilon_000341F.fa\n",
      "v4_1_pa_qcc22.pilon_000078F.fa       v4_1_pa_qcc22.pilon_000342F.fa\n",
      "v4_1_pa_qcc22.pilon_000078F_a_ctg.fa v4_1_pa_qcc22.pilon_000344F.fa\n",
      "v4_1_pa_qcc22.pilon_000079F.fa       v4_1_pa_qcc22.pilon_345.fa\n",
      "v4_1_pa_qcc22.pilon_000079F_a_ctg.fa v4_1_pa_qcc22.pilon_a_ctg.fa\n",
      "v4_1_pa_qcc22.pilon_000080F.fa       v4_1_pa_qcc22.pilon_p_ctg.fa\n",
      "v4_1_pa_qcc22.pilon_000081F.fa       v4_1_pa_qcc22p_ncumer.sh\n",
      "v4_1_pa_qcc22.pilon_000082F.fa       v4_1_qcc22pa_all_pap.gcoords\n",
      "v4_1_pa_qcc22.pilon_000083F.fa\n"
     ]
    }
   ],
   "source": [
    "!ls"
   ]
  },
  {
   "cell_type": "code",
   "execution_count": 16,
   "metadata": {
    "collapsed": false
   },
   "outputs": [],
   "source": [
    "outfq = open(bash_script_q, 'w')\n",
    "outfq.write('#!/bin/bash\\n')\n",
    "outfg = open(bash_script_g, 'w')\n",
    "outfg.write('#!/bin/bash\\n')\n",
    "for pseq_record in SeqIO.parse(file_name[:-3]+'_p_ctg.fa', 'fasta'):\n",
    "    p_acontigs = []\n",
    "    p_contig = pseq_record\n",
    "    suffix = file_name[:-3]+pseq_record.id.split(\"|\")[0]+\"pap\"\n",
    "    p_file = file_name[0:-3]+\"_\"+pseq_record.id.split(\"|\")[0]+'.fa'\n",
    "    SeqIO.write(p_contig, p_file, 'fasta')\n",
    "    for aseq_record in SeqIO.parse(file_name[:-3]+'_a_ctg.fa', 'fasta'):\n",
    "        if aseq_record.id.split(\"|\")[0].split(\"_\")[0] == pseq_record.id.split(\"|\")[0]:\n",
    "            p_acontigs.append(aseq_record)\n",
    "    a_file = file_name[:-3]+\"_\"+pseq_record.id.split(\"|\")[0]+'_a_ctg.fa'\n",
    "    #if we have alternative contigs safe those too\n",
    "    if p_acontigs != []:\n",
    "        SeqIO.write(p_acontigs, a_file, 'fasta')\n",
    "        outfq.write('nucmer '+p_file+' '+a_file+\" > \"+'out.delta\\n')\n",
    "        outfq.write('delta-filter -q '+'out.delta'+\" > \"+suffix+\"_qfiltered.delta\\n\")\n",
    "        outfq.write('show-coords -T '+suffix+\"_qfiltered.delta > \"+suffix+\".qcoords\\n\")\n",
    "        outfq.write('mummerplot -p '+suffix+'_qfiltered --postscript '+suffix+\"_qfiltered.delta\\n\")\n",
    "        outfq.write('mummerplot -c -p '+suffix+'_qfiltered_cov --postscript '+suffix+\"_qfiltered.delta\\n\")\n",
    "        #for g_file bash script\n",
    "        outfg.write('nucmer '+p_file+' '+a_file+\" > \"+'out.delta\\n')\n",
    "        outfg.write('delta-filter -g '+'out.delta'+\" > \"+suffix+\"_gfiltered.delta\\n\")\n",
    "        outfg.write('show-coords -T '+suffix+\"_gfiltered.delta > \"+suffix+\".gcoords\\n\")\n",
    "        outfg.write('mummerplot -p '+suffix+'_gfiltered --postscript '+suffix+\"_gfiltered.delta\\n\")\n",
    "        outfg.write('mummerplot -c -p  '+suffix+'_gfiltered_cov --postscript '+suffix+\"_gfiltered.delta\\n\")\n",
    "outfq.close()\n",
    "outfg.close()"
   ]
  },
  {
   "cell_type": "code",
   "execution_count": null,
   "metadata": {
    "collapsed": true
   },
   "outputs": [],
   "source": []
  },
  {
   "cell_type": "code",
   "execution_count": null,
   "metadata": {
    "collapsed": true
   },
   "outputs": [],
   "source": []
  },
  {
   "cell_type": "code",
   "execution_count": null,
   "metadata": {
    "collapsed": true
   },
   "outputs": [],
   "source": []
  },
  {
   "cell_type": "code",
   "execution_count": null,
   "metadata": {
    "collapsed": false
   },
   "outputs": [],
   "source": []
  }
 ],
 "metadata": {
  "anaconda-cloud": {},
  "kernelspec": {
   "display_name": "Python [Root]",
   "language": "python",
   "name": "Python [Root]"
  },
  "language_info": {
   "codemirror_mode": {
    "name": "ipython",
    "version": 3
   },
   "file_extension": ".py",
   "mimetype": "text/x-python",
   "name": "python",
   "nbconvert_exporter": "python",
   "pygments_lexer": "ipython3",
   "version": "3.5.2"
  }
 },
 "nbformat": 4,
 "nbformat_minor": 0
}
