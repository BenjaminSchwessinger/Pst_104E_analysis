{
 "cells": [
  {
   "cell_type": "markdown",
   "metadata": {},
   "source": [
    "Idea is to read in the .tsv file of interproscan and pull out the following when having run interproscan with the following option.\n",
    "This was run like:\n",
    "$INTPRO/interproscan.sh -i ../../../v91_cns_gcoords_curs_ph_ctg_p_ctg.evm.all.protein.fa -iprlookup -goterms -pa\n",
    "and produced following file\n",
    "v91_cns_gcoords_curs_ph_ctg_p_ctg.evm.all.protein.intpro.fa.tsv\n"
   ]
  },
  {
   "cell_type": "code",
   "execution_count": 1,
   "metadata": {
    "collapsed": true
   },
   "outputs": [],
   "source": [
    "import pandas as pd\n",
    "import os\n",
    "import re\n",
    "from Bio import SeqIO\n",
    "import pysam\n",
    "from Bio.SeqRecord import SeqRecord\n",
    "from pybedtools import BedTool\n",
    "import numpy as np\n",
    "import pybedtools\n",
    "import time\n",
    "import matplotlib.pyplot as plt\n",
    "import sys\n",
    "import subprocess\n",
    "import shutil"
   ]
  },
  {
   "cell_type": "code",
   "execution_count": 2,
   "metadata": {
    "collapsed": true
   },
   "outputs": [],
   "source": [
    "BASE_FOLDER = '/home/benjamin/genome_assembly/PST79/FALCON/p_assemblies/v9_1/funnotate/Pst_79p/07112016_Pst79_p_funannotate/annotate_misc/iprscan'\n",
    "INTERPRO_TSV_FILE = 'v91_cns_gcoords_curs_ph_ctg_p_ctg.evm.all.protein.intpro.fa.tsv'\n",
    "BASE_AA_PATH = '/home/benjamin/genome_assembly/PST79/FALCON/p_assemblies/v9_1/Pst_104E_v12'\n",
    "OUT_PATH = os.path.join(BASE_AA_PATH, 'protein_annotation')\n",
    "if not os.path.exists(OUT_PATH):\n",
    "    os.mkdir(OUT_PATH)"
   ]
  },
  {
   "cell_type": "code",
   "execution_count": 3,
   "metadata": {
    "collapsed": true
   },
   "outputs": [],
   "source": [
    "p_genome = 'Pst_104E_v12_p_ctg'\n",
    "OUT_PATH_P = os.path.join(OUT_PATH, p_genome)\n",
    "if not os.path.exists(OUT_PATH_P):\n",
    "    os.mkdir(OUT_PATH_P)"
   ]
  },
  {
   "cell_type": "code",
   "execution_count": 4,
   "metadata": {
    "collapsed": true
   },
   "outputs": [],
   "source": [
    "interpro_header = ['Protein_ID' , 'MD5', 'Length', 'DB', 'DB_accession', 'DB_description', 'Start_position', 'Stop_position', \\\n",
    "                  'e-value', 'Match Status', 'date', 'InterPro_ID', 'InterPro_description','GO_terms', 'Pathway_IDs' ]"
   ]
  },
  {
   "cell_type": "code",
   "execution_count": 5,
   "metadata": {
    "collapsed": false
   },
   "outputs": [],
   "source": [
    "interpro_df = pd.read_csv(os.path.join(BASE_FOLDER, INTERPRO_TSV_FILE), sep ='\\t', header=None, names=interpro_header)"
   ]
  },
  {
   "cell_type": "code",
   "execution_count": 10,
   "metadata": {
    "collapsed": false
   },
   "outputs": [
    {
     "name": "stderr",
     "output_type": "stream",
     "text": [
      "/home/benjamin/anaconda3/lib/python3.5/site-packages/ipykernel/__main__.py:3: FutureWarning: currently extract(expand=None) means expand=False (return Index/Series/DataFrame) but in a future version of pandas this will be changed to expand=True (return DataFrame)\n",
      "  app.launch_new_instance()\n"
     ]
    }
   ],
   "source": [
    "#rename protein names depending on the genome h or p\n",
    "if p_genome.endswith('p_ctg'):\n",
    "    rename_df = interpro_df.Protein_ID.str.extract(r'000([0-9]*)F_quiver.([0-9]*)')\n",
    "    rename_df['Updated_Protein_ID'] = 'evm.model.pcontig_' + rename_df[0] + '.' + rename_df[1]\n",
    "elif p_genome.endswith('h_ctg'):\n",
    "    rename_df = interpro_df.Protein_ID.str.extract(r'000([0-9]*)F_([0-9]*)_quiver.([0-9]*)')\n",
    "    rename_df['Updated_Protein_ID'] = 'evm.model.pcontig_' + rename_df[0] + '_' + rename_df[1] +'.' + rename_df[2]\n",
    "interpro_df['Updated_Protein_ID'] =rename_df['Updated_Protein_ID']"
   ]
  },
  {
   "cell_type": "code",
   "execution_count": 11,
   "metadata": {
    "collapsed": false
   },
   "outputs": [
    {
     "data": {
      "text/html": [
       "<div>\n",
       "<style>\n",
       "    .dataframe thead tr:only-child th {\n",
       "        text-align: right;\n",
       "    }\n",
       "\n",
       "    .dataframe thead th {\n",
       "        text-align: left;\n",
       "    }\n",
       "\n",
       "    .dataframe tbody tr th {\n",
       "        vertical-align: top;\n",
       "    }\n",
       "</style>\n",
       "<table border=\"1\" class=\"dataframe\">\n",
       "  <thead>\n",
       "    <tr style=\"text-align: right;\">\n",
       "      <th></th>\n",
       "      <th>Protein_ID</th>\n",
       "      <th>MD5</th>\n",
       "      <th>Length</th>\n",
       "      <th>DB</th>\n",
       "      <th>DB_accession</th>\n",
       "      <th>DB_description</th>\n",
       "      <th>Start_position</th>\n",
       "      <th>Stop_position</th>\n",
       "      <th>e-value</th>\n",
       "      <th>Match Status</th>\n",
       "      <th>date</th>\n",
       "      <th>InterPro_ID</th>\n",
       "      <th>InterPro_description</th>\n",
       "      <th>GO_terms</th>\n",
       "      <th>Pathway_IDs</th>\n",
       "      <th>Updated_Protein_ID</th>\n",
       "    </tr>\n",
       "  </thead>\n",
       "  <tbody>\n",
       "    <tr>\n",
       "      <th>0</th>\n",
       "      <td>evm.model.000004F_quiver.189</td>\n",
       "      <td>299f11c027c8d3d5760103bf57d10fdc</td>\n",
       "      <td>350</td>\n",
       "      <td>Gene3D</td>\n",
       "      <td>G3DSA:3.40.50.720</td>\n",
       "      <td>NaN</td>\n",
       "      <td>9</td>\n",
       "      <td>197</td>\n",
       "      <td>2.4E-71</td>\n",
       "      <td>T</td>\n",
       "      <td>09-11-2016</td>\n",
       "      <td>IPR016040</td>\n",
       "      <td>NAD(P)-binding domain</td>\n",
       "      <td>0</td>\n",
       "      <td>NaN</td>\n",
       "      <td>evm.model.pcontig_004.189</td>\n",
       "    </tr>\n",
       "    <tr>\n",
       "      <th>1</th>\n",
       "      <td>evm.model.000004F_quiver.189</td>\n",
       "      <td>299f11c027c8d3d5760103bf57d10fdc</td>\n",
       "      <td>350</td>\n",
       "      <td>Pfam</td>\n",
       "      <td>PF07479</td>\n",
       "      <td>NAD-dependent glycerol-3-phosphate dehydrogena...</td>\n",
       "      <td>201</td>\n",
       "      <td>346</td>\n",
       "      <td>1.3E-42</td>\n",
       "      <td>T</td>\n",
       "      <td>09-11-2016</td>\n",
       "      <td>IPR006109</td>\n",
       "      <td>Glycerol-3-phosphate dehydrogenase, NAD-depend...</td>\n",
       "      <td>GO:0004367|GO:0005975|GO:0055114</td>\n",
       "      <td>KEGG: 00564+1.1.1.94|MetaCyc: PWY-5667|MetaCyc...</td>\n",
       "      <td>evm.model.pcontig_004.189</td>\n",
       "    </tr>\n",
       "    <tr>\n",
       "      <th>2</th>\n",
       "      <td>evm.model.000004F_quiver.189</td>\n",
       "      <td>299f11c027c8d3d5760103bf57d10fdc</td>\n",
       "      <td>350</td>\n",
       "      <td>PANTHER</td>\n",
       "      <td>PTHR11728:SF8</td>\n",
       "      <td>NaN</td>\n",
       "      <td>1</td>\n",
       "      <td>346</td>\n",
       "      <td>1.0E-182</td>\n",
       "      <td>T</td>\n",
       "      <td>09-11-2016</td>\n",
       "      <td>NaN</td>\n",
       "      <td>NaN</td>\n",
       "      <td>0</td>\n",
       "      <td>NaN</td>\n",
       "      <td>evm.model.pcontig_004.189</td>\n",
       "    </tr>\n",
       "    <tr>\n",
       "      <th>3</th>\n",
       "      <td>evm.model.000004F_quiver.189</td>\n",
       "      <td>299f11c027c8d3d5760103bf57d10fdc</td>\n",
       "      <td>350</td>\n",
       "      <td>Gene3D</td>\n",
       "      <td>G3DSA:1.10.1040.10</td>\n",
       "      <td>NaN</td>\n",
       "      <td>201</td>\n",
       "      <td>350</td>\n",
       "      <td>2.7E-53</td>\n",
       "      <td>T</td>\n",
       "      <td>09-11-2016</td>\n",
       "      <td>IPR013328</td>\n",
       "      <td>6-phosphogluconate dehydrogenase, domain 2</td>\n",
       "      <td>GO:0016491|GO:0055114</td>\n",
       "      <td>NaN</td>\n",
       "      <td>evm.model.pcontig_004.189</td>\n",
       "    </tr>\n",
       "    <tr>\n",
       "      <th>4</th>\n",
       "      <td>evm.model.000004F_quiver.189</td>\n",
       "      <td>299f11c027c8d3d5760103bf57d10fdc</td>\n",
       "      <td>350</td>\n",
       "      <td>PRINTS</td>\n",
       "      <td>PR00077</td>\n",
       "      <td>NAD-dependent glycerol-3-phosphate dehydrogena...</td>\n",
       "      <td>76</td>\n",
       "      <td>103</td>\n",
       "      <td>1.0E-67</td>\n",
       "      <td>T</td>\n",
       "      <td>09-11-2016</td>\n",
       "      <td>IPR006168</td>\n",
       "      <td>Glycerol-3-phosphate dehydrogenase, NAD-dependent</td>\n",
       "      <td>GO:0004367|GO:0006072|GO:0009331|GO:0055114</td>\n",
       "      <td>KEGG: 00564+1.1.1.94|MetaCyc: PWY-5667|MetaCyc...</td>\n",
       "      <td>evm.model.pcontig_004.189</td>\n",
       "    </tr>\n",
       "  </tbody>\n",
       "</table>\n",
       "</div>"
      ],
      "text/plain": [
       "                     Protein_ID                               MD5  Length  \\\n",
       "0  evm.model.000004F_quiver.189  299f11c027c8d3d5760103bf57d10fdc     350   \n",
       "1  evm.model.000004F_quiver.189  299f11c027c8d3d5760103bf57d10fdc     350   \n",
       "2  evm.model.000004F_quiver.189  299f11c027c8d3d5760103bf57d10fdc     350   \n",
       "3  evm.model.000004F_quiver.189  299f11c027c8d3d5760103bf57d10fdc     350   \n",
       "4  evm.model.000004F_quiver.189  299f11c027c8d3d5760103bf57d10fdc     350   \n",
       "\n",
       "        DB        DB_accession  \\\n",
       "0   Gene3D   G3DSA:3.40.50.720   \n",
       "1     Pfam             PF07479   \n",
       "2  PANTHER       PTHR11728:SF8   \n",
       "3   Gene3D  G3DSA:1.10.1040.10   \n",
       "4   PRINTS             PR00077   \n",
       "\n",
       "                                      DB_description  Start_position  \\\n",
       "0                                                NaN               9   \n",
       "1  NAD-dependent glycerol-3-phosphate dehydrogena...             201   \n",
       "2                                                NaN               1   \n",
       "3                                                NaN             201   \n",
       "4  NAD-dependent glycerol-3-phosphate dehydrogena...              76   \n",
       "\n",
       "   Stop_position   e-value Match Status        date InterPro_ID  \\\n",
       "0            197   2.4E-71            T  09-11-2016   IPR016040   \n",
       "1            346   1.3E-42            T  09-11-2016   IPR006109   \n",
       "2            346  1.0E-182            T  09-11-2016         NaN   \n",
       "3            350   2.7E-53            T  09-11-2016   IPR013328   \n",
       "4            103   1.0E-67            T  09-11-2016   IPR006168   \n",
       "\n",
       "                                InterPro_description  \\\n",
       "0                              NAD(P)-binding domain   \n",
       "1  Glycerol-3-phosphate dehydrogenase, NAD-depend...   \n",
       "2                                                NaN   \n",
       "3         6-phosphogluconate dehydrogenase, domain 2   \n",
       "4  Glycerol-3-phosphate dehydrogenase, NAD-dependent   \n",
       "\n",
       "                                      GO_terms  \\\n",
       "0                                            0   \n",
       "1             GO:0004367|GO:0005975|GO:0055114   \n",
       "2                                            0   \n",
       "3                        GO:0016491|GO:0055114   \n",
       "4  GO:0004367|GO:0006072|GO:0009331|GO:0055114   \n",
       "\n",
       "                                         Pathway_IDs  \\\n",
       "0                                                NaN   \n",
       "1  KEGG: 00564+1.1.1.94|MetaCyc: PWY-5667|MetaCyc...   \n",
       "2                                                NaN   \n",
       "3                                                NaN   \n",
       "4  KEGG: 00564+1.1.1.94|MetaCyc: PWY-5667|MetaCyc...   \n",
       "\n",
       "          Updated_Protein_ID  \n",
       "0  evm.model.pcontig_004.189  \n",
       "1  evm.model.pcontig_004.189  \n",
       "2  evm.model.pcontig_004.189  \n",
       "3  evm.model.pcontig_004.189  \n",
       "4  evm.model.pcontig_004.189  "
      ]
     },
     "execution_count": 11,
     "metadata": {},
     "output_type": "execute_result"
    }
   ],
   "source": [
    "interpro_df.head()"
   ]
  },
  {
   "cell_type": "code",
   "execution_count": 12,
   "metadata": {
    "collapsed": false
   },
   "outputs": [],
   "source": [
    "interpro_df.GO_terms.fillna(0, inplace = True)"
   ]
  },
  {
   "cell_type": "code",
   "execution_count": 13,
   "metadata": {
    "collapsed": false
   },
   "outputs": [],
   "source": [
    "interpro_by_protein = interpro_df.groupby('Updated_Protein_ID')"
   ]
  },
  {
   "cell_type": "code",
   "execution_count": 14,
   "metadata": {
    "collapsed": false
   },
   "outputs": [],
   "source": [
    "interpro_by_protein_GO = interpro_by_protein.GO_terms.apply(set)"
   ]
  },
  {
   "cell_type": "code",
   "execution_count": 15,
   "metadata": {
    "collapsed": false
   },
   "outputs": [],
   "source": [
    "#remove everything without GO term attached\n",
    "interpro_by_protein_GO = interpro_by_protein_GO[~(interpro_by_protein_GO == {0})]"
   ]
  },
  {
   "cell_type": "code",
   "execution_count": 16,
   "metadata": {
    "collapsed": false
   },
   "outputs": [],
   "source": [
    "interpro_by_protein_GO_dict = dict(zip(interpro_by_protein_GO.index, interpro_by_protein_GO))"
   ]
  },
  {
   "cell_type": "code",
   "execution_count": 17,
   "metadata": {
    "collapsed": false
   },
   "outputs": [],
   "source": [
    "ALL_GO_LIST = []\n",
    "ALL_PROTEIN_INDEX_LIST = []\n",
    "for key in list(interpro_by_protein_GO_dict.keys()):\n",
    "    _tmp_list = list(interpro_by_protein_GO_dict[key])\n",
    "    #remove 0 \n",
    "    _tmp_list = [x for x in _tmp_list if x != 0]\n",
    "    new_value = []\n",
    "    for x in _tmp_list: \n",
    "        if '|' in x:\n",
    "            _list = x.split('|')\n",
    "            for y in _list:\n",
    "                new_value.append(y)\n",
    "        else:\n",
    "            new_value.append(x)\n",
    "    new_value = list(set(new_value))\n",
    "    new_index = [key]*len(new_value)\n",
    "    ALL_GO_LIST += new_value\n",
    "    ALL_PROTEIN_INDEX_LIST += new_index\n"
   ]
  },
  {
   "cell_type": "code",
   "execution_count": 19,
   "metadata": {
    "collapsed": false
   },
   "outputs": [],
   "source": [
    "GO_df = pd.DataFrame([ALL_PROTEIN_INDEX_LIST, ALL_GO_LIST]).T"
   ]
  },
  {
   "cell_type": "code",
   "execution_count": 21,
   "metadata": {
    "collapsed": false
   },
   "outputs": [],
   "source": [
    "GO_df.to_csv(os.path.join(OUT_PATH_P, 'GO_terms_interpro.tab') , sep = '\\t', header =None, index=None)"
   ]
  },
  {
   "cell_type": "code",
   "execution_count": null,
   "metadata": {
    "collapsed": true
   },
   "outputs": [],
   "source": []
  },
  {
   "cell_type": "code",
   "execution_count": null,
   "metadata": {
    "collapsed": true
   },
   "outputs": [],
   "source": []
  },
  {
   "cell_type": "code",
   "execution_count": null,
   "metadata": {
    "collapsed": true
   },
   "outputs": [],
   "source": []
  },
  {
   "cell_type": "code",
   "execution_count": null,
   "metadata": {
    "collapsed": true
   },
   "outputs": [],
   "source": []
  },
  {
   "cell_type": "code",
   "execution_count": null,
   "metadata": {
    "collapsed": true
   },
   "outputs": [],
   "source": []
  },
  {
   "cell_type": "code",
   "execution_count": null,
   "metadata": {
    "collapsed": true
   },
   "outputs": [],
   "source": []
  },
  {
   "cell_type": "code",
   "execution_count": null,
   "metadata": {
    "collapsed": true
   },
   "outputs": [],
   "source": []
  },
  {
   "cell_type": "code",
   "execution_count": null,
   "metadata": {
    "collapsed": true
   },
   "outputs": [],
   "source": []
  }
 ],
 "metadata": {
  "kernelspec": {
   "display_name": "Python 3",
   "language": "python",
   "name": "python3"
  },
  "language_info": {
   "codemirror_mode": {
    "name": "ipython",
    "version": 3
   },
   "file_extension": ".py",
   "mimetype": "text/x-python",
   "name": "python",
   "nbconvert_exporter": "python",
   "pygments_lexer": "ipython3",
   "version": "3.5.2"
  }
 },
 "nbformat": 4,
 "nbformat_minor": 0
}
