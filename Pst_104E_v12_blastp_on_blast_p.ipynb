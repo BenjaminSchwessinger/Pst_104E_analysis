{
 "cells": [
  {
   "cell_type": "code",
   "execution_count": 91,
   "metadata": {
    "collapsed": false
   },
   "outputs": [],
   "source": [
    "%matplotlib inline\n",
    "import pandas as pd\n",
    "import os\n",
    "import re\n",
    "from Bio import SeqIO\n",
    "import pysam\n",
    "from Bio.SeqRecord import SeqRecord\n",
    "from Bio.Seq import Seq\n",
    "from Bio import SearchIO\n",
    "from pybedtools import BedTool"
   ]
  },
  {
   "cell_type": "code",
   "execution_count": 78,
   "metadata": {
    "collapsed": true
   },
   "outputs": [],
   "source": [
    "working_dir = '/home/benjamin/genome_assembly/PST79/FALCON/p_assemblies/v9_1/Pst_104E_v12/blastp_on_p'\n",
    "p_evalue = 1e-5\n",
    "g_evalue = 1e-10\n",
    "n_threads = 6\n",
    "p_contigs = 'Pst_104E_v12_p_ctg.fa'\n",
    "h_contigs = 'Pst_104E_v12_h_ctg.fa'\n",
    "p_key = p_contigs.split('.')[0]\n",
    "h_key = h_contigs.split('.')[0]\n",
    "\n",
    "os.chdir(working_dir)"
   ]
  },
  {
   "cell_type": "code",
   "execution_count": 18,
   "metadata": {
    "collapsed": true
   },
   "outputs": [],
   "source": [
    "def blast_outfmt6_to_bed(x):\n",
    "    blast_fo = open(x, 'r')\n",
    "    blast_lines = blast_fo.readlines()\n",
    "    bed_file_name = x + '.bed'\n",
    "    bed_fo = open(bed_file_name, 'w+')\n",
    "    for l in blast_lines:\n",
    "        content = l.split('\\t')\n",
    "        if int(content[8]) - int(content[9]) < 1:\n",
    "            print(content[1], int(content[8]) -1, content[9], content[0], content[10], \"+\", sep=\"\\t\", file=bed_fo) \n",
    "        else:\n",
    "            print(content[1], int(content[9]) -1, content[8],  content[0], content[10], \"-\", sep = \"\\t\", file=bed_fo)\n",
    "    blast_fo.close()\n",
    "    bed_fo.close()"
   ]
  },
  {
   "cell_type": "code",
   "execution_count": 50,
   "metadata": {
    "collapsed": true
   },
   "outputs": [],
   "source": [
    "def pwh_filter (x):\n",
    "    p_contig = x.split('.')[2]\n",
    "    if p_contig in pwh_set:\n",
    "        return 1\n",
    "    else:\n",
    "        return 0"
   ]
  },
  {
   "cell_type": "code",
   "execution_count": 57,
   "metadata": {
    "collapsed": true
   },
   "outputs": [],
   "source": [
    "def same_contig_blast(x,y):\n",
    "    '''Function that checks if the blast hit in columne y is on the same contig as the the query sequence in\n",
    "    column y.\n",
    "    '''\n",
    "    q_contig = x.split('.')[2].split('_')[1]\n",
    "    hit_contig = y.split('_')[1]\n",
    "    if q_contig == hit_contig:\n",
    "        return True\n",
    "    else:\n",
    "        return False"
   ]
  },
  {
   "cell_type": "code",
   "execution_count": 72,
   "metadata": {
    "collapsed": true
   },
   "outputs": [],
   "source": [
    "def col_8_id(x):\n",
    "    import re\n",
    "    pattern = r'ID=([a-zA-Z0-9_.]*);'\n",
    "    regex = re.compile(pattern)  \n",
    "    m = regex.search(x)\n",
    "    match = m.groups()[0].replace('TU', 'model')\n",
    "    if match.startswith('cds.'):\n",
    "        match = match[4:]\n",
    "    if 'exon' in match:\n",
    "        _list = match.split('.')\n",
    "        match = '.'.join(_list[:-1])\n",
    "    return match\n"
   ]
  },
  {
   "cell_type": "code",
   "execution_count": 7,
   "metadata": {
    "collapsed": false
   },
   "outputs": [
    {
     "name": "stdout",
     "output_type": "stream",
     "text": [
      "\n",
      "\n",
      "Building a new DB, current time: 03/08/2017 10:26:59\n",
      "New DB name:   /home/benjamin/genome_assembly/PST79/FALCON/p_assemblies/v9_1/Pst_104E_v12/blastp_on_p/Pst_104E_v12_h_ctg.anno.protein.fa\n",
      "New DB title:  Pst_104E_v12_h_ctg.anno.protein.fa\n",
      "Sequence type: Protein\n",
      "Keep Linkouts: T\n",
      "Keep MBits: T\n",
      "Maximum file size: 1000000000B\n",
      "Adding sequences from FASTA; added 14321 sequences in 0.532387 seconds.\n",
      "\n",
      "\n",
      "Building a new DB, current time: 03/08/2017 10:27:00\n",
      "New DB name:   /home/benjamin/genome_assembly/PST79/FALCON/p_assemblies/v9_1/Pst_104E_v12/blastp_on_p/Pst_104E_v12_p_ctg.anno.protein.fa\n",
      "New DB title:  Pst_104E_v12_p_ctg.anno.protein.fa\n",
      "Sequence type: Protein\n",
      "Keep Linkouts: T\n",
      "Keep MBits: T\n",
      "Maximum file size: 1000000000B\n",
      "Adding sequences from FASTA; added 15928 sequences in 0.625616 seconds.\n"
     ]
    }
   ],
   "source": [
    "#make databases and run protein blast\n",
    "protein_fa = [x for x in os.listdir() if x.endswith('protein.fa')]\n",
    "protein_fa.sort()\n",
    "for fa in protein_fa:\n",
    "    !makeblastdb -in {fa} -dbtype prot"
   ]
  },
  {
   "cell_type": "code",
   "execution_count": null,
   "metadata": {
    "collapsed": true
   },
   "outputs": [],
   "source": []
  },
  {
   "cell_type": "code",
   "execution_count": null,
   "metadata": {
    "collapsed": true
   },
   "outputs": [],
   "source": []
  },
  {
   "cell_type": "code",
   "execution_count": 34,
   "metadata": {
    "collapsed": false
   },
   "outputs": [
    {
     "name": "stdout",
     "output_type": "stream",
     "text": [
      "\n",
      "\n",
      "Building a new DB, current time: 03/08/2017 11:18:00\n",
      "New DB name:   /home/benjamin/genome_assembly/PST79/FALCON/p_assemblies/v9_1/Pst_104E_v12/blastp_on_p/Pst_104E_v12_h_ctg.fa\n",
      "New DB title:  Pst_104E_v12_h_ctg.fa\n",
      "Sequence type: Nucleotide\n",
      "Keep Linkouts: T\n",
      "Keep MBits: T\n",
      "Maximum file size: 1000000000B\n",
      "Adding sequences from FASTA; added 475 sequences in 0.892212 seconds.\n",
      "\n",
      "\n",
      "Building a new DB, current time: 03/08/2017 11:18:01\n",
      "New DB name:   /home/benjamin/genome_assembly/PST79/FALCON/p_assemblies/v9_1/Pst_104E_v12/blastp_on_p/Pst_104E_v12_p_ctg.fa\n",
      "New DB title:  Pst_104E_v12_p_ctg.fa\n",
      "Sequence type: Nucleotide\n",
      "Keep Linkouts: T\n",
      "Keep MBits: T\n",
      "Maximum file size: 1000000000B\n",
      "Adding sequences from FASTA; added 156 sequences in 1.00498 seconds.\n"
     ]
    }
   ],
   "source": [
    "contig_files = [x for x in os.listdir() if x.endswith('_ctg.fa')]\n",
    "contig_files.sort()\n",
    "for contigs in contig_files:\n",
    "    !makeblastdb -in {contigs} -dbtype nucl"
   ]
  },
  {
   "cell_type": "code",
   "execution_count": 15,
   "metadata": {
    "collapsed": false
   },
   "outputs": [],
   "source": [
    "!blastp -query {protein_fa[0]} -db {protein_fa[1]} -outfmt 6 -evalue {p_evalue} -num_threads {n_threads} > {protein_fa[0].split('.')[0]}.on.{protein_fa[1].split('.')[0]}.outfmt6"
   ]
  },
  {
   "cell_type": "code",
   "execution_count": 16,
   "metadata": {
    "collapsed": true
   },
   "outputs": [],
   "source": [
    "!blastp -query {protein_fa[1]} -db {protein_fa[0]} -outfmt 6 -evalue {p_evalue} -num_threads {n_threads} > {protein_fa[1].split('.')[0]}.on.{protein_fa[0].split('.')[0]}.outfmt6"
   ]
  },
  {
   "cell_type": "code",
   "execution_count": 19,
   "metadata": {
    "collapsed": false
   },
   "outputs": [
    {
     "name": "stdout",
     "output_type": "stream",
     "text": [
      "['Pst_104E_v12_h_ctg.on.Pst_104E_v12_p_ctg.outfmt6', 'Pst_104E_v12_p_ctg.on.Pst_104E_v12_h_ctg.outfmt6']\n",
      "['Pst_104E_v12_h_ctg.anno.protein.fa', 'Pst_104E_v12_p_ctg.anno.protein.fa']\n"
     ]
    },
    {
     "data": {
      "text/plain": [
       "True"
      ]
     },
     "execution_count": 19,
     "metadata": {},
     "output_type": "execute_result"
    }
   ],
   "source": [
    "hit_df =''\n",
    "outfmt6 = [x for x in os.listdir() if x.endswith('outfmt6') and 'on' in x]\n",
    "outfmt6.sort()\n",
    "print(outfmt6)\n",
    "fa_files = protein_fa\n",
    "fa_files.sort()\n",
    "print(fa_files)\n",
    "\n",
    "#The next block should pull in both the initial protein and the blast df.\n",
    "#The initial protein should become a dataframe that contains proteins sequence name and length.\n",
    "#This df should be merged with the blast df in a way that proteins without hit should get NA values. \n",
    "#Once this is done make two arrays with [p, h], sort this and compare, pull out everything that is identical, and lable it with a new column reverse blast Yes/No.\n",
    "#Pull out YES and see if they are enriched/depelted in something. NOs need to be checked for high coverage in ph vs h/p mapping and levels of heterozycosity + h on p mapping mappings. \n",
    "\n",
    "#read in protein ids for p and h contigs and store names in a list in a dict with unique key id [first part of\n",
    "#file name].\n",
    "fa_protein_dict = {}\n",
    "fa_protein_length_dict = {}\n",
    "for file in fa_files:\n",
    "    seq_list = []\n",
    "    length_list =[]\n",
    "    for seq in SeqIO.parse(open(file), 'fasta'):\n",
    "        seq_list.append(seq.id)\n",
    "        length_list.append(len(seq.seq))\n",
    "    key_name = file.split('.')[0]\n",
    "    fa_protein_dict[key_name] = seq_list\n",
    "    fa_protein_length_dict[key_name] = dict(zip(seq_list, length_list))\n",
    "\n",
    "#generate df dict of blast output and filter blast output\n",
    "header = ['Query', 'Target', 'PctID', 'AlnLgth', 'NumMis', 'NumGap', 'StartQuery', 'StopQuery', 'StartTarget',\\\n",
    "              'StopTarget', 'e-value','BitScore']\n",
    "outfmt6_dict ={} #contains the filtered values\n",
    "outfmt6_dict_all = {} #contains the unfiltered blast hits e.g. low % identity and low query coverage\n",
    "#match_dict = {} #get best hits in match_dict[p_protein] = h_protein\n",
    "hit_df = pd.DataFrame(columns=['p_protein', 'h_protein'])\n",
    "for outfile in outfmt6:\n",
    "    key_name =  outfile.split('.')[0]\n",
    "    df = ''\n",
    "    df = pd.read_csv(outfile, header = None, names = header, sep='\\t')\n",
    "    #add the query length using to the df using the length dict generated before\n",
    "    df[\"QLgth\"] = df[\"Query\"].apply(lambda x: fa_protein_length_dict[key_name][x]) \n",
    "    df[\"QCov\"] = df['AlnLgth']/df['QLgth']*100 #calculate the % coverage for each querry\n",
    "    outfmt6_dict_all[key_name] = df\n",
    "    df = df[(df['QCov'] > 30) & (df['PctID'] > 50) ] #define paralogous as Query coverage > 30% and PctID > 50\n",
    "    #this could be more dynamic and the outfmt of blast AlnLngthPct and they greater than 60%\n",
    "    groups = df.groupby(by='Query')\n",
    "    #now filter the dataframe by the smallest e-value for each group == Query\n",
    "    df_filtered = groups.apply(lambda g: g[g['e-value'] == g['e-value'].min()]) \n",
    "    df_filtered = df_filtered.reset_index(drop=True)\n",
    "    #in case there is a blast query that hits the same subject twice with the same minimal e-value\n",
    "    df_filtered = df_filtered.drop_duplicates(subset=['Query', 'Target'], keep ='last')\n",
    "    outfmt6_dict[key_name] = df_filtered\n",
    "    if 'p_ctg' in key_name:\n",
    "        df_filtered['h_protein'] = df_filtered['Target']\n",
    "        df_filtered['p_protein'] = df_filtered['Query']\n",
    "    if 'h_ctg' in key_name:\n",
    "        df_filtered['h_protein'] = df_filtered['Query']\n",
    "        df_filtered['p_protein'] = df_filtered['Target']\n",
    "    hit_df = pd.concat([hit_df, df_filtered.loc[:, ['p_protein', 'h_protein']]])\n",
    "\n",
    "#duplicates are besties as they are entered twice from both outfmt\n",
    "\n",
    "bestie_df = hit_df[hit_df.duplicated(keep='first')]\n",
    "\n",
    "bestie_df.to_csv(list(outfmt6_dict.keys())[0][:-6] + '.besties.txt', sep='\\t', header=None, index=None)\n",
    "bestie_df['p_protein'].to_csv(list(outfmt6_dict.keys())[0] + '.besties.txt', sep='\\t', header=None, index=None)\n",
    "bestie_df['h_protein'].to_csv(list(outfmt6_dict.keys())[1] + '.besties.txt', sep='\\t', header=None, index=None)\n",
    "\n",
    "\n",
    "#this is pulling out the no blast hits at all. Should be a subset of no_besties\n",
    "no_hits ={}\n",
    "for key in fa_protein_dict.keys():\n",
    "    if 'p_' in key:\n",
    "        no_hits[key] = set(fa_protein_dict[key]) - set(outfmt6_dict_all[key]['Query'].unique())\n",
    "        pd.DataFrame(list(no_hits[key])).to_csv(key + '.p_proteins.no_blast_hit.txt', sep='\\t', header=None, index=None)\n",
    "    if 'h_' in key:\n",
    "        no_hits[key] = set(fa_protein_dict[key]) - set(outfmt6_dict_all[key]['Query'].unique())\n",
    "        pd.DataFrame(list(no_hits[key])).to_csv(key + '.h_proteins.no_blast_hit.txt', sep='\\t', header=None, index=None)\n",
    "\n",
    "no_hits_filtered ={}\n",
    "for key in fa_protein_dict.keys():\n",
    "    if 'p_' in key:\n",
    "        no_hits_filtered[key] = set(fa_protein_dict[key]) - set(outfmt6_dict[key]['Query'].unique())\n",
    "        pd.DataFrame(list(no_hits_filtered[key])).to_csv(key + '.p_proteins.no_filtered_blast_hit.txt', sep='\\t', header=None, index=None)\n",
    "    if 'h_' in key:\n",
    "        no_hits_filtered[key] = set(fa_protein_dict[key]) - set(outfmt6_dict[key]['Query'].unique())\n",
    "        pd.DataFrame(list(no_hits_filtered[key])).to_csv(key + '.h_proteins.no_filtered_blast_hit.txt', sep='\\t', header=None, index=None)\n",
    "        \n",
    "\n",
    "#this is now pulling out the besties\n",
    "no_bestie ={}\n",
    "for key in fa_protein_dict.keys():\n",
    "    if 'p_' in key:\n",
    "        no_bestie[key] = set(fa_protein_dict[key]) - set(bestie_df['p_protein'])\n",
    "        pd.DataFrame(list(no_bestie[key])).to_csv(key + '.p_proteins.no_besties.txt', sep='\\t', header=None, index=None)\n",
    "    if 'h_' in key:\n",
    "        no_bestie[key] = set(fa_protein_dict[key]) - set(bestie_df['h_protein'])\n",
    "        pd.DataFrame(list(no_bestie[key])).to_csv(key + '.h_proteins.no_besties.txt', sep='\\t', header=None, index=None)        \n",
    "        \n",
    "_len_out = 0\n",
    "_len_pro = 0\n",
    "for x in fa_protein_dict.keys():\n",
    "    _len_pro += len(fa_protein_dict[x])\n",
    "    _len_out += len(no_bestie[x])\n",
    "_len_out += (len(bestie_df))*2 - bestie_df.duplicated(subset=\"p_protein\", keep='last').sum() \\\n",
    "- bestie_df.duplicated(subset=\"h_protein\", keep='last').sum()\n",
    "_len_out == _len_pro\n"
   ]
  },
  {
   "cell_type": "code",
   "execution_count": 20,
   "metadata": {
    "collapsed": false
   },
   "outputs": [
    {
     "name": "stdout",
     "output_type": "stream",
     "text": [
      "Out of 15928 4252 have no reciprocal blast hit for Pst_104E_v12_p_ctg making it 26.70 percent.\n",
      "Out of 15928 1222 have no blast hit at all for Pst_104E_v12_p_ctg making it 7.67 percent.\n",
      "Out of 15928 2121 have no blast hit after filtering by AlnLght and QCov for Pst_104E_v12_p_ctg making it 13.32 percent.\n",
      "Out of 14321 2495 have no reciprocal blast hit for Pst_104E_v12_h_ctg making it 17.42 percent.\n",
      "Out of 14321 333 have no blast hit at all for Pst_104E_v12_h_ctg making it 2.33 percent.\n",
      "Out of 14321 541 have no blast hit after filtering by AlnLght and QCov for Pst_104E_v12_h_ctg making it 3.78 percent.\n"
     ]
    },
    {
     "data": {
      "text/plain": [
       "True"
      ]
     },
     "execution_count": 20,
     "metadata": {},
     "output_type": "execute_result"
    }
   ],
   "source": [
    "_len_out = 0\n",
    "_len_pro = 0\n",
    "for x in fa_protein_dict.keys():\n",
    "    _len_pro += len(fa_protein_dict[x])\n",
    "    _len_out += len(no_bestie[x])\n",
    "    print(\"Out of %i %i have no reciprocal blast hit for %s making it %.2f percent.\"%(len(fa_protein_dict[x]),len(no_bestie[x]),x, (len(no_bestie[x])/len(fa_protein_dict[x])*100) ))\n",
    "    print(\"Out of %i %i have no blast hit at all for %s making it %.2f percent.\"%(len(fa_protein_dict[x]),len(no_hits[x]),x, (len(no_hits[x])/len(fa_protein_dict[x])*100) ))\n",
    "    print(\"Out of %i %i have no blast hit after filtering by AlnLght and QCov for %s making it %.2f percent.\"%(len(fa_protein_dict[x]),len(no_hits_filtered[x]),x, (len(no_hits_filtered[x])/len(fa_protein_dict[x])*100) ))\n",
    "_len_out += (len(bestie_df))*2 - bestie_df.duplicated(subset=\"p_protein\", keep='last').sum() \\\n",
    "- bestie_df.duplicated(subset=\"h_protein\", keep='last').sum()\n",
    "_len_out == _len_pro"
   ]
  },
  {
   "cell_type": "raw",
   "metadata": {
    "collapsed": true
   },
   "source": [
    "#now pull gene sequences for no-besties and do blast on the corresponding other haplotype\n",
    "#gene files were generated by \n",
    "cat Pst_E104_v1_p_ctg.anno.RepaseTPSI_filtered.gff3 | awk '$3==\"gene\"' > Pst_E104_v1_p_ctg.gene.RepaseTPSI_filtered.gff3\n",
    "for gff in gene_gff:\n",
    "    gene = ''\n",
    "    gene_df = pd.read_csv(folder + gff, header = None, sep='\\t' )\n",
    "    gene_df[2] = gene_df[8].apply(col_8_id)\n",
    "    gene_df.to_csv(folder+gff, header=None, sep='\\t', index=None)\n",
    "bedtools getfasta -s -name -fi Pst_E104_v1_ph_ctg.fa -bed Pst_E104_v1_ph_ctg.gene.RepaseTPSI_filtered.gff3 -fo Pst_E104_v1_ph_ctg.gene.RepaseTPSI_filtered.fa\n",
    "bedtools getfasta -s -name -bed Pst_E104_v1_h_ctg.gene.RepaseTPSI_filtered.gff3 -fi Pst_E104_v1_h_ctg.fa -fo Pst_E104_v1_h_ctg.gene.RepaseTPSI_filtered.fa"
   ]
  },
  {
   "cell_type": "code",
   "execution_count": 35,
   "metadata": {
    "collapsed": false
   },
   "outputs": [
    {
     "name": "stdout",
     "output_type": "stream",
     "text": [
      "blastn -db Pst_104E_v12_p_ctg.fa -query -Pst_104E_v12_h_ctg.h_genes.no_besties.fa > Pst_104E_v12_h_ctg.h_genes.no_besties.fa.outfmt6\n",
      "blastn -db Pst_104E_v12_h_ctg.fa -query -Pst_104E_v12_p_ctg.p_genes.no_besties.fa > Pst_104E_v12_p_ctg.p_genes.no_besties.fa.outfmt6\n"
     ]
    }
   ],
   "source": [
    "#now pull gene sequences for no-besties and do blast on the corresponding other haplotype\n",
    "\n",
    "no_besties = [x for x in os.listdir(working_dir) if x.endswith('no_besties.txt')]\n",
    "gene_files = [x for x in os.listdir(working_dir) if '.gene.' in x and '.fa' in x]\n",
    "no_besties.sort()\n",
    "gene_files.sort()\n",
    "no_bestie_dict = {}\n",
    "\n",
    "#simply pulls in the gene sequences of missing besties\n",
    "for no_b, gene_file in zip(no_besties, gene_files):\n",
    "    no_bestie_list = pd.read_csv(working_dir+'/'+no_b, header=None, sep='\\t')[0].tolist()\n",
    "    key = no_b.split('.')[0]\n",
    "    no_bestie_dict[key] = no_bestie_list\n",
    "    no_bestie_list = [x.replace('evm.model', 'evm.TU') for x in no_bestie_list]\n",
    "    no_bestie_seq = []\n",
    "    for seq in SeqIO.parse(open(working_dir +'/'+ gene_file), 'fasta'):\n",
    "        if seq.id in no_bestie_list:\n",
    "            no_bestie_seq.append(seq)\n",
    "    out_f = os.path.join(working_dir, no_b[:-3].replace('protein', 'gene') + 'fa')\n",
    "    f_handle = open(out_f,'w') #need to generate handle for writing and\n",
    "    SeqIO.write(no_bestie_seq, f_handle, 'fasta')\n",
    "    f_handle.close() #closing file afterwards again\n",
    "\n",
    "gene_files_no_besties = [x for x in os.listdir(working_dir) if x.endswith('_genes.no_besties.fa')]\n",
    "blast_db_nt = [x for x in os.listdir(working_dir) if x.endswith('_ctg.fa')]\n",
    "gene_files_no_besties.sort()\n",
    "blast_db_nt.sort()\n",
    "\n",
    "os.chdir(working_dir)\n",
    "\n",
    "print('blastn -db %s -query -%s > %s.outfmt6' %(blast_db_nt[1], gene_files_no_besties[0],gene_files_no_besties[0]))\n",
    "!blastn -db {blast_db_nt[1]} -query {gene_files_no_besties[0]}  -outfmt 6 -evalue {g_evalue} -num_threads {n_threads} \\\n",
    "> {gene_files_no_besties[0]}.outfmt6\n",
    "\n",
    "\n",
    "in_file =gene_files_no_besties[0]+'.outfmt6'\n",
    "blast_outfmt6_to_bed(in_file)\n",
    "\n",
    "print('blastn -db %s -query -%s > %s.outfmt6' %(blast_db_nt[0], gene_files_no_besties[1],gene_files_no_besties[1]))\n",
    "!blastn -db {blast_db_nt[0]} -query {gene_files_no_besties[1]}  -outfmt 6 -evalue {g_evalue} -num_threads {n_threads} \\\n",
    "> {gene_files_no_besties[1]}.outfmt6\n",
    "\n",
    "\n",
    "in_file =gene_files_no_besties[1]+'.outfmt6'\n",
    "blast_outfmt6_to_bed(in_file)"
   ]
  },
  {
   "cell_type": "code",
   "execution_count": 38,
   "metadata": {
    "collapsed": false
   },
   "outputs": [
    {
     "name": "stdout",
     "output_type": "stream",
     "text": [
      "Pst_104E_v12_h_ctg.h_proteins.no_filtered_blast_hit.txt\n",
      "Pst_104E_v12_p_ctg.p_proteins.no_filtered_blast_hit.txt\n",
      "blastn -db Pst_104E_v12_p_ctg.fa -query -Pst_104E_v12_h_ctg.h_genes.no_filtered_blast_hit.fa > Pst_104E_v12_h_ctg.h_genes.no_filtered_blast_hit.fa.outfmt6\n",
      "blastn -db Pst_104E_v12_h_ctg.fa -query -Pst_104E_v12_p_ctg.p_genes.no_filtered_blast_hit.fa > Pst_104E_v12_p_ctg.p_genes.no_filtered_blast_hit.fa.outfmt6\n"
     ]
    }
   ],
   "source": [
    "#blast no_filtered_blast_hits genes against opposite haplotyp at the gene level\n",
    "\n",
    "no_filtered_blast = [x for x in os.listdir(working_dir) if x.endswith('no_filtered_blast_hit.txt')]\n",
    "gene_files = [x for x in os.listdir(working_dir) if '.gene.' in x and '.fa' in x]\n",
    "no_filtered_blast.sort()\n",
    "gene_files.sort()\n",
    "no_filtered_blast_dict = {}\n",
    "gene_files = gene_files[:2]\n",
    "\n",
    "#simply pulls in the gene sequences of missing besties\n",
    "for no_b, gene_file in zip(no_filtered_blast, gene_files):\n",
    "    print(no_b)\n",
    "    no_filtered_blast_list = pd.read_csv(working_dir+'/'+no_b, header=None, sep='\\t')[0].tolist()\n",
    "    key = no_b.split('.')[0]\n",
    "    no_filtered_blast_dict[key] = no_filtered_blast_list\n",
    "    no_filtered_blast_list = [x.replace('evm.model', 'evm.TU') for x in no_filtered_blast_list]\n",
    "    no_filtered_blast_seq = []\n",
    "    for seq in SeqIO.parse(open(working_dir + '/'+gene_file), 'fasta'):\n",
    "        if seq.id in no_filtered_blast_list:\n",
    "            no_filtered_blast_seq.append(seq)\n",
    "    out_f = ''\n",
    "    out_f = os.path.join(working_dir, no_b[:-3].replace('protein', 'gene') + 'fa')\n",
    "    f_handle = open(out_f,'w') #need to generate handle for writing and\n",
    "    SeqIO.write(no_filtered_blast_seq, f_handle, 'fasta')\n",
    "    f_handle.close() #closing file afterwards again\n",
    "\n",
    "gene_files_no_filtered_blast = [x for x in os.listdir(working_dir) if x.endswith('_genes.no_filtered_blast_hit.fa')]\n",
    "blast_db_nt = [x for x in os.listdir(working_dir) if x.endswith('_ctg.fa')]\n",
    "gene_files_no_filtered_blast.sort()\n",
    "blast_db_nt.sort()\n",
    "\n",
    "\n",
    "print('blastn -db %s -query -%s > %s.outfmt6' %(blast_db_nt[1], gene_files_no_filtered_blast[0],gene_files_no_filtered_blast[0]))\n",
    "!blastn -db {blast_db_nt[1]} -query {gene_files_no_filtered_blast[0]}  -outfmt 6 -evalue {g_evalue} -num_threads {n_threads} \\\n",
    "> {gene_files_no_filtered_blast[0]}.outfmt6\n",
    "\n",
    "\n",
    "in_file =gene_files_no_filtered_blast[0]+'.outfmt6'\n",
    "blast_outfmt6_to_bed(in_file)\n",
    "\n",
    "print('blastn -db %s -query -%s > %s.outfmt6' %(blast_db_nt[0], gene_files_no_filtered_blast[1],gene_files_no_filtered_blast[1]))\n",
    "!blastn -db {blast_db_nt[0]} -query {gene_files_no_filtered_blast[1]}  -outfmt 6 -evalue {g_evalue} -num_threads {n_threads} \\\n",
    "> {gene_files_no_filtered_blast[1]}.outfmt6\n",
    "\n",
    "\n",
    "in_file =gene_files_no_filtered_blast[1]+'.outfmt6'\n",
    "blast_outfmt6_to_bed(in_file)"
   ]
  },
  {
   "cell_type": "code",
   "execution_count": 44,
   "metadata": {
    "collapsed": false
   },
   "outputs": [
    {
     "name": "stdout",
     "output_type": "stream",
     "text": [
      "670 no_fitered protein blast hits have a nt level blast hit for Pst_104E_v12_p_ctg\n",
      "441 no_fitered protein blast hits have a nt level blast hit for Pst_104E_v12_h_ctg\n"
     ]
    }
   ],
   "source": [
    "#make a dict of df out of the _genes.no_filtered_blast_hit.fa.outfmt6.bed files this can be used later on for\n",
    "#summary purposes and such\n",
    "nfb_gene_blast_bed_df_filtered = [x for x in os.listdir() if x.endswith('no_filtered_blast_hit.fa.outfmt6.bed')]\n",
    "nfb_gene_blast_bed_df_filtered_dict = {}\n",
    "for file in nfb_gene_blast_bed_df_filtered:\n",
    "    key = ''\n",
    "    key = file.split('.')[0]\n",
    "    nfb_gene_blast_bed_df_filtered_dict[key] = pd.read_csv(file, header = None, sep='\\t')\n",
    "    print(\"%i no_fitered protein blast hits have a nt level blast hit for %s\" %(len(nfb_gene_blast_bed_df_filtered_dict[key][3].unique()),key))"
   ]
  },
  {
   "cell_type": "code",
   "execution_count": 46,
   "metadata": {
    "collapsed": false
   },
   "outputs": [
    {
     "name": "stdout",
     "output_type": "stream",
     "text": [
      "This 2046 out of 2495 no_besties of Pst_104E_v12_h_ctg had a blast hit which was not RBH\n",
      "This 170 out of 2495 no_besties of Pst_104E_v12_h_ctg have no blast hit gene vs. other haplome\n",
      "No gene hits that have a protein hit 116 Pst_104E_v12_h_ctg\n",
      "This 2162 out of 4252 no_besties of Pst_104E_v12_p_ctg had a blast hit which was not RBH\n",
      "This 1687 out of 4252 no_besties of Pst_104E_v12_p_ctg have no blast hit gene vs. other haplome\n",
      "No gene hits that have a protein hit 868 Pst_104E_v12_p_ctg\n"
     ]
    }
   ],
   "source": [
    "#here track what happens with the no_besties hit. Do they not have protein blast hits? How many of the no protein \n",
    "#blast hits have not gene blast hit?\n",
    "#this needs to include some folder tracking of gene.no_besties.fa that hits nothing significant \n",
    "#no_bbb in - no_bbb out = no_hits at all\n",
    "no_gene_hits = {}\n",
    "no_besties_blast_nt_bed = [x for x in os.listdir() if x.endswith('no_besties.fa.outfmt6.bed')]\n",
    "no_besties_blast_nt_bed.sort()\n",
    "for no_bbb, protein_blast in zip(no_besties_blast_nt_bed,outfmt6):\n",
    "    no_bbb_no_protein_blast_df =''\n",
    "    no_bbb_df_header = ['Contig', 'start', 'end', 'blast_query', 'e-value', 'strand']\n",
    "    no_bbb_df = pd.read_csv(working_dir+'/'+no_bbb, header=None, names=no_bbb_df_header,  sep='\\t')\n",
    "    protein_blast_df = pd.read_csv(working_dir+'/'+protein_blast, header=None, sep='\\t')\n",
    "    no_bbb_df['protein_id'] = no_bbb_df['blast_query'].str.replace('evm.TU', 'evm.model')\n",
    "    #this below is most likely correct ignores the fact that some no_bbb genes might have hit nothing\n",
    "    #at all on the gene level\n",
    "    no_bbb_no_protein_blast_df = no_bbb_df[~no_bbb_df['protein_id'].isin(protein_blast_df[0])]\n",
    "    #these are the no_besties that didn't hit anything at the gene level\n",
    "    key =''\n",
    "    key = no_bbb.split('.')[0]\n",
    "    no_gene_hits[key] = set(no_bestie_dict[key]) - set(no_bbb_df['protein_id'].unique())\n",
    "    pd.DataFrame(list(no_gene_hits[key])).to_csv(key + '.gene.no_genome_blast_hit.txt', sep='\\t', header=None, index=None)\n",
    "    blast_p_no_bestie =''\n",
    "    blast_p_no_bestie = len(no_bbb_df[no_bbb_df['protein_id'].isin(protein_blast_df[0])]['blast_query'].unique())\n",
    "    print('This %i out of %i no_besties of %s had a blast hit which was not RBH' % \\\n",
    "          (blast_p_no_bestie, len(no_bestie_dict[key]),no_bbb.split('.')[0]))\n",
    "    print('This %i out of %i no_besties of %s have no blast hit gene vs. other haplome' % \\\n",
    "         (len(no_gene_hits[key]),len(no_bestie_dict[key]),no_bbb.split('.')[0]))\n",
    "    print(\"No gene hits that have a protein hit\", len(set(no_gene_hits[key])- set(no_hits[key])), key)\n",
    "    groups = no_bbb_no_protein_blast_df.groupby(by='blast_query')\n",
    "    #now filter the dataframe by the smallest e-value for each group == blast_hit\n",
    "    df_filtered = groups.apply(lambda g: g[g['e-value'] == g['e-value'].min()])\n",
    "    df_filtered = df_filtered.reset_index(drop=True)\n",
    "    df_filtered.iloc[:,0:6].to_csv(working_dir+'/'+no_bbb[:-4]+'.filteredbesthits.bed', sep='\\t', header=None, index=None)"
   ]
  },
  {
   "cell_type": "code",
   "execution_count": 48,
   "metadata": {
    "collapsed": true
   },
   "outputs": [],
   "source": [
    "#all primary proteins no hit need to be split up into pwh and pwoh\n",
    "p_contig_list = []\n",
    "h_contig_list = []\n",
    "for seq in SeqIO.parse(h_contigs, 'fasta'):\n",
    "    h_contig_list.append(seq.id)\n",
    "for seq in SeqIO.parse(p_contigs, 'fasta'):\n",
    "    p_contig_list.append(seq.id)"
   ]
  },
  {
   "cell_type": "code",
   "execution_count": 49,
   "metadata": {
    "collapsed": false
   },
   "outputs": [
    {
     "name": "stdout",
     "output_type": "stream",
     "text": [
      "P_contigs with h_contig are 99 and without 57\n"
     ]
    }
   ],
   "source": [
    "pwh_set = set([x[0:11].replace('h','p') for x in h_contig_list])\n",
    "pwoh_set = set(p_contig_list) - pwh_set\n",
    "print(\"P_contigs with h_contig are %i and without %i\" % (len(pwh_set), len(pwoh_set)))"
   ]
  },
  {
   "cell_type": "code",
   "execution_count": 52,
   "metadata": {
    "collapsed": false
   },
   "outputs": [
    {
     "name": "stdout",
     "output_type": "stream",
     "text": [
      "15303 625 15928\n"
     ]
    }
   ],
   "source": [
    "\n",
    "fa_protein_dict[p_key+'_pwh']= [x for x in fa_protein_dict[p_key] if x.split('.')[2] in pwh_set]\n",
    "fa_protein_dict[p_key+'_pwoh']= [x for x in fa_protein_dict[p_key] if x.split('.')[2] in pwoh_set]\n",
    "print(len(fa_protein_dict[p_key+'_pwh']), len(fa_protein_dict[p_key+'_pwoh']), len (fa_protein_dict[p_key]))\n"
   ]
  },
  {
   "cell_type": "code",
   "execution_count": 61,
   "metadata": {
    "collapsed": false
   },
   "outputs": [
    {
     "name": "stdout",
     "output_type": "stream",
     "text": [
      "For pwh:\n",
      "For this condition Pst_104E_v12_p_ctg.gene.no_genome_blast_hit.txt 1443 proteins out of 15303 (9.43) are affected for pwh\n",
      "For pwoh:\n",
      "For this condition Pst_104E_v12_p_ctg.gene.no_genome_blast_hit.txt 244 proteins out of 625 (39) are affected for pwoh\n",
      "For pwh:\n",
      "For this condition Pst_104E_v12_p_ctg.p_proteins.no_blast_hit.txt 1096 proteins out of 15303 (7.16) are affected for pwh\n",
      "For pwoh:\n",
      "For this condition Pst_104E_v12_p_ctg.p_proteins.no_blast_hit.txt 126 proteins out of 625 (20) are affected for pwoh\n",
      "For pwh:\n",
      "For this condition Pst_104E_v12_p_ctg.p_proteins.no_filtered_blast_hit.txt 1866 proteins out of 15303 (12.19) are affected for pwh\n",
      "For pwoh:\n",
      "For this condition Pst_104E_v12_p_ctg.p_proteins.no_filtered_blast_hit.txt 255 proteins out of 625 (40) are affected for pwoh\n",
      "Lenght of pwoh 79770604, lenght of pwo 3585012, total length p 83355616\n"
     ]
    }
   ],
   "source": [
    "#filter and summarize the p results based on pwh and pwoh \n",
    "p_txt = [x for x in os.listdir(working_dir) if x.split('.')[0] == p_key and x.endswith('.txt')\\\n",
    "        and not 'pwh' in x and not 'pwoh' in x and not x.endswith('besties.txt')]\n",
    "for x in p_txt:\n",
    "    #print(x)\n",
    "    df_p = pd.read_csv(x, header=None, sep='\\t')\n",
    "    #df_p.head()\n",
    "    df_p['pwh'] = df_p[0].apply(pwh_filter)\n",
    "    df_p[df_p['pwh'] == 1].to_csv(x[:-4]+'pwh.txt', sep ='\\t', header=None, index=None)\n",
    "    df_p[df_p['pwh'] == 0].to_csv(x[:-4]+'pwoh.txt', sep ='\\t', header=None, index=None)\n",
    "    print ('For pwh:')\n",
    "    print('For this condition %s %i proteins out of %i (%.2f) are affected for pwh'% \\\n",
    "          (x, sum(df_p['pwh']),len(fa_protein_dict[p_key+'_pwh']), \\\n",
    "           sum(df_p['pwh'])/len(fa_protein_dict[p_key+'_pwh'])*100 ))\n",
    "    print ('For pwoh:')\n",
    "    print('For this condition %s %i proteins out of %i (%i) are affected for pwoh'% \\\n",
    "         (x, len(df_p['pwh']) - sum(df_p['pwh']),len(fa_protein_dict[p_key+'_pwoh']),\\\n",
    "        (len(df_p['pwh']) - sum(df_p['pwh']))/len(fa_protein_dict[p_key+'_pwoh'])*100 ))\n",
    "     \n",
    "\n",
    "\n",
    "len_pwh = 0\n",
    "len_pwoh = 0\n",
    "for seq in SeqIO.parse(p_contigs, 'fasta'):\n",
    "    if seq.id in pwh_set:\n",
    "        len_pwh = len_pwh + len(seq.seq)\n",
    "    if seq.id in pwoh_set:\n",
    "        len_pwoh = len_pwoh + len(seq.seq)\n",
    "print(\"Lenght of pwoh %i, lenght of pwo %i, total length p %i\" %(len_pwh,len_pwoh,len_pwh+len_pwoh ))"
   ]
  },
  {
   "cell_type": "code",
   "execution_count": 63,
   "metadata": {
    "collapsed": false
   },
   "outputs": [
    {
     "name": "stdout",
     "output_type": "stream",
     "text": [
      "This Pst_104E_v12_h_ctg.h_genes.no_filtered_blast_hit.fa.outfmt6.bed is the current bed file being processed\n",
      "441\n",
      "This Pst_104E_v12_p_ctg.p_genes.no_filtered_blast_hit.fa.outfmt6.bed is the current bed file being processed\n",
      "670\n"
     ]
    }
   ],
   "source": [
    "#get the best blast hit gene regions for each protein to do a exonerate alignment late on\n",
    "nfb_gene_blast_bed = [x for x in os.listdir(working_dir) if x.endswith('no_filtered_blast_hit.fa.outfmt6.bed')]\n",
    "nfb_gene_blast_bed.sort()\n",
    "protein_dict_nfb_bhits = {}\n",
    "protein_dict_nfb = {} #get a list of all proteins of nfb that don't have a hit when blasted at the gene level too\n",
    "#get the fasta genome files\n",
    "tmp_genome_files = [x for x in os.listdir() if x.endswith('_ctg.fa')]\n",
    "protein_fa_files = protein_fa\n",
    "for bed_file in nfb_gene_blast_bed:\n",
    "    print('This %s is the current bed file being processed' % (bed_file))\n",
    "    nfb_gene_blast_bed_df =''\n",
    "    nfb_gene_blast_bed_df = pd.read_csv(bed_file, header=None, sep='\\t' )\n",
    "    #now add another column to the dateframe that stats if the hit and query are on the same contig\n",
    "    nfb_gene_blast_bed_df['Same_contig'] = nfb_gene_blast_bed_df[3].combine(nfb_gene_blast_bed_df[0], func=same_contig_blast)\n",
    "    #initialize some temporary df for filtering\n",
    "    tmp_same_contig_df =''\n",
    "    tmp_best_hits_df =''\n",
    "    tmp_groups =''\n",
    "    tmp_best_hits_filtered =''\n",
    "    #get all blast hits that are on the same contig\n",
    "    tmp_same_contig_df = nfb_gene_blast_bed_df[nfb_gene_blast_bed_df['Same_contig'] == True]\n",
    "    #get the best remaining blast hit(s)\n",
    "    tmp_best_hits_df = nfb_gene_blast_bed_df[nfb_gene_blast_bed_df['Same_contig'] == False].sort_values(by=[3,4])\n",
    "    tmp_groups = tmp_best_hits_df.groupby(by=3)\n",
    "    #now filter the dataframe by the smallest e-value for each group == Query/3\n",
    "    tmp_best_hits_df_filtered = tmp_groups.apply(lambda g: g[g[4] == g[4].min()]) \n",
    "    tmp_best_hits_df_filtered = tmp_best_hits_df_filtered.reset_index(drop=True)\n",
    "    nfb_gene_blast_bed_df_filtered = ''\n",
    "    nfb_gene_blast_bed_df_filtered = pd.concat([tmp_best_hits_df_filtered, tmp_same_contig_df]).sort_values(by=[3,4]).reset_index(drop=True)\n",
    "    #now get the loop through the df. pull out the protein sequences and corresponding hits. save them to new folders.\n",
    "    #extend the script. \n",
    "    #get all the blasted sequences that had a hit == unique querries\n",
    "    tmp_queries = ''\n",
    "    tmp_queries = nfb_gene_blast_bed_df_filtered[3].unique()\n",
    "    #get all the protein sequences in a dictionary with protein ID being the key and the values being a SeqIO object\n",
    "    #get the fasta genome files\n",
    "    tmp_genome_file = [x for x in tmp_genome_files if not x.startswith(bed_file.split('.')[0])][0]\n",
    "    genome_fa = ''\n",
    "    genome_fa = pysam.FastaFile(tmp_genome_file)\n",
    "    tmp_queries_id = [x.replace('TU', 'model') for x in tmp_queries]\n",
    "    tmp_protein_fa_file = [x for x in protein_fa_files if x.startswith(bed_file.split('.')[0])][0]\n",
    "    for seq in SeqIO.parse(open(tmp_protein_fa_file), 'fasta'):\n",
    "            if seq.id in tmp_queries_id:\n",
    "                protein_dict_nfb[seq.id] = seq\n",
    "    #add this tmp_protein_dict_nfb to the full protein dict to keep track\n",
    "    #check why only one file gets processed.\n",
    "    \n",
    "    \n",
    "    #make a dict that gets the blast hit sequences in +30kb each side for alignments of protein sequences on top of them. \n",
    "    #The value of this dict will be a list of SeqIO objects\n",
    "    \n",
    "    tmp_list = [] #tmp_list to save the SeqIO objects for the blast hits in\n",
    "    print(len(tmp_queries))\n",
    "    for query in tmp_queries:\n",
    "        #print(query)\n",
    "        tmp_list = []\n",
    "        tmp_df = nfb_gene_blast_bed_df_filtered[nfb_gene_blast_bed_df_filtered[3] == query]\n",
    "        #do groupby instead here on columns one. Take min of column 1 and max of column 2 as start/stop +-\n",
    "        #this avoids to mess around with mutliple hits on the same contig\n",
    "        tmp_hit = tmp_df[0].unique()\n",
    "        for hit in tmp_hit:\n",
    "            tmp_df_2 = tmp_df[tmp_df[0] == hit]\n",
    "            start = tmp_df_2[1].min() - 30000\n",
    "            if start < 1:\n",
    "                start = 1\n",
    "            end = tmp_df_2[2].max() + 30000\n",
    "            seq = genome_fa.fetch(hit, start, end)\n",
    "            seq_r = '' #initialize empty SeqIO record\n",
    "            seq_id = hit + '_' + str(start) + '_' + str(end)\n",
    "            seq_ob = Seq(seq)\n",
    "            seq_ob.alphabet = 'fasta'\n",
    "            seq_r = SeqRecord(seq_ob)\n",
    "            seq_r.id = seq_id\n",
    "            tmp_list.append(seq_r)\n",
    "        protein_dict_nfb_bhits[query] = tmp_list"
   ]
  },
  {
   "cell_type": "code",
   "execution_count": 64,
   "metadata": {
    "collapsed": true
   },
   "outputs": [],
   "source": [
    "#generate a dicts for the summary dataframes for no_filtered_blast_hits\n",
    "no_filtered_blast_sdf = {}\n",
    "keys = no_filtered_blast_dict.keys()\n",
    "for key in keys:\n",
    "    tmp_df = ''\n",
    "    tmp_df = pd.DataFrame.from_dict(no_filtered_blast_dict[key])\n",
    "    tmp_df.rename(columns={0:'gene_model'}, inplace = True)\n",
    "    no_filtered_blast_sdf[key] = tmp_df\n",
    "\n",
    "#now add the length column to the data frame by using the fa_protein_length_dict \n",
    "for key in keys:\n",
    "    tmp_length_df = ''\n",
    "    tmp_length_df = pd.DataFrame.from_dict(fa_protein_length_dict[key], orient='index')\n",
    "    tmp_length_df['gene_model'] = tmp_length_df.index\n",
    "    tmp_length_df.reset_index(inplace=True, drop=True)\n",
    "    tmp_length_df.rename(columns={0:'protein_length'}, inplace=True)\n",
    "    tmp_length_df = tmp_length_df[tmp_length_df['gene_model'].isin(no_filtered_blast_sdf[key]['gene_model'])]\n",
    "    tmp_length_df.reset_index(inplace=True, drop = True)\n",
    "    no_filtered_blast_sdf[key] = pd.merge(tmp_length_df, no_filtered_blast_sdf[key])\n",
    "\n",
    "#now add colum to the dataframe if or no the protein had a gene blast hit\n",
    "for key in keys:\n",
    "    tmp_gene_hit_df = ''\n",
    "    #get the right df from no_filtered_gene_blast_hits\n",
    "    tmp_gene_hit_df = nfb_gene_blast_bed_df_filtered_dict[key]\n",
    "    #make a true false series if gene_models are having a blast hit\n",
    "    tmp_gene_hit_bol_series = no_filtered_blast_sdf[key]['gene_model'].isin(tmp_gene_hit_df[3].str.replace('TU', 'model'))\n",
    "    no_filtered_blast_sdf[key]['gene_hit'] = tmp_gene_hit_bol_series"
   ]
  },
  {
   "cell_type": "code",
   "execution_count": 65,
   "metadata": {
    "collapsed": true
   },
   "outputs": [],
   "source": [
    "os.chdir(working_dir)"
   ]
  },
  {
   "cell_type": "code",
   "execution_count": null,
   "metadata": {
    "collapsed": true
   },
   "outputs": [],
   "source": [
    "#now loop over the dicts protein_dict_nfb_bhits and protein_dict_nfb with the keys and print out the sequences in a \n",
    "#new folder for each hit and write a script for this later\n",
    "#exonerate folder initially was based on each blast hit form blast previously using interrow over the tmp_df above. \n",
    "#in some cases this lead to hundreds of hits on the same contig often in close proximity. This has been reduced \n",
    "#to one selected contig sequence per hit."
   ]
  },
  {
   "cell_type": "code",
   "execution_count": 66,
   "metadata": {
    "collapsed": false
   },
   "outputs": [],
   "source": [
    "#make new folder for exonerate\n",
    "working_dir = os.path.abspath(working_dir)\n",
    "exonerate_folder = os.path.join(working_dir, 'exonerate')\n",
    "if not os.path.exists(exonerate_folder):\n",
    "    os.mkdir(exonerate_folder)\n",
    "protein_keys = [x.replace('TU', 'model') for x in protein_dict_nfb_bhits.keys()]\n",
    "for key in protein_keys:\n",
    "    new_folder = os.path.join(exonerate_folder, key)\n",
    "    if not os.path.exists(new_folder):\n",
    "        os.mkdir(new_folder)\n",
    "    os.chdir(new_folder)\n",
    "    out_p_f = open(key+'.fa', 'w')\n",
    "    SeqIO.write(protein_dict_nfb[key], out_p_f, 'fasta')\n",
    "    out_p_f.close()\n",
    "    p_key = key.replace('model', 'TU')\n",
    "    for seq in protein_dict_nfb_bhits[p_key]:\n",
    "        out_t_f = open(seq.id + '.fa', 'w')\n",
    "        SeqIO.write(seq, out_t_f, 'fasta')\n",
    "        out_t_f.close()\n",
    "    os.chdir(working_dir)\n",
    "    "
   ]
  },
  {
   "cell_type": "code",
   "execution_count": 67,
   "metadata": {
    "collapsed": false
   },
   "outputs": [],
   "source": [
    "#make write exonerate script\n",
    "working_dir = os.path.abspath(working_dir)\n",
    "os.chdir(working_dir)\n",
    "protein_keys = [x.replace('TU', 'model') for x in protein_dict_nfb_bhits.keys()]\n",
    "out_exonerate = open('exonerate_alignments_vulgar.sh', 'w')\n",
    "out_exonerate.write('#!/bin/bash\\n')\n",
    "for key in protein_keys:\n",
    "    new_folder = os.path.join(exonerate_folder, key)\n",
    "    protein_file_name = key+'.fa'\n",
    "    p_key = key.replace('model', 'TU')\n",
    "    out_exonerate.write('cd %s\\n'% (new_folder))\n",
    "    for seq in protein_dict_nfb_bhits[p_key]:\n",
    "        target_file_name = seq.id + '.fa'\n",
    "        out_exonerate.write('exonerate --model protein2genome --percent 20 -q %s -t %s --showalignment False -S > %s.vulgar_exn\\n'\\\n",
    "                           %(protein_file_name, target_file_name,target_file_name ))\n",
    "out_exonerate.write('cd %s\\n' %(working_dir))\n",
    "out_exonerate.close()\n",
    "os.chdir(working_dir)"
   ]
  },
  {
   "cell_type": "code",
   "execution_count": 70,
   "metadata": {
    "collapsed": false
   },
   "outputs": [],
   "source": [
    "!bash exonerate_alignments_vulgar.sh"
   ]
  },
  {
   "cell_type": "code",
   "execution_count": null,
   "metadata": {
    "collapsed": true
   },
   "outputs": [],
   "source": [
    "#! bash exonerate_alignments_vulgar2.sh"
   ]
  },
  {
   "cell_type": "code",
   "execution_count": 71,
   "metadata": {
    "collapsed": true
   },
   "outputs": [],
   "source": [
    "#make write exonerate script\n",
    "working_dir = os.path.abspath(working_dir)\n",
    "os.chdir(working_dir)\n",
    "protein_keys = [x.replace('TU', 'model') for x in protein_dict_nfb_bhits.keys()]\n",
    "out_exonerate = open('exonerate_alignments.sh', 'w')\n",
    "out_exonerate.write('#!/bin/bash\\n')\n",
    "for key in protein_keys:\n",
    "    new_folder = os.path.join(exonerate_folder, key)\n",
    "    protein_file_name = key+'.fa'\n",
    "    p_key = key.replace('model', 'TU')\n",
    "    out_exonerate.write('cd %s\\n'% (new_folder))\n",
    "    for seq in protein_dict_nfb_bhits[p_key]:\n",
    "        target_file_name = seq.id + '.fa'\n",
    "        out_exonerate.write('exonerate --model protein2genome --percent 20 -q %s -t %s --showalignment -S > %s.exn\\n'\\\n",
    "                           %(protein_file_name, target_file_name,target_file_name ))\n",
    "out_exonerate.write('cd %s\\n' %(working_dir))\n",
    "out_exonerate.close()\n",
    "os.chdir(working_dir)"
   ]
  },
  {
   "cell_type": "code",
   "execution_count": null,
   "metadata": {
    "collapsed": true
   },
   "outputs": [],
   "source": [
    "#!bash exonerate_alignments.sh"
   ]
  },
  {
   "cell_type": "code",
   "execution_count": 83,
   "metadata": {
    "collapsed": false
   },
   "outputs": [],
   "source": [
    "#no loop through the exonerate vulgar result and generate a dictionray of the results\n",
    "#if hsps query range == (0, query_length) and not F in .vulgar_comp it is likely that the alignment is actually good\n",
    "#and and the gene model might have been dropped for another reason\n",
    "working_dir = os.path.abspath(working_dir)\n",
    "exonerate_folder = os.path.join(working_dir, 'exonerate')\n",
    "protein_keys = [x.replace('TU', 'model') for x in protein_dict_nfb_bhits.keys()]\n",
    "#a dict that has the gene model as key and the results of exonerate (True/False) as value.\n",
    "exonerate_dict = {}\n",
    "exonerate_best_hit_dict = {}\n",
    "#now loop through the exonerate folders\n",
    "for key in protein_keys:\n",
    "    new_folder = os.path.join(exonerate_folder, key)\n",
    "    os.chdir(new_folder)\n",
    "    if key.split('.')[2].startswith('h'):\n",
    "        query_length = fa_protein_length_dict[h_key][key]\n",
    "    else:\n",
    "        query_length = fa_protein_length_dict[p_key][key]\n",
    "    counter = 0\n",
    "    vulgar_exn = [x for x in os.listdir() if x.endswith('vulgar_exn')]\n",
    "    opt_query_range = (0, query_length)\n",
    "    #loop through vulgar parser and see if hit is \n",
    "    best_score = 0\n",
    "    best_hit = ''\n",
    "    for fname in vulgar_exn:\n",
    "        result = SearchIO.parse(fname, 'exonerate-vulgar') \n",
    "        for hit in result:\n",
    "            #loop through all hsps hits\n",
    "            for hsps in hit.hsps:\n",
    "                hsps_range = hsps.query_range\n",
    "                vulgar_list = hsps.vulgar_comp.strip(' ').split(' ')\n",
    "                #print(hsps_range, vulgar_list)\n",
    "                #this is the contition for something being a potential protein alignment that\n",
    "                #has been left out\n",
    "                if hsps_range == opt_query_range and 'F' not in vulgar_list:\n",
    "                    counter += 1\n",
    "                    if hsps.score > best_score:\n",
    "                        best_hit = hsps.hit_id\n",
    "                    #print(key)\n",
    "    if counter > 0:\n",
    "        exonerate_dict[key] = True\n",
    "        exonerate_best_hit_dict[key] = best_hit\n",
    "    else:\n",
    "        exonerate_dict[key] = False\n",
    "    \n",
    "    os.chdir(working_dir)"
   ]
  },
  {
   "cell_type": "code",
   "execution_count": 84,
   "metadata": {
    "collapsed": false
   },
   "outputs": [],
   "source": [
    "#now add colum to the dataframe if or not a protein sequence could be aligned back to the gene blast hit using exonerate\n",
    "#plus a column that describes the best exonerate hit\n",
    "keys = no_filtered_blast_dict.keys()\n",
    "for key in keys:\n",
    "    #pull in the two exonerate df to be combined with the no_filtered_blast_sdf dataframe\n",
    "    tmp_exonerate_dict_df = pd.DataFrame.from_dict(exonerate_dict, orient='index')\n",
    "    tmp_exonerate_dict_df['gene_model'] = tmp_exonerate_dict_df.index\n",
    "    tmp_exonerate_dict_df.rename(columns={0:'exonerate_hit'}, inplace=True)\n",
    "    tmp_exonerate_dict_df.reset_index(inplace=True, drop=True)\n",
    "    tmp_exonerate_best_hit_dict_df = pd.DataFrame.from_dict(exonerate_best_hit_dict, orient='index')\n",
    "    tmp_exonerate_best_hit_dict_df['gene_model'] = tmp_exonerate_best_hit_dict_df.index\n",
    "    tmp_exonerate_best_hit_dict_df.rename(columns={0:'exonerate_best_hit'}, inplace=True)\n",
    "    tmp_exonerate_best_hit_dict_df.reset_index(inplace=True, drop=True)\n",
    "    tmp_exonerate_df = pd.merge(tmp_exonerate_best_hit_dict_df,tmp_exonerate_dict_df)  #same length so no out neccessary\n",
    "    tmp_exonerate_df.reset_index(inplace=True, drop=True)\n",
    "    if 'h_ctg' in key:\n",
    "        tmp_exonerate_df = tmp_exonerate_df[tmp_exonerate_df.gene_model.str.contains('hcontig')]\n",
    "    else:\n",
    "        tmp_exonerate_df =tmp_exonerate_df[tmp_exonerate_df.gene_model.str.contains('pcontig')]\n",
    "    tmp_exonerate_df.reset_index(inplace=True, drop=True)\n",
    "    no_filtered_blast_sdf[key]= pd.merge( no_filtered_blast_sdf[key],tmp_exonerate_df, how='outer').fillna(value=False)"
   ]
  },
  {
   "cell_type": "code",
   "execution_count": 85,
   "metadata": {
    "collapsed": true
   },
   "outputs": [],
   "source": [
    "#add another column for genes being on pwh or not\n",
    "for key in keys:\n",
    "    df_p['pwh'] = df_p[0].apply(pwh_filter)\n",
    "    no_filtered_blast_sdf[key]['pwh'] = no_filtered_blast_sdf[key]['gene_model'].apply(pwh_filter)"
   ]
  },
  {
   "cell_type": "code",
   "execution_count": 86,
   "metadata": {
    "collapsed": false
   },
   "outputs": [],
   "source": [
    "#now save the dataframes for now\n",
    "for key in keys:\n",
    "    filename = key + '.no_filtered_blast_sdf.tab'\n",
    "    no_filtered_blast_sdf[key].to_csv(filename, index=None, sep='\\t')"
   ]
  },
  {
   "cell_type": "code",
   "execution_count": null,
   "metadata": {
    "collapsed": false
   },
   "outputs": [],
   "source": [
    "#next step is to get the gffs for all the the no_filtered blast hits for both p and h contigs that do not have a exonerate-hit\n",
    "#in case of the p contigs these need to be compared to the unqie bed dataframes using pybed tools\n",
    "\n",
    "#pull in gff dataframe and parse out gene model into a new column use this column for filtering down the dataframe\n",
    "#write this out again and load as bedfile\n",
    "\n",
    "\n",
    "\n",
    "\n",
    "\n"
   ]
  },
  {
   "cell_type": "code",
   "execution_count": 88,
   "metadata": {
    "collapsed": false
   },
   "outputs": [],
   "source": [
    "#read in gene annotation gff files for downstream analysis\n",
    "gene_anno_gffs = [x for x in os.listdir(working_dir) if x.endswith('anno.gff3') ]\n",
    "gene_anno_gff_dict = {}\n",
    "for file in gene_anno_gffs:\n",
    "    full_file_path = os.path.join(working_dir, file)\n",
    "    tmp_df =  pd.read_csv(full_file_path, header=None, sep='\\t')\n",
    "    tmp_df['gene_model'] = tmp_df[8].apply(col_8_id)\n",
    "    gene_anno_gff_dict[file.split('.')[0].replace('11', '1')] =  tmp_df"
   ]
  },
  {
   "cell_type": "code",
   "execution_count": 89,
   "metadata": {
    "collapsed": false
   },
   "outputs": [],
   "source": [
    "#filter gene annotation gff files for downstream analysis and save to file\n",
    "os.chdir(working_dir)\n",
    "keys = no_filtered_blast_sdf.keys()\n",
    "no_filtered_blast_gffs_plus = {}\n",
    "for key in keys:\n",
    "    tmp_df_gff = ''\n",
    "    tm_df_nfb = ''\n",
    "    tmp_df = ''\n",
    "    tmp_df_gff = gene_anno_gff_dict[key]\n",
    "    tmp_df_nfb = no_filtered_blast_sdf[key]\n",
    "    tmp_df = tmp_df_gff[tmp_df_gff['gene_model'].isin(tmp_df_nfb['gene_model'].tolist())]\n",
    "    tmp_df.reset_index(inplace=True, drop=True)\n",
    "    no_filtered_blast_gffs_plus[key] = tmp_df\n",
    "    file_name = key+'.anno.no_filtered_blast.gff3'\n",
    "    no_filtered_blast_gffs_plus[key].iloc[:,range(0,9)].to_csv(file_name, header=None, sep='\\t', index=None)\n",
    "    gene_file_name = key+'.gene.no_filtered_blast.gff3'\n",
    "    no_filtered_blast_gffs_plus[key][no_filtered_blast_gffs_plus[key][2] == 'gene'].iloc[:,range(0,9)].to_csv(gene_file_name, header=None, sep='\\t', index=None)\n",
    "    tmp_df_gff = ''\n",
    "    tm_df_nfb = ''\n",
    "    tmp_df = ''"
   ]
  },
  {
   "cell_type": "code",
   "execution_count": 90,
   "metadata": {
    "collapsed": false
   },
   "outputs": [],
   "source": [
    "#now lead into the  Pst_E104_v1_p_ctg.gene.no_filtered_blast.gff3 and the Pst_E104_v1_ph_ctg.ph_p_homo_cov.bed as \n",
    "#bed files and do an intersect\n",
    "cov_folder = '/home/benjamin/genome_assembly/PST79/FALCON/p_assemblies/v9_1/Pst_E104_v1/COV'\n",
    "homo_cov_ph_p = 'Pst_E104_v1_ph_ctg.ph_p_homo_cov.bed'\n",
    "homo_cov_ph_p_bed = BedTool(os.path.join(cov_folder, homo_cov_ph_p))"
   ]
  },
  {
   "cell_type": "code",
   "execution_count": 92,
   "metadata": {
    "collapsed": false
   },
   "outputs": [],
   "source": [
    "#read in no blast hit gene gff of primary contigs \n",
    "no_filtered_blast_gene_p = p_key+'.gene.no_filtered_blast.gff3'\n",
    "no_filtered_blast_gene_p_bed = BedTool(os.path.join(working_dir, no_filtered_blast_gene_p))"
   ]
  },
  {
   "cell_type": "code",
   "execution_count": 93,
   "metadata": {
    "collapsed": false
   },
   "outputs": [],
   "source": [
    "#get the id of all genes of no filtered blast hits that overlap at all with homo coverage of ph mapping on p\n",
    "gene_ids_ph_p_homo = []\n",
    "for x in no_filtered_blast_gene_p_bed.intersect(homo_cov_ph_p_bed):\n",
    "    y = col_8_id(x[8])\n",
    "    gene_ids_ph_p_homo.append(y)"
   ]
  },
  {
   "cell_type": "code",
   "execution_count": 96,
   "metadata": {
    "collapsed": false
   },
   "outputs": [],
   "source": [
    "#now filter the no_filtered_blast_gffs_plus_p and save the data frame as gff file again\n",
    "no_filtered_blast_gffs_plus_p = no_filtered_blast_gffs_plus[p_key]\n",
    "no_filtered_blast_gffs_plus_p[~no_filtered_blast_gffs_plus_p['gene_model'].isin(gene_ids_ph_p_homo)]\n",
    "no_filtered_blast_gffs_plus_p_no_homo = no_filtered_blast_gffs_plus_p[~no_filtered_blast_gffs_plus_p['gene_model'].isin(gene_ids_ph_p_homo)]\n",
    "no_filtered_blast_gffs_plus_p_no_homo.iloc[:,range(0,9)].to_csv\\\n",
    "(p_key+'.anno.no_filtered_blast.no_homo.gff3', header=None, sep='\\t', index=None)"
   ]
  },
  {
   "cell_type": "code",
   "execution_count": 97,
   "metadata": {
    "collapsed": true
   },
   "outputs": [],
   "source": [
    "#add new column to the summary dataframe that looks for ph_h_homo coverage (this is actually only true for contigs with \n",
    "# mean coverage < 2000)\n",
    "tmp_nfb_sdf_p = no_filtered_blast_sdf[p_key]\n",
    "tmp_homo_p_series = tmp_nfb_sdf_p['gene_model'].isin(gene_ids_ph_p_homo)\n",
    "tmp_nfb_sdf_p['ph_p_homo_cov'] = tmp_homo_p_series\n",
    "no_filtered_blast_sdf[p_key] = tmp_nfb_sdf_p\n",
    "filename = p_key + '.no_filtered_blast_sdf.tab'\n",
    "no_filtered_blast_sdf[p_key].to_csv(filename, index=None, sep='\\t')"
   ]
  },
  {
   "cell_type": "code",
   "execution_count": 127,
   "metadata": {
    "collapsed": false
   },
   "outputs": [],
   "source": [
    "#write out the unique protein and gene files\n",
    "p_unique_genes =[]\n",
    "p_unique_proteins =[]\n",
    "p_unique_protein_ids =p_no_blast[(p_no_blast['exonerate_hit'] == False)&(p_no_blast['ph_p_homo_cov']==False)]['gene_model'].unique().tolist()\n",
    "p_unique_gene_ids = [x.replace('model', 'TU') for x in p_unique_protein_ids]\n",
    "for x in gene_files:\n",
    "    if 'p_ctg' in x:\n",
    "        for seq in SeqIO.parse(x, 'fasta'):\n",
    "            if seq.id in p_unique_gene_ids:\n",
    "                p_unique_genes.append(seq)\n",
    "        file_name = p_key + '.gene.unique.fa'\n",
    "        f_out = open(file_name, 'w')\n",
    "        SeqIO.write(p_unique_genes, f_out, 'fasta')\n",
    "        f_out.close()\n",
    "for x in protein_fa:\n",
    "    if 'p_ctg' in x:\n",
    "        for seq in SeqIO.parse(x, 'fasta'):\n",
    "            if seq.id in p_unique_protein_ids:\n",
    "                p_unique_proteins.append(seq)\n",
    "        file_name = p_key + '.protein.unique.fa'\n",
    "        f_out = open(file_name, 'w')\n",
    "        SeqIO.write(p_unique_proteins, f_out, 'fasta')\n",
    "        f_out.close()"
   ]
  },
  {
   "cell_type": "code",
   "execution_count": 128,
   "metadata": {
    "collapsed": true
   },
   "outputs": [],
   "source": [
    "#write out the unique protein and gene files\n",
    "h_unique_genes =[]\n",
    "h_unique_proteins =[]\n",
    "h_unique_protein_ids =h_no_blast[(h_no_blast['exonerate_hit'] == False)]['gene_model'].unique().tolist()\n",
    "h_unique_gene_ids = [x.replace('model', 'TU') for x in h_unique_protein_ids]\n",
    "for x in gene_files:\n",
    "    if 'h_ctg' in x:\n",
    "        for seq in SeqIO.parse(x, 'fasta'):\n",
    "            if seq.id in h_unique_gene_ids:\n",
    "                h_unique_genes.append(seq)\n",
    "        file_name = h_key + '.gene.unique.fa'\n",
    "        f_out = open(file_name, 'w')\n",
    "        SeqIO.write(h_unique_genes, f_out, 'fasta')\n",
    "        f_out.close()\n",
    "for x in protein_fa:\n",
    "    if 'h_ctg' in x:\n",
    "        for seq in SeqIO.parse(x, 'fasta'):\n",
    "            if seq.id in h_unique_protein_ids:\n",
    "                h_unique_proteins.append(seq)\n",
    "        file_name = h_key + '.protein.unique.fa'\n",
    "        f_out = open(file_name, 'w')\n",
    "        SeqIO.write(h_unique_proteins, f_out, 'fasta')\n",
    "        f_out.close()"
   ]
  },
  {
   "cell_type": "code",
   "execution_count": 123,
   "metadata": {
    "collapsed": false
   },
   "outputs": [
    {
     "data": {
      "text/plain": [
       "['Pst_104E_v12_h_ctg.anno.protein.fa', 'Pst_104E_v12_p_ctg.anno.protein.fa']"
      ]
     },
     "execution_count": 123,
     "metadata": {},
     "output_type": "execute_result"
    }
   ],
   "source": [
    "protein_fa"
   ]
  },
  {
   "cell_type": "markdown",
   "metadata": {},
   "source": [
    "## up to here looks good consider that high cov contigs are not filtered out yet"
   ]
  },
  {
   "cell_type": "code",
   "execution_count": 115,
   "metadata": {
    "collapsed": false
   },
   "outputs": [
    {
     "data": {
      "text/plain": [
       "['evm.model.pcontig_049.127',\n",
       " 'evm.model.pcontig_042.207',\n",
       " 'evm.model.pcontig_023.9',\n",
       " 'evm.model.pcontig_007.363',\n",
       " 'evm.model.pcontig_088.13',\n",
       " 'evm.model.pcontig_001.154',\n",
       " 'evm.model.pcontig_001.364',\n",
       " 'evm.model.pcontig_021.200',\n",
       " 'evm.model.pcontig_014.94',\n",
       " 'evm.model.pcontig_051.8',\n",
       " 'evm.model.pcontig_060.2',\n",
       " 'evm.model.pcontig_080.31',\n",
       " 'evm.model.pcontig_070.52',\n",
       " 'evm.model.pcontig_005.337',\n",
       " 'evm.model.pcontig_100.44',\n",
       " 'evm.model.pcontig_035.42',\n",
       " 'evm.model.pcontig_049.84',\n",
       " 'evm.model.pcontig_010.11',\n",
       " 'evm.model.pcontig_086.47',\n",
       " 'evm.model.pcontig_080.60',\n",
       " 'evm.model.pcontig_009.31',\n",
       " 'evm.model.pcontig_084.42',\n",
       " 'evm.model.pcontig_091.53',\n",
       " 'evm.model.pcontig_086.50',\n",
       " 'evm.model.pcontig_043.27',\n",
       " 'evm.model.pcontig_003.32',\n",
       " 'evm.model.pcontig_067.101',\n",
       " 'evm.model.pcontig_075.45',\n",
       " 'evm.model.pcontig_075.59',\n",
       " 'evm.model.pcontig_007.461',\n",
       " 'evm.model.pcontig_028.195',\n",
       " 'evm.model.pcontig_013.3',\n",
       " 'evm.model.pcontig_056.78',\n",
       " 'evm.model.pcontig_065.129',\n",
       " 'evm.model.pcontig_006.494',\n",
       " 'evm.model.pcontig_003.166',\n",
       " 'evm.model.pcontig_018.6',\n",
       " 'evm.model.pcontig_115.16',\n",
       " 'evm.model.pcontig_188.9',\n",
       " 'evm.model.pcontig_000.120',\n",
       " 'evm.model.pcontig_091.47',\n",
       " 'evm.model.pcontig_046.2',\n",
       " 'evm.model.pcontig_025.179',\n",
       " 'evm.model.pcontig_073.56',\n",
       " 'evm.model.pcontig_089.54',\n",
       " 'evm.model.pcontig_018.229',\n",
       " 'evm.model.pcontig_005.106',\n",
       " 'evm.model.pcontig_067.97',\n",
       " 'evm.model.pcontig_010.357',\n",
       " 'evm.model.pcontig_049.68',\n",
       " 'evm.model.pcontig_072.30',\n",
       " 'evm.model.pcontig_005.334',\n",
       " 'evm.model.pcontig_018.12',\n",
       " 'evm.model.pcontig_017.271',\n",
       " 'evm.model.pcontig_138.8',\n",
       " 'evm.model.pcontig_112.2',\n",
       " 'evm.model.pcontig_031.32',\n",
       " 'evm.model.pcontig_009.348',\n",
       " 'evm.model.pcontig_082.6',\n",
       " 'evm.model.pcontig_090.4',\n",
       " 'evm.model.pcontig_066.48',\n",
       " 'evm.model.pcontig_022.64',\n",
       " 'evm.model.pcontig_042.197',\n",
       " 'evm.model.pcontig_035.209',\n",
       " 'evm.model.pcontig_005.324',\n",
       " 'evm.model.pcontig_170.9',\n",
       " 'evm.model.pcontig_016.209',\n",
       " 'evm.model.pcontig_203.7',\n",
       " 'evm.model.pcontig_072.88',\n",
       " 'evm.model.pcontig_007.446',\n",
       " 'evm.model.pcontig_080.76',\n",
       " 'evm.model.pcontig_115.5',\n",
       " 'evm.model.pcontig_013.32',\n",
       " 'evm.model.pcontig_044.7',\n",
       " 'evm.model.pcontig_016.3',\n",
       " 'evm.model.pcontig_042.98',\n",
       " 'evm.model.pcontig_074.80',\n",
       " 'evm.model.pcontig_010.258',\n",
       " 'evm.model.pcontig_166.3',\n",
       " 'evm.model.pcontig_009.147',\n",
       " 'evm.model.pcontig_040.20',\n",
       " 'evm.model.pcontig_070.93',\n",
       " 'evm.model.pcontig_049.121',\n",
       " 'evm.model.pcontig_027.18',\n",
       " 'evm.model.pcontig_068.79',\n",
       " 'evm.model.pcontig_080.65',\n",
       " 'evm.model.pcontig_138.10',\n",
       " 'evm.model.pcontig_007.133',\n",
       " 'evm.model.pcontig_040.22',\n",
       " 'evm.model.pcontig_027.10',\n",
       " 'evm.model.pcontig_034.230',\n",
       " 'evm.model.pcontig_009.24',\n",
       " 'evm.model.pcontig_006.5',\n",
       " 'evm.model.pcontig_189.7',\n",
       " 'evm.model.pcontig_042.206',\n",
       " 'evm.model.pcontig_104.13',\n",
       " 'evm.model.pcontig_033.18',\n",
       " 'evm.model.pcontig_068.26',\n",
       " 'evm.model.pcontig_008.7',\n",
       " 'evm.model.pcontig_110.20',\n",
       " 'evm.model.pcontig_000.128',\n",
       " 'evm.model.pcontig_090.11',\n",
       " 'evm.model.pcontig_086.46',\n",
       " 'evm.model.pcontig_018.11',\n",
       " 'evm.model.pcontig_049.146',\n",
       " 'evm.model.pcontig_087.7',\n",
       " 'evm.model.pcontig_100.19',\n",
       " 'evm.model.pcontig_018.13',\n",
       " 'evm.model.pcontig_089.6',\n",
       " 'evm.model.pcontig_049.63',\n",
       " 'evm.model.pcontig_005.377',\n",
       " 'evm.model.pcontig_140.1',\n",
       " 'evm.model.pcontig_035.215',\n",
       " 'evm.model.pcontig_097.23',\n",
       " 'evm.model.pcontig_040.25',\n",
       " 'evm.model.pcontig_103.36',\n",
       " 'evm.model.pcontig_073.50',\n",
       " 'evm.model.pcontig_067.59',\n",
       " 'evm.model.pcontig_020.245',\n",
       " 'evm.model.pcontig_015.4',\n",
       " 'evm.model.pcontig_035.9',\n",
       " 'evm.model.pcontig_087.39',\n",
       " 'evm.model.pcontig_078.37',\n",
       " 'evm.model.pcontig_045.44',\n",
       " 'evm.model.pcontig_060.16',\n",
       " 'evm.model.pcontig_078.38',\n",
       " 'evm.model.pcontig_009.152',\n",
       " 'evm.model.pcontig_070.121',\n",
       " 'evm.model.pcontig_037.11',\n",
       " 'evm.model.pcontig_104.31',\n",
       " 'evm.model.pcontig_010.14',\n",
       " 'evm.model.pcontig_027.9',\n",
       " 'evm.model.pcontig_045.178',\n",
       " 'evm.model.pcontig_008.8',\n",
       " 'evm.model.pcontig_095.10',\n",
       " 'evm.model.pcontig_014.102',\n",
       " 'evm.model.pcontig_025.38',\n",
       " 'evm.model.pcontig_022.62',\n",
       " 'evm.model.pcontig_089.2',\n",
       " 'evm.model.pcontig_073.17',\n",
       " 'evm.model.pcontig_025.25',\n",
       " 'evm.model.pcontig_092.1',\n",
       " 'evm.model.pcontig_009.155',\n",
       " 'evm.model.pcontig_004.440',\n",
       " 'evm.model.pcontig_084.41',\n",
       " 'evm.model.pcontig_163.2',\n",
       " 'evm.model.pcontig_005.6',\n",
       " 'evm.model.pcontig_130.22',\n",
       " 'evm.model.pcontig_174.16',\n",
       " 'evm.model.pcontig_037.19',\n",
       " 'evm.model.pcontig_035.6',\n",
       " 'evm.model.pcontig_075.21',\n",
       " 'evm.model.pcontig_204.6',\n",
       " 'evm.model.pcontig_042.208',\n",
       " 'evm.model.pcontig_068.9',\n",
       " 'evm.model.pcontig_016.85',\n",
       " 'evm.model.pcontig_011.291',\n",
       " 'evm.model.pcontig_106.23',\n",
       " 'evm.model.pcontig_014.175',\n",
       " 'evm.model.pcontig_074.51',\n",
       " 'evm.model.pcontig_087.16',\n",
       " 'evm.model.pcontig_007.459',\n",
       " 'evm.model.pcontig_029.236',\n",
       " 'evm.model.pcontig_140.14',\n",
       " 'evm.model.pcontig_003.505',\n",
       " 'evm.model.pcontig_176.2',\n",
       " 'evm.model.pcontig_080.53',\n",
       " 'evm.model.pcontig_044.95',\n",
       " 'evm.model.pcontig_011.20',\n",
       " 'evm.model.pcontig_022.60',\n",
       " 'evm.model.pcontig_009.115',\n",
       " 'evm.model.pcontig_058.108',\n",
       " 'evm.model.pcontig_157.15',\n",
       " 'evm.model.pcontig_007.131',\n",
       " 'evm.model.pcontig_073.73',\n",
       " 'evm.model.pcontig_001.2',\n",
       " 'evm.model.pcontig_058.117',\n",
       " 'evm.model.pcontig_003.124',\n",
       " 'evm.model.pcontig_060.37',\n",
       " 'evm.model.pcontig_007.444',\n",
       " 'evm.model.pcontig_013.249',\n",
       " 'evm.model.pcontig_007.427',\n",
       " 'evm.model.pcontig_106.26',\n",
       " 'evm.model.pcontig_005.7',\n",
       " 'evm.model.pcontig_060.15',\n",
       " 'evm.model.pcontig_077.20',\n",
       " 'evm.model.pcontig_049.64',\n",
       " 'evm.model.pcontig_058.107',\n",
       " 'evm.model.pcontig_042.199',\n",
       " 'evm.model.pcontig_025.181',\n",
       " 'evm.model.pcontig_074.86',\n",
       " 'evm.model.pcontig_074.83',\n",
       " 'evm.model.pcontig_090.5',\n",
       " 'evm.model.pcontig_043.7',\n",
       " 'evm.model.pcontig_080.67',\n",
       " 'evm.model.pcontig_033.15',\n",
       " 'evm.model.pcontig_062.11',\n",
       " 'evm.model.pcontig_058.116',\n",
       " 'evm.model.pcontig_020.106',\n",
       " 'evm.model.pcontig_007.439',\n",
       " 'evm.model.pcontig_028.2',\n",
       " 'evm.model.pcontig_130.19',\n",
       " 'evm.model.pcontig_014.101',\n",
       " 'evm.model.pcontig_004.450',\n",
       " 'evm.model.pcontig_068.80',\n",
       " 'evm.model.pcontig_188.6',\n",
       " 'evm.model.pcontig_009.41',\n",
       " 'evm.model.pcontig_074.77',\n",
       " 'evm.model.pcontig_062.27',\n",
       " 'evm.model.pcontig_049.82',\n",
       " 'evm.model.pcontig_100.41',\n",
       " 'evm.model.pcontig_049.91',\n",
       " 'evm.model.pcontig_037.14',\n",
       " 'evm.model.pcontig_025.185',\n",
       " 'evm.model.pcontig_011.17',\n",
       " 'evm.model.pcontig_045.43',\n",
       " 'evm.model.pcontig_007.437',\n",
       " 'evm.model.pcontig_031.27',\n",
       " 'evm.model.pcontig_087.5',\n",
       " 'evm.model.pcontig_022.61',\n",
       " 'evm.model.pcontig_042.204',\n",
       " 'evm.model.pcontig_176.8',\n",
       " 'evm.model.pcontig_082.59',\n",
       " 'evm.model.pcontig_072.80',\n",
       " 'evm.model.pcontig_007.100',\n",
       " 'evm.model.pcontig_100.8',\n",
       " 'evm.model.pcontig_018.1',\n",
       " 'evm.model.pcontig_035.218',\n",
       " 'evm.model.pcontig_022.266',\n",
       " 'evm.model.pcontig_074.49',\n",
       " 'evm.model.pcontig_041.56',\n",
       " 'evm.model.pcontig_000.186',\n",
       " 'evm.model.pcontig_129.4',\n",
       " 'evm.model.pcontig_037.18',\n",
       " 'evm.model.pcontig_010.174',\n",
       " 'evm.model.pcontig_001.146',\n",
       " 'evm.model.pcontig_003.142',\n",
       " 'evm.model.pcontig_062.13',\n",
       " 'evm.model.pcontig_025.40',\n",
       " 'evm.model.pcontig_074.87',\n",
       " 'evm.model.pcontig_095.9',\n",
       " 'evm.model.pcontig_011.1',\n",
       " 'evm.model.pcontig_066.37',\n",
       " 'evm.model.pcontig_150.7',\n",
       " 'evm.model.pcontig_045.169',\n",
       " 'evm.model.pcontig_073.72',\n",
       " 'evm.model.pcontig_088.10',\n",
       " 'evm.model.pcontig_080.43',\n",
       " 'evm.model.pcontig_037.20',\n",
       " 'evm.model.pcontig_073.6',\n",
       " 'evm.model.pcontig_058.105',\n",
       " 'evm.model.pcontig_035.141',\n",
       " 'evm.model.pcontig_223.2',\n",
       " 'evm.model.pcontig_022.63',\n",
       " 'evm.model.pcontig_029.58',\n",
       " 'evm.model.pcontig_005.37',\n",
       " 'evm.model.pcontig_005.382',\n",
       " 'evm.model.pcontig_035.197',\n",
       " 'evm.model.pcontig_078.62',\n",
       " 'evm.model.pcontig_006.171',\n",
       " 'evm.model.pcontig_049.60',\n",
       " 'evm.model.pcontig_077.40',\n",
       " 'evm.model.pcontig_097.4',\n",
       " 'evm.model.pcontig_035.149',\n",
       " 'evm.model.pcontig_027.19',\n",
       " 'evm.model.pcontig_086.37',\n",
       " 'evm.model.pcontig_014.108',\n",
       " 'evm.model.pcontig_005.383',\n",
       " 'evm.model.pcontig_060.22',\n",
       " 'evm.model.pcontig_074.71',\n",
       " 'evm.model.pcontig_004.448',\n",
       " 'evm.model.pcontig_010.218',\n",
       " 'evm.model.pcontig_060.35',\n",
       " 'evm.model.pcontig_188.13',\n",
       " 'evm.model.pcontig_027.269',\n",
       " 'evm.model.pcontig_000.484',\n",
       " 'evm.model.pcontig_203.8',\n",
       " 'evm.model.pcontig_080.3',\n",
       " 'evm.model.pcontig_025.43',\n",
       " 'evm.model.pcontig_002.84',\n",
       " 'evm.model.pcontig_050.11',\n",
       " 'evm.model.pcontig_067.91',\n",
       " 'evm.model.pcontig_007.456',\n",
       " 'evm.model.pcontig_066.97',\n",
       " 'evm.model.pcontig_043.30',\n",
       " 'evm.model.pcontig_051.41',\n",
       " 'evm.model.pcontig_021.341',\n",
       " 'evm.model.pcontig_087.36',\n",
       " 'evm.model.pcontig_140.11',\n",
       " 'evm.model.pcontig_051.38',\n",
       " 'evm.model.pcontig_087.1',\n",
       " 'evm.model.pcontig_010.349',\n",
       " 'evm.model.pcontig_148.13',\n",
       " 'evm.model.pcontig_174.14',\n",
       " 'evm.model.pcontig_214.4',\n",
       " 'evm.model.pcontig_072.16',\n",
       " 'evm.model.pcontig_049.150',\n",
       " 'evm.model.pcontig_097.6',\n",
       " 'evm.model.pcontig_037.88',\n",
       " 'evm.model.pcontig_089.29',\n",
       " 'evm.model.pcontig_007.434',\n",
       " 'evm.model.pcontig_068.21',\n",
       " 'evm.model.pcontig_014.81',\n",
       " 'evm.model.pcontig_130.21',\n",
       " 'evm.model.pcontig_097.40',\n",
       " 'evm.model.pcontig_001.650',\n",
       " 'evm.model.pcontig_082.62',\n",
       " 'evm.model.pcontig_045.40',\n",
       " 'evm.model.pcontig_016.165',\n",
       " 'evm.model.pcontig_014.80',\n",
       " 'evm.model.pcontig_042.196',\n",
       " 'evm.model.pcontig_033.7',\n",
       " 'evm.model.pcontig_032.15',\n",
       " 'evm.model.pcontig_011.165',\n",
       " 'evm.model.pcontig_067.60',\n",
       " 'evm.model.pcontig_092.10',\n",
       " 'evm.model.pcontig_001.1',\n",
       " 'evm.model.pcontig_097.26',\n",
       " 'evm.model.pcontig_082.73',\n",
       " 'evm.model.pcontig_005.8',\n",
       " 'evm.model.pcontig_013.321',\n",
       " 'evm.model.pcontig_104.28',\n",
       " 'evm.model.pcontig_089.47',\n",
       " 'evm.model.pcontig_173.2',\n",
       " 'evm.model.pcontig_048.84',\n",
       " 'evm.model.pcontig_025.4',\n",
       " 'evm.model.pcontig_016.119',\n",
       " 'evm.model.pcontig_001.646',\n",
       " 'evm.model.pcontig_049.144',\n",
       " 'evm.model.pcontig_068.15',\n",
       " 'evm.model.pcontig_049.148',\n",
       " 'evm.model.pcontig_025.2',\n",
       " 'evm.model.pcontig_097.42',\n",
       " 'evm.model.pcontig_004.428',\n",
       " 'evm.model.pcontig_001.516',\n",
       " 'evm.model.pcontig_041.1',\n",
       " 'evm.model.pcontig_073.46',\n",
       " 'evm.model.pcontig_163.4',\n",
       " 'evm.model.pcontig_001.649',\n",
       " 'evm.model.pcontig_007.99',\n",
       " 'evm.model.pcontig_112.3',\n",
       " 'evm.model.pcontig_078.44',\n",
       " 'evm.model.pcontig_045.173',\n",
       " 'evm.model.pcontig_081.28',\n",
       " 'evm.model.pcontig_011.12',\n",
       " 'evm.model.pcontig_003.127',\n",
       " 'evm.model.pcontig_176.10',\n",
       " 'evm.model.pcontig_051.34',\n",
       " 'evm.model.pcontig_046.63',\n",
       " 'evm.model.pcontig_049.142',\n",
       " 'evm.model.pcontig_048.76',\n",
       " 'evm.model.pcontig_033.5',\n",
       " 'evm.model.pcontig_138.11',\n",
       " 'evm.model.pcontig_012.122',\n",
       " 'evm.model.pcontig_025.26',\n",
       " 'evm.model.pcontig_129.5',\n",
       " 'evm.model.pcontig_066.87',\n",
       " 'evm.model.pcontig_097.3',\n",
       " 'evm.model.pcontig_047.2',\n",
       " 'evm.model.pcontig_049.59',\n",
       " 'evm.model.pcontig_150.4',\n",
       " 'evm.model.pcontig_007.457',\n",
       " 'evm.model.pcontig_043.6',\n",
       " 'evm.model.pcontig_095.13',\n",
       " 'evm.model.pcontig_014.13',\n",
       " 'evm.model.pcontig_118.1',\n",
       " 'evm.model.pcontig_011.19',\n",
       " 'evm.model.pcontig_025.48',\n",
       " 'evm.model.pcontig_112.9',\n",
       " 'evm.model.pcontig_033.12',\n",
       " 'evm.model.pcontig_090.12',\n",
       " 'evm.model.pcontig_022.84',\n",
       " 'evm.model.pcontig_004.434',\n",
       " 'evm.model.pcontig_068.28',\n",
       " 'evm.model.pcontig_020.16',\n",
       " 'evm.model.pcontig_042.201',\n",
       " 'evm.model.pcontig_073.31',\n",
       " 'evm.model.pcontig_010.7',\n",
       " 'evm.model.pcontig_009.21',\n",
       " 'evm.model.pcontig_040.23',\n",
       " 'evm.model.pcontig_106.25',\n",
       " 'evm.model.pcontig_110.21',\n",
       " 'evm.model.pcontig_046.3',\n",
       " 'evm.model.pcontig_017.195',\n",
       " 'evm.model.pcontig_060.20',\n",
       " 'evm.model.pcontig_005.5',\n",
       " 'evm.model.pcontig_014.4',\n",
       " 'evm.model.pcontig_075.50',\n",
       " 'evm.model.pcontig_023.208',\n",
       " 'evm.model.pcontig_060.24',\n",
       " 'evm.model.pcontig_035.12',\n",
       " 'evm.model.pcontig_045.58',\n",
       " 'evm.model.pcontig_066.70',\n",
       " 'evm.model.pcontig_009.1',\n",
       " 'evm.model.pcontig_014.79',\n",
       " 'evm.model.pcontig_037.10',\n",
       " 'evm.model.pcontig_000.248',\n",
       " 'evm.model.pcontig_009.146',\n",
       " 'evm.model.pcontig_036.19',\n",
       " 'evm.model.pcontig_041.18',\n",
       " 'evm.model.pcontig_010.352',\n",
       " 'evm.model.pcontig_004.66',\n",
       " 'evm.model.pcontig_010.368',\n",
       " 'evm.model.pcontig_027.268',\n",
       " 'evm.model.pcontig_052.110',\n",
       " 'evm.model.pcontig_207.6',\n",
       " 'evm.model.pcontig_058.125',\n",
       " 'evm.model.pcontig_002.145',\n",
       " 'evm.model.pcontig_148.16',\n",
       " 'evm.model.pcontig_049.69',\n",
       " 'evm.model.pcontig_016.208',\n",
       " 'evm.model.pcontig_018.8',\n",
       " 'evm.model.pcontig_007.432',\n",
       " 'evm.model.pcontig_045.14',\n",
       " 'evm.model.pcontig_018.239',\n",
       " 'evm.model.pcontig_005.53',\n",
       " 'evm.model.pcontig_007.104',\n",
       " 'evm.model.pcontig_039.109',\n",
       " 'evm.model.pcontig_005.317',\n",
       " 'evm.model.pcontig_148.11',\n",
       " 'evm.model.pcontig_130.6',\n",
       " 'evm.model.pcontig_009.23',\n",
       " 'evm.model.pcontig_074.36',\n",
       " 'evm.model.pcontig_165.2',\n",
       " 'evm.model.pcontig_073.35',\n",
       " 'evm.model.pcontig_074.66',\n",
       " 'evm.model.pcontig_003.152',\n",
       " 'evm.model.pcontig_042.203',\n",
       " 'evm.model.pcontig_004.470',\n",
       " 'evm.model.pcontig_016.233',\n",
       " 'evm.model.pcontig_001.6',\n",
       " 'evm.model.pcontig_043.28',\n",
       " 'evm.model.pcontig_037.13',\n",
       " 'evm.model.pcontig_164.4',\n",
       " 'evm.model.pcontig_035.203',\n",
       " 'evm.model.pcontig_089.52',\n",
       " 'evm.model.pcontig_051.44',\n",
       " 'evm.model.pcontig_013.385',\n",
       " 'evm.model.pcontig_110.15',\n",
       " 'evm.model.pcontig_049.66',\n",
       " 'evm.model.pcontig_073.66',\n",
       " 'evm.model.pcontig_058.111',\n",
       " 'evm.model.pcontig_022.73',\n",
       " 'evm.model.pcontig_235.6',\n",
       " 'evm.model.pcontig_112.10',\n",
       " 'evm.model.pcontig_007.318',\n",
       " 'evm.model.pcontig_164.2',\n",
       " 'evm.model.pcontig_068.45',\n",
       " 'evm.model.pcontig_027.12',\n",
       " 'evm.model.pcontig_066.91',\n",
       " 'evm.model.pcontig_097.9',\n",
       " 'evm.model.pcontig_056.77',\n",
       " 'evm.model.pcontig_021.31',\n",
       " 'evm.model.pcontig_014.99',\n",
       " 'evm.model.pcontig_089.8',\n",
       " 'evm.model.pcontig_074.34',\n",
       " 'evm.model.pcontig_004.107',\n",
       " 'evm.model.pcontig_047.4',\n",
       " 'evm.model.pcontig_001.648',\n",
       " 'evm.model.pcontig_067.99',\n",
       " 'evm.model.pcontig_078.14',\n",
       " 'evm.model.pcontig_077.29',\n",
       " 'evm.model.pcontig_025.183',\n",
       " 'evm.model.pcontig_067.62',\n",
       " 'evm.model.pcontig_073.47',\n",
       " 'evm.model.pcontig_007.443',\n",
       " 'evm.model.pcontig_004.395',\n",
       " 'evm.model.pcontig_036.217',\n",
       " 'evm.model.pcontig_047.7',\n",
       " 'evm.model.pcontig_073.61',\n",
       " 'evm.model.pcontig_080.52',\n",
       " 'evm.model.pcontig_004.441',\n",
       " 'evm.model.pcontig_203.11',\n",
       " 'evm.model.pcontig_007.455',\n",
       " 'evm.model.pcontig_074.46',\n",
       " 'evm.model.pcontig_003.167',\n",
       " 'evm.model.pcontig_001.652',\n",
       " 'evm.model.pcontig_148.9',\n",
       " 'evm.model.pcontig_097.44',\n",
       " 'evm.model.pcontig_034.221',\n",
       " 'evm.model.pcontig_095.18',\n",
       " 'evm.model.pcontig_078.36',\n",
       " 'evm.model.pcontig_068.22',\n",
       " 'evm.model.pcontig_035.154',\n",
       " 'evm.model.pcontig_011.15',\n",
       " 'evm.model.pcontig_003.144',\n",
       " 'evm.model.pcontig_100.45',\n",
       " 'evm.model.pcontig_030.42',\n",
       " 'evm.model.pcontig_074.37',\n",
       " 'evm.model.pcontig_014.181',\n",
       " 'evm.model.pcontig_072.6',\n",
       " 'evm.model.pcontig_080.46',\n",
       " 'evm.model.pcontig_019.157',\n",
       " 'evm.model.pcontig_051.46',\n",
       " 'evm.model.pcontig_043.171',\n",
       " 'evm.model.pcontig_016.54',\n",
       " 'evm.model.pcontig_075.4',\n",
       " 'evm.model.pcontig_016.206',\n",
       " 'evm.model.pcontig_080.68',\n",
       " 'evm.model.pcontig_004.177',\n",
       " 'evm.model.pcontig_065.103',\n",
       " 'evm.model.pcontig_074.31',\n",
       " 'evm.model.pcontig_104.11',\n",
       " 'evm.model.pcontig_033.17',\n",
       " 'evm.model.pcontig_016.231',\n",
       " 'evm.model.pcontig_005.381',\n",
       " 'evm.model.pcontig_004.429',\n",
       " 'evm.model.pcontig_011.13',\n",
       " 'evm.model.pcontig_072.1',\n",
       " 'evm.model.pcontig_001.651',\n",
       " 'evm.model.pcontig_106.24',\n",
       " 'evm.model.pcontig_035.206',\n",
       " 'evm.model.pcontig_087.24',\n",
       " 'evm.model.pcontig_089.34',\n",
       " 'evm.model.pcontig_001.239',\n",
       " 'evm.model.pcontig_027.271',\n",
       " 'evm.model.pcontig_065.118',\n",
       " 'evm.model.pcontig_033.57',\n",
       " 'evm.model.pcontig_010.12',\n",
       " 'evm.model.pcontig_018.234',\n",
       " 'evm.model.pcontig_009.3',\n",
       " 'evm.model.pcontig_005.378',\n",
       " 'evm.model.pcontig_033.30',\n",
       " 'evm.model.pcontig_074.29',\n",
       " 'evm.model.pcontig_003.133',\n",
       " 'evm.model.pcontig_021.4',\n",
       " 'evm.model.pcontig_009.5',\n",
       " 'evm.model.pcontig_110.16',\n",
       " 'evm.model.pcontig_028.64',\n",
       " 'evm.model.pcontig_018.4',\n",
       " 'evm.model.pcontig_058.109',\n",
       " 'evm.model.pcontig_005.370',\n",
       " 'evm.model.pcontig_025.184',\n",
       " 'evm.model.pcontig_010.17',\n",
       " 'evm.model.pcontig_039.103',\n",
       " 'evm.model.pcontig_058.114',\n",
       " 'evm.model.pcontig_013.250',\n",
       " 'evm.model.pcontig_009.373',\n",
       " 'evm.model.pcontig_072.2',\n",
       " 'evm.model.pcontig_075.43',\n",
       " 'evm.model.pcontig_189.8',\n",
       " 'evm.model.pcontig_072.91',\n",
       " 'evm.model.pcontig_072.83',\n",
       " 'evm.model.pcontig_026.190',\n",
       " 'evm.model.pcontig_017.103',\n",
       " 'evm.model.pcontig_207.4',\n",
       " 'evm.model.pcontig_082.57',\n",
       " 'evm.model.pcontig_112.8',\n",
       " 'evm.model.pcontig_188.2',\n",
       " 'evm.model.pcontig_039.139',\n",
       " 'evm.model.pcontig_002.140',\n",
       " 'evm.model.pcontig_007.438',\n",
       " 'evm.model.pcontig_080.39',\n",
       " 'evm.model.pcontig_033.6',\n",
       " 'evm.model.pcontig_017.321',\n",
       " 'evm.model.pcontig_049.62',\n",
       " 'evm.model.pcontig_089.4',\n",
       " 'evm.model.pcontig_005.316',\n",
       " 'evm.model.pcontig_082.60',\n",
       " 'evm.model.pcontig_037.4',\n",
       " 'evm.model.pcontig_025.182',\n",
       " 'evm.model.pcontig_089.5',\n",
       " 'evm.model.pcontig_045.170',\n",
       " 'evm.model.pcontig_060.21',\n",
       " 'evm.model.pcontig_166.4',\n",
       " 'evm.model.pcontig_045.39',\n",
       " 'evm.model.pcontig_005.372',\n",
       " 'evm.model.pcontig_050.12',\n",
       " 'evm.model.pcontig_013.168',\n",
       " 'evm.model.pcontig_039.2',\n",
       " 'evm.model.pcontig_014.178',\n",
       " 'evm.model.pcontig_017.187',\n",
       " 'evm.model.pcontig_100.43',\n",
       " 'evm.model.pcontig_035.130',\n",
       " 'evm.model.pcontig_170.11',\n",
       " 'evm.model.pcontig_005.322',\n",
       " 'evm.model.pcontig_096.1',\n",
       " 'evm.model.pcontig_077.15',\n",
       " 'evm.model.pcontig_017.330',\n",
       " 'evm.model.pcontig_007.449',\n",
       " 'evm.model.pcontig_082.54',\n",
       " 'evm.model.pcontig_097.15',\n",
       " 'evm.model.pcontig_051.47',\n",
       " 'evm.model.pcontig_104.29',\n",
       " 'evm.model.pcontig_088.1',\n",
       " 'evm.model.pcontig_025.8',\n",
       " 'evm.model.pcontig_097.16',\n",
       " 'evm.model.pcontig_002.148',\n",
       " 'evm.model.pcontig_067.94',\n",
       " 'evm.model.pcontig_089.16',\n",
       " 'evm.model.pcontig_058.62',\n",
       " 'evm.model.pcontig_036.3',\n",
       " 'evm.model.pcontig_147.2',\n",
       " 'evm.model.pcontig_007.135',\n",
       " 'evm.model.pcontig_033.200',\n",
       " 'evm.model.pcontig_029.165',\n",
       " 'evm.model.pcontig_013.381',\n",
       " 'evm.model.pcontig_112.5',\n",
       " 'evm.model.pcontig_030.95',\n",
       " 'evm.model.pcontig_035.8',\n",
       " 'evm.model.pcontig_003.566',\n",
       " 'evm.model.pcontig_025.175',\n",
       " 'evm.model.pcontig_049.134',\n",
       " 'evm.model.pcontig_028.128',\n",
       " 'evm.model.pcontig_173.3',\n",
       " 'evm.model.pcontig_130.11',\n",
       " 'evm.model.pcontig_140.8',\n",
       " 'evm.model.pcontig_077.32',\n",
       " 'evm.model.pcontig_035.11',\n",
       " 'evm.model.pcontig_179.13',\n",
       " 'evm.model.pcontig_078.15',\n",
       " 'evm.model.pcontig_022.58',\n",
       " 'evm.model.pcontig_110.14',\n",
       " 'evm.model.pcontig_078.47',\n",
       " 'evm.model.pcontig_005.333',\n",
       " 'evm.model.pcontig_016.210',\n",
       " 'evm.model.pcontig_049.76',\n",
       " 'evm.model.pcontig_051.36',\n",
       " 'evm.model.pcontig_009.352',\n",
       " 'evm.model.pcontig_014.165',\n",
       " 'evm.model.pcontig_011.157',\n",
       " 'evm.model.pcontig_004.435',\n",
       " 'evm.model.pcontig_090.3',\n",
       " 'evm.model.pcontig_032.13',\n",
       " 'evm.model.pcontig_087.8',\n",
       " 'evm.model.pcontig_033.29',\n",
       " 'evm.model.pcontig_035.139',\n",
       " 'evm.model.pcontig_082.3',\n",
       " 'evm.model.pcontig_000.250',\n",
       " 'evm.model.pcontig_088.11',\n",
       " 'evm.model.pcontig_055.139',\n",
       " 'evm.model.pcontig_027.118',\n",
       " 'evm.model.pcontig_022.189',\n",
       " 'evm.model.pcontig_074.70',\n",
       " 'evm.model.pcontig_091.54',\n",
       " 'evm.model.pcontig_091.6',\n",
       " 'evm.model.pcontig_006.29',\n",
       " 'evm.model.pcontig_006.6',\n",
       " 'evm.model.pcontig_013.248',\n",
       " 'evm.model.pcontig_086.42',\n",
       " 'evm.model.pcontig_049.73',\n",
       " 'evm.model.pcontig_010.262',\n",
       " 'evm.model.pcontig_033.241',\n",
       " 'evm.model.pcontig_010.361',\n",
       " 'evm.model.pcontig_058.104',\n",
       " 'evm.model.pcontig_068.17',\n",
       " 'evm.model.pcontig_022.119',\n",
       " 'evm.model.pcontig_045.162',\n",
       " 'evm.model.pcontig_013.153',\n",
       " 'evm.model.pcontig_049.123',\n",
       " 'evm.model.pcontig_021.5',\n",
       " 'evm.model.pcontig_066.34',\n",
       " 'evm.model.pcontig_037.128',\n",
       " 'evm.model.pcontig_021.144',\n",
       " 'evm.model.pcontig_008.167',\n",
       " 'evm.model.pcontig_163.1',\n",
       " 'evm.model.pcontig_073.29',\n",
       " 'evm.model.pcontig_010.8',\n",
       " 'evm.model.pcontig_017.325',\n",
       " 'evm.model.pcontig_097.10',\n",
       " 'evm.model.pcontig_087.49',\n",
       " 'evm.model.pcontig_030.204',\n",
       " 'evm.model.pcontig_009.336',\n",
       " 'evm.model.pcontig_049.126',\n",
       " 'evm.model.pcontig_045.42',\n",
       " 'evm.model.pcontig_007.440',\n",
       " 'evm.model.pcontig_068.18',\n",
       " 'evm.model.pcontig_185.1',\n",
       " 'evm.model.pcontig_049.65',\n",
       " 'evm.model.pcontig_041.154',\n",
       " 'evm.model.pcontig_100.14',\n",
       " 'evm.model.pcontig_015.6',\n",
       " 'evm.model.pcontig_056.19',\n",
       " 'evm.model.pcontig_084.43',\n",
       " 'evm.model.pcontig_073.69',\n",
       " 'evm.model.pcontig_035.204',\n",
       " 'evm.model.pcontig_112.7',\n",
       " 'evm.model.pcontig_067.96',\n",
       " 'evm.model.pcontig_033.186',\n",
       " 'evm.model.pcontig_036.54',\n",
       " 'evm.model.pcontig_100.17',\n",
       " 'evm.model.pcontig_100.42',\n",
       " 'evm.model.pcontig_089.53',\n",
       " 'evm.model.pcontig_067.107',\n",
       " 'evm.model.pcontig_150.6',\n",
       " 'evm.model.pcontig_033.20',\n",
       " 'evm.model.pcontig_073.48',\n",
       " 'evm.model.pcontig_012.375',\n",
       " 'evm.model.pcontig_051.53',\n",
       " 'evm.model.pcontig_037.161',\n",
       " 'evm.model.pcontig_026.4',\n",
       " 'evm.model.pcontig_110.19',\n",
       " 'evm.model.pcontig_007.450',\n",
       " 'evm.model.pcontig_036.14',\n",
       " 'evm.model.pcontig_006.173',\n",
       " 'evm.model.pcontig_033.179',\n",
       " 'evm.model.pcontig_073.43',\n",
       " 'evm.model.pcontig_022.69',\n",
       " 'evm.model.pcontig_082.2',\n",
       " 'evm.model.pcontig_049.70',\n",
       " 'evm.model.pcontig_203.4',\n",
       " 'evm.model.pcontig_120.16',\n",
       " 'evm.model.pcontig_078.34',\n",
       " 'evm.model.pcontig_001.324',\n",
       " 'evm.model.pcontig_115.15',\n",
       " 'evm.model.pcontig_004.471',\n",
       " 'evm.model.pcontig_203.9',\n",
       " 'evm.model.pcontig_003.303',\n",
       " 'evm.model.pcontig_035.10',\n",
       " 'evm.model.pcontig_074.63',\n",
       " 'evm.model.pcontig_039.86',\n",
       " 'evm.model.pcontig_087.21',\n",
       " 'evm.model.pcontig_140.2',\n",
       " 'evm.model.pcontig_074.35',\n",
       " 'evm.model.pcontig_031.28',\n",
       " 'evm.model.pcontig_051.48',\n",
       " 'evm.model.pcontig_152.9',\n",
       " 'evm.model.pcontig_203.5',\n",
       " 'evm.model.pcontig_014.5',\n",
       " 'evm.model.pcontig_086.35',\n",
       " 'evm.model.pcontig_070.6',\n",
       " 'evm.model.pcontig_073.53',\n",
       " 'evm.model.pcontig_067.7',\n",
       " 'evm.model.pcontig_043.4',\n",
       " 'evm.model.pcontig_022.117',\n",
       " 'evm.model.pcontig_027.11',\n",
       " 'evm.model.pcontig_007.143',\n",
       " 'evm.model.pcontig_087.4',\n",
       " 'evm.model.pcontig_062.24',\n",
       " 'evm.model.pcontig_035.137',\n",
       " 'evm.model.pcontig_002.380',\n",
       " 'evm.model.pcontig_051.45',\n",
       " 'evm.model.pcontig_177.8',\n",
       " 'evm.model.pcontig_040.170',\n",
       " 'evm.model.pcontig_074.64',\n",
       " 'evm.model.pcontig_035.208',\n",
       " 'evm.model.pcontig_068.8',\n",
       " 'evm.model.pcontig_033.180',\n",
       " 'evm.model.pcontig_007.428',\n",
       " 'evm.model.pcontig_073.68',\n",
       " 'evm.model.pcontig_070.4',\n",
       " 'evm.model.pcontig_130.4',\n",
       " 'evm.model.pcontig_018.352',\n",
       " 'evm.model.pcontig_120.17',\n",
       " 'evm.model.pcontig_017.328',\n",
       " 'evm.model.pcontig_166.5',\n",
       " 'evm.model.pcontig_029.117',\n",
       " 'evm.model.pcontig_008.105',\n",
       " 'evm.model.pcontig_050.95',\n",
       " 'evm.model.pcontig_035.2',\n",
       " 'evm.model.pcontig_149.9',\n",
       " 'evm.model.pcontig_033.14',\n",
       " 'evm.model.pcontig_112.13',\n",
       " 'evm.model.pcontig_091.45',\n",
       " 'evm.model.pcontig_006.475',\n",
       " 'evm.model.pcontig_044.108',\n",
       " 'evm.model.pcontig_067.9',\n",
       " 'evm.model.pcontig_017.326',\n",
       " 'evm.model.pcontig_023.203',\n",
       " 'evm.model.pcontig_044.5',\n",
       " 'evm.model.pcontig_040.169',\n",
       " 'evm.model.pcontig_120.18',\n",
       " 'evm.model.pcontig_049.113',\n",
       " 'evm.model.pcontig_004.84',\n",
       " 'evm.model.pcontig_130.14',\n",
       " 'evm.model.pcontig_078.33',\n",
       " 'evm.model.pcontig_054.48',\n",
       " 'evm.model.pcontig_067.8',\n",
       " 'evm.model.pcontig_008.104',\n",
       " 'evm.model.pcontig_075.51',\n",
       " 'evm.model.pcontig_014.306',\n",
       " 'evm.model.pcontig_022.70',\n",
       " 'evm.model.pcontig_058.74',\n",
       " 'evm.model.pcontig_092.9',\n",
       " 'evm.model.pcontig_089.39',\n",
       " 'evm.model.pcontig_004.439',\n",
       " 'evm.model.pcontig_007.111',\n",
       " 'evm.model.pcontig_024.2',\n",
       " 'evm.model.pcontig_067.106',\n",
       " 'evm.model.pcontig_011.99',\n",
       " 'evm.model.pcontig_027.8',\n",
       " 'evm.model.pcontig_104.17',\n",
       " 'evm.model.pcontig_033.58',\n",
       " 'evm.model.pcontig_036.21',\n",
       " 'evm.model.pcontig_049.132',\n",
       " 'evm.model.pcontig_022.57',\n",
       " 'evm.model.pcontig_004.431',\n",
       " 'evm.model.pcontig_023.10',\n",
       " 'evm.model.pcontig_074.30',\n",
       " 'evm.model.pcontig_091.46',\n",
       " 'evm.model.pcontig_147.1',\n",
       " 'evm.model.pcontig_067.57',\n",
       " 'evm.model.pcontig_078.2',\n",
       " 'evm.model.pcontig_007.132',\n",
       " 'evm.model.pcontig_080.50',\n",
       " 'evm.model.pcontig_016.164',\n",
       " 'evm.model.pcontig_007.125',\n",
       " 'evm.model.pcontig_089.13',\n",
       " 'evm.model.pcontig_129.8',\n",
       " 'evm.model.pcontig_042.198',\n",
       " 'evm.model.pcontig_078.66',\n",
       " 'evm.model.pcontig_088.12',\n",
       " 'evm.model.pcontig_032.12',\n",
       " 'evm.model.pcontig_003.128',\n",
       " 'evm.model.pcontig_087.23',\n",
       " 'evm.model.pcontig_037.15',\n",
       " 'evm.model.pcontig_074.59',\n",
       " 'evm.model.pcontig_007.129',\n",
       " 'evm.model.pcontig_087.20',\n",
       " 'evm.model.pcontig_027.272',\n",
       " 'evm.model.pcontig_010.351',\n",
       " 'evm.model.pcontig_010.261',\n",
       " 'evm.model.pcontig_077.24',\n",
       " 'evm.model.pcontig_067.5',\n",
       " 'evm.model.pcontig_022.68',\n",
       " 'evm.model.pcontig_087.29',\n",
       " 'evm.model.pcontig_041.143',\n",
       " 'evm.model.pcontig_095.15',\n",
       " 'evm.model.pcontig_067.6',\n",
       " 'evm.model.pcontig_087.45',\n",
       " 'evm.model.pcontig_020.99',\n",
       " 'evm.model.pcontig_028.124',\n",
       " 'evm.model.pcontig_072.4',\n",
       " 'evm.model.pcontig_049.129',\n",
       " 'evm.model.pcontig_006.472',\n",
       " 'evm.model.pcontig_000.361',\n",
       " 'evm.model.pcontig_034.28',\n",
       " 'evm.model.pcontig_035.216',\n",
       " 'evm.model.pcontig_025.42',\n",
       " 'evm.model.pcontig_016.201',\n",
       " 'evm.model.pcontig_003.129',\n",
       " 'evm.model.pcontig_044.3',\n",
       " 'evm.model.pcontig_015.8',\n",
       " 'evm.model.pcontig_049.114',\n",
       " 'evm.model.pcontig_008.272',\n",
       " 'evm.model.pcontig_025.192',\n",
       " 'evm.model.pcontig_088.60',\n",
       " 'evm.model.pcontig_149.1',\n",
       " 'evm.model.pcontig_049.135',\n",
       " 'evm.model.pcontig_139.17',\n",
       " 'evm.model.pcontig_088.14',\n",
       " 'evm.model.pcontig_080.49',\n",
       " 'evm.model.pcontig_080.45',\n",
       " 'evm.model.pcontig_157.21',\n",
       " 'evm.model.pcontig_062.9',\n",
       " 'evm.model.pcontig_007.287',\n",
       " 'evm.model.pcontig_018.193',\n",
       " 'evm.model.pcontig_006.81',\n",
       " 'evm.model.pcontig_035.205',\n",
       " 'evm.model.pcontig_056.18',\n",
       " 'evm.model.pcontig_090.8',\n",
       " 'evm.model.pcontig_025.44',\n",
       " 'evm.model.pcontig_046.4',\n",
       " 'evm.model.pcontig_173.1',\n",
       " 'evm.model.pcontig_005.384',\n",
       " 'evm.model.pcontig_040.8',\n",
       " 'evm.model.pcontig_106.27',\n",
       " 'evm.model.pcontig_060.34',\n",
       " 'evm.model.pcontig_003.138',\n",
       " 'evm.model.pcontig_003.134',\n",
       " 'evm.model.pcontig_067.61',\n",
       " 'evm.model.pcontig_033.47',\n",
       " 'evm.model.pcontig_036.24',\n",
       " 'evm.model.pcontig_087.3',\n",
       " 'evm.model.pcontig_104.10',\n",
       " 'evm.model.pcontig_056.61',\n",
       " 'evm.model.pcontig_035.15',\n",
       " 'evm.model.pcontig_010.15',\n",
       " 'evm.model.pcontig_165.1',\n",
       " 'evm.model.pcontig_029.2',\n",
       " 'evm.model.pcontig_073.42',\n",
       " 'evm.model.pcontig_045.30',\n",
       " 'evm.model.pcontig_080.72',\n",
       " 'evm.model.pcontig_115.4',\n",
       " 'evm.model.pcontig_077.17',\n",
       " 'evm.model.pcontig_020.204',\n",
       " 'evm.model.pcontig_035.199',\n",
       " 'evm.model.pcontig_157.1',\n",
       " 'evm.model.pcontig_150.3',\n",
       " 'evm.model.pcontig_120.15',\n",
       " 'evm.model.pcontig_150.8',\n",
       " 'evm.model.pcontig_015.9',\n",
       " 'evm.model.pcontig_046.5',\n",
       " 'evm.model.pcontig_034.229',\n",
       " 'evm.model.pcontig_006.79',\n",
       " 'evm.model.pcontig_050.15',\n",
       " 'evm.model.pcontig_066.74',\n",
       " 'evm.model.pcontig_046.1',\n",
       " 'evm.model.pcontig_009.383',\n",
       " 'evm.model.pcontig_203.10',\n",
       " 'evm.model.pcontig_016.273',\n",
       " 'evm.model.pcontig_138.7',\n",
       " 'evm.model.pcontig_104.30',\n",
       " 'evm.model.pcontig_040.18',\n",
       " 'evm.model.pcontig_090.13',\n",
       " 'evm.model.pcontig_025.9',\n",
       " 'evm.model.pcontig_049.145',\n",
       " 'evm.model.pcontig_009.339',\n",
       " 'evm.model.pcontig_039.85',\n",
       " 'evm.model.pcontig_007.451',\n",
       " 'evm.model.pcontig_049.78',\n",
       " 'evm.model.pcontig_036.215',\n",
       " 'evm.model.pcontig_082.71',\n",
       " 'evm.model.pcontig_045.177',\n",
       " 'evm.model.pcontig_020.67',\n",
       " 'evm.model.pcontig_007.116',\n",
       " 'evm.model.pcontig_042.102',\n",
       " 'evm.model.pcontig_033.19',\n",
       " 'evm.model.pcontig_044.2',\n",
       " 'evm.model.pcontig_058.127',\n",
       " 'evm.model.pcontig_051.35',\n",
       " 'evm.model.pcontig_010.13',\n",
       " 'evm.model.pcontig_017.197',\n",
       " 'evm.model.pcontig_050.103',\n",
       " 'evm.model.pcontig_092.12',\n",
       " 'evm.model.pcontig_049.83',\n",
       " 'evm.model.pcontig_009.11',\n",
       " 'evm.model.pcontig_011.394',\n",
       " 'evm.model.pcontig_045.38',\n",
       " 'evm.model.pcontig_004.363',\n",
       " 'evm.model.pcontig_080.69',\n",
       " 'evm.model.pcontig_026.204',\n",
       " 'evm.model.pcontig_049.120',\n",
       " 'evm.model.pcontig_176.3',\n",
       " 'evm.model.pcontig_010.1',\n",
       " 'evm.model.pcontig_003.130',\n",
       " 'evm.model.pcontig_062.22',\n",
       " 'evm.model.pcontig_068.73',\n",
       " 'evm.model.pcontig_080.51',\n",
       " 'evm.model.pcontig_004.110',\n",
       " 'evm.model.pcontig_017.97',\n",
       " 'evm.model.pcontig_003.116',\n",
       " 'evm.model.pcontig_110.13',\n",
       " 'evm.model.pcontig_073.16',\n",
       " 'evm.model.pcontig_027.257',\n",
       " 'evm.model.pcontig_140.7',\n",
       " 'evm.model.pcontig_014.98',\n",
       " 'evm.model.pcontig_023.1',\n",
       " 'evm.model.pcontig_078.8',\n",
       " 'evm.model.pcontig_104.24',\n",
       " 'evm.model.pcontig_010.18',\n",
       " 'evm.model.pcontig_026.207',\n",
       " 'evm.model.pcontig_010.371',\n",
       " 'evm.model.pcontig_043.8',\n",
       " 'evm.model.pcontig_022.78',\n",
       " 'evm.model.pcontig_005.314',\n",
       " 'evm.model.pcontig_082.66',\n",
       " 'evm.model.pcontig_036.214',\n",
       " 'evm.model.pcontig_106.30',\n",
       " 'evm.model.pcontig_014.201',\n",
       " 'evm.model.pcontig_064.50',\n",
       " 'evm.model.pcontig_091.3',\n",
       " 'evm.model.pcontig_074.67',\n",
       " 'evm.model.pcontig_026.205',\n",
       " 'evm.model.pcontig_148.10',\n",
       " 'evm.model.pcontig_017.83',\n",
       " 'evm.model.pcontig_010.359',\n",
       " 'evm.model.pcontig_014.106',\n",
       " 'evm.model.pcontig_223.4',\n",
       " 'evm.model.pcontig_036.213',\n",
       " 'evm.model.pcontig_080.56',\n",
       " 'evm.model.pcontig_003.317',\n",
       " 'evm.model.pcontig_000.492',\n",
       " 'evm.model.pcontig_009.380',\n",
       " 'evm.model.pcontig_074.52',\n",
       " 'evm.model.pcontig_004.466',\n",
       " 'evm.model.pcontig_074.53',\n",
       " 'evm.model.pcontig_025.45',\n",
       " 'evm.model.pcontig_087.14',\n",
       " 'evm.model.pcontig_088.9',\n",
       " 'evm.model.pcontig_014.85',\n",
       " 'evm.model.pcontig_035.1',\n",
       " 'evm.model.pcontig_147.3',\n",
       " 'evm.model.pcontig_010.367',\n",
       " 'evm.model.pcontig_164.3',\n",
       " 'evm.model.pcontig_025.39',\n",
       " 'evm.model.pcontig_148.12',\n",
       " 'evm.model.pcontig_051.39',\n",
       " 'evm.model.pcontig_026.69',\n",
       " 'evm.model.pcontig_060.28',\n",
       " 'evm.model.pcontig_078.45',\n",
       " 'evm.model.pcontig_014.307',\n",
       " 'evm.model.pcontig_045.32',\n",
       " 'evm.model.pcontig_080.47',\n",
       " 'evm.model.pcontig_004.437',\n",
       " 'evm.model.pcontig_106.28',\n",
       " 'evm.model.pcontig_089.49',\n",
       " 'evm.model.pcontig_100.20',\n",
       " 'evm.model.pcontig_120.14',\n",
       " 'evm.model.pcontig_007.356',\n",
       " 'evm.model.pcontig_112.6',\n",
       " 'evm.model.pcontig_034.218',\n",
       " 'evm.model.pcontig_072.90',\n",
       " 'evm.model.pcontig_004.468',\n",
       " 'evm.model.pcontig_049.71',\n",
       " 'evm.model.pcontig_025.41',\n",
       " 'evm.model.pcontig_095.11',\n",
       " 'evm.model.pcontig_089.50',\n",
       " 'evm.model.pcontig_045.174',\n",
       " 'evm.model.pcontig_004.443',\n",
       " ...]"
      ]
     },
     "execution_count": 115,
     "metadata": {},
     "output_type": "execute_result"
    }
   ],
   "source": [
    "p_no_blast[(p_no_blast['exonerate_hit'] == False)&(p_no_blast['ph_p_homo_cov']==False)]['gene_model'].unique().tolist()"
   ]
  },
  {
   "cell_type": "code",
   "execution_count": 109,
   "metadata": {
    "collapsed": false
   },
   "outputs": [
    {
     "data": {
      "text/plain": [
       "count     357.000000\n",
       "mean      262.397759\n",
       "std       266.749585\n",
       "min        50.000000\n",
       "25%       101.000000\n",
       "50%       153.000000\n",
       "75%       318.000000\n",
       "max      1410.000000\n",
       "Name: protein_length, dtype: float64"
      ]
     },
     "execution_count": 109,
     "metadata": {},
     "output_type": "execute_result"
    }
   ],
   "source": [
    "h_no_blast = no_filtered_blast_sdf[h_key]\n",
    "h_no_blast[h_no_blast['exonerate_hit'] == False]['protein_length'].describe()"
   ]
  },
  {
   "cell_type": "code",
   "execution_count": 113,
   "metadata": {
    "collapsed": false
   },
   "outputs": [
    {
     "data": {
      "text/html": [
       "<div>\n",
       "<table border=\"1\" class=\"dataframe\">\n",
       "  <thead>\n",
       "    <tr style=\"text-align: right;\">\n",
       "      <th></th>\n",
       "      <th>protein_length</th>\n",
       "      <th>pwh</th>\n",
       "    </tr>\n",
       "  </thead>\n",
       "  <tbody>\n",
       "    <tr>\n",
       "      <th>count</th>\n",
       "      <td>1517.000000</td>\n",
       "      <td>1517.000000</td>\n",
       "    </tr>\n",
       "    <tr>\n",
       "      <th>mean</th>\n",
       "      <td>347.547792</td>\n",
       "      <td>0.869479</td>\n",
       "    </tr>\n",
       "    <tr>\n",
       "      <th>std</th>\n",
       "      <td>299.535628</td>\n",
       "      <td>0.336987</td>\n",
       "    </tr>\n",
       "    <tr>\n",
       "      <th>min</th>\n",
       "      <td>53.000000</td>\n",
       "      <td>0.000000</td>\n",
       "    </tr>\n",
       "    <tr>\n",
       "      <th>25%</th>\n",
       "      <td>133.000000</td>\n",
       "      <td>1.000000</td>\n",
       "    </tr>\n",
       "    <tr>\n",
       "      <th>50%</th>\n",
       "      <td>255.000000</td>\n",
       "      <td>1.000000</td>\n",
       "    </tr>\n",
       "    <tr>\n",
       "      <th>75%</th>\n",
       "      <td>473.000000</td>\n",
       "      <td>1.000000</td>\n",
       "    </tr>\n",
       "    <tr>\n",
       "      <th>max</th>\n",
       "      <td>2265.000000</td>\n",
       "      <td>1.000000</td>\n",
       "    </tr>\n",
       "  </tbody>\n",
       "</table>\n",
       "</div>"
      ],
      "text/plain": [
       "       protein_length          pwh\n",
       "count     1517.000000  1517.000000\n",
       "mean       347.547792     0.869479\n",
       "std        299.535628     0.336987\n",
       "min         53.000000     0.000000\n",
       "25%        133.000000     1.000000\n",
       "50%        255.000000     1.000000\n",
       "75%        473.000000     1.000000\n",
       "max       2265.000000     1.000000"
      ]
     },
     "execution_count": 113,
     "metadata": {},
     "output_type": "execute_result"
    }
   ],
   "source": [
    "p_no_blast = no_filtered_blast_sdf[p_key]\n",
    "p_no_blast[(p_no_blast['exonerate_hit'] == False)&(p_no_blast['ph_p_homo_cov']==False)].describe()"
   ]
  },
  {
   "cell_type": "code",
   "execution_count": 114,
   "metadata": {
    "collapsed": false
   },
   "outputs": [
    {
     "data": {
      "text/plain": [
       "1319"
      ]
     },
     "execution_count": 114,
     "metadata": {},
     "output_type": "execute_result"
    }
   ],
   "source": [
    "p_no_blast[(p_no_blast['exonerate_hit'] == False)&(p_no_blast['ph_p_homo_cov']==False)]['pwh'].sum()"
   ]
  },
  {
   "cell_type": "code",
   "execution_count": 556,
   "metadata": {
    "collapsed": false
   },
   "outputs": [
    {
     "data": {
      "text/html": [
       "<div>\n",
       "<table border=\"1\" class=\"dataframe\">\n",
       "  <thead>\n",
       "    <tr style=\"text-align: right;\">\n",
       "      <th></th>\n",
       "      <th>protein_length</th>\n",
       "      <th>gene_model</th>\n",
       "      <th>gene_hit</th>\n",
       "      <th>exonerate_best_hit</th>\n",
       "      <th>exonerate_hit</th>\n",
       "      <th>pwh</th>\n",
       "      <th>ph_p_homo_cov</th>\n",
       "    </tr>\n",
       "  </thead>\n",
       "  <tbody>\n",
       "    <tr>\n",
       "      <th>1370</th>\n",
       "      <td>279</td>\n",
       "      <td>evm.model.pcontig_203.1</td>\n",
       "      <td>True</td>\n",
       "      <td>hcontig_033_007_11915_72752</td>\n",
       "      <td>True</td>\n",
       "      <td>0</td>\n",
       "      <td>True</td>\n",
       "    </tr>\n",
       "  </tbody>\n",
       "</table>\n",
       "</div>"
      ],
      "text/plain": [
       "      protein_length               gene_model gene_hit  \\\n",
       "1370             279  evm.model.pcontig_203.1     True   \n",
       "\n",
       "               exonerate_best_hit exonerate_hit  pwh ph_p_homo_cov  \n",
       "1370  hcontig_033_007_11915_72752          True    0          True  "
      ]
     },
     "execution_count": 556,
     "metadata": {},
     "output_type": "execute_result"
    }
   ],
   "source": [
    "tmp_nfb_sdf_p[(tmp_nfb_sdf_p['pwh'] == False)&(tmp_nfb_sdf_p['exonerate_hit'] == True)&(tmp_nfb_sdf_p['ph_p_homo_cov'] == True)]"
   ]
  },
  {
   "cell_type": "code",
   "execution_count": 561,
   "metadata": {
    "collapsed": false
   },
   "outputs": [
    {
     "data": {
      "text/plain": [
       "protein_length    93927.0\n",
       "gene_hit             39.0\n",
       "exonerate_hit        14.0\n",
       "pwh                   0.0\n",
       "ph_p_homo_cov        51.0\n",
       "dtype: float64"
      ]
     },
     "execution_count": 561,
     "metadata": {},
     "output_type": "execute_result"
    }
   ],
   "source": [
    "no_filtered_blast_sdf['Pst_E104_v1_p_ctg'][no_filtered_blast_sdf['Pst_E104_v1_p_ctg'].pwh == 0].sum()"
   ]
  },
  {
   "cell_type": "code",
   "execution_count": null,
   "metadata": {
    "collapsed": true
   },
   "outputs": [],
   "source": []
  },
  {
   "cell_type": "code",
   "execution_count": null,
   "metadata": {
    "collapsed": true
   },
   "outputs": [],
   "source": []
  },
  {
   "cell_type": "code",
   "execution_count": 388,
   "metadata": {
    "collapsed": false
   },
   "outputs": [
    {
     "data": {
      "text/html": [
       "<div>\n",
       "<table border=\"1\" class=\"dataframe\">\n",
       "  <thead>\n",
       "    <tr style=\"text-align: right;\">\n",
       "      <th></th>\n",
       "      <th>protein_length</th>\n",
       "      <th>gene_model</th>\n",
       "      <th>gene_hit</th>\n",
       "      <th>exonerate_best_hit</th>\n",
       "      <th>exonerate_hit</th>\n",
       "      <th>pwh</th>\n",
       "    </tr>\n",
       "  </thead>\n",
       "  <tbody>\n",
       "    <tr>\n",
       "      <th>0</th>\n",
       "      <td>590</td>\n",
       "      <td>evm.model.pcontig_157.2</td>\n",
       "      <td>False</td>\n",
       "      <td>False</td>\n",
       "      <td>False</td>\n",
       "      <td>0</td>\n",
       "    </tr>\n",
       "    <tr>\n",
       "      <th>1</th>\n",
       "      <td>192</td>\n",
       "      <td>evm.model.pcontig_089.14</td>\n",
       "      <td>False</td>\n",
       "      <td>False</td>\n",
       "      <td>False</td>\n",
       "      <td>1</td>\n",
       "    </tr>\n",
       "    <tr>\n",
       "      <th>2</th>\n",
       "      <td>284</td>\n",
       "      <td>evm.model.pcontig_070.2</td>\n",
       "      <td>False</td>\n",
       "      <td>False</td>\n",
       "      <td>False</td>\n",
       "      <td>1</td>\n",
       "    </tr>\n",
       "    <tr>\n",
       "      <th>3</th>\n",
       "      <td>408</td>\n",
       "      <td>evm.model.pcontig_049.76</td>\n",
       "      <td>False</td>\n",
       "      <td>False</td>\n",
       "      <td>False</td>\n",
       "      <td>1</td>\n",
       "    </tr>\n",
       "    <tr>\n",
       "      <th>4</th>\n",
       "      <td>490</td>\n",
       "      <td>evm.model.pcontig_091.52</td>\n",
       "      <td>False</td>\n",
       "      <td>False</td>\n",
       "      <td>False</td>\n",
       "      <td>1</td>\n",
       "    </tr>\n",
       "  </tbody>\n",
       "</table>\n",
       "</div>"
      ],
      "text/plain": [
       "   protein_length                gene_model gene_hit exonerate_best_hit  \\\n",
       "0             590   evm.model.pcontig_157.2    False              False   \n",
       "1             192  evm.model.pcontig_089.14    False              False   \n",
       "2             284   evm.model.pcontig_070.2    False              False   \n",
       "3             408  evm.model.pcontig_049.76    False              False   \n",
       "4             490  evm.model.pcontig_091.52    False              False   \n",
       "\n",
       "  exonerate_hit  pwh  \n",
       "0         False    0  \n",
       "1         False    1  \n",
       "2         False    1  \n",
       "3         False    1  \n",
       "4         False    1  "
      ]
     },
     "execution_count": 388,
     "metadata": {},
     "output_type": "execute_result"
    }
   ],
   "source": [
    "no_filtered_blast_sdf['Pst_E104_v1_p_ctg'].head()"
   ]
  },
  {
   "cell_type": "code",
   "execution_count": 370,
   "metadata": {
    "collapsed": false
   },
   "outputs": [
    {
     "data": {
      "text/plain": [
       "dict_keys(['Pst_E104_v1_h_ctg', 'Pst_E104_v1_p_ctg'])"
      ]
     },
     "execution_count": 370,
     "metadata": {},
     "output_type": "execute_result"
    }
   ],
   "source": [
    "keys"
   ]
  },
  {
   "cell_type": "code",
   "execution_count": 378,
   "metadata": {
    "collapsed": false
   },
   "outputs": [
    {
     "data": {
      "text/plain": [
       "377.92251690067604"
      ]
     },
     "execution_count": 378,
     "metadata": {},
     "output_type": "execute_result"
    }
   ],
   "source": [
    "no_filtered_blast_sdf['Pst_E104_v1_h_ctg'][no_filtered_blast_sdf['Pst_E104_v1_h_ctg']['exonerate_hit'] == False]['protein_length'].mean()"
   ]
  },
  {
   "cell_type": "code",
   "execution_count": 392,
   "metadata": {
    "collapsed": false
   },
   "outputs": [
    {
     "data": {
      "text/plain": [
       "221.77675276752768"
      ]
     },
     "execution_count": 392,
     "metadata": {},
     "output_type": "execute_result"
    }
   ],
   "source": [
    "no_filtered_blast_sdf['Pst_E104_v1_h_ctg'][no_filtered_blast_sdf['Pst_E104_v1_h_ctg'].pwh == 0]['protein_length'].mean()"
   ]
  },
  {
   "cell_type": "code",
   "execution_count": 385,
   "metadata": {
    "collapsed": false
   },
   "outputs": [
    {
     "data": {
      "text/plain": [
       "<matplotlib.axes._subplots.AxesSubplot at 0x7f875767d8d0>"
      ]
     },
     "execution_count": 385,
     "metadata": {},
     "output_type": "execute_result"
    },
    {
     "data": {
      "image/png": "[encoded data removed]",
      "text/plain": [
       "<matplotlib.figure.Figure at 0x7f8757683160>"
      ]
     },
     "metadata": {},
     "output_type": "display_data"
    }
   ],
   "source": [
    "no_filtered_blast_sdf['Pst_E104_v1_h_ctg']['protein_length'].hist(bins=20,alpha=0.5, color='g')\n",
    "no_filtered_blast_sdf['Pst_E104_v1_p_ctg']['protein_length'].hist(bins=20,alpha=0.5, color='r')"
   ]
  },
  {
   "cell_type": "code",
   "execution_count": 400,
   "metadata": {
    "collapsed": false
   },
   "outputs": [
    {
     "data": {
      "text/plain": [
       "0.023866666666666668"
      ]
     },
     "execution_count": 400,
     "metadata": {},
     "output_type": "execute_result"
    }
   ],
   "source": [
    "len(no_filtered_blast_sdf['Pst_E104_v1_h_ctg'][no_filtered_blast_sdf['Pst_E104_v1_h_ctg']['exonerate_hit'] == False])/15000"
   ]
  },
  {
   "cell_type": "code",
   "execution_count": null,
   "metadata": {
    "collapsed": true
   },
   "outputs": [],
   "source": []
  },
  {
   "cell_type": "code",
   "execution_count": null,
   "metadata": {
    "collapsed": true
   },
   "outputs": [],
   "source": []
  },
  {
   "cell_type": "code",
   "execution_count": null,
   "metadata": {
    "collapsed": true
   },
   "outputs": [],
   "source": []
  },
  {
   "cell_type": "code",
   "execution_count": 44,
   "metadata": {
    "collapsed": false
   },
   "outputs": [
    {
     "data": {
      "text/plain": [
       "677"
      ]
     },
     "execution_count": 44,
     "metadata": {},
     "output_type": "execute_result"
    }
   ],
   "source": [
    "len(nfb_gene_blast_bed_df_filtered[3].unique())"
   ]
  },
  {
   "cell_type": "code",
   "execution_count": null,
   "metadata": {
    "collapsed": true
   },
   "outputs": [],
   "source": []
  }
 ],
 "metadata": {
  "kernelspec": {
   "display_name": "Python 3",
   "language": "python",
   "name": "python3"
  },
  "language_info": {
   "codemirror_mode": {
    "name": "ipython",
    "version": 3
   },
   "file_extension": ".py",
   "mimetype": "text/x-python",
   "name": "python",
   "nbconvert_exporter": "python",
   "pygments_lexer": "ipython3",
   "version": "3.5.2"
  }
 },
 "nbformat": 4,
 "nbformat_minor": 0
}
