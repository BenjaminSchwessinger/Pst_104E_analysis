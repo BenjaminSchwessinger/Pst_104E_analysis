{
 "cells": [
  {
   "cell_type": "code",
   "execution_count": 10,
   "metadata": {
    "collapsed": true
   },
   "outputs": [],
   "source": [
    "import pandas as pd\n",
    "import numpy as np\n",
    "import os\n",
    "from Bio import SeqIO"
   ]
  },
  {
   "cell_type": "code",
   "execution_count": 11,
   "metadata": {
    "collapsed": true
   },
   "outputs": [],
   "source": [
    "working_dir = '/home/benjamin/genome_assembly/PST79/FALCON/p_assemblies/v9_1/032017_assembly'"
   ]
  },
  {
   "cell_type": "code",
   "execution_count": 12,
   "metadata": {
    "collapsed": true
   },
   "outputs": [],
   "source": [
    "os.chdir(working_dir )"
   ]
  },
  {
   "cell_type": "code",
   "execution_count": 21,
   "metadata": {
    "collapsed": false
   },
   "outputs": [],
   "source": [
    "fa_files = [x for x in os.listdir() if x.endswith('.fa')]"
   ]
  },
  {
   "cell_type": "code",
   "execution_count": 22,
   "metadata": {
    "collapsed": false
   },
   "outputs": [
    {
     "data": {
      "text/plain": [
       "['Pst_E104_v1_h_ctg.fa',\n",
       " 'Pst_E104_v1_p_ctg.anno.RepaseTPSI_filtered.protein.fa',\n",
       " 'Pst_E104_v1_p_ctg.gene.RepaseTPSI_filtered.fa',\n",
       " 'Pst_E104_v1_h_ctg.gene.RepaseTPSI_filtered.fa',\n",
       " 'Pst_E104_v1_p_ctg.fa',\n",
       " 'Pst_E104_v1_h_ctg.anno.RepaseTPSI_filtered.protein.fa']"
      ]
     },
     "execution_count": 22,
     "metadata": {},
     "output_type": "execute_result"
    }
   ],
   "source": [
    "fa_files"
   ]
  },
  {
   "cell_type": "code",
   "execution_count": 23,
   "metadata": {
    "collapsed": false
   },
   "outputs": [],
   "source": [
    "for x in fa_files:\n",
    "    if 'h_ctg' in x:\n",
    "        _filter = pd.read_csv(os.path.join(working_dir, 'hcontig_smaller_2000.txt'), sep='\\t', header=None)[0].tolist()\n",
    "    elif 'p_ctg' in x:\n",
    "        _filter = pd.read_csv(os.path.join(working_dir, 'pcontig_smaller_2000.txt'), sep='\\t', header=None)[0].tolist()  \n",
    "    filtered_list =[]\n",
    "    file = os.path.join(working_dir, x)\n",
    "    for seq in SeqIO.parse(open(file), 'fasta'):\n",
    "        if 'Repase' in x:\n",
    "            if seq.id.split('.')[2] in _filter:\n",
    "                filtered_list.append(seq)\n",
    "        else: \n",
    "            if seq.id in _filter :\n",
    "                filtered_list.append(seq)\n",
    "    file_name = x.replace('v1', 'v12').replace('RepaseTPSI_filtered.', '')\n",
    "    out_handle = open(os.path.join(working_dir, file_name), 'w')\n",
    "    SeqIO.write(filtered_list, out_handle, 'fasta')\n",
    "    _filter =''\n",
    "    filtered_list =''\n",
    "    out_handle.close()"
   ]
  }
 ],
 "metadata": {
  "kernelspec": {
   "display_name": "Python 3",
   "language": "python",
   "name": "python3"
  },
  "language_info": {
   "codemirror_mode": {
    "name": "ipython",
    "version": 3
   },
   "file_extension": ".py",
   "mimetype": "text/x-python",
   "name": "python",
   "nbconvert_exporter": "python",
   "pygments_lexer": "ipython3",
   "version": "3.5.2"
  }
 },
 "nbformat": 4,
 "nbformat_minor": 0
}
