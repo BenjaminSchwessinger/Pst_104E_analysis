{
 "cells": [
  {
   "cell_type": "code",
   "execution_count": 1,
   "metadata": {
    "collapsed": false
   },
   "outputs": [],
   "source": [
    "%load_ext jupyter_cms"
   ]
  },
  {
   "cell_type": "code",
   "execution_count": 1,
   "metadata": {
    "collapsed": true
   },
   "outputs": [],
   "source": [
    "import os\n",
    "from Bio import SeqIO"
   ]
  },
  {
   "cell_type": "code",
   "execution_count": 2,
   "metadata": {
    "collapsed": true
   },
   "outputs": [],
   "source": [
    "#here is the in file defined containing alternative \n",
    "file_path ='/Users/ben/Documents/work_related/Canberra/RJ_lab_projects/Rust_genome_sequencing/PST79/analysis/PacBio_SCH1743/FALCON_0_4_assemblies/p_assemblies/v9_1/'\n",
    "file_name='v91_cns_gcoords_cur_ph_ctg_masked.fa'\n",
    "bash_script_q=\"v91_pa_ctg_qmapping.sh\"\n",
    "bash_script_g=\"v91_pa_ctg_ctg_gmapping.sh\"\n",
    "outdir = '/Users/ben/Documents/work_related/Canberra/RJ_lab_projects/Rust_genome_sequencing/PST79/analysis/PacBio_SCH1743/FALCON_0_4_assemblies/p_assemblies/v9_1/v91_pa/nucmer_h_on_pwh/'"
   ]
  },
  {
   "cell_type": "code",
   "execution_count": 3,
   "metadata": {
    "collapsed": false
   },
   "outputs": [
    {
     "data": {
      "text/plain": [
       "True"
      ]
     },
     "execution_count": 3,
     "metadata": {},
     "output_type": "execute_result"
    }
   ],
   "source": [
    "total_seq_recs = 0\n",
    "p_contigs =[]\n",
    "a_contigs = []\n",
    "a_count =0\n",
    "p_count =0\n",
    "for seq_record in SeqIO.parse(file_path+'/'+file_name, \"fasta\"):\n",
    "    if \"_\" in list(seq_record.id):\n",
    "        a_contigs.append(seq_record)\n",
    "        a_count += 1\n",
    "    else:\n",
    "        p_contigs.append(seq_record)\n",
    "        p_count += 1\n",
    "    total_seq_recs += 1\n",
    "total_seq_recs == p_count + a_count"
   ]
  },
  {
   "cell_type": "code",
   "execution_count": 8,
   "metadata": {
    "collapsed": false
   },
   "outputs": [],
   "source": [
    "os.chdir(outdir)"
   ]
  },
  {
   "cell_type": "code",
   "execution_count": 4,
   "metadata": {
    "collapsed": false
   },
   "outputs": [
    {
     "data": {
      "text/plain": [
       "174"
      ]
     },
     "execution_count": 4,
     "metadata": {},
     "output_type": "execute_result"
    }
   ],
   "source": [
    "SeqIO.write(a_contigs,file_name[:-3]+'_a_ctg.fa' , 'fasta')\n",
    "SeqIO.write(p_contigs,file_name[:-3]+'_p_ctg.fa' , 'fasta')"
   ]
  },
  {
   "cell_type": "code",
   "execution_count": 13,
   "metadata": {
    "collapsed": false
   },
   "outputs": [
    {
     "name": "stdout",
     "output_type": "stream",
     "text": [
      "Lineadafds\n",
      "\n"
     ]
    },
    {
     "name": "stderr",
     "output_type": "stream",
     "text": [
      "/anaconda/lib/python3.5/site-packages/ipykernel/__main__.py:1: DeprecationWarning: 'U' mode is deprecated\n",
      "  if __name__ == '__main__':\n"
     ]
    }
   ],
   "source": [
    "myFile = open(file_path+'test', 'rU')\n",
    "for line in iter(myFile):\n",
    "    if '#' == line[0]:\n",
    "        pass\n",
    "        #print(line)\n",
    "    else:\n",
    "        print('Line'+line)"
   ]
  },
  {
   "cell_type": "code",
   "execution_count": 9,
   "metadata": {
    "collapsed": false
   },
   "outputs": [
    {
     "name": "stdout",
     "output_type": "stream",
     "text": [
      "cat: test: No such file or directory\r\n"
     ]
    }
   ],
   "source": [
    "!cat test"
   ]
  },
  {
   "cell_type": "code",
   "execution_count": 5,
   "metadata": {
    "collapsed": false
   },
   "outputs": [
    {
     "name": "stdout",
     "output_type": "stream",
     "text": [
      "03082016_contig_split_ncumer_assembly_v8_1_unzip_rcoords_all.ipynb\r\n",
      "09082016_pwoh_on_pwoh_mapping_summary_and_renaming_v8_1.ipynb\r\n",
      "15082016_contig_split_ncumer_assembly_v9_unzip.ipynb\r\n",
      "15082016_v91_cns_pwoh_on_pwh_mapping_summary_and_renaming.ipynb\r\n",
      "15082016_v91_on_v81_nucmer_and_renaming.ipynb\r\n",
      "15082016_v9_1_three_way_comp_analysis.ipynb\r\n",
      "15082019_v91_all_ph_contig_split_ncumer_h_on_p.ipynb\r\n",
      "15082019_v91_cns_contig_split_ncumer_h_on_p.ipynb\r\n",
      "15082019_v91_cns_contig_split_ncumer_h_on_p_gcoords_all.ipynb\r\n",
      "15082019_v91_cns_contig_split_ncumer_h_on_p_gcoords_cur.ipynb\r\n",
      "15082019_v91_cns_split_hack.ipynb\r\n",
      "15082019_v91_pa_contig_split_ncumer_h_on_p.ipynb\r\n",
      "16052016_blast_and_coverage_analysis_py3.ipynb\r\n",
      "16082016_PacBio_Falcon_assembly_assesment-v91_cns_h.ipynb\r\n",
      "16082016_PacBio_Falcon_assembly_assesment-v91_cns_p.ipynb\r\n",
      "16082016_PacBio_Falcon_assembly_assesment-v91_cns_ph.ipynb\r\n",
      "17052016_v4_1_blast_and_coverage_analysis_py3-Copy1.ipynb\r\n",
      "18082016_v8_1_cns_ph_tr_coverage_analysis.ipynb\r\n",
      "18082016_v91_cns_ph__blast_and_coverage_analysis.ipynb\r\n",
      "23082016_v9_1_cns_coverage_analysis-Copy1.ipynb\r\n",
      "23082016_v9_1_cns_coverage_analysis.ipynb\r\n",
      "28062016_v8_1_ph_tr_coverage_analysis.ipynb\r\n",
      "Untitled.ipynb\r\n",
      "_28062016_v8_1_ph_tr_blast_and_coverage_analysis.ipynb\r\n",
      "v91_cns_gcoords_cur_ph_ctg_masked_a_ctg.fa\r\n",
      "v91_cns_gcoords_cur_ph_ctg_masked_p_ctg.fa\r\n"
     ]
    }
   ],
   "source": [
    "!ls"
   ]
  },
  {
   "cell_type": "code",
   "execution_count": 11,
   "metadata": {
    "collapsed": false
   },
   "outputs": [],
   "source": [
    "outfq = open(bash_script_q, 'w')\n",
    "outfq.write('#!/bin/bash\\n')\n",
    "outfg = open(bash_script_g, 'w')\n",
    "outfg.write('#!/bin/bash\\n')\n",
    "for pseq_record in SeqIO.parse(file_name[:-3]+'_p_ctg.fa', 'fasta'):\n",
    "    p_acontigs = []\n",
    "    p_contig = pseq_record\n",
    "    suffix = file_name[:-3]+pseq_record.id.split(\"|\")[0]+\"pap\"\n",
    "    p_file = file_name[0:-3]+\"_\"+pseq_record.id.split(\"|\")[0]+'.fa'\n",
    "    SeqIO.write(p_contig, p_file, 'fasta')\n",
    "    for aseq_record in SeqIO.parse(file_name[:-3]+'_a_ctg.fa', 'fasta'):\n",
    "        if aseq_record.id.split(\"|\")[0].split(\"_\")[0] == pseq_record.id.split(\"|\")[0]:\n",
    "            p_acontigs.append(aseq_record)\n",
    "    a_file = file_name[:-3]+\"_\"+pseq_record.id.split(\"|\")[0]+'_a_ctg.fa'\n",
    "    #if we have alternative contigs safe those too\n",
    "    if p_acontigs != []:\n",
    "        SeqIO.write(p_acontigs, a_file, 'fasta')\n",
    "        outfq.write('nucmer '+p_file+' '+a_file+\" > \"+'out.delta\\n')\n",
    "        outfq.write('delta-filter -q '+'out.delta'+\" > \"+suffix+\"_qfiltered.delta\\n\")\n",
    "        outfq.write('show-coords -T '+suffix+\"_qfiltered.delta > \"+suffix+\".qcoords\\n\")\n",
    "        outfq.write('mummerplot -p '+suffix+'_qfiltered --postscript '+suffix+\"_qfiltered.delta\\n\")\n",
    "        outfq.write('mummerplot -c -p '+suffix+'_qfiltered_cov --postscript '+suffix+\"_qfiltered.delta\\n\")\n",
    "        #for g_file bash script\n",
    "        outfg.write('nucmer '+p_file+' '+a_file+\" > \"+'out.delta\\n')\n",
    "        outfg.write('delta-filter -g '+'out.delta'+\" > \"+suffix+\"_gfiltered.delta\\n\")\n",
    "        outfg.write('show-coords -T '+suffix+\"_gfiltered.delta > \"+suffix+\".gcoords\\n\")\n",
    "        outfg.write('mummerplot -p '+suffix+'_gfiltered --postscript '+suffix+\"_gfiltered.delta\\n\")\n",
    "        outfg.write('mummerplot -c -p  '+suffix+'_gfiltered_cov --postscript '+suffix+\"_gfiltered.delta\\n\")\n",
    "outfq.close()\n",
    "outfg.close()"
   ]
  },
  {
   "cell_type": "code",
   "execution_count": null,
   "metadata": {
    "collapsed": true
   },
   "outputs": [],
   "source": []
  },
  {
   "cell_type": "code",
   "execution_count": null,
   "metadata": {
    "collapsed": true
   },
   "outputs": [],
   "source": []
  },
  {
   "cell_type": "code",
   "execution_count": null,
   "metadata": {
    "collapsed": true
   },
   "outputs": [],
   "source": []
  },
  {
   "cell_type": "code",
   "execution_count": null,
   "metadata": {
    "collapsed": false
   },
   "outputs": [],
   "source": []
  }
 ],
 "metadata": {
  "anaconda-cloud": {},
  "kernelspec": {
   "display_name": "Python [Root]",
   "language": "python",
   "name": "Python [Root]"
  },
  "language_info": {
   "codemirror_mode": {
    "name": "ipython",
    "version": 3
   },
   "file_extension": ".py",
   "mimetype": "text/x-python",
   "name": "python",
   "nbconvert_exporter": "python",
   "pygments_lexer": "ipython3",
   "version": "3.5.2"
  }
 },
 "nbformat": 4,
 "nbformat_minor": 0
}
