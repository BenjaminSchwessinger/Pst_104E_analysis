{
 "cells": [
  {
   "cell_type": "markdown",
   "metadata": {},
   "source": [
    "### Quick script to get gene or CDS sequences from gff file"
   ]
  },
  {
   "cell_type": "code",
   "execution_count": 1,
   "metadata": {
    "collapsed": false
   },
   "outputs": [],
   "source": [
    "import pandas as pd\n",
    "import pybedtools \n",
    "import os\n",
    "from Bio import SeqIO\n",
    "from Bio.SeqRecord import SeqRecord\n",
    "from Bio.Seq import Seq\n",
    "import collections"
   ]
  },
  {
   "cell_type": "code",
   "execution_count": 2,
   "metadata": {
    "collapsed": true
   },
   "outputs": [],
   "source": [
    "in_dir = '/home/benjamin/genome_assembly/PST79/FALCON/p_assemblies/v9_1/032017_assembly'\n",
    "feature = \"CDS\""
   ]
  },
  {
   "cell_type": "code",
   "execution_count": 3,
   "metadata": {
    "collapsed": false
   },
   "outputs": [],
   "source": [
    "def col_8_id(x):\n",
    "    import re\n",
    "    pattern = r'ID=([a-zA-Z0-9_.]*)'\n",
    "    regex = re.compile(pattern)\n",
    "    m = regex.search(x)\n",
    "    match = m.groups()[0].replace('TU', 'model')\n",
    "    if match.startswith('cds.'):\n",
    "        match = match[4:]\n",
    "    if 'exon' in match:\n",
    "        _list = match.split('.')\n",
    "        match = '.'.join(_list[:-1])\n",
    "    return match"
   ]
  },
  {
   "cell_type": "code",
   "execution_count": 16,
   "metadata": {
    "collapsed": false
   },
   "outputs": [
    {
     "name": "stdout",
     "output_type": "stream",
     "text": [
      "['Pst_104E_v12_h_ctg.fa', 'Pst_104E_v12_p_ctg.fa', 'Pst_104E_v12_ph_ctg.fa']\n",
      "['Pst_104E_v12_h_ctg.anno.gff3', 'Pst_104E_v12_p_ctg.anno.gff3', 'Pst_104E_v12_ph_ctg.anno.gff3']\n"
     ]
    }
   ],
   "source": [
    "anno_gff = [x for x in os.listdir(in_dir) if x.endswith('anno.gff3')]\n",
    "anno_gff.sort()\n",
    "genome_fa = [x for x in os.listdir(in_dir) if x.endswith('_ctg.fa')]\n",
    "genome_fa.sort()\n",
    "if len(anno_gff) != len(genome_fa):\n",
    "    print('Check if all anno.gff3 and genome fa files are available. It should be three each!')\n",
    "print(genome_fa)\n",
    "print(anno_gff)"
   ]
  },
  {
   "cell_type": "code",
   "execution_count": 18,
   "metadata": {
    "collapsed": false
   },
   "outputs": [
    {
     "name": "stdout",
     "output_type": "stream",
     "text": [
      "Pst_104E_v12_h_ctg.anno.gff3\n"
     ]
    },
    {
     "name": "stderr",
     "output_type": "stream",
     "text": [
      "/home/benjamin/anaconda3/lib/python3.5/site-packages/ipykernel/__main__.py:6: SettingWithCopyWarning: \n",
      "A value is trying to be set on a copy of a slice from a DataFrame.\n",
      "Try using .loc[row_indexer,col_indexer] = value instead\n",
      "\n",
      "See the caveats in the documentation: http://pandas.pydata.org/pandas-docs/stable/indexing.html#indexing-view-versus-copy\n",
      "/home/benjamin/anaconda3/lib/python3.5/site-packages/ipykernel/__main__.py:10: SettingWithCopyWarning: \n",
      "A value is trying to be set on a copy of a slice from a DataFrame.\n",
      "Try using .loc[row_indexer,col_indexer] = value instead\n",
      "\n",
      "See the caveats in the documentation: http://pandas.pydata.org/pandas-docs/stable/indexing.html#indexing-view-versus-copy\n"
     ]
    },
    {
     "name": "stdout",
     "output_type": "stream",
     "text": [
      "Pst_104E_v12_p_ctg.anno.gff3\n",
      "Pst_104E_v12_ph_ctg.anno.gff3\n"
     ]
    }
   ],
   "source": [
    "if feature == 'CDS':\n",
    "    for i, gff in enumerate(anno_gff):\n",
    "        print(gff)\n",
    "        gff_df = pd.read_csv(in_dir+'/'+gff, sep='\\t', header=None)\n",
    "        gff_df_CDS = gff_df[gff_df[2].str.contains(feature)]\n",
    "        gff_df_CDS[2] = gff_df_CDS[8].apply(col_8_id)\n",
    "        out_fn = gff.replace('anno', 'anno.'+feature)\n",
    "        gff_df_CDS.to_csv(in_dir+'/'+out_fn, sep='\\t', header=None, index=None)\n",
    "        #here generate a gff where the name column (==3) contains the ID of the CDS.start_end_strand\n",
    "        gff_df_CDS[2] = gff_df_CDS[2]+'.'+gff_df_CDS[3].astype(str)+'_'+gff_df_CDS[4].astype(str)+'_'+gff_df_CDS[6].astype(str)+'_'+gff_df_CDS[7].astype(str) \n",
    "        out_fn += '.tmp'\n",
    "        gff_df_CDS.to_csv(in_dir+'/'+out_fn, sep='\\t', header=None, index=None)\n",
    "        out_fn_2 = out_fn.replace('gff3','fa')\n",
    "        !bedtools getfasta -s -name -fullHeader -fi {in_dir+'/'+genome_fa[i]} -bed {in_dir+'/'+out_fn} -fo {in_dir+'/'+out_fn_2}"
   ]
  },
  {
   "cell_type": "code",
   "execution_count": 23,
   "metadata": {
    "collapsed": false
   },
   "outputs": [
    {
     "name": "stdout",
     "output_type": "stream",
     "text": [
      "Working on Pst_104E_v12_p_ctg.anno.CDS.fa.tmp.\n"
     ]
    },
    {
     "name": "stderr",
     "output_type": "stream",
     "text": [
      "/home/benjamin/anaconda3/lib/python3.5/site-packages/Bio/Seq.py:2095: BiopythonWarning: Partial codon, len(sequence) not a multiple of three. Explicitly trim the sequence or add trailing N before translation. This may become an error in future.\n",
      "  BiopythonWarning)\n"
     ]
    },
    {
     "name": "stdout",
     "output_type": "stream",
     "text": [
      "Working on Pst_104E_v12_h_ctg.anno.CDS.fa.tmp.\n",
      "Working on Pst_104E_v12_ph_ctg.anno.CDS.fa.tmp.\n"
     ]
    }
   ],
   "source": [
    "#now pull in the tmp file generated by the bedtools\n",
    "CDS_dict ={}\n",
    "CDS_sequences = {}\n",
    "protein_sequences = {}\n",
    "non_phase_dict = {}\n",
    "count = 0\n",
    "not_multiples = []\n",
    "#generate a dictionary of CDS sequences. Key being the CDS id and value being the dict key=partial_CDS_ID\n",
    "#value being the sequence objects\n",
    "for gff_CDS_tmp in [x for x in os.listdir(in_dir) if x.endswith('CDS.fa.tmp')]:\n",
    "    print(\"Working on %s.\" %(gff_CDS_tmp))\n",
    "    for record in SeqIO.parse(in_dir+'/'+gff_CDS_tmp, 'fasta'):\n",
    "        _id = '.'.join(record.id.split('.')[:-1])\n",
    "        if _id not in CDS_dict.keys():\n",
    "            CDS_dict[_id] = {record.id:record.seq}\n",
    "        else:\n",
    "            CDS_dict[_id].update({record.id:record.seq})\n",
    "\n",
    "    #loop through the dictonary. Make an ordered dict for each CDS dict and concatenate the sequences\n",
    "    for record_id in CDS_dict.keys():\n",
    "        #record_id ='evm.model.hcontig_050_003.3'\n",
    "        tmp_dict = CDS_dict[record_id]\n",
    "        tmp_start_dict = {}\n",
    "        for x in tmp_dict.keys():\n",
    "            #need to get the keys as intergers to sort them numerically\n",
    "            start = int(x.split('.')[-1].split('_')[0])\n",
    "            tmp_start_dict.update({start:x})\n",
    "        tmp_od_dict = collections.OrderedDict(sorted(tmp_start_dict.items(), key=lambda t:t[0]))\n",
    "        sequence =''\n",
    "        #check if the sequence is reversed using the strand information\n",
    "        if set([x[-3] for x in tmp_dict.keys()]) == {'-'}:\n",
    "            for x in reversed(tmp_od_dict):\n",
    "                key = tmp_od_dict[x]\n",
    "                sequence = sequence + tmp_dict[key]\n",
    "                sub_set = [tmp_od_dict[x] for x in reversed(tmp_od_dict)][0][-1]\n",
    "                if sub_set != '0':\n",
    "                    non_phase_dict.update({record_id:sub_set})\n",
    "\n",
    "        elif set([x[-3] for x in tmp_dict.keys()]) == {'+'}:\n",
    "            for x in tmp_od_dict.keys():\n",
    "                key = tmp_od_dict[x]\n",
    "                sequence = sequence + tmp_dict[key]\n",
    "                sub_set = sub_set = [tmp_od_dict[x] for x in tmp_od_dict][0][-1]\n",
    "                if sub_set != '0':\n",
    "                    non_phase_dict.update({record_id:sub_set})\n",
    "\n",
    "\n",
    "        else:\n",
    "            print('Something with the parsing went wrong!')\n",
    "            print(record_id)\n",
    "            #print(sequences)\n",
    "\n",
    "        if len(sequence)%3 != 0:\n",
    "            #print(record_id)\n",
    "            not_multiples.append(record_id)\n",
    "        #print(sequences)\n",
    "        prot_seq = sequence.translate()\n",
    "        CDS_record = SeqRecord(sequence, id=record_id, description='')\n",
    "        protein_record = SeqRecord(prot_seq, id=record_id, description='')\n",
    "        CDS_sequences.update({record_id : CDS_record})\n",
    "        protein_sequences.update({record_id :protein_record})\n",
    "\n",
    "    out_fn_CDS = in_dir+'/'+out_fn_2.replace('.tmp','')\n",
    "    out_fn_protein = out_fn_CDS.replace(\"CDS\", 'protein2')\n",
    "    out_hn_CDS = open(out_fn_CDS, 'w')\n",
    "    SeqIO.write(CDS_sequences.values(), out_hn_CDS, 'fasta')\n",
    "    out_hn_CDS.close()\n",
    "    for x in non_phase_dict.keys():\n",
    "        sub_set = int(non_phase_dict[x])\n",
    "        sequence = CDS_sequences[x].seq\n",
    "        prot_seq = sequence[sub_set:].translate()\n",
    "        protein_record = SeqRecord(prot_seq, id=x, description='')\n",
    "        protein_sequences.update({x :protein_record})\n",
    "    out_hn_protein = open(out_fn_protein, 'w')\n",
    "    SeqIO.write(protein_sequences.values(), out_fn_protein, 'fasta')\n",
    "    out_hn_protein.close()"
   ]
  },
  {
   "cell_type": "code",
   "execution_count": 24,
   "metadata": {
    "collapsed": false
   },
   "outputs": [
    {
     "name": "stdout",
     "output_type": "stream",
     "text": [
      "0\n"
     ]
    }
   ],
   "source": [
    "count = 0\n",
    "for x in protein_sequences.keys():\n",
    "    if protein_sequences[x].seq.count('*') > 1:\n",
    "        print(protein_sequences[x])\n",
    "        count += 1\n",
    "print(count)"
   ]
  },
  {
   "cell_type": "code",
   "execution_count": 25,
   "metadata": {
    "collapsed": false
   },
   "outputs": [
    {
     "name": "stdout",
     "output_type": "stream",
     "text": [
      "evm.model.hcontig_031_015.8\n"
     ]
    }
   ],
   "source": [
    "for x in SeqIO.parse(in_dir+'/Pst_104E_v12_ph_ctg.anno.protein.fa', format='fasta'):\n",
    "    if x.seq != protein_sequences[x.id].seq:\n",
    "        print(x.id)"
   ]
  },
  {
   "cell_type": "code",
   "execution_count": null,
   "metadata": {
    "collapsed": false
   },
   "outputs": [],
   "source": [
    "len({x for x in non_phase_dict.keys()} -set(not_multiples) )"
   ]
  },
  {
   "cell_type": "code",
   "execution_count": null,
   "metadata": {
    "collapsed": false
   },
   "outputs": [],
   "source": [
    "for x in non_phase_dict.keys():\n",
    "    x = 'evm.model.hcontig_031_015.8'\n",
    "    sub_set = int(non_phase_dict[x])\n",
    "    sequence = CDS_sequences[x].seq\n",
    "    protein_seq = sequence[sub_set:].translate()\n",
    "    print(protein_seq)"
   ]
  },
  {
   "cell_type": "code",
   "execution_count": null,
   "metadata": {
    "collapsed": false
   },
   "outputs": [],
   "source": [
    "sequence[1:]"
   ]
  },
  {
   "cell_type": "code",
   "execution_count": null,
   "metadata": {
    "collapsed": false
   },
   "outputs": [],
   "source": [
    "non_phase_dict['evm.model.hcontig_035_013.1']"
   ]
  },
  {
   "cell_type": "code",
   "execution_count": null,
   "metadata": {
    "collapsed": false
   },
   "outputs": [],
   "source": [
    "[x for x in reversed(tmp_od_dict.keys())][0][-3]"
   ]
  },
  {
   "cell_type": "code",
   "execution_count": null,
   "metadata": {
    "collapsed": false
   },
   "outputs": [],
   "source": [
    "non_phase_dict['evm.model.hcontig_014_117.28']"
   ]
  },
  {
   "cell_type": "code",
   "execution_count": null,
   "metadata": {
    "collapsed": true
   },
   "outputs": [],
   "source": [
    "for x in non_phase_dict.keys():\n",
    "    #sub_set = non_phase_dict['evm.model.hcontig_014_117.28']\n",
    "    print(CDS_sequences['evm.model.hcontig_014_117.28'].seq.translate())\n",
    "    print(sub_set)"
   ]
  },
  {
   "cell_type": "code",
   "execution_count": null,
   "metadata": {
    "collapsed": false
   },
   "outputs": [],
   "source": [
    "\n",
    "tmp_od_dict = collections.OrderedDict(sorted(CDS_dict['evm.model.hcontig_026_011.1'].items()))\n",
    "sequence =''\n",
    "non_phase_dict = {}\n",
    "\n",
    "\n",
    "if set([x[-3] for x in tmp_od_dict.keys()]) == {'-'}:\n",
    "    sub_set = [x for x in tmp_od_dict.keys()][0][-1]\n",
    "    if sub_set != '.':\n",
    "        non_phase_dict.update({'.'.join(x.split('.')[:-1]):sub_set})\n",
    "    for x in tmp_od_dict.keys():\n",
    "        print(x)\n",
    "        sequence = sequence + tmp_od_dict[x]\n",
    "elif set([x[-3] for x in tmp_od_dict.keys()]) == {'+'}:\n",
    "        sub_set = [x for x in tmp_od_dict.keys()][0][-1]\n",
    "        if sub_set != '.':\n",
    "            non_phase_dict.update({'.'.join(x.split('.')[:-1]):sub_set})\n",
    "        for x in tmp_od_dict:\n",
    "            sequence = sequence + tmp_od_dict[x]\n",
    "else:\n",
    "    print('Something with the parsing went wrong!')\n",
    "    print(record_id)\n",
    "        #print(sequences)\n",
    "if len(sequence)%3 != 0:\n",
    "\n",
    "    print(\"Seqence for %s not multiple of 3\" % x)\n",
    "print(non_phase_dict)"
   ]
  },
  {
   "cell_type": "code",
   "execution_count": null,
   "metadata": {
    "collapsed": false
   },
   "outputs": [],
   "source": [
    "for x in tmp_od_dict.keys():\n",
    "        print(x.split('.')[-1].split('_')[0])"
   ]
  },
  {
   "cell_type": "code",
   "execution_count": null,
   "metadata": {
    "collapsed": false
   },
   "outputs": [],
   "source": [
    "for x in tmp_od_dict.:\n",
    "    print (x)"
   ]
  },
  {
   "cell_type": "code",
   "execution_count": null,
   "metadata": {
    "collapsed": false
   },
   "outputs": [],
   "source": [
    "[x[-1] for x in tmp_od_dict.keys()]"
   ]
  },
  {
   "cell_type": "code",
   "execution_count": null,
   "metadata": {
    "collapsed": false
   },
   "outputs": [],
   "source": [
    "non_phase_dict['evm.model.hcontig_014_117.28']"
   ]
  },
  {
   "cell_type": "code",
   "execution_count": null,
   "metadata": {
    "collapsed": false
   },
   "outputs": [],
   "source": [
    "[x for x in reversed(tmp_od_dict.keys())]"
   ]
  },
  {
   "cell_type": "code",
   "execution_count": null,
   "metadata": {
    "collapsed": false
   },
   "outputs": [],
   "source": [
    "reversed(tmp_od_dict.keys())"
   ]
  },
  {
   "cell_type": "code",
   "execution_count": null,
   "metadata": {
    "collapsed": false
   },
   "outputs": [],
   "source": [
    "CDS_dict['evm.model.hcontig_000_037.3']"
   ]
  },
  {
   "cell_type": "code",
   "execution_count": null,
   "metadata": {
    "collapsed": false
   },
   "outputs": [],
   "source": [
    "sequence.translate()"
   ]
  },
  {
   "cell_type": "code",
   "execution_count": null,
   "metadata": {
    "collapsed": false
   },
   "outputs": [],
   "source": [
    "seq =''\n",
    "for x in CDS_dict['evm.model.hcontig_000_037.3'].keys():\n",
    "    print(CDS_dict['evm.model.hcontig_000_037.3'][x])\n",
    "    "
   ]
  },
  {
   "cell_type": "code",
   "execution_count": null,
   "metadata": {
    "collapsed": false
   },
   "outputs": [],
   "source": [
    "print(seq)"
   ]
  },
  {
   "cell_type": "code",
   "execution_count": null,
   "metadata": {
    "collapsed": false
   },
   "outputs": [],
   "source": [
    "len(sequence)%3"
   ]
  },
  {
   "cell_type": "code",
   "execution_count": null,
   "metadata": {
    "collapsed": false
   },
   "outputs": [],
   "source": [
    "len(CDS_sequences)"
   ]
  },
  {
   "cell_type": "code",
   "execution_count": null,
   "metadata": {
    "collapsed": false
   },
   "outputs": [],
   "source": [
    "asequence = sequence + tmp_od_dict[x]"
   ]
  },
  {
   "cell_type": "code",
   "execution_count": null,
   "metadata": {
    "collapsed": false
   },
   "outputs": [],
   "source": [
    "tmp_od_dict[x]"
   ]
  },
  {
   "cell_type": "code",
   "execution_count": null,
   "metadata": {
    "collapsed": false
   },
   "outputs": [],
   "source": [
    "prot_seq = sequence.translate()\n",
    "prot_string = str(prot_seq)\n",
    "prot_string"
   ]
  },
  {
   "cell_type": "code",
   "execution_count": null,
   "metadata": {
    "collapsed": false
   },
   "outputs": [],
   "source": [
    "SeqRecord(Seq(\"MKQHKAMIVALIVICITAVVAALVTRKDLCEVHIRTGQTEVAVF\",\\\n",
    "                     ),\\\n",
    "id=\"YP_025292.1\", name=\"HokC\",\\\n",
    "description=\"toxic membrane protein\")"
   ]
  },
  {
   "cell_type": "code",
   "execution_count": null,
   "metadata": {
    "collapsed": false
   },
   "outputs": [],
   "source": [
    "SeqRecord(seq = sequence.translate(cds=True), \\\n",
    "                     id = \"trans_\", \\\n",
    "                     description = \"translation of CDS, using default table\")"
   ]
  },
  {
   "cell_type": "code",
   "execution_count": null,
   "metadata": {
    "collapsed": false
   },
   "outputs": [],
   "source": [
    "prot_rec = SeqRecord(seq=prot_seq )\n",
    "prot_rec.seq"
   ]
  },
  {
   "cell_type": "code",
   "execution_count": null,
   "metadata": {
    "collapsed": false
   },
   "outputs": [],
   "source": [
    "CDS_sequences[4]"
   ]
  },
  {
   "cell_type": "code",
   "execution_count": 12,
   "metadata": {
    "collapsed": false
   },
   "outputs": [],
   "source": [
    "tmp_files = [in_dir+'/'+x for x in os.listdir(in_dir) if x.endswith('tmp') ]"
   ]
  },
  {
   "cell_type": "code",
   "execution_count": 13,
   "metadata": {
    "collapsed": false
   },
   "outputs": [],
   "source": [
    "for x in tmp_files:\n",
    "    os.remove(x)"
   ]
  },
  {
   "cell_type": "code",
   "execution_count": null,
   "metadata": {
    "collapsed": false
   },
   "outputs": [],
   "source": [
    "prot_seq"
   ]
  },
  {
   "cell_type": "raw",
   "metadata": {},
   "source": [
    "\n",
    "seq.translate()"
   ]
  },
  {
   "cell_type": "code",
   "execution_count": null,
   "metadata": {
    "collapsed": false
   },
   "outputs": [],
   "source": [
    "bedtool = pybedtools.BedTool(in_dir+'/Pst_104E_v12_h_ctg.anno.CDS.gff3')"
   ]
  },
  {
   "cell_type": "code",
   "execution_count": null,
   "metadata": {
    "collapsed": false
   },
   "outputs": [],
   "source": [
    "!bedtools getfasta -s -name -fullHeader -fi {in_dir+'/'+genome_fa[0]} -bed {in_dir+'/'+out_fn} -fo {in_dir+'/'}test.fa"
   ]
  },
  {
   "cell_type": "code",
   "execution_count": null,
   "metadata": {
    "collapsed": false
   },
   "outputs": [],
   "source": [
    "len(record.seq)"
   ]
  },
  {
   "cell_type": "code",
   "execution_count": null,
   "metadata": {
    "collapsed": false
   },
   "outputs": [],
   "source": [
    "gff_df_CDS.head(20)"
   ]
  },
  {
   "cell_type": "code",
   "execution_count": null,
   "metadata": {
    "collapsed": false
   },
   "outputs": [],
   "source": [
    "import collections\n",
    "#od_CDS_dict = collections.OrderedDict(sorted())\n",
    "tmp_od_dict = collections.OrderedDict(sorted(CDS_dict['evm.model.hcontig_022_015'].items()))\n",
    "if set([x[-1] for x in tmp_od_dict.keys()]) == {'-'}:\n",
    "       print('True')"
   ]
  },
  {
   "cell_type": "code",
   "execution_count": null,
   "metadata": {
    "collapsed": false
   },
   "outputs": [],
   "source": [
    "tmp_od_dict"
   ]
  },
  {
   "cell_type": "code",
   "execution_count": null,
   "metadata": {
    "collapsed": false
   },
   "outputs": [],
   "source": [
    "seq = ''\n",
    "for x in reversed(tmp_od_dict):\n",
    "    seq += tmp_od_dict[x]"
   ]
  },
  {
   "cell_type": "code",
   "execution_count": null,
   "metadata": {
    "collapsed": false
   },
   "outputs": [],
   "source": [
    "print(seq.translate())"
   ]
  },
  {
   "cell_type": "code",
   "execution_count": null,
   "metadata": {
    "collapsed": true
   },
   "outputs": [],
   "source": [
    "from Bio import SeqRecord.SeqRecord"
   ]
  },
  {
   "cell_type": "code",
   "execution_count": null,
   "metadata": {
    "collapsed": false
   },
   "outputs": [],
   "source": [
    "_record = SeqRecord.SeqRecord(seq, id='evm.model.hcontig_000_003.181', description='')"
   ]
  },
  {
   "cell_type": "code",
   "execution_count": null,
   "metadata": {
    "collapsed": false
   },
   "outputs": [],
   "source": [
    "out_hn = open(in_dir+'/test2.fa', 'w')\n",
    "SeqIO.write(_record, out_hn, 'fasta')\n",
    "out_hn.close()"
   ]
  },
  {
   "cell_type": "code",
   "execution_count": null,
   "metadata": {
    "collapsed": true
   },
   "outputs": [],
   "source": [
    "_record.seq = seq"
   ]
  },
  {
   "cell_type": "code",
   "execution_count": null,
   "metadata": {
    "collapsed": false
   },
   "outputs": [],
   "source": [
    "_record.format = 'fasta'\n",
    "_record.seq = "
   ]
  },
  {
   "cell_type": "code",
   "execution_count": null,
   "metadata": {
    "collapsed": false
   },
   "outputs": [],
   "source": [
    "tmp_od_dict"
   ]
  },
  {
   "cell_type": "code",
   "execution_count": null,
   "metadata": {
    "collapsed": false
   },
   "outputs": [],
   "source": [
    "od_CDS_dict.keys()"
   ]
  },
  {
   "cell_type": "code",
   "execution_count": null,
   "metadata": {
    "collapsed": true
   },
   "outputs": [],
   "source": []
  }
 ],
 "metadata": {
  "kernelspec": {
   "display_name": "Python 3",
   "language": "python",
   "name": "python3"
  },
  "language_info": {
   "codemirror_mode": {
    "name": "ipython",
    "version": 3
   },
   "file_extension": ".py",
   "mimetype": "text/x-python",
   "name": "python",
   "nbconvert_exporter": "python",
   "pygments_lexer": "ipython3",
   "version": "3.5.2"
  }
 },
 "nbformat": 4,
 "nbformat_minor": 0
}
