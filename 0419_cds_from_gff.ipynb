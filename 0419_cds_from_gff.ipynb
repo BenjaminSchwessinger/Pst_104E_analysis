{
 "cells": [
  {
   "cell_type": "markdown",
   "metadata": {},
   "source": [
    "### Quick script to get gene or CDS sequences from gff file"
   ]
  },
  {
   "cell_type": "code",
   "execution_count": 1,
   "metadata": {
    "collapsed": false
   },
   "outputs": [],
   "source": [
    "import pandas as pd\n",
    "import pybedtools \n",
    "import os\n",
    "from Bio import SeqIO\n",
    "from Bio.SeqRecord import SeqRecord\n",
    "from Bio.Seq import Seq\n",
    "import collections"
   ]
  },
  {
   "cell_type": "code",
   "execution_count": 2,
   "metadata": {
    "collapsed": true
   },
   "outputs": [],
   "source": [
    "in_dir = '/home/benjamin/genome_assembly/PST79/FALCON/p_assemblies/v9_1/032017_assembly'\n",
    "feature = \"CDS\""
   ]
  },
  {
   "cell_type": "code",
   "execution_count": 3,
   "metadata": {
    "collapsed": false
   },
   "outputs": [],
   "source": [
    "def col_8_id(x):\n",
    "    import re\n",
    "    pattern = r'ID=([a-zA-Z0-9_.]*)'\n",
    "    regex = re.compile(pattern)\n",
    "    m = regex.search(x)\n",
    "    match = m.groups()[0].replace('TU', 'model')\n",
    "    if match.startswith('cds.'):\n",
    "        match = match[4:]\n",
    "    if 'exon' in match:\n",
    "        _list = match.split('.')\n",
    "        match = '.'.join(_list[:-1])\n",
    "    return match"
   ]
  },
  {
   "cell_type": "code",
   "execution_count": 16,
   "metadata": {
    "collapsed": false
   },
   "outputs": [
    {
     "name": "stdout",
     "output_type": "stream",
     "text": [
      "['Pst_104E_v12_h_ctg.fa', 'Pst_104E_v12_p_ctg.fa', 'Pst_104E_v12_ph_ctg.fa']\n",
      "['Pst_104E_v12_h_ctg.anno.gff3', 'Pst_104E_v12_p_ctg.anno.gff3', 'Pst_104E_v12_ph_ctg.anno.gff3']\n"
     ]
    }
   ],
   "source": [
    "anno_gff = [x for x in os.listdir(in_dir) if x.endswith('anno.gff3')]\n",
    "anno_gff.sort()\n",
    "genome_fa = [x for x in os.listdir(in_dir) if x.endswith('_ctg.fa')]\n",
    "genome_fa.sort()\n",
    "if len(anno_gff) != len(genome_fa):\n",
    "    print('Check if all anno.gff3 and genome fa files are available. It should be three each!')\n",
    "print(genome_fa)\n",
    "print(anno_gff)"
   ]
  },
  {
   "cell_type": "code",
   "execution_count": 30,
   "metadata": {
    "collapsed": false
   },
   "outputs": [
    {
     "name": "stdout",
     "output_type": "stream",
     "text": [
      "Pst_104E_v12_h_ctg.anno.gff3\n"
     ]
    },
    {
     "name": "stderr",
     "output_type": "stream",
     "text": [
      "/home/benjamin/anaconda3/lib/python3.5/site-packages/ipykernel/__main__.py:6: SettingWithCopyWarning: \n",
      "A value is trying to be set on a copy of a slice from a DataFrame.\n",
      "Try using .loc[row_indexer,col_indexer] = value instead\n",
      "\n",
      "See the caveats in the documentation: http://pandas.pydata.org/pandas-docs/stable/indexing.html#indexing-view-versus-copy\n",
      "/home/benjamin/anaconda3/lib/python3.5/site-packages/ipykernel/__main__.py:10: SettingWithCopyWarning: \n",
      "A value is trying to be set on a copy of a slice from a DataFrame.\n",
      "Try using .loc[row_indexer,col_indexer] = value instead\n",
      "\n",
      "See the caveats in the documentation: http://pandas.pydata.org/pandas-docs/stable/indexing.html#indexing-view-versus-copy\n"
     ]
    },
    {
     "name": "stdout",
     "output_type": "stream",
     "text": [
      "Pst_104E_v12_p_ctg.anno.gff3\n",
      "Pst_104E_v12_ph_ctg.anno.gff3\n"
     ]
    }
   ],
   "source": [
    "if feature == 'CDS':\n",
    "    for i, gff in enumerate(anno_gff):\n",
    "        print(gff)\n",
    "        gff_df = pd.read_csv(in_dir+'/'+gff, sep='\\t', header=None)\n",
    "        gff_df_CDS = gff_df[gff_df[2].str.contains(feature)]\n",
    "        gff_df_CDS[2] = gff_df_CDS[8].apply(col_8_id)\n",
    "        out_fn = gff.replace('anno', 'anno.'+feature)\n",
    "        gff_df_CDS.to_csv(in_dir+'/'+out_fn, sep='\\t', header=None, index=None)\n",
    "        #here generate a gff where the name column (==3) contains the ID of the CDS.start_end_phase_strand\n",
    "        #this will be used later to pull out the information after bedtools was run\n",
    "        gff_df_CDS[2] = gff_df_CDS[2]+'.'+gff_df_CDS[3].astype(str)+'_'+gff_df_CDS[4].astype(str)+'_'+gff_df_CDS[6].astype(str)+'_'+gff_df_CDS[7].astype(str) \n",
    "        out_fn += '.tmp'\n",
    "        gff_df_CDS.to_csv(in_dir+'/'+out_fn, sep='\\t', header=None, index=None)\n",
    "        out_fn_2 = out_fn.replace('gff3','fa')\n",
    "        #this is the bedtools command and should be run in a subproccess or such.\n",
    "        !bedtools getfasta -s -name -fullHeader -fi {in_dir+'/'+genome_fa[i]} -bed {in_dir+'/'+out_fn} -fo {in_dir+'/'+out_fn_2}"
   ]
  },
  {
   "cell_type": "code",
   "execution_count": 31,
   "metadata": {
    "collapsed": false
   },
   "outputs": [
    {
     "name": "stdout",
     "output_type": "stream",
     "text": [
      "Working on Pst_104E_v12_p_ctg.anno.CDS.fa.tmp.\n"
     ]
    },
    {
     "name": "stderr",
     "output_type": "stream",
     "text": [
      "/home/benjamin/anaconda3/lib/python3.5/site-packages/Bio/Seq.py:2095: BiopythonWarning: Partial codon, len(sequence) not a multiple of three. Explicitly trim the sequence or add trailing N before translation. This may become an error in future.\n",
      "  BiopythonWarning)\n"
     ]
    },
    {
     "name": "stdout",
     "output_type": "stream",
     "text": [
      "Working on Pst_104E_v12_h_ctg.anno.CDS.fa.tmp.\n",
      "Working on Pst_104E_v12_ph_ctg.anno.CDS.fa.tmp.\n"
     ]
    }
   ],
   "source": [
    "#now pull in the tmp file generated by the bedtools\n",
    "CDS_dict ={}\n",
    "CDS_sequences = {}\n",
    "protein_sequences = {}\n",
    "non_phase_dict = {}\n",
    "count = 0\n",
    "not_multiples = []\n",
    "#generate a dictionary of CDS sequences. Key being the CDS id and value being the dict key=partial_CDS_ID\n",
    "#value being the sequence objects\n",
    "for gff_CDS_tmp in [x for x in os.listdir(in_dir) if x.endswith('CDS.fa.tmp')]:\n",
    "    print(\"Working on %s.\" %(gff_CDS_tmp))\n",
    "    for record in SeqIO.parse(in_dir+'/'+gff_CDS_tmp, 'fasta'):\n",
    "        #parsing out the gene/protein identifier\n",
    "        _id = '.'.join(record.id.split('.')[:-1])  \n",
    "        #dict key=partial_CDS_ID\n",
    "        if _id not in CDS_dict.keys():\n",
    "            CDS_dict[_id] = {record.id:record.seq}\n",
    "        else:\n",
    "            CDS_dict[_id].update({record.id:record.seq})\n",
    "\n",
    "    #loop through the dictonary. Make an ordered dict for each CDS dict. Use a second dict with int(start):key paring.\n",
    "    #use a order start dict to pull the right order of keys for the CDS sequence dict.\n",
    "    #Parse out strand and frame. Based on this concatenate the sequences and translate.\n",
    "    for record_id in CDS_dict.keys():\n",
    "        tmp_dict = CDS_dict[record_id]\n",
    "        tmp_start_dict = {}\n",
    "        for x in tmp_dict.keys():\n",
    "            #need to get the keys as intergers to sort them numerically\n",
    "            start = int(x.split('.')[-1].split('_')[0]) #split off the start from the key.\n",
    "            tmp_start_dict.update({start:x})\n",
    "        tmp_od_dict = collections.OrderedDict(sorted(tmp_start_dict.items(), key=lambda t:t[0])) #not sure if the lamda is\n",
    "        #necessary a but it is working.\n",
    "        sequence =''\n",
    "        #check if the sequence is reversed using the strand information\n",
    "        if set([x[-3] for x in tmp_dict.keys()]) == {'-'}:\n",
    "            for x in reversed(tmp_od_dict):\n",
    "                key = tmp_od_dict[x]\n",
    "                sequence = sequence + tmp_dict[key]\n",
    "                #pull out the frame\n",
    "                sub_set = [tmp_od_dict[x] for x in reversed(tmp_od_dict)][0][-1]\n",
    "                #add to non 0 phase dict if necessary\n",
    "                if sub_set != '0':\n",
    "                    non_phase_dict.update({record_id:sub_set}) #this is used later to update the main protein dict if frame was not 0.\n",
    "\n",
    "        elif set([x[-3] for x in tmp_dict.keys()]) == {'+'}: #see above simply + strand\n",
    "            for x in tmp_od_dict.keys():\n",
    "                key = tmp_od_dict[x]\n",
    "                sequence = sequence + tmp_dict[key]\n",
    "                sub_set = sub_set = [tmp_od_dict[x] for x in tmp_od_dict][0][-1]\n",
    "                if sub_set != '0':\n",
    "                    non_phase_dict.update({record_id:sub_set})\n",
    "\n",
    "\n",
    "        else: #security check\n",
    "            print('Something with the parsing went wrong!')\n",
    "            print(record_id)\n",
    "            #print(sequences)\n",
    "\n",
    "        if len(sequence)%3 != 0: #some sequences are not //3 = 0\n",
    "            #print(record_id)\n",
    "            not_multiples.append(record_id)\n",
    "        #print(sequences)\n",
    "        #add all sequences to the dictionaries\n",
    "        prot_seq = sequence.translate()\n",
    "        CDS_record = SeqRecord(sequence, id=record_id, description='')\n",
    "        protein_record = SeqRecord(prot_seq, id=record_id, description='')\n",
    "        CDS_sequences.update({record_id : CDS_record})\n",
    "        protein_sequences.update({record_id :protein_record})\n",
    "    #write complete CDS out to file\n",
    "    out_fn_CDS = in_dir+'/'+gff_CDS_tmp.replace('.tmp','')\n",
    "    out_fn_protein = out_fn_CDS.replace(\"CDS\", 'protein2')\n",
    "    out_hn_CDS = open(out_fn_CDS, 'w')\n",
    "    SeqIO.write(CDS_sequences.values(), out_hn_CDS, 'fasta')\n",
    "    out_hn_CDS.close()\n",
    "    #fix the none 0 frame translations\n",
    "    for x in non_phase_dict.keys():\n",
    "        sub_set = int(non_phase_dict[x])\n",
    "        sequence = CDS_sequences[x].seq\n",
    "        prot_seq = sequence[sub_set:].translate()\n",
    "        protein_record = SeqRecord(prot_seq, id=x, description='')\n",
    "        protein_sequences.update({x :protein_record})\n",
    "    #write this fix dict out\n",
    "    out_hn_protein = open(out_fn_protein, 'w')\n",
    "    SeqIO.write(protein_sequences.values(), out_fn_protein, 'fasta')\n",
    "    out_hn_protein.close()"
   ]
  },
  {
   "cell_type": "code",
   "execution_count": 32,
   "metadata": {
    "collapsed": false
   },
   "outputs": [
    {
     "name": "stdout",
     "output_type": "stream",
     "text": [
      "0\n"
     ]
    }
   ],
   "source": [
    "#quick check if nothing went wrong with multiple stop codons. \n",
    "count = 0\n",
    "for x in protein_sequences.keys():\n",
    "    if protein_sequences[x].seq.count('*') > 1:\n",
    "        print(protein_sequences[x])\n",
    "        count += 1\n",
    "print(count)"
   ]
  },
  {
   "cell_type": "code",
   "execution_count": 33,
   "metadata": {
    "collapsed": false
   },
   "outputs": [
    {
     "name": "stdout",
     "output_type": "stream",
     "text": [
      "evm.model.hcontig_031_015.8\n"
     ]
    }
   ],
   "source": [
    "#quick check if nothing went compared to previous file. \n",
    "for x in SeqIO.parse(in_dir+'/Pst_104E_v12_ph_ctg.anno.protein.fa', format='fasta'):\n",
    "    if x.seq != protein_sequences[x.id].seq:\n",
    "        print(x.id)"
   ]
  },
  {
   "cell_type": "code",
   "execution_count": 36,
   "metadata": {
    "collapsed": false
   },
   "outputs": [],
   "source": [
    "#remove files\n",
    "for x in [x for x in os.listdir(in_dir) if x.endswith('.tmp')]:\n",
    "    full_fn = in_dir +'/'+x\n",
    "    os.remove(full_fn)"
   ]
  },
  {
   "cell_type": "code",
   "execution_count": null,
   "metadata": {
    "collapsed": true
   },
   "outputs": [],
   "source": []
  }
 ],
 "metadata": {
  "kernelspec": {
   "display_name": "Python 3",
   "language": "python",
   "name": "python3"
  },
  "language_info": {
   "codemirror_mode": {
    "name": "ipython",
    "version": 3
   },
   "file_extension": ".py",
   "mimetype": "text/x-python",
   "name": "python",
   "nbconvert_exporter": "python",
   "pygments_lexer": "ipython3",
   "version": "3.5.2"
  }
 },
 "nbformat": 4,
 "nbformat_minor": 0
}
