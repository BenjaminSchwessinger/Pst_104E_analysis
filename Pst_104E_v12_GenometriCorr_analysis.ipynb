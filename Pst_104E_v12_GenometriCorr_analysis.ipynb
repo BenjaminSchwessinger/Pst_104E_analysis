{
 "cells": [
  {
   "cell_type": "code",
   "execution_count": 1,
   "metadata": {
    "collapsed": true
   },
   "outputs": [],
   "source": [
    "%matplotlib inline\n",
    "%load_ext rpy2.ipython"
   ]
  },
  {
   "cell_type": "code",
   "execution_count": 2,
   "metadata": {},
   "outputs": [
    {
     "name": "stderr",
     "output_type": "stream",
     "text": [
      "/home/benjamin/anaconda3/lib/python3.5/site-packages/rpy2/rinterface/__init__.py:186: RRuntimeWarning: Loading required package: ggplot2\n",
      "\n",
      "  warnings.warn(x, RRuntimeWarning)\n",
      "/home/benjamin/anaconda3/lib/python3.5/site-packages/rpy2/rinterface/__init__.py:186: RRuntimeWarning: Loading required package: GenometriCorr\n",
      "\n",
      "  warnings.warn(x, RRuntimeWarning)\n",
      "/home/benjamin/anaconda3/lib/python3.5/site-packages/rpy2/rinterface/__init__.py:186: RRuntimeWarning: Loading required package: IRanges\n",
      "\n",
      "  warnings.warn(x, RRuntimeWarning)\n",
      "/home/benjamin/anaconda3/lib/python3.5/site-packages/rpy2/rinterface/__init__.py:186: RRuntimeWarning: Loading required package: BiocGenerics\n",
      "\n",
      "  warnings.warn(x, RRuntimeWarning)\n",
      "/home/benjamin/anaconda3/lib/python3.5/site-packages/rpy2/rinterface/__init__.py:186: RRuntimeWarning: Loading required package: parallel\n",
      "\n",
      "  warnings.warn(x, RRuntimeWarning)\n",
      "/home/benjamin/anaconda3/lib/python3.5/site-packages/rpy2/rinterface/__init__.py:186: RRuntimeWarning: \n",
      "Attaching package: ‘BiocGenerics’\n",
      "\n",
      "\n",
      "  warnings.warn(x, RRuntimeWarning)\n",
      "/home/benjamin/anaconda3/lib/python3.5/site-packages/rpy2/rinterface/__init__.py:186: RRuntimeWarning: The following objects are masked from ‘package:parallel’:\n",
      "\n",
      "    clusterApply, clusterApplyLB, clusterCall, clusterEvalQ,\n",
      "    clusterExport, clusterMap, parApply, parCapply, parLapply,\n",
      "    parLapplyLB, parRapply, parSapply, parSapplyLB\n",
      "\n",
      "\n",
      "  warnings.warn(x, RRuntimeWarning)\n",
      "/home/benjamin/anaconda3/lib/python3.5/site-packages/rpy2/rinterface/__init__.py:186: RRuntimeWarning: The following objects are masked from ‘package:stats’:\n",
      "\n",
      "    IQR, mad, xtabs\n",
      "\n",
      "\n",
      "  warnings.warn(x, RRuntimeWarning)\n",
      "/home/benjamin/anaconda3/lib/python3.5/site-packages/rpy2/rinterface/__init__.py:186: RRuntimeWarning: The following objects are masked from ‘package:base’:\n",
      "\n",
      "    anyDuplicated, append, as.data.frame, cbind, colnames, do.call,\n",
      "    duplicated, eval, evalq, Filter, Find, get, grep, grepl, intersect,\n",
      "    is.unsorted, lapply, lengths, Map, mapply, match, mget, order,\n",
      "    paste, pmax, pmax.int, pmin, pmin.int, Position, rank, rbind,\n",
      "    Reduce, rownames, sapply, setdiff, sort, table, tapply, union,\n",
      "    unique, unsplit, which, which.max, which.min\n",
      "\n",
      "\n",
      "  warnings.warn(x, RRuntimeWarning)\n",
      "/home/benjamin/anaconda3/lib/python3.5/site-packages/rpy2/rinterface/__init__.py:186: RRuntimeWarning: Loading required package: S4Vectors\n",
      "\n",
      "  warnings.warn(x, RRuntimeWarning)\n",
      "/home/benjamin/anaconda3/lib/python3.5/site-packages/rpy2/rinterface/__init__.py:186: RRuntimeWarning: Loading required package: stats4\n",
      "\n",
      "  warnings.warn(x, RRuntimeWarning)\n",
      "/home/benjamin/anaconda3/lib/python3.5/site-packages/rpy2/rinterface/__init__.py:186: RRuntimeWarning: \n",
      "Attaching package: ‘S4Vectors’\n",
      "\n",
      "\n",
      "  warnings.warn(x, RRuntimeWarning)\n",
      "/home/benjamin/anaconda3/lib/python3.5/site-packages/rpy2/rinterface/__init__.py:186: RRuntimeWarning: The following objects are masked from ‘package:base’:\n",
      "\n",
      "    colMeans, colSums, expand.grid, rowMeans, rowSums\n",
      "\n",
      "\n",
      "  warnings.warn(x, RRuntimeWarning)\n",
      "/home/benjamin/anaconda3/lib/python3.5/site-packages/rpy2/rinterface/__init__.py:186: RRuntimeWarning: Loading required package: GenomicFeatures\n",
      "\n",
      "  warnings.warn(x, RRuntimeWarning)\n",
      "/home/benjamin/anaconda3/lib/python3.5/site-packages/rpy2/rinterface/__init__.py:186: RRuntimeWarning: Loading required package: GenomeInfoDb\n",
      "\n",
      "  warnings.warn(x, RRuntimeWarning)\n",
      "/home/benjamin/anaconda3/lib/python3.5/site-packages/rpy2/rinterface/__init__.py:186: RRuntimeWarning: Loading required package: GenomicRanges\n",
      "\n",
      "  warnings.warn(x, RRuntimeWarning)\n",
      "/home/benjamin/anaconda3/lib/python3.5/site-packages/rpy2/rinterface/__init__.py:186: RRuntimeWarning: Loading required package: AnnotationDbi\n",
      "\n",
      "  warnings.warn(x, RRuntimeWarning)\n",
      "/home/benjamin/anaconda3/lib/python3.5/site-packages/rpy2/rinterface/__init__.py:186: RRuntimeWarning: Loading required package: Biobase\n",
      "\n",
      "  warnings.warn(x, RRuntimeWarning)\n",
      "/home/benjamin/anaconda3/lib/python3.5/site-packages/rpy2/rinterface/__init__.py:186: RRuntimeWarning: Welcome to Bioconductor\n",
      "\n",
      "    Vignettes contain introductory material; view with\n",
      "    'browseVignettes()'. To cite Bioconductor, see\n",
      "    'citation(\"Biobase\")', and for packages 'citation(\"pkgname\")'.\n",
      "\n",
      "\n",
      "  warnings.warn(x, RRuntimeWarning)\n",
      "/home/benjamin/anaconda3/lib/python3.5/site-packages/rpy2/rinterface/__init__.py:186: RRuntimeWarning: Loading required package: tcltk\n",
      "\n",
      "  warnings.warn(x, RRuntimeWarning)\n",
      "/home/benjamin/anaconda3/lib/python3.5/site-packages/rpy2/rinterface/__init__.py:186: RRuntimeWarning: Welcome to GenometriCorr version  1.1.17\n",
      "\n",
      "  warnings.warn(x, RRuntimeWarning)\n",
      "/home/benjamin/anaconda3/lib/python3.5/site-packages/rpy2/rinterface/__init__.py:186: RRuntimeWarning: Loading required package: rtracklayer\n",
      "\n",
      "  warnings.warn(x, RRuntimeWarning)\n"
     ]
    },
    {
     "data": {
      "text/plain": [
       "array([1], dtype=int32)"
      ]
     },
     "execution_count": 2,
     "metadata": {},
     "output_type": "execute_result"
    }
   ],
   "source": [
    "%R require(ggplot2); require(GenometriCorr) ; require(rtracklayer);require( rtracklayer);\\\n",
    "require(IRanges)"
   ]
  },
  {
   "cell_type": "code",
   "execution_count": 3,
   "metadata": {
    "collapsed": true
   },
   "outputs": [],
   "source": [
    "import shutil, errno\n",
    "from glob import glob as glb\n",
    "import os\n",
    "\n",
    "def copyanything(src, dest_dir):\n",
    "    for filename in glb(os.path.join(src, '*.*')):\n",
    "        shutil.copy(filename, dest_dir)"
   ]
  },
  {
   "cell_type": "code",
   "execution_count": 4,
   "metadata": {
    "collapsed": true
   },
   "outputs": [],
   "source": [
    "from IPython.display import HTML\n",
    "def PDF(url):\n",
    "    return HTML('<iframe src=./tmp_figures/%s width=700 height=350></iframe>' % url)"
   ]
  },
  {
   "cell_type": "code",
   "execution_count": 5,
   "metadata": {
    "collapsed": true
   },
   "outputs": [],
   "source": [
    "OUT_FOLDER_FIG = '/home/benjamin/genome_assembly/PST79/FALCON/p_assemblies/v9_1/Pst_104E_v12/enrichment_analysis/figures'\n",
    "TMP_FIG_PATH = '/home/benjamin/genome_assembly/PST79/FALCON/p_assemblies/v9_1/downstream_analysis_2017/scripts/tmp_figures'"
   ]
  },
  {
   "cell_type": "code",
   "execution_count": 18,
   "metadata": {},
   "outputs": [],
   "source": [
    "%%R\n",
    "setwd(\"/home/benjamin/genome_assembly/PST79/FALCON/p_assemblies/v9_1/Pst_104E_v12/enrichment_analysis/lists\")\n",
    "getwd()\n",
    "busco_bed <- import(\"Pst_104E_v12_p_busco.gene.bed\", format ='bed')\n",
    "no_busco_bed <- import(\"Pst_104E_v12_p_non_busco.gene.bed\", format ='bed')\n",
    "effector_bed <- import(\"Pst_104E_v12_p_effector.gene.bed\", format='bed')\n",
    "no_effector_bed <- import(\"Pst_104E_v12_p_effectorp_noeffector.gene.bed\", format='bed')\n",
    "no_effector_no_busco_bed <- import(\"Pst_104E_v12_p_no_busco_no_effector.gene.bed\", format='bed')\n",
    "pn.area <- 100\n",
    "pn.dist <- 100\n",
    "pn.jacc <- 100\n"
   ]
  },
  {
   "cell_type": "code",
   "execution_count": 7,
   "metadata": {},
   "outputs": [
    {
     "data": {
      "text/plain": [
       "png \n",
       "  2 \n"
      ]
     },
     "metadata": {},
     "output_type": "display_data"
    }
   ],
   "source": [
    "%%R\n",
    "#now do all the effector comparisons\n",
    "effector_to_busco <- GenometriCorr:::GenometriCorrelation(effector_bed, busco_bed,  ecdf.area.permut.number = pn.area,mean.distance.permut.number = pn.dist,jaccard.measure.permut.number = pn.jacc,keep.distributions = TRUE, showProgressBar = FALSE)\n",
    "effector_to_no_effector <- GenometriCorr:::GenometriCorrelation(effector_bed, no_effector_bed,  ecdf.area.permut.number = pn.area,mean.distance.permut.number = pn.dist,jaccard.measure.permut.number = pn.jacc,keep.distributions = TRUE, showProgressBar = FALSE)\n",
    "effector_to_no_eb <- GenometriCorr:::GenometriCorrelation(effector_bed, no_effector_no_busco_bed,  ecdf.area.permut.number = pn.area,mean.distance.permut.number = pn.dist,jaccard.measure.permut.number = pn.jacc,keep.distributions = TRUE, showProgressBar = FALSE)\n",
    "#now do the visulization and printing it out\n",
    "GenometriCorr:::graphical.report(effector_to_busco, pdffile = \"../figures/Pst_104E_p_effector_to_busco.pdf\",  show.all = TRUE)\n",
    "GenometriCorr:::graphical.report(effector_to_no_effector , pdffile = \"../figures/Pst_104E_p_effector_to_no_effector.pdf\",  show.all = TRUE)\n",
    "GenometriCorr:::visualize(effector_to_busco, pdffile = \"../figures/Pst_104E_p_effector_to_busco_vis.pdf\",show.all = TRUE)\n",
    "GenometriCorr:::visualize(effector_to_no_effector, pdffile = \"../figures/Pst_104E_p_effector_to_no_effector_vis.pdf\",show.all = TRUE)\n",
    "\n",
    "GenometriCorr:::graphical.report(effector_to_no_eb, pdffile = \"../figures/Pst_104E_p_effector_to_noe_nob.pdf\",  show.all = TRUE)\n",
    "GenometriCorr:::visualize(effector_to_no_eb, pdffile = \"../figures/Pst_104E_p_effector_to_noe_nob_vis.pdf\",show.all = TRUE)"
   ]
  },
  {
   "cell_type": "code",
   "execution_count": null,
   "metadata": {},
   "outputs": [],
   "source": [
    "%%R\n",
    "#now do the busco comparisons\n",
    "busco_to_effector <- GenometriCorr:::GenometriCorrelation(busco_bed, effector_bed,  ecdf.area.permut.number = pn.area,mean.distance.permut.number = pn.dist,jaccard.measure.permut.number = pn.jacc,keep.distributions = TRUE, showProgressBar = FALSE)\n",
    "busco_to_no_busco <- GenometriCorr:::GenometriCorrelation(busco_bed, no_busco_bed,  ecdf.area.permut.number = pn.area,mean.distance.permut.number = pn.dist,jaccard.measure.permut.number = pn.jacc,keep.distributions = TRUE, showProgressBar = FALSE)\n",
    "busco_to_no_eb <- GenometriCorr:::GenometriCorrelation(busco_bed, no_effector_no_busco_bed,  ecdf.area.permut.number = pn.area,mean.distance.permut.number = pn.dist,jaccard.measure.permut.number = pn.jacc,keep.distributions = TRUE, showProgressBar = FALSE)\n",
    "#now do the visulization and printing it out\n",
    "GenometriCorr:::graphical.report(busco_to_effector, pdffile = \"../figures/Pst_104E_p_busco_to_effector.pdf\",  show.all = TRUE)\n",
    "GenometriCorr:::visualize(busco_to_effector, pdffile = \"../figures/Pst_104E_p_busco_to_effector_vis.pdf\",show.all = TRUE)\n",
    "\n",
    "GenometriCorr:::graphical.report(busco_to_no_busco , pdffile = \"../figures/Pst_104E_p_busco_to_no_busco.pdf\",  show.all = TRUE)\n",
    "GenometriCorr:::visualize(busco_to_no_busco , pdffile = \"../figures/Pst_104E_p_busco_to_no_busco_vis.pdf\",show.all = TRUE)\n",
    "\n",
    "GenometriCorr:::graphical.report(busco_to_no_eb, pdffile = \"../figures/Pst_104E_p_busco_to_noe_nob.pdf\",  show.all = TRUE)\n",
    "GenometriCorr:::visualize(busco_to_no_eb, pdffile = \"../figures/Pst_104E_p_busco_to_noe_nob_vis.pdf\",show.all = TRUE)"
   ]
  },
  {
   "cell_type": "code",
   "execution_count": null,
   "metadata": {
    "collapsed": true
   },
   "outputs": [],
   "source": []
  },
  {
   "cell_type": "code",
   "execution_count": null,
   "metadata": {
    "collapsed": true
   },
   "outputs": [],
   "source": []
  },
  {
   "cell_type": "code",
   "execution_count": null,
   "metadata": {
    "collapsed": true
   },
   "outputs": [],
   "source": []
  },
  {
   "cell_type": "code",
   "execution_count": null,
   "metadata": {
    "collapsed": true
   },
   "outputs": [],
   "source": []
  },
  {
   "cell_type": "code",
   "execution_count": null,
   "metadata": {
    "collapsed": true
   },
   "outputs": [],
   "source": []
  },
  {
   "cell_type": "code",
   "execution_count": null,
   "metadata": {
    "collapsed": true
   },
   "outputs": [],
   "source": []
  },
  {
   "cell_type": "markdown",
   "metadata": {},
   "source": [
    "Doing comparison with TEs"
   ]
  },
  {
   "cell_type": "code",
   "execution_count": 9,
   "metadata": {
    "collapsed": true
   },
   "outputs": [],
   "source": [
    "%%R\n",
    "#now compare relations ship between TEs greater 400 and all sets of genes\n",
    "setwd(\"/home/benjamin/genome_assembly/PST79/FALCON/p_assemblies/v9_1/Pst_104E_v12/enrichment_analysis/lists\")\n",
    "getwd()\n",
    "TE_greater_400_bed <- import(\"Pst_104E_v12_p_ctg.REPET.sorted.greater400.superfamily.gff\")\n",
    "TE_g400_to_busco <- GenometriCorr:::GenometriCorrelation(TE_greater_400_bed, busco_bed,  ecdf.area.permut.number = pn.area,mean.distance.permut.number = pn.dist,jaccard.measure.permut.number = pn.jacc,keep.distributions = TRUE, showProgressBar = FALSE)\n",
    "TE_g400_to_effector <- GenometriCorr:::GenometriCorrelation(TE_greater_400_bed, effector_bed,  ecdf.area.permut.number = pn.area,mean.distance.permut.number = pn.dist,jaccard.measure.permut.number = pn.jacc,keep.distributions = TRUE, showProgressBar = FALSE)\n",
    "TE_g400_to_no_effector <- GenometriCorr:::GenometriCorrelation(TE_greater_400_bed, no_effector_bed,  ecdf.area.permut.number = pn.area,mean.distance.permut.number = pn.dist,jaccard.measure.permut.number = pn.jacc,keep.distributions = TRUE, showProgressBar = FALSE)\n",
    "TE_g400_to_no_busco <- GenometriCorr:::GenometriCorrelation(TE_greater_400_bed, no_busco_bed,  ecdf.area.permut.number = pn.area,mean.distance.permut.number = pn.dist,jaccard.measure.permut.number = pn.jacc,keep.distributions = TRUE, showProgressBar = FALSE)\n",
    "TE_g400_to_no_eb <- GenometriCorr:::GenometriCorrelation(TE_greater_400_bed, no_busco_bed,  ecdf.area.permut.number = pn.area,mean.distance.permut.number = pn.dist,jaccard.measure.permut.number = pn.jacc,keep.distributions = TRUE, showProgressBar = FALSE)"
   ]
  },
  {
   "cell_type": "code",
   "execution_count": 10,
   "metadata": {},
   "outputs": [
    {
     "data": {
      "text/plain": [
       "png \n",
       "  2 \n"
      ]
     },
     "metadata": {},
     "output_type": "display_data"
    }
   ],
   "source": [
    "%%R\n",
    "\n",
    "GenometriCorr:::graphical.report(TE_g400_to_busco  , pdffile = \"../figures/Pst_104E_p_TE_g400_to_busco.pdf\",  show.all = TRUE)\n",
    "GenometriCorr:::visualize(TE_g400_to_busco , pdffile = \"../figures/Pst_104E_p_busco_TE_g400_to_busco_vis.pdf\",show.all = TRUE)\n",
    "\n",
    "GenometriCorr:::graphical.report(TE_g400_to_effector  , pdffile = \"../figures/Pst_104E_p_TE_g400_to_effector.pdf\",  show.all = TRUE)\n",
    "GenometriCorr:::visualize(TE_g400_to_effector , pdffile = \"../figures/Pst_104E_p_busco_TE_g400_to_effector_vis.pdf\",show.all = TRUE)\n",
    "\n",
    "GenometriCorr:::graphical.report(TE_g400_to_no_effector  , pdffile = \"../figures/Pst_104E_p_TE_g400_to_no_effector.pdf\",  show.all = TRUE)\n",
    "GenometriCorr:::visualize(TE_g400_to_no_effector , pdffile = \"../figures/Pst_104E_p_busco_TE_g400_to_no_effector.pdf\",show.all = TRUE)"
   ]
  },
  {
   "cell_type": "code",
   "execution_count": null,
   "metadata": {
    "collapsed": true
   },
   "outputs": [],
   "source": []
  },
  {
   "cell_type": "code",
   "execution_count": 11,
   "metadata": {
    "collapsed": true
   },
   "outputs": [],
   "source": [
    "#this moves the file to a folder were jupyter can access it for displaying.\n",
    "copyanything(OUT_FOLDER_FIG, TMP_FIG_PATH)"
   ]
  },
  {
   "cell_type": "code",
   "execution_count": 12,
   "metadata": {},
   "outputs": [
    {
     "data": {
      "text/html": [
       "<iframe src=./tmp_figures/Pst_104E_p_effector_to_no_effector.pdf width=700 height=350></iframe>"
      ],
      "text/plain": [
       "<IPython.core.display.HTML object>"
      ]
     },
     "execution_count": 12,
     "metadata": {},
     "output_type": "execute_result"
    }
   ],
   "source": [
    "PDF('Pst_104E_p_effector_to_no_effector.pdf')"
   ]
  },
  {
   "cell_type": "code",
   "execution_count": 13,
   "metadata": {},
   "outputs": [
    {
     "data": {
      "text/html": [
       "<iframe src=./tmp_figures/Pst_104E_p_effector_to_busco.pdf width=700 height=350></iframe>"
      ],
      "text/plain": [
       "<IPython.core.display.HTML object>"
      ]
     },
     "execution_count": 13,
     "metadata": {},
     "output_type": "execute_result"
    }
   ],
   "source": [
    "PDF('Pst_104E_p_effector_to_busco.pdf')"
   ]
  },
  {
   "cell_type": "code",
   "execution_count": 14,
   "metadata": {},
   "outputs": [
    {
     "data": {
      "text/html": [
       "<iframe src=./tmp_figures/Pst_104E_p_effector_to_noe_nob.pdf width=700 height=350></iframe>"
      ],
      "text/plain": [
       "<IPython.core.display.HTML object>"
      ]
     },
     "execution_count": 14,
     "metadata": {},
     "output_type": "execute_result"
    }
   ],
   "source": [
    "PDF('Pst_104E_p_effector_to_noe_nob.pdf')"
   ]
  },
  {
   "cell_type": "code",
   "execution_count": 15,
   "metadata": {},
   "outputs": [
    {
     "data": {
      "text/html": [
       "<iframe src=./tmp_figures/Pst_104E_p_busco_to_effector.pdf width=700 height=350></iframe>"
      ],
      "text/plain": [
       "<IPython.core.display.HTML object>"
      ]
     },
     "execution_count": 15,
     "metadata": {},
     "output_type": "execute_result"
    }
   ],
   "source": [
    "PDF('Pst_104E_p_busco_to_effector.pdf')"
   ]
  },
  {
   "cell_type": "code",
   "execution_count": 17,
   "metadata": {},
   "outputs": [
    {
     "data": {
      "text/html": [
       "<iframe src=./tmp_figures/Pst_104E_p_busco_to_no_busco.pdf width=700 height=350></iframe>"
      ],
      "text/plain": [
       "<IPython.core.display.HTML object>"
      ]
     },
     "execution_count": 17,
     "metadata": {},
     "output_type": "execute_result"
    }
   ],
   "source": [
    "PDF('Pst_104E_p_busco_to_no_busco.pdf')"
   ]
  },
  {
   "cell_type": "code",
   "execution_count": 16,
   "metadata": {},
   "outputs": [
    {
     "data": {
      "text/html": [
       "<iframe src=./tmp_figures/Pst_104E_p_busco_to_noe_nob.pdf width=700 height=350></iframe>"
      ],
      "text/plain": [
       "<IPython.core.display.HTML object>"
      ]
     },
     "execution_count": 16,
     "metadata": {},
     "output_type": "execute_result"
    }
   ],
   "source": [
    "PDF('Pst_104E_p_busco_to_noe_nob.pdf')"
   ]
  },
  {
   "cell_type": "markdown",
   "metadata": {},
   "source": [
    "Now TEs"
   ]
  },
  {
   "cell_type": "code",
   "execution_count": null,
   "metadata": {
    "collapsed": true
   },
   "outputs": [],
   "source": [
    "PDF('Pst_104E_p_TE_g400_to_busco.pdf')"
   ]
  },
  {
   "cell_type": "code",
   "execution_count": null,
   "metadata": {
    "collapsed": true
   },
   "outputs": [],
   "source": [
    "PDF(\"Pst_104E_p_TE_g400_to_effector.pdf\")"
   ]
  },
  {
   "cell_type": "code",
   "execution_count": null,
   "metadata": {
    "collapsed": true
   },
   "outputs": [],
   "source": [
    "PDF(\"Pst_104E_p_TE_g400_to_no_effector.pdf\")"
   ]
  },
  {
   "cell_type": "code",
   "execution_count": null,
   "metadata": {
    "collapsed": true
   },
   "outputs": [],
   "source": []
  },
  {
   "cell_type": "code",
   "execution_count": null,
   "metadata": {
    "collapsed": true
   },
   "outputs": [],
   "source": []
  },
  {
   "cell_type": "code",
   "execution_count": null,
   "metadata": {
    "collapsed": true
   },
   "outputs": [],
   "source": []
  },
  {
   "cell_type": "code",
   "execution_count": null,
   "metadata": {
    "collapsed": true
   },
   "outputs": [],
   "source": []
  }
 ],
 "metadata": {
  "kernelspec": {
   "display_name": "Python 3",
   "language": "python",
   "name": "python3"
  },
  "language_info": {
   "codemirror_mode": {
    "name": "ipython",
    "version": 3
   },
   "file_extension": ".py",
   "mimetype": "text/x-python",
   "name": "python",
   "nbconvert_exporter": "python",
   "pygments_lexer": "ipython3",
   "version": "3.5.3"
  }
 },
 "nbformat": 4,
 "nbformat_minor": 1
}
