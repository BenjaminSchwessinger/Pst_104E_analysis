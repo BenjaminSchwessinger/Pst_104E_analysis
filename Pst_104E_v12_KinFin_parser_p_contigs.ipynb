{
 "cells": [
  {
   "cell_type": "markdown",
   "metadata": {},
   "source": [
    "This is a parser to get all annotations in a single file for kinfin analysis. Pull in files from the following two folders:\n",
    "\n",
    "/home/benjamin/genome_assembly/PST79/FALCON/p_assemblies/v9_1/Pst_104E_v12/enrichment_analysis/pa_26062017\n",
    "and make a effector tablist for effectors into the same folder from\n",
    "\n",
    "/home/benjamin/genome_assembly/PST79/FALCON/p_assemblies/v9_1/Pst_104E_v12/enrichment_analysis/lists\n",
    "\n",
    "The layout of functional annotation file is as follows.\n",
    "\n",
    " \\#protein_id GO IPR SignalP_EUK Pfam Effector Merops KEGG\n",
    "\n",
    "with the following characteriztics\n",
    "\n",
    "protein_id is simple the id used in clustering as well\n",
    "GO is a list of GO terms as GO:XX;GO:XX\n",
    "IPR is the ; sperated list of IPRterm:count for now this count will be one in all cases\n",
    "The same is true for all other categories as well."
   ]
  },
  {
   "cell_type": "code",
   "execution_count": 1,
   "metadata": {
    "collapsed": true
   },
   "outputs": [],
   "source": [
    "import pandas as pd\n",
    "import os\n",
    "import re\n",
    "from Bio import SeqIO\n",
    "import pysam\n",
    "from Bio.SeqRecord import SeqRecord\n",
    "from pybedtools import BedTool\n",
    "import numpy as np\n",
    "import pybedtools\n",
    "import time\n",
    "import sys\n",
    "import matplotlib.pyplot as plt\n",
    "import subprocess\n",
    "import shutil\n",
    "from collections import Counter"
   ]
  },
  {
   "cell_type": "code",
   "execution_count": 2,
   "metadata": {
    "collapsed": true
   },
   "outputs": [],
   "source": [
    "genome = 'Pst_104E_v12_p_ctg'\n",
    "LIST_FOLDER = '/home/benjamin/genome_assembly/PST79/FALCON/p_assemblies/v9_1/Pst_104E_v12/enrichment_analysis/lists'\n",
    "ANNOTATION_FOLDER = '/home/benjamin/genome_assembly/PST79/FALCON/p_assemblies/v9_1/Pst_104E_v12/enrichment_analysis/pa_26062017'\n",
    "BASE_FOLDER = '/home/benjamin/genome_assembly/PST79/FALCON/p_assemblies/v9_1/Pst_104E_v12'\n",
    "ASSEMBLY_FOLDER = '/home/benjamin/genome_assembly/PST79/FALCON/p_assemblies/v9_1/032017_assembly'\n",
    "KINFIN_FOLDER = os.path.join(BASE_FOLDER, 'KinFin')\n",
    "if not os.path.exists(KINFIN_FOLDER):\n",
    "    os.mkdir(KINFIN_FOLDER)\n",
    "#out file name for kinfin\n",
    "kinfin_out_fn = os.path.join(KINFIN_FOLDER, genome + '.functional_annotation.txt')"
   ]
  },
  {
   "cell_type": "code",
   "execution_count": 3,
   "metadata": {
    "collapsed": true
   },
   "outputs": [],
   "source": [
    "#make an initial dataframe that has the protein_id has index\n",
    "protein_fn = [os.path.join(ASSEMBLY_FOLDER, x) for x in os.listdir(ASSEMBLY_FOLDER) if genome in x\\\n",
    "             and  x.endswith('protein.fa')][0]"
   ]
  },
  {
   "cell_type": "code",
   "execution_count": 4,
   "metadata": {
    "collapsed": true
   },
   "outputs": [],
   "source": [
    "#now generate a list of ids and length\n",
    "protein_id_list = []\n",
    "protein_len_list = []\n",
    "for seq in SeqIO.parse(protein_fn, 'fasta'):\n",
    "    protein_id_list.append(seq.id)\n",
    "    protein_len_list.append(len(seq.seq))\n",
    "#make a dataframe out of it\n",
    "kinfin_fa_df = pd.concat([pd.Series(protein_id_list, name='#protein_id'),\\\n",
    "                          pd.Series(protein_len_list, name='protein_len')], axis=1)"
   ]
  },
  {
   "cell_type": "code",
   "execution_count": 5,
   "metadata": {
    "collapsed": true
   },
   "outputs": [],
   "source": [
    "#get the GO list and add to the dataframe\n",
    "GO_fn = [os.path.join(ANNOTATION_FOLDER, x) for x in os.listdir(ANNOTATION_FOLDER) \\\n",
    "        if x.startswith(genome) and x.endswith('GO_combined.tablist')][0]\n",
    "GO_df = pd.read_csv(GO_fn, header=None, sep='\\t', names=['#protein_id', 'GO'])\n",
    "#merge the GO_df and the kinfin_df\n",
    "kinfin_fa_df = pd.merge(kinfin_fa_df, GO_df, how='outer', on='#protein_id')"
   ]
  },
  {
   "cell_type": "code",
   "execution_count": 6,
   "metadata": {
    "collapsed": true
   },
   "outputs": [],
   "source": [
    "#now pull in all the annotations list file names into a dictionary\n",
    "anno_keys = ['merops', 'Pfam', 'busco', 'iprscan', 'dbCAN', 'KEGG_combined', 'OGs','SignalP3']\n",
    "anno_fn_dict = {}\n",
    "for key in anno_keys:\n",
    "    #print(key)\n",
    "    anno_fn_dict[key] = [os.path.join(ANNOTATION_FOLDER, x) for x in os.listdir(ANNOTATION_FOLDER)\\\n",
    "                        if x.startswith(genome) and key in x][0]"
   ]
  },
  {
   "cell_type": "code",
   "execution_count": 7,
   "metadata": {
    "collapsed": true
   },
   "outputs": [],
   "source": [
    "def kf_count(_comma_string):\n",
    "    \"\"\"\n",
    "    Quick function that confered a tablist ; seperated id list to a kinfin suitable occurance count.\n",
    "    \"\"\"\n",
    "    _list = _comma_string.split(';')\n",
    "    _dict = Counter(_list)\n",
    "    _new_string = ''\n",
    "    for x in _dict.keys():\n",
    "        _new_string = '%s;%s:%i'% (_new_string,x, _dict[x])\n",
    "    return _new_string[1:]"
   ]
  },
  {
   "cell_type": "code",
   "execution_count": 8,
   "metadata": {},
   "outputs": [
    {
     "data": {
      "text/plain": [
       "15928"
      ]
     },
     "execution_count": 8,
     "metadata": {},
     "output_type": "execute_result"
    }
   ],
   "source": [
    "len(kinfin_fa_df)"
   ]
  },
  {
   "cell_type": "code",
   "execution_count": 9,
   "metadata": {
    "collapsed": true
   },
   "outputs": [],
   "source": [
    "#now loop throught those anno_fn_dict and pull in the dataframes\n",
    "kinfin_fa_df\n",
    "for key in anno_keys:\n",
    "    #if key in ['merops', ]\n",
    "    column_id = key.upper()\n",
    "    tmp_df = pd.read_csv(anno_fn_dict[key], sep='\\t', header=None, names=['#protein_id', key])\n",
    "    #remove the \":\" which a left over from funnanotate\n",
    "    if \":\" in tmp_df.loc[0,key]:\n",
    "        tmp_df[column_id] = tmp_df[key].apply(lambda x: x[x.rindex(':')+1:])\n",
    "    else:\n",
    "        tmp_df[column_id] = tmp_df[key]\n",
    "    #transform the tablist to a counter list sperated by ':'\n",
    "    tmp_df[column_id] = tmp_df[column_id].apply(lambda x: kf_count(x))\n",
    "    kinfin_fa_df = pd.merge(kinfin_fa_df, tmp_df.loc[:, ['#protein_id', column_id]], how='outer', on=\"#protein_id\")\n"
   ]
  },
  {
   "cell_type": "code",
   "execution_count": 10,
   "metadata": {},
   "outputs": [
    {
     "data": {
      "text/plain": [
       "15928"
      ]
     },
     "execution_count": 10,
     "metadata": {},
     "output_type": "execute_result"
    }
   ],
   "source": [
    "len(kinfin_fa_df)"
   ]
  },
  {
   "cell_type": "markdown",
   "metadata": {},
   "source": [
    "This fixes it for now. Now pull in the effector list and the haustoria expression list as well."
   ]
  },
  {
   "cell_type": "code",
   "execution_count": 11,
   "metadata": {
    "collapsed": true
   },
   "outputs": [],
   "source": [
    "#now get haustoria expressed genes and effector genes (effectorP and in planta upregulated secreted genes)\n",
    "#for the primary contig cluster 15 is haustoria expressed in for the haplogtigs cluster 15\n",
    "p_effectorP_fn = os.path.join(LIST_FOLDER, 'Pst_104E_v12_p_effector.list')\n",
    "p_haustoria_fn = os.path.join(LIST_FOLDER, 'Pst_104E_v12_cluster_8.list')\n",
    "#now add the those to the dataframe\n",
    "p_effectorP_df = pd.read_csv(p_effectorP_fn, sep='\\t', header=None, names=['#protein_id'])\n",
    "p_effectorP_df['EFFECTOR'] = 'Effector:1'\n",
    "kinfin_fa_df = pd.merge(kinfin_fa_df, p_effectorP_df, how='outer', on=\"#protein_id\")\n",
    "#now add the haustoria expression\n",
    "p_haustoria_df = pd.read_csv(p_haustoria_fn, sep='\\t', header=None, names=['#protein_id'])\n",
    "p_haustoria_df[\"SHAUSTORIA\"] = 'Haustoria:1'\n",
    "kinfin_fa_df = pd.merge(kinfin_fa_df, p_haustoria_df, how='outer', on=\"#protein_id\")"
   ]
  },
  {
   "cell_type": "code",
   "execution_count": 12,
   "metadata": {
    "collapsed": true
   },
   "outputs": [],
   "source": [
    "#now write out two versions one with length included and one without\n",
    "kinfin_fa_df.fillna('None', inplace=True)"
   ]
  },
  {
   "cell_type": "code",
   "execution_count": 13,
   "metadata": {},
   "outputs": [
    {
     "data": {
      "text/plain": [
       "15928"
      ]
     },
     "execution_count": 13,
     "metadata": {},
     "output_type": "execute_result"
    }
   ],
   "source": [
    "len(kinfin_fa_df)"
   ]
  },
  {
   "cell_type": "code",
   "execution_count": 14,
   "metadata": {},
   "outputs": [
    {
     "data": {
      "text/plain": [
       "1572"
      ]
     },
     "execution_count": 14,
     "metadata": {},
     "output_type": "execute_result"
    }
   ],
   "source": [
    "len(p_effectorP_df['EFFECTOR'])"
   ]
  },
  {
   "cell_type": "code",
   "execution_count": 15,
   "metadata": {
    "collapsed": true
   },
   "outputs": [],
   "source": [
    "kinfin_long_fn = kinfin_out_fn.replace('.txt', '_wlength.txt')\n",
    "kinfin_fa_df.to_csv(kinfin_long_fn, sep='\\t', index=None)\n",
    "#now write out kinfin version\n",
    "kinfin_fa_df.drop('protein_len', 1).to_csv(kinfin_out_fn, sep='\\t', index=None)"
   ]
  },
  {
   "cell_type": "code",
   "execution_count": 16,
   "metadata": {},
   "outputs": [
    {
     "data": {
      "text/html": [
       "<div>\n",
       "<style>\n",
       "    .dataframe thead tr:only-child th {\n",
       "        text-align: right;\n",
       "    }\n",
       "\n",
       "    .dataframe thead th {\n",
       "        text-align: left;\n",
       "    }\n",
       "\n",
       "    .dataframe tbody tr th {\n",
       "        vertical-align: top;\n",
       "    }\n",
       "</style>\n",
       "<table border=\"1\" class=\"dataframe\">\n",
       "  <thead>\n",
       "    <tr style=\"text-align: right;\">\n",
       "      <th></th>\n",
       "      <th>#protein_id</th>\n",
       "      <th>protein_len</th>\n",
       "      <th>GO</th>\n",
       "      <th>MEROPS</th>\n",
       "      <th>PFAM</th>\n",
       "      <th>BUSCO</th>\n",
       "      <th>IPRSCAN</th>\n",
       "      <th>DBCAN</th>\n",
       "      <th>KEGG_COMBINED</th>\n",
       "      <th>OGS</th>\n",
       "      <th>SIGNALP3</th>\n",
       "      <th>EFFECTOR</th>\n",
       "      <th>SHAUSTORIA</th>\n",
       "    </tr>\n",
       "  </thead>\n",
       "  <tbody>\n",
       "    <tr>\n",
       "      <th>0</th>\n",
       "      <td>evm.model.pcontig_041.101</td>\n",
       "      <td>370</td>\n",
       "      <td>None</td>\n",
       "      <td>None</td>\n",
       "      <td>None</td>\n",
       "      <td>None</td>\n",
       "      <td>None</td>\n",
       "      <td>None</td>\n",
       "      <td>None</td>\n",
       "      <td>0ZGCE@NOG:1;0PZ4N@fuNOG:1;14B0R@opiNOG:1;095NX...</td>\n",
       "      <td>None</td>\n",
       "      <td>None</td>\n",
       "      <td>None</td>\n",
       "    </tr>\n",
       "    <tr>\n",
       "      <th>1</th>\n",
       "      <td>evm.model.pcontig_018.256</td>\n",
       "      <td>534</td>\n",
       "      <td>GO:0000271;GO:0003674;GO:0003824;GO:0004610;GO...</td>\n",
       "      <td>None</td>\n",
       "      <td>PF00408:1;PF02878:1</td>\n",
       "      <td>EOG092R06LD:1</td>\n",
       "      <td>IPR005844:1;IPR016055:6;IPR016657:2;IPR016066:...</td>\n",
       "      <td>None</td>\n",
       "      <td>map01110:1;map00520:1</td>\n",
       "      <td>KOG2537@euNOG:1;12PKN@opiNOG:1;0PHNA@fuNOG:1;0...</td>\n",
       "      <td>None</td>\n",
       "      <td>None</td>\n",
       "      <td>None</td>\n",
       "    </tr>\n",
       "    <tr>\n",
       "      <th>2</th>\n",
       "      <td>evm.model.pcontig_018.216</td>\n",
       "      <td>951</td>\n",
       "      <td>GO:0000003;GO:0003006;GO:0005575;GO:0005622;GO...</td>\n",
       "      <td>None</td>\n",
       "      <td>PF03635:1</td>\n",
       "      <td>EOG092R022P:1</td>\n",
       "      <td>IPR005378:5</td>\n",
       "      <td>None</td>\n",
       "      <td>None</td>\n",
       "      <td>091W6@basNOG:1;0XNXC@NOG:1;KOG1107@euNOG:1;0PG...</td>\n",
       "      <td>None</td>\n",
       "      <td>None</td>\n",
       "      <td>None</td>\n",
       "    </tr>\n",
       "    <tr>\n",
       "      <th>3</th>\n",
       "      <td>evm.model.pcontig_014.344</td>\n",
       "      <td>1191</td>\n",
       "      <td>GO:0004190;GO:0006508</td>\n",
       "      <td>None</td>\n",
       "      <td>PF00077:1</td>\n",
       "      <td>None</td>\n",
       "      <td>IPR001995:1;IPR021109:2;IPR018061:1;IPR001969:1</td>\n",
       "      <td>None</td>\n",
       "      <td>None</td>\n",
       "      <td>0PJX6@fuNOG:1;COG2801@NOG:1;KOG0017@euNOG:1;13...</td>\n",
       "      <td>None</td>\n",
       "      <td>None</td>\n",
       "      <td>None</td>\n",
       "    </tr>\n",
       "    <tr>\n",
       "      <th>4</th>\n",
       "      <td>evm.model.pcontig_022.278</td>\n",
       "      <td>702</td>\n",
       "      <td>GO:0000086;GO:0000166;GO:0000278;GO:0000322;GO...</td>\n",
       "      <td>None</td>\n",
       "      <td>PF16579:1;PF00069:1</td>\n",
       "      <td>None</td>\n",
       "      <td>IPR011009:1;IPR008271:1;IPR028375:2;IPR032270:...</td>\n",
       "      <td>None</td>\n",
       "      <td>map04151:1;map04150:1;map04113:1</td>\n",
       "      <td>0XNQ0@NOG:1;0927K@basNOG:1;0PGMD@fuNOG:1;12NJJ...</td>\n",
       "      <td>None</td>\n",
       "      <td>None</td>\n",
       "      <td>None</td>\n",
       "    </tr>\n",
       "  </tbody>\n",
       "</table>\n",
       "</div>"
      ],
      "text/plain": [
       "                 #protein_id  protein_len  \\\n",
       "0  evm.model.pcontig_041.101          370   \n",
       "1  evm.model.pcontig_018.256          534   \n",
       "2  evm.model.pcontig_018.216          951   \n",
       "3  evm.model.pcontig_014.344         1191   \n",
       "4  evm.model.pcontig_022.278          702   \n",
       "\n",
       "                                                  GO MEROPS  \\\n",
       "0                                               None   None   \n",
       "1  GO:0000271;GO:0003674;GO:0003824;GO:0004610;GO...   None   \n",
       "2  GO:0000003;GO:0003006;GO:0005575;GO:0005622;GO...   None   \n",
       "3                              GO:0004190;GO:0006508   None   \n",
       "4  GO:0000086;GO:0000166;GO:0000278;GO:0000322;GO...   None   \n",
       "\n",
       "                  PFAM          BUSCO  \\\n",
       "0                 None           None   \n",
       "1  PF00408:1;PF02878:1  EOG092R06LD:1   \n",
       "2            PF03635:1  EOG092R022P:1   \n",
       "3            PF00077:1           None   \n",
       "4  PF16579:1;PF00069:1           None   \n",
       "\n",
       "                                             IPRSCAN DBCAN  \\\n",
       "0                                               None  None   \n",
       "1  IPR005844:1;IPR016055:6;IPR016657:2;IPR016066:...  None   \n",
       "2                                        IPR005378:5  None   \n",
       "3    IPR001995:1;IPR021109:2;IPR018061:1;IPR001969:1  None   \n",
       "4  IPR011009:1;IPR008271:1;IPR028375:2;IPR032270:...  None   \n",
       "\n",
       "                      KEGG_COMBINED  \\\n",
       "0                              None   \n",
       "1             map01110:1;map00520:1   \n",
       "2                              None   \n",
       "3                              None   \n",
       "4  map04151:1;map04150:1;map04113:1   \n",
       "\n",
       "                                                 OGS SIGNALP3 EFFECTOR  \\\n",
       "0  0ZGCE@NOG:1;0PZ4N@fuNOG:1;14B0R@opiNOG:1;095NX...     None     None   \n",
       "1  KOG2537@euNOG:1;12PKN@opiNOG:1;0PHNA@fuNOG:1;0...     None     None   \n",
       "2  091W6@basNOG:1;0XNXC@NOG:1;KOG1107@euNOG:1;0PG...     None     None   \n",
       "3  0PJX6@fuNOG:1;COG2801@NOG:1;KOG0017@euNOG:1;13...     None     None   \n",
       "4  0XNQ0@NOG:1;0927K@basNOG:1;0PGMD@fuNOG:1;12NJJ...     None     None   \n",
       "\n",
       "  SHAUSTORIA  \n",
       "0       None  \n",
       "1       None  \n",
       "2       None  \n",
       "3       None  \n",
       "4       None  "
      ]
     },
     "execution_count": 16,
     "metadata": {},
     "output_type": "execute_result"
    }
   ],
   "source": [
    "kinfin_fa_df.head()"
   ]
  },
  {
   "cell_type": "markdown",
   "metadata": {
    "collapsed": true
   },
   "source": [
    "Now add some more analysis in regards to several aspects to this dataframe. For example protein length, annotation % and so on."
   ]
  },
  {
   "cell_type": "code",
   "execution_count": 17,
   "metadata": {},
   "outputs": [
    {
     "data": {
      "text/plain": [
       "394.5913485685585"
      ]
     },
     "execution_count": 17,
     "metadata": {},
     "output_type": "execute_result"
    }
   ],
   "source": [
    "kinfin_fa_df.protein_len.mean()"
   ]
  },
  {
   "cell_type": "code",
   "execution_count": 18,
   "metadata": {},
   "outputs": [
    {
     "name": "stdout",
     "output_type": "stream",
     "text": [
      "1572\n"
     ]
    }
   ],
   "source": [
    "n_effectors = kinfin_fa_df[kinfin_fa_df['EFFECTOR'] == 'Effector:1'].count()[0]\n",
    "print(n_effectors)"
   ]
  },
  {
   "cell_type": "code",
   "execution_count": 19,
   "metadata": {},
   "outputs": [
    {
     "data": {
      "text/plain": [
       "1572"
      ]
     },
     "execution_count": 19,
     "metadata": {},
     "output_type": "execute_result"
    }
   ],
   "source": [
    "len(p_effectorP_df)"
   ]
  },
  {
   "cell_type": "code",
   "execution_count": 20,
   "metadata": {},
   "outputs": [
    {
     "data": {
      "text/plain": [
       "251.66284987277353"
      ]
     },
     "execution_count": 20,
     "metadata": {},
     "output_type": "execute_result"
    }
   ],
   "source": [
    "kinfin_fa_df[kinfin_fa_df['EFFECTOR'] != 'None']['protein_len'].mean()"
   ]
  },
  {
   "cell_type": "code",
   "execution_count": 21,
   "metadata": {
    "collapsed": true
   },
   "outputs": [],
   "source": [
    "annotation_list = ['GO', 'IPRSCAN','PFAM', 'OGS', 'KEGG_COMBINED','DBCAN',  'MEROPS','SIGNALP3',  ]"
   ]
  },
  {
   "cell_type": "code",
   "execution_count": 22,
   "metadata": {
    "scrolled": true
   },
   "outputs": [
    {
     "name": "stdout",
     "output_type": "stream",
     "text": [
      "Effectors with length 251 in 1572\n",
      "145/9.22\n",
      "193/12.28\n",
      "165/10.50\n",
      "206/13.10\n",
      "43/2.74\n",
      "31/1.97\n",
      "10/0.64\n",
      "1572/100.00\n",
      "145/9.22\n",
      "193/12.28\n",
      "165/10.50\n",
      "206/13.10\n",
      "43/2.74\n",
      "31/1.97\n",
      "10/0.64\n",
      "1572/100.00\n"
     ]
    }
   ],
   "source": [
    "n_effectors = kinfin_fa_df[(kinfin_fa_df['EFFECTOR'] != 'None')].count()[0]\n",
    "print('Effectors with length %i in %i' % (kinfin_fa_df[(kinfin_fa_df['EFFECTOR'] != 'None')]\\\n",
    "     ['protein_len'].mean(), n_effectors))\n",
    "for x in annotation_list:\n",
    "\n",
    "    number_of_annotations = kinfin_fa_df[(kinfin_fa_df['EFFECTOR'] != 'None')&(kinfin_fa_df[x] != 'None')].count()[0]\n",
    "    print('%i/%0.2f' % (number_of_annotations, round(number_of_annotations/n_effectors*100, 2)))\n",
    "\n",
    "for x in annotation_list:\n",
    "\n",
    "    number_of_annotations = kinfin_fa_df[(kinfin_fa_df['EFFECTOR'] != 'None')&(kinfin_fa_df[x] != 'None')].count()[0]\n",
    "    print('%i/%0.2f' % (number_of_annotations, round(number_of_annotations/n_effectors*100, 2)))\n"
   ]
  },
  {
   "cell_type": "code",
   "execution_count": 23,
   "metadata": {},
   "outputs": [
    {
     "name": "stdout",
     "output_type": "stream",
     "text": [
      "All genes\n",
      "All proteins with length 394 in 15928\n",
      "5949/37.35\n",
      "6678/41.93\n",
      "5950/37.36\n",
      "7679/48.21\n",
      "2712/17.03\n",
      "245/1.54\n",
      "272/1.71\n",
      "2430/15.26\n"
     ]
    }
   ],
   "source": [
    "print(\"All genes\")\n",
    "print('All proteins with length %i in %i' % (kinfin_fa_df\\\n",
    "     ['protein_len'].mean(), 15928))\n",
    "for x in annotation_list:\n",
    "    number_of_annotations = kinfin_fa_df[(kinfin_fa_df[x] != 'None')].count()[0]\n",
    "    print('%i/%0.2f' % (number_of_annotations, round(number_of_annotations/15928*100, 2)))\n"
   ]
  },
  {
   "cell_type": "code",
   "execution_count": 24,
   "metadata": {},
   "outputs": [
    {
     "data": {
      "text/html": [
       "<div>\n",
       "<style>\n",
       "    .dataframe thead tr:only-child th {\n",
       "        text-align: right;\n",
       "    }\n",
       "\n",
       "    .dataframe thead th {\n",
       "        text-align: left;\n",
       "    }\n",
       "\n",
       "    .dataframe tbody tr th {\n",
       "        vertical-align: top;\n",
       "    }\n",
       "</style>\n",
       "<table border=\"1\" class=\"dataframe\">\n",
       "  <thead>\n",
       "    <tr style=\"text-align: right;\">\n",
       "      <th></th>\n",
       "      <th>#protein_id</th>\n",
       "      <th>protein_len</th>\n",
       "      <th>GO</th>\n",
       "      <th>MEROPS</th>\n",
       "      <th>PFAM</th>\n",
       "      <th>BUSCO</th>\n",
       "      <th>IPRSCAN</th>\n",
       "      <th>DBCAN</th>\n",
       "      <th>KEGG_COMBINED</th>\n",
       "      <th>OGS</th>\n",
       "      <th>SIGNALP3</th>\n",
       "      <th>EFFECTOR</th>\n",
       "      <th>SHAUSTORIA</th>\n",
       "    </tr>\n",
       "  </thead>\n",
       "  <tbody>\n",
       "    <tr>\n",
       "      <th>0</th>\n",
       "      <td>evm.model.pcontig_041.101</td>\n",
       "      <td>370</td>\n",
       "      <td>None</td>\n",
       "      <td>None</td>\n",
       "      <td>None</td>\n",
       "      <td>None</td>\n",
       "      <td>None</td>\n",
       "      <td>None</td>\n",
       "      <td>None</td>\n",
       "      <td>0ZGCE@NOG:1;0PZ4N@fuNOG:1;14B0R@opiNOG:1;095NX...</td>\n",
       "      <td>None</td>\n",
       "      <td>None</td>\n",
       "      <td>None</td>\n",
       "    </tr>\n",
       "    <tr>\n",
       "      <th>1</th>\n",
       "      <td>evm.model.pcontig_018.256</td>\n",
       "      <td>534</td>\n",
       "      <td>GO:0000271;GO:0003674;GO:0003824;GO:0004610;GO...</td>\n",
       "      <td>None</td>\n",
       "      <td>PF00408:1;PF02878:1</td>\n",
       "      <td>EOG092R06LD:1</td>\n",
       "      <td>IPR005844:1;IPR016055:6;IPR016657:2;IPR016066:...</td>\n",
       "      <td>None</td>\n",
       "      <td>map01110:1;map00520:1</td>\n",
       "      <td>KOG2537@euNOG:1;12PKN@opiNOG:1;0PHNA@fuNOG:1;0...</td>\n",
       "      <td>None</td>\n",
       "      <td>None</td>\n",
       "      <td>None</td>\n",
       "    </tr>\n",
       "    <tr>\n",
       "      <th>2</th>\n",
       "      <td>evm.model.pcontig_018.216</td>\n",
       "      <td>951</td>\n",
       "      <td>GO:0000003;GO:0003006;GO:0005575;GO:0005622;GO...</td>\n",
       "      <td>None</td>\n",
       "      <td>PF03635:1</td>\n",
       "      <td>EOG092R022P:1</td>\n",
       "      <td>IPR005378:5</td>\n",
       "      <td>None</td>\n",
       "      <td>None</td>\n",
       "      <td>091W6@basNOG:1;0XNXC@NOG:1;KOG1107@euNOG:1;0PG...</td>\n",
       "      <td>None</td>\n",
       "      <td>None</td>\n",
       "      <td>None</td>\n",
       "    </tr>\n",
       "    <tr>\n",
       "      <th>3</th>\n",
       "      <td>evm.model.pcontig_014.344</td>\n",
       "      <td>1191</td>\n",
       "      <td>GO:0004190;GO:0006508</td>\n",
       "      <td>None</td>\n",
       "      <td>PF00077:1</td>\n",
       "      <td>None</td>\n",
       "      <td>IPR001995:1;IPR021109:2;IPR018061:1;IPR001969:1</td>\n",
       "      <td>None</td>\n",
       "      <td>None</td>\n",
       "      <td>0PJX6@fuNOG:1;COG2801@NOG:1;KOG0017@euNOG:1;13...</td>\n",
       "      <td>None</td>\n",
       "      <td>None</td>\n",
       "      <td>None</td>\n",
       "    </tr>\n",
       "    <tr>\n",
       "      <th>4</th>\n",
       "      <td>evm.model.pcontig_022.278</td>\n",
       "      <td>702</td>\n",
       "      <td>GO:0000086;GO:0000166;GO:0000278;GO:0000322;GO...</td>\n",
       "      <td>None</td>\n",
       "      <td>PF16579:1;PF00069:1</td>\n",
       "      <td>None</td>\n",
       "      <td>IPR011009:1;IPR008271:1;IPR028375:2;IPR032270:...</td>\n",
       "      <td>None</td>\n",
       "      <td>map04151:1;map04150:1;map04113:1</td>\n",
       "      <td>0XNQ0@NOG:1;0927K@basNOG:1;0PGMD@fuNOG:1;12NJJ...</td>\n",
       "      <td>None</td>\n",
       "      <td>None</td>\n",
       "      <td>None</td>\n",
       "    </tr>\n",
       "  </tbody>\n",
       "</table>\n",
       "</div>"
      ],
      "text/plain": [
       "                 #protein_id  protein_len  \\\n",
       "0  evm.model.pcontig_041.101          370   \n",
       "1  evm.model.pcontig_018.256          534   \n",
       "2  evm.model.pcontig_018.216          951   \n",
       "3  evm.model.pcontig_014.344         1191   \n",
       "4  evm.model.pcontig_022.278          702   \n",
       "\n",
       "                                                  GO MEROPS  \\\n",
       "0                                               None   None   \n",
       "1  GO:0000271;GO:0003674;GO:0003824;GO:0004610;GO...   None   \n",
       "2  GO:0000003;GO:0003006;GO:0005575;GO:0005622;GO...   None   \n",
       "3                              GO:0004190;GO:0006508   None   \n",
       "4  GO:0000086;GO:0000166;GO:0000278;GO:0000322;GO...   None   \n",
       "\n",
       "                  PFAM          BUSCO  \\\n",
       "0                 None           None   \n",
       "1  PF00408:1;PF02878:1  EOG092R06LD:1   \n",
       "2            PF03635:1  EOG092R022P:1   \n",
       "3            PF00077:1           None   \n",
       "4  PF16579:1;PF00069:1           None   \n",
       "\n",
       "                                             IPRSCAN DBCAN  \\\n",
       "0                                               None  None   \n",
       "1  IPR005844:1;IPR016055:6;IPR016657:2;IPR016066:...  None   \n",
       "2                                        IPR005378:5  None   \n",
       "3    IPR001995:1;IPR021109:2;IPR018061:1;IPR001969:1  None   \n",
       "4  IPR011009:1;IPR008271:1;IPR028375:2;IPR032270:...  None   \n",
       "\n",
       "                      KEGG_COMBINED  \\\n",
       "0                              None   \n",
       "1             map01110:1;map00520:1   \n",
       "2                              None   \n",
       "3                              None   \n",
       "4  map04151:1;map04150:1;map04113:1   \n",
       "\n",
       "                                                 OGS SIGNALP3 EFFECTOR  \\\n",
       "0  0ZGCE@NOG:1;0PZ4N@fuNOG:1;14B0R@opiNOG:1;095NX...     None     None   \n",
       "1  KOG2537@euNOG:1;12PKN@opiNOG:1;0PHNA@fuNOG:1;0...     None     None   \n",
       "2  091W6@basNOG:1;0XNXC@NOG:1;KOG1107@euNOG:1;0PG...     None     None   \n",
       "3  0PJX6@fuNOG:1;COG2801@NOG:1;KOG0017@euNOG:1;13...     None     None   \n",
       "4  0XNQ0@NOG:1;0927K@basNOG:1;0PGMD@fuNOG:1;12NJJ...     None     None   \n",
       "\n",
       "  SHAUSTORIA  \n",
       "0       None  \n",
       "1       None  \n",
       "2       None  \n",
       "3       None  \n",
       "4       None  "
      ]
     },
     "execution_count": 24,
     "metadata": {},
     "output_type": "execute_result"
    }
   ],
   "source": [
    "kinfin_fa_df.head()"
   ]
  },
  {
   "cell_type": "code",
   "execution_count": 25,
   "metadata": {},
   "outputs": [
    {
     "name": "stdout",
     "output_type": "stream",
     "text": [
      "Haustoria secreted proteins with length 410 in 308\n",
      "24/7.79\n",
      "25/8.12\n",
      "23/7.47\n",
      "22/7.14\n",
      "6/1.95\n",
      "3/0.97\n",
      "3/0.97\n",
      "308/100.00\n"
     ]
    }
   ],
   "source": [
    "haustoria_secreted_proteins = kinfin_fa_df[(kinfin_fa_df['SHAUSTORIA'] != 'None')].count()[0]\n",
    "print('Haustoria secreted proteins with length %i in %i' % (kinfin_fa_df[(kinfin_fa_df['SHAUSTORIA'] != 'None')]\\\n",
    "     ['protein_len'].mean(), haustoria_secreted_proteins))\n",
    "for x in annotation_list:\n",
    "    number_of_annotations = kinfin_fa_df[(kinfin_fa_df['SHAUSTORIA'] != 'None')&(kinfin_fa_df[x] != 'None')].count()[0]\n",
    "    print('%i/%0.2f' % (number_of_annotations, round(number_of_annotations/haustoria_secreted_proteins*100, 2)))\n"
   ]
  },
  {
   "cell_type": "code",
   "execution_count": 26,
   "metadata": {},
   "outputs": [
    {
     "name": "stdout",
     "output_type": "stream",
     "text": [
      "BUSCOs with length 606 in 1444\n",
      "1386/95.98\n",
      "1399/96.88\n",
      "1352/93.63\n",
      "1433/99.24\n",
      "811/56.16\n",
      "14/0.97\n",
      "54/3.74\n",
      "27/1.87\n"
     ]
    }
   ],
   "source": [
    "busco_proteins = kinfin_fa_df[(kinfin_fa_df['BUSCO'] != 'None')].count()[0]\n",
    "print('BUSCOs with length %i in %i' % (kinfin_fa_df[(kinfin_fa_df['BUSCO'] != 'None')]\\\n",
    "     ['protein_len'].mean(), busco_proteins))\n",
    "for x in annotation_list:\n",
    "    #print(x)\n",
    "    number_of_annotations = kinfin_fa_df[(kinfin_fa_df['BUSCO'] != 'None')&(kinfin_fa_df[x] != 'None')].count()[0]\n",
    "    print('%i/%0.2f' % (number_of_annotations, round(number_of_annotations/busco_proteins*100, 2)))\n"
   ]
  },
  {
   "cell_type": "code",
   "execution_count": 27,
   "metadata": {},
   "outputs": [
    {
     "name": "stdout",
     "output_type": "stream",
     "text": [
      "This is the number of unannotated proteins 7590 and 47.65 pct\n"
     ]
    }
   ],
   "source": [
    "tmp_df = kinfin_fa_df.loc[:,['#protein_id','GO', 'IPRSCAN','PFAM', 'OGS', 'KEGG_COMBINED','DBCAN',  'MEROPS']].copy()\n",
    "\n",
    "un_annotated_proteins = tmp_df[(tmp_df.GO == 'None') & (tmp_df.IPRSCAN == 'None') & (tmp_df.PFAM == 'None') & (tmp_df.OGS == 'None') & (tmp_df.KEGG_COMBINED == 'None') \\\n",
    "      & (tmp_df.DBCAN == 'None') & (tmp_df.MEROPS == 'None')]['#protein_id']\n",
    "tmp_df = kinfin_fa_df.loc[:,['#protein_id','GO', 'IPRSCAN','PFAM', 'OGS', 'KEGG_COMBINED','DBCAN',  'MEROPS']].copy()\n",
    "\n",
    "un_annotated_proteins = tmp_df[(tmp_df.GO == 'None') & (tmp_df.IPRSCAN == 'None') & (tmp_df.PFAM == 'None') & (tmp_df.OGS == 'None') & (tmp_df.KEGG_COMBINED == 'None') \\\n",
    "      & (tmp_df.DBCAN == 'None') & (tmp_df.MEROPS == 'None')]['#protein_id']\n",
    "\n",
    "print('This is the number of unannotated proteins %i and %0.2f pct' % (len(un_annotated_proteins), \\\n",
    "                                                                   len(un_annotated_proteins)/15928*100))"
   ]
  },
  {
   "cell_type": "code",
   "execution_count": 28,
   "metadata": {},
   "outputs": [
    {
     "name": "stdout",
     "output_type": "stream",
     "text": [
      "This is the number of unannotated BUSCOs 2 and 0.14 pct\n"
     ]
    }
   ],
   "source": [
    "#now for BUSCOS\n",
    "tmp_df = kinfin_fa_df.loc[:,['#protein_id','GO', 'IPRSCAN','PFAM', 'OGS', 'KEGG_COMBINED','DBCAN',  'MEROPS']].copy()\n",
    "\n",
    "un_annotated_proteins = tmp_df[(kinfin_fa_df['BUSCO'] != 'None')&(tmp_df.GO == 'None') & (tmp_df.IPRSCAN == 'None') & (tmp_df.PFAM == 'None') & (tmp_df.OGS == 'None') & (tmp_df.KEGG_COMBINED == 'None') \\\n",
    "      & (tmp_df.DBCAN == 'None') & (tmp_df.MEROPS == 'None') ]['#protein_id']\n",
    "\n",
    "print('This is the number of unannotated BUSCOs %i and %0.2f pct' % (len(un_annotated_proteins), \\\n",
    "                                                                   len(un_annotated_proteins)/busco_proteins*100))"
   ]
  },
  {
   "cell_type": "code",
   "execution_count": 29,
   "metadata": {},
   "outputs": [
    {
     "name": "stdout",
     "output_type": "stream",
     "text": [
      "This is the number of unannotated EFFECTOR 1307 and 83.14 pct\n"
     ]
    }
   ],
   "source": [
    "#now for BUSCOS\n",
    "tmp_df = kinfin_fa_df.loc[:,['#protein_id','GO', 'IPRSCAN','PFAM', 'OGS', 'KEGG_COMBINED','DBCAN',  'MEROPS']].copy()\n",
    "\n",
    "un_annotated_proteins = tmp_df[(kinfin_fa_df['EFFECTOR'] != 'None')&(tmp_df.GO == 'None') & (tmp_df.IPRSCAN == 'None') & (tmp_df.PFAM == 'None') & (tmp_df.OGS == 'None') & (tmp_df.KEGG_COMBINED == 'None') \\\n",
    "      & (tmp_df.DBCAN == 'None') & (tmp_df.MEROPS == 'None') ]['#protein_id']\n",
    "\n",
    "print('This is the number of unannotated EFFECTOR %i and %0.2f pct' % (len(un_annotated_proteins), \\\n",
    "                                                                   len(un_annotated_proteins)/n_effectors*100))"
   ]
  },
  {
   "cell_type": "code",
   "execution_count": null,
   "metadata": {
    "collapsed": true
   },
   "outputs": [],
   "source": []
  }
 ],
 "metadata": {
  "kernelspec": {
   "display_name": "Python 3",
   "language": "python",
   "name": "python3"
  },
  "language_info": {
   "codemirror_mode": {
    "name": "ipython",
    "version": 3
   },
   "file_extension": ".py",
   "mimetype": "text/x-python",
   "name": "python",
   "nbconvert_exporter": "python",
   "pygments_lexer": "ipython3",
   "version": "3.5.3"
  }
 },
 "nbformat": 4,
 "nbformat_minor": 1
}
