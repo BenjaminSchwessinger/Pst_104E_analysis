{
 "cells": [
  {
   "cell_type": "markdown",
   "metadata": {},
   "source": [
    "This is a parser to get all annotations in a single file for kinfin analysis. Pull in files from the following two folders:\n",
    "\n",
    "/home/benjamin/genome_assembly/PST79/FALCON/p_assemblies/v9_1/Pst_104E_v12/enrichment_analysis/pa_26062017\n",
    "and make a effector tablist for effectors into the same folder from\n",
    "\n",
    "/home/benjamin/genome_assembly/PST79/FALCON/p_assemblies/v9_1/Pst_104E_v12/enrichment_analysis/lists\n",
    "\n",
    "The layout of functional annotation file is as follows.\n",
    "\n",
    " \\#protein_id GO IPR SignalP_EUK Pfam Effector Merops KEGG\n",
    "\n",
    "with the following characteriztics\n",
    "\n",
    "protein_id is simple the id used in clustering as well\n",
    "GO is a list of GO terms as GO:XX;GO:XX\n",
    "IPR is the ; sperated list of IPRterm:count for now this count will be one in all cases\n",
    "The same is true for all other categories as well."
   ]
  },
  {
   "cell_type": "code",
   "execution_count": 1,
   "metadata": {
    "collapsed": true
   },
   "outputs": [],
   "source": [
    "import pandas as pd\n",
    "import os\n",
    "import re\n",
    "from Bio import SeqIO\n",
    "import pysam\n",
    "from Bio.SeqRecord import SeqRecord\n",
    "from pybedtools import BedTool\n",
    "import numpy as np\n",
    "import pybedtools\n",
    "import time\n",
    "import sys\n",
    "import matplotlib.pyplot as plt\n",
    "import subprocess\n",
    "import shutil\n",
    "from collections import Counter"
   ]
  },
  {
   "cell_type": "code",
   "execution_count": 2,
   "metadata": {
    "collapsed": true
   },
   "outputs": [],
   "source": [
    "genome = 'Pst_104E_v12_h_ctg'\n",
    "LIST_FOLDER = '/home/benjamin/genome_assembly/PST79/FALCON/p_assemblies/v9_1/Pst_104E_v12/enrichment_analysis/lists'\n",
    "ANNOTATION_FOLDER = '/home/benjamin/genome_assembly/PST79/FALCON/p_assemblies/v9_1/Pst_104E_v12/enrichment_analysis/pa_26062017'\n",
    "BASE_FOLDER = '/home/benjamin/genome_assembly/PST79/FALCON/p_assemblies/v9_1/Pst_104E_v12'\n",
    "ASSEMBLY_FOLDER = '/home/benjamin/genome_assembly/PST79/FALCON/p_assemblies/v9_1/032017_assembly'\n",
    "KINFIN_FOLDER = os.path.join(BASE_FOLDER, 'KinFin')\n",
    "if not os.path.exists(KINFIN_FOLDER):\n",
    "    os.mkdir(KINFIN_FOLDER)\n",
    "#out file name for kinfin\n",
    "kinfin_out_fn = os.path.join(KINFIN_FOLDER, genome + '.functional_annotation.txt')\n",
    "#define the effector and haustoria expressed gene lists\n",
    "#for the haplotigs cluster 15 is haustoria expressed\n",
    "p_effectorP_fn = os.path.join(LIST_FOLDER, 'Pst_104E_v12_h_effector.list')\n",
    "p_haustoria_fn = os.path.join(LIST_FOLDER, 'Pst_104E_v12_h_cluster_15.list')"
   ]
  },
  {
   "cell_type": "code",
   "execution_count": 3,
   "metadata": {
    "collapsed": true
   },
   "outputs": [],
   "source": [
    "#make an initial dataframe that has the protein_id has index\n",
    "protein_fn = [os.path.join(ASSEMBLY_FOLDER, x) for x in os.listdir(ASSEMBLY_FOLDER) if genome in x\\\n",
    "             and  x.endswith('protein.fa')][0]"
   ]
  },
  {
   "cell_type": "code",
   "execution_count": 4,
   "metadata": {
    "collapsed": true
   },
   "outputs": [],
   "source": [
    "#now generate a list of ids and length\n",
    "protein_id_list = []\n",
    "protein_len_list = []\n",
    "for seq in SeqIO.parse(protein_fn, 'fasta'):\n",
    "    protein_id_list.append(seq.id)\n",
    "    protein_len_list.append(len(seq.seq))\n",
    "#make a dataframe out of it\n",
    "kinfin_fa_df = pd.concat([pd.Series(protein_id_list, name='#protein_id'),\\\n",
    "                          pd.Series(protein_len_list, name='protein_len')], axis=1)"
   ]
  },
  {
   "cell_type": "code",
   "execution_count": 5,
   "metadata": {
    "collapsed": true
   },
   "outputs": [],
   "source": [
    "#get the GO list and add to the dataframe\n",
    "GO_fn = [os.path.join(ANNOTATION_FOLDER, x) for x in os.listdir(ANNOTATION_FOLDER) \\\n",
    "        if x.startswith(genome) and x.endswith('GO_combined.tablist')][0]\n",
    "GO_df = pd.read_csv(GO_fn, header=None, sep='\\t', names=['#protein_id', 'GO'])\n",
    "#merge the GO_df and the kinfin_df\n",
    "kinfin_fa_df = pd.merge(kinfin_fa_df, GO_df, how='outer', on='#protein_id')"
   ]
  },
  {
   "cell_type": "code",
   "execution_count": 6,
   "metadata": {
    "collapsed": true
   },
   "outputs": [],
   "source": [
    "#now pull in all the annotations list file names into a dictionary\n",
    "anno_keys = ['merops', 'Pfam', 'busco', 'iprscan', 'SignalP_EUK', 'dbCAN', 'KEGG_combined', 'OGs']\n",
    "anno_fn_dict = {}\n",
    "for key in anno_keys:\n",
    "    anno_fn_dict[key] = [os.path.join(ANNOTATION_FOLDER, x) for x in os.listdir(ANNOTATION_FOLDER)\\\n",
    "                        if x.startswith(genome) and key in x][0]"
   ]
  },
  {
   "cell_type": "code",
   "execution_count": 7,
   "metadata": {
    "collapsed": true
   },
   "outputs": [],
   "source": [
    "def kf_count(_comma_string):\n",
    "    \"\"\"\n",
    "    Quick function that confered a tablist ; seperated id list to a kinfin suitable occurance count.\n",
    "    \"\"\"\n",
    "    _list = _comma_string.split(';')\n",
    "    _dict = Counter(_list)\n",
    "    _new_string = ''\n",
    "    for x in _dict.keys():\n",
    "        _new_string = '%s;%s:%i'% (_new_string,x, _dict[x])\n",
    "    return _new_string[1:]"
   ]
  },
  {
   "cell_type": "code",
   "execution_count": 8,
   "metadata": {
    "collapsed": true
   },
   "outputs": [],
   "source": [
    "#now loop throught those anno_fn_dict and pull in the dataframes\n",
    "kinfin_fa_df\n",
    "for key in anno_keys:\n",
    "    #if key in ['merops', ]\n",
    "    column_id = key.upper()\n",
    "    tmp_df = pd.read_csv(anno_fn_dict[key], sep='\\t', header=None, names=['#protein_id', key])\n",
    "    #remove the \":\" which a left over from funnanotate\n",
    "    if \":\" in tmp_df.loc[0,key]:\n",
    "        tmp_df[column_id] = tmp_df[key].apply(lambda x: x[x.rindex(':')+1:])\n",
    "    else:\n",
    "        tmp_df[column_id] = tmp_df[key]\n",
    "    #transform the tablist to a counter list sperated by ':'\n",
    "    tmp_df[column_id] = tmp_df[column_id].apply(lambda x: kf_count(x))\n",
    "    kinfin_fa_df = pd.merge(kinfin_fa_df, tmp_df.loc[:, ['#protein_id', column_id]], how='outer', on=\"#protein_id\")\n"
   ]
  },
  {
   "cell_type": "code",
   "execution_count": 9,
   "metadata": {},
   "outputs": [
    {
     "data": {
      "text/plain": [
       "{'KEGG_combined': '/home/benjamin/genome_assembly/PST79/FALCON/p_assemblies/v9_1/Pst_104E_v12/enrichment_analysis/pa_26062017/Pst_104E_v12_h_ctg.KEGG_combined.tablist',\n",
       " 'OGs': '/home/benjamin/genome_assembly/PST79/FALCON/p_assemblies/v9_1/Pst_104E_v12/enrichment_analysis/pa_26062017/Pst_104E_v12_h_ctg.OGs.tablist',\n",
       " 'Pfam': '/home/benjamin/genome_assembly/PST79/FALCON/p_assemblies/v9_1/Pst_104E_v12/enrichment_analysis/pa_26062017/Pst_104E_v12_h_ctg.Pfam.tablist',\n",
       " 'SignalP_EUK': '/home/benjamin/genome_assembly/PST79/FALCON/p_assemblies/v9_1/Pst_104E_v12/enrichment_analysis/pa_26062017/Pst_104E_v12_h_ctg.SignalP_EUK.tablist',\n",
       " 'busco': '/home/benjamin/genome_assembly/PST79/FALCON/p_assemblies/v9_1/Pst_104E_v12/enrichment_analysis/pa_26062017/Pst_104E_v12_h_ctg.busco.tablist',\n",
       " 'dbCAN': '/home/benjamin/genome_assembly/PST79/FALCON/p_assemblies/v9_1/Pst_104E_v12/enrichment_analysis/pa_26062017/Pst_104E_v12_h_ctg.dbCAN.tablist',\n",
       " 'iprscan': '/home/benjamin/genome_assembly/PST79/FALCON/p_assemblies/v9_1/Pst_104E_v12/enrichment_analysis/pa_26062017/Pst_104E_v12_h_ctg.iprscan.tablist',\n",
       " 'merops': '/home/benjamin/genome_assembly/PST79/FALCON/p_assemblies/v9_1/Pst_104E_v12/enrichment_analysis/pa_26062017/Pst_104E_v12_h_ctg.merops.tablist'}"
      ]
     },
     "execution_count": 9,
     "metadata": {},
     "output_type": "execute_result"
    }
   ],
   "source": [
    "anno_fn_dict"
   ]
  },
  {
   "cell_type": "markdown",
   "metadata": {},
   "source": [
    "This fixes it for now. Now pull in the effector list and the haustoria expression list as well."
   ]
  },
  {
   "cell_type": "code",
   "execution_count": 10,
   "metadata": {
    "collapsed": true
   },
   "outputs": [],
   "source": [
    "#now get haustoria expressed genes and effector genes (effectorP and in planta upregulated secreted genes)\n",
    "#now add the those to the dataframe\n",
    "p_effectorP_df = pd.read_csv(p_effectorP_fn, sep='\\t', header=None, names=['#protein_id'])\n",
    "p_effectorP_df['EFFECTOR'] = 'Effector:1'\n",
    "kinfin_fa_df = pd.merge(kinfin_fa_df, p_effectorP_df, how='outer', on=\"#protein_id\")\n",
    "#now add the haustoria expression\n",
    "p_haustoria_df = pd.read_csv(p_haustoria_fn, sep='\\t', header=None, names=['#protein_id'])\n",
    "p_haustoria_df[\"SHAUSTORIA\"] = 'Haustoria:1'\n",
    "kinfin_fa_df = pd.merge(kinfin_fa_df, p_haustoria_df, how='outer', on=\"#protein_id\")"
   ]
  },
  {
   "cell_type": "code",
   "execution_count": 11,
   "metadata": {
    "collapsed": true
   },
   "outputs": [],
   "source": [
    "#now write out two versions one with length included and one without\n",
    "kinfin_fa_df.fillna('None', inplace=True)"
   ]
  },
  {
   "cell_type": "code",
   "execution_count": 12,
   "metadata": {},
   "outputs": [
    {
     "data": {
      "text/plain": [
       "'/home/benjamin/genome_assembly/PST79/FALCON/p_assemblies/v9_1/Pst_104E_v12/KinFin/Pst_104E_v12_h_ctg.functional_annotation.txt'"
      ]
     },
     "execution_count": 12,
     "metadata": {},
     "output_type": "execute_result"
    }
   ],
   "source": [
    "kinfin_out_fn"
   ]
  },
  {
   "cell_type": "code",
   "execution_count": 13,
   "metadata": {
    "collapsed": true
   },
   "outputs": [],
   "source": [
    "kinfin_long_fn = kinfin_out_fn.replace('.txt', '_wlength.txt')\n",
    "kinfin_fa_df.to_csv(kinfin_long_fn, sep='\\t', index=None)\n",
    "#now write out kinfin version\n",
    "kinfin_fa_df.drop('protein_len', 1).to_csv(kinfin_out_fn, sep='\\t', index=None)"
   ]
  },
  {
   "cell_type": "markdown",
   "metadata": {},
   "source": [
    "Now add some more analysis in regards to several aspects to this dataframe. For example protein length, annotation % and so on.\n",
    "\n"
   ]
  },
  {
   "cell_type": "code",
   "execution_count": 18,
   "metadata": {},
   "outputs": [
    {
     "data": {
      "text/plain": [
       "391.4988478458208"
      ]
     },
     "execution_count": 18,
     "metadata": {},
     "output_type": "execute_result"
    }
   ],
   "source": [
    "kinfin_fa_df.protein_len.mean()"
   ]
  },
  {
   "cell_type": "code",
   "execution_count": 19,
   "metadata": {},
   "outputs": [
    {
     "data": {
      "text/plain": [
       "Index(['#protein_id', 'protein_len', 'GO', 'MEROPS', 'PFAM', 'BUSCO',\n",
       "       'IPRSCAN', 'SIGNALP_EUK', 'DBCAN', 'KEGG_COMBINED', 'OGS', 'EFFECTOR',\n",
       "       'SHAUSTORIA'],\n",
       "      dtype='object')"
      ]
     },
     "execution_count": 19,
     "metadata": {},
     "output_type": "execute_result"
    }
   ],
   "source": [
    "kinfin_fa_df.columns"
   ]
  },
  {
   "cell_type": "code",
   "execution_count": 29,
   "metadata": {},
   "outputs": [
    {
     "name": "stdout",
     "output_type": "stream",
     "text": [
      "1388\n"
     ]
    }
   ],
   "source": [
    "n_effectors = kinfin_fa_df[kinfin_fa_df['EFFECTOR'] != 'None'].count()[0]\n",
    "print(n_effectors)"
   ]
  },
  {
   "cell_type": "code",
   "execution_count": 28,
   "metadata": {},
   "outputs": [
    {
     "data": {
      "text/plain": [
       "240.97910662824208"
      ]
     },
     "execution_count": 28,
     "metadata": {},
     "output_type": "execute_result"
    }
   ],
   "source": [
    "kinfin_fa_df[kinfin_fa_df['EFFECTOR'] != 'None']['protein_len'].mean()"
   ]
  },
  {
   "cell_type": "code",
   "execution_count": 30,
   "metadata": {
    "collapsed": true
   },
   "outputs": [],
   "source": [
    "annotation_list = ['GO', 'MEROPS', 'PFAM', 'BUSCO','IPRSCAN', 'SIGNALP_EUK', 'DBCAN', 'KEGG_COMBINED', 'OGS', ]"
   ]
  },
  {
   "cell_type": "code",
   "execution_count": 31,
   "metadata": {},
   "outputs": [
    {
     "name": "stdout",
     "output_type": "stream",
     "text": [
      "GO\n",
      "44\n",
      "0.0317002881844\n",
      "MEROPS\n",
      "0\n",
      "0.0\n",
      "PFAM\n",
      "7\n",
      "0.00504322766571\n",
      "BUSCO\n",
      "0\n",
      "0.0\n",
      "IPRSCAN\n",
      "8\n",
      "0.00576368876081\n",
      "SIGNALP_EUK\n",
      "71\n",
      "0.0511527377522\n",
      "DBCAN\n",
      "1\n",
      "0.000720461095101\n",
      "KEGG_COMBINED\n",
      "23\n",
      "0.0165706051873\n",
      "OGS\n",
      "164\n",
      "0.118155619597\n"
     ]
    }
   ],
   "source": [
    "for x in annotation_list:\n",
    "    print(x)\n",
    "    number_of_annotations = kinfin_fa_df[(kinfin_fa_df['EFFECTOR'] != 'None')&(kinfin_fa_df[x] != 'None')].count()[0]\n",
    "    print(number_of_annotations)\n",
    "    print(number_of_annotations/n_effectors)"
   ]
  },
  {
   "cell_type": "markdown",
   "metadata": {},
   "source": [
    "Need to redo signalp annotation with older version of signalp e.g. v3 and not v4"
   ]
  },
  {
   "cell_type": "code",
   "execution_count": 33,
   "metadata": {},
   "outputs": [
    {
     "name": "stdout",
     "output_type": "stream",
     "text": [
      "GO\n",
      "3948\n",
      "27.567907269\n",
      "MEROPS\n",
      "14\n",
      "0.0977585364151\n",
      "PFAM\n",
      "396\n",
      "2.76517003003\n",
      "BUSCO\n",
      "1293\n",
      "9.02869911319\n",
      "IPRSCAN\n",
      "435\n",
      "3.03749738147\n",
      "SIGNALP_EUK\n",
      "132\n",
      "0.921723343342\n",
      "DBCAN\n",
      "9\n",
      "0.0628447734097\n",
      "KEGG_COMBINED\n",
      "2331\n",
      "16.2767963131\n",
      "OGS\n",
      "6919\n",
      "48.3136652468\n"
     ]
    }
   ],
   "source": [
    "for x in annotation_list:\n",
    "    print(x)\n",
    "    number_of_annotations = kinfin_fa_df[(kinfin_fa_df[x] != 'None')].count()[0]\n",
    "    print(number_of_annotations)\n",
    "    print(number_of_annotations/14321*100)"
   ]
  },
  {
   "cell_type": "markdown",
   "metadata": {},
   "source": [
    "### "
   ]
  }
 ],
 "metadata": {
  "kernelspec": {
   "display_name": "Python 3",
   "language": "python",
   "name": "python3"
  },
  "language_info": {
   "codemirror_mode": {
    "name": "ipython",
    "version": 3
   },
   "file_extension": ".py",
   "mimetype": "text/x-python",
   "name": "python",
   "nbconvert_exporter": "python",
   "pygments_lexer": "ipython3",
   "version": "3.5.3"
  }
 },
 "nbformat": 4,
 "nbformat_minor": 1
}
