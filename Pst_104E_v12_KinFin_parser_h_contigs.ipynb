{
 "cells": [
  {
   "cell_type": "markdown",
   "metadata": {},
   "source": [
    "This is a parser to get all annotations in a single file for kinfin analysis. Pull in files from the following two folders:\n",
    "\n",
    "/home/benjamin/genome_assembly/PST79/FALCON/p_assemblies/v9_1/Pst_104E_v12/enrichment_analysis/pa_26062017\n",
    "and make a effector tablist for effectors into the same folder from\n",
    "\n",
    "/home/benjamin/genome_assembly/PST79/FALCON/p_assemblies/v9_1/Pst_104E_v12/enrichment_analysis/lists\n",
    "\n",
    "The layout of functional annotation file is as follows.\n",
    "\n",
    " \\#protein_id GO IPR SignalP_EUK Pfam Effector Merops KEGG\n",
    "\n",
    "with the following characteriztics\n",
    "\n",
    "protein_id is simple the id used in clustering as well\n",
    "GO is a list of GO terms as GO:XX;GO:XX\n",
    "IPR is the ; sperated list of IPRterm:count for now this count will be one in all cases\n",
    "The same is true for all other categories as well."
   ]
  },
  {
   "cell_type": "code",
   "execution_count": 29,
   "metadata": {
    "collapsed": true
   },
   "outputs": [],
   "source": [
    "import pandas as pd\n",
    "import os\n",
    "import re\n",
    "from Bio import SeqIO\n",
    "import pysam\n",
    "from Bio.SeqRecord import SeqRecord\n",
    "from pybedtools import BedTool\n",
    "import numpy as np\n",
    "import pybedtools\n",
    "import time\n",
    "import sys\n",
    "import matplotlib.pyplot as plt\n",
    "import subprocess\n",
    "import shutil\n",
    "from collections import Counter"
   ]
  },
  {
   "cell_type": "code",
   "execution_count": 30,
   "metadata": {
    "collapsed": true
   },
   "outputs": [],
   "source": [
    "genome = 'Pst_104E_v12_h_ctg'\n",
    "LIST_FOLDER = '/home/benjamin/genome_assembly/PST79/FALCON/p_assemblies/v9_1/Pst_104E_v12/enrichment_analysis/lists'\n",
    "ANNOTATION_FOLDER = '/home/benjamin/genome_assembly/PST79/FALCON/p_assemblies/v9_1/Pst_104E_v12/enrichment_analysis/pa_26062017'\n",
    "BASE_FOLDER = '/home/benjamin/genome_assembly/PST79/FALCON/p_assemblies/v9_1/Pst_104E_v12'\n",
    "ASSEMBLY_FOLDER = '/home/benjamin/genome_assembly/PST79/FALCON/p_assemblies/v9_1/032017_assembly'\n",
    "KINFIN_FOLDER = os.path.join(BASE_FOLDER, 'KinFin')\n",
    "if not os.path.exists(KINFIN_FOLDER):\n",
    "    os.mkdir(KINFIN_FOLDER)\n",
    "#out file name for kinfin\n",
    "kinfin_out_fn = os.path.join(KINFIN_FOLDER, genome + '.functional_annotation.txt')\n",
    "#define the effector and haustoria expressed gene lists\n",
    "#for the haplotigs cluster 15 is haustoria expressed\n",
    "p_effectorP_fn = os.path.join(LIST_FOLDER, 'Pst_104E_v12_h_effector.list')\n",
    "p_haustoria_fn = os.path.join(LIST_FOLDER, 'Pst_104E_v12_h_cluster_15.list')"
   ]
  },
  {
   "cell_type": "code",
   "execution_count": 31,
   "metadata": {
    "collapsed": true
   },
   "outputs": [],
   "source": [
    "#make an initial dataframe that has the protein_id has index\n",
    "protein_fn = [os.path.join(ASSEMBLY_FOLDER, x) for x in os.listdir(ASSEMBLY_FOLDER) if genome in x\\\n",
    "             and  x.endswith('protein.fa')][0]"
   ]
  },
  {
   "cell_type": "code",
   "execution_count": 32,
   "metadata": {
    "collapsed": true
   },
   "outputs": [],
   "source": [
    "#now generate a list of ids and length\n",
    "protein_id_list = []\n",
    "protein_len_list = []\n",
    "for seq in SeqIO.parse(protein_fn, 'fasta'):\n",
    "    protein_id_list.append(seq.id)\n",
    "    protein_len_list.append(len(seq.seq))\n",
    "#make a dataframe out of it\n",
    "kinfin_fa_df = pd.concat([pd.Series(protein_id_list, name='#protein_id'),\\\n",
    "                          pd.Series(protein_len_list, name='protein_len')], axis=1)"
   ]
  },
  {
   "cell_type": "code",
   "execution_count": 33,
   "metadata": {
    "collapsed": true
   },
   "outputs": [],
   "source": [
    "#get the GO list and add to the dataframe\n",
    "GO_fn = [os.path.join(ANNOTATION_FOLDER, x) for x in os.listdir(ANNOTATION_FOLDER) \\\n",
    "        if x.startswith(genome) and x.endswith('GO_combined.tablist')][0]\n",
    "GO_df = pd.read_csv(GO_fn, header=None, sep='\\t', names=['#protein_id', 'GO'])\n",
    "#merge the GO_df and the kinfin_df\n",
    "kinfin_fa_df = pd.merge(kinfin_fa_df, GO_df, how='outer', on='#protein_id')"
   ]
  },
  {
   "cell_type": "code",
   "execution_count": 34,
   "metadata": {
    "collapsed": true
   },
   "outputs": [],
   "source": [
    "#now pull in all the annotations list file names into a dictionary\n",
    "anno_keys = ['merops', 'Pfam', 'busco', 'iprscan', 'SignalP_EUK', 'dbCAN', 'KEGG_combined', 'OGs']\n",
    "anno_fn_dict = {}\n",
    "for key in anno_keys:\n",
    "    anno_fn_dict[key] = [os.path.join(ANNOTATION_FOLDER, x) for x in os.listdir(ANNOTATION_FOLDER)\\\n",
    "                        if x.startswith(genome) and key in x][0]"
   ]
  },
  {
   "cell_type": "code",
   "execution_count": 35,
   "metadata": {
    "collapsed": true
   },
   "outputs": [],
   "source": [
    "def kf_count(_comma_string):\n",
    "    \"\"\"\n",
    "    Quick function that confered a tablist ; seperated id list to a kinfin suitable occurance count.\n",
    "    \"\"\"\n",
    "    _list = _comma_string.split(';')\n",
    "    _dict = Counter(_list)\n",
    "    _new_string = ''\n",
    "    for x in _dict.keys():\n",
    "        _new_string = '%s;%s:%i'% (_new_string,x, _dict[x])\n",
    "    return _new_string[1:]"
   ]
  },
  {
   "cell_type": "code",
   "execution_count": 36,
   "metadata": {
    "collapsed": true
   },
   "outputs": [],
   "source": [
    "#now loop throught those anno_fn_dict and pull in the dataframes\n",
    "kinfin_fa_df\n",
    "for key in anno_keys:\n",
    "    #if key in ['merops', ]\n",
    "    column_id = key.upper()\n",
    "    tmp_df = pd.read_csv(anno_fn_dict[key], sep='\\t', header=None, names=['#protein_id', key])\n",
    "    #remove the \":\" which a left over from funnanotate\n",
    "    if \":\" in tmp_df.loc[0,key]:\n",
    "        tmp_df[column_id] = tmp_df[key].apply(lambda x: x[x.rindex(':')+1:])\n",
    "    else:\n",
    "        tmp_df[column_id] = tmp_df[key]\n",
    "    #transform the tablist to a counter list sperated by ':'\n",
    "    tmp_df[column_id] = tmp_df[column_id].apply(lambda x: kf_count(x))\n",
    "    kinfin_fa_df = pd.merge(kinfin_fa_df, tmp_df.loc[:, ['#protein_id', column_id]], how='outer', on=\"#protein_id\")\n"
   ]
  },
  {
   "cell_type": "code",
   "execution_count": 37,
   "metadata": {},
   "outputs": [
    {
     "data": {
      "text/plain": [
       "{'KEGG_combined': '/home/benjamin/genome_assembly/PST79/FALCON/p_assemblies/v9_1/Pst_104E_v12/enrichment_analysis/pa_26062017/Pst_104E_v12_h_ctg.KEGG_combined.tablist',\n",
       " 'OGs': '/home/benjamin/genome_assembly/PST79/FALCON/p_assemblies/v9_1/Pst_104E_v12/enrichment_analysis/pa_26062017/Pst_104E_v12_h_ctg.OGs.tablist',\n",
       " 'Pfam': '/home/benjamin/genome_assembly/PST79/FALCON/p_assemblies/v9_1/Pst_104E_v12/enrichment_analysis/pa_26062017/Pst_104E_v12_h_ctg.Pfam.tablist',\n",
       " 'SignalP_EUK': '/home/benjamin/genome_assembly/PST79/FALCON/p_assemblies/v9_1/Pst_104E_v12/enrichment_analysis/pa_26062017/Pst_104E_v12_h_ctg.SignalP_EUK.tablist',\n",
       " 'busco': '/home/benjamin/genome_assembly/PST79/FALCON/p_assemblies/v9_1/Pst_104E_v12/enrichment_analysis/pa_26062017/Pst_104E_v12_h_ctg.busco.tablist',\n",
       " 'dbCAN': '/home/benjamin/genome_assembly/PST79/FALCON/p_assemblies/v9_1/Pst_104E_v12/enrichment_analysis/pa_26062017/Pst_104E_v12_h_ctg.dbCAN.tablist',\n",
       " 'iprscan': '/home/benjamin/genome_assembly/PST79/FALCON/p_assemblies/v9_1/Pst_104E_v12/enrichment_analysis/pa_26062017/Pst_104E_v12_h_ctg.iprscan.tablist',\n",
       " 'merops': '/home/benjamin/genome_assembly/PST79/FALCON/p_assemblies/v9_1/Pst_104E_v12/enrichment_analysis/pa_26062017/Pst_104E_v12_h_ctg.merops.tablist'}"
      ]
     },
     "execution_count": 37,
     "metadata": {},
     "output_type": "execute_result"
    }
   ],
   "source": [
    "anno_fn_dict"
   ]
  },
  {
   "cell_type": "markdown",
   "metadata": {},
   "source": [
    "This fixes it for now. Now pull in the effector list and the haustoria expression list as well."
   ]
  },
  {
   "cell_type": "code",
   "execution_count": 38,
   "metadata": {
    "collapsed": true
   },
   "outputs": [],
   "source": [
    "#now get haustoria expressed genes and effector genes (effectorP and in planta upregulated secreted genes)\n",
    "#now add the those to the dataframe\n",
    "p_effectorP_df = pd.read_csv(p_effectorP_fn, sep='\\t', header=None, names=['#protein_id'])\n",
    "p_effectorP_df['EFFECTOR'] = 'Effector:1'\n",
    "kinfin_fa_df = pd.merge(kinfin_fa_df, p_effectorP_df, how='outer', on=\"#protein_id\")\n",
    "#now add the haustoria expression\n",
    "p_haustoria_df = pd.read_csv(p_haustoria_fn, sep='\\t', header=None, names=['#protein_id'])\n",
    "p_haustoria_df[\"SHAUSTORIA\"] = 'Haustoria:1'\n",
    "kinfin_fa_df = pd.merge(kinfin_fa_df, p_haustoria_df, how='outer', on=\"#protein_id\")"
   ]
  },
  {
   "cell_type": "code",
   "execution_count": 39,
   "metadata": {
    "collapsed": true
   },
   "outputs": [],
   "source": [
    "#now write out two versions one with length included and one without\n",
    "kinfin_fa_df.fillna('None', inplace=True)"
   ]
  },
  {
   "cell_type": "code",
   "execution_count": 40,
   "metadata": {},
   "outputs": [
    {
     "data": {
      "text/plain": [
       "'/home/benjamin/genome_assembly/PST79/FALCON/p_assemblies/v9_1/Pst_104E_v12/KinFin/Pst_104E_v12_h_ctg.functional_annotation.txt'"
      ]
     },
     "execution_count": 40,
     "metadata": {},
     "output_type": "execute_result"
    }
   ],
   "source": [
    "kinfin_out_fn"
   ]
  },
  {
   "cell_type": "code",
   "execution_count": 41,
   "metadata": {
    "collapsed": true
   },
   "outputs": [],
   "source": [
    "kinfin_long_fn = kinfin_out_fn.replace('.txt', '_wlength.txt')\n",
    "kinfin_fa_df.to_csv(kinfin_long_fn, sep='\\t', index=None)\n",
    "#now write out kinfin version\n",
    "kinfin_fa_df.drop('protein_len', 1).to_csv(kinfin_out_fn, sep='\\t', index=None)"
   ]
  },
  {
   "cell_type": "code",
   "execution_count": 42,
   "metadata": {},
   "outputs": [
    {
     "data": {
      "text/html": [
       "<div>\n",
       "<style>\n",
       "    .dataframe thead tr:only-child th {\n",
       "        text-align: right;\n",
       "    }\n",
       "\n",
       "    .dataframe thead th {\n",
       "        text-align: left;\n",
       "    }\n",
       "\n",
       "    .dataframe tbody tr th {\n",
       "        vertical-align: top;\n",
       "    }\n",
       "</style>\n",
       "<table border=\"1\" class=\"dataframe\">\n",
       "  <thead>\n",
       "    <tr style=\"text-align: right;\">\n",
       "      <th></th>\n",
       "      <th>#protein_id</th>\n",
       "      <th>protein_len</th>\n",
       "      <th>GO</th>\n",
       "      <th>MEROPS</th>\n",
       "      <th>PFAM</th>\n",
       "      <th>BUSCO</th>\n",
       "      <th>IPRSCAN</th>\n",
       "      <th>SIGNALP_EUK</th>\n",
       "      <th>DBCAN</th>\n",
       "      <th>KEGG_COMBINED</th>\n",
       "      <th>OGS</th>\n",
       "      <th>EFFECTOR</th>\n",
       "      <th>SHAUSTORIA</th>\n",
       "    </tr>\n",
       "  </thead>\n",
       "  <tbody>\n",
       "    <tr>\n",
       "      <th>25</th>\n",
       "      <td>evm.model.hcontig_048_010.1</td>\n",
       "      <td>72</td>\n",
       "      <td>None</td>\n",
       "      <td>None</td>\n",
       "      <td>None</td>\n",
       "      <td>None</td>\n",
       "      <td>None</td>\n",
       "      <td>None</td>\n",
       "      <td>None</td>\n",
       "      <td>None</td>\n",
       "      <td>0YT6B@NOG:1;0PQNR@fuNOG:1;KOG3060@euNOG:1;12U7...</td>\n",
       "      <td>None</td>\n",
       "      <td>None</td>\n",
       "    </tr>\n",
       "  </tbody>\n",
       "</table>\n",
       "</div>"
      ],
      "text/plain": [
       "                    #protein_id  protein_len    GO MEROPS  PFAM BUSCO IPRSCAN  \\\n",
       "25  evm.model.hcontig_048_010.1           72  None   None  None  None    None   \n",
       "\n",
       "   SIGNALP_EUK DBCAN KEGG_COMBINED  \\\n",
       "25        None  None          None   \n",
       "\n",
       "                                                  OGS EFFECTOR SHAUSTORIA  \n",
       "25  0YT6B@NOG:1;0PQNR@fuNOG:1;KOG3060@euNOG:1;12U7...     None       None  "
      ]
     },
     "execution_count": 42,
     "metadata": {},
     "output_type": "execute_result"
    }
   ],
   "source": [
    "kinfin_fa_df[kinfin_fa_df['#protein_id'] == 'evm.model.hcontig_048_010.1']"
   ]
  },
  {
   "cell_type": "code",
   "execution_count": null,
   "metadata": {
    "collapsed": true
   },
   "outputs": [],
   "source": []
  },
  {
   "cell_type": "code",
   "execution_count": null,
   "metadata": {
    "collapsed": true
   },
   "outputs": [],
   "source": []
  }
 ],
 "metadata": {
  "kernelspec": {
   "display_name": "Python 3",
   "language": "python",
   "name": "python3"
  },
  "language_info": {
   "codemirror_mode": {
    "name": "ipython",
    "version": 3
   },
   "file_extension": ".py",
   "mimetype": "text/x-python",
   "name": "python",
   "nbconvert_exporter": "python",
   "pygments_lexer": "ipython3",
   "version": "3.5.3"
  }
 },
 "nbformat": 4,
 "nbformat_minor": 1
}
