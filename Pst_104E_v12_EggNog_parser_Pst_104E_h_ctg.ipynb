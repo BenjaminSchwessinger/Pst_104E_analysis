{
 "cells": [
  {
   "cell_type": "markdown",
   "metadata": {},
   "source": [
    "Idea is to read in the annotation file of emapper.py and pull out the annotations.\n",
    "This was run like:\n",
    "/home/benjamin/anaconda3/envs/funannotate/eggnog-mapper-0.99.2/emapper.py -i /home/benjamin/genome_assembly/PST79/FALCON/p_assemblies/v9_1/032017_assembly/Pst_104E_v12_h_ctg.anno.protein.fa -d euk --output Pst_104E_v12_h_ctg --cpu 12\n"
   ]
  },
  {
   "cell_type": "code",
   "execution_count": 1,
   "metadata": {
    "collapsed": true
   },
   "outputs": [],
   "source": [
    "import pandas as pd\n",
    "import os\n",
    "import re\n",
    "from Bio import SeqIO\n",
    "import pysam\n",
    "from Bio.SeqRecord import SeqRecord\n",
    "from pybedtools import BedTool\n",
    "import numpy as np\n",
    "import pybedtools\n",
    "import time\n",
    "import matplotlib.pyplot as plt\n",
    "import sys\n",
    "import subprocess\n",
    "import shutil"
   ]
  },
  {
   "cell_type": "code",
   "execution_count": 2,
   "metadata": {
    "collapsed": true
   },
   "outputs": [],
   "source": [
    "p_genome = 'Pst_104E_v12_h_ctg'\n",
    "BASE_FOLDER = '/home/benjamin/genome_assembly/PST79/FALCON/p_assemblies/v9_1/Pst_104E_v12/protein_annotation/%s/eggnog-mapper' %(p_genome)\n",
    "EGGNOG_BLAST_FILE = '%s.emapper.annotations' % (p_genome)\n",
    "EGGNOG_DIAMON_FILE = '%s_diamond.emapper.annotations' % (p_genome)\n",
    "BASE_AA_PATH = '/home/benjamin/genome_assembly/PST79/FALCON/p_assemblies/v9_1/Pst_104E_v12'\n",
    "BASE_A_PATH = '/home/benjamin/genome_assembly/PST79/FALCON/p_assemblies/v9_1/032017_assembly'\n",
    "OUT_PATH = os.path.join(BASE_AA_PATH, 'protein_annotation',p_genome, 'eggnog-mapper', 'parsed')\n",
    "if not os.path.exists(OUT_PATH):\n",
    "    os.mkdir(OUT_PATH)\n"
   ]
  },
  {
   "cell_type": "raw",
   "metadata": {},
   "source": [
    "p_genome = 'Pst_104E_v12_h_ctg'\n",
    "OUT_PATH_P = os.path.join(OUT_PATH, p_genome)\n",
    "if not os.path.exists(OUT_PATH_P):\n",
    "    os.mkdir(OUT_PATH_P)\n",
    "#that is the path for all the proteins without removing the high coverage contigs and the proteins w/ \n",
    "#similarities to TE proteins\n",
    "OUT_PATH_P_ALL = os.path.join(OUT_PATH_P, 'ALL')\n",
    "if not os.path.exists(OUT_PATH_P_ALL):\n",
    "    os.mkdir(OUT_PATH_P_ALL)"
   ]
  },
  {
   "cell_type": "code",
   "execution_count": 3,
   "metadata": {
    "collapsed": true
   },
   "outputs": [],
   "source": [
    "#pull out all proteins that are in the final assembly\n",
    "p_protein_list = []\n",
    "protein_fa_file = [x for x in os.listdir(BASE_A_PATH) if p_genome in x and x.endswith('anno.protein.fa')][0]\n",
    "for protein in SeqIO.parse(os.path.join(BASE_A_PATH, protein_fa_file) , 'fasta'):\n",
    "    p_protein_list.append(protein.id)"
   ]
  },
  {
   "cell_type": "code",
   "execution_count": 4,
   "metadata": {
    "collapsed": true
   },
   "outputs": [],
   "source": [
    "eggnog_blast_header = 'query_name seed_eggNOG_ortholog seed_ortholog_evalue seed_ortholog_score predicted_gene_name \\\n",
    "GO_terms KEGG_pathways Annotation_tax_scope OGs bestOG|evalue|score COG cat eggNOG annot'.split(' ')"
   ]
  },
  {
   "cell_type": "code",
   "execution_count": 5,
   "metadata": {},
   "outputs": [
    {
     "data": {
      "text/plain": [
       "['query_name',\n",
       " 'seed_eggNOG_ortholog',\n",
       " 'seed_ortholog_evalue',\n",
       " 'seed_ortholog_score',\n",
       " 'predicted_gene_name',\n",
       " 'GO_terms',\n",
       " 'KEGG_pathways',\n",
       " 'Annotation_tax_scope',\n",
       " 'OGs',\n",
       " 'bestOG|evalue|score',\n",
       " 'COG',\n",
       " 'cat',\n",
       " 'eggNOG',\n",
       " 'annot']"
      ]
     },
     "execution_count": 5,
     "metadata": {},
     "output_type": "execute_result"
    }
   ],
   "source": [
    "eggnog_blast_header"
   ]
  },
  {
   "cell_type": "code",
   "execution_count": 6,
   "metadata": {
    "collapsed": true
   },
   "outputs": [],
   "source": [
    "eggnog_blast_df = pd.read_csv(os.path.join(BASE_FOLDER, EGGNOG_BLAST_FILE), sep ='\\t', header=None, names=eggnog_blast_header, skiprows=3)"
   ]
  },
  {
   "cell_type": "code",
   "execution_count": 7,
   "metadata": {},
   "outputs": [
    {
     "data": {
      "text/plain": [
       "query_name                                   evm.model.hcontig_010_016.50\n",
       "seed_eggNOG_ortholog                                        5297.EFP85053\n",
       "seed_ortholog_evalue                                                    0\n",
       "seed_ortholog_score                                                  1155\n",
       "predicted_gene_name                                             FG02823.1\n",
       "GO_terms                GO:0003674,GO:0003824,GO:0004620,GO:0004622,GO...\n",
       "KEGG_pathways                                                    map00564\n",
       "Annotation_tax_scope                                            euNOG[57]\n",
       "OGs                                               0XR72@NOG,KOG1325@euNOG\n",
       "bestOG|evalue|score                                KOG1325|2.4e-110|374.0\n",
       "COG                                                                     I\n",
       "cat                                                phospholipase A2 group\n",
       "eggNOG                                                                NaN\n",
       "annot                                                                 NaN\n",
       "Name: 1, dtype: object"
      ]
     },
     "execution_count": 7,
     "metadata": {},
     "output_type": "execute_result"
    }
   ],
   "source": [
    "eggnog_blast_df.iloc[1,:]"
   ]
  },
  {
   "cell_type": "code",
   "execution_count": 8,
   "metadata": {
    "collapsed": true
   },
   "outputs": [],
   "source": [
    "eggnog_blast_df.fillna(0, inplace =True)"
   ]
  },
  {
   "cell_type": "code",
   "execution_count": 9,
   "metadata": {},
   "outputs": [
    {
     "data": {
      "text/plain": [
       "Index(['query_name', 'seed_eggNOG_ortholog', 'seed_ortholog_evalue',\n",
       "       'seed_ortholog_score', 'predicted_gene_name', 'GO_terms',\n",
       "       'KEGG_pathways', 'Annotation_tax_scope', 'OGs', 'bestOG|evalue|score',\n",
       "       'COG', 'cat', 'eggNOG', 'annot'],\n",
       "      dtype='object')"
      ]
     },
     "execution_count": 9,
     "metadata": {},
     "output_type": "execute_result"
    }
   ],
   "source": [
    "eggnog_blast_df.columns"
   ]
  },
  {
   "cell_type": "code",
   "execution_count": 10,
   "metadata": {
    "collapsed": true
   },
   "outputs": [],
   "source": [
    "#pick all annotation columns. One at a time and write them out as tab file or annotations files. The later can be used\n",
    "#to annotate gff files using gag.py\n",
    "DBs = [x for x in eggnog_blast_df.columns.tolist()[4:] if x not in ['GO_terms','KEGG_pathways', 'OGs','bestOG|evalue|score' ] ]\n",
    "eggnog_blast_df['note'] = 'note'\n",
    "for db in DBs:\n",
    "    if len(eggnog_blast_df[eggnog_blast_df[db] !=0]) > 0:\n",
    "        eggnog_blast_df[eggnog_blast_df[db] !=0].loc[:,['query_name',db]]\\\n",
    "        .to_csv(os.path.join(OUT_PATH, db+'_terms.tab'), sep='\\t', header =None, index = None)\n",
    "        eggnog_blast_df[eggnog_blast_df[db] !=0].loc[:,['query_name', 'note', db]]\\\n",
    "        .to_csv(os.path.join(OUT_PATH, 'annotations.' +db+'.txt'), sep='\\t', header =None, index = None)\n",
    "    \n",
    "    "
   ]
  },
  {
   "cell_type": "code",
   "execution_count": 11,
   "metadata": {
    "collapsed": true
   },
   "outputs": [],
   "source": [
    "#now look after the remaining columns which have potentially multiple entries as values eg. GOterm, GOterm, GOterm\n",
    "#those values need to be split into a list and this made into a new dataframe before writting it out again.\n",
    "eggnog_blast_df = pd.read_csv(os.path.join(BASE_FOLDER, EGGNOG_BLAST_FILE), sep ='\\t', header=None, names=eggnog_blast_header, skiprows=3)\n",
    "#['GO_terms','KEGG_pathways', 'OGs']\n",
    "for db in ['GO_terms','KEGG_pathways', 'OGs']:\n",
    "    eggnog_blast_df[db] = eggnog_blast_df[db].str.split(',')\n",
    "    all_term_list = []\n",
    "    all_query_list = []\n",
    "    eggnog_blast_df[db].fillna(0, inplace=True)\n",
    "    for key in eggnog_blast_df[eggnog_blast_df[db] != 0 ].index:\n",
    "        for term in eggnog_blast_df.loc[key,db]:\n",
    "            all_term_list.append(term)\n",
    "            all_query_list.append(eggnog_blast_df.loc[key,'query_name'])\n",
    "    tmp_df = pd.DataFrame([all_query_list, all_term_list]).T\n",
    "    tmp_df.rename(columns={0:'query_name', 1:'DB_ID'}, inplace=True)\n",
    "    tmp_df.to_csv(os.path.join(OUT_PATH, db+'_terms.tab'), sep='\\t', header =None, index = None)\n",
    "    tmp_df['note'] = 'note'\n",
    "    tmp_df.loc[:, ['query_name', 'note', 'DB_ID']].to_csv(os.path.join(OUT_PATH, 'annotations.' +db+'.txt'), sep='\\t', header =None, index = None)"
   ]
  },
  {
   "cell_type": "code",
   "execution_count": 12,
   "metadata": {
    "collapsed": true
   },
   "outputs": [],
   "source": [
    "#combine KEGG annotations, and GO terms\n",
    "egg_GO_file = [os.path.join(OUT_PATH, x) for x in os.listdir(OUT_PATH) if x == 'annotations.GO_terms.txt'][0] \n",
    "egg_KEGG_file = [os.path.join(OUT_PATH, x) for x in os.listdir(OUT_PATH) if x == 'annotations.KEGG_pathways.txt'][0]\n",
    "interpro_GO_file = [os.path.join(BASE_AA_PATH, 'protein_annotation',p_genome, x)\\\n",
    "                      for x in os.listdir(os.path.join(BASE_AA_PATH, 'protein_annotation',p_genome)) if x == 'annotations.GO.txt'][0]\n",
    "interpro_KEGG_file = [os.path.join(BASE_AA_PATH, 'protein_annotation',p_genome, x) \\\n",
    "                    for x in os.listdir(os.path.join(BASE_AA_PATH, 'protein_annotation',p_genome)) if x == 'annotations.Pathway.txt'][0]"
   ]
  },
  {
   "cell_type": "code",
   "execution_count": 13,
   "metadata": {
    "collapsed": true
   },
   "outputs": [],
   "source": [
    "GO_df = pd.concat([pd.read_csv(egg_GO_file, header=None, sep='\\t'), pd.read_csv(interpro_GO_file, header=None, sep='\\t')])"
   ]
  },
  {
   "cell_type": "code",
   "execution_count": 14,
   "metadata": {
    "collapsed": true
   },
   "outputs": [],
   "source": [
    "GO_df.drop_duplicates().to_csv(os.path.join(OUT_PATH, 'annotations.GO_combined.txt'), header=None, index =None, sep ='\\t')"
   ]
  },
  {
   "cell_type": "code",
   "execution_count": 15,
   "metadata": {
    "collapsed": true
   },
   "outputs": [],
   "source": [
    "interpro_pathway_df = pd.read_csv(interpro_KEGG_file, header = None, sep='\\t', names=['query_name','note', 'DB'])"
   ]
  },
  {
   "cell_type": "code",
   "execution_count": 16,
   "metadata": {},
   "outputs": [
    {
     "data": {
      "text/html": [
       "<div>\n",
       "<style>\n",
       "    .dataframe thead tr:only-child th {\n",
       "        text-align: right;\n",
       "    }\n",
       "\n",
       "    .dataframe thead th {\n",
       "        text-align: left;\n",
       "    }\n",
       "\n",
       "    .dataframe tbody tr th {\n",
       "        vertical-align: top;\n",
       "    }\n",
       "</style>\n",
       "<table border=\"1\" class=\"dataframe\">\n",
       "  <thead>\n",
       "    <tr style=\"text-align: right;\">\n",
       "      <th></th>\n",
       "      <th>query_name</th>\n",
       "      <th>note</th>\n",
       "      <th>DB</th>\n",
       "    </tr>\n",
       "  </thead>\n",
       "  <tbody>\n",
       "    <tr>\n",
       "      <th>0</th>\n",
       "      <td>evm.model.hcontig_027_102.37</td>\n",
       "      <td>note</td>\n",
       "      <td>KEGG: 00290+4.2.1.33</td>\n",
       "    </tr>\n",
       "    <tr>\n",
       "      <th>1</th>\n",
       "      <td>evm.model.hcontig_028_015.63</td>\n",
       "      <td>note</td>\n",
       "      <td>Reactome: R-HSA-72163</td>\n",
       "    </tr>\n",
       "    <tr>\n",
       "      <th>2</th>\n",
       "      <td>evm.model.hcontig_004_020.8</td>\n",
       "      <td>note</td>\n",
       "      <td>MetaCyc: PWY-5826</td>\n",
       "    </tr>\n",
       "    <tr>\n",
       "      <th>3</th>\n",
       "      <td>evm.model.hcontig_004_020.8</td>\n",
       "      <td>note</td>\n",
       "      <td>KEGG: 00460+2.3.2.2</td>\n",
       "    </tr>\n",
       "    <tr>\n",
       "      <th>4</th>\n",
       "      <td>evm.model.hcontig_004_020.8</td>\n",
       "      <td>note</td>\n",
       "      <td>KEGG: 00430+2.3.2.2</td>\n",
       "    </tr>\n",
       "  </tbody>\n",
       "</table>\n",
       "</div>"
      ],
      "text/plain": [
       "                     query_name  note                     DB\n",
       "0  evm.model.hcontig_027_102.37  note   KEGG: 00290+4.2.1.33\n",
       "1  evm.model.hcontig_028_015.63  note  Reactome: R-HSA-72163\n",
       "2   evm.model.hcontig_004_020.8  note      MetaCyc: PWY-5826\n",
       "3   evm.model.hcontig_004_020.8  note    KEGG: 00460+2.3.2.2\n",
       "4   evm.model.hcontig_004_020.8  note    KEGG: 00430+2.3.2.2"
      ]
     },
     "execution_count": 16,
     "metadata": {},
     "output_type": "execute_result"
    }
   ],
   "source": [
    "interpro_pathway_df.head()"
   ]
  },
  {
   "cell_type": "code",
   "execution_count": 17,
   "metadata": {
    "collapsed": true
   },
   "outputs": [],
   "source": [
    "interpro_KEGG_df = interpro_pathway_df[interpro_pathway_df.DB.str.contains('KEGG')]"
   ]
  },
  {
   "cell_type": "code",
   "execution_count": 18,
   "metadata": {},
   "outputs": [
    {
     "name": "stderr",
     "output_type": "stream",
     "text": [
      "/home/benjamin/anaconda3/lib/python3.5/site-packages/ipykernel_launcher.py:1: FutureWarning: currently extract(expand=None) means expand=False (return Index/Series/DataFrame) but in a future version of pandas this will be changed to expand=True (return DataFrame)\n",
      "  \"\"\"Entry point for launching an IPython kernel.\n",
      "/home/benjamin/anaconda3/lib/python3.5/site-packages/ipykernel_launcher.py:1: SettingWithCopyWarning: \n",
      "A value is trying to be set on a copy of a slice from a DataFrame.\n",
      "Try using .loc[row_indexer,col_indexer] = value instead\n",
      "\n",
      "See the caveats in the documentation: http://pandas.pydata.org/pandas-docs/stable/indexing.html#indexing-view-versus-copy\n",
      "  \"\"\"Entry point for launching an IPython kernel.\n"
     ]
    }
   ],
   "source": [
    "interpro_KEGG_df['new_KEGG'] = 'map'+interpro_KEGG_df.DB.str.extract(r'KEGG: ([0-9]+)+')"
   ]
  },
  {
   "cell_type": "code",
   "execution_count": 19,
   "metadata": {
    "collapsed": true
   },
   "outputs": [],
   "source": [
    "KEGG_df = pd.concat([interpro_KEGG_df.loc[:,['query_name', 'note', 'new_KEGG']],\\\n",
    "                     pd.read_csv(egg_KEGG_file, header=None, sep='\\t', names=['query_name','note', 'new_KEGG'])])"
   ]
  },
  {
   "cell_type": "code",
   "execution_count": 20,
   "metadata": {
    "collapsed": true
   },
   "outputs": [],
   "source": [
    "KEGG_df.drop_duplicates().to_csv(os.path.join(OUT_PATH, 'annotations.KEGG_combined.txt'), header=None, index =None, sep ='\\t')"
   ]
  },
  {
   "cell_type": "code",
   "execution_count": 21,
   "metadata": {
    "collapsed": true
   },
   "outputs": [],
   "source": [
    "interpro_pathway_df[~interpro_pathway_df.DB.str.contains('KEGG')].to_csv(os.path.join(BASE_AA_PATH, 'protein_annotation',p_genome,\\\n",
    "                                                                                     'annotations.Pathway_no_KEGG.txt'), header=None, index=None, sep='\\t')"
   ]
  },
  {
   "cell_type": "code",
   "execution_count": 22,
   "metadata": {
    "collapsed": true
   },
   "outputs": [],
   "source": [
    "p_genome = 'Pst_104E_v12_h_ctg'\n",
    "OUT_PATH = os.path.join(BASE_AA_PATH, 'protein_annotation',p_genome, 'eggnog-mapper', 'parsed')"
   ]
  },
  {
   "cell_type": "code",
   "execution_count": 23,
   "metadata": {
    "collapsed": true
   },
   "outputs": [],
   "source": [
    "#now get all eggnog files to write out the annotations as 'gene ID;ID'\n",
    "annotation_files_eggnog = [os.path.join(OUT_PATH, x) for x in os.listdir(OUT_PATH) if x.startswith('annotations')]"
   ]
  },
  {
   "cell_type": "code",
   "execution_count": 24,
   "metadata": {
    "collapsed": true
   },
   "outputs": [],
   "source": [
    "#do the writing out as 'gene \\t ID;ID'\n",
    "for file in annotation_files_eggnog:\n",
    "    tmp_df = pd.read_csv(file, header = None, sep ='\\t', names=['query_name', 'note', 'annotation'])\n",
    "    tmp_dict = {}\n",
    "    for name, group in tmp_df.groupby('query_name'):\n",
    "        tmp_dict[name] = ';'.join(group['annotation'].tolist())\n",
    "    fn = file.replace('annotations', p_genome)\n",
    "    fn = fn.replace('.txt', '.tablist')\n",
    "    tmp_fn = open(fn, 'w')\n",
    "    for key, value in tmp_dict.items():\n",
    "        print('%s\\t%s' %(key, value) ,file=tmp_fn)\n",
    "    tmp_fn.close()"
   ]
  },
  {
   "cell_type": "code",
   "execution_count": 25,
   "metadata": {
    "collapsed": true
   },
   "outputs": [],
   "source": [
    "annotation_files_interpro = [os.path.join(BASE_AA_PATH, 'protein_annotation',p_genome, x) for x in os.listdir(os.path.join(BASE_AA_PATH, 'protein_annotation',p_genome)) if x.startswith('annotations')]"
   ]
  },
  {
   "cell_type": "code",
   "execution_count": 26,
   "metadata": {
    "collapsed": true
   },
   "outputs": [],
   "source": [
    "#do the writing out as 'gene \\t ID;ID'\n",
    "for file in annotation_files_interpro:\n",
    "    tmp_df = pd.read_csv(file, header = None, sep ='\\t', names=['query_name', 'note', 'annotation'])\n",
    "    tmp_dict = {}\n",
    "    for name, group in tmp_df.groupby('query_name'):\n",
    "        tmp_dict[name] = ';'.join(group['annotation'].tolist())\n",
    "    fn = file.replace('annotations', p_genome)\n",
    "    fn = fn.replace('.txt', '.tablist')\n",
    "    tmp_fn = open(fn, 'w')\n",
    "    for key, value in tmp_dict.items():\n",
    "        print('%s\\t%s' %(key, value) ,file=tmp_fn)\n",
    "    tmp_fn.close()"
   ]
  },
  {
   "cell_type": "code",
   "execution_count": null,
   "metadata": {
    "collapsed": true
   },
   "outputs": [],
   "source": []
  }
 ],
 "metadata": {
  "kernelspec": {
   "display_name": "Python 3",
   "language": "python",
   "name": "python3"
  },
  "language_info": {
   "codemirror_mode": {
    "name": "ipython",
    "version": 3
   },
   "file_extension": ".py",
   "mimetype": "text/x-python",
   "name": "python",
   "nbconvert_exporter": "python",
   "pygments_lexer": "ipython3",
   "version": "3.5.3"
  }
 },
 "nbformat": 4,
 "nbformat_minor": 1
}
