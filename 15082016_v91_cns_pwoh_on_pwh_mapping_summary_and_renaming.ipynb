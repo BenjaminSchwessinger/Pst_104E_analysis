{
 "cells": [
  {
   "cell_type": "code",
   "execution_count": 31,
   "metadata": {
    "collapsed": false
   },
   "outputs": [],
   "source": [
    "%matplotlib inline\n",
    "import numpy as np\n",
    "import matplotlib.pyplot as plt\n",
    "from matplotlib.axes import Axes\n",
    "import pandas as pd\n",
    "import itertools\n",
    "import matplotlib\n",
    "import os\n",
    "from Bio import SeqIO\n",
    "from Bio.SeqRecord import SeqRecord\n",
    "from Bio import SeqUtils\n",
    "import matplotlib.cm as cm\n",
    "from ete3 import NCBITaxa\n",
    "import re\n",
    "import fileinput"
   ]
  },
  {
   "cell_type": "markdown",
   "metadata": {},
   "source": [
    "The idea of the scritp is to use the output of xxxxxxF.gcoords from the v8_1_ph_p_on_p_nucmer.sh script. These will be simplified by calculating the cumsum for each pwh contig hit. The p_woh will be renamed to generate a name association with its best pwh hit. The new name will be pwh_pwoh."
   ]
  },
  {
   "cell_type": "code",
   "execution_count": 32,
   "metadata": {
    "collapsed": false
   },
   "outputs": [],
   "source": [
    "font = {'family' : 'normal',\n",
    "        'weight' : 'bold',\n",
    "        'size'   : 15}\n",
    "matplotlib.rc('font', **font) #changes font of the plot\n",
    "label_config_x = {'fontsize'            : 'large',\n",
    "      'verticalalignment'   : 'top',\n",
    "      'horizontalalignment' : 'center'\n",
    "      }\n",
    "label_config_y = {'fontsize'            : 'large',\n",
    "      'verticalalignment'   : 'bottom',\n",
    "      'horizontalalignment' : 'center'\n",
    "      }\n"
   ]
  },
  {
   "cell_type": "code",
   "execution_count": null,
   "metadata": {
    "collapsed": true
   },
   "outputs": [],
   "source": [
    "#THIS script still needs to be fixed for the cases where mummer alignment ends overlap OR NOT"
   ]
  },
  {
   "cell_type": "code",
   "execution_count": 33,
   "metadata": {
    "collapsed": true
   },
   "outputs": [],
   "source": [
    "#define working directory\n",
    "file_path = \"/Users/ben/Documents/work_related/Canberra/RJ_lab_projects/Rust_genome_sequencing/PST79/analysis/PacBio_SCH1743/FALCON_0_4_assemblies/p_assemblies/v9_1/v91_cns/nucmer_pwoh_on_pwh/\"\n",
    "genome_prefix= \"v91_cns_ph_ctg\"\n",
    "pwoh_fn = genome_prefix+\"_pwoh_ctg.fa\"\n",
    "pwh_contigs_fn = genome_prefix+'_pwh_ctg.fa' #file that contains all pwh\n",
    "pwoh_rn_g_fn = genome_prefix+\"_pwoh_ctg_gng.fa\" #for the rename with -g in mummer\n",
    "pwoh_rn_r_fn = genome_prefix+\"_pwoh_ctg_rng.fa\" # for rename with -r in mummer\n",
    "h_fn = genome_prefix+'_a_ctg.fa'"
   ]
  },
  {
   "cell_type": "code",
   "execution_count": 89,
   "metadata": {
    "collapsed": true
   },
   "outputs": [],
   "source": [
    "#here enter dir and files names pointing to the \n",
    "h_on_p_fp = \"/Users/ben/Documents/work_related/Canberra/RJ_lab_projects/Rust_genome_sequencing/PST79/analysis/PacBio_SCH1743/FALCON_0_4_assemblies/p_assemblies/v9_1/v91_cns/nucmer_h_on_pwh/\"\n",
    "p_and_h_fp = '/Users/ben/Documents/work_related/Canberra/RJ_lab_projects/Rust_genome_sequencing/PST79/analysis/PacBio_SCH1743/FALCON_0_4_assemblies/p_assemblies/v9_1/'\n",
    "p_and_h_fn = genome_prefix + \".fa\""
   ]
  },
  {
   "cell_type": "code",
   "execution_count": 34,
   "metadata": {
    "collapsed": true
   },
   "outputs": [],
   "source": [
    "os.chdir(file_path)"
   ]
  },
  {
   "cell_type": "code",
   "execution_count": 35,
   "metadata": {
    "collapsed": false
   },
   "outputs": [],
   "source": [
    "#get all the .gcoords files\n",
    "file_handler = os.walk(file_path, topdown=False)\n",
    "gcoords_files = [x for x in list(file_handler)[-1][2] if x[-7:]== 'gcoords']\n",
    "pwoh_rn_dic_r ={} #dic for renaming pwoh\n",
    "pwoh_rn_dic_g ={} #dic for renaming pwoh\n",
    "#hit_summary_df = pd.DataFrame(columns=['pwoh', 'best hit p', 'pwoh len', '%len hit', '%ID']) #summary dataframe that indicates best hit for each pwoh, "
   ]
  },
  {
   "cell_type": "code",
   "execution_count": 36,
   "metadata": {
    "collapsed": false
   },
   "outputs": [],
   "source": [
    "#make dataframe of initial query file pwoh_fn\n",
    "handle_1 = open(pwoh_fn)\n",
    "contigs = SeqIO.parse(handle_1, 'fasta')\n",
    "contig_length = []\n",
    "contig_id =[]\n",
    "for x in contigs:\n",
    "    if len(x.seq) != 0:\n",
    "        contig_id.append(x.id)\n",
    "        contig_length.append(len(x.seq))\n",
    "s1 = pd.Series(contig_id, name='ID')\n",
    "s2 = pd.Series(contig_length, name='Length')\n",
    "pwoh_df = pd.concat([s1, s2], axis=1)\n",
    "handle_1.close()"
   ]
  },
  {
   "cell_type": "code",
   "execution_count": 50,
   "metadata": {
    "collapsed": true
   },
   "outputs": [],
   "source": [
    "def pwoh_on_p_hit_summary_and_renamin(coord_files, indir ):\n",
    "    \"\"\"\n",
    "    here pull in each gcoords file and define the longest p_wh hit on each p_woh. Save summary results in new data frame\n",
    "    and generate renaming dictonary\n",
    "    rename outfile for hit summary df\n",
    "    return renaming dictionary and hit_summary_df\n",
    "    \"\"\"\n",
    "    gcoords_files = coord_files\n",
    "    file_path = indir\n",
    "    name_list = []\n",
    "    len_list=[]\n",
    "    rel_len_list=[]\n",
    "    pc_ID_list=[] #percentage identity\n",
    "    best_hit_list=[]\n",
    "    pwoh_rn_dic ={}\n",
    "    for x in gcoords_files:\n",
    "        ID=''\n",
    "        #print(x)\n",
    "        #get the length of the file name \n",
    "        _len=len(x.split('.')[0])\n",
    "        #for ID use only the prefix of the file and get the ID straight by replacing the '_' with '|' to match \n",
    "        #fasta headers of input file later\n",
    "        ID=x.split('.')[0].replace(\"_\",\"|\")\n",
    "        best_hit = ''\n",
    "        mummer_df_tmp = ''\n",
    "        #pull in the mummer file\n",
    "        mummer_df_tmp = pd.read_csv(file_path+'/'+x, sep='\\t', header=None,skiprows=4 )\n",
    "        header_mum = [\"S1\",\"E1\",\"S2\", \"E2\",\"LEN 1\", \"LEN 2\", \"% IDY\", \"ID-p\", \"ID-pwoh\"]\n",
    "        rename = dict(zip(mummer_df_tmp.columns, header_mum))\n",
    "        mummer_df_tmp.rename(columns=rename,inplace=True)\n",
    "        #till here it reads in the gcoords_files as a dataframe\n",
    "        best_hit = mummer_df_tmp.groupby('ID-p')['LEN 1'].sum().sort_values().index[-1] #this gets the p_wh that has the highest coverage in length\n",
    "        best_hit_list.append(best_hit)\n",
    "        best_df =''\n",
    "        best_df  = mummer_df_tmp[mummer_df_tmp['ID-p'] == best_hit] #gets a subset of the df for the best hit. Required to caclulate the rel%\n",
    "        best_df['rel %'] = best_df['LEN 2']*best_df['% IDY']\n",
    "        pc_ID_list.append(best_df['rel %'].sum()/best_df['LEN 2'].sum())\n",
    "        #up to here the %_ID is calcuated for the best hit\n",
    "        name_list.append(ID)\n",
    "        len_list.append(pwoh_df.loc[pwoh_df['ID']==ID,'Length'].sum())\n",
    "        rel_len_list.append(best_df['LEN 2'].sum()/pwoh_df.loc[pwoh_df['ID']==ID,'Length'].sum()*100)\n",
    "        pwoh_rn_dic[ID]=best_hit+'_'+ID\n",
    "    hit_summary_df_gcoords = pd.concat([pd.Series(name_list), pd.Series(best_hit_list), pd.Series(len_list), pd.Series(rel_len_list), pd.Series(pc_ID_list)],axis=1, keys=['p_woh', 'best hit p_wh', 'p_woh len', '%len hit', '%ID'])\n",
    "    hit_summary_df_gcoords['%len hit'] = hit_summary_df_gcoords['%len hit'].round(2)\n",
    "    hit_summary_df_gcoords['%ID'] = hit_summary_df_gcoords['%ID'].round(2)\n",
    "    return pwoh_rn_dic, hit_summary_df_gcoords"
   ]
  },
  {
   "cell_type": "code",
   "execution_count": 47,
   "metadata": {
    "collapsed": false
   },
   "outputs": [
    {
     "name": "stderr",
     "output_type": "stream",
     "text": [
      "/anaconda/lib/python3.5/site-packages/ipykernel/__main__.py:29: SettingWithCopyWarning: \n",
      "A value is trying to be set on a copy of a slice from a DataFrame.\n",
      "Try using .loc[row_indexer,col_indexer] = value instead\n",
      "\n",
      "See the caveats in the documentation: http://pandas.pydata.org/pandas-docs/stable/indexing.html#indexing-view-versus-copy\n"
     ]
    }
   ],
   "source": [
    "#here pull in each gcoords file and define the longest p_wh hit on each p_woh. Save summary results in new data frame\n",
    "#and generate renaming dictonary\n",
    "#rename outfile for hit summary df\n",
    "name_list = []\n",
    "len_list=[]\n",
    "rel_len_list=[]\n",
    "pc_ID_list=[] #percentage identity\n",
    "best_hit_list=[]\n",
    "for x in gcoords_files:\n",
    "    ID=''\n",
    "    #print(x)\n",
    "    #get the length of the file name \n",
    "    _len=len(x.split('.')[0])\n",
    "    #for ID use only the prefix of the file and get the ID straight by replacing the '_' with '|' to match \n",
    "    #fasta headers of input file later\n",
    "    ID=x.split('.')[0].replace(\"_\",\"|\")\n",
    "    best_hit = ''\n",
    "    mummer_df_tmp = ''\n",
    "    #pull in the mummer file\n",
    "    mummer_df_tmp = pd.read_csv(file_path+'/'+x, sep='\\t', header=None,skiprows=4 )\n",
    "    header_mum = [\"S1\",\"E1\",\"S2\", \"E2\",\"LEN 1\", \"LEN 2\", \"% IDY\", \"ID-p\", \"ID-pwoh\"]\n",
    "    rename = dict(zip(mummer_df_tmp.columns, header_mum))\n",
    "    mummer_df_tmp.rename(columns=rename,inplace=True)\n",
    "    #till here it reads in the gcoords_files as a dataframe\n",
    "    best_hit = mummer_df_tmp.groupby('ID-p')['LEN 1'].sum().sort_values().index[-1] #this gets the p_wh that has the highest coverage in length\n",
    "    best_hit_list.append(best_hit)\n",
    "    best_df =''\n",
    "    best_df  = mummer_df_tmp[mummer_df_tmp['ID-p'] == best_hit] #gets a subset of the df for the best hit. Required to caclulate the rel%\n",
    "    best_df['rel %'] = best_df['LEN 2']*best_df['% IDY']\n",
    "    pc_ID_list.append(best_df['rel %'].sum()/best_df['LEN 2'].sum())\n",
    "    #up to here the %_ID is calcuated for the best hit\n",
    "    name_list.append(ID)\n",
    "    len_list.append(pwoh_df.loc[pwoh_df['ID']==ID,'Length'].sum())\n",
    "    rel_len_list.append(best_df['LEN 2'].sum()/pwoh_df.loc[pwoh_df['ID']==ID,'Length'].sum()*100)\n",
    "    pwoh_rn_dic_g[ID]=best_hit+'_'+ID\n",
    "hit_summary_df_gcoords = pd.concat([pd.Series(name_list), pd.Series(best_hit_list), pd.Series(len_list), pd.Series(rel_len_list), pd.Series(pc_ID_list)],axis=1, keys=['p_woh', 'best hit p_wh', 'p_woh len', '%len hit', '%ID'])\n",
    "hit_summary_df_gcoords['%len hit'] = hit_summary_df_gcoords['%len hit'].round(2)\n",
    "hit_summary_df_gcoords['%ID'] = hit_summary_df_gcoords['%ID'].round(2)\n",
    "hit_summary_df_gcoords.to_csv(file_path+genome_prefix+'_p_woh_on_p_wh_best_hit_summary_gcoords.csv', index=False)\n",
    "#pwoh_rn_dic"
   ]
  },
  {
   "cell_type": "code",
   "execution_count": 43,
   "metadata": {
    "collapsed": true
   },
   "outputs": [],
   "source": [
    "#get all the .gcoords files\n",
    "file_handler = os.walk(file_path, topdown=False)\n",
    "rcoords_files = [x for x in list(file_handler)[-1][2] if x[-7:]== 'rcoords']\n",
    "#hit_summary_df = pd.DataFrame(columns=['pwoh', 'best hit p', 'pwoh len', '%len hit', '%ID']) #summary dataframe that indicates best hit for each pwoh, "
   ]
  },
  {
   "cell_type": "code",
   "execution_count": 53,
   "metadata": {
    "collapsed": false
   },
   "outputs": [
    {
     "name": "stderr",
     "output_type": "stream",
     "text": [
      "/anaconda/lib/python3.5/site-packages/ipykernel/__main__.py:36: SettingWithCopyWarning: \n",
      "A value is trying to be set on a copy of a slice from a DataFrame.\n",
      "Try using .loc[row_indexer,col_indexer] = value instead\n",
      "\n",
      "See the caveats in the documentation: http://pandas.pydata.org/pandas-docs/stable/indexing.html#indexing-view-versus-copy\n"
     ]
    }
   ],
   "source": [
    "pwoh_rn_dic_r, hit_summary_df_rcoords = pwoh_on_p_hit_summary_and_renamin(rcoords_files, file_path)\n",
    "hit_summary_df_rcoords.to_csv(file_path+genome_prefix+'_p_woh_on_p_wh_best_hit_summary_rcoords.csv', index=False)"
   ]
  },
  {
   "cell_type": "code",
   "execution_count": 57,
   "metadata": {
    "collapsed": false
   },
   "outputs": [
    {
     "name": "stdout",
     "output_type": "stream",
     "text": [
      "The best hits for g and r mapping is all the same!\n"
     ]
    }
   ],
   "source": [
    "#do a comparison where -r and -g option in mummer give a different mapping result if at all\n",
    "g_and_r_diff =[]\n",
    "count = 0\n",
    "for g in pwoh_rn_dic_g.keys():\n",
    "    if pwoh_rn_dic_g[g] != pwoh_rn_dic_r[g]:\n",
    "            g_and_r_diff.append(g)\n",
    "            print(\"This primary contig %s is differently asigned as %s or %s\" % (g, pwoh_rn_dic_g[g],pwoh_rn_dic_r[g]))\n",
    "    else:\n",
    "        count += 1\n",
    "if count == len(pwoh_rn_dic_r):\n",
    "    print (\"The best hits for g and r mapping is all the same!\")"
   ]
  },
  {
   "cell_type": "code",
   "execution_count": 113,
   "metadata": {
    "collapsed": false
   },
   "outputs": [
    {
     "data": {
      "text/plain": [
       "{'000001F|quiver',\n",
       " '000003F|quiver',\n",
       " '000004F|quiver',\n",
       " '000006F|quiver',\n",
       " '000008F|quiver',\n",
       " '000009F|quiver',\n",
       " '000010F|quiver',\n",
       " '000012F|quiver',\n",
       " '000014F|quiver',\n",
       " '000016F|quiver',\n",
       " '000017F|quiver',\n",
       " '000018F|quiver',\n",
       " '000019F|quiver',\n",
       " '000020F|quiver',\n",
       " '000021F|quiver',\n",
       " '000022F|quiver',\n",
       " '000023F|quiver',\n",
       " '000027F|quiver',\n",
       " '000028F|quiver',\n",
       " '000030F|quiver',\n",
       " '000031F|quiver',\n",
       " '000033F|quiver',\n",
       " '000034F|quiver',\n",
       " '000037F|quiver',\n",
       " '000039F|quiver',\n",
       " '000040F|quiver',\n",
       " '000041F|quiver',\n",
       " '000042F|quiver',\n",
       " '000043F|quiver',\n",
       " '000045F|quiver',\n",
       " '000047F|quiver',\n",
       " '000048F|quiver',\n",
       " '000049F|quiver',\n",
       " '000050F|quiver',\n",
       " '000052F|quiver',\n",
       " '000054F|quiver',\n",
       " '000056F|quiver',\n",
       " '000057F|quiver',\n",
       " '000058F|quiver',\n",
       " '000060F|quiver',\n",
       " '000064F|quiver',\n",
       " '000065F|quiver',\n",
       " '000066F|quiver',\n",
       " '000069F|quiver',\n",
       " '000072F|quiver',\n",
       " '000073F|quiver',\n",
       " '000074F|quiver',\n",
       " '000080F|quiver',\n",
       " '000083F|quiver',\n",
       " '000088F|quiver',\n",
       " '000089F|quiver',\n",
       " '000095F|quiver',\n",
       " '000096F|quiver',\n",
       " '000110F|quiver',\n",
       " '000118F|quiver',\n",
       " '000129F|quiver',\n",
       " '000147F|quiver',\n",
       " '000189F|quiver',\n",
       " '000193F|quiver',\n",
       " '000234F|quiver',\n",
       " '000238F|quiver',\n",
       " '000241F|quiver'}"
      ]
     },
     "execution_count": 113,
     "metadata": {},
     "output_type": "execute_result"
    }
   ],
   "source": [
    "#all pwoh with hit\n",
    "set(hit_summary_df_gcoords['best hit p_wh'].tolist())"
   ]
  },
  {
   "cell_type": "code",
   "execution_count": 112,
   "metadata": {
    "collapsed": false
   },
   "outputs": [
    {
     "data": {
      "text/plain": [
       "62"
      ]
     },
     "execution_count": 112,
     "metadata": {},
     "output_type": "execute_result"
    }
   ],
   "source": [
    "#all pwoh with hit\n",
    "len(set(hit_summary_df_gcoords['best hit p_wh'].tolist()))"
   ]
  },
  {
   "cell_type": "code",
   "execution_count": 58,
   "metadata": {
    "collapsed": false
   },
   "outputs": [
    {
     "data": {
      "text/html": [
       "<div>\n",
       "<table border=\"1\" class=\"dataframe\">\n",
       "  <thead>\n",
       "    <tr style=\"text-align: right;\">\n",
       "      <th></th>\n",
       "      <th>p_woh</th>\n",
       "      <th>best hit p_wh</th>\n",
       "      <th>p_woh len</th>\n",
       "      <th>%len hit</th>\n",
       "      <th>%ID</th>\n",
       "    </tr>\n",
       "  </thead>\n",
       "  <tbody>\n",
       "    <tr>\n",
       "      <th>0</th>\n",
       "      <td>000015F|quiver</td>\n",
       "      <td>000006F|quiver</td>\n",
       "      <td>65823</td>\n",
       "      <td>28.67</td>\n",
       "      <td>99.60</td>\n",
       "    </tr>\n",
       "    <tr>\n",
       "      <th>1</th>\n",
       "      <td>000024F|quiver</td>\n",
       "      <td>000023F|quiver</td>\n",
       "      <td>64141</td>\n",
       "      <td>33.31</td>\n",
       "      <td>99.84</td>\n",
       "    </tr>\n",
       "    <tr>\n",
       "      <th>2</th>\n",
       "      <td>000038F|quiver</td>\n",
       "      <td>000054F|quiver</td>\n",
       "      <td>86460</td>\n",
       "      <td>71.33</td>\n",
       "      <td>97.24</td>\n",
       "    </tr>\n",
       "    <tr>\n",
       "      <th>3</th>\n",
       "      <td>000051F|quiver</td>\n",
       "      <td>000008F|quiver</td>\n",
       "      <td>224201</td>\n",
       "      <td>9.47</td>\n",
       "      <td>99.43</td>\n",
       "    </tr>\n",
       "    <tr>\n",
       "      <th>4</th>\n",
       "      <td>000053F|quiver</td>\n",
       "      <td>000050F|quiver</td>\n",
       "      <td>61622</td>\n",
       "      <td>41.70</td>\n",
       "      <td>95.00</td>\n",
       "    </tr>\n",
       "  </tbody>\n",
       "</table>\n",
       "</div>"
      ],
      "text/plain": [
       "            p_woh   best hit p_wh  p_woh len  %len hit    %ID\n",
       "0  000015F|quiver  000006F|quiver      65823     28.67  99.60\n",
       "1  000024F|quiver  000023F|quiver      64141     33.31  99.84\n",
       "2  000038F|quiver  000054F|quiver      86460     71.33  97.24\n",
       "3  000051F|quiver  000008F|quiver     224201      9.47  99.43\n",
       "4  000053F|quiver  000050F|quiver      61622     41.70  95.00"
      ]
     },
     "execution_count": 58,
     "metadata": {},
     "output_type": "execute_result"
    }
   ],
   "source": [
    "hit_summary_df_gcoords.head()"
   ]
  },
  {
   "cell_type": "code",
   "execution_count": 72,
   "metadata": {
    "collapsed": false
   },
   "outputs": [],
   "source": [
    "short_prefix = genome_prefix.split('_')[0] +'_' +genome_prefix.split('_')[1]"
   ]
  },
  {
   "cell_type": "code",
   "execution_count": 59,
   "metadata": {
    "collapsed": false
   },
   "outputs": [],
   "source": [
    "for g in g_and_r_diff:\n",
    "    print(g, hit_summary_df_gcoords[hit_summary_df_gcoords['p_woh']==g]['%len hit'].sum(),hit_summary_df_rcoords[hit_summary_df_rcoords['p_woh']==g]['%len hit'].sum())"
   ]
  },
  {
   "cell_type": "code",
   "execution_count": 76,
   "metadata": {
    "collapsed": false
   },
   "outputs": [],
   "source": [
    "#rename p_woh to hs based on rcoords without filter\n",
    "p_woh_list =[]\n",
    "for p_woh in SeqIO.parse(pwoh_fn, 'fasta'):\n",
    "    tmp_id =''\n",
    "    tmp_seq=''\n",
    "    tmp_id = pwoh_rn_dic_g[p_woh.id]\n",
    "    tmp_seq = p_woh.seq\n",
    "    p_woh_list.append(SeqRecord(tmp_seq, id=tmp_id, description=''))\n",
    "SeqIO.write(p_woh_list, short_prefix+'_rcoords_all_ph_ctg_pwoh_ctg.fa', 'fasta')\n",
    "rn_fn = [pwh_contigs_fn, pwoh_rn_r_fn, h_fn]\n",
    "with open(short_prefix+'_rcoords_all_ph_ctg.fa', 'w') as fout, fileinput.input(rn_fn) as fin:\n",
    "    for line in fin:\n",
    "        fout.write(line)"
   ]
  },
  {
   "cell_type": "code",
   "execution_count": 77,
   "metadata": {
    "collapsed": false
   },
   "outputs": [],
   "source": [
    "#rename p_woh to hs based on gcoords without filter\n",
    "p_woh_list =[]\n",
    "for p_woh in SeqIO.parse(pwoh_fn, 'fasta'):\n",
    "    tmp_id =''\n",
    "    tmp_seq=''\n",
    "    tmp_id = pwoh_rn_dic_g[p_woh.id]\n",
    "    tmp_seq = p_woh.seq\n",
    "    p_woh_list.append(SeqRecord(tmp_seq, id=tmp_id, description=''))\n",
    "SeqIO.write(p_woh_list, short_prefix+'_gcoords_all_ph_ctg_pwoh_ctg.fa', 'fasta')\n",
    "rn_fn = [pwh_contigs_fn, pwoh_rn_g_fn, h_fn]\n",
    "with open(short_prefix+'_gcoords_all_ph_ctg.fa', 'w') as fout, fileinput.input(rn_fn) as fin:\n",
    "    for line in fin:\n",
    "        fout.write(line)"
   ]
  },
  {
   "cell_type": "code",
   "execution_count": 91,
   "metadata": {
    "collapsed": false
   },
   "outputs": [],
   "source": [
    "#make dataframe of initial h contigs\n",
    "handle_2 = open(p_and_h_fp+p_and_h_fn)\n",
    "h_contigs = SeqIO.parse(handle_2, 'fasta')\n",
    "h_contig_length = []\n",
    "h_contig_id =[]\n",
    "for y in h_contigs:\n",
    "    if '_' in list(y.id):\n",
    "        h_contig_id.append(y.id)\n",
    "        h_contig_length.append(len(y.seq))\n",
    "s3 = pd.Series(h_contig_id, name='ID')\n",
    "s4 = pd.Series(h_contig_length, name='Length')\n",
    "h_df = pd.concat([s3, s4], axis=1)\n",
    "handle_2.close()"
   ]
  },
  {
   "cell_type": "code",
   "execution_count": 92,
   "metadata": {
    "collapsed": true
   },
   "outputs": [],
   "source": [
    "os.chdir(h_on_p_fp)"
   ]
  },
  {
   "cell_type": "code",
   "execution_count": 93,
   "metadata": {
    "collapsed": false
   },
   "outputs": [
    {
     "name": "stdout",
     "output_type": "stream",
     "text": [
      "/Users/ben/Documents/work_related/Canberra/RJ_lab_projects/Rust_genome_sequencing/PST79/analysis/PacBio_SCH1743/FALCON_0_4_assemblies/p_assemblies/v9_1/v91_cns/nucmer_h_on_pwh\r\n"
     ]
    }
   ],
   "source": [
    "!pwd"
   ]
  },
  {
   "cell_type": "code",
   "execution_count": 96,
   "metadata": {
    "collapsed": true
   },
   "outputs": [],
   "source": [
    "fh_2 = os.walk(h_on_p_fp, topdown=False)\n",
    "h_gcoords_files = [x for x in list(fh_2)[-1][2] if x[-7:]== 'gcoords']"
   ]
  },
  {
   "cell_type": "code",
   "execution_count": 97,
   "metadata": {
    "collapsed": false
   },
   "outputs": [
    {
     "data": {
      "text/plain": [
       "102"
      ]
     },
     "execution_count": 97,
     "metadata": {},
     "output_type": "execute_result"
    }
   ],
   "source": [
    "len(h_gcoords_files)"
   ]
  },
  {
   "cell_type": "code",
   "execution_count": 107,
   "metadata": {
    "collapsed": false
   },
   "outputs": [
    {
     "name": "stderr",
     "output_type": "stream",
     "text": [
      "/anaconda/lib/python3.5/site-packages/ipykernel/__main__.py:35: SettingWithCopyWarning: \n",
      "A value is trying to be set on a copy of a slice from a DataFrame.\n",
      "Try using .loc[row_indexer,col_indexer] = value instead\n",
      "\n",
      "See the caveats in the documentation: http://pandas.pydata.org/pandas-docs/stable/indexing.html#indexing-view-versus-copy\n"
     ]
    }
   ],
   "source": [
    "#make a summary data frame that provides the % of mapping hits and % of ID for each h on p_wh mapping\n",
    "h_len =[]\n",
    "h_id = []\n",
    "p_id = []\n",
    "h_pc_len = []\n",
    "h_pc_id =[]\n",
    "# up to here initiate the list that will make the dataframe at the end\n",
    "for h in h_gcoords_files:\n",
    "    #read in each mummer gcoords file and make df out of it\n",
    "    mummer_df_tmp =\"\"\n",
    "    mummer_df_tmp = pd.read_csv(h_on_p_fp+'/'+h, sep='\\t', header=None,skiprows=4 )\n",
    "    header_mum = [\"S1\",\"E1\",\"S2\", \"E2\",\"LEN 1\", \"LEN 2\", \"% IDY\", \"ID-p\", \"ID-h\"]\n",
    "    rename = dict(zip(mummer_df_tmp.columns, header_mum))\n",
    "    mummer_df_tmp.rename(columns=rename,inplace=True)\n",
    "    h_ctg_list = list(set(mummer_df_tmp[\"ID-h\"].tolist()))\n",
    "    #get all h_ctgs for each p_ctg\n",
    "    for h_sub in h_ctg_list:\n",
    "        #calculate pc_id and pc_len for each hapolitg aligning to the primary contig\n",
    "        sub_df = ''\n",
    "        pc_length = ''\n",
    "        sub_pc_id =''\n",
    "        h_id.append(h_sub) #add the id to the list\n",
    "        sub_df = mummer_df_tmp[mummer_df_tmp['ID-h'] == h_sub] #get the df concerning only the current h_ctg\n",
    "        sub_df\n",
    "        p_id.append(sub_df['ID-p'].tolist()[0])\n",
    "        h_len.append(h_df[h_df['ID'] == h_sub]['Length'].sum())\n",
    "        h_sub_length = sub_df['LEN 2'].sum() #get the aligned length\n",
    "        \n",
    "        if h_df[h_df['ID'] == h_sub]['Length'].sum() != 0:\n",
    "            pc_length = h_sub_length/h_df[h_df['ID'] == h_sub]['Length'].sum()*100 #calculate the pc_length\n",
    "        else:\n",
    "            next\n",
    "        \n",
    "        h_pc_len.append(pc_length)\n",
    "        sub_df[\"rel %\"] = sub_df['LEN 2']*sub_df['% IDY']\n",
    "        sub_pc_id = sub_df[\"rel %\"].sum()/h_sub_length #calculate the relative identity\n",
    "        h_pc_id.append(sub_pc_id)\n",
    "h_on_p_summary_df = pd.concat([pd.Series(h_id), pd.Series(p_id), pd.Series(h_len), pd.Series(h_pc_len), pd.Series(h_pc_id)],axis=1, keys=['h-ID', 'p-ID', 'h len', '%len h_ctg hit', '%ID h'])\n",
    "h_on_p_summary_df['%len h_ctg hit'] = h_on_p_summary_df['%len h_ctg hit'].round(2)\n",
    "h_on_p_summary_df['%ID h'] = h_on_p_summary_df['%ID h'].round(2)\n",
    "h_on_p_summary_df.to_csv(h_on_p_fp+short_prefix+'h_on_pwh_summary_gcoords.csv', index=False)"
   ]
  },
  {
   "cell_type": "code",
   "execution_count": 110,
   "metadata": {
    "collapsed": false
   },
   "outputs": [
    {
     "data": {
      "text/plain": [
       "{'000003F_039|quiver',\n",
       " '000007F_018|quiver',\n",
       " '000074F_007|quiver',\n",
       " '000091F_003|quiver',\n",
       " '000185F_001|quiver',\n",
       " '000230F_001|quiver'}"
      ]
     },
     "execution_count": 110,
     "metadata": {},
     "output_type": "execute_result"
    }
   ],
   "source": [
    "#several h don't seem to have mapped on the primary contigs with the -g option\n",
    "set(h_df['ID'].tolist()) - set(h_on_p_summary_df['h-ID'].tolist())"
   ]
  },
  {
   "cell_type": "code",
   "execution_count": 109,
   "metadata": {
    "collapsed": false
   },
   "outputs": [
    {
     "data": {
      "text/html": [
       "<div>\n",
       "<table border=\"1\" class=\"dataframe\">\n",
       "  <thead>\n",
       "    <tr style=\"text-align: right;\">\n",
       "      <th></th>\n",
       "      <th>h-ID</th>\n",
       "      <th>p-ID</th>\n",
       "      <th>h len</th>\n",
       "      <th>%len h_ctg hit</th>\n",
       "      <th>%ID h</th>\n",
       "    </tr>\n",
       "  </thead>\n",
       "  <tbody>\n",
       "    <tr>\n",
       "      <th>0</th>\n",
       "      <td>000000F_027|quiver</td>\n",
       "      <td>000000F|quiver</td>\n",
       "      <td>41706</td>\n",
       "      <td>78.28</td>\n",
       "      <td>99.55</td>\n",
       "    </tr>\n",
       "    <tr>\n",
       "      <th>1</th>\n",
       "      <td>000000F_049|quiver</td>\n",
       "      <td>000000F|quiver</td>\n",
       "      <td>17471</td>\n",
       "      <td>100.00</td>\n",
       "      <td>99.21</td>\n",
       "    </tr>\n",
       "    <tr>\n",
       "      <th>2</th>\n",
       "      <td>000000F_037|quiver</td>\n",
       "      <td>000000F|quiver</td>\n",
       "      <td>27343</td>\n",
       "      <td>100.00</td>\n",
       "      <td>99.77</td>\n",
       "    </tr>\n",
       "    <tr>\n",
       "      <th>3</th>\n",
       "      <td>000000F_057|quiver</td>\n",
       "      <td>000000F|quiver</td>\n",
       "      <td>36770</td>\n",
       "      <td>98.12</td>\n",
       "      <td>99.10</td>\n",
       "    </tr>\n",
       "    <tr>\n",
       "      <th>4</th>\n",
       "      <td>000000F_054|quiver</td>\n",
       "      <td>000000F|quiver</td>\n",
       "      <td>294830</td>\n",
       "      <td>81.24</td>\n",
       "      <td>98.88</td>\n",
       "    </tr>\n",
       "  </tbody>\n",
       "</table>\n",
       "</div>"
      ],
      "text/plain": [
       "                 h-ID            p-ID   h len  %len h_ctg hit  %ID h\n",
       "0  000000F_027|quiver  000000F|quiver   41706           78.28  99.55\n",
       "1  000000F_049|quiver  000000F|quiver   17471          100.00  99.21\n",
       "2  000000F_037|quiver  000000F|quiver   27343          100.00  99.77\n",
       "3  000000F_057|quiver  000000F|quiver   36770           98.12  99.10\n",
       "4  000000F_054|quiver  000000F|quiver  294830           81.24  98.88"
      ]
     },
     "execution_count": 109,
     "metadata": {},
     "output_type": "execute_result"
    }
   ],
   "source": [
    "h_on_p_summary_df.head()"
   ]
  },
  {
   "cell_type": "code",
   "execution_count": null,
   "metadata": {
    "collapsed": true
   },
   "outputs": [],
   "source": [
    "#several h don't seem to have mapped on the primary contigs with the -q option\n",
    "len(h_on_p_summary_df)"
   ]
  },
  {
   "cell_type": "markdown",
   "metadata": {},
   "source": [
    "#all seems to be alright but 000082F_001 didn't align to its primary contig with the given options of cat \n",
    "nucmer v8_1_ph_tr_ctg_000082F.fa v8_1_ph_tr_ctg_000082F_a_ctg.fa > out.delta\n",
    "delta-filter -g out.delta > v8_1_ph_000082Fpap_gfiltered.delta\n",
    "show-coords -T v8_1_ph_000082Fpap_gfiltered.delta > v8_1_ph_000082Fpap.gcoords\n",
    "##check what is going on there"
   ]
  },
  {
   "cell_type": "markdown",
   "metadata": {},
   "source": [
    "set(h_df['ID'].tolist())-set(h_on_p_summary_df['h-ID'].tolist())"
   ]
  },
  {
   "cell_type": "markdown",
   "metadata": {},
   "source": [
    "h_df[h_df['ID']=='000082F_001']['Length']"
   ]
  },
  {
   "cell_type": "code",
   "execution_count": 101,
   "metadata": {
    "collapsed": false
   },
   "outputs": [
    {
     "data": {
      "text/plain": [
       "<matplotlib.axes._subplots.AxesSubplot at 0x118435438>"
      ]
     },
     "execution_count": 101,
     "metadata": {},
     "output_type": "execute_result"
    },
    {
     "name": "stderr",
     "output_type": "stream",
     "text": [
      "/anaconda/lib/python3.5/site-packages/matplotlib/font_manager.py:1288: UserWarning: findfont: Font family ['normal'] not found. Falling back to Bitstream Vera Sans\n",
      "  (prop.get_family(), self.defaultFamily[fontext]))\n"
     ]
    },
    {
     "data": {
      "image/png": "[encoded data removed]",
      "text/plain": [
       "<matplotlib.figure.Figure at 0x1184387f0>"
      ]
     },
     "metadata": {},
     "output_type": "display_data"
    }
   ],
   "source": [
    "h_on_p_summary_df['%len h_ctg hit'].plot()"
   ]
  },
  {
   "cell_type": "code",
   "execution_count": 102,
   "metadata": {
    "collapsed": false
   },
   "outputs": [
    {
     "data": {
      "text/plain": [
       "<matplotlib.axes._subplots.AxesSubplot at 0x117fae860>"
      ]
     },
     "execution_count": 102,
     "metadata": {},
     "output_type": "execute_result"
    },
    {
     "data": {
      "image/png": "[encoded data removed]",
      "text/plain": [
       "<matplotlib.figure.Figure at 0x1186d25f8>"
      ]
     },
     "metadata": {},
     "output_type": "display_data"
    }
   ],
   "source": [
    "hit_summary_df_gcoords['%len hit'].plot()\n",
    "hit_summary_df_rcoords['%len hit'].plot(c='r')"
   ]
  },
  {
   "cell_type": "code",
   "execution_count": 103,
   "metadata": {
    "collapsed": false
   },
   "outputs": [
    {
     "data": {
      "text/plain": [
       "(0, 200)"
      ]
     },
     "execution_count": 103,
     "metadata": {},
     "output_type": "execute_result"
    },
    {
     "data": {
      "image/png": "[encoded data removed]",
      "text/plain": [
       "<matplotlib.figure.Figure at 0x1187a71d0>"
      ]
     },
     "metadata": {},
     "output_type": "display_data"
    }
   ],
   "source": [
    "hit_summary_df_gcoords['%len hit'].hist(bins=20, range=(0,200), color='b', alpha=0.5)\n",
    "hit_summary_df_rcoords['%len hit'].hist(bins=20, range=(0,200), color='r', alpha=0.5)\n",
    "plt.xlim(0,200)"
   ]
  },
  {
   "cell_type": "code",
   "execution_count": 104,
   "metadata": {
    "collapsed": false
   },
   "outputs": [
    {
     "data": {
      "text/plain": [
       "(0, 200)"
      ]
     },
     "execution_count": 104,
     "metadata": {},
     "output_type": "execute_result"
    },
    {
     "name": "stderr",
     "output_type": "stream",
     "text": [
      "/anaconda/lib/python3.5/site-packages/matplotlib/font_manager.py:1288: UserWarning: findfont: Font family ['normal'] not found. Falling back to Bitstream Vera Sans\n",
      "  (prop.get_family(), self.defaultFamily[fontext]))\n"
     ]
    },
    {
     "data": {
      "image/png": "[encoded data removed]",
      "text/plain": [
       "<matplotlib.figure.Figure at 0x11868c978>"
      ]
     },
     "metadata": {},
     "output_type": "display_data"
    }
   ],
   "source": [
    "plt.figure(figsize=(15,9))\n",
    "h_on_p_summary_df['%len h_ctg hit'].hist(bins=20, range=(0,200), color='y',alpha=0.5, label='h on p_wh')\n",
    "hit_summary_df_gcoords['%len hit'].hist(bins=20, range=(0,200), color='b', alpha=0.5, label='p_woh on p_wh')\n",
    "hit_summary_df_rcoords['%len hit'].hist(bins=20, range=(0,200), color='r', alpha=0.5, label='p_woh on p_wh')\n",
    "plt.legend(loc=0)\n",
    "plt.xlim(0,200)"
   ]
  },
  {
   "cell_type": "code",
   "execution_count": 106,
   "metadata": {
    "collapsed": false
   },
   "outputs": [
    {
     "data": {
      "text/plain": [
       "(0, 100)"
      ]
     },
     "execution_count": 106,
     "metadata": {},
     "output_type": "execute_result"
    },
    {
     "data": {
      "image/png": "[encoded data removed]",
      "text/plain": [
       "<matplotlib.figure.Figure at 0x11a229668>"
      ]
     },
     "metadata": {},
     "output_type": "display_data"
    }
   ],
   "source": [
    "fig, ax1 = plt.subplots(figsize=(15,9))\n",
    "h_on_p_summary_df['%ID h'].hist(bins=20, range=(0,100), alpha=0.5, label='h on p_wh' )\n",
    "plt.legend(loc=3)\n",
    "ax2 = ax1.twinx()\n",
    "hit_summary_df_gcoords['%ID'].hist(bins=20, range=(0,100), color='r', alpha=0.5, label='p_woh on p_wh')\n",
    "plt.legend(loc=0)\n",
    "plt.xlim(0,100)"
   ]
  },
  {
   "cell_type": "code",
   "execution_count": null,
   "metadata": {
    "collapsed": false
   },
   "outputs": [],
   "source": [
    "h_on_p_summary_df.head()"
   ]
  },
  {
   "cell_type": "code",
   "execution_count": null,
   "metadata": {
    "collapsed": true
   },
   "outputs": [],
   "source": [
    "#once manual or later automatic curation is done use this as input to finalize naming of contigs\n",
    "#requires to run the h_on_p_gcoords all notebook and script to be executed"
   ]
  },
  {
   "cell_type": "code",
   "execution_count": 116,
   "metadata": {
    "collapsed": false
   },
   "outputs": [],
   "source": [
    "curated_df = pd.read_csv(file_path+genome_prefix+'_p_woh_on_p_wh_best_hit_summary_gcoords_curated.csv')"
   ]
  },
  {
   "cell_type": "code",
   "execution_count": 117,
   "metadata": {
    "collapsed": false
   },
   "outputs": [
    {
     "data": {
      "text/html": [
       "<div>\n",
       "<table border=\"1\" class=\"dataframe\">\n",
       "  <thead>\n",
       "    <tr style=\"text-align: right;\">\n",
       "      <th></th>\n",
       "      <th>p_woh</th>\n",
       "      <th>best hit p_wh</th>\n",
       "      <th>p_woh len</th>\n",
       "      <th>%len hit</th>\n",
       "      <th>%ID</th>\n",
       "      <th>manually confirmed</th>\n",
       "      <th>comment</th>\n",
       "    </tr>\n",
       "  </thead>\n",
       "  <tbody>\n",
       "    <tr>\n",
       "      <th>0</th>\n",
       "      <td>000123F|quiver</td>\n",
       "      <td>000001F|quiver</td>\n",
       "      <td>102408</td>\n",
       "      <td>64.17</td>\n",
       "      <td>97.29</td>\n",
       "      <td>yes</td>\n",
       "      <td>NaN</td>\n",
       "    </tr>\n",
       "    <tr>\n",
       "      <th>1</th>\n",
       "      <td>000156F|quiver</td>\n",
       "      <td>000001F|quiver</td>\n",
       "      <td>63532</td>\n",
       "      <td>89.43</td>\n",
       "      <td>98.61</td>\n",
       "      <td>yes</td>\n",
       "      <td>NaN</td>\n",
       "    </tr>\n",
       "    <tr>\n",
       "      <th>2</th>\n",
       "      <td>000157F|quiver</td>\n",
       "      <td>000001F|quiver</td>\n",
       "      <td>62650</td>\n",
       "      <td>28.94</td>\n",
       "      <td>95.13</td>\n",
       "      <td>no</td>\n",
       "      <td>spurious alignment at the end</td>\n",
       "    </tr>\n",
       "    <tr>\n",
       "      <th>3</th>\n",
       "      <td>000180F|quiver</td>\n",
       "      <td>000001F|quiver</td>\n",
       "      <td>47458</td>\n",
       "      <td>50.67</td>\n",
       "      <td>96.39</td>\n",
       "      <td>yes</td>\n",
       "      <td>NaN</td>\n",
       "    </tr>\n",
       "    <tr>\n",
       "      <th>4</th>\n",
       "      <td>000135F|quiver</td>\n",
       "      <td>000003F|quiver</td>\n",
       "      <td>87944</td>\n",
       "      <td>96.38</td>\n",
       "      <td>98.48</td>\n",
       "      <td>yes</td>\n",
       "      <td>check again</td>\n",
       "    </tr>\n",
       "  </tbody>\n",
       "</table>\n",
       "</div>"
      ],
      "text/plain": [
       "            p_woh   best hit p_wh  p_woh len  %len hit    %ID  \\\n",
       "0  000123F|quiver  000001F|quiver     102408     64.17  97.29   \n",
       "1  000156F|quiver  000001F|quiver      63532     89.43  98.61   \n",
       "2  000157F|quiver  000001F|quiver      62650     28.94  95.13   \n",
       "3  000180F|quiver  000001F|quiver      47458     50.67  96.39   \n",
       "4  000135F|quiver  000003F|quiver      87944     96.38  98.48   \n",
       "\n",
       "  manually confirmed                        comment  \n",
       "0                yes                            NaN  \n",
       "1                yes                            NaN  \n",
       "2                 no  spurious alignment at the end  \n",
       "3                yes                            NaN  \n",
       "4                yes                    check again  "
      ]
     },
     "execution_count": 117,
     "metadata": {},
     "output_type": "execute_result"
    }
   ],
   "source": [
    "curated_df.head()"
   ]
  },
  {
   "cell_type": "code",
   "execution_count": 152,
   "metadata": {
    "collapsed": false
   },
   "outputs": [
    {
     "data": {
      "text/plain": [
       "'yes'"
      ]
     },
     "execution_count": 152,
     "metadata": {},
     "output_type": "execute_result"
    }
   ],
   "source": [
    "curated_df[curated_df['p_woh'] ==  '000123F|quiver'].iloc[0]['manually confirmed']"
   ]
  },
  {
   "cell_type": "code",
   "execution_count": 163,
   "metadata": {
    "collapsed": false
   },
   "outputs": [],
   "source": [
    "def rename(df, _id):\n",
    "    \"\"\"\n",
    "    Function to rename ids of pwoh based on a 'mannually confirmed' curated df. Requires pwoh_on_p mapping, analysis\n",
    "    and h_on_p_g/rcoords mapping and curation.\n",
    "    \"\"\"\n",
    "    df = df\n",
    "    _id = _id\n",
    "    df[df['p_woh'] == _id].iloc[0]['manually confirmed']\n",
    "    inticator = df[df['p_woh'] == _id].iloc[0]['manually confirmed']\n",
    "    if inticator == 'yes':\n",
    "        name = df[df['p_woh'] == _id].iloc[0]['p_woh']+'_'+df[df['p_woh'] == _id].iloc[0]['best hit p_wh']\n",
    "    else:\n",
    "        name = df[df['p_woh'] == _id].iloc[0]['p_woh']\n",
    "    return name"
   ]
  },
  {
   "cell_type": "code",
   "execution_count": 157,
   "metadata": {
    "collapsed": false
   },
   "outputs": [],
   "source": [
    "final_rn_dic ={}\n",
    "for _id in curated_df['p_woh'].tolist():\n",
    "    final_rn_dic[_id] = rename(curated_df, _id)\n"
   ]
  },
  {
   "cell_type": "code",
   "execution_count": 161,
   "metadata": {
    "collapsed": false
   },
   "outputs": [],
   "source": [
    "#rename p_woh to hs based on g/rcoords curated file using function rename as renamer.\n",
    "os.chdir(file_path)\n",
    "p_woh_list =[]\n",
    "for p_woh in SeqIO.parse(pwoh_fn, 'fasta'):\n",
    "    tmp_id =''\n",
    "    tmp_seq=''\n",
    "    tmp_id = final_rn_dic[p_woh.id]\n",
    "    tmp_seq = p_woh.seq\n",
    "    p_woh_list.append(SeqRecord(tmp_seq, id=tmp_id, description=''))\n",
    "SeqIO.write(p_woh_list, short_prefix+'_gcoords_cur_ph_ctg_pwoh_ctg.fa', 'fasta')\n",
    "rn_fn = [pwh_contigs_fn, short_prefix+'_gcoords_cur_ph_ctg_pwoh_ctg.fa', h_fn]\n",
    "with open(short_prefix+'_gcoords_cur_ph_ctg.fa', 'w') as fout, fileinput.input(rn_fn) as fin:\n",
    "    for line in fin:\n",
    "        fout.write(line)"
   ]
  },
  {
   "cell_type": "code",
   "execution_count": 162,
   "metadata": {
    "collapsed": false
   },
   "outputs": [
    {
     "name": "stdout",
     "output_type": "stream",
     "text": [
      "/Users/ben/Documents/work_related/Canberra/RJ_lab_projects/Rust_genome_sequencing/PST79/analysis/PacBio_SCH1743/FALCON_0_4_assemblies/p_assemblies/v9_1/v91_cns/nucmer_pwoh_on_pwh\r\n"
     ]
    }
   ],
   "source": [
    "!pwd"
   ]
  },
  {
   "cell_type": "code",
   "execution_count": null,
   "metadata": {
    "collapsed": true
   },
   "outputs": [],
   "source": []
  },
  {
   "cell_type": "code",
   "execution_count": null,
   "metadata": {
    "collapsed": true
   },
   "outputs": [],
   "source": []
  },
  {
   "cell_type": "code",
   "execution_count": null,
   "metadata": {
    "collapsed": true
   },
   "outputs": [],
   "source": []
  },
  {
   "cell_type": "code",
   "execution_count": null,
   "metadata": {
    "collapsed": true
   },
   "outputs": [],
   "source": []
  },
  {
   "cell_type": "code",
   "execution_count": null,
   "metadata": {
    "collapsed": true
   },
   "outputs": [],
   "source": []
  },
  {
   "cell_type": "code",
   "execution_count": null,
   "metadata": {
    "collapsed": true
   },
   "outputs": [],
   "source": []
  },
  {
   "cell_type": "code",
   "execution_count": null,
   "metadata": {
    "collapsed": true
   },
   "outputs": [],
   "source": []
  },
  {
   "cell_type": "code",
   "execution_count": null,
   "metadata": {
    "collapsed": true
   },
   "outputs": [],
   "source": []
  }
 ],
 "metadata": {
  "anaconda-cloud": {},
  "kernelspec": {
   "display_name": "Python [Root]",
   "language": "python",
   "name": "Python [Root]"
  },
  "language_info": {
   "codemirror_mode": {
    "name": "ipython",
    "version": 3
   },
   "file_extension": ".py",
   "mimetype": "text/x-python",
   "name": "python",
   "nbconvert_exporter": "python",
   "pygments_lexer": "ipython3",
   "version": "3.5.2"
  }
 },
 "nbformat": 4,
 "nbformat_minor": 0
}
