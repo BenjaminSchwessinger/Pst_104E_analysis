{
 "cells": [
  {
   "cell_type": "code",
   "execution_count": 254,
   "metadata": {
    "collapsed": true
   },
   "outputs": [],
   "source": [
    "%matplotlib inline"
   ]
  },
  {
   "cell_type": "code",
   "execution_count": 303,
   "metadata": {
    "collapsed": false
   },
   "outputs": [],
   "source": [
    "import pandas as pd\n",
    "from Bio import SeqIO\n",
    "import numpy as np\n",
    "import os\n",
    "import matplotlib.pyplot as plt\n",
    "import seaborn\n",
    "import numpy as np\n",
    "import math\n",
    "from itertools import product"
   ]
  },
  {
   "cell_type": "code",
   "execution_count": 171,
   "metadata": {
    "collapsed": true
   },
   "outputs": [],
   "source": [
    "def return_contig_id(x):\n",
    "    import re\n",
    "    pattern = re.compile('_(pcontig_[0-9]*)')\n",
    "    return pattern.search(x).groups()[0]"
   ]
  },
  {
   "cell_type": "code",
   "execution_count": 2,
   "metadata": {
    "collapsed": true
   },
   "outputs": [],
   "source": [
    "base_folder = '/home/benjamin/genome_assembly/PST79/FALCON/p_assemblies/v9_1/Pst_E104_v1/nucmer_split/assemblytics'"
   ]
  },
  {
   "cell_type": "code",
   "execution_count": 172,
   "metadata": {
    "collapsed": true
   },
   "outputs": [],
   "source": [
    "os.chdir(base_folder)"
   ]
  },
  {
   "cell_type": "code",
   "execution_count": 14,
   "metadata": {
    "collapsed": false
   },
   "outputs": [],
   "source": [
    "_8kbp_folders = [x for x in os.listdir(base_folder) if x.endswith('_8kbp')]\n",
    "pcontig_fa = [x for x in os.listdir(base_folder) if x.endswith('.fa') and '__pcontig' in x and 'h_ctgs' not in x]"
   ]
  },
  {
   "cell_type": "code",
   "execution_count": 173,
   "metadata": {
    "collapsed": false
   },
   "outputs": [
    {
     "data": {
      "text/plain": [
       "-73"
      ]
     },
     "execution_count": 173,
     "metadata": {},
     "output_type": "execute_result"
    }
   ],
   "source": [
    "len(_8kbp_folders) - len(pcontig_fa) #makes sense as this is the number of pwoh contigs plus whole assembly "
   ]
  },
  {
   "cell_type": "code",
   "execution_count": 185,
   "metadata": {
    "collapsed": false
   },
   "outputs": [
    {
     "name": "stdout",
     "output_type": "stream",
     "text": [
      "Reading in pcontig_000\n",
      "Reading in pcontig_001\n",
      "Reading in pcontig_002\n",
      "Reading in pcontig_003\n",
      "Reading in pcontig_004\n",
      "Reading in pcontig_005\n",
      "Reading in pcontig_006\n",
      "Reading in pcontig_007\n",
      "Reading in pcontig_008\n",
      "Reading in pcontig_009\n",
      "Reading in pcontig_010\n",
      "Reading in pcontig_011\n",
      "Reading in pcontig_012\n",
      "Reading in pcontig_013\n",
      "Reading in pcontig_014\n",
      "Reading in pcontig_016\n",
      "Reading in pcontig_017\n",
      "Reading in pcontig_018\n",
      "Reading in pcontig_019\n",
      "Reading in pcontig_020\n",
      "Reading in pcontig_021\n",
      "Reading in pcontig_022\n",
      "Reading in pcontig_023\n",
      "Reading in pcontig_025\n",
      "Reading in pcontig_026\n",
      "Reading in pcontig_027\n",
      "Reading in pcontig_028\n",
      "Reading in pcontig_029\n",
      "Reading in pcontig_030\n",
      "Reading in pcontig_031\n",
      "Reading in pcontig_032\n",
      "Reading in pcontig_033\n",
      "Reading in pcontig_034\n",
      "Reading in pcontig_035\n",
      "Reading in pcontig_036\n",
      "Reading in pcontig_037\n",
      "Reading in pcontig_039\n",
      "Reading in pcontig_040\n",
      "Reading in pcontig_041\n",
      "Reading in pcontig_042\n",
      "Reading in pcontig_043\n",
      "Reading in pcontig_044\n",
      "Reading in pcontig_045\n",
      "Reading in pcontig_046\n",
      "Reading in pcontig_047\n",
      "Reading in pcontig_048\n",
      "Reading in pcontig_049\n",
      "Reading in pcontig_050\n",
      "Reading in pcontig_052\n",
      "Reading in pcontig_054\n",
      "Reading in pcontig_055\n",
      "Reading in pcontig_056\n",
      "Reading in pcontig_057\n",
      "Reading in pcontig_058\n",
      "Reading in pcontig_059\n",
      "Reading in pcontig_060\n",
      "Reading in pcontig_062\n",
      "Reading in pcontig_064\n",
      "Reading in pcontig_065\n",
      "Reading in pcontig_066\n",
      "Reading in pcontig_067\n",
      "Reading in pcontig_068\n",
      "Reading in pcontig_069\n",
      "Reading in pcontig_070\n",
      "Reading in pcontig_072\n",
      "Reading in pcontig_073\n",
      "Reading in pcontig_074\n",
      "Reading in pcontig_075\n",
      "Reading in pcontig_077\n",
      "Reading in pcontig_078\n",
      "Reading in pcontig_079\n",
      "Reading in pcontig_080\n",
      "Reading in pcontig_081\n",
      "Reading in pcontig_082\n",
      "Reading in pcontig_083\n",
      "Reading in pcontig_084\n",
      "Reading in pcontig_086\n",
      "Reading in pcontig_088\n",
      "Reading in pcontig_089\n",
      "Reading in pcontig_090\n",
      "Reading in pcontig_091\n",
      "Reading in pcontig_092\n",
      "Reading in pcontig_095\n",
      "Reading in pcontig_096\n",
      "Reading in pcontig_097\n",
      "Reading in pcontig_104\n",
      "Reading in pcontig_106\n",
      "Reading in pcontig_110\n",
      "Reading in pcontig_115\n",
      "Reading in pcontig_118\n",
      "Reading in pcontig_129\n",
      "Reading in pcontig_147\n",
      "Reading in pcontig_148\n",
      "Reading in pcontig_164\n",
      "Reading in pcontig_166\n",
      "Reading in pcontig_184\n",
      "Reading in pcontig_189\n",
      "Reading in pcontig_193\n",
      "Reading in pcontig_225\n",
      "Reading in pcontig_234\n",
      "Reading in pcontig_238\n",
      "Reading in pcontig_241\n"
     ]
    }
   ],
   "source": [
    "_8kbp_folders.sort()\n",
    "Assemblytics_summary_df_list = []\n",
    "variation_types = ['Insertion', 'Deletion', 'Tandem_expansion', 'Tandem_contraction', 'Repeat_expansion', 'Repeat_contraction']\n",
    "for folder in _8kbp_folders[:-1]:\n",
    "    #get the summary file\n",
    "    summary_file = [x for x in os.listdir(os.path.abspath(folder)) \\\n",
    "                    if x.endswith('Assemblytics_structural_variants.summary.csv')][0]\n",
    "    file_name = ''\n",
    "    file_name = os.path.join(base_folder, folder, summary_file)\n",
    "    #now convert summary file to a df usable file\n",
    "    with open(file_name) as s_handle:\n",
    "        out_handle = open(file_name+'df', 'w')\n",
    "        variation_type = ''\n",
    "        for line in s_handle:\n",
    "            if line.strip() == '':\n",
    "                continue\n",
    "            if 'Total' in line:\n",
    "                continue\n",
    "            line = line.strip('\\n')\n",
    "            if line in variation_types:\n",
    "                variation_type = line\n",
    "                next\n",
    "            else:\n",
    "                line = variation_type + ','+line\n",
    "                print(line, file=out_handle)\n",
    "        out_handle.close()  \n",
    "    #now read in the dataframe and reformat the indexes so it is useful later on\n",
    "    #Multiindex column contig_id, numbers; Multiindex rows Type and size range\n",
    "    contig = ''\n",
    "    contig = return_contig_id(folder)\n",
    "    print('Reading in %s' % (contig))\n",
    "    var_df = ''\n",
    "    var_df = pd.read_csv(file_name+'df', header=None, names=['Type', 'Size range', 'Count', 'Total bp'])\n",
    "    if len(var_df) == 0: #some contigs might not have any variations called.\n",
    "        continue\n",
    "    index = pd.MultiIndex.from_tuples(list(zip(var_df['Type'],var_df['Size range'])), names=['Type', 'Size range'])\n",
    "    var_df = var_df.set_index(index)\n",
    "    var_df = var_df.iloc[:,2:] #subset the two remaining useful columns\n",
    "    old_columns = list(var_df.columns)\n",
    "    col_index = pd.MultiIndex.from_tuples(list(zip([contig, contig], old_columns)),names = ['contig_id','numbers'])\n",
    "    var_df.columns = col_index\n",
    "    Assemblytics_summary_df_list.append(var_df)\n",
    "Assemblytics_summary_df = pd.concat(Assemblytics_summary_df_list, axis=1)"
   ]
  },
  {
   "cell_type": "code",
   "execution_count": 205,
   "metadata": {
    "collapsed": false
   },
   "outputs": [
    {
     "data": {
      "text/plain": [
       "MultiIndex(levels=[['pcontig_000', 'pcontig_001', 'pcontig_002', 'pcontig_003', 'pcontig_004', 'pcontig_005', 'pcontig_006', 'pcontig_007', 'pcontig_008', 'pcontig_009', 'pcontig_010', 'pcontig_011', 'pcontig_012', 'pcontig_013', 'pcontig_014', 'pcontig_016', 'pcontig_017', 'pcontig_018', 'pcontig_019', 'pcontig_020', 'pcontig_021', 'pcontig_022', 'pcontig_023', 'pcontig_025', 'pcontig_026', 'pcontig_027', 'pcontig_028', 'pcontig_029', 'pcontig_030', 'pcontig_031', 'pcontig_032', 'pcontig_033', 'pcontig_034', 'pcontig_035', 'pcontig_036', 'pcontig_037', 'pcontig_039', 'pcontig_040', 'pcontig_041', 'pcontig_042', 'pcontig_043', 'pcontig_044', 'pcontig_045', 'pcontig_046', 'pcontig_047', 'pcontig_048', 'pcontig_049', 'pcontig_050', 'pcontig_052', 'pcontig_054', 'pcontig_055', 'pcontig_056', 'pcontig_057', 'pcontig_058', 'pcontig_059', 'pcontig_060', 'pcontig_062', 'pcontig_064', 'pcontig_065', 'pcontig_066', 'pcontig_067', 'pcontig_068', 'pcontig_069', 'pcontig_070', 'pcontig_072', 'pcontig_073', 'pcontig_074', 'pcontig_075', 'pcontig_077', 'pcontig_078', 'pcontig_079', 'pcontig_080', 'pcontig_081', 'pcontig_082', 'pcontig_083', 'pcontig_084', 'pcontig_086', 'pcontig_088', 'pcontig_089', 'pcontig_090', 'pcontig_091', 'pcontig_092', 'pcontig_095', 'pcontig_096', 'pcontig_097', 'pcontig_104', 'pcontig_106', 'pcontig_110', 'pcontig_115', 'pcontig_129', 'pcontig_147', 'pcontig_148', 'pcontig_164', 'pcontig_166', 'pcontig_184', 'pcontig_189', 'pcontig_225', 'pcontig_234', 'pcontig_238', 'pcontig_241'], ['Count', 'Total bp']],\n",
       "           labels=[[0, 0, 1, 1, 2, 2, 3, 3, 4, 4, 5, 5, 6, 6, 7, 7, 8, 8, 9, 9, 10, 10, 11, 11, 12, 12, 13, 13, 14, 14, 15, 15, 16, 16, 17, 17, 18, 18, 19, 19, 20, 20, 21, 21, 22, 22, 23, 23, 24, 24, 25, 25, 26, 26, 27, 27, 28, 28, 29, 29, 30, 30, 31, 31, 32, 32, 33, 33, 34, 34, 35, 35, 36, 36, 37, 37, 38, 38, 39, 39, 40, 40, 41, 41, 42, 42, 43, 43, 44, 44, 45, 45, 46, 46, 47, 47, 48, 48, 49, 49, 50, 50, 51, 51, 52, 52, 53, 53, 54, 54, 55, 55, 56, 56, 57, 57, 58, 58, 59, 59, 60, 60, 61, 61, 62, 62, 63, 63, 64, 64, 65, 65, 66, 66, 67, 67, 68, 68, 69, 69, 70, 70, 71, 71, 72, 72, 73, 73, 74, 74, 75, 75, 76, 76, 77, 77, 78, 78, 79, 79, 80, 80, 81, 81, 82, 82, 83, 83, 84, 84, 85, 85, 86, 86, 87, 87, 88, 88, 89, 89, 90, 90, 91, 91, 92, 92, 93, 93, 94, 94, 95, 95, 96, 96, 97, 97, 98, 98, 99, 99], [0, 1, 0, 1, 0, 1, 0, 1, 0, 1, 0, 1, 0, 1, 0, 1, 0, 1, 0, 1, 0, 1, 0, 1, 0, 1, 0, 1, 0, 1, 0, 1, 0, 1, 0, 1, 0, 1, 0, 1, 0, 1, 0, 1, 0, 1, 0, 1, 0, 1, 0, 1, 0, 1, 0, 1, 0, 1, 0, 1, 0, 1, 0, 1, 0, 1, 0, 1, 0, 1, 0, 1, 0, 1, 0, 1, 0, 1, 0, 1, 0, 1, 0, 1, 0, 1, 0, 1, 0, 1, 0, 1, 0, 1, 0, 1, 0, 1, 0, 1, 0, 1, 0, 1, 0, 1, 0, 1, 0, 1, 0, 1, 0, 1, 0, 1, 0, 1, 0, 1, 0, 1, 0, 1, 0, 1, 0, 1, 0, 1, 0, 1, 0, 1, 0, 1, 0, 1, 0, 1, 0, 1, 0, 1, 0, 1, 0, 1, 0, 1, 0, 1, 0, 1, 0, 1, 0, 1, 0, 1, 0, 1, 0, 1, 0, 1, 0, 1, 0, 1, 0, 1, 0, 1, 0, 1, 0, 1, 0, 1, 0, 1, 0, 1, 0, 1, 0, 1, 0, 1, 0, 1, 0, 1, 0, 1, 0, 1, 0, 1]],\n",
       "           names=['contig_id', 'numbers'])"
      ]
     },
     "execution_count": 205,
     "metadata": {},
     "output_type": "execute_result"
    }
   ],
   "source": [
    "Assemblytics_summary_df.columns"
   ]
  },
  {
   "cell_type": "code",
   "execution_count": 233,
   "metadata": {
    "collapsed": false
   },
   "outputs": [
    {
     "name": "stdout",
     "output_type": "stream",
     "text": [
      "/home/benjamin/genome_assembly/PST79/FALCON/p_assemblies/v9_1/Pst_E104_v1/nucmer_split/assemblytics\r\n"
     ]
    }
   ],
   "source": [
    "!pwd"
   ]
  },
  {
   "cell_type": "code",
   "execution_count": 234,
   "metadata": {
    "collapsed": true
   },
   "outputs": [],
   "source": [
    "Assemblytics_summary_df.to_csv(\"Assemblytics_summary_df\")"
   ]
  },
  {
   "cell_type": "code",
   "execution_count": 235,
   "metadata": {
    "collapsed": false
   },
   "outputs": [
    {
     "data": {
      "text/html": [
       "<div>\n",
       "<table border=\"1\" class=\"dataframe\">\n",
       "  <thead>\n",
       "    <tr>\n",
       "      <th>contig_id</th>\n",
       "      <th colspan=\"10\" halign=\"left\">pcontig_000</th>\n",
       "      <th>...</th>\n",
       "      <th colspan=\"10\" halign=\"left\">pcontig_241</th>\n",
       "    </tr>\n",
       "    <tr>\n",
       "      <th>numbers</th>\n",
       "      <th colspan=\"5\" halign=\"left\">Count</th>\n",
       "      <th colspan=\"5\" halign=\"left\">Total bp</th>\n",
       "      <th>...</th>\n",
       "      <th colspan=\"5\" halign=\"left\">Count</th>\n",
       "      <th colspan=\"5\" halign=\"left\">Total bp</th>\n",
       "    </tr>\n",
       "    <tr>\n",
       "      <th>Size range</th>\n",
       "      <th>1-10 bp</th>\n",
       "      <th>10-50 bp</th>\n",
       "      <th>10000-50000 bp</th>\n",
       "      <th>50-500 bp</th>\n",
       "      <th>500-10000 bp</th>\n",
       "      <th>1-10 bp</th>\n",
       "      <th>10-50 bp</th>\n",
       "      <th>10000-50000 bp</th>\n",
       "      <th>50-500 bp</th>\n",
       "      <th>500-10000 bp</th>\n",
       "      <th>...</th>\n",
       "      <th>1-10 bp</th>\n",
       "      <th>10-50 bp</th>\n",
       "      <th>10000-50000 bp</th>\n",
       "      <th>50-500 bp</th>\n",
       "      <th>500-10000 bp</th>\n",
       "      <th>1-10 bp</th>\n",
       "      <th>10-50 bp</th>\n",
       "      <th>10000-50000 bp</th>\n",
       "      <th>50-500 bp</th>\n",
       "      <th>500-10000 bp</th>\n",
       "    </tr>\n",
       "    <tr>\n",
       "      <th>Type</th>\n",
       "      <th></th>\n",
       "      <th></th>\n",
       "      <th></th>\n",
       "      <th></th>\n",
       "      <th></th>\n",
       "      <th></th>\n",
       "      <th></th>\n",
       "      <th></th>\n",
       "      <th></th>\n",
       "      <th></th>\n",
       "      <th></th>\n",
       "      <th></th>\n",
       "      <th></th>\n",
       "      <th></th>\n",
       "      <th></th>\n",
       "      <th></th>\n",
       "      <th></th>\n",
       "      <th></th>\n",
       "      <th></th>\n",
       "      <th></th>\n",
       "      <th></th>\n",
       "    </tr>\n",
       "  </thead>\n",
       "  <tbody>\n",
       "    <tr>\n",
       "      <th>Deletion</th>\n",
       "      <td>2096</td>\n",
       "      <td>111</td>\n",
       "      <td>2</td>\n",
       "      <td>7</td>\n",
       "      <td>8</td>\n",
       "      <td>3928</td>\n",
       "      <td>1893</td>\n",
       "      <td>29285</td>\n",
       "      <td>1648</td>\n",
       "      <td>13689</td>\n",
       "      <td>...</td>\n",
       "      <td>14</td>\n",
       "      <td>0</td>\n",
       "      <td>0</td>\n",
       "      <td>0</td>\n",
       "      <td>0</td>\n",
       "      <td>19</td>\n",
       "      <td>0</td>\n",
       "      <td>0</td>\n",
       "      <td>0</td>\n",
       "      <td>0</td>\n",
       "    </tr>\n",
       "    <tr>\n",
       "      <th>Insertion</th>\n",
       "      <td>1745</td>\n",
       "      <td>96</td>\n",
       "      <td>4</td>\n",
       "      <td>9</td>\n",
       "      <td>17</td>\n",
       "      <td>3696</td>\n",
       "      <td>1664</td>\n",
       "      <td>45217</td>\n",
       "      <td>1592</td>\n",
       "      <td>53726</td>\n",
       "      <td>...</td>\n",
       "      <td>5</td>\n",
       "      <td>0</td>\n",
       "      <td>0</td>\n",
       "      <td>0</td>\n",
       "      <td>0</td>\n",
       "      <td>5</td>\n",
       "      <td>0</td>\n",
       "      <td>0</td>\n",
       "      <td>0</td>\n",
       "      <td>0</td>\n",
       "    </tr>\n",
       "    <tr>\n",
       "      <th>Repeat_contraction</th>\n",
       "      <td>0</td>\n",
       "      <td>4</td>\n",
       "      <td>7</td>\n",
       "      <td>10</td>\n",
       "      <td>18</td>\n",
       "      <td>0</td>\n",
       "      <td>88</td>\n",
       "      <td>109427</td>\n",
       "      <td>2222</td>\n",
       "      <td>49264</td>\n",
       "      <td>...</td>\n",
       "      <td>0</td>\n",
       "      <td>0</td>\n",
       "      <td>0</td>\n",
       "      <td>0</td>\n",
       "      <td>0</td>\n",
       "      <td>0</td>\n",
       "      <td>0</td>\n",
       "      <td>0</td>\n",
       "      <td>0</td>\n",
       "      <td>0</td>\n",
       "    </tr>\n",
       "    <tr>\n",
       "      <th>Repeat_expansion</th>\n",
       "      <td>1</td>\n",
       "      <td>2</td>\n",
       "      <td>3</td>\n",
       "      <td>8</td>\n",
       "      <td>12</td>\n",
       "      <td>8</td>\n",
       "      <td>89</td>\n",
       "      <td>70570</td>\n",
       "      <td>1329</td>\n",
       "      <td>57083</td>\n",
       "      <td>...</td>\n",
       "      <td>0</td>\n",
       "      <td>0</td>\n",
       "      <td>0</td>\n",
       "      <td>0</td>\n",
       "      <td>0</td>\n",
       "      <td>0</td>\n",
       "      <td>0</td>\n",
       "      <td>0</td>\n",
       "      <td>0</td>\n",
       "      <td>0</td>\n",
       "    </tr>\n",
       "    <tr>\n",
       "      <th>Tandem_contraction</th>\n",
       "      <td>0</td>\n",
       "      <td>0</td>\n",
       "      <td>0</td>\n",
       "      <td>0</td>\n",
       "      <td>5</td>\n",
       "      <td>0</td>\n",
       "      <td>0</td>\n",
       "      <td>0</td>\n",
       "      <td>0</td>\n",
       "      <td>25135</td>\n",
       "      <td>...</td>\n",
       "      <td>0</td>\n",
       "      <td>0</td>\n",
       "      <td>0</td>\n",
       "      <td>0</td>\n",
       "      <td>0</td>\n",
       "      <td>0</td>\n",
       "      <td>0</td>\n",
       "      <td>0</td>\n",
       "      <td>0</td>\n",
       "      <td>0</td>\n",
       "    </tr>\n",
       "    <tr>\n",
       "      <th>Tandem_expansion</th>\n",
       "      <td>0</td>\n",
       "      <td>0</td>\n",
       "      <td>0</td>\n",
       "      <td>5</td>\n",
       "      <td>4</td>\n",
       "      <td>0</td>\n",
       "      <td>0</td>\n",
       "      <td>0</td>\n",
       "      <td>1393</td>\n",
       "      <td>22469</td>\n",
       "      <td>...</td>\n",
       "      <td>0</td>\n",
       "      <td>0</td>\n",
       "      <td>0</td>\n",
       "      <td>0</td>\n",
       "      <td>0</td>\n",
       "      <td>0</td>\n",
       "      <td>0</td>\n",
       "      <td>0</td>\n",
       "      <td>0</td>\n",
       "      <td>0</td>\n",
       "    </tr>\n",
       "  </tbody>\n",
       "</table>\n",
       "<p>6 rows × 1000 columns</p>\n",
       "</div>"
      ],
      "text/plain": [
       "contig_id          pcontig_000                                                 \\\n",
       "numbers                  Count                                                  \n",
       "Size range             1-10 bp 10-50 bp 10000-50000 bp 50-500 bp 500-10000 bp   \n",
       "Type                                                                            \n",
       "Deletion                  2096      111              2         7            8   \n",
       "Insertion                 1745       96              4         9           17   \n",
       "Repeat_contraction           0        4              7        10           18   \n",
       "Repeat_expansion             1        2              3         8           12   \n",
       "Tandem_contraction           0        0              0         0            5   \n",
       "Tandem_expansion             0        0              0         5            4   \n",
       "\n",
       "contig_id                                                                   \\\n",
       "numbers            Total bp                                                  \n",
       "Size range          1-10 bp 10-50 bp 10000-50000 bp 50-500 bp 500-10000 bp   \n",
       "Type                                                                         \n",
       "Deletion               3928     1893          29285      1648        13689   \n",
       "Insertion              3696     1664          45217      1592        53726   \n",
       "Repeat_contraction        0       88         109427      2222        49264   \n",
       "Repeat_expansion          8       89          70570      1329        57083   \n",
       "Tandem_contraction        0        0              0         0        25135   \n",
       "Tandem_expansion          0        0              0      1393        22469   \n",
       "\n",
       "contig_id              ...      pcontig_241                                    \\\n",
       "numbers                ...            Count                                     \n",
       "Size range             ...          1-10 bp 10-50 bp 10000-50000 bp 50-500 bp   \n",
       "Type                   ...                                                      \n",
       "Deletion               ...               14        0              0         0   \n",
       "Insertion              ...                5        0              0         0   \n",
       "Repeat_contraction     ...                0        0              0         0   \n",
       "Repeat_expansion       ...                0        0              0         0   \n",
       "Tandem_contraction     ...                0        0              0         0   \n",
       "Tandem_expansion       ...                0        0              0         0   \n",
       "\n",
       "contig_id                                                                   \\\n",
       "numbers                         Total bp                                     \n",
       "Size range         500-10000 bp  1-10 bp 10-50 bp 10000-50000 bp 50-500 bp   \n",
       "Type                                                                         \n",
       "Deletion                      0       19        0              0         0   \n",
       "Insertion                     0        5        0              0         0   \n",
       "Repeat_contraction            0        0        0              0         0   \n",
       "Repeat_expansion              0        0        0              0         0   \n",
       "Tandem_contraction            0        0        0              0         0   \n",
       "Tandem_expansion              0        0        0              0         0   \n",
       "\n",
       "contig_id                        \n",
       "numbers                          \n",
       "Size range         500-10000 bp  \n",
       "Type                             \n",
       "Deletion                      0  \n",
       "Insertion                     0  \n",
       "Repeat_contraction            0  \n",
       "Repeat_expansion              0  \n",
       "Tandem_contraction            0  \n",
       "Tandem_expansion              0  \n",
       "\n",
       "[6 rows x 1000 columns]"
      ]
     },
     "execution_count": 235,
     "metadata": {},
     "output_type": "execute_result"
    }
   ],
   "source": [
    "Assemblytics_summary_df.unstack()"
   ]
  },
  {
   "cell_type": "code",
   "execution_count": 357,
   "metadata": {
    "collapsed": false
   },
   "outputs": [],
   "source": [
    "#here get the summary of all Types of variations by size intervals given by Assembletics\n",
    "Size_summary = Assemblytics_summary_df.sum(level='numbers', axis=1)['Total bp']/1000\n",
    "index_a = [x.replace(' bp', '') for x in Size_summary[\"Insertion\"].index]\n",
    "var_types = Size_summary.index.levels[0]\n",
    "\n"
   ]
  },
  {
   "cell_type": "code",
   "execution_count": 350,
   "metadata": {
    "collapsed": false
   },
   "outputs": [
    {
     "data": {
      "text/plain": [
       "['1-10', '10-50', '50-500', '500-10000', '10000-50000']"
      ]
     },
     "execution_count": 350,
     "metadata": {},
     "output_type": "execute_result"
    }
   ],
   "source": [
    "[x.replace(' bp','') for x in index_a]"
   ]
  },
  {
   "cell_type": "code",
   "execution_count": 325,
   "metadata": {
    "collapsed": false
   },
   "outputs": [],
   "source": [
    "def random_color():\n",
    "    import random\n",
    "    r = lambda: random.randint(0,255)\n",
    "    return ('#%02X%02X%02X' % (r(),r(),r()))"
   ]
  },
  {
   "cell_type": "code",
   "execution_count": 363,
   "metadata": {
    "collapsed": false
   },
   "outputs": [
    {
     "data": {
      "image/png": "[encoded data removed]",
      "text/plain": [
       "<matplotlib.figure.Figure at 0x7fb0c18e3860>"
      ]
     },
     "metadata": {},
     "output_type": "display_data"
    }
   ],
   "source": [
    "#here generate a faced plot for the size variation types\n",
    "no_subplots = len(var_types)\n",
    "no_of_subplots_pair = [int(no_subplots/2), 2]\n",
    "subplot_coordinates = list(product(range(no_of_subplots_pair[0]), range(no_of_subplots_pair[1])))\n",
    "subplot_coordinates_list = [list(l) for l in subplot_coordinates]\n",
    "subplot_coordinates_list_rows = [i[0] for i in subplot_coordinates_list]\n",
    "subplot_coordinates_list_columns = [i[1] for i in subplot_coordinates_list]\n",
    "fig, ax = plt.subplots(no_of_subplots_pair[0], no_of_subplots_pair[1], figsize=(15,14))\n",
    "#up to here generate what is needed to specificy the plots\n",
    "ymax = Size_summary.max()\n",
    "ind = np.arange(len(index_a))\n",
    "fs = 18 #fontsize\n",
    "#function to generate the subplots\n",
    "def subplots(ax_ind1, ax_ind2, ind, series, name):\n",
    "    width = 0.35\n",
    "    ax[ax_ind1, ax_ind2].bar(ind,series,color=random_color(), alpha=0.8)\n",
    "    ax[ax_ind1, ax_ind2].set_title(name, fontsize = fs)\n",
    "    ax[ax_ind1, ax_ind2].set_ylabel('Total kbp', fontsize = fs)\n",
    "    ax[ax_ind1, ax_ind2].set_xticks(ind + width )\n",
    "    ax[ax_ind1, ax_ind2].grid(False, which='Major')\n",
    "    ax[ax_ind1, ax_ind2].set_xticklabels(index_a, fontsize = 14)\n",
    "    ax[ax_ind1, ax_ind2].set_ylim(0, ymax+ymax/10)\n",
    "    #for tick in ax[ax_ind1, ax_ind2].yaxis.get_major_ticks():\n",
    "    #            tick.label.set_fontsize(14) \n",
    "    ax[ax_ind1, ax_ind2].tick_params(axis='both', which='major', labelsize=14)\n",
    "for ax_ind1, ax_ind2, _type in  \\\n",
    "zip(subplot_coordinates_list_rows,subplot_coordinates_list_columns, var_types):\n",
    "    subplots(ax_ind1, ax_ind2, ind, Size_summary[_type], _type)\n",
    "\n",
    "plt.tight_layout()\n",
    "plt.savefig('Assemblytics_summary_df.type_summary.png', bbox_inches='tight')"
   ]
  },
  {
   "cell_type": "code",
   "execution_count": 422,
   "metadata": {
    "collapsed": false
   },
   "outputs": [],
   "source": [
    "pwh_size = 79847369\n",
    "Total_summary_df = Assemblytics_summary_df.unstack().sum(level='numbers', axis=1)\n",
    "Total_summary_df['variation [1/kbp]'] = Total_summary_df['Total bp']/pwh_size * 1000"
   ]
  },
  {
   "cell_type": "code",
   "execution_count": 423,
   "metadata": {
    "collapsed": false
   },
   "outputs": [
    {
     "data": {
      "text/html": [
       "<div>\n",
       "<table border=\"1\" class=\"dataframe\">\n",
       "  <thead>\n",
       "    <tr style=\"text-align: right;\">\n",
       "      <th>numbers</th>\n",
       "      <th>Count</th>\n",
       "      <th>Total bp</th>\n",
       "      <th>variation [1/kbp]</th>\n",
       "    </tr>\n",
       "    <tr>\n",
       "      <th>Type</th>\n",
       "      <th></th>\n",
       "      <th></th>\n",
       "      <th></th>\n",
       "    </tr>\n",
       "  </thead>\n",
       "  <tbody>\n",
       "    <tr>\n",
       "      <th>Deletion</th>\n",
       "      <td>40918</td>\n",
       "      <td>1116554</td>\n",
       "      <td>13.983604</td>\n",
       "    </tr>\n",
       "    <tr>\n",
       "      <th>Insertion</th>\n",
       "      <td>38946</td>\n",
       "      <td>1402497</td>\n",
       "      <td>17.564724</td>\n",
       "    </tr>\n",
       "    <tr>\n",
       "      <th>Repeat_contraction</th>\n",
       "      <td>778</td>\n",
       "      <td>3986623</td>\n",
       "      <td>49.928045</td>\n",
       "    </tr>\n",
       "    <tr>\n",
       "      <th>Repeat_expansion</th>\n",
       "      <td>602</td>\n",
       "      <td>2636297</td>\n",
       "      <td>33.016705</td>\n",
       "    </tr>\n",
       "    <tr>\n",
       "      <th>Tandem_contraction</th>\n",
       "      <td>80</td>\n",
       "      <td>219808</td>\n",
       "      <td>2.752852</td>\n",
       "    </tr>\n",
       "    <tr>\n",
       "      <th>Tandem_expansion</th>\n",
       "      <td>163</td>\n",
       "      <td>788157</td>\n",
       "      <td>9.870795</td>\n",
       "    </tr>\n",
       "  </tbody>\n",
       "</table>\n",
       "</div>"
      ],
      "text/plain": [
       "numbers             Count  Total bp  variation [1/kbp]\n",
       "Type                                                  \n",
       "Deletion            40918   1116554          13.983604\n",
       "Insertion           38946   1402497          17.564724\n",
       "Repeat_contraction    778   3986623          49.928045\n",
       "Repeat_expansion      602   2636297          33.016705\n",
       "Tandem_contraction     80    219808           2.752852\n",
       "Tandem_expansion      163    788157           9.870795"
      ]
     },
     "execution_count": 423,
     "metadata": {},
     "output_type": "execute_result"
    }
   ],
   "source": [
    "Total_summary_df"
   ]
  },
  {
   "cell_type": "code",
   "execution_count": 390,
   "metadata": {
    "collapsed": false
   },
   "outputs": [],
   "source": [
    "total_relative_var = Total_summary_df['Total bp'].sum()/pwh_size*100"
   ]
  },
  {
   "cell_type": "code",
   "execution_count": 392,
   "metadata": {
    "collapsed": false
   },
   "outputs": [
    {
     "data": {
      "text/plain": [
       "12.711672440954192"
      ]
     },
     "execution_count": 392,
     "metadata": {},
     "output_type": "execute_result"
    }
   ],
   "source": [
    "float(total_relative_var)"
   ]
  },
  {
   "cell_type": "code",
   "execution_count": 418,
   "metadata": {
    "collapsed": false
   },
   "outputs": [],
   "source": [
    "By_size_summary = Assemblytics_summary_df.unstack().sum(level=['Size range', 'numbers'], axis =1).iloc[:,range(1,11,2)].T"
   ]
  },
  {
   "cell_type": "code",
   "execution_count": 424,
   "metadata": {
    "collapsed": false
   },
   "outputs": [],
   "source": [
    "By_size_summary['Total bp'] = By_size_summary.sum(axis =1)\n",
    "By_size_summary['variation [1/kbp]'] = By_size_summary['Total bp']/pwh_size * 1000"
   ]
  },
  {
   "cell_type": "code",
   "execution_count": 425,
   "metadata": {
    "collapsed": false
   },
   "outputs": [
    {
     "data": {
      "text/html": [
       "<div>\n",
       "<table border=\"1\" class=\"dataframe\">\n",
       "  <thead>\n",
       "    <tr style=\"text-align: right;\">\n",
       "      <th></th>\n",
       "      <th>Type</th>\n",
       "      <th>Deletion</th>\n",
       "      <th>Insertion</th>\n",
       "      <th>Repeat_contraction</th>\n",
       "      <th>Repeat_expansion</th>\n",
       "      <th>Tandem_contraction</th>\n",
       "      <th>Tandem_expansion</th>\n",
       "      <th>Total bp</th>\n",
       "      <th>variation [1/kbp]</th>\n",
       "    </tr>\n",
       "    <tr>\n",
       "      <th>Size range</th>\n",
       "      <th>numbers</th>\n",
       "      <th></th>\n",
       "      <th></th>\n",
       "      <th></th>\n",
       "      <th></th>\n",
       "      <th></th>\n",
       "      <th></th>\n",
       "      <th></th>\n",
       "      <th></th>\n",
       "    </tr>\n",
       "  </thead>\n",
       "  <tbody>\n",
       "    <tr>\n",
       "      <th>1-10 bp</th>\n",
       "      <th>Total bp</th>\n",
       "      <td>72360</td>\n",
       "      <td>70744</td>\n",
       "      <td>94</td>\n",
       "      <td>92</td>\n",
       "      <td>0</td>\n",
       "      <td>0</td>\n",
       "      <td>286580</td>\n",
       "      <td>3.589098</td>\n",
       "    </tr>\n",
       "    <tr>\n",
       "      <th>10-50 bp</th>\n",
       "      <th>Total bp</th>\n",
       "      <td>36161</td>\n",
       "      <td>35834</td>\n",
       "      <td>1656</td>\n",
       "      <td>1287</td>\n",
       "      <td>70</td>\n",
       "      <td>86</td>\n",
       "      <td>150188</td>\n",
       "      <td>1.880939</td>\n",
       "    </tr>\n",
       "    <tr>\n",
       "      <th>10000-50000 bp</th>\n",
       "      <th>Total bp</th>\n",
       "      <td>369936</td>\n",
       "      <td>367102</td>\n",
       "      <td>2388987</td>\n",
       "      <td>1506129</td>\n",
       "      <td>37124</td>\n",
       "      <td>382757</td>\n",
       "      <td>10104070</td>\n",
       "      <td>126.542303</td>\n",
       "    </tr>\n",
       "    <tr>\n",
       "      <th>50-500 bp</th>\n",
       "      <th>Total bp</th>\n",
       "      <td>42844</td>\n",
       "      <td>47360</td>\n",
       "      <td>34655</td>\n",
       "      <td>32946</td>\n",
       "      <td>6014</td>\n",
       "      <td>10608</td>\n",
       "      <td>348854</td>\n",
       "      <td>4.369011</td>\n",
       "    </tr>\n",
       "    <tr>\n",
       "      <th>500-10000 bp</th>\n",
       "      <th>Total bp</th>\n",
       "      <td>595253</td>\n",
       "      <td>881457</td>\n",
       "      <td>1561231</td>\n",
       "      <td>1095843</td>\n",
       "      <td>176600</td>\n",
       "      <td>394706</td>\n",
       "      <td>9410180</td>\n",
       "      <td>117.852099</td>\n",
       "    </tr>\n",
       "  </tbody>\n",
       "</table>\n",
       "</div>"
      ],
      "text/plain": [
       "Type                     Deletion  Insertion  Repeat_contraction  \\\n",
       "Size range     numbers                                             \n",
       "1-10 bp        Total bp     72360      70744                  94   \n",
       "10-50 bp       Total bp     36161      35834                1656   \n",
       "10000-50000 bp Total bp    369936     367102             2388987   \n",
       "50-500 bp      Total bp     42844      47360               34655   \n",
       "500-10000 bp   Total bp    595253     881457             1561231   \n",
       "\n",
       "Type                     Repeat_expansion  Tandem_contraction  \\\n",
       "Size range     numbers                                          \n",
       "1-10 bp        Total bp                92                   0   \n",
       "10-50 bp       Total bp              1287                  70   \n",
       "10000-50000 bp Total bp           1506129               37124   \n",
       "50-500 bp      Total bp             32946                6014   \n",
       "500-10000 bp   Total bp           1095843              176600   \n",
       "\n",
       "Type                     Tandem_expansion  Total bp  variation [1/kbp]  \n",
       "Size range     numbers                                                  \n",
       "1-10 bp        Total bp                 0    286580           3.589098  \n",
       "10-50 bp       Total bp                86    150188           1.880939  \n",
       "10000-50000 bp Total bp            382757  10104070         126.542303  \n",
       "50-500 bp      Total bp             10608    348854           4.369011  \n",
       "500-10000 bp   Total bp            394706   9410180         117.852099  "
      ]
     },
     "execution_count": 425,
     "metadata": {},
     "output_type": "execute_result"
    }
   ],
   "source": [
    "By_size_summary"
   ]
  },
  {
   "cell_type": "code",
   "execution_count": 400,
   "metadata": {
    "collapsed": false
   },
   "outputs": [
    {
     "data": {
      "text/html": [
       "<div>\n",
       "<table border=\"1\" class=\"dataframe\">\n",
       "  <thead>\n",
       "    <tr style=\"text-align: right;\">\n",
       "      <th>numbers</th>\n",
       "      <th>Count</th>\n",
       "      <th>Total bp</th>\n",
       "    </tr>\n",
       "    <tr>\n",
       "      <th>Type</th>\n",
       "      <th></th>\n",
       "      <th></th>\n",
       "    </tr>\n",
       "  </thead>\n",
       "  <tbody>\n",
       "    <tr>\n",
       "      <th>Deletion</th>\n",
       "      <td>40918</td>\n",
       "      <td>1116554</td>\n",
       "    </tr>\n",
       "    <tr>\n",
       "      <th>Insertion</th>\n",
       "      <td>38946</td>\n",
       "      <td>1402497</td>\n",
       "    </tr>\n",
       "    <tr>\n",
       "      <th>Repeat_contraction</th>\n",
       "      <td>778</td>\n",
       "      <td>3986623</td>\n",
       "    </tr>\n",
       "    <tr>\n",
       "      <th>Repeat_expansion</th>\n",
       "      <td>602</td>\n",
       "      <td>2636297</td>\n",
       "    </tr>\n",
       "    <tr>\n",
       "      <th>Tandem_contraction</th>\n",
       "      <td>80</td>\n",
       "      <td>219808</td>\n",
       "    </tr>\n",
       "    <tr>\n",
       "      <th>Tandem_expansion</th>\n",
       "      <td>163</td>\n",
       "      <td>788157</td>\n",
       "    </tr>\n",
       "  </tbody>\n",
       "</table>\n",
       "</div>"
      ],
      "text/plain": [
       "numbers             Count  Total bp\n",
       "Type                               \n",
       "Deletion            40918   1116554\n",
       "Insertion           38946   1402497\n",
       "Repeat_contraction    778   3986623\n",
       "Repeat_expansion      602   2636297\n",
       "Tandem_contraction     80    219808\n",
       "Tandem_expansion      163    788157"
      ]
     },
     "execution_count": 400,
     "metadata": {},
     "output_type": "execute_result"
    }
   ],
   "source": [
    "Assemblytics_summary_df.unstack().sum(level='numbers', axis=1)"
   ]
  },
  {
   "cell_type": "code",
   "execution_count": null,
   "metadata": {
    "collapsed": true
   },
   "outputs": [],
   "source": []
  },
  {
   "cell_type": "code",
   "execution_count": 267,
   "metadata": {
    "collapsed": false
   },
   "outputs": [
    {
     "data": {
      "text/plain": [
       "70744"
      ]
     },
     "execution_count": 267,
     "metadata": {},
     "output_type": "execute_result"
    }
   ],
   "source": [
    "Assemblytics_summary_df.sum(level='numbers', axis=1)['Total bp'][\"Insertion\"][0]"
   ]
  },
  {
   "cell_type": "code",
   "execution_count": 21,
   "metadata": {
    "collapsed": false
   },
   "outputs": [],
   "source": [
    "summary_file = [x for x in os.listdir(os.path.abspath(_8kbp_folders[0])) if x.endswith('Assemblytics_structural_variants.summary.csv')]"
   ]
  },
  {
   "cell_type": "code",
   "execution_count": 27,
   "metadata": {
    "collapsed": true
   },
   "outputs": [],
   "source": [
    "file_name = os.path.join(base_folder, _8kbp_folders[0], summary_file[0])"
   ]
  },
  {
   "cell_type": "code",
   "execution_count": 28,
   "metadata": {
    "collapsed": false
   },
   "outputs": [
    {
     "data": {
      "text/plain": [
       "'/home/benjamin/genome_assembly/PST79/FALCON/p_assemblies/v9_1/Pst_E104_v1/nucmer_split/assemblytics/Pst_E104_v1_pcontig_037_php_8kbp/Pst_E104_v1_pcontig_037_php_8kbp_50kp.Assemblytics_structural_variants.summary.csv'"
      ]
     },
     "execution_count": 28,
     "metadata": {},
     "output_type": "execute_result"
    }
   ],
   "source": [
    "file_name"
   ]
  },
  {
   "cell_type": "code",
   "execution_count": 30,
   "metadata": {
    "collapsed": true
   },
   "outputs": [],
   "source": [
    "variation_types = ['Insertion', 'Deletion', 'Tandem_expansion', 'Tandem_contraction', 'Repeat_expansion', 'Repeat_contraction']"
   ]
  },
  {
   "cell_type": "code",
   "execution_count": 73,
   "metadata": {
    "collapsed": false
   },
   "outputs": [],
   "source": [
    "with open(file_name) as s_handle:\n",
    "    out_handle = open(file_name+'df', 'w')\n",
    "    variation_type = ''\n",
    "    for line in s_handle:\n",
    "        if line.strip() == '':\n",
    "            continue\n",
    "        if 'Total' in line:\n",
    "            continue\n",
    "        line = line.strip('\\n')\n",
    "        if line in variation_types:\n",
    "            variation_type = line\n",
    "            next\n",
    "        else:\n",
    "            line = variation_type + ','+line\n",
    "            print(line, file=out_handle)\n",
    "    out_handle.close()                "
   ]
  },
  {
   "cell_type": "code",
   "execution_count": 107,
   "metadata": {
    "collapsed": false
   },
   "outputs": [],
   "source": [
    "var_df = pd.read_csv(file_name+'df', header=None, names=['Type', 'Size range', 'Count', 'Total bp'])"
   ]
  },
  {
   "cell_type": "code",
   "execution_count": null,
   "metadata": {
    "collapsed": false
   },
   "outputs": [],
   "source": []
  },
  {
   "cell_type": "code",
   "execution_count": 109,
   "metadata": {
    "collapsed": false
   },
   "outputs": [
    {
     "data": {
      "text/html": [
       "<div>\n",
       "<table border=\"1\" class=\"dataframe\">\n",
       "  <thead>\n",
       "    <tr style=\"text-align: right;\">\n",
       "      <th></th>\n",
       "      <th>Type</th>\n",
       "      <th>Size range</th>\n",
       "      <th>Count</th>\n",
       "      <th>Total bp</th>\n",
       "    </tr>\n",
       "  </thead>\n",
       "  <tbody>\n",
       "    <tr>\n",
       "      <th>0</th>\n",
       "      <td>Insertion</td>\n",
       "      <td>1-10 bp</td>\n",
       "      <td>312</td>\n",
       "      <td>642</td>\n",
       "    </tr>\n",
       "    <tr>\n",
       "      <th>1</th>\n",
       "      <td>Insertion</td>\n",
       "      <td>10-50 bp</td>\n",
       "      <td>31</td>\n",
       "      <td>552</td>\n",
       "    </tr>\n",
       "    <tr>\n",
       "      <th>2</th>\n",
       "      <td>Insertion</td>\n",
       "      <td>50-500 bp</td>\n",
       "      <td>2</td>\n",
       "      <td>204</td>\n",
       "    </tr>\n",
       "    <tr>\n",
       "      <th>3</th>\n",
       "      <td>Insertion</td>\n",
       "      <td>500-10000 bp</td>\n",
       "      <td>2</td>\n",
       "      <td>12370</td>\n",
       "    </tr>\n",
       "    <tr>\n",
       "      <th>4</th>\n",
       "      <td>Insertion</td>\n",
       "      <td>10000-50000 bp</td>\n",
       "      <td>1</td>\n",
       "      <td>11712</td>\n",
       "    </tr>\n",
       "  </tbody>\n",
       "</table>\n",
       "</div>"
      ],
      "text/plain": [
       "        Type      Size range  Count  Total bp\n",
       "0  Insertion         1-10 bp    312       642\n",
       "1  Insertion        10-50 bp     31       552\n",
       "2  Insertion       50-500 bp      2       204\n",
       "3  Insertion    500-10000 bp      2     12370\n",
       "4  Insertion  10000-50000 bp      1     11712"
      ]
     },
     "execution_count": 109,
     "metadata": {},
     "output_type": "execute_result"
    }
   ],
   "source": [
    "var_df.head()"
   ]
  },
  {
   "cell_type": "code",
   "execution_count": 110,
   "metadata": {
    "collapsed": false
   },
   "outputs": [],
   "source": [
    "index = pd.MultiIndex.from_tuples(list(zip(var_df['Type'],var_df['Size range'])), names=['Type', 'Size range'])"
   ]
  },
  {
   "cell_type": "code",
   "execution_count": 119,
   "metadata": {
    "collapsed": false
   },
   "outputs": [],
   "source": [
    "var_df = var_df.set_index(index)\n",
    "var_df.columns\n",
    "test = var_df.iloc[:,2:]\n",
    "test_columns = list(test.columns)"
   ]
  },
  {
   "cell_type": "code",
   "execution_count": 132,
   "metadata": {
    "collapsed": false
   },
   "outputs": [],
   "source": [
    "col_index = pd.MultiIndex.from_tuples(list(zip(['contig', 'contig'], test_columns)),names = ['contig','numbers'])"
   ]
  },
  {
   "cell_type": "code",
   "execution_count": 133,
   "metadata": {
    "collapsed": false
   },
   "outputs": [],
   "source": [
    "test.columns = col_index"
   ]
  },
  {
   "cell_type": "code",
   "execution_count": 134,
   "metadata": {
    "collapsed": false
   },
   "outputs": [
    {
     "data": {
      "text/html": [
       "<div>\n",
       "<table border=\"1\" class=\"dataframe\">\n",
       "  <thead>\n",
       "    <tr>\n",
       "      <th></th>\n",
       "      <th>contig</th>\n",
       "      <th colspan=\"2\" halign=\"left\">contig</th>\n",
       "    </tr>\n",
       "    <tr>\n",
       "      <th></th>\n",
       "      <th>numbers</th>\n",
       "      <th>Count</th>\n",
       "      <th>Total bp</th>\n",
       "    </tr>\n",
       "    <tr>\n",
       "      <th>Type</th>\n",
       "      <th>Size range</th>\n",
       "      <th></th>\n",
       "      <th></th>\n",
       "    </tr>\n",
       "  </thead>\n",
       "  <tbody>\n",
       "    <tr>\n",
       "      <th rowspan=\"5\" valign=\"top\">Insertion</th>\n",
       "      <th>1-10 bp</th>\n",
       "      <td>312</td>\n",
       "      <td>642</td>\n",
       "    </tr>\n",
       "    <tr>\n",
       "      <th>10-50 bp</th>\n",
       "      <td>31</td>\n",
       "      <td>552</td>\n",
       "    </tr>\n",
       "    <tr>\n",
       "      <th>50-500 bp</th>\n",
       "      <td>2</td>\n",
       "      <td>204</td>\n",
       "    </tr>\n",
       "    <tr>\n",
       "      <th>500-10000 bp</th>\n",
       "      <td>2</td>\n",
       "      <td>12370</td>\n",
       "    </tr>\n",
       "    <tr>\n",
       "      <th>10000-50000 bp</th>\n",
       "      <td>1</td>\n",
       "      <td>11712</td>\n",
       "    </tr>\n",
       "  </tbody>\n",
       "</table>\n",
       "</div>"
      ],
      "text/plain": [
       "contig                   contig         \n",
       "numbers                   Count Total bp\n",
       "Type      Size range                    \n",
       "Insertion 1-10 bp           312      642\n",
       "          10-50 bp           31      552\n",
       "          50-500 bp           2      204\n",
       "          500-10000 bp        2    12370\n",
       "          10000-50000 bp      1    11712"
      ]
     },
     "execution_count": 134,
     "metadata": {},
     "output_type": "execute_result"
    }
   ],
   "source": [
    "test.head()"
   ]
  },
  {
   "cell_type": "code",
   "execution_count": 168,
   "metadata": {
    "collapsed": false
   },
   "outputs": [],
   "source": []
  },
  {
   "cell_type": "code",
   "execution_count": 170,
   "metadata": {
    "collapsed": false
   },
   "outputs": [
    {
     "data": {
      "text/plain": [
       "'pcontig_037'"
      ]
     },
     "execution_count": 170,
     "metadata": {},
     "output_type": "execute_result"
    }
   ],
   "source": [
    "return_contig_id('Pst_E104_v1_pcontig_037_php_8kbp')"
   ]
  },
  {
   "cell_type": "code",
   "execution_count": 166,
   "metadata": {
    "collapsed": false
   },
   "outputs": [
    {
     "data": {
      "text/plain": [
       "'pcontig_037'"
      ]
     },
     "execution_count": 166,
     "metadata": {},
     "output_type": "execute_result"
    }
   ],
   "source": [
    "m.groups()[0]"
   ]
  },
  {
   "cell_type": "code",
   "execution_count": 100,
   "metadata": {
    "collapsed": false
   },
   "outputs": [
    {
     "data": {
      "text/html": [
       "<div>\n",
       "<table border=\"1\" class=\"dataframe\">\n",
       "  <thead>\n",
       "    <tr style=\"text-align: right;\">\n",
       "      <th></th>\n",
       "      <th></th>\n",
       "      <th>Count</th>\n",
       "      <th>Total bp</th>\n",
       "      <th>Count</th>\n",
       "      <th>Total bp</th>\n",
       "    </tr>\n",
       "    <tr>\n",
       "      <th>Type</th>\n",
       "      <th>Size range</th>\n",
       "      <th></th>\n",
       "      <th></th>\n",
       "      <th></th>\n",
       "      <th></th>\n",
       "    </tr>\n",
       "  </thead>\n",
       "  <tbody>\n",
       "    <tr>\n",
       "      <th rowspan=\"5\" valign=\"top\">Insertion</th>\n",
       "      <th>1-10 bp</th>\n",
       "      <td>312</td>\n",
       "      <td>642</td>\n",
       "      <td>312</td>\n",
       "      <td>642</td>\n",
       "    </tr>\n",
       "    <tr>\n",
       "      <th>10-50 bp</th>\n",
       "      <td>31</td>\n",
       "      <td>552</td>\n",
       "      <td>31</td>\n",
       "      <td>552</td>\n",
       "    </tr>\n",
       "    <tr>\n",
       "      <th>50-500 bp</th>\n",
       "      <td>2</td>\n",
       "      <td>204</td>\n",
       "      <td>2</td>\n",
       "      <td>204</td>\n",
       "    </tr>\n",
       "    <tr>\n",
       "      <th>500-10000 bp</th>\n",
       "      <td>2</td>\n",
       "      <td>12370</td>\n",
       "      <td>2</td>\n",
       "      <td>12370</td>\n",
       "    </tr>\n",
       "    <tr>\n",
       "      <th>10000-50000 bp</th>\n",
       "      <td>1</td>\n",
       "      <td>11712</td>\n",
       "      <td>1</td>\n",
       "      <td>11712</td>\n",
       "    </tr>\n",
       "    <tr>\n",
       "      <th rowspan=\"5\" valign=\"top\">Deletion</th>\n",
       "      <th>1-10 bp</th>\n",
       "      <td>474</td>\n",
       "      <td>869</td>\n",
       "      <td>474</td>\n",
       "      <td>869</td>\n",
       "    </tr>\n",
       "    <tr>\n",
       "      <th>10-50 bp</th>\n",
       "      <td>20</td>\n",
       "      <td>387</td>\n",
       "      <td>20</td>\n",
       "      <td>387</td>\n",
       "    </tr>\n",
       "    <tr>\n",
       "      <th>50-500 bp</th>\n",
       "      <td>2</td>\n",
       "      <td>263</td>\n",
       "      <td>2</td>\n",
       "      <td>263</td>\n",
       "    </tr>\n",
       "    <tr>\n",
       "      <th>500-10000 bp</th>\n",
       "      <td>1</td>\n",
       "      <td>9449</td>\n",
       "      <td>1</td>\n",
       "      <td>9449</td>\n",
       "    </tr>\n",
       "    <tr>\n",
       "      <th>10000-50000 bp</th>\n",
       "      <td>1</td>\n",
       "      <td>16393</td>\n",
       "      <td>1</td>\n",
       "      <td>16393</td>\n",
       "    </tr>\n",
       "    <tr>\n",
       "      <th rowspan=\"5\" valign=\"top\">Tandem_expansion</th>\n",
       "      <th>1-10 bp</th>\n",
       "      <td>0</td>\n",
       "      <td>0</td>\n",
       "      <td>0</td>\n",
       "      <td>0</td>\n",
       "    </tr>\n",
       "    <tr>\n",
       "      <th>10-50 bp</th>\n",
       "      <td>0</td>\n",
       "      <td>0</td>\n",
       "      <td>0</td>\n",
       "      <td>0</td>\n",
       "    </tr>\n",
       "    <tr>\n",
       "      <th>50-500 bp</th>\n",
       "      <td>3</td>\n",
       "      <td>346</td>\n",
       "      <td>3</td>\n",
       "      <td>346</td>\n",
       "    </tr>\n",
       "    <tr>\n",
       "      <th>500-10000 bp</th>\n",
       "      <td>2</td>\n",
       "      <td>13867</td>\n",
       "      <td>2</td>\n",
       "      <td>13867</td>\n",
       "    </tr>\n",
       "    <tr>\n",
       "      <th>10000-50000 bp</th>\n",
       "      <td>0</td>\n",
       "      <td>0</td>\n",
       "      <td>0</td>\n",
       "      <td>0</td>\n",
       "    </tr>\n",
       "    <tr>\n",
       "      <th rowspan=\"5\" valign=\"top\">Tandem_contraction</th>\n",
       "      <th>1-10 bp</th>\n",
       "      <td>0</td>\n",
       "      <td>0</td>\n",
       "      <td>0</td>\n",
       "      <td>0</td>\n",
       "    </tr>\n",
       "    <tr>\n",
       "      <th>10-50 bp</th>\n",
       "      <td>0</td>\n",
       "      <td>0</td>\n",
       "      <td>0</td>\n",
       "      <td>0</td>\n",
       "    </tr>\n",
       "    <tr>\n",
       "      <th>50-500 bp</th>\n",
       "      <td>1</td>\n",
       "      <td>58</td>\n",
       "      <td>1</td>\n",
       "      <td>58</td>\n",
       "    </tr>\n",
       "    <tr>\n",
       "      <th>500-10000 bp</th>\n",
       "      <td>0</td>\n",
       "      <td>0</td>\n",
       "      <td>0</td>\n",
       "      <td>0</td>\n",
       "    </tr>\n",
       "    <tr>\n",
       "      <th>10000-50000 bp</th>\n",
       "      <td>0</td>\n",
       "      <td>0</td>\n",
       "      <td>0</td>\n",
       "      <td>0</td>\n",
       "    </tr>\n",
       "    <tr>\n",
       "      <th rowspan=\"5\" valign=\"top\">Repeat_expansion</th>\n",
       "      <th>1-10 bp</th>\n",
       "      <td>0</td>\n",
       "      <td>0</td>\n",
       "      <td>0</td>\n",
       "      <td>0</td>\n",
       "    </tr>\n",
       "    <tr>\n",
       "      <th>10-50 bp</th>\n",
       "      <td>1</td>\n",
       "      <td>26</td>\n",
       "      <td>1</td>\n",
       "      <td>26</td>\n",
       "    </tr>\n",
       "    <tr>\n",
       "      <th>50-500 bp</th>\n",
       "      <td>1</td>\n",
       "      <td>301</td>\n",
       "      <td>1</td>\n",
       "      <td>301</td>\n",
       "    </tr>\n",
       "    <tr>\n",
       "      <th>500-10000 bp</th>\n",
       "      <td>3</td>\n",
       "      <td>5852</td>\n",
       "      <td>3</td>\n",
       "      <td>5852</td>\n",
       "    </tr>\n",
       "    <tr>\n",
       "      <th>10000-50000 bp</th>\n",
       "      <td>0</td>\n",
       "      <td>0</td>\n",
       "      <td>0</td>\n",
       "      <td>0</td>\n",
       "    </tr>\n",
       "    <tr>\n",
       "      <th rowspan=\"5\" valign=\"top\">Repeat_contraction</th>\n",
       "      <th>1-10 bp</th>\n",
       "      <td>0</td>\n",
       "      <td>0</td>\n",
       "      <td>0</td>\n",
       "      <td>0</td>\n",
       "    </tr>\n",
       "    <tr>\n",
       "      <th>10-50 bp</th>\n",
       "      <td>1</td>\n",
       "      <td>27</td>\n",
       "      <td>1</td>\n",
       "      <td>27</td>\n",
       "    </tr>\n",
       "    <tr>\n",
       "      <th>50-500 bp</th>\n",
       "      <td>3</td>\n",
       "      <td>227</td>\n",
       "      <td>3</td>\n",
       "      <td>227</td>\n",
       "    </tr>\n",
       "    <tr>\n",
       "      <th>500-10000 bp</th>\n",
       "      <td>5</td>\n",
       "      <td>33182</td>\n",
       "      <td>5</td>\n",
       "      <td>33182</td>\n",
       "    </tr>\n",
       "    <tr>\n",
       "      <th>10000-50000 bp</th>\n",
       "      <td>0</td>\n",
       "      <td>0</td>\n",
       "      <td>0</td>\n",
       "      <td>0</td>\n",
       "    </tr>\n",
       "  </tbody>\n",
       "</table>\n",
       "</div>"
      ],
      "text/plain": [
       "                                   Count  Total bp  Count  Total bp\n",
       "Type               Size range                                      \n",
       "Insertion          1-10 bp           312       642    312       642\n",
       "                   10-50 bp           31       552     31       552\n",
       "                   50-500 bp           2       204      2       204\n",
       "                   500-10000 bp        2     12370      2     12370\n",
       "                   10000-50000 bp      1     11712      1     11712\n",
       "Deletion           1-10 bp           474       869    474       869\n",
       "                   10-50 bp           20       387     20       387\n",
       "                   50-500 bp           2       263      2       263\n",
       "                   500-10000 bp        1      9449      1      9449\n",
       "                   10000-50000 bp      1     16393      1     16393\n",
       "Tandem_expansion   1-10 bp             0         0      0         0\n",
       "                   10-50 bp            0         0      0         0\n",
       "                   50-500 bp           3       346      3       346\n",
       "                   500-10000 bp        2     13867      2     13867\n",
       "                   10000-50000 bp      0         0      0         0\n",
       "Tandem_contraction 1-10 bp             0         0      0         0\n",
       "                   10-50 bp            0         0      0         0\n",
       "                   50-500 bp           1        58      1        58\n",
       "                   500-10000 bp        0         0      0         0\n",
       "                   10000-50000 bp      0         0      0         0\n",
       "Repeat_expansion   1-10 bp             0         0      0         0\n",
       "                   10-50 bp            1        26      1        26\n",
       "                   50-500 bp           1       301      1       301\n",
       "                   500-10000 bp        3      5852      3      5852\n",
       "                   10000-50000 bp      0         0      0         0\n",
       "Repeat_contraction 1-10 bp             0         0      0         0\n",
       "                   10-50 bp            1        27      1        27\n",
       "                   50-500 bp           3       227      3       227\n",
       "                   500-10000 bp        5     33182      5     33182\n",
       "                   10000-50000 bp      0         0      0         0"
      ]
     },
     "execution_count": 100,
     "metadata": {},
     "output_type": "execute_result"
    }
   ],
   "source": [
    "pd.concat([var_df.iloc[:,2:],var_df.iloc[:,2:]], axis=1)"
   ]
  },
  {
   "cell_type": "code",
   "execution_count": 99,
   "metadata": {
    "collapsed": false
   },
   "outputs": [
    {
     "ename": "TypeError",
     "evalue": "object of type 'NoneType' has no len()",
     "output_type": "error",
     "traceback": [
      "\u001b[1;31m---------------------------------------------------------------------------\u001b[0m",
      "\u001b[1;31mTypeError\u001b[0m                                 Traceback (most recent call last)",
      "\u001b[1;32m<ipython-input-99-6d548b79449c>\u001b[0m in \u001b[0;36m<module>\u001b[1;34m()\u001b[0m\n\u001b[1;32m----> 1\u001b[1;33m \u001b[0mvar_df\u001b[0m\u001b[1;33m.\u001b[0m\u001b[0miloc\u001b[0m\u001b[1;33m[\u001b[0m\u001b[1;33m:\u001b[0m\u001b[1;33m,\u001b[0m\u001b[1;36m2\u001b[0m\u001b[1;33m:\u001b[0m\u001b[1;33m]\u001b[0m\u001b[1;33m.\u001b[0m\u001b[0mmerge\u001b[0m\u001b[1;33m(\u001b[0m\u001b[0mvar_df\u001b[0m\u001b[1;33m.\u001b[0m\u001b[0miloc\u001b[0m\u001b[1;33m[\u001b[0m\u001b[1;33m:\u001b[0m\u001b[1;33m,\u001b[0m\u001b[1;36m2\u001b[0m\u001b[1;33m:\u001b[0m\u001b[1;33m]\u001b[0m\u001b[1;33m,\u001b[0m \u001b[0mright_on\u001b[0m\u001b[1;33m=\u001b[0m\u001b[1;32mTrue\u001b[0m\u001b[1;33m)\u001b[0m\u001b[1;33m\u001b[0m\u001b[0m\n\u001b[0m",
      "\u001b[1;32m/home/benjamin/anaconda3/lib/python3.5/site-packages/pandas/core/frame.py\u001b[0m in \u001b[0;36mmerge\u001b[1;34m(self, right, how, on, left_on, right_on, left_index, right_index, sort, suffixes, copy, indicator)\u001b[0m\n\u001b[0;32m   4605\u001b[0m                      \u001b[0mright_on\u001b[0m\u001b[1;33m=\u001b[0m\u001b[0mright_on\u001b[0m\u001b[1;33m,\u001b[0m \u001b[0mleft_index\u001b[0m\u001b[1;33m=\u001b[0m\u001b[0mleft_index\u001b[0m\u001b[1;33m,\u001b[0m\u001b[1;33m\u001b[0m\u001b[0m\n\u001b[0;32m   4606\u001b[0m                      \u001b[0mright_index\u001b[0m\u001b[1;33m=\u001b[0m\u001b[0mright_index\u001b[0m\u001b[1;33m,\u001b[0m \u001b[0msort\u001b[0m\u001b[1;33m=\u001b[0m\u001b[0msort\u001b[0m\u001b[1;33m,\u001b[0m \u001b[0msuffixes\u001b[0m\u001b[1;33m=\u001b[0m\u001b[0msuffixes\u001b[0m\u001b[1;33m,\u001b[0m\u001b[1;33m\u001b[0m\u001b[0m\n\u001b[1;32m-> 4607\u001b[1;33m                      copy=copy, indicator=indicator)\n\u001b[0m\u001b[0;32m   4608\u001b[0m \u001b[1;33m\u001b[0m\u001b[0m\n\u001b[0;32m   4609\u001b[0m     \u001b[1;32mdef\u001b[0m \u001b[0mround\u001b[0m\u001b[1;33m(\u001b[0m\u001b[0mself\u001b[0m\u001b[1;33m,\u001b[0m \u001b[0mdecimals\u001b[0m\u001b[1;33m=\u001b[0m\u001b[1;36m0\u001b[0m\u001b[1;33m,\u001b[0m \u001b[1;33m*\u001b[0m\u001b[0margs\u001b[0m\u001b[1;33m,\u001b[0m \u001b[1;33m**\u001b[0m\u001b[0mkwargs\u001b[0m\u001b[1;33m)\u001b[0m\u001b[1;33m:\u001b[0m\u001b[1;33m\u001b[0m\u001b[0m\n",
      "\u001b[1;32m/home/benjamin/anaconda3/lib/python3.5/site-packages/pandas/tools/merge.py\u001b[0m in \u001b[0;36mmerge\u001b[1;34m(left, right, how, on, left_on, right_on, left_index, right_index, sort, suffixes, copy, indicator)\u001b[0m\n\u001b[0;32m     59\u001b[0m                          \u001b[0mright_on\u001b[0m\u001b[1;33m=\u001b[0m\u001b[0mright_on\u001b[0m\u001b[1;33m,\u001b[0m \u001b[0mleft_index\u001b[0m\u001b[1;33m=\u001b[0m\u001b[0mleft_index\u001b[0m\u001b[1;33m,\u001b[0m\u001b[1;33m\u001b[0m\u001b[0m\n\u001b[0;32m     60\u001b[0m                          \u001b[0mright_index\u001b[0m\u001b[1;33m=\u001b[0m\u001b[0mright_index\u001b[0m\u001b[1;33m,\u001b[0m \u001b[0msort\u001b[0m\u001b[1;33m=\u001b[0m\u001b[0msort\u001b[0m\u001b[1;33m,\u001b[0m \u001b[0msuffixes\u001b[0m\u001b[1;33m=\u001b[0m\u001b[0msuffixes\u001b[0m\u001b[1;33m,\u001b[0m\u001b[1;33m\u001b[0m\u001b[0m\n\u001b[1;32m---> 61\u001b[1;33m                          copy=copy, indicator=indicator)\n\u001b[0m\u001b[0;32m     62\u001b[0m     \u001b[1;32mreturn\u001b[0m \u001b[0mop\u001b[0m\u001b[1;33m.\u001b[0m\u001b[0mget_result\u001b[0m\u001b[1;33m(\u001b[0m\u001b[1;33m)\u001b[0m\u001b[1;33m\u001b[0m\u001b[0m\n\u001b[0;32m     63\u001b[0m \u001b[1;32mif\u001b[0m \u001b[0m__debug__\u001b[0m\u001b[1;33m:\u001b[0m\u001b[1;33m\u001b[0m\u001b[0m\n",
      "\u001b[1;32m/home/benjamin/anaconda3/lib/python3.5/site-packages/pandas/tools/merge.py\u001b[0m in \u001b[0;36m__init__\u001b[1;34m(self, left, right, how, on, left_on, right_on, axis, left_index, right_index, sort, suffixes, copy, indicator)\u001b[0m\n\u001b[0;32m    536\u001b[0m             \u001b[0mwarnings\u001b[0m\u001b[1;33m.\u001b[0m\u001b[0mwarn\u001b[0m\u001b[1;33m(\u001b[0m\u001b[0mmsg\u001b[0m\u001b[1;33m,\u001b[0m \u001b[0mUserWarning\u001b[0m\u001b[1;33m)\u001b[0m\u001b[1;33m\u001b[0m\u001b[0m\n\u001b[0;32m    537\u001b[0m \u001b[1;33m\u001b[0m\u001b[0m\n\u001b[1;32m--> 538\u001b[1;33m         \u001b[0mself\u001b[0m\u001b[1;33m.\u001b[0m\u001b[0m_validate_specification\u001b[0m\u001b[1;33m(\u001b[0m\u001b[1;33m)\u001b[0m\u001b[1;33m\u001b[0m\u001b[0m\n\u001b[0m\u001b[0;32m    539\u001b[0m \u001b[1;33m\u001b[0m\u001b[0m\n\u001b[0;32m    540\u001b[0m         \u001b[1;31m# note this function has side effects\u001b[0m\u001b[1;33m\u001b[0m\u001b[1;33m\u001b[0m\u001b[0m\n",
      "\u001b[1;32m/home/benjamin/anaconda3/lib/python3.5/site-packages/pandas/tools/merge.py\u001b[0m in \u001b[0;36m_validate_specification\u001b[1;34m(self)\u001b[0m\n\u001b[0;32m    905\u001b[0m                                      'of levels in the index of \"left\"')\n\u001b[0;32m    906\u001b[0m                 \u001b[0mself\u001b[0m\u001b[1;33m.\u001b[0m\u001b[0mleft_on\u001b[0m \u001b[1;33m=\u001b[0m \u001b[1;33m[\u001b[0m\u001b[1;32mNone\u001b[0m\u001b[1;33m]\u001b[0m \u001b[1;33m*\u001b[0m \u001b[0mn\u001b[0m\u001b[1;33m\u001b[0m\u001b[0m\n\u001b[1;32m--> 907\u001b[1;33m         \u001b[1;32mif\u001b[0m \u001b[0mlen\u001b[0m\u001b[1;33m(\u001b[0m\u001b[0mself\u001b[0m\u001b[1;33m.\u001b[0m\u001b[0mright_on\u001b[0m\u001b[1;33m)\u001b[0m \u001b[1;33m!=\u001b[0m \u001b[0mlen\u001b[0m\u001b[1;33m(\u001b[0m\u001b[0mself\u001b[0m\u001b[1;33m.\u001b[0m\u001b[0mleft_on\u001b[0m\u001b[1;33m)\u001b[0m\u001b[1;33m:\u001b[0m\u001b[1;33m\u001b[0m\u001b[0m\n\u001b[0m\u001b[0;32m    908\u001b[0m             \u001b[1;32mraise\u001b[0m \u001b[0mValueError\u001b[0m\u001b[1;33m(\u001b[0m\u001b[1;34m\"len(right_on) must equal len(left_on)\"\u001b[0m\u001b[1;33m)\u001b[0m\u001b[1;33m\u001b[0m\u001b[0m\n\u001b[0;32m    909\u001b[0m \u001b[1;33m\u001b[0m\u001b[0m\n",
      "\u001b[1;31mTypeError\u001b[0m: object of type 'NoneType' has no len()"
     ]
    }
   ],
   "source": [
    "var_df.iloc[:,2:].merge(var_df.iloc[:,2:], right_on=True)"
   ]
  },
  {
   "cell_type": "code",
   "execution_count": null,
   "metadata": {
    "collapsed": true
   },
   "outputs": [],
   "source": []
  },
  {
   "cell_type": "code",
   "execution_count": null,
   "metadata": {
    "collapsed": true
   },
   "outputs": [],
   "source": []
  },
  {
   "cell_type": "code",
   "execution_count": 71,
   "metadata": {
    "collapsed": false
   },
   "outputs": [
    {
     "data": {
      "text/html": [
       "<div>\n",
       "<table border=\"1\" class=\"dataframe\">\n",
       "  <thead>\n",
       "    <tr style=\"text-align: right;\">\n",
       "      <th></th>\n",
       "      <th>0</th>\n",
       "      <th>1</th>\n",
       "      <th>2</th>\n",
       "      <th>3</th>\n",
       "    </tr>\n",
       "  </thead>\n",
       "  <tbody>\n",
       "    <tr>\n",
       "      <th>0</th>\n",
       "      <td>Insertion</td>\n",
       "      <td>Size range</td>\n",
       "      <td>Count</td>\n",
       "      <td>Total bp</td>\n",
       "    </tr>\n",
       "    <tr>\n",
       "      <th>1</th>\n",
       "      <td>Insertion</td>\n",
       "      <td>1-10 bp</td>\n",
       "      <td>312</td>\n",
       "      <td>642</td>\n",
       "    </tr>\n",
       "    <tr>\n",
       "      <th>2</th>\n",
       "      <td>Insertion</td>\n",
       "      <td>10-50 bp</td>\n",
       "      <td>31</td>\n",
       "      <td>552</td>\n",
       "    </tr>\n",
       "    <tr>\n",
       "      <th>3</th>\n",
       "      <td>Insertion</td>\n",
       "      <td>50-500 bp</td>\n",
       "      <td>2</td>\n",
       "      <td>204</td>\n",
       "    </tr>\n",
       "    <tr>\n",
       "      <th>4</th>\n",
       "      <td>Insertion</td>\n",
       "      <td>500-10000 bp</td>\n",
       "      <td>2</td>\n",
       "      <td>12370</td>\n",
       "    </tr>\n",
       "  </tbody>\n",
       "</table>\n",
       "</div>"
      ],
      "text/plain": [
       "           0             1      2         3\n",
       "0  Insertion    Size range  Count  Total bp\n",
       "1  Insertion       1-10 bp    312       642\n",
       "2  Insertion      10-50 bp     31       552\n",
       "3  Insertion     50-500 bp      2       204\n",
       "4  Insertion  500-10000 bp      2     12370"
      ]
     },
     "execution_count": 71,
     "metadata": {},
     "output_type": "execute_result"
    }
   ],
   "source": [
    "var_df.head()"
   ]
  },
  {
   "cell_type": "code",
   "execution_count": null,
   "metadata": {
    "collapsed": true
   },
   "outputs": [],
   "source": [
    "def blast_outfmt6_to_bed(x):\n",
    "    blast_fo = open(x, 'r')\n",
    "    blast_lines = blast_fo.readlines()\n",
    "    bed_file_name = x + '.bed'\n",
    "    bed_fo = open(bed_file_name, 'w+')\n",
    "    for l in blast_lines:\n",
    "        content = l.split('\\t')\n",
    "        if int(content[8]) - int(content[9]) < 1:\n",
    "            print(content[1], int(content[8]) -1, content[9], content[0], content[10], \"+\", sep=\"\\t\", file=bed_fo) \n",
    "        else:\n",
    "            print(content[1], int(content[9]) -1, content[8],  content[0], content[10], \"-\", sep = \"\\t\", file=bed_fo)\n",
    "    blast_fo.close()\n",
    "    bed_fo.close()"
   ]
  }
 ],
 "metadata": {
  "kernelspec": {
   "display_name": "Python 3",
   "language": "python",
   "name": "python3"
  },
  "language_info": {
   "codemirror_mode": {
    "name": "ipython",
    "version": 3
   },
   "file_extension": ".py",
   "mimetype": "text/x-python",
   "name": "python",
   "nbconvert_exporter": "python",
   "pygments_lexer": "ipython3",
   "version": "3.5.2"
  }
 },
 "nbformat": 4,
 "nbformat_minor": 0
}
