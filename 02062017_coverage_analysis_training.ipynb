{
 "cells": [
  {
   "cell_type": "code",
   "execution_count": 3,
   "metadata": {
    "collapsed": true
   },
   "outputs": [],
   "source": [
    "%matplotlib inline"
   ]
  },
  {
   "cell_type": "code",
   "execution_count": 122,
   "metadata": {
    "collapsed": true
   },
   "outputs": [],
   "source": [
    "import pandas as pd\n",
    "import matplotlib.pyplot as plt\n",
    "#import seaborn\n",
    "import matplotlib\n",
    "matplotlib.style.use('ggplot')\n",
    "from Bio import SeqIO, SeqUtils"
   ]
  },
  {
   "cell_type": "code",
   "execution_count": 5,
   "metadata": {
    "collapsed": true
   },
   "outputs": [],
   "source": [
    "cov_folder = '/home/benjamin/genome_assembly/PST79/FALCON/p_assemblies/v9_1/Pst_E104_v1/COV/'"
   ]
  },
  {
   "cell_type": "code",
   "execution_count": 6,
   "metadata": {
    "collapsed": true
   },
   "outputs": [],
   "source": [
    "cov_header = [\"contig\", \"position\", 'coverage']"
   ]
  },
  {
   "cell_type": "code",
   "execution_count": 7,
   "metadata": {
    "collapsed": true
   },
   "outputs": [],
   "source": [
    "ph_cov = pd.read_csv(cov_folder +'Pst_E104_v1_ph_ctg.bwamem.Pst79_folder5.sam.sorted.bam.aall.cov', sep='\\t', header=None, names=cov_header)"
   ]
  },
  {
   "cell_type": "code",
   "execution_count": 8,
   "metadata": {
    "collapsed": false
   },
   "outputs": [],
   "source": [
    "p_cov = pd.read_csv(cov_folder +'Pst_E104_v1_p_ctg.bwamem.Pst79_folder5.sam.sorted.bam.aall.cov', sep='\\t', header=None, names=cov_header)"
   ]
  },
  {
   "cell_type": "raw",
   "metadata": {},
   "source": [
    "do a groupby and the mean on this. get ride of the high coverage contigs. calcutate standard statistics. Do a rolling window on each group and convert to a gff file kind of format.\n",
    "also look at the coverage on p only and calcualte coverage there in the same way this should be the diploid coverage really (kind off). \n",
    "Think about combining the two dataframes for pcontigs and do a covariation analysis on the sliding windows look for areas where there is not change for p vs ph mapping and high coverage in both cases. This should be a homozygous region."
   ]
  },
  {
   "cell_type": "code",
   "execution_count": 9,
   "metadata": {
    "collapsed": false
   },
   "outputs": [
    {
     "name": "stdout",
     "output_type": "stream",
     "text": [
      "The mean overall coverage is 132.15 and the std is 429.36 for p\n"
     ]
    },
    {
     "data": {
      "image/png": "[encoded data removed]",
      "text/plain": [
       "<matplotlib.figure.Figure at 0x7f2645342ba8>"
      ]
     },
     "metadata": {},
     "output_type": "display_data"
    }
   ],
   "source": [
    "mean_cov_per_contig = p_cov.groupby('contig').mean()\n",
    "\n",
    "mean_cov_per_contig['coverage'].plot.box()\n",
    "\n",
    "overall_mean = p_cov['coverage'].mean()\n",
    "\n",
    "overall_std = p_cov['coverage'].std()\n",
    "\n",
    "print(\"The mean overall coverage is %.2f and the std is %.2f for p\" % (overall_mean, overall_std))"
   ]
  },
  {
   "cell_type": "code",
   "execution_count": 13,
   "metadata": {
    "collapsed": false
   },
   "outputs": [
    {
     "name": "stdout",
     "output_type": "stream",
     "text": [
      "The mean overall coverage is 71.75 and the std is 306.46 for ph mapping\n"
     ]
    },
    {
     "data": {
      "image/png": "[encoded data removed]",
      "text/plain": [
       "<matplotlib.figure.Figure at 0x7f2642b7a390>"
      ]
     },
     "metadata": {},
     "output_type": "display_data"
    }
   ],
   "source": [
    "mean_cov_per_contig_ph = ph_cov.groupby('contig').mean()\n",
    "mean_cov_per_contig_ph['contig'] = mean_cov_per_contig_ph.index\n",
    "mean_cov_per_contig_ph[mean_cov_per_contig_ph['contig'].str.contains('pcontig')]['coverage'].plot.box(sym ='r+')\n",
    "#mean_cov_per_contig_ph[mean_cov_per_contig_ph['contig'].str.contains('pcontig')]['coverage'].plot.scatter()\n",
    "overall_mean_ph = ph_cov['coverage'].mean()\n",
    "\n",
    "overall_std_ph = ph_cov['coverage'].std()\n",
    "\n",
    "print(\"The mean overall coverage is %.2f and the std is %.2f for ph mapping\" % (overall_mean_ph, overall_std_ph))"
   ]
  },
  {
   "cell_type": "code",
   "execution_count": null,
   "metadata": {
    "collapsed": true
   },
   "outputs": [],
   "source": [
    "#mean_cov_per_contig_ph[mean_cov_per_contig_ph['contig'].str.contains('pcontig')]"
   ]
  },
  {
   "cell_type": "code",
   "execution_count": null,
   "metadata": {
    "collapsed": true
   },
   "outputs": [],
   "source": [
    "#mean_cov_per_contig.sort_values(by='coverage', ascending=False)"
   ]
  },
  {
   "cell_type": "code",
   "execution_count": 14,
   "metadata": {
    "collapsed": false
   },
   "outputs": [],
   "source": [
    "#drop all contigs that have mean coverage above 2000 as calcuated on p mapping.\n",
    "pcontig_greater_2000 = mean_cov_per_contig[mean_cov_per_contig['coverage'] > 2000].index\n",
    "p_cov_smaller_2000 = p_cov[~p_cov['contig'].isin(pcontig_greater_2000)]\n",
    "pcontig_smaller_2000 = p_cov_smaller_2000['contig'].unique()\n",
    "ph_cov_smaller_2000_p = ph_cov[ph_cov['contig'].isin(pcontig_smaller_2000)]"
   ]
  },
  {
   "cell_type": "code",
   "execution_count": 15,
   "metadata": {
    "collapsed": false
   },
   "outputs": [
    {
     "name": "stdout",
     "output_type": "stream",
     "text": [
      "The mean overall coverage for s2000 contigs is 85.12 and the std is 22.80\n"
     ]
    },
    {
     "data": {
      "image/png": "[encoded data removed]",
      "text/plain": [
       "<matplotlib.figure.Figure at 0x7f2642b5ab38>"
      ]
     },
     "metadata": {},
     "output_type": "display_data"
    }
   ],
   "source": [
    "mean_cov_contig_s2000 = p_cov_smaller_2000.groupby(by='contig')['coverage'].mean()\n",
    "\n",
    "mean_cov_contig_s2000.plot.box()\n",
    "\n",
    "mean_s2000 = mean_cov_contig_s2000.mean()\n",
    "std_s2000 = mean_cov_contig_s2000.std()\n",
    "\n",
    "print(\"The mean overall coverage for s2000 contigs is %.2f and the std is %.2f\" % (mean_s2000, std_s2000))"
   ]
  },
  {
   "cell_type": "code",
   "execution_count": 23,
   "metadata": {
    "collapsed": false
   },
   "outputs": [
    {
     "data": {
      "text/plain": [
       "<matplotlib.text.Text at 0x7f26427e10b8>"
      ]
     },
     "execution_count": 23,
     "metadata": {},
     "output_type": "execute_result"
    },
    {
     "data": {
      "image/png": "[encoded data removed]",
      "text/plain": [
       "<matplotlib.figure.Figure at 0x7f2642898898>"
      ]
     },
     "metadata": {},
     "output_type": "display_data"
    }
   ],
   "source": [
    "mean_cov_contig_s2000_ph_p = ph_cov_smaller_2000_p.groupby(by='contig')['coverage'].mean()\n",
    "mean_cov_contig_s2000_ph_p.plot.box()\n",
    "plt.title('mean_cov_contig_s2000_ph_p')"
   ]
  },
  {
   "cell_type": "code",
   "execution_count": 20,
   "metadata": {
    "collapsed": false
   },
   "outputs": [
    {
     "data": {
      "text/plain": [
       "156"
      ]
     },
     "execution_count": 20,
     "metadata": {},
     "output_type": "execute_result"
    }
   ],
   "source": [
    "len(ph_cov_smaller_2000_p['contig'].unique())"
   ]
  },
  {
   "cell_type": "code",
   "execution_count": 22,
   "metadata": {
    "collapsed": false
   },
   "outputs": [],
   "source": [
    "pwh_list = pd.read_csv('/home/benjamin/genome_assembly/PST79/FALCON/p_assemblies/v9_1/Pst_E104_v1/Pst_E104_v1_pwh_ctg.txt',\\\n",
    "sep='\\t', header=None)[0].tolist()\n",
    "pwoh_list = pd.read_csv('/home/benjamin/genome_assembly/PST79/FALCON/p_assemblies/v9_1/Pst_E104_v1/Pst_E104_v1_pwoh_ctg.txt',\\\n",
    "sep='\\t', header=None)[0].tolist()"
   ]
  },
  {
   "cell_type": "code",
   "execution_count": 17,
   "metadata": {
    "collapsed": false
   },
   "outputs": [
    {
     "name": "stdout",
     "output_type": "stream",
     "text": [
      "The mean overall coverage for s2000 contigs is 55.29 and the std is 12.93\n"
     ]
    }
   ],
   "source": [
    "mean_s2000_ph_p = mean_cov_contig_s2000_ph_p.mean()\n",
    "std_s2000_ph_p = mean_cov_contig_s2000_ph_p.std()\n",
    "\n",
    "print(\"The mean overall coverage for s2000 contigs is %.2f and the std is %.2f\" % (mean_s2000_ph_p, std_s2000_ph_p))"
   ]
  },
  {
   "cell_type": "code",
   "execution_count": 34,
   "metadata": {
    "collapsed": false
   },
   "outputs": [
    {
     "name": "stdout",
     "output_type": "stream",
     "text": [
      "The mean overall coverage for s2000 contigs of pwh contigs while ph mapping is 54.34 and the std is 6.38\n"
     ]
    },
    {
     "data": {
      "image/png": "[encoded data removed]",
      "text/plain": [
       "<matplotlib.figure.Figure at 0x7f264260ed68>"
      ]
     },
     "metadata": {},
     "output_type": "display_data"
    }
   ],
   "source": [
    "#mean_cov_contig_s2000_ph_pwh represents all contigs that are below 2000x coverage and are pwh contigs\n",
    "mean_cov_contig_s2000_ph_pwh = mean_cov_contig_s2000_ph_p[mean_cov_contig_s2000_ph_p.index.isin(pwh_list)]\n",
    "mean_cov_contig_s2000_ph_pwh.plot.box()\n",
    "plt.title('mean_cov_contig_s2000_ph_pwh')\n",
    "mean_s2000_ph_pwh = mean_cov_contig_s2000_ph_pwh.mean()\n",
    "std_s2000_ph_pwh = mean_cov_contig_s2000_ph_pwh.std()\n",
    "print(\"The mean overall coverage for s2000 contigs of pwh contigs while ph mapping is %.2f and the std is %.2f\" % (mean_s2000_ph_pwh, std_s2000_ph_pwh))"
   ]
  },
  {
   "cell_type": "code",
   "execution_count": 35,
   "metadata": {
    "collapsed": false
   },
   "outputs": [
    {
     "name": "stdout",
     "output_type": "stream",
     "text": [
      "The mean overall coverage for s2000 contigs of pwoh contigs while ph mapping is 56.92 and the std is 19.68\n"
     ]
    },
    {
     "data": {
      "image/png": "[encoded data removed]",
      "text/plain": [
       "<matplotlib.figure.Figure at 0x7f26428f5780>"
      ]
     },
     "metadata": {},
     "output_type": "display_data"
    }
   ],
   "source": [
    "mean_cov_contig_s2000_ph_pwoh = mean_cov_contig_s2000_ph_p[mean_cov_contig_s2000_ph_p.index.isin(pwoh_list)]\n",
    "mean_cov_contig_s2000_ph_pwoh.plot.box()\n",
    "plt.title('mean_cov_contig_s2000_ph_pwoh')\n",
    "mean_s2000_ph_pwoh = mean_cov_contig_s2000_ph_pwoh.mean()\n",
    "std_s2000_ph_pwoh = mean_cov_contig_s2000_ph_pwoh.std()\n",
    "print(\"The mean overall coverage for s2000 contigs of pwoh contigs while ph mapping is %.2f and the std is %.2f\" % (mean_s2000_ph_pwoh, std_s2000_ph_pwoh))"
   ]
  },
  {
   "cell_type": "code",
   "execution_count": 33,
   "metadata": {
    "collapsed": false
   },
   "outputs": [
    {
     "name": "stdout",
     "output_type": "stream",
     "text": [
      "We have 99 sensible pwh contigs and 57 sensible pwoh contigs\n"
     ]
    }
   ],
   "source": [
    "print(\"We have %i sensible pwh contigs and %i sensible pwoh contigs\" % (len(mean_cov_contig_s2000_ph_pwh), len(mean_cov_contig_s2000_ph_pwoh)))"
   ]
  },
  {
   "cell_type": "code",
   "execution_count": 116,
   "metadata": {
    "collapsed": false
   },
   "outputs": [
    {
     "data": {
      "text/plain": [
       "Index(['pcontig_000', 'pcontig_001', 'pcontig_002', 'pcontig_003',\n",
       "       'pcontig_004', 'pcontig_005', 'pcontig_006', 'pcontig_007',\n",
       "       'pcontig_008', 'pcontig_009', 'pcontig_010', 'pcontig_011',\n",
       "       'pcontig_012', 'pcontig_013', 'pcontig_014', 'pcontig_016',\n",
       "       'pcontig_017', 'pcontig_018', 'pcontig_019', 'pcontig_020',\n",
       "       'pcontig_021', 'pcontig_022', 'pcontig_023', 'pcontig_025',\n",
       "       'pcontig_026', 'pcontig_027', 'pcontig_028', 'pcontig_029',\n",
       "       'pcontig_030', 'pcontig_031', 'pcontig_032', 'pcontig_033',\n",
       "       'pcontig_034', 'pcontig_035', 'pcontig_036', 'pcontig_037',\n",
       "       'pcontig_039', 'pcontig_040', 'pcontig_041', 'pcontig_042',\n",
       "       'pcontig_043', 'pcontig_044', 'pcontig_045', 'pcontig_046',\n",
       "       'pcontig_047', 'pcontig_048', 'pcontig_049', 'pcontig_050',\n",
       "       'pcontig_052', 'pcontig_054', 'pcontig_055', 'pcontig_056',\n",
       "       'pcontig_057', 'pcontig_058', 'pcontig_059', 'pcontig_060',\n",
       "       'pcontig_062', 'pcontig_064', 'pcontig_065', 'pcontig_066',\n",
       "       'pcontig_067', 'pcontig_068', 'pcontig_069', 'pcontig_070',\n",
       "       'pcontig_072', 'pcontig_073', 'pcontig_074', 'pcontig_075',\n",
       "       'pcontig_077', 'pcontig_078', 'pcontig_079', 'pcontig_080',\n",
       "       'pcontig_081', 'pcontig_082', 'pcontig_083', 'pcontig_084',\n",
       "       'pcontig_086', 'pcontig_088', 'pcontig_089', 'pcontig_090',\n",
       "       'pcontig_091', 'pcontig_092', 'pcontig_095', 'pcontig_096',\n",
       "       'pcontig_097', 'pcontig_104', 'pcontig_106', 'pcontig_110',\n",
       "       'pcontig_115', 'pcontig_118', 'pcontig_129', 'pcontig_147',\n",
       "       'pcontig_148', 'pcontig_164', 'pcontig_166', 'pcontig_184',\n",
       "       'pcontig_189', 'pcontig_193', 'pcontig_225'],\n",
       "      dtype='object', name='contig')"
      ]
     },
     "execution_count": 116,
     "metadata": {},
     "output_type": "execute_result"
    }
   ],
   "source": [
    "mean_cov_contig_s2000_ph_pwh.index"
   ]
  },
  {
   "cell_type": "code",
   "execution_count": 170,
   "metadata": {
    "collapsed": false
   },
   "outputs": [
    {
     "data": {
      "text/plain": [
       "Index(['pcontig_000', 'pcontig_001', 'pcontig_002', 'pcontig_003',\n",
       "       'pcontig_004', 'pcontig_005', 'pcontig_006', 'pcontig_007',\n",
       "       'pcontig_008', 'pcontig_009',\n",
       "       ...\n",
       "       'pcontig_218', 'pcontig_221', 'pcontig_223', 'pcontig_225',\n",
       "       'pcontig_228', 'pcontig_230', 'pcontig_231', 'pcontig_233',\n",
       "       'pcontig_235', 'pcontig_248'],\n",
       "      dtype='object', name='contig', length=156)"
      ]
     },
     "execution_count": 170,
     "metadata": {},
     "output_type": "execute_result"
    }
   ],
   "source": [
    "mean_cov_contig_s2000_ph_p.index"
   ]
  },
  {
   "cell_type": "code",
   "execution_count": 39,
   "metadata": {
    "collapsed": true
   },
   "outputs": [],
   "source": [
    "#think about what thresholds to pick in the long run.\n",
    "threshold_up_ph_p = mean_s2000_ph_p + 2*std_s2000_ph_p\n",
    "threshold_down_ph_p = mean_s2000_ph_p - 2*std_s2000_ph_p\n",
    "\n",
    "threshold_up = mean_s2000 + 2*std_s2000\n",
    "threshold_down = mean_s2000 - 2*std_s2000"
   ]
  },
  {
   "cell_type": "code",
   "execution_count": 40,
   "metadata": {
    "collapsed": false
   },
   "outputs": [
    {
     "data": {
      "text/plain": [
       "contig\n",
       "pcontig_134    131.000226\n",
       "pcontig_146     85.500241\n",
       "pcontig_221     87.249173\n",
       "pcontig_223    116.437507\n",
       "pcontig_228     83.895713\n",
       "pcontig_230     87.954408\n",
       "Name: coverage, dtype: float64"
      ]
     },
     "execution_count": 40,
     "metadata": {},
     "output_type": "execute_result"
    }
   ],
   "source": [
    "#potnetial fully homozygous contigs\n",
    "mean_cov_contig_s2000_ph_pwoh[mean_cov_contig_s2000_ph_pwoh > threshold_up_ph_p  ]"
   ]
  },
  {
   "cell_type": "code",
   "execution_count": 41,
   "metadata": {
    "collapsed": false
   },
   "outputs": [
    {
     "data": {
      "text/plain": [
       "97.64081332703367"
      ]
     },
     "execution_count": 41,
     "metadata": {},
     "output_type": "execute_result"
    }
   ],
   "source": [
    "2*mean_s2000_ph_p - std_s2000_ph_p"
   ]
  },
  {
   "cell_type": "code",
   "execution_count": 42,
   "metadata": {
    "collapsed": false
   },
   "outputs": [
    {
     "data": {
      "text/plain": [
       "81.1498867557439"
      ]
     },
     "execution_count": 42,
     "metadata": {},
     "output_type": "execute_result"
    }
   ],
   "source": [
    "threshold_up_ph_p"
   ]
  },
  {
   "cell_type": "raw",
   "metadata": {},
   "source": [
    "The mean coverage of p on ph mapping once all high scoring contigs are gone is the reference mean coverage as reference. Positions of p when only mapping to p contigs that in a rolling window of 1000 are below mean_ph_p + std_ph_p are potentially sites only present in the primary contigs. This can be converted to a gff file. "
   ]
  },
  {
   "cell_type": "raw",
   "metadata": {},
   "source": [
    "Positions on p when mapping on ph contigs that in a rolling window are above 2*mean_ph_p - 1 std_ph_p might be positions that are homozygous between the two "
   ]
  },
  {
   "cell_type": "code",
   "execution_count": 18,
   "metadata": {
    "collapsed": false
   },
   "outputs": [],
   "source": [
    "#think about what thresholds to pick in the long run.\n",
    "threshold_up_ph_p = mean_s2000_ph_p + 2*std_s2000_ph_p\n",
    "threshold_down_ph_p = mean_s2000_ph_p - 2*std_s2000_ph_p\n",
    "\n",
    "threshold_up = mean_s2000 + 2*std_s2000\n",
    "threshold_down = mean_s2000 - 2*std_s2000"
   ]
  },
  {
   "cell_type": "code",
   "execution_count": 87,
   "metadata": {
    "collapsed": true
   },
   "outputs": [],
   "source": [
    "\n",
    "\n",
    "import warnings\n",
    "warnings.filterwarnings('ignore')"
   ]
  },
  {
   "cell_type": "code",
   "execution_count": 102,
   "metadata": {
    "collapsed": false
   },
   "outputs": [],
   "source": [
    "#now write a loop that does it all for your over the whole two dataframes\n",
    "bed_p_uniqe_list = []\n",
    "bed_p_homo_list = []\n",
    "for contig in pcontig_smaller_2000:\n",
    "    tmp_p_df = ''\n",
    "    tmp_ph_df = ''\n",
    "    #now subset the two dataframes\n",
    "    tmp_p_df = p_cov[p_cov['contig'] == contig]\n",
    "    tmp_p_df_ph = ph_cov[ph_cov['contig'] ==  contig]\n",
    "    #generarte the rolling windows\n",
    "    tmp_p_df['Rolling_w1000_p'] = tmp_p_df.rolling(window=1000, min_periods=1)['coverage'].mean()\n",
    "    tmp_p_df_ph['Rolling_w1000_ph_p'] = tmp_p_df_ph.rolling(window=1000, min_periods=1)['coverage'].mean()\n",
    "    tmp_p_df['Rolling_w10000_p'] = tmp_p_df.rolling(window=10000, min_periods=1)['coverage'].mean()\n",
    "    tmp_p_df_ph['Rolling_w10000_ph_p'] = tmp_p_df_ph.rolling(window=10000, min_periods=1)['coverage'].mean()\n",
    "    tmp_p_df['Rolling_w1000_ph_p'] = tmp_p_df_ph['Rolling_w1000_ph_p']\n",
    "\n",
    "    #potentially p_unique DNA streatches are defined as p contig cov streatches, while doing p mapping, that are heterozygous coverage\n",
    "    # coverage -> mean_s2000_ph_p\n",
    "    # [Rolling_w1000_p < mean_s2000_ph_p + 2*std_s2000_ph_p]\n",
    "    tmp_p_df_p_unique = tmp_p_df[tmp_p_df['Rolling_w1000_p'] < (mean_s2000_ph_p + 2*std_s2000_ph_p)]\n",
    "    if len(tmp_p_df_p_unique) > 0:\n",
    "        tmp_p_df_p_unique.reset_index(drop=True, inplace=True)\n",
    "        #add a position +1 column by copying the position datafram 1: and adding making position+1 for the last element\n",
    "        # in the dataframe equal to its own value\n",
    "        tmp_p_df_p_unique['position+1']= tmp_p_df_p_unique.loc[1:, 'position'].\\\n",
    "        append(pd.Series(tmp_p_df_p_unique.loc[len(tmp_p_df_p_unique)-1, 'position'], index=[tmp_p_df_p_unique.index[-1]])).reset_index(drop=True)\n",
    "\n",
    "        tmp_p_df_p_unique['position_diff+1'] = tmp_p_df_p_unique['position+1'] - tmp_p_df_p_unique['position']\n",
    "\n",
    "        #add a position -1 column by copying the position datafram :len-2 and adding/making position-1 for the first element\n",
    "        # in the dataframe equal to its own value\n",
    "        position_1 = list(tmp_p_df_p_unique.loc[:len(tmp_p_df_p_unique)-2, 'position'])\n",
    "        position_1.insert(0, tmp_p_df_p_unique.loc[0, 'position'])\n",
    "\n",
    "        tmp_p_df_p_unique['position-1']= position_1\n",
    "\n",
    "        tmp_p_df_p_unique['position_diff-1'] =  tmp_p_df_p_unique['position'] - tmp_p_df_p_unique['position-1']\n",
    "        #start points of feature streatch => where previous position is unequal 1 away\n",
    "        #tmp_p_df_p_unique[tmp_p_df_p_unique['position_diff-1'] != 1 ].head()\n",
    "\n",
    "        start_pos_index = ''\n",
    "        stop_pos_index = ''\n",
    "        contig_name_list = ''\n",
    "        p_unique_bed = ''\n",
    "        #this should be good  now as it flows double check and loop around to finish this off\n",
    "        start_pos_index = tmp_p_df_p_unique[tmp_p_df_p_unique['position_diff-1'] != 1 ].index\n",
    "        stop_pos_index = tmp_p_df_p_unique[tmp_p_df_p_unique['position_diff+1'] != 1 ].index\n",
    "\n",
    "        contig_name_list = [contig]*len(start_pos_index)\n",
    "\n",
    "        start_pos = [tmp_p_df_p_unique.loc[pos, 'position'] -1 for pos in start_pos_index]\n",
    "        stop_pos = [tmp_p_df_p_unique.loc[pos, 'position']  for pos in stop_pos_index]\n",
    "\n",
    "        p_unique_bed = pd.DataFrame([contig_name_list, start_pos, stop_pos]).T\n",
    "        bed_p_uniqe_list.append(p_unique_bed)\n",
    "    \n",
    "    #potentially p_homo DNA streatches are defined as p contig cov streatches, while doing ph mapping, that are homozygous coverage\n",
    "    # coverage -> 2*mean_s2000_ph_p\n",
    "    # [Rolling_w1000_p > 2*mean_s2000_ph_p - 2*std_s2000_ph_p]\n",
    "    #here might be a consideration to ask for a difference in profile (covariance != 1)\n",
    "    tmp_p_df_p_homo = tmp_p_df[(tmp_p_df['Rolling_w1000_ph_p'] > (2*mean_s2000_ph_p - 2*std_s2000_ph_p))]\n",
    "    if len(tmp_p_df_p_homo) > 0:\n",
    "        tmp_p_df_p_homo.reset_index(drop=True, inplace=True)\n",
    "        #add a position +1 column by copying the position datafram 1: and adding making position+1 for the last element\n",
    "        # in the dataframe equal to its own value\n",
    "        tmp_p_df_p_homo['position+1']= tmp_p_df_p_homo.loc[1:, 'position'].\\\n",
    "        append(pd.Series(tmp_p_df_p_homo.loc[len(tmp_p_df_p_homo)-1, 'position'], index=[tmp_p_df_p_homo.index[-1]])).reset_index(drop=True)\n",
    "\n",
    "        tmp_p_df_p_homo['position_diff+1'] = tmp_p_df_p_homo['position+1'] - tmp_p_df_p_homo['position']\n",
    "\n",
    "        #add a position -1 column by copying the position datafram :len-2 and adding/making position-1 for the first element\n",
    "        # in the dataframe equal to its own value\n",
    "        position_1 = list(tmp_p_df_p_homo.loc[:len(tmp_p_df_p_homo)-2, 'position'])\n",
    "        position_1.insert(0, tmp_p_df_p_homo.loc[0, 'position'])\n",
    "\n",
    "        tmp_p_df_p_homo['position-1']= position_1\n",
    "\n",
    "        tmp_p_df_p_homo['position_diff-1'] =  tmp_p_df_p_homo['position'] - tmp_p_df_p_homo['position-1']\n",
    "        #start points of feature streatch => where previous position is unequal 1 away\n",
    "        #tmp_p_df_p_homo[tmp_p_df_p_homo['position_diff-1'] != 1 ].head()\n",
    "\n",
    "        start_pos_index = ''\n",
    "        stop_pos_index = ''\n",
    "        contig_name_list = ''\n",
    "        p_homo_bed = ''\n",
    "        #this should be good  now as it flows double check and loop around to finish this off\n",
    "        start_pos_index = tmp_p_df_p_homo[tmp_p_df_p_homo['position_diff-1'] != 1 ].index\n",
    "        stop_pos_index = tmp_p_df_p_homo[tmp_p_df_p_homo['position_diff+1'] != 1 ].index\n",
    "\n",
    "        contig_name_list = [contig]*len(start_pos_index)\n",
    "\n",
    "        start_pos = [tmp_p_df_p_homo.loc[pos, 'position'] -1 for pos in start_pos_index]\n",
    "        stop_pos = [tmp_p_df_p_homo.loc[pos, 'position']  for pos in stop_pos_index]\n",
    "\n",
    "        p_homo_bed = pd.DataFrame([contig_name_list, start_pos, stop_pos]).T\n",
    "        bed_p_homo_list.append(p_homo_bed)"
   ]
  },
  {
   "cell_type": "code",
   "execution_count": 103,
   "metadata": {
    "collapsed": false
   },
   "outputs": [
    {
     "data": {
      "text/plain": [
       "156"
      ]
     },
     "execution_count": 103,
     "metadata": {},
     "output_type": "execute_result"
    }
   ],
   "source": [
    "len(bed_p_uniqe_list)"
   ]
  },
  {
   "cell_type": "code",
   "execution_count": 113,
   "metadata": {
    "collapsed": false
   },
   "outputs": [],
   "source": [
    "p_homo_bed_df = pd.concat(bed_p_homo_list).sort_values(by=[0,1])\n",
    "p_unique_bed_df =  pd.concat(bed_p_uniqe_list).sort_values(by=[0,1])"
   ]
  },
  {
   "cell_type": "code",
   "execution_count": 114,
   "metadata": {
    "collapsed": false
   },
   "outputs": [],
   "source": [
    "p_homo_bed_df.to_csv(cov_folder+'Pst_E104_v1_ph_ctg.ph_p_homo_cov.bed', header=None, index=None)\n",
    "p_unique_bed_df.to_csv(cov_folder+'Pst_E104_v1_ph_ctg.p_p_het_cov.bed', header=None, index=None)"
   ]
  },
  {
   "cell_type": "code",
   "execution_count": null,
   "metadata": {
    "collapsed": true
   },
   "outputs": [],
   "source": [
    "#have a final check on if homo bed does the right thing."
   ]
  },
  {
   "cell_type": "code",
   "execution_count": null,
   "metadata": {
    "collapsed": true
   },
   "outputs": [],
   "source": []
  },
  {
   "cell_type": "code",
   "execution_count": null,
   "metadata": {
    "collapsed": true
   },
   "outputs": [],
   "source": []
  },
  {
   "cell_type": "code",
   "execution_count": null,
   "metadata": {
    "collapsed": true
   },
   "outputs": [],
   "source": []
  },
  {
   "cell_type": "markdown",
   "metadata": {},
   "source": [
    "# More playing around below"
   ]
  },
  {
   "cell_type": "code",
   "execution_count": 126,
   "metadata": {
    "collapsed": true
   },
   "outputs": [],
   "source": [
    "def make_contig_df(contig_path, contig_name):\n",
    "    \"\"\"\n",
    "    Make contig Dataframe from fasta file.\n",
    "    \"\"\"    \n",
    "    f_handle = open(contig_path+'/'+contig_name, mode='r')\n",
    "    contigs = SeqIO.parse(f_handle, 'fasta')\n",
    "    contig_length = []\n",
    "    contig_id =[]\n",
    "    contig_GC = []\n",
    "    assembly_id = []\n",
    "    for x in contigs:\n",
    "        contig_id.append(x.id)\n",
    "        contig_length.append(len(x.seq))\n",
    "        contig_GC.append(SeqUtils.GC(x.seq))\n",
    "        assembly_id.append(contig_name)\n",
    "    s1 = pd.Series(contig_id, name='ID')\n",
    "    s2 = pd.Series(contig_length, name='Length')\n",
    "    s3 = pd.Series(contig_GC, name='%GC')\n",
    "    s4 = pd.Series(assembly_id, name=\"Assembly\")\n",
    "    contig_df = pd.concat([s1, s2, s3, s4], axis=1)\n",
    "    f_handle.close()\n",
    "    return contig_df"
   ]
  },
  {
   "cell_type": "code",
   "execution_count": 127,
   "metadata": {
    "collapsed": true
   },
   "outputs": [],
   "source": [
    "contig_path = '/home/benjamin/genome_assembly/PST79/FALCON/p_assemblies/v9_1/122016_assembly/'\n",
    "p_assembly = 'Pst_E104_v1_p_ctg.fa'\n",
    "h_assembly = 'Pst_E104_v1_h_ctg.fa'"
   ]
  },
  {
   "cell_type": "code",
   "execution_count": 128,
   "metadata": {
    "collapsed": false
   },
   "outputs": [],
   "source": [
    "p_df = make_contig_df(contig_path, p_assembly)\n",
    "h_df = make_contig_df(contig_path, h_assembly)"
   ]
  },
  {
   "cell_type": "code",
   "execution_count": 184,
   "metadata": {
    "collapsed": false
   },
   "outputs": [],
   "source": [
    "p_df_cov_s2000_p = p_df[p_df['ID'].isin(mean_cov_contig_s2000_ph_p.index)]"
   ]
  },
  {
   "cell_type": "code",
   "execution_count": 185,
   "metadata": {
    "collapsed": false
   },
   "outputs": [],
   "source": [
    "p_df_cov_s2000_pwh = p_df[p_df['ID'].isin(mean_cov_contig_s2000_ph_pwh.index)]"
   ]
  },
  {
   "cell_type": "code",
   "execution_count": 186,
   "metadata": {
    "collapsed": true
   },
   "outputs": [],
   "source": [
    "p_df_cov_s2000_pwoh = p_df[p_df['ID'].isin(mean_cov_contig_s2000_ph_pwoh.index)]"
   ]
  },
  {
   "cell_type": "code",
   "execution_count": 189,
   "metadata": {
    "collapsed": false
   },
   "outputs": [
    {
     "data": {
      "text/plain": [
       "475"
      ]
     },
     "execution_count": 189,
     "metadata": {},
     "output_type": "execute_result"
    }
   ],
   "source": [
    "len(h_df_cov_s2000)"
   ]
  },
  {
   "cell_type": "code",
   "execution_count": 176,
   "metadata": {
    "collapsed": true
   },
   "outputs": [],
   "source": [
    "h_df_cov_s2000 = h_df[h_df['p-ID'].isin(mean_cov_contig_s2000_ph_pwh.index)]"
   ]
  },
  {
   "cell_type": "code",
   "execution_count": 190,
   "metadata": {
    "collapsed": false
   },
   "outputs": [
    {
     "data": {
      "text/plain": [
       "73478481"
      ]
     },
     "execution_count": 190,
     "metadata": {},
     "output_type": "execute_result"
    }
   ],
   "source": [
    "h_df_cov_s2000['Length'].sum()"
   ]
  },
  {
   "cell_type": "code",
   "execution_count": 191,
   "metadata": {
    "collapsed": false
   },
   "outputs": [
    {
     "data": {
      "text/plain": [
       "79770604"
      ]
     },
     "execution_count": 191,
     "metadata": {},
     "output_type": "execute_result"
    }
   ],
   "source": [
    "p_df_cov_s2000_pwh['Length'].sum()"
   ]
  },
  {
   "cell_type": "code",
   "execution_count": 192,
   "metadata": {
    "collapsed": false
   },
   "outputs": [
    {
     "data": {
      "text/plain": [
       "3585012"
      ]
     },
     "execution_count": 192,
     "metadata": {},
     "output_type": "execute_result"
    }
   ],
   "source": [
    "p_df_cov_s2000_pwoh['Length'].sum()"
   ]
  },
  {
   "cell_type": "code",
   "execution_count": null,
   "metadata": {
    "collapsed": true
   },
   "outputs": [],
   "source": []
  },
  {
   "cell_type": "code",
   "execution_count": 140,
   "metadata": {
    "collapsed": false
   },
   "outputs": [
    {
     "data": {
      "text/plain": [
       "'pcontig_014'"
      ]
     },
     "execution_count": 140,
     "metadata": {},
     "output_type": "execute_result"
    }
   ],
   "source": [
    "h_df.iloc[0,:]['ID'].replace('h', 'p')[0:11]"
   ]
  },
  {
   "cell_type": "code",
   "execution_count": 166,
   "metadata": {
    "collapsed": false
   },
   "outputs": [],
   "source": [
    "h_df['p-ID'] = 'p' + h_df['ID'].str[1:11]"
   ]
  },
  {
   "cell_type": "code",
   "execution_count": 167,
   "metadata": {
    "collapsed": false
   },
   "outputs": [
    {
     "data": {
      "text/html": [
       "<div>\n",
       "<table border=\"1\" class=\"dataframe\">\n",
       "  <thead>\n",
       "    <tr style=\"text-align: right;\">\n",
       "      <th></th>\n",
       "      <th>ID</th>\n",
       "      <th>Length</th>\n",
       "      <th>%GC</th>\n",
       "      <th>Assembly</th>\n",
       "      <th>p-ID</th>\n",
       "    </tr>\n",
       "  </thead>\n",
       "  <tbody>\n",
       "    <tr>\n",
       "      <th>0</th>\n",
       "      <td>hcontig_014_192</td>\n",
       "      <td>38953</td>\n",
       "      <td>44.676918</td>\n",
       "      <td>Pst_E104_v1_h_ctg.fa</td>\n",
       "      <td>pcontig_014</td>\n",
       "    </tr>\n",
       "    <tr>\n",
       "      <th>1</th>\n",
       "      <td>hcontig_049_206</td>\n",
       "      <td>34679</td>\n",
       "      <td>43.389371</td>\n",
       "      <td>Pst_E104_v1_h_ctg.fa</td>\n",
       "      <td>pcontig_049</td>\n",
       "    </tr>\n",
       "    <tr>\n",
       "      <th>2</th>\n",
       "      <td>hcontig_020_215</td>\n",
       "      <td>32412</td>\n",
       "      <td>44.613106</td>\n",
       "      <td>Pst_E104_v1_h_ctg.fa</td>\n",
       "      <td>pcontig_020</td>\n",
       "    </tr>\n",
       "    <tr>\n",
       "      <th>3</th>\n",
       "      <td>hcontig_057_232</td>\n",
       "      <td>26359</td>\n",
       "      <td>43.992564</td>\n",
       "      <td>Pst_E104_v1_h_ctg.fa</td>\n",
       "      <td>pcontig_057</td>\n",
       "    </tr>\n",
       "    <tr>\n",
       "      <th>4</th>\n",
       "      <td>hcontig_034_158</td>\n",
       "      <td>62394</td>\n",
       "      <td>45.350514</td>\n",
       "      <td>Pst_E104_v1_h_ctg.fa</td>\n",
       "      <td>pcontig_034</td>\n",
       "    </tr>\n",
       "  </tbody>\n",
       "</table>\n",
       "</div>"
      ],
      "text/plain": [
       "                ID  Length        %GC              Assembly         p-ID\n",
       "0  hcontig_014_192   38953  44.676918  Pst_E104_v1_h_ctg.fa  pcontig_014\n",
       "1  hcontig_049_206   34679  43.389371  Pst_E104_v1_h_ctg.fa  pcontig_049\n",
       "2  hcontig_020_215   32412  44.613106  Pst_E104_v1_h_ctg.fa  pcontig_020\n",
       "3  hcontig_057_232   26359  43.992564  Pst_E104_v1_h_ctg.fa  pcontig_057\n",
       "4  hcontig_034_158   62394  45.350514  Pst_E104_v1_h_ctg.fa  pcontig_034"
      ]
     },
     "execution_count": 167,
     "metadata": {},
     "output_type": "execute_result"
    }
   ],
   "source": [
    "h_df.head()"
   ]
  },
  {
   "cell_type": "code",
   "execution_count": 57,
   "metadata": {
    "collapsed": true
   },
   "outputs": [],
   "source": [
    "#potentially p_homo DNA streatches are defined as p contig cov streatches, while doing ph mapping, that are homozygous coverage\n",
    "# coverage -> 2*mean_s2000_ph_p\n",
    "# [Rolling_w1000_p > 2*mean_s2000_ph_p - 2*std_s2000_ph_p]\n",
    "#here might be a consideration to ask for a difference in profile (covariance != 1)\n",
    "tmp_p_df_p_homo = tmp_p_df[(tmp_p_df['Rolling_w1000_ph_p'] > (2*mean_s2000_ph_p - 2*std_s2000_ph_p))]\n",
    "    tmp_p_df_p_homo.reset_index(drop=True, inplace=True)\n",
    "    #add a position +1 column by copying the position datafram 1: and adding making position+1 for the last element\n",
    "    # in the dataframe equal to its own value\n",
    "    tmp_p_df_p_homo['position+1']= tmp_p_df_p_homo.loc[1:, 'position'].append(pd.Series(tmp_p_df_p_homo.loc[len(tmp_p_df_p_homo)-1, 'position'], index=[tmp_p_df_p_homo.index[-1]])).reset_index(drop=True)\n",
    "\n",
    "    tmp_p_df_p_homo['position_diff+1'] = tmp_p_df_p_homo['position+1'] - tmp_p_df_p_homo['position']\n",
    "\n",
    "    #add a position -1 column by copying the position datafram :len-2 and adding/making position-1 for the first element\n",
    "    # in the dataframe equal to its own value\n",
    "    position_1 = list(tmp_p_df_p_homo.loc[:len(tmp_p_df_p_homo)-2, 'position'])\n",
    "    position_1.insert(0, tmp_p_df_p_homo.loc[0, 'position'])\n",
    "\n",
    "    tmp_p_df_p_homo['position-1']= position_1\n",
    "\n",
    "    tmp_p_df_p_homo['position_diff-1'] =  tmp_p_df_p_homo['position'] - tmp_p_df_p_homo['position-1']\n",
    "    #start points of feature streatch => where previous position is unequal 1 away\n",
    "    #tmp_p_df_p_homo[tmp_p_df_p_homo['position_diff-1'] != 1 ].head()\n",
    "\n",
    "    start_pos_index = ''\n",
    "    stop_pos_index = ''\n",
    "    contig_name_list = ''\n",
    "    p_homo_bed = ''\n",
    "    #this should be good  now as it flows double check and loop around to finish this off\n",
    "    start_pos_index = tmp_p_df_p_homo[tmp_p_df_p_homo['position_diff-1'] != 1 ].index\n",
    "    stop_pos_index = tmp_p_df_p_homo[tmp_p_df_p_homo['position_diff+1'] != 1 ].index\n",
    "\n",
    "    contig_name_list = [tmp_p_df_p_homo['contig'].homo()[0]]*len(start_pos_index)\n",
    "\n",
    "    start_pos = [tmp_p_df_p_homo.loc[pos, 'position'] -1 for pos in start_pos_index]\n",
    "    stop_pos = [tmp_p_df_p_homo.loc[pos, 'position']  for pos in stop_pos_index]\n",
    "\n",
    "    p_homo_bed = pd.DataFrame([contig_name_list, start_pos, stop_pos]).T"
   ]
  },
  {
   "cell_type": "code",
   "execution_count": null,
   "metadata": {
    "collapsed": true
   },
   "outputs": [],
   "source": []
  },
  {
   "cell_type": "code",
   "execution_count": null,
   "metadata": {
    "collapsed": true
   },
   "outputs": [],
   "source": []
  },
  {
   "cell_type": "code",
   "execution_count": null,
   "metadata": {
    "collapsed": true
   },
   "outputs": [],
   "source": []
  },
  {
   "cell_type": "code",
   "execution_count": null,
   "metadata": {
    "collapsed": true
   },
   "outputs": [],
   "source": []
  },
  {
   "cell_type": "code",
   "execution_count": null,
   "metadata": {
    "collapsed": true
   },
   "outputs": [],
   "source": []
  },
  {
   "cell_type": "code",
   "execution_count": 58,
   "metadata": {
    "collapsed": true
   },
   "outputs": [],
   "source": [
    "tmp_p_df_p_unique.reset_index(drop=True, inplace=True)\n",
    "\n",
    "#add a position +1 column by copying the position datafram 1: and adding making position+1 for the last element\n",
    "# in the dataframe equal to its own value\n",
    "tmp_p_df_p_unique['position+1']= tmp_p_df_p_unique.loc[1:, 'position'].append(pd.Series(tmp_p_df_p_unique.loc[len(tmp_p_df_p_unique)-1, 'position'], index=[tmp_p_df_p_unique.index[-1]])).reset_index(drop=True)\n",
    "\n",
    "tmp_p_df_p_unique['position_diff+1'] = tmp_p_df_p_unique['position+1'] - tmp_p_df_p_unique['position']\n",
    "\n",
    "#add a position -1 column by copying the position datafram :len-2 and adding/making position-1 for the first element\n",
    "# in the dataframe equal to its own value\n",
    "position_1 = list(tmp_p_df_p_unique.loc[:len(tmp_p_df_p_unique)-2, 'position'])\n",
    "position_1.insert(0, tmp_p_df_p_unique.loc[0, 'position'])\n",
    "\n",
    "tmp_p_df_p_unique['position-1']= position_1\n",
    "\n",
    "tmp_p_df_p_unique['position_diff-1'] =  tmp_p_df_p_unique['position'] - tmp_p_df_p_unique['position-1']\n",
    "\n",
    "#tmp_p_df_p_unique.head()\n",
    "\n",
    "#start points of feature streatch => where previous position is more than 1 away\n",
    "#tmp_p_df_p_unique[tmp_p_df_p_unique['position_diff-1'] != 1 ].head()\n",
    "\n",
    "#this should be good  now as it flows double check and loop around to finish this off\n",
    "start_pos_index = tmp_p_df_p_unique[tmp_p_df_p_unique['position_diff-1'] != 1 ].index\n",
    "stop_pos_index = tmp_p_df_p_unique[tmp_p_df_p_unique['position_diff+1'] != 1 ].index\n",
    "\n",
    "contig_name_list = [tmp_p_df_p_unique['contig'].unique()[0]]*len(start_pos_index)\n",
    "\n",
    "#contig_name_list = [tmp_p_df_p_unique['contig'].unique()[0]]*(int(len(diff_index)/2))\n",
    "\n",
    "start_pos = [tmp_p_df_p_unique.loc[pos, 'position'] -1 for pos in start_pos_index]\n",
    "stop_pos = [tmp_p_df_p_unique.loc[pos, 'position']  for pos in stop_pos_index]\n",
    "\n",
    "p_unique_bed = pd.DataFrame([contig_name_list, start_pos, stop_pos]).T"
   ]
  },
  {
   "cell_type": "code",
   "execution_count": 84,
   "metadata": {
    "collapsed": false
   },
   "outputs": [
    {
     "data": {
      "text/html": [
       "<div>\n",
       "<table border=\"1\" class=\"dataframe\">\n",
       "  <thead>\n",
       "    <tr style=\"text-align: right;\">\n",
       "      <th></th>\n",
       "      <th>0</th>\n",
       "      <th>1</th>\n",
       "      <th>2</th>\n",
       "    </tr>\n",
       "  </thead>\n",
       "  <tbody>\n",
       "    <tr>\n",
       "      <th>0</th>\n",
       "      <td>pcontig_000</td>\n",
       "      <td>0</td>\n",
       "      <td>402</td>\n",
       "    </tr>\n",
       "    <tr>\n",
       "      <th>1</th>\n",
       "      <td>pcontig_000</td>\n",
       "      <td>66053</td>\n",
       "      <td>71654</td>\n",
       "    </tr>\n",
       "    <tr>\n",
       "      <th>2</th>\n",
       "      <td>pcontig_000</td>\n",
       "      <td>107272</td>\n",
       "      <td>107482</td>\n",
       "    </tr>\n",
       "    <tr>\n",
       "      <th>3</th>\n",
       "      <td>pcontig_000</td>\n",
       "      <td>121538</td>\n",
       "      <td>125694</td>\n",
       "    </tr>\n",
       "    <tr>\n",
       "      <th>4</th>\n",
       "      <td>pcontig_000</td>\n",
       "      <td>184751</td>\n",
       "      <td>187169</td>\n",
       "    </tr>\n",
       "    <tr>\n",
       "      <th>5</th>\n",
       "      <td>pcontig_000</td>\n",
       "      <td>195705</td>\n",
       "      <td>196096</td>\n",
       "    </tr>\n",
       "    <tr>\n",
       "      <th>6</th>\n",
       "      <td>pcontig_000</td>\n",
       "      <td>204713</td>\n",
       "      <td>208253</td>\n",
       "    </tr>\n",
       "    <tr>\n",
       "      <th>7</th>\n",
       "      <td>pcontig_000</td>\n",
       "      <td>226663</td>\n",
       "      <td>240230</td>\n",
       "    </tr>\n",
       "    <tr>\n",
       "      <th>8</th>\n",
       "      <td>pcontig_000</td>\n",
       "      <td>241988</td>\n",
       "      <td>242109</td>\n",
       "    </tr>\n",
       "    <tr>\n",
       "      <th>9</th>\n",
       "      <td>pcontig_000</td>\n",
       "      <td>242749</td>\n",
       "      <td>245334</td>\n",
       "    </tr>\n",
       "    <tr>\n",
       "      <th>10</th>\n",
       "      <td>pcontig_000</td>\n",
       "      <td>268271</td>\n",
       "      <td>268645</td>\n",
       "    </tr>\n",
       "    <tr>\n",
       "      <th>11</th>\n",
       "      <td>pcontig_000</td>\n",
       "      <td>272796</td>\n",
       "      <td>273894</td>\n",
       "    </tr>\n",
       "    <tr>\n",
       "      <th>12</th>\n",
       "      <td>pcontig_000</td>\n",
       "      <td>275315</td>\n",
       "      <td>275371</td>\n",
       "    </tr>\n",
       "    <tr>\n",
       "      <th>13</th>\n",
       "      <td>pcontig_000</td>\n",
       "      <td>286625</td>\n",
       "      <td>287285</td>\n",
       "    </tr>\n",
       "    <tr>\n",
       "      <th>14</th>\n",
       "      <td>pcontig_000</td>\n",
       "      <td>331017</td>\n",
       "      <td>331307</td>\n",
       "    </tr>\n",
       "    <tr>\n",
       "      <th>15</th>\n",
       "      <td>pcontig_000</td>\n",
       "      <td>344576</td>\n",
       "      <td>344911</td>\n",
       "    </tr>\n",
       "    <tr>\n",
       "      <th>16</th>\n",
       "      <td>pcontig_000</td>\n",
       "      <td>422155</td>\n",
       "      <td>423296</td>\n",
       "    </tr>\n",
       "    <tr>\n",
       "      <th>17</th>\n",
       "      <td>pcontig_000</td>\n",
       "      <td>426353</td>\n",
       "      <td>428484</td>\n",
       "    </tr>\n",
       "    <tr>\n",
       "      <th>18</th>\n",
       "      <td>pcontig_000</td>\n",
       "      <td>455017</td>\n",
       "      <td>456768</td>\n",
       "    </tr>\n",
       "    <tr>\n",
       "      <th>19</th>\n",
       "      <td>pcontig_000</td>\n",
       "      <td>457938</td>\n",
       "      <td>465723</td>\n",
       "    </tr>\n",
       "    <tr>\n",
       "      <th>20</th>\n",
       "      <td>pcontig_000</td>\n",
       "      <td>467615</td>\n",
       "      <td>477180</td>\n",
       "    </tr>\n",
       "    <tr>\n",
       "      <th>21</th>\n",
       "      <td>pcontig_000</td>\n",
       "      <td>478279</td>\n",
       "      <td>479021</td>\n",
       "    </tr>\n",
       "    <tr>\n",
       "      <th>22</th>\n",
       "      <td>pcontig_000</td>\n",
       "      <td>479941</td>\n",
       "      <td>482214</td>\n",
       "    </tr>\n",
       "    <tr>\n",
       "      <th>23</th>\n",
       "      <td>pcontig_000</td>\n",
       "      <td>482808</td>\n",
       "      <td>483581</td>\n",
       "    </tr>\n",
       "    <tr>\n",
       "      <th>24</th>\n",
       "      <td>pcontig_000</td>\n",
       "      <td>484939</td>\n",
       "      <td>485023</td>\n",
       "    </tr>\n",
       "    <tr>\n",
       "      <th>25</th>\n",
       "      <td>pcontig_000</td>\n",
       "      <td>485192</td>\n",
       "      <td>485439</td>\n",
       "    </tr>\n",
       "    <tr>\n",
       "      <th>26</th>\n",
       "      <td>pcontig_000</td>\n",
       "      <td>489534</td>\n",
       "      <td>491726</td>\n",
       "    </tr>\n",
       "    <tr>\n",
       "      <th>27</th>\n",
       "      <td>pcontig_000</td>\n",
       "      <td>493084</td>\n",
       "      <td>493203</td>\n",
       "    </tr>\n",
       "    <tr>\n",
       "      <th>28</th>\n",
       "      <td>pcontig_000</td>\n",
       "      <td>494933</td>\n",
       "      <td>495326</td>\n",
       "    </tr>\n",
       "    <tr>\n",
       "      <th>29</th>\n",
       "      <td>pcontig_000</td>\n",
       "      <td>495583</td>\n",
       "      <td>498683</td>\n",
       "    </tr>\n",
       "    <tr>\n",
       "      <th>...</th>\n",
       "      <td>...</td>\n",
       "      <td>...</td>\n",
       "      <td>...</td>\n",
       "    </tr>\n",
       "    <tr>\n",
       "      <th>173</th>\n",
       "      <td>pcontig_000</td>\n",
       "      <td>2548073</td>\n",
       "      <td>2548521</td>\n",
       "    </tr>\n",
       "    <tr>\n",
       "      <th>174</th>\n",
       "      <td>pcontig_000</td>\n",
       "      <td>2570864</td>\n",
       "      <td>2572187</td>\n",
       "    </tr>\n",
       "    <tr>\n",
       "      <th>175</th>\n",
       "      <td>pcontig_000</td>\n",
       "      <td>2586603</td>\n",
       "      <td>2586817</td>\n",
       "    </tr>\n",
       "    <tr>\n",
       "      <th>176</th>\n",
       "      <td>pcontig_000</td>\n",
       "      <td>2595442</td>\n",
       "      <td>2602397</td>\n",
       "    </tr>\n",
       "    <tr>\n",
       "      <th>177</th>\n",
       "      <td>pcontig_000</td>\n",
       "      <td>2605761</td>\n",
       "      <td>2608521</td>\n",
       "    </tr>\n",
       "    <tr>\n",
       "      <th>178</th>\n",
       "      <td>pcontig_000</td>\n",
       "      <td>2608864</td>\n",
       "      <td>2609120</td>\n",
       "    </tr>\n",
       "    <tr>\n",
       "      <th>179</th>\n",
       "      <td>pcontig_000</td>\n",
       "      <td>2610783</td>\n",
       "      <td>2612042</td>\n",
       "    </tr>\n",
       "    <tr>\n",
       "      <th>180</th>\n",
       "      <td>pcontig_000</td>\n",
       "      <td>2613039</td>\n",
       "      <td>2617941</td>\n",
       "    </tr>\n",
       "    <tr>\n",
       "      <th>181</th>\n",
       "      <td>pcontig_000</td>\n",
       "      <td>2620432</td>\n",
       "      <td>2621334</td>\n",
       "    </tr>\n",
       "    <tr>\n",
       "      <th>182</th>\n",
       "      <td>pcontig_000</td>\n",
       "      <td>2637398</td>\n",
       "      <td>2638185</td>\n",
       "    </tr>\n",
       "    <tr>\n",
       "      <th>183</th>\n",
       "      <td>pcontig_000</td>\n",
       "      <td>2643408</td>\n",
       "      <td>2643525</td>\n",
       "    </tr>\n",
       "    <tr>\n",
       "      <th>184</th>\n",
       "      <td>pcontig_000</td>\n",
       "      <td>2737279</td>\n",
       "      <td>2738204</td>\n",
       "    </tr>\n",
       "    <tr>\n",
       "      <th>185</th>\n",
       "      <td>pcontig_000</td>\n",
       "      <td>2753009</td>\n",
       "      <td>2753452</td>\n",
       "    </tr>\n",
       "    <tr>\n",
       "      <th>186</th>\n",
       "      <td>pcontig_000</td>\n",
       "      <td>2759200</td>\n",
       "      <td>2763054</td>\n",
       "    </tr>\n",
       "    <tr>\n",
       "      <th>187</th>\n",
       "      <td>pcontig_000</td>\n",
       "      <td>2774657</td>\n",
       "      <td>2776520</td>\n",
       "    </tr>\n",
       "    <tr>\n",
       "      <th>188</th>\n",
       "      <td>pcontig_000</td>\n",
       "      <td>2780920</td>\n",
       "      <td>2781551</td>\n",
       "    </tr>\n",
       "    <tr>\n",
       "      <th>189</th>\n",
       "      <td>pcontig_000</td>\n",
       "      <td>2783434</td>\n",
       "      <td>2785975</td>\n",
       "    </tr>\n",
       "    <tr>\n",
       "      <th>190</th>\n",
       "      <td>pcontig_000</td>\n",
       "      <td>2790759</td>\n",
       "      <td>2792460</td>\n",
       "    </tr>\n",
       "    <tr>\n",
       "      <th>191</th>\n",
       "      <td>pcontig_000</td>\n",
       "      <td>2792568</td>\n",
       "      <td>2793207</td>\n",
       "    </tr>\n",
       "    <tr>\n",
       "      <th>192</th>\n",
       "      <td>pcontig_000</td>\n",
       "      <td>2799477</td>\n",
       "      <td>2800242</td>\n",
       "    </tr>\n",
       "    <tr>\n",
       "      <th>193</th>\n",
       "      <td>pcontig_000</td>\n",
       "      <td>2806793</td>\n",
       "      <td>2807409</td>\n",
       "    </tr>\n",
       "    <tr>\n",
       "      <th>194</th>\n",
       "      <td>pcontig_000</td>\n",
       "      <td>2866612</td>\n",
       "      <td>2866832</td>\n",
       "    </tr>\n",
       "    <tr>\n",
       "      <th>195</th>\n",
       "      <td>pcontig_000</td>\n",
       "      <td>2894263</td>\n",
       "      <td>2895097</td>\n",
       "    </tr>\n",
       "    <tr>\n",
       "      <th>196</th>\n",
       "      <td>pcontig_000</td>\n",
       "      <td>2903852</td>\n",
       "      <td>2904071</td>\n",
       "    </tr>\n",
       "    <tr>\n",
       "      <th>197</th>\n",
       "      <td>pcontig_000</td>\n",
       "      <td>2946468</td>\n",
       "      <td>2946544</td>\n",
       "    </tr>\n",
       "    <tr>\n",
       "      <th>198</th>\n",
       "      <td>pcontig_000</td>\n",
       "      <td>2951562</td>\n",
       "      <td>2952075</td>\n",
       "    </tr>\n",
       "    <tr>\n",
       "      <th>199</th>\n",
       "      <td>pcontig_000</td>\n",
       "      <td>2981406</td>\n",
       "      <td>2983936</td>\n",
       "    </tr>\n",
       "    <tr>\n",
       "      <th>200</th>\n",
       "      <td>pcontig_000</td>\n",
       "      <td>3025669</td>\n",
       "      <td>3027706</td>\n",
       "    </tr>\n",
       "    <tr>\n",
       "      <th>201</th>\n",
       "      <td>pcontig_000</td>\n",
       "      <td>3028311</td>\n",
       "      <td>3055314</td>\n",
       "    </tr>\n",
       "    <tr>\n",
       "      <th>202</th>\n",
       "      <td>pcontig_000</td>\n",
       "      <td>3055860</td>\n",
       "      <td>3073024</td>\n",
       "    </tr>\n",
       "  </tbody>\n",
       "</table>\n",
       "<p>203 rows × 3 columns</p>\n",
       "</div>"
      ],
      "text/plain": [
       "               0        1        2\n",
       "0    pcontig_000        0      402\n",
       "1    pcontig_000    66053    71654\n",
       "2    pcontig_000   107272   107482\n",
       "3    pcontig_000   121538   125694\n",
       "4    pcontig_000   184751   187169\n",
       "5    pcontig_000   195705   196096\n",
       "6    pcontig_000   204713   208253\n",
       "7    pcontig_000   226663   240230\n",
       "8    pcontig_000   241988   242109\n",
       "9    pcontig_000   242749   245334\n",
       "10   pcontig_000   268271   268645\n",
       "11   pcontig_000   272796   273894\n",
       "12   pcontig_000   275315   275371\n",
       "13   pcontig_000   286625   287285\n",
       "14   pcontig_000   331017   331307\n",
       "15   pcontig_000   344576   344911\n",
       "16   pcontig_000   422155   423296\n",
       "17   pcontig_000   426353   428484\n",
       "18   pcontig_000   455017   456768\n",
       "19   pcontig_000   457938   465723\n",
       "20   pcontig_000   467615   477180\n",
       "21   pcontig_000   478279   479021\n",
       "22   pcontig_000   479941   482214\n",
       "23   pcontig_000   482808   483581\n",
       "24   pcontig_000   484939   485023\n",
       "25   pcontig_000   485192   485439\n",
       "26   pcontig_000   489534   491726\n",
       "27   pcontig_000   493084   493203\n",
       "28   pcontig_000   494933   495326\n",
       "29   pcontig_000   495583   498683\n",
       "..           ...      ...      ...\n",
       "173  pcontig_000  2548073  2548521\n",
       "174  pcontig_000  2570864  2572187\n",
       "175  pcontig_000  2586603  2586817\n",
       "176  pcontig_000  2595442  2602397\n",
       "177  pcontig_000  2605761  2608521\n",
       "178  pcontig_000  2608864  2609120\n",
       "179  pcontig_000  2610783  2612042\n",
       "180  pcontig_000  2613039  2617941\n",
       "181  pcontig_000  2620432  2621334\n",
       "182  pcontig_000  2637398  2638185\n",
       "183  pcontig_000  2643408  2643525\n",
       "184  pcontig_000  2737279  2738204\n",
       "185  pcontig_000  2753009  2753452\n",
       "186  pcontig_000  2759200  2763054\n",
       "187  pcontig_000  2774657  2776520\n",
       "188  pcontig_000  2780920  2781551\n",
       "189  pcontig_000  2783434  2785975\n",
       "190  pcontig_000  2790759  2792460\n",
       "191  pcontig_000  2792568  2793207\n",
       "192  pcontig_000  2799477  2800242\n",
       "193  pcontig_000  2806793  2807409\n",
       "194  pcontig_000  2866612  2866832\n",
       "195  pcontig_000  2894263  2895097\n",
       "196  pcontig_000  2903852  2904071\n",
       "197  pcontig_000  2946468  2946544\n",
       "198  pcontig_000  2951562  2952075\n",
       "199  pcontig_000  2981406  2983936\n",
       "200  pcontig_000  3025669  3027706\n",
       "201  pcontig_000  3028311  3055314\n",
       "202  pcontig_000  3055860  3073024\n",
       "\n",
       "[203 rows x 3 columns]"
      ]
     },
     "execution_count": 84,
     "metadata": {},
     "output_type": "execute_result"
    }
   ],
   "source": [
    "p_unique_bed "
   ]
  },
  {
   "cell_type": "code",
   "execution_count": null,
   "metadata": {
    "collapsed": false
   },
   "outputs": [],
   "source": [
    "tmp_p_df_p_unique[tmp_p_df_p_unique['position_diff'] > 1]"
   ]
  },
  {
   "cell_type": "code",
   "execution_count": null,
   "metadata": {
    "collapsed": false
   },
   "outputs": [],
   "source": [
    "tmp_p_df_p_unique"
   ]
  },
  {
   "cell_type": "code",
   "execution_count": null,
   "metadata": {
    "collapsed": true
   },
   "outputs": [],
   "source": []
  },
  {
   "cell_type": "code",
   "execution_count": null,
   "metadata": {
    "collapsed": false
   },
   "outputs": [],
   "source": [
    "tmp_p_df_p_unique.loc[1:, 'position'].append(pd.Series(tmp_p_df_p_unique.loc[len(tmp_p_df_p_unique)-2, 'position'], index=[tmp_p_df_p_unique.index[-1]+1]))"
   ]
  },
  {
   "cell_type": "code",
   "execution_count": null,
   "metadata": {
    "collapsed": false
   },
   "outputs": [],
   "source": [
    "tmp_p_df_p_unique"
   ]
  },
  {
   "cell_type": "code",
   "execution_count": null,
   "metadata": {
    "collapsed": true
   },
   "outputs": [],
   "source": []
  },
  {
   "cell_type": "code",
   "execution_count": null,
   "metadata": {
    "collapsed": true
   },
   "outputs": [],
   "source": [
    "tmp_p_df_p_unique.reset_index(drop=True).loc[1:, 'position']"
   ]
  },
  {
   "cell_type": "code",
   "execution_count": null,
   "metadata": {
    "collapsed": true
   },
   "outputs": [],
   "source": [
    "tmp_p_df_p_unique.reset_index(drop=True)"
   ]
  },
  {
   "cell_type": "code",
   "execution_count": null,
   "metadata": {
    "collapsed": false
   },
   "outputs": [],
   "source": [
    "tmp_p_df_p_unique.reset_index(drop=True).loc[1:, 'position']"
   ]
  },
  {
   "cell_type": "code",
   "execution_count": null,
   "metadata": {
    "collapsed": false
   },
   "outputs": [],
   "source": [
    "tmp_p_df_p_unique.reset_index(drop=True).loc[1:, 'position'] - tmp_p_df_p_unique['position']"
   ]
  },
  {
   "cell_type": "code",
   "execution_count": 48,
   "metadata": {
    "collapsed": false
   },
   "outputs": [
    {
     "data": {
      "text/plain": [
       "<matplotlib.axes._subplots.AxesSubplot at 0x7f2644eabcf8>"
      ]
     },
     "execution_count": 48,
     "metadata": {},
     "output_type": "execute_result"
    },
    {
     "data": {
      "image/png": "[encoded data removed]",
      "text/plain": [
       "<matplotlib.figure.Figure at 0x7f2644eab710>"
      ]
     },
     "metadata": {},
     "output_type": "display_data"
    }
   ],
   "source": [
    "tmp_p_df['Rolling_w1000_p'].plot(alpha=0.5, color='r')\n",
    "tmp_p_df_ph['Rolling_w1000_ph_p'].plot(alpha=0.5, color='g')"
   ]
  },
  {
   "cell_type": "code",
   "execution_count": 49,
   "metadata": {
    "collapsed": false
   },
   "outputs": [
    {
     "data": {
      "text/plain": [
       "<matplotlib.axes._subplots.AxesSubplot at 0x7f2644eafa90>"
      ]
     },
     "execution_count": 49,
     "metadata": {},
     "output_type": "execute_result"
    },
    {
     "data": {
      "image/png": "[encoded data removed]",
      "text/plain": [
       "<matplotlib.figure.Figure at 0x7f26429278d0>"
      ]
     },
     "metadata": {},
     "output_type": "display_data"
    }
   ],
   "source": [
    "tmp_p_df['Rolling_w10000_p'].plot(alpha=0.5, color='r')\n",
    "tmp_p_df_ph['Rolling_w10000_ph_p'].plot(alpha=0.5, color='g')"
   ]
  },
  {
   "cell_type": "code",
   "execution_count": 55,
   "metadata": {
    "collapsed": true
   },
   "outputs": [],
   "source": [
    "r = tmp_p_df.rolling(window=10000, min_periods=1)\n",
    "r_ph = tmp_p_df_ph.rolling(window=10000, min_periods=1)"
   ]
  },
  {
   "cell_type": "code",
   "execution_count": 56,
   "metadata": {
    "collapsed": false
   },
   "outputs": [
    {
     "ename": "ValueError",
     "evalue": "could not convert string to float: 'pcontig_000'",
     "output_type": "error",
     "traceback": [
      "\u001b[1;31m---------------------------------------------------------------------------\u001b[0m",
      "\u001b[1;31mValueError\u001b[0m                                Traceback (most recent call last)",
      "\u001b[1;32m<ipython-input-56-d109405b318e>\u001b[0m in \u001b[0;36m<module>\u001b[1;34m()\u001b[0m\n\u001b[1;32m----> 1\u001b[1;33m \u001b[0mr\u001b[0m\u001b[1;33m.\u001b[0m\u001b[0mcorr\u001b[0m\u001b[1;33m(\u001b[0m\u001b[0mr_ph\u001b[0m\u001b[1;33m)\u001b[0m\u001b[1;33m\u001b[0m\u001b[0m\n\u001b[0m",
      "\u001b[1;32m/home/benjamin/anaconda3/lib/python3.5/site-packages/pandas/core/window.py\u001b[0m in \u001b[0;36mcorr\u001b[1;34m(self, other, pairwise, **kwargs)\u001b[0m\n\u001b[0;32m   1162\u001b[0m     \u001b[1;32mdef\u001b[0m \u001b[0mcorr\u001b[0m\u001b[1;33m(\u001b[0m\u001b[0mself\u001b[0m\u001b[1;33m,\u001b[0m \u001b[0mother\u001b[0m\u001b[1;33m=\u001b[0m\u001b[1;32mNone\u001b[0m\u001b[1;33m,\u001b[0m \u001b[0mpairwise\u001b[0m\u001b[1;33m=\u001b[0m\u001b[1;32mNone\u001b[0m\u001b[1;33m,\u001b[0m \u001b[1;33m**\u001b[0m\u001b[0mkwargs\u001b[0m\u001b[1;33m)\u001b[0m\u001b[1;33m:\u001b[0m\u001b[1;33m\u001b[0m\u001b[0m\n\u001b[0;32m   1163\u001b[0m         return super(Rolling, self).corr(other=other, pairwise=pairwise,\n\u001b[1;32m-> 1164\u001b[1;33m                                          **kwargs)\n\u001b[0m\u001b[0;32m   1165\u001b[0m \u001b[1;33m\u001b[0m\u001b[0m\n\u001b[0;32m   1166\u001b[0m \u001b[1;33m\u001b[0m\u001b[0m\n",
      "\u001b[1;32m/home/benjamin/anaconda3/lib/python3.5/site-packages/pandas/core/window.py\u001b[0m in \u001b[0;36mcorr\u001b[1;34m(self, other, pairwise, **kwargs)\u001b[0m\n\u001b[0;32m    994\u001b[0m \u001b[1;33m\u001b[0m\u001b[0m\n\u001b[0;32m    995\u001b[0m         return _flex_binary_moment(self._selected_obj, other._selected_obj,\n\u001b[1;32m--> 996\u001b[1;33m                                    _get_corr, pairwise=bool(pairwise))\n\u001b[0m\u001b[0;32m    997\u001b[0m \u001b[1;33m\u001b[0m\u001b[0m\n\u001b[0;32m    998\u001b[0m \u001b[1;33m\u001b[0m\u001b[0m\n",
      "\u001b[1;32m/home/benjamin/anaconda3/lib/python3.5/site-packages/pandas/core/window.py\u001b[0m in \u001b[0;36m_flex_binary_moment\u001b[1;34m(arg1, arg2, f, pairwise)\u001b[0m\n\u001b[0;32m   1671\u001b[0m                     \u001b[1;32mfor\u001b[0m \u001b[0mcol\u001b[0m \u001b[1;32min\u001b[0m \u001b[0mres_columns\u001b[0m\u001b[1;33m:\u001b[0m\u001b[1;33m\u001b[0m\u001b[0m\n\u001b[0;32m   1672\u001b[0m                         \u001b[1;32mif\u001b[0m \u001b[0mcol\u001b[0m \u001b[1;32min\u001b[0m \u001b[0mX\u001b[0m \u001b[1;32mand\u001b[0m \u001b[0mcol\u001b[0m \u001b[1;32min\u001b[0m \u001b[0mY\u001b[0m\u001b[1;33m:\u001b[0m\u001b[1;33m\u001b[0m\u001b[0m\n\u001b[1;32m-> 1673\u001b[1;33m                             \u001b[0mresults\u001b[0m\u001b[1;33m[\u001b[0m\u001b[0mcol\u001b[0m\u001b[1;33m]\u001b[0m \u001b[1;33m=\u001b[0m \u001b[0mf\u001b[0m\u001b[1;33m(\u001b[0m\u001b[0mX\u001b[0m\u001b[1;33m[\u001b[0m\u001b[0mcol\u001b[0m\u001b[1;33m]\u001b[0m\u001b[1;33m,\u001b[0m \u001b[0mY\u001b[0m\u001b[1;33m[\u001b[0m\u001b[0mcol\u001b[0m\u001b[1;33m]\u001b[0m\u001b[1;33m)\u001b[0m\u001b[1;33m\u001b[0m\u001b[0m\n\u001b[0m\u001b[0;32m   1674\u001b[0m                     return DataFrame(results, index=X.index,\n\u001b[0;32m   1675\u001b[0m                                      columns=res_columns)\n",
      "\u001b[1;32m/home/benjamin/anaconda3/lib/python3.5/site-packages/pandas/core/window.py\u001b[0m in \u001b[0;36m_get_corr\u001b[1;34m(a, b)\u001b[0m\n\u001b[0;32m    991\u001b[0m                           freq=self.freq, center=self.center)\n\u001b[0;32m    992\u001b[0m \u001b[1;33m\u001b[0m\u001b[0m\n\u001b[1;32m--> 993\u001b[1;33m             \u001b[1;32mreturn\u001b[0m \u001b[0ma\u001b[0m\u001b[1;33m.\u001b[0m\u001b[0mcov\u001b[0m\u001b[1;33m(\u001b[0m\u001b[0mb\u001b[0m\u001b[1;33m,\u001b[0m \u001b[1;33m**\u001b[0m\u001b[0mkwargs\u001b[0m\u001b[1;33m)\u001b[0m \u001b[1;33m/\u001b[0m \u001b[1;33m(\u001b[0m\u001b[0ma\u001b[0m\u001b[1;33m.\u001b[0m\u001b[0mstd\u001b[0m\u001b[1;33m(\u001b[0m\u001b[1;33m**\u001b[0m\u001b[0mkwargs\u001b[0m\u001b[1;33m)\u001b[0m \u001b[1;33m*\u001b[0m \u001b[0mb\u001b[0m\u001b[1;33m.\u001b[0m\u001b[0mstd\u001b[0m\u001b[1;33m(\u001b[0m\u001b[1;33m**\u001b[0m\u001b[0mkwargs\u001b[0m\u001b[1;33m)\u001b[0m\u001b[1;33m)\u001b[0m\u001b[1;33m\u001b[0m\u001b[0m\n\u001b[0m\u001b[0;32m    994\u001b[0m \u001b[1;33m\u001b[0m\u001b[0m\n\u001b[0;32m    995\u001b[0m         return _flex_binary_moment(self._selected_obj, other._selected_obj,\n",
      "\u001b[1;32m/home/benjamin/anaconda3/lib/python3.5/site-packages/pandas/core/window.py\u001b[0m in \u001b[0;36mcov\u001b[1;34m(self, other, pairwise, ddof, **kwargs)\u001b[0m\n\u001b[0;32m   1155\u001b[0m     \u001b[1;32mdef\u001b[0m \u001b[0mcov\u001b[0m\u001b[1;33m(\u001b[0m\u001b[0mself\u001b[0m\u001b[1;33m,\u001b[0m \u001b[0mother\u001b[0m\u001b[1;33m=\u001b[0m\u001b[1;32mNone\u001b[0m\u001b[1;33m,\u001b[0m \u001b[0mpairwise\u001b[0m\u001b[1;33m=\u001b[0m\u001b[1;32mNone\u001b[0m\u001b[1;33m,\u001b[0m \u001b[0mddof\u001b[0m\u001b[1;33m=\u001b[0m\u001b[1;36m1\u001b[0m\u001b[1;33m,\u001b[0m \u001b[1;33m**\u001b[0m\u001b[0mkwargs\u001b[0m\u001b[1;33m)\u001b[0m\u001b[1;33m:\u001b[0m\u001b[1;33m\u001b[0m\u001b[0m\n\u001b[0;32m   1156\u001b[0m         return super(Rolling, self).cov(other=other, pairwise=pairwise,\n\u001b[1;32m-> 1157\u001b[1;33m                                         ddof=ddof, **kwargs)\n\u001b[0m\u001b[0;32m   1158\u001b[0m \u001b[1;33m\u001b[0m\u001b[0m\n\u001b[0;32m   1159\u001b[0m     \u001b[1;33m@\u001b[0m\u001b[0mSubstitution\u001b[0m\u001b[1;33m(\u001b[0m\u001b[0mname\u001b[0m\u001b[1;33m=\u001b[0m\u001b[1;34m'rolling'\u001b[0m\u001b[1;33m)\u001b[0m\u001b[1;33m\u001b[0m\u001b[0m\n",
      "\u001b[1;32m/home/benjamin/anaconda3/lib/python3.5/site-packages/pandas/core/window.py\u001b[0m in \u001b[0;36mcov\u001b[1;34m(self, other, pairwise, ddof, **kwargs)\u001b[0m\n\u001b[0;32m    961\u001b[0m \u001b[1;33m\u001b[0m\u001b[0m\n\u001b[0;32m    962\u001b[0m         return _flex_binary_moment(self._selected_obj, other._selected_obj,\n\u001b[1;32m--> 963\u001b[1;33m                                    _get_cov, pairwise=bool(pairwise))\n\u001b[0m\u001b[0;32m    964\u001b[0m \u001b[1;33m\u001b[0m\u001b[0m\n\u001b[0;32m    965\u001b[0m     _shared_docs['corr'] = dedent(\"\"\"\n",
      "\u001b[1;32m/home/benjamin/anaconda3/lib/python3.5/site-packages/pandas/core/window.py\u001b[0m in \u001b[0;36m_flex_binary_moment\u001b[1;34m(arg1, arg2, f, pairwise)\u001b[0m\n\u001b[0;32m   1642\u001b[0m             isinstance(arg2, (np.ndarray, Series))):\n\u001b[0;32m   1643\u001b[0m         \u001b[0mX\u001b[0m\u001b[1;33m,\u001b[0m \u001b[0mY\u001b[0m \u001b[1;33m=\u001b[0m \u001b[0m_prep_binary\u001b[0m\u001b[1;33m(\u001b[0m\u001b[0marg1\u001b[0m\u001b[1;33m,\u001b[0m \u001b[0marg2\u001b[0m\u001b[1;33m)\u001b[0m\u001b[1;33m\u001b[0m\u001b[0m\n\u001b[1;32m-> 1644\u001b[1;33m         \u001b[1;32mreturn\u001b[0m \u001b[0mf\u001b[0m\u001b[1;33m(\u001b[0m\u001b[0mX\u001b[0m\u001b[1;33m,\u001b[0m \u001b[0mY\u001b[0m\u001b[1;33m)\u001b[0m\u001b[1;33m\u001b[0m\u001b[0m\n\u001b[0m\u001b[0;32m   1645\u001b[0m \u001b[1;33m\u001b[0m\u001b[0m\n\u001b[0;32m   1646\u001b[0m     \u001b[1;32melif\u001b[0m \u001b[0misinstance\u001b[0m\u001b[1;33m(\u001b[0m\u001b[0marg1\u001b[0m\u001b[1;33m,\u001b[0m \u001b[0mDataFrame\u001b[0m\u001b[1;33m)\u001b[0m\u001b[1;33m:\u001b[0m\u001b[1;33m\u001b[0m\u001b[0m\n",
      "\u001b[1;32m/home/benjamin/anaconda3/lib/python3.5/site-packages/pandas/core/window.py\u001b[0m in \u001b[0;36m_get_cov\u001b[1;34m(X, Y)\u001b[0m\n\u001b[0;32m    951\u001b[0m             \u001b[1;31m# GH #12373 : rolling functions error on float32 data\u001b[0m\u001b[1;33m\u001b[0m\u001b[1;33m\u001b[0m\u001b[0m\n\u001b[0;32m    952\u001b[0m             \u001b[1;31m# to avoid potential overflow, cast the data to float64\u001b[0m\u001b[1;33m\u001b[0m\u001b[1;33m\u001b[0m\u001b[0m\n\u001b[1;32m--> 953\u001b[1;33m             \u001b[0mX\u001b[0m \u001b[1;33m=\u001b[0m \u001b[0mX\u001b[0m\u001b[1;33m.\u001b[0m\u001b[0mastype\u001b[0m\u001b[1;33m(\u001b[0m\u001b[1;34m'float64'\u001b[0m\u001b[1;33m)\u001b[0m\u001b[1;33m\u001b[0m\u001b[0m\n\u001b[0m\u001b[0;32m    954\u001b[0m             \u001b[0mY\u001b[0m \u001b[1;33m=\u001b[0m \u001b[0mY\u001b[0m\u001b[1;33m.\u001b[0m\u001b[0mastype\u001b[0m\u001b[1;33m(\u001b[0m\u001b[1;34m'float64'\u001b[0m\u001b[1;33m)\u001b[0m\u001b[1;33m\u001b[0m\u001b[0m\n\u001b[0;32m    955\u001b[0m             mean = lambda x: x.rolling(window, self.min_periods,\n",
      "\u001b[1;32m/home/benjamin/anaconda3/lib/python3.5/site-packages/pandas/core/generic.py\u001b[0m in \u001b[0;36mastype\u001b[1;34m(self, dtype, copy, raise_on_error, **kwargs)\u001b[0m\n\u001b[0;32m   3052\u001b[0m         \u001b[1;31m# else, only a single dtype is given\u001b[0m\u001b[1;33m\u001b[0m\u001b[1;33m\u001b[0m\u001b[0m\n\u001b[0;32m   3053\u001b[0m         new_data = self._data.astype(dtype=dtype, copy=copy,\n\u001b[1;32m-> 3054\u001b[1;33m                                      raise_on_error=raise_on_error, **kwargs)\n\u001b[0m\u001b[0;32m   3055\u001b[0m         \u001b[1;32mreturn\u001b[0m \u001b[0mself\u001b[0m\u001b[1;33m.\u001b[0m\u001b[0m_constructor\u001b[0m\u001b[1;33m(\u001b[0m\u001b[0mnew_data\u001b[0m\u001b[1;33m)\u001b[0m\u001b[1;33m.\u001b[0m\u001b[0m__finalize__\u001b[0m\u001b[1;33m(\u001b[0m\u001b[0mself\u001b[0m\u001b[1;33m)\u001b[0m\u001b[1;33m\u001b[0m\u001b[0m\n\u001b[0;32m   3056\u001b[0m \u001b[1;33m\u001b[0m\u001b[0m\n",
      "\u001b[1;32m/home/benjamin/anaconda3/lib/python3.5/site-packages/pandas/core/internals.py\u001b[0m in \u001b[0;36mastype\u001b[1;34m(self, dtype, **kwargs)\u001b[0m\n\u001b[0;32m   3187\u001b[0m \u001b[1;33m\u001b[0m\u001b[0m\n\u001b[0;32m   3188\u001b[0m     \u001b[1;32mdef\u001b[0m \u001b[0mastype\u001b[0m\u001b[1;33m(\u001b[0m\u001b[0mself\u001b[0m\u001b[1;33m,\u001b[0m \u001b[0mdtype\u001b[0m\u001b[1;33m,\u001b[0m \u001b[1;33m**\u001b[0m\u001b[0mkwargs\u001b[0m\u001b[1;33m)\u001b[0m\u001b[1;33m:\u001b[0m\u001b[1;33m\u001b[0m\u001b[0m\n\u001b[1;32m-> 3189\u001b[1;33m         \u001b[1;32mreturn\u001b[0m \u001b[0mself\u001b[0m\u001b[1;33m.\u001b[0m\u001b[0mapply\u001b[0m\u001b[1;33m(\u001b[0m\u001b[1;34m'astype'\u001b[0m\u001b[1;33m,\u001b[0m \u001b[0mdtype\u001b[0m\u001b[1;33m=\u001b[0m\u001b[0mdtype\u001b[0m\u001b[1;33m,\u001b[0m \u001b[1;33m**\u001b[0m\u001b[0mkwargs\u001b[0m\u001b[1;33m)\u001b[0m\u001b[1;33m\u001b[0m\u001b[0m\n\u001b[0m\u001b[0;32m   3190\u001b[0m \u001b[1;33m\u001b[0m\u001b[0m\n\u001b[0;32m   3191\u001b[0m     \u001b[1;32mdef\u001b[0m \u001b[0mconvert\u001b[0m\u001b[1;33m(\u001b[0m\u001b[0mself\u001b[0m\u001b[1;33m,\u001b[0m \u001b[1;33m**\u001b[0m\u001b[0mkwargs\u001b[0m\u001b[1;33m)\u001b[0m\u001b[1;33m:\u001b[0m\u001b[1;33m\u001b[0m\u001b[0m\n",
      "\u001b[1;32m/home/benjamin/anaconda3/lib/python3.5/site-packages/pandas/core/internals.py\u001b[0m in \u001b[0;36mapply\u001b[1;34m(self, f, axes, filter, do_integrity_check, consolidate, **kwargs)\u001b[0m\n\u001b[0;32m   3054\u001b[0m \u001b[1;33m\u001b[0m\u001b[0m\n\u001b[0;32m   3055\u001b[0m             \u001b[0mkwargs\u001b[0m\u001b[1;33m[\u001b[0m\u001b[1;34m'mgr'\u001b[0m\u001b[1;33m]\u001b[0m \u001b[1;33m=\u001b[0m \u001b[0mself\u001b[0m\u001b[1;33m\u001b[0m\u001b[0m\n\u001b[1;32m-> 3056\u001b[1;33m             \u001b[0mapplied\u001b[0m \u001b[1;33m=\u001b[0m \u001b[0mgetattr\u001b[0m\u001b[1;33m(\u001b[0m\u001b[0mb\u001b[0m\u001b[1;33m,\u001b[0m \u001b[0mf\u001b[0m\u001b[1;33m)\u001b[0m\u001b[1;33m(\u001b[0m\u001b[1;33m**\u001b[0m\u001b[0mkwargs\u001b[0m\u001b[1;33m)\u001b[0m\u001b[1;33m\u001b[0m\u001b[0m\n\u001b[0m\u001b[0;32m   3057\u001b[0m             \u001b[0mresult_blocks\u001b[0m \u001b[1;33m=\u001b[0m \u001b[0m_extend_blocks\u001b[0m\u001b[1;33m(\u001b[0m\u001b[0mapplied\u001b[0m\u001b[1;33m,\u001b[0m \u001b[0mresult_blocks\u001b[0m\u001b[1;33m)\u001b[0m\u001b[1;33m\u001b[0m\u001b[0m\n\u001b[0;32m   3058\u001b[0m \u001b[1;33m\u001b[0m\u001b[0m\n",
      "\u001b[1;32m/home/benjamin/anaconda3/lib/python3.5/site-packages/pandas/core/internals.py\u001b[0m in \u001b[0;36mastype\u001b[1;34m(self, dtype, copy, raise_on_error, values, **kwargs)\u001b[0m\n\u001b[0;32m    459\u001b[0m                **kwargs):\n\u001b[0;32m    460\u001b[0m         return self._astype(dtype, copy=copy, raise_on_error=raise_on_error,\n\u001b[1;32m--> 461\u001b[1;33m                             values=values, **kwargs)\n\u001b[0m\u001b[0;32m    462\u001b[0m \u001b[1;33m\u001b[0m\u001b[0m\n\u001b[0;32m    463\u001b[0m     def _astype(self, dtype, copy=False, raise_on_error=True, values=None,\n",
      "\u001b[1;32m/home/benjamin/anaconda3/lib/python3.5/site-packages/pandas/core/internals.py\u001b[0m in \u001b[0;36m_astype\u001b[1;34m(self, dtype, copy, raise_on_error, values, klass, mgr, **kwargs)\u001b[0m\n\u001b[0;32m    502\u001b[0m \u001b[1;33m\u001b[0m\u001b[0m\n\u001b[0;32m    503\u001b[0m                 \u001b[1;31m# _astype_nansafe works fine with 1-d only\u001b[0m\u001b[1;33m\u001b[0m\u001b[1;33m\u001b[0m\u001b[0m\n\u001b[1;32m--> 504\u001b[1;33m                 \u001b[0mvalues\u001b[0m \u001b[1;33m=\u001b[0m \u001b[0m_astype_nansafe\u001b[0m\u001b[1;33m(\u001b[0m\u001b[0mvalues\u001b[0m\u001b[1;33m.\u001b[0m\u001b[0mravel\u001b[0m\u001b[1;33m(\u001b[0m\u001b[1;33m)\u001b[0m\u001b[1;33m,\u001b[0m \u001b[0mdtype\u001b[0m\u001b[1;33m,\u001b[0m \u001b[0mcopy\u001b[0m\u001b[1;33m=\u001b[0m\u001b[1;32mTrue\u001b[0m\u001b[1;33m)\u001b[0m\u001b[1;33m\u001b[0m\u001b[0m\n\u001b[0m\u001b[0;32m    505\u001b[0m                 \u001b[0mvalues\u001b[0m \u001b[1;33m=\u001b[0m \u001b[0mvalues\u001b[0m\u001b[1;33m.\u001b[0m\u001b[0mreshape\u001b[0m\u001b[1;33m(\u001b[0m\u001b[0mself\u001b[0m\u001b[1;33m.\u001b[0m\u001b[0mshape\u001b[0m\u001b[1;33m)\u001b[0m\u001b[1;33m\u001b[0m\u001b[0m\n\u001b[0;32m    506\u001b[0m \u001b[1;33m\u001b[0m\u001b[0m\n",
      "\u001b[1;32m/home/benjamin/anaconda3/lib/python3.5/site-packages/pandas/types/cast.py\u001b[0m in \u001b[0;36m_astype_nansafe\u001b[1;34m(arr, dtype, copy)\u001b[0m\n\u001b[0;32m    535\u001b[0m \u001b[1;33m\u001b[0m\u001b[0m\n\u001b[0;32m    536\u001b[0m     \u001b[1;32mif\u001b[0m \u001b[0mcopy\u001b[0m\u001b[1;33m:\u001b[0m\u001b[1;33m\u001b[0m\u001b[0m\n\u001b[1;32m--> 537\u001b[1;33m         \u001b[1;32mreturn\u001b[0m \u001b[0marr\u001b[0m\u001b[1;33m.\u001b[0m\u001b[0mastype\u001b[0m\u001b[1;33m(\u001b[0m\u001b[0mdtype\u001b[0m\u001b[1;33m)\u001b[0m\u001b[1;33m\u001b[0m\u001b[0m\n\u001b[0m\u001b[0;32m    538\u001b[0m     \u001b[1;32mreturn\u001b[0m \u001b[0marr\u001b[0m\u001b[1;33m.\u001b[0m\u001b[0mview\u001b[0m\u001b[1;33m(\u001b[0m\u001b[0mdtype\u001b[0m\u001b[1;33m)\u001b[0m\u001b[1;33m\u001b[0m\u001b[0m\n\u001b[0;32m    539\u001b[0m \u001b[1;33m\u001b[0m\u001b[0m\n",
      "\u001b[1;31mValueError\u001b[0m: could not convert string to float: 'pcontig_000'"
     ]
    }
   ],
   "source": [
    "r.corr(r_ph)"
   ]
  },
  {
   "cell_type": "code",
   "execution_count": 87,
   "metadata": {
    "collapsed": false
   },
   "outputs": [
    {
     "name": "stderr",
     "output_type": "stream",
     "text": [
      "/home/benjamin/anaconda3/lib/python3.5/site-packages/ipykernel/__main__.py:1: FutureWarning: pd.rolling_corr is deprecated for Series and will be removed in a future version, replace with \n",
      "\tSeries.rolling(window=10000).corr(other=<Series>)\n",
      "  if __name__ == '__main__':\n"
     ]
    },
    {
     "data": {
      "text/plain": [
       "<matplotlib.axes._subplots.AxesSubplot at 0x7fed47644da0>"
      ]
     },
     "execution_count": 87,
     "metadata": {},
     "output_type": "execute_result"
    },
    {
     "data": {
      "image/png": "[encoded data removed]",
      "text/plain": [
       "<matplotlib.figure.Figure at 0x7fed47664c88>"
      ]
     },
     "metadata": {},
     "output_type": "display_data"
    }
   ],
   "source": [
    "pd.rolling_corr(tmp_p_df['coverage'], tmp_p_df_ph['coverage'], window=10000).plot()"
   ]
  },
  {
   "cell_type": "code",
   "execution_count": 79,
   "metadata": {
    "collapsed": false
   },
   "outputs": [
    {
     "data": {
      "text/plain": [
       "19.986982756042035"
      ]
     },
     "execution_count": 79,
     "metadata": {},
     "output_type": "execute_result"
    }
   ],
   "source": [
    "tmp_p_df['Rolling_w10000'].cov(tmp_p_df_ph['Rolling_w10000'])"
   ]
  },
  {
   "cell_type": "code",
   "execution_count": null,
   "metadata": {
    "collapsed": true
   },
   "outputs": [],
   "source": [
    "tmp_p_df.rolling(window=1000, min_periods=1)['coverage'].mean()"
   ]
  },
  {
   "cell_type": "code",
   "execution_count": 70,
   "metadata": {
    "collapsed": false
   },
   "outputs": [
    {
     "data": {
      "text/html": [
       "<div>\n",
       "<table border=\"1\" class=\"dataframe\">\n",
       "  <thead>\n",
       "    <tr style=\"text-align: right;\">\n",
       "      <th></th>\n",
       "      <th>contig</th>\n",
       "      <th>position</th>\n",
       "      <th>coverage</th>\n",
       "      <th>Rolling_w1000</th>\n",
       "    </tr>\n",
       "  </thead>\n",
       "  <tbody>\n",
       "    <tr>\n",
       "      <th>73917361</th>\n",
       "      <td>pcontig_000</td>\n",
       "      <td>1</td>\n",
       "      <td>57</td>\n",
       "      <td>57.000000</td>\n",
       "    </tr>\n",
       "    <tr>\n",
       "      <th>73917362</th>\n",
       "      <td>pcontig_000</td>\n",
       "      <td>2</td>\n",
       "      <td>57</td>\n",
       "      <td>57.000000</td>\n",
       "    </tr>\n",
       "    <tr>\n",
       "      <th>73917363</th>\n",
       "      <td>pcontig_000</td>\n",
       "      <td>3</td>\n",
       "      <td>57</td>\n",
       "      <td>57.000000</td>\n",
       "    </tr>\n",
       "    <tr>\n",
       "      <th>73917364</th>\n",
       "      <td>pcontig_000</td>\n",
       "      <td>4</td>\n",
       "      <td>59</td>\n",
       "      <td>57.500000</td>\n",
       "    </tr>\n",
       "    <tr>\n",
       "      <th>73917365</th>\n",
       "      <td>pcontig_000</td>\n",
       "      <td>5</td>\n",
       "      <td>60</td>\n",
       "      <td>58.000000</td>\n",
       "    </tr>\n",
       "    <tr>\n",
       "      <th>73917366</th>\n",
       "      <td>pcontig_000</td>\n",
       "      <td>6</td>\n",
       "      <td>60</td>\n",
       "      <td>58.333333</td>\n",
       "    </tr>\n",
       "    <tr>\n",
       "      <th>73917367</th>\n",
       "      <td>pcontig_000</td>\n",
       "      <td>7</td>\n",
       "      <td>60</td>\n",
       "      <td>58.571429</td>\n",
       "    </tr>\n",
       "    <tr>\n",
       "      <th>73917368</th>\n",
       "      <td>pcontig_000</td>\n",
       "      <td>8</td>\n",
       "      <td>60</td>\n",
       "      <td>58.750000</td>\n",
       "    </tr>\n",
       "    <tr>\n",
       "      <th>73917369</th>\n",
       "      <td>pcontig_000</td>\n",
       "      <td>9</td>\n",
       "      <td>64</td>\n",
       "      <td>59.333333</td>\n",
       "    </tr>\n",
       "    <tr>\n",
       "      <th>73917370</th>\n",
       "      <td>pcontig_000</td>\n",
       "      <td>10</td>\n",
       "      <td>65</td>\n",
       "      <td>59.900000</td>\n",
       "    </tr>\n",
       "    <tr>\n",
       "      <th>73917371</th>\n",
       "      <td>pcontig_000</td>\n",
       "      <td>11</td>\n",
       "      <td>66</td>\n",
       "      <td>60.454545</td>\n",
       "    </tr>\n",
       "    <tr>\n",
       "      <th>73917372</th>\n",
       "      <td>pcontig_000</td>\n",
       "      <td>12</td>\n",
       "      <td>66</td>\n",
       "      <td>60.916667</td>\n",
       "    </tr>\n",
       "    <tr>\n",
       "      <th>73917373</th>\n",
       "      <td>pcontig_000</td>\n",
       "      <td>13</td>\n",
       "      <td>67</td>\n",
       "      <td>61.384615</td>\n",
       "    </tr>\n",
       "    <tr>\n",
       "      <th>73917374</th>\n",
       "      <td>pcontig_000</td>\n",
       "      <td>14</td>\n",
       "      <td>69</td>\n",
       "      <td>61.928571</td>\n",
       "    </tr>\n",
       "    <tr>\n",
       "      <th>73917375</th>\n",
       "      <td>pcontig_000</td>\n",
       "      <td>15</td>\n",
       "      <td>71</td>\n",
       "      <td>62.533333</td>\n",
       "    </tr>\n",
       "    <tr>\n",
       "      <th>73917376</th>\n",
       "      <td>pcontig_000</td>\n",
       "      <td>16</td>\n",
       "      <td>71</td>\n",
       "      <td>63.062500</td>\n",
       "    </tr>\n",
       "    <tr>\n",
       "      <th>73917377</th>\n",
       "      <td>pcontig_000</td>\n",
       "      <td>17</td>\n",
       "      <td>71</td>\n",
       "      <td>63.529412</td>\n",
       "    </tr>\n",
       "    <tr>\n",
       "      <th>73917378</th>\n",
       "      <td>pcontig_000</td>\n",
       "      <td>18</td>\n",
       "      <td>72</td>\n",
       "      <td>64.000000</td>\n",
       "    </tr>\n",
       "    <tr>\n",
       "      <th>73917379</th>\n",
       "      <td>pcontig_000</td>\n",
       "      <td>19</td>\n",
       "      <td>72</td>\n",
       "      <td>64.421053</td>\n",
       "    </tr>\n",
       "    <tr>\n",
       "      <th>73917380</th>\n",
       "      <td>pcontig_000</td>\n",
       "      <td>20</td>\n",
       "      <td>72</td>\n",
       "      <td>64.800000</td>\n",
       "    </tr>\n",
       "    <tr>\n",
       "      <th>73917381</th>\n",
       "      <td>pcontig_000</td>\n",
       "      <td>21</td>\n",
       "      <td>74</td>\n",
       "      <td>65.238095</td>\n",
       "    </tr>\n",
       "    <tr>\n",
       "      <th>73917382</th>\n",
       "      <td>pcontig_000</td>\n",
       "      <td>22</td>\n",
       "      <td>75</td>\n",
       "      <td>65.681818</td>\n",
       "    </tr>\n",
       "    <tr>\n",
       "      <th>73917383</th>\n",
       "      <td>pcontig_000</td>\n",
       "      <td>23</td>\n",
       "      <td>74</td>\n",
       "      <td>66.043478</td>\n",
       "    </tr>\n",
       "    <tr>\n",
       "      <th>73917384</th>\n",
       "      <td>pcontig_000</td>\n",
       "      <td>24</td>\n",
       "      <td>75</td>\n",
       "      <td>66.416667</td>\n",
       "    </tr>\n",
       "    <tr>\n",
       "      <th>73917385</th>\n",
       "      <td>pcontig_000</td>\n",
       "      <td>25</td>\n",
       "      <td>75</td>\n",
       "      <td>66.760000</td>\n",
       "    </tr>\n",
       "    <tr>\n",
       "      <th>73917386</th>\n",
       "      <td>pcontig_000</td>\n",
       "      <td>26</td>\n",
       "      <td>75</td>\n",
       "      <td>67.076923</td>\n",
       "    </tr>\n",
       "    <tr>\n",
       "      <th>73917387</th>\n",
       "      <td>pcontig_000</td>\n",
       "      <td>27</td>\n",
       "      <td>76</td>\n",
       "      <td>67.407407</td>\n",
       "    </tr>\n",
       "    <tr>\n",
       "      <th>73917388</th>\n",
       "      <td>pcontig_000</td>\n",
       "      <td>28</td>\n",
       "      <td>76</td>\n",
       "      <td>67.714286</td>\n",
       "    </tr>\n",
       "    <tr>\n",
       "      <th>73917389</th>\n",
       "      <td>pcontig_000</td>\n",
       "      <td>29</td>\n",
       "      <td>76</td>\n",
       "      <td>68.000000</td>\n",
       "    </tr>\n",
       "    <tr>\n",
       "      <th>73917390</th>\n",
       "      <td>pcontig_000</td>\n",
       "      <td>30</td>\n",
       "      <td>76</td>\n",
       "      <td>68.266667</td>\n",
       "    </tr>\n",
       "    <tr>\n",
       "      <th>...</th>\n",
       "      <td>...</td>\n",
       "      <td>...</td>\n",
       "      <td>...</td>\n",
       "      <td>...</td>\n",
       "    </tr>\n",
       "    <tr>\n",
       "      <th>76990355</th>\n",
       "      <td>pcontig_000</td>\n",
       "      <td>3072995</td>\n",
       "      <td>14</td>\n",
       "      <td>52.150000</td>\n",
       "    </tr>\n",
       "    <tr>\n",
       "      <th>76990356</th>\n",
       "      <td>pcontig_000</td>\n",
       "      <td>3072996</td>\n",
       "      <td>14</td>\n",
       "      <td>52.078000</td>\n",
       "    </tr>\n",
       "    <tr>\n",
       "      <th>76990357</th>\n",
       "      <td>pcontig_000</td>\n",
       "      <td>3072997</td>\n",
       "      <td>14</td>\n",
       "      <td>52.006000</td>\n",
       "    </tr>\n",
       "    <tr>\n",
       "      <th>76990358</th>\n",
       "      <td>pcontig_000</td>\n",
       "      <td>3072998</td>\n",
       "      <td>13</td>\n",
       "      <td>51.934000</td>\n",
       "    </tr>\n",
       "    <tr>\n",
       "      <th>76990359</th>\n",
       "      <td>pcontig_000</td>\n",
       "      <td>3072999</td>\n",
       "      <td>13</td>\n",
       "      <td>51.863000</td>\n",
       "    </tr>\n",
       "    <tr>\n",
       "      <th>76990360</th>\n",
       "      <td>pcontig_000</td>\n",
       "      <td>3073000</td>\n",
       "      <td>13</td>\n",
       "      <td>51.790000</td>\n",
       "    </tr>\n",
       "    <tr>\n",
       "      <th>76990361</th>\n",
       "      <td>pcontig_000</td>\n",
       "      <td>3073001</td>\n",
       "      <td>13</td>\n",
       "      <td>51.717000</td>\n",
       "    </tr>\n",
       "    <tr>\n",
       "      <th>76990362</th>\n",
       "      <td>pcontig_000</td>\n",
       "      <td>3073002</td>\n",
       "      <td>13</td>\n",
       "      <td>51.641000</td>\n",
       "    </tr>\n",
       "    <tr>\n",
       "      <th>76990363</th>\n",
       "      <td>pcontig_000</td>\n",
       "      <td>3073003</td>\n",
       "      <td>13</td>\n",
       "      <td>51.565000</td>\n",
       "    </tr>\n",
       "    <tr>\n",
       "      <th>76990364</th>\n",
       "      <td>pcontig_000</td>\n",
       "      <td>3073004</td>\n",
       "      <td>12</td>\n",
       "      <td>51.488000</td>\n",
       "    </tr>\n",
       "    <tr>\n",
       "      <th>76990365</th>\n",
       "      <td>pcontig_000</td>\n",
       "      <td>3073005</td>\n",
       "      <td>12</td>\n",
       "      <td>51.414000</td>\n",
       "    </tr>\n",
       "    <tr>\n",
       "      <th>76990366</th>\n",
       "      <td>pcontig_000</td>\n",
       "      <td>3073006</td>\n",
       "      <td>12</td>\n",
       "      <td>51.339000</td>\n",
       "    </tr>\n",
       "    <tr>\n",
       "      <th>76990367</th>\n",
       "      <td>pcontig_000</td>\n",
       "      <td>3073007</td>\n",
       "      <td>11</td>\n",
       "      <td>51.262000</td>\n",
       "    </tr>\n",
       "    <tr>\n",
       "      <th>76990368</th>\n",
       "      <td>pcontig_000</td>\n",
       "      <td>3073008</td>\n",
       "      <td>10</td>\n",
       "      <td>51.184000</td>\n",
       "    </tr>\n",
       "    <tr>\n",
       "      <th>76990369</th>\n",
       "      <td>pcontig_000</td>\n",
       "      <td>3073009</td>\n",
       "      <td>10</td>\n",
       "      <td>51.107000</td>\n",
       "    </tr>\n",
       "    <tr>\n",
       "      <th>76990370</th>\n",
       "      <td>pcontig_000</td>\n",
       "      <td>3073010</td>\n",
       "      <td>10</td>\n",
       "      <td>51.031000</td>\n",
       "    </tr>\n",
       "    <tr>\n",
       "      <th>76990371</th>\n",
       "      <td>pcontig_000</td>\n",
       "      <td>3073011</td>\n",
       "      <td>9</td>\n",
       "      <td>50.954000</td>\n",
       "    </tr>\n",
       "    <tr>\n",
       "      <th>76990372</th>\n",
       "      <td>pcontig_000</td>\n",
       "      <td>3073012</td>\n",
       "      <td>9</td>\n",
       "      <td>50.878000</td>\n",
       "    </tr>\n",
       "    <tr>\n",
       "      <th>76990373</th>\n",
       "      <td>pcontig_000</td>\n",
       "      <td>3073013</td>\n",
       "      <td>9</td>\n",
       "      <td>50.802000</td>\n",
       "    </tr>\n",
       "    <tr>\n",
       "      <th>76990374</th>\n",
       "      <td>pcontig_000</td>\n",
       "      <td>3073014</td>\n",
       "      <td>8</td>\n",
       "      <td>50.724000</td>\n",
       "    </tr>\n",
       "    <tr>\n",
       "      <th>76990375</th>\n",
       "      <td>pcontig_000</td>\n",
       "      <td>3073015</td>\n",
       "      <td>8</td>\n",
       "      <td>50.645000</td>\n",
       "    </tr>\n",
       "    <tr>\n",
       "      <th>76990376</th>\n",
       "      <td>pcontig_000</td>\n",
       "      <td>3073016</td>\n",
       "      <td>7</td>\n",
       "      <td>50.566000</td>\n",
       "    </tr>\n",
       "    <tr>\n",
       "      <th>76990377</th>\n",
       "      <td>pcontig_000</td>\n",
       "      <td>3073017</td>\n",
       "      <td>6</td>\n",
       "      <td>50.486000</td>\n",
       "    </tr>\n",
       "    <tr>\n",
       "      <th>76990378</th>\n",
       "      <td>pcontig_000</td>\n",
       "      <td>3073018</td>\n",
       "      <td>6</td>\n",
       "      <td>50.407000</td>\n",
       "    </tr>\n",
       "    <tr>\n",
       "      <th>76990379</th>\n",
       "      <td>pcontig_000</td>\n",
       "      <td>3073019</td>\n",
       "      <td>6</td>\n",
       "      <td>50.329000</td>\n",
       "    </tr>\n",
       "    <tr>\n",
       "      <th>76990380</th>\n",
       "      <td>pcontig_000</td>\n",
       "      <td>3073020</td>\n",
       "      <td>5</td>\n",
       "      <td>50.251000</td>\n",
       "    </tr>\n",
       "    <tr>\n",
       "      <th>76990381</th>\n",
       "      <td>pcontig_000</td>\n",
       "      <td>3073021</td>\n",
       "      <td>5</td>\n",
       "      <td>50.173000</td>\n",
       "    </tr>\n",
       "    <tr>\n",
       "      <th>76990382</th>\n",
       "      <td>pcontig_000</td>\n",
       "      <td>3073022</td>\n",
       "      <td>4</td>\n",
       "      <td>50.094000</td>\n",
       "    </tr>\n",
       "    <tr>\n",
       "      <th>76990383</th>\n",
       "      <td>pcontig_000</td>\n",
       "      <td>3073023</td>\n",
       "      <td>4</td>\n",
       "      <td>50.012000</td>\n",
       "    </tr>\n",
       "    <tr>\n",
       "      <th>76990384</th>\n",
       "      <td>pcontig_000</td>\n",
       "      <td>3073024</td>\n",
       "      <td>4</td>\n",
       "      <td>49.930000</td>\n",
       "    </tr>\n",
       "  </tbody>\n",
       "</table>\n",
       "<p>361267 rows × 4 columns</p>\n",
       "</div>"
      ],
      "text/plain": [
       "               contig  position  coverage  Rolling_w1000\n",
       "73917361  pcontig_000         1        57      57.000000\n",
       "73917362  pcontig_000         2        57      57.000000\n",
       "73917363  pcontig_000         3        57      57.000000\n",
       "73917364  pcontig_000         4        59      57.500000\n",
       "73917365  pcontig_000         5        60      58.000000\n",
       "73917366  pcontig_000         6        60      58.333333\n",
       "73917367  pcontig_000         7        60      58.571429\n",
       "73917368  pcontig_000         8        60      58.750000\n",
       "73917369  pcontig_000         9        64      59.333333\n",
       "73917370  pcontig_000        10        65      59.900000\n",
       "73917371  pcontig_000        11        66      60.454545\n",
       "73917372  pcontig_000        12        66      60.916667\n",
       "73917373  pcontig_000        13        67      61.384615\n",
       "73917374  pcontig_000        14        69      61.928571\n",
       "73917375  pcontig_000        15        71      62.533333\n",
       "73917376  pcontig_000        16        71      63.062500\n",
       "73917377  pcontig_000        17        71      63.529412\n",
       "73917378  pcontig_000        18        72      64.000000\n",
       "73917379  pcontig_000        19        72      64.421053\n",
       "73917380  pcontig_000        20        72      64.800000\n",
       "73917381  pcontig_000        21        74      65.238095\n",
       "73917382  pcontig_000        22        75      65.681818\n",
       "73917383  pcontig_000        23        74      66.043478\n",
       "73917384  pcontig_000        24        75      66.416667\n",
       "73917385  pcontig_000        25        75      66.760000\n",
       "73917386  pcontig_000        26        75      67.076923\n",
       "73917387  pcontig_000        27        76      67.407407\n",
       "73917388  pcontig_000        28        76      67.714286\n",
       "73917389  pcontig_000        29        76      68.000000\n",
       "73917390  pcontig_000        30        76      68.266667\n",
       "...               ...       ...       ...            ...\n",
       "76990355  pcontig_000   3072995        14      52.150000\n",
       "76990356  pcontig_000   3072996        14      52.078000\n",
       "76990357  pcontig_000   3072997        14      52.006000\n",
       "76990358  pcontig_000   3072998        13      51.934000\n",
       "76990359  pcontig_000   3072999        13      51.863000\n",
       "76990360  pcontig_000   3073000        13      51.790000\n",
       "76990361  pcontig_000   3073001        13      51.717000\n",
       "76990362  pcontig_000   3073002        13      51.641000\n",
       "76990363  pcontig_000   3073003        13      51.565000\n",
       "76990364  pcontig_000   3073004        12      51.488000\n",
       "76990365  pcontig_000   3073005        12      51.414000\n",
       "76990366  pcontig_000   3073006        12      51.339000\n",
       "76990367  pcontig_000   3073007        11      51.262000\n",
       "76990368  pcontig_000   3073008        10      51.184000\n",
       "76990369  pcontig_000   3073009        10      51.107000\n",
       "76990370  pcontig_000   3073010        10      51.031000\n",
       "76990371  pcontig_000   3073011         9      50.954000\n",
       "76990372  pcontig_000   3073012         9      50.878000\n",
       "76990373  pcontig_000   3073013         9      50.802000\n",
       "76990374  pcontig_000   3073014         8      50.724000\n",
       "76990375  pcontig_000   3073015         8      50.645000\n",
       "76990376  pcontig_000   3073016         7      50.566000\n",
       "76990377  pcontig_000   3073017         6      50.486000\n",
       "76990378  pcontig_000   3073018         6      50.407000\n",
       "76990379  pcontig_000   3073019         6      50.329000\n",
       "76990380  pcontig_000   3073020         5      50.251000\n",
       "76990381  pcontig_000   3073021         5      50.173000\n",
       "76990382  pcontig_000   3073022         4      50.094000\n",
       "76990383  pcontig_000   3073023         4      50.012000\n",
       "76990384  pcontig_000   3073024         4      49.930000\n",
       "\n",
       "[361267 rows x 4 columns]"
      ]
     },
     "execution_count": 70,
     "metadata": {},
     "output_type": "execute_result"
    }
   ],
   "source": [
    "tmp_p_df[(tmp_p_df['Rolling_w1000'] < (mean_s2000_ph_p + 2*std_s2000_ph_p) )]"
   ]
  },
  {
   "cell_type": "code",
   "execution_count": 18,
   "metadata": {
    "collapsed": false
   },
   "outputs": [
    {
     "data": {
      "text/plain": [
       "112541"
      ]
     },
     "execution_count": 18,
     "metadata": {},
     "output_type": "execute_result"
    }
   ],
   "source": [
    "len(tmp_p_df[(tmp_p_df['Rolling_w1000'] > threshold_up) ])"
   ]
  },
  {
   "cell_type": "code",
   "execution_count": 19,
   "metadata": {
    "collapsed": false
   },
   "outputs": [
    {
     "data": {
      "text/plain": [
       "107.44613839657615"
      ]
     },
     "execution_count": 19,
     "metadata": {},
     "output_type": "execute_result"
    }
   ],
   "source": [
    "tmp_p_df['coverage'].mean()"
   ]
  },
  {
   "cell_type": "code",
   "execution_count": 65,
   "metadata": {
    "collapsed": false
   },
   "outputs": [
    {
     "data": {
      "text/plain": [
       "54.931275186916864"
      ]
     },
     "execution_count": 65,
     "metadata": {},
     "output_type": "execute_result"
    }
   ],
   "source": [
    "tmp_p_df_ph['coverage'].mean()"
   ]
  },
  {
   "cell_type": "code",
   "execution_count": null,
   "metadata": {
    "collapsed": false
   },
   "outputs": [],
   "source": [
    "tmp_p_df[(tmp_p_df['Rolling_w1000'] < threshold_down) ]"
   ]
  },
  {
   "cell_type": "code",
   "execution_count": null,
   "metadata": {
    "collapsed": false
   },
   "outputs": [],
   "source": [
    "tmp_p_df = p_cov[p_cov[0] == 'tmp_p_df']"
   ]
  },
  {
   "cell_type": "code",
   "execution_count": null,
   "metadata": {
    "collapsed": true
   },
   "outputs": [],
   "source": []
  },
  {
   "cell_type": "code",
   "execution_count": null,
   "metadata": {
    "collapsed": false
   },
   "outputs": [],
   "source": [
    "tmp_p_df.rolling(window=1000, min_periods=1)[2].mean()"
   ]
  },
  {
   "cell_type": "code",
   "execution_count": null,
   "metadata": {
    "collapsed": true
   },
   "outputs": [],
   "source": []
  }
 ],
 "metadata": {
  "kernelspec": {
   "display_name": "Python 3",
   "language": "python",
   "name": "python3"
  },
  "language_info": {
   "codemirror_mode": {
    "name": "ipython",
    "version": 3
   },
   "file_extension": ".py",
   "mimetype": "text/x-python",
   "name": "python",
   "nbconvert_exporter": "python",
   "pygments_lexer": "ipython3",
   "version": "3.5.2"
  }
 },
 "nbformat": 4,
 "nbformat_minor": 0
}
