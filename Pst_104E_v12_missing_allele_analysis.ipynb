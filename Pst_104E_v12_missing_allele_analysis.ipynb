{
 "cells": [
  {
   "cell_type": "markdown",
   "metadata": {},
   "source": [
    "## This Jupyter notebook is targeted towards QC analysis of gene models without alleles in a phased assembly\n",
    "The script will pick up were *_defining alleles left off. In general it can take a list of genes without alleles in a phased assembly and can look why those were missed"
   ]
  },
  {
   "cell_type": "markdown",
   "metadata": {},
   "source": [
    "It will consider the following options:\n",
    "\n",
    "#### The allele was left out of the annotation in the other haplotig:\n",
    "* It takes the gene sequence of a single allele gene and blast its against the other haplotic\n",
    "* If there is an gene sequence it pulls out a region around this and align the protein sequence using exonerate\n",
    "* The exonerate alignment is used to scan for matches without frame shifts and without stop codons\n",
    "* In cases where a good aligment is possible these alleles are written noted\n",
    "\n",
    "#### The allele was left out because it was not phased in the first place\n",
    "This step relies on the Pst_104E_v12_coverage_analysis_training script to give out homozygous regions when doing p mapping when compare to p to ph mapping. Might need to be adapted a bit more.\n",
    "* All remaining single allele genes are tested if they fall into a homozygous coverage area\n",
    "* If they do not overlap with an ortholgos contig alignement p on h mapping and reverse\n",
    "* Maybe if they overlap with a unique coverage area. Only possible for p alleles so far. "
   ]
  },
  {
   "cell_type": "markdown",
   "metadata": {},
   "source": [
    "##### script considerations\n",
    "\n",
    "What to do when mulitple filtered allele files are present? Mabye have previous script write out different options to different folders if they already exist."
   ]
  },
  {
   "cell_type": "code",
   "execution_count": 22,
   "metadata": {
    "collapsed": true
   },
   "outputs": [],
   "source": [
    "%matplotlib inline"
   ]
  },
  {
   "cell_type": "code",
   "execution_count": 1,
   "metadata": {
    "collapsed": true
   },
   "outputs": [],
   "source": [
    "import pandas as pd\n",
    "import os\n",
    "import re\n",
    "from Bio import SeqIO\n",
    "import pysam\n",
    "from Bio.SeqRecord import SeqRecord\n",
    "from pybedtools import BedTool\n",
    "import numpy as np\n",
    "import pybedtools\n",
    "import time\n",
    "import matplotlib.pyplot as plt\n",
    "import sys\n",
    "import subprocess\n",
    "import shutil"
   ]
  },
  {
   "cell_type": "code",
   "execution_count": 23,
   "metadata": {
    "collapsed": true
   },
   "outputs": [],
   "source": [
    "def blast_outfmt6_to_bed(x):\n",
    "    \"Quick function that converts a blast outfmt6 file to a bed file.\"\n",
    "    blast_fo = open(x, 'r')\n",
    "    blast_lines = blast_fo.readlines()\n",
    "    bed_file_name = x + '.bed'\n",
    "    bed_fo = open(bed_file_name, 'w+')\n",
    "    for l in blast_lines:\n",
    "        content = l.split('\\t')\n",
    "        if int(content[8]) - int(content[9]) < 1:\n",
    "            print(content[1], int(content[8]) -1, content[9], content[0], content[10], \"+\", sep=\"\\t\", file=bed_fo) \n",
    "        else:\n",
    "            print(content[1], int(content[9]) -1, content[8],  content[0], content[10], \"-\", sep = \"\\t\", file=bed_fo)\n",
    "    blast_fo.close()\n",
    "    bed_fo.close()"
   ]
  },
  {
   "cell_type": "code",
   "execution_count": 54,
   "metadata": {
    "collapsed": true
   },
   "outputs": [],
   "source": [
    "#Define the PATH\n",
    "BASE_AA_PATH = '/home/benjamin/genome_assembly/PST79/FALCON/p_assemblies/v9_1/Pst_104E_v12'\n",
    "BASE_A_PATH = '/home/benjamin/genome_assembly/PST79/FALCON/p_assemblies/v9_1/032017_assembly'\n",
    "ALLELE_PATH =os.path.join(BASE_AA_PATH ,'allele_analysis/alleles')\n",
    "BLAST_DB = os.path.join(BASE_AA_PATH, 'blast_DB')\n",
    "OUT_PATH = os.path.join(BASE_AA_PATH, 'allele_analysis', 'no_alleles_QC')\n",
    "OUT_PATH_tmp = os.path.join(OUT_PATH, 'tmp')\n",
    "if not os.path.isdir(OUT_PATH):\n",
    "    os.mkdir(OUT_PATH)\n",
    "if not os.path.isdir(OUT_PATH_tmp):\n",
    "    os.mkdir(OUT_PATH_tmp)"
   ]
  },
  {
   "cell_type": "code",
   "execution_count": 10,
   "metadata": {
    "collapsed": true
   },
   "outputs": [],
   "source": [
    "#genomes\n",
    "p_genome = 'Pst_104E_v12_p_ctg'\n",
    "h_genome = 'Pst_104E_v12_h_ctg'"
   ]
  },
  {
   "cell_type": "code",
   "execution_count": 64,
   "metadata": {
    "collapsed": true
   },
   "outputs": [],
   "source": [
    "#Define ENV parameters for blast hits and threads used in blast analysis\n",
    "n_threads = 4\n",
    "e_value = 1e-3\n",
    "blast_stderr_dict ={} #keep track of all the blast outputs and errors if so\n",
    "#propagate cut off from previous files from defining alleles\n",
    "Qcov_cut_off = 80 #this defines the mimimum coverage of the Query to be required for filtering. Will become part of name.\n",
    "PctID_cut_off = 70 #this defines the mimimum PctID accross the alignment to be required for filtering. Will become part of name."
   ]
  },
  {
   "cell_type": "code",
   "execution_count": null,
   "metadata": {
    "collapsed": true
   },
   "outputs": [],
   "source": []
  },
  {
   "cell_type": "code",
   "execution_count": 5,
   "metadata": {
    "collapsed": true
   },
   "outputs": [],
   "source": [
    "protein_fa_files = [os.path.join(BASE_A_PATH, x) for x in os.listdir(BASE_A_PATH) if x.endswith('protein.fa')]"
   ]
  },
  {
   "cell_type": "code",
   "execution_count": 7,
   "metadata": {
    "collapsed": true
   },
   "outputs": [],
   "source": [
    "#read in protein ids for p and h contigs and store names in a list in a dict with unique key id [first part of\n",
    "#file name].\n",
    "fa_protein_dict = {}\n",
    "fa_protein_length_dict = {}\n",
    "for file in protein_fa_files:\n",
    "    seq_list = []\n",
    "    length_list =[]\n",
    "    for seq in SeqIO.parse(open(file), 'fasta'):\n",
    "        seq_list.append(seq.id)\n",
    "        length_list.append(len(seq.seq))\n",
    "    key_name = file.split('.')[0]\n",
    "    fa_protein_dict[key_name] = seq_list\n",
    "    fa_protein_length_dict[key_name] = dict(zip(seq_list, length_list))"
   ]
  },
  {
   "cell_type": "code",
   "execution_count": 35,
   "metadata": {
    "collapsed": false
   },
   "outputs": [],
   "source": [
    "#get the file names of the no allele cases including the filtered settings with Qcov and PctID cut offs and the no alleles\n",
    "#at all that in principle is all p and h proteins without a blast hit with a given e-value right now 0.001\n",
    "filtered_no_alleles = [os.path.join(ALLELE_PATH, x) for x in os.listdir(ALLELE_PATH)\\\n",
    "                       if (x.split('.')[1] == 'no' and 'Qcov' in x and 'PctID' in x and x.startswith(p_genome) )or \\\n",
    "                           (x.startswith(h_genome) and 'Qcov' in x and 'PctID' in x and 'no.no_p_hits' in x)]\n",
    "filtered_no_alleles_dict = {}\n",
    "for x in filtered_no_alleles:\n",
    "    key = x.split('/')[-1].split('.')[0]\n",
    "    filtered_no_alleles_dict[key] = x\n",
    "    \n",
    "no_alleles_at_all = [os.path.join(ALLELE_PATH, x) for x in os.listdir(ALLELE_PATH)\\\n",
    "                       if (x.split('.')[1] == 'no' and 'Qcov' not in x and 'PctID' not in x and x.startswith(p_genome) )or \\\n",
    "                           (x.startswith(h_genome) and 'Qcov' not in x and 'PctID' not in x and 'no.no_p_hits' in x)]\n",
    "no_alleles_at_all_dict ={}\n",
    "for x in no_alleles_at_all:\n",
    "    key = x.split('/')[-1].split('.')[0]\n",
    "    no_alleles_at_all_dict[key] = x"
   ]
  },
  {
   "cell_type": "markdown",
   "metadata": {},
   "source": [
    "###### Might want to be incooporated in the script in future\n",
    "Pull gff and genome fasta files over into the tmp folder make gene gff and pull out gene sequences with bedtools getfasta on the command line using subproccesses. See below ideas from original script"
   ]
  },
  {
   "cell_type": "raw",
   "metadata": {},
   "source": [
    "#now pull gene sequences for no-besties and do blast on the corresponding other haplotype\n",
    "#gene files were generated by \n",
    "cat Pst_E104_v1_p_ctg.anno.RepaseTPSI_filtered.gff3 | awk '$3==\"gene\"' > Pst_E104_v1_p_ctg.gene.RepaseTPSI_filtered.gff3\n",
    "for gff in gene_gff:\n",
    "    gene = ''\n",
    "    gene_df = pd.read_csv(folder + gff, header = None, sep='\\t' )\n",
    "    gene_df[2] = gene_df[8].apply(col_8_id)\n",
    "    gene_df.to_csv(folder+gff, header=None, sep='\\t', index=None)\n",
    "bedtools getfasta -s -name -fi Pst_E104_v1_ph_ctg.fa -bed Pst_E104_v1_ph_ctg.gene.RepaseTPSI_filtered.gff3 -fo Pst_E104_v1_ph_ctg.gene.RepaseTPSI_filtered.fa\n",
    "bedtools getfasta -s -name -bed Pst_E104_v1_h_ctg.gene.RepaseTPSI_filtered.gff3 -fi Pst_E104_v1_h_ctg.fa -fo Pst_E104_v1_h_ctg.gene.RepaseTPSI_filtered.fa"
   ]
  },
  {
   "cell_type": "code",
   "execution_count": 33,
   "metadata": {
    "collapsed": false
   },
   "outputs": [],
   "source": [
    "#get the gene.fa files and put them in a dict that has the genome as a key\n",
    "gene_fa_files = [os.path.join(BASE_A_PATH, x) for x in os.listdir(BASE_A_PATH) if x.endswith('gene.fa')]\n",
    "gene_fa_files_dict = {}\n",
    "for x in gene_fa_files:\n",
    "    key = x.split('/')[-1].split('.')[0]\n",
    "    gene_fa_files_dict[key] = x"
   ]
  },
  {
   "cell_type": "code",
   "execution_count": 25,
   "metadata": {
    "collapsed": false
   },
   "outputs": [
    {
     "name": "stdout",
     "output_type": "stream",
     "text": [
      "All databases generated and ready to go!\n"
     ]
    }
   ],
   "source": [
    "#generate the blast databases if not already present\n",
    "os.chdir(BLAST_DB)\n",
    "blast_dir_content = os.listdir(BLAST_DB)\n",
    "for x in blast_dir_content:\n",
    "    if x.endswith('.fa') and ({os.path.isfile(x + e) for e in ['.psq', '.phr', '.pin'] } != {True}\\\n",
    "           and {os.path.isfile(x + e) for e in ['.nin', '.nhr', '.nsq'] } != {True} ):\n",
    "\n",
    "        make_DB_options = ['-in']\n",
    "        make_DB_options.append(x)\n",
    "        make_DB_options.append('-dbtype')\n",
    "        if 'protein' in x:\n",
    "            make_DB_options.append('prot')\n",
    "        else:\n",
    "            make_DB_options.append('nucl')\n",
    "        make_DB_command = 'makeblastdb %s' % ' '.join(make_DB_options)\n",
    "        make_DB_stderr = subprocess.check_output(make_DB_command, shell=True, stderr=subprocess.STDOUT)\n",
    "        print('%s is done!' % make_DB_command)\n",
    "print(\"All databases generated and ready to go!\")"
   ]
  },
  {
   "cell_type": "code",
   "execution_count": 34,
   "metadata": {
    "collapsed": false
   },
   "outputs": [],
   "source": [
    "#get the blast db files and put them in a dict that has the genome as a key\n",
    "gene_blast_db = [os.path.join(BLAST_DB, x) for x in os.listdir(BLAST_DB) if x.endswith('gene.fa')]\n",
    "gene_blast_db_dict ={}\n",
    "for x in gene_blast_db:\n",
    "    key = x.split('/')[-1].split('.')[0]\n",
    "    gene_blast_db_dict[key] = x\n",
    "genome_blast_db = [os.path.join(BLAST_DB, x) for x in os.listdir(BLAST_DB) if x.endswith('_ctg.fa')]\n",
    "genome_blast_db_dict ={}\n",
    "for x in genome_blast_db:\n",
    "    key = x.split('/')[-1].split('.')[0]\n",
    "    genome_blast_db_dict[key] = x\n"
   ]
  },
  {
   "cell_type": "code",
   "execution_count": 71,
   "metadata": {
    "collapsed": false
   },
   "outputs": [
    {
     "name": "stdout",
     "output_type": "stream",
     "text": [
      "One pair of filtered non-allele files given. Good to go!\n"
     ]
    }
   ],
   "source": [
    "#using the dictionary approach to stich together all the different input files. The key is always the genome. In this cases\n",
    "#being the part of the file name before the first '.'\n",
    "if len(filtered_no_alleles) != 2:\n",
    "    print(\"This script right now is only designed for one set of filter files.\")\n",
    "    print(\"Please hold!\")\n",
    "else:\n",
    "    print(\"One pair of filtered non-allele files given. Good to go!\")\n",
    "    \n",
    "#simply pulls in the gene sequences of missing alleles. Do this on the filtered set as the unfiltered set is a subset anyway\n",
    "no_filtered_allele_gene_dict = {}\n",
    "for no_alleles_key in filtered_no_alleles_dict.keys():\n",
    "    #read in all the alleles from file this assumes that only one filter setting was run in the allele folder\n",
    "    no_filtered_allele_list = pd.read_csv(os.path.join(ALLELE_PATH, filtered_no_alleles_dict[no_alleles_key]), header=None, sep='\\t')[0].tolist()\n",
    "    #convert from proteins ids to gene ideas\n",
    "    no_filtered_allele_list =  [x.replace('evm.model', 'evm.TU') for x in no_filtered_allele_list]\n",
    "    \n",
    "    no_filtered_allele_seq = []\n",
    "    for seq in SeqIO.parse(open(gene_blast_db_dict[no_alleles_key]), 'fasta'):\n",
    "        if seq.id in no_filtered_allele_list:\n",
    "            no_filtered_allele_seq.append(seq)\n",
    "    #get the proper file name\n",
    "    out_f_prefix = filtered_no_alleles_dict[no_alleles_key].split('/')[-1]\n",
    "    out_f = out_f_prefix + '.gene.fa'\n",
    "    f_handle = open(os.path.join(OUT_PATH, out_f),'w') #need to generate handle for writing and\n",
    "    SeqIO.write(no_filtered_allele_seq, f_handle, 'fasta')\n",
    "    f_handle.close() #closing file afterwards again\n",
    "    no_filtered_allele_gene_dict[no_alleles_key] = os.path.join(OUT_PATH, out_f)"
   ]
  },
  {
   "cell_type": "code",
   "execution_count": 72,
   "metadata": {
    "collapsed": false
   },
   "outputs": [
    {
     "name": "stdout",
     "output_type": "stream",
     "text": [
      "blastn -query /home/benjamin/genome_assembly/PST79/FALCON/p_assemblies/v9_1/Pst_104E_v12/allele_analysis/no_alleles_QC/Pst_104E_v12_p_ctg.no.Qcov80.PctID70.alleles.gene.fa -db /home/benjamin/genome_assembly/PST79/FALCON/p_assemblies/v9_1/Pst_104E_v12/blast_DB/Pst_104E_v12_h_ctg.fa -outfmt 6 -evalue 0.001 -num_threads 4 > /home/benjamin/genome_assembly/PST79/FALCON/p_assemblies/v9_1/Pst_104E_v12/allele_analysis/no_alleles_QC/tmp/Pst_104E_v12_p_ctg.no.Qcov80.PctID70.alleles.gene.fa.db_Pst_104E_v12_h_ctg.fa.0.001.blastn.outfmt6\n",
      "New blast run and done!\n",
      "blastn -query /home/benjamin/genome_assembly/PST79/FALCON/p_assemblies/v9_1/Pst_104E_v12/allele_analysis/no_alleles_QC/Pst_104E_v12_h_ctg.no.no_p_hits.Qcov80.PctID70.alleles.gene.fa -db /home/benjamin/genome_assembly/PST79/FALCON/p_assemblies/v9_1/Pst_104E_v12/blast_DB/Pst_104E_v12_p_ctg.fa -outfmt 6 -evalue 0.001 -num_threads 4 > /home/benjamin/genome_assembly/PST79/FALCON/p_assemblies/v9_1/Pst_104E_v12/allele_analysis/no_alleles_QC/tmp/Pst_104E_v12_h_ctg.no.no_p_hits.Qcov80.PctID70.alleles.gene.fa.db_Pst_104E_v12_p_ctg.fa.0.001.blastn.outfmt6\n",
      "New blast run and done!\n"
     ]
    }
   ],
   "source": [
    "#do the gene against other haplotype blast\n",
    "no_filtered_allele_gene_genome_blast_dict ={}\n",
    "for no_alleles_key in no_filtered_allele_gene_dict.keys():\n",
    "    blast_options = ['-query']\n",
    "    query = no_filtered_allele_gene_dict[no_alleles_key]\n",
    "    blast_options.append(query)\n",
    "    blast_options.append('-db')\n",
    "    if no_alleles_key == p_genome:\n",
    "        db = genome_blast_db_dict[h_genome]\n",
    "    elif no_alleles_key == h_genome:\n",
    "        db = genome_blast_db_dict[p_genome]\n",
    "    else:\n",
    "        print(\"There is something wrong with the file name prefixes and the genome (h and p) provided!\")\n",
    "    blast_options.append(db)\n",
    "    blast_options.append('-outfmt 6')\n",
    "    blast_options.append('-evalue')\n",
    "    blast_options.append(str(e_value))\n",
    "    blast_options.append('-num_threads')\n",
    "    blast_options.append(str(n_threads))\n",
    "    blast_options.append('>')\n",
    "    if 'gene' in query:\n",
    "        out_name_list = [ query.split('/')[-1], 'db_' + db.split('/')[-1], str(e_value), 'blastn.outfmt6']\n",
    "        out_name = os.path.join(OUT_PATH_tmp ,'.'.join(out_name_list))\n",
    "        blast_options.append(out_name)\n",
    "        blast_command = 'blastn %s' % ' '.join(blast_options)\n",
    "    no_filtered_allele_gene_genome_blast_dict[no_alleles_key] = out_name\n",
    "    print(blast_command)\n",
    "    if not os.path.exists(out_name):\n",
    "        blast_stderr_dict[blast_command] = subprocess.check_output(blast_command, shell=True, stderr=subprocess.STDOUT)\n",
    "        print(\"New blast run and done!\")\n",
    "    else:\n",
    "        blast_stderr_dict[blast_command] = 'Previously done already!'\n",
    "        print('Previously done already!')"
   ]
  },
  {
   "cell_type": "code",
   "execution_count": 75,
   "metadata": {
    "collapsed": false
   },
   "outputs": [
    {
     "data": {
      "text/plain": [
       "dict_values([b'', b''])"
      ]
     },
     "execution_count": 75,
     "metadata": {},
     "output_type": "execute_result"
    }
   ],
   "source": [
    "blast_stderr_dict.values()"
   ]
  },
  {
   "cell_type": "code",
   "execution_count": 61,
   "metadata": {
    "collapsed": false
   },
   "outputs": [
    {
     "data": {
      "text/plain": [
       "'/home/benjamin/genome_assembly/PST79/FALCON/p_assemblies/v9_1/Pst_104E_v12/allele_analysis/no_alleles_QC/tmp/Pst_104E_v12_h_ctg.no.no_p_hits.Qcov80.PctID70.alleles.gene.fa.db_Pst_104E_v12_p_ctg.anno.gene.fa.0.001.blastn.outfmt6'"
      ]
     },
     "execution_count": 61,
     "metadata": {},
     "output_type": "execute_result"
    }
   ],
   "source": [
    "os.path.join(OUT_PATH_tmp ,'.'.join(out_name_list))"
   ]
  },
  {
   "cell_type": "code",
   "execution_count": null,
   "metadata": {
    "collapsed": true
   },
   "outputs": [],
   "source": [
    "folder_p = '/home/benjamin/genome_assembly/PST79/FALCON/p_assemblies/v9_1/Pst_E104_v1/blastp_on_p/'\n",
    "\n",
    "no_besties = [x for x in os.listdir(folder_p) if x.endswith('no_besties.txt')]\n",
    "gene_files = [x for x in os.listdir(folder_p) if '.gene.' in x and '.fa' in x]\n",
    "no_besties.sort()\n",
    "gene_files.sort()\n",
    "no_bestie_dict = {}\n",
    "\n",
    "#simply pulls in the gene sequences of missing besties\n",
    "for no_b, gene_file in zip(no_besties, gene_files):\n",
    "    no_bestie_list = pd.read_csv(folder_p+no_b, header=None, sep='\\t')[0].tolist()\n",
    "    key = no_b.split('.')[0]\n",
    "    no_bestie_dict[key] = no_bestie_list\n",
    "    no_bestie_list = [x.replace('evm.model', 'evm.TU') for x in no_bestie_list]\n",
    "    no_bestie_seq = []\n",
    "    for seq in SeqIO.parse(open(folder_p + gene_file), 'fasta'):\n",
    "        if seq.id in no_bestie_list:\n",
    "            no_bestie_seq.append(seq)\n",
    "    out_f = folder_p + no_b[:-3].replace('protein', 'gene') + 'fa'\n",
    "    f_handle = open(out_f,'w') #need to generate handle for writing and\n",
    "    SeqIO.write(no_bestie_seq, f_handle, 'fasta')\n",
    "    f_handle.close() #closing file afterwards again\n",
    "\n",
    "gene_files_no_besties = [x for x in os.listdir(folder_p) if x.endswith('_genes.no_besties.fa')]\n",
    "blast_db_nt = [x for x in os.listdir(folder_p) if x.endswith('_ctg.fa')]\n",
    "gene_files_no_besties.sort()\n",
    "blast_db_nt.sort()\n",
    "\n",
    "os.chdir(folder_p)\n",
    "\n",
    "print('blastn -db %s -query -%s > %s.outfmt6' %(blast_db_nt[1], gene_files_no_besties[0],gene_files_no_besties[0]))\n",
    "!blastn -db {blast_db_nt[1]} -query {gene_files_no_besties[0]}  -outfmt 6 -evalue 1e-10 -num_threads 1 \\\n",
    "> {gene_files_no_besties[0]}.outfmt6\n",
    "\n",
    "\n",
    "in_file =gene_files_no_besties[0]+'.outfmt6'\n",
    "blast_outfmt6_to_bed(in_file)\n",
    "\n",
    "print('blastn -db %s -query -%s > %s.outfmt6' %(blast_db_nt[0], gene_files_no_besties[1],gene_files_no_besties[1]))\n",
    "!blastn -db {blast_db_nt[0]} -query {gene_files_no_besties[1]}  -outfmt 6 -evalue 1e-10 -num_threads 1 \\\n",
    "> {gene_files_no_besties[1]}.outfmt6\n",
    "\n",
    "\n",
    "in_file =gene_files_no_besties[1]+'.outfmt6'\n",
    "blast_outfmt6_to_bed(in_file)"
   ]
  },
  {
   "cell_type": "code",
   "execution_count": null,
   "metadata": {
    "collapsed": true
   },
   "outputs": [],
   "source": []
  },
  {
   "cell_type": "code",
   "execution_count": null,
   "metadata": {
    "collapsed": true
   },
   "outputs": [],
   "source": []
  },
  {
   "cell_type": "code",
   "execution_count": null,
   "metadata": {
    "collapsed": false
   },
   "outputs": [],
   "source": [
    "import pandas as pd\n",
    "import os\n",
    "import re\n",
    "from Bio import SeqIO\n",
    "\n",
    "os.chdir('/home/benjamin/genome_assembly/PST79/FALCON/p_assemblies/v9_1/Pst_E104_v1/blastp_on_p')\n",
    "\"\"\"\n",
    "Run on command line the following.\n",
    "blastp -query Pst_E104_v1_p_ctg.anno.RepaseTPSI_filtered.protein.fa -db Pst_E104_v1_h_ctg.anno.RepaseTPSI_filtered.protein.fa  -outfmt 6 -evalue 1e-5 -num_threads 6 > Pst_E104_v1_p_ctg.anno.RepaseTPSI_filtered.protein.p_on_h.blast.alloutfmt6 &\n",
    "blastp -query Pst_E104_v1_h_ctg.anno.RepaseTPSI_filtered.protein.fa  -db Pst_E104_v1_p_ctg.anno.RepaseTPSI_filtered.protein.fa  -outfmt 6 -evalue 1e-5 -num_threads 6 > Pst_E104_v1_h_ctg.anno.RepaseTPSI_filtered.protein.h_on_p.blast.alloutfmt6&\n",
    "\"\"\"\n",
    "\n",
    "os.listdir()\n",
    "hit_df =''\n",
    "files = os.listdir()\n",
    "outfmt6 = [x for x in files if x.endswith('blast.alloutfmt6') and 'anno' in x]\n",
    "outfmt6.sort()\n",
    "print(outfmt6)\n",
    "fa_files = [x for x in files if x.endswith('RepaseTPSI_filtered.protein.fa')]\n",
    "fa_files.sort()\n",
    "print(fa_files)\n",
    "\n",
    "#The next block should pull in both the initial protein and the blast df.\n",
    "#The initial protein should become a dataframe that contains proteins sequence name and length.\n",
    "#This df should be merged with the blast df in a way that proteins without hit should get NA values. \n",
    "#Once this is done make two arrays with [p, h], sort this and compare, pull out everything that is identical, and lable it with a new column reverse blast Yes/No.\n",
    "#Pull out YES and see if they are enriched/depelted in something. NOs need to be checked for high coverage in ph vs h/p mapping and levels of heterozycosity + h on p mapping mappings. \n",
    "\n",
    "#read in protein ids for p and h contigs and store names in a list in a dict with unique key id [first part of\n",
    "#file name].\n",
    "fa_protein_dict = {}\n",
    "fa_protein_length_dict = {}\n",
    "for file in fa_files:\n",
    "    seq_list = []\n",
    "    length_list =[]\n",
    "    for seq in SeqIO.parse(open(file), 'fasta'):\n",
    "        seq_list.append(seq.id)\n",
    "        length_list.append(len(seq.seq))\n",
    "    key_name = file.split('.')[0]\n",
    "    fa_protein_dict[key_name] = seq_list\n",
    "    fa_protein_length_dict[key_name] = dict(zip(seq_list, length_list))\n",
    "\n",
    "#generate df dict of blast output and filter blast output\n",
    "header = ['Query', 'Target', 'PctID', 'AlnLgth', 'NumMis', 'NumGap', 'StartQuery', 'StopQuery', 'StartTarget',\\\n",
    "              'StopTarget', 'e-value','BitScore']\n",
    "outfmt6_dict ={} #contains the filtered values\n",
    "outfmt6_dict_all = {} #contains the unfiltered blast hits e.g. low % identity and low query coverage\n",
    "#match_dict = {} #get best hits in match_dict[p_protein] = h_protein\n",
    "hit_df = pd.DataFrame(columns=['p_protein', 'h_protein'])\n",
    "for outfile in outfmt6:\n",
    "    key_name =  outfile.split('.')[0]\n",
    "    df = ''\n",
    "    df = pd.read_csv(outfile, header = None, names = header, sep='\\t')\n",
    "    #add the query length using to the df using the length dict generated before\n",
    "    df[\"QLgth\"] = df[\"Query\"].apply(lambda x: fa_protein_length_dict[key_name][x]) \n",
    "    df[\"QCov\"] = df['AlnLgth']/df['QLgth']*100 #calculate the % coverage for each querry\n",
    "    outfmt6_dict_all[key_name] = df\n",
    "    df = df[(df['QCov'] > 30) & (df['PctID'] > 50) ] #define paralogous as Query coverage > 30% and PctID > 50\n",
    "    #this could be more dynamic and the outfmt of blast AlnLngthPct and they greater than 60%\n",
    "    groups = df.groupby(by='Query')\n",
    "    #now filter the dataframe by the smallest e-value for each group == Query\n",
    "    df_filtered = groups.apply(lambda g: g[g['e-value'] == g['e-value'].min()]) \n",
    "    df_filtered = df_filtered.reset_index(drop=True)\n",
    "    #in case there is a blast query that hits the same subject twice with the same minimal e-value\n",
    "    df_filtered = df_filtered.drop_duplicates(subset=['Query', 'Target'], keep ='last')\n",
    "    outfmt6_dict[key_name] = df_filtered\n",
    "    if 'p_ctg' in key_name:\n",
    "        df_filtered['h_protein'] = df_filtered['Target']\n",
    "        df_filtered['p_protein'] = df_filtered['Query']\n",
    "    if 'h_ctg' in key_name:\n",
    "        df_filtered['h_protein'] = df_filtered['Query']\n",
    "        df_filtered['p_protein'] = df_filtered['Target']\n",
    "    hit_df = pd.concat([hit_df, df_filtered.loc[:, ['p_protein', 'h_protein']]])\n",
    "\n",
    "#duplicates are besties as they are entered twice from both outfmt\n",
    "\n",
    "bestie_df = hit_df[hit_df.duplicated(keep='first')]\n",
    "\n",
    "bestie_df.to_csv(list(outfmt6_dict.keys())[0][:-6] + '.besties.txt', sep='\\t', header=None, index=None)\n",
    "bestie_df['p_protein'].to_csv(list(outfmt6_dict.keys())[0] + '.besties.txt', sep='\\t', header=None, index=None)\n",
    "bestie_df['h_protein'].to_csv(list(outfmt6_dict.keys())[1] + '.besties.txt', sep='\\t', header=None, index=None)\n",
    "\n",
    "\n",
    "#this is pulling out the no blast hits at all. Should be a subset of no_besties\n",
    "no_hits ={}\n",
    "for key in fa_protein_dict.keys():\n",
    "    if 'p_' in key:\n",
    "        no_hits[key] = set(fa_protein_dict[key]) - set(outfmt6_dict_all[key]['Query'].unique())\n",
    "        pd.DataFrame(list(no_hits[key])).to_csv(key + '.p_proteins.no_blast_hit.txt', sep='\\t', header=None, index=None)\n",
    "    if 'h_' in key:\n",
    "        no_hits[key] = set(fa_protein_dict[key]) - set(outfmt6_dict_all[key]['Query'].unique())\n",
    "        pd.DataFrame(list(no_hits[key])).to_csv(key + '.h_proteins.no_blast_hit.txt', sep='\\t', header=None, index=None)\n",
    "\n",
    "no_hits_filtered ={}\n",
    "for key in fa_protein_dict.keys():\n",
    "    if 'p_' in key:\n",
    "        no_hits_filtered[key] = set(fa_protein_dict[key]) - set(outfmt6_dict[key]['Query'].unique())\n",
    "        pd.DataFrame(list(no_hits_filtered[key])).to_csv(key + '.p_proteins.no_filtered_blast_hit.txt', sep='\\t', header=None, index=None)\n",
    "    if 'h_' in key:\n",
    "        no_hits_filtered[key] = set(fa_protein_dict[key]) - set(outfmt6_dict[key]['Query'].unique())\n",
    "        pd.DataFrame(list(no_hits_filtered[key])).to_csv(key + '.h_proteins.no_filtered_blast_hit.txt', sep='\\t', header=None, index=None)\n",
    "        \n",
    "\n",
    "#this is now pulling out the besties\n",
    "no_bestie ={}\n",
    "for key in fa_protein_dict.keys():\n",
    "    if 'p_' in key:\n",
    "        no_bestie[key] = set(fa_protein_dict[key]) - set(bestie_df['p_protein'])\n",
    "        pd.DataFrame(list(no_bestie[key])).to_csv(key + '.p_proteins.no_besties.txt', sep='\\t', header=None, index=None)\n",
    "    if 'h_' in key:\n",
    "        no_bestie[key] = set(fa_protein_dict[key]) - set(bestie_df['h_protein'])\n",
    "        pd.DataFrame(list(no_bestie[key])).to_csv(key + '.h_proteins.no_besties.txt', sep='\\t', header=None, index=None)        \n",
    "        \n",
    "_len_out = 0\n",
    "_len_pro = 0\n",
    "for x in fa_protein_dict.keys():\n",
    "    _len_pro += len(fa_protein_dict[x])\n",
    "    _len_out += len(no_bestie[x])\n",
    "_len_out += (len(bestie_df))*2 - bestie_df.duplicated(subset=\"p_protein\", keep='last').sum() \\\n",
    "- bestie_df.duplicated(subset=\"h_protein\", keep='last').sum()\n",
    "_len_out == _len_pro\n"
   ]
  },
  {
   "cell_type": "code",
   "execution_count": null,
   "metadata": {
    "collapsed": false
   },
   "outputs": [],
   "source": [
    "_len_out = 0\n",
    "_len_pro = 0\n",
    "for x in fa_protein_dict.keys():\n",
    "    _len_pro += len(fa_protein_dict[x])\n",
    "    _len_out += len(no_bestie[x])\n",
    "    print(\"Out of %i %i have no reciprocal blast hit for %s making it %.2f percent.\"%(len(fa_protein_dict[x]),len(no_bestie[x]),x, (len(no_bestie[x])/len(fa_protein_dict[x])*100) ))\n",
    "    print(\"Out of %i %i have no blast hit at all for %s making it %.2f percent.\"%(len(fa_protein_dict[x]),len(no_hits[x]),x, (len(no_hits[x])/len(fa_protein_dict[x])*100) ))\n",
    "    print(\"Out of %i %i have no blast hit after filtering by AlnLght and QCov for %s making it %.2f percent.\"%(len(fa_protein_dict[x]),len(no_hits_filtered[x]),x, (len(no_hits_filtered[x])/len(fa_protein_dict[x])*100) ))\n",
    "_len_out += (len(bestie_df))*2 - bestie_df.duplicated(subset=\"p_protein\", keep='last').sum() \\\n",
    "- bestie_df.duplicated(subset=\"h_protein\", keep='last').sum()\n",
    "_len_out == _len_pro"
   ]
  },
  {
   "cell_type": "raw",
   "metadata": {
    "collapsed": true
   },
   "source": [
    "#now pull gene sequences for no-besties and do blast on the corresponding other haplotype\n",
    "#gene files were generated by \n",
    "cat Pst_E104_v1_p_ctg.anno.RepaseTPSI_filtered.gff3 | awk '$3==\"gene\"' > Pst_E104_v1_p_ctg.gene.RepaseTPSI_filtered.gff3\n",
    "for gff in gene_gff:\n",
    "    gene = ''\n",
    "    gene_df = pd.read_csv(folder + gff, header = None, sep='\\t' )\n",
    "    gene_df[2] = gene_df[8].apply(col_8_id)\n",
    "    gene_df.to_csv(folder+gff, header=None, sep='\\t', index=None)\n",
    "bedtools getfasta -s -name -fi Pst_E104_v1_ph_ctg.fa -bed Pst_E104_v1_ph_ctg.gene.RepaseTPSI_filtered.gff3 -fo Pst_E104_v1_ph_ctg.gene.RepaseTPSI_filtered.fa\n",
    "bedtools getfasta -s -name -bed Pst_E104_v1_h_ctg.gene.RepaseTPSI_filtered.gff3 -fi Pst_E104_v1_h_ctg.fa -fo Pst_E104_v1_h_ctg.gene.RepaseTPSI_filtered.fa"
   ]
  },
  {
   "cell_type": "code",
   "execution_count": null,
   "metadata": {
    "collapsed": true
   },
   "outputs": [],
   "source": [
    "def blast_outfmt6_to_bed(x):\n",
    "    blast_fo = open(x, 'r')\n",
    "    blast_lines = blast_fo.readlines()\n",
    "    bed_file_name = x + '.bed'\n",
    "    bed_fo = open(bed_file_name, 'w+')\n",
    "    for l in blast_lines:\n",
    "        content = l.split('\\t')\n",
    "        if int(content[8]) - int(content[9]) < 1:\n",
    "            print(content[1], int(content[8]) -1, content[9], content[0], content[10], \"+\", sep=\"\\t\", file=bed_fo) \n",
    "        else:\n",
    "            print(content[1], int(content[9]) -1, content[8],  content[0], content[10], \"-\", sep = \"\\t\", file=bed_fo)\n",
    "    blast_fo.close()\n",
    "    bed_fo.close()"
   ]
  },
  {
   "cell_type": "code",
   "execution_count": null,
   "metadata": {
    "collapsed": false
   },
   "outputs": [],
   "source": [
    "from Bio import SeqIO\n",
    "import os\n",
    "import pandas as pd\n",
    "import re\n",
    "\n",
    "folder_p = '/home/benjamin/genome_assembly/PST79/FALCON/p_assemblies/v9_1/Pst_E104_v1/blastp_on_p/'\n",
    "\n",
    "no_besties = [x for x in os.listdir(folder_p) if x.endswith('no_besties.txt')]\n",
    "gene_files = [x for x in os.listdir(folder_p) if '.gene.' in x and '.fa' in x]\n",
    "no_besties.sort()\n",
    "gene_files.sort()\n",
    "no_bestie_dict = {}\n",
    "\n",
    "#simply pulls in the gene sequences of missing besties\n",
    "for no_b, gene_file in zip(no_besties, gene_files):\n",
    "    no_bestie_list = pd.read_csv(folder_p+no_b, header=None, sep='\\t')[0].tolist()\n",
    "    key = no_b.split('.')[0]\n",
    "    no_bestie_dict[key] = no_bestie_list\n",
    "    no_bestie_list = [x.replace('evm.model', 'evm.TU') for x in no_bestie_list]\n",
    "    no_bestie_seq = []\n",
    "    for seq in SeqIO.parse(open(folder_p + gene_file), 'fasta'):\n",
    "        if seq.id in no_bestie_list:\n",
    "            no_bestie_seq.append(seq)\n",
    "    out_f = folder_p + no_b[:-3].replace('protein', 'gene') + 'fa'\n",
    "    f_handle = open(out_f,'w') #need to generate handle for writing and\n",
    "    SeqIO.write(no_bestie_seq, f_handle, 'fasta')\n",
    "    f_handle.close() #closing file afterwards again\n",
    "\n",
    "gene_files_no_besties = [x for x in os.listdir(folder_p) if x.endswith('_genes.no_besties.fa')]\n",
    "blast_db_nt = [x for x in os.listdir(folder_p) if x.endswith('_ctg.fa')]\n",
    "gene_files_no_besties.sort()\n",
    "blast_db_nt.sort()\n",
    "\n",
    "os.chdir(folder_p)\n",
    "\n",
    "print('blastn -db %s -query -%s > %s.outfmt6' %(blast_db_nt[1], gene_files_no_besties[0],gene_files_no_besties[0]))\n",
    "!blastn -db {blast_db_nt[1]} -query {gene_files_no_besties[0]}  -outfmt 6 -evalue 1e-10 -num_threads 1 \\\n",
    "> {gene_files_no_besties[0]}.outfmt6\n",
    "\n",
    "\n",
    "in_file =gene_files_no_besties[0]+'.outfmt6'\n",
    "blast_outfmt6_to_bed(in_file)\n",
    "\n",
    "print('blastn -db %s -query -%s > %s.outfmt6' %(blast_db_nt[0], gene_files_no_besties[1],gene_files_no_besties[1]))\n",
    "!blastn -db {blast_db_nt[0]} -query {gene_files_no_besties[1]}  -outfmt 6 -evalue 1e-10 -num_threads 1 \\\n",
    "> {gene_files_no_besties[1]}.outfmt6\n",
    "\n",
    "\n",
    "in_file =gene_files_no_besties[1]+'.outfmt6'\n",
    "blast_outfmt6_to_bed(in_file)"
   ]
  },
  {
   "cell_type": "code",
   "execution_count": null,
   "metadata": {
    "collapsed": false
   },
   "outputs": [],
   "source": [
    "#blast no_filtered_blast_hits genes against opposite haplotyp at the gene level\n",
    "folder_p = '/home/benjamin/genome_assembly/PST79/FALCON/p_assemblies/v9_1/Pst_E104_v1/blastp_on_p/'\n",
    "\n",
    "no_filtered_blast = [x for x in os.listdir(folder_p) if x.endswith('no_filtered_blast_hit.txt')]\n",
    "gene_files = [x for x in os.listdir(folder_p) if '.gene.' in x and '.fa' in x]\n",
    "no_filtered_blast.sort()\n",
    "gene_files.sort()\n",
    "no_filtered_blast_dict = {}\n",
    "gene_files = gene_files[:2]\n",
    "\n",
    "#simply pulls in the gene sequences of missing besties\n",
    "for no_b, gene_file in zip(no_filtered_blast, gene_files):\n",
    "    print(no_b)\n",
    "    no_filtered_blast_list = pd.read_csv(folder_p+no_b, header=None, sep='\\t')[0].tolist()\n",
    "    key = no_b.split('.')[0]\n",
    "    no_filtered_blast_dict[key] = no_filtered_blast_list\n",
    "    no_filtered_blast_list = [x.replace('evm.model', 'evm.TU') for x in no_filtered_blast_list]\n",
    "    no_filtered_blast_seq = []\n",
    "    for seq in SeqIO.parse(open(folder_p + gene_file), 'fasta'):\n",
    "        if seq.id in no_filtered_blast_list:\n",
    "            no_filtered_blast_seq.append(seq)\n",
    "    out_f = ''\n",
    "    out_f = folder_p + no_b[:-3].replace('protein', 'gene') + 'fa'\n",
    "    f_handle = open(out_f,'w') #need to generate handle for writing and\n",
    "    SeqIO.write(no_filtered_blast_seq, f_handle, 'fasta')\n",
    "    f_handle.close() #closing file afterwards again\n",
    "\n",
    "gene_files_no_filtered_blast = [x for x in os.listdir(folder_p) if x.endswith('_genes.no_filtered_blast_hit.fa')]\n",
    "blast_db_nt = [x for x in os.listdir(folder_p) if x.endswith('_ctg.fa')]\n",
    "gene_files_no_filtered_blast.sort()\n",
    "blast_db_nt.sort()\n",
    "\n",
    "os.chdir(folder_p)\n",
    "\n",
    "print('blastn -db %s -query -%s > %s.outfmt6' %(blast_db_nt[1], gene_files_no_filtered_blast[0],gene_files_no_filtered_blast[0]))\n",
    "!blastn -db {blast_db_nt[1]} -query {gene_files_no_filtered_blast[0]}  -outfmt 6 -evalue 1e-10 -num_threads 1 \\\n",
    "> {gene_files_no_filtered_blast[0]}.outfmt6\n",
    "\n",
    "\n",
    "in_file =gene_files_no_filtered_blast[0]+'.outfmt6'\n",
    "blast_outfmt6_to_bed(in_file)\n",
    "\n",
    "print('blastn -db %s -query -%s > %s.outfmt6' %(blast_db_nt[0], gene_files_no_filtered_blast[1],gene_files_no_filtered_blast[1]))\n",
    "!blastn -db {blast_db_nt[0]} -query {gene_files_no_filtered_blast[1]}  -outfmt 6 -evalue 1e-10 -num_threads 1 \\\n",
    "> {gene_files_no_filtered_blast[1]}.outfmt6\n",
    "\n",
    "\n",
    "in_file =gene_files_no_filtered_blast[1]+'.outfmt6'\n",
    "blast_outfmt6_to_bed(in_file)"
   ]
  },
  {
   "cell_type": "code",
   "execution_count": null,
   "metadata": {
    "collapsed": true
   },
   "outputs": [],
   "source": [
    "#make a dict of df out of the _genes.no_filtered_blast_hit.fa.outfmt6.bed files this can be used later on for\n",
    "#summary purposes and such\n",
    "nfb_gene_blast_bed_df_filtered_dict = {}\n",
    "for file in nfb_gene_blast_bed_df_filtered:\n",
    "    nfb_gene_blast_bed_df_filtered_dict[file.split('.')[0]] = pd.read_csv(file, header = None, sep='\\t')"
   ]
  },
  {
   "cell_type": "code",
   "execution_count": null,
   "metadata": {
    "collapsed": false
   },
   "outputs": [],
   "source": [
    "!cut -f4 Pst_E104_v1_p_ctg.p_genes.no_filtered_blast_hit.fa.outfmt6.bed | sort | uniq | wc -l"
   ]
  },
  {
   "cell_type": "code",
   "execution_count": null,
   "metadata": {
    "collapsed": false
   },
   "outputs": [],
   "source": [
    "!cut -f4 Pst_E104_v1_h_ctg.h_genes.no_filtered_blast_hit.fa.outfmt6.bed | sort | uniq | wc -l"
   ]
  },
  {
   "cell_type": "raw",
   "metadata": {},
   "source": [
    "Out of the 2134 Pst_E104_v1_p_ctg.p_genes.no_filtered_blast_hit.fa 677 have a gene blast hit on the other haplome.\n",
    "Out of the 542 Pst_E104_v1_h_ctg.h_genes.no_filtered_blast_hit.fa 442 have a gene blast hit on the other haplome."
   ]
  },
  {
   "cell_type": "raw",
   "metadata": {},
   "source": [
    "Now read in the bed files as dataframe sort by e-value, pick the best e-value and the best hit on corresponding corresponding contig. Make two dictionaries with the same keys. One for the protein sequence and one for best blast hits. For the later make the value a list of file ids for the blast hits. Make a new folder for exonerate with subfolders for each no_filtered_blast hit. Save all the sequence files in this folders. Write a bash script that goes throught these folders and exectues exonerate for each of them. "
   ]
  },
  {
   "cell_type": "code",
   "execution_count": null,
   "metadata": {
    "collapsed": false
   },
   "outputs": [],
   "source": [
    "#here track what happens with the no_besties hit. Do they not have protein blast hits? How many of the no protein \n",
    "#blast hits have not gene blast hit?\n",
    "#this needs to include some folder tracking of gene.no_besties.fa that hits nothing significant \n",
    "#no_bbb in - no_bbb out = no_hits at all\n",
    "no_gene_hits = {}\n",
    "no_besties_blast_nt_bed = [x for x in os.listdir() if x.endswith('no_besties.fa.outfmt6.bed')]\n",
    "no_besties_blast_nt_bed.sort()\n",
    "for no_bbb, protein_blast in zip(no_besties_blast_nt_bed,outfmt6):\n",
    "    no_bbb_no_protein_blast_df =''\n",
    "    no_bbb_df_header = ['Contig', 'start', 'end', 'blast_query', 'e-value', 'strand']\n",
    "    no_bbb_df = pd.read_csv(folder_p+no_bbb, header=None, names=no_bbb_df_header,  sep='\\t')\n",
    "    protein_blast_df = pd.read_csv(folder_p+protein_blast, header=None, sep='\\t')\n",
    "    no_bbb_df['protein_id'] = no_bbb_df['blast_query'].str.replace('evm.TU', 'evm.model')\n",
    "    #this below is most likely correct ignores the fact that some no_bbb genes might have hit nothing\n",
    "    #at all on the gene level\n",
    "    no_bbb_no_protein_blast_df = no_bbb_df[~no_bbb_df['protein_id'].isin(protein_blast_df[0])]\n",
    "    #these are the no_besties that didn't hit anything at the gene level\n",
    "    key =''\n",
    "    key = no_bbb.split('.')[0]\n",
    "    no_gene_hits[key] = set(no_bestie_dict[key]) - set(no_bbb_df['protein_id'].unique())\n",
    "    pd.DataFrame(list(no_gene_hits[key])).to_csv(key + '.gene.no_genome_blast_hit.txt', sep='\\t', header=None, index=None)\n",
    "    blast_p_no_bestie =''\n",
    "    blast_p_no_bestie = len(no_bbb_df[no_bbb_df['protein_id'].isin(protein_blast_df[0])]['blast_query'].unique())\n",
    "    print('This %i out of %i no_besties of %s had a blast hit which was not RBH' % \\\n",
    "          (blast_p_no_bestie, len(no_bestie_dict[key]),no_bbb.split('.')[0]))\n",
    "    print('This %i out of %i no_besties of %s have no blast hit gene vs. other haplome' % \\\n",
    "         (len(no_gene_hits[key]),len(no_bestie_dict[key]),no_bbb.split('.')[0]))\n",
    "    print(\"No gene hits that have a protein hit\", len(set(no_gene_hits[key])- set(no_hits[key])), key)\n",
    "    groups = no_bbb_no_protein_blast_df.groupby(by='blast_query')\n",
    "    #now filter the dataframe by the smallest e-value for each group == blast_hit\n",
    "    df_filtered = groups.apply(lambda g: g[g['e-value'] == g['e-value'].min()])\n",
    "    df_filtered = df_filtered.reset_index(drop=True)\n",
    "    df_filtered.iloc[:,0:6].to_csv(folder_p+no_bbb[:-4]+'.filteredbesthits.bed', sep='\\t', header=None, index=None)"
   ]
  },
  {
   "cell_type": "code",
   "execution_count": null,
   "metadata": {
    "collapsed": true
   },
   "outputs": [],
   "source": [
    "#all primary proteins no hit need to be split up into pwh and pwoh\n",
    "p_contig_list = []\n",
    "h_contig_list = []\n",
    "for seq in SeqIO.parse('Pst_E104_v1_h_ctg.fa', 'fasta'):\n",
    "    h_contig_list.append(seq.id)\n",
    "for seq in SeqIO.parse('Pst_E104_v1_p_ctg.fa', 'fasta'):\n",
    "    p_contig_list.append(seq.id)"
   ]
  },
  {
   "cell_type": "code",
   "execution_count": null,
   "metadata": {
    "collapsed": false
   },
   "outputs": [],
   "source": [
    "pwh_set = set([x[0:11].replace('h','p') for x in h_contig_list])\n",
    "pwoh_set = set(p_contig_list) - pwh_set\n",
    "print(\"P_contigs with h_contig are %i and without %i\" % (len(pwh_set), len(pwoh_set)))"
   ]
  },
  {
   "cell_type": "code",
   "execution_count": null,
   "metadata": {
    "collapsed": true
   },
   "outputs": [],
   "source": [
    "def pwh_filter (x):\n",
    "    p_contig = x.split('.')[2]\n",
    "    if p_contig in pwh_set:\n",
    "        return 1\n",
    "    else:\n",
    "        return 0"
   ]
  },
  {
   "cell_type": "code",
   "execution_count": null,
   "metadata": {
    "collapsed": false
   },
   "outputs": [],
   "source": [
    "fa_protein_dict['Pst_E104_v1_p_ctg_pwh']= [x for x in fa_protein_dict['Pst_E104_v1_p_ctg'] if x.split('.')[2] in pwh_set]\n",
    "fa_protein_dict['Pst_E104_v1_p_ctg_pwoh']= [x for x in fa_protein_dict['Pst_E104_v1_p_ctg'] if x.split('.')[2] in pwoh_set]\n",
    "print(len(fa_protein_dict['Pst_E104_v1_p_ctg_pwh']), len(fa_protein_dict['Pst_E104_v1_p_ctg_pwoh']), len (fa_protein_dict['Pst_E104_v1_p_ctg']))\n"
   ]
  },
  {
   "cell_type": "code",
   "execution_count": null,
   "metadata": {
    "collapsed": false
   },
   "outputs": [],
   "source": [
    "p_txt = [x for x in os.listdir(folder_p) if x.split('.')[0] == 'Pst_E104_v1_p_ctg' and x.endswith('.txt')\\\n",
    "        and not 'pwh' in x and not 'pwoh' in x]"
   ]
  },
  {
   "cell_type": "code",
   "execution_count": null,
   "metadata": {
    "collapsed": false
   },
   "outputs": [],
   "source": [
    "p_txt"
   ]
  },
  {
   "cell_type": "code",
   "execution_count": null,
   "metadata": {
    "collapsed": false
   },
   "outputs": [],
   "source": [
    "#filter and summarize the p results based on pwh and pwoh \n",
    "p_txt = [x for x in os.listdir(folder_p) if x.split('.')[0] == 'Pst_E104_v1_p_ctg' and x.endswith('.txt')\\\n",
    "        and not 'pwh' in x and not 'pwoh' in x and not x.endswith('besties.txt')]\n",
    "for x in p_txt:\n",
    "    #print(x)\n",
    "    df_p = pd.read_csv(x, header=None, sep='\\t')\n",
    "    #df_p.head()\n",
    "    df_p['pwh'] = df_p[0].apply(pwh_filter)\n",
    "    df_p[df_p['pwh'] == 1].to_csv(x[:-4]+'pwh.txt', sep ='\\t', header=None, index=None)\n",
    "    df_p[df_p['pwh'] == 0].to_csv(x[:-4]+'pwoh.txt', sep ='\\t', header=None, index=None)\n",
    "    print ('For pwh:')\n",
    "    print('For this condition %s %i proteins out of %i (%.2f) are affected for pwh'% \\\n",
    "          (x, sum(df_p['pwh']),len(fa_protein_dict['Pst_E104_v1_p_ctg_pwh']), \\\n",
    "           sum(df_p['pwh'])/len(fa_protein_dict['Pst_E104_v1_p_ctg_pwh'])*100 ))\n",
    "    print ('For pwoh:')e\n",
    "    print('For this condition %s %i proteins out of %i (%i) are affected for pwoh'% \\\n",
    "         (x, len(df_p['pwh']) - sum(df_p['pwh']),len(fa_protein_dict['Pst_E104_v1_p_ctg_pwoh']),\\\n",
    "        (len(df_p['pwh']) - sum(df_p['pwh']))/len(fa_protein_dict['Pst_E104_v1_p_ctg_pwoh'])*100 ))\n",
    "     \n",
    "\n",
    "from Bio import SeqIO\n",
    "import os\n",
    "\n",
    "os.chdir('/home/benjamin/genome_assembly/PST79/FALCON/p_assemblies/v9_1/Pst_E104_v1/blastp_on_p')\n",
    "len_pwh = 0\n",
    "len_pwoh = 0\n",
    "for seq in SeqIO.parse('Pst_E104_v1_p_ctg.fa', 'fasta'):\n",
    "    if seq.id in pwh_set:\n",
    "        len_pwh = len_pwh + len(seq.seq)\n",
    "    if seq.id in pwoh_set:\n",
    "        len_pwoh = len_pwoh + len(seq.seq)\n",
    "print(\"Lenght of pwoh %i, lenght of pwo %i, total length p %i\" %(len_pwh,len_pwoh,len_pwh+len_pwoh ))"
   ]
  },
  {
   "cell_type": "code",
   "execution_count": null,
   "metadata": {
    "collapsed": true
   },
   "outputs": [],
   "source": [
    "def same_contig_blast(x,y):\n",
    "    '''Function that checks if the blast hit in columne y is on the same contig as the the query sequence in\n",
    "    column y.\n",
    "    '''\n",
    "    q_contig = x.split('.')[2].split('_')[1]\n",
    "    hit_contig = y.split('_')[1]\n",
    "    if q_contig == hit_contig:\n",
    "        return True\n",
    "    else:\n",
    "        return False"
   ]
  },
  {
   "cell_type": "code",
   "execution_count": null,
   "metadata": {
    "collapsed": false
   },
   "outputs": [],
   "source": [
    "import pysam\n",
    "from Bio.SeqRecord import SeqRecord\n",
    "from Bio.Seq import Seq\n",
    "nfb_gene_blast_bed = [x for x in os.listdir(folder_p) if x.endswith('no_filtered_blast_hit.fa.outfmt6.bed')]\n",
    "nfb_gene_blast_bed.sort()\n",
    "protein_dict_nfb_bhits = {}\n",
    "protein_dict_nfb = {} #get a list of all proteins of nfb that don't have a hit when blasted at the gene level too\n",
    "#get the fasta genome files\n",
    "tmp_genome_files = ['Pst_E104_v1_p_ctg.fa', 'Pst_E104_v1_h_ctg.fa']\n",
    "protein_fa_files = [x for x in os.listdir(folder_p) if x.endswith('anno.RepaseTPSI_filtered.protein.fa')]\n",
    "for bed_file in nfb_gene_blast_bed:\n",
    "    print('This %s is the current bed file being processed' % (bed_file))\n",
    "    nfb_gene_blast_bed_df =''\n",
    "    nfb_gene_blast_bed_df = pd.read_csv(bed_file, header=None, sep='\\t' )\n",
    "    #now add another column to the dateframe that stats if the hit and query are on the same contig\n",
    "    nfb_gene_blast_bed_df['Same_contig'] = nfb_gene_blast_bed_df[3].combine(nfb_gene_blast_bed_df[0], func=same_contig_blast)\n",
    "    #initialize some temporary df for filtering\n",
    "    tmp_same_contig_df =''\n",
    "    tmp_best_hits_df =''\n",
    "    tmp_groups =''\n",
    "    tmp_best_hits_filtered =''\n",
    "    #get all blast hits that are on the same contig\n",
    "    tmp_same_contig_df = nfb_gene_blast_bed_df[nfb_gene_blast_bed_df['Same_contig'] == True]\n",
    "    #get the best remaining blast hit(s)\n",
    "    tmp_best_hits_df = nfb_gene_blast_bed_df[nfb_gene_blast_bed_df['Same_contig'] == False].sort_values(by=[3,4])\n",
    "    tmp_groups = tmp_best_hits_df.groupby(by=3)\n",
    "    #now filter the dataframe by the smallest e-value for each group == Query/3\n",
    "    tmp_best_hits_df_filtered = tmp_groups.apply(lambda g: g[g[4] == g[4].min()]) \n",
    "    tmp_best_hits_df_filtered = tmp_best_hits_df_filtered.reset_index(drop=True)\n",
    "    nfb_gene_blast_bed_df_filtered = ''\n",
    "    nfb_gene_blast_bed_df_filtered = pd.concat([tmp_best_hits_df_filtered, tmp_same_contig_df]).sort_values(by=[3,4]).reset_index(drop=True)\n",
    "    #now get the loop through the df. pull out the protein sequences and corresponding hits. save them to new folders.\n",
    "    #extend the script. \n",
    "    #get all the blasted sequences that had a hit == unique querries\n",
    "    tmp_queries = ''\n",
    "    tmp_queries = nfb_gene_blast_bed_df_filtered[3].unique()\n",
    "    #get all the protein sequences in a dictionary with protein ID being the key and the values being a SeqIO object\n",
    "    #get the fasta genome files\n",
    "    tmp_genome_file = [x for x in tmp_genome_files if not x.startswith(bed_file.split('.')[0])][0]\n",
    "    genome_fa = ''\n",
    "    genome_fa = pysam.FastaFile(tmp_genome_file)\n",
    "    tmp_queries_id = [x.replace('TU', 'model') for x in tmp_queries]\n",
    "    tmp_protein_fa_file = [x for x in protein_fa_files if x.startswith(bed_file.split('.')[0])][0]\n",
    "    for seq in SeqIO.parse(open(tmp_protein_fa_file), 'fasta'):\n",
    "            if seq.id in tmp_queries_id:\n",
    "                protein_dict_nfb[seq.id] = seq\n",
    "    #add this tmp_protein_dict_nfb to the full protein dict to keep track\n",
    "    #check why only one file gets processed.\n",
    "    \n",
    "    \n",
    "    #make a dict that gets the blast hit sequences in +30kb each side for alignments of protein sequences on top of them. \n",
    "    #The value of this dict will be a list of SeqIO objects\n",
    "    \n",
    "    tmp_list = [] #tmp_list to save the SeqIO objects for the blast hits in\n",
    "    print(len(tmp_queries))\n",
    "    for query in tmp_queries:\n",
    "        #print(query)\n",
    "        tmp_list = []\n",
    "        tmp_df = nfb_gene_blast_bed_df_filtered[nfb_gene_blast_bed_df_filtered[3] == query]\n",
    "        #do groupby instead here on columns one. Take min of column 1 and max of column 2 as start/stop +-\n",
    "        #this avoids to mess around with mutliple hits on the same contig\n",
    "        tmp_hit = tmp_df[0].unique()\n",
    "        for hit in tmp_hit:\n",
    "            tmp_df_2 = tmp_df[tmp_df[0] == hit]\n",
    "            start = tmp_df_2[1].min() - 30000\n",
    "            if start < 1:\n",
    "                start = 1\n",
    "            end = tmp_df_2[2].max() + 30000\n",
    "            seq = genome_fa.fetch(hit, start, end)\n",
    "            seq_r = '' #initialize empty SeqIO record\n",
    "            seq_id = hit + '_' + str(start) + '_' + str(end)\n",
    "            seq_ob = Seq(seq)\n",
    "            seq_ob.alphabet = 'fasta'\n",
    "            seq_r = SeqRecord(seq_ob)\n",
    "            seq_r.id = seq_id\n",
    "            tmp_list.append(seq_r)\n",
    "        protein_dict_nfb_bhits[query] = tmp_list"
   ]
  },
  {
   "cell_type": "code",
   "execution_count": null,
   "metadata": {
    "collapsed": true
   },
   "outputs": [],
   "source": [
    "#generate a dicts for the summary dataframes for no_filtered_blast_hits\n",
    "no_filtered_blast_sdf = {}\n",
    "keys = no_filtered_blast_dict.keys()\n",
    "for key in keys:\n",
    "    tmp_df = ''\n",
    "    tmp_df = pd.DataFrame.from_dict(no_filtered_blast_dict[key])\n",
    "    tmp_df.rename(columns={0:'gene_model'}, inplace = True)\n",
    "    no_filtered_blast_sdf[key] = tmp_df\n",
    "\n",
    "#now add the length column to the data frame by using the fa_protein_length_dict \n",
    "for key in keys:\n",
    "    tmp_length_df = ''\n",
    "    tmp_length_df = pd.DataFrame.from_dict(fa_protein_length_dict[key], orient='index')\n",
    "    tmp_length_df['gene_model'] = tmp_length_df.index\n",
    "    tmp_length_df.reset_index(inplace=True, drop=True)\n",
    "    tmp_length_df.rename(columns={0:'protein_length'}, inplace=True)\n",
    "    tmp_length_df = tmp_length_df[tmp_length_df['gene_model'].isin(no_filtered_blast_sdf[key]['gene_model'])]\n",
    "    tmp_length_df.reset_index(inplace=True, drop = True)\n",
    "    no_filtered_blast_sdf[key] = pd.merge(tmp_length_df, no_filtered_blast_sdf[key])\n",
    "\n",
    "#now add colum to the dataframe if or no the protein had a gene blast hit\n",
    "for key in keys:\n",
    "    tmp_gene_hit_df = ''\n",
    "    #get the right df from no_filtered_gene_blast_hits\n",
    "    tmp_gene_hit_df = nfb_gene_blast_bed_df_filtered_dict[key]\n",
    "    #make a true false series if gene_models are having a blast hit\n",
    "    tmp_gene_hit_bol_series = no_filtered_blast_sdf[key]['gene_model'].isin(tmp_gene_hit_df[3].str.replace('TU', 'model'))\n",
    "    no_filtered_blast_sdf[key]['gene_hit'] = tmp_gene_hit_bol_series"
   ]
  },
  {
   "cell_type": "code",
   "execution_count": null,
   "metadata": {
    "collapsed": true
   },
   "outputs": [],
   "source": [
    "os.chdir(working_dir)"
   ]
  },
  {
   "cell_type": "code",
   "execution_count": null,
   "metadata": {
    "collapsed": true
   },
   "outputs": [],
   "source": [
    "#now loop over the dicts protein_dict_nfb_bhits and protein_dict_nfb with the keys and print out the sequences in a \n",
    "#new folder for each hit and write a script for this later\n",
    "#exonerate folder initially was based on each blast hit form blast previously using interrow over the tmp_df above. \n",
    "#in some cases this lead to hundreds of hits on the same contig often in close proximity. This has been reduced \n",
    "#to one selected contig sequence per hit."
   ]
  },
  {
   "cell_type": "code",
   "execution_count": null,
   "metadata": {
    "collapsed": false
   },
   "outputs": [],
   "source": [
    "#make new folder for exonerate\n",
    "working_dir = os.path.abspath(folder_p)\n",
    "exonerate_folder = os.path.join(working_dir, 'exonerate_2')\n",
    "if not os.path.exists(exonerate_folder):\n",
    "    os.mkdir(exonerate_folder)\n",
    "protein_keys = [x.replace('TU', 'model') for x in protein_dict_nfb_bhits.keys()]\n",
    "for key in protein_keys:\n",
    "    new_folder = os.path.join(exonerate_folder, key)\n",
    "    if not os.path.exists(new_folder):\n",
    "        os.mkdir(new_folder)\n",
    "    os.chdir(new_folder)\n",
    "    out_p_f = open(key+'.fa', 'w')\n",
    "    SeqIO.write(protein_dict_nfb[key], out_p_f, 'fasta')\n",
    "    out_p_f.close()\n",
    "    p_key = key.replace('model', 'TU')\n",
    "    for seq in protein_dict_nfb_bhits[p_key]:\n",
    "        out_t_f = open(seq.id + '.fa', 'w')\n",
    "        SeqIO.write(seq, out_t_f, 'fasta')\n",
    "        out_t_f.close()\n",
    "    os.chdir(working_dir)\n",
    "    "
   ]
  },
  {
   "cell_type": "code",
   "execution_count": null,
   "metadata": {
    "collapsed": false
   },
   "outputs": [],
   "source": [
    "#make write exonerate script\n",
    "working_dir = os.path.abspath(folder_p)\n",
    "os.chdir(working_dir)\n",
    "protein_keys = [x.replace('TU', 'model') for x in protein_dict_nfb_bhits.keys()]\n",
    "out_exonerate = open('exonerate_alignments_vulgar2.sh', 'w')\n",
    "out_exonerate.write('#!/bin/bash\\n')\n",
    "for key in protein_keys:\n",
    "    new_folder = os.path.join(exonerate_folder, key)\n",
    "    protein_file_name = key+'.fa'\n",
    "    p_key = key.replace('model', 'TU')\n",
    "    out_exonerate.write('cd %s\\n'% (new_folder))\n",
    "    for seq in protein_dict_nfb_bhits[p_key]:\n",
    "        target_file_name = seq.id + '.fa'\n",
    "        out_exonerate.write('exonerate --model protein2genome --percent 20 -q %s -t %s --showalignment False -S > %s.vulgar_exn\\n'\\\n",
    "                           %(protein_file_name, target_file_name,target_file_name ))\n",
    "out_exonerate.write('cd %s\\n' %(working_dir))\n",
    "out_exonerate.close()\n",
    "os.chdir(working_dir)"
   ]
  },
  {
   "cell_type": "code",
   "execution_count": null,
   "metadata": {
    "collapsed": true
   },
   "outputs": [],
   "source": [
    "#! bash exonerate_alignments_vulgar2.sh"
   ]
  },
  {
   "cell_type": "code",
   "execution_count": null,
   "metadata": {
    "collapsed": true
   },
   "outputs": [],
   "source": [
    "#make write exonerate script\n",
    "working_dir = os.path.abspath(folder_p)\n",
    "os.chdir(working_dir)\n",
    "protein_keys = [x.replace('TU', 'model') for x in protein_dict_nfb_bhits.keys()]\n",
    "out_exonerate = open('exonerate_alignments2.sh', 'w')\n",
    "out_exonerate.write('#!/bin/bash\\n')\n",
    "for key in protein_keys:\n",
    "    new_folder = os.path.join(exonerate_folder, key)\n",
    "    protein_file_name = key+'.fa'\n",
    "    p_key = key.replace('model', 'TU')\n",
    "    out_exonerate.write('cd %s\\n'% (new_folder))\n",
    "    for seq in protein_dict_nfb_bhits[p_key]:\n",
    "        target_file_name = seq.id + '.fa'\n",
    "        out_exonerate.write('exonerate --model protein2genome --percent 20 -q %s -t %s --showalignment -S > %s.exn\\n'\\\n",
    "                           %(protein_file_name, target_file_name,target_file_name ))\n",
    "out_exonerate.write('cd %s\\n' %(working_dir))\n",
    "out_exonerate.close()\n",
    "os.chdir(working_dir)"
   ]
  },
  {
   "cell_type": "code",
   "execution_count": null,
   "metadata": {
    "collapsed": true
   },
   "outputs": [],
   "source": [
    "#!bash exonerate_alignments2.sh"
   ]
  },
  {
   "cell_type": "code",
   "execution_count": null,
   "metadata": {
    "collapsed": false
   },
   "outputs": [],
   "source": [
    "#no loop through the exonerate vulgar result and generate a dictionray of the results\n",
    "#if hsps query range == (0, query_length) and not F in .vulgar_comp it is likely that the alignment is actually good\n",
    "#and and the gene model might have been dropped for another reason\n",
    "working_dir = os.path.abspath(folder_p)\n",
    "exonerate_folder = os.path.join(working_dir, 'exonerate_2')\n",
    "protein_keys = [x.replace('TU', 'model') for x in protein_dict_nfb_bhits.keys()]\n",
    "#a dict that has the gene model as key and the results of exonerate (True/False) as value.\n",
    "exonerate_dict = {}\n",
    "exonerate_best_hit_dict = {}\n",
    "#now loop through the exonerate folders\n",
    "for key in protein_keys:\n",
    "    new_folder = os.path.join(exonerate_folder, key)\n",
    "    os.chdir(new_folder)\n",
    "    if key.split('.')[2].startswith('h'):\n",
    "        query_length = fa_protein_length_dict['Pst_E104_v1_h_ctg'][key]\n",
    "    else:\n",
    "        query_length = fa_protein_length_dict['Pst_E104_v1_p_ctg'][key]\n",
    "    counter = 0\n",
    "    vulgar_exn = [x for x in os.listdir() if x.endswith('vulgar_exn')]\n",
    "    opt_query_range = (0, query_length)\n",
    "    #loop through vulgar parser and see if hit is \n",
    "    best_score = 0\n",
    "    best_hit = ''\n",
    "    for fname in vulgar_exn:\n",
    "        result = SearchIO.parse(fname, 'exonerate-vulgar') \n",
    "        for hit in result:\n",
    "            #loop through all hsps hits\n",
    "            for hsps in hit.hsps:\n",
    "                hsps_range = hsps.query_range\n",
    "                vulgar_list = hsps.vulgar_comp.strip(' ').split(' ')\n",
    "                #print(hsps_range, vulgar_list)\n",
    "                #this is the contition for something being a potential protein alignment that\n",
    "                #has been left out\n",
    "                if hsps_range == opt_query_range and 'F' not in vulgar_list:\n",
    "                    counter += 1\n",
    "                    if hsps.score > best_score:\n",
    "                        best_hit = hsps.hit_id\n",
    "                    #print(key)\n",
    "    if counter > 0:\n",
    "        exonerate_dict[key] = True\n",
    "        exonerate_best_hit_dict[key] = best_hit\n",
    "    else:\n",
    "        exonerate_dict[key] = False\n",
    "    \n",
    "    os.chdir(working_dir)"
   ]
  },
  {
   "cell_type": "code",
   "execution_count": null,
   "metadata": {
    "collapsed": false
   },
   "outputs": [],
   "source": [
    "#now add colum to the dataframe if or not a protein sequence could be aligned back to the gene blast hit using exonerate\n",
    "#plus a column that describes the best exonerate hit\n",
    "keys = no_filtered_blast_dict.keys()\n",
    "for key in keys:\n",
    "    #pull in the two exonerate df to be combined with the no_filtered_blast_sdf dataframe\n",
    "    tmp_exonerate_dict_df = pd.DataFrame.from_dict(exonerate_dict, orient='index')\n",
    "    tmp_exonerate_dict_df['gene_model'] = tmp_exonerate_dict_df.index\n",
    "    tmp_exonerate_dict_df.rename(columns={0:'exonerate_hit'}, inplace=True)\n",
    "    tmp_exonerate_dict_df.reset_index(inplace=True, drop=True)\n",
    "    tmp_exonerate_best_hit_dict_df = pd.DataFrame.from_dict(exonerate_best_hit_dict, orient='index')\n",
    "    tmp_exonerate_best_hit_dict_df['gene_model'] = tmp_exonerate_best_hit_dict_df.index\n",
    "    tmp_exonerate_best_hit_dict_df.rename(columns={0:'exonerate_best_hit'}, inplace=True)\n",
    "    tmp_exonerate_best_hit_dict_df.reset_index(inplace=True, drop=True)\n",
    "    tmp_exonerate_df = pd.merge(tmp_exonerate_best_hit_dict_df,tmp_exonerate_dict_df)  #same length so no out neccessary\n",
    "    tmp_exonerate_df.reset_index(inplace=True, drop=True)\n",
    "    if 'h_ctg' in key:\n",
    "        tmp_exonerate_df = tmp_exonerate_df[tmp_exonerate_df.gene_model.str.contains('hcontig')]\n",
    "    else:\n",
    "        tmp_exonerate_df =tmp_exonerate_df[tmp_exonerate_df.gene_model.str.contains('pcontig')]\n",
    "    tmp_exonerate_df.reset_index(inplace=True, drop=True)\n",
    "    no_filtered_blast_sdf[key]= pd.merge( no_filtered_blast_sdf[key],tmp_exonerate_df, how='outer').fillna(value=False)"
   ]
  },
  {
   "cell_type": "code",
   "execution_count": null,
   "metadata": {
    "collapsed": true
   },
   "outputs": [],
   "source": [
    "#add another column for genes being on pwh or not\n",
    "for key in keys:\n",
    "    df_p['pwh'] = df_p[0].apply(pwh_filter)\n",
    "    no_filtered_blast_sdf[key]['pwh'] = no_filtered_blast_sdf[key]['gene_model'].apply(pwh_filter)"
   ]
  },
  {
   "cell_type": "code",
   "execution_count": null,
   "metadata": {
    "collapsed": false
   },
   "outputs": [],
   "source": [
    "#now save the dataframes for now\n",
    "for key in keys:\n",
    "    filename = key + '.no_filtered_blast_sdf.tab'\n",
    "    no_filtered_blast_sdf[key].to_csv(filename, index=None, sep='\\t')"
   ]
  },
  {
   "cell_type": "code",
   "execution_count": null,
   "metadata": {
    "collapsed": false
   },
   "outputs": [],
   "source": [
    "!pwd"
   ]
  },
  {
   "cell_type": "code",
   "execution_count": null,
   "metadata": {
    "collapsed": false
   },
   "outputs": [],
   "source": [
    "#next step is to get the gffs for all the the no_filtered blast hits for both p and h contigs that do not have a exonerate-hit\n",
    "#in case of the p contigs these need to be compared to the unqie bed dataframes using pybed tools\n",
    "\n",
    "#pull in gff dataframe and parse out gene model into a new column use this column for filtering down the dataframe\n",
    "#write this out again and load as bedfile\n",
    "\n",
    "\n",
    "\n",
    "\n",
    "\n"
   ]
  },
  {
   "cell_type": "code",
   "execution_count": null,
   "metadata": {
    "collapsed": true
   },
   "outputs": [],
   "source": [
    "def col_8_id(x):\n",
    "    import re\n",
    "    pattern = r'ID=([a-zA-Z0-9_.]*);'\n",
    "    regex = re.compile(pattern)  \n",
    "    m = regex.search(x)\n",
    "    match = m.groups()[0].replace('TU', 'model')\n",
    "    if match.startswith('cds.'):\n",
    "        match = match[4:]\n",
    "    if 'exon' in match:\n",
    "        _list = match.split('.')\n",
    "        match = '.'.join(_list[:-1])\n",
    "    return match\n"
   ]
  },
  {
   "cell_type": "code",
   "execution_count": null,
   "metadata": {
    "collapsed": true
   },
   "outputs": [],
   "source": [
    "#read in gene annotation gff files for downstream analysis\n",
    "annotation_folder = '/home/benjamin/genome_assembly/PST79/FALCON/p_assemblies/v9_1/122016_assembly'\n",
    "gene_anno_gffs = [x for x in os.listdir(annotation_folder) if x.endswith('anno.RepaseTPSI_filtered.gff3') and x.startswith('Pst_E104_v11')]\n",
    "gene_anno_gff_dict = {}\n",
    "for file in gene_anno_gffs:\n",
    "    full_file_path = os.path.join(annotation_folder, file)\n",
    "    tmp_df =  pd.read_csv(full_file_path, header=None, sep='\\t')\n",
    "    tmp_df['gene_model'] = tmp_df[8].apply(col_8_id)\n",
    "    gene_anno_gff_dict[file.split('.')[0].replace('11', '1')] =  tmp_df"
   ]
  },
  {
   "cell_type": "code",
   "execution_count": null,
   "metadata": {
    "collapsed": false
   },
   "outputs": [],
   "source": [
    "#filter gene annotation gff files for downstream analysis and save to file\n",
    "os.chdir(working_dir)\n",
    "keys = no_filtered_blast_sdf.keys()\n",
    "no_filtered_blast_gffs_plus = {}\n",
    "for key in keys:\n",
    "    tmp_df_gff = ''\n",
    "    tm_df_nfb = ''\n",
    "    tmp_df = ''\n",
    "    tmp_df_gff = gene_anno_gff_dict[key]\n",
    "    tmp_df_nfb = no_filtered_blast_sdf[key]\n",
    "    tmp_df = tmp_df_gff[tmp_df_gff['gene_model'].isin(tmp_df_nfb['gene_model'].tolist())]\n",
    "    tmp_df.reset_index(inplace=True, drop=True)\n",
    "    no_filtered_blast_gffs_plus[key] = tmp_df\n",
    "    file_name = key+'.anno.no_filtered_blast.gff3'\n",
    "    no_filtered_blast_gffs_plus[key].iloc[:,range(0,9)].to_csv(file_name, header=None, sep='\\t', index=None)\n",
    "    gene_file_name = key+'.gene.no_filtered_blast.gff3'\n",
    "    no_filtered_blast_gffs_plus[key][no_filtered_blast_gffs_plus[key][2] == 'gene'].iloc[:,range(0,9)].to_csv(gene_file_name, header=None, sep='\\t', index=None)\n",
    "    tmp_df_gff = ''\n",
    "    tm_df_nfb = ''\n",
    "    tmp_df = ''"
   ]
  },
  {
   "cell_type": "code",
   "execution_count": null,
   "metadata": {
    "collapsed": false
   },
   "outputs": [],
   "source": [
    "#now lead into the  Pst_E104_v1_p_ctg.gene.no_filtered_blast.gff3 and the Pst_E104_v1_ph_ctg.ph_p_homo_cov.bed as \n",
    "#bed files and do an intersect\n",
    "from pybedtools import BedTool\n",
    "cov_folder = '/home/benjamin/genome_assembly/PST79/FALCON/p_assemblies/v9_1/Pst_E104_v1/COV'\n",
    "homo_cov_ph_p = 'Pst_E104_v1_ph_ctg.ph_p_homo_cov.bed'\n",
    "homo_cov_ph_p_bed = BedTool(os.path.join(cov_folder, homo_cov_ph_p))"
   ]
  },
  {
   "cell_type": "code",
   "execution_count": null,
   "metadata": {
    "collapsed": false
   },
   "outputs": [],
   "source": [
    "#read in no blast hit gene gff of primary contigs \n",
    "no_filtered_blast_gene_p = 'Pst_E104_v1_p_ctg.gene.no_filtered_blast.gff3'\n",
    "no_filtered_blast_gene_p_bed = BedTool(os.path.join(working_dir, no_filtered_blast_gene_p))"
   ]
  },
  {
   "cell_type": "code",
   "execution_count": null,
   "metadata": {
    "collapsed": false
   },
   "outputs": [],
   "source": [
    "#get the id of all genes of no filtered blast hits that overlap at all with homo coverage of ph mapping on p\n",
    "gene_ids_ph_p_homo = []\n",
    "for x in no_filtered_blast_gene_p_bed.intersect(homo_cov_ph_p_bed):\n",
    "    y = col_8_id(x[8])\n",
    "    gene_ids_ph_p_homo.append(y)"
   ]
  },
  {
   "cell_type": "code",
   "execution_count": null,
   "metadata": {
    "collapsed": false
   },
   "outputs": [],
   "source": [
    "#now filter the no_filtered_blast_gffs_plus_p and save the data frame as gff file again\n",
    "no_filtered_blast_gffs_plus_p = no_filtered_blast_gffs_plus['Pst_E104_v1_p_ctg']\n",
    "no_filtered_blast_gffs_plus_p[~no_filtered_blast_gffs_plus_p['gene_model'].isin(gene_ids_ph_p_homo)]\n",
    "no_filtered_blast_gffs_plus_p_no_homo = no_filtered_blast_gffs_plus_p[~no_filtered_blast_gffs_plus_p['gene_model'].isin(gene_ids_ph_p_homo)]\n",
    "no_filtered_blast_gffs_plus_p_no_homo.iloc[:,range(0,9)].to_csv\\\n",
    "('Pst_E104_v1_p_ctg.anno.no_filtered_blast.no_homo.gff3', header=None, sep='\\t', index=None)"
   ]
  },
  {
   "cell_type": "code",
   "execution_count": null,
   "metadata": {
    "collapsed": true
   },
   "outputs": [],
   "source": [
    "#add new column to the summary dataframe that looks for ph_h_homo coverage (this is actually only true for contigs with \n",
    "# mean coverage < 2000)\n",
    "tmp_nfb_sdf_p = no_filtered_blast_sdf['Pst_E104_v1_p_ctg']\n",
    "tmp_homo_p_series = tmp_nfb_sdf_p['gene_model'].isin(gene_ids_ph_p_homo)\n",
    "tmp_nfb_sdf_p['ph_p_homo_cov'] = tmp_homo_p_series\n",
    "no_filtered_blast_sdf['Pst_E104_v1_p_ctg'] = tmp_nfb_sdf_p\n",
    "filename = 'Pst_E104_v1_p_ctg' + '.no_filtered_blast_sdf.tab'\n",
    "no_filtered_blast_sdf['Pst_E104_v1_p_ctg'].to_csv(filename, index=None, sep='\\t')"
   ]
  },
  {
   "cell_type": "markdown",
   "metadata": {},
   "source": [
    "## up to here looks good consider that high cov contigs are not filtered out yet"
   ]
  },
  {
   "cell_type": "code",
   "execution_count": null,
   "metadata": {
    "collapsed": false
   },
   "outputs": [],
   "source": [
    "tmp_nfb_sdf_p[(tmp_nfb_sdf_p['pwh'] == False)&(tmp_nfb_sdf_p['exonerate_hit'] == True)&(tmp_nfb_sdf_p['ph_p_homo_cov'] == True)]"
   ]
  },
  {
   "cell_type": "code",
   "execution_count": null,
   "metadata": {
    "collapsed": false
   },
   "outputs": [],
   "source": [
    "no_filtered_blast_sdf['Pst_E104_v1_p_ctg'][no_filtered_blast_sdf['Pst_E104_v1_p_ctg'].pwh == 0].sum()"
   ]
  },
  {
   "cell_type": "code",
   "execution_count": null,
   "metadata": {
    "collapsed": true
   },
   "outputs": [],
   "source": []
  },
  {
   "cell_type": "code",
   "execution_count": null,
   "metadata": {
    "collapsed": true
   },
   "outputs": [],
   "source": []
  },
  {
   "cell_type": "code",
   "execution_count": null,
   "metadata": {
    "collapsed": false
   },
   "outputs": [],
   "source": [
    "no_filtered_blast_sdf['Pst_E104_v1_p_ctg'].head()"
   ]
  },
  {
   "cell_type": "code",
   "execution_count": null,
   "metadata": {
    "collapsed": false
   },
   "outputs": [],
   "source": [
    "keys"
   ]
  },
  {
   "cell_type": "code",
   "execution_count": null,
   "metadata": {
    "collapsed": false
   },
   "outputs": [],
   "source": [
    "no_filtered_blast_sdf['Pst_E104_v1_h_ctg'][no_filtered_blast_sdf['Pst_E104_v1_h_ctg']['exonerate_hit'] == False]['protein_length'].mean()"
   ]
  },
  {
   "cell_type": "code",
   "execution_count": null,
   "metadata": {
    "collapsed": false
   },
   "outputs": [],
   "source": [
    "no_filtered_blast_sdf['Pst_E104_v1_h_ctg'][no_filtered_blast_sdf['Pst_E104_v1_h_ctg'].pwh == 0]['protein_length'].mean()"
   ]
  },
  {
   "cell_type": "code",
   "execution_count": null,
   "metadata": {
    "collapsed": false
   },
   "outputs": [],
   "source": [
    "no_filtered_blast_sdf['Pst_E104_v1_h_ctg']['protein_length'].hist(bins=20,alpha=0.5, color='g')\n",
    "no_filtered_blast_sdf['Pst_E104_v1_p_ctg']['protein_length'].hist(bins=20,alpha=0.5, color='r')"
   ]
  },
  {
   "cell_type": "code",
   "execution_count": null,
   "metadata": {
    "collapsed": false
   },
   "outputs": [],
   "source": [
    "len(no_filtered_blast_sdf['Pst_E104_v1_h_ctg'][no_filtered_blast_sdf['Pst_E104_v1_h_ctg']['exonerate_hit'] == False])/15000"
   ]
  },
  {
   "cell_type": "code",
   "execution_count": null,
   "metadata": {
    "collapsed": true
   },
   "outputs": [],
   "source": []
  },
  {
   "cell_type": "code",
   "execution_count": null,
   "metadata": {
    "collapsed": true
   },
   "outputs": [],
   "source": []
  },
  {
   "cell_type": "code",
   "execution_count": null,
   "metadata": {
    "collapsed": true
   },
   "outputs": [],
   "source": []
  },
  {
   "cell_type": "code",
   "execution_count": null,
   "metadata": {
    "collapsed": false
   },
   "outputs": [],
   "source": [
    "len(nfb_gene_blast_bed_df_filtered[3].unique())"
   ]
  },
  {
   "cell_type": "code",
   "execution_count": null,
   "metadata": {
    "collapsed": true
   },
   "outputs": [],
   "source": []
  }
 ],
 "metadata": {
  "kernelspec": {
   "display_name": "Python 3",
   "language": "python",
   "name": "python3"
  },
  "language_info": {
   "codemirror_mode": {
    "name": "ipython",
    "version": 3
   },
   "file_extension": ".py",
   "mimetype": "text/x-python",
   "name": "python",
   "nbconvert_exporter": "python",
   "pygments_lexer": "ipython3",
   "version": "3.5.2"
  }
 },
 "nbformat": 4,
 "nbformat_minor": 0
}
