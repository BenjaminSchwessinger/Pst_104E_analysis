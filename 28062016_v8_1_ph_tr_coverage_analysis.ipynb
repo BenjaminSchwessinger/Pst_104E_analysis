{
 "cells": [
  {
   "cell_type": "code",
   "execution_count": 1,
   "metadata": {
    "collapsed": false
   },
   "outputs": [],
   "source": [
    "%matplotlib inline\n",
    "import numpy as np\n",
    "import matplotlib.pyplot as plt\n",
    "from matplotlib.axes import Axes\n",
    "import pandas as pd\n",
    "import itertools\n",
    "import matplotlib\n",
    "import os\n",
    "from Bio import SeqIO\n",
    "from Bio import SeqUtils\n",
    "import matplotlib.cm as cm\n",
    "from ete3 import NCBITaxa"
   ]
  },
  {
   "cell_type": "code",
   "execution_count": 2,
   "metadata": {
    "collapsed": true
   },
   "outputs": [],
   "source": [
    "#define figure space and set up\n",
    "matplotlib.rcParams['figure.figsize'] = (15, 9)\n",
    "font = {'family' : 'normal',\n",
    "        'weight' : 'bold',\n",
    "        'size'   : 20}\n",
    "label_config_x = {'fontsize'            : 'xx-large',\n",
    "      'verticalalignment'   : 'top',\n",
    "      }\n",
    "label_config_y = {'fontsize'            : 'xx-large',\n",
    "      'verticalalignment'   : 'bottom',\n",
    "      'horizontalalignment' : 'center'}\n",
    "matplotlib.rc('font', **font)"
   ]
  },
  {
   "cell_type": "code",
   "execution_count": 3,
   "metadata": {
    "collapsed": true
   },
   "outputs": [],
   "source": [
    "def make_contig_df(contig_path, contig_name):\n",
    "    \"\"\"\n",
    "    Make contig Dataframe from fasta file.\n",
    "    \"\"\"    \n",
    "    f_handle = open(contig_path+'/'+contig_name, mode='r')\n",
    "    contigs = SeqIO.parse(f_handle, 'fasta')\n",
    "    contig_length = []\n",
    "    contig_id =[]\n",
    "    contig_GC = []\n",
    "    assembly_id = []\n",
    "    for x in contigs:\n",
    "        contig_id.append(x.id)\n",
    "        contig_length.append(len(x.seq))\n",
    "        contig_GC.append(SeqUtils.GC(x.seq))\n",
    "        assembly_id.append(p_and_a_ctg_file_name)\n",
    "    s1 = pd.Series(contig_id, name='ID')\n",
    "    s2 = pd.Series(contig_length, name='Length')\n",
    "    s3 = pd.Series(contig_GC, name='%GC')\n",
    "    s4 = pd.Series(assembly_id, name=\"Assembly\")\n",
    "    contig_df = pd.concat([s1, s2, s3, s4], axis=1)\n",
    "    f_handle.close()\n",
    "    return contig_df"
   ]
  },
  {
   "cell_type": "code",
   "execution_count": 4,
   "metadata": {
    "collapsed": true
   },
   "outputs": [],
   "source": [
    "#function to add another column for P and A_contig identification to dataframe\n",
    "def P_and_A_identifier(df):\n",
    "    \"\"\"Method to add primary and alternative contig identifier rows to FC dataframes\"\"\"\n",
    "    primary_list = []\n",
    "    alternative_list = []\n",
    "    return_df = df.iloc[:,:]\n",
    "    for x in return_df.iloc[:,0]:\n",
    "        if \"_\" in list(x):\n",
    "            primary_list.append(0)\n",
    "            alternative_list.append(1)\n",
    "        else:\n",
    "            primary_list.append(1)\n",
    "            alternative_list.append(0)\n",
    "    return_df[\"P_contig\"] = pd.Series(primary_list)\n",
    "    return_df[\"A_contig\"] = pd.Series(alternative_list)\n",
    "    return_df = return_df.reset_index(drop=True)\n",
    "    return return_df"
   ]
  },
  {
   "cell_type": "code",
   "execution_count": 5,
   "metadata": {
    "collapsed": false
   },
   "outputs": [],
   "source": [
    "#function that compares a seed with a result dataframe. It assesses if any initial IDs are missing from the result df\n",
    "#and adds them with '0' in all columns to the result df\n",
    "#ADD VALUE ERROR CHECK FOR EMPTY SEED_DF\n",
    "def no_hit_df_extension(seed_df, result_df):\n",
    "    \"\"\"function that compares a seed with a result dataframe. \n",
    "    It assesses if any initial IDs are missing from the result df\n",
    "    and adds them with '0' in all columns except the ID column.\n",
    "    The first column in each dataframe needs to be labled 'ID'.\"\"\"\n",
    "    if len(list(set(seed_df.iloc[:,0])- set(result_df.iloc[:,0]))) == 0:\n",
    "        #test if there actually missing values\n",
    "        return pd.DataFrame()\n",
    "    else:\n",
    "        no_hit_sr = pd.Series(list(set(seed_df.iloc[:,0])- set(result_df.iloc[:,0])))\n",
    "        #make empty dataframe for no_hits\n",
    "        empty = np.array([[0]*(len(result_df.columns)-1) for x in range(len(no_hit_sr))])\n",
    "        no_hit_df = pd.DataFrame(empty, columns =result_df.columns[1:])\n",
    "        no_hit_df[result_df.columns.tolist()[0]] = no_hit_sr\n",
    "        no_hit_df = no_hit_df[result_df.columns]\n",
    "        return no_hit_df"
   ]
  },
  {
   "cell_type": "code",
   "execution_count": 6,
   "metadata": {
    "collapsed": true
   },
   "outputs": [],
   "source": [
    "def no_hit_bed_addition(reference_bed_df, results_bed_df):\n",
    "    \"\"\"\n",
    "    Function that compares reference bed with hit bed and adds missing zero\n",
    "    cover bed intervals to the results_bed.\n",
    "    \"\"\"\n",
    "    ref_df = reference_bed_df[:]\n",
    "    res_df = results_bed_df[:]\n",
    "    ref_df[\"Total-ID\"] = ref_df[ref_df.columns.tolist()[0]].apply(str) + ref_df[ref_df.columns.tolist()[1]].apply(str)\n",
    "    res_df[\"Total-ID\"] = res_df[res_df.columns.tolist()[0]].apply(str) + res_df[res_df.columns.tolist()[1]].apply(str)\n",
    "    no_hit_list = list(set(ref_df[\"Total-ID\"])- set(res_df[\"Total-ID\"]))\n",
    "    if len(no_hit_list) != 0:\n",
    "        no_hit_df = ref_df[ref_df[\"Total-ID\"].apply(lambda x: x in no_hit_list)]\n",
    "        \n",
    "        no_hit_df[results_bed_df.columns.tolist()[3]] = pd.Series([0]*len(no_hit_df))\n",
    "        no_hit_df[results_bed_df.columns.tolist()[4]] = pd.Series([0]*len(no_hit_df))\n",
    "        del no_hit_df[\"Total-ID\"]\n",
    "        del res_df[\"Total-ID\"]\n",
    "        no_hit_df = no_hit_df.rename(columns=dict(zip(no_hit_df.columns.tolist(), res_df.columns.tolist())))\n",
    "        res_df = res_df.append(no_hit_df)\n",
    "        res_df = res_df.sort_values(by=[res_df.columns.tolist()[0],res_df.columns.tolist()[1]]).reset_index(drop=True)\n",
    "    else:\n",
    "        del res_df[\"Total-ID\"]\n",
    "    res_df.rename(columns=dict(zip(res_df.columns.tolist(), results_bed_df.columns.tolist())))\n",
    "    return res_df.fillna(0)"
   ]
  },
  {
   "cell_type": "code",
   "execution_count": 7,
   "metadata": {
    "collapsed": false
   },
   "outputs": [],
   "source": [
    "def bed_df_generator(file_path, file_name):\n",
    "    \"\"\"\n",
    "    Function that pulls in bed file coverage file. \n",
    "    It labels the header and calculates the average coverage per segment.\n",
    "    \"\"\"\n",
    "    bed_df = pd.read_csv(file_path+'/'+file_name, sep='\\t', header=None)\n",
    "    header_cov = [\"ID-bed\", \"start\", 'stop']\n",
    "    #rename the headear according bed file output\n",
    "    rename = dict(zip(bed_df.columns, header_cov))\n",
    "    bed_df.rename(columns=rename,inplace=True)\n",
    "    #add another column for average coverage\n",
    "    return bed_df.sort_values(by=[bed_df.columns.tolist()[0],bed_df.columns.tolist()[1]]).reset_index(drop=True)\n",
    "#no_hit_df_extension(p_and_a_ctg_df, blast_df)"
   ]
  },
  {
   "cell_type": "code",
   "execution_count": 8,
   "metadata": {
    "collapsed": true
   },
   "outputs": [],
   "source": [
    "def coverage_df_generator(file_path, file_name, seq_type):\n",
    "    \"\"\"\n",
    "    Function that pulls in bed file coverage file. \n",
    "    It labels the header and calculates the average coverage per segment.\n",
    "    \"\"\"\n",
    "    coverage_df = pd.read_csv(file_path+'/'+file_name, sep='\\t', header=None)\n",
    "    header_cov = [\"ID-cov \"+seq_type, \"start \"+seq_type, 'stop '+seq_type, \"total hits \"+seq_type]\n",
    "    #rename the headear according bed file output\n",
    "    rename = dict(zip(coverage_df.columns, header_cov))\n",
    "    coverage_df.rename(columns=rename,inplace=True)\n",
    "    #add another column for average coverage\n",
    "    coverage_df[\"Average Coverage \"+seq_type] = np.round(coverage_df['total hits '+seq_type]/(coverage_df['stop '+seq_type] -coverage_df['start '+seq_type]),3)\n",
    "    #sort by column 1 and 2 in if one contig is split up into multiple parts in bed file\n",
    "    coverage_df = coverage_df.sort_values(by=[coverage_df.columns.tolist()[0],coverage_df.columns.tolist()[1]]).reset_index(drop=True)\n",
    "    return coverage_df\n"
   ]
  },
  {
   "cell_type": "code",
   "execution_count": 9,
   "metadata": {
    "collapsed": true
   },
   "outputs": [],
   "source": [
    "def coverage_df_generator_all(file_path, file_name, seq_type, seed_df):\n",
    "    \"\"\"\n",
    "    Function that pulls in bed file coverage file. \n",
    "    It labels the header and calculates the average coverage per segment.\n",
    "    This also adds the IDs for which no hits have been reported.\n",
    "    It returns a sorted df on the first ID column.\n",
    "    \"\"\"\n",
    "    coverage_df = pd.read_csv(file_path+'/'+file_name, sep='\\t', header=None)\n",
    "    header_cov = [\"ID-cov \"+seq_type, \"start \"+seq_type, 'stop '+seq_type, \"total hits \"+seq_type]\n",
    "    #rename the headear according bed file output\n",
    "    rename = dict(zip(coverage_df.columns, header_cov))\n",
    "    coverage_df.rename(columns=rename,inplace=True)\n",
    "    #add another column for average coverage\n",
    "    coverage_df[\"Average Coverage \"+seq_type] = np.round(coverage_df['total hits '+seq_type]/(coverage_df['stop '+seq_type] -coverage_df['start '+seq_type]),3)\n",
    "    #get no hit df, append and sort\n",
    "    #coverage_all_df = coverage_df.append(no_hit_df_extension(seed_df, coverage_df))\n",
    "    #sort by column 1 and 2 in if one contig is split up into multiple parts in bed file\n",
    "    coverage_df = coverage_df.sort_values(by=[coverage_df.columns.tolist()[0],coverage_df.columns.tolist()[1]]).reset_index(drop=True)\n",
    "    return coverage_all_df\n",
    "#no_hit_df_extension(p_and_a_ctg_df, blast_df)"
   ]
  },
  {
   "cell_type": "code",
   "execution_count": 10,
   "metadata": {
    "collapsed": true
   },
   "outputs": [],
   "source": [
    "#here pull in intial unpolished query file from Falcon_unzip p_and_h_ctg and generate a dataframe\n",
    "p_and_a_ctg_path ='/Users/ben/Documents/work_related/Canberra/RJ_lab_projects/Rust_genome_sequencing/PST79/analysis/PacBio_SCH1743/FALCON_0_4_assemblies/p_assemblies/v8_1/v8_1_unzip/'\n",
    "p_and_a_ctg_file_name = 'v8_1_ph_tr_ctg.fa'\n"
   ]
  },
  {
   "cell_type": "code",
   "execution_count": 11,
   "metadata": {
    "collapsed": true
   },
   "outputs": [],
   "source": [
    "#define used bed files p and pa\n",
    "bed_path ='/Users/ben/Documents/work_related/Canberra/RJ_lab_projects/Rust_genome_sequencing/PST79/analysis/PacBio_SCH1743/FALCON_0_4_assemblies/p_assemblies/v4_1'\n",
    "bed_file_p='v4_1_pa_qcc22_pilon_p_ctg.1000.bed'\n",
    "bed_file_pa='v4_1_pa_qcc22.pilon.1000.bed'"
   ]
  },
  {
   "cell_type": "code",
   "execution_count": null,
   "metadata": {
    "collapsed": true
   },
   "outputs": [],
   "source": [
    "#here enter in coverage files having the same IDs as seed file. This file has been produced by 'samtools bedcov'\n",
    "cov_path='/Users/ben/Documents/work_related/Canberra/RJ_lab_projects/Rust_genome_sequencing/PST79/analysis/PacBio_SCH1743/FALCON_0_4_assemblies/p_assemblies/v4_1/LRM'\n",
    "cov_file_name='v4_1_pa_qcc22p_pa.pball.bam.1000.cov'\n",
    "seq_type='PacBio'\n",
    "cov_file_p_PacBio=''\n"
   ]
  },
  {
   "cell_type": "code",
   "execution_count": null,
   "metadata": {
    "collapsed": true
   },
   "outputs": [],
   "source": [
    "#here enter in coverage files having the same IDs as seed file. This file has been produced by 'samtools bedcov'\n",
    "cov_path_2 ='/Users/ben/Documents/work_related/Canberra/RJ_lab_projects/Rust_genome_sequencing/PST79/analysis/PacBio_SCH1743/FALCON_0_4_assemblies/p_assemblies/v4_1/SRM'\n",
    "cov_file_name_2='v4_1_pa_qcc22_pilon.folder_5_ete.sam.sorted.bam.1000.cov'\n",
    "seq_type_2='Illumina'"
   ]
  },
  {
   "cell_type": "code",
   "execution_count": null,
   "metadata": {
    "collapsed": true
   },
   "outputs": [],
   "source": [
    "#here enter in coverage files having the same IDs as seed file. This file has been produced by 'samtools bedcov'\n",
    "#FIXLATER\n",
    "cov_path_3 ='/Users/ben/Documents/work_related/Canberra/RJ_lab_projects/Rust_genome_sequencing/PST79/analysis/PacBio_SCH1743/FALCON_0_4_assemblies/p_assemblies/v4_1//SRM'\n",
    "cov_file_name_3='v4_1_p_qcc22_pilon.folder_5_ete.sam.sorted.bam.1000.cov'\n",
    "seq_type_3='Illumina'"
   ]
  },
  {
   "cell_type": "code",
   "execution_count": null,
   "metadata": {
    "collapsed": true
   },
   "outputs": [],
   "source": [
    "reference_contig_df = make_contig_df(p_and_a_ctg_path, p_and_a_ctg_file_name)"
   ]
  },
  {
   "cell_type": "code",
   "execution_count": null,
   "metadata": {
    "collapsed": true
   },
   "outputs": [],
   "source": [
    "reference_bed_p = bed_df_generator(bed_path, bed_file_p)"
   ]
  },
  {
   "cell_type": "code",
   "execution_count": null,
   "metadata": {
    "collapsed": true
   },
   "outputs": [],
   "source": [
    "reference_bed_pa = bed_df_generator(bed_path, bed_file_pa)"
   ]
  },
  {
   "cell_type": "code",
   "execution_count": null,
   "metadata": {
    "collapsed": false
   },
   "outputs": [],
   "source": [
    "cov_1000_SRM_f5_pa = P_and_A_identifier(coverage_df_generator(cov_path_2, cov_file_name_2, seq_type_2))"
   ]
  },
  {
   "cell_type": "code",
   "execution_count": null,
   "metadata": {
    "collapsed": true
   },
   "outputs": [],
   "source": [
    "cov_1000_SRM_f5_p = P_and_A_identifier(coverage_df_generator(cov_path_3, cov_file_name_3, seq_type_3))"
   ]
  },
  {
   "cell_type": "code",
   "execution_count": null,
   "metadata": {
    "collapsed": true
   },
   "outputs": [],
   "source": [
    "#missing for now\n",
    "cov_1000_Pac_bio_p = P_and_A_identifier(no_hit_bed_addition(reference_bed_p, coverage_df_generator(cov_path, cov_file_p_PacBio, seq_type)))"
   ]
  },
  {
   "cell_type": "code",
   "execution_count": null,
   "metadata": {
    "collapsed": false
   },
   "outputs": [],
   "source": [
    "cov_1000_Pac_bio_pa = P_and_A_identifier(no_hit_bed_addition(reference_bed_pa, coverage_df_generator(cov_path, cov_file_name, seq_type)))"
   ]
  },
  {
   "cell_type": "code",
   "execution_count": null,
   "metadata": {
    "collapsed": false
   },
   "outputs": [],
   "source": [
    "len(reference_bed_pa) == len(cov_1000_Pac_bio_pa)"
   ]
  },
  {
   "cell_type": "code",
   "execution_count": null,
   "metadata": {
    "collapsed": false
   },
   "outputs": [],
   "source": [
    "cov_1000_Pac_bio_pa[(cov_1000_Pac_bio_pa['Average Coverage PacBio'] >= 0) & (cov_1000_Pac_bio_pa['Average Coverage PacBio'] < 200)]['Average Coverage PacBio'].plot.hist(bins=60)\n",
    "plt.title(\"Average PacBio LRM coverage v4_1_qcc22p p and a ctg\", **font)\n",
    "plt.xlabel(\"Coverage\", **label_config_x)\n",
    "plt.ylabel(\"Frequency\", **label_config_y)"
   ]
  },
  {
   "cell_type": "code",
   "execution_count": null,
   "metadata": {
    "collapsed": true
   },
   "outputs": [],
   "source": [
    "cov_1000_Pac_bio_p[(cov_1000_Pac_bio_p['Average Coverage PacBio'] >= 0) & (cov_1000_Pac_bio_p['Average Coverage PacBio'] < 200)]['Average Coverage PacBio'].plot.hist(bins=60)\n",
    "plt.title(\"Average PacBio coverage V4_1 p_ctg only mapping\")\n",
    "plt.xlabel(\"Coverage\", **label_config_x)\n",
    "plt.ylabel(\"Frequency\", **label_config_y)"
   ]
  },
  {
   "cell_type": "code",
   "execution_count": null,
   "metadata": {
    "collapsed": false
   },
   "outputs": [],
   "source": [
    "cov_1000_SRM_f5_pa[(cov_1000_SRM_f5_pa['Average Coverage Illumina'] >= 0) & (cov_1000_SRM_f5_pa['Average Coverage Illumina'] < 200)]['Average Coverage Illumina'].plot.hist(bins=60)\n",
    "plt.title(\"Average Illumina SRM coverage v4_1_qcc22p p and a ctg\\n 96.92% overall alignment rate\")\n",
    "plt.xlabel(\"Coverage\", **label_config_x)\n",
    "plt.ylabel(\"Frequency\", **label_config_y)\n"
   ]
  },
  {
   "cell_type": "code",
   "execution_count": null,
   "metadata": {
    "collapsed": false
   },
   "outputs": [],
   "source": [
    "cov_1000_SRM_f5_p[(cov_1000_SRM_f5_p['Average Coverage Illumina'] >= 0) & (cov_1000_SRM_f5_p['Average Coverage Illumina'] < 300)]['Average Coverage Illumina'].plot.hist(bins=60)\n",
    "plt.title(\"Average Illumina SRM coverage V4_1 p only mapping \\n 95.30% overall alignment rate\")\n",
    "plt.xlabel(\"Coverage\", **label_config_x)\n",
    "plt.ylabel(\"Frequency\", **label_config_y)\n"
   ]
  },
  {
   "cell_type": "code",
   "execution_count": null,
   "metadata": {
    "collapsed": false
   },
   "outputs": [],
   "source": [
    "cov_1000_Pac_bio_pa[(cov_1000_Pac_bio_pa['Average Coverage PacBio'] >= 0) & (cov_1000_Pac_bio_pa['Average Coverage PacBio'] < 200) & (cov_1000_Pac_bio_pa['P_contig'] == 1)]['Average Coverage PacBio'].plot.hist(bins=60)\n",
    "plt.title(\"Average PacBio LRM coverage v4_1_qcc22p p ctgs when mapping against both\")\n",
    "plt.xlabel(\"Coverage\", **label_config_x)\n",
    "plt.ylabel(\"Frequency\", **label_config_y)"
   ]
  },
  {
   "cell_type": "code",
   "execution_count": null,
   "metadata": {
    "collapsed": false
   },
   "outputs": [],
   "source": [
    "cov_1000_SRM_f5_pa[(cov_1000_SRM_f5_pa['Average Coverage Illumina'] >= 0) & (cov_1000_SRM_f5_pa['Average Coverage Illumina'] < 200) & (cov_1000_SRM_f5_pa['P_contig']==1)]['Average Coverage Illumina'].plot.hist(bins=60)\n",
    "plt.title(\"Average Illumina SRM coverage v4_1_qcc22p p ctgs when mapping against both\")\n",
    "plt.xlabel(\"Coverage\", **label_config_x)\n",
    "plt.ylabel(\"Frequency\", **label_config_y)"
   ]
  },
  {
   "cell_type": "code",
   "execution_count": null,
   "metadata": {
    "collapsed": false
   },
   "outputs": [],
   "source": [
    "cov_1000_SRM_f5_pa[(cov_1000_SRM_f5_pa['Average Coverage Illumina'] >= 0) & (cov_1000_SRM_f5_pa['Average Coverage Illumina'] < 200) & (cov_1000_SRM_f5_pa['P_contig']==0)]['Average Coverage Illumina'].plot.hist(bins=60)\n",
    "plt.title(\"Average Illumina SRM coverage v4_1_qcc22p a ctgs when mapping against both\")\n",
    "plt.xlabel(\"Coverage\", **label_config_x)\n",
    "plt.ylabel(\"Frequency\", **label_config_y)"
   ]
  },
  {
   "cell_type": "code",
   "execution_count": null,
   "metadata": {
    "collapsed": false
   },
   "outputs": [],
   "source": [
    "cov_1000_Pac_bio_pa[(cov_1000_Pac_bio_pa['Average Coverage PacBio'] >= 0) & (cov_1000_Pac_bio_pa['Average Coverage PacBio'] <200) & (cov_1000_Pac_bio_pa['P_contig'] == 0)]['Average Coverage PacBio'].plot.hist(bins=60)\n",
    "plt.title(\"Average PacBio coverage v4_1 a ctgs when mapping against both\")\n",
    "plt.xlabel(\"Coverage\", **label_config_x)\n",
    "plt.ylabel(\"Frequency\", **label_config_y)"
   ]
  },
  {
   "cell_type": "markdown",
   "metadata": {},
   "source": [
    "If you have an overlap between low coverage region in the p_and_a_ctg mapping and the p_ctg mapping. Those are truely heterozygous region. Which might well have different gene content etc."
   ]
  },
  {
   "cell_type": "code",
   "execution_count": null,
   "metadata": {
    "collapsed": false
   },
   "outputs": [],
   "source": [
    "cov_1000_Pac_bio_pa[\"ID-cov\"] = cov_1000_Pac_bio_pa[\"ID-cov PacBio\"].apply(lambda x: x.split('|')[0])"
   ]
  },
  {
   "cell_type": "code",
   "execution_count": null,
   "metadata": {
    "collapsed": false
   },
   "outputs": [],
   "source": [
    "cov_1000_SRM_f5_pa[\"ID-cov\"] = cov_1000_SRM_f5_pa[\"ID-cov Illumina\"].apply(lambda x: x.split('|')[0])"
   ]
  },
  {
   "cell_type": "code",
   "execution_count": null,
   "metadata": {
    "collapsed": true
   },
   "outputs": [],
   "source": [
    "cov_1000_SRM_f5_p[\"ID-cov\"] = cov_1000_SRM_f5_p[\"ID-cov Illumina\"].apply(lambda x: x.split('|')[0])"
   ]
  },
  {
   "cell_type": "code",
   "execution_count": null,
   "metadata": {
    "collapsed": false
   },
   "outputs": [],
   "source": [
    "plt.figure(figsize=(15,9))\n",
    "plt.plot(cov_1000_SRM_f5_pa[cov_1000_SRM_f5_pa[\"ID-cov\"]=='000006F']['start Illumina'], cov_1000_SRM_f5_pa[cov_1000_SRM_f5_pa[\"ID-cov\"]=='000006F']['Average Coverage Illumina'], 'k', c='b' )\n",
    "plt.plot(cov_1000_SRM_f5_p[cov_1000_SRM_f5_p[\"ID-cov\"]=='000006F']['start Illumina'], cov_1000_SRM_f5_p[cov_1000_SRM_f5_p[\"ID-cov\"]=='000006F']['Average Coverage Illumina'], 'k', c='r' )\n",
    "plt.plot(cov_1000_Pac_bio_pa[cov_1000_Pac_bio_pa[\"ID-cov\"]=='000006F']['start PacBio'], cov_1000_Pac_bio_pa[cov_1000_Pac_bio_pa[\"ID-cov\"]=='000006F']['Average Coverage PacBio'], 'k', c='g' )\n",
    "#plt.plot(entero_Bac_contig_Pac_bio['start PacBio'], entero_Bac_contig_Pac_bio['Average Coverage PacBio'], 'k', c='b')\n",
    "plt.xlabel(\"Contig position\", **label_config_x)\n",
    "plt.ylabel('Coverage', **label_config_y)\n",
    "plt.ylim(0,300)\n",
    "#plt.xlim(cov_1000_SRM_f5_p[cov_1000_SRM_f5_p[\"ID-cov Illumina\"]=='000003F']['start Illumina'].min(),cov_1000_SRM_f5_p[cov_1000_SRM_f5_p[\"ID-cov Illumina\"]=='000003F']['start Illumina'].max())\n",
    "#plt.xlim(1000000, 2000000) <- this was for #3"
   ]
  },
  {
   "cell_type": "code",
   "execution_count": null,
   "metadata": {
    "collapsed": false
   },
   "outputs": [],
   "source": [
    "cov_1000_SRM_f5_pa.head()"
   ]
  },
  {
   "cell_type": "code",
   "execution_count": null,
   "metadata": {
    "collapsed": false
   },
   "outputs": [],
   "source": [
    "cov_1000_SRM_f5_p[\"Average Coverage Illumina\"].mean()"
   ]
  },
  {
   "cell_type": "code",
   "execution_count": null,
   "metadata": {
    "collapsed": false
   },
   "outputs": [],
   "source": [
    "cov_1000_SRM_f5_pa[\"Average Coverage Illumina\"].mean()"
   ]
  },
  {
   "cell_type": "code",
   "execution_count": null,
   "metadata": {
    "collapsed": false
   },
   "outputs": [],
   "source": [
    "cov_1000_Pac_bio_pa[\"Average Coverage PacBio\"].mean()"
   ]
  },
  {
   "cell_type": "code",
   "execution_count": null,
   "metadata": {
    "collapsed": false
   },
   "outputs": [],
   "source": [
    "cov_1000_Pac_bio_pa[\"Average Coverage PacBio\"].median()"
   ]
  },
  {
   "cell_type": "code",
   "execution_count": null,
   "metadata": {
    "collapsed": false
   },
   "outputs": [],
   "source": [
    "cov_1000_SRM_f5_pa[\"Average Coverage Illumina\"].median()"
   ]
  },
  {
   "cell_type": "code",
   "execution_count": null,
   "metadata": {
    "collapsed": false
   },
   "outputs": [],
   "source": [
    "plt.plot(range(0,len(cov_1000_Pac_bio_pa)), cov_1000_Pac_bio_pa.sort_values(by=[\"P_contig\", \"ID-cov\"])[\"Average Coverage PacBio\"])\n",
    "plt.ylim(0,300)"
   ]
  },
  {
   "cell_type": "code",
   "execution_count": null,
   "metadata": {
    "collapsed": false
   },
   "outputs": [],
   "source": [
    "!pwd"
   ]
  },
  {
   "cell_type": "code",
   "execution_count": null,
   "metadata": {
    "collapsed": true
   },
   "outputs": [],
   "source": [
    "#set mummur directory\n",
    "mummer_dir='/Users/ben/Documents/work_related/Canberra/RJ_lab_projects/Rust_genome_sequencing/PST79/analysis/PacBio_SCH1743/FALCON_0_4_assemblies/p_assemblies/v4_1/blast/test'"
   ]
  },
  {
   "cell_type": "code",
   "execution_count": null,
   "metadata": {
    "collapsed": false
   },
   "outputs": [],
   "source": [
    " y, files  = os.walk(mummer_dir, topdown=False)"
   ]
  },
  {
   "cell_type": "code",
   "execution_count": null,
   "metadata": {
    "collapsed": false
   },
   "outputs": [],
   "source": [
    "#get all gcoord files\n",
    "gcoords =  [x for x in files[2] if x[-7:] == 'gcoords']"
   ]
  },
  {
   "cell_type": "code",
   "execution_count": null,
   "metadata": {
    "collapsed": false
   },
   "outputs": [],
   "source": [
    "#get all p_ctgs\n",
    "p_ctgs = set(cov_1000_SRM_f5_pa[cov_1000_SRM_f5_pa['P_contig'] == 1][\"ID-cov Illumina\"])"
   ]
  },
  {
   "cell_type": "code",
   "execution_count": null,
   "metadata": {
    "collapsed": true
   },
   "outputs": [],
   "source": [
    "#set output directory\n",
    "outdir = '/Users/ben/Documents/work_related/Canberra/RJ_lab_projects/Rust_genome_sequencing/PST79/analysis/PacBio_SCH1743/FALCON_0_4_assemblies/p_assemblies/v4_1/blast/test/test'"
   ]
  },
  {
   "cell_type": "code",
   "execution_count": null,
   "metadata": {
    "collapsed": false
   },
   "outputs": [],
   "source": [
    "%matplotlib osx\n",
    "for p_ctg in p_ctgs:\n",
    "    plt.figure()\n",
    "    #plt.plot(cov_1000_SRM_f5_p[cov_1000_SRM_f5_p[\"ID-cov Illumina\"]==p_ctg]['start Illumina'], cov_1000_SRM_f5_p[cov_1000_SRM_f5_p[\"ID-cov Illumina\"]==p_ctg]['Average Coverage Illumina'], 'k', c='r' )\n",
    "    plt.plot(cov_1000_SRM_f5_pa[cov_1000_SRM_f5_pa[\"ID-cov Illumina\"]==p_ctg]['start Illumina'], cov_1000_SRM_f5_pa[cov_1000_SRM_f5_pa[\"ID-cov Illumina\"]==p_ctg]['Average Coverage Illumina'], 'k', c='b' )\n",
    "    #plt.legend(loc='center left', bbox_to_anchor=(1, 1))\n",
    "    plt.plot(cov_1000_Pac_bio_pa[cov_1000_Pac_bio_pa[\"ID-cov PacBio\"]==p_ctg]['start PacBio'], cov_1000_Pac_bio_pa[cov_1000_Pac_bio_pa[\"ID-cov PacBio\"]==p_ctg]['Average Coverage PacBio'], 'k', c='g' )\n",
    "    #plt.legend(loc='center left', bbox_to_anchor=(1, 1))\n",
    "    p_ctg_gcoords = []\n",
    "    p_ctg_gcoords = [x for x in gcoords if p_ctg.split('|')[0] in x]\n",
    "    mummer_df_tmp = pd.DataFrame()\n",
    "    max_f5_pa = cov_1000_SRM_f5_pa[cov_1000_SRM_f5_pa[\"ID-cov Illumina\"]==p_ctg]['Average Coverage Illumina'].max()\n",
    "    max_f5_p = cov_1000_SRM_f5_p[cov_1000_SRM_f5_p[\"ID-cov Illumina\"]==p_ctg]['Average Coverage Illumina'].max()\n",
    "    max_PB_pa = cov_1000_Pac_bio_pa[cov_1000_Pac_bio_pa[\"ID-cov PacBio\"]==p_ctg]['Average Coverage PacBio'].max()\n",
    "    max_1_1 = 1.1*sorted([max_f5_pa, max_f5_p,max_PB_pa])[-1]\n",
    "    if p_ctg_gcoords != []:\n",
    "        #print (p_ctg_gcoords)\n",
    "        mummer_df_tmp = pd.read_csv(mummer_dir+'/'+p_ctg_gcoords[0], sep='\\t', header=None,skiprows=4 )\n",
    "        header_mum = [\"S1\",\"E1\",\"S2\", \"E2\",\"LEN 1\", \"LEN 2\", \"% IDY\", \"ID-p\", \"ID-a\"]\n",
    "        rename = dict(zip(mummer_df_tmp.columns, header_mum))\n",
    "        mummer_df_tmp.rename(columns=rename,inplace=True)\n",
    "        tmp = mummer_df_tmp[mummer_df_tmp['ID-p'] ==p_ctg][\"S1\"].tolist()\n",
    "        tmp2 = mummer_df_tmp[mummer_df_tmp['ID-p'] ==p_ctg][\"E1\"].tolist() \n",
    "        for (x,y) in zip(tmp,tmp2):\n",
    "            mean_3 = 3*cov_1000_SRM_f5_p[cov_1000_SRM_f5_p[\"ID-cov Illumina\"]==p_ctg]['Average Coverage Illumina'].mean()\n",
    "            set_point = mean_3\n",
    "            if mean_3 > max_1_1:\n",
    "                set_point = max_1_1\n",
    "            plt.plot((x,y), (set_point, set_point), 'k-', ms=4)\n",
    "    plt.xlabel(\"Contig position\", **label_config_x)\n",
    "    plt.ylabel('Coverage', **label_config_y)\n",
    "    plt.title(p_ctg)\n",
    "    #fix this part in case PacBio is higher than illumina\n",
    "    plt.ylim(0, 1.2*max_1_1)\n",
    "    plt.xlim(-cov_1000_Pac_bio_pa[cov_1000_Pac_bio_pa[\"ID-cov PacBio\"]==p_ctg]['stop PacBio'].max()*0.01, cov_1000_Pac_bio_pa[cov_1000_Pac_bio_pa[\"ID-cov PacBio\"]==p_ctg]['stop PacBio'].max()*1.01)\n",
    "    plt.savefig(outdir+\"/\"+p_ctg.split('|')[0]+'_qcc22p_cov_nuc.png',dpi=300)\n",
    "    plt.close()\n",
    "    #plt.ylim(0,300)"
   ]
  },
  {
   "cell_type": "code",
   "execution_count": null,
   "metadata": {
    "collapsed": true
   },
   "outputs": [],
   "source": [
    "%matplotlib osx\n",
    "for p_ctg in p_ctgs:\n",
    "    plt.figure()\n",
    "    plt.plot(cov_1000_SRM_f5_p[cov_1000_SRM_f5_p[\"ID-cov Illumina\"]==p_ctg]['start Illumina'], cov_1000_SRM_f5_p[cov_1000_SRM_f5_p[\"ID-cov Illumina\"]==p_ctg]['Average Coverage Illumina'], 'k', c='r' )\n",
    "    plt.plot(cov_1000_SRM_f5_pa[cov_1000_SRM_f5_pa[\"ID-cov Illumina\"]==p_ctg]['start Illumina'], cov_1000_SRM_f5_pa[cov_1000_SRM_f5_pa[\"ID-cov Illumina\"]==p_ctg]['Average Coverage Illumina'], 'k', c='b' )\n",
    "    #plt.legend(loc='center left', bbox_to_anchor=(1, 1))\n",
    "    plt.plot(cov_1000_Pac_bio_pa[cov_1000_Pac_bio_pa[\"ID-cov PacBio\"]==p_ctg]['start PacBio'], cov_1000_Pac_bio_pa[cov_1000_Pac_bio_pa[\"ID-cov PacBio\"]==p_ctg]['Average Coverage PacBio'], 'k', c='g' )\n",
    "    #plt.legend(loc='center left', bbox_to_anchor=(1, 1))\n",
    "    p_ctg_gcoords = []\n",
    "    p_ctg_gcoords = [x for x in gcoords if p_ctg.split('|')[0] in x]\n",
    "    mummer_df_tmp = pd.DataFrame()\n",
    "    max_f5_pa = cov_1000_SRM_f5_pa[cov_1000_SRM_f5_pa[\"ID-cov Illumina\"]==p_ctg]['Average Coverage Illumina'].max()\n",
    "    max_f5_p = cov_1000_SRM_f5_p[cov_1000_SRM_f5_p[\"ID-cov Illumina\"]==p_ctg]['Average Coverage Illumina'].max()\n",
    "    max_PB_pa = cov_1000_Pac_bio_pa[cov_1000_Pac_bio_pa[\"ID-cov PacBio\"]==p_ctg]['Average Coverage PacBio'].max()\n",
    "    max_1_1 = 1.1*sorted([max_f5_pa, max_f5_p,max_PB_pa])[-1]\n",
    "    if p_ctg_gcoords != []:\n",
    "        #print (p_ctg_gcoords)\n",
    "        mummer_df_tmp = pd.read_csv(mummer_dir+'/'+p_ctg_gcoords[0], sep='\\t', header=None,skiprows=4 )\n",
    "        header_mum = [\"S1\",\"E1\",\"S2\", \"E2\",\"LEN 1\", \"LEN 2\", \"% IDY\", \"ID-p\", \"ID-a\"]\n",
    "        rename = dict(zip(mummer_df_tmp.columns, header_mum))\n",
    "        mummer_df_tmp.rename(columns=rename,inplace=True)\n",
    "        tmp = mummer_df_tmp[mummer_df_tmp['ID-p'] ==p_ctg][\"S1\"].tolist()\n",
    "        tmp2 = mummer_df_tmp[mummer_df_tmp['ID-p'] ==p_ctg][\"E1\"].tolist() \n",
    "        for (x,y) in zip(tmp,tmp2):\n",
    "            mean_3 = 3*cov_1000_SRM_f5_p[cov_1000_SRM_f5_p[\"ID-cov Illumina\"]==p_ctg]['Average Coverage Illumina'].mean()\n",
    "            set_point = mean_3\n",
    "            if mean_3 > max_1_1:\n",
    "                set_point = max_1_1\n",
    "            plt.plot((x,y), (set_point, set_point), 'k-', ms=4)\n",
    "    plt.xlabel(\"Contig position\", **label_config_x)\n",
    "    plt.ylabel('Coverage', **label_config_y)\n",
    "    plt.title(p_ctg)\n",
    "    #fix this part in case PacBio is higher than illumina\n",
    "    plt.ylim(0, 1.2*max_1_1)\n",
    "    plt.xlim(-cov_1000_Pac_bio_pa[cov_1000_Pac_bio_pa[\"ID-cov PacBio\"]==p_ctg]['stop PacBio'].max()*0.01, cov_1000_Pac_bio_pa[cov_1000_Pac_bio_pa[\"ID-cov PacBio\"]==p_ctg]['stop PacBio'].max()*1.01)\n",
    "    plt.savefig(outdir+\"/\"+p_ctg.split('|')[0]+'_qcc22p_cov3_nuc.png',dpi=300)\n",
    "    plt.close()"
   ]
  },
  {
   "cell_type": "code",
   "execution_count": null,
   "metadata": {
    "collapsed": false
   },
   "outputs": [],
   "source": [
    "%matplotlib inline\n",
    "plt.figure()\n",
    "plt.plot(cov_1000_SRM_f5_p[cov_1000_SRM_f5_p[\"ID-cov Illumina\"]=='000000F']['start Illumina'], cov_1000_SRM_f5_p[cov_1000_SRM_f5_p[\"ID-cov Illumina\"]=='000000F']['Average Coverage Illumina'], 'k', c='r' )\n",
    "plt.plot(cov_1000_SRM_f5_pa[cov_1000_SRM_f5_pa[\"ID-cov\"]=='000000F']['start Illumina'], cov_1000_SRM_f5_pa[cov_1000_SRM_f5_pa[\"ID-cov\"]=='000000F']['Average Coverage Illumina'], 'k', c='b' )\n",
    "\n",
    "#plt.legend(loc='center left', bbox_to_anchor=(1.2, 1.2))\n",
    "plt.legend(['a','b','c'])\n",
    "plt.xlabel(\"Contig position\", **label_config_x)\n",
    "plt.ylabel('Coverage', **label_config_y)\n",
    "plt.plot(cov_1000_Pac_bio_pa[cov_1000_Pac_bio_pa[\"ID-cov\"]=='000000F']['start PacBio'], cov_1000_Pac_bio_pa[cov_1000_Pac_bio_pa[\"ID-cov\"]=='000000F']['Average Coverage PacBio'], 'k', c='g' )\n",
    "plt.legend(loc='center left', bbox_to_anchor=(1, 1))\n",
    "for (x,y) in zip(tmp,tmp2):\n",
    "    plt.plot((x,y), (200, 200), 'k-', ms=4)\n",
    "plt.xlabel(\"Contig position\", **label_config_x)\n",
    "plt.ylabel('Coverage', **label_config_y)\n",
    "plt.savefig(outdir+\"/\"+'test2.png',bbox_inches='tight', dpi=300)\n",
    "#plt.ylim(0,300)"
   ]
  },
  {
   "cell_type": "code",
   "execution_count": null,
   "metadata": {
    "collapsed": true
   },
   "outputs": [],
   "source": [
    "?%matplotlib"
   ]
  },
  {
   "cell_type": "code",
   "execution_count": null,
   "metadata": {
    "collapsed": false
   },
   "outputs": [],
   "source": [
    "matplotlib.rcParams['figure.figsize'] = (15, 9)\n",
    "font = {'family' : 'monospace',\n",
    "        'weight' : 'bold',\n",
    "        'size'   : 15}\n",
    "label_config_x = {'fontsize'            : 'large',\n",
    "      'verticalalignment'   : 'top',\n",
    "      }\n",
    "label_config_y = {'fontsize'            : 'large',\n",
    "      'verticalalignment'   : 'bottom',\n",
    "      'horizontalalignment' : 'center'}\n",
    "matplotlib.rc('font', **font)\n",
    "\n"
   ]
  },
  {
   "cell_type": "code",
   "execution_count": null,
   "metadata": {
    "collapsed": false
   },
   "outputs": [],
   "source": [
    "cov_1000_Pac_bio_pa[(cov_1000_Pac_bio_pa['Average Coverage PacBio'] >= 0) & (cov_1000_Pac_bio_pa['Average Coverage PacBio'] <200) & (cov_1000_Pac_bio_pa['P_contig'] == 0)]['Average Coverage PacBio'].plot.hist(bins=60)\n",
    "plt.title(\"Average PacBio coverage v4_1 a ctgs when mapping against both\")\n",
    "plt.xlabel(\"Coverage\")"
   ]
  },
  {
   "cell_type": "code",
   "execution_count": null,
   "metadata": {
    "collapsed": true
   },
   "outputs": [],
   "source": []
  }
 ],
 "metadata": {
  "anaconda-cloud": {},
  "kernelspec": {
   "display_name": "Python [Root]",
   "language": "python",
   "name": "Python [Root]"
  },
  "language_info": {
   "codemirror_mode": {
    "name": "ipython",
    "version": 3
   },
   "file_extension": ".py",
   "mimetype": "text/x-python",
   "name": "python",
   "nbconvert_exporter": "python",
   "pygments_lexer": "ipython3",
   "version": "3.5.2"
  }
 },
 "nbformat": 4,
 "nbformat_minor": 0
}
