{
 "cells": [
  {
   "cell_type": "code",
   "execution_count": 25,
   "metadata": {
    "collapsed": true
   },
   "outputs": [],
   "source": [
    "%matplotlib inline"
   ]
  },
  {
   "cell_type": "markdown",
   "metadata": {},
   "source": [
    "This notebook is aimed at getting all the effector candidates from the Pst_104E_genome as defined as the following.\n",
    "\n",
    "Gene expression cluster analysis done by Jana Sperschneider cluster 8"
   ]
  },
  {
   "cell_type": "code",
   "execution_count": 26,
   "metadata": {
    "collapsed": true
   },
   "outputs": [],
   "source": [
    "import os\n",
    "from Bio import SeqIO\n",
    "import pandas as pd\n",
    "import re\n",
    "from pybedtools import BedTool\n",
    "import numpy as np\n",
    "import matplotlib.pyplot as plt"
   ]
  },
  {
   "cell_type": "code",
   "execution_count": 27,
   "metadata": {
    "collapsed": true
   },
   "outputs": [],
   "source": [
    "#define your input folders\n",
    "CLUSTER_FOLDER = '/home/benjamin/genome_assembly/PST79/FALCON/p_assemblies/v9_1/Pst_104E_v12/Pst_104E_genome/gene_expression/Pst104_p_SecretomeClustering'\n",
    "EFFECTORP_FOLDER = '/home/benjamin/genome_assembly/PST79/FALCON/p_assemblies/v9_1/Pst_104E_v12/Pst_104E_genome/Secretomes/EffectorP'\n",
    "GFF_FOLDER = '/home/benjamin/genome_assembly/PST79/FALCON/p_assemblies/v9_1/032017_assembly'\n",
    "PROTEIN_ANNO_FOLDER = '/home/benjamin/genome_assembly/PST79/FALCON/p_assemblies/v9_1/Pst_104E_v12/enrichment_analysis/pa_26062017'\n",
    "OUT_FOLDER = '/home/benjamin/genome_assembly/PST79/FALCON/p_assemblies/v9_1/Pst_104E_v12/enrichment_analysis/lists'"
   ]
  },
  {
   "cell_type": "code",
   "execution_count": 28,
   "metadata": {
    "collapsed": false
   },
   "outputs": [],
   "source": [
    "genome = 'Pst_104E_v12_'\n",
    "p_effector_list = []\n",
    "h_effector_list = []"
   ]
  },
  {
   "cell_type": "code",
   "execution_count": 29,
   "metadata": {
    "collapsed": false
   },
   "outputs": [],
   "source": [
    "#define what you want to take from the cluster folder or else adapt here\n",
    "clusters = [ 8]\n",
    "clusters_files = [os.path.join(CLUSTER_FOLDER, x) for x in os.listdir(CLUSTER_FOLDER)\\\n",
    "                 if x.startswith('Cluster') and x.endswith('_DEs.fasta') and int(x[7]) in clusters ]\n"
   ]
  },
  {
   "cell_type": "code",
   "execution_count": 30,
   "metadata": {
    "collapsed": false
   },
   "outputs": [],
   "source": [
    "#get all the sequence names into a list from the fasta headers \n",
    "for file in clusters_files:\n",
    "    fh = open(file, 'r')\n",
    "    for seq in SeqIO.parse(fh, 'fasta'):\n",
    "        if 'hcontig' in seq.id:\n",
    "            h_effector_list.append(seq.id)\n",
    "        if 'pcontig' in seq.id:\n",
    "            p_effector_list.append(seq.id)\n",
    "    fh.close()"
   ]
  },
  {
   "cell_type": "markdown",
   "metadata": {},
   "source": [
    "Change filename below to alter what to look at"
   ]
  },
  {
   "cell_type": "code",
   "execution_count": 31,
   "metadata": {
    "collapsed": false
   },
   "outputs": [],
   "source": [
    "#this will be the newly created file in the list folder and p_effector_file will be the variable\n",
    "# for tracking the gene list\n",
    "to_look_at = 'cluster_8.list'\n",
    "p_effector_file = os.path.join(OUT_FOLDER, genome + to_look_at)\n"
   ]
  },
  {
   "cell_type": "code",
   "execution_count": 32,
   "metadata": {
    "collapsed": false
   },
   "outputs": [],
   "source": [
    "#write out the sets of effector candidates\n",
    "fh = open(p_effector_file, 'w')\n",
    "for ec in set(p_effector_list):\n",
    "    print(ec, file=fh)\n",
    "fh.close()"
   ]
  },
  {
   "cell_type": "code",
   "execution_count": 33,
   "metadata": {
    "collapsed": true
   },
   "outputs": [],
   "source": [
    "#subset the gff files as well \n",
    "#right now get this in\n",
    "p_gff_file = [os.path.join(GFF_FOLDER, x) for x in os.listdir(GFF_FOLDER)\\\n",
    "                 if x.startswith(genome+'p_ctg') and x.endswith('anno.gff3') ][0]\n",
    "h_gff_file = [os.path.join(GFF_FOLDER, x) for x in os.listdir(GFF_FOLDER)\\\n",
    "                 if x.startswith(genome+'h_ctg') and x.endswith('anno.gff3') ][0]"
   ]
  },
  {
   "cell_type": "code",
   "execution_count": 34,
   "metadata": {
    "collapsed": true
   },
   "outputs": [],
   "source": [
    "#get repeat gff files from REPET (not sure this fully works right now)\n",
    "p_repeat_gff_fn = [os.path.join(GFF_FOLDER, x) for x in os.listdir(GFF_FOLDER)\\\n",
    "                 if x.startswith(genome+'p_ctg') and x.endswith('REPET.gff') ][0]"
   ]
  },
  {
   "cell_type": "markdown",
   "metadata": {},
   "source": [
    "In the command line in /home/benjamin/genome_assembly/PST79/FALCON/p_assemblies/v9_1/Pst_104E_v12/TE_analysis the superfamily gff files were sorted as followed and copied over into the lists folder\n",
    "sort Pst_104E_v12_h_ctg.REPET.superfamily.gff -k1,1n -k4,4n > Pst_104E_v12_h_ctg.REPET.sorted.superfamily.gff"
   ]
  },
  {
   "cell_type": "code",
   "execution_count": 35,
   "metadata": {
    "collapsed": true
   },
   "outputs": [],
   "source": [
    "#get repeat gff files with superfamilies in the 'attributes' column\n",
    "p_repeat_superfamily_gff_fn = [os.path.join(OUT_FOLDER, x) for x in os.listdir(OUT_FOLDER)\\\n",
    "                 if x.startswith(genome+'p_ctg') and x.endswith('REPET.sorted.superfamily.gff') ][0]\n"
   ]
  },
  {
   "cell_type": "code",
   "execution_count": 36,
   "metadata": {
    "collapsed": true
   },
   "outputs": [],
   "source": [
    "#gff header \n",
    "gff_header = ['seqid', 'source', 'type', 'start', 'end', 'score', 'strand', 'phase', 'attributes']"
   ]
  },
  {
   "cell_type": "code",
   "execution_count": 37,
   "metadata": {
    "collapsed": false
   },
   "outputs": [],
   "source": [
    "#now subset the gff files for effectors only\n",
    "p_gff_df = pd.read_csv(p_gff_file, header = None, sep='\\t', names= gff_header)\n",
    "#before that we need to convert the gene ids to protein ids in the attribute column\n",
    "p_gff_df['ID'] = p_gff_df.attributes.str.extract(r'ID=([^;]*);', expand=False)\n",
    "p_gff_df.sort_values(by=['seqid', 'start'], inplace = True)"
   ]
  },
  {
   "cell_type": "code",
   "execution_count": 38,
   "metadata": {
    "collapsed": false
   },
   "outputs": [
    {
     "data": {
      "text/plain": [
       "'/home/benjamin/genome_assembly/PST79/FALCON/p_assemblies/v9_1/Pst_104E_v12/enrichment_analysis/lists/Pst_104E_v12_p_ctg.REPET.gff'"
      ]
     },
     "execution_count": 38,
     "metadata": {},
     "output_type": "execute_result"
    }
   ],
   "source": [
    "os.path.join(OUT_FOLDER,p_repeat_gff_fn.split('/')[-1] )"
   ]
  },
  {
   "cell_type": "code",
   "execution_count": 39,
   "metadata": {
    "collapsed": false
   },
   "outputs": [
    {
     "name": "stdout",
     "output_type": "stream",
     "text": [
      "/home/benjamin/genome_assembly/PST79/FALCON/p_assemblies/v9_1/Pst_104E_v12/enrichment_analysis/lists/Pst_104E_v12_cluster_8.gene.bed\n",
      "/home/benjamin/genome_assembly/PST79/FALCON/p_assemblies/v9_1/Pst_104E_v12/enrichment_analysis/lists/Pst_104E_v12_cluster_8.gene.gff3\n",
      "/home/benjamin/genome_assembly/PST79/FALCON/p_assemblies/v9_1/Pst_104E_v12/enrichment_analysis/lists/Pst_104E_v12_no_cluster_8.gene.bed\n",
      "/home/benjamin/genome_assembly/PST79/FALCON/p_assemblies/v9_1/Pst_104E_v12/enrichment_analysis/lists/Pst_104E_v12_no_cluster_8.gene.gff3\n",
      "/home/benjamin/genome_assembly/PST79/FALCON/p_assemblies/v9_1/Pst_104E_v12/enrichment_analysis/lists/Pst_104E_v12_no_cluster_8.list\n"
     ]
    }
   ],
   "source": [
    "#now write out dataframes for p_gff\n",
    "\n",
    "#bed 6 file\n",
    "p_effector_bed_fn = p_effector_file.replace('.list', '.gene.bed') #generate filename\n",
    "print(p_effector_bed_fn)\n",
    "#save out subset p_gff_df using the p_effector_list as filter (defined above). Outformat is a bed file\n",
    "p_gff_df[(p_gff_df.type == 'gene') & (p_gff_df.ID.str.replace('TU', 'model').isin(p_effector_list))].\\\n",
    "    loc[:,['seqid', 'start', 'end', 'ID', 'score', 'strand']].to_csv(p_effector_bed_fn, header=None, index=None, sep='\\t')\n",
    "\n",
    "#do the same and generate a gff file\n",
    "p_effector_gff_fn = p_effector_file.replace('.list', '.gene.gff3')    \n",
    "print(p_effector_gff_fn)\n",
    "p_gff_df[(p_gff_df.type == 'gene') & (p_gff_df.ID.str.replace('TU', 'model').isin(p_effector_list))].\\\n",
    "    loc[:,gff_header].to_csv(p_effector_gff_fn, header=None, index=None, sep='\\t')\n",
    "\n",
    "\n",
    "#bed 6 file no effectors\n",
    "p_noeffector_bed_fn = p_effector_file.replace(to_look_at, 'no_cluster_8.gene.bed')\n",
    "print(p_noeffector_bed_fn)\n",
    "p_gff_df[(p_gff_df.type == 'gene') & (~p_gff_df.ID.str.replace('TU', 'model').isin(p_effector_list))].\\\n",
    "    loc[:,['seqid', 'start', 'end', 'ID', 'score', 'strand']].to_csv(p_noeffector_bed_fn, header=None, index=None, sep='\\t')\n",
    "\n",
    "#no effector gff and list\n",
    "p_noeffector_gff_fn = p_effector_file.replace(to_look_at, 'no_cluster_8.gene.gff3')   \n",
    "print(p_noeffector_gff_fn)\n",
    "p_gff_df[(p_gff_df.type == 'gene') & (~p_gff_df.ID.str.replace('TU', 'model').isin(p_effector_list))].\\\n",
    "    loc[:,gff_header].to_csv(p_noeffector_gff_fn, header=None, index=None, sep='\\t')\n",
    "\n",
    "file_name = p_effector_file.replace(to_look_at, 'no_cluster_8.list')\n",
    "print(file_name)\n",
    "p_gff_df[(p_gff_df.type == 'gene') & (~p_gff_df.ID.str.replace('TU', 'model').isin(p_effector_list))]['ID'].str.replace('TU', 'model')\\\n",
    "    .to_csv(file_name, header=None, index=None, sep='\\t')"
   ]
  },
  {
   "cell_type": "code",
   "execution_count": 40,
   "metadata": {
    "collapsed": false
   },
   "outputs": [],
   "source": [
    "#get BUSCO file names to be used in the anaylsis these are also in the list folder (OUT_PATH)\n",
    "p_busco_gff_fn = p_effector_file.replace(to_look_at, 'p_busco.gene.gff3')\n",
    "p_busco_bed_fn = p_effector_file.replace(to_look_at, 'p_busco.gene.bed')\n"
   ]
  },
  {
   "cell_type": "code",
   "execution_count": 41,
   "metadata": {
    "collapsed": false
   },
   "outputs": [],
   "source": [
    "#get the gff for all genes\n",
    "p_gene_gff_fn = p_effector_file.replace(to_look_at, 'p_all.gene.gff3')\n",
    "\n",
    "#get bed 6 for all genes\n",
    "p_gene_bed_fn = p_effector_file.replace(to_look_at, 'p_all.gene.bed')\n"
   ]
  },
  {
   "cell_type": "code",
   "execution_count": 42,
   "metadata": {
    "collapsed": false
   },
   "outputs": [],
   "source": [
    "#get the distances between genes and TEs\n",
    "\n",
    "#read in files and generate bedtool objects. Issue might be that same variable are used for the bed files\n",
    "#while those are sometimes gff and sometimes bed. Needs changing\n",
    "p_effector_bed = BedTool(p_effector_gff_fn)\n",
    "p_noeffector_bed = BedTool(p_noeffector_gff_fn)\n",
    "p_busco_bed = BedTool(p_busco_gff_fn)\n",
    "p_repeats_bed = BedTool(p_repeat_superfamily_gff_fn)\n",
    "\n",
    "#get closest repeat and make a df out of it\n",
    "p_closest_rep_to_eff = p_effector_bed.closest(p_repeats_bed, d=True)\n",
    "p_closest_rep_to_eff_df = p_closest_rep_to_eff.to_dataframe()\n",
    "\n",
    "#here subset the repeat superfamily GFF to filder out smaller repeats if wanted\n",
    "tmp_REPET = pd.read_csv(p_repeat_superfamily_gff_fn, header=None, sep='\\t', names=gff_header)\n",
    "tmp_REPET['distance'] = tmp_REPET.end - tmp_REPET.start\n",
    "tmp_fn = p_repeat_superfamily_gff_fn.replace('superfamily', 'tmpsuperfamily')\n",
    "tmp_REPET[tmp_REPET.distance > 400].loc[:,gff_header].to_csv(tmp_fn, header=None, sep='\\t', index=None)\n",
    "\n",
    "#read this in as repeat_df\n",
    "p_repeats_bed = BedTool(tmp_fn)"
   ]
  },
  {
   "cell_type": "code",
   "execution_count": 43,
   "metadata": {
    "collapsed": false
   },
   "outputs": [],
   "source": [
    "#bed closest header when using gff as input files\n",
    "bed_repeat_closest_header = [x +'_gene' for x in gff_header] + [x +'_repeat' for x in gff_header] + ['distance']"
   ]
  },
  {
   "cell_type": "code",
   "execution_count": 44,
   "metadata": {
    "collapsed": true
   },
   "outputs": [],
   "source": [
    "import warnings\n",
    "warnings.filterwarnings('ignore')"
   ]
  },
  {
   "cell_type": "code",
   "execution_count": 45,
   "metadata": {
    "collapsed": false
   },
   "outputs": [
    {
     "name": "stdout",
     "output_type": "stream",
     "text": [
      "Effector distance to closest repeat\n",
      "                 18\n",
      "count    308.000000\n",
      "mean    2117.555195\n",
      "std     3066.023727\n",
      "min        0.000000\n",
      "25%        0.000000\n",
      "50%      994.500000\n",
      "75%     2586.250000\n",
      "max    17811.000000\n"
     ]
    },
    {
     "data": {
      "text/plain": [
       "(0, 10000)"
      ]
     },
     "execution_count": 45,
     "metadata": {},
     "output_type": "execute_result"
    },
    {
     "data": {
      "image/png": "[encoded data removed]",
      "text/plain": [
       "<matplotlib.figure.Figure at 0x7f8f4780d2b0>"
      ]
     },
     "metadata": {},
     "output_type": "display_data"
    }
   ],
   "source": [
    "print('Effector distance to closest repeat')\n",
    "print(p_effector_bed.closest(p_repeats_bed,d=True,t='last').to_dataframe().iloc[:,18:20].describe())\n",
    "p_effector_bed.closest(p_repeats_bed, d=True, t='last').to_dataframe().boxplot(column=18)\n",
    "plt.ylim(0, 10000)"
   ]
  },
  {
   "cell_type": "code",
   "execution_count": 46,
   "metadata": {
    "collapsed": false
   },
   "outputs": [
    {
     "name": "stdout",
     "output_type": "stream",
     "text": [
      "BUSCO distance to closest repeat\n",
      "                 18\n",
      "count   1444.000000\n",
      "mean    2938.963989\n",
      "std     4085.483570\n",
      "min        0.000000\n",
      "25%      452.500000\n",
      "50%     1321.000000\n",
      "75%     3907.250000\n",
      "max    41225.000000\n"
     ]
    },
    {
     "data": {
      "text/plain": [
       "(0, 10000)"
      ]
     },
     "execution_count": 46,
     "metadata": {},
     "output_type": "execute_result"
    },
    {
     "data": {
      "image/png": "[encoded data removed]",
      "text/plain": [
       "<matplotlib.figure.Figure at 0x7f8f469b5908>"
      ]
     },
     "metadata": {},
     "output_type": "display_data"
    }
   ],
   "source": [
    "print('BUSCO distance to closest repeat')\n",
    "print(p_busco_bed.closest(p_repeats_bed, d=True,t='last').to_dataframe().iloc[:,18:20].describe())\n",
    "p_busco_bed.closest(p_repeats_bed, d=True,t='last').to_dataframe().boxplot(column=18)\n",
    "plt.ylim(0, 10000)"
   ]
  },
  {
   "cell_type": "code",
   "execution_count": 47,
   "metadata": {
    "collapsed": false
   },
   "outputs": [
    {
     "name": "stdout",
     "output_type": "stream",
     "text": [
      "No Effector distance to closest repeat\n",
      "                 18\n",
      "count  15587.000000\n",
      "mean    2295.757169\n",
      "std     3778.415387\n",
      "min        0.000000\n",
      "25%        0.000000\n",
      "50%      799.000000\n",
      "75%     2991.000000\n",
      "max    55526.000000\n"
     ]
    },
    {
     "data": {
      "text/plain": [
       "(0, 10000)"
      ]
     },
     "execution_count": 47,
     "metadata": {},
     "output_type": "execute_result"
    },
    {
     "data": {
      "image/png": "[encoded data removed]",
      "text/plain": [
       "<matplotlib.figure.Figure at 0x7f8f4692d828>"
      ]
     },
     "metadata": {},
     "output_type": "display_data"
    }
   ],
   "source": [
    "print('No Effector distance to closest repeat')\n",
    "print(p_noeffector_bed.closest(p_repeats_bed, d=True,t='last').to_dataframe().iloc[:,18:20].describe())\n",
    "p_noeffector_bed.closest(p_repeats_bed, d=True,t='last').to_dataframe().boxplot(column=18)\n",
    "plt.ylim(0, 10000)"
   ]
  },
  {
   "cell_type": "code",
   "execution_count": null,
   "metadata": {
    "collapsed": true
   },
   "outputs": [],
   "source": [
    "#some stuff in the following lines"
   ]
  },
  {
   "cell_type": "code",
   "execution_count": 48,
   "metadata": {
    "collapsed": false
   },
   "outputs": [
    {
     "data": {
      "text/plain": [
       "17\n",
       "ClassII:MITE:?                3.617157\n",
       "ClassI:LTR:?                  3.918054\n",
       "ClassII:TIR:PIF-Harbinger     4.455826\n",
       "ClassII:TIR:Tc1-Mariner       4.711908\n",
       "ClassII:TIR:hAT               8.482714\n",
       "ClassI:LARD:?                 8.950064\n",
       "ClassI:LTR:Copia              9.302177\n",
       "ClassII:TIR:?                 9.929577\n",
       "ClassII:?:?                  12.976953\n",
       "ClassI:LTR:Gypsy             17.791293\n",
       "Name: 0, dtype: float64"
      ]
     },
     "execution_count": 48,
     "metadata": {},
     "output_type": "execute_result"
    }
   ],
   "source": [
    "p_noeffector_bed.closest(p_repeats_bed, d=True,t='last', io=True).to_dataframe().groupby(17).count()[0].sort_values().tail(10)/len(p_noeffector_bed)*100"
   ]
  },
  {
   "cell_type": "code",
   "execution_count": 49,
   "metadata": {
    "collapsed": false
   },
   "outputs": [
    {
     "data": {
      "text/plain": [
       "17\n",
       "noCat                       3.246753\n",
       "ClassII:TIR:Tc1-Mariner     3.571429\n",
       "ClassI:LTR:?                5.844156\n",
       "ClassII:TIR:hAT             6.168831\n",
       "ClassII:MITE:?              7.792208\n",
       "ClassI:LTR:Copia            8.116883\n",
       "ClassII:TIR:?               9.090909\n",
       "ClassI:LARD:?               9.740260\n",
       "ClassI:LTR:Gypsy           14.285714\n",
       "ClassII:?:?                18.831169\n",
       "Name: 0, dtype: float64"
      ]
     },
     "execution_count": 49,
     "metadata": {},
     "output_type": "execute_result"
    }
   ],
   "source": [
    "p_effector_bed.closest(p_repeats_bed, d=True,t='last', io=True).to_dataframe().groupby(17).count()[0].sort_values().tail(10)/len(p_effector_bed)*100"
   ]
  },
  {
   "cell_type": "code",
   "execution_count": 50,
   "metadata": {
    "collapsed": false
   },
   "outputs": [
    {
     "data": {
      "text/plain": [
       "17\n",
       "ClassI:LTR:?                  4.362881\n",
       "ClassII:TIR:PIF-Harbinger     4.432133\n",
       "ClassII:TIR:Tc1-Mariner       5.401662\n",
       "ClassII:MITE:?                5.747922\n",
       "ClassI:LTR:Copia              7.963989\n",
       "ClassII:TIR:hAT               8.518006\n",
       "ClassI:LARD:?                10.526316\n",
       "ClassII:TIR:?                12.119114\n",
       "ClassI:LTR:Gypsy             13.573407\n",
       "ClassII:?:?                  15.858726\n",
       "Name: 0, dtype: float64"
      ]
     },
     "execution_count": 50,
     "metadata": {},
     "output_type": "execute_result"
    }
   ],
   "source": [
    "p_busco_bed.closest(p_repeats_bed, d=True,t='last', io=True).to_dataframe().groupby(17).count()[0].sort_values().tail(10)/len(p_busco_bed)*100"
   ]
  },
  {
   "cell_type": "code",
   "execution_count": 51,
   "metadata": {
    "collapsed": false
   },
   "outputs": [
    {
     "data": {
      "text/plain": [
       "17\n",
       "ClassII:TIR:hAT             3189.162393\n",
       "ClassII:?:Sola              3290.000000\n",
       "ClassI:LTR:Gypsy            3528.756906\n",
       "ClassII:TIR:Tc1-Mariner     3675.421053\n",
       "ClassII:Helitron:?          3765.230769\n",
       "ClassI:LINE:Jockey          3832.500000\n",
       "ClassII:TIR:MuDR            3947.156250\n",
       "ClassII:Maverick:?          4384.285714\n",
       "ClassI:LTR:ERV              7696.000000\n",
       "ClassII:?:Academ           10287.000000\n",
       "Name: 18, dtype: float64"
      ]
     },
     "execution_count": 51,
     "metadata": {},
     "output_type": "execute_result"
    }
   ],
   "source": [
    "p_busco_bed.closest(p_repeats_bed, d=True,t='last').to_dataframe().groupby(17).mean()[18].sort_values().tail(10)"
   ]
  },
  {
   "cell_type": "code",
   "execution_count": 52,
   "metadata": {
    "collapsed": false
   },
   "outputs": [
    {
     "data": {
      "text/plain": [
       "17\n",
       "ClassII:TIR:CACTA           2458.177083\n",
       "ClassII:TIR:MuDR            2654.820734\n",
       "ClassII:TIR:hAT             2677.529274\n",
       "noCat                       2677.621333\n",
       "ClassII:TIR:?               2783.694550\n",
       "ClassII:TIR:Tc1-Mariner     2883.061798\n",
       "ClassII:Helitron:?          2974.724359\n",
       "ClassI:LINE:Jockey          3003.733333\n",
       "ClassII:MITE:?              3302.210526\n",
       "ClassI:LTR:ERV             10918.400000\n",
       "Name: 18, dtype: float64"
      ]
     },
     "execution_count": 52,
     "metadata": {},
     "output_type": "execute_result"
    }
   ],
   "source": [
    "p_noeffector_bed.closest(p_repeats_bed, d=True,t='last').to_dataframe().groupby(17).mean()[18].sort_values().tail(10)"
   ]
  },
  {
   "cell_type": "code",
   "execution_count": 53,
   "metadata": {
    "collapsed": false
   },
   "outputs": [
    {
     "data": {
      "text/plain": [
       "17\n",
       "ClassI:LTR:Gypsy      2037.925000\n",
       "noCat                 2140.538462\n",
       "ClassI:DIRS:DIRS      2537.000000\n",
       "ClassII:Helitron:?    2703.333333\n",
       "ClassI:LTR:Copia      3298.652174\n",
       "ClassII:TIR:?         3331.035714\n",
       "ClassII:Maverick:?    3639.500000\n",
       "ClassII:TIR:hAT       3736.062500\n",
       "ClassII:TIR:CACTA     3959.000000\n",
       "ClassI:?:?            4535.000000\n",
       "Name: 18, dtype: float64"
      ]
     },
     "execution_count": 53,
     "metadata": {},
     "output_type": "execute_result"
    }
   ],
   "source": [
    "p_effector_bed.closest(p_repeats_bed, d=True,t='last').to_dataframe().groupby(17).mean()[18].sort_values().tail(10)"
   ]
  },
  {
   "cell_type": "code",
   "execution_count": 54,
   "metadata": {
    "collapsed": true
   },
   "outputs": [],
   "source": [
    "#now lookine at ClassII:?:? specifically\n",
    "tmp_REPET[(tmp_REPET.distance > 400)&(tmp_REPET.attributes == 'ClassII:?:?')].loc[:,gff_header].to_csv(tmp_fn, header=None, sep='\\t', index=None)\n",
    "\n",
    "p_repeats_bed = BedTool(tmp_fn)"
   ]
  },
  {
   "cell_type": "code",
   "execution_count": 55,
   "metadata": {
    "collapsed": false
   },
   "outputs": [
    {
     "name": "stdout",
     "output_type": "stream",
     "text": [
      "                  18\n",
      "count     308.000000\n",
      "mean    14867.250000\n",
      "std     15499.382504\n",
      "min        74.000000\n",
      "25%      3726.750000\n",
      "50%     10596.500000\n",
      "75%     20149.500000\n",
      "max    111250.000000\n"
     ]
    },
    {
     "data": {
      "text/plain": [
       "<matplotlib.axes._subplots.AxesSubplot at 0x7f8f4656f7f0>"
      ]
     },
     "execution_count": 55,
     "metadata": {},
     "output_type": "execute_result"
    },
    {
     "data": {
      "image/png": "[encoded data removed]",
      "text/plain": [
       "<matplotlib.figure.Figure at 0x7f8f54036828>"
      ]
     },
     "metadata": {},
     "output_type": "display_data"
    }
   ],
   "source": [
    "print(p_effector_bed.closest(p_repeats_bed,d=True,t='last', io=True).to_dataframe().iloc[:,18:20].describe())\n",
    "p_effector_bed.closest(p_repeats_bed, d=True, t='last', io=True).to_dataframe().boxplot(column=18)"
   ]
  },
  {
   "cell_type": "code",
   "execution_count": 56,
   "metadata": {
    "collapsed": false
   },
   "outputs": [
    {
     "name": "stdout",
     "output_type": "stream",
     "text": [
      "                  18\n",
      "count    1296.000000\n",
      "mean    17249.780093\n",
      "std     19339.281875\n",
      "min         2.000000\n",
      "25%      4185.000000\n",
      "50%     11023.000000\n",
      "75%     23301.250000\n",
      "max    156673.000000\n"
     ]
    },
    {
     "data": {
      "text/plain": [
       "<matplotlib.axes._subplots.AxesSubplot at 0x7f8f46961d30>"
      ]
     },
     "execution_count": 56,
     "metadata": {},
     "output_type": "execute_result"
    },
    {
     "data": {
      "image/png": "[encoded data removed]",
      "text/plain": [
       "<matplotlib.figure.Figure at 0x7f8f46548898>"
      ]
     },
     "metadata": {},
     "output_type": "display_data"
    }
   ],
   "source": [
    "print(p_busco_bed.closest(p_repeats_bed, d=True,t='last', io=True).to_dataframe().iloc[:,18:20].describe())\n",
    "p_busco_bed.closest(p_repeats_bed, d=True,t='last', io=True).to_dataframe().boxplot(column=18)"
   ]
  },
  {
   "cell_type": "code",
   "execution_count": 57,
   "metadata": {
    "collapsed": false
   },
   "outputs": [
    {
     "name": "stdout",
     "output_type": "stream",
     "text": [
      "                  18\n",
      "count    5798.000000\n",
      "mean    15765.202484\n",
      "std     17775.726928\n",
      "min         2.000000\n",
      "25%      4151.750000\n",
      "50%     10118.500000\n",
      "75%     21072.250000\n",
      "max    187286.000000\n"
     ]
    },
    {
     "data": {
      "text/plain": [
       "<matplotlib.axes._subplots.AxesSubplot at 0x7f8f4694b470>"
      ]
     },
     "execution_count": 57,
     "metadata": {},
     "output_type": "execute_result"
    },
    {
     "data": {
      "image/png": "[encoded data removed]",
      "text/plain": [
       "<matplotlib.figure.Figure at 0x7f8f4780d630>"
      ]
     },
     "metadata": {},
     "output_type": "display_data"
    }
   ],
   "source": [
    "print(p_noeffector_bed.closest(p_repeats_bed, d=True,t='last', io=True).to_dataframe().iloc[:,18:20].describe())\n",
    "p_noeffector_bed.closest(p_repeats_bed, d=True,t='last', io=True).to_dataframe().boxplot(column=18)"
   ]
  },
  {
   "cell_type": "code",
   "execution_count": 58,
   "metadata": {
    "collapsed": false
   },
   "outputs": [
    {
     "name": "stdout",
     "output_type": "stream",
     "text": [
      "                  18\n",
      "count   15024.000000\n",
      "mean    17478.975905\n",
      "std     20851.892868\n",
      "min         0.000000\n",
      "25%      4034.000000\n",
      "50%     10868.500000\n",
      "75%     23203.250000\n",
      "max    194780.000000\n"
     ]
    },
    {
     "data": {
      "text/plain": [
       "<matplotlib.axes._subplots.AxesSubplot at 0x7f8f479b2710>"
      ]
     },
     "execution_count": 58,
     "metadata": {},
     "output_type": "execute_result"
    },
    {
     "data": {
      "image/png": "[encoded data removed]",
      "text/plain": [
       "<matplotlib.figure.Figure at 0x7f8f47c3e2b0>"
      ]
     },
     "metadata": {},
     "output_type": "display_data"
    }
   ],
   "source": [
    "print(p_noeffector_bed.closest(p_repeats_bed, d=True,t='last').to_dataframe().iloc[:,18:20].describe())\n",
    "p_noeffector_bed.closest(p_repeats_bed, d=True,t='last').to_dataframe().boxplot(column=18)"
   ]
  },
  {
   "cell_type": "code",
   "execution_count": 59,
   "metadata": {
    "collapsed": true
   },
   "outputs": [],
   "source": [
    "#re-define the repeats here before looking into it with different perspective\n",
    "tmp_REPET[tmp_REPET.distance > 400].loc[:,gff_header].to_csv(tmp_fn, header=None, sep='\\t', index=None)\n",
    "p_repeats_bed = BedTool(tmp_fn)"
   ]
  },
  {
   "cell_type": "code",
   "execution_count": 60,
   "metadata": {
    "collapsed": false
   },
   "outputs": [
    {
     "data": {
      "text/plain": [
       "[]"
      ]
     },
     "execution_count": 60,
     "metadata": {},
     "output_type": "execute_result"
    },
    {
     "data": {
      "image/png": "[encoded data removed]",
      "text/plain": [
       "<matplotlib.figure.Figure at 0x7f8f47cbb978>"
      ]
     },
     "metadata": {},
     "output_type": "display_data"
    }
   ],
   "source": [
    "#densities without overlaps between repeats and genes\n",
    "p_noeffector_bed.closest(p_repeats_bed, d=True,t='last', io=True).to_dataframe().loc[:,18].plot(kind='density')\n",
    "p_effector_bed.closest(p_repeats_bed, d=True,t='last', io=True).to_dataframe().loc[:,18].plot(kind='density', color='r')\n",
    "p_busco_bed.closest(p_repeats_bed, d=True,t='last', io=True).to_dataframe().loc[:,18].plot(kind='density', color='g')\n",
    "plt.semilogx()"
   ]
  },
  {
   "cell_type": "code",
   "execution_count": 61,
   "metadata": {
    "collapsed": false
   },
   "outputs": [
    {
     "data": {
      "text/plain": [
       "[]"
      ]
     },
     "execution_count": 61,
     "metadata": {},
     "output_type": "execute_result"
    },
    {
     "data": {
      "image/png": "[encoded data removed]",
      "text/plain": [
       "<matplotlib.figure.Figure at 0x7f8f45b386a0>"
      ]
     },
     "metadata": {},
     "output_type": "display_data"
    }
   ],
   "source": [
    "#densities with overlaps between repeats and genes\n",
    "p_noeffector_bed.closest(p_repeats_bed, d=True,t='last').to_dataframe().loc[:,18].plot(kind='density')\n",
    "p_effector_bed.closest(p_repeats_bed, d=True,t='last').to_dataframe().loc[:,18].plot(kind='density', color='r')\n",
    "p_busco_bed.closest(p_repeats_bed, d=True,t='last').to_dataframe().loc[:,18].plot(kind='density', color='g')\n",
    "plt.semilogx()"
   ]
  },
  {
   "cell_type": "code",
   "execution_count": 62,
   "metadata": {
    "collapsed": true
   },
   "outputs": [],
   "source": [
    "#define repeats\n",
    "tmp_REPET = pd.read_csv(p_repeat_superfamily_gff_fn, header=None, sep='\\t', names=gff_header)\n",
    "tmp_REPET['distance'] = tmp_REPET.end - tmp_REPET.start\n",
    "tmp_fn = p_repeat_superfamily_gff_fn.replace('superfamily', 'tmpsuperfamily')\n",
    "tmp_REPET[tmp_REPET.distance > 400].loc[:,gff_header].to_csv(tmp_fn, header=None, sep='\\t', index=None)\n",
    "\n",
    "p_repeats_bed = BedTool(tmp_fn)"
   ]
  },
  {
   "cell_type": "code",
   "execution_count": 63,
   "metadata": {
    "collapsed": false
   },
   "outputs": [
    {
     "data": {
      "text/html": [
       "<div>\n",
       "<style>\n",
       "    .dataframe thead tr:only-child th {\n",
       "        text-align: right;\n",
       "    }\n",
       "\n",
       "    .dataframe thead th {\n",
       "        text-align: left;\n",
       "    }\n",
       "\n",
       "    .dataframe tbody tr th {\n",
       "        vertical-align: top;\n",
       "    }\n",
       "</style>\n",
       "<table border=\"1\" class=\"dataframe\">\n",
       "  <thead>\n",
       "    <tr style=\"text-align: right;\">\n",
       "      <th></th>\n",
       "      <th></th>\n",
       "      <th>mean_noeffector</th>\n",
       "      <th>superfamily_%_noeffector</th>\n",
       "      <th>mean_busco</th>\n",
       "      <th>superfamily_%_busco</th>\n",
       "      <th>mean_effector</th>\n",
       "      <th>superfamily_%_effector</th>\n",
       "    </tr>\n",
       "    <tr>\n",
       "      <th>attributes_repeat</th>\n",
       "      <th></th>\n",
       "      <th></th>\n",
       "      <th></th>\n",
       "      <th></th>\n",
       "      <th></th>\n",
       "      <th></th>\n",
       "      <th></th>\n",
       "    </tr>\n",
       "  </thead>\n",
       "  <tbody>\n",
       "    <tr>\n",
       "      <th>ClassI:DIRS:DIRS</th>\n",
       "      <th>distance</th>\n",
       "      <td>1798.99</td>\n",
       "      <td>1.28</td>\n",
       "      <td>2274.42</td>\n",
       "      <td>1.32</td>\n",
       "      <td>2582.60</td>\n",
       "      <td>1.62</td>\n",
       "    </tr>\n",
       "    <tr>\n",
       "      <th>ClassII:TIR:CACTA</th>\n",
       "      <th>distance</th>\n",
       "      <td>3321.01</td>\n",
       "      <td>2.32</td>\n",
       "      <td>6555.92</td>\n",
       "      <td>0.90</td>\n",
       "      <td>3441.20</td>\n",
       "      <td>1.62</td>\n",
       "    </tr>\n",
       "    <tr>\n",
       "      <th>ClassII:Helitron:?</th>\n",
       "      <th>distance</th>\n",
       "      <td>3265.39</td>\n",
       "      <td>0.97</td>\n",
       "      <td>4449.82</td>\n",
       "      <td>0.76</td>\n",
       "      <td>2703.33</td>\n",
       "      <td>1.95</td>\n",
       "    </tr>\n",
       "    <tr>\n",
       "      <th>ClassII:TIR:MuDR</th>\n",
       "      <th>distance</th>\n",
       "      <td>2961.89</td>\n",
       "      <td>3.13</td>\n",
       "      <td>4569.71</td>\n",
       "      <td>1.94</td>\n",
       "      <td>1571.62</td>\n",
       "      <td>2.60</td>\n",
       "    </tr>\n",
       "    <tr>\n",
       "      <th>ClassII:TIR:PIF-Harbinger</th>\n",
       "      <th>distance</th>\n",
       "      <td>1978.80</td>\n",
       "      <td>4.48</td>\n",
       "      <td>2674.48</td>\n",
       "      <td>4.43</td>\n",
       "      <td>2221.44</td>\n",
       "      <td>2.92</td>\n",
       "    </tr>\n",
       "    <tr>\n",
       "      <th>noCat</th>\n",
       "      <th>distance</th>\n",
       "      <td>2816.53</td>\n",
       "      <td>2.65</td>\n",
       "      <td>2771.70</td>\n",
       "      <td>2.08</td>\n",
       "      <td>2782.70</td>\n",
       "      <td>3.25</td>\n",
       "    </tr>\n",
       "    <tr>\n",
       "      <th>ClassII:TIR:Tc1-Mariner</th>\n",
       "      <th>distance</th>\n",
       "      <td>3171.57</td>\n",
       "      <td>4.74</td>\n",
       "      <td>3836.76</td>\n",
       "      <td>5.40</td>\n",
       "      <td>3333.45</td>\n",
       "      <td>3.57</td>\n",
       "    </tr>\n",
       "    <tr>\n",
       "      <th>ClassI:LTR:?</th>\n",
       "      <th>distance</th>\n",
       "      <td>2550.36</td>\n",
       "      <td>3.94</td>\n",
       "      <td>2769.40</td>\n",
       "      <td>4.36</td>\n",
       "      <td>2024.61</td>\n",
       "      <td>5.84</td>\n",
       "    </tr>\n",
       "    <tr>\n",
       "      <th>ClassII:TIR:hAT</th>\n",
       "      <th>distance</th>\n",
       "      <td>2927.14</td>\n",
       "      <td>8.54</td>\n",
       "      <td>3211.91</td>\n",
       "      <td>8.52</td>\n",
       "      <td>3677.32</td>\n",
       "      <td>6.17</td>\n",
       "    </tr>\n",
       "    <tr>\n",
       "      <th>ClassII:MITE:?</th>\n",
       "      <th>distance</th>\n",
       "      <td>3183.02</td>\n",
       "      <td>3.64</td>\n",
       "      <td>2909.45</td>\n",
       "      <td>5.75</td>\n",
       "      <td>2377.25</td>\n",
       "      <td>7.79</td>\n",
       "    </tr>\n",
       "    <tr>\n",
       "      <th>ClassI:LTR:Copia</th>\n",
       "      <th>distance</th>\n",
       "      <td>2690.57</td>\n",
       "      <td>9.36</td>\n",
       "      <td>3284.25</td>\n",
       "      <td>7.96</td>\n",
       "      <td>3803.92</td>\n",
       "      <td>8.12</td>\n",
       "    </tr>\n",
       "    <tr>\n",
       "      <th>ClassII:TIR:?</th>\n",
       "      <th>distance</th>\n",
       "      <td>3189.92</td>\n",
       "      <td>9.99</td>\n",
       "      <td>2800.79</td>\n",
       "      <td>12.12</td>\n",
       "      <td>3415.39</td>\n",
       "      <td>9.09</td>\n",
       "    </tr>\n",
       "    <tr>\n",
       "      <th>ClassI:LARD:?</th>\n",
       "      <th>distance</th>\n",
       "      <td>2935.53</td>\n",
       "      <td>9.01</td>\n",
       "      <td>3524.31</td>\n",
       "      <td>10.53</td>\n",
       "      <td>2024.73</td>\n",
       "      <td>9.74</td>\n",
       "    </tr>\n",
       "    <tr>\n",
       "      <th>ClassI:LTR:Gypsy</th>\n",
       "      <th>distance</th>\n",
       "      <td>2219.60</td>\n",
       "      <td>17.90</td>\n",
       "      <td>3476.61</td>\n",
       "      <td>13.57</td>\n",
       "      <td>2164.95</td>\n",
       "      <td>14.29</td>\n",
       "    </tr>\n",
       "    <tr>\n",
       "      <th>ClassII:?:?</th>\n",
       "      <th>distance</th>\n",
       "      <td>2818.52</td>\n",
       "      <td>13.06</td>\n",
       "      <td>2899.79</td>\n",
       "      <td>15.86</td>\n",
       "      <td>2334.21</td>\n",
       "      <td>18.83</td>\n",
       "    </tr>\n",
       "  </tbody>\n",
       "</table>\n",
       "</div>"
      ],
      "text/plain": [
       "                                    mean_noeffector  superfamily_%_noeffector  \\\n",
       "attributes_repeat                                                               \n",
       "ClassI:DIRS:DIRS          distance          1798.99                      1.28   \n",
       "ClassII:TIR:CACTA         distance          3321.01                      2.32   \n",
       "ClassII:Helitron:?        distance          3265.39                      0.97   \n",
       "ClassII:TIR:MuDR          distance          2961.89                      3.13   \n",
       "ClassII:TIR:PIF-Harbinger distance          1978.80                      4.48   \n",
       "noCat                     distance          2816.53                      2.65   \n",
       "ClassII:TIR:Tc1-Mariner   distance          3171.57                      4.74   \n",
       "ClassI:LTR:?              distance          2550.36                      3.94   \n",
       "ClassII:TIR:hAT           distance          2927.14                      8.54   \n",
       "ClassII:MITE:?            distance          3183.02                      3.64   \n",
       "ClassI:LTR:Copia          distance          2690.57                      9.36   \n",
       "ClassII:TIR:?             distance          3189.92                      9.99   \n",
       "ClassI:LARD:?             distance          2935.53                      9.01   \n",
       "ClassI:LTR:Gypsy          distance          2219.60                     17.90   \n",
       "ClassII:?:?               distance          2818.52                     13.06   \n",
       "\n",
       "                                    mean_busco  superfamily_%_busco  \\\n",
       "attributes_repeat                                                     \n",
       "ClassI:DIRS:DIRS          distance     2274.42                 1.32   \n",
       "ClassII:TIR:CACTA         distance     6555.92                 0.90   \n",
       "ClassII:Helitron:?        distance     4449.82                 0.76   \n",
       "ClassII:TIR:MuDR          distance     4569.71                 1.94   \n",
       "ClassII:TIR:PIF-Harbinger distance     2674.48                 4.43   \n",
       "noCat                     distance     2771.70                 2.08   \n",
       "ClassII:TIR:Tc1-Mariner   distance     3836.76                 5.40   \n",
       "ClassI:LTR:?              distance     2769.40                 4.36   \n",
       "ClassII:TIR:hAT           distance     3211.91                 8.52   \n",
       "ClassII:MITE:?            distance     2909.45                 5.75   \n",
       "ClassI:LTR:Copia          distance     3284.25                 7.96   \n",
       "ClassII:TIR:?             distance     2800.79                12.12   \n",
       "ClassI:LARD:?             distance     3524.31                10.53   \n",
       "ClassI:LTR:Gypsy          distance     3476.61                13.57   \n",
       "ClassII:?:?               distance     2899.79                15.86   \n",
       "\n",
       "                                    mean_effector  superfamily_%_effector  \n",
       "attributes_repeat                                                          \n",
       "ClassI:DIRS:DIRS          distance        2582.60                    1.62  \n",
       "ClassII:TIR:CACTA         distance        3441.20                    1.62  \n",
       "ClassII:Helitron:?        distance        2703.33                    1.95  \n",
       "ClassII:TIR:MuDR          distance        1571.62                    2.60  \n",
       "ClassII:TIR:PIF-Harbinger distance        2221.44                    2.92  \n",
       "noCat                     distance        2782.70                    3.25  \n",
       "ClassII:TIR:Tc1-Mariner   distance        3333.45                    3.57  \n",
       "ClassI:LTR:?              distance        2024.61                    5.84  \n",
       "ClassII:TIR:hAT           distance        3677.32                    6.17  \n",
       "ClassII:MITE:?            distance        2377.25                    7.79  \n",
       "ClassI:LTR:Copia          distance        3803.92                    8.12  \n",
       "ClassII:TIR:?             distance        3415.39                    9.09  \n",
       "ClassI:LARD:?             distance        2024.73                    9.74  \n",
       "ClassI:LTR:Gypsy          distance        2164.95                   14.29  \n",
       "ClassII:?:?               distance        2334.21                   18.83  "
      ]
     },
     "execution_count": 63,
     "metadata": {},
     "output_type": "execute_result"
    }
   ],
   "source": [
    "#summary of closest TEs not allowing for overlaps \n",
    "#####Needs fixing for genes that don't have a nearest neighbou######\n",
    "p_br_closest_df = p_busco_bed.closest(p_repeats_bed, d=True,t='last', io=True).to_dataframe(names = bed_repeat_closest_header)\n",
    "\n",
    "p_br_closest_pt = p_br_closest_df.pivot_table(values='distance', index=['attributes_repeat'] ,aggfunc=[ np.count_nonzero, np.mean]).T.unstack().T\n",
    "\n",
    "p_br_closest_pt['superfamily_%'] = p_br_closest_pt.count_nonzero / p_br_closest_pt.count_nonzero.sum() *100\n",
    "old_columns =[x for x in p_br_closest_pt.columns] \n",
    "new_columns = [x+'_busco' for x in p_br_closest_pt.columns]\n",
    "p_br_closest_pt.rename(columns=dict(zip(old_columns,new_columns)), inplace = True)\n",
    "\n",
    "p_er_closest_df = p_effector_bed.closest(p_repeats_bed, d=True,t='last', io=True).to_dataframe(names = bed_repeat_closest_header)\n",
    "\n",
    "p_er_closest_pt = p_er_closest_df.pivot_table(values='distance', index=['attributes_repeat'] ,aggfunc=[ np.count_nonzero, np.mean]).T.unstack().T\n",
    "\n",
    "p_er_closest_pt['superfamily_%'] = p_er_closest_pt.count_nonzero / p_er_closest_pt.count_nonzero.sum() *100\n",
    "old_columns =[x for x in p_er_closest_pt.columns] \n",
    "new_columns = [x+'_effector' for x in p_er_closest_pt.columns]\n",
    "p_er_closest_pt.rename(columns=dict(zip(old_columns,new_columns)), inplace = True)\n",
    "\n",
    "p_ner_closest_df = p_noeffector_bed.closest(p_repeats_bed, d=True,t='last', io=True).to_dataframe(names = bed_repeat_closest_header)\n",
    "\n",
    "p_ner_closest_pt = p_ner_closest_df.pivot_table(values='distance', index=['attributes_repeat'] ,aggfunc=[ np.count_nonzero, np.mean]).T.unstack().T\n",
    "\n",
    "p_ner_closest_pt['superfamily_%'] = p_ner_closest_pt['count_nonzero'] / p_ner_closest_pt['count_nonzero'].sum() *100\n",
    "old_columns =[x for x in p_ner_closest_pt.columns] \n",
    "new_columns = [x+'_noeffector' for x in p_ner_closest_pt.columns]\n",
    "p_ner_closest_pt.rename(columns=dict(zip(old_columns,new_columns)), inplace = True)\n",
    "\n",
    "pd.options.display.float_format = '{:.2f}'.format\n",
    "\n",
    "repeat_distance_df = pd.concat([p_ner_closest_pt.iloc[:,1:], p_br_closest_pt.iloc[:,1:], p_er_closest_pt.iloc[:,1:]], axis=1)\n",
    "\n",
    "repeat_distance_df[repeat_distance_df['superfamily_%_effector'] >1].sort_values('superfamily_%_effector')"
   ]
  },
  {
   "cell_type": "code",
   "execution_count": 64,
   "metadata": {
    "collapsed": false
   },
   "outputs": [
    {
     "data": {
      "text/html": [
       "<div>\n",
       "<style>\n",
       "    .dataframe thead tr:only-child th {\n",
       "        text-align: right;\n",
       "    }\n",
       "\n",
       "    .dataframe thead th {\n",
       "        text-align: left;\n",
       "    }\n",
       "\n",
       "    .dataframe tbody tr th {\n",
       "        vertical-align: top;\n",
       "    }\n",
       "</style>\n",
       "<table border=\"1\" class=\"dataframe\">\n",
       "  <thead>\n",
       "    <tr style=\"text-align: right;\">\n",
       "      <th></th>\n",
       "      <th></th>\n",
       "      <th>mean_noeffector</th>\n",
       "      <th>superfamily_%_noeffector</th>\n",
       "      <th>mean_busco</th>\n",
       "      <th>superfamily_%_busco</th>\n",
       "      <th>mean_effector</th>\n",
       "      <th>superfamily_%_effector</th>\n",
       "    </tr>\n",
       "    <tr>\n",
       "      <th>attributes_repeat</th>\n",
       "      <th></th>\n",
       "      <th></th>\n",
       "      <th></th>\n",
       "      <th></th>\n",
       "      <th></th>\n",
       "      <th></th>\n",
       "      <th></th>\n",
       "    </tr>\n",
       "  </thead>\n",
       "  <tbody>\n",
       "    <tr>\n",
       "      <th>ClassI:DIRS:DIRS</th>\n",
       "      <th>distance</th>\n",
       "      <td>1478.37</td>\n",
       "      <td>1.07</td>\n",
       "      <td>2160.70</td>\n",
       "      <td>1.47</td>\n",
       "      <td>2537.00</td>\n",
       "      <td>1.33</td>\n",
       "    </tr>\n",
       "    <tr>\n",
       "      <th>ClassII:TIR:CACTA</th>\n",
       "      <th>distance</th>\n",
       "      <td>2458.18</td>\n",
       "      <td>1.82</td>\n",
       "      <td>2993.24</td>\n",
       "      <td>0.77</td>\n",
       "      <td>3959.00</td>\n",
       "      <td>1.78</td>\n",
       "    </tr>\n",
       "    <tr>\n",
       "      <th>ClassII:Helitron:?</th>\n",
       "      <th>distance</th>\n",
       "      <td>2974.72</td>\n",
       "      <td>1.18</td>\n",
       "      <td>3765.23</td>\n",
       "      <td>0.85</td>\n",
       "      <td>2703.33</td>\n",
       "      <td>2.67</td>\n",
       "    </tr>\n",
       "    <tr>\n",
       "      <th>ClassII:TIR:PIF-Harbinger</th>\n",
       "      <th>distance</th>\n",
       "      <td>1469.87</td>\n",
       "      <td>4.18</td>\n",
       "      <td>2284.90</td>\n",
       "      <td>4.26</td>\n",
       "      <td>1502.36</td>\n",
       "      <td>2.67</td>\n",
       "    </tr>\n",
       "    <tr>\n",
       "      <th>ClassII:TIR:MuDR</th>\n",
       "      <th>distance</th>\n",
       "      <td>2654.82</td>\n",
       "      <td>3.12</td>\n",
       "      <td>3947.16</td>\n",
       "      <td>2.09</td>\n",
       "      <td>1456.71</td>\n",
       "      <td>3.11</td>\n",
       "    </tr>\n",
       "    <tr>\n",
       "      <th>ClassII:TIR:Tc1-Mariner</th>\n",
       "      <th>distance</th>\n",
       "      <td>2883.06</td>\n",
       "      <td>4.94</td>\n",
       "      <td>3675.42</td>\n",
       "      <td>5.42</td>\n",
       "      <td>1535.27</td>\n",
       "      <td>3.11</td>\n",
       "    </tr>\n",
       "    <tr>\n",
       "      <th>noCat</th>\n",
       "      <th>distance</th>\n",
       "      <td>2677.62</td>\n",
       "      <td>2.79</td>\n",
       "      <td>2868.71</td>\n",
       "      <td>2.17</td>\n",
       "      <td>2140.54</td>\n",
       "      <td>4.44</td>\n",
       "    </tr>\n",
       "    <tr>\n",
       "      <th>ClassI:LARD:?</th>\n",
       "      <th>distance</th>\n",
       "      <td>2097.49</td>\n",
       "      <td>8.89</td>\n",
       "      <td>3156.92</td>\n",
       "      <td>9.83</td>\n",
       "      <td>1139.18</td>\n",
       "      <td>4.89</td>\n",
       "    </tr>\n",
       "    <tr>\n",
       "      <th>ClassI:LTR:?</th>\n",
       "      <th>distance</th>\n",
       "      <td>2235.78</td>\n",
       "      <td>3.89</td>\n",
       "      <td>2485.55</td>\n",
       "      <td>4.57</td>\n",
       "      <td>981.18</td>\n",
       "      <td>4.89</td>\n",
       "    </tr>\n",
       "    <tr>\n",
       "      <th>ClassII:TIR:hAT</th>\n",
       "      <th>distance</th>\n",
       "      <td>2677.53</td>\n",
       "      <td>8.70</td>\n",
       "      <td>3189.16</td>\n",
       "      <td>8.20</td>\n",
       "      <td>3736.06</td>\n",
       "      <td>6.22</td>\n",
       "    </tr>\n",
       "    <tr>\n",
       "      <th>ClassI:LTR:Copia</th>\n",
       "      <th>distance</th>\n",
       "      <td>2408.93</td>\n",
       "      <td>9.53</td>\n",
       "      <td>3060.02</td>\n",
       "      <td>7.28</td>\n",
       "      <td>3298.65</td>\n",
       "      <td>8.00</td>\n",
       "    </tr>\n",
       "    <tr>\n",
       "      <th>ClassII:MITE:?</th>\n",
       "      <th>distance</th>\n",
       "      <td>3302.21</td>\n",
       "      <td>4.53</td>\n",
       "      <td>2998.27</td>\n",
       "      <td>5.96</td>\n",
       "      <td>1947.53</td>\n",
       "      <td>8.44</td>\n",
       "    </tr>\n",
       "    <tr>\n",
       "      <th>ClassII:TIR:?</th>\n",
       "      <th>distance</th>\n",
       "      <td>2783.69</td>\n",
       "      <td>11.93</td>\n",
       "      <td>2548.77</td>\n",
       "      <td>12.69</td>\n",
       "      <td>3331.04</td>\n",
       "      <td>11.56</td>\n",
       "    </tr>\n",
       "    <tr>\n",
       "      <th>ClassI:LTR:Gypsy</th>\n",
       "      <th>distance</th>\n",
       "      <td>1907.68</td>\n",
       "      <td>14.58</td>\n",
       "      <td>3528.76</td>\n",
       "      <td>13.47</td>\n",
       "      <td>2037.92</td>\n",
       "      <td>14.67</td>\n",
       "    </tr>\n",
       "    <tr>\n",
       "      <th>ClassII:?:?</th>\n",
       "      <th>distance</th>\n",
       "      <td>2387.99</td>\n",
       "      <td>14.62</td>\n",
       "      <td>2614.99</td>\n",
       "      <td>16.18</td>\n",
       "      <td>1898.97</td>\n",
       "      <td>19.11</td>\n",
       "    </tr>\n",
       "  </tbody>\n",
       "</table>\n",
       "</div>"
      ],
      "text/plain": [
       "                                    mean_noeffector  superfamily_%_noeffector  \\\n",
       "attributes_repeat                                                               \n",
       "ClassI:DIRS:DIRS          distance          1478.37                      1.07   \n",
       "ClassII:TIR:CACTA         distance          2458.18                      1.82   \n",
       "ClassII:Helitron:?        distance          2974.72                      1.18   \n",
       "ClassII:TIR:PIF-Harbinger distance          1469.87                      4.18   \n",
       "ClassII:TIR:MuDR          distance          2654.82                      3.12   \n",
       "ClassII:TIR:Tc1-Mariner   distance          2883.06                      4.94   \n",
       "noCat                     distance          2677.62                      2.79   \n",
       "ClassI:LARD:?             distance          2097.49                      8.89   \n",
       "ClassI:LTR:?              distance          2235.78                      3.89   \n",
       "ClassII:TIR:hAT           distance          2677.53                      8.70   \n",
       "ClassI:LTR:Copia          distance          2408.93                      9.53   \n",
       "ClassII:MITE:?            distance          3302.21                      4.53   \n",
       "ClassII:TIR:?             distance          2783.69                     11.93   \n",
       "ClassI:LTR:Gypsy          distance          1907.68                     14.58   \n",
       "ClassII:?:?               distance          2387.99                     14.62   \n",
       "\n",
       "                                    mean_busco  superfamily_%_busco  \\\n",
       "attributes_repeat                                                     \n",
       "ClassI:DIRS:DIRS          distance     2160.70                 1.47   \n",
       "ClassII:TIR:CACTA         distance     2993.24                 0.77   \n",
       "ClassII:Helitron:?        distance     3765.23                 0.85   \n",
       "ClassII:TIR:PIF-Harbinger distance     2284.90                 4.26   \n",
       "ClassII:TIR:MuDR          distance     3947.16                 2.09   \n",
       "ClassII:TIR:Tc1-Mariner   distance     3675.42                 5.42   \n",
       "noCat                     distance     2868.71                 2.17   \n",
       "ClassI:LARD:?             distance     3156.92                 9.83   \n",
       "ClassI:LTR:?              distance     2485.55                 4.57   \n",
       "ClassII:TIR:hAT           distance     3189.16                 8.20   \n",
       "ClassI:LTR:Copia          distance     3060.02                 7.28   \n",
       "ClassII:MITE:?            distance     2998.27                 5.96   \n",
       "ClassII:TIR:?             distance     2548.77                12.69   \n",
       "ClassI:LTR:Gypsy          distance     3528.76                13.47   \n",
       "ClassII:?:?               distance     2614.99                16.18   \n",
       "\n",
       "                                    mean_effector  superfamily_%_effector  \n",
       "attributes_repeat                                                          \n",
       "ClassI:DIRS:DIRS          distance        2537.00                    1.33  \n",
       "ClassII:TIR:CACTA         distance        3959.00                    1.78  \n",
       "ClassII:Helitron:?        distance        2703.33                    2.67  \n",
       "ClassII:TIR:PIF-Harbinger distance        1502.36                    2.67  \n",
       "ClassII:TIR:MuDR          distance        1456.71                    3.11  \n",
       "ClassII:TIR:Tc1-Mariner   distance        1535.27                    3.11  \n",
       "noCat                     distance        2140.54                    4.44  \n",
       "ClassI:LARD:?             distance        1139.18                    4.89  \n",
       "ClassI:LTR:?              distance         981.18                    4.89  \n",
       "ClassII:TIR:hAT           distance        3736.06                    6.22  \n",
       "ClassI:LTR:Copia          distance        3298.65                    8.00  \n",
       "ClassII:MITE:?            distance        1947.53                    8.44  \n",
       "ClassII:TIR:?             distance        3331.04                   11.56  \n",
       "ClassI:LTR:Gypsy          distance        2037.92                   14.67  \n",
       "ClassII:?:?               distance        1898.97                   19.11  "
      ]
     },
     "execution_count": 64,
     "metadata": {},
     "output_type": "execute_result"
    }
   ],
   "source": [
    "#summary of closest TEs allowing for overlaps\n",
    "p_br_closest_df = p_busco_bed.closest(p_repeats_bed, d=True,t='last').to_dataframe(names = bed_repeat_closest_header)\n",
    "\n",
    "p_br_closest_pt = p_br_closest_df.pivot_table(values='distance', index=['attributes_repeat'] ,aggfunc=[ np.count_nonzero, np.mean]).T.unstack().T\n",
    "\n",
    "p_br_closest_pt['superfamily_%'] = p_br_closest_pt.count_nonzero / p_br_closest_pt.count_nonzero.sum() *100\n",
    "old_columns =[x for x in p_br_closest_pt.columns] \n",
    "new_columns = [x+'_busco' for x in p_br_closest_pt.columns]\n",
    "p_br_closest_pt.rename(columns=dict(zip(old_columns,new_columns)), inplace = True)\n",
    "\n",
    "p_er_closest_df = p_effector_bed.closest(p_repeats_bed, d=True,t='last').to_dataframe(names = bed_repeat_closest_header)\n",
    "\n",
    "p_er_closest_pt = p_er_closest_df.pivot_table(values='distance', index=['attributes_repeat'] ,aggfunc=[ np.count_nonzero, np.mean]).T.unstack().T\n",
    "\n",
    "p_er_closest_pt['superfamily_%'] = p_er_closest_pt.count_nonzero / p_er_closest_pt.count_nonzero.sum() *100\n",
    "old_columns =[x for x in p_er_closest_pt.columns] \n",
    "new_columns = [x+'_effector' for x in p_er_closest_pt.columns]\n",
    "p_er_closest_pt.rename(columns=dict(zip(old_columns,new_columns)), inplace = True)\n",
    "\n",
    "p_ner_closest_df = p_noeffector_bed.closest(p_repeats_bed, d=True,t='last').to_dataframe(names = bed_repeat_closest_header)\n",
    "\n",
    "p_ner_closest_pt = p_ner_closest_df.pivot_table(values='distance', index=['attributes_repeat'] ,aggfunc=[ np.count_nonzero, np.mean]).T.unstack().T\n",
    "\n",
    "p_ner_closest_pt['superfamily_%'] = p_ner_closest_pt['count_nonzero'] / p_ner_closest_pt['count_nonzero'].sum() *100\n",
    "old_columns =[x for x in p_ner_closest_pt.columns] \n",
    "new_columns = [x+'_noeffector' for x in p_ner_closest_pt.columns]\n",
    "p_ner_closest_pt.rename(columns=dict(zip(old_columns,new_columns)), inplace = True)\n",
    "\n",
    "pd.options.display.float_format = '{:.2f}'.format\n",
    "\n",
    "repeat_distance_df = pd.concat([p_ner_closest_pt.iloc[:,1:], p_br_closest_pt.iloc[:,1:], p_er_closest_pt.iloc[:,1:]], axis=1)\n",
    "\n",
    "repeat_distance_df[repeat_distance_df['superfamily_%_effector'] >1].sort_values('superfamily_%_effector')"
   ]
  },
  {
   "cell_type": "markdown",
   "metadata": {},
   "source": [
    "Add some sub_sets for randommization to get equal sized groups"
   ]
  },
  {
   "cell_type": "code",
   "execution_count": 66,
   "metadata": {
    "collapsed": false
   },
   "outputs": [],
   "source": [
    "#set the size of the subset here\n",
    "sub_set = len(p_effector_bed)"
   ]
  },
  {
   "cell_type": "code",
   "execution_count": 67,
   "metadata": {
    "collapsed": false
   },
   "outputs": [],
   "source": [
    "p_effector_bed = BedTool(p_effector_bed_fn)\n",
    "p_allgene_bed = BedTool(p_gene_bed_fn)\n",
    "p_busco_bed = BedTool(p_busco_bed_fn)\n",
    "p_allall_rand_sub = p_allgene_bed.random_subset(sub_set)\n",
    "p_effector_bed_rand_sub = p_effector_bed.random_subset(sub_set)\n",
    "p_busco_bed_rand_sub = p_busco_bed.random_subset(sub_set)"
   ]
  },
  {
   "cell_type": "code",
   "execution_count": 76,
   "metadata": {
    "collapsed": false
   },
   "outputs": [
    {
     "name": "stdout",
     "output_type": "stream",
     "text": [
      "count      290.00\n",
      "mean     97968.61\n",
      "std     135303.65\n",
      "min       1314.00\n",
      "25%      12738.00\n",
      "50%      41225.00\n",
      "75%     146234.75\n",
      "max     964418.00\n",
      "Name: 12, dtype: float64\n"
     ]
    },
    {
     "data": {
      "text/plain": [
       "<matplotlib.axes._subplots.AxesSubplot at 0x7f8f45b7a748>"
      ]
     },
     "execution_count": 76,
     "metadata": {},
     "output_type": "execute_result"
    },
    {
     "data": {
      "image/png": "[encoded data removed]",
      "text/plain": [
       "<matplotlib.figure.Figure at 0x7f8f45b74978>"
      ]
     },
     "metadata": {},
     "output_type": "display_data"
    }
   ],
   "source": [
    "#get the distances with nearest gene effectors vs effectors\n",
    "p_eself = p_effector_bed_rand_sub.closest(p_effector_bed_rand_sub, d=True,  N=True).to_dataframe().iloc[:,12]\n",
    "p_eself = p_eself[p_eself > -1]\n",
    "p_eall = p_effector_bed_rand_sub.closest(p_allall_rand_sub, d=True,  N=True).to_dataframe().iloc[:,12]\n",
    "p_eall= p_eall[p_eall > -1]\n",
    "print(p_eself.describe())\n",
    "p_effector_bed_rand_sub.closest(p_allall_rand_sub, d=True,  N=True).to_dataframe().iloc[:,12].plot(kind='box')"
   ]
  },
  {
   "cell_type": "code",
   "execution_count": 72,
   "metadata": {
    "collapsed": true
   },
   "outputs": [],
   "source": [
    "#some temp analysis\n",
    "tmp_df = p_effector_bed_rand_sub.closest(p_effector_bed_rand_sub, d=True,  N=True).to_dataframe()"
   ]
  },
  {
   "cell_type": "code",
   "execution_count": 77,
   "metadata": {
    "collapsed": true
   },
   "outputs": [
    {
     "data": {
      "text/html": [
       "<div>\n",
       "<style>\n",
       "    .dataframe thead tr:only-child th {\n",
       "        text-align: right;\n",
       "    }\n",
       "\n",
       "    .dataframe thead th {\n",
       "        text-align: left;\n",
       "    }\n",
       "\n",
       "    .dataframe tbody tr th {\n",
       "        vertical-align: top;\n",
       "    }\n",
       "</style>\n",
       "<table border=\"1\" class=\"dataframe\">\n",
       "  <thead>\n",
       "    <tr style=\"text-align: right;\">\n",
       "      <th></th>\n",
       "      <th>0</th>\n",
       "      <th>1</th>\n",
       "      <th>2</th>\n",
       "      <th>3</th>\n",
       "      <th>4</th>\n",
       "      <th>5</th>\n",
       "      <th>6</th>\n",
       "      <th>7</th>\n",
       "      <th>8</th>\n",
       "      <th>9</th>\n",
       "      <th>10</th>\n",
       "      <th>11</th>\n",
       "      <th>12</th>\n",
       "    </tr>\n",
       "  </thead>\n",
       "  <tbody>\n",
       "    <tr>\n",
       "      <th>10</th>\n",
       "      <td>pcontig_001</td>\n",
       "      <td>498220</td>\n",
       "      <td>500173</td>\n",
       "      <td>evm.TU.pcontig_001.124</td>\n",
       "      <td>.</td>\n",
       "      <td>-</td>\n",
       "      <td>pcontig_001</td>\n",
       "      <td>512910</td>\n",
       "      <td>515514</td>\n",
       "      <td>evm.TU.pcontig_001.127</td>\n",
       "      <td>.</td>\n",
       "      <td>-</td>\n",
       "      <td>12738</td>\n",
       "    </tr>\n",
       "    <tr>\n",
       "      <th>11</th>\n",
       "      <td>pcontig_001</td>\n",
       "      <td>512910</td>\n",
       "      <td>515514</td>\n",
       "      <td>evm.TU.pcontig_001.127</td>\n",
       "      <td>.</td>\n",
       "      <td>-</td>\n",
       "      <td>pcontig_001</td>\n",
       "      <td>498220</td>\n",
       "      <td>500173</td>\n",
       "      <td>evm.TU.pcontig_001.124</td>\n",
       "      <td>.</td>\n",
       "      <td>-</td>\n",
       "      <td>12738</td>\n",
       "    </tr>\n",
       "    <tr>\n",
       "      <th>13</th>\n",
       "      <td>pcontig_001</td>\n",
       "      <td>803807</td>\n",
       "      <td>804812</td>\n",
       "      <td>evm.TU.pcontig_001.197</td>\n",
       "      <td>.</td>\n",
       "      <td>+</td>\n",
       "      <td>pcontig_001</td>\n",
       "      <td>816431</td>\n",
       "      <td>817520</td>\n",
       "      <td>evm.TU.pcontig_001.200</td>\n",
       "      <td>.</td>\n",
       "      <td>-</td>\n",
       "      <td>11620</td>\n",
       "    </tr>\n",
       "    <tr>\n",
       "      <th>14</th>\n",
       "      <td>pcontig_001</td>\n",
       "      <td>816431</td>\n",
       "      <td>817520</td>\n",
       "      <td>evm.TU.pcontig_001.200</td>\n",
       "      <td>.</td>\n",
       "      <td>-</td>\n",
       "      <td>pcontig_001</td>\n",
       "      <td>803807</td>\n",
       "      <td>804812</td>\n",
       "      <td>evm.TU.pcontig_001.197</td>\n",
       "      <td>.</td>\n",
       "      <td>+</td>\n",
       "      <td>11620</td>\n",
       "    </tr>\n",
       "    <tr>\n",
       "      <th>16</th>\n",
       "      <td>pcontig_001</td>\n",
       "      <td>1663502</td>\n",
       "      <td>1665663</td>\n",
       "      <td>evm.TU.pcontig_001.395</td>\n",
       "      <td>.</td>\n",
       "      <td>-</td>\n",
       "      <td>pcontig_001</td>\n",
       "      <td>1667080</td>\n",
       "      <td>1668750</td>\n",
       "      <td>evm.TU.pcontig_001.396</td>\n",
       "      <td>.</td>\n",
       "      <td>-</td>\n",
       "      <td>1418</td>\n",
       "    </tr>\n",
       "    <tr>\n",
       "      <th>17</th>\n",
       "      <td>pcontig_001</td>\n",
       "      <td>1667080</td>\n",
       "      <td>1668750</td>\n",
       "      <td>evm.TU.pcontig_001.396</td>\n",
       "      <td>.</td>\n",
       "      <td>-</td>\n",
       "      <td>pcontig_001</td>\n",
       "      <td>1663502</td>\n",
       "      <td>1665663</td>\n",
       "      <td>evm.TU.pcontig_001.395</td>\n",
       "      <td>.</td>\n",
       "      <td>-</td>\n",
       "      <td>1418</td>\n",
       "    </tr>\n",
       "    <tr>\n",
       "      <th>21</th>\n",
       "      <td>pcontig_002</td>\n",
       "      <td>96349</td>\n",
       "      <td>98306</td>\n",
       "      <td>evm.TU.pcontig_002.21</td>\n",
       "      <td>.</td>\n",
       "      <td>+</td>\n",
       "      <td>pcontig_002</td>\n",
       "      <td>134744</td>\n",
       "      <td>136657</td>\n",
       "      <td>evm.TU.pcontig_002.29</td>\n",
       "      <td>.</td>\n",
       "      <td>-</td>\n",
       "      <td>36439</td>\n",
       "    </tr>\n",
       "    <tr>\n",
       "      <th>22</th>\n",
       "      <td>pcontig_002</td>\n",
       "      <td>134744</td>\n",
       "      <td>136657</td>\n",
       "      <td>evm.TU.pcontig_002.29</td>\n",
       "      <td>.</td>\n",
       "      <td>-</td>\n",
       "      <td>pcontig_002</td>\n",
       "      <td>96349</td>\n",
       "      <td>98306</td>\n",
       "      <td>evm.TU.pcontig_002.21</td>\n",
       "      <td>.</td>\n",
       "      <td>+</td>\n",
       "      <td>36439</td>\n",
       "    </tr>\n",
       "    <tr>\n",
       "      <th>26</th>\n",
       "      <td>pcontig_002</td>\n",
       "      <td>1626991</td>\n",
       "      <td>1628251</td>\n",
       "      <td>evm.TU.pcontig_002.396</td>\n",
       "      <td>.</td>\n",
       "      <td>-</td>\n",
       "      <td>pcontig_002</td>\n",
       "      <td>1652140</td>\n",
       "      <td>1652582</td>\n",
       "      <td>evm.TU.pcontig_002.403</td>\n",
       "      <td>.</td>\n",
       "      <td>-</td>\n",
       "      <td>23890</td>\n",
       "    </tr>\n",
       "    <tr>\n",
       "      <th>27</th>\n",
       "      <td>pcontig_002</td>\n",
       "      <td>1652140</td>\n",
       "      <td>1652582</td>\n",
       "      <td>evm.TU.pcontig_002.403</td>\n",
       "      <td>.</td>\n",
       "      <td>-</td>\n",
       "      <td>pcontig_002</td>\n",
       "      <td>1626991</td>\n",
       "      <td>1628251</td>\n",
       "      <td>evm.TU.pcontig_002.396</td>\n",
       "      <td>.</td>\n",
       "      <td>-</td>\n",
       "      <td>23890</td>\n",
       "    </tr>\n",
       "    <tr>\n",
       "      <th>29</th>\n",
       "      <td>pcontig_002</td>\n",
       "      <td>1912438</td>\n",
       "      <td>1912822</td>\n",
       "      <td>evm.TU.pcontig_002.467</td>\n",
       "      <td>.</td>\n",
       "      <td>+</td>\n",
       "      <td>pcontig_002</td>\n",
       "      <td>1934800</td>\n",
       "      <td>1936143</td>\n",
       "      <td>evm.TU.pcontig_002.471</td>\n",
       "      <td>.</td>\n",
       "      <td>+</td>\n",
       "      <td>21979</td>\n",
       "    </tr>\n",
       "    <tr>\n",
       "      <th>30</th>\n",
       "      <td>pcontig_002</td>\n",
       "      <td>1934800</td>\n",
       "      <td>1936143</td>\n",
       "      <td>evm.TU.pcontig_002.471</td>\n",
       "      <td>.</td>\n",
       "      <td>+</td>\n",
       "      <td>pcontig_002</td>\n",
       "      <td>1912438</td>\n",
       "      <td>1912822</td>\n",
       "      <td>evm.TU.pcontig_002.467</td>\n",
       "      <td>.</td>\n",
       "      <td>+</td>\n",
       "      <td>21979</td>\n",
       "    </tr>\n",
       "    <tr>\n",
       "      <th>42</th>\n",
       "      <td>pcontig_004</td>\n",
       "      <td>625996</td>\n",
       "      <td>628015</td>\n",
       "      <td>evm.TU.pcontig_004.154</td>\n",
       "      <td>.</td>\n",
       "      <td>+</td>\n",
       "      <td>pcontig_004</td>\n",
       "      <td>634781</td>\n",
       "      <td>645304</td>\n",
       "      <td>evm.TU.pcontig_004.156</td>\n",
       "      <td>.</td>\n",
       "      <td>+</td>\n",
       "      <td>6767</td>\n",
       "    </tr>\n",
       "    <tr>\n",
       "      <th>43</th>\n",
       "      <td>pcontig_004</td>\n",
       "      <td>634781</td>\n",
       "      <td>645304</td>\n",
       "      <td>evm.TU.pcontig_004.156</td>\n",
       "      <td>.</td>\n",
       "      <td>+</td>\n",
       "      <td>pcontig_004</td>\n",
       "      <td>625996</td>\n",
       "      <td>628015</td>\n",
       "      <td>evm.TU.pcontig_004.154</td>\n",
       "      <td>.</td>\n",
       "      <td>+</td>\n",
       "      <td>6767</td>\n",
       "    </tr>\n",
       "    <tr>\n",
       "      <th>46</th>\n",
       "      <td>pcontig_004</td>\n",
       "      <td>1612357</td>\n",
       "      <td>1614246</td>\n",
       "      <td>evm.TU.pcontig_004.364</td>\n",
       "      <td>.</td>\n",
       "      <td>+</td>\n",
       "      <td>pcontig_004</td>\n",
       "      <td>1629856</td>\n",
       "      <td>1630689</td>\n",
       "      <td>evm.TU.pcontig_004.368</td>\n",
       "      <td>.</td>\n",
       "      <td>-</td>\n",
       "      <td>15611</td>\n",
       "    </tr>\n",
       "    <tr>\n",
       "      <th>47</th>\n",
       "      <td>pcontig_004</td>\n",
       "      <td>1629856</td>\n",
       "      <td>1630689</td>\n",
       "      <td>evm.TU.pcontig_004.368</td>\n",
       "      <td>.</td>\n",
       "      <td>-</td>\n",
       "      <td>pcontig_004</td>\n",
       "      <td>1612357</td>\n",
       "      <td>1614246</td>\n",
       "      <td>evm.TU.pcontig_004.364</td>\n",
       "      <td>.</td>\n",
       "      <td>+</td>\n",
       "      <td>15611</td>\n",
       "    </tr>\n",
       "    <tr>\n",
       "      <th>53</th>\n",
       "      <td>pcontig_006</td>\n",
       "      <td>819826</td>\n",
       "      <td>822880</td>\n",
       "      <td>evm.TU.pcontig_006.214</td>\n",
       "      <td>.</td>\n",
       "      <td>-</td>\n",
       "      <td>pcontig_006</td>\n",
       "      <td>827494</td>\n",
       "      <td>830071</td>\n",
       "      <td>evm.TU.pcontig_006.216</td>\n",
       "      <td>.</td>\n",
       "      <td>-</td>\n",
       "      <td>4615</td>\n",
       "    </tr>\n",
       "    <tr>\n",
       "      <th>54</th>\n",
       "      <td>pcontig_006</td>\n",
       "      <td>827494</td>\n",
       "      <td>830071</td>\n",
       "      <td>evm.TU.pcontig_006.216</td>\n",
       "      <td>.</td>\n",
       "      <td>-</td>\n",
       "      <td>pcontig_006</td>\n",
       "      <td>819826</td>\n",
       "      <td>822880</td>\n",
       "      <td>evm.TU.pcontig_006.214</td>\n",
       "      <td>.</td>\n",
       "      <td>-</td>\n",
       "      <td>4615</td>\n",
       "    </tr>\n",
       "    <tr>\n",
       "      <th>55</th>\n",
       "      <td>pcontig_006</td>\n",
       "      <td>960179</td>\n",
       "      <td>961179</td>\n",
       "      <td>evm.TU.pcontig_006.248</td>\n",
       "      <td>.</td>\n",
       "      <td>+</td>\n",
       "      <td>pcontig_006</td>\n",
       "      <td>970480</td>\n",
       "      <td>971455</td>\n",
       "      <td>evm.TU.pcontig_006.252</td>\n",
       "      <td>.</td>\n",
       "      <td>-</td>\n",
       "      <td>9302</td>\n",
       "    </tr>\n",
       "    <tr>\n",
       "      <th>56</th>\n",
       "      <td>pcontig_006</td>\n",
       "      <td>970480</td>\n",
       "      <td>971455</td>\n",
       "      <td>evm.TU.pcontig_006.252</td>\n",
       "      <td>.</td>\n",
       "      <td>-</td>\n",
       "      <td>pcontig_006</td>\n",
       "      <td>960179</td>\n",
       "      <td>961179</td>\n",
       "      <td>evm.TU.pcontig_006.248</td>\n",
       "      <td>.</td>\n",
       "      <td>+</td>\n",
       "      <td>9302</td>\n",
       "    </tr>\n",
       "    <tr>\n",
       "      <th>58</th>\n",
       "      <td>pcontig_006</td>\n",
       "      <td>1436210</td>\n",
       "      <td>1437724</td>\n",
       "      <td>evm.TU.pcontig_006.364</td>\n",
       "      <td>.</td>\n",
       "      <td>-</td>\n",
       "      <td>pcontig_006</td>\n",
       "      <td>1443294</td>\n",
       "      <td>1445081</td>\n",
       "      <td>evm.TU.pcontig_006.365</td>\n",
       "      <td>.</td>\n",
       "      <td>-</td>\n",
       "      <td>5571</td>\n",
       "    </tr>\n",
       "    <tr>\n",
       "      <th>59</th>\n",
       "      <td>pcontig_006</td>\n",
       "      <td>1443294</td>\n",
       "      <td>1445081</td>\n",
       "      <td>evm.TU.pcontig_006.365</td>\n",
       "      <td>.</td>\n",
       "      <td>-</td>\n",
       "      <td>pcontig_006</td>\n",
       "      <td>1436210</td>\n",
       "      <td>1437724</td>\n",
       "      <td>evm.TU.pcontig_006.364</td>\n",
       "      <td>.</td>\n",
       "      <td>-</td>\n",
       "      <td>5571</td>\n",
       "    </tr>\n",
       "    <tr>\n",
       "      <th>61</th>\n",
       "      <td>pcontig_006</td>\n",
       "      <td>1766090</td>\n",
       "      <td>1768139</td>\n",
       "      <td>evm.TU.pcontig_006.439</td>\n",
       "      <td>.</td>\n",
       "      <td>-</td>\n",
       "      <td>pcontig_006</td>\n",
       "      <td>1781969</td>\n",
       "      <td>1782772</td>\n",
       "      <td>evm.TU.pcontig_006.443</td>\n",
       "      <td>.</td>\n",
       "      <td>-</td>\n",
       "      <td>13831</td>\n",
       "    </tr>\n",
       "    <tr>\n",
       "      <th>62</th>\n",
       "      <td>pcontig_006</td>\n",
       "      <td>1781969</td>\n",
       "      <td>1782772</td>\n",
       "      <td>evm.TU.pcontig_006.443</td>\n",
       "      <td>.</td>\n",
       "      <td>-</td>\n",
       "      <td>pcontig_006</td>\n",
       "      <td>1766090</td>\n",
       "      <td>1768139</td>\n",
       "      <td>evm.TU.pcontig_006.439</td>\n",
       "      <td>.</td>\n",
       "      <td>-</td>\n",
       "      <td>13831</td>\n",
       "    </tr>\n",
       "    <tr>\n",
       "      <th>65</th>\n",
       "      <td>pcontig_007</td>\n",
       "      <td>1457447</td>\n",
       "      <td>1461348</td>\n",
       "      <td>evm.TU.pcontig_007.353</td>\n",
       "      <td>.</td>\n",
       "      <td>-</td>\n",
       "      <td>pcontig_007</td>\n",
       "      <td>1464134</td>\n",
       "      <td>1465744</td>\n",
       "      <td>evm.TU.pcontig_007.354</td>\n",
       "      <td>.</td>\n",
       "      <td>-</td>\n",
       "      <td>2787</td>\n",
       "    </tr>\n",
       "    <tr>\n",
       "      <th>66</th>\n",
       "      <td>pcontig_007</td>\n",
       "      <td>1464134</td>\n",
       "      <td>1465744</td>\n",
       "      <td>evm.TU.pcontig_007.354</td>\n",
       "      <td>.</td>\n",
       "      <td>-</td>\n",
       "      <td>pcontig_007</td>\n",
       "      <td>1457447</td>\n",
       "      <td>1461348</td>\n",
       "      <td>evm.TU.pcontig_007.353</td>\n",
       "      <td>.</td>\n",
       "      <td>-</td>\n",
       "      <td>2787</td>\n",
       "    </tr>\n",
       "    <tr>\n",
       "      <th>81</th>\n",
       "      <td>pcontig_010</td>\n",
       "      <td>1251312</td>\n",
       "      <td>1251860</td>\n",
       "      <td>evm.TU.pcontig_010.281</td>\n",
       "      <td>.</td>\n",
       "      <td>+</td>\n",
       "      <td>pcontig_010</td>\n",
       "      <td>1280229</td>\n",
       "      <td>1282429</td>\n",
       "      <td>evm.TU.pcontig_010.288</td>\n",
       "      <td>.</td>\n",
       "      <td>+</td>\n",
       "      <td>28370</td>\n",
       "    </tr>\n",
       "    <tr>\n",
       "      <th>82</th>\n",
       "      <td>pcontig_010</td>\n",
       "      <td>1280229</td>\n",
       "      <td>1282429</td>\n",
       "      <td>evm.TU.pcontig_010.288</td>\n",
       "      <td>.</td>\n",
       "      <td>+</td>\n",
       "      <td>pcontig_010</td>\n",
       "      <td>1251312</td>\n",
       "      <td>1251860</td>\n",
       "      <td>evm.TU.pcontig_010.281</td>\n",
       "      <td>.</td>\n",
       "      <td>+</td>\n",
       "      <td>28370</td>\n",
       "    </tr>\n",
       "    <tr>\n",
       "      <th>92</th>\n",
       "      <td>pcontig_012</td>\n",
       "      <td>1107910</td>\n",
       "      <td>1108512</td>\n",
       "      <td>evm.TU.pcontig_012.280</td>\n",
       "      <td>.</td>\n",
       "      <td>-</td>\n",
       "      <td>pcontig_012</td>\n",
       "      <td>1109914</td>\n",
       "      <td>1110573</td>\n",
       "      <td>evm.TU.pcontig_012.281</td>\n",
       "      <td>.</td>\n",
       "      <td>-</td>\n",
       "      <td>1403</td>\n",
       "    </tr>\n",
       "    <tr>\n",
       "      <th>93</th>\n",
       "      <td>pcontig_012</td>\n",
       "      <td>1109914</td>\n",
       "      <td>1110573</td>\n",
       "      <td>evm.TU.pcontig_012.281</td>\n",
       "      <td>.</td>\n",
       "      <td>-</td>\n",
       "      <td>pcontig_012</td>\n",
       "      <td>1107910</td>\n",
       "      <td>1108512</td>\n",
       "      <td>evm.TU.pcontig_012.280</td>\n",
       "      <td>.</td>\n",
       "      <td>-</td>\n",
       "      <td>1403</td>\n",
       "    </tr>\n",
       "    <tr>\n",
       "      <th>...</th>\n",
       "      <td>...</td>\n",
       "      <td>...</td>\n",
       "      <td>...</td>\n",
       "      <td>...</td>\n",
       "      <td>...</td>\n",
       "      <td>...</td>\n",
       "      <td>...</td>\n",
       "      <td>...</td>\n",
       "      <td>...</td>\n",
       "      <td>...</td>\n",
       "      <td>...</td>\n",
       "      <td>...</td>\n",
       "      <td>...</td>\n",
       "    </tr>\n",
       "    <tr>\n",
       "      <th>235</th>\n",
       "      <td>pcontig_045</td>\n",
       "      <td>472660</td>\n",
       "      <td>474309</td>\n",
       "      <td>evm.TU.pcontig_045.122</td>\n",
       "      <td>.</td>\n",
       "      <td>+</td>\n",
       "      <td>pcontig_045</td>\n",
       "      <td>480360</td>\n",
       "      <td>482072</td>\n",
       "      <td>evm.TU.pcontig_045.123</td>\n",
       "      <td>.</td>\n",
       "      <td>+</td>\n",
       "      <td>6052</td>\n",
       "    </tr>\n",
       "    <tr>\n",
       "      <th>236</th>\n",
       "      <td>pcontig_045</td>\n",
       "      <td>480360</td>\n",
       "      <td>482072</td>\n",
       "      <td>evm.TU.pcontig_045.123</td>\n",
       "      <td>.</td>\n",
       "      <td>+</td>\n",
       "      <td>pcontig_045</td>\n",
       "      <td>472660</td>\n",
       "      <td>474309</td>\n",
       "      <td>evm.TU.pcontig_045.122</td>\n",
       "      <td>.</td>\n",
       "      <td>+</td>\n",
       "      <td>6052</td>\n",
       "    </tr>\n",
       "    <tr>\n",
       "      <th>237</th>\n",
       "      <td>pcontig_045</td>\n",
       "      <td>559685</td>\n",
       "      <td>560198</td>\n",
       "      <td>evm.TU.pcontig_045.148</td>\n",
       "      <td>.</td>\n",
       "      <td>-</td>\n",
       "      <td>pcontig_045</td>\n",
       "      <td>570995</td>\n",
       "      <td>574072</td>\n",
       "      <td>evm.TU.pcontig_045.151</td>\n",
       "      <td>.</td>\n",
       "      <td>+</td>\n",
       "      <td>10798</td>\n",
       "    </tr>\n",
       "    <tr>\n",
       "      <th>238</th>\n",
       "      <td>pcontig_045</td>\n",
       "      <td>570995</td>\n",
       "      <td>574072</td>\n",
       "      <td>evm.TU.pcontig_045.151</td>\n",
       "      <td>.</td>\n",
       "      <td>+</td>\n",
       "      <td>pcontig_045</td>\n",
       "      <td>559685</td>\n",
       "      <td>560198</td>\n",
       "      <td>evm.TU.pcontig_045.148</td>\n",
       "      <td>.</td>\n",
       "      <td>-</td>\n",
       "      <td>10798</td>\n",
       "    </tr>\n",
       "    <tr>\n",
       "      <th>246</th>\n",
       "      <td>pcontig_052</td>\n",
       "      <td>26104</td>\n",
       "      <td>27512</td>\n",
       "      <td>evm.TU.pcontig_052.7</td>\n",
       "      <td>.</td>\n",
       "      <td>+</td>\n",
       "      <td>pcontig_052</td>\n",
       "      <td>45688</td>\n",
       "      <td>46950</td>\n",
       "      <td>evm.TU.pcontig_052.13</td>\n",
       "      <td>.</td>\n",
       "      <td>+</td>\n",
       "      <td>18177</td>\n",
       "    </tr>\n",
       "    <tr>\n",
       "      <th>247</th>\n",
       "      <td>pcontig_052</td>\n",
       "      <td>45688</td>\n",
       "      <td>46950</td>\n",
       "      <td>evm.TU.pcontig_052.13</td>\n",
       "      <td>.</td>\n",
       "      <td>+</td>\n",
       "      <td>pcontig_052</td>\n",
       "      <td>58482</td>\n",
       "      <td>59749</td>\n",
       "      <td>evm.TU.pcontig_052.18</td>\n",
       "      <td>.</td>\n",
       "      <td>+</td>\n",
       "      <td>11533</td>\n",
       "    </tr>\n",
       "    <tr>\n",
       "      <th>248</th>\n",
       "      <td>pcontig_052</td>\n",
       "      <td>58482</td>\n",
       "      <td>59749</td>\n",
       "      <td>evm.TU.pcontig_052.18</td>\n",
       "      <td>.</td>\n",
       "      <td>+</td>\n",
       "      <td>pcontig_052</td>\n",
       "      <td>45688</td>\n",
       "      <td>46950</td>\n",
       "      <td>evm.TU.pcontig_052.13</td>\n",
       "      <td>.</td>\n",
       "      <td>+</td>\n",
       "      <td>11533</td>\n",
       "    </tr>\n",
       "    <tr>\n",
       "      <th>249</th>\n",
       "      <td>pcontig_052</td>\n",
       "      <td>83408</td>\n",
       "      <td>84755</td>\n",
       "      <td>evm.TU.pcontig_052.24</td>\n",
       "      <td>.</td>\n",
       "      <td>-</td>\n",
       "      <td>pcontig_052</td>\n",
       "      <td>58482</td>\n",
       "      <td>59749</td>\n",
       "      <td>evm.TU.pcontig_052.18</td>\n",
       "      <td>.</td>\n",
       "      <td>+</td>\n",
       "      <td>23660</td>\n",
       "    </tr>\n",
       "    <tr>\n",
       "      <th>251</th>\n",
       "      <td>pcontig_054</td>\n",
       "      <td>468636</td>\n",
       "      <td>470652</td>\n",
       "      <td>evm.TU.pcontig_054.103</td>\n",
       "      <td>.</td>\n",
       "      <td>+</td>\n",
       "      <td>pcontig_054</td>\n",
       "      <td>487116</td>\n",
       "      <td>488552</td>\n",
       "      <td>evm.TU.pcontig_054.106</td>\n",
       "      <td>.</td>\n",
       "      <td>+</td>\n",
       "      <td>16465</td>\n",
       "    </tr>\n",
       "    <tr>\n",
       "      <th>252</th>\n",
       "      <td>pcontig_054</td>\n",
       "      <td>487116</td>\n",
       "      <td>488552</td>\n",
       "      <td>evm.TU.pcontig_054.106</td>\n",
       "      <td>.</td>\n",
       "      <td>+</td>\n",
       "      <td>pcontig_054</td>\n",
       "      <td>468636</td>\n",
       "      <td>470652</td>\n",
       "      <td>evm.TU.pcontig_054.103</td>\n",
       "      <td>.</td>\n",
       "      <td>+</td>\n",
       "      <td>16465</td>\n",
       "    </tr>\n",
       "    <tr>\n",
       "      <th>259</th>\n",
       "      <td>pcontig_057</td>\n",
       "      <td>271501</td>\n",
       "      <td>272908</td>\n",
       "      <td>evm.TU.pcontig_057.69</td>\n",
       "      <td>.</td>\n",
       "      <td>-</td>\n",
       "      <td>pcontig_057</td>\n",
       "      <td>283278</td>\n",
       "      <td>285082</td>\n",
       "      <td>evm.TU.pcontig_057.71</td>\n",
       "      <td>.</td>\n",
       "      <td>+</td>\n",
       "      <td>10371</td>\n",
       "    </tr>\n",
       "    <tr>\n",
       "      <th>260</th>\n",
       "      <td>pcontig_057</td>\n",
       "      <td>283278</td>\n",
       "      <td>285082</td>\n",
       "      <td>evm.TU.pcontig_057.71</td>\n",
       "      <td>.</td>\n",
       "      <td>+</td>\n",
       "      <td>pcontig_057</td>\n",
       "      <td>293633</td>\n",
       "      <td>294497</td>\n",
       "      <td>evm.TU.pcontig_057.73</td>\n",
       "      <td>.</td>\n",
       "      <td>+</td>\n",
       "      <td>8552</td>\n",
       "    </tr>\n",
       "    <tr>\n",
       "      <th>261</th>\n",
       "      <td>pcontig_057</td>\n",
       "      <td>293633</td>\n",
       "      <td>294497</td>\n",
       "      <td>evm.TU.pcontig_057.73</td>\n",
       "      <td>.</td>\n",
       "      <td>+</td>\n",
       "      <td>pcontig_057</td>\n",
       "      <td>300538</td>\n",
       "      <td>301455</td>\n",
       "      <td>evm.TU.pcontig_057.76</td>\n",
       "      <td>.</td>\n",
       "      <td>-</td>\n",
       "      <td>6042</td>\n",
       "    </tr>\n",
       "    <tr>\n",
       "      <th>262</th>\n",
       "      <td>pcontig_057</td>\n",
       "      <td>300538</td>\n",
       "      <td>301455</td>\n",
       "      <td>evm.TU.pcontig_057.76</td>\n",
       "      <td>.</td>\n",
       "      <td>-</td>\n",
       "      <td>pcontig_057</td>\n",
       "      <td>293633</td>\n",
       "      <td>294497</td>\n",
       "      <td>evm.TU.pcontig_057.73</td>\n",
       "      <td>.</td>\n",
       "      <td>+</td>\n",
       "      <td>6042</td>\n",
       "    </tr>\n",
       "    <tr>\n",
       "      <th>263</th>\n",
       "      <td>pcontig_057</td>\n",
       "      <td>319397</td>\n",
       "      <td>320229</td>\n",
       "      <td>evm.TU.pcontig_057.77</td>\n",
       "      <td>.</td>\n",
       "      <td>+</td>\n",
       "      <td>pcontig_057</td>\n",
       "      <td>334892</td>\n",
       "      <td>335173</td>\n",
       "      <td>evm.TU.pcontig_057.82</td>\n",
       "      <td>.</td>\n",
       "      <td>+</td>\n",
       "      <td>14664</td>\n",
       "    </tr>\n",
       "    <tr>\n",
       "      <th>264</th>\n",
       "      <td>pcontig_057</td>\n",
       "      <td>334892</td>\n",
       "      <td>335173</td>\n",
       "      <td>evm.TU.pcontig_057.82</td>\n",
       "      <td>.</td>\n",
       "      <td>+</td>\n",
       "      <td>pcontig_057</td>\n",
       "      <td>319397</td>\n",
       "      <td>320229</td>\n",
       "      <td>evm.TU.pcontig_057.77</td>\n",
       "      <td>.</td>\n",
       "      <td>+</td>\n",
       "      <td>14664</td>\n",
       "    </tr>\n",
       "    <tr>\n",
       "      <th>266</th>\n",
       "      <td>pcontig_059</td>\n",
       "      <td>205144</td>\n",
       "      <td>207280</td>\n",
       "      <td>evm.TU.pcontig_059.47</td>\n",
       "      <td>.</td>\n",
       "      <td>-</td>\n",
       "      <td>pcontig_059</td>\n",
       "      <td>240901</td>\n",
       "      <td>242695</td>\n",
       "      <td>evm.TU.pcontig_059.57</td>\n",
       "      <td>.</td>\n",
       "      <td>+</td>\n",
       "      <td>33622</td>\n",
       "    </tr>\n",
       "    <tr>\n",
       "      <th>267</th>\n",
       "      <td>pcontig_059</td>\n",
       "      <td>240901</td>\n",
       "      <td>242695</td>\n",
       "      <td>evm.TU.pcontig_059.57</td>\n",
       "      <td>.</td>\n",
       "      <td>+</td>\n",
       "      <td>pcontig_059</td>\n",
       "      <td>244209</td>\n",
       "      <td>245084</td>\n",
       "      <td>evm.TU.pcontig_059.58</td>\n",
       "      <td>.</td>\n",
       "      <td>-</td>\n",
       "      <td>1515</td>\n",
       "    </tr>\n",
       "    <tr>\n",
       "      <th>268</th>\n",
       "      <td>pcontig_059</td>\n",
       "      <td>244209</td>\n",
       "      <td>245084</td>\n",
       "      <td>evm.TU.pcontig_059.58</td>\n",
       "      <td>.</td>\n",
       "      <td>-</td>\n",
       "      <td>pcontig_059</td>\n",
       "      <td>240901</td>\n",
       "      <td>242695</td>\n",
       "      <td>evm.TU.pcontig_059.57</td>\n",
       "      <td>.</td>\n",
       "      <td>+</td>\n",
       "      <td>1515</td>\n",
       "    </tr>\n",
       "    <tr>\n",
       "      <th>277</th>\n",
       "      <td>pcontig_066</td>\n",
       "      <td>250098</td>\n",
       "      <td>250741</td>\n",
       "      <td>evm.TU.pcontig_066.53</td>\n",
       "      <td>.</td>\n",
       "      <td>-</td>\n",
       "      <td>pcontig_066</td>\n",
       "      <td>253350</td>\n",
       "      <td>254301</td>\n",
       "      <td>evm.TU.pcontig_066.54</td>\n",
       "      <td>.</td>\n",
       "      <td>+</td>\n",
       "      <td>2610</td>\n",
       "    </tr>\n",
       "    <tr>\n",
       "      <th>278</th>\n",
       "      <td>pcontig_066</td>\n",
       "      <td>253350</td>\n",
       "      <td>254301</td>\n",
       "      <td>evm.TU.pcontig_066.54</td>\n",
       "      <td>.</td>\n",
       "      <td>+</td>\n",
       "      <td>pcontig_066</td>\n",
       "      <td>250098</td>\n",
       "      <td>250741</td>\n",
       "      <td>evm.TU.pcontig_066.53</td>\n",
       "      <td>.</td>\n",
       "      <td>-</td>\n",
       "      <td>2610</td>\n",
       "    </tr>\n",
       "    <tr>\n",
       "      <th>288</th>\n",
       "      <td>pcontig_083</td>\n",
       "      <td>129194</td>\n",
       "      <td>131421</td>\n",
       "      <td>evm.TU.pcontig_083.38</td>\n",
       "      <td>.</td>\n",
       "      <td>-</td>\n",
       "      <td>pcontig_083</td>\n",
       "      <td>155787</td>\n",
       "      <td>157846</td>\n",
       "      <td>evm.TU.pcontig_083.44</td>\n",
       "      <td>.</td>\n",
       "      <td>+</td>\n",
       "      <td>24367</td>\n",
       "    </tr>\n",
       "    <tr>\n",
       "      <th>289</th>\n",
       "      <td>pcontig_083</td>\n",
       "      <td>155787</td>\n",
       "      <td>157846</td>\n",
       "      <td>evm.TU.pcontig_083.44</td>\n",
       "      <td>.</td>\n",
       "      <td>+</td>\n",
       "      <td>pcontig_083</td>\n",
       "      <td>129194</td>\n",
       "      <td>131421</td>\n",
       "      <td>evm.TU.pcontig_083.38</td>\n",
       "      <td>.</td>\n",
       "      <td>-</td>\n",
       "      <td>24367</td>\n",
       "    </tr>\n",
       "    <tr>\n",
       "      <th>291</th>\n",
       "      <td>pcontig_086</td>\n",
       "      <td>2904</td>\n",
       "      <td>4782</td>\n",
       "      <td>evm.TU.pcontig_086.2</td>\n",
       "      <td>.</td>\n",
       "      <td>-</td>\n",
       "      <td>pcontig_086</td>\n",
       "      <td>19192</td>\n",
       "      <td>21048</td>\n",
       "      <td>evm.TU.pcontig_086.8</td>\n",
       "      <td>.</td>\n",
       "      <td>-</td>\n",
       "      <td>14411</td>\n",
       "    </tr>\n",
       "    <tr>\n",
       "      <th>292</th>\n",
       "      <td>pcontig_086</td>\n",
       "      <td>19192</td>\n",
       "      <td>21048</td>\n",
       "      <td>evm.TU.pcontig_086.8</td>\n",
       "      <td>.</td>\n",
       "      <td>-</td>\n",
       "      <td>pcontig_086</td>\n",
       "      <td>2904</td>\n",
       "      <td>4782</td>\n",
       "      <td>evm.TU.pcontig_086.2</td>\n",
       "      <td>.</td>\n",
       "      <td>-</td>\n",
       "      <td>14411</td>\n",
       "    </tr>\n",
       "    <tr>\n",
       "      <th>295</th>\n",
       "      <td>pcontig_088</td>\n",
       "      <td>128985</td>\n",
       "      <td>131256</td>\n",
       "      <td>evm.TU.pcontig_088.30</td>\n",
       "      <td>.</td>\n",
       "      <td>+</td>\n",
       "      <td>pcontig_088</td>\n",
       "      <td>139989</td>\n",
       "      <td>142108</td>\n",
       "      <td>evm.TU.pcontig_088.31</td>\n",
       "      <td>.</td>\n",
       "      <td>-</td>\n",
       "      <td>8734</td>\n",
       "    </tr>\n",
       "    <tr>\n",
       "      <th>296</th>\n",
       "      <td>pcontig_088</td>\n",
       "      <td>139989</td>\n",
       "      <td>142108</td>\n",
       "      <td>evm.TU.pcontig_088.31</td>\n",
       "      <td>.</td>\n",
       "      <td>-</td>\n",
       "      <td>pcontig_088</td>\n",
       "      <td>128985</td>\n",
       "      <td>131256</td>\n",
       "      <td>evm.TU.pcontig_088.30</td>\n",
       "      <td>.</td>\n",
       "      <td>+</td>\n",
       "      <td>8734</td>\n",
       "    </tr>\n",
       "    <tr>\n",
       "      <th>297</th>\n",
       "      <td>pcontig_088</td>\n",
       "      <td>157280</td>\n",
       "      <td>159382</td>\n",
       "      <td>evm.TU.pcontig_088.34</td>\n",
       "      <td>.</td>\n",
       "      <td>-</td>\n",
       "      <td>pcontig_088</td>\n",
       "      <td>139989</td>\n",
       "      <td>142108</td>\n",
       "      <td>evm.TU.pcontig_088.31</td>\n",
       "      <td>.</td>\n",
       "      <td>-</td>\n",
       "      <td>15173</td>\n",
       "    </tr>\n",
       "    <tr>\n",
       "      <th>305</th>\n",
       "      <td>pcontig_149</td>\n",
       "      <td>5261</td>\n",
       "      <td>6721</td>\n",
       "      <td>evm.TU.pcontig_149.3</td>\n",
       "      <td>.</td>\n",
       "      <td>+</td>\n",
       "      <td>pcontig_149</td>\n",
       "      <td>22356</td>\n",
       "      <td>23816</td>\n",
       "      <td>evm.TU.pcontig_149.6</td>\n",
       "      <td>.</td>\n",
       "      <td>+</td>\n",
       "      <td>15636</td>\n",
       "    </tr>\n",
       "    <tr>\n",
       "      <th>306</th>\n",
       "      <td>pcontig_149</td>\n",
       "      <td>22356</td>\n",
       "      <td>23816</td>\n",
       "      <td>evm.TU.pcontig_149.6</td>\n",
       "      <td>.</td>\n",
       "      <td>+</td>\n",
       "      <td>pcontig_149</td>\n",
       "      <td>5261</td>\n",
       "      <td>6721</td>\n",
       "      <td>evm.TU.pcontig_149.3</td>\n",
       "      <td>.</td>\n",
       "      <td>+</td>\n",
       "      <td>15636</td>\n",
       "    </tr>\n",
       "  </tbody>\n",
       "</table>\n",
       "<p>136 rows × 13 columns</p>\n",
       "</div>"
      ],
      "text/plain": [
       "              0        1        2                       3  4  5            6   \\\n",
       "10   pcontig_001   498220   500173  evm.TU.pcontig_001.124  .  -  pcontig_001   \n",
       "11   pcontig_001   512910   515514  evm.TU.pcontig_001.127  .  -  pcontig_001   \n",
       "13   pcontig_001   803807   804812  evm.TU.pcontig_001.197  .  +  pcontig_001   \n",
       "14   pcontig_001   816431   817520  evm.TU.pcontig_001.200  .  -  pcontig_001   \n",
       "16   pcontig_001  1663502  1665663  evm.TU.pcontig_001.395  .  -  pcontig_001   \n",
       "17   pcontig_001  1667080  1668750  evm.TU.pcontig_001.396  .  -  pcontig_001   \n",
       "21   pcontig_002    96349    98306   evm.TU.pcontig_002.21  .  +  pcontig_002   \n",
       "22   pcontig_002   134744   136657   evm.TU.pcontig_002.29  .  -  pcontig_002   \n",
       "26   pcontig_002  1626991  1628251  evm.TU.pcontig_002.396  .  -  pcontig_002   \n",
       "27   pcontig_002  1652140  1652582  evm.TU.pcontig_002.403  .  -  pcontig_002   \n",
       "29   pcontig_002  1912438  1912822  evm.TU.pcontig_002.467  .  +  pcontig_002   \n",
       "30   pcontig_002  1934800  1936143  evm.TU.pcontig_002.471  .  +  pcontig_002   \n",
       "42   pcontig_004   625996   628015  evm.TU.pcontig_004.154  .  +  pcontig_004   \n",
       "43   pcontig_004   634781   645304  evm.TU.pcontig_004.156  .  +  pcontig_004   \n",
       "46   pcontig_004  1612357  1614246  evm.TU.pcontig_004.364  .  +  pcontig_004   \n",
       "47   pcontig_004  1629856  1630689  evm.TU.pcontig_004.368  .  -  pcontig_004   \n",
       "53   pcontig_006   819826   822880  evm.TU.pcontig_006.214  .  -  pcontig_006   \n",
       "54   pcontig_006   827494   830071  evm.TU.pcontig_006.216  .  -  pcontig_006   \n",
       "55   pcontig_006   960179   961179  evm.TU.pcontig_006.248  .  +  pcontig_006   \n",
       "56   pcontig_006   970480   971455  evm.TU.pcontig_006.252  .  -  pcontig_006   \n",
       "58   pcontig_006  1436210  1437724  evm.TU.pcontig_006.364  .  -  pcontig_006   \n",
       "59   pcontig_006  1443294  1445081  evm.TU.pcontig_006.365  .  -  pcontig_006   \n",
       "61   pcontig_006  1766090  1768139  evm.TU.pcontig_006.439  .  -  pcontig_006   \n",
       "62   pcontig_006  1781969  1782772  evm.TU.pcontig_006.443  .  -  pcontig_006   \n",
       "65   pcontig_007  1457447  1461348  evm.TU.pcontig_007.353  .  -  pcontig_007   \n",
       "66   pcontig_007  1464134  1465744  evm.TU.pcontig_007.354  .  -  pcontig_007   \n",
       "81   pcontig_010  1251312  1251860  evm.TU.pcontig_010.281  .  +  pcontig_010   \n",
       "82   pcontig_010  1280229  1282429  evm.TU.pcontig_010.288  .  +  pcontig_010   \n",
       "92   pcontig_012  1107910  1108512  evm.TU.pcontig_012.280  .  -  pcontig_012   \n",
       "93   pcontig_012  1109914  1110573  evm.TU.pcontig_012.281  .  -  pcontig_012   \n",
       "..           ...      ...      ...                     ... .. ..          ...   \n",
       "235  pcontig_045   472660   474309  evm.TU.pcontig_045.122  .  +  pcontig_045   \n",
       "236  pcontig_045   480360   482072  evm.TU.pcontig_045.123  .  +  pcontig_045   \n",
       "237  pcontig_045   559685   560198  evm.TU.pcontig_045.148  .  -  pcontig_045   \n",
       "238  pcontig_045   570995   574072  evm.TU.pcontig_045.151  .  +  pcontig_045   \n",
       "246  pcontig_052    26104    27512    evm.TU.pcontig_052.7  .  +  pcontig_052   \n",
       "247  pcontig_052    45688    46950   evm.TU.pcontig_052.13  .  +  pcontig_052   \n",
       "248  pcontig_052    58482    59749   evm.TU.pcontig_052.18  .  +  pcontig_052   \n",
       "249  pcontig_052    83408    84755   evm.TU.pcontig_052.24  .  -  pcontig_052   \n",
       "251  pcontig_054   468636   470652  evm.TU.pcontig_054.103  .  +  pcontig_054   \n",
       "252  pcontig_054   487116   488552  evm.TU.pcontig_054.106  .  +  pcontig_054   \n",
       "259  pcontig_057   271501   272908   evm.TU.pcontig_057.69  .  -  pcontig_057   \n",
       "260  pcontig_057   283278   285082   evm.TU.pcontig_057.71  .  +  pcontig_057   \n",
       "261  pcontig_057   293633   294497   evm.TU.pcontig_057.73  .  +  pcontig_057   \n",
       "262  pcontig_057   300538   301455   evm.TU.pcontig_057.76  .  -  pcontig_057   \n",
       "263  pcontig_057   319397   320229   evm.TU.pcontig_057.77  .  +  pcontig_057   \n",
       "264  pcontig_057   334892   335173   evm.TU.pcontig_057.82  .  +  pcontig_057   \n",
       "266  pcontig_059   205144   207280   evm.TU.pcontig_059.47  .  -  pcontig_059   \n",
       "267  pcontig_059   240901   242695   evm.TU.pcontig_059.57  .  +  pcontig_059   \n",
       "268  pcontig_059   244209   245084   evm.TU.pcontig_059.58  .  -  pcontig_059   \n",
       "277  pcontig_066   250098   250741   evm.TU.pcontig_066.53  .  -  pcontig_066   \n",
       "278  pcontig_066   253350   254301   evm.TU.pcontig_066.54  .  +  pcontig_066   \n",
       "288  pcontig_083   129194   131421   evm.TU.pcontig_083.38  .  -  pcontig_083   \n",
       "289  pcontig_083   155787   157846   evm.TU.pcontig_083.44  .  +  pcontig_083   \n",
       "291  pcontig_086     2904     4782    evm.TU.pcontig_086.2  .  -  pcontig_086   \n",
       "292  pcontig_086    19192    21048    evm.TU.pcontig_086.8  .  -  pcontig_086   \n",
       "295  pcontig_088   128985   131256   evm.TU.pcontig_088.30  .  +  pcontig_088   \n",
       "296  pcontig_088   139989   142108   evm.TU.pcontig_088.31  .  -  pcontig_088   \n",
       "297  pcontig_088   157280   159382   evm.TU.pcontig_088.34  .  -  pcontig_088   \n",
       "305  pcontig_149     5261     6721    evm.TU.pcontig_149.3  .  +  pcontig_149   \n",
       "306  pcontig_149    22356    23816    evm.TU.pcontig_149.6  .  +  pcontig_149   \n",
       "\n",
       "          7        8                       9  10 11     12  \n",
       "10    512910   515514  evm.TU.pcontig_001.127  .  -  12738  \n",
       "11    498220   500173  evm.TU.pcontig_001.124  .  -  12738  \n",
       "13    816431   817520  evm.TU.pcontig_001.200  .  -  11620  \n",
       "14    803807   804812  evm.TU.pcontig_001.197  .  +  11620  \n",
       "16   1667080  1668750  evm.TU.pcontig_001.396  .  -   1418  \n",
       "17   1663502  1665663  evm.TU.pcontig_001.395  .  -   1418  \n",
       "21    134744   136657   evm.TU.pcontig_002.29  .  -  36439  \n",
       "22     96349    98306   evm.TU.pcontig_002.21  .  +  36439  \n",
       "26   1652140  1652582  evm.TU.pcontig_002.403  .  -  23890  \n",
       "27   1626991  1628251  evm.TU.pcontig_002.396  .  -  23890  \n",
       "29   1934800  1936143  evm.TU.pcontig_002.471  .  +  21979  \n",
       "30   1912438  1912822  evm.TU.pcontig_002.467  .  +  21979  \n",
       "42    634781   645304  evm.TU.pcontig_004.156  .  +   6767  \n",
       "43    625996   628015  evm.TU.pcontig_004.154  .  +   6767  \n",
       "46   1629856  1630689  evm.TU.pcontig_004.368  .  -  15611  \n",
       "47   1612357  1614246  evm.TU.pcontig_004.364  .  +  15611  \n",
       "53    827494   830071  evm.TU.pcontig_006.216  .  -   4615  \n",
       "54    819826   822880  evm.TU.pcontig_006.214  .  -   4615  \n",
       "55    970480   971455  evm.TU.pcontig_006.252  .  -   9302  \n",
       "56    960179   961179  evm.TU.pcontig_006.248  .  +   9302  \n",
       "58   1443294  1445081  evm.TU.pcontig_006.365  .  -   5571  \n",
       "59   1436210  1437724  evm.TU.pcontig_006.364  .  -   5571  \n",
       "61   1781969  1782772  evm.TU.pcontig_006.443  .  -  13831  \n",
       "62   1766090  1768139  evm.TU.pcontig_006.439  .  -  13831  \n",
       "65   1464134  1465744  evm.TU.pcontig_007.354  .  -   2787  \n",
       "66   1457447  1461348  evm.TU.pcontig_007.353  .  -   2787  \n",
       "81   1280229  1282429  evm.TU.pcontig_010.288  .  +  28370  \n",
       "82   1251312  1251860  evm.TU.pcontig_010.281  .  +  28370  \n",
       "92   1109914  1110573  evm.TU.pcontig_012.281  .  -   1403  \n",
       "93   1107910  1108512  evm.TU.pcontig_012.280  .  -   1403  \n",
       "..       ...      ...                     ... .. ..    ...  \n",
       "235   480360   482072  evm.TU.pcontig_045.123  .  +   6052  \n",
       "236   472660   474309  evm.TU.pcontig_045.122  .  +   6052  \n",
       "237   570995   574072  evm.TU.pcontig_045.151  .  +  10798  \n",
       "238   559685   560198  evm.TU.pcontig_045.148  .  -  10798  \n",
       "246    45688    46950   evm.TU.pcontig_052.13  .  +  18177  \n",
       "247    58482    59749   evm.TU.pcontig_052.18  .  +  11533  \n",
       "248    45688    46950   evm.TU.pcontig_052.13  .  +  11533  \n",
       "249    58482    59749   evm.TU.pcontig_052.18  .  +  23660  \n",
       "251   487116   488552  evm.TU.pcontig_054.106  .  +  16465  \n",
       "252   468636   470652  evm.TU.pcontig_054.103  .  +  16465  \n",
       "259   283278   285082   evm.TU.pcontig_057.71  .  +  10371  \n",
       "260   293633   294497   evm.TU.pcontig_057.73  .  +   8552  \n",
       "261   300538   301455   evm.TU.pcontig_057.76  .  -   6042  \n",
       "262   293633   294497   evm.TU.pcontig_057.73  .  +   6042  \n",
       "263   334892   335173   evm.TU.pcontig_057.82  .  +  14664  \n",
       "264   319397   320229   evm.TU.pcontig_057.77  .  +  14664  \n",
       "266   240901   242695   evm.TU.pcontig_059.57  .  +  33622  \n",
       "267   244209   245084   evm.TU.pcontig_059.58  .  -   1515  \n",
       "268   240901   242695   evm.TU.pcontig_059.57  .  +   1515  \n",
       "277   253350   254301   evm.TU.pcontig_066.54  .  +   2610  \n",
       "278   250098   250741   evm.TU.pcontig_066.53  .  -   2610  \n",
       "288   155787   157846   evm.TU.pcontig_083.44  .  +  24367  \n",
       "289   129194   131421   evm.TU.pcontig_083.38  .  -  24367  \n",
       "291    19192    21048    evm.TU.pcontig_086.8  .  -  14411  \n",
       "292     2904     4782    evm.TU.pcontig_086.2  .  -  14411  \n",
       "295   139989   142108   evm.TU.pcontig_088.31  .  -   8734  \n",
       "296   128985   131256   evm.TU.pcontig_088.30  .  +   8734  \n",
       "297   139989   142108   evm.TU.pcontig_088.31  .  -  15173  \n",
       "305    22356    23816    evm.TU.pcontig_149.6  .  +  15636  \n",
       "306     5261     6721    evm.TU.pcontig_149.3  .  +  15636  \n",
       "\n",
       "[136 rows x 13 columns]"
      ]
     },
     "execution_count": 77,
     "metadata": {},
     "output_type": "execute_result"
    }
   ],
   "source": [
    "tmp_df[(tmp_df[12] < 36684) & (tmp_df[12] > -1)]"
   ]
  },
  {
   "cell_type": "code",
   "execution_count": null,
   "metadata": {
    "collapsed": true
   },
   "outputs": [],
   "source": []
  },
  {
   "cell_type": "code",
   "execution_count": 78,
   "metadata": {
    "collapsed": false
   },
   "outputs": [
    {
     "name": "stdout",
     "output_type": "stream",
     "text": [
      "count      288.00\n",
      "mean    134159.38\n",
      "std     141578.08\n",
      "min        255.00\n",
      "25%      25742.00\n",
      "50%      93771.00\n",
      "75%     189665.00\n",
      "max     717378.00\n",
      "Name: 12, dtype: float64\n"
     ]
    },
    {
     "data": {
      "text/plain": [
       "<matplotlib.axes._subplots.AxesSubplot at 0x7f8f45c74390>"
      ]
     },
     "execution_count": 78,
     "metadata": {},
     "output_type": "execute_result"
    },
    {
     "data": {
      "image/png": "[encoded data removed]",
      "text/plain": [
       "<matplotlib.figure.Figure at 0x7f8f45c897f0>"
      ]
     },
     "metadata": {},
     "output_type": "display_data"
    }
   ],
   "source": [
    "#get the distances with nearest gene all vs all subsampled\n",
    "p_allall = p_allall_rand_sub.closest(p_allall_rand_sub, d=True, N=True).to_dataframe().iloc[:,12]\n",
    "p_allall = p_allall[p_allall > -1]\n",
    "print(p_allall.describe())\n",
    "p_allall_rand_sub.closest(p_allall_rand_sub, d=True, N=True).to_dataframe().iloc[:,12].plot(kind='box')"
   ]
  },
  {
   "cell_type": "code",
   "execution_count": 80,
   "metadata": {
    "collapsed": false
   },
   "outputs": [
    {
     "name": "stdout",
     "output_type": "stream",
     "text": [
      "count       283.00\n",
      "mean     119937.36\n",
      "std      154338.64\n",
      "min         300.00\n",
      "25%       22955.00\n",
      "50%       59475.00\n",
      "75%      165502.50\n",
      "max     1011378.00\n",
      "Name: 12, dtype: float64\n"
     ]
    }
   ],
   "source": [
    "#now with buscos\n",
    "p_bself = p_busco_bed_rand_sub.closest(p_busco_bed_rand_sub, d=True,  N=True).to_dataframe().iloc[:,12]\n",
    "p_bself = p_bself[p_bself > -1]\n",
    "print(p_bself.describe())"
   ]
  },
  {
   "cell_type": "code",
   "execution_count": null,
   "metadata": {
    "collapsed": false
   },
   "outputs": [],
   "source": [
    "p_noeffector_bed= BedTool(p_noeffector_bed_fn)\n",
    "p_noeffector_rand_sub = p_noeffector_bed.random_subset(sub_set)\n",
    "p_neself = p_noeffector_rand_sub.closest(p_noeffector_rand_sub, d=True,  N=True).to_dataframe().iloc[:,12]\n",
    "p_neself.describe()"
   ]
  },
  {
   "cell_type": "code",
   "execution_count": null,
   "metadata": {
    "collapsed": false
   },
   "outputs": [],
   "source": [
    "import seaborn as sns"
   ]
  },
  {
   "cell_type": "code",
   "execution_count": null,
   "metadata": {
    "collapsed": false
   },
   "outputs": [],
   "source": [
    "sns.distplot(p_bself[p_bself < 20000], bins=20, rug = True, label='BUSCO')\n",
    "sns.distplot(p_eself[p_eself < 20000], bins=20, rug = True, color='g',label = 'effector')\n",
    "sns.distplot(p_neself[p_neself <20000], bins=20, rug=True, color='red', label ='all_genes')\n",
    "plt.legend()"
   ]
  },
  {
   "cell_type": "code",
   "execution_count": null,
   "metadata": {
    "collapsed": false,
    "scrolled": true
   },
   "outputs": [],
   "source": [
    "sns.distplot(p_bself[p_bself < 200000], bins=20,  label='BUSCO')\n",
    "sns.distplot(p_eself[p_eself < 200000], bins=20,  color='g',label = 'effector')\n",
    "sns.distplot(p_neself[p_neself <200000], bins=20,  color='red', label ='not_effectors', axlabel='Distance to closest neighbour [bp]')\n",
    "plt.legend()"
   ]
  },
  {
   "cell_type": "code",
   "execution_count": null,
   "metadata": {
    "collapsed": false
   },
   "outputs": [],
   "source": [
    "sns.distplot(p_bself, bins=20,  label='BUSCO')\n",
    "sns.distplot(p_eself, bins=20,  color='g',label = 'effector')\n",
    "sns.distplot(p_neself, bins=20,  color='red', label ='not_effectors', axlabel='Distance to closest neighbour [bp]')\n",
    "plt.legend()"
   ]
  },
  {
   "cell_type": "code",
   "execution_count": null,
   "metadata": {
    "collapsed": false
   },
   "outputs": [],
   "source": [
    "p_bself[p_bself < 20000].plot(kind='density')\n",
    "p_eself[p_eself < 20000].plot(kind='density', color='g')\n",
    "p_neself[p_neself < 20000].plot(kind='density', color='r')\n",
    "p_eall[p_eall < 20000].plot(kind='density', color='y')\n",
    "#plt.semilogx()\n",
    "print(len(p_bself[p_bself < 20000]), len(p_eself[p_eself < 20000]), len(p_neself[p_neself < 20000]), len(p_eall[p_eall < 20000]))\n",
    "plt.xlim(0, 20000)"
   ]
  },
  {
   "cell_type": "code",
   "execution_count": null,
   "metadata": {
    "collapsed": false
   },
   "outputs": [],
   "source": [
    "p_eall[p_eall < 20000].plot(kind='hist', bins=20, normed=True)\n",
    "plt.ylim(0, 0.00050)"
   ]
  },
  {
   "cell_type": "code",
   "execution_count": null,
   "metadata": {
    "collapsed": false
   },
   "outputs": [],
   "source": [
    "p_eself[p_eself < 20000].plot(kind='hist', bins=20, normed=True)\n",
    "plt.ylim(0, 0.00050)"
   ]
  },
  {
   "cell_type": "code",
   "execution_count": null,
   "metadata": {
    "collapsed": false
   },
   "outputs": [],
   "source": [
    "p_bself[p_bself < 20000].plot(kind='hist', bins=20,normed=True)\n",
    "plt.ylim(0, 0.00050)"
   ]
  },
  {
   "cell_type": "code",
   "execution_count": null,
   "metadata": {
    "collapsed": false
   },
   "outputs": [],
   "source": [
    "p_neself[p_neself < 20000].plot(kind='hist',bins=20,normed=True)\n",
    "plt.ylim(0, 0.00050)"
   ]
  },
  {
   "cell_type": "markdown",
   "metadata": {},
   "source": [
    "It seems like there seems to be no clear link between cluster 8 gens and closest neighbour in terms of TEs in general. They all have the same distance in general.\n",
    "Maybe Gypsy and ClassII:?:? should be looked at more carefully. Those are depleted and enriched in busco and effector genes. In general there seems to be a trend towards ClassII elements compared to ClassI in effector candidates.\n"
   ]
  },
  {
   "cell_type": "markdown",
   "metadata": {},
   "source": [
    "It seems that effectors are closer together than noneffector genes. Buscos also seem to cluster a bit. Let's see if we can visualize the location of genes on certain contigs vs repeats and such."
   ]
  },
  {
   "cell_type": "code",
   "execution_count": null,
   "metadata": {
    "collapsed": false
   },
   "outputs": [],
   "source": [
    "#start with getting effectors per contig divided by length divded by # of overall genes"
   ]
  },
  {
   "cell_type": "code",
   "execution_count": null,
   "metadata": {
    "collapsed": true
   },
   "outputs": [],
   "source": [
    "effector_bdf = pd.read_csv(p_effector_bed_fn, header=None, sep='\\t')"
   ]
  },
  {
   "cell_type": "code",
   "execution_count": null,
   "metadata": {
    "collapsed": false
   },
   "outputs": [],
   "source": [
    "p_effectors_per_contig  = effector_bdf.groupby(0).count()[1]\n",
    "p_effectors_per_contig.name = 'effectors'"
   ]
  },
  {
   "cell_type": "code",
   "execution_count": null,
   "metadata": {
    "collapsed": false
   },
   "outputs": [],
   "source": [
    "p_all_genes_per_contig = pd.read_csv(p_gene_bed_fn, header=None, sep='\\t').groupby(0).count()[1]\n",
    "p_all_genes_per_contig.name = 'all_genes'\n",
    "p_noeffectors_per_contig = pd.read_csv(p_noeffector_bed_fn, header=None, sep='\\t').groupby(0).count()[1]\n",
    "p_noeffectors_per_contig.name = 'no_effectors'\n",
    "p_busco_per_contig = pd.read_csv(p_busco_bed_fn, header=None, sep='\\t').groupby(0).count()[1]\n",
    "p_busco_per_contig.name = 'buscos'"
   ]
  },
  {
   "cell_type": "code",
   "execution_count": null,
   "metadata": {
    "collapsed": false
   },
   "outputs": [],
   "source": [
    "p_contig_length = pd.read_csv(os.path.join(GFF_FOLDER, 'Pst_104E_v12_p_ctg.genome_file'), header = None,\\\n",
    "                          names=['contig' , 'length'], sep='\\t').sort_values('contig')"
   ]
  },
  {
   "cell_type": "code",
   "execution_count": null,
   "metadata": {
    "collapsed": false
   },
   "outputs": [],
   "source": [
    "p_contig_length.index = p_contig_length.contig"
   ]
  },
  {
   "cell_type": "code",
   "execution_count": null,
   "metadata": {
    "collapsed": false
   },
   "outputs": [],
   "source": [
    "p_contig_length = p_contig_length.loc[:, 'length']"
   ]
  },
  {
   "cell_type": "code",
   "execution_count": null,
   "metadata": {
    "collapsed": false
   },
   "outputs": [],
   "source": [
    "gene_dis_per_contig = pd.concat([p_contig_length,p_all_genes_per_contig,p_noeffectors_per_contig,p_busco_per_contig,  p_effectors_per_contig, ], axis = 1)"
   ]
  },
  {
   "cell_type": "code",
   "execution_count": null,
   "metadata": {
    "collapsed": true
   },
   "outputs": [],
   "source": [
    "from scipy.stats import chisquare"
   ]
  },
  {
   "cell_type": "code",
   "execution_count": null,
   "metadata": {
    "collapsed": false
   },
   "outputs": [],
   "source": [
    "gene_dis_per_contig.fillna(value=0, inplace=True)"
   ]
  },
  {
   "cell_type": "code",
   "execution_count": null,
   "metadata": {
    "collapsed": false
   },
   "outputs": [],
   "source": [
    "gene_dis_per_contig.effectors.sum()"
   ]
  },
  {
   "cell_type": "code",
   "execution_count": null,
   "metadata": {
    "collapsed": false
   },
   "outputs": [],
   "source": [
    "#chisquare for genes per contig vs bases per contig\n",
    "chisquare(gene_dis_per_contig.length.values/gene_dis_per_contig.length.sum()\\\n",
    "          , gene_dis_per_contig.all_genes.values/gene_dis_per_contig.all_genes.sum())"
   ]
  },
  {
   "cell_type": "code",
   "execution_count": null,
   "metadata": {
    "collapsed": false
   },
   "outputs": [],
   "source": [
    "chisquare(gene_dis_per_contig.buscos.values/gene_dis_per_contig.buscos.sum()\\\n",
    "          , gene_dis_per_contig.all_genes.values/gene_dis_per_contig.all_genes.sum())"
   ]
  },
  {
   "cell_type": "code",
   "execution_count": null,
   "metadata": {
    "collapsed": false
   },
   "outputs": [],
   "source": [
    "gene_dis_per_contig['%busco'] = gene_dis_per_contig.buscos.values/gene_dis_per_contig.buscos.sum() *100\n",
    "gene_dis_per_contig['%effector'] = gene_dis_per_contig.effectors.values/gene_dis_per_contig.effectors.sum() *100\n",
    "gene_dis_per_contig['%all_genes'] = gene_dis_per_contig.all_genes.values/gene_dis_per_contig.all_genes.sum() *100\n",
    "gene_dis_per_contig['%no_effector'] = gene_dis_per_contig.no_effectors.values/gene_dis_per_contig.no_effectors.sum() *100"
   ]
  },
  {
   "cell_type": "code",
   "execution_count": null,
   "metadata": {
    "collapsed": false
   },
   "outputs": [],
   "source": [
    "chisquare(gene_dis_per_contig['%effector'], f_exp = gene_dis_per_contig['%all_genes'])"
   ]
  },
  {
   "cell_type": "code",
   "execution_count": null,
   "metadata": {
    "collapsed": false
   },
   "outputs": [],
   "source": [
    "gene_dis_per_contig.loc[:,['%effector', '%all_genes','%no_effector' ,'%busco']]"
   ]
  },
  {
   "cell_type": "code",
   "execution_count": null,
   "metadata": {
    "collapsed": false
   },
   "outputs": [],
   "source": [
    "gene_dis_per_contig[(gene_dis_per_contig['%effector'] > gene_dis_per_contig['%all_genes']) &\\\n",
    "                    (gene_dis_per_contig['%effector'] > gene_dis_per_contig['%busco'])].loc[:,['effectors', '%effector', '%all_genes']].index"
   ]
  },
  {
   "cell_type": "code",
   "execution_count": null,
   "metadata": {
    "collapsed": false
   },
   "outputs": [],
   "source": [
    "#effectors per contig > than expected\n",
    "gene_dis_per_contig[((gene_dis_per_contig['%effector'] / gene_dis_per_contig['%all_genes']) > 1.5) & (gene_dis_per_contig['%effector'] > 0.9)]\\\n",
    ".loc[:,['effectors', '%effector', 'all_genes','%all_genes']].sort_values('effectors', ascending=False)"
   ]
  },
  {
   "cell_type": "code",
   "execution_count": null,
   "metadata": {
    "collapsed": false
   },
   "outputs": [],
   "source": [
    "#sum off all effectors on enriched? contigs\n",
    "gene_dis_per_contig[(gene_dis_per_contig['%effector'] > gene_dis_per_contig['%all_genes'])].sum()"
   ]
  },
  {
   "cell_type": "code",
   "execution_count": null,
   "metadata": {
    "collapsed": false
   },
   "outputs": [],
   "source": [
    "#sum off all effectors on enriched? contigs\n",
    "gene_dis_per_contig[(gene_dis_per_contig['%effector'] > gene_dis_per_contig['%all_genes'])].loc[:,['effectors', '%effector', '%all_genes']]['effectors'].sum()"
   ]
  },
  {
   "cell_type": "code",
   "execution_count": null,
   "metadata": {
    "collapsed": false
   },
   "outputs": [],
   "source": [
    "#sum off all effectors on enriched? contigs\n",
    "gene_dis_per_contig[(gene_dis_per_contig['%effector'] > gene_dis_per_contig['%all_genes'])]\\\n",
    "    .loc[:,['effectors', '%effector', '%all_genes']].sort_values('effectors', ascending = False)"
   ]
  },
  {
   "cell_type": "code",
   "execution_count": null,
   "metadata": {
    "collapsed": false
   },
   "outputs": [],
   "source": [
    "gene_dis_per_contig['effectors'].sum()"
   ]
  },
  {
   "cell_type": "code",
   "execution_count": null,
   "metadata": {
    "collapsed": false
   },
   "outputs": [],
   "source": [
    "gene_dis_per_contig[(gene_dis_per_contig['%busco'] / gene_dis_per_contig['%all_genes'] > 1.2) & (gene_dis_per_contig['%busco'] > 0.5 )\\\n",
    "                    ].loc[:,['buscos', '%busco', '%all_genes']]"
   ]
  },
  {
   "cell_type": "code",
   "execution_count": null,
   "metadata": {
    "collapsed": false
   },
   "outputs": [],
   "source": [
    "gene_dis_per_contig[(gene_dis_per_contig['%busco'] / gene_dis_per_contig['%all_genes'] > 1.2) \\\n",
    "                    ].loc[:,['buscos', '%busco', '%all_genes']]['buscos'].sum()"
   ]
  },
  {
   "cell_type": "code",
   "execution_count": null,
   "metadata": {
    "collapsed": false
   },
   "outputs": [],
   "source": [
    "gene_dis_per_contig[(gene_dis_per_contig['%busco'] / gene_dis_per_contig['%effector'] < 1) & \\\n",
    "                    (gene_dis_per_contig['%all_genes'] / gene_dis_per_contig['%effector'] < 1) ].sum()"
   ]
  },
  {
   "cell_type": "code",
   "execution_count": null,
   "metadata": {
    "collapsed": false
   },
   "outputs": [],
   "source": [
    "gene_dis_per_contig[(gene_dis_per_contig['%busco'] / gene_dis_per_contig['%all_genes'] > 1.0000001) & \\\n",
    "                   (gene_dis_per_contig['%effector'] / gene_dis_per_contig['%all_genes'] < 0.9999) ].sum()"
   ]
  },
  {
   "cell_type": "markdown",
   "metadata": {},
   "source": [
    "Check if genes or TEs are the next closest to effectors"
   ]
  },
  {
   "cell_type": "code",
   "execution_count": null,
   "metadata": {
    "collapsed": false
   },
   "outputs": [],
   "source": [
    "tmp_REPET = pd.read_csv(p_repeat_superfamily_gff_fn, header=None, sep='\\t', names=gff_header).sort_values(['seqid','start'])\n",
    "tmp_REPET['distance'] = tmp_REPET.end - tmp_REPET.start\n",
    "\n",
    "tmp_fn = p_repeat_superfamily_gff_fn.replace('superfamily.gff', 'tmpsuperfamily.bed')\n",
    "tmp_REPET[tmp_REPET.distance > 400].loc[:,['seqid', 'start', 'end', 'attributes', 'score', 'strand']].to_csv(tmp_fn, header=None, sep='\\t', index=None)\n",
    "\n",
    "p_repeats_bed = BedTool(tmp_fn)"
   ]
  },
  {
   "cell_type": "code",
   "execution_count": null,
   "metadata": {
    "collapsed": false
   },
   "outputs": [],
   "source": [
    "p_effector_bed.head()"
   ]
  },
  {
   "cell_type": "code",
   "execution_count": null,
   "metadata": {
    "collapsed": false
   },
   "outputs": [],
   "source": [
    "p_allgene_bed.head()"
   ]
  },
  {
   "cell_type": "code",
   "execution_count": null,
   "metadata": {
    "collapsed": false
   },
   "outputs": [],
   "source": [
    "p_noeffector_bed.head()"
   ]
  },
  {
   "cell_type": "code",
   "execution_count": null,
   "metadata": {
    "collapsed": false
   },
   "outputs": [],
   "source": [
    "len(p_effector_bed)"
   ]
  },
  {
   "cell_type": "code",
   "execution_count": null,
   "metadata": {
    "collapsed": false
   },
   "outputs": [],
   "source": [
    "tmp_df = p_effector_bed.closest( [p_repeats_bed.fn,p_allgene_bed.fn] , mdb='all', d=True, N=True).to_dataframe()\n",
    "\n",
    "tmp_df.rename(columns={10: 'ID'}, inplace=True)\n",
    "\n",
    "print('Per of effectors having genes as closest %f' % (tmp_df[tmp_df.ID.str.contains('evm')][0].count()/len(p_effector_bed)*100))\n",
    "\n",
    "print('Per of effectors having TE as closest %f' % (tmp_df[~tmp_df.ID.str.contains('evm')][0].count()/len(p_effector_bed)*100))\n",
    "\n"
   ]
  },
  {
   "cell_type": "markdown",
   "metadata": {},
   "source": [
    "Get 5 and 3 prime distances of genes"
   ]
  },
  {
   "cell_type": "code",
   "execution_count": null,
   "metadata": {
    "collapsed": false
   },
   "outputs": [],
   "source": [
    "g_to_g_3 = p_allgene_bed.closest( p_allgene_bed.fn ,  N=True, iu=True, D='a' ).to_dataframe().iloc[:,[3,12]]\n",
    "\n",
    "\n",
    "g_to_g_3.rename(columns={12:'3_distance'}, inplace=True)\n",
    "\n",
    "g_to_g_5 = p_allgene_bed.closest( p_allgene_bed.fn ,  N=True, id=True, D='a' ).to_dataframe().iloc[:,[3,12]]\n",
    "g_to_g_5.rename(columns={12:'5_distance'}, inplace=True)\n",
    "\n",
    "g_to_g_merged = g_to_g_3.merge(g_to_g_5)\n",
    "\n",
    "#needs to be fixed to take boundaries into account\n",
    "\n",
    "g_to_g_merged = g_to_g_merged[~((g_to_g_merged['5_distance'] == -1) & g_to_g_merged[3].str.endswith('.1')) ]\n",
    "\n",
    "g_to_g_merged=  g_to_g_merged[g_to_g_merged['3_distance'] > 1]\n",
    "\n",
    "g_to_g_merged['5_distance'] = abs(g_to_g_merged['5_distance'])\n",
    "g_to_g_merged['5_distance_log10'] = np.log10(g_to_g_merged['5_distance'])\n",
    "g_to_g_merged['3_distance_log10'] = np.log10(g_to_g_merged['3_distance'])\n",
    "\n",
    "sns.jointplot(x='3_distance', y='5_distance', data=g_to_g_merged, kind=\"kde\")\n",
    "\n",
    "\n",
    "\n",
    "#now for effectors \n",
    "e_to_g_3 = p_effector_bed.closest( p_allgene_bed.fn ,  N=True, iu=True, D='a' ).to_dataframe().iloc[:,[3,12]]\n",
    "\n",
    "\n",
    "e_to_g_3.rename(columns={12:'3_distance'}, inplace=True)\n",
    "\n",
    "e_to_g_5 = p_effector_bed.closest( p_allgene_bed.fn ,  N=True, id=True, D='a' ).to_dataframe().iloc[:,[3,12]]\n",
    "e_to_g_5.rename(columns={12:'5_distance'}, inplace=True)\n",
    "\n",
    "e_to_g_merged = e_to_g_3.merge(g_to_g_5)\n",
    "\n",
    "#needs to be fixed to take boundaries into account\n",
    "\n",
    "e_to_g_merged = e_to_g_merged[~((e_to_g_merged['5_distance'] == -1) & e_to_g_merged[3].str.endswith('.1')) ]\n",
    "\n",
    "e_to_g_merged=  e_to_g_merged[e_to_g_merged['3_distance'] > 1]\n",
    "\n",
    "e_to_g_merged['5_distance'] = abs(e_to_g_merged['5_distance'])\n",
    "\n",
    "\n",
    "\n",
    "sns.jointplot(x='3_distance', y='5_distance', data=e_to_g_merged, kind=\"kde\")\n",
    "\n",
    "\n",
    "#now for effectors \n",
    "b_to_g_3 = p_busco_bed.closest( p_allgene_bed.fn ,  N=True, iu=True, D='a' ).to_dataframe().iloc[:,[3,12]]\n",
    "\n",
    "\n",
    "b_to_g_3.rename(columns={12:'3_distance'}, inplace=True)\n",
    "\n",
    "b_to_g_5 = p_busco_bed.closest( p_allgene_bed.fn ,  N=True, id=True, D='a' ).to_dataframe().iloc[:,[3,12]]\n",
    "b_to_g_5.rename(columns={12:'5_distance'}, inplace=True)\n",
    "\n",
    "b_to_g_merged = b_to_g_3.merge(b_to_g_5)\n",
    "\n",
    "#needs to be fixed to take boundaries into account\n",
    "\n",
    "b_to_g_merged = b_to_g_merged[~((b_to_g_merged['5_distance'] == -1) & b_to_g_merged[3].str.endswith('.1')) ]\n",
    "\n",
    "b_to_g_merged=  b_to_g_merged[b_to_g_merged['3_distance'] > 1]\n",
    "\n",
    "b_to_g_merged['5_distance'] = abs(b_to_g_merged['5_distance'])\n",
    "\n",
    "\n",
    "\n",
    "sns.jointplot(x='3_distance', y='5_distance', data=b_to_g_merged, kind=\"kde\")\n",
    "\n",
    "\n",
    "sns.jointplot(x='3_distance', y='5_distance', data=e_to_g_merged, kind=\"kde\", color='r', xlim=10000, ylim=10000)\n",
    "sns.jointplot(x='3_distance', y='5_distance', data=g_to_g_merged, kind=\"kde\", xlim=10000, ylim=10000)\n",
    "\n",
    "\n",
    "sns.jointplot(x='3_distance', y='5_distance', data=e_to_g_merged[(e_to_g_merged['5_distance'] < 10000) &\\\n",
    "        (e_to_g_merged['3_distance'] < 10000)], kind=\"hex\", color='r',xlim=[0,10000], ylim=[0,10000],\\\n",
    "             marginal_kws=dict(bins=30))\n",
    "\n",
    "\n",
    "sns.jointplot(x='3_distance', y='5_distance', data=b_to_g_merged[(b_to_g_merged['5_distance'] < 10000) &\\\n",
    "        (b_to_g_merged['3_distance'] < 10000)], kind=\"hex\",color='g', xlim=[0,10000], ylim=[0,10000],\\\n",
    "              marginal_kws=dict(bins=30))\n",
    "\n",
    "sns.jointplot(x='3_distance', y='5_distance', data=g_to_g_merged[(g_to_g_merged['5_distance'] < 10000) &\\\n",
    "        (g_to_g_merged['3_distance'] < 10000)], kind=\"hex\", xlim=[0,10000], ylim=[0,10000],\\\n",
    "              marginal_kws=dict(bins=30))"
   ]
  },
  {
   "cell_type": "code",
   "execution_count": null,
   "metadata": {
    "collapsed": true
   },
   "outputs": [],
   "source": []
  }
 ],
 "metadata": {
  "kernelspec": {
   "display_name": "Python 3",
   "language": "python",
   "name": "python3"
  },
  "language_info": {
   "codemirror_mode": {
    "name": "ipython",
    "version": 3
   },
   "file_extension": ".py",
   "mimetype": "text/x-python",
   "name": "python",
   "nbconvert_exporter": "python",
   "pygments_lexer": "ipython3",
   "version": "3.5.2"
  }
 },
 "nbformat": 4,
 "nbformat_minor": 0
}
