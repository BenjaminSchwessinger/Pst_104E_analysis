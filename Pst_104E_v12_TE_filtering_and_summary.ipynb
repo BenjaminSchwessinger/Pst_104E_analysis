{
 "cells": [
  {
   "cell_type": "code",
   "execution_count": 1,
   "metadata": {
    "collapsed": false
   },
   "outputs": [
    {
     "name": "stderr",
     "output_type": "stream",
     "text": [
      "/home/benjamin/anaconda3/lib/python3.5/site-packages/Bio/SearchIO/__init__.py:211: BiopythonExperimentalWarning: Bio.SearchIO is an experimental submodule which may undergo significant changes prior to its future official release.\n",
      "  BiopythonExperimentalWarning)\n"
     ]
    }
   ],
   "source": [
    "%matplotlib inline\n",
    "import pandas as pd\n",
    "import os\n",
    "import re\n",
    "from Bio import SeqIO\n",
    "import pysam\n",
    "from Bio.SeqRecord import SeqRecord\n",
    "from Bio.Seq import Seq\n",
    "from Bio import SearchIO\n",
    "from pybedtools import BedTool"
   ]
  },
  {
   "cell_type": "code",
   "execution_count": 2,
   "metadata": {
    "collapsed": true
   },
   "outputs": [],
   "source": [
    "source_dir = '/home/benjamin/genome_assembly/PST79/FALCON/p_assemblies/v9_1/032017_assembly'"
   ]
  },
  {
   "cell_type": "code",
   "execution_count": 3,
   "metadata": {
    "collapsed": true
   },
   "outputs": [],
   "source": [
    "out_dir = '/home/benjamin/genome_assembly/PST79/FALCON/p_assemblies/v9_1/Pst_104E_v12/TE_analysis'"
   ]
  },
  {
   "cell_type": "code",
   "execution_count": 6,
   "metadata": {
    "collapsed": false
   },
   "outputs": [],
   "source": [
    "if not os.path.exists(out_dir):\n",
    "    os.mkdir(out_dir)"
   ]
  },
  {
   "cell_type": "code",
   "execution_count": 10,
   "metadata": {
    "collapsed": false
   },
   "outputs": [],
   "source": [
    "p_repet_gff = pd.read_csv(source_dir+'/'+ \"Pst_104E_v12_p_ctg.REPET.gff\", sep='\\t', header = None, skiprows=1)"
   ]
  },
  {
   "cell_type": "code",
   "execution_count": 12,
   "metadata": {
    "collapsed": false
   },
   "outputs": [
    {
     "data": {
      "text/plain": [
       "0    ID=ms7308_pcontig_193_DTX-incomp-chim_MCL5_Pst...\n",
       "1    ID=mp7308-1_pcontig_193_DTX-incomp-chim_MCL5_P...\n",
       "2    ID=ms7309_pcontig_193_DTX-incomp_MCL9_Pst79_RE...\n",
       "3    ID=mp7309-1_pcontig_193_DTX-incomp_MCL9_Pst79_...\n",
       "4    ID=ms7310_pcontig_193_DTX-incomp_MCL9_Pst79_RE...\n",
       "Name: 8, dtype: object"
      ]
     },
     "execution_count": 12,
     "metadata": {},
     "output_type": "execute_result"
    }
   ],
   "source": [
    "p_repet_gff[8].head()"
   ]
  },
  {
   "cell_type": "code",
   "execution_count": 14,
   "metadata": {
    "collapsed": false
   },
   "outputs": [],
   "source": [
    "TE_post_analysis_p = '/home/benjamin/genome_assembly/PST79/FALCON/p_assemblies/v9_1/REPET/Pst79_p/Pst79_p_full_annotate/postanalysis'"
   ]
  },
  {
   "cell_type": "code",
   "execution_count": 15,
   "metadata": {
    "collapsed": true
   },
   "outputs": [],
   "source": [
    "TE_post_analysis_p_header = 'TE      length  covg    frags   fullLgthFrags   copies  fullLgthCopies  meanId  sdId    minId   q25Id   medId   q75Id   maxId   meanLgth        sdLgth  minLgth q25Lgth medLgth q75Lgth maxLgth meanLgthPerc    sdLgthPerc      minLgthPerc  q25LgthPerc     medLgthPerc     q75LgthPerc     maxLgthPerc'.split(' ')"
   ]
  },
  {
   "cell_type": "code",
   "execution_count": 17,
   "metadata": {
    "collapsed": false
   },
   "outputs": [
    {
     "data": {
      "text/plain": [
       "['TE',\n",
       " 'length',\n",
       " 'covg',\n",
       " 'frags',\n",
       " 'fullLgthFrags',\n",
       " 'copies',\n",
       " 'fullLgthCopies',\n",
       " 'meanId',\n",
       " 'sdId',\n",
       " 'minId',\n",
       " 'q25Id',\n",
       " 'medId',\n",
       " 'q75Id',\n",
       " 'maxId',\n",
       " 'meanLgth',\n",
       " 'sdLgth',\n",
       " 'minLgth',\n",
       " 'q25Lgth',\n",
       " 'medLgth',\n",
       " 'q75Lgth',\n",
       " 'maxLgth',\n",
       " 'meanLgthPerc',\n",
       " 'sdLgthPerc',\n",
       " 'minLgthPerc',\n",
       " 'q25LgthPerc',\n",
       " 'medLgthPerc',\n",
       " 'q75LgthPerc',\n",
       " 'maxLgthPerc']"
      ]
     },
     "execution_count": 17,
     "metadata": {},
     "output_type": "execute_result"
    }
   ],
   "source": [
    "TE_post_analysis_p_header = [x for x in TE_post_analysis_p_header if x != '']\n",
    "TE_post_analysis_p_header"
   ]
  },
  {
   "cell_type": "code",
   "execution_count": 21,
   "metadata": {
    "collapsed": false
   },
   "outputs": [],
   "source": [
    "p_repet_summary_df = pd.read_csv(TE_post_analysis_p+'/'+'Pst79p_anno_chr_allTEs_nr_noSSR_join_path.annotStatsPerTE.tab' ,\\\n",
    "                                names = TE_post_analysis_p_header, header=None, sep='\\t', skiprows=1 )"
   ]
  },
  {
   "cell_type": "code",
   "execution_count": 22,
   "metadata": {
    "collapsed": false
   },
   "outputs": [
    {
     "data": {
      "text/html": [
       "<div>\n",
       "<table border=\"1\" class=\"dataframe\">\n",
       "  <thead>\n",
       "    <tr style=\"text-align: right;\">\n",
       "      <th></th>\n",
       "      <th>TE</th>\n",
       "      <th>length</th>\n",
       "      <th>covg</th>\n",
       "      <th>frags</th>\n",
       "      <th>fullLgthFrags</th>\n",
       "      <th>copies</th>\n",
       "      <th>fullLgthCopies</th>\n",
       "      <th>meanId</th>\n",
       "      <th>sdId</th>\n",
       "      <th>minId</th>\n",
       "      <th>...</th>\n",
       "      <th>medLgth</th>\n",
       "      <th>q75Lgth</th>\n",
       "      <th>maxLgth</th>\n",
       "      <th>meanLgthPerc</th>\n",
       "      <th>sdLgthPerc</th>\n",
       "      <th>minLgthPerc</th>\n",
       "      <th>q25LgthPerc</th>\n",
       "      <th>medLgthPerc</th>\n",
       "      <th>q75LgthPerc</th>\n",
       "      <th>maxLgthPerc</th>\n",
       "    </tr>\n",
       "  </thead>\n",
       "  <tbody>\n",
       "    <tr>\n",
       "      <th>0</th>\n",
       "      <td>DHX-comp_MCL7_Pst79_REPET-B-G1637-Map3_reversed</td>\n",
       "      <td>6846</td>\n",
       "      <td>83754</td>\n",
       "      <td>57</td>\n",
       "      <td>5</td>\n",
       "      <td>45</td>\n",
       "      <td>5</td>\n",
       "      <td>87.95</td>\n",
       "      <td>8.91</td>\n",
       "      <td>59.2</td>\n",
       "      <td>...</td>\n",
       "      <td>690.0</td>\n",
       "      <td>2511.0</td>\n",
       "      <td>6846.0</td>\n",
       "      <td>27.19</td>\n",
       "      <td>33.33</td>\n",
       "      <td>0.34</td>\n",
       "      <td>3.30</td>\n",
       "      <td>10.08</td>\n",
       "      <td>36.68</td>\n",
       "      <td>100.00</td>\n",
       "    </tr>\n",
       "    <tr>\n",
       "      <th>1</th>\n",
       "      <td>DHX-comp_MCL913_Pst79_REPET-B-R1806-Map7</td>\n",
       "      <td>5263</td>\n",
       "      <td>60250</td>\n",
       "      <td>52</td>\n",
       "      <td>2</td>\n",
       "      <td>43</td>\n",
       "      <td>2</td>\n",
       "      <td>64.67</td>\n",
       "      <td>11.98</td>\n",
       "      <td>55.8</td>\n",
       "      <td>...</td>\n",
       "      <td>1287.0</td>\n",
       "      <td>1943.0</td>\n",
       "      <td>5263.0</td>\n",
       "      <td>26.62</td>\n",
       "      <td>24.40</td>\n",
       "      <td>0.53</td>\n",
       "      <td>1.98</td>\n",
       "      <td>24.45</td>\n",
       "      <td>36.92</td>\n",
       "      <td>100.00</td>\n",
       "    </tr>\n",
       "    <tr>\n",
       "      <th>2</th>\n",
       "      <td>DHX-incomp-chim_MCL1088_Pst79_REPET-B-R439-Map4</td>\n",
       "      <td>6573</td>\n",
       "      <td>25628</td>\n",
       "      <td>25</td>\n",
       "      <td>2</td>\n",
       "      <td>24</td>\n",
       "      <td>2</td>\n",
       "      <td>74.05</td>\n",
       "      <td>14.87</td>\n",
       "      <td>56.1</td>\n",
       "      <td>...</td>\n",
       "      <td>141.5</td>\n",
       "      <td>1160.0</td>\n",
       "      <td>6593.0</td>\n",
       "      <td>16.25</td>\n",
       "      <td>30.71</td>\n",
       "      <td>0.38</td>\n",
       "      <td>0.64</td>\n",
       "      <td>2.15</td>\n",
       "      <td>17.65</td>\n",
       "      <td>100.30</td>\n",
       "    </tr>\n",
       "    <tr>\n",
       "      <th>3</th>\n",
       "      <td>DHX-incomp-chim_MCL275_Pst79_REPET-B-G1603-Map3</td>\n",
       "      <td>6321</td>\n",
       "      <td>58446</td>\n",
       "      <td>65</td>\n",
       "      <td>4</td>\n",
       "      <td>54</td>\n",
       "      <td>4</td>\n",
       "      <td>71.73</td>\n",
       "      <td>13.08</td>\n",
       "      <td>56.5</td>\n",
       "      <td>...</td>\n",
       "      <td>298.5</td>\n",
       "      <td>1276.0</td>\n",
       "      <td>6324.0</td>\n",
       "      <td>17.12</td>\n",
       "      <td>27.02</td>\n",
       "      <td>0.35</td>\n",
       "      <td>1.57</td>\n",
       "      <td>4.72</td>\n",
       "      <td>20.19</td>\n",
       "      <td>100.05</td>\n",
       "    </tr>\n",
       "    <tr>\n",
       "      <th>4</th>\n",
       "      <td>DHX-incomp-chim_MCL66_Pst79_REPET-B-R1526-Map5...</td>\n",
       "      <td>6436</td>\n",
       "      <td>64594</td>\n",
       "      <td>64</td>\n",
       "      <td>5</td>\n",
       "      <td>56</td>\n",
       "      <td>5</td>\n",
       "      <td>75.09</td>\n",
       "      <td>10.98</td>\n",
       "      <td>57.1</td>\n",
       "      <td>...</td>\n",
       "      <td>280.0</td>\n",
       "      <td>1485.0</td>\n",
       "      <td>6440.0</td>\n",
       "      <td>17.93</td>\n",
       "      <td>28.32</td>\n",
       "      <td>0.36</td>\n",
       "      <td>1.32</td>\n",
       "      <td>4.35</td>\n",
       "      <td>23.07</td>\n",
       "      <td>100.06</td>\n",
       "    </tr>\n",
       "  </tbody>\n",
       "</table>\n",
       "<p>5 rows × 28 columns</p>\n",
       "</div>"
      ],
      "text/plain": [
       "                                                  TE  length   covg  frags  \\\n",
       "0    DHX-comp_MCL7_Pst79_REPET-B-G1637-Map3_reversed    6846  83754     57   \n",
       "1           DHX-comp_MCL913_Pst79_REPET-B-R1806-Map7    5263  60250     52   \n",
       "2    DHX-incomp-chim_MCL1088_Pst79_REPET-B-R439-Map4    6573  25628     25   \n",
       "3    DHX-incomp-chim_MCL275_Pst79_REPET-B-G1603-Map3    6321  58446     65   \n",
       "4  DHX-incomp-chim_MCL66_Pst79_REPET-B-R1526-Map5...    6436  64594     64   \n",
       "\n",
       "   fullLgthFrags  copies  fullLgthCopies  meanId   sdId  minId     ...       \\\n",
       "0              5      45               5   87.95   8.91   59.2     ...        \n",
       "1              2      43               2   64.67  11.98   55.8     ...        \n",
       "2              2      24               2   74.05  14.87   56.1     ...        \n",
       "3              4      54               4   71.73  13.08   56.5     ...        \n",
       "4              5      56               5   75.09  10.98   57.1     ...        \n",
       "\n",
       "   medLgth  q75Lgth  maxLgth  meanLgthPerc  sdLgthPerc  minLgthPerc  \\\n",
       "0    690.0   2511.0   6846.0         27.19       33.33         0.34   \n",
       "1   1287.0   1943.0   5263.0         26.62       24.40         0.53   \n",
       "2    141.5   1160.0   6593.0         16.25       30.71         0.38   \n",
       "3    298.5   1276.0   6324.0         17.12       27.02         0.35   \n",
       "4    280.0   1485.0   6440.0         17.93       28.32         0.36   \n",
       "\n",
       "   q25LgthPerc  medLgthPerc  q75LgthPerc  maxLgthPerc  \n",
       "0         3.30        10.08        36.68       100.00  \n",
       "1         1.98        24.45        36.92       100.00  \n",
       "2         0.64         2.15        17.65       100.30  \n",
       "3         1.57         4.72        20.19       100.05  \n",
       "4         1.32         4.35        23.07       100.06  \n",
       "\n",
       "[5 rows x 28 columns]"
      ]
     },
     "execution_count": 22,
     "metadata": {},
     "output_type": "execute_result"
    }
   ],
   "source": [
    "p_repet_summary_df.head()"
   ]
  },
  {
   "cell_type": "code",
   "execution_count": null,
   "metadata": {
    "collapsed": true
   },
   "outputs": [],
   "source": []
  }
 ],
 "metadata": {
  "kernelspec": {
   "display_name": "Python 3",
   "language": "python",
   "name": "python3"
  },
  "language_info": {
   "codemirror_mode": {
    "name": "ipython",
    "version": 3
   },
   "file_extension": ".py",
   "mimetype": "text/x-python",
   "name": "python",
   "nbconvert_exporter": "python",
   "pygments_lexer": "ipython3",
   "version": "3.5.2"
  }
 },
 "nbformat": 4,
 "nbformat_minor": 0
}
