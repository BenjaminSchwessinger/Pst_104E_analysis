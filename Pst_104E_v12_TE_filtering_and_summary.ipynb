{
 "cells": [
  {
   "cell_type": "code",
   "execution_count": 112,
   "metadata": {
    "collapsed": false
   },
   "outputs": [],
   "source": [
    "%matplotlib inline\n",
    "import pandas as pd\n",
    "import os\n",
    "import re\n",
    "from Bio import SeqIO\n",
    "import pysam\n",
    "from Bio.SeqRecord import SeqRecord\n",
    "from Bio.Seq import Seq\n",
    "from Bio import SearchIO\n",
    "from pybedtools import BedTool\n",
    "import numpy as np\n",
    "import pybedtools\n",
    "import multiprocessing\n",
    "import re\n",
    "import time\n",
    "import matplotlib.pyplot as plt"
   ]
  },
  {
   "cell_type": "code",
   "execution_count": 2,
   "metadata": {
    "collapsed": true
   },
   "outputs": [],
   "source": [
    "source_dir = '/home/benjamin/genome_assembly/PST79/FALCON/p_assemblies/v9_1/032017_assembly'"
   ]
  },
  {
   "cell_type": "code",
   "execution_count": 3,
   "metadata": {
    "collapsed": true
   },
   "outputs": [],
   "source": [
    "genome = 'Pst_104E_v12_p_ctg'"
   ]
  },
  {
   "cell_type": "code",
   "execution_count": 4,
   "metadata": {
    "collapsed": true
   },
   "outputs": [],
   "source": [
    "out_dir = '/home/benjamin/genome_assembly/PST79/FALCON/p_assemblies/v9_1/Pst_104E_v12/TE_analysis'"
   ]
  },
  {
   "cell_type": "code",
   "execution_count": 5,
   "metadata": {
    "collapsed": false
   },
   "outputs": [],
   "source": [
    "if not os.path.exists(out_dir):\n",
    "    os.mkdir(out_dir)"
   ]
  },
  {
   "cell_type": "code",
   "execution_count": 6,
   "metadata": {
    "collapsed": false
   },
   "outputs": [],
   "source": [
    "#remove all commenting lines from the initial repet file\n",
    "!grep -v \"^#\" {source_dir}/{genome}.REPET.gff > {out_dir}/{genome}.REPET.gff"
   ]
  },
  {
   "cell_type": "code",
   "execution_count": 135,
   "metadata": {
    "collapsed": false
   },
   "outputs": [],
   "source": [
    "p_repet_gff = pd.read_csv(out_dir+'/'+genome+'.REPET.gff', sep='\\t', header = None)"
   ]
  },
  {
   "cell_type": "code",
   "execution_count": 8,
   "metadata": {
    "collapsed": false
   },
   "outputs": [],
   "source": [
    "TE_post_analysis_p = '/home/benjamin/genome_assembly/PST79/FALCON/p_assemblies/v9_1/REPET/Pst79_p/Pst79_p_full_annotate/postanalysis'"
   ]
  },
  {
   "cell_type": "code",
   "execution_count": 9,
   "metadata": {
    "collapsed": true
   },
   "outputs": [],
   "source": [
    "TE_post_analysis_p_header = 'TE      length  covg    frags   fullLgthFrags   copies  fullLgthCopies  meanId  sdId    minId   q25Id   medId   q75Id   maxId   meanLgth        sdLgth  minLgth q25Lgth medLgth q75Lgth maxLgth meanLgthPerc    sdLgthPerc      minLgthPerc  q25LgthPerc     medLgthPerc     q75LgthPerc     maxLgthPerc'.split(' ')"
   ]
  },
  {
   "cell_type": "code",
   "execution_count": 10,
   "metadata": {
    "collapsed": false
   },
   "outputs": [],
   "source": [
    "TE_post_analysis_p_header = [x for x in TE_post_analysis_p_header if x != '']"
   ]
  },
  {
   "cell_type": "code",
   "execution_count": 11,
   "metadata": {
    "collapsed": false
   },
   "outputs": [],
   "source": [
    "#this needs to be fixed up to pick the proper summary table\n",
    "p_repet_summary_df = pd.read_csv(TE_post_analysis_p+'/'+'Pst79p_anno_chr_allTEs_nr_noSSR_join_path.annotStatsPerTE.tab' ,\\\n",
    "                                names = TE_post_analysis_p_header, header=None, sep='\\t', skiprows=1 )\n",
    "\n",
    "#check if I can filter the tab files for removing all TEs that are on the 2000 plus contigs\n",
    "#remove tRNAs TEs with infernal\n",
    "\n",
    "p_repet_summary_df['Code'] = p_repet_summary_df['TE'].apply(lambda x: x.split('_')[0])\n",
    "\n",
    "code_keys = p_repet_summary_df['Code'].unique()\n",
    "\n",
    "code_keys.sort()\n",
    "\n",
    "code_long = ['DNA_transposon Helitron', 'DNA_transposon Helitron', 'DNA_transposon Helitron', 'DNA_transposon Maverick',\\\n",
    "            'DNA_transposon TIR', 'DNA_transposon TIR', 'DNA_transposon TIR', 'DNA_transposon TIR', 'DNA_transposon noCat',\\\n",
    "             'DNA_transposon MITE','DNA_transposon MITE', 'Potential Host Gene', 'Retrotransposon LINE', 'Retrotransposon LINE',\\\n",
    "             'Retrotransposon LINE','Retrotransposon LTR','Retrotransposon LTR', 'Retrotransposon LTR', 'Retrotransposon LTR', 'Retrotransposon PLE', \\\n",
    "             'Retrotransposon SINE',  'Retrotransposon SINE', 'Retrotransposon noCat', 'Retrotransposon LARD',\\\n",
    "             'Retrotransposon LARD', 'Retrotransposon TRIM', 'Retrotransposon TRIM', 'Retrotransposon noCat',  \\\n",
    "             'Retrotransposon DIRS','Retrotransposon DIRS','Retrotransposon DIRS','Retrotransposon DIRS',\\\n",
    "             'noCat', 'noCat']\n",
    "\n",
    "code_dict = dict(zip(code_keys, code_long))"
   ]
  },
  {
   "cell_type": "code",
   "execution_count": 12,
   "metadata": {
    "collapsed": false
   },
   "outputs": [
    {
     "data": {
      "text/html": [
       "<div>\n",
       "<table border=\"1\" class=\"dataframe\">\n",
       "  <thead>\n",
       "    <tr style=\"text-align: right;\">\n",
       "      <th></th>\n",
       "      <th>copies</th>\n",
       "      <th>covg</th>\n",
       "      <th>length</th>\n",
       "    </tr>\n",
       "    <tr>\n",
       "      <th>Code long</th>\n",
       "      <th></th>\n",
       "      <th></th>\n",
       "      <th></th>\n",
       "    </tr>\n",
       "  </thead>\n",
       "  <tbody>\n",
       "    <tr>\n",
       "      <th>DNA_transposon Helitron</th>\n",
       "      <td>1075</td>\n",
       "      <td>817566</td>\n",
       "      <td>2989.764706</td>\n",
       "    </tr>\n",
       "    <tr>\n",
       "      <th>DNA_transposon MITE</th>\n",
       "      <td>3789</td>\n",
       "      <td>886304</td>\n",
       "      <td>490.240741</td>\n",
       "    </tr>\n",
       "    <tr>\n",
       "      <th>DNA_transposon Maverick</th>\n",
       "      <td>268</td>\n",
       "      <td>345406</td>\n",
       "      <td>8562.666667</td>\n",
       "    </tr>\n",
       "    <tr>\n",
       "      <th>DNA_transposon TIR</th>\n",
       "      <td>19166</td>\n",
       "      <td>12711595</td>\n",
       "      <td>4020.474359</td>\n",
       "    </tr>\n",
       "    <tr>\n",
       "      <th>DNA_transposon noCat</th>\n",
       "      <td>5286</td>\n",
       "      <td>2376456</td>\n",
       "      <td>3034.734513</td>\n",
       "    </tr>\n",
       "    <tr>\n",
       "      <th>Potential Host Gene</th>\n",
       "      <td>1372</td>\n",
       "      <td>1375304</td>\n",
       "      <td>6120.490566</td>\n",
       "    </tr>\n",
       "    <tr>\n",
       "      <th>Retrotransposon DIRS</th>\n",
       "      <td>1337</td>\n",
       "      <td>1049299</td>\n",
       "      <td>6874.526316</td>\n",
       "    </tr>\n",
       "    <tr>\n",
       "      <th>Retrotransposon LARD</th>\n",
       "      <td>10752</td>\n",
       "      <td>4947564</td>\n",
       "      <td>5407.736111</td>\n",
       "    </tr>\n",
       "    <tr>\n",
       "      <th>Retrotransposon LINE</th>\n",
       "      <td>323</td>\n",
       "      <td>237992</td>\n",
       "      <td>4446.625000</td>\n",
       "    </tr>\n",
       "    <tr>\n",
       "      <th>Retrotransposon LTR</th>\n",
       "      <td>18893</td>\n",
       "      <td>16276421</td>\n",
       "      <td>6384.627841</td>\n",
       "    </tr>\n",
       "    <tr>\n",
       "      <th>Retrotransposon PLE</th>\n",
       "      <td>75</td>\n",
       "      <td>41843</td>\n",
       "      <td>8954.000000</td>\n",
       "    </tr>\n",
       "    <tr>\n",
       "      <th>Retrotransposon SINE</th>\n",
       "      <td>163</td>\n",
       "      <td>31138</td>\n",
       "      <td>317.923077</td>\n",
       "    </tr>\n",
       "    <tr>\n",
       "      <th>Retrotransposon TRIM</th>\n",
       "      <td>507</td>\n",
       "      <td>238695</td>\n",
       "      <td>1583.434783</td>\n",
       "    </tr>\n",
       "    <tr>\n",
       "      <th>Retrotransposon noCat</th>\n",
       "      <td>112</td>\n",
       "      <td>101098</td>\n",
       "      <td>4365.857143</td>\n",
       "    </tr>\n",
       "    <tr>\n",
       "      <th>noCat</th>\n",
       "      <td>1218</td>\n",
       "      <td>850828</td>\n",
       "      <td>1679.829268</td>\n",
       "    </tr>\n",
       "  </tbody>\n",
       "</table>\n",
       "</div>"
      ],
      "text/plain": [
       "                         copies      covg       length\n",
       "Code long                                             \n",
       "DNA_transposon Helitron    1075    817566  2989.764706\n",
       "DNA_transposon MITE        3789    886304   490.240741\n",
       "DNA_transposon Maverick     268    345406  8562.666667\n",
       "DNA_transposon TIR        19166  12711595  4020.474359\n",
       "DNA_transposon noCat       5286   2376456  3034.734513\n",
       "Potential Host Gene        1372   1375304  6120.490566\n",
       "Retrotransposon DIRS       1337   1049299  6874.526316\n",
       "Retrotransposon LARD      10752   4947564  5407.736111\n",
       "Retrotransposon LINE        323    237992  4446.625000\n",
       "Retrotransposon LTR       18893  16276421  6384.627841\n",
       "Retrotransposon PLE          75     41843  8954.000000\n",
       "Retrotransposon SINE        163     31138   317.923077\n",
       "Retrotransposon TRIM        507    238695  1583.434783\n",
       "Retrotransposon noCat       112    101098  4365.857143\n",
       "noCat                      1218    850828  1679.829268"
      ]
     },
     "execution_count": 12,
     "metadata": {},
     "output_type": "execute_result"
    }
   ],
   "source": [
    "p_repet_summary_df['Code long'] = p_repet_summary_df['Code'].apply(lambda x: code_dict[x])\n",
    "\n",
    "p_repet_summary_sum_df = pd.pivot_table(p_repet_summary_df, values=['covg', 'copies'], index='Code long', aggfunc=np.sum)\n",
    "\n",
    "p_repet_summary_mean_df = pd.pivot_table(p_repet_summary_df, values='length', index='Code long', aggfunc=np.mean)\n",
    "\n",
    "pd.concat([p_repet_summary_sum_df,p_repet_summary_mean_df], axis=1 )"
   ]
  },
  {
   "cell_type": "code",
   "execution_count": 132,
   "metadata": {
    "collapsed": false
   },
   "outputs": [],
   "source": [
    "#pull out the top 20 TEs based on coverage in the coverage dataframe\n",
    "p_repet_top_20 = p_repet_summary_df[~(p_repet_summary_df['Code']=='PotentialHostGene')].sort_values(by='covg', ascending=False).reset_index(drop=True).iloc[0:20,:]"
   ]
  },
  {
   "cell_type": "code",
   "execution_count": 139,
   "metadata": {
    "collapsed": false
   },
   "outputs": [
    {
     "data": {
      "text/html": [
       "<div>\n",
       "<table border=\"1\" class=\"dataframe\">\n",
       "  <thead>\n",
       "    <tr style=\"text-align: right;\">\n",
       "      <th></th>\n",
       "      <th>TE</th>\n",
       "      <th>length</th>\n",
       "      <th>covg</th>\n",
       "      <th>frags</th>\n",
       "      <th>fullLgthFrags</th>\n",
       "      <th>copies</th>\n",
       "      <th>fullLgthCopies</th>\n",
       "      <th>meanId</th>\n",
       "      <th>sdId</th>\n",
       "      <th>minId</th>\n",
       "      <th>...</th>\n",
       "      <th>maxLgth</th>\n",
       "      <th>meanLgthPerc</th>\n",
       "      <th>sdLgthPerc</th>\n",
       "      <th>minLgthPerc</th>\n",
       "      <th>q25LgthPerc</th>\n",
       "      <th>medLgthPerc</th>\n",
       "      <th>q75LgthPerc</th>\n",
       "      <th>maxLgthPerc</th>\n",
       "      <th>Code</th>\n",
       "      <th>Code long</th>\n",
       "    </tr>\n",
       "  </thead>\n",
       "  <tbody>\n",
       "    <tr>\n",
       "      <th>0</th>\n",
       "      <td>DXX_MCL2_Pst79_REPET-B-G1715-Map3</td>\n",
       "      <td>18812</td>\n",
       "      <td>335432</td>\n",
       "      <td>225</td>\n",
       "      <td>3</td>\n",
       "      <td>187</td>\n",
       "      <td>3</td>\n",
       "      <td>87.87</td>\n",
       "      <td>10.61</td>\n",
       "      <td>59.80</td>\n",
       "      <td>...</td>\n",
       "      <td>18818.0</td>\n",
       "      <td>9.54</td>\n",
       "      <td>20.96</td>\n",
       "      <td>0.11</td>\n",
       "      <td>0.48</td>\n",
       "      <td>1.66</td>\n",
       "      <td>6.02</td>\n",
       "      <td>100.03</td>\n",
       "      <td>DXX</td>\n",
       "      <td>DNA_transposon noCat</td>\n",
       "    </tr>\n",
       "    <tr>\n",
       "      <th>1</th>\n",
       "      <td>DTX-incomp_MCL9_Pst79_REPET-B-G1698-Map4_reversed</td>\n",
       "      <td>13182</td>\n",
       "      <td>333753</td>\n",
       "      <td>419</td>\n",
       "      <td>7</td>\n",
       "      <td>356</td>\n",
       "      <td>8</td>\n",
       "      <td>80.27</td>\n",
       "      <td>9.44</td>\n",
       "      <td>59.00</td>\n",
       "      <td>...</td>\n",
       "      <td>13264.0</td>\n",
       "      <td>7.12</td>\n",
       "      <td>18.65</td>\n",
       "      <td>0.16</td>\n",
       "      <td>0.59</td>\n",
       "      <td>1.43</td>\n",
       "      <td>5.48</td>\n",
       "      <td>100.62</td>\n",
       "      <td>DTX-incomp</td>\n",
       "      <td>DNA_transposon TIR</td>\n",
       "    </tr>\n",
       "    <tr>\n",
       "      <th>2</th>\n",
       "      <td>DXX_MCL287_Pst79_REPET-B-R3576-Map14</td>\n",
       "      <td>28094</td>\n",
       "      <td>175364</td>\n",
       "      <td>147</td>\n",
       "      <td>1</td>\n",
       "      <td>125</td>\n",
       "      <td>1</td>\n",
       "      <td>79.67</td>\n",
       "      <td>9.67</td>\n",
       "      <td>55.40</td>\n",
       "      <td>...</td>\n",
       "      <td>28085.0</td>\n",
       "      <td>5.04</td>\n",
       "      <td>13.43</td>\n",
       "      <td>0.07</td>\n",
       "      <td>0.24</td>\n",
       "      <td>0.59</td>\n",
       "      <td>1.61</td>\n",
       "      <td>99.97</td>\n",
       "      <td>DXX</td>\n",
       "      <td>DNA_transposon noCat</td>\n",
       "    </tr>\n",
       "    <tr>\n",
       "      <th>3</th>\n",
       "      <td>noCat_MCL102_Pst79_REPET-B-R139-Map11</td>\n",
       "      <td>12696</td>\n",
       "      <td>171929</td>\n",
       "      <td>77</td>\n",
       "      <td>5</td>\n",
       "      <td>63</td>\n",
       "      <td>5</td>\n",
       "      <td>75.30</td>\n",
       "      <td>16.61</td>\n",
       "      <td>55.30</td>\n",
       "      <td>...</td>\n",
       "      <td>12857.0</td>\n",
       "      <td>21.50</td>\n",
       "      <td>28.14</td>\n",
       "      <td>0.17</td>\n",
       "      <td>1.24</td>\n",
       "      <td>12.53</td>\n",
       "      <td>28.64</td>\n",
       "      <td>101.27</td>\n",
       "      <td>noCat</td>\n",
       "      <td>noCat</td>\n",
       "    </tr>\n",
       "    <tr>\n",
       "      <th>4</th>\n",
       "      <td>RLX-comp_MCL8_Pst79_REPET-B-P528.25-Map3</td>\n",
       "      <td>9453</td>\n",
       "      <td>152539</td>\n",
       "      <td>56</td>\n",
       "      <td>9</td>\n",
       "      <td>41</td>\n",
       "      <td>10</td>\n",
       "      <td>91.29</td>\n",
       "      <td>9.88</td>\n",
       "      <td>67.35</td>\n",
       "      <td>...</td>\n",
       "      <td>9901.0</td>\n",
       "      <td>39.37</td>\n",
       "      <td>41.85</td>\n",
       "      <td>0.39</td>\n",
       "      <td>2.36</td>\n",
       "      <td>14.18</td>\n",
       "      <td>92.03</td>\n",
       "      <td>104.74</td>\n",
       "      <td>RLX-comp</td>\n",
       "      <td>Retrotransposon LTR</td>\n",
       "    </tr>\n",
       "  </tbody>\n",
       "</table>\n",
       "<p>5 rows × 30 columns</p>\n",
       "</div>"
      ],
      "text/plain": [
       "                                                  TE  length    covg  frags  \\\n",
       "0                  DXX_MCL2_Pst79_REPET-B-G1715-Map3   18812  335432    225   \n",
       "1  DTX-incomp_MCL9_Pst79_REPET-B-G1698-Map4_reversed   13182  333753    419   \n",
       "2               DXX_MCL287_Pst79_REPET-B-R3576-Map14   28094  175364    147   \n",
       "3              noCat_MCL102_Pst79_REPET-B-R139-Map11   12696  171929     77   \n",
       "4           RLX-comp_MCL8_Pst79_REPET-B-P528.25-Map3    9453  152539     56   \n",
       "\n",
       "   fullLgthFrags  copies  fullLgthCopies  meanId   sdId  minId  \\\n",
       "0              3     187               3   87.87  10.61  59.80   \n",
       "1              7     356               8   80.27   9.44  59.00   \n",
       "2              1     125               1   79.67   9.67  55.40   \n",
       "3              5      63               5   75.30  16.61  55.30   \n",
       "4              9      41              10   91.29   9.88  67.35   \n",
       "\n",
       "           ...           maxLgth  meanLgthPerc  sdLgthPerc  minLgthPerc  \\\n",
       "0          ...           18818.0          9.54       20.96         0.11   \n",
       "1          ...           13264.0          7.12       18.65         0.16   \n",
       "2          ...           28085.0          5.04       13.43         0.07   \n",
       "3          ...           12857.0         21.50       28.14         0.17   \n",
       "4          ...            9901.0         39.37       41.85         0.39   \n",
       "\n",
       "   q25LgthPerc  medLgthPerc  q75LgthPerc  maxLgthPerc        Code  \\\n",
       "0         0.48         1.66         6.02       100.03         DXX   \n",
       "1         0.59         1.43         5.48       100.62  DTX-incomp   \n",
       "2         0.24         0.59         1.61        99.97         DXX   \n",
       "3         1.24        12.53        28.64       101.27       noCat   \n",
       "4         2.36        14.18        92.03       104.74    RLX-comp   \n",
       "\n",
       "              Code long  \n",
       "0  DNA_transposon noCat  \n",
       "1    DNA_transposon TIR  \n",
       "2  DNA_transposon noCat  \n",
       "3                 noCat  \n",
       "4   Retrotransposon LTR  \n",
       "\n",
       "[5 rows x 30 columns]"
      ]
     },
     "execution_count": 139,
     "metadata": {},
     "output_type": "execute_result"
    }
   ],
   "source": [
    "p_repet_top_20.head()"
   ]
  },
  {
   "cell_type": "code",
   "execution_count": 140,
   "metadata": {
    "collapsed": true
   },
   "outputs": [],
   "source": [
    "p_repet_top_20_TE = p_repet_top_20['TE']"
   ]
  },
  {
   "cell_type": "code",
   "execution_count": 143,
   "metadata": {
    "collapsed": false
   },
   "outputs": [
    {
     "data": {
      "text/plain": [
       "['DXX_MCL2',\n",
       " 'DTX-incomp_MCL9',\n",
       " 'DXX_MCL287',\n",
       " 'noCat_MCL102',\n",
       " 'RLX-comp_MCL8',\n",
       " 'DTX-incomp_MCL78',\n",
       " 'DTX-incomp_MCL75',\n",
       " 'RLX-incomp_MCL10',\n",
       " 'DTX-comp_MCL40',\n",
       " 'RLX-incomp-chim_MCL20',\n",
       " 'DTX-incomp_MCL16',\n",
       " 'RLX-incomp_MCL2',\n",
       " 'DTX-incomp-chim_MCL2',\n",
       " 'RXX-LARD-chim_MCL69',\n",
       " 'RLX-comp_MCL39',\n",
       " 'RYX-comp-chim_MCL293',\n",
       " 'RLX-incomp_MCL81',\n",
       " 'RLX-comp_MCL215',\n",
       " 'DTX-incomp_MCL38',\n",
       " 'RLX-incomp_MCL18']"
      ]
     },
     "execution_count": 143,
     "metadata": {},
     "output_type": "execute_result"
    }
   ],
   "source": [
    "['_'.join(x.split('_')[:2]) for x in p_repet_top_20_TE]"
   ]
  },
  {
   "cell_type": "raw",
   "metadata": {},
   "source": [
    "p_repet_gff needs to be filtered to remove all the the high coverage contigs and such\n",
    "the filters are located in this folder\n",
    "/home/benjamin/genome_assembly/PST79/FALCON/p_assemblies/v9_1/032017_assembly"
   ]
  },
  {
   "cell_type": "code",
   "execution_count": 13,
   "metadata": {
    "collapsed": true
   },
   "outputs": [],
   "source": [
    "#now filter the gff dataframe to delete all the high coverage contigs\n",
    "#This might would have to be fixed as well. If we don't delete it as files should be already filtered\n",
    "contigs_smaller_2000 = pd.read_csv('/home/benjamin/genome_assembly/PST79/FALCON/p_assemblies/v9_1/032017_assembly/pcontig_smaller_2000.txt',\\\n",
    "                                  header=None)[0].tolist()"
   ]
  },
  {
   "cell_type": "code",
   "execution_count": 136,
   "metadata": {
    "collapsed": false
   },
   "outputs": [],
   "source": [
    "p_repet_gff_filtered = p_repet_gff[p_repet_gff[0].isin(contigs_smaller_2000)].reset_index(drop=True)"
   ]
  },
  {
   "cell_type": "code",
   "execution_count": 15,
   "metadata": {
    "collapsed": false
   },
   "outputs": [],
   "source": [
    "def ID_filter_gff(_feature, _id):\n",
    "    \"\"\"\n",
    "    This filter parses out the top level id form the 9th gff column form a REPET gff file.\n",
    "    It has a specific search pattern for each feature type in column 2.\n",
    "    _type is defined by the feature '_'.join(feature.split(\"_\")[-2:])\n",
    "    \"\"\"\n",
    "    _type = '_'.join(_feature.split(\"_\")[-2:])\n",
    "    if _type == 'REPET_TEs':\n",
    "\n",
    "        TE_pattern = 'ID=[A-Z,a-z,0-9,-]*_[A-Z,a-z,0-9]*_[0-9]*_([A-Z,a-z,0-9,-]*_[A-Z,a-z,0-9,-]*)_'\n",
    "        TE_prog = re.compile(TE_pattern)\n",
    "        TE_match = TE_prog.search(_id)\n",
    "        return TE_match.group(1)\n",
    "    if _type == 'REPET_SSRs':\n",
    "        \n",
    "        SSR_pattern = 'ID=[A-Z,a-z,0-9,-]*_[A-Z,a-z,0-9]*_[0-9]*_([A-Z,a-z,0-9,-]*)'\n",
    "        SSR_prog = re.compile(SSR_pattern)\n",
    "        SSR_match = SSR_prog.search(_id)\n",
    "        return SSR_match.group(1)\n",
    "    if _type == 'REPET_tblastx' or _type == 'REPET_blastx':\n",
    "        #if \"#\" in _id:\n",
    "        #     blast_pattern = 'ID=[A-Z,a-z,0-9,-]*_[A-Z,a-z,0-9]*_[0-9]*_([A-Z,a-z,0-9,-]*[_]?[A-Z,a-z,0-9,-]*[_|#|0-9]+?:[A-Z,a-z,0-9,-,:]*)'\n",
    "        #else:\n",
    "        #    blast_pattern = r'ID=[A-Z,a-z,0-9,-]*_[A-Z,a-z,0-9]*_[0-9]*_([\\w+|:|-]*)'\n",
    "        blast_prog = re.compile(r'ID=[A-Z,a-z,0-9,-]*_[A-Z,a-z,0-9]*_[0-9]*_([^;| ]*)')\n",
    "        #blast_prog = re.compile(blast_pattern)\n",
    "        blast_match = blast_prog.search(_id)\n",
    "        return blast_match.group(1)\n"
   ]
  },
  {
   "cell_type": "code",
   "execution_count": 137,
   "metadata": {
    "collapsed": false
   },
   "outputs": [],
   "source": [
    "p_repet_gff_filtered['ID'] = p_repet_gff_filtered.apply(lambda row: ID_filter_gff(row[1], row[8]), axis=1)"
   ]
  },
  {
   "cell_type": "code",
   "execution_count": 138,
   "metadata": {
    "collapsed": false
   },
   "outputs": [],
   "source": [
    "#filter out potential host genes\n",
    "p_repet_gff_filtered = p_repet_gff_filtered[~p_repet_gff_filtered[8].str.contains(\"Potential\")]"
   ]
  },
  {
   "cell_type": "code",
   "execution_count": 141,
   "metadata": {
    "collapsed": false
   },
   "outputs": [
    {
     "data": {
      "text/html": [
       "<div>\n",
       "<table border=\"1\" class=\"dataframe\">\n",
       "  <thead>\n",
       "    <tr style=\"text-align: right;\">\n",
       "      <th></th>\n",
       "      <th>0</th>\n",
       "      <th>1</th>\n",
       "      <th>2</th>\n",
       "      <th>3</th>\n",
       "      <th>4</th>\n",
       "      <th>5</th>\n",
       "      <th>6</th>\n",
       "      <th>7</th>\n",
       "      <th>8</th>\n",
       "      <th>ID</th>\n",
       "    </tr>\n",
       "  </thead>\n",
       "  <tbody>\n",
       "    <tr>\n",
       "      <th>0</th>\n",
       "      <td>pcontig_193</td>\n",
       "      <td>Pst79p_anno_REPET_TEs</td>\n",
       "      <td>match</td>\n",
       "      <td>54973</td>\n",
       "      <td>55495</td>\n",
       "      <td>0.0</td>\n",
       "      <td>-</td>\n",
       "      <td>.</td>\n",
       "      <td>ID=ms7308_pcontig_193_DTX-incomp-chim_MCL5_Pst...</td>\n",
       "      <td>DTX-incomp-chim_MCL5</td>\n",
       "    </tr>\n",
       "    <tr>\n",
       "      <th>1</th>\n",
       "      <td>pcontig_193</td>\n",
       "      <td>Pst79p_anno_REPET_TEs</td>\n",
       "      <td>match_part</td>\n",
       "      <td>54973</td>\n",
       "      <td>55495</td>\n",
       "      <td>0.0</td>\n",
       "      <td>-</td>\n",
       "      <td>.</td>\n",
       "      <td>ID=mp7308-1_pcontig_193_DTX-incomp-chim_MCL5_P...</td>\n",
       "      <td>DTX-incomp-chim_MCL5</td>\n",
       "    </tr>\n",
       "    <tr>\n",
       "      <th>2</th>\n",
       "      <td>pcontig_193</td>\n",
       "      <td>Pst79p_anno_REPET_TEs</td>\n",
       "      <td>match</td>\n",
       "      <td>359</td>\n",
       "      <td>1264</td>\n",
       "      <td>0.0</td>\n",
       "      <td>-</td>\n",
       "      <td>.</td>\n",
       "      <td>ID=ms7309_pcontig_193_DTX-incomp_MCL9_Pst79_RE...</td>\n",
       "      <td>DTX-incomp_MCL9</td>\n",
       "    </tr>\n",
       "    <tr>\n",
       "      <th>3</th>\n",
       "      <td>pcontig_193</td>\n",
       "      <td>Pst79p_anno_REPET_TEs</td>\n",
       "      <td>match_part</td>\n",
       "      <td>359</td>\n",
       "      <td>1264</td>\n",
       "      <td>0.0</td>\n",
       "      <td>-</td>\n",
       "      <td>.</td>\n",
       "      <td>ID=mp7309-1_pcontig_193_DTX-incomp_MCL9_Pst79_...</td>\n",
       "      <td>DTX-incomp_MCL9</td>\n",
       "    </tr>\n",
       "    <tr>\n",
       "      <th>4</th>\n",
       "      <td>pcontig_193</td>\n",
       "      <td>Pst79p_anno_REPET_TEs</td>\n",
       "      <td>match</td>\n",
       "      <td>1430</td>\n",
       "      <td>3581</td>\n",
       "      <td>0.0</td>\n",
       "      <td>-</td>\n",
       "      <td>.</td>\n",
       "      <td>ID=ms7310_pcontig_193_DTX-incomp_MCL9_Pst79_RE...</td>\n",
       "      <td>DTX-incomp_MCL9</td>\n",
       "    </tr>\n",
       "  </tbody>\n",
       "</table>\n",
       "</div>"
      ],
      "text/plain": [
       "             0                      1           2      3      4    5  6  7  \\\n",
       "0  pcontig_193  Pst79p_anno_REPET_TEs       match  54973  55495  0.0  -  .   \n",
       "1  pcontig_193  Pst79p_anno_REPET_TEs  match_part  54973  55495  0.0  -  .   \n",
       "2  pcontig_193  Pst79p_anno_REPET_TEs       match    359   1264  0.0  -  .   \n",
       "3  pcontig_193  Pst79p_anno_REPET_TEs  match_part    359   1264  0.0  -  .   \n",
       "4  pcontig_193  Pst79p_anno_REPET_TEs       match   1430   3581  0.0  -  .   \n",
       "\n",
       "                                                   8                    ID  \n",
       "0  ID=ms7308_pcontig_193_DTX-incomp-chim_MCL5_Pst...  DTX-incomp-chim_MCL5  \n",
       "1  ID=mp7308-1_pcontig_193_DTX-incomp-chim_MCL5_P...  DTX-incomp-chim_MCL5  \n",
       "2  ID=ms7309_pcontig_193_DTX-incomp_MCL9_Pst79_RE...       DTX-incomp_MCL9  \n",
       "3  ID=mp7309-1_pcontig_193_DTX-incomp_MCL9_Pst79_...       DTX-incomp_MCL9  \n",
       "4  ID=ms7310_pcontig_193_DTX-incomp_MCL9_Pst79_RE...       DTX-incomp_MCL9  "
      ]
     },
     "execution_count": 141,
     "metadata": {},
     "output_type": "execute_result"
    }
   ],
   "source": [
    "p_repet_gff_filtered.head()"
   ]
  },
  {
   "cell_type": "code",
   "execution_count": 147,
   "metadata": {
    "collapsed": false
   },
   "outputs": [],
   "source": [
    "p_repet_gff_2 = p_repet_gff_filtered.loc[:,:]"
   ]
  },
  {
   "cell_type": "code",
   "execution_count": 148,
   "metadata": {
    "collapsed": false
   },
   "outputs": [],
   "source": [
    "p_repet_gff_2.drop_duplicates(subset=[3,5,'ID'], inplace=True)"
   ]
  },
  {
   "cell_type": "code",
   "execution_count": 150,
   "metadata": {
    "collapsed": false
   },
   "outputs": [],
   "source": [
    "p_repet_gff_2['Length'] = p_repet_gff_2[4] - p_repet_gff_2[3]"
   ]
  },
  {
   "cell_type": "code",
   "execution_count": 151,
   "metadata": {
    "collapsed": true
   },
   "outputs": [],
   "source": [
    "p_repet_gff_len = p_repet_gff_2.groupby('ID')['Length'].sum()"
   ]
  },
  {
   "cell_type": "code",
   "execution_count": 161,
   "metadata": {
    "collapsed": false
   },
   "outputs": [
    {
     "data": {
      "text/plain": [
       "ID\n",
       "hAT-5_PSt:ClassII:TIR:hAT             1143889\n",
       "Academ-1_PGr:ClassII:?:Academ          872967\n",
       "Gypsy-17_PGr-I_1p:ClassI:LTR:Gypsy     509470\n",
       "Gypsy-17_PGr-I:ClassI:LTR:Gypsy        467152\n",
       "hAT-8_PGr:ClassII:TIR:hAT              466774\n",
       "RLX-incomp_MCL2                        427055\n",
       "Academ-1_PGr_1p:ClassII:?:Academ       422204\n",
       "Academ-1_PGr_2p:ClassII:?:Academ       420384\n",
       "LTR-3_PSt-LTR:ClassI:LTR:?             419063\n",
       "RLX-incomp_MCL10                       413336\n",
       "Gypsy-19_PGr-I:ClassI:LTR:Gypsy        410923\n",
       "DTX-incomp_MCL9                        406598\n",
       "DXX_MCL2                               368749\n",
       "Gypsy-19_PGr-I_2p:ClassI:LTR:Gypsy     365840\n",
       "Gypsy-12_PGr-I:ClassI:LTR:Gypsy        361278\n",
       "DNA-9_PSt:ClassII:?:?                  351613\n",
       "Gypsy-3_PSt-I:ClassI:LTR:Gypsy         349446\n",
       "Gypsy-22_PGr-I_1p:ClassI:LTR:Gypsy     348956\n",
       "MuDR-3_PGr_1p:ClassII:TIR:MuDR         344261\n",
       "Gypsy-7_PSt-I:ClassI:LTR:Gypsy         333505\n",
       "Name: Length, dtype: int64"
      ]
     },
     "execution_count": 161,
     "metadata": {},
     "output_type": "execute_result"
    }
   ],
   "source": [
    "p_repet_gff_len.sort_values(ascending=False)[:20]"
   ]
  },
  {
   "cell_type": "code",
   "execution_count": null,
   "metadata": {
    "collapsed": true
   },
   "outputs": [],
   "source": []
  },
  {
   "cell_type": "code",
   "execution_count": null,
   "metadata": {
    "collapsed": true
   },
   "outputs": [],
   "source": []
  },
  {
   "cell_type": "code",
   "execution_count": 18,
   "metadata": {
    "collapsed": false
   },
   "outputs": [],
   "source": [
    "num_unique_REs = len(p_repet_gff_filtered['ID'].unique())"
   ]
  },
  {
   "cell_type": "code",
   "execution_count": 19,
   "metadata": {
    "collapsed": false
   },
   "outputs": [
    {
     "name": "stdout",
     "output_type": "stream",
     "text": [
      "This is the number of unique repetitive elements: 48659\n"
     ]
    }
   ],
   "source": [
    "print('This is the number of unique repetitive elements: %i' % num_unique_REs)"
   ]
  },
  {
   "cell_type": "code",
   "execution_count": 20,
   "metadata": {
    "collapsed": false
   },
   "outputs": [],
   "source": [
    "frequency_of_REs  = p_repet_gff_filtered.groupby('ID')[0].count()"
   ]
  },
  {
   "cell_type": "code",
   "execution_count": 21,
   "metadata": {
    "collapsed": false
   },
   "outputs": [],
   "source": [
    "frequency_of_REs.sort_values(inplace=True)"
   ]
  },
  {
   "cell_type": "code",
   "execution_count": 22,
   "metadata": {
    "collapsed": true
   },
   "outputs": [],
   "source": [
    "p_repet_gff_filtered.to_csv(out_dir+'/'+genome+'.REPET.filtered.gff', sep='\\t', header = None, index=None,columns=None)"
   ]
  },
  {
   "cell_type": "code",
   "execution_count": 23,
   "metadata": {
    "collapsed": true
   },
   "outputs": [],
   "source": [
    "p_repet_gff_filtered[8] = p_repet_gff_filtered['ID']"
   ]
  },
  {
   "cell_type": "code",
   "execution_count": 24,
   "metadata": {
    "collapsed": false
   },
   "outputs": [],
   "source": [
    "p_repet_gff_filtered_2 = p_repet_gff_filtered.iloc[:,0:9]"
   ]
  },
  {
   "cell_type": "code",
   "execution_count": 25,
   "metadata": {
    "collapsed": true
   },
   "outputs": [],
   "source": [
    "p_repet_gff_filtered_2.to_csv(out_dir+'/'+genome+'.REPET.ID_column.gff', sep='\\t', header = None, index=None,columns=None)"
   ]
  },
  {
   "cell_type": "code",
   "execution_count": 26,
   "metadata": {
    "collapsed": false
   },
   "outputs": [],
   "source": [
    "#have another dataframe that only contains the REPET denovo annotation and not blast hits\n",
    "#repet_gff_filtered_TEs = p_repet_gff_filtered_2[~p_repet_gff_filtered_2[1].str.contains('blast')]"
   ]
  },
  {
   "cell_type": "code",
   "execution_count": 27,
   "metadata": {
    "collapsed": true
   },
   "outputs": [],
   "source": [
    "#get all the 'Code' phrases blast hits and make a blast_code_dict\n",
    "#this needs to get the subsetting filters set for different dataframes\n",
    "\n",
    "blast_codes = p_repet_gff_filtered_2[(p_repet_gff_filtered_2[1]=='Pst79p_anno_REPET_tblastx') | (p_repet_gff_filtered_2[1]=='Pst79p_anno_REPET_blastx')][8]\n",
    "\n",
    "blast_codes_list = [ ':'.join(x.split(':')[1:-1]) for x in blast_codes.unique()]\n",
    "\n",
    "blast_codes_list_unique = list(set(blast_codes_list))\n",
    "\n",
    "blast_codes_list_unique.sort()\n",
    "\n",
    "blast_codes_list_unique\n",
    "\n",
    "blast_code_long = ['Retrotransposon noCat', 'Retrotransposon DIRS', 'Retrotransposon LINE', 'Retrotransposon LTR', 'Retrotransposon PLE','DNA_transposon noCat',\\\n",
    "                   'DNA_transposon Crypton','DNA_transposon Helitron','DNA_transposon Maverick','DNA_transposon TIR']\n",
    "\n",
    "blast_code_dict = dict(zip(blast_codes_list_unique, blast_code_long))\n"
   ]
  },
  {
   "cell_type": "code",
   "execution_count": 120,
   "metadata": {
    "collapsed": true
   },
   "outputs": [],
   "source": [
    "blast_codes_list_subclass = [ ':'.join(x.split(':')[1:]) for x in blast_codes.unique()]"
   ]
  },
  {
   "cell_type": "code",
   "execution_count": null,
   "metadata": {
    "collapsed": true
   },
   "outputs": [],
   "source": [
    "#make a dataframe with only the blast hits as occurance and use this to generate a coverage plot."
   ]
  },
  {
   "cell_type": "code",
   "execution_count": 134,
   "metadata": {
    "collapsed": false
   },
   "outputs": [
    {
     "data": {
      "text/html": [
       "<div>\n",
       "<table border=\"1\" class=\"dataframe\">\n",
       "  <thead>\n",
       "    <tr style=\"text-align: right;\">\n",
       "      <th></th>\n",
       "      <th>0</th>\n",
       "      <th>1</th>\n",
       "      <th>2</th>\n",
       "      <th>3</th>\n",
       "      <th>4</th>\n",
       "      <th>5</th>\n",
       "      <th>6</th>\n",
       "      <th>7</th>\n",
       "      <th>8</th>\n",
       "      <th>ID</th>\n",
       "    </tr>\n",
       "  </thead>\n",
       "  <tbody>\n",
       "    <tr>\n",
       "      <th>0</th>\n",
       "      <td>pcontig_193</td>\n",
       "      <td>Pst79p_anno_REPET_TEs</td>\n",
       "      <td>match</td>\n",
       "      <td>54973</td>\n",
       "      <td>55495</td>\n",
       "      <td>0.0</td>\n",
       "      <td>-</td>\n",
       "      <td>.</td>\n",
       "      <td>DTX-incomp-chim_MCL5</td>\n",
       "      <td>DTX-incomp-chim_MCL5</td>\n",
       "    </tr>\n",
       "    <tr>\n",
       "      <th>1</th>\n",
       "      <td>pcontig_193</td>\n",
       "      <td>Pst79p_anno_REPET_TEs</td>\n",
       "      <td>match_part</td>\n",
       "      <td>54973</td>\n",
       "      <td>55495</td>\n",
       "      <td>0.0</td>\n",
       "      <td>-</td>\n",
       "      <td>.</td>\n",
       "      <td>DTX-incomp-chim_MCL5</td>\n",
       "      <td>DTX-incomp-chim_MCL5</td>\n",
       "    </tr>\n",
       "    <tr>\n",
       "      <th>2</th>\n",
       "      <td>pcontig_193</td>\n",
       "      <td>Pst79p_anno_REPET_TEs</td>\n",
       "      <td>match</td>\n",
       "      <td>359</td>\n",
       "      <td>1264</td>\n",
       "      <td>0.0</td>\n",
       "      <td>-</td>\n",
       "      <td>.</td>\n",
       "      <td>DTX-incomp_MCL9</td>\n",
       "      <td>DTX-incomp_MCL9</td>\n",
       "    </tr>\n",
       "    <tr>\n",
       "      <th>3</th>\n",
       "      <td>pcontig_193</td>\n",
       "      <td>Pst79p_anno_REPET_TEs</td>\n",
       "      <td>match_part</td>\n",
       "      <td>359</td>\n",
       "      <td>1264</td>\n",
       "      <td>0.0</td>\n",
       "      <td>-</td>\n",
       "      <td>.</td>\n",
       "      <td>DTX-incomp_MCL9</td>\n",
       "      <td>DTX-incomp_MCL9</td>\n",
       "    </tr>\n",
       "    <tr>\n",
       "      <th>4</th>\n",
       "      <td>pcontig_193</td>\n",
       "      <td>Pst79p_anno_REPET_TEs</td>\n",
       "      <td>match</td>\n",
       "      <td>1430</td>\n",
       "      <td>3581</td>\n",
       "      <td>0.0</td>\n",
       "      <td>-</td>\n",
       "      <td>.</td>\n",
       "      <td>DTX-incomp_MCL9</td>\n",
       "      <td>DTX-incomp_MCL9</td>\n",
       "    </tr>\n",
       "  </tbody>\n",
       "</table>\n",
       "</div>"
      ],
      "text/plain": [
       "             0                      1           2      3      4    5  6  7  \\\n",
       "0  pcontig_193  Pst79p_anno_REPET_TEs       match  54973  55495  0.0  -  .   \n",
       "1  pcontig_193  Pst79p_anno_REPET_TEs  match_part  54973  55495  0.0  -  .   \n",
       "2  pcontig_193  Pst79p_anno_REPET_TEs       match    359   1264  0.0  -  .   \n",
       "3  pcontig_193  Pst79p_anno_REPET_TEs  match_part    359   1264  0.0  -  .   \n",
       "4  pcontig_193  Pst79p_anno_REPET_TEs       match   1430   3581  0.0  -  .   \n",
       "\n",
       "                      8                    ID  \n",
       "0  DTX-incomp-chim_MCL5  DTX-incomp-chim_MCL5  \n",
       "1  DTX-incomp-chim_MCL5  DTX-incomp-chim_MCL5  \n",
       "2       DTX-incomp_MCL9       DTX-incomp_MCL9  \n",
       "3       DTX-incomp_MCL9       DTX-incomp_MCL9  \n",
       "4       DTX-incomp_MCL9       DTX-incomp_MCL9  "
      ]
     },
     "execution_count": 134,
     "metadata": {},
     "output_type": "execute_result"
    }
   ],
   "source": [
    "p_repet_gff_filtered.head()"
   ]
  },
  {
   "cell_type": "code",
   "execution_count": null,
   "metadata": {
    "collapsed": true
   },
   "outputs": [],
   "source": []
  },
  {
   "cell_type": "code",
   "execution_count": null,
   "metadata": {
    "collapsed": true
   },
   "outputs": [],
   "source": []
  },
  {
   "cell_type": "code",
   "execution_count": null,
   "metadata": {
    "collapsed": true
   },
   "outputs": [],
   "source": []
  },
  {
   "cell_type": "code",
   "execution_count": 28,
   "metadata": {
    "collapsed": false
   },
   "outputs": [
    {
     "data": {
      "text/plain": [
       "{'ClassI:?': 'Retrotransposon noCat',\n",
       " 'ClassI:DIRS': 'Retrotransposon DIRS',\n",
       " 'ClassI:LINE': 'Retrotransposon LINE',\n",
       " 'ClassI:LTR': 'Retrotransposon LTR',\n",
       " 'ClassI:PLE': 'Retrotransposon PLE',\n",
       " 'ClassII:?': 'DNA_transposon noCat',\n",
       " 'ClassII:Crypton': 'DNA_transposon Crypton',\n",
       " 'ClassII:Helitron': 'DNA_transposon Helitron',\n",
       " 'ClassII:Maverick': 'DNA_transposon Maverick',\n",
       " 'ClassII:TIR': 'DNA_transposon TIR'}"
      ]
     },
     "execution_count": 28,
     "metadata": {},
     "output_type": "execute_result"
    }
   ],
   "source": [
    "blast_code_dict"
   ]
  },
  {
   "cell_type": "code",
   "execution_count": 29,
   "metadata": {
    "collapsed": true
   },
   "outputs": [],
   "source": [
    "#write a filer function that adds a 'code long'"
   ]
  },
  {
   "cell_type": "code",
   "execution_count": 30,
   "metadata": {
    "collapsed": true
   },
   "outputs": [],
   "source": [
    "def code_long_filter_gff(_feature, _id):\n",
    "    \"\"\"\n",
    "    This filter parses out Order and class of the TE based on Wicker et al. using the previously generated ID column. \n",
    "    It has a specific search pattern for each feature type in column 2.\n",
    "    _type is defined by the feature '_'.join(feature.split(\"_\")[-2:])\n",
    "    \"\"\"\n",
    "    _type = '_'.join(_feature.split(\"_\")[-2:])\n",
    "    if _type == 'REPET_TEs':\n",
    "        #split the \n",
    "        code = _id.split('_')[0]\n",
    "        return code_dict[code]\n",
    "    if _type == 'REPET_SSRs':\n",
    "        return 'SSR'\n",
    "    if _type == 'REPET_tblastx' or _type == 'REPET_blastx':\n",
    "        code = ':'.join(_id.split(':')[1:-1])\n",
    "        return blast_code_dict[code]"
   ]
  },
  {
   "cell_type": "code",
   "execution_count": 31,
   "metadata": {
    "collapsed": false
   },
   "outputs": [],
   "source": [
    "p_repet_gff_filtered_2['Classification'] = p_repet_gff_filtered_2.apply(lambda row: code_long_filter_gff(row[1], row[8]), axis=1)"
   ]
  },
  {
   "cell_type": "code",
   "execution_count": 32,
   "metadata": {
    "collapsed": false
   },
   "outputs": [
    {
     "data": {
      "text/plain": [
       "array(['DNA_transposon TIR', 'Retrotransposon DIRS', 'Retrotransposon LTR',\n",
       "       'SSR', 'DNA_transposon noCat', 'DNA_transposon MITE',\n",
       "       'Retrotransposon LARD', 'Retrotransposon SINE', 'noCat',\n",
       "       'DNA_transposon Helitron', 'DNA_transposon Maverick',\n",
       "       'Retrotransposon LINE', 'Retrotransposon TRIM',\n",
       "       'Retrotransposon noCat', 'Retrotransposon PLE',\n",
       "       'DNA_transposon Crypton'], dtype=object)"
      ]
     },
     "execution_count": 32,
     "metadata": {},
     "output_type": "execute_result"
    }
   ],
   "source": [
    "p_repet_gff_filtered_2[\"Classification\"].unique()"
   ]
  },
  {
   "cell_type": "code",
   "execution_count": 33,
   "metadata": {
    "collapsed": false
   },
   "outputs": [],
   "source": [
    "#in the .classificaiton gff the feature column 2 is the Wicker classification of the transposon\n",
    "p_repet_gff_filtered_2[8] = p_repet_gff_filtered_2['Classification'] \n",
    "#repet_gff_filtered_TEs[1] = repet_gff_filtered_TEs[\"Classification\"]"
   ]
  },
  {
   "cell_type": "code",
   "execution_count": 34,
   "metadata": {
    "collapsed": false
   },
   "outputs": [],
   "source": [
    "p_repet_gff_filtered_2.iloc[:,:-1].to_csv(out_dir+'/'+genome+'.REPET.classification.gff', sep='\\t', header = None, index=None,columns=None)"
   ]
  },
  {
   "cell_type": "code",
   "execution_count": 35,
   "metadata": {
    "collapsed": false
   },
   "outputs": [],
   "source": [
    "#save the no_blast hit REPET gff as well.\n",
    "p_repet_gff_filtered_2[~p_repet_gff_filtered_2[1].str.contains('blast')].iloc[:,:-1].to_csv(out_dir+'/'+genome+'.REPET_noblast.classification.gff', sep='\\t', header = None, index=None,columns=None)"
   ]
  },
  {
   "cell_type": "code",
   "execution_count": 118,
   "metadata": {
    "collapsed": true
   },
   "outputs": [],
   "source": [
    "#save the no_blast hit REPET gff as well.\n",
    "p_repet_gff_filtered_2[p_repet_gff_filtered_2[1].str.contains('blast')].iloc[:,:-1].to_csv(out_dir+'/'+genome+'.REPET_blast.classification.gff', sep='\\t', header = None, index=None,columns=None)"
   ]
  },
  {
   "cell_type": "code",
   "execution_count": 36,
   "metadata": {
    "collapsed": true
   },
   "outputs": [],
   "source": [
    "#write a similar filter as before using bedtools to move through all the classifications and caclulate coverage\n",
    "#summarize this in a table and compare to published stuff"
   ]
  },
  {
   "cell_type": "code",
   "execution_count": 37,
   "metadata": {
    "collapsed": true
   },
   "outputs": [],
   "source": [
    "#generate the directory structure to safe specific coverage files\n",
    "os.chdir(out_dir)\n",
    "TE_types = ['Retrotransposon', 'DNA_transposon', 'noCat', 'SSR']\n",
    "TE_path = [os.path.join(out_dir, x) for x in TE_types]\n",
    "TE_path_dict = dict(zip(TE_types, TE_path))\n",
    "for TE_type in TE_types:\n",
    "    new_path = os.path.join(out_dir, TE_type)\n",
    "    if not os.path.exists(new_path):\n",
    "        os.mkdir(new_path)"
   ]
  },
  {
   "cell_type": "code",
   "execution_count": 38,
   "metadata": {
    "collapsed": true
   },
   "outputs": [],
   "source": [
    "repet_prefix = genome+'.REPET.classification'\n",
    "p_genome_file = genome+'.genome_file'"
   ]
  },
  {
   "cell_type": "code",
   "execution_count": 39,
   "metadata": {
    "collapsed": true
   },
   "outputs": [],
   "source": [
    "# Next, we create a function to pass only features for a particular\n",
    "# featuretype.  This is similar to a \"grep\" operation when applied to every\n",
    "# feature in a BedTool\n",
    "def id_filter_classification(feature, _id):\n",
    "    if feature[8] == _id:\n",
    "        return True\n",
    "    return False"
   ]
  },
  {
   "cell_type": "code",
   "execution_count": 49,
   "metadata": {
    "collapsed": false
   },
   "outputs": [],
   "source": [
    "# subset the id and safe in specific folder\n",
    "# return the subsetted file as bedtool\n",
    "def subset_id_classification(_id, bed_object):\n",
    "    #retrotransposon \n",
    "    if 'Retrotransposon' in _id:\n",
    "        out_path = TE_path_dict['Retrotransposon']   \n",
    "    #DNA_transponson\n",
    "    elif 'DNA_transposon' in _id:\n",
    "        out_path = TE_path_dict['DNA_transposon'] \n",
    "    #notCat \n",
    "    elif 'noCat' in _id:\n",
    "        out_path = TE_path_dict['noCat']\n",
    "    #SSR\n",
    "    elif 'SSR' in _id:\n",
    "        out_path = TE_path_dict['SSR']\n",
    "    repet_prefix = genome+ '.'+bed_object.fn.split('.')[-3] + '.classification'\n",
    "    out_fn = out_path+'/'+repet_prefix+'.'+_id+'.gff'\n",
    "    out_fn= out_fn.replace(\" \", '_')\n",
    "    result = bed_object.filter(id_filter_classification, _id).saveas(out_fn)\n",
    "    cov_fn = out_fn.replace('gff','cov')\n",
    "    cov = result.genome_coverage(dz=True,g=p_genome_file)\n",
    "    cov.saveas(cov_fn)\n",
    "    print(\"Done with %s using %s as bedfile \" % (out_fn.split('/')[-1], bed_object.fn.split('/')[-1]))\n",
    "    #return pybedtools.BedTool(result.fn)"
   ]
  },
  {
   "cell_type": "code",
   "execution_count": 41,
   "metadata": {
    "collapsed": false
   },
   "outputs": [],
   "source": [
    "#pull in the classification gff, make classification array, loop over array to save all the cov_dataframes\n",
    "RE_id_gff = pybedtools.BedTool(out_dir+'/'+genome+'.REPET.classification.gff')\n",
    "g = RE_id_gff.remove_invalid().saveas(out_dir+'/'+genome+'.REPET.classification.bedobject')\n",
    "#use the blast filtered dataframe as well\n",
    "RE_id_gff_noblast = pybedtools.BedTool(out_dir+'/'+genome+'.REPET_noblast.classification.gff')\n",
    "g_noblast = RE_id_gff_noblast.remove_invalid().saveas(out_dir+'/'+genome+'.REPET_noblast.classification.bedobject')"
   ]
  },
  {
   "cell_type": "code",
   "execution_count": 119,
   "metadata": {
    "collapsed": true
   },
   "outputs": [],
   "source": [
    "#use the blast filtered dataframe as well\n",
    "RE_id_gff_blast = pybedtools.BedTool(out_dir+'/'+genome+'.REPET_blast.classification.gff')\n",
    "g_blast = RE_id_gff_blast.remove_invalid().saveas(out_dir+'/'+genome+'.REPET_blast.classification.bedobject')"
   ]
  },
  {
   "cell_type": "code",
   "execution_count": 42,
   "metadata": {
    "collapsed": false
   },
   "outputs": [],
   "source": [
    "#filter through the whole REPET_TE bedobject\n",
    "#maybe make some multiproccesses out of this\n",
    "classifications = p_repet_gff_filtered_2[\"Classification\"].unique()\n",
    "#[subset_id_classification(x, g) for x in classifications]"
   ]
  },
  {
   "cell_type": "code",
   "execution_count": 43,
   "metadata": {
    "collapsed": true
   },
   "outputs": [
    {
     "name": "stdout",
     "output_type": "stream",
     "text": [
      "Process-1.exitcode = None\n",
      "Process-2.exitcode = None\n",
      "Process-3.exitcode = None\n",
      "Process-4.exitcode = None\n",
      "Process-5.exitcode = None\n",
      "Process-6.exitcode = None\n",
      "Process-7.exitcode = None\n",
      "Process-8.exitcode = None\n",
      "Process-9.exitcode = None\n",
      "Process-10.exitcode = None\n",
      "Process-11.exitcode = None\n",
      "Process-12.exitcode = None\n",
      "Process-13.exitcode = None\n",
      "Process-14.exitcode = None\n",
      "Process-15.exitcode = None\n",
      "Process-16.exitcode = None\n",
      "Done with Pst_104E_v12_p_ctg.REPET.classification.Retrotransposon_SINE.gff using Pst_104E_v12_p_ctg.REPET.classification.bedobject as bedfile \n",
      "Done with Pst_104E_v12_p_ctg.REPET.classification.DNA_transposon_Crypton.gff using Pst_104E_v12_p_ctg.REPET.classification.bedobject as bedfile \n",
      "Done with Pst_104E_v12_p_ctg.REPET.classification.Retrotransposon_PLE.gff using Pst_104E_v12_p_ctg.REPET.classification.bedobject as bedfile \n",
      "Done with Pst_104E_v12_p_ctg.REPET.classification.Retrotransposon_noCat.gff using Pst_104E_v12_p_ctg.REPET.classification.bedobject as bedfile \n",
      "Done with Pst_104E_v12_p_ctg.REPET.classification.Retrotransposon_TRIM.gff using Pst_104E_v12_p_ctg.REPET.classification.bedobject as bedfile \n",
      "Done with Pst_104E_v12_p_ctg.REPET.classification.Retrotransposon_LINE.gff using Pst_104E_v12_p_ctg.REPET.classification.bedobject as bedfile \n",
      "Done with Pst_104E_v12_p_ctg.REPET.classification.DNA_transposon_Maverick.gff using Pst_104E_v12_p_ctg.REPET.classification.bedobject as bedfile \n",
      "Waiting for Subset_id_classification to finish!\n",
      "Done with Pst_104E_v12_p_ctg.REPET.classification.DNA_transposon_MITE.gff using Pst_104E_v12_p_ctg.REPET.classification.bedobject as bedfile \n",
      "Done with Pst_104E_v12_p_ctg.REPET.classification.noCat.gff using Pst_104E_v12_p_ctg.REPET.classification.bedobject as bedfile \n",
      "Done with Pst_104E_v12_p_ctg.REPET.classification.DNA_transposon_Helitron.gff using Pst_104E_v12_p_ctg.REPET.classification.bedobject as bedfile \n",
      "Done with Pst_104E_v12_p_ctg.REPET.classification.Retrotransposon_DIRS.gff using Pst_104E_v12_p_ctg.REPET.classification.bedobject as bedfile \n",
      "Done with Pst_104E_v12_p_ctg.REPET.classification.SSR.gff using Pst_104E_v12_p_ctg.REPET.classification.bedobject as bedfile \n",
      "Waiting for Subset_id_classification to finish!\n",
      "Done with Pst_104E_v12_p_ctg.REPET.classification.DNA_transposon_noCat.gff using Pst_104E_v12_p_ctg.REPET.classification.bedobject as bedfile \n",
      "Waiting for Subset_id_classification to finish!\n",
      "Done with Pst_104E_v12_p_ctg.REPET.classification.Retrotransposon_LARD.gff using Pst_104E_v12_p_ctg.REPET.classification.bedobject as bedfile \n",
      "Waiting for Subset_id_classification to finish!\n",
      "Done with Pst_104E_v12_p_ctg.REPET.classification.DNA_transposon_TIR.gff using Pst_104E_v12_p_ctg.REPET.classification.bedobject as bedfile \n",
      "Waiting for Subset_id_classification to finish!\n",
      "Done with Pst_104E_v12_p_ctg.REPET.classification.Retrotransposon_LTR.gff using Pst_104E_v12_p_ctg.REPET.classification.bedobject as bedfile \n",
      "Waiting for Subset_id_classification to finish!\n",
      "All Subset_id_classifications done!\n"
     ]
    }
   ],
   "source": [
    "#use multiprocessing to do the bedcov genome coverage per classification. Keep track if everything is already done.\n",
    "jobs = []\n",
    "bed_file = g\n",
    "for classi in classifications:\n",
    "    p = multiprocessing.Process(target=subset_id_classification, args=(classi, bed_file,))\n",
    "    jobs.append(p)\n",
    "    p.start()\n",
    "while set([j.is_alive() for j in jobs]) != {False}:\n",
    "    time.sleep(15)\n",
    "    print(\"Waiting for Subset_id_classification to finish!\")\n",
    "print(\"All Subset_id_classifications done!\")"
   ]
  },
  {
   "cell_type": "code",
   "execution_count": 55,
   "metadata": {
    "collapsed": false
   },
   "outputs": [
    {
     "data": {
      "text/plain": [
       "<BedTool(Pst_104E_v12_p_ctg.REPET.classification.cov)>"
      ]
     },
     "execution_count": 55,
     "metadata": {},
     "output_type": "execute_result"
    }
   ],
   "source": [
    "#generate a coverage file for each genome position from the gff without filtering for specific features\n",
    "all_cov_RE = g.genome_coverage(dz=True,g=p_genome_file)\n",
    "all_cov_RE.saveas('Pst_104E_v12_p_ctg.REPET.classification.cov')"
   ]
  },
  {
   "cell_type": "code",
   "execution_count": 44,
   "metadata": {
    "collapsed": true
   },
   "outputs": [
    {
     "name": "stdout",
     "output_type": "stream",
     "text": [
      "Process-1.exitcode = 0\n",
      "Process-2.exitcode = 0\n",
      "Process-3.exitcode = 0\n",
      "Process-4.exitcode = 0\n",
      "Process-5.exitcode = 0\n",
      "Process-6.exitcode = 0\n",
      "Process-7.exitcode = 0\n",
      "Process-8.exitcode = 0\n",
      "Process-9.exitcode = 0\n",
      "Process-10.exitcode = 0\n",
      "Process-11.exitcode = 0\n",
      "Process-12.exitcode = 0\n",
      "Process-13.exitcode = 0\n",
      "Process-14.exitcode = 0\n",
      "Process-15.exitcode = 0\n",
      "Process-16.exitcode = 0\n"
     ]
    }
   ],
   "source": [
    "#print out the exitcodes for each\n",
    "for j in jobs:\n",
    "    #j.join()\n",
    "    print('%s.exitcode = %s' % (j.name, j.exitcode))"
   ]
  },
  {
   "cell_type": "code",
   "execution_count": 50,
   "metadata": {
    "collapsed": true
   },
   "outputs": [
    {
     "name": "stdout",
     "output_type": "stream",
     "text": [
      "Done with Pst_104E_v12_p_ctg.REPET_noblast.classification.Retrotransposon_PLE.gff using Pst_104E_v12_p_ctg.REPET_noblast.classification.bedobject as bedfile \n",
      "Done with Pst_104E_v12_p_ctg.REPET_noblast.classification.Retrotransposon_SINE.gff using Pst_104E_v12_p_ctg.REPET_noblast.classification.bedobject as bedfile \n",
      "Done with Pst_104E_v12_p_ctg.REPET_noblast.classification.Retrotransposon_noCat.gff using Pst_104E_v12_p_ctg.REPET_noblast.classification.bedobject as bedfile \n",
      "Done with Pst_104E_v12_p_ctg.REPET_noblast.classification.Retrotransposon_TRIM.gff using Pst_104E_v12_p_ctg.REPET_noblast.classification.bedobject as bedfile \n",
      "Done with Pst_104E_v12_p_ctg.REPET_noblast.classification.Retrotransposon_LINE.gff using Pst_104E_v12_p_ctg.REPET_noblast.classification.bedobject as bedfile \n",
      "Done with Pst_104E_v12_p_ctg.REPET_noblast.classification.DNA_transposon_Maverick.gff using Pst_104E_v12_p_ctg.REPET_noblast.classification.bedobject as bedfile \n",
      "Waiting for Subset_id_classification to finish!\n",
      "Done with Pst_104E_v12_p_ctg.REPET_noblast.classification.DNA_transposon_Helitron.gff using Pst_104E_v12_p_ctg.REPET_noblast.classification.bedobject as bedfile \n",
      "Done with Pst_104E_v12_p_ctg.REPET_noblast.classification.noCat.gff using Pst_104E_v12_p_ctg.REPET_noblast.classification.bedobject as bedfile \n",
      "Done with Pst_104E_v12_p_ctg.REPET_noblast.classification.DNA_transposon_MITE.gff using Pst_104E_v12_p_ctg.REPET_noblast.classification.bedobject as bedfile \n",
      "Done with Pst_104E_v12_p_ctg.REPET_noblast.classification.Retrotransposon_DIRS.gff using Pst_104E_v12_p_ctg.REPET_noblast.classification.bedobject as bedfile \n",
      "Done with Pst_104E_v12_p_ctg.REPET_noblast.classification.SSR.gff using Pst_104E_v12_p_ctg.REPET_noblast.classification.bedobject as bedfile \n",
      "Done with Pst_104E_v12_p_ctg.REPET_noblast.classification.DNA_transposon_noCat.gff using Pst_104E_v12_p_ctg.REPET_noblast.classification.bedobject as bedfile \n",
      "Waiting for Subset_id_classification to finish!\n",
      "Done with Pst_104E_v12_p_ctg.REPET_noblast.classification.Retrotransposon_LARD.gff using Pst_104E_v12_p_ctg.REPET_noblast.classification.bedobject as bedfile \n",
      "Waiting for Subset_id_classification to finish!\n",
      "Waiting for Subset_id_classification to finish!\n",
      "Done with Pst_104E_v12_p_ctg.REPET_noblast.classification.DNA_transposon_TIR.gff using Pst_104E_v12_p_ctg.REPET_noblast.classification.bedobject as bedfile \n",
      "Done with Pst_104E_v12_p_ctg.REPET_noblast.classification.Retrotransposon_LTR.gff using Pst_104E_v12_p_ctg.REPET_noblast.classification.bedobject as bedfile \n",
      "Waiting for Subset_id_classification to finish!\n",
      "All Subset_id_classifications done!\n"
     ]
    }
   ],
   "source": [
    "#filter through the whole REPET_TE bedobject having removed the blast hits\n",
    "#maybe make some multiproccesses out of this\n",
    "#use multiprocessing to do the bedcov genome coverage per classification. Keep track if everything is already done.\n",
    "jobs = []\n",
    "classifications_noblast = p_repet_gff_filtered_2[~p_repet_gff_filtered_2[1].str.contains('blast')][\"Classification\"].unique()\n",
    "classifications = classifications_noblast\n",
    "bed_file = g_noblast\n",
    "for classi in classifications:\n",
    "    p = multiprocessing.Process(target=subset_id_classification, args=(classi, bed_file,))\n",
    "    jobs.append(p)\n",
    "    p.start()\n",
    "while set([j.is_alive() for j in jobs]) != {False}:\n",
    "    time.sleep(15)\n",
    "    print(\"Waiting for Subset_id_classification to finish!\")\n",
    "print(\"All Subset_id_classifications done!\")\n",
    "#print out the exitcodes for each\n",
    "for j in jobs:\n",
    "    #j.join()\n",
    "    print('%s.exitcode = %s' % (j.name, j.exitcode))"
   ]
  },
  {
   "cell_type": "code",
   "execution_count": 51,
   "metadata": {
    "collapsed": false
   },
   "outputs": [],
   "source": [
    "cur_dir = os.path.abspath(os.path.curdir)"
   ]
  },
  {
   "cell_type": "code",
   "execution_count": 52,
   "metadata": {
    "collapsed": true
   },
   "outputs": [],
   "source": [
    "genome_df = pd.read_csv(p_genome_file, sep='\\t', header=None,names=['contig', 'length'])\n",
    "\n",
    "genome_size = genome_df['length'].sum()"
   ]
  },
  {
   "cell_type": "code",
   "execution_count": 53,
   "metadata": {
    "collapsed": false
   },
   "outputs": [
    {
     "name": "stdout",
     "output_type": "stream",
     "text": [
      "DNA_transposon_Crypton\n",
      "DNA_transposon_Helitron\n",
      "DNA_transposon_MITE\n",
      "DNA_transposon_Maverick\n",
      "DNA_transposon_TIR\n",
      "DNA_transposon_noCat\n",
      "Retrotransposon_DIRS\n",
      "Retrotransposon_LARD\n",
      "Retrotransposon_LINE\n",
      "Retrotransposon_LTR\n",
      "Retrotransposon_PLE\n",
      "Retrotransposon_SINE\n",
      "Retrotransposon_TRIM\n",
      "Retrotransposon_noCat\n",
      "SSR\n",
      "noCat\n"
     ]
    }
   ],
   "source": [
    "#this caputures all REPET classifications including blast and internal REPET_TEs\n",
    "#the problem found here is that the blast and the REPET annotation is sometimes contratictory and overlapping\n",
    "class_cov_files = []\n",
    "for dirpath, dirname, filenames in os.walk(cur_dir):\n",
    "    #print(dirpath)\n",
    "    #print(len(filenames))\n",
    "    if len(filenames) == 0:  # empty folder\n",
    "        continue\n",
    "    cov_files = [dirpath +'/'+x for x in filenames if x.endswith('.cov') and 'REPET.classification' in x]\n",
    "    for file in cov_files:\n",
    "        class_cov_files.append(file)\n",
    "\n",
    "#make a large summary dataframe from all the cov files where the last \n",
    "df_list =[]\n",
    "class_cov_files.sort()\n",
    "for file in class_cov_files:\n",
    "    tmp_df = pd.read_csv(file, sep='\\t', header = None)\n",
    "    tmp_df[\"Code long\"] = file.split('.')[-2]\n",
    "    tmp_df.drop_duplicates(inplace=True)\n",
    "    df_list.append(tmp_df)\n",
    "    print(file.split('.')[-2])\n",
    "\n",
    "df_REPET_classification = pd.concat(df_list)\n",
    "\n",
    "cov_per_class = df_REPET_classification.pivot_table(values=1, columns= 'Code long', aggfunc='count')\n",
    "cov_per_contig_per_class = df_REPET_classification.groupby([0, 'Code long'])[1].count()"
   ]
  },
  {
   "cell_type": "code",
   "execution_count": 54,
   "metadata": {
    "collapsed": false
   },
   "outputs": [
    {
     "name": "stdout",
     "output_type": "stream",
     "text": [
      "DNA_transposon_Helitron\n",
      "DNA_transposon_MITE\n",
      "DNA_transposon_Maverick\n",
      "DNA_transposon_TIR\n",
      "DNA_transposon_noCat\n",
      "Retrotransposon_DIRS\n",
      "Retrotransposon_LARD\n",
      "Retrotransposon_LINE\n",
      "Retrotransposon_LTR\n",
      "Retrotransposon_PLE\n",
      "Retrotransposon_SINE\n",
      "Retrotransposon_TRIM\n",
      "Retrotransposon_noCat\n",
      "SSR\n",
      "noCat\n"
     ]
    }
   ],
   "source": [
    "#this caputures all REPET classifications including internal REPET_TEs classification only. No blast hits included\n",
    "class_cov_files = []\n",
    "for dirpath, dirname, filenames in os.walk(cur_dir):\n",
    "    #print(dirpath)\n",
    "    #print(len(filenames))\n",
    "    if len(filenames) == 0:  # empty folder\n",
    "        continue\n",
    "    cov_files = [dirpath +'/'+x for x in filenames if x.endswith('.cov') and 'REPET_noblast.classification' in x ]\n",
    "    for file in cov_files:\n",
    "        class_cov_files.append(file)\n",
    "\n",
    "#make a large summary dataframe from all the cov files where the last \n",
    "df_list =[]\n",
    "class_cov_files.sort()\n",
    "for file in class_cov_files:\n",
    "    tmp_df = pd.read_csv(file, sep='\\t', header = None)\n",
    "    tmp_df[\"Code long\"] = file.split('.')[-2]\n",
    "    tmp_df.drop_duplicates(inplace=True)\n",
    "    df_list.append(tmp_df)\n",
    "    print(file.split('.')[-2])\n",
    "\n",
    "df_REPET_noblast_classification = pd.concat(df_list)\n",
    "\n",
    "cov_per_class_noblast = df_REPET_noblast_classification.pivot_table(values=1, columns= 'Code long', aggfunc='count')\n",
    "cov_per_contig_per_class_noblast = df_REPET_noblast_classification.groupby([0, 'Code long'])[1].count()"
   ]
  },
  {
   "cell_type": "code",
   "execution_count": null,
   "metadata": {
    "collapsed": false
   },
   "outputs": [],
   "source": []
  },
  {
   "cell_type": "code",
   "execution_count": 56,
   "metadata": {
    "collapsed": false
   },
   "outputs": [
    {
     "data": {
      "text/plain": [
       "Code long\n",
       "DNA_transposon_Crypton     0.000015\n",
       "DNA_transposon_Helitron    0.014380\n",
       "DNA_transposon_MITE        0.012342\n",
       "DNA_transposon_Maverick    0.004510\n",
       "DNA_transposon_TIR         0.180167\n",
       "DNA_transposon_noCat       0.055862\n",
       "Retrotransposon_DIRS       0.015830\n",
       "Retrotransposon_LARD       0.066880\n",
       "Retrotransposon_LINE       0.004594\n",
       "Retrotransposon_LTR        0.258021\n",
       "Retrotransposon_PLE        0.000692\n",
       "Retrotransposon_SINE       0.000381\n",
       "Retrotransposon_TRIM       0.003303\n",
       "Retrotransposon_noCat      0.001614\n",
       "SSR                        0.023948\n",
       "noCat                      0.012289\n",
       "Name: 1, dtype: float64"
      ]
     },
     "execution_count": 56,
     "metadata": {},
     "output_type": "execute_result"
    }
   ],
   "source": [
    "cov_per_class/genome_size"
   ]
  },
  {
   "cell_type": "code",
   "execution_count": 57,
   "metadata": {
    "collapsed": false
   },
   "outputs": [
    {
     "data": {
      "text/plain": [
       "Code long\n",
       "DNA_transposon_Helitron    0.011201\n",
       "DNA_transposon_MITE        0.012342\n",
       "DNA_transposon_Maverick    0.004497\n",
       "DNA_transposon_TIR         0.172041\n",
       "DNA_transposon_noCat       0.032712\n",
       "Retrotransposon_DIRS       0.014513\n",
       "Retrotransposon_LARD       0.066880\n",
       "Retrotransposon_LINE       0.003334\n",
       "Retrotransposon_LTR        0.208324\n",
       "Retrotransposon_PLE        0.000685\n",
       "Retrotransposon_SINE       0.000381\n",
       "Retrotransposon_TRIM       0.003303\n",
       "Retrotransposon_noCat      0.001322\n",
       "SSR                        0.023948\n",
       "noCat                      0.012289\n",
       "Name: 1, dtype: float64"
      ]
     },
     "execution_count": 57,
     "metadata": {},
     "output_type": "execute_result"
    }
   ],
   "source": [
    "cov_per_class_noblast/genome_size"
   ]
  },
  {
   "cell_type": "code",
   "execution_count": 58,
   "metadata": {
    "collapsed": false
   },
   "outputs": [
    {
     "data": {
      "text/plain": [
       "65.48273604024472"
      ]
     },
     "execution_count": 58,
     "metadata": {},
     "output_type": "execute_result"
    }
   ],
   "source": [
    "(cov_per_class/genome_size*100).sum()"
   ]
  },
  {
   "cell_type": "code",
   "execution_count": 59,
   "metadata": {
    "collapsed": false
   },
   "outputs": [
    {
     "data": {
      "text/plain": [
       "56.777225424139395"
      ]
     },
     "execution_count": 59,
     "metadata": {},
     "output_type": "execute_result"
    }
   ],
   "source": [
    "(cov_per_class_noblast/genome_size*100).sum()"
   ]
  },
  {
   "cell_type": "code",
   "execution_count": 60,
   "metadata": {
    "collapsed": false
   },
   "outputs": [
    {
     "data": {
      "text/plain": [
       "54583538"
      ]
     },
     "execution_count": 60,
     "metadata": {},
     "output_type": "execute_result"
    }
   ],
   "source": [
    "len(df_REPET_classification)"
   ]
  },
  {
   "cell_type": "code",
   "execution_count": 61,
   "metadata": {
    "collapsed": false
   },
   "outputs": [
    {
     "data": {
      "text/plain": [
       "47327006"
      ]
     },
     "execution_count": 61,
     "metadata": {},
     "output_type": "execute_result"
    }
   ],
   "source": [
    "len(df_REPET_noblast_classification)"
   ]
  },
  {
   "cell_type": "code",
   "execution_count": 62,
   "metadata": {
    "collapsed": false
   },
   "outputs": [
    {
     "data": {
      "text/plain": [
       "0.5084809042740444"
      ]
     },
     "execution_count": 62,
     "metadata": {},
     "output_type": "execute_result"
    }
   ],
   "source": [
    "len(df_REPET_noblast_classification.drop_duplicates([0,1]))/genome_size"
   ]
  },
  {
   "cell_type": "code",
   "execution_count": 63,
   "metadata": {
    "collapsed": false
   },
   "outputs": [
    {
     "data": {
      "text/plain": [
       "0.5430692876170455"
      ]
     },
     "execution_count": 63,
     "metadata": {},
     "output_type": "execute_result"
    }
   ],
   "source": [
    "len(df_REPET_classification.drop_duplicates([0,1]))/genome_size"
   ]
  },
  {
   "cell_type": "code",
   "execution_count": 64,
   "metadata": {
    "collapsed": false
   },
   "outputs": [
    {
     "data": {
      "text/html": [
       "<div>\n",
       "<table border=\"1\" class=\"dataframe\">\n",
       "  <thead>\n",
       "    <tr style=\"text-align: right;\">\n",
       "      <th></th>\n",
       "      <th>0</th>\n",
       "      <th>1</th>\n",
       "      <th>2</th>\n",
       "      <th>Code long</th>\n",
       "    </tr>\n",
       "  </thead>\n",
       "  <tbody>\n",
       "    <tr>\n",
       "      <th>0</th>\n",
       "      <td>pcontig_049</td>\n",
       "      <td>263176</td>\n",
       "      <td>2</td>\n",
       "      <td>DNA_transposon_Crypton</td>\n",
       "    </tr>\n",
       "    <tr>\n",
       "      <th>1</th>\n",
       "      <td>pcontig_049</td>\n",
       "      <td>263177</td>\n",
       "      <td>2</td>\n",
       "      <td>DNA_transposon_Crypton</td>\n",
       "    </tr>\n",
       "    <tr>\n",
       "      <th>2</th>\n",
       "      <td>pcontig_049</td>\n",
       "      <td>263178</td>\n",
       "      <td>2</td>\n",
       "      <td>DNA_transposon_Crypton</td>\n",
       "    </tr>\n",
       "    <tr>\n",
       "      <th>3</th>\n",
       "      <td>pcontig_049</td>\n",
       "      <td>263179</td>\n",
       "      <td>2</td>\n",
       "      <td>DNA_transposon_Crypton</td>\n",
       "    </tr>\n",
       "    <tr>\n",
       "      <th>4</th>\n",
       "      <td>pcontig_049</td>\n",
       "      <td>263180</td>\n",
       "      <td>2</td>\n",
       "      <td>DNA_transposon_Crypton</td>\n",
       "    </tr>\n",
       "  </tbody>\n",
       "</table>\n",
       "</div>"
      ],
      "text/plain": [
       "             0       1  2               Code long\n",
       "0  pcontig_049  263176  2  DNA_transposon_Crypton\n",
       "1  pcontig_049  263177  2  DNA_transposon_Crypton\n",
       "2  pcontig_049  263178  2  DNA_transposon_Crypton\n",
       "3  pcontig_049  263179  2  DNA_transposon_Crypton\n",
       "4  pcontig_049  263180  2  DNA_transposon_Crypton"
      ]
     },
     "execution_count": 64,
     "metadata": {},
     "output_type": "execute_result"
    }
   ],
   "source": [
    "df_REPET_classification.head()"
   ]
  },
  {
   "cell_type": "code",
   "execution_count": 66,
   "metadata": {
    "collapsed": true
   },
   "outputs": [],
   "source": [
    "cov_all_TEs = df_REPET_classification.drop_duplicates([0,1])\n",
    "cov_all_TEs = len(cov_all_TEs)"
   ]
  },
  {
   "cell_type": "code",
   "execution_count": 87,
   "metadata": {
    "collapsed": false
   },
   "outputs": [],
   "source": [
    "cov_per_class_df = cov_per_class.append(pd.DataFrame.from_dict({'cov_all_TEs': cov_all_TEs}, orient='index'))"
   ]
  },
  {
   "cell_type": "code",
   "execution_count": 99,
   "metadata": {
    "collapsed": false
   },
   "outputs": [],
   "source": [
    "cov_per_class_df.rename(columns={0: 'bp'}, inplace=True)"
   ]
  },
  {
   "cell_type": "code",
   "execution_count": 100,
   "metadata": {
    "collapsed": false
   },
   "outputs": [],
   "source": [
    "cov_per_class_df['%'] = round(cov_per_class_df['bp']/genome_size*100, 2)"
   ]
  },
  {
   "cell_type": "code",
   "execution_count": 104,
   "metadata": {
    "collapsed": false
   },
   "outputs": [],
   "source": [
    "cov_per_class_df.to_csv(out_dir+'/'+genome+'.REPET.summary.tab', sep='\\t')"
   ]
  },
  {
   "cell_type": "code",
   "execution_count": 115,
   "metadata": {
    "collapsed": false
   },
   "outputs": [
    {
     "data": {
      "text/plain": [
       "<matplotlib.text.Text at 0x7f756f5214a8>"
      ]
     },
     "execution_count": 115,
     "metadata": {},
     "output_type": "execute_result"
    },
    {
     "data": {
      "image/png": "[encoded data removed]",
      "text/plain": [
       "<matplotlib.figure.Figure at 0x7f756f5b85f8>"
      ]
     },
     "metadata": {},
     "output_type": "display_data"
    }
   ],
   "source": [
    "cov_per_class_df['%'].plot.barh()\n",
    "plt.xlabel('% genome coverage')\n",
    "plt.ylabel('TE subclass')"
   ]
  },
  {
   "cell_type": "code",
   "execution_count": null,
   "metadata": {
    "collapsed": true
   },
   "outputs": [],
   "source": [
    "#look at the same graph with blast only searches and see what we get. Consider that a different parsing of ideas might be\n",
    "#more appropriate in this case"
   ]
  },
  {
   "cell_type": "code",
   "execution_count": 81,
   "metadata": {
    "collapsed": false
   },
   "outputs": [
    {
     "data": {
      "text/html": [
       "<div>\n",
       "<table border=\"1\" class=\"dataframe\">\n",
       "  <thead>\n",
       "    <tr style=\"text-align: right;\">\n",
       "      <th></th>\n",
       "      <th>0</th>\n",
       "    </tr>\n",
       "  </thead>\n",
       "  <tbody>\n",
       "    <tr>\n",
       "      <th>cov_all_TEs</th>\n",
       "      <td>45267875</td>\n",
       "    </tr>\n",
       "  </tbody>\n",
       "</table>\n",
       "</div>"
      ],
      "text/plain": [
       "                    0\n",
       "cov_all_TEs  45267875"
      ]
     },
     "execution_count": 81,
     "metadata": {},
     "output_type": "execute_result"
    }
   ],
   "source": [
    "pd.DataFrame.from_dict({'cov_all_TEs': cov_all_TEs}, orient='index')"
   ]
  },
  {
   "cell_type": "code",
   "execution_count": 74,
   "metadata": {
    "collapsed": false
   },
   "outputs": [
    {
     "data": {
      "text/plain": [
       "45267875"
      ]
     },
     "execution_count": 74,
     "metadata": {},
     "output_type": "execute_result"
    }
   ],
   "source": [
    "cov_all_TEs"
   ]
  },
  {
   "cell_type": "code",
   "execution_count": 117,
   "metadata": {
    "collapsed": false
   },
   "outputs": [
    {
     "data": {
      "text/plain": [
       "array(['ATCOPIA69A_I:ClassI:LTR:Copia', 'Copia-104_GM-I:ClassI:LTR:Copia',\n",
       "       'Copia-137_AA-I:ClassI:LTR:Copia', ...,\n",
       "       'Gypsy-3_CPu-I_3p:ClassI:LTR:Gypsy',\n",
       "       'Gypsy-5_DSim-I_1p:ClassI:LTR:Gypsy',\n",
       "       'Gypsy3_MH-I_1p:ClassI:LTR:Gypsy'], dtype=object)"
      ]
     },
     "execution_count": 117,
     "metadata": {},
     "output_type": "execute_result"
    }
   ],
   "source": [
    "blast_codes.unique()"
   ]
  },
  {
   "cell_type": "code",
   "execution_count": null,
   "metadata": {
    "collapsed": true
   },
   "outputs": [],
   "source": [
    "test = p_repet_gff_filtered_2[~p_repet_gff_filtered_2[1].str.contains('blast')].iloc[:,:-1]\n",
    "\n",
    "test.head()\n",
    "\n",
    "test[(test[0]== 'pcontig_000' )&(test[3] < 20000)]\n",
    "\n",
    "test.sort_values([0,3],inplace =True)\n",
    "\n",
    "df_REPET_noblast_classification.sort_values([0,1], inplace=True)\n",
    "\n",
    "df_REPET_noblast_classification[df_REPET_noblast_classification.duplicated([0,1], keep=False )]\n",
    "\n",
    "df_REPET_classification.drop_duplicates(subset=[0,1])\n",
    "\n",
    "df_REPET_classification.sort_values([0,1], inplace=True)\n",
    "\n",
    "df_REPET_classification_dup = df_REPET_classification[df_REPET_classification.duplicated(subset=[0,1], keep=False)]\n",
    "\n",
    "p_repet_gff_filtered_2[(p_repet_gff_filtered_2[0] ==  'pcontig_000')&(p_repet_gff_filtered_2[3] < 14602)]\n",
    "\n",
    "p_repet_gff_filtered_2[(p_repet_gff_filtered_2[0] ==  'pcontig_000')&(p_repet_gff_filtered_2[3] < 20000)].sort_values(3)\n",
    "\n",
    "df_REPET_classification_dup.head(100)"
   ]
  },
  {
   "cell_type": "markdown",
   "metadata": {},
   "source": [
    "## Below I am trying to sort out the cov files produced from bedfiles for each indiviudal TE element"
   ]
  },
  {
   "cell_type": "code",
   "execution_count": 205,
   "metadata": {
    "collapsed": true
   },
   "outputs": [],
   "source": [
    "# Next, we create a function to pass only features for a particular\n",
    "# featuretype.  This is similar to a \"grep\" operation when applied to every\n",
    "# feature in a BedTool\n",
    "def id_filter(feature, _id):\n",
    "    if feature[8] == _id:\n",
    "        return True\n",
    "    return False"
   ]
  },
  {
   "cell_type": "code",
   "execution_count": 241,
   "metadata": {
    "collapsed": false
   },
   "outputs": [],
   "source": [
    "# subset the id and safe in specific folder\n",
    "# return the subsetted file as bedtool\n",
    "def subset_id(_id,_dict):\n",
    "    repet_prefix = 'Pst_104E_v12_p_ctg.REPET.TE_level'\n",
    "    #ClassI are retrotransposon form blast\n",
    "    if 'ClassI:' in _id:\n",
    "        out_path = TE_path_dict['Retrotransposon']   \n",
    "    #ClassII are DNA_transponson\n",
    "    elif 'ClassII' in _id:\n",
    "        out_path = TE_path_dict['DNA_transposon'] \n",
    "    #The rest with '_' should be REPET_TEs\n",
    "    elif _id.split('_')[0] in list(code_dict.keys()):\n",
    "        key = code_dict[_id.split('_')[0]].split(' ')[0]\n",
    "        out_path = TE_path_dict[key]\n",
    "    #everything without '_' at the end should be SSR\n",
    "    elif '_' not in _id:\n",
    "        out_path = TE_path_dict['SSR']\n",
    "    out_fn = out_path+'/'+repet_prefix+'.'+_id+'.gff'\n",
    "    result = REPET_ID_bed.filter(id_filter, _id).saveas(out_fn)\n",
    "    cov_fn = out_fn.replace('gff','cov')\n",
    "    cov = result.genome_coverage(dz=True,g=p_genome_file)\n",
    "    cov.saveas(cov_fn)\n",
    "    _len = len(pd.read_csv(cov_fn, header=None, sep='\\t'))\n",
    "    _dict[_id] = _len\n",
    "    #return pybedtools.BedTool(result.fn)"
   ]
  },
  {
   "cell_type": "raw",
   "metadata": {},
   "source": [
    "Write a loop that takes in the filtered id'ed gff file, filters the file according to the id field. The corresponding bedfile is saved in a specific folder for the type of TE (RNA, DNA, SSR, noCat)"
   ]
  },
  {
   "cell_type": "code",
   "execution_count": null,
   "metadata": {
    "collapsed": true
   },
   "outputs": [],
   "source": [
    "TE_types = ['Retrotransposon', 'DNA_transposon', 'noCat', 'SSR']\n",
    "TE_path = [os.path.join(out_dir, x) for x in TE_types]\n",
    "TE_path_dict = dict(zip(TE_types, TE_path))"
   ]
  },
  {
   "cell_type": "code",
   "execution_count": null,
   "metadata": {
    "collapsed": false
   },
   "outputs": [],
   "source": [
    "for TE_type in TE_types:\n",
    "    new_path = os.path.join(out_dir, TE_type)\n",
    "    if not os.path.exists(new_path):\n",
    "        os.mkdir(new_path)"
   ]
  },
  {
   "cell_type": "code",
   "execution_count": 226,
   "metadata": {
    "collapsed": false
   },
   "outputs": [],
   "source": [
    "_id = pd.read_csv(out_dir+'/'+genome+'.REPET.ID_column.gff', header=None, sep='\\t')[8].unique()\n",
    "REPET_ID_bed = pybedtools.BedTool(out_dir+'/'+genome+'.REPET.ID_column.gff')\n",
    "REPET_ID_bed = REPET_ID_bed.remove_invalid().saveas(out_dir+'/'+genome+'.REPET.ID_column.bedobject')\n"
   ]
  },
  {
   "cell_type": "code",
   "execution_count": null,
   "metadata": {
    "collapsed": false
   },
   "outputs": [],
   "source": [
    "#use multiprocessing to do the bedcov genome coverage per classification. Keep track if everything is already done.\n",
    "\n",
    "jobs = []\n",
    "bed_file = g\n",
    "total_jobs = len(_id)\n",
    "job_count = 0\n",
    "manager = multiprocessing.Manager()\n",
    "TE_cov_df  = manager.dict()\n",
    "while job_count < total_jobs:\n",
    "    while [j.is_alive() for j in jobs].count(True) > 30:\n",
    "        time.sleep(15)\n",
    "        print(\"Waiting for Subset_id_classification to finish!\")\n",
    "    if job_count +10 < total_jobs:\n",
    "        for i in range(job_count, job_count+10):\n",
    "            p = multiprocessing.Process(target=subset_id, args=([_id[i],TE_cov_df]))\n",
    "            jobs.append(p)\n",
    "            p.start()\n",
    "            job_count += 1\n",
    "            \n",
    "    else:\n",
    "        for i in range(job_count, total_jobs+1):\n",
    "            p = multiprocessing.Process(target=subset_id, args=([_id[i], TE_cov_df]))\n",
    "            jobs.append(p)\n",
    "            p.start()\n",
    "            job_count += 1\n",
    "while set([j.is_alive() for j in jobs]) != {False}:\n",
    "    time.sleep(15)\n",
    "    print(\"Waiting for Subset_id_classification to finish!\")\n",
    "print(\"All Subset_id_classifications done! Totaling %i\"% (job_count))\n"
   ]
  },
  {
   "cell_type": "code",
   "execution_count": 250,
   "metadata": {
    "collapsed": false
   },
   "outputs": [
    {
     "name": "stdout",
     "output_type": "stream",
     "text": [
      "Copia-150_CCri-I:ClassI:LTR:Copia\n",
      "Copia-29_MLP-I:ClassI:LTR:Copia\n",
      "RLX-incomp_MCL9\n",
      "DTX-incomp_MCL9\n",
      "DTX-incomp-chim_MCL5\n",
      "RLX-comp_MCL23\n",
      "Copia-2_BM-I:ClassI:LTR:Copia\n",
      "Copia-29_TC-I:ClassI:LTR:Copia\n",
      "Copia-15_PPe-I:ClassI:LTR:Copia\n",
      "A23\n",
      "Copia-13_PTrit-I:ClassI:LTR:Copia\n",
      "ATCOPIA69A_I:ClassI:LTR:Copia\n",
      "Copia-54_MLP-I:ClassI:LTR:Copia\n",
      "RYX-incomp-chim_MCL25\n",
      "Copia-70_MLP-I:ClassI:LTR:Copia\n",
      "Copia-2_PPa-I:ClassI:LTR:Copia\n",
      "Copia-137_AA-I:ClassI:LTR:Copia\n",
      "Copia-104_GM-I:ClassI:LTR:Copia\n",
      "Copia-6_SMo-I:ClassI:LTR:Copia\n",
      "Copia-2_PGr-I:ClassI:LTR:Copia\n",
      "DTX-comp_MCL212\n"
     ]
    }
   ],
   "source": [
    "for x in TE_cov_df.keys():\n",
    "    print(x)"
   ]
  },
  {
   "cell_type": "code",
   "execution_count": 238,
   "metadata": {
    "collapsed": false
   },
   "outputs": [],
   "source": [
    "[j.is_alive() for j in jobs].count(True)"
   ]
  },
  {
   "cell_type": "code",
   "execution_count": 235,
   "metadata": {
    "collapsed": false
   },
   "outputs": [],
   "source": [
    "count = 0\n",
    "while count < 10:\n",
    "    count += 1\n",
    "print(count)"
   ]
  },
  {
   "cell_type": "code",
   "execution_count": null,
   "metadata": {
    "collapsed": true
   },
   "outputs": [],
   "source": [
    "#this is REALLY slow for now. Would need to parallize this step. Look at the pool function of \n",
    "#multiprocessing"
   ]
  },
  {
   "cell_type": "code",
   "execution_count": null,
   "metadata": {
    "collapsed": false
   },
   "outputs": [],
   "source": [
    "[subset_id(x) for x in _id]"
   ]
  },
  {
   "cell_type": "code",
   "execution_count": 163,
   "metadata": {
    "collapsed": true
   },
   "outputs": [],
   "source": [
    "#this caputures all REPET cov files for each indiviual TE.\n",
    "class_cov_files = []\n",
    "for dirpath, dirname, filenames in os.walk(cur_dir):\n",
    "    #print(dirpath)\n",
    "    #print(len(filenames))\n",
    "    if len(filenames) == 0:  # empty folder\n",
    "        continue\n",
    "    cov_files = [dirpath +'/'+x for x in filenames if x.endswith('.cov') and 'classification' not in x ]\n",
    "    for file in cov_files:\n",
    "        class_cov_files.append(file)\n"
   ]
  },
  {
   "cell_type": "code",
   "execution_count": 166,
   "metadata": {
    "collapsed": false
   },
   "outputs": [
    {
     "data": {
      "text/plain": [
       "['Pst_104E_v12_p_ctg.REPET.Gypsy-25_DPse-I:ClassI:LTR:Gypsy.gff',\n",
       " 'Pst_104E_v12_p_ctg.REPET.I-2_DAn:ClassI:LINE:I.gff',\n",
       " 'Pst_104E_v12_p_ctg.REPET.Gypsy-169_ZM-I_1p:ClassI:LTR:Gypsy.cov',\n",
       " 'Pst_104E_v12_p_ctg.REPET.Gypsy-14_ADe-I:ClassI:LTR:Gypsy.cov',\n",
       " 'Pst_104E_v12_p_ctg.REPET.DIRS-16_DR_2p:ClassI:DIRS:DIRS.cov',\n",
       " 'Pst_104E_v12_p_ctg.REPET.Copia-6_Trm-I_1p:ClassI:LTR:Copia.gff',\n",
       " 'Pst_104E_v12_p_ctg.REPET.Gypsy-70_SB-I_1p:ClassI:LTR:Gypsy.cov',\n",
       " 'Pst_104E_v12_p_ctg.REPET.Gypsy-74_SB-I_2p:ClassI:LTR:Gypsy.gff',\n",
       " 'Pst_104E_v12_p_ctg.REPET.Copia-13B_DR-I_1p:ClassI:LTR:Copia.cov',\n",
       " 'Pst_104E_v12_p_ctg.REPET.Gypsy17-I_Dya:ClassI:LTR:Gypsy.gff',\n",
       " 'Pst_104E_v12_p_ctg.REPET.Gypsy-2_PMar-I:ClassI:LTR:Gypsy.gff',\n",
       " 'Pst_104E_v12_p_ctg.REPET.Copia-20_LU-I_1p:ClassI:LTR:Copia.gff',\n",
       " 'Pst_104E_v12_p_ctg.REPET.Copia-3_LBS-I_2p:ClassI:LTR:Copia.cov',\n",
       " 'Pst_104E_v12_p_ctg.REPET.Copia-22_CQ-I_1p:ClassI:LTR:Copia.cov',\n",
       " 'Pst_104E_v12_p_ctg.REPET.Gypsy-27_DR1p:ClassI:LTR:Gypsy.gff',\n",
       " 'Pst_104E_v12_p_ctg.REPET.GYLES1_I_1p:ClassI:LTR:Gypsy.gff',\n",
       " 'Pst_104E_v12_p_ctg.REPET.Copia-122_AA-I_2p:ClassI:LTR:Copia.gff',\n",
       " 'Pst_104E_v12_p_ctg.REPET.Copia45-PTR_I_1p:ClassI:LTR:Copia.cov',\n",
       " 'Pst_104E_v12_p_ctg.REPET.Gypsy-38_OD-I:ClassI:LTR:Gypsy.gff',\n",
       " 'Pst_104E_v12_p_ctg.REPET.ERV1-2_SSa-I:ClassI:LTR:ERV.gff',\n",
       " 'Pst_104E_v12_p_ctg.REPET.Copia-14_CCri-I_1p:ClassI:LTR:Copia.cov',\n",
       " 'Pst_104E_v12_p_ctg.REPET.Copia-53_PX-I_2p:ClassI:LTR:Copia.gff',\n",
       " 'Pst_104E_v12_p_ctg.REPET.Copia-74_VV-I_1p:ClassI:LTR:Copia.gff',\n",
       " 'Pst_104E_v12_p_ctg.REPET.Outcast_Ele3:ClassI:LINE:I.gff',\n",
       " 'Pst_104E_v12_p_ctg.REPET.Copia-86_SB-Ip:ClassI:LTR:Copia.cov',\n",
       " 'Pst_104E_v12_p_ctg.REPET.COPIA1-I_OS:ClassI:LTR:Copia.gff',\n",
       " 'Pst_104E_v12_p_ctg.REPET.Gypsy-6_RC-I:ClassI:LTR:Gypsy.cov',\n",
       " 'Pst_104E_v12_p_ctg.REPET.Copia-23_ECa-I_1p:ClassI:LTR:Copia.gff',\n",
       " 'Pst_104E_v12_p_ctg.REPET.Gypsy-8_RO-I_3p:ClassI:LTR:Gypsy.cov',\n",
       " 'Pst_104E_v12_p_ctg.REPET.Copia-33_FV-I:ClassI:LTR:Copia.gff',\n",
       " 'Pst_104E_v12_p_ctg.REPET.Gypsy4-I_VC_1p:ClassI:LTR:Gypsy.gff',\n",
       " 'Pst_104E_v12_p_ctg.REPET.Gypsy-33_PSo-I:ClassI:LTR:Gypsy.gff',\n",
       " 'Pst_104E_v12_p_ctg.REPET.Gypsy-171-I_DR_1p:ClassI:LTR:Gypsy.cov',\n",
       " 'Pst_104E_v12_p_ctg.REPET.Copia-26_LU-I_2p:ClassI:LTR:Copia.gff',\n",
       " 'Pst_104E_v12_p_ctg.REPET.Gypsy-6_SI-I:ClassI:LTR:Gypsy.cov',\n",
       " 'Pst_104E_v12_p_ctg.REPET.Gypsy-1_ADe-I_1p:ClassI:LTR:Gypsy.gff',\n",
       " 'Pst_104E_v12_p_ctg.REPET.PCretro5_I_1p:ClassI:LTR:Copia.cov',\n",
       " 'Pst_104E_v12_p_ctg.REPET.Gypsy-205_DR-I:ClassI:LTR:Gypsy.gff',\n",
       " 'Pst_104E_v12_p_ctg.REPET.Gypsy-22_CPB-I:ClassI:LTR:Gypsy.cov',\n",
       " 'Pst_104E_v12_p_ctg.REPET.Gypsy-83_MLP-I_1p:ClassI:LTR:Gypsy.cov',\n",
       " 'Pst_104E_v12_p_ctg.REPET.Gypsy-17_CFl-I_2p:ClassI:LTR:Gypsy.cov',\n",
       " 'Pst_104E_v12_p_ctg.REPET.Gypsy20-I_SP_1p:ClassI:LTR:Gypsy.gff',\n",
       " 'Pst_104E_v12_p_ctg.REPET.L1-2_Dor:ClassI:LINE:L1.gff',\n",
       " 'Pst_104E_v12_p_ctg.REPET.Copia-82_AA-I_2p:ClassI:LTR:Copia.gff',\n",
       " 'Pst_104E_v12_p_ctg.REPET.Gypsy87-I_DR_2p:ClassI:LTR:Gypsy.cov',\n",
       " 'Pst_104E_v12_p_ctg.REPET_TE.classification.Retrotransposon_LINE.cov',\n",
       " 'Pst_104E_v12_p_ctg.REPET.Gypsy-28_CPB-I_1p:ClassI:LTR:Gypsy.gff',\n",
       " 'Pst_104E_v12_p_ctg.REPET.Copia-7_ADe-I_1p:ClassI:LTR:Copia.gff',\n",
       " 'Pst_104E_v12_p_ctg.REPET.Gypsy-37_SSa-I_2p:ClassI:LTR:Gypsy.gff',\n",
       " 'Pst_104E_v12_p_ctg.REPET.Copia-62_AA-I_1p:ClassI:LTR:Copia.cov',\n",
       " 'Pst_104E_v12_p_ctg.REPET.Copia-49_ECa-I_1p:ClassI:LTR:Copia.cov',\n",
       " 'Pst_104E_v12_p_ctg.REPET.Copia-29_FV-I:ClassI:LTR:Copia.gff',\n",
       " 'Pst_104E_v12_p_ctg.REPET.Nimb-29_LMi:ClassI:LINE:I.cov',\n",
       " 'Pst_104E_v12_p_ctg.REPET.Gypsy-9_BG-I_3p:ClassI:LTR:Gypsy.cov',\n",
       " 'Pst_104E_v12_p_ctg.REPET.Gypsy-149_AA-I_2p:ClassI:LTR:Gypsy.cov',\n",
       " 'Pst_104E_v12_p_ctg.REPET.I-1_DEu:ClassI:LINE:I.cov',\n",
       " 'Pst_104E_v12_p_ctg.REPET.Copia-43_RC-I:ClassI:LTR:Copia.gff',\n",
       " 'Pst_104E_v12_p_ctg.REPET.Gypsy-118_ZM-I_1p:ClassI:LTR:Gypsy.cov',\n",
       " 'Pst_104E_v12_p_ctg.REPET.Ogre-MT3_ORF2:ClassI:LTR:Gypsy.gff',\n",
       " 'Pst_104E_v12_p_ctg.REPET.Gypsy-34_MLP-I_1p:ClassI:LTR:Gypsy.gff',\n",
       " 'Pst_104E_v12_p_ctg.REPET.Copia11-NV_I_1p:ClassI:LTR:Copia.cov',\n",
       " 'Pst_104E_v12_p_ctg.REPET.Copia-66_Mad-I_1p:ClassI:LTR:Copia.gff',\n",
       " 'Pst_104E_v12_p_ctg.REPET.CR1-84_HM:ClassI:LINE:Jockey.cov',\n",
       " 'Pst_104E_v12_p_ctg.REPET.Gypsy-14_CFl-I_2p:ClassI:LTR:Gypsy.cov',\n",
       " 'Pst_104E_v12_p_ctg.REPET.Hebe_Av:ClassI:LINE:Jockey.cov',\n",
       " 'Pst_104E_v12_p_ctg.REPET.Gypsy-23_BRa-I_1p:ClassI:LTR:Gypsy.cov',\n",
       " 'Pst_104E_v12_p_ctg.REPET.Copia-2_CP-I_#2:ClassI:LTR:Copia.gff',\n",
       " 'Pst_104E_v12_p_ctg.REPET.Copia-19_EPa-I_3p:ClassI:LTR:Copia.gff',\n",
       " 'Pst_104E_v12_p_ctg.REPET.Gypsy-15_CGi-I:ClassI:LTR:Gypsy.gff',\n",
       " 'Pst_104E_v12_p_ctg.REPET.Gypsy41-ZM_I_1p:ClassI:LTR:Gypsy.cov',\n",
       " 'Pst_104E_v12_p_ctg.REPET.Copia-35_CQ-I_1p:ClassI:LTR:Copia.gff',\n",
       " 'Pst_104E_v12_p_ctg.REPET.Copia-27_DPu-I:ClassI:LTR:Copia.gff',\n",
       " 'Pst_104E_v12_p_ctg.REPET.Gypsy-189_ZM-I_2p:ClassI:LTR:Gypsy.gff',\n",
       " 'Pst_104E_v12_p_ctg.REPET.Copia-3_SL-I:ClassI:LTR:Copia.gff',\n",
       " 'Pst_104E_v12_p_ctg.REPET.Gypsy-2_DTa-I_3p:ClassI:LTR:Gypsy.cov',\n",
       " 'Pst_104E_v12_p_ctg.REPET.Copia-104_Mad-I_1p:ClassI:LTR:Copia.cov',\n",
       " 'Pst_104E_v12_p_ctg.REPET.Gypsy8_DR-2p:ClassI:LTR:Gypsy.gff',\n",
       " 'Pst_104E_v12_p_ctg.REPET.I-1_AA:ClassI:LINE:I.gff',\n",
       " 'Pst_104E_v12_p_ctg.REPET.Gypsy-15_DTa-I:ClassI:LTR:Gypsy.gff',\n",
       " 'Pst_104E_v12_p_ctg.REPET.Gypsy-30-I_NVi_2p:ClassI:LTR:Gypsy.cov',\n",
       " 'Pst_104E_v12_p_ctg.REPET.Copia-53_PX-I_2p:ClassI:LTR:Copia.cov',\n",
       " 'Pst_104E_v12_p_ctg.REPET.Gypsy-30_BRa-I_1p:ClassI:LTR:Gypsy.cov',\n",
       " 'Pst_104E_v12_p_ctg.REPET.Jockey-1_DF:ClassI:LINE:Jockey.gff',\n",
       " 'Pst_104E_v12_p_ctg.REPET.Gypsy-38_BG-I_2p:ClassI:LTR:Gypsy.cov',\n",
       " 'Pst_104E_v12_p_ctg.REPET.Copia-6_Pru-I:ClassI:LTR:Copia.gff',\n",
       " 'Pst_104E_v12_p_ctg.REPET.Gypsy-34_ADe-I_2p:ClassI:LTR:Gypsy.cov',\n",
       " 'Pst_104E_v12_p_ctg.REPET.GYPSY1-I_AG:ClassI:LTR:Gypsy.gff',\n",
       " 'Pst_104E_v12_p_ctg.REPET.Copia-1_DEl-I_1p:ClassI:LTR:Copia.cov',\n",
       " 'Pst_104E_v12_p_ctg.REPET.Copia-45_Mad-I_1p:ClassI:LTR:Copia.gff',\n",
       " 'Pst_104E_v12_p_ctg.REPET.Copia9-PTR_I_2p#2:ClassI:LTR:Copia.gff',\n",
       " 'Pst_104E_v12_p_ctg.REPET.Ingi-1_LMi:ClassI:LINE:I.gff',\n",
       " 'Pst_104E_v12_p_ctg.REPET.DIRS-5_CGi_1p:ClassI:DIRS:DIRS.gff',\n",
       " 'Pst_104E_v12_p_ctg.REPET.Copia-17_CQ-I_1p:ClassI:LTR:Copia.gff',\n",
       " 'Pst_104E_v12_p_ctg.REPET.Copia-71_Mad-I_1p:ClassI:LTR:Copia.gff',\n",
       " 'Pst_104E_v12_p_ctg.REPET.Gypsy-10_TC-I_2p:ClassI:LTR:Gypsy.cov',\n",
       " 'Pst_104E_v12_p_ctg.REPET.Jockey-1_DSi:ClassI:LINE:Jockey.cov',\n",
       " 'Pst_104E_v12_p_ctg.REPET.Copia-103_BRa-I:ClassI:LTR:Copia.cov',\n",
       " 'Pst_104E_v12_p_ctg.REPET.Gypsy128-I_DR:ClassI:LTR:Gypsy.cov',\n",
       " 'Pst_104E_v12_p_ctg.REPET.Copia-27_GM-I_1p:ClassI:LTR:Copia.gff',\n",
       " 'Pst_104E_v12_p_ctg.REPET.Copia-11_PAb-I_1p:ClassI:LTR:Copia.cov',\n",
       " 'Pst_104E_v12_p_ctg.REPET.Copia-74_AA-I_1p:ClassI:LTR:Copia.cov',\n",
       " 'Pst_104E_v12_p_ctg.REPET.I_Ele24:ClassI:LINE:I.gff',\n",
       " 'Pst_104E_v12_p_ctg.REPET.Copia-1_AC-I_1p:ClassI:LTR:Copia.cov',\n",
       " 'Pst_104E_v12_p_ctg.REPET.Gypsy-7_LG-I:ClassI:LTR:Gypsy.gff',\n",
       " 'Pst_104E_v12_p_ctg.REPET.Copia-27_BRa-I_1p:ClassI:LTR:Copia.cov',\n",
       " 'Pst_104E_v12_p_ctg.REPET.Gypsy-36_PT-I_1p:ClassI:LTR:Gypsy.cov',\n",
       " 'Pst_104E_v12_p_ctg.REPET.Gypsy-14_SB-I_3p:ClassI:LTR:Gypsy.gff',\n",
       " 'Pst_104E_v12_p_ctg.REPET.I-3_AC_2p:ClassI:LINE:I.gff',\n",
       " 'Pst_104E_v12_p_ctg.REPET.Gypsy-23_SB-I_1p:ClassI:LTR:Gypsy.cov',\n",
       " 'Pst_104E_v12_p_ctg.REPET.Gypsy-84_MLP-I_1p:ClassI:LTR:Gypsy.gff',\n",
       " 'Pst_104E_v12_p_ctg.REPET.Gypsy18-I_SP:ClassI:LTR:Gypsy.gff',\n",
       " 'Pst_104E_v12_p_ctg.REPET.Copia-33_ST-I:ClassI:LTR:Copia.cov',\n",
       " 'Pst_104E_v12_p_ctg.REPET.Gypsy-211_AA-I:ClassI:LTR:Gypsy.gff',\n",
       " 'Pst_104E_v12_p_ctg.REPET_noblast.classification.Retrotransposon_LINE.cov',\n",
       " 'Pst_104E_v12_p_ctg.REPET.Copia-4_BRa-I_1p:ClassI:LTR:Copia.cov',\n",
       " 'Pst_104E_v12_p_ctg.REPET.CR1-98_AAe:ClassI:LINE:Jockey.gff',\n",
       " 'Pst_104E_v12_p_ctg.REPET.OSTONOR1_I_1p:ClassI:LTR:Copia.gff',\n",
       " 'Pst_104E_v12_p_ctg.REPET.Copia-63_VV-I_1p:ClassI:LTR:Copia.cov',\n",
       " 'Pst_104E_v12_p_ctg.REPET.Copia-12_ALY-I_2p:ClassI:LTR:Copia.cov',\n",
       " 'Pst_104E_v12_p_ctg.REPET.Gypsy-21_DWil-I_1p:ClassI:LTR:Gypsy.gff',\n",
       " 'Pst_104E_v12_p_ctg.REPET.Gypsy-166-I_Dr_2p:ClassI:LTR:Gypsy.gff',\n",
       " 'Pst_104E_v12_p_ctg.REPET.Gypsy-22_SSa-I_1p:ClassI:LTR:Gypsy.cov',\n",
       " 'Pst_104E_v12_p_ctg.REPET.R1-2_AP:ClassI:LINE:I.gff',\n",
       " 'Pst_104E_v12_p_ctg.REPET.Copia-104_SB-Ip:ClassI:LTR:Copia.gff',\n",
       " 'Pst_104E_v12_p_ctg.REPET.Copia-70_AA-I_1p:ClassI:LTR:Copia.gff',\n",
       " 'Pst_104E_v12_p_ctg.REPET.Gypsy-149_AA-I_2p:ClassI:LTR:Gypsy.gff',\n",
       " 'Pst_104E_v12_p_ctg.REPET.Copia-6_DAn-I_1p:ClassI:LTR:Copia.gff',\n",
       " 'Pst_104E_v12_p_ctg.REPET.Gypsy-284_AA-I_1p:ClassI:LTR:Gypsy.gff',\n",
       " 'Pst_104E_v12_p_ctg.REPET.Copia-41_ZM-I_2p:ClassI:LTR:Copia.gff',\n",
       " 'Pst_104E_v12_p_ctg.REPET.Copia-54_ST-I_1p:ClassI:LTR:Copia.gff',\n",
       " 'Pst_104E_v12_p_ctg.REPET.Copia-74_AA-I_1p:ClassI:LTR:Copia.gff',\n",
       " 'Pst_104E_v12_p_ctg.REPET.CR1_Ele28:ClassI:LINE:Jockey.gff',\n",
       " 'Pst_104E_v12_p_ctg.REPET.Gypsy-16_DAn-I:ClassI:LTR:Gypsy.cov',\n",
       " 'Pst_104E_v12_p_ctg.REPET.Copia-4_PAb-I_1p:ClassI:LTR:Copia.cov',\n",
       " 'Pst_104E_v12_p_ctg.REPET.I-3B_CQ:ClassI:LINE:I.cov',\n",
       " 'Pst_104E_v12_p_ctg.REPET.Gypsy-3_GA-I_1p:ClassI:LTR:Gypsy.cov',\n",
       " 'Pst_104E_v12_p_ctg.REPET.Gypsy-6_PIT-I_1p:ClassI:LTR:Gypsy.gff',\n",
       " 'Pst_104E_v12_p_ctg.REPET.Gypsy-1_DGri-I_3p:ClassI:LTR:Gypsy.gff',\n",
       " 'Pst_104E_v12_p_ctg.REPET.Gypsy-26_CPB-I:ClassI:LTR:Gypsy.gff',\n",
       " 'Pst_104E_v12_p_ctg.REPET.Ingi-4_AC:ClassI:LINE:I.cov',\n",
       " 'Pst_104E_v12_p_ctg.REPET.Copia-53_ZM-I_1p:ClassI:LTR:Copia.gff',\n",
       " 'Pst_104E_v12_p_ctg.REPET.Gypsy-21_DYa-I:ClassI:LTR:Gypsy.cov',\n",
       " 'Pst_104E_v12_p_ctg.REPET.Gypsy-17_CSa-I_3p:ClassI:LTR:Gypsy.cov',\n",
       " 'Pst_104E_v12_p_ctg.REPET.Gypsy-228_AA-I:ClassI:LTR:Gypsy.gff',\n",
       " 'Pst_104E_v12_p_ctg.REPET.Gypsy-23-I_XT_2p:ClassI:LTR:Gypsy.gff',\n",
       " 'Pst_104E_v12_p_ctg.REPET.Copia-125_BRa-I_1p:ClassI:LTR:Copia.gff',\n",
       " 'Pst_104E_v12_p_ctg.REPET.Gypsy-11_CCO-I_2p:ClassI:LTR:Gypsy.cov',\n",
       " 'Pst_104E_v12_p_ctg.REPET.Gypsy-173_ZM-I_2p:ClassI:LTR:Gypsy.cov',\n",
       " 'Pst_104E_v12_p_ctg.REPET.I-69_AAe:ClassI:LINE:I.gff',\n",
       " 'Pst_104E_v12_p_ctg.REPET.Copia-135_CCri-I_1p:ClassI:LTR:Copia.gff',\n",
       " 'Pst_104E_v12_p_ctg.REPET.Gypsy10-I_VC_1p:ClassI:LTR:Gypsy.cov',\n",
       " 'Pst_104E_v12_p_ctg.REPET.Gypsy-9_PTri-I_2p:ClassI:LTR:Gypsy.gff',\n",
       " 'Pst_104E_v12_p_ctg.REPET.Gypsy-34_MLP-I_1p:ClassI:LTR:Gypsy.cov',\n",
       " 'Pst_104E_v12_p_ctg.REPET.Copia-99_AA-I_2p:ClassI:LTR:Copia.gff',\n",
       " 'Pst_104E_v12_p_ctg.REPET.Gypsy-2_Trm-I_1p:ClassI:LTR:Gypsy.cov',\n",
       " 'Pst_104E_v12_p_ctg.REPET.Copia-4_PIT-I_1p:ClassI:LTR:Copia.cov',\n",
       " 'Pst_104E_v12_p_ctg.REPET.Gypsy-28_SI-I_1p:ClassI:LTR:Gypsy.cov',\n",
       " 'Pst_104E_v12_p_ctg.REPET.Gypsy-71_AA-I:ClassI:LTR:Gypsy.cov',\n",
       " 'Pst_104E_v12_p_ctg.REPET.Gypsy-6_DAn-I_1p:ClassI:LTR:Gypsy.gff',\n",
       " 'Pst_104E_v12_p_ctg.REPET.Gypsy-33_PT-I_1p:ClassI:LTR:Gypsy.cov',\n",
       " 'Pst_104E_v12_p_ctg.REPET.Gypsy-25_DPu-I:ClassI:LTR:Gypsy.cov',\n",
       " 'Pst_104E_v12_p_ctg.REPET.Copia-36_ATr-I:ClassI:LTR:Copia.gff',\n",
       " 'Pst_104E_v12_p_ctg.REPET.Copia-96_ALy-I_1p:ClassI:LTR:Copia.gff',\n",
       " 'Pst_104E_v12_p_ctg.REPET.Gypsy-37_AA-I_2p:ClassI:LTR:Gypsy.cov',\n",
       " 'Pst_104E_v12_p_ctg.REPET.Copia-14_CQ-I_2p:ClassI:LTR:Copia.gff',\n",
       " 'Pst_104E_v12_p_ctg.REPET.Gypsy-25_PTr-I_1p:ClassI:LTR:Gypsy.cov',\n",
       " 'Pst_104E_v12_p_ctg.REPET.Copia-63_PPe-I_1p:ClassI:LTR:Copia.gff',\n",
       " 'Pst_104E_v12_p_ctg.REPET.Gypsy41-ZM_I_1p:ClassI:LTR:Gypsy.gff',\n",
       " 'Pst_104E_v12_p_ctg.REPET.Gypsy-35_Adi-I:ClassI:LTR:Gypsy.gff',\n",
       " 'Pst_104E_v12_p_ctg.REPET.GYPSY2_AGp:ClassI:LTR:Gypsy.gff',\n",
       " 'Pst_104E_v12_p_ctg.REPET.Copia-40_JC-I_1p:ClassI:LTR:Copia.gff',\n",
       " 'Pst_104E_v12_p_ctg.REPET.Copia-53_BG-I_1p:ClassI:LTR:Copia.cov',\n",
       " 'Pst_104E_v12_p_ctg.REPET.Copia-38_MLP-I_3p:ClassI:LTR:Copia.gff',\n",
       " 'Pst_104E_v12_p_ctg.REPET.L1-33_XT:ClassI:LINE:L1.gff',\n",
       " 'Pst_104E_v12_p_ctg.REPET.Copia-16_DR-I:ClassI:LTR:Copia.cov',\n",
       " 'Pst_104E_v12_p_ctg.REPET.ERV2-2_CHo-I:ClassI:LTR:ERV.cov',\n",
       " 'Pst_104E_v12_p_ctg.REPET.Nimb-1_DR_2p:ClassI:LINE:I.gff',\n",
       " 'Pst_104E_v12_p_ctg.REPET.Copia-13_LMi-I_1p:ClassI:LTR:Copia.gff',\n",
       " 'Pst_104E_v12_p_ctg.REPET.I_Ele4B_AAe:ClassI:LINE:I.cov',\n",
       " 'Pst_104E_v12_p_ctg.REPET.Copia-9_LH-I:ClassI:LTR:Copia.cov',\n",
       " 'Pst_104E_v12_p_ctg.REPET.Gypsy1-I_Dya_1p:ClassI:LTR:Gypsy.gff',\n",
       " 'Pst_104E_v12_p_ctg.REPET.Copia-17_CCri-I_1p:ClassI:LTR:Copia.cov',\n",
       " 'Pst_104E_v12_p_ctg.REPET.Gypsy-89_CCri-I_1p:ClassI:LTR:Gypsy.cov',\n",
       " 'Pst_104E_v12_p_ctg.REPET.Gypsy-13_IS-I:ClassI:LTR:Gypsy.cov',\n",
       " 'Pst_104E_v12_p_ctg.REPET.Copia-2_Mad-I_1p:ClassI:LTR:Copia.cov',\n",
       " 'Pst_104E_v12_p_ctg.REPET.Copia-87_GM-I_1p:ClassI:LTR:Copia.gff',\n",
       " 'Pst_104E_v12_p_ctg.REPET.Gypsy13-NVi_I:ClassI:LTR:Gypsy.gff',\n",
       " 'Pst_104E_v12_p_ctg.REPET.Gypsy-1_ECa-I_1p:ClassI:LTR:Gypsy.cov',\n",
       " 'Pst_104E_v12_p_ctg.REPET.Gypsy-21_DR2p:ClassI:LTR:Gypsy.cov',\n",
       " 'Pst_104E_v12_p_ctg.REPET.Copia-44_RC-I_1p:ClassI:LTR:Copia.cov',\n",
       " 'Pst_104E_v12_p_ctg.REPET.COPIA3-I_OS:ClassI:LTR:Copia.cov',\n",
       " 'Pst_104E_v12_p_ctg.REPET.Copia1-I_TP:ClassI:LTR:Copia.gff',\n",
       " 'Pst_104E_v12_p_ctg.REPET.Jockey-13_DBp:ClassI:LINE:Jockey.cov',\n",
       " 'Pst_104E_v12_p_ctg.REPET_noblast.classification.Retrotransposon_PLE.gff',\n",
       " 'Pst_104E_v12_p_ctg.REPET.Copia-6_TMe-I_1p:ClassI:LTR:Copia.gff',\n",
       " 'Pst_104E_v12_p_ctg.REPET.COPIA3-I_OS:ClassI:LTR:Copia.gff',\n",
       " 'Pst_104E_v12_p_ctg.REPET.Copia-122_AA-I_2p:ClassI:LTR:Copia.cov',\n",
       " 'Pst_104E_v12_p_ctg.REPET.Copia-67_Mad-I_1p:ClassI:LTR:Copia.cov',\n",
       " 'Pst_104E_v12_p_ctg.REPET.Gypsy-25_ADe-I_1p:ClassI:LTR:Gypsy.gff',\n",
       " 'Pst_104E_v12_p_ctg.REPET.Jockey-4_DAn:ClassI:LINE:Jockey.cov',\n",
       " 'Pst_104E_v12_p_ctg.REPET.Daphne-2_NV:ClassI:LINE:Jockey.gff',\n",
       " 'Pst_104E_v12_p_ctg.REPET.Gypsy-36_AA-I:ClassI:LTR:Gypsy.gff',\n",
       " 'Pst_104E_v12_p_ctg.REPET.Gypsy-28B_SSa-I_1p:ClassI:LTR:Gypsy.gff',\n",
       " 'Pst_104E_v12_p_ctg.REPET.Copia-133_SB-Ip:ClassI:LTR:Copia.gff',\n",
       " 'Pst_104E_v12_p_ctg.REPET.Gypsy-88_SB-I_2p:ClassI:LTR:Gypsy.gff',\n",
       " 'Pst_104E_v12_p_ctg.REPET.CR1-2_DK:ClassI:LINE:Jockey.gff',\n",
       " 'Pst_104E_v12_p_ctg.REPET.Copia-31_Mad-I_2p#2:ClassI:LTR:Copia.cov',\n",
       " 'Pst_104E_v12_p_ctg.REPET.L1-53_ACar:ClassI:LINE:L1.cov',\n",
       " 'Pst_104E_v12_p_ctg.REPET.Gypsy-21_ADe-I_1p:ClassI:LTR:Gypsy.gff',\n",
       " 'Pst_104E_v12_p_ctg.REPET.Jockey-3_DF:ClassI:LINE:Jockey.gff',\n",
       " 'Pst_104E_v12_p_ctg.REPET.Gypsy-2_LH-I_1p:ClassI:LTR:Gypsy.gff',\n",
       " 'Pst_104E_v12_p_ctg.REPET_noblast.classification.Retrotransposon_LTR.cov',\n",
       " 'Pst_104E_v12_p_ctg.REPET.Copia-1_DTa-I_2p:ClassI:LTR:Copia.gff',\n",
       " 'Pst_104E_v12_p_ctg.REPET.CR1-62_HM_1p:ClassI:LINE:Jockey.gff',\n",
       " 'Pst_104E_v12_p_ctg.REPET.Copia-4_ALY-I:ClassI:LTR:Copia.gff',\n",
       " 'Pst_104E_v12_p_ctg.REPET.Copia-69_BD-I_2p:ClassI:LTR:Copia.cov',\n",
       " 'Pst_104E_v12_p_ctg.REPET.ERV1-1_Crp-I_2p:ClassI:LTR:ERV.gff',\n",
       " 'Pst_104E_v12_p_ctg.REPET.Gypsy-32_MLP-I_1p:ClassI:LTR:Gypsy.cov',\n",
       " 'Pst_104E_v12_p_ctg.REPET.Gypsy-70_CGi-I_1p:ClassI:LTR:Gypsy.gff',\n",
       " 'Pst_104E_v12_p_ctg.REPET.Gypsy-72_AA-I_1p:ClassI:LTR:Gypsy.gff',\n",
       " 'Pst_104E_v12_p_ctg.REPET.Nimb-14_LMi:ClassI:LINE:I.cov',\n",
       " 'Pst_104E_v12_p_ctg.REPET.Gypsy-8_CCO-I_2p:ClassI:LTR:Gypsy.gff',\n",
       " 'Pst_104E_v12_p_ctg.REPET.Copia-29_DP-I:ClassI:LTR:Copia.cov',\n",
       " 'Pst_104E_v12_p_ctg.REPET.Gypsy-113_MLP-I_1p:ClassI:LTR:Gypsy.gff',\n",
       " 'Pst_104E_v12_p_ctg.REPET.Copia-12_AA-I_1p:ClassI:LTR:Copia.gff',\n",
       " 'Pst_104E_v12_p_ctg.REPET.Gypsy-7_PIT-I_1p:ClassI:LTR:Gypsy.cov',\n",
       " 'Pst_104E_v12_p_ctg.REPET.Gypsy-202_ZM-I_1p:ClassI:LTR:Gypsy.cov',\n",
       " 'Pst_104E_v12_p_ctg.REPET.Gypsy-20_ALY-I_1p:ClassI:LTR:Gypsy.cov',\n",
       " 'Pst_104E_v12_p_ctg.REPET.Copia-59_MLP-I_1p:ClassI:LTR:Copia.cov',\n",
       " 'Pst_104E_v12_p_ctg.REPET.Gypsy-15_DPu-I:ClassI:LTR:Gypsy.gff',\n",
       " 'Pst_104E_v12_p_ctg.REPET.Gypsy-10_SI-I:ClassI:LTR:Gypsy.cov',\n",
       " 'Pst_104E_v12_p_ctg.REPET.Gypsy-8_SB-I_1p:ClassI:LTR:Gypsy.cov',\n",
       " 'Pst_104E_v12_p_ctg.REPET.I-7D_AAe:ClassI:LINE:I.gff',\n",
       " 'Pst_104E_v12_p_ctg.REPET.Copia-42_RC-I_1p:ClassI:LTR:Copia.gff',\n",
       " 'Pst_104E_v12_p_ctg.REPET.Gypsy-9-I_HM:ClassI:LTR:Gypsy.cov',\n",
       " 'Pst_104E_v12_p_ctg.REPET.I-67_AAe:ClassI:LINE:I.cov',\n",
       " 'Pst_104E_v12_p_ctg.REPET.Gypsy-21_SCH-I_2p:ClassI:LTR:Gypsy.gff',\n",
       " 'Pst_104E_v12_p_ctg.REPET.Copia-52_SB-I_1p:ClassI:LTR:Copia.gff',\n",
       " 'Pst_104E_v12_p_ctg.REPET.Gypsy-259_AA-I:ClassI:LTR:Gypsy.cov',\n",
       " 'Pst_104E_v12_p_ctg.REPET.Gypsy-75_MLP-I_1p:ClassI:LTR:Gypsy.gff',\n",
       " 'Pst_104E_v12_p_ctg.REPET.Daphne-36_LMi_2p:ClassI:LINE:Jockey.gff',\n",
       " 'Pst_104E_v12_p_ctg.REPET.Gypsy-2_RO-I_1p:ClassI:LTR:Gypsy.gff',\n",
       " 'Pst_104E_v12_p_ctg.REPET.Copia-43_CCri-I_1p:ClassI:LTR:Copia.cov',\n",
       " 'Pst_104E_v12_p_ctg.REPET.Copia-1_LU-I_1p:ClassI:LTR:Copia.cov',\n",
       " 'Pst_104E_v12_p_ctg.REPET.Gypsy-8_PIT-I_1p:ClassI:LTR:Gypsy.cov',\n",
       " 'Pst_104E_v12_p_ctg.REPET.Gypsy-24_PAb-I:ClassI:LTR:Gypsy.cov',\n",
       " 'Pst_104E_v12_p_ctg.REPET.Gypsy1-PP_I_1p:ClassI:LTR:Gypsy.cov',\n",
       " 'Pst_104E_v12_p_ctg.REPET.Copia-35_CQ-I_1p:ClassI:LTR:Copia.cov',\n",
       " 'Pst_104E_v12_p_ctg.REPET.Gypsy-245_AA-I:ClassI:LTR:Gypsy.gff',\n",
       " 'Pst_104E_v12_p_ctg.REPET.Nimb-16_DR:ClassI:LINE:I.gff',\n",
       " 'Pst_104E_v12_p_ctg.REPET.Copia-20_EPa-I:ClassI:LTR:Copia.cov',\n",
       " 'Pst_104E_v12_p_ctg.REPET.Gypsy71-I_DR_2p:ClassI:LTR:Gypsy.cov',\n",
       " 'Pst_104E_v12_p_ctg.REPET.Copia-8_ATr-I:ClassI:LTR:Copia.gff',\n",
       " 'Pst_104E_v12_p_ctg.REPET.Copia5-ZM_I_3p:ClassI:LTR:Copia.cov',\n",
       " 'Pst_104E_v12_p_ctg.REPET.I_Ele4F_AAe:ClassI:LINE:I.cov',\n",
       " 'Pst_104E_v12_p_ctg.REPET.CR1-1_Lme:ClassI:LINE:Jockey.cov',\n",
       " 'Pst_104E_v12_p_ctg.REPET.Copia-86_SB-Ip:ClassI:LTR:Copia.gff',\n",
       " 'Pst_104E_v12_p_ctg.REPET.Gypsy7-I_Dmoj_1p:ClassI:LTR:Gypsy.cov',\n",
       " 'Pst_104E_v12_p_ctg.REPET.Copia-53_JC-I_1p:ClassI:LTR:Copia.cov',\n",
       " 'Pst_104E_v12_p_ctg.REPET.Copia-38_MLP-I_3p:ClassI:LTR:Copia.cov',\n",
       " 'Pst_104E_v12_p_ctg.REPET.Gypsy-8_Trm-I_1p:ClassI:LTR:Gypsy.cov',\n",
       " 'Pst_104E_v12_p_ctg.REPET.Gypsy-33_DEl-I:ClassI:LTR:Gypsy.cov',\n",
       " 'Pst_104E_v12_p_ctg.REPET.Gypsy-6_HMM-I:ClassI:LTR:Gypsy.gff',\n",
       " 'Pst_104E_v12_p_ctg.REPET.Copia-3_CP-I_1p#2:ClassI:LTR:Copia.cov',\n",
       " 'Pst_104E_v12_p_ctg.REPET.Gypsy-202_ZM-I_1p:ClassI:LTR:Gypsy.gff',\n",
       " 'Pst_104E_v12_p_ctg.REPET.Copia-91_SB-I_2p:ClassI:LTR:Copia.cov',\n",
       " 'Pst_104E_v12_p_ctg.REPET.Copia-9_AA-I_1p:ClassI:LTR:Copia.cov',\n",
       " 'Pst_104E_v12_p_ctg.REPET.Nimb-12_LMi:ClassI:LINE:I.cov',\n",
       " 'Pst_104E_v12_p_ctg.REPET.Gypsy-76_BD-I_2p:ClassI:LTR:Gypsy.cov',\n",
       " 'Pst_104E_v12_p_ctg.REPET.Copia-48_GM-I_1p:ClassI:LTR:Copia.cov',\n",
       " 'Pst_104E_v12_p_ctg.REPET.Copia-14_ST-I_1p:ClassI:LTR:Copia.gff',\n",
       " 'Pst_104E_v12_p_ctg.REPET.HERV30I:ClassI:?:?.gff',\n",
       " 'Pst_104E_v12_p_ctg.REPET.Gypsy-13_CSa-I:ClassI:LTR:Gypsy.gff',\n",
       " 'Pst_104E_v12_p_ctg.REPET.Copia-71_GM-I_1p:ClassI:LTR:Copia.cov',\n",
       " 'Pst_104E_v12_p_ctg.REPET.Copia-35_ALY-I:ClassI:LTR:Copia.gff',\n",
       " 'Pst_104E_v12_p_ctg.REPET.Gypsy-12_CGi-I_1p:ClassI:LTR:Gypsy.cov',\n",
       " 'Pst_104E_v12_p_ctg.REPET.Copia-75_ALY-I_1p:ClassI:LTR:Copia.gff',\n",
       " 'Pst_104E_v12_p_ctg.REPET.Copia-91_Mad-I_1p:ClassI:LTR:Copia.gff',\n",
       " 'Pst_104E_v12_p_ctg.REPET.Copia-26_BG-I:ClassI:LTR:Copia.cov',\n",
       " 'Pst_104E_v12_p_ctg.REPET.Copia-42_ECa-I_1p:ClassI:LTR:Copia.cov',\n",
       " 'Pst_104E_v12_p_ctg.REPET.Copia-62_AA-I_1p:ClassI:LTR:Copia.gff',\n",
       " 'Pst_104E_v12_p_ctg.REPET.Copia-85_ST-I:ClassI:LTR:Copia.cov',\n",
       " 'Pst_104E_v12_p_ctg.REPET.Nimb-6_DR:ClassI:LINE:I.cov',\n",
       " 'Pst_104E_v12_p_ctg.REPET.CR1-3_TCa:ClassI:LINE:Jockey.gff',\n",
       " 'Pst_104E_v12_p_ctg.REPET.Gypsy-22_SSa-I_1p:ClassI:LTR:Gypsy.gff',\n",
       " 'Pst_104E_v12_p_ctg.REPET.Copia-19_JC-I_1p:ClassI:LTR:Copia.gff',\n",
       " 'Pst_104E_v12_p_ctg.REPET.Gypsy-6_SMo-I_1p:ClassI:LTR:Gypsy.gff',\n",
       " 'Pst_104E_v12_p_ctg.REPET.ERV-4_AMi-I:ClassI:LTR:ERV.gff',\n",
       " 'Pst_104E_v12_p_ctg.REPET.Gypsy-11_SI-I_3p:ClassI:LTR:Gypsy.gff',\n",
       " 'Pst_104E_v12_p_ctg.REPET.Copia-38-I_ZM_1p:ClassI:LTR:Copia.cov',\n",
       " 'Pst_104E_v12_p_ctg.REPET.Gypsy-97_ZM-I_1p:ClassI:LTR:Gypsy.gff',\n",
       " 'Pst_104E_v12_p_ctg.REPET.CR1-1_Lme:ClassI:LINE:Jockey.gff',\n",
       " 'Pst_104E_v12_p_ctg.REPET.Copia-31_CQ-I_1p:ClassI:LTR:Copia.gff',\n",
       " 'Pst_104E_v12_p_ctg.REPET.CR1-83_HM:ClassI:LINE:Jockey.cov',\n",
       " 'Pst_104E_v12_p_ctg.REPET.Gypsy-40_SB-I_1p:ClassI:LTR:Gypsy.cov',\n",
       " 'Pst_104E_v12_p_ctg.REPET.Gypsy-117_MLP-I_2p:ClassI:LTR:Gypsy.gff',\n",
       " 'Pst_104E_v12_p_ctg.REPET.Gypsy-14_DFi-I_1p:ClassI:LTR:Gypsy.cov',\n",
       " 'Pst_104E_v12_p_ctg.REPET.Copia-51_MLP-I_1p:ClassI:LTR:Copia.cov',\n",
       " 'Pst_104E_v12_p_ctg.REPET.Gypsy-174_DR-I:ClassI:LTR:Gypsy.gff',\n",
       " 'Pst_104E_v12_p_ctg.REPET.Copia-11_CP-I_1p:ClassI:LTR:Copia.cov',\n",
       " 'Pst_104E_v12_p_ctg.REPET.GYPSY29-I_AG:ClassI:LTR:Gypsy.gff',\n",
       " 'Pst_104E_v12_p_ctg.REPET.Copia-47_JC-I_1p:ClassI:LTR:Copia.cov',\n",
       " 'Pst_104E_v12_p_ctg.REPET.Copia-3_JC-I_1p:ClassI:LTR:Copia.cov',\n",
       " 'Pst_104E_v12_p_ctg.REPET.Copia-24_Pru-I:ClassI:LTR:Copia.cov',\n",
       " 'Pst_104E_v12_p_ctg.REPET.Gypsy-23_CGi-I:ClassI:LTR:Gypsy.cov',\n",
       " 'Pst_104E_v12_p_ctg.REPET.Gypsy-20_ST-I_1p:ClassI:LTR:Gypsy.gff',\n",
       " 'Pst_104E_v12_p_ctg.REPET.Gypsy2-I_Dpse:ClassI:LTR:Gypsy.cov',\n",
       " 'Pst_104E_v12_p_ctg.REPET.Copia-3_ALY-I_1p:ClassI:LTR:Copia.cov',\n",
       " 'Pst_104E_v12_p_ctg.REPET.Gypsy-228_AA-I:ClassI:LTR:Gypsy.cov',\n",
       " 'Pst_104E_v12_p_ctg.REPET.Gypsy-30_BRa-I_1p:ClassI:LTR:Gypsy.gff',\n",
       " 'Pst_104E_v12_p_ctg.REPET.Copia-10_PR-I_1p:ClassI:LTR:Copia.cov',\n",
       " 'Pst_104E_v12_p_ctg.REPET.Copia-31_LU-I_1p:ClassI:LTR:Copia.cov',\n",
       " 'Pst_104E_v12_p_ctg.REPET_TE.classification.Retrotransposon_LARD.cov',\n",
       " 'Pst_104E_v12_p_ctg.REPET.Nimb-1_LG:ClassI:LINE:I.gff',\n",
       " 'Pst_104E_v12_p_ctg.REPET.Copia-35_Mad-I_1p:ClassI:LTR:Copia.gff',\n",
       " 'Pst_104E_v12_p_ctg.REPET.Gypsy-38_BG-I_3p:ClassI:LTR:Gypsy.cov',\n",
       " 'Pst_104E_v12_p_ctg.REPET.Copia-131_SB-I_2p:ClassI:LTR:Copia.cov',\n",
       " 'Pst_104E_v12_p_ctg.REPET.I_Ele4F_AAe:ClassI:LINE:I.gff',\n",
       " 'Pst_104E_v12_p_ctg.REPET.Copia-151_CCri-I_1p:ClassI:LTR:Copia.gff',\n",
       " 'Pst_104E_v12_p_ctg.REPET.Copia19-NV_I_2p:ClassI:LTR:Copia.cov',\n",
       " 'Pst_104E_v12_p_ctg.REPET.Gypsy-35_PIT-I:ClassI:LTR:Gypsy.gff',\n",
       " 'Pst_104E_v12_p_ctg.REPET.Gypsy158-I_DR_1p:ClassI:LTR:Gypsy.cov',\n",
       " 'Pst_104E_v12_p_ctg.REPET.Copia20-NVi_I:ClassI:LTR:Copia.cov',\n",
       " 'Pst_104E_v12_p_ctg.REPET.LINE1_BM:ClassI:LINE:Jockey.gff',\n",
       " 'Pst_104E_v12_p_ctg.REPET.Gypsy-12_DEu-I_1p:ClassI:LTR:Gypsy.gff',\n",
       " 'Pst_104E_v12_p_ctg.REPET.L1-52_ACar_2p:ClassI:LINE:L1.gff',\n",
       " 'Pst_104E_v12_p_ctg.REPET.Copia-49_BRa-I_1p:ClassI:LTR:Copia.gff',\n",
       " 'Pst_104E_v12_p_ctg.REPET.Gypsy-181_DR-I:ClassI:LTR:Gypsy.gff',\n",
       " 'Pst_104E_v12_p_ctg.REPET.Copia-74_GM-I:ClassI:LTR:Copia.cov',\n",
       " 'Pst_104E_v12_p_ctg.REPET.Gypsy117-I_DR_2p:ClassI:LTR:Gypsy.gff',\n",
       " 'Pst_104E_v12_p_ctg.REPET.I-7D_AAe:ClassI:LINE:I.cov',\n",
       " 'Pst_104E_v12_p_ctg.REPET.Copia17-PTR_I_2p:ClassI:LTR:Copia.gff',\n",
       " 'Pst_104E_v12_p_ctg.REPET.Gypsy-116_MLP-I_1p:ClassI:LTR:Gypsy.gff',\n",
       " 'Pst_104E_v12_p_ctg.REPET.Copia-5_SI-I_1p:ClassI:LTR:Copia.gff',\n",
       " 'Pst_104E_v12_p_ctg.REPET.Copia1_CRp:ClassI:LTR:Copia.cov',\n",
       " 'Pst_104E_v12_p_ctg.REPET.Gypsy9-NVi_I:ClassI:LTR:Gypsy.cov',\n",
       " 'Pst_104E_v12_p_ctg.REPET.Copia-18_DPu-I_1p:ClassI:LTR:Copia.gff',\n",
       " 'Pst_104E_v12_p_ctg.REPET.GYPSY28-I_AG:ClassI:LTR:Gypsy.gff',\n",
       " 'Pst_104E_v12_p_ctg.REPET.Loner_Ele4:ClassI:LINE:I.gff',\n",
       " 'Pst_104E_v12_p_ctg.REPET.Gypsy127-I_DR_1p:ClassI:LTR:Gypsy.gff',\n",
       " 'Pst_104E_v12_p_ctg.REPET.Gypsy-27_PIT-I:ClassI:LTR:Gypsy.cov',\n",
       " 'Pst_104E_v12_p_ctg.REPET.Copia-2_Pru-I_3p:ClassI:LTR:Copia.gff',\n",
       " 'Pst_104E_v12_p_ctg.REPET.Copia-2_PSo-I_2p:ClassI:LTR:Copia.gff',\n",
       " 'Pst_104E_v12_p_ctg.REPET.Copia-11_ST-I_1p:ClassI:LTR:Copia.cov',\n",
       " 'Pst_104E_v12_p_ctg.REPET.Gypsy-70_BG-I_2p:ClassI:LTR:Gypsy.cov',\n",
       " 'Pst_104E_v12_p_ctg.REPET.Copia-31_Pru-I_2p:ClassI:LTR:Copia.cov',\n",
       " 'Pst_104E_v12_p_ctg.REPET.Gypsy-11_PIT-I_1p:ClassI:LTR:Gypsy.gff',\n",
       " 'Pst_104E_v12_p_ctg.REPET.Gypsy-25_ST-I_1p:ClassI:LTR:Gypsy.cov',\n",
       " 'Pst_104E_v12_p_ctg.REPET.Copia-39_RC-I_1p:ClassI:LTR:Copia.cov',\n",
       " 'Pst_104E_v12_p_ctg.REPET.Gypsy-1_HAS-I_1p:ClassI:LTR:Gypsy.cov',\n",
       " 'Pst_104E_v12_p_ctg.REPET.Gypsy-17_PM-I:ClassI:LTR:Gypsy.cov',\n",
       " 'Pst_104E_v12_p_ctg.REPET.Copia-4_ALY-I:ClassI:LTR:Copia.cov',\n",
       " 'Pst_104E_v12_p_ctg.REPET.Gypsy-31_DAn-I:ClassI:LTR:Gypsy.gff',\n",
       " 'Pst_104E_v12_p_ctg.REPET.Gypsy158-I_DR:ClassI:LTR:Gypsy.gff',\n",
       " 'Pst_104E_v12_p_ctg.REPET.ERV42_MD_I:ClassI:LTR:ERV.cov',\n",
       " 'Pst_104E_v12_p_ctg.REPET.Gypsy-161_ZM-I_1p:ClassI:LTR:Gypsy.gff',\n",
       " 'Pst_104E_v12_p_ctg.REPET.Copia-40_BRa-I_1p:ClassI:LTR:Copia.gff',\n",
       " 'Pst_104E_v12_p_ctg.REPET.Copia-44_BG-I_1p:ClassI:LTR:Copia.gff',\n",
       " 'Pst_104E_v12_p_ctg.REPET.Copia-28_SI-I_1p:ClassI:LTR:Copia.gff',\n",
       " 'Pst_104E_v12_p_ctg.REPET.Copia-30_CCri-I_1p:ClassI:LTR:Copia.cov',\n",
       " 'Pst_104E_v12_p_ctg.REPET.Gypsy-129_DR-I_1p:ClassI:LTR:Gypsy.gff',\n",
       " 'Pst_104E_v12_p_ctg.REPET.CR1-25_CQ:ClassI:LINE:Jockey.cov',\n",
       " 'Pst_104E_v12_p_ctg.REPET.Gypsy-24_IS-I:ClassI:LTR:Gypsy.gff',\n",
       " 'Pst_104E_v12_p_ctg.REPET.Copia-82_AA-I_2p:ClassI:LTR:Copia.cov',\n",
       " 'Pst_104E_v12_p_ctg.REPET.COPIA2-I_OS_1p:ClassI:LTR:Copia.cov',\n",
       " 'Pst_104E_v12_p_ctg.REPET.Gypsy-8_TC-I_1p:ClassI:LTR:Gypsy.gff',\n",
       " 'Pst_104E_v12_p_ctg.REPET.CR1-Y_Pass:ClassI:LINE:Jockey.gff',\n",
       " 'Pst_104E_v12_p_ctg.REPET_noblast.classification.Retrotransposon_LARD.gff',\n",
       " 'Pst_104E_v12_p_ctg.REPET.Copia-5_LH-I_2p:ClassI:LTR:Copia.cov',\n",
       " 'Pst_104E_v12_p_ctg.REPET.CR1-25_CQ:ClassI:LINE:Jockey.gff',\n",
       " 'Pst_104E_v12_p_ctg.REPET.Gypsy-14_PIT-I_2p:ClassI:LTR:Gypsy.cov',\n",
       " 'Pst_104E_v12_p_ctg.REPET.Gypsy-2_CH_2p:ClassI:LTR:Gypsy.gff',\n",
       " 'Pst_104E_v12_p_ctg.REPET.Copia-64_GM-I_1p:ClassI:LTR:Copia.cov',\n",
       " 'Pst_104E_v12_p_ctg.REPET.Copia-68_BRa-I:ClassI:LTR:Copia.cov',\n",
       " 'Pst_104E_v12_p_ctg.REPET.R1-1_HMM:ClassI:LINE:I.gff',\n",
       " 'Pst_104E_v12_p_ctg.REPET.Copia-5_Cfl-I_1p:ClassI:LTR:Copia.cov',\n",
       " 'Pst_104E_v12_p_ctg.REPET.Copia-14_GM-I:ClassI:LTR:Copia.gff',\n",
       " 'Pst_104E_v12_p_ctg.REPET.Gypsy-19-I_NV:ClassI:LTR:Gypsy.cov',\n",
       " 'Pst_104E_v12_p_ctg.REPET.Gypsy-72_AA-I_1p:ClassI:LTR:Gypsy.cov',\n",
       " 'Pst_104E_v12_p_ctg.REPET.Gypsy70-ZM_I_2p:ClassI:LTR:Gypsy.gff',\n",
       " 'Pst_104E_v12_p_ctg.REPET.Gypsy-126_MLP-I_2p:ClassI:LTR:Gypsy.gff',\n",
       " 'Pst_104E_v12_p_ctg.REPET.Copia-78_BD-I_3p:ClassI:LTR:Copia.cov',\n",
       " 'Pst_104E_v12_p_ctg.REPET.ERV32_MD_I:ClassI:LTR:ERV.cov',\n",
       " 'Pst_104E_v12_p_ctg.REPET.Gypsy-20_RP-I:ClassI:LTR:Gypsy.cov',\n",
       " 'Pst_104E_v12_p_ctg.REPET.Copia-14_CQ-I_3p:ClassI:LTR:Copia.cov',\n",
       " 'Pst_104E_v12_p_ctg.REPET.Gypsy8-SM_I_2p:ClassI:LTR:Gypsy.cov',\n",
       " 'Pst_104E_v12_p_ctg.REPET.Copia-66_BG-I:ClassI:LTR:Copia.cov',\n",
       " 'Pst_104E_v12_p_ctg.REPET.Copia-29_ALY-I:ClassI:LTR:Copia.cov',\n",
       " 'Pst_104E_v12_p_ctg.REPET.Copia-10_DPu-I_1p:ClassI:LTR:Copia.cov',\n",
       " 'Pst_104E_v12_p_ctg.REPET.Copia-1_PPM-I_1p:ClassI:LTR:Copia.gff',\n",
       " 'Pst_104E_v12_p_ctg.REPET.Gypsy-11_PTrit-I_2p:ClassI:LTR:Gypsy.gff',\n",
       " 'Pst_104E_v12_p_ctg.REPET.Gypsy-12_CSa-I:ClassI:LTR:Gypsy.gff',\n",
       " 'Pst_104E_v12_p_ctg.REPET.Gypsy78-I_DR:ClassI:LTR:Gypsy.cov',\n",
       " 'Pst_104E_v12_p_ctg.REPET.Gypsy-15_Ano-I_1p:ClassI:LTR:Gypsy.cov',\n",
       " 'Pst_104E_v12_p_ctg.REPET.Copia-82_ALY-I_1p:ClassI:LTR:Copia.cov',\n",
       " 'Pst_104E_v12_p_ctg.REPET.Copia-82_VV-I:ClassI:LTR:Copia.gff',\n",
       " 'Pst_104E_v12_p_ctg.REPET.Copia-34_TC-I_1p:ClassI:LTR:Copia.cov',\n",
       " 'Pst_104E_v12_p_ctg.REPET.Gypsy-150_AA-I:ClassI:LTR:Gypsy.cov',\n",
       " 'Pst_104E_v12_p_ctg.REPET.CR1-9_CQ:ClassI:LINE:Jockey.cov',\n",
       " 'Pst_104E_v12_p_ctg.REPET.Copia3-ZM_I_1p:ClassI:LTR:Copia.gff',\n",
       " 'Pst_104E_v12_p_ctg.REPET.Copia-4_GM-I:ClassI:LTR:Copia.cov',\n",
       " 'Pst_104E_v12_p_ctg.REPET.Gypsy-125_AA-I_2p:ClassI:LTR:Gypsy.cov',\n",
       " 'Pst_104E_v12_p_ctg.REPET.Copia-32_ATr-I_1p:ClassI:LTR:Copia.gff',\n",
       " 'Pst_104E_v12_p_ctg.REPET.Copia-17_SB-I_1p:ClassI:LTR:Copia.cov',\n",
       " 'Pst_104E_v12_p_ctg.REPET.Gypsy2-I_Dpse:ClassI:LTR:Gypsy.gff',\n",
       " 'Pst_104E_v12_p_ctg.REPET.Copia-133_SB-Ip:ClassI:LTR:Copia.cov',\n",
       " 'Pst_104E_v12_p_ctg.REPET.Gypsy-6_DPu-I_2p:ClassI:LTR:Gypsy.gff',\n",
       " 'Pst_104E_v12_p_ctg.REPET.Copia-70_AA-I_1p:ClassI:LTR:Copia.cov',\n",
       " 'Pst_104E_v12_p_ctg.REPET.CR1-122_AAe:ClassI:LINE:Jockey.gff',\n",
       " 'Pst_104E_v12_p_ctg.REPET.PtPineywoods_I:ClassI:LTR:?.cov',\n",
       " 'Pst_104E_v12_p_ctg.REPET.Copia-106_BRa-I_1p:ClassI:LTR:Copia.cov',\n",
       " 'Pst_104E_v12_p_ctg.REPET.Copia-67_BG-I_1p:ClassI:LTR:Copia.gff',\n",
       " 'Pst_104E_v12_p_ctg.REPET.Gypsy-88_ZM-I_1p:ClassI:LTR:Gypsy.cov',\n",
       " 'Pst_104E_v12_p_ctg.REPET.Gypsy-13_CGi-I_1p:ClassI:LTR:Gypsy.gff',\n",
       " 'Pst_104E_v12_p_ctg.REPET.Copia-5_Mad-I_1p#2:ClassI:LTR:Copia.gff',\n",
       " 'Pst_104E_v12_p_ctg.REPET.CR1-8_AG:ClassI:LINE:Jockey.gff',\n",
       " 'Pst_104E_v12_p_ctg.REPET.Copia-39_JC-I_3p:ClassI:LTR:Copia.gff',\n",
       " 'Pst_104E_v12_p_ctg.REPET.Copia-63_PPe-I:ClassI:LTR:Copia.gff',\n",
       " 'Pst_104E_v12_p_ctg.REPET.Copia-3_LU-I_1p:ClassI:LTR:Copia.gff',\n",
       " 'Pst_104E_v12_p_ctg.REPET.Copia-1_FV-I_1p:ClassI:LTR:Copia.gff',\n",
       " 'Pst_104E_v12_p_ctg.REPET.Gypsy-30_SI-I_2p:ClassI:LTR:Gypsy.gff',\n",
       " 'Pst_104E_v12_p_ctg.REPET.Copia-75_PT-I_1p:ClassI:LTR:Copia.gff',\n",
       " 'Pst_104E_v12_p_ctg.REPET.Copia-54_CCri-LTR:ClassI:LTR:Copia.gff',\n",
       " 'Pst_104E_v12_p_ctg.REPET_TE.classification.Retrotransposon_LTR.cov',\n",
       " 'Pst_104E_v12_p_ctg.REPET.Gypsy-95_MLP-I_2p:ClassI:LTR:Gypsy.cov',\n",
       " 'Pst_104E_v12_p_ctg.REPET.Copia-58_ST-I_1p:ClassI:LTR:Copia.cov',\n",
       " 'Pst_104E_v12_p_ctg.REPET.Hebe_Av:ClassI:LINE:Jockey.gff',\n",
       " 'Pst_104E_v12_p_ctg.REPET.Gypsy-14-I_XT_1p:ClassI:LTR:Gypsy.cov',\n",
       " 'Pst_104E_v12_p_ctg.REPET.Copia-2_RP-I:ClassI:LTR:Copia.cov',\n",
       " 'Pst_104E_v12_p_ctg.REPET.Copia-42_ECa-I_1p:ClassI:LTR:Copia.gff',\n",
       " 'Pst_104E_v12_p_ctg.REPET.Copia-49_VV-I_3p:ClassI:LTR:Copia.cov',\n",
       " 'Pst_104E_v12_p_ctg.REPET.ERV6_MD_I:ClassI:LTR:ERV.cov',\n",
       " 'Pst_104E_v12_p_ctg.REPET.L2-2_DRe:ClassI:LINE:Jockey.gff',\n",
       " 'Pst_104E_v12_p_ctg.REPET.Gypsy-17_BG-I_1p:ClassI:LTR:Gypsy.cov',\n",
       " 'Pst_104E_v12_p_ctg.REPET.Copia-43_FV-I_2p:ClassI:LTR:Copia.gff',\n",
       " 'Pst_104E_v12_p_ctg.REPET.LOA-2_CQ:ClassI:LINE:I.cov',\n",
       " 'Pst_104E_v12_p_ctg.REPET.Gypsy-24_DWil-I_1p:ClassI:LTR:Gypsy.cov',\n",
       " 'Pst_104E_v12_p_ctg.REPET.MRT:ClassI:LINE:I.cov',\n",
       " 'Pst_104E_v12_p_ctg.REPET.Copia-5_Mad-I_1p#2:ClassI:LTR:Copia.cov',\n",
       " 'Pst_104E_v12_p_ctg.REPET.Gypsy-41_AMi-I_1p:ClassI:LTR:Gypsy.gff',\n",
       " 'Pst_104E_v12_p_ctg.REPET.Copia17-PTR_I_2p:ClassI:LTR:Copia.cov',\n",
       " 'Pst_104E_v12_p_ctg.REPET.Gypsy-14_PIT-I_2p:ClassI:LTR:Gypsy.gff',\n",
       " 'Pst_104E_v12_p_ctg.REPET.ERV2-2_Tbel_I:ClassI:LTR:ERV.cov',\n",
       " 'Pst_104E_v12_p_ctg.REPET.Copia-79_PT-I_1p:ClassI:LTR:Copia.cov',\n",
       " 'Pst_104E_v12_p_ctg.REPET.Gypsy-8_Trm-I_1p:ClassI:LTR:Gypsy.gff',\n",
       " 'Pst_104E_v12_p_ctg.REPET.Copia-43_BG-I_1p:ClassI:LTR:Copia.cov',\n",
       " 'Pst_104E_v12_p_ctg.REPET.CR1_Ele16:ClassI:LINE:Jockey.gff',\n",
       " 'Pst_104E_v12_p_ctg.REPET.Gypsy-252_AA-I:ClassI:LTR:Gypsy.gff',\n",
       " 'Pst_104E_v12_p_ctg.REPET.Copia-15_Mad-I_1p#2:ClassI:LTR:Copia.gff',\n",
       " 'Pst_104E_v12_p_ctg.REPET.Copia-11_PSo-I_1p:ClassI:LTR:Copia.cov',\n",
       " 'Pst_104E_v12_p_ctg.REPET.Copia-3_JC-I:ClassI:LTR:Copia.gff',\n",
       " 'Pst_104E_v12_p_ctg.REPET.ERV1-2-I_XT2p:ClassI:LTR:ERV.gff',\n",
       " 'Pst_104E_v12_p_ctg.REPET.Copia-3_CP-I_1p#2:ClassI:LTR:Copia.gff',\n",
       " 'Pst_104E_v12_p_ctg.REPET.Copia-1_DBp-I_2p:ClassI:LTR:Copia.cov',\n",
       " 'Pst_104E_v12_p_ctg.REPET.Gypsy-19_AMi-I_1p:ClassI:LTR:Gypsy.cov',\n",
       " 'Pst_104E_v12_p_ctg.REPET.L1-3_VC:ClassI:LINE:L1.gff',\n",
       " 'Pst_104E_v12_p_ctg.REPET.Copia-34_SB-I_3p:ClassI:LTR:Copia.gff',\n",
       " 'Pst_104E_v12_p_ctg.REPET.Copia-17_CQ-I_1p:ClassI:LTR:Copia.cov',\n",
       " 'Pst_104E_v12_p_ctg.REPET.Gypsy-111_ZM-I_1p:ClassI:LTR:Gypsy.gff',\n",
       " 'Pst_104E_v12_p_ctg.REPET.Gypsy-15_OD-I:ClassI:LTR:Gypsy.gff',\n",
       " 'Pst_104E_v12_p_ctg.REPET.Gypsy-126_ZM-I_1p:ClassI:LTR:Gypsy.gff',\n",
       " 'Pst_104E_v12_p_ctg.REPET.Gypsy45-I_DR_1p:ClassI:LTR:Gypsy.gff',\n",
       " 'Pst_104E_v12_p_ctg.REPET.Jockey-4_DF:ClassI:LINE:Jockey.gff',\n",
       " 'Pst_104E_v12_p_ctg.REPET.Gypsy-10-I_NV:ClassI:LTR:Gypsy.gff',\n",
       " 'Pst_104E_v12_p_ctg.REPET.Copia11-NV_I_1p:ClassI:LTR:Copia.gff',\n",
       " 'Pst_104E_v12_p_ctg.REPET.Gypsy-113_MLP-I_2p:ClassI:LTR:Gypsy.gff',\n",
       " 'Pst_104E_v12_p_ctg.REPET.ERV1-3_SSc-I:ClassI:LTR:ERV.cov',\n",
       " 'Pst_104E_v12_p_ctg.REPET.Copia-93_Mad-I_1p:ClassI:LTR:Copia.cov',\n",
       " 'Pst_104E_v12_p_ctg.REPET.Copia-5_TMe-I_2p:ClassI:LTR:Copia.cov',\n",
       " 'Pst_104E_v12_p_ctg.REPET.Copia-21_BRa-I_1p:ClassI:LTR:Copia.cov',\n",
       " 'Pst_104E_v12_p_ctg.REPET.Gypsy-9_DBp-I:ClassI:LTR:Gypsy.gff',\n",
       " 'Pst_104E_v12_p_ctg.REPET.Copia-32_JC-LTR:ClassI:LTR:Copia.cov',\n",
       " 'Pst_104E_v12_p_ctg.REPET.Copia-5_AA-I_1p:ClassI:LTR:Copia.cov',\n",
       " 'Pst_104E_v12_p_ctg.REPET.GYPSY53_AG2p:ClassI:LTR:Gypsy.cov',\n",
       " 'Pst_104E_v12_p_ctg.REPET.Gypsy-3_PR-I_1p:ClassI:LTR:Gypsy.cov',\n",
       " 'Pst_104E_v12_p_ctg.REPET.Copia-88_Mad-I_2p:ClassI:LTR:Copia.cov',\n",
       " 'Pst_104E_v12_p_ctg.REPET.Copia-27_SI-I_1p:ClassI:LTR:Copia.gff',\n",
       " 'Pst_104E_v12_p_ctg.REPET.Gypsy-18_PSo-I:ClassI:LTR:Gypsy.gff',\n",
       " 'Pst_104E_v12_p_ctg.REPET.Copia-17_SB-I_1p:ClassI:LTR:Copia.gff',\n",
       " 'Pst_104E_v12_p_ctg.REPET.PTERV1a_2p:ClassI:LTR:ERV.cov',\n",
       " 'Pst_104E_v12_p_ctg.REPET.ERV3-1-I_XT:ClassI:LTR:ERV.cov',\n",
       " 'Pst_104E_v12_p_ctg.REPET.Copia-24_TC-I:ClassI:LTR:Copia.gff',\n",
       " 'Pst_104E_v12_p_ctg.REPET.Gypsy-37_BD-I_1p:ClassI:LTR:Gypsy.gff',\n",
       " 'Pst_104E_v12_p_ctg.REPET.I-4_DBi:ClassI:LINE:I.cov',\n",
       " 'Pst_104E_v12_p_ctg.REPET.Copia-3_PGr-I_2p:ClassI:LTR:Copia.gff',\n",
       " 'Pst_104E_v12_p_ctg.REPET.Copia-58_ST-I_1p:ClassI:LTR:Copia.gff',\n",
       " 'Pst_104E_v12_p_ctg.REPET.Gypsy-35_GA-I_2p:ClassI:LTR:Gypsy.gff',\n",
       " 'Pst_104E_v12_p_ctg.REPET.Gypsy-10-I_NV:ClassI:LTR:Gypsy.cov',\n",
       " 'Pst_104E_v12_p_ctg.REPET.Gret1_I_1p#2:ClassI:LTR:Gypsy.gff',\n",
       " 'Pst_104E_v12_p_ctg.REPET.I-50_AAe:ClassI:LINE:I.gff',\n",
       " 'Pst_104E_v12_p_ctg.REPET.Copia-34_ALY-I_1p:ClassI:LTR:Copia.gff',\n",
       " 'Pst_104E_v12_p_ctg.REPET.Copia-56_PTr-I_1p:ClassI:LTR:Copia.gff',\n",
       " 'Pst_104E_v12_p_ctg.REPET.Gypsy4-NVi_I:ClassI:LTR:Gypsy.cov',\n",
       " 'Pst_104E_v12_p_ctg.REPET.Gypsy-31_ST-I_1p:ClassI:LTR:Gypsy.gff',\n",
       " 'Pst_104E_v12_p_ctg.REPET.Copia-2_Pru-I_3p:ClassI:LTR:Copia.cov',\n",
       " 'Pst_104E_v12_p_ctg.REPET.Gypsy-13_AA-I:ClassI:LTR:Gypsy.cov',\n",
       " 'Pst_104E_v12_p_ctg.REPET.Gypsy43-ZM_I:ClassI:LTR:Gypsy.cov',\n",
       " 'Pst_104E_v12_p_ctg.REPET.Gypsy-22_ADe-I_2p:ClassI:LTR:Gypsy.gff',\n",
       " 'Pst_104E_v12_p_ctg.REPET.Copia-22_BG-I:ClassI:LTR:Copia.gff',\n",
       " 'Pst_104E_v12_p_ctg.REPET.Gypsy-100_ZM-I_1p:ClassI:LTR:Gypsy.gff',\n",
       " 'Pst_104E_v12_p_ctg.REPET.Copia12-ZM_I_1p:ClassI:LTR:Copia.gff',\n",
       " 'Pst_104E_v12_p_ctg.REPET.Gypsy-2_DPer-I:ClassI:LTR:Gypsy.gff',\n",
       " 'Pst_104E_v12_p_ctg.REPET.Copia-14_AA-I_1p:ClassI:LTR:Copia.cov',\n",
       " 'Pst_104E_v12_p_ctg.REPET.Gypsy15-I_Dpse_2p:ClassI:LTR:Gypsy.cov',\n",
       " 'Pst_104E_v12_p_ctg.REPET.Copia-6_DAn-I_1p:ClassI:LTR:Copia.cov',\n",
       " 'Pst_104E_v12_p_ctg.REPET.Gypsy-221_AA-I_3p:ClassI:LTR:Gypsy.gff',\n",
       " 'Pst_104E_v12_p_ctg.REPET.Copia-7_ECa-I:ClassI:LTR:Copia.gff',\n",
       " 'Pst_104E_v12_p_ctg.REPET.Copia-12_ATr-I_1p:ClassI:LTR:Copia.cov',\n",
       " 'Pst_104E_v12_p_ctg.REPET.I-4_CQ:ClassI:LINE:I.gff',\n",
       " 'Pst_104E_v12_p_ctg.REPET.L1A2_OC:ClassI:LINE:L1.gff',\n",
       " 'Pst_104E_v12_p_ctg.REPET.Gypsy-84_AA-I:ClassI:LTR:Gypsy.cov',\n",
       " 'Pst_104E_v12_p_ctg.REPET.Copia-23_NVi-I_1p:ClassI:LTR:Copia.cov',\n",
       " 'Pst_104E_v12_p_ctg.REPET.IAPLTR3_I:ClassI:LTR:ERV.gff',\n",
       " 'Pst_104E_v12_p_ctg.REPET.ERV1-7_SSa-I:ClassI:LTR:ERV.gff',\n",
       " 'Pst_104E_v12_p_ctg.REPET.Copia-34B_ECa-I_1p:ClassI:LTR:Copia.cov',\n",
       " 'Pst_104E_v12_p_ctg.REPET.Copia-10_BRa-I_1p:ClassI:LTR:Copia.cov',\n",
       " 'Pst_104E_v12_p_ctg.REPET.Copia-2_LBS-I_1p:ClassI:LTR:Copia.cov',\n",
       " 'Pst_104E_v12_p_ctg.REPET.Copia-31_LU-I_1p:ClassI:LTR:Copia.gff',\n",
       " 'Pst_104E_v12_p_ctg.REPET.Jockey-1_TCa:ClassI:LINE:Jockey.cov',\n",
       " 'Pst_104E_v12_p_ctg.REPET.Gypsy-27_AA-I:ClassI:LTR:Gypsy.gff',\n",
       " 'Pst_104E_v12_p_ctg.REPET.Copia-86_ST-I_1p:ClassI:LTR:Copia.cov',\n",
       " 'Pst_104E_v12_p_ctg.REPET.Gypsy-33_DEl-I:ClassI:LTR:Gypsy.gff',\n",
       " 'Pst_104E_v12_p_ctg.REPET.classification.Retrotransposon_LINE.gff',\n",
       " 'Pst_104E_v12_p_ctg.REPET.Gypsy-12_IS-I_1p:ClassI:LTR:Gypsy.cov',\n",
       " 'Pst_104E_v12_p_ctg.REPET.Gypsy-34_GM-I_1p:ClassI:LTR:Gypsy.gff',\n",
       " 'Pst_104E_v12_p_ctg.REPET.GYPSY12_I:ClassI:LTR:Gypsy.gff',\n",
       " 'Pst_104E_v12_p_ctg.REPET.Gypsy-18_DPu-I_1p:ClassI:LTR:Gypsy.gff',\n",
       " 'Pst_104E_v12_p_ctg.REPET.I-8_DBi:ClassI:LINE:I.gff',\n",
       " 'Pst_104E_v12_p_ctg.REPET.Copia-43_GM-I_1p:ClassI:LTR:Copia.gff',\n",
       " 'Pst_104E_v12_p_ctg.REPET.Gypsy-17_ATr-I_2p:ClassI:LTR:Gypsy.gff',\n",
       " 'Pst_104E_v12_p_ctg.REPET.Copia28-ZM_I_1p:ClassI:LTR:Copia.gff',\n",
       " 'Pst_104E_v12_p_ctg.REPET.Copia-12_PAb-I_1p:ClassI:LTR:Copia.cov',\n",
       " 'Pst_104E_v12_p_ctg.REPET.Copia-34_DPu-I_1p:ClassI:LTR:Copia.cov',\n",
       " 'Pst_104E_v12_p_ctg.REPET.Gypsy-14_GM-I_1p:ClassI:LTR:Gypsy.cov',\n",
       " 'Pst_104E_v12_p_ctg.REPET.I-2_DEl:ClassI:LINE:I.cov',\n",
       " 'Pst_104E_v12_p_ctg.REPET.Copia-116_BRa-I_1p:ClassI:LTR:Copia.gff',\n",
       " 'Pst_104E_v12_p_ctg.REPET.Copia-48_RC-I:ClassI:LTR:Copia.gff',\n",
       " 'Pst_104E_v12_p_ctg.REPET.Gypsy-17_SB-I_1p:ClassI:LTR:Gypsy.gff',\n",
       " 'Pst_104E_v12_p_ctg.REPET.Gypsy-7_CP-I_3p:ClassI:LTR:Gypsy.cov',\n",
       " 'Pst_104E_v12_p_ctg.REPET.Ingi-4_AC:ClassI:LINE:I.gff',\n",
       " 'Pst_104E_v12_p_ctg.REPET.Copia33-PTR_I_1p:ClassI:LTR:Copia.gff',\n",
       " 'Pst_104E_v12_p_ctg.REPET.Gypsy-11_ATr-I:ClassI:LTR:Gypsy.gff',\n",
       " 'Pst_104E_v12_p_ctg.REPET.Copia-5_TMe-I:ClassI:LTR:Copia.gff',\n",
       " 'Pst_104E_v12_p_ctg.REPET.CR1-13_CGi:ClassI:LINE:Jockey.gff',\n",
       " 'Pst_104E_v12_p_ctg.REPET.Copia-86_ALY-I_1p:ClassI:LTR:Copia.cov',\n",
       " 'Pst_104E_v12_p_ctg.REPET.Copia-1_LENY-I_1p:ClassI:LTR:Copia.cov',\n",
       " 'Pst_104E_v12_p_ctg.REPET.Copia-26_ECa-I_1p:ClassI:LTR:Copia.gff',\n",
       " 'Pst_104E_v12_p_ctg.REPET.R1_DM:ClassI:LINE:I.gff',\n",
       " 'Pst_104E_v12_p_ctg.REPET.Gypsy-101_GM-I_1p:ClassI:LTR:Gypsy.gff',\n",
       " 'Pst_104E_v12_p_ctg.REPET.Copia-59_MLP-I_1p:ClassI:LTR:Copia.gff',\n",
       " 'Pst_104E_v12_p_ctg.REPET.Copia-72_PT-I_2p:ClassI:LTR:Copia.cov',\n",
       " 'Pst_104E_v12_p_ctg.REPET.Copia-75_BRa-I_1p:ClassI:LTR:Copia.gff',\n",
       " 'Pst_104E_v12_p_ctg.REPET.Copia-58_CCri-I_1p:ClassI:LTR:Copia.cov',\n",
       " 'Pst_104E_v12_p_ctg.REPET.Copia-19_TC-I_2p:ClassI:LTR:Copia.gff',\n",
       " 'Pst_104E_v12_p_ctg.REPET.Copia-64_GM-I_1p:ClassI:LTR:Copia.gff',\n",
       " 'Pst_104E_v12_p_ctg.REPET.DIRS-5_ACar:ClassI:DIRS:DIRS.cov',\n",
       " 'Pst_104E_v12_p_ctg.REPET.Copia-49_VV-I_3p:ClassI:LTR:Copia.gff',\n",
       " 'Pst_104E_v12_p_ctg.REPET.I-2_DBp:ClassI:LINE:I.gff',\n",
       " 'Pst_104E_v12_p_ctg.REPET.I-1_LHu_2p:ClassI:LINE:I.cov',\n",
       " 'Pst_104E_v12_p_ctg.REPET.Gypsy-21_DWil-I_1p:ClassI:LTR:Gypsy.cov',\n",
       " 'Pst_104E_v12_p_ctg.REPET.CR1-Y_Pass:ClassI:LINE:Jockey.cov',\n",
       " 'Pst_104E_v12_p_ctg.REPET.Copia-3_BG-I_1p:ClassI:LTR:Copia.gff',\n",
       " 'Pst_104E_v12_p_ctg.REPET.Copia-2_PSo-I_2p:ClassI:LTR:Copia.cov',\n",
       " 'Pst_104E_v12_p_ctg.REPET.Copia-84_ST-I_1p:ClassI:LTR:Copia.cov',\n",
       " 'Pst_104E_v12_p_ctg.REPET.Gypsy-3_AM-I_1p:ClassI:LTR:Gypsy.cov',\n",
       " 'Pst_104E_v12_p_ctg.REPET.Gypsy-23_SB-I_1p:ClassI:LTR:Gypsy.gff',\n",
       " 'Pst_104E_v12_p_ctg.REPET.Gypsy-166-I_Dr_2p:ClassI:LTR:Gypsy.cov',\n",
       " 'Pst_104E_v12_p_ctg.REPET.Gypsy-31_DWil-I:ClassI:LTR:Gypsy.cov',\n",
       " 'Pst_104E_v12_p_ctg.REPET.CR1-62_HM_1p:ClassI:LINE:Jockey.cov',\n",
       " 'Pst_104E_v12_p_ctg.REPET.Copia-36_MLP-I_1p:ClassI:LTR:Copia.cov',\n",
       " 'Pst_104E_v12_p_ctg.REPET.Copia-13_PSo-I_1p:ClassI:LTR:Copia.cov',\n",
       " 'Pst_104E_v12_p_ctg.REPET.Copia-101_Mad-I:ClassI:LTR:Copia.gff',\n",
       " 'Pst_104E_v12_p_ctg.REPET.ERV1-1_Gav-I_1p:ClassI:LTR:ERV.gff',\n",
       " 'Pst_104E_v12_p_ctg.REPET.CR1-2_DK:ClassI:LINE:Jockey.cov',\n",
       " 'Pst_104E_v12_p_ctg.REPET.Gypsy-16_BG-I_1p:ClassI:LTR:Gypsy.cov',\n",
       " 'Pst_104E_v12_p_ctg.REPET.Gypsy-15_DTa-I:ClassI:LTR:Gypsy.cov',\n",
       " 'Pst_104E_v12_p_ctg.REPET.Jockey-5_DEu:ClassI:LINE:Jockey.gff',\n",
       " 'Pst_104E_v12_p_ctg.REPET.Copia-6_ECa-I_1p:ClassI:LTR:Copia.gff',\n",
       " 'Pst_104E_v12_p_ctg.REPET.Gypsy-2-I_HM_1p:ClassI:LTR:Gypsy.cov',\n",
       " 'Pst_104E_v12_p_ctg.REPET.CR1-2_DBp:ClassI:LINE:Jockey.cov',\n",
       " 'Pst_104E_v12_p_ctg.REPET.Copia-9_Mad-I_1p:ClassI:LTR:Copia.cov',\n",
       " 'Pst_104E_v12_p_ctg.REPET.Copia-7_EPa-I_1p:ClassI:LTR:Copia.gff',\n",
       " 'Pst_104E_v12_p_ctg.REPET.Gypsy-1-I_FR:ClassI:LTR:Gypsy.cov',\n",
       " 'Pst_104E_v12_p_ctg.REPET.ERV26_MD:ClassI:LTR:ERV.cov',\n",
       " 'Pst_104E_v12_p_ctg.REPET.Gypsy55-ZM_I_1p:ClassI:LTR:Gypsy.gff',\n",
       " 'Pst_104E_v12_p_ctg.REPET.Gypsy-7_LG-I:ClassI:LTR:Gypsy.cov',\n",
       " 'Pst_104E_v12_p_ctg.REPET.Copia-28_BRa-I:ClassI:LTR:Copia.cov',\n",
       " 'Pst_104E_v12_p_ctg.REPET.Copia-17_SI-I_1p:ClassI:LTR:Copia.cov',\n",
       " 'Pst_104E_v12_p_ctg.REPET.Gypsy-6_DTa-I_1p:ClassI:LTR:Gypsy.gff',\n",
       " 'Pst_104E_v12_p_ctg.REPET.Gypsy-22_PM-I_1p:ClassI:LTR:Gypsy.gff',\n",
       " 'Pst_104E_v12_p_ctg.REPET.Copia-10_PIT-I_1p:ClassI:LTR:Copia.gff',\n",
       " 'Pst_104E_v12_p_ctg.REPET.Copia-11_Pru-I_1p:ClassI:LTR:Copia.gff',\n",
       " 'Pst_104E_v12_p_ctg.REPET.Copia-65_ST-I:ClassI:LTR:Copia.gff',\n",
       " 'Pst_104E_v12_p_ctg.REPET.Gypsy-6_SI-I:ClassI:LTR:Gypsy.gff',\n",
       " 'Pst_104E_v12_p_ctg.REPET.Copia-141_CCri-I_1p:ClassI:LTR:Copia.gff',\n",
       " 'Pst_104E_v12_p_ctg.REPET.LINE1_BM:ClassI:LINE:Jockey.cov',\n",
       " 'Pst_104E_v12_p_ctg.REPET.Copia-10_Pru-I_1p:ClassI:LTR:Copia.cov',\n",
       " 'Pst_104E_v12_p_ctg.REPET.Copia-73_Mad-I_1p:ClassI:LTR:Copia.gff',\n",
       " 'Pst_104E_v12_p_ctg.REPET.Gypsy-25B_SSa-I_2p:ClassI:LTR:Gypsy.gff',\n",
       " 'Pst_104E_v12_p_ctg.REPET.Copia-4_BRa-I_1p:ClassI:LTR:Copia.gff',\n",
       " 'Pst_104E_v12_p_ctg.REPET.I_Ele17:ClassI:LINE:I.cov',\n",
       " 'Pst_104E_v12_p_ctg.REPET.Copia2_ZM_I_1p:ClassI:LTR:Copia.cov',\n",
       " 'Pst_104E_v12_p_ctg.REPET.Gypsy-233_DR-I_2p:ClassI:LTR:Gypsy.gff',\n",
       " 'Pst_104E_v12_p_ctg.REPET.Gypsy99-I_DR_1p:ClassI:LTR:Gypsy.cov',\n",
       " 'Pst_104E_v12_p_ctg.REPET.Copia-10_SI-I:ClassI:LTR:Copia.gff',\n",
       " 'Pst_104E_v12_p_ctg.REPET.Gypsy-97_GM-I_3p:ClassI:LTR:Gypsy.cov',\n",
       " 'Pst_104E_v12_p_ctg.REPET.Outcast-2_BF:ClassI:LINE:I.cov',\n",
       " 'Pst_104E_v12_p_ctg.REPET.CR1-4_CQ:ClassI:LINE:Jockey.cov',\n",
       " 'Pst_104E_v12_p_ctg.REPET.Copia-75_VV-I:ClassI:LTR:Copia.cov',\n",
       " 'Pst_104E_v12_p_ctg.REPET.Copia-1_TCa-I_1p:ClassI:LTR:Copia.gff',\n",
       " 'Pst_104E_v12_p_ctg.REPET.Copia1-I_DR_1p:ClassI:LTR:Copia.gff',\n",
       " 'Pst_104E_v12_p_ctg.REPET.Gypsy-39_SB-I_1p:ClassI:LTR:Gypsy.cov',\n",
       " 'Pst_104E_v12_p_ctg.REPET.Gypsy-33_DAn-I_1p:ClassI:LTR:Gypsy.cov',\n",
       " 'Pst_104E_v12_p_ctg.REPET.ERV42_MD_I:ClassI:LTR:ERV.gff',\n",
       " 'Pst_104E_v12_p_ctg.REPET.Gypsy-20_OD-I:ClassI:LTR:Gypsy.gff',\n",
       " 'Pst_104E_v12_p_ctg.REPET.Gypsy-141_SBi-I_1p:ClassI:LTR:Gypsy.cov',\n",
       " 'Pst_104E_v12_p_ctg.REPET.Gypsy-1_RC-I:ClassI:LTR:Gypsy.gff',\n",
       " 'Pst_104E_v12_p_ctg.REPET.Copia-93_ST-I_1p:ClassI:LTR:Copia.cov',\n",
       " 'Pst_104E_v12_p_ctg.REPET.I_Ele11:ClassI:LINE:I.gff',\n",
       " 'Pst_104E_v12_p_ctg.REPET.Copia-91_ALY-I_1p:ClassI:LTR:Copia.cov',\n",
       " 'Pst_104E_v12_p_ctg.REPET.Gypsy-31_DWil-I:ClassI:LTR:Gypsy.gff',\n",
       " 'Pst_104E_v12_p_ctg.REPET.Copia4-NVi_I_1p:ClassI:LTR:Copia.cov',\n",
       " 'Pst_104E_v12_p_ctg.REPET.Copia-20_PPe-I_2p:ClassI:LTR:Copia.gff',\n",
       " 'Pst_104E_v12_p_ctg.REPET.Copia-16_MLP-I_1p:ClassI:LTR:Copia.cov',\n",
       " 'Pst_104E_v12_p_ctg.REPET.Gypsy-86_ZM-I_1p:ClassI:LTR:Gypsy.gff',\n",
       " 'Pst_104E_v12_p_ctg.REPET.Gypsy-203_AA-I_1p:ClassI:LTR:Gypsy.cov',\n",
       " 'Pst_104E_v12_p_ctg.REPET.Daphne-6_CTe:ClassI:LINE:Jockey.gff',\n",
       " 'Pst_104E_v12_p_ctg.REPET.Helena_Ds:ClassI:?:?.gff',\n",
       " 'Pst_104E_v12_p_ctg.REPET.Copia-3_FV-I_1p:ClassI:LTR:Copia.cov',\n",
       " 'Pst_104E_v12_p_ctg.REPET.Gypsy83-I_DR_2p:ClassI:LTR:Gypsy.cov',\n",
       " 'Pst_104E_v12_p_ctg.REPET.Copia-9_AA-I_1p:ClassI:LTR:Copia.gff',\n",
       " 'Pst_104E_v12_p_ctg.REPET.Gypsy-95_MLP-I_2p:ClassI:LTR:Gypsy.gff',\n",
       " 'Pst_104E_v12_p_ctg.REPET.Gypsy-23-I_SP_2p:ClassI:LTR:Gypsy.gff',\n",
       " 'Pst_104E_v12_p_ctg.REPET.ERV32_MD_I:ClassI:LTR:ERV.gff',\n",
       " 'Pst_104E_v12_p_ctg.REPET.Gypsy-24_PAb-I:ClassI:LTR:Gypsy.gff',\n",
       " 'Pst_104E_v12_p_ctg.REPET.Gypsy-16_DPu-I_1p:ClassI:LTR:Gypsy.cov',\n",
       " 'Pst_104E_v12_p_ctg.REPET.Copia-17_PX-I_1p:ClassI:LTR:Copia.gff',\n",
       " 'Pst_104E_v12_p_ctg.REPET.HOBS_I_1p:ClassI:LTR:Copia.cov',\n",
       " 'Pst_104E_v12_p_ctg.REPET.Copia-68_PT-I:ClassI:LTR:Copia.cov',\n",
       " 'Pst_104E_v12_p_ctg.REPET.Copia-96_BRa-I_1p:ClassI:LTR:Copia.gff',\n",
       " 'Pst_104E_v12_p_ctg.REPET.Copia-25_SB-I_1p:ClassI:LTR:Copia.cov',\n",
       " 'Pst_104E_v12_p_ctg.REPET.I-1_LHu_2p:ClassI:LINE:I.gff',\n",
       " 'Pst_104E_v12_p_ctg.REPET.Copia-43_Pru-I:ClassI:LTR:Copia.cov',\n",
       " 'Pst_104E_v12_p_ctg.REPET.ERV1-3_SSa-I:ClassI:LTR:ERV.cov',\n",
       " 'Pst_104E_v12_p_ctg.REPET.Copia-70_ALY-I:ClassI:LTR:Copia.gff',\n",
       " 'Pst_104E_v12_p_ctg.REPET.Gypsy-32_BG-I_1p:ClassI:LTR:Gypsy.cov',\n",
       " 'Pst_104E_v12_p_ctg.REPET.Copia-27_ALY-I_1p:ClassI:LTR:Copia.gff',\n",
       " 'Pst_104E_v12_p_ctg.REPET.CR1-64_AAe:ClassI:LINE:Jockey.cov',\n",
       " 'Pst_104E_v12_p_ctg.REPET.Gypsy-100_ZM-I_1p:ClassI:LTR:Gypsy.cov',\n",
       " 'Pst_104E_v12_p_ctg.REPET.I-69_AAe:ClassI:LINE:I.cov',\n",
       " 'Pst_104E_v12_p_ctg.REPET.GmCOPIA11_I_1p#2:ClassI:LTR:Copia.gff',\n",
       " 'Pst_104E_v12_p_ctg.REPET.Gypsy-2_RO-I_1p:ClassI:LTR:Gypsy.cov',\n",
       " 'Pst_104E_v12_p_ctg.REPET.Gypsy-202_DR-I_1p:ClassI:LTR:Gypsy.cov',\n",
       " 'Pst_104E_v12_p_ctg.REPET.Copia-6_Pru-I:ClassI:LTR:Copia.cov',\n",
       " 'Pst_104E_v12_p_ctg.REPET.Gypsy-26_BD-I:ClassI:LTR:Gypsy.cov',\n",
       " 'Pst_104E_v12_p_ctg.REPET.Gypsy-29_BG-I_1p:ClassI:LTR:Gypsy.gff',\n",
       " 'Pst_104E_v12_p_ctg.REPET.Copia-27_ECa-I_1p:ClassI:LTR:Copia.cov',\n",
       " 'Pst_104E_v12_p_ctg.REPET.Copia-93_VV-I:ClassI:LTR:Copia.gff',\n",
       " 'Pst_104E_v12_p_ctg.REPET.Gypsy-16_DEl-I_3p:ClassI:LTR:Gypsy.cov',\n",
       " 'Pst_104E_v12_p_ctg.REPET.Copia-13_PAb-I_1p:ClassI:LTR:Copia.cov',\n",
       " 'Pst_104E_v12_p_ctg.REPET.Copia-11_PR-I_1p:ClassI:LTR:Copia.gff',\n",
       " 'Pst_104E_v12_p_ctg.REPET.Copia-69_SB-I_2p:ClassI:LTR:Copia.gff',\n",
       " 'Pst_104E_v12_p_ctg.REPET.Copia-32_PX-I_1p:ClassI:LTR:Copia.cov',\n",
       " 'Pst_104E_v12_p_ctg.REPET.CR1-78_AAe:ClassI:LINE:Jockey.gff',\n",
       " 'Pst_104E_v12_p_ctg.REPET.Jockey_Ele7:ClassI:LINE:Jockey.gff',\n",
       " 'Pst_104E_v12_p_ctg.REPET.Copia-39_Pru-I:ClassI:LTR:Copia.cov',\n",
       " 'Pst_104E_v12_p_ctg.REPET.Gypsy-3_OD-I_1p:ClassI:LTR:Gypsy.gff',\n",
       " 'Pst_104E_v12_p_ctg.REPET.Copia-72_BD-I_1p:ClassI:LTR:Copia.cov',\n",
       " 'Pst_104E_v12_p_ctg.REPET.Copia-31_BD-I:ClassI:LTR:Copia.cov',\n",
       " 'Pst_104E_v12_p_ctg.REPET.Gypsy-182_DR-I_1p:ClassI:LTR:Gypsy.cov',\n",
       " 'Pst_104E_v12_p_ctg.REPET.Copia-6_PSo-I:ClassI:LTR:Copia.gff',\n",
       " 'Pst_104E_v12_p_ctg.REPET.Gypsy-2_ECa-I_2p:ClassI:LTR:Gypsy.cov',\n",
       " 'Pst_104E_v12_p_ctg.REPET.Gypsy-16_DPu-I_1p:ClassI:LTR:Gypsy.gff',\n",
       " 'Pst_104E_v12_p_ctg.REPET.Copia-34_ALY-I_1p:ClassI:LTR:Copia.cov',\n",
       " 'Pst_104E_v12_p_ctg.REPET.Copia-14_RC-I_1p:ClassI:LTR:Copia.cov',\n",
       " 'Pst_104E_v12_p_ctg.REPET.Copia-1_AL-I_1p:ClassI:LTR:Copia.gff',\n",
       " 'Pst_104E_v12_p_ctg.REPET.Gypsy14-PTR_I_1p:ClassI:LTR:Gypsy.gff',\n",
       " 'Pst_104E_v12_p_ctg.REPET.Copia-10_SI-I:ClassI:LTR:Copia.cov',\n",
       " 'Pst_104E_v12_p_ctg.REPET.Gypsy13-I_VC_1p:ClassI:LTR:Gypsy.gff',\n",
       " 'Pst_104E_v12_p_ctg.REPET.Gypsy-3_Gav-I_1p:ClassI:LTR:Gypsy.gff',\n",
       " 'Pst_104E_v12_p_ctg.REPET.Gypsy-89_MLP-I_1p:ClassI:LTR:Gypsy.gff',\n",
       " 'Pst_104E_v12_p_ctg.REPET.MacERV1_int_2p:ClassI:LTR:ERV.gff',\n",
       " 'Pst_104E_v12_p_ctg.REPET.Copia-75_AA-I_1p:ClassI:LTR:Copia.cov',\n",
       " 'Pst_104E_v12_p_ctg.REPET.Gypsy18-I_CR_1p:ClassI:LTR:Gypsy.cov',\n",
       " 'Pst_104E_v12_p_ctg.REPET.Copia-20_PPe-I_2p:ClassI:LTR:Copia.cov',\n",
       " 'Pst_104E_v12_p_ctg.REPET.Copia12-ZM_I_1p:ClassI:LTR:Copia.cov',\n",
       " 'Pst_104E_v12_p_ctg.REPET.Gypsy-3_PSH-I_1p:ClassI:LTR:Gypsy.cov',\n",
       " 'Pst_104E_v12_p_ctg.REPET.Copia-21_JC-I_1p:ClassI:LTR:Copia.cov',\n",
       " 'Pst_104E_v12_p_ctg.REPET.Gypsy-27_DR1p:ClassI:LTR:Gypsy.cov',\n",
       " 'Pst_104E_v12_p_ctg.REPET.GYPSY1-I_AG:ClassI:LTR:Gypsy.cov',\n",
       " 'Pst_104E_v12_p_ctg.REPET.Copia-63_GM-I_1p:ClassI:LTR:Copia.cov',\n",
       " 'Pst_104E_v12_p_ctg.REPET.Jockey-11_AAe:ClassI:LINE:Jockey.gff',\n",
       " 'Pst_104E_v12_p_ctg.REPET.Copia-32_PX-I_1p:ClassI:LTR:Copia.gff',\n",
       " 'Pst_104E_v12_p_ctg.REPET.Copia-4_DMoj-I_1p:ClassI:LTR:Copia.cov',\n",
       " 'Pst_104E_v12_p_ctg.REPET.Copia25-ZM_I:ClassI:LTR:Copia.gff',\n",
       " 'Pst_104E_v12_p_ctg.REPET.Copia-18_BG-I_1p:ClassI:LTR:Copia.gff',\n",
       " 'Pst_104E_v12_p_ctg.REPET.Copia-25_SB-I_1p:ClassI:LTR:Copia.gff',\n",
       " 'Pst_104E_v12_p_ctg.REPET.Copia-50_BRa-I_1p:ClassI:LTR:Copia.gff',\n",
       " 'Pst_104E_v12_p_ctg.REPET.Gypsy-9_SB-I_1p:ClassI:LTR:Gypsy.gff',\n",
       " 'Pst_104E_v12_p_ctg.REPET.Copia-8-I_DR:ClassI:LTR:Copia.gff',\n",
       " 'Pst_104E_v12_p_ctg.REPET.Copia-34_BRa-I_1p:ClassI:LTR:Copia.gff',\n",
       " 'Pst_104E_v12_p_ctg.REPET.Copia-15_EPa-I_2p:ClassI:LTR:Copia.cov',\n",
       " 'Pst_104E_v12_p_ctg.REPET.Copia-72_CCri-I_1p:ClassI:LTR:Copia.cov',\n",
       " 'Pst_104E_v12_p_ctg.REPET.Copia-77_GM-I_1p:ClassI:LTR:Copia.gff',\n",
       " 'Pst_104E_v12_p_ctg.REPET.Copia-98_SB-Ip:ClassI:LTR:Copia.gff',\n",
       " 'Pst_104E_v12_p_ctg.REPET.I-3_AC_2p:ClassI:LINE:I.cov',\n",
       " 'Pst_104E_v12_p_ctg.REPET.Copia-1_DAn-I_1p:ClassI:LTR:Copia.cov',\n",
       " 'Pst_104E_v12_p_ctg.REPET.DEA1_1p:ClassI:LTR:Gypsy.gff',\n",
       " 'Pst_104E_v12_p_ctg.REPET.Gypsy-3_CPu-I_3p:ClassI:LTR:Gypsy.gff',\n",
       " 'Pst_104E_v12_p_ctg.REPET.DIRS-1_MLP-I_3p:ClassI:DIRS:DIRS.gff',\n",
       " 'Pst_104E_v12_p_ctg.REPET.Copia-149_CCri-I_1p:ClassI:LTR:Copia.gff',\n",
       " 'Pst_104E_v12_p_ctg.REPET.Gypsy-12_BD-I_1p:ClassI:LTR:Gypsy.gff',\n",
       " 'Pst_104E_v12_p_ctg.REPET.Copia-50_ALY-I_1p:ClassI:LTR:Copia.gff',\n",
       " 'Pst_104E_v12_p_ctg.REPET.CR1-58_AAe:ClassI:LINE:Jockey.gff',\n",
       " 'Pst_104E_v12_p_ctg.REPET.I-1_DEu:ClassI:LINE:I.gff',\n",
       " 'Pst_104E_v12_p_ctg.REPET.Copia-46_PX-I_1p:ClassI:LTR:Copia.gff',\n",
       " 'Pst_104E_v12_p_ctg.REPET.RAM9B_I_1p#2:ClassI:LTR:Gypsy.gff',\n",
       " 'Pst_104E_v12_p_ctg.REPET.Gypsy-139_ZM-I_1p:ClassI:LTR:Gypsy.cov',\n",
       " 'Pst_104E_v12_p_ctg.REPET.Jockey-11_DAn:ClassI:LINE:Jockey.gff',\n",
       " 'Pst_104E_v12_p_ctg.REPET.Gypsy-93_MLP-I_3p:ClassI:LTR:Gypsy.gff',\n",
       " 'Pst_104E_v12_p_ctg.REPET.Gypsy-15_AA-I:ClassI:LTR:Gypsy.gff',\n",
       " 'Pst_104E_v12_p_ctg.REPET.Copia-20_TC-I_1p:ClassI:LTR:Copia.gff',\n",
       " 'Pst_104E_v12_p_ctg.REPET.Gypsy-13_DEl-I_1p:ClassI:LTR:Gypsy.gff',\n",
       " 'Pst_104E_v12_p_ctg.REPET.Copia-15_SI-I_1p:ClassI:LTR:Copia.gff',\n",
       " 'Pst_104E_v12_p_ctg.REPET.Gypsy-171-I_DR_1p:ClassI:LTR:Gypsy.gff',\n",
       " 'Pst_104E_v12_p_ctg.REPET.Copia-47_GM-I_1p:ClassI:LTR:Copia.cov',\n",
       " 'Pst_104E_v12_p_ctg.REPET.Gypsy-13_GA-I_1p:ClassI:LTR:Gypsy.gff',\n",
       " 'Pst_104E_v12_p_ctg.REPET.I-1_DVi:ClassI:LINE:I.cov',\n",
       " 'Pst_104E_v12_p_ctg.REPET.Copia-37_PX-I:ClassI:LTR:Copia.gff',\n",
       " 'Pst_104E_v12_p_ctg.REPET.Copia-110B_CCri-I_1p:ClassI:LTR:Copia.gff',\n",
       " 'Pst_104E_v12_p_ctg.REPET.Crack-2_SP:ClassI:LINE:Jockey.gff',\n",
       " 'Pst_104E_v12_p_ctg.REPET.Copia-26_PIT-I:ClassI:LTR:Copia.cov',\n",
       " 'Pst_104E_v12_p_ctg.REPET.Copia-5_DWil-I:ClassI:LTR:Copia.gff',\n",
       " 'Pst_104E_v12_p_ctg.REPET.Copia-74_SB-I:ClassI:LTR:Copia.gff',\n",
       " 'Pst_104E_v12_p_ctg.REPET.Gypsy-77-I_ZM_2p:ClassI:LTR:Gypsy.cov',\n",
       " 'Pst_104E_v12_p_ctg.REPET.Gypsy-114_ZM-I_2p:ClassI:LTR:Gypsy.cov',\n",
       " 'Pst_104E_v12_p_ctg.REPET.Gypsy-133_ZM-I_1p:ClassI:LTR:Gypsy.gff',\n",
       " 'Pst_104E_v12_p_ctg.REPET.Crack-36_AAe:ClassI:LINE:Jockey.gff',\n",
       " 'Pst_104E_v12_p_ctg.REPET.Gypsy116-I_DR_1p:ClassI:LTR:Gypsy.gff',\n",
       " 'Pst_104E_v12_p_ctg.REPET.Copia-42_FV-I_1p:ClassI:LTR:Copia.cov',\n",
       " 'Pst_104E_v12_p_ctg.REPET.Gypsy-284_AA-I_1p:ClassI:LTR:Gypsy.cov',\n",
       " 'Pst_104E_v12_p_ctg.REPET.Copia-80_ALY-I_1p:ClassI:LTR:Copia.gff',\n",
       " 'Pst_104E_v12_p_ctg.REPET.Gypsy24-PTR_I_1p#2:ClassI:LTR:Gypsy.gff',\n",
       " 'Pst_104E_v12_p_ctg.REPET.Copia-110B_CCri-I_1p:ClassI:LTR:Copia.cov',\n",
       " 'Pst_104E_v12_p_ctg.REPET.Gypsy-189_ZM-I_2p:ClassI:LTR:Gypsy.cov',\n",
       " 'Pst_104E_v12_p_ctg.REPET.IBGYPSY1_I_2p:ClassI:LTR:Gypsy.gff',\n",
       " 'Pst_104E_v12_p_ctg.REPET.Copia-111_SB-I_2p:ClassI:LTR:Copia.cov',\n",
       " 'Pst_104E_v12_p_ctg.REPET.Gypsy-2_PCR-I_3p:ClassI:LTR:Gypsy.cov',\n",
       " 'Pst_104E_v12_p_ctg.REPET.I_Ele14:ClassI:LINE:I.gff',\n",
       " 'Pst_104E_v12_p_ctg.REPET.CR1-13_DTa:ClassI:LINE:Jockey.gff',\n",
       " 'Pst_104E_v12_p_ctg.REPET.Copia-52_BG-I_2p:ClassI:LTR:Copia.cov',\n",
       " 'Pst_104E_v12_p_ctg.REPET.I-4_DBi:ClassI:LINE:I.gff',\n",
       " 'Pst_104E_v12_p_ctg.REPET.Gypsy8-I_AP:ClassI:LTR:Gypsy.cov',\n",
       " 'Pst_104E_v12_p_ctg.REPET.Copia-6_PX-I_1p:ClassI:LTR:Copia.gff',\n",
       " 'Pst_104E_v12_p_ctg.REPET.POPCOP1_I_1p:ClassI:LTR:Copia.gff',\n",
       " 'Pst_104E_v12_p_ctg.REPET.CR1-18_CQ:ClassI:LINE:Jockey.gff',\n",
       " 'Pst_104E_v12_p_ctg.REPET.Gypsy-96_CCri-I:ClassI:LTR:Gypsy.cov',\n",
       " 'Pst_104E_v12_p_ctg.REPET.Gypsy-14_Ano-I_1p:ClassI:LTR:Gypsy.cov',\n",
       " 'Pst_104E_v12_p_ctg.REPET.Copia-6_ATr-I_1p:ClassI:LTR:Copia.cov',\n",
       " 'Pst_104E_v12_p_ctg.REPET.Gypsy-270_AA-I:ClassI:LTR:Gypsy.gff',\n",
       " 'Pst_104E_v12_p_ctg.REPET.Gypsy-40_BRa-I_1p:ClassI:LTR:Gypsy.gff',\n",
       " 'Pst_104E_v12_p_ctg.REPET.GYMAG2_I_3p:ClassI:LTR:Gypsy.cov',\n",
       " 'Pst_104E_v12_p_ctg.REPET.Gypsy-12_JC-I_1p:ClassI:LTR:Gypsy.cov',\n",
       " 'Pst_104E_v12_p_ctg.REPET.Copia-5_CP-I_1p:ClassI:LTR:Copia.cov',\n",
       " 'Pst_104E_v12_p_ctg.REPET.Gypsy-17-I_NV:ClassI:LTR:Gypsy.cov',\n",
       " 'Pst_104E_v12_p_ctg.REPET.Copia-26_PAb-I:ClassI:LTR:Copia.gff',\n",
       " 'Pst_104E_v12_p_ctg.REPET.Gypsy-32_ST-I_2p:ClassI:LTR:Gypsy.cov',\n",
       " 'Pst_104E_v12_p_ctg.REPET.Copia-2_DGri-I_1p:ClassI:LTR:Copia.cov',\n",
       " 'Pst_104E_v12_p_ctg.REPET.Gypsy-22_ADe-I_2p:ClassI:LTR:Gypsy.cov',\n",
       " 'Pst_104E_v12_p_ctg.REPET.Copia-8_SI-I_1p:ClassI:LTR:Copia.cov',\n",
       " 'Pst_104E_v12_p_ctg.REPET.Gypsy-17_RO-I:ClassI:LTR:Gypsy.gff',\n",
       " 'Pst_104E_v12_p_ctg.REPET.Gypsy-13_TA-I_3p:ClassI:LTR:Gypsy.cov',\n",
       " 'Pst_104E_v12_p_ctg.REPET.Gypsy-15_DR2p:ClassI:LTR:Gypsy.gff',\n",
       " 'Pst_104E_v12_p_ctg.REPET.Daphne-6_CTe:ClassI:LINE:Jockey.cov',\n",
       " 'Pst_104E_v12_p_ctg.REPET.Gypsy-17_CSa-I_3p:ClassI:LTR:Gypsy.gff',\n",
       " 'Pst_104E_v12_p_ctg.REPET.Gypsy-17_LBS-I_1p:ClassI:LTR:Gypsy.gff',\n",
       " 'Pst_104E_v12_p_ctg.REPET.Copia43-PTR_I_1p#2:ClassI:LTR:Copia.gff',\n",
       " 'Pst_104E_v12_p_ctg.REPET.Daphne-3_CTe:ClassI:LINE:Jockey.gff',\n",
       " 'Pst_104E_v12_p_ctg.REPET.Copia-16_MLP-I_1p:ClassI:LTR:Copia.gff',\n",
       " 'Pst_104E_v12_p_ctg.REPET.Gypsy-9_SI-I_1p:ClassI:LTR:Gypsy.cov',\n",
       " 'Pst_104E_v12_p_ctg.REPET.GYPSY53_AG2p:ClassI:LTR:Gypsy.gff',\n",
       " 'Pst_104E_v12_p_ctg.REPET.Nimb-16_DR:ClassI:LINE:I.cov',\n",
       " 'Pst_104E_v12_p_ctg.REPET.Gypsy-214_AA-I:ClassI:LTR:Gypsy.gff',\n",
       " 'Pst_104E_v12_p_ctg.REPET.Gypsy-102_GM-I_2p:ClassI:LTR:Gypsy.gff',\n",
       " 'Pst_104E_v12_p_ctg.REPET.I-4_CQ:ClassI:LINE:I.cov',\n",
       " 'Pst_104E_v12_p_ctg.REPET.Gypsy-276_AA-I_2p:ClassI:LTR:Gypsy.cov',\n",
       " 'Pst_104E_v12_p_ctg.REPET.Gypsy-11_DEl-I:ClassI:LTR:Gypsy.cov',\n",
       " 'Pst_104E_v12_p_ctg.REPET.Gypsy-251_AA-I:ClassI:LTR:Gypsy.gff',\n",
       " 'Pst_104E_v12_p_ctg.REPET.Copia2-SB_I_2p:ClassI:LTR:Copia.gff',\n",
       " 'Pst_104E_v12_p_ctg.REPET.Gypsy-96_CCri-I:ClassI:LTR:Gypsy.gff',\n",
       " 'Pst_104E_v12_p_ctg.REPET.Copia-17_PTrit-I_1p:ClassI:LTR:Copia.gff',\n",
       " 'Pst_104E_v12_p_ctg.REPET.Copia-77_VV-I:ClassI:LTR:Copia.gff',\n",
       " 'Pst_104E_v12_p_ctg.REPET.Copia-103_SB-I_1p:ClassI:LTR:Copia.cov',\n",
       " 'Pst_104E_v12_p_ctg.REPET.I-4_DBi_2p:ClassI:LINE:I.gff',\n",
       " 'Pst_104E_v12_p_ctg.REPET.Gypsy-7_Gav-I_1p:ClassI:LTR:Gypsy.cov',\n",
       " 'Pst_104E_v12_p_ctg.REPET.Copia-2_DGri-I_1p:ClassI:LTR:Copia.gff',\n",
       " 'Pst_104E_v12_p_ctg.REPET.Gypsy-125_GM-I_1p:ClassI:LTR:Gypsy.cov',\n",
       " 'Pst_104E_v12_p_ctg.REPET.Gypsy-6_DSim-I_2p:ClassI:LTR:Gypsy.cov',\n",
       " 'Pst_104E_v12_p_ctg.REPET.Copia-23_CQ-I_2p:ClassI:LTR:Copia.cov',\n",
       " 'Pst_104E_v12_p_ctg.REPET.I-50_AAe:ClassI:LINE:I.cov',\n",
       " 'Pst_104E_v12_p_ctg.REPET.Gypsy36-I_DR_1p:ClassI:LTR:Gypsy.cov',\n",
       " 'Pst_104E_v12_p_ctg.REPET.DIRS-1_MLP-I_3p:ClassI:DIRS:DIRS.cov',\n",
       " 'Pst_104E_v12_p_ctg.REPET.Gypsy-16_CPB-I_1p:ClassI:LTR:Gypsy.gff',\n",
       " 'Pst_104E_v12_p_ctg.REPET.Gypsy-12_PSH-I_2p:ClassI:LTR:Gypsy.gff',\n",
       " 'Pst_104E_v12_p_ctg.REPET.Gypsy-3_XT-I_1p:ClassI:LTR:Gypsy.cov',\n",
       " 'Pst_104E_v12_p_ctg.REPET.Copia-4_ECa-I:ClassI:LTR:Copia.gff',\n",
       " 'Pst_104E_v12_p_ctg.REPET.Gypsy-29_BG-I_1p:ClassI:LTR:Gypsy.cov',\n",
       " 'Pst_104E_v12_p_ctg.REPET.Gypsy107-I_Dr_2p:ClassI:LTR:Gypsy.cov',\n",
       " 'Pst_104E_v12_p_ctg.REPET.Copia-8_DAn-I_1p:ClassI:LTR:Copia.gff',\n",
       " 'Pst_104E_v12_p_ctg.REPET.Gypsy-2_DFi-I:ClassI:LTR:Gypsy.cov',\n",
       " 'Pst_104E_v12_p_ctg.REPET.Copia-9_LU-I_2p:ClassI:LTR:Copia.gff',\n",
       " 'Pst_104E_v12_p_ctg.REPET.Gypsy-17_PM-I:ClassI:LTR:Gypsy.gff',\n",
       " 'Pst_104E_v12_p_ctg.REPET.Nimb-12_LMi:ClassI:LINE:I.gff',\n",
       " 'Pst_104E_v12_p_ctg.REPET.COP16_I_MT_1p:ClassI:LTR:Copia.cov',\n",
       " 'Pst_104E_v12_p_ctg.REPET.Gypsy51-I_DR_2p:ClassI:LTR:Gypsy.cov',\n",
       " 'Pst_104E_v12_p_ctg.REPET.Gypsy127-I_DR_1p:ClassI:LTR:Gypsy.cov',\n",
       " 'Pst_104E_v12_p_ctg.REPET.Gypsy-20_RP-I:ClassI:LTR:Gypsy.gff',\n",
       " 'Pst_104E_v12_p_ctg.REPET.TDH2_I_#2:ClassI:LTR:?.cov',\n",
       " 'Pst_104E_v12_p_ctg.REPET.Copia-3_DMoj-I_1p:ClassI:LTR:Copia.gff',\n",
       " 'Pst_104E_v12_p_ctg.REPET.Gypsy-12_JC-I_1p:ClassI:LTR:Gypsy.gff',\n",
       " 'Pst_104E_v12_p_ctg.REPET.Gypsy-22_DEl-I:ClassI:LTR:Gypsy.cov',\n",
       " 'Pst_104E_v12_p_ctg.REPET.Copia-34_MLP-I_1p:ClassI:LTR:Copia.cov',\n",
       " 'Pst_104E_v12_p_ctg.REPET.Gypsy-28_GA-I_1p:ClassI:LTR:Gypsy.cov',\n",
       " 'Pst_104E_v12_p_ctg.REPET.Copia-55_PR-I_1p:ClassI:LTR:Copia.cov',\n",
       " 'Pst_104E_v12_p_ctg.REPET.Copia-106_SB-I:ClassI:LTR:Copia.cov',\n",
       " 'Pst_104E_v12_p_ctg.REPET.Gypsy-9_GM-I_1p:ClassI:LTR:Gypsy.gff',\n",
       " 'Pst_104E_v12_p_ctg.REPET.L2-3_Hmel:ClassI:LINE:Jockey.cov',\n",
       " 'Pst_104E_v12_p_ctg.REPET.I-4_LMi:ClassI:LINE:I.gff',\n",
       " 'Pst_104E_v12_p_ctg.REPET.Copia3-I_VC:ClassI:LTR:Copia.cov',\n",
       " 'Pst_104E_v12_p_ctg.REPET.Copia-10_TC-I_1p:ClassI:LTR:Copia.gff',\n",
       " 'Pst_104E_v12_p_ctg.REPET.Copia-72_Mad-I_1p:ClassI:LTR:Copia.gff',\n",
       " 'Pst_104E_v12_p_ctg.REPET.Copia-21_BG-I_1p:ClassI:LTR:Copia.cov',\n",
       " 'Pst_104E_v12_p_ctg.REPET.Copia-1_DSe-I_1p:ClassI:LTR:Copia.gff',\n",
       " 'Pst_104E_v12_p_ctg.REPET.Copia27-PTR_I_1p#2:ClassI:LTR:Copia.cov',\n",
       " 'Pst_104E_v12_p_ctg.REPET.Gypsy3_MH-I_1p:ClassI:LTR:Gypsy.gff',\n",
       " 'Pst_104E_v12_p_ctg.REPET.Gypsy-191_DR-I:ClassI:LTR:Gypsy.cov',\n",
       " 'Pst_104E_v12_p_ctg.REPET.Gypsy-244_AA-I:ClassI:LTR:Gypsy.gff',\n",
       " 'Pst_104E_v12_p_ctg.REPET.Gypsy-2_PMar-I:ClassI:LTR:Gypsy.cov',\n",
       " 'Pst_104E_v12_p_ctg.REPET.Gypsy-74_GM-I_3p:ClassI:LTR:Gypsy.cov',\n",
       " 'Pst_104E_v12_p_ctg.REPET.Gypsy-8_RO-I_3p:ClassI:LTR:Gypsy.gff',\n",
       " 'Pst_104E_v12_p_ctg.REPET.Outcast-2_BF:ClassI:LINE:I.gff',\n",
       " 'Pst_104E_v12_p_ctg.REPET.COP21_I_MT_1p#2:ClassI:LTR:Copia.cov',\n",
       " 'Pst_104E_v12_p_ctg.REPET.GYARLI1_I_2p:ClassI:LTR:Gypsy.gff',\n",
       " 'Pst_104E_v12_p_ctg.REPET.Copia-21_JC-I_1p:ClassI:LTR:Copia.gff',\n",
       " 'Pst_104E_v12_p_ctg.REPET.Copia-35_PIT-I_3p:ClassI:LTR:Copia.cov',\n",
       " 'Pst_104E_v12_p_ctg.REPET.Gypsy-6_SMo-I_1p:ClassI:LTR:Gypsy.cov',\n",
       " 'Pst_104E_v12_p_ctg.REPET.Gypsy-27_PTr-I_2p:ClassI:LTR:Gypsy.gff',\n",
       " 'Pst_104E_v12_p_ctg.REPET.Copia-26_PIT-I:ClassI:LTR:Copia.gff',\n",
       " 'Pst_104E_v12_p_ctg.REPET.Gypsy-244_AA-I:ClassI:LTR:Gypsy.cov',\n",
       " 'Pst_104E_v12_p_ctg.REPET.Copia-57_PIT-I_2p:ClassI:LTR:Copia.gff',\n",
       " 'Pst_104E_v12_p_ctg.REPET.Copia-71_AA-I_1p:ClassI:LTR:Copia.gff',\n",
       " 'Pst_104E_v12_p_ctg.REPET.Copia-58_PIT-I_1p:ClassI:LTR:Copia.gff',\n",
       " 'Pst_104E_v12_p_ctg.REPET.Copia-104_Mad-I_1p:ClassI:LTR:Copia.gff',\n",
       " 'Pst_104E_v12_p_ctg.REPET.ERV2-2_Tbel_I:ClassI:LTR:ERV.gff',\n",
       " 'Pst_104E_v12_p_ctg.REPET.Gypsy-34_PT-I_1p:ClassI:LTR:Gypsy.gff',\n",
       " 'Pst_104E_v12_p_ctg.REPET.Copia-39_TC-I_1p:ClassI:LTR:Copia.gff',\n",
       " 'Pst_104E_v12_p_ctg.REPET.Gypsy-26_DPse-I:ClassI:LTR:Gypsy.cov',\n",
       " 'Pst_104E_v12_p_ctg.REPET.Copia-33_SB-I_1p:ClassI:LTR:Copia.gff',\n",
       " 'Pst_104E_v12_p_ctg.REPET.Copia-2_CQ-I_1p:ClassI:LTR:Copia.gff',\n",
       " 'Pst_104E_v12_p_ctg.REPET.IBGYPSY1_I_2p:ClassI:LTR:Gypsy.cov',\n",
       " 'Pst_104E_v12_p_ctg.REPET.CR1-6_BF:ClassI:LINE:Jockey.gff',\n",
       " 'Pst_104E_v12_p_ctg.REPET.Copia46-PTR_I_1p#2:ClassI:LTR:Copia.gff',\n",
       " 'Pst_104E_v12_p_ctg.REPET.Copia-35_Mad-I_1p:ClassI:LTR:Copia.cov',\n",
       " 'Pst_104E_v12_p_ctg.REPET.Gypsy-8-I_HM:ClassI:LTR:Gypsy.gff',\n",
       " 'Pst_104E_v12_p_ctg.REPET.Copia1-I_TP:ClassI:LTR:Copia.cov',\n",
       " 'Pst_104E_v12_p_ctg.REPET.Gypsy-35_BRa-I_2p:ClassI:LTR:Gypsy.cov',\n",
       " 'Pst_104E_v12_p_ctg.REPET.PGGYPSYX1:ClassI:LTR:Gypsy.gff',\n",
       " 'Pst_104E_v12_p_ctg.REPET.Gypsy-1_HAS-I_1p:ClassI:LTR:Gypsy.gff',\n",
       " 'Pst_104E_v12_p_ctg.REPET.Gypsy-3_Trm-I_2p:ClassI:LTR:Gypsy.gff',\n",
       " 'Pst_104E_v12_p_ctg.REPET.Gypsy-21_SI-I_1p:ClassI:LTR:Gypsy.cov',\n",
       " 'Pst_104E_v12_p_ctg.REPET.Jockey-1_DSi:ClassI:LINE:Jockey.gff',\n",
       " 'Pst_104E_v12_p_ctg.REPET.Copia-10_TC-I_1p:ClassI:LTR:Copia.cov',\n",
       " 'Pst_104E_v12_p_ctg.REPET.Copia-32_GM-I_1p:ClassI:LTR:Copia.gff',\n",
       " 'Pst_104E_v12_p_ctg.REPET.Gypsy-24_VV-I_1p:ClassI:LTR:Gypsy.cov',\n",
       " 'Pst_104E_v12_p_ctg.REPET.Gypsy-83_ZM-I_2p:ClassI:LTR:Gypsy.cov',\n",
       " 'Pst_104E_v12_p_ctg.REPET.Copia-1_PX-I_1p:ClassI:LTR:Copia.cov',\n",
       " 'Pst_104E_v12_p_ctg.REPET.Copia-2_AT-I_1p:ClassI:LTR:Copia.gff',\n",
       " 'Pst_104E_v12_p_ctg.REPET.Gypsy-23_CPB-I:ClassI:LTR:Gypsy.gff',\n",
       " 'Pst_104E_v12_p_ctg.REPET.Copia-71_Mad-I_1p:ClassI:LTR:Copia.cov',\n",
       " 'Pst_104E_v12_p_ctg.REPET.CR1_Ele16:ClassI:LINE:Jockey.cov',\n",
       " 'Pst_104E_v12_p_ctg.REPET.Copia-20_FV-I_1p:ClassI:LTR:Copia.cov',\n",
       " 'Pst_104E_v12_p_ctg.REPET.Gypsy-8_LH-I_1p:ClassI:LTR:Gypsy.gff',\n",
       " 'Pst_104E_v12_p_ctg.REPET.L1-1B_Cho:ClassI:LINE:L1.gff',\n",
       " 'Pst_104E_v12_p_ctg.REPET.Gypsy-77-I_ZM_2p:ClassI:LTR:Gypsy.gff',\n",
       " 'Pst_104E_v12_p_ctg.REPET.Gypsy-21_DR2p:ClassI:LTR:Gypsy.gff',\n",
       " 'Pst_104E_v12_p_ctg.REPET.Copia-32_ALY-I:ClassI:LTR:Copia.cov',\n",
       " 'Pst_104E_v12_p_ctg.REPET.Copia23-ZM_I_1p:ClassI:LTR:Copia.gff',\n",
       " 'Pst_104E_v12_p_ctg.REPET.Gypsy-37_DWil-I_1p:ClassI:LTR:Gypsy.cov',\n",
       " 'Pst_104E_v12_p_ctg.REPET.Gypsy-27_SI-I:ClassI:LTR:Gypsy.gff',\n",
       " 'Pst_104E_v12_p_ctg.REPET.Copia-9_ST-I:ClassI:LTR:Copia.cov',\n",
       " 'Pst_104E_v12_p_ctg.REPET.Copia-33_TC-I:ClassI:LTR:Copia.cov',\n",
       " 'Pst_104E_v12_p_ctg.REPET.CR1_Ele3:ClassI:LINE:Jockey.cov',\n",
       " 'Pst_104E_v12_p_ctg.REPET.Copia-5_ECa-I:ClassI:LTR:Copia.gff',\n",
       " 'Pst_104E_v12_p_ctg.REPET.Copia-66_BG-I:ClassI:LTR:Copia.gff',\n",
       " 'Pst_104E_v12_p_ctg.REPET.Copia-22_RC-I_1p:ClassI:LTR:Copia.cov',\n",
       " 'Pst_104E_v12_p_ctg.REPET.Gypsy-31_DAn-I:ClassI:LTR:Gypsy.cov',\n",
       " 'Pst_104E_v12_p_ctg.REPET.COP20_I_MT:ClassI:LTR:Copia.gff',\n",
       " 'Pst_104E_v12_p_ctg.REPET.Gypsy-31_ST-I_1p:ClassI:LTR:Gypsy.cov',\n",
       " 'Pst_104E_v12_p_ctg.REPET.Gypsy-6_SSa-I_1p:ClassI:LTR:Gypsy.cov',\n",
       " 'Pst_104E_v12_p_ctg.REPET.Copia-36_BRa-I_1p:ClassI:LTR:Copia.gff',\n",
       " 'Pst_104E_v12_p_ctg.REPET.Copia-1_GA-I_1p:ClassI:LTR:Copia.cov',\n",
       " 'Pst_104E_v12_p_ctg.REPET.Gypsy-93_MLP-I_3p:ClassI:LTR:Gypsy.cov',\n",
       " 'Pst_104E_v12_p_ctg.REPET.L2-20_ACar:ClassI:LINE:Jockey.gff',\n",
       " 'Pst_104E_v12_p_ctg.REPET.Gypsy-21_DWil-I:ClassI:LTR:Gypsy.gff',\n",
       " 'Pst_104E_v12_p_ctg.REPET.Copia-32_ATr-I_1p:ClassI:LTR:Copia.cov',\n",
       " 'Pst_104E_v12_p_ctg.REPET.Copia-14_RC-I_1p:ClassI:LTR:Copia.gff',\n",
       " 'Pst_104E_v12_p_ctg.REPET.Gypsy-28_CPB-I_1p:ClassI:LTR:Gypsy.cov',\n",
       " 'Pst_104E_v12_p_ctg.REPET.Copia-9_ST-I:ClassI:LTR:Copia.gff',\n",
       " 'Pst_104E_v12_p_ctg.REPET.Copia-25_TC-I_2p:ClassI:LTR:Copia.cov',\n",
       " 'Pst_104E_v12_p_ctg.REPET.ERV-2_LCh-I_2p:ClassI:LTR:ERV.cov',\n",
       " 'Pst_104E_v12_p_ctg.REPET.L2B-2_CQ:ClassI:LINE:Jockey.gff',\n",
       " 'Pst_104E_v12_p_ctg.REPET.Copia-88_Mad-I_2p:ClassI:LTR:Copia.gff',\n",
       " 'Pst_104E_v12_p_ctg.REPET.Gypsy-121_GM-I_1p:ClassI:LTR:Gypsy.gff',\n",
       " 'Pst_104E_v12_p_ctg.REPET.CR1-58_AAe:ClassI:LINE:Jockey.cov',\n",
       " 'Pst_104E_v12_p_ctg.REPET.Daphne-9_CTe:ClassI:LINE:Jockey.gff',\n",
       " 'Pst_104E_v12_p_ctg.REPET.Mbcv_I_2p:ClassI:LTR:Gypsy.gff',\n",
       " 'Pst_104E_v12_p_ctg.REPET.Gypsy20-I_SP_1p:ClassI:LTR:Gypsy.cov',\n",
       " 'Pst_104E_v12_p_ctg.REPET.Copia-28_SI-I_1p:ClassI:LTR:Copia.cov',\n",
       " 'Pst_104E_v12_p_ctg.REPET.Copia-45_Pru-I_1p:ClassI:LTR:Copia.gff',\n",
       " 'Pst_104E_v12_p_ctg.REPET.ORF1p_TCN2:ClassI:LTR:?.cov',\n",
       " 'Pst_104E_v12_p_ctg.REPET.ERV-3_LCh-I_2p:ClassI:LTR:ERV.cov',\n",
       " 'Pst_104E_v12_p_ctg.REPET.GYPSY28-I_AG:ClassI:LTR:Gypsy.cov',\n",
       " 'Pst_104E_v12_p_ctg.REPET.CR1-9_AG:ClassI:LINE:Jockey.gff',\n",
       " 'Pst_104E_v12_p_ctg.REPET.Gypsy19-I_Dya:ClassI:LTR:Gypsy.gff',\n",
       " 'Pst_104E_v12_p_ctg.REPET.Gypsy-27_PIT-I:ClassI:LTR:Gypsy.gff',\n",
       " 'Pst_104E_v12_p_ctg.REPET.Copia-71_AA-I_1p:ClassI:LTR:Copia.cov',\n",
       " 'Pst_104E_v12_p_ctg.REPET.Gypsy-12_GM-I_1p:ClassI:LTR:Gypsy.cov',\n",
       " 'Pst_104E_v12_p_ctg.REPET.Gypsy-19_RP-I_2p:ClassI:LTR:Gypsy.gff',\n",
       " 'Pst_104E_v12_p_ctg.REPET.Copia-58_CCri-I_1p:ClassI:LTR:Copia.gff',\n",
       " 'Pst_104E_v12_p_ctg.REPET.Gypsy-12_BD-I_1p:ClassI:LTR:Gypsy.cov',\n",
       " 'Pst_104E_v12_p_ctg.REPET.Copia-39_RC-I_1p:ClassI:LTR:Copia.gff',\n",
       " 'Pst_104E_v12_p_ctg.REPET.Gypsy-77-I_NV:ClassI:LTR:Gypsy.cov',\n",
       " 'Pst_104E_v12_p_ctg.REPET.Gypsy-39_AA-I:ClassI:LTR:Gypsy.cov',\n",
       " 'Pst_104E_v12_p_ctg.REPET.Copia-105_BRa-I_1p:ClassI:LTR:Copia.gff',\n",
       " 'Pst_104E_v12_p_ctg.REPET.Gypsy-14_LVa-I:ClassI:LTR:Gypsy.cov',\n",
       " 'Pst_104E_v12_p_ctg.REPET.CR1-2_CQ:ClassI:LINE:Jockey.gff',\n",
       " 'Pst_104E_v12_p_ctg.REPET.Copia-26_AA-I:ClassI:LTR:Copia.cov',\n",
       " 'Pst_104E_v12_p_ctg.REPET.I-69_AAe_2p:ClassI:LINE:I.gff',\n",
       " 'Pst_104E_v12_p_ctg.REPET.COP20_I_MT:ClassI:LTR:Copia.cov',\n",
       " 'Pst_104E_v12_p_ctg.REPET.Copia15-ZM_I_2p:ClassI:LTR:Copia.gff',\n",
       " 'Pst_104E_v12_p_ctg.REPET.Copia-7_GM-I_1p:ClassI:LTR:Copia.gff',\n",
       " 'Pst_104E_v12_p_ctg.REPET.Copia-91_BRa-I_1p:ClassI:LTR:Copia.gff',\n",
       " 'Pst_104E_v12_p_ctg.REPET.Gypsy2-VV_I_1p:ClassI:LTR:Gypsy.gff',\n",
       " 'Pst_104E_v12_p_ctg.REPET.Gypsy88-I_DR_1p:ClassI:LTR:Gypsy.cov',\n",
       " 'Pst_104E_v12_p_ctg.REPET.Copia-50_ALY-I:ClassI:LTR:Copia.gff',\n",
       " 'Pst_104E_v12_p_ctg.REPET.Gypsy-3_PSH-I_1p:ClassI:LTR:Gypsy.gff',\n",
       " 'Pst_104E_v12_p_ctg.REPET.Copia-53_BG-I_1p:ClassI:LTR:Copia.gff',\n",
       " 'Pst_104E_v12_p_ctg.REPET.Copia-4_PR-I_1p:ClassI:LTR:Copia.cov',\n",
       " 'Pst_104E_v12_p_ctg.REPET.I-1_DVi:ClassI:LINE:I.gff',\n",
       " 'Pst_104E_v12_p_ctg.REPET.Gypsy107-I_Dr_2p:ClassI:LTR:Gypsy.gff',\n",
       " 'Pst_104E_v12_p_ctg.REPET.GYPSY44_AG2p:ClassI:LTR:Gypsy.cov',\n",
       " 'Pst_104E_v12_p_ctg.REPET.Copia-34_SB-I_3p:ClassI:LTR:Copia.cov',\n",
       " 'Pst_104E_v12_p_ctg.REPET.Copia-115_SB-I_2p:ClassI:LTR:Copia.cov',\n",
       " 'Pst_104E_v12_p_ctg.REPET.Gypsy-74_SB-I_2p:ClassI:LTR:Gypsy.cov',\n",
       " 'Pst_104E_v12_p_ctg.REPET.Gypsy-36C_ATr-I_1p:ClassI:LTR:Gypsy.cov',\n",
       " 'Pst_104E_v12_p_ctg.REPET.Gypsy-79_MLP-I_1p:ClassI:LTR:Gypsy.gff',\n",
       " 'Pst_104E_v12_p_ctg.REPET.Copia-2_LBS-I_1p:ClassI:LTR:Copia.gff',\n",
       " 'Pst_104E_v12_p_ctg.REPET.Jockey-4_DRh:ClassI:LINE:Jockey.gff',\n",
       " 'Pst_104E_v12_p_ctg.REPET.Copia-38_GM-I_2p:ClassI:LTR:Copia.gff',\n",
       " 'Pst_104E_v12_p_ctg.REPET.Gypsy-19_SMo-I_1p:ClassI:LTR:Gypsy.cov',\n",
       " 'Pst_104E_v12_p_ctg.REPET.Copia-26_BG-I:ClassI:LTR:Copia.gff',\n",
       " 'Pst_104E_v12_p_ctg.REPET.Gypsy-17_ATr-I_2p:ClassI:LTR:Gypsy.cov',\n",
       " 'Pst_104E_v12_p_ctg.REPET.Copia-62_PT-I_1p:ClassI:LTR:Copia.cov',\n",
       " 'Pst_104E_v12_p_ctg.REPET.MRT:ClassI:LINE:I.gff',\n",
       " 'Pst_104E_v12_p_ctg.REPET.Gypsy-21-I_NV:ClassI:LTR:Gypsy.gff',\n",
       " 'Pst_104E_v12_p_ctg.REPET.Copia-8_CPu-I_1p:ClassI:LTR:Copia.cov',\n",
       " 'Pst_104E_v12_p_ctg.REPET.CR1-95_AAe:ClassI:LINE:Jockey.gff',\n",
       " 'Pst_104E_v12_p_ctg.REPET.R1-1_DT:ClassI:LINE:I.cov',\n",
       " 'Pst_104E_v12_p_ctg.REPET.Gypsy-180_ZM-I_2p:ClassI:LTR:Gypsy.cov',\n",
       " 'Pst_104E_v12_p_ctg.REPET.Gypsy-11_DEl-I_1p:ClassI:LTR:Gypsy.gff',\n",
       " 'Pst_104E_v12_p_ctg.REPET.Copia-33_TC-I:ClassI:LTR:Copia.gff',\n",
       " 'Pst_104E_v12_p_ctg.REPET.Copia-5_ST-I:ClassI:LTR:Copia.gff',\n",
       " 'Pst_104E_v12_p_ctg.REPET.Gypsy-144_AA-I_2p:ClassI:LTR:Gypsy.cov',\n",
       " 'Pst_104E_v12_p_ctg.REPET.R1-15_DWi:ClassI:LINE:I.gff',\n",
       " 'Pst_104E_v12_p_ctg.REPET.Gypsy20-PTR_I_1p#2:ClassI:LTR:Gypsy.gff',\n",
       " 'Pst_104E_v12_p_ctg.REPET.Gypsy-28_GA-I_1p:ClassI:LTR:Gypsy.gff',\n",
       " 'Pst_104E_v12_p_ctg.REPET.DIRS-2_MLP-I_5p:ClassI:DIRS:DIRS.gff',\n",
       " 'Pst_104E_v12_p_ctg.REPET.Copia-27_ALY-I:ClassI:LTR:Copia.cov',\n",
       " 'Pst_104E_v12_p_ctg.REPET.CR1-3_TCa:ClassI:LINE:Jockey.cov',\n",
       " 'Pst_104E_v12_p_ctg.REPET.LOA_Ele5:ClassI:LINE:I.gff',\n",
       " 'Pst_104E_v12_p_ctg.REPET.Gypsy-27_AMi-I_1p:ClassI:LTR:Gypsy.gff',\n",
       " 'Pst_104E_v12_p_ctg.REPET.Gypsy-83_CCri-I:ClassI:LTR:Gypsy.cov',\n",
       " 'Pst_104E_v12_p_ctg.REPET.Gypsy-8_CPu-I_2p:ClassI:LTR:Gypsy.cov',\n",
       " 'Pst_104E_v12_p_ctg.REPET.ERV11_MD_I_2p:ClassI:LTR:ERV.gff',\n",
       " 'Pst_104E_v12_p_ctg.REPET.Copia-7_JC-I_3p:ClassI:LTR:Copia.cov',\n",
       " 'Pst_104E_v12_p_ctg.REPET.Copia-31_ST-I_1p:ClassI:LTR:Copia.cov',\n",
       " 'Pst_104E_v12_p_ctg.REPET.Copia-68_VV-I:ClassI:LTR:Copia.gff',\n",
       " 'Pst_104E_v12_p_ctg.REPET.Copia-70_ALY-I:ClassI:LTR:Copia.cov',\n",
       " 'Pst_104E_v12_p_ctg.REPET.classification.Retrotransposon_TRIM.gff',\n",
       " 'Pst_104E_v12_p_ctg.REPET.Copia-1_SI-I_1p:ClassI:LTR:Copia.cov',\n",
       " 'Pst_104E_v12_p_ctg.REPET.Copia-6_PSo-I:ClassI:LTR:Copia.cov',\n",
       " 'Pst_104E_v12_p_ctg.REPET.Gypsy-18_LCh-I_1p:ClassI:LTR:Gypsy.gff',\n",
       " 'Pst_104E_v12_p_ctg.REPET.Gypsy-24_DR1p:ClassI:LTR:Gypsy.cov',\n",
       " 'Pst_104E_v12_p_ctg.REPET.LDT1:ClassI:LINE:Jockey.gff',\n",
       " 'Pst_104E_v12_p_ctg.REPET_noblast.classification.Retrotransposon_noCat.gff',\n",
       " 'Pst_104E_v12_p_ctg.REPET.Gypsy-32-I_DR_1p:ClassI:LTR:Gypsy.cov',\n",
       " 'Pst_104E_v12_p_ctg.REPET.Gypsy1-1-I_Lch_2p:ClassI:LTR:Gypsy.gff',\n",
       " 'Pst_104E_v12_p_ctg.REPET.Gypsy-1_ECa-I_1p:ClassI:LTR:Gypsy.gff',\n",
       " 'Pst_104E_v12_p_ctg.REPET.Copia20-NVi_I:ClassI:LTR:Copia.gff',\n",
       " 'Pst_104E_v12_p_ctg.REPET.Gypsy-223_AA-I_1p:ClassI:LTR:Gypsy.cov',\n",
       " ...]"
      ]
     },
     "execution_count": 166,
     "metadata": {},
     "output_type": "execute_result"
    }
   ],
   "source": [
    "filenames"
   ]
  },
  {
   "cell_type": "code",
   "execution_count": 165,
   "metadata": {
    "collapsed": false
   },
   "outputs": [
    {
     "name": "stdout",
     "output_type": "stream",
     "text": [
      "/home/benjamin/genome_assembly/PST79/FALCON/p_assemblies/v9_1/Pst_104E_v12/TE_analysis\r\n"
     ]
    }
   ],
   "source": [
    "!pwd"
   ]
  },
  {
   "cell_type": "code",
   "execution_count": 164,
   "metadata": {
    "collapsed": false
   },
   "outputs": [
    {
     "data": {
      "text/plain": [
       "1590"
      ]
     },
     "execution_count": 164,
     "metadata": {},
     "output_type": "execute_result"
    }
   ],
   "source": [
    "len(cov_files)"
   ]
  },
  {
   "cell_type": "code",
   "execution_count": null,
   "metadata": {
    "collapsed": true
   },
   "outputs": [],
   "source": [
    "\n",
    "#make a large summary dataframe from all the cov files where the last \n",
    "df_list =[]\n",
    "class_cov_files.sort()\n",
    "for file in class_cov_files:\n",
    "    tmp_df = pd.read_csv(file, sep='\\t', header = None)\n",
    "    tmp_df[\"Code long\"] = file.split('.')[-2]\n",
    "    tmp_df.drop_duplicates(inplace=True)\n",
    "    df_list.append(tmp_df)\n",
    "    print(file.split('.')[-2])\n",
    "\n",
    "df_REPET_noblast_classification = pd.concat(df_list)\n",
    "\n",
    "cov_per_class_noblast = df_REPET_noblast_classification.pivot_table(values=1, columns= 'Code long', aggfunc='count')\n",
    "cov_per_contig_per_class_noblast = df_REPET_noblast_classification.groupby([0, 'Code long'])[1].count()"
   ]
  },
  {
   "cell_type": "code",
   "execution_count": null,
   "metadata": {
    "collapsed": true
   },
   "outputs": [],
   "source": []
  },
  {
   "cell_type": "code",
   "execution_count": null,
   "metadata": {
    "collapsed": false
   },
   "outputs": [],
   "source": [
    "full_path_list[0].replace('gff','cov')"
   ]
  },
  {
   "cell_type": "code",
   "execution_count": null,
   "metadata": {
    "collapsed": false
   },
   "outputs": [],
   "source": [
    "_test_id = _id[0:5]"
   ]
  },
  {
   "cell_type": "code",
   "execution_count": null,
   "metadata": {
    "collapsed": false
   },
   "outputs": [],
   "source": [
    "g = RE_id_gff.remove_invalid().saveas()"
   ]
  },
  {
   "cell_type": "code",
   "execution_count": null,
   "metadata": {
    "collapsed": false
   },
   "outputs": [],
   "source": [
    "[x for x in _test_id if '_' not in x]"
   ]
  },
  {
   "cell_type": "code",
   "execution_count": null,
   "metadata": {
    "collapsed": true
   },
   "outputs": [],
   "source": [
    "p_genome_file = 'Pst_104E_v12_p_ctg.genome_file'"
   ]
  },
  {
   "cell_type": "code",
   "execution_count": null,
   "metadata": {
    "collapsed": false
   },
   "outputs": [],
   "source": [
    "all_cov_RE = g.genome_coverage(dz=True,g=p_genome_file)\n",
    "\n",
    "all_cov_RE.saveas('Pst_104E_v12_p_ctg.REPET.ID_column.cov')"
   ]
  },
  {
   "cell_type": "code",
   "execution_count": null,
   "metadata": {
    "collapsed": false
   },
   "outputs": [],
   "source": [
    "p_repet_gff_filtered[1].unique()"
   ]
  },
  {
   "cell_type": "code",
   "execution_count": null,
   "metadata": {
    "collapsed": false
   },
   "outputs": [],
   "source": [
    "[x for x in p_repet_gff_filtered_2[(p_repet_gff_filtered_2[1] == 'Pst79p_anno_REPET_TE')  ][8].unique() if '_' not in x]"
   ]
  },
  {
   "cell_type": "code",
   "execution_count": null,
   "metadata": {
    "collapsed": false
   },
   "outputs": [],
   "source": [
    "[x for x in p_repet_gff_filtered_2[(p_repet_gff_filtered_2[1] == 'Pst79p_anno_REPET_tblastx') | (p_repet_gff_filtered_2[1] == 'Pst79p_anno_REPET_blastx') ][8].unique() if '_' not in x]"
   ]
  },
  {
   "cell_type": "code",
   "execution_count": null,
   "metadata": {
    "collapsed": false
   },
   "outputs": [],
   "source": [
    "p_repet_gff[p_repet_gff[8].str.contains('Copia6-VV_I_')][8]"
   ]
  },
  {
   "cell_type": "code",
   "execution_count": null,
   "metadata": {
    "collapsed": true
   },
   "outputs": [],
   "source": []
  }
 ],
 "metadata": {
  "kernelspec": {
   "display_name": "Python 3",
   "language": "python",
   "name": "python3"
  },
  "language_info": {
   "codemirror_mode": {
    "name": "ipython",
    "version": 3
   },
   "file_extension": ".py",
   "mimetype": "text/x-python",
   "name": "python",
   "nbconvert_exporter": "python",
   "pygments_lexer": "ipython3",
   "version": "3.5.2"
  }
 },
 "nbformat": 4,
 "nbformat_minor": 0
}
