{
 "cells": [
  {
   "cell_type": "code",
   "execution_count": 1,
   "metadata": {
    "collapsed": false
   },
   "outputs": [
    {
     "name": "stderr",
     "output_type": "stream",
     "text": [
      "/home/benjamin/anaconda3/lib/python3.5/site-packages/Bio/SearchIO/__init__.py:211: BiopythonExperimentalWarning: Bio.SearchIO is an experimental submodule which may undergo significant changes prior to its future official release.\n",
      "  BiopythonExperimentalWarning)\n"
     ]
    }
   ],
   "source": [
    "%matplotlib inline\n",
    "import pandas as pd\n",
    "import os\n",
    "import re\n",
    "from Bio import SeqIO\n",
    "import pysam\n",
    "from Bio.SeqRecord import SeqRecord\n",
    "from Bio.Seq import Seq\n",
    "from Bio import SearchIO\n",
    "from pybedtools import BedTool\n",
    "import numpy as np"
   ]
  },
  {
   "cell_type": "code",
   "execution_count": 2,
   "metadata": {
    "collapsed": true
   },
   "outputs": [],
   "source": [
    "source_dir = '/home/benjamin/genome_assembly/PST79/FALCON/p_assemblies/v9_1/032017_assembly'"
   ]
  },
  {
   "cell_type": "code",
   "execution_count": 3,
   "metadata": {
    "collapsed": true
   },
   "outputs": [],
   "source": [
    "out_dir = '/home/benjamin/genome_assembly/PST79/FALCON/p_assemblies/v9_1/Pst_104E_v12/TE_analysis'"
   ]
  },
  {
   "cell_type": "code",
   "execution_count": 4,
   "metadata": {
    "collapsed": false
   },
   "outputs": [],
   "source": [
    "if not os.path.exists(out_dir):\n",
    "    os.mkdir(out_dir)"
   ]
  },
  {
   "cell_type": "code",
   "execution_count": 5,
   "metadata": {
    "collapsed": false
   },
   "outputs": [],
   "source": [
    "p_repet_gff = pd.read_csv(out_dir+'/'+ \"Pst_104E_v12_p_ctg.REPET.gff\", sep='\\t', header = None)"
   ]
  },
  {
   "cell_type": "code",
   "execution_count": 6,
   "metadata": {
    "collapsed": false
   },
   "outputs": [
    {
     "data": {
      "text/plain": [
       "0    ID=ms7308_pcontig_193_DTX-incomp-chim_MCL5_Pst...\n",
       "1    ID=mp7308-1_pcontig_193_DTX-incomp-chim_MCL5_P...\n",
       "2    ID=ms7309_pcontig_193_DTX-incomp_MCL9_Pst79_RE...\n",
       "3    ID=mp7309-1_pcontig_193_DTX-incomp_MCL9_Pst79_...\n",
       "4    ID=ms7310_pcontig_193_DTX-incomp_MCL9_Pst79_RE...\n",
       "Name: 8, dtype: object"
      ]
     },
     "execution_count": 6,
     "metadata": {},
     "output_type": "execute_result"
    }
   ],
   "source": [
    "p_repet_gff[8].head()"
   ]
  },
  {
   "cell_type": "code",
   "execution_count": 7,
   "metadata": {
    "collapsed": false
   },
   "outputs": [],
   "source": [
    "TE_post_analysis_p = '/home/benjamin/genome_assembly/PST79/FALCON/p_assemblies/v9_1/REPET/Pst79_p/Pst79_p_full_annotate/postanalysis'"
   ]
  },
  {
   "cell_type": "code",
   "execution_count": 8,
   "metadata": {
    "collapsed": true
   },
   "outputs": [],
   "source": [
    "TE_post_analysis_p_header = 'TE      length  covg    frags   fullLgthFrags   copies  fullLgthCopies  meanId  sdId    minId   q25Id   medId   q75Id   maxId   meanLgth        sdLgth  minLgth q25Lgth medLgth q75Lgth maxLgth meanLgthPerc    sdLgthPerc      minLgthPerc  q25LgthPerc     medLgthPerc     q75LgthPerc     maxLgthPerc'.split(' ')"
   ]
  },
  {
   "cell_type": "code",
   "execution_count": 9,
   "metadata": {
    "collapsed": false
   },
   "outputs": [
    {
     "data": {
      "text/plain": [
       "['TE',\n",
       " 'length',\n",
       " 'covg',\n",
       " 'frags',\n",
       " 'fullLgthFrags',\n",
       " 'copies',\n",
       " 'fullLgthCopies',\n",
       " 'meanId',\n",
       " 'sdId',\n",
       " 'minId',\n",
       " 'q25Id',\n",
       " 'medId',\n",
       " 'q75Id',\n",
       " 'maxId',\n",
       " 'meanLgth',\n",
       " 'sdLgth',\n",
       " 'minLgth',\n",
       " 'q25Lgth',\n",
       " 'medLgth',\n",
       " 'q75Lgth',\n",
       " 'maxLgth',\n",
       " 'meanLgthPerc',\n",
       " 'sdLgthPerc',\n",
       " 'minLgthPerc',\n",
       " 'q25LgthPerc',\n",
       " 'medLgthPerc',\n",
       " 'q75LgthPerc',\n",
       " 'maxLgthPerc']"
      ]
     },
     "execution_count": 9,
     "metadata": {},
     "output_type": "execute_result"
    }
   ],
   "source": [
    "TE_post_analysis_p_header = [x for x in TE_post_analysis_p_header if x != '']\n",
    "TE_post_analysis_p_header"
   ]
  },
  {
   "cell_type": "code",
   "execution_count": 10,
   "metadata": {
    "collapsed": false
   },
   "outputs": [],
   "source": [
    "p_repet_summary_df = pd.read_csv(TE_post_analysis_p+'/'+'Pst79p_anno_chr_allTEs_nr_noSSR_join_path.annotStatsPerTE.tab' ,\\\n",
    "                                names = TE_post_analysis_p_header, header=None, sep='\\t', skiprows=1 )"
   ]
  },
  {
   "cell_type": "code",
   "execution_count": 11,
   "metadata": {
    "collapsed": true
   },
   "outputs": [],
   "source": [
    "#check if I can filter the tab files for removing all TEs that are on the 2000 plus contigs\n",
    "#remove tRNAs TEs with infernal"
   ]
  },
  {
   "cell_type": "code",
   "execution_count": 13,
   "metadata": {
    "collapsed": false
   },
   "outputs": [],
   "source": [
    "p_repet_summary_df['Code'] = p_repet_summary_df['TE'].apply(lambda x: x.split('_')[0])"
   ]
  },
  {
   "cell_type": "code",
   "execution_count": 14,
   "metadata": {
    "collapsed": false
   },
   "outputs": [
    {
     "data": {
      "text/plain": [
       "array(['DHX-comp', 'DHX-incomp-chim', 'DHX-incomp', 'DMX-incomp',\n",
       "       'DTX-comp-chim', 'DTX-comp', 'DTX-incomp-chim', 'DTX-incomp',\n",
       "       'DXX-MITE-chim', 'DXX-MITE', 'DXX', 'noCat', 'PotentialHostGene',\n",
       "       'RIX-comp', 'RIX-incomp-chim', 'RIX-incomp', 'RLX-comp-chim',\n",
       "       'RLX-comp', 'RLX-incomp-chim', 'RLX-incomp', 'RPX-incomp-chim',\n",
       "       'RSX-incomp-chim', 'RSX-incomp', 'RXX-chim', 'RXX-LARD-chim',\n",
       "       'RXX-LARD', 'RXX-TRIM-chim', 'RXX-TRIM', 'RXX', 'RYX-comp-chim',\n",
       "       'RYX-comp', 'RYX-incomp-chim', 'RYX-incomp', 'XXX-chim'], dtype=object)"
      ]
     },
     "execution_count": 14,
     "metadata": {},
     "output_type": "execute_result"
    }
   ],
   "source": [
    "p_repet_summary_df['Code'].unique()"
   ]
  },
  {
   "cell_type": "code",
   "execution_count": 15,
   "metadata": {
    "collapsed": true
   },
   "outputs": [],
   "source": [
    "code_keys = p_repet_summary_df['Code'].unique()"
   ]
  },
  {
   "cell_type": "code",
   "execution_count": 16,
   "metadata": {
    "collapsed": false
   },
   "outputs": [],
   "source": [
    "code_keys.sort()"
   ]
  },
  {
   "cell_type": "code",
   "execution_count": 17,
   "metadata": {
    "collapsed": true
   },
   "outputs": [],
   "source": [
    "code_long = ['DNA_transposon Helitron', 'DNA_transposon Helitron', 'DNA_transposon Helitron', 'DNA_transposon Maverick',\\\n",
    "            'DNA_transposon TIR', 'DNA_transposon TIR', 'DNA_transposon TIR', 'DNA_transposon TIR', 'DNA_transposon noCat',\\\n",
    "             'DNA_transposon MITE','DNA_transposon MITE', 'Potential Host Gene', 'Retrotransposon LINE', 'Retrotransposon LINE',\\\n",
    "             'Retrotransposon LINE','Retrotransposon LTR','Retrotransposon LTR', 'Retrotransposon LTR', 'Retrotransposon LTR', 'Retrotransposon PLE', \\\n",
    "             'Retrotransposon SINE',  'Retrotransposon SINE', 'Retrotransposon noCat', 'Retrotransposon LARD',\\\n",
    "             'Retrotransposon LARD', 'Retrotransposon TRIM', 'Retrotransposon TRIM', 'Retrotransposon noCat',  \\\n",
    "             'Retrotransposon Crypton','Retrotransposon Crypton','Retrotransposon Crypton','Retrotransposon Crypton',\\\n",
    "             'noCat', 'noCat']"
   ]
  },
  {
   "cell_type": "code",
   "execution_count": 18,
   "metadata": {
    "collapsed": true
   },
   "outputs": [],
   "source": [
    "code_dict = dict(zip(code_keys, code_long))"
   ]
  },
  {
   "cell_type": "code",
   "execution_count": 19,
   "metadata": {
    "collapsed": false
   },
   "outputs": [
    {
     "data": {
      "text/plain": [
       "{'DHX-comp': 'DNA_transposon Helitron',\n",
       " 'DHX-incomp': 'DNA_transposon Helitron',\n",
       " 'DHX-incomp-chim': 'DNA_transposon Helitron',\n",
       " 'DMX-incomp': 'DNA_transposon Maverick',\n",
       " 'DTX-comp': 'DNA_transposon TIR',\n",
       " 'DTX-comp-chim': 'DNA_transposon TIR',\n",
       " 'DTX-incomp': 'DNA_transposon TIR',\n",
       " 'DTX-incomp-chim': 'DNA_transposon TIR',\n",
       " 'DXX': 'DNA_transposon noCat',\n",
       " 'DXX-MITE': 'DNA_transposon MITE',\n",
       " 'DXX-MITE-chim': 'DNA_transposon MITE',\n",
       " 'PotentialHostGene': 'Potential Host Gene',\n",
       " 'RIX-comp': 'Retrotransposon LINE',\n",
       " 'RIX-incomp': 'Retrotransposon LINE',\n",
       " 'RIX-incomp-chim': 'Retrotransposon LINE',\n",
       " 'RLX-comp': 'Retrotransposon LTR',\n",
       " 'RLX-comp-chim': 'Retrotransposon LTR',\n",
       " 'RLX-incomp': 'Retrotransposon LTR',\n",
       " 'RLX-incomp-chim': 'Retrotransposon LTR',\n",
       " 'RPX-incomp-chim': 'Retrotransposon PLE',\n",
       " 'RSX-incomp': 'Retrotransposon SINE',\n",
       " 'RSX-incomp-chim': 'Retrotransposon SINE',\n",
       " 'RXX': 'Retrotransposon noCat',\n",
       " 'RXX-LARD': 'Retrotransposon LARD',\n",
       " 'RXX-LARD-chim': 'Retrotransposon LARD',\n",
       " 'RXX-TRIM': 'Retrotransposon TRIM',\n",
       " 'RXX-TRIM-chim': 'Retrotransposon TRIM',\n",
       " 'RXX-chim': 'Retrotransposon noCat',\n",
       " 'RYX-comp': 'Retrotransposon Crypton',\n",
       " 'RYX-comp-chim': 'Retrotransposon Crypton',\n",
       " 'RYX-incomp': 'Retrotransposon Crypton',\n",
       " 'RYX-incomp-chim': 'Retrotransposon Crypton',\n",
       " 'XXX-chim': 'noCat',\n",
       " 'noCat': 'noCat'}"
      ]
     },
     "execution_count": 19,
     "metadata": {},
     "output_type": "execute_result"
    }
   ],
   "source": [
    "code_dict"
   ]
  },
  {
   "cell_type": "code",
   "execution_count": 20,
   "metadata": {
    "collapsed": false
   },
   "outputs": [],
   "source": [
    "p_repet_summary_df['Code long'] = p_repet_summary_df['Code'].apply(lambda x: code_dict[x])"
   ]
  },
  {
   "cell_type": "code",
   "execution_count": 21,
   "metadata": {
    "collapsed": false
   },
   "outputs": [],
   "source": [
    "p_repet_summary_sum_df = pd.pivot_table(p_repet_summary_df, values=['covg', 'copies'], index='Code long', aggfunc=np.sum)"
   ]
  },
  {
   "cell_type": "code",
   "execution_count": 22,
   "metadata": {
    "collapsed": false
   },
   "outputs": [],
   "source": [
    "p_repet_summary_mean_df = pd.pivot_table(p_repet_summary_df, values='length', index='Code long', aggfunc=np.mean)"
   ]
  },
  {
   "cell_type": "code",
   "execution_count": 23,
   "metadata": {
    "collapsed": false
   },
   "outputs": [
    {
     "data": {
      "text/html": [
       "<div>\n",
       "<table border=\"1\" class=\"dataframe\">\n",
       "  <thead>\n",
       "    <tr style=\"text-align: right;\">\n",
       "      <th></th>\n",
       "      <th>copies</th>\n",
       "      <th>covg</th>\n",
       "      <th>length</th>\n",
       "    </tr>\n",
       "    <tr>\n",
       "      <th>Code long</th>\n",
       "      <th></th>\n",
       "      <th></th>\n",
       "      <th></th>\n",
       "    </tr>\n",
       "  </thead>\n",
       "  <tbody>\n",
       "    <tr>\n",
       "      <th>DNA_transposon Helitron</th>\n",
       "      <td>1075</td>\n",
       "      <td>817566</td>\n",
       "      <td>2989.764706</td>\n",
       "    </tr>\n",
       "    <tr>\n",
       "      <th>DNA_transposon MITE</th>\n",
       "      <td>3789</td>\n",
       "      <td>886304</td>\n",
       "      <td>490.240741</td>\n",
       "    </tr>\n",
       "    <tr>\n",
       "      <th>DNA_transposon Maverick</th>\n",
       "      <td>268</td>\n",
       "      <td>345406</td>\n",
       "      <td>8562.666667</td>\n",
       "    </tr>\n",
       "    <tr>\n",
       "      <th>DNA_transposon TIR</th>\n",
       "      <td>19166</td>\n",
       "      <td>12711595</td>\n",
       "      <td>4020.474359</td>\n",
       "    </tr>\n",
       "    <tr>\n",
       "      <th>DNA_transposon noCat</th>\n",
       "      <td>5286</td>\n",
       "      <td>2376456</td>\n",
       "      <td>3034.734513</td>\n",
       "    </tr>\n",
       "    <tr>\n",
       "      <th>Potential Host Gene</th>\n",
       "      <td>1372</td>\n",
       "      <td>1375304</td>\n",
       "      <td>6120.490566</td>\n",
       "    </tr>\n",
       "    <tr>\n",
       "      <th>Retrotransposon Crypton</th>\n",
       "      <td>1337</td>\n",
       "      <td>1049299</td>\n",
       "      <td>6874.526316</td>\n",
       "    </tr>\n",
       "    <tr>\n",
       "      <th>Retrotransposon LARD</th>\n",
       "      <td>10752</td>\n",
       "      <td>4947564</td>\n",
       "      <td>5407.736111</td>\n",
       "    </tr>\n",
       "    <tr>\n",
       "      <th>Retrotransposon LINE</th>\n",
       "      <td>323</td>\n",
       "      <td>237992</td>\n",
       "      <td>4446.625000</td>\n",
       "    </tr>\n",
       "    <tr>\n",
       "      <th>Retrotransposon LTR</th>\n",
       "      <td>18893</td>\n",
       "      <td>16276421</td>\n",
       "      <td>6384.627841</td>\n",
       "    </tr>\n",
       "    <tr>\n",
       "      <th>Retrotransposon PLE</th>\n",
       "      <td>75</td>\n",
       "      <td>41843</td>\n",
       "      <td>8954.000000</td>\n",
       "    </tr>\n",
       "    <tr>\n",
       "      <th>Retrotransposon SINE</th>\n",
       "      <td>163</td>\n",
       "      <td>31138</td>\n",
       "      <td>317.923077</td>\n",
       "    </tr>\n",
       "    <tr>\n",
       "      <th>Retrotransposon TRIM</th>\n",
       "      <td>507</td>\n",
       "      <td>238695</td>\n",
       "      <td>1583.434783</td>\n",
       "    </tr>\n",
       "    <tr>\n",
       "      <th>Retrotransposon noCat</th>\n",
       "      <td>112</td>\n",
       "      <td>101098</td>\n",
       "      <td>4365.857143</td>\n",
       "    </tr>\n",
       "    <tr>\n",
       "      <th>noCat</th>\n",
       "      <td>1218</td>\n",
       "      <td>850828</td>\n",
       "      <td>1679.829268</td>\n",
       "    </tr>\n",
       "  </tbody>\n",
       "</table>\n",
       "</div>"
      ],
      "text/plain": [
       "                         copies      covg       length\n",
       "Code long                                             \n",
       "DNA_transposon Helitron    1075    817566  2989.764706\n",
       "DNA_transposon MITE        3789    886304   490.240741\n",
       "DNA_transposon Maverick     268    345406  8562.666667\n",
       "DNA_transposon TIR        19166  12711595  4020.474359\n",
       "DNA_transposon noCat       5286   2376456  3034.734513\n",
       "Potential Host Gene        1372   1375304  6120.490566\n",
       "Retrotransposon Crypton    1337   1049299  6874.526316\n",
       "Retrotransposon LARD      10752   4947564  5407.736111\n",
       "Retrotransposon LINE        323    237992  4446.625000\n",
       "Retrotransposon LTR       18893  16276421  6384.627841\n",
       "Retrotransposon PLE          75     41843  8954.000000\n",
       "Retrotransposon SINE        163     31138   317.923077\n",
       "Retrotransposon TRIM        507    238695  1583.434783\n",
       "Retrotransposon noCat       112    101098  4365.857143\n",
       "noCat                      1218    850828  1679.829268"
      ]
     },
     "execution_count": 23,
     "metadata": {},
     "output_type": "execute_result"
    }
   ],
   "source": [
    "pd.concat([p_repet_summary_sum_df,p_repet_summary_mean_df], axis=1 )"
   ]
  },
  {
   "cell_type": "raw",
   "metadata": {},
   "source": [
    "p_repet_gff needs to be filtered to remove all the the high coverage contigs and such\n",
    "the filters are located in this folder\n",
    "/home/benjamin/genome_assembly/PST79/FALCON/p_assemblies/v9_1/032017_assembly"
   ]
  },
  {
   "cell_type": "code",
   "execution_count": 24,
   "metadata": {
    "collapsed": true
   },
   "outputs": [],
   "source": [
    "#now filter the gff dataframe to delete all the high coverage contigs\n",
    "contigs_smaller_2000 = pd.read_csv('/home/benjamin/genome_assembly/PST79/FALCON/p_assemblies/v9_1/032017_assembly/pcontig_smaller_2000.txt',\\\n",
    "                                  header=None)[0].tolist()"
   ]
  },
  {
   "cell_type": "code",
   "execution_count": 25,
   "metadata": {
    "collapsed": false
   },
   "outputs": [],
   "source": [
    "p_repet_gff_filtered = p_repet_gff[p_repet_gff[0].isin(contigs_smaller_2000)].reset_index(drop=True)"
   ]
  },
  {
   "cell_type": "code",
   "execution_count": 26,
   "metadata": {
    "collapsed": true
   },
   "outputs": [],
   "source": [
    "import pybedtools\n",
    "import multiprocessing\n",
    "import re"
   ]
  },
  {
   "cell_type": "code",
   "execution_count": 28,
   "metadata": {
    "collapsed": false
   },
   "outputs": [
    {
     "data": {
      "text/plain": [
       "array(['Pst79p_anno_REPET_TEs', 'Pst79p_anno_REPET_SSRs',\n",
       "       'Pst79p_anno_REPET_tblastx', 'Pst79p_anno_REPET_blastx',\n",
       "       'Pst79a_anno_REPET_TEs', 'Pst79a_anno_REPET_SSRs',\n",
       "       'Pst79a_anno_REPET_tblastx', 'Pst79a_anno_REPET_blastx'], dtype=object)"
      ]
     },
     "execution_count": 28,
     "metadata": {},
     "output_type": "execute_result"
    }
   ],
   "source": [
    "p_repet_gff_filtered[1].unique()"
   ]
  },
  {
   "cell_type": "code",
   "execution_count": 29,
   "metadata": {
    "collapsed": false
   },
   "outputs": [],
   "source": [
    "def ID_filter_gff(_feature, _id):\n",
    "    \"\"\"\n",
    "    This filter parses out the top level id form the 9th gff column form a REPET gff file.\n",
    "    It has a specific search pattern for each feature type in column 2.\n",
    "    _type is defined by the feature '_'.join(feature.split(\"_\")[-2:])\n",
    "    \"\"\"\n",
    "    _type = '_'.join(_feature.split(\"_\")[-2:])\n",
    "    if _type == 'REPET_TEs':\n",
    "\n",
    "        TE_pattern = 'ID=[A-Z,a-z,0-9,-]*_[A-Z,a-z,0-9]*_[0-9]*_([A-Z,a-z,0-9,-]*_[A-Z,a-z,0-9,-]*)_'\n",
    "        TE_prog = re.compile(TE_pattern)\n",
    "        TE_match = TE_prog.search(_id)\n",
    "        return TE_match.group(1)\n",
    "    if _type == 'REPET_SSRs':\n",
    "        \n",
    "        SSR_pattern = 'ID=[A-Z,a-z,0-9,-]*_[A-Z,a-z,0-9]*_[0-9]*_([A-Z,a-z,0-9,-]*)'\n",
    "        SSR_prog = re.compile(SSR_pattern)\n",
    "        SSR_match = SSR_prog.search(_id)\n",
    "        return SSR_match.group(1)\n",
    "    if _type == 'REPET_tblastx' or _type == 'REPET_blastx':\n",
    "        #if \"#\" in _id:\n",
    "        #     blast_pattern = 'ID=[A-Z,a-z,0-9,-]*_[A-Z,a-z,0-9]*_[0-9]*_([A-Z,a-z,0-9,-]*[_]?[A-Z,a-z,0-9,-]*[_|#|0-9]+?:[A-Z,a-z,0-9,-,:]*)'\n",
    "        #else:\n",
    "        #    blast_pattern = r'ID=[A-Z,a-z,0-9,-]*_[A-Z,a-z,0-9]*_[0-9]*_([\\w+|:|-]*)'\n",
    "        blast_prog = re.compile(r'ID=[A-Z,a-z,0-9,-]*_[A-Z,a-z,0-9]*_[0-9]*_([^;| ]*)')\n",
    "        #blast_prog = re.compile(blast_pattern)\n",
    "        blast_match = blast_prog.search(_id)\n",
    "        return blast_match.group(1)\n"
   ]
  },
  {
   "cell_type": "code",
   "execution_count": 31,
   "metadata": {
    "collapsed": false
   },
   "outputs": [],
   "source": [
    "blast_test = p_repet_gff_filtered[p_repet_gff_filtered[1] == 'Pst79p_anno_REPET_blastx'][8][578]"
   ]
  },
  {
   "cell_type": "code",
   "execution_count": 32,
   "metadata": {
    "collapsed": false
   },
   "outputs": [],
   "source": [
    "blast_pattern = 'ID=[A-Z,a-z,0-9,-]*_[A-Z,a-z,0-9]*_[0-9]*_([A-Z,a-z,0-9,-]*[_]?[A-Z,a-z,0-9,-]*[_,#,0-9]+?:[A-Z,a-z,0-9,-,:]*)'\n",
    "blast_pattern = 'ID=[A-Z,a-z,0-9,-]*_[A-Z,a-z,0-9]*_[0-9]*_(\\w+);'\n",
    "blast_prog = re.compile(r'ID=[A-Z,a-z,0-9,-]*_[A-Z,a-z,0-9]*_[0-9]*_([^;| ]*)')\n",
    "blast_match = blast_prog.search(blast_test)"
   ]
  },
  {
   "cell_type": "code",
   "execution_count": 33,
   "metadata": {
    "collapsed": false
   },
   "outputs": [
    {
     "data": {
      "text/plain": [
       "'Copia-48_Mad-I_1p#2:ClassI:LTR:Copia'"
      ]
     },
     "execution_count": 33,
     "metadata": {},
     "output_type": "execute_result"
    }
   ],
   "source": [
    "blast_match.group(1)"
   ]
  },
  {
   "cell_type": "code",
   "execution_count": 35,
   "metadata": {
    "collapsed": false
   },
   "outputs": [],
   "source": [
    "p_repet_gff_filtered['ID'] = p_repet_gff_filtered.apply(lambda row: ID_filter_gff(row[1], row[8]), axis=1)"
   ]
  },
  {
   "cell_type": "code",
   "execution_count": 36,
   "metadata": {
    "collapsed": false
   },
   "outputs": [],
   "source": [
    "#filter out potential host genes\n",
    "p_repet_gff_filtered = p_repet_gff_filtered[~p_repet_gff_filtered[8].str.contains(\"Potential\")]"
   ]
  },
  {
   "cell_type": "code",
   "execution_count": 37,
   "metadata": {
    "collapsed": false
   },
   "outputs": [],
   "source": [
    "num_unique_REs = len(p_repet_gff_filtered['ID'].unique())"
   ]
  },
  {
   "cell_type": "code",
   "execution_count": 38,
   "metadata": {
    "collapsed": false
   },
   "outputs": [
    {
     "name": "stdout",
     "output_type": "stream",
     "text": [
      "This is the number of unique repetitive elements: 48659\n"
     ]
    }
   ],
   "source": [
    "print('This is the number of unique repetitive elements: %i' % num_unique_REs)"
   ]
  },
  {
   "cell_type": "code",
   "execution_count": 39,
   "metadata": {
    "collapsed": false
   },
   "outputs": [],
   "source": [
    "frequency_of_REs  = p_repet_gff_filtered.groupby('ID')[0].count()"
   ]
  },
  {
   "cell_type": "code",
   "execution_count": 40,
   "metadata": {
    "collapsed": false
   },
   "outputs": [],
   "source": [
    "frequency_of_REs.sort_values(inplace=True)"
   ]
  },
  {
   "cell_type": "code",
   "execution_count": 42,
   "metadata": {
    "collapsed": true
   },
   "outputs": [],
   "source": [
    "p_repet_gff_filtered.to_csv(out_dir+'/Pst_104E_v12_p_ctg.REPET.filtered.gff', sep='\\t', header = None, index=None,columns=None)"
   ]
  },
  {
   "cell_type": "code",
   "execution_count": 43,
   "metadata": {
    "collapsed": true
   },
   "outputs": [],
   "source": [
    "p_repet_gff_filtered[8] = p_repet_gff_filtered['ID']"
   ]
  },
  {
   "cell_type": "code",
   "execution_count": 44,
   "metadata": {
    "collapsed": false
   },
   "outputs": [],
   "source": [
    "p_repet_gff_filtered_2 = p_repet_gff_filtered.iloc[:,0:9]"
   ]
  },
  {
   "cell_type": "code",
   "execution_count": 46,
   "metadata": {
    "collapsed": true
   },
   "outputs": [],
   "source": [
    "p_repet_gff_filtered_2.to_csv(out_dir+'/Pst_104E_v12_p_ctg.REPET.ID_column.gff', sep='\\t', header = None, index=None,columns=None)"
   ]
  },
  {
   "cell_type": "code",
   "execution_count": 47,
   "metadata": {
    "collapsed": false
   },
   "outputs": [],
   "source": [
    "RE_id_gff = pybedtools.BedTool(out_dir+'/Pst_104E_v12_p_ctg.REPET.ID_column.gff')"
   ]
  },
  {
   "cell_type": "code",
   "execution_count": 49,
   "metadata": {
    "collapsed": true
   },
   "outputs": [],
   "source": [
    "os.chdir(out_dir)"
   ]
  },
  {
   "cell_type": "code",
   "execution_count": 50,
   "metadata": {
    "collapsed": true
   },
   "outputs": [],
   "source": [
    "repet_gff = 'Pst_104E_v12_p_ctg.REPET.gff'"
   ]
  },
  {
   "cell_type": "code",
   "execution_count": 51,
   "metadata": {
    "collapsed": false
   },
   "outputs": [],
   "source": [
    "repet_prefix = '.'.join(repet_gff.split('.')[0:2])"
   ]
  },
  {
   "cell_type": "code",
   "execution_count": 52,
   "metadata": {
    "collapsed": true
   },
   "outputs": [],
   "source": [
    "g = RE_id_gff.remove_invalid().saveas()"
   ]
  },
  {
   "cell_type": "code",
   "execution_count": 53,
   "metadata": {
    "collapsed": true
   },
   "outputs": [],
   "source": [
    "# Next, we create a function to pass only features for a particular\n",
    "# featuretype.  This is similar to a \"grep\" operation when applied to every\n",
    "# feature in a BedTool\n",
    "def id_filter(feature, _id):\n",
    "    if feature[8] == _id:\n",
    "        return True\n",
    "    return False"
   ]
  },
  {
   "cell_type": "code",
   "execution_count": 111,
   "metadata": {
    "collapsed": false
   },
   "outputs": [],
   "source": [
    "# subset the id and safe in specific folder\n",
    "# return the subsetted file as bedtool\n",
    "def subset_id(_id):\n",
    "    #ClassI are retrotransposon form blast\n",
    "    if 'ClassI:' in _id:\n",
    "        out_path = TE_path_dict['Retrotransposon']   \n",
    "    #ClassII are DNA_transponson\n",
    "    elif 'ClassII' in _id:\n",
    "        out_path = TE_path_dict['DNA_transposon'] \n",
    "    #The rest with '_' should be REPET_TEs\n",
    "    elif _id.split('_')[0] in list(code_dict.keys()):\n",
    "        key = code_dict[_id.split('_')[0]].split(' ')[0]\n",
    "        out_path = TE_path_dict[key]\n",
    "    #everything without '_' at the end should be SSR\n",
    "    elif '_' not in _id:\n",
    "        out_path = TE_path_dict['SSR']\n",
    "    out_fn = out_path+'/'+repet_prefix+'.'+_id+'.gff'\n",
    "    result = g.filter(id_filter, _id).saveas(out_fn)\n",
    "    cov_fn = out_fn.replace('gff','cov')\n",
    "    cov = result.genome_coverage(dz=True,g=p_genome_file)\n",
    "    cov.saveas(cov_fn)\n",
    "    #return pybedtools.BedTool(result.fn)"
   ]
  },
  {
   "cell_type": "raw",
   "metadata": {},
   "source": [
    "Write a loop that takes in the filtered id'ed gff file, filters the file according to the id field. The corresponding bedfile is saved in a specific folder for the type of TE (RNA, DNA, SSR, noCat)"
   ]
  },
  {
   "cell_type": "code",
   "execution_count": 58,
   "metadata": {
    "collapsed": true
   },
   "outputs": [],
   "source": [
    "TE_types = ['Retrotransposon', 'DNA_transposon', 'noCat', 'SSR']\n",
    "TE_path = [os.path.join(out_dir, x) for x in TE_types]\n",
    "TE_path_dict = dict(zip(TE_types, TE_path))"
   ]
  },
  {
   "cell_type": "code",
   "execution_count": 60,
   "metadata": {
    "collapsed": false
   },
   "outputs": [],
   "source": [
    "for TE_type in TE_types:\n",
    "    new_path = os.path.join(out_dir, TE_type)\n",
    "    if not os.path.exists(new_path):\n",
    "        os.mkdir(new_path)"
   ]
  },
  {
   "cell_type": "code",
   "execution_count": 105,
   "metadata": {
    "collapsed": true
   },
   "outputs": [],
   "source": [
    "_id = frequency_of_REs.index.tolist()"
   ]
  },
  {
   "cell_type": "code",
   "execution_count": null,
   "metadata": {
    "collapsed": false
   },
   "outputs": [],
   "source": [
    "[subset_id(x) for x in _test_id]"
   ]
  },
  {
   "cell_type": "code",
   "execution_count": 110,
   "metadata": {
    "collapsed": false
   },
   "outputs": [
    {
     "data": {
      "text/plain": [
       "'/home/benjamin/genome_assembly/PST79/FALCON/p_assemblies/v9_1/Pst_104E_v12/TE_analysis/SSR/Pst_104E_v12_p_ctg.REPETGAGCAGGTA3.cov'"
      ]
     },
     "execution_count": 110,
     "metadata": {},
     "output_type": "execute_result"
    }
   ],
   "source": [
    "full_path_list[0].replace('gff','cov')"
   ]
  },
  {
   "cell_type": "code",
   "execution_count": 113,
   "metadata": {
    "collapsed": false
   },
   "outputs": [],
   "source": [
    "_test_id = _id[0:5]"
   ]
  },
  {
   "cell_type": "code",
   "execution_count": 63,
   "metadata": {
    "collapsed": false
   },
   "outputs": [],
   "source": [
    "g = RE_id_gff.remove_invalid().saveas()"
   ]
  },
  {
   "cell_type": "code",
   "execution_count": null,
   "metadata": {
    "collapsed": false
   },
   "outputs": [],
   "source": [
    "[x for x in _test_id if '_' not in x]"
   ]
  },
  {
   "cell_type": "code",
   "execution_count": 106,
   "metadata": {
    "collapsed": true
   },
   "outputs": [],
   "source": [
    "p_genome_file = 'Pst_104E_v12_p_ctg.genome_file'"
   ]
  },
  {
   "cell_type": "code",
   "execution_count": 65,
   "metadata": {
    "collapsed": false
   },
   "outputs": [],
   "source": [
    "all_cov_RE = g.genome_coverage(dz=True,g=p_genome_file)"
   ]
  },
  {
   "cell_type": "code",
   "execution_count": 66,
   "metadata": {
    "collapsed": false
   },
   "outputs": [
    {
     "data": {
      "text/plain": [
       "<BedTool(Pst_104E_v12_p_ctg.REPET.ID_column.cov)>"
      ]
     },
     "execution_count": 66,
     "metadata": {},
     "output_type": "execute_result"
    }
   ],
   "source": [
    "all_cov_RE.saveas('Pst_104E_v12_p_ctg.REPET.ID_column.cov')"
   ]
  },
  {
   "cell_type": "code",
   "execution_count": 69,
   "metadata": {
    "collapsed": false
   },
   "outputs": [
    {
     "data": {
      "text/plain": [
       "array(['Pst79p_anno_REPET_TEs', 'Pst79p_anno_REPET_SSRs',\n",
       "       'Pst79p_anno_REPET_tblastx', 'Pst79p_anno_REPET_blastx',\n",
       "       'Pst79a_anno_REPET_TEs', 'Pst79a_anno_REPET_SSRs',\n",
       "       'Pst79a_anno_REPET_tblastx', 'Pst79a_anno_REPET_blastx'], dtype=object)"
      ]
     },
     "execution_count": 69,
     "metadata": {},
     "output_type": "execute_result"
    }
   ],
   "source": [
    "p_repet_gff_filtered[1].unique()"
   ]
  },
  {
   "cell_type": "code",
   "execution_count": 74,
   "metadata": {
    "collapsed": false
   },
   "outputs": [
    {
     "data": {
      "text/plain": [
       "[]"
      ]
     },
     "execution_count": 74,
     "metadata": {},
     "output_type": "execute_result"
    }
   ],
   "source": [
    "[x for x in p_repet_gff_filtered_2[(p_repet_gff_filtered_2[1] == 'Pst79p_anno_REPET_TE')  ][8].unique() if '_' not in x]"
   ]
  },
  {
   "cell_type": "code",
   "execution_count": 68,
   "metadata": {
    "collapsed": false
   },
   "outputs": [
    {
     "data": {
      "text/plain": [
       "['ATCOPIA43I:ClassI:LTR:Copia',\n",
       " 'CFT1:ClassI:LTR:Gypsy',\n",
       " 'TCN1-I:ClassI:LTR:Gypsy',\n",
       " 'PsAppalachian-I:ClassI:LTR:Gypsy',\n",
       " 'SUSHII:ClassI:LTR:Gypsy',\n",
       " 'MtPH-A6-4-Ia:ClassII:TIR:PIF-Harbinger',\n",
       " 'MtPH-M-2-Ia:ClassII:TIR:PIF-Harbinger',\n",
       " 'MtPH-M-2-IIa:ClassII:TIR:PIF-Harbinger',\n",
       " 'GORPI:ClassI:LTR:Gypsy',\n",
       " 'YOYOI:ClassI:LTR:Gypsy',\n",
       " 'SUSHIIDR1:ClassI:LTR:Gypsy',\n",
       " 'CYCLO:ClassI:?:?',\n",
       " 'PTERV2a:ClassI:LTR:ERV',\n",
       " 'TCN2-I:ClassI:LTR:?',\n",
       " 'TCN3-I:ClassI:LTR:?',\n",
       " 'HERVH48I:ClassI:LTR:Retrovirus',\n",
       " 'HERVR:ClassI:LTR:ERV',\n",
       " 'CfERVF1:ClassI:LTR:ERV',\n",
       " 'NONAUT-5:ClassI:LTR:Gypsy',\n",
       " 'ATCOPIA18I:ClassI:LTR:Copia',\n",
       " 'ATCOPIA2I:ClassI:LTR:Copia',\n",
       " 'ATCOPIA5I:ClassI:LTR:Copia',\n",
       " 'ATCOPIA6I:ClassI:LTR:Copia',\n",
       " 'CIRCE:ClassI:LTR:?',\n",
       " 'HERV-Fc2:ClassI:LTR:ERV',\n",
       " 'RNERV19:ClassI:LTR:ERV',\n",
       " 'ATCOPIA13I:ClassI:LTR:Copia',\n",
       " 'CcNgaro3:ClassI:DIRS:DIRS',\n",
       " 'PTERV2b:ClassI:LTR:ERV',\n",
       " 'HERV46I:ClassI:?:?',\n",
       " 'Howilli1:ClassII:TIR:hAT',\n",
       " 'SZ-6IN:ClassI:LTR:Copia',\n",
       " 'HELITRON2:ClassII:Helitron:Helitron',\n",
       " 'ATCOPIA97I:ClassI:LTR:Copia',\n",
       " 'CEHEL1p:ClassII:Helitron:Helitron',\n",
       " 'OSHEL3p:ClassII:Helitron:Helitron',\n",
       " 'HERVFH19I:ClassI:LTR:Retrovirus',\n",
       " 'PGGYPSYX1:ClassI:LTR:Gypsy',\n",
       " 'ATCOPIA17I:ClassI:LTR:Copia',\n",
       " 'ATCOPIA21I:ClassI:LTR:Copia',\n",
       " 'ATCOPIA7I:ClassI:LTR:Copia',\n",
       " 'ATHAT1p:ClassII:TIR:hAT',\n",
       " 'ROMANIAT5:ClassI:LTR:Gypsy',\n",
       " 'TrepCopia3:ClassI:LTR:Copia',\n",
       " 'ZEBEDEE:ClassI:LTR:Copia',\n",
       " 'MuRRS4-int:ClassI:LTR:ERV',\n",
       " 'TCN4-I:ClassI:LTR:?',\n",
       " 'TCN5-I:ClassI:LTR:?',\n",
       " 'CfERV1:ClassI:LTR:ERV',\n",
       " 'HATORY:ClassII:TIR:hAT',\n",
       " 'TOS17:ClassI:LTR:Copia',\n",
       " 'CoeEFV-I:ClassI:LTR:Retrovirus',\n",
       " 'ATHAT3:ClassII:TIR:hAT',\n",
       " 'ATGP1I:ClassI:LTR:Gypsy',\n",
       " 'ATLANTYS3I:ClassI:LTR:Gypsy',\n",
       " 'ARET1I:ClassI:LTR:Gypsy',\n",
       " 'GGERVL-C:ClassI:LTR:ERV',\n",
       " 'LDT1:ClassI:LINE:Jockey',\n",
       " 'UHU:ClassII:TIR:Tc1-Mariner',\n",
       " 'Hop:ClassII:TIR:MuDR',\n",
       " 'TEMPINDAS:ClassII:TIR:hAT',\n",
       " 'SACI-5:ClassI:LTR:Gypsy',\n",
       " 'ATHEL4p:ClassII:Helitron:Helitron',\n",
       " 'GGERVL-A:ClassI:LTR:ERV',\n",
       " 'P126:ClassII:TIR:P',\n",
       " 'RatERVL:ClassI:LTR:ERV',\n",
       " 'SloEFV-I:ClassI:LTR:Retrovirus',\n",
       " 'ATHAT1:ClassII:TIR:hAT',\n",
       " 'ATGP5I:ClassI:LTR:Gypsy',\n",
       " 'Mx:ClassII:TIR:hAT',\n",
       " 'MacERV6:ClassI:LTR:ERV',\n",
       " 'ATCOPIA19I:ClassI:LTR:Copia',\n",
       " 'ATCOPIA9I:ClassI:LTR:Copia',\n",
       " 'OSSER:ClassI:LTR:Copia',\n",
       " 'ATCOPIA89p:ClassI:LTR:Copia',\n",
       " 'ATCOPIA22I:ClassI:LTR:Copia',\n",
       " 'ATCOPIA24I:ClassI:LTR:Copia',\n",
       " 'MURVY-int:ClassI:LTR:ERV',\n",
       " 'ATCOPIA25I:ClassI:LTR:Copia',\n",
       " 'BILBO:ClassI:LINE:I',\n",
       " 'MacERV5b:ClassI:LTR:ERV',\n",
       " 'CAREP1:ClassI:LTR:Gypsy',\n",
       " 'GYPSYDR1:ClassI:LTR:Gypsy',\n",
       " 'L31:ClassI:?:?',\n",
       " 'PTERV1a:ClassI:LTR:ERV',\n",
       " 'TCN6-I:ClassI:LTR:?',\n",
       " 'ATCOPIA8BI:ClassI:LTR:Copia',\n",
       " 'PGCOPIAX1:ClassI:LTR:Copia',\n",
       " 'HERV15I:ClassI:LTR:Retrovirus',\n",
       " 'TY3:ClassI:LTR:Gypsy',\n",
       " 'ATIS112A:ClassII:TIR:PIF-Harbinger',\n",
       " 'MacERV5a:ClassI:LTR:ERV',\n",
       " 'ATGP3I:ClassI:LTR:Gypsy',\n",
       " 'ATCOPIA78p:ClassI:LTR:Copia',\n",
       " 'OSHEL1p:ClassII:Helitron:Helitron',\n",
       " 'ATIS112A-2p:ClassII:TIR:PIF-Harbinger',\n",
       " 'ATHEL1p:ClassII:Helitron:Helitron',\n",
       " 'ATGP2I:ClassI:LTR:Gypsy',\n",
       " 'HERVIP10F:ClassI:LTR:ERV',\n",
       " 'TORTL1:ClassI:LTR:Copia',\n",
       " 'ATHAT7:ClassII:TIR:hAT',\n",
       " 'FUROUSHA1:ClassII:TIR:hAT',\n",
       " 'METRAHAT:ClassII:TIR:hAT',\n",
       " 'ATCOPIA20I:ClassI:LTR:Copia',\n",
       " 'Ag-Jock-12:ClassI:LINE:Jockey',\n",
       " 'BMC1:ClassI:LINE:Jockey',\n",
       " 'ATHAT10p:ClassII:TIR:hAT',\n",
       " 'Cigr-1-I:ClassI:LTR:Gypsy',\n",
       " 'HERVFH21I:ClassI:LTR:Retrovirus',\n",
       " 'ATHEL2p:ClassII:Helitron:Helitron',\n",
       " 'TY5:ClassI:LTR:Copia',\n",
       " 'SMAR20:ClassII:TIR:Tc1-Mariner',\n",
       " 'HELITRON3:ClassII:Helitron:Helitron',\n",
       " 'ATCOPIA16I:ClassI:LTR:Copia',\n",
       " 'PlatERVR1:ClassI:LTR:ERV',\n",
       " 'HERV17:ClassI:LTR:ERV',\n",
       " 'Jittery:ClassII:TIR:MuDR',\n",
       " 'ATCOPIA65p:ClassI:LTR:Copia',\n",
       " 'ATCOPIA1I:ClassI:LTR:Copia',\n",
       " 'ATHPOGO:ClassII:TIR:Tc1-Mariner',\n",
       " 'HELIBAT1:ClassII:Helitron:Helitron',\n",
       " 'SACI-7:ClassI:LTR:Gypsy',\n",
       " 'ATHAT2:ClassII:TIR:hAT',\n",
       " 'TrepCOPIA4:ClassI:LTR:Copia',\n",
       " 'HARBINGER:ClassII:TIR:PIF-Harbinger',\n",
       " 'HERVS71:ClassI:LTR:ERV',\n",
       " 'MULV:ClassI:LTR:ERV',\n",
       " 'RandI-1:ClassI:?:?',\n",
       " 'ATCOPIA3I:ClassI:LTR:Copia',\n",
       " 'CfERVF2:ClassI:LTR:ERV',\n",
       " 'HELITRON1:ClassII:Helitron:Helitron',\n",
       " 'ATCOPIA12I:ClassI:LTR:Copia',\n",
       " 'AGHEL1p:ClassII:Helitron:Helitron',\n",
       " 'ATCOPIA52p:ClassI:LTR:Copia',\n",
       " 'SC-5:ClassI:LTR:Copia',\n",
       " 'SZ-60:ClassI:LTR:?',\n",
       " 'HERV3:ClassI:LTR:ERV',\n",
       " 'HUERS-P3:ClassI:LTR:?',\n",
       " 'MtPH-M-1-Ia:ClassII:TIR:PIF-Harbinger',\n",
       " 'MtPH-M-3-Ia:ClassII:TIR:PIF-Harbinger',\n",
       " 'SMAR3:ClassII:TIR:Tc1-Mariner',\n",
       " 'ATCOPIA4I:ClassI:LTR:Copia',\n",
       " 'ATCOPIA8AI:ClassI:LTR:Copia',\n",
       " 'CER1:ClassI:LTR:Gypsy',\n",
       " 'Homo2:ClassII:TIR:hAT',\n",
       " 'Howilli2:ClassII:TIR:hAT',\n",
       " 'GYPSYDR2:ClassI:LTR:Gypsy',\n",
       " 'POGO:ClassII:TIR:Tc1-Mariner',\n",
       " 'HERMES:ClassII:TIR:hAT',\n",
       " 'TAG2:ClassII:TIR:hAT',\n",
       " 'RPS2:ClassI:?:?',\n",
       " 'HELITRON5:ClassII:Helitron:Helitron',\n",
       " 'SLIDE:ClassII:TIR:hAT',\n",
       " 'TZF28B:ClassII:TIR:Tc1-Mariner',\n",
       " 'ATGP7I:ClassI:LTR:Gypsy',\n",
       " 'ATGP8I:ClassI:LTR:Gypsy',\n",
       " 'RandI-6:ClassI:?:?',\n",
       " 'T1:ClassI:LINE:Jockey',\n",
       " 'HERV18:ClassI:LTR:Retrovirus',\n",
       " 'SMAR11:ClassII:TIR:Tc1-Mariner',\n",
       " 'DM176:ClassI:LTR:Gypsy',\n",
       " 'ATCOPIA26I:ClassI:LTR:Copia',\n",
       " 'OSHEL2p:ClassII:Helitron:Helitron',\n",
       " 'MER52AI:ClassI:LTR:ERV',\n",
       " 'HERV9:ClassI:LTR:ERV',\n",
       " 'TAG2p:ClassII:TIR:hAT',\n",
       " 'ATCOPIA51p:ClassI:LTR:Copia',\n",
       " 'ATCOPIA15I:ClassI:LTR:Copia',\n",
       " 'ATGP6I:ClassI:LTR:Gypsy',\n",
       " 'ATHAT9:ClassII:TIR:hAT',\n",
       " 'CRATA:ClassII:TIR:hAT',\n",
       " 'FUROUSHA2:ClassII:TIR:hAT',\n",
       " 'ATCOPIA42I:ClassI:LTR:Copia',\n",
       " 'TED:ClassI:LTR:Gypsy',\n",
       " 'MtPH-E-IIa:ClassII:TIR:PIF-Harbinger',\n",
       " 'Afun1:ClassI:LTR:Gypsy',\n",
       " 'RandI-4:ClassI:?:?',\n",
       " 'HELITRON4:ClassII:Helitron:Helitron',\n",
       " 'HERVI:ClassI:LTR:ERV',\n",
       " 'TpSIREcon:ClassI:LTR:Copia',\n",
       " 'DEA1:ClassI:LTR:Gypsy',\n",
       " 'TV1I:ClassI:LTR:Gypsy',\n",
       " 'ATCOPIA14I:ClassI:LTR:Copia',\n",
       " 'CarERV2:ClassI:LTR:ERV',\n",
       " 'TIGGER7:ClassII:TIR:Tc1-Mariner',\n",
       " 'TREP46:ClassI:LTR:Copia',\n",
       " 'SMAR18:ClassII:TIR:Tc1-Mariner',\n",
       " 'TWIFBIG:ClassII:TIR:hAT',\n",
       " 'Ag-Loner-1:ClassI:LINE:I',\n",
       " 'MtPH-A6-3-Ia:ClassII:TIR:PIF-Harbinger',\n",
       " 'TWIFB1:ClassII:TIR:hAT',\n",
       " 'Tad1:ClassI:LINE:I',\n",
       " 'HELITRON1MT:ClassII:Helitron:Helitron',\n",
       " 'RTAg4:ClassI:LINE:I',\n",
       " 'TART-A:ClassI:LINE:Jockey',\n",
       " 'Homo9:ClassII:TIR:hAT',\n",
       " 'SMAR15:ClassII:TIR:Tc1-Mariner',\n",
       " 'ATCOPIA90p:ClassI:LTR:Copia',\n",
       " 'ATHEL3p:ClassII:Helitron:Helitron',\n",
       " 'ATCOPIA49p:ClassI:LTR:Copia',\n",
       " 'BAGGINS1:ClassI:LINE:I',\n",
       " 'ATCOPIA11I:ClassI:LTR:Copia',\n",
       " 'ATCOPIA95p:ClassI:LTR:Copia',\n",
       " 'MRT:ClassI:LINE:I',\n",
       " 'HERV30I:ClassI:?:?',\n",
       " 'Hoana6:ClassII:TIR:hAT',\n",
       " 'TSESSEBEII:ClassII:TIR:Tc1-Mariner',\n",
       " 'TCB2:ClassII:TIR:Tc1-Mariner',\n",
       " 'TRIM:ClassI:LINE:I',\n",
       " 'TRAS1:ClassI:LINE:I']"
      ]
     },
     "execution_count": 68,
     "metadata": {},
     "output_type": "execute_result"
    }
   ],
   "source": [
    "[x for x in p_repet_gff_filtered_2[(p_repet_gff_filtered_2[1] == 'Pst79p_anno_REPET_tblastx') | (p_repet_gff_filtered_2[1] == 'Pst79p_anno_REPET_blastx') ][8].unique() if '_' not in x]"
   ]
  },
  {
   "cell_type": "code",
   "execution_count": null,
   "metadata": {
    "collapsed": false
   },
   "outputs": [],
   "source": [
    "p_repet_gff[p_repet_gff[8].str.contains('Copia6-VV_I_')][8]"
   ]
  },
  {
   "cell_type": "code",
   "execution_count": null,
   "metadata": {
    "collapsed": true
   },
   "outputs": [],
   "source": []
  }
 ],
 "metadata": {
  "kernelspec": {
   "display_name": "Python 3",
   "language": "python",
   "name": "python3"
  },
  "language_info": {
   "codemirror_mode": {
    "name": "ipython",
    "version": 3
   },
   "file_extension": ".py",
   "mimetype": "text/x-python",
   "name": "python",
   "nbconvert_exporter": "python",
   "pygments_lexer": "ipython3",
   "version": "3.5.2"
  }
 },
 "nbformat": 4,
 "nbformat_minor": 0
}
