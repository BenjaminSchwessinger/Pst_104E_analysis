{
 "cells": [
  {
   "cell_type": "markdown",
   "metadata": {},
   "source": [
    "This notebook is aimed at getting all the effector candidates from the Pst_104E_genome as defined as the following.\n",
    "EffectorP prediction done by Jana Sperschneider\n",
    "Gene expression cluster analysis done by Jana Sperschneider picking cluster 2, 3 and 8"
   ]
  },
  {
   "cell_type": "code",
   "execution_count": 47,
   "metadata": {
    "collapsed": true
   },
   "outputs": [],
   "source": [
    "import os\n",
    "from Bio import SeqIO\n",
    "import pandas as pd\n",
    "import re"
   ]
  },
  {
   "cell_type": "code",
   "execution_count": 82,
   "metadata": {
    "collapsed": true
   },
   "outputs": [],
   "source": [
    "#define your input folders\n",
    "CLUSTER_FOLDER = '/home/benjamin/genome_assembly/PST79/FALCON/p_assemblies/v9_1/Pst_104E_v12/Pst_104E_genome/gene_expression/Pst104_p_SecretomeClustering'\n",
    "EFFECTORP_FOLDER = '/home/benjamin/genome_assembly/PST79/FALCON/p_assemblies/v9_1/Pst_104E_v12/Pst_104E_genome/Secretomes/EffectorP'\n",
    "GFF_FOLDER = '/home/benjamin/genome_assembly/PST79/FALCON/p_assemblies/v9_1/032017_assembly'\n",
    "PROTEIN_ANNO_FOLDER = '/home/benjamin/genome_assembly/PST79/FALCON/p_assemblies/v9_1/Pst_104E_v12/enrichment_analysis/pa_26062017'\n",
    "OUT_FOLDER = '/home/benjamin/genome_assembly/PST79/FALCON/p_assemblies/v9_1/Pst_104E_v12/enrichment_analysis/lists'"
   ]
  },
  {
   "cell_type": "code",
   "execution_count": 66,
   "metadata": {
    "collapsed": false
   },
   "outputs": [],
   "source": [
    "genome = 'Pst_104E_v12_'\n",
    "p_effector_list = []\n",
    "h_effector_list = []"
   ]
  },
  {
   "cell_type": "code",
   "execution_count": 67,
   "metadata": {
    "collapsed": false
   },
   "outputs": [],
   "source": [
    "#define what you want to take\n",
    "clusters = [ 2, 3, 8]\n",
    "clusters_files = [os.path.join(CLUSTER_FOLDER, x) for x in os.listdir(CLUSTER_FOLDER)\\\n",
    "                 if x.startswith('Cluster') and x.endswith('_DEs.fasta') and int(x[7]) in clusters ]\n",
    "effectorp_files = [os.path.join(EFFECTORP_FOLDER, x) for x in os.listdir(EFFECTORP_FOLDER)\\\n",
    "                  if x.endswith('effectors.fasta') and x.startswith(genome)]"
   ]
  },
  {
   "cell_type": "code",
   "execution_count": 68,
   "metadata": {
    "collapsed": false
   },
   "outputs": [],
   "source": [
    "#get all the sequence names into a list from the fasta headers \n",
    "for file in clusters_files:\n",
    "    fh = open(file, 'r')\n",
    "    for seq in SeqIO.parse(fh, 'fasta'):\n",
    "        if 'hcontig' in seq.id:\n",
    "            h_effector_list.append(seq.id)\n",
    "        if 'pcontig' in seq.id:\n",
    "            p_effector_list.append(seq.id)\n",
    "    fh.close()\n",
    "\n",
    "for file in effectorp_files:\n",
    "    fh = open(file, 'r')\n",
    "    for seq in SeqIO.parse(fh, 'fasta'):\n",
    "        if 'hcontig' in seq.id:\n",
    "            h_effector_list.append(seq.id)\n",
    "        if 'pcontig' in seq.id:\n",
    "            p_effector_list.append(seq.id)\n",
    "    fh.close()"
   ]
  },
  {
   "cell_type": "code",
   "execution_count": 69,
   "metadata": {
    "collapsed": false
   },
   "outputs": [],
   "source": [
    "p_effector_file = os.path.join(OUT_FOLDER, genome + 'p_effector.list')\n",
    "h_effector_file = os.path.join(OUT_FOLDER, genome + 'h_effector.list')"
   ]
  },
  {
   "cell_type": "code",
   "execution_count": 70,
   "metadata": {
    "collapsed": false
   },
   "outputs": [],
   "source": [
    "#write out the sets of effector candidates\n",
    "fh = open(p_effector_file, 'w')\n",
    "for ec in set(p_effector_list):\n",
    "    print(ec, file=fh)\n",
    "fh.close()\n",
    "fh = open(h_effector_file, 'w')\n",
    "for ec in set(h_effector_list):\n",
    "    print(ec, file=fh)\n",
    "fh.close()\n"
   ]
  },
  {
   "cell_type": "code",
   "execution_count": 71,
   "metadata": {
    "collapsed": true
   },
   "outputs": [],
   "source": [
    "#subset the gff files as well and write those out\n",
    "p_gff_file = [os.path.join(GFF_FOLDER, x) for x in os.listdir(GFF_FOLDER)\\\n",
    "                 if x.startswith(genome+'p_ctg') and x.endswith('anno.gff3') ][0]\n",
    "h_gff_file = [os.path.join(GFF_FOLDER, x) for x in os.listdir(GFF_FOLDER)\\\n",
    "                 if x.startswith(genome+'h_ctg') and x.endswith('anno.gff3') ][0]"
   ]
  },
  {
   "cell_type": "code",
   "execution_count": 72,
   "metadata": {
    "collapsed": true
   },
   "outputs": [],
   "source": [
    "#gff header \n",
    "gff_header = ['seqid', 'source', 'type', 'start', 'end', 'score', 'strand', 'phase', 'attributes']"
   ]
  },
  {
   "cell_type": "code",
   "execution_count": 99,
   "metadata": {
    "collapsed": false
   },
   "outputs": [],
   "source": [
    "#now subset the gff files for effectors only\n",
    "p_gff_df = pd.read_csv(p_gff_file, header = None, sep='\\t', names= gff_header)\n",
    "p_gff_df['ID'] = p_gff_df.attributes.str.extract(r'ID=([^;]*);', expand=False)\n",
    "p_gff_df.sort_values(by=['seqid', 'start'], inplace = True)\n",
    "h_gff_df = pd.read_csv(h_gff_file, header = None, sep='\\t', names= gff_header)\n",
    "h_gff_df['ID'] = h_gff_df.attributes.str.extract(r'ID=([^;]*);', expand=False)\n",
    "h_gff_df.sort_values(by=['seqid', 'start'], inplace = True)"
   ]
  },
  {
   "cell_type": "code",
   "execution_count": 100,
   "metadata": {
    "collapsed": false
   },
   "outputs": [
    {
     "data": {
      "text/html": [
       "<div>\n",
       "<style>\n",
       "    .dataframe thead tr:only-child th {\n",
       "        text-align: right;\n",
       "    }\n",
       "\n",
       "    .dataframe thead th {\n",
       "        text-align: left;\n",
       "    }\n",
       "\n",
       "    .dataframe tbody tr th {\n",
       "        vertical-align: top;\n",
       "    }\n",
       "</style>\n",
       "<table border=\"1\" class=\"dataframe\">\n",
       "  <thead>\n",
       "    <tr style=\"text-align: right;\">\n",
       "      <th></th>\n",
       "      <th>seqid</th>\n",
       "      <th>source</th>\n",
       "      <th>type</th>\n",
       "      <th>start</th>\n",
       "      <th>end</th>\n",
       "      <th>score</th>\n",
       "      <th>strand</th>\n",
       "      <th>phase</th>\n",
       "      <th>attributes</th>\n",
       "      <th>ID</th>\n",
       "    </tr>\n",
       "  </thead>\n",
       "  <tbody>\n",
       "    <tr>\n",
       "      <th>147866</th>\n",
       "      <td>hcontig_000_003</td>\n",
       "      <td>EVM</td>\n",
       "      <td>gene</td>\n",
       "      <td>1023</td>\n",
       "      <td>1469</td>\n",
       "      <td>.</td>\n",
       "      <td>+</td>\n",
       "      <td>.</td>\n",
       "      <td>ID=evm.TU.hcontig_000_003.1;Name=gene_model_hc...</td>\n",
       "      <td>evm.TU.hcontig_000_003.1</td>\n",
       "    </tr>\n",
       "    <tr>\n",
       "      <th>147867</th>\n",
       "      <td>hcontig_000_003</td>\n",
       "      <td>EVM</td>\n",
       "      <td>mRNA</td>\n",
       "      <td>1023</td>\n",
       "      <td>1469</td>\n",
       "      <td>.</td>\n",
       "      <td>+</td>\n",
       "      <td>.</td>\n",
       "      <td>ID=evm.model.hcontig_000_003.1;Parent=evm.TU.h...</td>\n",
       "      <td>evm.model.hcontig_000_003.1</td>\n",
       "    </tr>\n",
       "    <tr>\n",
       "      <th>147868</th>\n",
       "      <td>hcontig_000_003</td>\n",
       "      <td>EVM</td>\n",
       "      <td>exon</td>\n",
       "      <td>1023</td>\n",
       "      <td>1469</td>\n",
       "      <td>.</td>\n",
       "      <td>+</td>\n",
       "      <td>.</td>\n",
       "      <td>ID=evm.model.hcontig_000_003.1.exon1;Parent=ev...</td>\n",
       "      <td>evm.model.hcontig_000_003.1.exon1</td>\n",
       "    </tr>\n",
       "    <tr>\n",
       "      <th>147869</th>\n",
       "      <td>hcontig_000_003</td>\n",
       "      <td>EVM</td>\n",
       "      <td>CDS</td>\n",
       "      <td>1023</td>\n",
       "      <td>1469</td>\n",
       "      <td>.</td>\n",
       "      <td>+</td>\n",
       "      <td>0</td>\n",
       "      <td>ID=cds.evm.model.hcontig_000_003.1;Parent=evm....</td>\n",
       "      <td>cds.evm.model.hcontig_000_003.1</td>\n",
       "    </tr>\n",
       "    <tr>\n",
       "      <th>147846</th>\n",
       "      <td>hcontig_000_003</td>\n",
       "      <td>EVM</td>\n",
       "      <td>gene</td>\n",
       "      <td>4850</td>\n",
       "      <td>5854</td>\n",
       "      <td>.</td>\n",
       "      <td>+</td>\n",
       "      <td>.</td>\n",
       "      <td>ID=evm.TU.hcontig_000_003.2;Name=gene_model_hc...</td>\n",
       "      <td>evm.TU.hcontig_000_003.2</td>\n",
       "    </tr>\n",
       "  </tbody>\n",
       "</table>\n",
       "</div>"
      ],
      "text/plain": [
       "                  seqid source  type  start   end score strand phase  \\\n",
       "147866  hcontig_000_003    EVM  gene   1023  1469     .      +     .   \n",
       "147867  hcontig_000_003    EVM  mRNA   1023  1469     .      +     .   \n",
       "147868  hcontig_000_003    EVM  exon   1023  1469     .      +     .   \n",
       "147869  hcontig_000_003    EVM   CDS   1023  1469     .      +     0   \n",
       "147846  hcontig_000_003    EVM  gene   4850  5854     .      +     .   \n",
       "\n",
       "                                               attributes  \\\n",
       "147866  ID=evm.TU.hcontig_000_003.1;Name=gene_model_hc...   \n",
       "147867  ID=evm.model.hcontig_000_003.1;Parent=evm.TU.h...   \n",
       "147868  ID=evm.model.hcontig_000_003.1.exon1;Parent=ev...   \n",
       "147869  ID=cds.evm.model.hcontig_000_003.1;Parent=evm....   \n",
       "147846  ID=evm.TU.hcontig_000_003.2;Name=gene_model_hc...   \n",
       "\n",
       "                                       ID  \n",
       "147866           evm.TU.hcontig_000_003.1  \n",
       "147867        evm.model.hcontig_000_003.1  \n",
       "147868  evm.model.hcontig_000_003.1.exon1  \n",
       "147869    cds.evm.model.hcontig_000_003.1  \n",
       "147846           evm.TU.hcontig_000_003.2  "
      ]
     },
     "execution_count": 100,
     "metadata": {},
     "output_type": "execute_result"
    }
   ],
   "source": [
    "h_gff_df.head()"
   ]
  },
  {
   "cell_type": "code",
   "execution_count": 101,
   "metadata": {
    "collapsed": false
   },
   "outputs": [],
   "source": [
    "#now write out dataframes for p_gff\n",
    "file_name = p_effector_file.replace('.list', '.gene.gff3')\n",
    "p_gff_df[(p_gff_df.type == 'gene') & (p_gff_df.ID.str.replace('TU', 'model').isin(p_effector_list))].\\\n",
    "    loc[:,gff_header].to_csv(file_name, header=None, index=None, sep='\\t')\n",
    "#no effector list\n",
    "file_name = p_effector_file.replace('p_effector.list', 'p_noeffector.gene.gff3')    \n",
    "p_gff_df[(p_gff_df.type == 'gene') & (~p_gff_df.ID.str.replace('TU', 'model').isin(p_effector_list))].\\\n",
    "    loc[:,gff_header].to_csv(file_name, header=None, index=None, sep='\\t')\n",
    "file_name = p_effector_file.replace('p_effector.list', 'p_noeffector.list')\n",
    "p_gff_df[(p_gff_df.type == 'gene') & (~p_gff_df.ID.str.replace('TU', 'model').isin(p_effector_list))]['ID'].str.replace('TU', 'model')\\\n",
    "    .to_csv(file_name, header=None, index=None, sep='\\t')"
   ]
  },
  {
   "cell_type": "code",
   "execution_count": 102,
   "metadata": {
    "collapsed": true
   },
   "outputs": [],
   "source": [
    "#now write out dataframes for h_gff\n",
    "file_name = h_effector_file.replace('.list', '.gene.gff3')\n",
    "h_gff_df[(h_gff_df.type == 'gene') & (h_gff_df.ID.str.replace('TU', 'model').isin(h_effector_list))].\\\n",
    "    loc[:,gff_header].to_csv(file_name, header=None, index=None, sep='\\t')\n",
    "#no effector list\n",
    "file_name = h_effector_file.replace('h_effector.list', 'h_noeffector.gene.gff3')    \n",
    "h_gff_df[(h_gff_df.type == 'gene') & (~h_gff_df.ID.str.replace('TU', 'model').isin(h_effector_list))].\\\n",
    "    loc[:,gff_header].to_csv(file_name, header=None, index=None, sep='\\t')\n",
    "file_name = h_effector_file.replace('h_effector.list', 'h_noeffector.list')\n",
    "h_gff_df[(h_gff_df.type == 'gene') & (~h_gff_df.ID.str.replace('TU', 'model').isin(h_effector_list))]['ID'].str.replace('TU', 'model')\\\n",
    "    .to_csv(file_name, header=None, index=None, sep='\\t')"
   ]
  },
  {
   "cell_type": "code",
   "execution_count": 103,
   "metadata": {
    "collapsed": false
   },
   "outputs": [],
   "source": [
    "#now get BUSCO list and write out stuff\n",
    "p_busco_file = [os.path.join(PROTEIN_ANNO_FOLDER, x) for x in os.listdir(PROTEIN_ANNO_FOLDER) if x.startswith(genome+'p_ctg') and 'busco' in x][0]\n",
    "p_busco_list = pd.read_csv(p_busco_file, header=None, sep='\\t')[0].tolist()\n",
    "h_busco_file = [os.path.join(PROTEIN_ANNO_FOLDER, x) for x in os.listdir(PROTEIN_ANNO_FOLDER) if x.startswith(genome+'h_ctg') and 'busco' in x][0]\n",
    "h_busco_list = pd.read_csv(h_busco_file, header=None, sep='\\t')[0].tolist()"
   ]
  },
  {
   "cell_type": "code",
   "execution_count": 104,
   "metadata": {
    "collapsed": false
   },
   "outputs": [],
   "source": [
    "#write out BUSCO for pcontigs\n",
    "file_name = p_effector_file.replace('effector.list', 'busco.list')\n",
    "p_gff_df[(p_gff_df.type == 'gene') & (p_gff_df.ID.str.replace('TU', 'model').isin(p_busco_list))]['ID'].str.replace('TU', 'model')\\\n",
    "    .to_csv(file_name, header=None, index=None, sep='\\t')\n",
    "file_name = p_effector_file.replace('effector.list', 'busco.gene.gff3')\n",
    "p_gff_df[(p_gff_df.type == 'gene') & (p_gff_df.ID.str.replace('TU', 'model').isin(p_busco_list))].\\\n",
    "    loc[:,gff_header].to_csv(file_name, header=None, index=None, sep='\\t')"
   ]
  },
  {
   "cell_type": "code",
   "execution_count": 105,
   "metadata": {
    "collapsed": true
   },
   "outputs": [],
   "source": [
    "#write out BUSCO for hcontigs\n",
    "file_name = h_effector_file.replace('effector.list', 'busco.list')\n",
    "h_gff_df[(h_gff_df.type == 'gene') & (h_gff_df.ID.str.replace('TU', 'model').isin(h_busco_list))]['ID'].str.replace('TU', 'model')\\\n",
    "    .to_csv(file_name, header=None, index=None, sep='\\t')\n",
    "file_name = h_effector_file.replace('effector.list', 'busco.gene.gff3')\n",
    "h_gff_df[(h_gff_df.type == 'gene') & (h_gff_df.ID.str.replace('TU', 'model').isin(h_busco_list))].\\\n",
    "    loc[:,gff_header].to_csv(file_name, header=None, index=None, sep='\\t')"
   ]
  },
  {
   "cell_type": "code",
   "execution_count": null,
   "metadata": {
    "collapsed": true
   },
   "outputs": [],
   "source": []
  }
 ],
 "metadata": {
  "kernelspec": {
   "display_name": "Python 3",
   "language": "python",
   "name": "python3"
  },
  "language_info": {
   "codemirror_mode": {
    "name": "ipython",
    "version": 3
   },
   "file_extension": ".py",
   "mimetype": "text/x-python",
   "name": "python",
   "nbconvert_exporter": "python",
   "pygments_lexer": "ipython3",
   "version": "3.5.2"
  }
 },
 "nbformat": 4,
 "nbformat_minor": 0
}
