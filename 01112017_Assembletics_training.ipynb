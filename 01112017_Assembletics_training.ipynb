{
 "cells": [
  {
   "cell_type": "code",
   "execution_count": 1,
   "metadata": {
    "collapsed": false
   },
   "outputs": [],
   "source": [
    "%matplotlib inline"
   ]
  },
  {
   "cell_type": "code",
   "execution_count": 2,
   "metadata": {
    "collapsed": true
   },
   "outputs": [],
   "source": [
    "import pandas as pd\n",
    "from Bio import SeqIO\n",
    "import numpy as np\n",
    "from pybedtools import BedTool"
   ]
  },
  {
   "cell_type": "code",
   "execution_count": null,
   "metadata": {
    "collapsed": true
   },
   "outputs": [],
   "source": [
    "assmbletics_header = ['reference', 'ref_start','ref_stop','ID','size','strand','type', 'ref_gap_size','query_gap_size','query_coordinates','method']"
   ]
  },
  {
   "cell_type": "code",
   "execution_count": null,
   "metadata": {
    "collapsed": false
   },
   "outputs": [],
   "source": [
    "len(assmbletics_header)"
   ]
  },
  {
   "cell_type": "code",
   "execution_count": null,
   "metadata": {
    "collapsed": false
   },
   "outputs": [],
   "source": [
    "df_ass = pd.read_csv('../../Pst_E104_v1/nucmer_split/assemblytics/Pst_E104_v1_pcontig_000_php/Pst_E104_v1_pcontig_000_php_10kbp.Assemblytics_structural_variants.bed',skiprows=1, header=None,names= assmbletics_header,sep='\\t')"
   ]
  },
  {
   "cell_type": "code",
   "execution_count": null,
   "metadata": {
    "collapsed": false
   },
   "outputs": [],
   "source": [
    "df_ass.head()"
   ]
  },
  {
   "cell_type": "code",
   "execution_count": null,
   "metadata": {
    "collapsed": false
   },
   "outputs": [],
   "source": [
    "df_ass_indel = df_ass[df_ass['size'] ==1]\n",
    "df_ass_indel.sort_values(by='ref_start', inplace = True)"
   ]
  },
  {
   "cell_type": "code",
   "execution_count": null,
   "metadata": {
    "collapsed": false
   },
   "outputs": [],
   "source": [
    "#now get the size of p and h conitg\n",
    "h_contig_dic = {}\n",
    "p_contig_dic ={}\n",
    "for seq in SeqIO.parse(open('../../Pst_E104_v1/nucmer_split/Pst_E104_v1__pcontig_000_h_ctgs.fa'), 'fasta'):\n",
    "    h_contig_dic[seq.id] = len(seq.seq)\n",
    "for p_seq in SeqIO.parse(open('../../Pst_E104_v1/nucmer_split/Pst_E104_v1__pcontig_000.fa'), 'fasta'):\n",
    "    p_contig_dic[p_seq.id] = len(p_seq.seq)"
   ]
  },
  {
   "cell_type": "code",
   "execution_count": null,
   "metadata": {
    "collapsed": false
   },
   "outputs": [],
   "source": [
    "num_of_h_contigs = len(h_contig_dic.keys())"
   ]
  },
  {
   "cell_type": "code",
   "execution_count": null,
   "metadata": {
    "collapsed": false
   },
   "outputs": [],
   "source": [
    "num_of_mapped_h_contigs = len(set([ y.split(':')[0] for y in df_ass_indel['query_coordinates'].tolist() ]))"
   ]
  },
  {
   "cell_type": "code",
   "execution_count": null,
   "metadata": {
    "collapsed": false
   },
   "outputs": [],
   "source": [
    "p_contig_len = list(p_contig_dic.values())[0]"
   ]
  },
  {
   "cell_type": "code",
   "execution_count": null,
   "metadata": {
    "collapsed": true
   },
   "outputs": [],
   "source": [
    "ref_start_array = np.arange(0,p_contig_len)"
   ]
  },
  {
   "cell_type": "code",
   "execution_count": null,
   "metadata": {
    "collapsed": false
   },
   "outputs": [],
   "source": [
    "ref_stop_array = np.arange(1,p_contig_len+1)"
   ]
  },
  {
   "cell_type": "code",
   "execution_count": null,
   "metadata": {
    "collapsed": false
   },
   "outputs": [],
   "source": [
    "reference_array = np.array(['pcontig_000' for x in range(0,p_contig_len)])"
   ]
  },
  {
   "cell_type": "code",
   "execution_count": null,
   "metadata": {
    "collapsed": false
   },
   "outputs": [],
   "source": [
    "df = pd.DataFrame(np.arange((p_contig_len*len(df_ass.columns))).reshape((p_contig_len, len(df_ass.columns))), columns=assmbletics_header)\n",
    "#df[:,]=0\n",
    "df.iloc[:, 0] = 'pcontig_000'\n",
    "df.iloc[:,1]= ref_start_array\n",
    "df.iloc[:,2]=ref_stop_array\n",
    "df.iloc[:,3:] = 0"
   ]
  },
  {
   "cell_type": "code",
   "execution_count": null,
   "metadata": {
    "collapsed": false
   },
   "outputs": [],
   "source": [
    "df_ass_indel_full = df[~np.in1d(df['ref_start'], df_ass_indel['ref_start'])].append(df_ass_indel)"
   ]
  },
  {
   "cell_type": "code",
   "execution_count": null,
   "metadata": {
    "collapsed": false
   },
   "outputs": [],
   "source": [
    "df_ass_indel_full.sort_values(by='ref_start', inplace=True)\n",
    "df_ass_indel_full = df_ass_indel_full.reset_index(drop=True)"
   ]
  },
  {
   "cell_type": "code",
   "execution_count": null,
   "metadata": {
    "collapsed": false
   },
   "outputs": [],
   "source": [
    "df_ass_indel_full['size'].head()"
   ]
  },
  {
   "cell_type": "code",
   "execution_count": null,
   "metadata": {
    "collapsed": false,
    "scrolled": true
   },
   "outputs": [],
   "source": [
    "df_ass_indel_full.rolling(window=200, on='ref_start', min_periods=0)['size'].sum().plot(style='k')"
   ]
  },
  {
   "cell_type": "code",
   "execution_count": null,
   "metadata": {
    "collapsed": false
   },
   "outputs": [],
   "source": [
    "df_ass_indel_full['Rolling_window_mean'] = df_ass_indel_full.rolling(window=200, on='ref_start', min_periods=0)['size'].mean()"
   ]
  },
  {
   "cell_type": "code",
   "execution_count": null,
   "metadata": {
    "collapsed": true
   },
   "outputs": [],
   "source": [
    "df_ass_indel_full['Rolling_window_sum'] = df_ass_indel_full.rolling(window=200, on='ref_start', min_periods=0)['size'].sum()"
   ]
  },
  {
   "cell_type": "code",
   "execution_count": null,
   "metadata": {
    "collapsed": false
   },
   "outputs": [],
   "source": [
    "df_ass_indel_full[df_ass_indel_full['Rolling_window_sum'] > 5].iloc[:,0:3].to_csv('../Pst_E104_v1_pcontig_000.var_g_5.bed',index=None, header=None, sep='\\t')"
   ]
  },
  {
   "cell_type": "code",
   "execution_count": null,
   "metadata": {
    "collapsed": false
   },
   "outputs": [],
   "source": [
    "df_ass_indel_full.iloc[:5000,:]['Rolling_window_mean'].sum()"
   ]
  },
  {
   "cell_type": "code",
   "execution_count": null,
   "metadata": {
    "collapsed": false
   },
   "outputs": [],
   "source": [
    "df_ass_indel_full[df_ass_indel_full['Rolling_window_mean'] > 4*mean_variation]"
   ]
  },
  {
   "cell_type": "code",
   "execution_count": 3,
   "metadata": {
    "collapsed": true
   },
   "outputs": [],
   "source": [
    "var = BedTool('../Pst_E104_v1_pcontig_000.var_g_5.bed')"
   ]
  },
  {
   "cell_type": "code",
   "execution_count": 19,
   "metadata": {
    "collapsed": false
   },
   "outputs": [],
   "source": [
    "!grep 'gene' ../../122016_assembly/Pst_E104_v1_p_ctg.evm.RepaseTPSI_filtered.gff3 | grep 'pcontig_0000' > ../Pst_E104_v1_pcontig_000.genes.gff"
   ]
  },
  {
   "cell_type": "code",
   "execution_count": 20,
   "metadata": {
    "collapsed": false
   },
   "outputs": [],
   "source": [
    "genes = BedTool('../Pst_E104_v1_pcontig_000.genes.gff')"
   ]
  },
  {
   "cell_type": "code",
   "execution_count": 21,
   "metadata": {
    "collapsed": false
   },
   "outputs": [
    {
     "name": "stdout",
     "output_type": "stream",
     "text": [
      "pcontig_000\tEVM\tgene\t5109\t5788\t.\t+\t.\tID=evm.TU.pcontig_000.2;Name=EVM%20prediction%2pcontig_0000.2\n",
      " pcontig_000\tEVM\tgene\t8490\t9492\t.\t+\t.\tID=evm.TU.pcontig_000.3;Name=EVM%20prediction%2pcontig_0000.3\n",
      " pcontig_000\tEVM\tgene\t12149\t13224\t.\t-\t.\tID=evm.TU.pcontig_000.4;Name=EVM%20prediction%2pcontig_0000.4\n",
      " pcontig_000\tEVM\tgene\t22054\t23784\t.\t-\t.\tID=evm.TU.pcontig_000.5;Name=EVM%20prediction%2pcontig_0000.5\n",
      " pcontig_000\tEVM\tgene\t28352\t29795\t.\t+\t.\tID=evm.TU.pcontig_000.6;Name=EVM%20prediction%2pcontig_0000.6\n",
      " pcontig_000\tEVM\tgene\t31592\t31901\t.\t+\t.\tID=evm.TU.pcontig_000.7;Name=EVM%20prediction%2pcontig_0000.7\n",
      " pcontig_000\tEVM\tgene\t31990\t32628\t.\t+\t.\tID=evm.TU.pcontig_000.8;Name=EVM%20prediction%2pcontig_0000.8\n",
      " pcontig_000\tEVM\tgene\t34649\t34940\t.\t-\t.\tID=evm.TU.pcontig_000.9;Name=EVM%20prediction%2pcontig_0000.9\n",
      " pcontig_000\tEVM\tgene\t38447\t38929\t.\t-\t.\tID=evm.TU.pcontig_000.10;Name=EVM%20prediction%2pcontig_0000.10\n",
      " pcontig_000\tEVM\tgene\t40766\t43007\t.\t+\t.\tID=evm.TU.pcontig_000.11;Name=EVM%20prediction%2pcontig_0000.11\n",
      " "
     ]
    }
   ],
   "source": [
    "genes.head()"
   ]
  },
  {
   "cell_type": "code",
   "execution_count": 22,
   "metadata": {
    "collapsed": false
   },
   "outputs": [
    {
     "name": "stdout",
     "output_type": "stream",
     "text": [
      "pcontig_000\t31691\t31692\n",
      " pcontig_000\t31692\t31693\n",
      " pcontig_000\t31693\t31694\n",
      " pcontig_000\t31694\t31695\n",
      " pcontig_000\t31695\t31696\n",
      " pcontig_000\t31696\t31697\n",
      " pcontig_000\t31697\t31698\n",
      " pcontig_000\t31698\t31699\n",
      " pcontig_000\t31699\t31700\n",
      " pcontig_000\t31700\t31701\n",
      " "
     ]
    }
   ],
   "source": [
    "var.head()"
   ]
  },
  {
   "cell_type": "code",
   "execution_count": 23,
   "metadata": {
    "collapsed": true
   },
   "outputs": [],
   "source": [
    "nearby = genes.closest(var,d=True, stream=True)"
   ]
  },
  {
   "cell_type": "code",
   "execution_count": 8,
   "metadata": {
    "collapsed": false
   },
   "outputs": [],
   "source": [
    "for x in nearby:\n",
    "    print(x)"
   ]
  },
  {
   "cell_type": "code",
   "execution_count": 24,
   "metadata": {
    "collapsed": false
   },
   "outputs": [],
   "source": [
    "var_nearby_genes = []\n",
    "for gene in nearby:\n",
    "    if int(gene[-1]) < 1000:\n",
    "        var_nearby_genes.append(gene.name)"
   ]
  },
  {
   "cell_type": "code",
   "execution_count": 26,
   "metadata": {
    "collapsed": false
   },
   "outputs": [
    {
     "data": {
      "text/plain": [
       "{'evm.TU.pcontig_000.11',\n",
       " 'evm.TU.pcontig_000.12',\n",
       " 'evm.TU.pcontig_000.139',\n",
       " 'evm.TU.pcontig_000.171',\n",
       " 'evm.TU.pcontig_000.187',\n",
       " 'evm.TU.pcontig_000.188',\n",
       " 'evm.TU.pcontig_000.189',\n",
       " 'evm.TU.pcontig_000.218',\n",
       " 'evm.TU.pcontig_000.274',\n",
       " 'evm.TU.pcontig_000.377',\n",
       " 'evm.TU.pcontig_000.378',\n",
       " 'evm.TU.pcontig_000.379',\n",
       " 'evm.TU.pcontig_000.398',\n",
       " 'evm.TU.pcontig_000.422',\n",
       " 'evm.TU.pcontig_000.461',\n",
       " 'evm.TU.pcontig_000.462',\n",
       " 'evm.TU.pcontig_000.514',\n",
       " 'evm.TU.pcontig_000.521',\n",
       " 'evm.TU.pcontig_000.582',\n",
       " 'evm.TU.pcontig_000.583',\n",
       " 'evm.TU.pcontig_000.60',\n",
       " 'evm.TU.pcontig_000.621',\n",
       " 'evm.TU.pcontig_000.633',\n",
       " 'evm.TU.pcontig_000.65',\n",
       " 'evm.TU.pcontig_000.7',\n",
       " 'evm.TU.pcontig_000.72',\n",
       " 'evm.TU.pcontig_000.8',\n",
       " 'evm.TU.pcontig_000.84',\n",
       " 'evm.TU.pcontig_000.85'}"
      ]
     },
     "execution_count": 26,
     "metadata": {},
     "output_type": "execute_result"
    }
   ],
   "source": [
    "set(var_nearby_genes)"
   ]
  },
  {
   "cell_type": "code",
   "execution_count": null,
   "metadata": {
    "collapsed": false
   },
   "outputs": [],
   "source": [
    "#!cat ../../122016_assembly/Pst_E104_v1_p_ctg.anno.RepaseTPSI_filtered.gff3|awk '$1==\"pcontig_000\" {print}' > ../Pst_E104_v1_pcontig_000.gff"
   ]
  },
  {
   "cell_type": "code",
   "execution_count": 28,
   "metadata": {
    "collapsed": false
   },
   "outputs": [],
   "source": [
    "df_gff = pd.read_csv('../Pst_E104_v1_pcontig_000.gff', header=None, sep='\\t')"
   ]
  },
  {
   "cell_type": "code",
   "execution_count": 38,
   "metadata": {
    "collapsed": false
   },
   "outputs": [
    {
     "data": {
      "text/plain": [
       "29"
      ]
     },
     "execution_count": 38,
     "metadata": {},
     "output_type": "execute_result"
    }
   ],
   "source": [
    "len(set(var_nearby_genes))"
   ]
  },
  {
   "cell_type": "code",
   "execution_count": 42,
   "metadata": {
    "collapsed": false
   },
   "outputs": [
    {
     "data": {
      "text/plain": [
       "583"
      ]
     },
     "execution_count": 42,
     "metadata": {},
     "output_type": "execute_result"
    }
   ],
   "source": [
    "len(df_gff[df_gff[2] == 'gene'])"
   ]
  },
  {
   "cell_type": "code",
   "execution_count": 44,
   "metadata": {
    "collapsed": false
   },
   "outputs": [
    {
     "data": {
      "text/html": [
       "<div>\n",
       "<table border=\"1\" class=\"dataframe\">\n",
       "  <thead>\n",
       "    <tr style=\"text-align: right;\">\n",
       "      <th></th>\n",
       "      <th>0</th>\n",
       "      <th>1</th>\n",
       "      <th>2</th>\n",
       "      <th>3</th>\n",
       "      <th>4</th>\n",
       "      <th>5</th>\n",
       "      <th>6</th>\n",
       "      <th>7</th>\n",
       "      <th>8</th>\n",
       "    </tr>\n",
       "  </thead>\n",
       "  <tbody>\n",
       "    <tr>\n",
       "      <th>45</th>\n",
       "      <td>pcontig_000</td>\n",
       "      <td>EVM</td>\n",
       "      <td>mRNA</td>\n",
       "      <td>2020344</td>\n",
       "      <td>2020689</td>\n",
       "      <td>.</td>\n",
       "      <td>+</td>\n",
       "      <td>.</td>\n",
       "      <td>ID=evm.model.pcontig_000.450;Parent=evm.TU.pco...</td>\n",
       "    </tr>\n",
       "    <tr>\n",
       "      <th>65</th>\n",
       "      <td>pcontig_000</td>\n",
       "      <td>EVM</td>\n",
       "      <td>mRNA</td>\n",
       "      <td>2028583</td>\n",
       "      <td>2029433</td>\n",
       "      <td>.</td>\n",
       "      <td>+</td>\n",
       "      <td>.</td>\n",
       "      <td>ID=evm.model.pcontig_000.454;Parent=evm.TU.pco...</td>\n",
       "    </tr>\n",
       "    <tr>\n",
       "      <th>305</th>\n",
       "      <td>pcontig_000</td>\n",
       "      <td>EVM</td>\n",
       "      <td>mRNA</td>\n",
       "      <td>1697688</td>\n",
       "      <td>1698186</td>\n",
       "      <td>.</td>\n",
       "      <td>+</td>\n",
       "      <td>.</td>\n",
       "      <td>ID=evm.model.pcontig_000.378;Parent=evm.TU.pco...</td>\n",
       "    </tr>\n",
       "    <tr>\n",
       "      <th>423</th>\n",
       "      <td>pcontig_000</td>\n",
       "      <td>EVM</td>\n",
       "      <td>mRNA</td>\n",
       "      <td>2482039</td>\n",
       "      <td>2482639</td>\n",
       "      <td>.</td>\n",
       "      <td>+</td>\n",
       "      <td>.</td>\n",
       "      <td>ID=evm.model.pcontig_000.562;Parent=evm.TU.pco...</td>\n",
       "    </tr>\n",
       "    <tr>\n",
       "      <th>551</th>\n",
       "      <td>pcontig_000</td>\n",
       "      <td>EVM</td>\n",
       "      <td>mRNA</td>\n",
       "      <td>593665</td>\n",
       "      <td>594156</td>\n",
       "      <td>.</td>\n",
       "      <td>+</td>\n",
       "      <td>.</td>\n",
       "      <td>ID=evm.model.pcontig_000.144;Parent=evm.TU.pco...</td>\n",
       "    </tr>\n",
       "    <tr>\n",
       "      <th>911</th>\n",
       "      <td>pcontig_000</td>\n",
       "      <td>EVM</td>\n",
       "      <td>mRNA</td>\n",
       "      <td>1390826</td>\n",
       "      <td>1391574</td>\n",
       "      <td>.</td>\n",
       "      <td>+</td>\n",
       "      <td>.</td>\n",
       "      <td>ID=evm.model.pcontig_000.332;Parent=evm.TU.pco...</td>\n",
       "    </tr>\n",
       "    <tr>\n",
       "      <th>937</th>\n",
       "      <td>pcontig_000</td>\n",
       "      <td>EVM</td>\n",
       "      <td>mRNA</td>\n",
       "      <td>2620890</td>\n",
       "      <td>2621376</td>\n",
       "      <td>.</td>\n",
       "      <td>+</td>\n",
       "      <td>.</td>\n",
       "      <td>ID=evm.model.pcontig_000.593;Parent=evm.TU.pco...</td>\n",
       "    </tr>\n",
       "    <tr>\n",
       "      <th>995</th>\n",
       "      <td>pcontig_000</td>\n",
       "      <td>EVM</td>\n",
       "      <td>mRNA</td>\n",
       "      <td>2644052</td>\n",
       "      <td>2644941</td>\n",
       "      <td>.</td>\n",
       "      <td>-</td>\n",
       "      <td>.</td>\n",
       "      <td>ID=evm.model.pcontig_000.597;Parent=evm.TU.pco...</td>\n",
       "    </tr>\n",
       "    <tr>\n",
       "      <th>1003</th>\n",
       "      <td>pcontig_000</td>\n",
       "      <td>EVM</td>\n",
       "      <td>mRNA</td>\n",
       "      <td>2646113</td>\n",
       "      <td>2646977</td>\n",
       "      <td>.</td>\n",
       "      <td>-</td>\n",
       "      <td>.</td>\n",
       "      <td>ID=evm.model.pcontig_000.598;Parent=evm.TU.pco...</td>\n",
       "    </tr>\n",
       "    <tr>\n",
       "      <th>1011</th>\n",
       "      <td>pcontig_000</td>\n",
       "      <td>EVM</td>\n",
       "      <td>mRNA</td>\n",
       "      <td>2648351</td>\n",
       "      <td>2649210</td>\n",
       "      <td>.</td>\n",
       "      <td>-</td>\n",
       "      <td>.</td>\n",
       "      <td>ID=evm.model.pcontig_000.599;Parent=evm.TU.pco...</td>\n",
       "    </tr>\n",
       "    <tr>\n",
       "      <th>1215</th>\n",
       "      <td>pcontig_000</td>\n",
       "      <td>EVM</td>\n",
       "      <td>mRNA</td>\n",
       "      <td>2465510</td>\n",
       "      <td>2465803</td>\n",
       "      <td>.</td>\n",
       "      <td>+</td>\n",
       "      <td>.</td>\n",
       "      <td>ID=evm.model.pcontig_000.558;Parent=evm.TU.pco...</td>\n",
       "    </tr>\n",
       "    <tr>\n",
       "      <th>1225</th>\n",
       "      <td>pcontig_000</td>\n",
       "      <td>EVM</td>\n",
       "      <td>mRNA</td>\n",
       "      <td>2460532</td>\n",
       "      <td>2460969</td>\n",
       "      <td>.</td>\n",
       "      <td>-</td>\n",
       "      <td>.</td>\n",
       "      <td>ID=evm.model.pcontig_000.556;Parent=evm.TU.pco...</td>\n",
       "    </tr>\n",
       "    <tr>\n",
       "      <th>1325</th>\n",
       "      <td>pcontig_000</td>\n",
       "      <td>EVM</td>\n",
       "      <td>mRNA</td>\n",
       "      <td>2155310</td>\n",
       "      <td>2155809</td>\n",
       "      <td>.</td>\n",
       "      <td>-</td>\n",
       "      <td>.</td>\n",
       "      <td>ID=evm.model.pcontig_000.479;Parent=evm.TU.pco...</td>\n",
       "    </tr>\n",
       "    <tr>\n",
       "      <th>1591</th>\n",
       "      <td>pcontig_000</td>\n",
       "      <td>EVM</td>\n",
       "      <td>mRNA</td>\n",
       "      <td>66837</td>\n",
       "      <td>67400</td>\n",
       "      <td>.</td>\n",
       "      <td>-</td>\n",
       "      <td>.</td>\n",
       "      <td>ID=evm.model.pcontig_000.19;Parent=evm.TU.pcon...</td>\n",
       "    </tr>\n",
       "    <tr>\n",
       "      <th>1605</th>\n",
       "      <td>pcontig_000</td>\n",
       "      <td>EVM</td>\n",
       "      <td>mRNA</td>\n",
       "      <td>1741371</td>\n",
       "      <td>1741856</td>\n",
       "      <td>.</td>\n",
       "      <td>+</td>\n",
       "      <td>.</td>\n",
       "      <td>ID=evm.model.pcontig_000.392;Parent=evm.TU.pco...</td>\n",
       "    </tr>\n",
       "    <tr>\n",
       "      <th>2387</th>\n",
       "      <td>pcontig_000</td>\n",
       "      <td>EVM</td>\n",
       "      <td>mRNA</td>\n",
       "      <td>1075623</td>\n",
       "      <td>1077113</td>\n",
       "      <td>.</td>\n",
       "      <td>+</td>\n",
       "      <td>.</td>\n",
       "      <td>ID=evm.model.pcontig_000.262;Parent=evm.TU.pco...</td>\n",
       "    </tr>\n",
       "    <tr>\n",
       "      <th>2747</th>\n",
       "      <td>pcontig_000</td>\n",
       "      <td>EVM</td>\n",
       "      <td>mRNA</td>\n",
       "      <td>1807068</td>\n",
       "      <td>1807510</td>\n",
       "      <td>.</td>\n",
       "      <td>+</td>\n",
       "      <td>.</td>\n",
       "      <td>ID=evm.model.pcontig_000.406;Parent=evm.TU.pco...</td>\n",
       "    </tr>\n",
       "    <tr>\n",
       "      <th>3355</th>\n",
       "      <td>pcontig_000</td>\n",
       "      <td>EVM</td>\n",
       "      <td>mRNA</td>\n",
       "      <td>2711394</td>\n",
       "      <td>2711720</td>\n",
       "      <td>.</td>\n",
       "      <td>+</td>\n",
       "      <td>.</td>\n",
       "      <td>ID=evm.model.pcontig_000.612;Parent=evm.TU.pco...</td>\n",
       "    </tr>\n",
       "    <tr>\n",
       "      <th>3705</th>\n",
       "      <td>pcontig_000</td>\n",
       "      <td>EVM</td>\n",
       "      <td>mRNA</td>\n",
       "      <td>1888919</td>\n",
       "      <td>1890537</td>\n",
       "      <td>.</td>\n",
       "      <td>+</td>\n",
       "      <td>.</td>\n",
       "      <td>ID=evm.model.pcontig_000.421;Parent=evm.TU.pco...</td>\n",
       "    </tr>\n",
       "    <tr>\n",
       "      <th>3731</th>\n",
       "      <td>pcontig_000</td>\n",
       "      <td>EVM</td>\n",
       "      <td>mRNA</td>\n",
       "      <td>1905535</td>\n",
       "      <td>1906061</td>\n",
       "      <td>.</td>\n",
       "      <td>+</td>\n",
       "      <td>.</td>\n",
       "      <td>ID=evm.model.pcontig_000.423;Parent=evm.TU.pco...</td>\n",
       "    </tr>\n",
       "    <tr>\n",
       "      <th>4139</th>\n",
       "      <td>pcontig_000</td>\n",
       "      <td>EVM</td>\n",
       "      <td>mRNA</td>\n",
       "      <td>227999</td>\n",
       "      <td>228495</td>\n",
       "      <td>.</td>\n",
       "      <td>+</td>\n",
       "      <td>.</td>\n",
       "      <td>ID=evm.model.pcontig_000.63;Parent=evm.TU.pcon...</td>\n",
       "    </tr>\n",
       "    <tr>\n",
       "      <th>4369</th>\n",
       "      <td>pcontig_000</td>\n",
       "      <td>EVM</td>\n",
       "      <td>mRNA</td>\n",
       "      <td>2594122</td>\n",
       "      <td>2594627</td>\n",
       "      <td>.</td>\n",
       "      <td>+</td>\n",
       "      <td>.</td>\n",
       "      <td>ID=evm.model.pcontig_000.588;Parent=evm.TU.pco...</td>\n",
       "    </tr>\n",
       "    <tr>\n",
       "      <th>4435</th>\n",
       "      <td>pcontig_000</td>\n",
       "      <td>EVM</td>\n",
       "      <td>mRNA</td>\n",
       "      <td>2560837</td>\n",
       "      <td>2561326</td>\n",
       "      <td>.</td>\n",
       "      <td>+</td>\n",
       "      <td>.</td>\n",
       "      <td>ID=evm.model.pcontig_000.583;Parent=evm.TU.pco...</td>\n",
       "    </tr>\n",
       "    <tr>\n",
       "      <th>5111</th>\n",
       "      <td>pcontig_000</td>\n",
       "      <td>EVM</td>\n",
       "      <td>mRNA</td>\n",
       "      <td>1272439</td>\n",
       "      <td>1273103</td>\n",
       "      <td>.</td>\n",
       "      <td>+</td>\n",
       "      <td>.</td>\n",
       "      <td>ID=evm.model.pcontig_000.306;Parent=evm.TU.pco...</td>\n",
       "    </tr>\n",
       "    <tr>\n",
       "      <th>5203</th>\n",
       "      <td>pcontig_000</td>\n",
       "      <td>EVM</td>\n",
       "      <td>mRNA</td>\n",
       "      <td>2257480</td>\n",
       "      <td>2257862</td>\n",
       "      <td>.</td>\n",
       "      <td>+</td>\n",
       "      <td>.</td>\n",
       "      <td>ID=evm.model.pcontig_000.508;Parent=evm.TU.pco...</td>\n",
       "    </tr>\n",
       "    <tr>\n",
       "      <th>5215</th>\n",
       "      <td>pcontig_000</td>\n",
       "      <td>EVM</td>\n",
       "      <td>mRNA</td>\n",
       "      <td>34649</td>\n",
       "      <td>34940</td>\n",
       "      <td>.</td>\n",
       "      <td>-</td>\n",
       "      <td>.</td>\n",
       "      <td>ID=evm.model.pcontig_000.9;Parent=evm.TU.pcont...</td>\n",
       "    </tr>\n",
       "    <tr>\n",
       "      <th>5249</th>\n",
       "      <td>pcontig_000</td>\n",
       "      <td>EVM</td>\n",
       "      <td>mRNA</td>\n",
       "      <td>8490</td>\n",
       "      <td>9492</td>\n",
       "      <td>.</td>\n",
       "      <td>+</td>\n",
       "      <td>.</td>\n",
       "      <td>ID=evm.model.pcontig_000.3;Parent=evm.TU.pcont...</td>\n",
       "    </tr>\n",
       "    <tr>\n",
       "      <th>5331</th>\n",
       "      <td>pcontig_000</td>\n",
       "      <td>EVM</td>\n",
       "      <td>mRNA</td>\n",
       "      <td>3011024</td>\n",
       "      <td>3011511</td>\n",
       "      <td>.</td>\n",
       "      <td>+</td>\n",
       "      <td>.</td>\n",
       "      <td>ID=evm.model.pcontig_000.679;Parent=evm.TU.pco...</td>\n",
       "    </tr>\n",
       "    <tr>\n",
       "      <th>5853</th>\n",
       "      <td>pcontig_000</td>\n",
       "      <td>EVM</td>\n",
       "      <td>mRNA</td>\n",
       "      <td>439981</td>\n",
       "      <td>440863</td>\n",
       "      <td>.</td>\n",
       "      <td>-</td>\n",
       "      <td>.</td>\n",
       "      <td>ID=evm.model.pcontig_000.112;Parent=evm.TU.pco...</td>\n",
       "    </tr>\n",
       "    <tr>\n",
       "      <th>6021</th>\n",
       "      <td>pcontig_000</td>\n",
       "      <td>EVM</td>\n",
       "      <td>mRNA</td>\n",
       "      <td>1125061</td>\n",
       "      <td>1125700</td>\n",
       "      <td>.</td>\n",
       "      <td>-</td>\n",
       "      <td>.</td>\n",
       "      <td>ID=evm.model.pcontig_000.276;Parent=evm.TU.pco...</td>\n",
       "    </tr>\n",
       "  </tbody>\n",
       "</table>\n",
       "</div>"
      ],
      "text/plain": [
       "                0    1     2        3        4  5  6  7  \\\n",
       "45    pcontig_000  EVM  mRNA  2020344  2020689  .  +  .   \n",
       "65    pcontig_000  EVM  mRNA  2028583  2029433  .  +  .   \n",
       "305   pcontig_000  EVM  mRNA  1697688  1698186  .  +  .   \n",
       "423   pcontig_000  EVM  mRNA  2482039  2482639  .  +  .   \n",
       "551   pcontig_000  EVM  mRNA   593665   594156  .  +  .   \n",
       "911   pcontig_000  EVM  mRNA  1390826  1391574  .  +  .   \n",
       "937   pcontig_000  EVM  mRNA  2620890  2621376  .  +  .   \n",
       "995   pcontig_000  EVM  mRNA  2644052  2644941  .  -  .   \n",
       "1003  pcontig_000  EVM  mRNA  2646113  2646977  .  -  .   \n",
       "1011  pcontig_000  EVM  mRNA  2648351  2649210  .  -  .   \n",
       "1215  pcontig_000  EVM  mRNA  2465510  2465803  .  +  .   \n",
       "1225  pcontig_000  EVM  mRNA  2460532  2460969  .  -  .   \n",
       "1325  pcontig_000  EVM  mRNA  2155310  2155809  .  -  .   \n",
       "1591  pcontig_000  EVM  mRNA    66837    67400  .  -  .   \n",
       "1605  pcontig_000  EVM  mRNA  1741371  1741856  .  +  .   \n",
       "2387  pcontig_000  EVM  mRNA  1075623  1077113  .  +  .   \n",
       "2747  pcontig_000  EVM  mRNA  1807068  1807510  .  +  .   \n",
       "3355  pcontig_000  EVM  mRNA  2711394  2711720  .  +  .   \n",
       "3705  pcontig_000  EVM  mRNA  1888919  1890537  .  +  .   \n",
       "3731  pcontig_000  EVM  mRNA  1905535  1906061  .  +  .   \n",
       "4139  pcontig_000  EVM  mRNA   227999   228495  .  +  .   \n",
       "4369  pcontig_000  EVM  mRNA  2594122  2594627  .  +  .   \n",
       "4435  pcontig_000  EVM  mRNA  2560837  2561326  .  +  .   \n",
       "5111  pcontig_000  EVM  mRNA  1272439  1273103  .  +  .   \n",
       "5203  pcontig_000  EVM  mRNA  2257480  2257862  .  +  .   \n",
       "5215  pcontig_000  EVM  mRNA    34649    34940  .  -  .   \n",
       "5249  pcontig_000  EVM  mRNA     8490     9492  .  +  .   \n",
       "5331  pcontig_000  EVM  mRNA  3011024  3011511  .  +  .   \n",
       "5853  pcontig_000  EVM  mRNA   439981   440863  .  -  .   \n",
       "6021  pcontig_000  EVM  mRNA  1125061  1125700  .  -  .   \n",
       "\n",
       "                                                      8  \n",
       "45    ID=evm.model.pcontig_000.450;Parent=evm.TU.pco...  \n",
       "65    ID=evm.model.pcontig_000.454;Parent=evm.TU.pco...  \n",
       "305   ID=evm.model.pcontig_000.378;Parent=evm.TU.pco...  \n",
       "423   ID=evm.model.pcontig_000.562;Parent=evm.TU.pco...  \n",
       "551   ID=evm.model.pcontig_000.144;Parent=evm.TU.pco...  \n",
       "911   ID=evm.model.pcontig_000.332;Parent=evm.TU.pco...  \n",
       "937   ID=evm.model.pcontig_000.593;Parent=evm.TU.pco...  \n",
       "995   ID=evm.model.pcontig_000.597;Parent=evm.TU.pco...  \n",
       "1003  ID=evm.model.pcontig_000.598;Parent=evm.TU.pco...  \n",
       "1011  ID=evm.model.pcontig_000.599;Parent=evm.TU.pco...  \n",
       "1215  ID=evm.model.pcontig_000.558;Parent=evm.TU.pco...  \n",
       "1225  ID=evm.model.pcontig_000.556;Parent=evm.TU.pco...  \n",
       "1325  ID=evm.model.pcontig_000.479;Parent=evm.TU.pco...  \n",
       "1591  ID=evm.model.pcontig_000.19;Parent=evm.TU.pcon...  \n",
       "1605  ID=evm.model.pcontig_000.392;Parent=evm.TU.pco...  \n",
       "2387  ID=evm.model.pcontig_000.262;Parent=evm.TU.pco...  \n",
       "2747  ID=evm.model.pcontig_000.406;Parent=evm.TU.pco...  \n",
       "3355  ID=evm.model.pcontig_000.612;Parent=evm.TU.pco...  \n",
       "3705  ID=evm.model.pcontig_000.421;Parent=evm.TU.pco...  \n",
       "3731  ID=evm.model.pcontig_000.423;Parent=evm.TU.pco...  \n",
       "4139  ID=evm.model.pcontig_000.63;Parent=evm.TU.pcon...  \n",
       "4369  ID=evm.model.pcontig_000.588;Parent=evm.TU.pco...  \n",
       "4435  ID=evm.model.pcontig_000.583;Parent=evm.TU.pco...  \n",
       "5111  ID=evm.model.pcontig_000.306;Parent=evm.TU.pco...  \n",
       "5203  ID=evm.model.pcontig_000.508;Parent=evm.TU.pco...  \n",
       "5215  ID=evm.model.pcontig_000.9;Parent=evm.TU.pcont...  \n",
       "5249  ID=evm.model.pcontig_000.3;Parent=evm.TU.pcont...  \n",
       "5331  ID=evm.model.pcontig_000.679;Parent=evm.TU.pco...  \n",
       "5853  ID=evm.model.pcontig_000.112;Parent=evm.TU.pco...  \n",
       "6021  ID=evm.model.pcontig_000.276;Parent=evm.TU.pco...  "
      ]
     },
     "execution_count": 44,
     "metadata": {},
     "output_type": "execute_result"
    }
   ],
   "source": [
    "df_gff[df_gff[8].str.contains('Effector')]"
   ]
  },
  {
   "cell_type": "code",
   "execution_count": 43,
   "metadata": {
    "collapsed": false
   },
   "outputs": [
    {
     "data": {
      "text/plain": [
       "30"
      ]
     },
     "execution_count": 43,
     "metadata": {},
     "output_type": "execute_result"
    }
   ],
   "source": [
    "len(df_gff[df_gff[8].str.contains('Effector')])"
   ]
  },
  {
   "cell_type": "code",
   "execution_count": 35,
   "metadata": {
    "collapsed": false
   },
   "outputs": [],
   "source": [
    "var_nearby_genes_string = list(set(var_nearby_genes))[0]\n",
    "for x in list(set(var_nearby_genes))[1:]:\n",
    "    var_nearby_genes_string = var_nearby_genes_string + '|' +x\n",
    "df_genes_var_close = df_gff[df_gff[8].str.contains(var_nearby_genes_string)]"
   ]
  },
  {
   "cell_type": "code",
   "execution_count": 40,
   "metadata": {
    "collapsed": false
   },
   "outputs": [
    {
     "data": {
      "text/html": [
       "<div>\n",
       "<table border=\"1\" class=\"dataframe\">\n",
       "  <thead>\n",
       "    <tr style=\"text-align: right;\">\n",
       "      <th></th>\n",
       "      <th>0</th>\n",
       "      <th>1</th>\n",
       "      <th>2</th>\n",
       "      <th>3</th>\n",
       "      <th>4</th>\n",
       "      <th>5</th>\n",
       "      <th>6</th>\n",
       "      <th>7</th>\n",
       "      <th>8</th>\n",
       "    </tr>\n",
       "  </thead>\n",
       "  <tbody>\n",
       "    <tr>\n",
       "      <th>305</th>\n",
       "      <td>pcontig_000</td>\n",
       "      <td>EVM</td>\n",
       "      <td>mRNA</td>\n",
       "      <td>1697688</td>\n",
       "      <td>1698186</td>\n",
       "      <td>.</td>\n",
       "      <td>+</td>\n",
       "      <td>.</td>\n",
       "      <td>ID=evm.model.pcontig_000.378;Parent=evm.TU.pco...</td>\n",
       "    </tr>\n",
       "    <tr>\n",
       "      <th>4435</th>\n",
       "      <td>pcontig_000</td>\n",
       "      <td>EVM</td>\n",
       "      <td>mRNA</td>\n",
       "      <td>2560837</td>\n",
       "      <td>2561326</td>\n",
       "      <td>.</td>\n",
       "      <td>+</td>\n",
       "      <td>.</td>\n",
       "      <td>ID=evm.model.pcontig_000.583;Parent=evm.TU.pco...</td>\n",
       "    </tr>\n",
       "    <tr>\n",
       "      <th>5853</th>\n",
       "      <td>pcontig_000</td>\n",
       "      <td>EVM</td>\n",
       "      <td>mRNA</td>\n",
       "      <td>439981</td>\n",
       "      <td>440863</td>\n",
       "      <td>.</td>\n",
       "      <td>-</td>\n",
       "      <td>.</td>\n",
       "      <td>ID=evm.model.pcontig_000.112;Parent=evm.TU.pco...</td>\n",
       "    </tr>\n",
       "  </tbody>\n",
       "</table>\n",
       "</div>"
      ],
      "text/plain": [
       "                0    1     2        3        4  5  6  7  \\\n",
       "305   pcontig_000  EVM  mRNA  1697688  1698186  .  +  .   \n",
       "4435  pcontig_000  EVM  mRNA  2560837  2561326  .  +  .   \n",
       "5853  pcontig_000  EVM  mRNA   439981   440863  .  -  .   \n",
       "\n",
       "                                                      8  \n",
       "305   ID=evm.model.pcontig_000.378;Parent=evm.TU.pco...  \n",
       "4435  ID=evm.model.pcontig_000.583;Parent=evm.TU.pco...  \n",
       "5853  ID=evm.model.pcontig_000.112;Parent=evm.TU.pco...  "
      ]
     },
     "execution_count": 40,
     "metadata": {},
     "output_type": "execute_result"
    }
   ],
   "source": [
    "df_genes_var_close[df_genes_var_close[8].str.contains('Effector')]"
   ]
  },
  {
   "cell_type": "code",
   "execution_count": 32,
   "metadata": {
    "collapsed": false
   },
   "outputs": [
    {
     "data": {
      "text/plain": [
       "'evm.TU.pcontig_000.514|evm.TU.pcontig_000.84|evm.TU.pcontig_000.12|evm.TU.pcontig_000.274|evm.TU.pcontig_000.462|evm.TU.pcontig_000.377|evm.TU.pcontig_000.187|evm.TU.pcontig_000.633|evm.TU.pcontig_000.521|evm.TU.pcontig_000.583|evm.TU.pcontig_000.582|evm.TU.pcontig_000.218|evm.TU.pcontig_000.378|evm.TU.pcontig_000.85|evm.TU.pcontig_000.60|evm.TU.pcontig_000.398|evm.TU.pcontig_000.379|evm.TU.pcontig_000.171|evm.TU.pcontig_000.461|evm.TU.pcontig_000.7|evm.TU.pcontig_000.188|evm.TU.pcontig_000.11|evm.TU.pcontig_000.65|evm.TU.pcontig_000.139|evm.TU.pcontig_000.422|evm.TU.pcontig_000.189|evm.TU.pcontig_000.621|evm.TU.pcontig_000.8|evm.TU.pcontig_000.72'"
      ]
     },
     "execution_count": 32,
     "metadata": {},
     "output_type": "execute_result"
    }
   ],
   "source": [
    "var_nearby_genes_string"
   ]
  },
  {
   "cell_type": "code",
   "execution_count": null,
   "metadata": {
    "collapsed": false
   },
   "outputs": [],
   "source": [
    "mean_variation = df_ass_indel_full['size'].sum()/len(df_ass_indel_full)"
   ]
  },
  {
   "cell_type": "code",
   "execution_count": null,
   "metadata": {
    "collapsed": true
   },
   "outputs": [],
   "source": [
    "for x in df_2.iloc[window_size:100000+window_size,:].rolling(window=window_size)['size'].sum():\n",
    "    counter += 1\n",
    "        if y  9:\n",
    "            print(x)\n",
    "        else:\n",
    "            break\n",
    "        "
   ]
  },
  {
   "cell_type": "code",
   "execution_count": null,
   "metadata": {
    "collapsed": false
   },
   "outputs": [],
   "source": [
    "df_ass_indel_full.iloc[:100000,:].rolling(window=2000,center=True)['size'].sum().plot(style='k')\n",
    "df_ass_indel_full.iloc[:100000,:]['size'].plot(style='r')"
   ]
  },
  {
   "cell_type": "code",
   "execution_count": null,
   "metadata": {
    "collapsed": false
   },
   "outputs": [],
   "source": [
    "counter = 0\n",
    "for x,y in zip(df_ass_indel_full.iloc[40000:80000,:].rolling(window=100)['ref_start'].max(),df_ass_indel_full.iloc[40000:50000,:].rolling(window=100)['size'].sum()):\n",
    "    counter += 1\n",
    "    if y > 3:\n",
    "        print (x,y)\n",
    "    #else:\n",
    "        #break"
   ]
  },
  {
   "cell_type": "code",
   "execution_count": null,
   "metadata": {
    "collapsed": false
   },
   "outputs": [],
   "source": [
    "df_ass_indel_full.iloc[:100000,:].rolling(window=3)"
   ]
  },
  {
   "cell_type": "code",
   "execution_count": null,
   "metadata": {
    "collapsed": false
   },
   "outputs": [],
   "source": [
    "df_ass_indel_full.head()"
   ]
  },
  {
   "cell_type": "code",
   "execution_count": null,
   "metadata": {
    "collapsed": false
   },
   "outputs": [],
   "source": [
    "df_ass_indel_full.iloc[:100000,:].rolling(window=200)['size'].sum().plot(style='k')"
   ]
  },
  {
   "cell_type": "code",
   "execution_count": null,
   "metadata": {
    "collapsed": false
   },
   "outputs": [],
   "source": [
    "import collections\n",
    "print(collections.Counter(df_ass_indel['ref_start'].tolist()))"
   ]
  },
  {
   "cell_type": "code",
   "execution_count": null,
   "metadata": {
    "collapsed": true
   },
   "outputs": [],
   "source": []
  },
  {
   "cell_type": "code",
   "execution_count": null,
   "metadata": {
    "collapsed": false
   },
   "outputs": [],
   "source": [
    "df_ass_indel_combine[df_ass_indel_combine['size'] ==1]"
   ]
  },
  {
   "cell_type": "code",
   "execution_count": null,
   "metadata": {
    "collapsed": true
   },
   "outputs": [],
   "source": []
  },
  {
   "cell_type": "code",
   "execution_count": null,
   "metadata": {
    "collapsed": true
   },
   "outputs": [],
   "source": []
  },
  {
   "cell_type": "code",
   "execution_count": null,
   "metadata": {
    "collapsed": true
   },
   "outputs": [],
   "source": []
  },
  {
   "cell_type": "code",
   "execution_count": null,
   "metadata": {
    "collapsed": false
   },
   "outputs": [],
   "source": [
    "df.iloc[:, 0] = 'pcontig'"
   ]
  },
  {
   "cell_type": "code",
   "execution_count": null,
   "metadata": {
    "collapsed": false
   },
   "outputs": [],
   "source": [
    "df.iloc[:,1]"
   ]
  },
  {
   "cell_type": "code",
   "execution_count": null,
   "metadata": {
    "collapsed": false
   },
   "outputs": [],
   "source": [
    "np.arange((p_contig_len*len(df_ass.columns))).reshape((p_contig_len, len(df_ass.columns)))"
   ]
  },
  {
   "cell_type": "code",
   "execution_count": null,
   "metadata": {
    "collapsed": false
   },
   "outputs": [],
   "source": [
    "n= (p_contig_len*len(df_ass.columns))\n",
    "n"
   ]
  },
  {
   "cell_type": "code",
   "execution_count": null,
   "metadata": {
    "collapsed": false
   },
   "outputs": [],
   "source": [
    "p_contig_len"
   ]
  },
  {
   "cell_type": "code",
   "execution_count": null,
   "metadata": {
    "collapsed": true
   },
   "outputs": [],
   "source": []
  }
 ],
 "metadata": {
  "kernelspec": {
   "display_name": "Python 3",
   "language": "python",
   "name": "python3"
  },
  "language_info": {
   "codemirror_mode": {
    "name": "ipython",
    "version": 3
   },
   "file_extension": ".py",
   "mimetype": "text/x-python",
   "name": "python",
   "nbconvert_exporter": "python",
   "pygments_lexer": "ipython3",
   "version": "3.5.2"
  }
 },
 "nbformat": 4,
 "nbformat_minor": 0
}
