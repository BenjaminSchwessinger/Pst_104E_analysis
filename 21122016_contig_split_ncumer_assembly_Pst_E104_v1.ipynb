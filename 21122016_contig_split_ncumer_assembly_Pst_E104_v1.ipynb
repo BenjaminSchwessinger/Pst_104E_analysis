{
 "cells": [
  {
   "cell_type": "code",
   "execution_count": 3,
   "metadata": {
    "collapsed": false
   },
   "outputs": [],
   "source": [
    "import os\n",
    "from Bio import SeqIO"
   ]
  },
  {
   "cell_type": "code",
   "execution_count": 4,
   "metadata": {
    "collapsed": false
   },
   "outputs": [
    {
     "name": "stdout",
     "output_type": "stream",
     "text": [
      "/Users/ben/Documents/work_related/Canberra/RJ_lab_projects/Rust_genome_sequencing/PST79/analysis/PacBio_SCH1743/FALCON_0_4_assemblies/p_assemblies/v9_1/scripts\r\n"
     ]
    }
   ],
   "source": [
    "!pwd"
   ]
  },
  {
   "cell_type": "code",
   "execution_count": 41,
   "metadata": {
    "code_folding": [],
    "collapsed": false
   },
   "outputs": [],
   "source": [
    "#here is the in file defined containing alternative \n",
    "file_path ='/Users/ben/Documents/work_related/Canberra/RJ_lab_projects/Rust_genome_sequencing/PST79/analysis/PacBio_SCH1743/FALCON_0_4_assemblies/p_assemblies/v9_1/112016_assembly'\n",
    "file_name='Pst_E104_v1.fa'\n",
    "genome_prefix = 'Pst_E104_v1'\n",
    "bash_script_q= genome_prefix+\"_ph_ctg_qmapping.sh\"\n",
    "bash_script_g=genome_prefix+\"_ph_ctg_gmapping.sh\"\n",
    "outdir = '/Users/ben/Documents/work_related/Canberra/RJ_lab_projects/Rust_genome_sequencing/PST79/analysis/PacBio_SCH1743/FALCON_0_4_assemblies/p_assemblies/v9_1/Pst_E104_v1'"
   ]
  },
  {
   "cell_type": "code",
   "execution_count": 45,
   "metadata": {
    "collapsed": false
   },
   "outputs": [
    {
     "data": {
      "text/plain": [
       "True"
      ]
     },
     "execution_count": 45,
     "metadata": {},
     "output_type": "execute_result"
    }
   ],
   "source": [
    "total_seq_recs = 0\n",
    "p_contigs =[]\n",
    "a_contigs = []\n",
    "a_count =0\n",
    "p_count =0\n",
    "for seq_record in SeqIO.parse(file_path+'/'+file_name, \"fasta\"):\n",
    "    if '185_001' in seq_record.id:\n",
    "        p_contigs.append(seq_record)\n",
    "        continue\n",
    "    if '230_001' in seq_record.id:\n",
    "        p_contigs.append(seq_record)\n",
    "        continue\n",
    "    elif \"hcontig\" in seq_record.id:\n",
    "        a_contigs.append(seq_record)\n",
    "        a_count += 1\n",
    "    else:\n",
    "        p_contigs.append(seq_record)\n",
    "        p_count += 1\n",
    "    total_seq_recs += 1\n",
    "total_seq_recs == p_count + a_count"
   ]
  },
  {
   "cell_type": "code",
   "execution_count": null,
   "metadata": {
    "collapsed": false
   },
   "outputs": [],
   "source": []
  },
  {
   "cell_type": "code",
   "execution_count": 46,
   "metadata": {
    "collapsed": false
   },
   "outputs": [],
   "source": [
    "os.chdir(outdir)\n"
   ]
  },
  {
   "cell_type": "code",
   "execution_count": 47,
   "metadata": {
    "collapsed": false
   },
   "outputs": [
    {
     "data": {
      "text/plain": [
       "176"
      ]
     },
     "execution_count": 47,
     "metadata": {},
     "output_type": "execute_result"
    }
   ],
   "source": [
    "SeqIO.write(a_contigs,file_name[:-3]+'_h_ctg.fa' , 'fasta')\n",
    "SeqIO.write(p_contigs,file_name[:-3]+'_p_ctg.fa' , 'fasta')"
   ]
  },
  {
   "cell_type": "code",
   "execution_count": 48,
   "metadata": {
    "collapsed": false
   },
   "outputs": [],
   "source": [
    "!cat Pst_E104_v1_p_ctg.fa | gsed 's/hcontig_230_001/pcontig_230/g' > Pst_E104_v1_p_ctg_1.fa\n",
    "!cat Pst_E104_v1_p_ctg_1.fa | gsed 's/hcontig_185_001/pcontig_185/g' > Pst_E104_v1_p_ctg_2.fa"
   ]
  },
  {
   "cell_type": "code",
   "execution_count": 49,
   "metadata": {
    "collapsed": false
   },
   "outputs": [],
   "source": [
    "!mv Pst_E104_v1_p_ctg_2.fa Pst_E104_v1_p_ctg.fa"
   ]
  },
  {
   "cell_type": "code",
   "execution_count": 50,
   "metadata": {
    "collapsed": false
   },
   "outputs": [],
   "source": [
    "!rm Pst_E104_v1_p_ctg_1.fa"
   ]
  },
  {
   "cell_type": "code",
   "execution_count": 15,
   "metadata": {
    "collapsed": false
   },
   "outputs": [
    {
     "name": "stdout",
     "output_type": "stream",
     "text": [
      "Pst_E104_v1_h_ctg.fa Pst_E104_v1_p_ctg.fa \u001b[1m\u001b[36mnucmer_split\u001b[m\u001b[m\r\n"
     ]
    }
   ],
   "source": [
    "!ls"
   ]
  },
  {
   "cell_type": "code",
   "execution_count": 51,
   "metadata": {
    "collapsed": false
   },
   "outputs": [],
   "source": [
    "os.chdir('/Users/ben/Documents/work_related/Canberra/RJ_lab_projects/Rust_genome_sequencing/PST79/analysis/PacBio_SCH1743/FALCON_0_4_assemblies/p_assemblies/v9_1/Pst_E104_v1/nucmer_split')"
   ]
  },
  {
   "cell_type": "code",
   "execution_count": 52,
   "metadata": {
    "collapsed": false
   },
   "outputs": [],
   "source": [
    "outfq = open(bash_script_q, 'w')\n",
    "outfq.write('#!/bin/bash\\n')\n",
    "outfg = open(bash_script_g, 'w')\n",
    "outfg.write('#!/bin/bash\\n')#parsing out P and corresponding A contigs and writing a short ncumer script that aligns them against each other\n",
    "for pseq_record in SeqIO.parse(file_name[:-3]+'_p_ctg.fa', 'fasta'):\n",
    "    p_acontigs = []\n",
    "    p_contig = pseq_record.id.split(\"_\")[0]+\"_\"+pseq_record.id.split(\"_\")[1]\n",
    "    suffix = file_name[0:8]+p_contig+\"php\"\n",
    "    p_file = file_name[0:-3]+\"_\"+p_contig+'.fa'\n",
    "    SeqIO.write(pseq_record, p_file, 'fasta')\n",
    "    for aseq_record in SeqIO.parse(file_name[:-3]+'_h_ctg.fa', 'fasta'):\n",
    "        if aseq_record.id.split(\"_\")[1]  == pseq_record.id.split(\"_\")[1]:\n",
    "            p_acontigs.append(aseq_record)\n",
    "    a_file = file_name[:-3]+\"_\"+pseq_record.id.split(\"_\")[0]+\"_\"+pseq_record.id.split(\"_\")[1]+'_h_ctg.fa'\n",
    "    #if we have alternative contigs safe those too\n",
    "    if p_acontigs != []:\n",
    "        SeqIO.write(p_acontigs, a_file, 'fasta')\n",
    "        outfq.write('nucmer '+p_file+' '+a_file+\" > \"+'out.delta\\n')\n",
    "        outfq.write('delta-filter -q '+'out.delta'+\" > \"+suffix+\"_qfiltered.delta\\n\")\n",
    "        outfq.write('show-coords -T '+suffix+\"_qfiltered.delta > \"+suffix+\".qcoords\\n\")\n",
    "        outfq.write('mummerplot -p '+suffix+'_qfiltered --postscript '+suffix+\"_qfiltered.delta\\n\")\n",
    "        outfq.write('mummerplot -c -p '+suffix+'_qfiltered_cov --postscript '+suffix+\"_qfiltered.delta\\n\")\n",
    "        #for g_file bash script\n",
    "        outfg.write('nucmer '+p_file+' '+a_file+\" > \"+'out.delta\\n')\n",
    "        outfg.write('delta-filter -g '+'out.delta'+\" > \"+suffix+\"_gfiltered.delta\\n\")\n",
    "        outfg.write('show-coords -T '+suffix+\"_gfiltered.delta > \"+suffix+\".gcoords\\n\")\n",
    "        outfg.write('mummerplot -p '+suffix+'_gfiltered --postscript '+suffix+\"_gfiltered.delta\\n\")\n",
    "        outfg.write('mummerplot -c -p  '+suffix+'_gfiltered_cov --postscript '+suffix+\"_gfiltered.delta\\n\")\n",
    "outfq.close()\n",
    "outfg.close()  "
   ]
  },
  {
   "cell_type": "code",
   "execution_count": 53,
   "metadata": {
    "collapsed": false
   },
   "outputs": [
    {
     "data": {
      "text/plain": [
       "480"
      ]
     },
     "execution_count": 53,
     "metadata": {},
     "output_type": "execute_result"
    }
   ],
   "source": [
    "len(a_contigs)"
   ]
  },
  {
   "cell_type": "code",
   "execution_count": 13,
   "metadata": {
    "collapsed": false
   },
   "outputs": [
    {
     "name": "stdout",
     "output_type": "stream",
     "text": [
      "/Users/ben/Documents/work_related/Canberra/RJ_lab_projects/Rust_genome_sequencing/PST79/analysis/PacBio_SCH1743/FALCON_0_4_assemblies/p_assemblies/v8_1/v8_1_unzip/QC_unpolished/nucmer/nucmer_h_on_pwh\r\n"
     ]
    }
   ],
   "source": [
    "!pwd"
   ]
  },
  {
   "cell_type": "code",
   "execution_count": null,
   "metadata": {
    "collapsed": false
   },
   "outputs": [],
   "source": []
  },
  {
   "cell_type": "code",
   "execution_count": null,
   "metadata": {
    "collapsed": false
   },
   "outputs": [],
   "source": []
  },
  {
   "cell_type": "code",
   "execution_count": null,
   "metadata": {
    "collapsed": false
   },
   "outputs": [],
   "source": []
  },
  {
   "cell_type": "code",
   "execution_count": null,
   "metadata": {
    "collapsed": false
   },
   "outputs": [],
   "source": []
  },
  {
   "cell_type": "code",
   "execution_count": null,
   "metadata": {
    "collapsed": false
   },
   "outputs": [],
   "source": []
  }
 ],
 "metadata": {
  "anaconda-cloud": {},
  "kernelspec": {
   "display_name": "Python [conda root]",
   "language": "python",
   "name": "conda-root-py"
  },
  "language_info": {
   "codemirror_mode": {
    "name": "ipython",
    "version": 3
   },
   "file_extension": ".py",
   "mimetype": "text/x-python",
   "name": "python",
   "nbconvert_exporter": "python",
   "pygments_lexer": "ipython3",
   "version": "3.5.2"
  }
 },
 "nbformat": 4,
 "nbformat_minor": 0
}
