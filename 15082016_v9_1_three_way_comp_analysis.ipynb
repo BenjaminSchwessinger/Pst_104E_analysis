{
 "cells": [
  {
   "cell_type": "code",
   "execution_count": 1,
   "metadata": {
    "collapsed": true
   },
   "outputs": [],
   "source": [
    "%load_ext jupyter_cms"
   ]
  },
  {
   "cell_type": "code",
   "execution_count": 2,
   "metadata": {
    "collapsed": false
   },
   "outputs": [
    {
     "name": "stdout",
     "output_type": "stream",
     "text": [
      "I am also included in the help\n"
     ]
    }
   ],
   "source": [
    "# <help>\n",
    "print(\"I am also included in the help\")"
   ]
  },
  {
   "cell_type": "code",
   "execution_count": 3,
   "metadata": {
    "collapsed": true
   },
   "outputs": [],
   "source": [
    "%matplotlib inline\n",
    "import numpy as np\n",
    "import matplotlib.pyplot as plt\n",
    "from matplotlib.axes import Axes\n",
    "import pandas as pd\n",
    "import itertools\n",
    "import matplotlib\n",
    "import os\n",
    "from Bio import SeqIO\n",
    "from Bio import SeqUtils\n",
    "import matplotlib.cm as cm\n",
    "from ete3 import NCBITaxa\n",
    "import re"
   ]
  },
  {
   "cell_type": "code",
   "execution_count": 4,
   "metadata": {
    "collapsed": true
   },
   "outputs": [],
   "source": [
    "def make_contig_df(contig_path, contig_name):\n",
    "    \"\"\"\n",
    "    Make contig Dataframe from fasta file.\n",
    "    \"\"\"    \n",
    "    f_handle = open(contig_path+'/'+contig_name, mode='r')\n",
    "    contigs = SeqIO.parse(f_handle, 'fasta')\n",
    "    contig_length = []\n",
    "    contig_id =[]\n",
    "    contig_GC = []\n",
    "    assembly_id = []\n",
    "    for x in contigs:\n",
    "        contig_id.append(x.id)\n",
    "        contig_length.append(len(x.seq))\n",
    "        contig_GC.append(SeqUtils.GC(x.seq))\n",
    "        assembly_id.append(p_and_a_ctg_file_name)\n",
    "    s1 = pd.Series(contig_id, name='ID')\n",
    "    s2 = pd.Series(contig_length, name='Length')\n",
    "    s3 = pd.Series(contig_GC, name='%GC')\n",
    "    s4 = pd.Series(assembly_id, name=\"Assembly\")\n",
    "    contig_df = pd.concat([s1, s2, s3, s4], axis=1)\n",
    "    f_handle.close()\n",
    "    return contig_df"
   ]
  },
  {
   "cell_type": "code",
   "execution_count": 5,
   "metadata": {
    "collapsed": true
   },
   "outputs": [],
   "source": [
    "#function to add another column for P and A_contig identification to dataframe\n",
    "def P_and_A_identifier(df):\n",
    "    \"\"\"Method to add primary and alternative contig identifier rows to FC dataframes\"\"\"\n",
    "    primary_list = []\n",
    "    alternative_list = []\n",
    "    return_df = df.iloc[:,:]\n",
    "    for x in return_df['ID']:\n",
    "        if \"-\" in list(x):\n",
    "            primary_list.append(0)\n",
    "            alternative_list.append(1)\n",
    "        else:\n",
    "            primary_list.append(1)\n",
    "            alternative_list.append(0)\n",
    "    return_df[\"P_contig\"] = pd.Series(primary_list)\n",
    "    return_df[\"A_contig\"] = pd.Series(alternative_list)\n",
    "    return_df = return_df.reset_index(drop=True)\n",
    "    return return_df"
   ]
  },
  {
   "cell_type": "code",
   "execution_count": 6,
   "metadata": {
    "collapsed": false
   },
   "outputs": [],
   "source": [
    "#function that compares a seed with a result dataframe. It assesses if any initial IDs are missing from the result df\n",
    "#and adds them with '0' in all columns to the result df\n",
    "#ADD VALUE ERROR CHECK FOR EMPTY SEED_DF\n",
    "def no_hit_df_extension(seed_df, result_df):\n",
    "    \"\"\"function that compares a seed with a result dataframe. \n",
    "    It assesses if any initial IDs are missing from the result df\n",
    "    and adds them with '0' in all columns except the ID column.\n",
    "    The first column in each dataframe needs to be labled 'ID'.\"\"\"\n",
    "    if len(list(set(seed_df.iloc[:,0])- set(result_df.iloc[:,0]))) == 0:\n",
    "        #test if there actually missing values\n",
    "        return pd.DataFrame()\n",
    "    else:\n",
    "        no_hit_sr = pd.Series(list(set(seed_df.iloc[:,0])- set(result_df.iloc[:,0])))\n",
    "        #make empty dataframe for no_hits\n",
    "        empty = np.array([[0]*(len(result_df.columns)-1) for x in range(len(no_hit_sr))])\n",
    "        no_hit_df = pd.DataFrame(empty, columns =result_df.columns[1:])\n",
    "        no_hit_df[result_df.columns.tolist()[0]] = no_hit_sr\n",
    "        no_hit_df = no_hit_df[result_df.columns]\n",
    "        return no_hit_df"
   ]
  },
  {
   "cell_type": "code",
   "execution_count": 7,
   "metadata": {
    "collapsed": false
   },
   "outputs": [],
   "source": [
    "def coverage_df_generator(file_path, file_name, seq_type):\n",
    "    \"\"\"\n",
    "    Function that pulls in bed file coverage file. \n",
    "    It labels the header and calculates the average coverage per segment.\n",
    "    \"\"\"\n",
    "    coverage_df = pd.read_csv(file_path+'/'+file_name, sep='\\t', header=None)\n",
    "    header_cov = [\"ID-cov \"+seq_type, \"start \"+seq_type, 'stop '+seq_type, \"total hits \"+seq_type]\n",
    "    #rename the headear according bed file output\n",
    "    rename = dict(zip(coverage_df.columns, header_cov))\n",
    "    coverage_df.rename(columns=rename,inplace=True)\n",
    "    #add another column for average coverage\n",
    "    coverage_df[\"Average Coverage \"+seq_type] = np.round(coverage_df['total hits '+seq_type]/(coverage_df['stop '+seq_type] -coverage_df['start '+seq_type]),3)\n",
    "    coverage_df = coverage_df.sort_values(by=[coverage_df.columns.tolist()[0]]).reset_index(drop=True)\n",
    "    return coverage_df\n",
    "#no_hit_df_extension(p_and_a_ctg_df, blast_df)"
   ]
  },
  {
   "cell_type": "code",
   "execution_count": 8,
   "metadata": {
    "collapsed": true
   },
   "outputs": [],
   "source": [
    "def coverage_df_generator_all(file_path, file_name, seq_type, seed_df):\n",
    "    \"\"\"\n",
    "    Function that pulls in bed file coverage file. \n",
    "    It labels the header and calculates the average coverage per segment.\n",
    "    This also adds the IDs for which no hits have been reported.\n",
    "    It returns a sorted df on the first ID column.\n",
    "    \"\"\"\n",
    "    coverage_df = pd.read_csv(file_path+'/'+file_name, sep='\\t', header=None)\n",
    "    header_cov = [\"ID-cov \"+seq_type, \"start \"+seq_type, 'stop '+seq_type, \"total hits \"+seq_type]\n",
    "    #rename the headear according bed file output\n",
    "    rename = dict(zip(coverage_df.columns, header_cov))\n",
    "    coverage_df.rename(columns=rename,inplace=True)\n",
    "    #add another column for average coverage\n",
    "    coverage_df[\"Average Coverage \"+seq_type] = np.round(coverage_df['total hits '+seq_type]/(coverage_df['stop '+seq_type] -coverage_df['start '+seq_type]),3)\n",
    "    #get no hit df, append and sort\n",
    "    coverage_all_df = coverage_df.append(no_hit_df_extension(seed_df, coverage_df))\n",
    "    coverage_all_df = coverage_all_df.sort_values(by=[coverage_all_df.columns.tolist()[0]]).reset_index(drop=True)\n",
    "    return coverage_all_df\n",
    "    #no_hit_df_extension(p_and_a_ctg_df, blast_df)"
   ]
  },
  {
   "cell_type": "code",
   "execution_count": 9,
   "metadata": {
    "collapsed": true
   },
   "outputs": [],
   "source": [
    "def add_cov_to_summary(sum_df, cov_df):\n",
    "    \"\"\"add coverage dataframe last \"Average Coverage\" column to blast summary df\"\"\"\n",
    "    sum_sorted_df = sum_df.sort_values(by=[sum_df.columns.tolist()[0]]).reset_index(drop=True)\n",
    "    cov_sorted_df = cov_df.sort_values(by=[cov_df.columns.tolist()[0]]).reset_index(drop=True)\n",
    "    if set(sum_sorted_df.iloc[:,0] == cov_sorted_df.iloc[:,0]):\n",
    "        sum_sorted_df[cov_sorted_df.columns.tolist()[-1]] = cov_sorted_df.iloc[:, -1]\n",
    "        return sum_sorted_df\n",
    "    else: #this should be made to raise an error\n",
    "        print('Dataframes do not have the same ids')"
   ]
  },
  {
   "cell_type": "code",
   "execution_count": 10,
   "metadata": {
    "collapsed": false
   },
   "outputs": [],
   "source": [
    "def tc_blast_df(blast_xml_path, blast_xml_file_name, tc_list):\n",
    "    \"\"\"\n",
    "    Returns a df of xml blast hits of target contigs.\n",
    "    \"\"\"\n",
    "    from Bio.Blast import NCBIXML\n",
    "    f = open(blast_xml_path+'/'+blast_xml_file_name, mode='r')\n",
    "    blast_rec = NCBIXML.parse(f)\n",
    "    tc_blast_df = pd.DataFrame()\n",
    "    for record in blast_rec:\n",
    "        if record.query.split(' ')[0] in tc_list: #the split may needs to be updated based on query blastn file headers.\n",
    "                                                    #THINK long initial headers not _sh_ format\n",
    "            NCBI_ID = []\n",
    "            title_list = []\n",
    "            query_contig = []\n",
    "            sbj_start = []\n",
    "            score_list =[]\n",
    "            length=[]\n",
    "            title = record.query.split(' ')[0]\n",
    "            for aln in record.alignments:\n",
    "                NCBI_ID.append('|'.join(aln.title.split('|')[0:4])+'|')\n",
    "                title_list.append(aln.title.split('|')[4])\n",
    "                query_contig.append(title)\n",
    "                sbj_start_list = []\n",
    "                query_score_list =[]\n",
    "                length_list = []\n",
    "                for hsp in aln.hsps:\n",
    "                    sbj_start_list.append(hsp.query_start)\n",
    "                    query_score_list.append(hsp.expect)\n",
    "                    length_list.append(hsp.align_length)\n",
    "                sbj_start.append(sbj_start_list)\n",
    "                score_list.append(query_score_list)\n",
    "                length.append(length_list)\n",
    "            result_df = pd.concat([pd.Series(query_contig, name='ID'),pd.Series(NCBI_ID, name=\"ID-NCBI\"), pd.Series(title_list, name='Blast Hit'), pd.Series(sbj_start, name='Contig Pos Aln'), pd.Series(length, name='Aln Length'), pd.Series(score_list, name='E-value')], axis =1)\n",
    "            tc_blast_df = tc_blast_df.append(result_df)\n",
    "    f.close()\n",
    "    tc_blast_df = tc_blast_df.reset_index(drop=True)\n",
    "    return tc_blast_df"
   ]
  },
  {
   "cell_type": "code",
   "execution_count": 11,
   "metadata": {
    "collapsed": true
   },
   "outputs": [],
   "source": [
    "def tc_blast_search_df(blast_xml_path, blast_xml_file_name, tc_list, search):\n",
    "    \"\"\"\n",
    "    Returns a df of xml blast hits of target contigs were the query title matches the 'search' pattern.\n",
    "    \"\"\"\n",
    "    from Bio.Blast import NCBIXML\n",
    "    f = open(blast_xml_path+'/'+blast_xml_file_name, mode='r')\n",
    "    blast_rec = NCBIXML.parse(f)\n",
    "    tc_blast_df_2 = pd.DataFrame()\n",
    "    for record in blast_rec:\n",
    "        if record.query.split(' ')[0] in tc_list: #the split may needs to be updated based on query blastn file headers.                                            #THINK long initial headers not _sh_ format\n",
    "            NCBI_ID = []\n",
    "            title_list = []\n",
    "            query_contig = []\n",
    "            sbj_start = []\n",
    "            score_list =[]\n",
    "            length=[]\n",
    "            title = record.query.split(' ')[0]\n",
    "            #set the search term for your favorite blast hit\n",
    "            for aln in record.alignments:\n",
    "                #in case the title contains pattern match entered as search string in function\n",
    "                if re.search(search, aln.title.split('|')[4]):\n",
    "                    NCBI_ID.append('|'.join(aln.title.split('|')[0:4])+'|')\n",
    "                    title_list.append(aln.title.split('|')[4])\n",
    "                    query_contig.append(title)\n",
    "                    sbj_start_list = []\n",
    "                    query_score_list =[]\n",
    "                    length_list = []\n",
    "                    for hsp in aln.hsps:\n",
    "                            sbj_start_list.append(hsp.query_start)\n",
    "                            query_score_list.append(hsp.expect)\n",
    "                            length_list.append(hsp.align_length)\n",
    "                    sbj_start.append(sbj_start_list)\n",
    "                    score_list.append(query_score_list)\n",
    "                    length.append(length_list)\n",
    "            result_df = pd.concat([pd.Series(query_contig, name='ID'),pd.Series(NCBI_ID, name=\"ID-NCBI\"), pd.Series(title_list, name='Blast Hit'), pd.Series(sbj_start, name='Contig Pos Aln'), pd.Series(length, name='Aln Length'), pd.Series(score_list, name='E-value')], axis =1)\n",
    "            tc_blast_df_2 = tc_blast_df_2.append(result_df)\n",
    "            result_df = pd.DataFrame()\n",
    "    f.close()\n",
    "    tc_blast_df_2 = tc_blast_df_2.reset_index(drop=True)\n",
    "    return tc_blast_df_2"
   ]
  },
  {
   "cell_type": "code",
   "execution_count": 12,
   "metadata": {
    "collapsed": false
   },
   "outputs": [],
   "source": [
    "def print_first_5_blast_hits(blast_xml_df):\n",
    "    \"\"\"\n",
    "    Does what is says in conjungtion with tc_blast_df.\n",
    "    \"\"\"\n",
    "    #set count and read in first row\n",
    "    count = 0\n",
    "    previous = blast_xml_df.loc[0,'ID']\n",
    "    #iterarte over each row and print the long blast_xml description until you reach #5\n",
    "    for index,row in blast_xml_df.iterrows():\n",
    "        if row['ID'] == previous:\n",
    "            count += 1\n",
    "            #print(count)\n",
    "        if count < 6: \n",
    "            print(blast_xml_df.loc[index, 'ID'], '\\t', blast_xml_df.loc[index, 'Blast Hit'])\n",
    "        if row['ID'] != previous:\n",
    "            count = 0\n",
    "        previous = row['ID']"
   ]
  },
  {
   "cell_type": "code",
   "execution_count": 13,
   "metadata": {
    "collapsed": true
   },
   "outputs": [],
   "source": [
    "def print_all_blast_hits(blast_xml_df):\n",
    "    \"\"\"\n",
    "    Does what is says in conjungtion with tc_blast_df.\n",
    "    \"\"\"\n",
    "    #set count and read in first row\n",
    "    count = 0\n",
    "    previous = blast_xml_df.loc[0,'ID']\n",
    "    #iterarte over each row and print all blast hits\n",
    "    for index,row in blast_xml_df.iterrows():\n",
    "        print(blast_xml_df.loc[index, 'ID'], '\\t', blast_xml_df.loc[index, 'Blast Hit'])\n",
    "        print(\"E-value\",'\\t', blast_xml_df.loc[index, 'E-value'])\n",
    "        print(\"Contig Pos Aln\",'\\t', blast_xml_df.loc[index,'Contig Pos Aln'])\n"
   ]
  },
  {
   "cell_type": "code",
   "execution_count": 14,
   "metadata": {
    "collapsed": true
   },
   "outputs": [],
   "source": [
    "#function to add another column for P and A_contig identification to dataframe\n",
    "def P_and_H_identifier(df):\n",
    "    \"\"\"Method to add primary and alternative contig identifier rows to FC dataframes\"\"\"\n",
    "    primary_list = []\n",
    "    alternative_list = []\n",
    "    return_df = df.iloc[:,:]\n",
    "    for x in return_df['ID']:\n",
    "        if \"_\" in list(x):\n",
    "            primary_list.append(0)\n",
    "            alternative_list.append(1)\n",
    "        else:\n",
    "            primary_list.append(1)\n",
    "            alternative_list.append(0)\n",
    "    return_df[\"P_contig\"] = pd.Series(primary_list)\n",
    "    return_df[\"A_contig\"] = pd.Series(alternative_list)\n",
    "    return_df = return_df.reset_index(drop=True)\n",
    "    return return_df"
   ]
  },
  {
   "cell_type": "code",
   "execution_count": 15,
   "metadata": {
    "collapsed": true
   },
   "outputs": [],
   "source": [
    "#outdir for saving figures\n",
    "outdir = \"/Users/ben/Documents/work_related/Canberra/RJ_lab_projects/Rust_genome_sequencing/PST79/analysis/PacBio_SCH1743/FALCON_0_4_assemblies/p_assemblies/v8_1/v8_1_unzip/QC_unpolished\""
   ]
  },
  {
   "cell_type": "code",
   "execution_count": 16,
   "metadata": {
    "collapsed": false
   },
   "outputs": [],
   "source": [
    "#here pull in intial unpolished query file from Falcon p_and_a_ctg and generate a dataframe\n",
    "p_and_a_ctg_path ='/Users/ben/Documents/work_related/Canberra/RJ_lab_projects/Rust_genome_sequencing/PST79/analysis/PacBio_SCH1743/FALCON_0_4_assemblies/p_assemblies/v9_1/'\n",
    "p_and_a_ctg_file_name = 'v91_pa_ctg.fa'\n",
    "handle_1 = open(p_and_a_ctg_path+p_and_a_ctg_file_name)"
   ]
  },
  {
   "cell_type": "code",
   "execution_count": 17,
   "metadata": {
    "collapsed": false
   },
   "outputs": [],
   "source": [
    "#make dataframe of initial query file p_and_a_ctg_df\n",
    "contigs = SeqIO.parse(handle_1, 'fasta')\n",
    "contig_length = []\n",
    "contig_id =[]\n",
    "contig_GC = []\n",
    "assembly_id = []\n",
    "for x in contigs:\n",
    "    contig_id.append(x.id)\n",
    "    contig_length.append(len(x.seq))\n",
    "    contig_GC.append(SeqUtils.GC(x.seq))\n",
    "    assembly_id.append(p_and_a_ctg_file_name)\n",
    "s1 = pd.Series(contig_id, name='ID')\n",
    "s2 = pd.Series(contig_length, name='Length')\n",
    "s3 = pd.Series(contig_GC, name='%GC')\n",
    "s4 = pd.Series(assembly_id, name=\"Assembly\")\n",
    "p_and_a_ctg_df = pd.concat([s1, s2, s3, s4], axis=1)\n",
    "handle_1.close()"
   ]
  },
  {
   "cell_type": "code",
   "execution_count": 18,
   "metadata": {
    "collapsed": false
   },
   "outputs": [],
   "source": [
    "p_and_a_ctg_df = P_and_A_identifier(p_and_a_ctg_df)"
   ]
  },
  {
   "cell_type": "code",
   "execution_count": 19,
   "metadata": {
    "collapsed": true
   },
   "outputs": [],
   "source": [
    "p_and_h_ctg_file_name = 'v91_all_ph_ctg.fa'\n",
    "handle_2 = open(p_and_a_ctg_path+p_and_h_ctg_file_name)"
   ]
  },
  {
   "cell_type": "code",
   "execution_count": 20,
   "metadata": {
    "collapsed": false
   },
   "outputs": [],
   "source": [
    "#make dataframe of initial query file p_and_a_ctg_df\n",
    "contigs = ''\n",
    "contigs = SeqIO.parse(handle_2, 'fasta')\n",
    "contig_length = []\n",
    "contig_id =[]\n",
    "contig_GC = []\n",
    "assembly_id = []\n",
    "for x in contigs:\n",
    "    contig_id.append(x.id)\n",
    "    contig_length.append(len(x.seq))\n",
    "    contig_GC.append(SeqUtils.GC(x.seq))\n",
    "    assembly_id.append(p_and_h_ctg_file_name)\n",
    "s1 = pd.Series(contig_id, name='ID')\n",
    "s2 = pd.Series(contig_length, name='Length')\n",
    "s3 = pd.Series(contig_GC, name='%GC')\n",
    "s4 = pd.Series(assembly_id, name=\"Assembly\")\n",
    "p_and_h_ctg_df = pd.concat([s1, s2, s3, s4], axis=1)\n",
    "handle_2.close()"
   ]
  },
  {
   "cell_type": "code",
   "execution_count": 21,
   "metadata": {
    "collapsed": true
   },
   "outputs": [],
   "source": [
    "p_and_h_ctg_df = P_and_H_identifier(p_and_h_ctg_df)"
   ]
  },
  {
   "cell_type": "code",
   "execution_count": 22,
   "metadata": {
    "collapsed": true
   },
   "outputs": [],
   "source": [
    "cns_p_and_h_ctg_file_name = 'v91_cns_ph_ctg.fa'\n",
    "handle_3 = open(p_and_a_ctg_path+cns_p_and_h_ctg_file_name)"
   ]
  },
  {
   "cell_type": "code",
   "execution_count": 23,
   "metadata": {
    "collapsed": false
   },
   "outputs": [],
   "source": [
    "#make dataframe of initial query file p_and_a_ctg_df\n",
    "contigs = ''\n",
    "contigs = SeqIO.parse(handle_3, 'fasta')\n",
    "contig_length = []\n",
    "contig_id =[]\n",
    "contig_GC = []\n",
    "assembly_id = []\n",
    "for x in contigs:\n",
    "    contig_id.append(x.id)\n",
    "    contig_length.append(len(x.seq))\n",
    "    contig_GC.append(SeqUtils.GC(x.seq))\n",
    "    assembly_id.append(cns_p_and_h_ctg_file_name)\n",
    "s1 = pd.Series(contig_id, name='ID')\n",
    "s2 = pd.Series(contig_length, name='Length')\n",
    "s3 = pd.Series(contig_GC, name='%GC')\n",
    "s4 = pd.Series(assembly_id, name=\"Assembly\")\n",
    "cns_p_and_h_ctg_df = pd.concat([s1, s2, s3, s4], axis=1)\n",
    "handle_3.close()"
   ]
  },
  {
   "cell_type": "code",
   "execution_count": 24,
   "metadata": {
    "collapsed": true
   },
   "outputs": [],
   "source": [
    "cns_p_and_h_ctg_df = P_and_H_identifier(cns_p_and_h_ctg_df)"
   ]
  },
  {
   "cell_type": "code",
   "execution_count": 26,
   "metadata": {
    "collapsed": false
   },
   "outputs": [
    {
     "data": {
      "text/html": [
       "<div>\n",
       "<table border=\"1\" class=\"dataframe\">\n",
       "  <thead>\n",
       "    <tr style=\"text-align: right;\">\n",
       "      <th></th>\n",
       "      <th>ID</th>\n",
       "      <th>Length</th>\n",
       "      <th>%GC</th>\n",
       "      <th>Assembly</th>\n",
       "      <th>P_contig</th>\n",
       "      <th>A_contig</th>\n",
       "    </tr>\n",
       "  </thead>\n",
       "  <tbody>\n",
       "    <tr>\n",
       "      <th>220</th>\n",
       "      <td>000230F</td>\n",
       "      <td>0</td>\n",
       "      <td>0.0</td>\n",
       "      <td>v91_all_ph_ctg.fa</td>\n",
       "      <td>1</td>\n",
       "      <td>0</td>\n",
       "    </tr>\n",
       "    <tr>\n",
       "      <th>234</th>\n",
       "      <td>000249F</td>\n",
       "      <td>0</td>\n",
       "      <td>0.0</td>\n",
       "      <td>v91_all_ph_ctg.fa</td>\n",
       "      <td>1</td>\n",
       "      <td>0</td>\n",
       "    </tr>\n",
       "  </tbody>\n",
       "</table>\n",
       "</div>"
      ],
      "text/plain": [
       "          ID  Length  %GC           Assembly  P_contig  A_contig\n",
       "220  000230F       0  0.0  v91_all_ph_ctg.fa         1         0\n",
       "234  000249F       0  0.0  v91_all_ph_ctg.fa         1         0"
      ]
     },
     "execution_count": 26,
     "metadata": {},
     "output_type": "execute_result"
    }
   ],
   "source": [
    "p_and_h_ctg_df[p_and_h_ctg_df['Length']==0]"
   ]
  },
  {
   "cell_type": "code",
   "execution_count": 26,
   "metadata": {
    "collapsed": false
   },
   "outputs": [],
   "source": [
    "cns_ids = [x.split('|')[0] for x in cns_p_and_h_ctg_df['ID'].tolist()]"
   ]
  },
  {
   "cell_type": "code",
   "execution_count": 27,
   "metadata": {
    "collapsed": true
   },
   "outputs": [],
   "source": [
    "ph_ids = p_and_h_ctg_df['ID'].tolist()"
   ]
  },
  {
   "cell_type": "code",
   "execution_count": 28,
   "metadata": {
    "collapsed": false
   },
   "outputs": [],
   "source": [
    "absent_cns = list(set(ph_ids) -set(cns_ids))"
   ]
  },
  {
   "cell_type": "code",
   "execution_count": 29,
   "metadata": {
    "collapsed": false
   },
   "outputs": [],
   "source": [
    "absent_cns_df = pd.DataFrame()\n",
    "for x in absent_cns:\n",
    "    #print(p_and_h_ctg_df.query('ID==\"%s\"'%(x)))\n",
    "    absent_cns_df=absent_cns_df.append(p_and_h_ctg_df.query('ID==\"%s\"'%(x)))\n"
   ]
  },
  {
   "cell_type": "code",
   "execution_count": 32,
   "metadata": {
    "collapsed": false
   },
   "outputs": [
    {
     "data": {
      "text/plain": [
       "P_contig\n",
       "0    Axes(0.125,0.125;0.775x0.775)\n",
       "1    Axes(0.125,0.125;0.775x0.775)\n",
       "Name: Length, dtype: object"
      ]
     },
     "execution_count": 32,
     "metadata": {},
     "output_type": "execute_result"
    },
    {
     "data": {
      "image/png": "[encoded data removed]",
      "text/plain": [
       "<matplotlib.figure.Figure at 0x118c72828>"
      ]
     },
     "metadata": {},
     "output_type": "display_data"
    }
   ],
   "source": [
    "absent_cns_df.groupby('P_contig')['Length'].plot(kind='bar')"
   ]
  },
  {
   "cell_type": "code",
   "execution_count": 33,
   "metadata": {
    "collapsed": false
   },
   "outputs": [
    {
     "data": {
      "text/plain": [
       "A_contig\n",
       "0    Axes(0.125,0.125;0.775x0.775)\n",
       "1    Axes(0.125,0.125;0.775x0.775)\n",
       "Name: Length, dtype: object"
      ]
     },
     "execution_count": 33,
     "metadata": {},
     "output_type": "execute_result"
    },
    {
     "data": {
      "image/png": "[encoded data removed]",
      "text/plain": [
       "<matplotlib.figure.Figure at 0x1190ebac8>"
      ]
     },
     "metadata": {},
     "output_type": "display_data"
    }
   ],
   "source": [
    "absent_cns_df.groupby('A_contig')['Length'].plot(kind='bar')"
   ]
  },
  {
   "cell_type": "code",
   "execution_count": 34,
   "metadata": {
    "collapsed": false
   },
   "outputs": [
    {
     "data": {
      "text/plain": [
       "P_contig\n",
       "0    85\n",
       "1     6\n",
       "Name: Length, dtype: int64"
      ]
     },
     "execution_count": 34,
     "metadata": {},
     "output_type": "execute_result"
    }
   ],
   "source": [
    "absent_cns_df.groupby('P_contig')['Length'].count()"
   ]
  },
  {
   "cell_type": "code",
   "execution_count": 35,
   "metadata": {
    "collapsed": false
   },
   "outputs": [
    {
     "data": {
      "text/plain": [
       "P_contig\n",
       "0    68673037\n",
       "1    89868210\n",
       "Name: Length, dtype: int64"
      ]
     },
     "execution_count": 35,
     "metadata": {},
     "output_type": "execute_result"
    }
   ],
   "source": [
    "p_and_h_ctg_df.groupby('P_contig')['Length'].sum()"
   ]
  },
  {
   "cell_type": "code",
   "execution_count": 61,
   "metadata": {
    "collapsed": false
   },
   "outputs": [
    {
     "data": {
      "text/plain": [
       "P_contig\n",
       "0    67710241\n",
       "1    89887834\n",
       "Name: Length, dtype: int64"
      ]
     },
     "execution_count": 61,
     "metadata": {},
     "output_type": "execute_result"
    }
   ],
   "source": [
    "cns_p_and_h_ctg_df.groupby('P_contig')['Length'].sum()"
   ]
  },
  {
   "cell_type": "code",
   "execution_count": 37,
   "metadata": {
    "collapsed": false
   },
   "outputs": [
    {
     "data": {
      "text/plain": [
       "P_contig\n",
       "0    37495020\n",
       "1    92345074\n",
       "Name: Length, dtype: int64"
      ]
     },
     "execution_count": 37,
     "metadata": {},
     "output_type": "execute_result"
    }
   ],
   "source": [
    "p_and_a_ctg_df.groupby('P_contig')['Length'].sum()"
   ]
  },
  {
   "cell_type": "code",
   "execution_count": 38,
   "metadata": {
    "collapsed": false
   },
   "outputs": [
    {
     "data": {
      "text/html": [
       "<div>\n",
       "<table border=\"1\" class=\"dataframe\">\n",
       "  <thead>\n",
       "    <tr style=\"text-align: right;\">\n",
       "      <th></th>\n",
       "      <th>ID</th>\n",
       "      <th>Length</th>\n",
       "      <th>%GC</th>\n",
       "      <th>Assembly</th>\n",
       "      <th>P_contig</th>\n",
       "      <th>A_contig</th>\n",
       "    </tr>\n",
       "  </thead>\n",
       "  <tbody>\n",
       "    <tr>\n",
       "      <th>220</th>\n",
       "      <td>000230F</td>\n",
       "      <td>0</td>\n",
       "      <td>0.0</td>\n",
       "      <td>v91_all_ph_ctg.fa</td>\n",
       "      <td>1</td>\n",
       "      <td>0</td>\n",
       "    </tr>\n",
       "    <tr>\n",
       "      <th>234</th>\n",
       "      <td>000249F</td>\n",
       "      <td>0</td>\n",
       "      <td>0.0</td>\n",
       "      <td>v91_all_ph_ctg.fa</td>\n",
       "      <td>1</td>\n",
       "      <td>0</td>\n",
       "    </tr>\n",
       "  </tbody>\n",
       "</table>\n",
       "</div>"
      ],
      "text/plain": [
       "          ID  Length  %GC           Assembly  P_contig  A_contig\n",
       "220  000230F       0  0.0  v91_all_ph_ctg.fa         1         0\n",
       "234  000249F       0  0.0  v91_all_ph_ctg.fa         1         0"
      ]
     },
     "execution_count": 38,
     "metadata": {},
     "output_type": "execute_result"
    }
   ],
   "source": [
    "p_and_h_ctg_df[p_and_h_ctg_df['Length'] ==0]"
   ]
  },
  {
   "cell_type": "code",
   "execution_count": 41,
   "metadata": {
    "collapsed": true
   },
   "outputs": [],
   "source": [
    "p_and_h_zero_len_df = pd.DataFrame()\n",
    "for y in p_and_h_ctg_df[p_and_h_ctg_df['Length'] ==0]['ID'].tolist():\n",
    "    p_and_h_zero_len_df = p_and_h_zero_len_df.append(p_and_a_ctg_df.query('ID==\"%s\"'%(y)))\n",
    "    "
   ]
  },
  {
   "cell_type": "code",
   "execution_count": 42,
   "metadata": {
    "collapsed": false
   },
   "outputs": [
    {
     "data": {
      "text/html": [
       "<div>\n",
       "<table border=\"1\" class=\"dataframe\">\n",
       "  <thead>\n",
       "    <tr style=\"text-align: right;\">\n",
       "      <th></th>\n",
       "      <th>ID</th>\n",
       "      <th>Length</th>\n",
       "      <th>%GC</th>\n",
       "      <th>Assembly</th>\n",
       "      <th>P_contig</th>\n",
       "      <th>A_contig</th>\n",
       "    </tr>\n",
       "  </thead>\n",
       "  <tbody>\n",
       "    <tr>\n",
       "      <th>230</th>\n",
       "      <td>000230F</td>\n",
       "      <td>26987</td>\n",
       "      <td>42.687220</td>\n",
       "      <td>v91_pa_ctg.fa</td>\n",
       "      <td>1</td>\n",
       "      <td>0</td>\n",
       "    </tr>\n",
       "    <tr>\n",
       "      <th>249</th>\n",
       "      <td>000249F</td>\n",
       "      <td>20504</td>\n",
       "      <td>42.913578</td>\n",
       "      <td>v91_pa_ctg.fa</td>\n",
       "      <td>1</td>\n",
       "      <td>0</td>\n",
       "    </tr>\n",
       "  </tbody>\n",
       "</table>\n",
       "</div>"
      ],
      "text/plain": [
       "          ID  Length        %GC       Assembly  P_contig  A_contig\n",
       "230  000230F   26987  42.687220  v91_pa_ctg.fa         1         0\n",
       "249  000249F   20504  42.913578  v91_pa_ctg.fa         1         0"
      ]
     },
     "execution_count": 42,
     "metadata": {},
     "output_type": "execute_result"
    }
   ],
   "source": [
    "p_and_h_zero_len_df"
   ]
  },
  {
   "cell_type": "code",
   "execution_count": 177,
   "metadata": {
    "collapsed": false
   },
   "outputs": [
    {
     "data": {
      "text/html": [
       "<div>\n",
       "<table border=\"1\" class=\"dataframe\">\n",
       "  <thead>\n",
       "    <tr style=\"text-align: right;\">\n",
       "      <th></th>\n",
       "      <th>ID</th>\n",
       "      <th>Length</th>\n",
       "      <th>%GC</th>\n",
       "      <th>Assembly</th>\n",
       "      <th>P_contig</th>\n",
       "      <th>A_contig</th>\n",
       "    </tr>\n",
       "  </thead>\n",
       "  <tbody>\n",
       "    <tr>\n",
       "      <th>435</th>\n",
       "      <td>000018F_003</td>\n",
       "      <td>28466</td>\n",
       "      <td>43.163774</td>\n",
       "      <td>v91_all_ph_ctg.fa</td>\n",
       "      <td>0</td>\n",
       "      <td>1</td>\n",
       "    </tr>\n",
       "    <tr>\n",
       "      <th>384</th>\n",
       "      <td>000012F_009</td>\n",
       "      <td>28086</td>\n",
       "      <td>42.879014</td>\n",
       "      <td>v91_all_ph_ctg.fa</td>\n",
       "      <td>0</td>\n",
       "      <td>1</td>\n",
       "    </tr>\n",
       "    <tr>\n",
       "      <th>338</th>\n",
       "      <td>000007F_003</td>\n",
       "      <td>5320</td>\n",
       "      <td>39.436090</td>\n",
       "      <td>v91_all_ph_ctg.fa</td>\n",
       "      <td>0</td>\n",
       "      <td>1</td>\n",
       "    </tr>\n",
       "    <tr>\n",
       "      <th>337</th>\n",
       "      <td>000007F_002</td>\n",
       "      <td>693</td>\n",
       "      <td>47.763348</td>\n",
       "      <td>v91_all_ph_ctg.fa</td>\n",
       "      <td>0</td>\n",
       "      <td>1</td>\n",
       "    </tr>\n",
       "    <tr>\n",
       "      <th>377</th>\n",
       "      <td>000011F_009</td>\n",
       "      <td>12779</td>\n",
       "      <td>47.953674</td>\n",
       "      <td>v91_all_ph_ctg.fa</td>\n",
       "      <td>0</td>\n",
       "      <td>1</td>\n",
       "    </tr>\n",
       "  </tbody>\n",
       "</table>\n",
       "</div>"
      ],
      "text/plain": [
       "              ID  Length        %GC           Assembly  P_contig  A_contig\n",
       "435  000018F_003   28466  43.163774  v91_all_ph_ctg.fa         0         1\n",
       "384  000012F_009   28086  42.879014  v91_all_ph_ctg.fa         0         1\n",
       "338  000007F_003    5320  39.436090  v91_all_ph_ctg.fa         0         1\n",
       "337  000007F_002     693  47.763348  v91_all_ph_ctg.fa         0         1\n",
       "377  000011F_009   12779  47.953674  v91_all_ph_ctg.fa         0         1"
      ]
     },
     "execution_count": 177,
     "metadata": {},
     "output_type": "execute_result"
    }
   ],
   "source": [
    "absent_cns_df.head()"
   ]
  },
  {
   "cell_type": "code",
   "execution_count": 89,
   "metadata": {
    "collapsed": true
   },
   "outputs": [],
   "source": [
    "#add another column to the data frame that IDs the primary associated contig\n",
    "primary_ID = []\n",
    "for x in cns_p_and_h_ctg_df['ID']:\n",
    "    if \"_\" in list(x):\n",
    "        primary_ID.append(x[0:7])\n",
    "    else:\n",
    "        primary_ID.append(x[0:7])\n",
    "cns_p_and_h_ctg_df[\"P_ID\"] = pd.Series(primary_ID)"
   ]
  },
  {
   "cell_type": "code",
   "execution_count": 119,
   "metadata": {
    "collapsed": false
   },
   "outputs": [
    {
     "data": {
      "text/plain": [
       "231"
      ]
     },
     "execution_count": 119,
     "metadata": {},
     "output_type": "execute_result"
    }
   ],
   "source": [
    "len(set(cns_p_and_h_ctg_df['P_ID']))"
   ]
  },
  {
   "cell_type": "code",
   "execution_count": 110,
   "metadata": {
    "collapsed": false
   },
   "outputs": [
    {
     "data": {
      "text/html": [
       "<div>\n",
       "<table border=\"1\" class=\"dataframe\">\n",
       "  <thead>\n",
       "    <tr style=\"text-align: right;\">\n",
       "      <th></th>\n",
       "      <th>ID</th>\n",
       "      <th>Length</th>\n",
       "      <th>%GC</th>\n",
       "      <th>Assembly</th>\n",
       "      <th>P_contig</th>\n",
       "      <th>A_contig</th>\n",
       "      <th>P_ID</th>\n",
       "    </tr>\n",
       "  </thead>\n",
       "  <tbody>\n",
       "    <tr>\n",
       "      <th>0</th>\n",
       "      <td>000241F|quiver</td>\n",
       "      <td>24591</td>\n",
       "      <td>32.853483</td>\n",
       "      <td>v91_cns_ph_ctg.fa</td>\n",
       "      <td>1</td>\n",
       "      <td>0</td>\n",
       "      <td>000241F</td>\n",
       "    </tr>\n",
       "    <tr>\n",
       "      <th>1</th>\n",
       "      <td>000245F|quiver</td>\n",
       "      <td>23773</td>\n",
       "      <td>31.518950</td>\n",
       "      <td>v91_cns_ph_ctg.fa</td>\n",
       "      <td>1</td>\n",
       "      <td>0</td>\n",
       "      <td>000245F</td>\n",
       "    </tr>\n",
       "    <tr>\n",
       "      <th>2</th>\n",
       "      <td>000247F|quiver</td>\n",
       "      <td>22045</td>\n",
       "      <td>31.317759</td>\n",
       "      <td>v91_cns_ph_ctg.fa</td>\n",
       "      <td>1</td>\n",
       "      <td>0</td>\n",
       "      <td>000247F</td>\n",
       "    </tr>\n",
       "    <tr>\n",
       "      <th>3</th>\n",
       "      <td>000248F|quiver</td>\n",
       "      <td>21899</td>\n",
       "      <td>45.152747</td>\n",
       "      <td>v91_cns_ph_ctg.fa</td>\n",
       "      <td>1</td>\n",
       "      <td>0</td>\n",
       "      <td>000248F</td>\n",
       "    </tr>\n",
       "    <tr>\n",
       "      <th>4</th>\n",
       "      <td>000190F|quiver</td>\n",
       "      <td>40395</td>\n",
       "      <td>32.573338</td>\n",
       "      <td>v91_cns_ph_ctg.fa</td>\n",
       "      <td>1</td>\n",
       "      <td>0</td>\n",
       "      <td>000190F</td>\n",
       "    </tr>\n",
       "  </tbody>\n",
       "</table>\n",
       "</div>"
      ],
      "text/plain": [
       "               ID  Length        %GC           Assembly  P_contig  A_contig  \\\n",
       "0  000241F|quiver   24591  32.853483  v91_cns_ph_ctg.fa         1         0   \n",
       "1  000245F|quiver   23773  31.518950  v91_cns_ph_ctg.fa         1         0   \n",
       "2  000247F|quiver   22045  31.317759  v91_cns_ph_ctg.fa         1         0   \n",
       "3  000248F|quiver   21899  45.152747  v91_cns_ph_ctg.fa         1         0   \n",
       "4  000190F|quiver   40395  32.573338  v91_cns_ph_ctg.fa         1         0   \n",
       "\n",
       "      P_ID  \n",
       "0  000241F  \n",
       "1  000245F  \n",
       "2  000247F  \n",
       "3  000248F  \n",
       "4  000190F  "
      ]
     },
     "execution_count": 110,
     "metadata": {},
     "output_type": "execute_result"
    }
   ],
   "source": [
    "cns_p_and_h_ctg_df.head()"
   ]
  },
  {
   "cell_type": "code",
   "execution_count": 111,
   "metadata": {
    "collapsed": false
   },
   "outputs": [],
   "source": [
    "#get all contigs with haplotigs\n",
    "p_w_h_list = list(set(cns_p_and_h_ctg_df[(cns_p_and_h_ctg_df['P_contig'] == 0)]['P_ID']))"
   ]
  },
  {
   "cell_type": "code",
   "execution_count": 112,
   "metadata": {
    "collapsed": false
   },
   "outputs": [
    {
     "data": {
      "text/plain": [
       "104"
      ]
     },
     "execution_count": 112,
     "metadata": {},
     "output_type": "execute_result"
    }
   ],
   "source": [
    "len(p_w_h_list)"
   ]
  },
  {
   "cell_type": "code",
   "execution_count": 115,
   "metadata": {
    "collapsed": false
   },
   "outputs": [],
   "source": [
    "#get all contigs without haplotigs\n",
    "p_wo_h_list =[]\n",
    "p_wo_h_list =  list(set(cns_p_and_h_ctg_df[cns_p_and_h_ctg_df['P_contig'] ==1]['P_ID']) - set(p_w_h_list))"
   ]
  },
  {
   "cell_type": "code",
   "execution_count": 116,
   "metadata": {
    "collapsed": false
   },
   "outputs": [
    {
     "data": {
      "text/plain": [
       "127"
      ]
     },
     "execution_count": 116,
     "metadata": {},
     "output_type": "execute_result"
    }
   ],
   "source": [
    "len(p_wo_h_list)"
   ]
  },
  {
   "cell_type": "code",
   "execution_count": 125,
   "metadata": {
    "collapsed": false
   },
   "outputs": [],
   "source": [
    "total_seq_recs = 0\n",
    "p_w_h_contigs =[]\n",
    "p_wo_h_contigs = []\n",
    "pwh_count =0\n",
    "pwoh_count =0\n",
    "for seq_record in SeqIO.parse(p_and_a_ctg_path+'/'+cns_p_and_h_ctg_file_name, \"fasta\"):\n",
    "    if seq_record.id.split('|')[0] in p_w_h_list:\n",
    "        p_w_h_contigs.append(seq_record)\n",
    "        pwh_count += 1\n",
    "    if seq_record.id.split('|')[0] in p_wo_h_list:\n",
    "        p_wo_h_contigs.append(seq_record)\n",
    "        pwoh_count += 1\n",
    "    total_seq_recs += 1"
   ]
  },
  {
   "cell_type": "code",
   "execution_count": null,
   "metadata": {
    "collapsed": true
   },
   "outputs": [],
   "source": [
    "#there are two h_ctgs for which the associated p_contigs was ommitted from the analysis in Falcon_unzip"
   ]
  },
  {
   "cell_type": "code",
   "execution_count": 122,
   "metadata": {
    "collapsed": false
   },
   "outputs": [
    {
     "data": {
      "text/plain": [
       "127"
      ]
     },
     "execution_count": 122,
     "metadata": {},
     "output_type": "execute_result"
    }
   ],
   "source": [
    "len(p_wo_h_list)"
   ]
  },
  {
   "cell_type": "code",
   "execution_count": 126,
   "metadata": {
    "collapsed": false
   },
   "outputs": [
    {
     "data": {
      "text/plain": [
       "127"
      ]
     },
     "execution_count": 126,
     "metadata": {},
     "output_type": "execute_result"
    }
   ],
   "source": [
    "SeqIO.write(p_wo_h_contigs,cns_p_and_h_ctg_file_name[0:(len(cns_p_and_h_ctg_file_name)-3)]+'_pwoh_ctg.fa' , 'fasta')"
   ]
  },
  {
   "cell_type": "code",
   "execution_count": 127,
   "metadata": {
    "collapsed": false
   },
   "outputs": [
    {
     "data": {
      "text/plain": [
       "102"
      ]
     },
     "execution_count": 127,
     "metadata": {},
     "output_type": "execute_result"
    }
   ],
   "source": [
    "SeqIO.write(p_w_h_contigs,cns_p_and_h_ctg_file_name[0:(len(cns_p_and_h_ctg_file_name)-3)]+'_pwh_ctg.fa' , 'fasta')"
   ]
  },
  {
   "cell_type": "code",
   "execution_count": 128,
   "metadata": {
    "collapsed": true
   },
   "outputs": [],
   "source": [
    "nucmer_dir ='/Users/ben/Documents/work_related/Canberra/RJ_lab_projects/Rust_genome_sequencing/PST79/analysis/PacBio_SCH1743/FALCON_0_4_assemblies/p_assemblies/v9_1/v91_cns/nucmer_pwoh_on_pwh/'"
   ]
  },
  {
   "cell_type": "code",
   "execution_count": 147,
   "metadata": {
    "collapsed": false
   },
   "outputs": [],
   "source": [
    "for seq in SeqIO.parse(cns_p_and_h_ctg_file_name[0:(len(cns_p_and_h_ctg_file_name)-3)]+'_pwoh_ctg.fa', 'fasta'):\n",
    "    SeqIO.write(seq, nucmer_dir+seq.id.split('|')[0]+\"_quiver.fa\", 'fasta')"
   ]
  },
  {
   "cell_type": "code",
   "execution_count": 132,
   "metadata": {
    "collapsed": false
   },
   "outputs": [
    {
     "data": {
      "text/plain": [
       "127"
      ]
     },
     "execution_count": 132,
     "metadata": {},
     "output_type": "execute_result"
    }
   ],
   "source": [
    "SeqIO.write(p_w_h_contigs,nucmer_dir+cns_p_and_h_ctg_file_name[0:(len(cns_p_and_h_ctg_file_name)-3)]+'_pwh_ctg.fa' , 'fasta')\n",
    "SeqIO.write(p_wo_h_contigs,nucmer_dir+cns_p_and_h_ctg_file_name[0:(len(cns_p_and_h_ctg_file_name)-3)]+'_pwoh_ctg.fa' , 'fasta')"
   ]
  },
  {
   "cell_type": "code",
   "execution_count": 168,
   "metadata": {
    "collapsed": true
   },
   "outputs": [],
   "source": [
    "#initiate nucmer bash script writting\n",
    "bash_script=\"v91_cns_ph_pwoh_on_pwh_nucmer.sh\""
   ]
  },
  {
   "cell_type": "code",
   "execution_count": 173,
   "metadata": {
    "collapsed": false
   },
   "outputs": [
    {
     "data": {
      "text/plain": [
       "12"
      ]
     },
     "execution_count": 173,
     "metadata": {},
     "output_type": "execute_result"
    }
   ],
   "source": [
    "os.chdir(nucmer_dir)\n",
    "outf = open(bash_script, 'w')\n",
    "outf.write('#!/bin/bash\\n')"
   ]
  },
  {
   "cell_type": "code",
   "execution_count": 174,
   "metadata": {
    "collapsed": true
   },
   "outputs": [],
   "source": [
    "p_w_h_contigs_fn = cns_p_and_h_ctg_file_name[0:(len(cns_p_and_h_ctg_file_name)-3)]+'_pwh_ctg.fa'"
   ]
  },
  {
   "cell_type": "code",
   "execution_count": 175,
   "metadata": {
    "collapsed": false
   },
   "outputs": [],
   "source": [
    "for seq in SeqIO.parse(cns_p_and_h_ctg_file_name[0:(len(cns_p_and_h_ctg_file_name)-3)]+'_pwoh_ctg.fa', 'fasta'):\n",
    "        _id=seq.id.split('|')[0]+\"_quiver\"\n",
    "        outf.write('nucmer '+p_w_h_contigs_fn+' '+_id+\".fa > \"+'out.delta\\n')\n",
    "        outf.write('delta-filter -g '+'out.delta'+\" > \"+_id+\"_gfiltered.delta\\n\")\n",
    "        outf.write('show-coords -T '+_id+\"_gfiltered.delta > \"+_id+\".gcoords\\n\")\n",
    "        outf.write('delta-filter -r '+'out.delta'+\" > \"+_id+\"_rfiltered.delta\\n\")\n",
    "        outf.write('show-coords -T '+_id+\"_gfiltered.delta > \"+_id+\".rcoords\\n\")\n",
    "        outf.write('mummerplot -p '+_id+'_rfiltered --postscript '+_id+\"_rfiltered.delta\\n\")\n",
    "        outf.write('mummerplot -c -p  '+_id+'_rfiltered_cov --postscript '+_id+\"_rfiltered.delta\\n\")\n",
    "        outf.write('mummerplot -p '+_id+'_gfiltered --postscript '+_id+\"_gfiltered.delta\\n\")\n",
    "        outf.write('mummerplot -c -p  '+_id+'_gfiltered_cov --postscript '+_id+\"_gfiltered.delta\\n\")\n",
    "outf.close()"
   ]
  },
  {
   "cell_type": "code",
   "execution_count": 147,
   "metadata": {
    "collapsed": true
   },
   "outputs": [],
   "source": [
    "#get all haplcontigs that are not mitochondrial\n",
    "h_list = list(set(below_200_cov[(below_200_cov['A_contig'] == 1)]['ID']))"
   ]
  },
  {
   "cell_type": "code",
   "execution_count": 149,
   "metadata": {
    "collapsed": false
   },
   "outputs": [
    {
     "data": {
      "text/plain": [
       "267"
      ]
     },
     "execution_count": 149,
     "metadata": {},
     "output_type": "execute_result"
    }
   ],
   "source": [
    "len(h_list)"
   ]
  },
  {
   "cell_type": "code",
   "execution_count": 162,
   "metadata": {
    "collapsed": false
   },
   "outputs": [],
   "source": [
    "total_seq_recs = 0\n",
    "h_contigs =[]\n",
    "h_contigs_plus_200=[]\n",
    "h_count =0\n",
    "for seq_record in SeqIO.parse(p_and_a_ctg_path+'/'+p_and_a_ctg_file_name, \"fasta\"):\n",
    "    if seq_record.id in h_list:\n",
    "        h_contigs.append(seq_record)\n",
    "        h_count += 1\n",
    "    if '_' in list(seq_record.id) and seq_record.id not in h_list:\n",
    "        h_contigs_plus_200.append(seq_record)\n",
    "    total_seq_recs += 1"
   ]
  },
  {
   "cell_type": "code",
   "execution_count": null,
   "metadata": {
    "collapsed": true
   },
   "outputs": [],
   "source": []
  }
 ],
 "metadata": {
  "anaconda-cloud": {},
  "kernelspec": {
   "display_name": "Python [Root]",
   "language": "python",
   "name": "Python [Root]"
  },
  "language_info": {
   "codemirror_mode": {
    "name": "ipython",
    "version": 3
   },
   "file_extension": ".py",
   "mimetype": "text/x-python",
   "name": "python",
   "nbconvert_exporter": "python",
   "pygments_lexer": "ipython3",
   "version": "3.5.2"
  }
 },
 "nbformat": 4,
 "nbformat_minor": 0
}
