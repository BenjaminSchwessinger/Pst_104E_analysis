{
 "cells": [
  {
   "cell_type": "code",
   "execution_count": 3,
   "metadata": {
    "collapsed": false
   },
   "outputs": [],
   "source": [
    "import os\n",
    "from Bio import SeqIO"
   ]
  },
  {
   "cell_type": "code",
   "execution_count": 4,
   "metadata": {
    "collapsed": false
   },
   "outputs": [
    {
     "name": "stdout",
     "output_type": "stream",
     "text": [
      "/Users/ben/Documents/work_related/Canberra/RJ_lab_projects/Rust_genome_sequencing/PST79/analysis/PacBio_SCH1743/FALCON_0_4_assemblies/p_assemblies/v9_1/scripts\r\n"
     ]
    }
   ],
   "source": [
    "!pwd"
   ]
  },
  {
   "cell_type": "code",
   "execution_count": 5,
   "metadata": {
    "code_folding": [],
    "collapsed": false
   },
   "outputs": [],
   "source": [
    "#here is the in file defined containing alternative \n",
    "file_path ='/Users/ben/Documents/work_related/Canberra/RJ_lab_projects/Rust_genome_sequencing/PST79/analysis/PacBio_SCH1743/FALCON_0_4_assemblies/p_assemblies/v9_1/122016_assembly'\n",
    "file_name='Pst_E104_v1_ph_ctg.fa'\n",
    "genome_prefix = 'Pst_E104_v1'\n",
    "bash_script_q= genome_prefix+\"_ph_ctg_qmapping.sh\"\n",
    "bash_script_g=genome_prefix+\"_ph_ctg_gmapping.sh\"\n",
    "bash_script_nucmer_assemlytics = genome_prefix +\"_ncumer_assemblyticsmapping.sh\"\n",
    "outdir = '/Users/ben/Documents/work_related/Canberra/RJ_lab_projects/Rust_genome_sequencing/PST79/analysis/PacBio_SCH1743/FALCON_0_4_assemblies/p_assemblies/v9_1/Pst_E104_v1'"
   ]
  },
  {
   "cell_type": "code",
   "execution_count": 6,
   "metadata": {
    "collapsed": false
   },
   "outputs": [
    {
     "data": {
      "text/plain": [
       "True"
      ]
     },
     "execution_count": 6,
     "metadata": {},
     "output_type": "execute_result"
    }
   ],
   "source": [
    "total_seq_recs = 0\n",
    "p_contigs =[]\n",
    "a_contigs = []\n",
    "a_count =0\n",
    "p_count =0\n",
    "for seq_record in SeqIO.parse(file_path+'/'+file_name, \"fasta\"):\n",
    "    if \"hcontig\" in seq_record.id:\n",
    "        a_contigs.append(seq_record)\n",
    "        a_count += 1\n",
    "    else:\n",
    "        p_contigs.append(seq_record)\n",
    "        p_count += 1\n",
    "    total_seq_recs += 1\n",
    "total_seq_recs == p_count + a_count"
   ]
  },
  {
   "cell_type": "code",
   "execution_count": 7,
   "metadata": {
    "collapsed": false
   },
   "outputs": [],
   "source": [
    "os.chdir(outdir)"
   ]
  },
  {
   "cell_type": "code",
   "execution_count": 8,
   "metadata": {
    "collapsed": false
   },
   "outputs": [
    {
     "data": {
      "text/plain": [
       "176"
      ]
     },
     "execution_count": 8,
     "metadata": {},
     "output_type": "execute_result"
    }
   ],
   "source": [
    "SeqIO.write(a_contigs,file_name[:-3]+'_h_ctg.fa' , 'fasta')\n",
    "SeqIO.write(p_contigs,file_name[:-3]+'_p_ctg.fa' , 'fasta')"
   ]
  },
  {
   "cell_type": "code",
   "execution_count": 9,
   "metadata": {
    "collapsed": false
   },
   "outputs": [
    {
     "name": "stdout",
     "output_type": "stream",
     "text": [
      "Pst_E104_v1_ph_ctg_h_ctg.fa \u001b[1m\u001b[36mnucmer_split\u001b[m\u001b[m\r\n",
      "Pst_E104_v1_ph_ctg_p_ctg.fa\r\n"
     ]
    }
   ],
   "source": [
    "!ls"
   ]
  },
  {
   "cell_type": "code",
   "execution_count": 10,
   "metadata": {
    "collapsed": false
   },
   "outputs": [],
   "source": [
    "os.chdir('/Users/ben/Documents/work_related/Canberra/RJ_lab_projects/Rust_genome_sequencing/PST79/analysis/PacBio_SCH1743/FALCON_0_4_assemblies/p_assemblies/v9_1/Pst_E104_v1/nucmer_split')"
   ]
  },
  {
   "cell_type": "code",
   "execution_count": 14,
   "metadata": {
    "collapsed": false
   },
   "outputs": [],
   "source": [
    "!cp ../Pst_E104_v1_ph_ctg_h_ctg.fa .\n",
    "!cp ../Pst_E104_v1_ph_ctg_p_ctg.fa ."
   ]
  },
  {
   "cell_type": "code",
   "execution_count": 21,
   "metadata": {
    "collapsed": false
   },
   "outputs": [],
   "source": [
    "outfq = open(bash_script_q, 'w')\n",
    "outfq.write('#!/bin/bash\\n')\n",
    "outfg = open(bash_script_g, 'w')\n",
    "outfg.write('#!/bin/bash\\n')#parsing out P and corresponding A contigs and writing a short ncumer script that aligns them against each other\n",
    "outfna = open(bash_script_nucmer_assemlytics, 'w')\n",
    "outfna.write('#!/bin/bash\\n')\n",
    "for pseq_record in SeqIO.parse(file_name[:-3]+'_p_ctg.fa', 'fasta'):\n",
    "    p_acontigs = []\n",
    "    p_contig = pseq_record.id.split(\"_\")[0]+\"_\"+pseq_record.id.split(\"_\")[1]\n",
    "    suffix = file_name[0:12]+p_contig+\"_php\"\n",
    "    p_file = file_name[0:12]+\"_\"+p_contig+'.fa'\n",
    "    SeqIO.write(pseq_record, p_file, 'fasta')\n",
    "    for aseq_record in SeqIO.parse(file_name[:-3]+'_h_ctg.fa', 'fasta'):\n",
    "        if aseq_record.id.split(\"_\")[1]  == pseq_record.id.split(\"_\")[1]:\n",
    "            p_acontigs.append(aseq_record)\n",
    "    a_file = file_name[0:12]+\"_\"+pseq_record.id.split(\"_\")[0]+\"_\"+pseq_record.id.split(\"_\")[1]+'_h_ctgs.fa'\n",
    "    #if we have alternative contigs safe those too\n",
    "    if p_acontigs != []:\n",
    "        SeqIO.write(p_acontigs, a_file, 'fasta')\n",
    "        outfq.write('nucmer '+p_file+' '+a_file+\" > \"+'out.delta\\n')\n",
    "        outfq.write('delta-filter -q '+'out.delta'+\" > \"+suffix+\"_qfiltered.delta\\n\")\n",
    "        outfq.write('show-coords -T '+suffix+\"_qfiltered.delta > \"+suffix+\".qcoords\\n\")\n",
    "        outfq.write('mummerplot -p '+suffix+'_qfiltered --png '+suffix+\"_qfiltered.delta\\n\")\n",
    "        outfq.write('mummerplot -c -p '+suffix+'_qfiltered_cov --png '+suffix+\"_qfiltered.delta\\n\")\n",
    "        #for g_file bash script\n",
    "        outfg.write('nucmer '+p_file+' '+a_file+\" > \"+'out.delta\\n')\n",
    "        outfg.write('delta-filter -g '+'out.delta'+\" > \"+suffix+\"_gfiltered.delta\\n\")\n",
    "        outfg.write('show-coords -T '+suffix+\"_gfiltered.delta > \"+suffix+\".gcoords\\n\")\n",
    "        outfg.write('mummerplot -p '+suffix+'_gfiltered --png '+suffix+\"_gfiltered.delta\\n\")\n",
    "        outfg.write('mummerplot -c -p  '+suffix+'_gfiltered_cov --png '+suffix+\"_gfiltered.delta\\n\")\n",
    "        #for nucmer assemblytics out\n",
    "        outfna.write('nucmer -maxmatch -l 100 -c 500 '+p_file+' '+a_file+' -prefix ' + suffix +'\\n')\n",
    "outfna.close()    \n",
    "outfq.close()\n",
    "outfg.close()  "
   ]
  },
  {
   "cell_type": "code",
   "execution_count": 20,
   "metadata": {
    "collapsed": false
   },
   "outputs": [
    {
     "name": "stdout",
     "output_type": "stream",
     "text": [
      "mkdir: assemblytics: File exists\n",
      "cp: assemblytics is a directory (not copied).\n"
     ]
    }
   ],
   "source": [
    "!mkdir assemblytics\n",
    "!cp * assemblytics"
   ]
  },
  {
   "cell_type": "raw",
   "metadata": {},
   "source": [
    "Added another line in the nucmer_assemblytics script to map all h on p"
   ]
  },
  {
   "cell_type": "code",
   "execution_count": 45,
   "metadata": {
    "collapsed": false
   },
   "outputs": [],
   "source": [
    "outfnarun = open('Pst_E104_v1_assemblytics.sh', 'w')\n",
    "outfnarun.write('#!/bin/bash\\n')\n",
    "\n",
    "files = !ls assemblytics/\n",
    "delta_files = [x for x in files if 'delta' in x]\n",
    "assemblytics_path = '/Users/ben/scripts/Assemblytics'\n",
    "outfnarun.write('export PATH=\"%s\":$PATH\\n'% assemblytics_path)\n",
    "outfnarun.write('#Assemblytics delta_file output_prefix unique_anchor_length path_to_R_scripts\\n')\n",
    "for delta in delta_files:\n",
    "    delta_10kbp = delta[:-6] + '_10kbp'\n",
    "    delta_50kbp = delta[:-6] + '_50kbp'\n",
    "    outfnarun.write(\"mkdir %s\\ncp %s %s\\ncd %s\\n\" % (delta[:-6], delta, delta[:-6], delta[:-6]))\n",
    "    outfnarun.write(\"Assemblytics %s %s 10000 %s\\n\" % (delta, delta_10kbp, assemblytics_path) )\n",
    "    outfnarun.write(\"Assemblytics %s %s 50000 %s\\ncd ..\\n\" % (delta, delta_50kbp, assemblytics_path) )\n",
    "\n",
    "outfnarun.close()\n",
    "!mv Pst_E104_v1_assemblytics.sh assemblytics/"
   ]
  },
  {
   "cell_type": "code",
   "execution_count": 39,
   "metadata": {
    "collapsed": false
   },
   "outputs": [
    {
     "data": {
      "text/plain": [
       "'Pst_E104_v1_pcontig_000_php'"
      ]
     },
     "execution_count": 39,
     "metadata": {},
     "output_type": "execute_result"
    }
   ],
   "source": [
    "delta_files[0][:-6]"
   ]
  },
  {
   "cell_type": "code",
   "execution_count": 50,
   "metadata": {
    "collapsed": false
   },
   "outputs": [
    {
     "name": "stdout",
     "output_type": "stream",
     "text": [
      "hcontig_000_027, 41706\n",
      "hcontig_000_029, 20699\n",
      "hcontig_000_031, 23870\n",
      "hcontig_000_024, 37946\n",
      "hcontig_000_011, 10913\n",
      "hcontig_000_005, 12961\n",
      "hcontig_000_003, 2066231\n",
      "hcontig_000_057, 36770\n",
      "hcontig_000_050, 709509\n",
      "hcontig_000_054, 294830\n",
      "hcontig_000_036, 29234\n",
      "hcontig_000_039, 26935\n",
      "hcontig_000_049, 17471\n",
      "hcontig_000_037, 27343\n"
     ]
    }
   ],
   "source": [
    "for pseq_record in SeqIO.parse('Pst_E104_v1__pcontig_000_h_ctgs.fa', 'fasta'):\n",
    "    print(pseq_record.id +', %i'%len(pseq_record.seq))"
   ]
  },
  {
   "cell_type": "code",
   "execution_count": null,
   "metadata": {
    "collapsed": true
   },
   "outputs": [],
   "source": []
  }
 ],
 "metadata": {
  "anaconda-cloud": {},
  "kernelspec": {
   "display_name": "Python [conda root]",
   "language": "python",
   "name": "conda-root-py"
  },
  "language_info": {
   "codemirror_mode": {
    "name": "ipython",
    "version": 3
   },
   "file_extension": ".py",
   "mimetype": "text/x-python",
   "name": "python",
   "nbconvert_exporter": "python",
   "pygments_lexer": "ipython3",
   "version": "3.5.2"
  }
 },
 "nbformat": 4,
 "nbformat_minor": 0
}
