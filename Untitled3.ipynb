{
 "cells": [
  {
   "cell_type": "code",
   "execution_count": 1,
   "metadata": {
    "collapsed": true
   },
   "outputs": [],
   "source": [
    "import ftplib"
   ]
  },
  {
   "cell_type": "code",
   "execution_count": 13,
   "metadata": {},
   "outputs": [
    {
     "data": {
      "text/plain": [
       "'230 Login successful.'"
      ]
     },
     "execution_count": 13,
     "metadata": {},
     "output_type": "execute_result"
    }
   ],
   "source": [
    "files = []\n",
    "ftp = ftplib.FTP(\"ftp.ensemblgenomes.org\")\n",
    "ftp.login(\"anonymous\", \"\")"
   ]
  },
  {
   "cell_type": "code",
   "execution_count": 14,
   "metadata": {},
   "outputs": [
    {
     "name": "stdout",
     "output_type": "stream",
     "text": [
      "drwxr-sr-x   54 ftp      ftp          4096 Jul 31 11:55 pub\n",
      "-rw-r--r--    1 ftp      ftp            26 Dec 05  2014 robots.txt\n"
     ]
    }
   ],
   "source": [
    "ftp.dir()"
   ]
  },
  {
   "cell_type": "code",
   "execution_count": 15,
   "metadata": {},
   "outputs": [
    {
     "name": "stdout",
     "output_type": "stream",
     "text": [
      "/pub/fungi/release-36/fasta/komagataella_pastoris/cdna/CHECKSUMS\n",
      "/pub/fungi/release-36/fasta/komagataella_pastoris/cdna/Komagataella_pastoris.GCA_000027005.1.cdna.all.fa.gz\n",
      "/pub/fungi/release-36/fasta/komagataella_pastoris/cdna/README\n"
     ]
    }
   ],
   "source": [
    "try:\n",
    "    files = ftp.nlst('/pub/fungi/release-36/fasta/komagataella_pastoris/cdna/')\n",
    "except ftplib.error_perm :\n",
    "        print (\"No files in this directory\")\n",
    "\n",
    "for f in files:\n",
    "    print(f)"
   ]
  },
  {
   "cell_type": "code",
   "execution_count": 16,
   "metadata": {
    "collapsed": true
   },
   "outputs": [],
   "source": [
    "ftp.close()"
   ]
  },
  {
   "cell_type": "code",
   "execution_count": 17,
   "metadata": {
    "collapsed": true
   },
   "outputs": [],
   "source": [
    "missing_list = ['ftp://ftp.ensemblgenomes.org/pub/fungi/release-36/fasta/aspergillus_flavus/cdna/Aspergillus_flavus.JCVI-afl1-v2_0.cdna.all.fa.gz', 'ftp://ftp.ensemblgenomes.org/pub/fungi/release-36/fasta/aspergillus_fumigatusa1163/cdna/Aspergillus_fumigatusa1163.JCVI.cdna.all.fa.gz', 'ftp://ftp.ensemblgenomes.org/pub/fungi/release-36/fasta/blumeria_graminis/cdna/Blumeria_graminis.EF_1.cdna.all.fa.gz', 'ftp://ftp.ensemblgenomes.org/pub/fungi/release-36/fasta/colletotrichum_higginsianum/cdna/Colletotrichum_higginsianum.ASM31379v2.cdna.all.fa.gz', 'ftp://ftp.ensemblgenomes.org/pub/fungi/release-36/fasta/colletotrichum_gloeosporioides/cdna/Colletotrichum_gloeosporioides.Colletotrichum_gloeosporioides_Nara_gc-5.cdna.all.fa.gz', 'ftp://ftp.ensemblgenomes.org/pub/fungi/release-36/fasta/colletotrichum_orbiculare/cdna/Colletotrichum_orbiculare.Corbiculare240422v01.cdna.all.fa.gz', 'ftp://ftp.ensemblgenomes.org/pub/fungi/release-36/fasta/cryptococcus_neoformans/cdna/Cryptococcus_neoformans.ASM9104v1.cdna.all.fa.gz', 'ftp://ftp.ensemblgenomes.org/pub/fungi/release-36/fasta/dothistroma_septosporum/cdna/Dothistroma_septosporum.Dothistroma_septosporum_NZE10_v1_0.cdna.all.fa.gz', 'ftp://ftp.ensemblgenomes.org/pub/fungi/release-36/fasta/fusarium_culmorum/cdna/Fusarium_culmorum.EF_1.cdna.all.fa.gz', 'ftp://ftp.ensemblgenomes.org/pub/fungi/release-36/fasta/fusarium_pseudograminearum/cdna/Fusarium_pseudograminearum.FP7.cdna.all.fa.gz', 'ftp://ftp.ensemblgenomes.org/pub/fungi/release-36/fasta/fusarium_fujikuroi/cdna/Fusarium_fujikuroi.EF_1.cdna.all.fa.gz', 'ftp://ftp.ensemblgenomes.org/pub/fungi/release-36/fasta/fusarium_graminearum/cdna/Fusarium_graminearum.RR_1.cdna.all.fa.gz', 'ftp://ftp.ensemblgenomes.org/pub/fungi/release-36/fasta/fusarium_solani/cdna/Fusarium_solani.v2_0.cdna.all.fa.gz', 'ftp://ftp.ensemblgenomes.org/pub/fungi/release-36/fasta/komagataella_pastoris/cdna/Komagataella_pastoris.ASM2700v1.cdna.all.fa.gz', 'ftp://ftp.ensemblgenomes.org/pub/fungi/release-36/fasta/microbotryum_violaceum/cdna/Microbotryum_violaceum.M_violaceum_V1.cdna.all.fa.gz', 'ftp://ftp.ensemblgenomes.org/pub/fungi/release-36/fasta/neosartorya_fischeri/cdna/Neosartorya_fischeri.TIGR.cdna.all.fa.gz']"
   ]
  },
  {
   "cell_type": "code",
   "execution_count": 28,
   "metadata": {
    "collapsed": true
   },
   "outputs": [],
   "source": [
    "import time"
   ]
  },
  {
   "cell_type": "code",
   "execution_count": 29,
   "metadata": {},
   "outputs": [
    {
     "name": "stdout",
     "output_type": "stream",
     "text": [
      "pub/fungi/release-36/fasta/aspergillus_flavus/cdna/Aspergillus_flavus.JCVI-afl1-v2.0.cdna.all.fa.gz\n",
      "pub/fungi/release-36/fasta/aspergillus_fumigatusa1163/cdna/Aspergillus_fumigatusa1163.CADRE.cdna.all.fa.gz\n",
      "pub/fungi/release-36/fasta/blumeria_graminis/cdna/Blumeria_graminis.EF1.cdna.all.fa.gz\n",
      "pub/fungi/release-36/fasta/colletotrichum_higginsianum/cdna/Colletotrichum_higginsianum.GCA_000313795.2.cdna.all.fa.gz\n",
      "pub/fungi/release-36/fasta/colletotrichum_gloeosporioides/cdna/Colletotrichum_gloeosporioides.GCA_000319635.1.cdna.all.fa.gz\n",
      "pub/fungi/release-36/fasta/colletotrichum_orbiculare/cdna/Colletotrichum_orbiculare.GCA_000350065.1.cdna.all.fa.gz\n",
      "pub/fungi/release-36/fasta/cryptococcus_neoformans/cdna/Cryptococcus_neoformans.GCA_000091045.1.cdna.all.fa.gz\n",
      "pub/fungi/release-36/fasta/dothistroma_septosporum/cdna/Dothistroma_septosporum.GCA_000340195.1.cdna.all.fa.gz\n",
      "pub/fungi/release-36/fasta/fusarium_culmorum/cdna/Fusarium_culmorum.EF1.cdna.all.fa.gz\n",
      "pub/fungi/release-36/fasta/fusarium_pseudograminearum/cdna/Fusarium_pseudograminearum.GCA_000303195.1.cdna.all.fa.gz\n",
      "pub/fungi/release-36/fasta/fusarium_fujikuroi/cdna/Fusarium_fujikuroi.EF1.cdna.all.fa.gz\n",
      "pub/fungi/release-36/fasta/fusarium_graminearum/cdna/Fusarium_graminearum.RR1.cdna.all.fa.gz\n",
      "pub/fungi/release-36/fasta/fusarium_solani/cdna/Fusarium_solani.v2.0.cdna.all.fa.gz\n",
      "pub/fungi/release-36/fasta/komagataella_pastoris/cdna/Komagataella_pastoris.GCA_000027005.1.cdna.all.fa.gz\n",
      "pub/fungi/release-36/fasta/microbotryum_violaceum/cdna/Microbotryum_violaceum.GCA_000166175.1.cdna.all.fa.gz\n",
      "pub/fungi/release-36/fasta/neosartorya_fischeri/cdna/Neosartorya_fischeri.CADRE.cdna.all.fa.gz\n"
     ]
    }
   ],
   "source": [
    "import re\n",
    "import time\n",
    "import time\n",
    "ftp = ftplib.FTP(\"ftp.ensemblgenomes.org\")\n",
    "ftp.login(\"anonymous\", \"\")\n",
    "for miss in missing_list:\n",
    "    files = []\n",
    "    path = re.findall(r'ensemblgenomes.org/(.*)/', miss)[0] + '/'\n",
    "    try:\n",
    "        files = ftp.nlst(path)\n",
    "    except ftplib.error_perm :\n",
    "            print (\"No files in this directory\")\n",
    "    cdna_path = [x for x in files if x.endswith('cdna.all.fa.gz')][0]\n",
    "    time.sleep(2)\n",
    "    print(cdna_path)\n",
    "ftp.close()"
   ]
  },
  {
   "cell_type": "code",
   "execution_count": null,
   "metadata": {
    "collapsed": true
   },
   "outputs": [],
   "source": [
    "# File: ftplib-example-1.py\n",
    "\n",
    "import ftplib\n",
    "\n",
    "ftp = ftplib.FTP(\"www.python.org\")\n",
    "ftp.login(\"anonymous\", \"ftplib-example-1\")\n",
    "\n",
    "data = []\n",
    "\n",
    "ftp.dir(data.append)\n",
    "\n",
    "ftp.quit()\n",
    "\n",
    "for line in data:\n",
    "    print \"-\", line"
   ]
  }
 ],
 "metadata": {
  "kernelspec": {
   "display_name": "Python 3",
   "language": "python",
   "name": "python3"
  },
  "language_info": {
   "codemirror_mode": {
    "name": "ipython",
    "version": 3
   },
   "file_extension": ".py",
   "mimetype": "text/x-python",
   "name": "python",
   "nbconvert_exporter": "python",
   "pygments_lexer": "ipython3",
   "version": "3.5.3"
  }
 },
 "nbformat": 4,
 "nbformat_minor": 2
}
